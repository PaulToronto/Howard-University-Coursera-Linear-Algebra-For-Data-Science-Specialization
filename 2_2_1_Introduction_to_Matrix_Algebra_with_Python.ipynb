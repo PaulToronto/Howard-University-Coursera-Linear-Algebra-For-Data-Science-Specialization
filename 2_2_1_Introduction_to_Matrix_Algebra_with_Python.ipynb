{
  "nbformat": 4,
  "nbformat_minor": 0,
  "metadata": {
    "colab": {
      "provenance": [],
      "toc_visible": true,
      "authorship_tag": "ABX9TyMXJ4bX4CIPoY1HwZA4gy8P",
      "include_colab_link": true
    },
    "kernelspec": {
      "name": "python3",
      "display_name": "Python 3"
    },
    "language_info": {
      "name": "python"
    }
  },
  "cells": [
    {
      "cell_type": "markdown",
      "metadata": {
        "id": "view-in-github",
        "colab_type": "text"
      },
      "source": [
        "<a href=\"https://colab.research.google.com/github/PaulToronto/Howard-University-Coursera-Linear-Algebra-For-Data-Science-Specialization/blob/main/2_2_1_Introduction_to_Matrix_Algebra_with_Python.ipynb\" target=\"_parent\"><img src=\"https://colab.research.google.com/assets/colab-badge.svg\" alt=\"Open In Colab\"/></a>"
      ]
    },
    {
      "cell_type": "markdown",
      "source": [
        "# 2.2.1 Introduction to Matrix Algebra with Python"
      ],
      "metadata": {
        "id": "gww9TbBAbh4F"
      }
    },
    {
      "cell_type": "markdown",
      "source": [
        "## Imports"
      ],
      "metadata": {
        "id": "WiJhdU9Hb3j1"
      }
    },
    {
      "cell_type": "code",
      "source": [
        "import sympy as sym\n",
        "import numpy as np\n",
        "import random"
      ],
      "metadata": {
        "id": "Vrfd5YpKb6I8"
      },
      "execution_count": 1,
      "outputs": []
    },
    {
      "cell_type": "markdown",
      "source": [
        "## 2.2.1.1 Review of Matrix Arithmetic"
      ],
      "metadata": {
        "id": "0m7UXeVKb6qI"
      }
    },
    {
      "cell_type": "markdown",
      "source": [
        "### Example\n",
        "\n",
        "Write $2A(\\vec{u} + \\vec{v})$ as a single matrix."
      ],
      "metadata": {
        "id": "F_8gqhGlcqT9"
      }
    },
    {
      "cell_type": "code",
      "source": [
        "A = sym.Matrix([[2, 1],\n",
        "                [0, -4]])\n",
        "A"
      ],
      "metadata": {
        "colab": {
          "base_uri": "https://localhost:8080/",
          "height": 58
        },
        "id": "e6zaMlVfc3c6",
        "outputId": "d5333aa9-0181-47d1-e72c-d877187c0f83"
      },
      "execution_count": 2,
      "outputs": [
        {
          "output_type": "execute_result",
          "data": {
            "text/plain": [
              "Matrix([\n",
              "[2,  1],\n",
              "[0, -4]])"
            ],
            "text/latex": "$\\displaystyle \\left[\\begin{matrix}2 & 1\\\\0 & -4\\end{matrix}\\right]$"
          },
          "metadata": {},
          "execution_count": 2
        }
      ]
    },
    {
      "cell_type": "code",
      "source": [
        "u = sym.Matrix([[4],\n",
        "                [-1]])\n",
        "u"
      ],
      "metadata": {
        "colab": {
          "base_uri": "https://localhost:8080/",
          "height": 58
        },
        "id": "QckkRdoidAcS",
        "outputId": "68973d01-3bed-4818-9f0c-79e660fa48a2"
      },
      "execution_count": 3,
      "outputs": [
        {
          "output_type": "execute_result",
          "data": {
            "text/plain": [
              "Matrix([\n",
              "[ 4],\n",
              "[-1]])"
            ],
            "text/latex": "$\\displaystyle \\left[\\begin{matrix}4\\\\-1\\end{matrix}\\right]$"
          },
          "metadata": {},
          "execution_count": 3
        }
      ]
    },
    {
      "cell_type": "code",
      "source": [
        "v = sym.Matrix([[-3],\n",
        "                [5]])\n",
        "v"
      ],
      "metadata": {
        "colab": {
          "base_uri": "https://localhost:8080/",
          "height": 58
        },
        "id": "eULzIMm1dGHV",
        "outputId": "a842e746-703c-4d1e-910e-fd9c461467af"
      },
      "execution_count": 4,
      "outputs": [
        {
          "output_type": "execute_result",
          "data": {
            "text/plain": [
              "Matrix([\n",
              "[-3],\n",
              "[ 5]])"
            ],
            "text/latex": "$\\displaystyle \\left[\\begin{matrix}-3\\\\5\\end{matrix}\\right]$"
          },
          "metadata": {},
          "execution_count": 4
        }
      ]
    },
    {
      "cell_type": "code",
      "source": [
        "2 * A * (u + v)"
      ],
      "metadata": {
        "colab": {
          "base_uri": "https://localhost:8080/",
          "height": 58
        },
        "id": "c_kCxCvSdemk",
        "outputId": "9c29b466-eba3-4e00-9687-3d45d5d4e4ef"
      },
      "execution_count": 5,
      "outputs": [
        {
          "output_type": "execute_result",
          "data": {
            "text/plain": [
              "Matrix([\n",
              "[ 12],\n",
              "[-32]])"
            ],
            "text/latex": "$\\displaystyle \\left[\\begin{matrix}12\\\\-32\\end{matrix}\\right]$"
          },
          "metadata": {},
          "execution_count": 5
        }
      ]
    },
    {
      "cell_type": "markdown",
      "source": [
        "### Example\n",
        "\n",
        "Find and simplify:\n",
        "\n",
        "1. $B(A^{-1}B)^{-1}$\n",
        "2. $(A^{T} - B)^{T}$"
      ],
      "metadata": {
        "id": "zt1TRmqmeDAR"
      }
    },
    {
      "cell_type": "code",
      "source": [
        "A = sym.Matrix([[1, 0, 1],\n",
        "                [0, 3, 0],\n",
        "                [1, 0, 5]])\n",
        "A"
      ],
      "metadata": {
        "colab": {
          "base_uri": "https://localhost:8080/",
          "height": 78
        },
        "id": "PjSb_NXzedD3",
        "outputId": "1956fd6a-c5a8-42d8-8f17-f3328933160e"
      },
      "execution_count": 6,
      "outputs": [
        {
          "output_type": "execute_result",
          "data": {
            "text/plain": [
              "Matrix([\n",
              "[1, 0, 1],\n",
              "[0, 3, 0],\n",
              "[1, 0, 5]])"
            ],
            "text/latex": "$\\displaystyle \\left[\\begin{matrix}1 & 0 & 1\\\\0 & 3 & 0\\\\1 & 0 & 5\\end{matrix}\\right]$"
          },
          "metadata": {},
          "execution_count": 6
        }
      ]
    },
    {
      "cell_type": "code",
      "source": [
        "B = sym.Matrix([[-1, 0, 1],\n",
        "                [0, 5, 6],\n",
        "                [3, 0, 1]])\n",
        "B"
      ],
      "metadata": {
        "colab": {
          "base_uri": "https://localhost:8080/",
          "height": 78
        },
        "id": "UGRy098XelIS",
        "outputId": "779a01ba-1a91-4e18-b779-9b1a96f0ac9b"
      },
      "execution_count": 7,
      "outputs": [
        {
          "output_type": "execute_result",
          "data": {
            "text/plain": [
              "Matrix([\n",
              "[-1, 0, 1],\n",
              "[ 0, 5, 6],\n",
              "[ 3, 0, 1]])"
            ],
            "text/latex": "$\\displaystyle \\left[\\begin{matrix}-1 & 0 & 1\\\\0 & 5 & 6\\\\3 & 0 & 1\\end{matrix}\\right]$"
          },
          "metadata": {},
          "execution_count": 7
        }
      ]
    },
    {
      "cell_type": "code",
      "source": [
        "# 1.\n",
        "B @ (A.inv() @ B).inv()"
      ],
      "metadata": {
        "colab": {
          "base_uri": "https://localhost:8080/",
          "height": 78
        },
        "id": "BRYOeBK8ueUN",
        "outputId": "b1e6699a-a9da-4509-b473-25f0701884f0"
      },
      "execution_count": 8,
      "outputs": [
        {
          "output_type": "execute_result",
          "data": {
            "text/plain": [
              "Matrix([\n",
              "[1, 0, 1],\n",
              "[0, 3, 0],\n",
              "[1, 0, 5]])"
            ],
            "text/latex": "$\\displaystyle \\left[\\begin{matrix}1 & 0 & 1\\\\0 & 3 & 0\\\\1 & 0 & 5\\end{matrix}\\right]$"
          },
          "metadata": {},
          "execution_count": 8
        }
      ]
    },
    {
      "cell_type": "code",
      "source": [
        "# 2.\n",
        "(A.T - B).T"
      ],
      "metadata": {
        "colab": {
          "base_uri": "https://localhost:8080/",
          "height": 78
        },
        "id": "xAvBmdVxyIDC",
        "outputId": "5d8478f8-4a1d-4f81-8d87-983f6265942a"
      },
      "execution_count": 9,
      "outputs": [
        {
          "output_type": "execute_result",
          "data": {
            "text/plain": [
              "Matrix([\n",
              "[2,  0, -2],\n",
              "[0, -2,  0],\n",
              "[0, -6,  4]])"
            ],
            "text/latex": "$\\displaystyle \\left[\\begin{matrix}2 & 0 & -2\\\\0 & -2 & 0\\\\0 & -6 & 4\\end{matrix}\\right]$"
          },
          "metadata": {},
          "execution_count": 9
        }
      ]
    },
    {
      "cell_type": "markdown",
      "source": [
        "Same thing, using `numpy`"
      ],
      "metadata": {
        "id": "jbzV9wpFy7oS"
      }
    },
    {
      "cell_type": "code",
      "source": [
        "Anp = np.array(A, dtype='int')\n",
        "Anp"
      ],
      "metadata": {
        "colab": {
          "base_uri": "https://localhost:8080/"
        },
        "id": "rqtIaSnqzIXB",
        "outputId": "de4ea3b2-5bb0-4218-8744-45bdb419d886"
      },
      "execution_count": 10,
      "outputs": [
        {
          "output_type": "execute_result",
          "data": {
            "text/plain": [
              "array([[1, 0, 1],\n",
              "       [0, 3, 0],\n",
              "       [1, 0, 5]])"
            ]
          },
          "metadata": {},
          "execution_count": 10
        }
      ]
    },
    {
      "cell_type": "code",
      "source": [
        "Bnp = np.array(B, dtype='int')\n",
        "Bnp"
      ],
      "metadata": {
        "colab": {
          "base_uri": "https://localhost:8080/"
        },
        "id": "PJ9Zg4yH0M0M",
        "outputId": "e8c48332-7c42-4588-9306-6cafec5792f0"
      },
      "execution_count": 11,
      "outputs": [
        {
          "output_type": "execute_result",
          "data": {
            "text/plain": [
              "array([[-1,  0,  1],\n",
              "       [ 0,  5,  6],\n",
              "       [ 3,  0,  1]])"
            ]
          },
          "metadata": {},
          "execution_count": 11
        }
      ]
    },
    {
      "cell_type": "code",
      "source": [
        "# 1.\n",
        "Bnp @ np.linalg.inv(np.linalg.inv(Anp) @ Bnp)"
      ],
      "metadata": {
        "colab": {
          "base_uri": "https://localhost:8080/"
        },
        "id": "OFvBzKvW0SHk",
        "outputId": "a598751d-c52d-4a5b-b43d-23ffca98b8c4"
      },
      "execution_count": 12,
      "outputs": [
        {
          "output_type": "execute_result",
          "data": {
            "text/plain": [
              "array([[ 1.00000000e+00,  0.00000000e+00,  1.00000000e+00],\n",
              "       [-8.88178420e-16,  3.00000000e+00, -1.77635684e-15],\n",
              "       [ 1.00000000e+00,  0.00000000e+00,  5.00000000e+00]])"
            ]
          },
          "metadata": {},
          "execution_count": 12
        }
      ]
    },
    {
      "cell_type": "code",
      "source": [
        "# 2.\n",
        "np.transpose(np.transpose(Anp) - Bnp)"
      ],
      "metadata": {
        "colab": {
          "base_uri": "https://localhost:8080/"
        },
        "id": "ym25IkLB1y5c",
        "outputId": "11021183-4cd3-46e3-c9f3-ff7ea52d91c6"
      },
      "execution_count": 13,
      "outputs": [
        {
          "output_type": "execute_result",
          "data": {
            "text/plain": [
              "array([[ 2,  0, -2],\n",
              "       [ 0, -2,  0],\n",
              "       [ 0, -6,  4]])"
            ]
          },
          "metadata": {},
          "execution_count": 13
        }
      ]
    },
    {
      "cell_type": "markdown",
      "source": [
        "### Some Matrix Rules\n",
        "\n",
        "1. $(AB)^{-1} = B^{-1}A^{-1}$\n",
        "2. $(A^{T})^{T} = A$\n",
        "3. $(A + B)^{T} = A^{T} + B^{T}$"
      ],
      "metadata": {
        "id": "dC5Z5sZP4d5b"
      }
    },
    {
      "cell_type": "markdown",
      "source": [
        "In light of these rules, lets revisit the previous example. ***We already know that A and B are invertible, which is important.***\n",
        "\n",
        "Find and simplify:\n",
        "\n",
        "1. $B(A^{-1}B)^{-1}$\n",
        "2. $(A^{T} - B)^{T}$"
      ],
      "metadata": {
        "id": "W50RfBB33a_W"
      }
    },
    {
      "cell_type": "markdown",
      "source": [
        "$$\n",
        "\\begin{align}\n",
        "B(A^{-1}B)^{-1} &= B(B^{-1}A) \\\\\n",
        "&= IA \\\\\n",
        "&= A\n",
        "\\end{align}\n",
        "$$"
      ],
      "metadata": {
        "id": "J7Ft8rfc5d4e"
      }
    },
    {
      "cell_type": "code",
      "source": [
        "A"
      ],
      "metadata": {
        "colab": {
          "base_uri": "https://localhost:8080/",
          "height": 78
        },
        "id": "TVJZAstK61py",
        "outputId": "6204b54f-e5d0-4fd5-f4c7-5191a070207a"
      },
      "execution_count": 14,
      "outputs": [
        {
          "output_type": "execute_result",
          "data": {
            "text/plain": [
              "Matrix([\n",
              "[1, 0, 1],\n",
              "[0, 3, 0],\n",
              "[1, 0, 5]])"
            ],
            "text/latex": "$\\displaystyle \\left[\\begin{matrix}1 & 0 & 1\\\\0 & 3 & 0\\\\1 & 0 & 5\\end{matrix}\\right]$"
          },
          "metadata": {},
          "execution_count": 14
        }
      ]
    },
    {
      "cell_type": "markdown",
      "source": [
        "$$\n",
        "\\begin{align}\n",
        "(A^{T} - B)^{T} &= (A^{T})^{T} - B^{T} \\\\\n",
        "&= A - B^{T}\n",
        "\\end{align}\n",
        "$$"
      ],
      "metadata": {
        "id": "Q7F2y9T958OM"
      }
    },
    {
      "cell_type": "code",
      "source": [
        "A - B.T"
      ],
      "metadata": {
        "colab": {
          "base_uri": "https://localhost:8080/",
          "height": 78
        },
        "id": "TRa2oXG26f6G",
        "outputId": "7b1d2707-8a6d-4911-e53c-f8bc092aac42"
      },
      "execution_count": 15,
      "outputs": [
        {
          "output_type": "execute_result",
          "data": {
            "text/plain": [
              "Matrix([\n",
              "[2,  0, -2],\n",
              "[0, -2,  0],\n",
              "[0, -6,  4]])"
            ],
            "text/latex": "$\\displaystyle \\left[\\begin{matrix}2 & 0 & -2\\\\0 & -2 & 0\\\\0 & -6 & 4\\end{matrix}\\right]$"
          },
          "metadata": {},
          "execution_count": 15
        }
      ]
    },
    {
      "cell_type": "markdown",
      "source": [
        "## 2.2.1.2 Review Matrix Algebra in Python"
      ],
      "metadata": {
        "id": "zAKovOlP7gXe"
      }
    },
    {
      "cell_type": "code",
      "source": [
        "L = sym.Matrix([[-3, 3, 5],\n",
        "               [2, 5, 1]])\n",
        "M = sym.Matrix([[3, 1, 2],\n",
        "                [6, 4, 8],\n",
        "                [5, 9, 7]])\n",
        "N = sym.Matrix([[0, -1, 2],\n",
        "                [2, 6, 1],\n",
        "                [4, 1, 3]])\n",
        "P = sym.Matrix([[-3, 3],\n",
        "                [2, 5],\n",
        "                [4, 2]])"
      ],
      "metadata": {
        "id": "buVwY3HKDFkt"
      },
      "execution_count": 16,
      "outputs": []
    },
    {
      "cell_type": "code",
      "source": [
        "L"
      ],
      "metadata": {
        "colab": {
          "base_uri": "https://localhost:8080/",
          "height": 58
        },
        "id": "fz_fU83FEFcW",
        "outputId": "373bd890-6b32-499e-c332-e71646fb5fd1"
      },
      "execution_count": 17,
      "outputs": [
        {
          "output_type": "execute_result",
          "data": {
            "text/plain": [
              "Matrix([\n",
              "[-3, 3, 5],\n",
              "[ 2, 5, 1]])"
            ],
            "text/latex": "$\\displaystyle \\left[\\begin{matrix}-3 & 3 & 5\\\\2 & 5 & 1\\end{matrix}\\right]$"
          },
          "metadata": {},
          "execution_count": 17
        }
      ]
    },
    {
      "cell_type": "code",
      "source": [
        "M"
      ],
      "metadata": {
        "colab": {
          "base_uri": "https://localhost:8080/",
          "height": 78
        },
        "id": "w8fra2swEGy_",
        "outputId": "0a995939-9b0b-43e7-b5b3-96652bb51bbd"
      },
      "execution_count": 18,
      "outputs": [
        {
          "output_type": "execute_result",
          "data": {
            "text/plain": [
              "Matrix([\n",
              "[3, 1, 2],\n",
              "[6, 4, 8],\n",
              "[5, 9, 7]])"
            ],
            "text/latex": "$\\displaystyle \\left[\\begin{matrix}3 & 1 & 2\\\\6 & 4 & 8\\\\5 & 9 & 7\\end{matrix}\\right]$"
          },
          "metadata": {},
          "execution_count": 18
        }
      ]
    },
    {
      "cell_type": "code",
      "source": [
        "N"
      ],
      "metadata": {
        "colab": {
          "base_uri": "https://localhost:8080/",
          "height": 78
        },
        "id": "x13ET2bvEJMv",
        "outputId": "2f493383-d9b1-4ae0-cc5c-d856eb4971fa"
      },
      "execution_count": 19,
      "outputs": [
        {
          "output_type": "execute_result",
          "data": {
            "text/plain": [
              "Matrix([\n",
              "[0, -1, 2],\n",
              "[2,  6, 1],\n",
              "[4,  1, 3]])"
            ],
            "text/latex": "$\\displaystyle \\left[\\begin{matrix}0 & -1 & 2\\\\2 & 6 & 1\\\\4 & 1 & 3\\end{matrix}\\right]$"
          },
          "metadata": {},
          "execution_count": 19
        }
      ]
    },
    {
      "cell_type": "code",
      "source": [
        "P"
      ],
      "metadata": {
        "colab": {
          "base_uri": "https://localhost:8080/",
          "height": 78
        },
        "id": "eraI13rZEKoP",
        "outputId": "fbe2be50-d449-4cd0-810a-27eaecebde52"
      },
      "execution_count": 20,
      "outputs": [
        {
          "output_type": "execute_result",
          "data": {
            "text/plain": [
              "Matrix([\n",
              "[-3, 3],\n",
              "[ 2, 5],\n",
              "[ 4, 2]])"
            ],
            "text/latex": "$\\displaystyle \\left[\\begin{matrix}-3 & 3\\\\2 & 5\\\\4 & 2\\end{matrix}\\right]$"
          },
          "metadata": {},
          "execution_count": 20
        }
      ]
    },
    {
      "cell_type": "markdown",
      "source": [
        "### Add Matrices"
      ],
      "metadata": {
        "id": "YRDigWTdDx4K"
      }
    },
    {
      "cell_type": "code",
      "source": [
        "M + N"
      ],
      "metadata": {
        "colab": {
          "base_uri": "https://localhost:8080/",
          "height": 78
        },
        "id": "j-kSzjfqD1Xn",
        "outputId": "ed664c62-38d5-41e7-f25e-75da2aac7059"
      },
      "execution_count": 21,
      "outputs": [
        {
          "output_type": "execute_result",
          "data": {
            "text/plain": [
              "Matrix([\n",
              "[3,  0,  4],\n",
              "[8, 10,  9],\n",
              "[9, 10, 10]])"
            ],
            "text/latex": "$\\displaystyle \\left[\\begin{matrix}3 & 0 & 4\\\\8 & 10 & 9\\\\9 & 10 & 10\\end{matrix}\\right]$"
          },
          "metadata": {},
          "execution_count": 21
        }
      ]
    },
    {
      "cell_type": "markdown",
      "source": [
        "### Subtract Matrices"
      ],
      "metadata": {
        "id": "ORCXN2wdEySF"
      }
    },
    {
      "cell_type": "code",
      "source": [
        "M - N"
      ],
      "metadata": {
        "colab": {
          "base_uri": "https://localhost:8080/",
          "height": 78
        },
        "id": "hVFByxAZE2_q",
        "outputId": "d39333e9-a6e0-456c-c1fe-4b88fc678131"
      },
      "execution_count": 22,
      "outputs": [
        {
          "output_type": "execute_result",
          "data": {
            "text/plain": [
              "Matrix([\n",
              "[3,  2, 0],\n",
              "[4, -2, 7],\n",
              "[1,  8, 4]])"
            ],
            "text/latex": "$\\displaystyle \\left[\\begin{matrix}3 & 2 & 0\\\\4 & -2 & 7\\\\1 & 8 & 4\\end{matrix}\\right]$"
          },
          "metadata": {},
          "execution_count": 22
        }
      ]
    },
    {
      "cell_type": "code",
      "source": [
        "N - M"
      ],
      "metadata": {
        "colab": {
          "base_uri": "https://localhost:8080/",
          "height": 78
        },
        "id": "WZAa2wEBE5M4",
        "outputId": "1549f121-4b92-4e59-e504-579e66551899"
      },
      "execution_count": 23,
      "outputs": [
        {
          "output_type": "execute_result",
          "data": {
            "text/plain": [
              "Matrix([\n",
              "[-3, -2,  0],\n",
              "[-4,  2, -7],\n",
              "[-1, -8, -4]])"
            ],
            "text/latex": "$\\displaystyle \\left[\\begin{matrix}-3 & -2 & 0\\\\-4 & 2 & -7\\\\-1 & -8 & -4\\end{matrix}\\right]$"
          },
          "metadata": {},
          "execution_count": 23
        }
      ]
    },
    {
      "cell_type": "markdown",
      "source": [
        "### Multiply Matrices\n",
        "\n",
        "$A \\times B$ is only possible if the number of columns of $A$ is equal to the number of rows of $B$"
      ],
      "metadata": {
        "id": "2pjX6xOtFE64"
      }
    },
    {
      "cell_type": "code",
      "source": [
        "L.shape, P.shape"
      ],
      "metadata": {
        "colab": {
          "base_uri": "https://localhost:8080/"
        },
        "id": "RcjCYYBGFHb9",
        "outputId": "76cd7b6f-32ea-4dcb-d851-98935e15f453"
      },
      "execution_count": 24,
      "outputs": [
        {
          "output_type": "execute_result",
          "data": {
            "text/plain": [
              "((2, 3), (3, 2))"
            ]
          },
          "metadata": {},
          "execution_count": 24
        }
      ]
    },
    {
      "cell_type": "code",
      "source": [
        "L * P"
      ],
      "metadata": {
        "colab": {
          "base_uri": "https://localhost:8080/",
          "height": 58
        },
        "id": "dJIB3dsXFg63",
        "outputId": "118df829-c892-4403-fb67-3d24fdcc6bc5"
      },
      "execution_count": 25,
      "outputs": [
        {
          "output_type": "execute_result",
          "data": {
            "text/plain": [
              "Matrix([\n",
              "[35, 16],\n",
              "[ 8, 33]])"
            ],
            "text/latex": "$\\displaystyle \\left[\\begin{matrix}35 & 16\\\\8 & 33\\end{matrix}\\right]$"
          },
          "metadata": {},
          "execution_count": 25
        }
      ]
    },
    {
      "cell_type": "code",
      "source": [
        "L.shape, M.shape"
      ],
      "metadata": {
        "colab": {
          "base_uri": "https://localhost:8080/"
        },
        "id": "oVz-AAEKGbFb",
        "outputId": "1a1ffbd2-ad8d-4491-f555-1d50e154ed11"
      },
      "execution_count": 26,
      "outputs": [
        {
          "output_type": "execute_result",
          "data": {
            "text/plain": [
              "((2, 3), (3, 3))"
            ]
          },
          "metadata": {},
          "execution_count": 26
        }
      ]
    },
    {
      "cell_type": "code",
      "source": [
        "L * M"
      ],
      "metadata": {
        "colab": {
          "base_uri": "https://localhost:8080/",
          "height": 58
        },
        "id": "tq3C316LGeOz",
        "outputId": "3598e687-c387-4d3f-e922-12a63b99d134"
      },
      "execution_count": 27,
      "outputs": [
        {
          "output_type": "execute_result",
          "data": {
            "text/plain": [
              "Matrix([\n",
              "[34, 54, 53],\n",
              "[41, 31, 51]])"
            ],
            "text/latex": "$\\displaystyle \\left[\\begin{matrix}34 & 54 & 53\\\\41 & 31 & 51\\end{matrix}\\right]$"
          },
          "metadata": {},
          "execution_count": 27
        }
      ]
    },
    {
      "cell_type": "code",
      "source": [
        "M.shape, L.shape # can't multiply these two"
      ],
      "metadata": {
        "colab": {
          "base_uri": "https://localhost:8080/"
        },
        "id": "mQYxBUwGGmXa",
        "outputId": "4ef63675-ff9e-4c11-f4df-6d0bd4975b9d"
      },
      "execution_count": 28,
      "outputs": [
        {
          "output_type": "execute_result",
          "data": {
            "text/plain": [
              "((3, 3), (2, 3))"
            ]
          },
          "metadata": {},
          "execution_count": 28
        }
      ]
    },
    {
      "cell_type": "code",
      "source": [
        "M.shape, N.shape"
      ],
      "metadata": {
        "colab": {
          "base_uri": "https://localhost:8080/"
        },
        "id": "3mKVviuAHYEu",
        "outputId": "3ec07f33-1558-41b1-9789-0e9eaaea99d5"
      },
      "execution_count": 29,
      "outputs": [
        {
          "output_type": "execute_result",
          "data": {
            "text/plain": [
              "((3, 3), (3, 3))"
            ]
          },
          "metadata": {},
          "execution_count": 29
        }
      ]
    },
    {
      "cell_type": "code",
      "source": [
        "M * N"
      ],
      "metadata": {
        "colab": {
          "base_uri": "https://localhost:8080/",
          "height": 78
        },
        "id": "korEV7ROHaKW",
        "outputId": "7d7345ca-fa97-4df6-f28d-58f17fd9d399"
      },
      "execution_count": 30,
      "outputs": [
        {
          "output_type": "execute_result",
          "data": {
            "text/plain": [
              "Matrix([\n",
              "[10,  5, 13],\n",
              "[40, 26, 40],\n",
              "[46, 56, 40]])"
            ],
            "text/latex": "$\\displaystyle \\left[\\begin{matrix}10 & 5 & 13\\\\40 & 26 & 40\\\\46 & 56 & 40\\end{matrix}\\right]$"
          },
          "metadata": {},
          "execution_count": 30
        }
      ]
    },
    {
      "cell_type": "code",
      "source": [
        "N * M"
      ],
      "metadata": {
        "colab": {
          "base_uri": "https://localhost:8080/",
          "height": 78
        },
        "id": "9Rwe8HvBHcSw",
        "outputId": "7c0170fd-3975-4b0d-f854-5a04f46f1732"
      },
      "execution_count": 31,
      "outputs": [
        {
          "output_type": "execute_result",
          "data": {
            "text/plain": [
              "Matrix([\n",
              "[ 4, 14,  6],\n",
              "[47, 35, 59],\n",
              "[33, 35, 37]])"
            ],
            "text/latex": "$\\displaystyle \\left[\\begin{matrix}4 & 14 & 6\\\\47 & 35 & 59\\\\33 & 35 & 37\\end{matrix}\\right]$"
          },
          "metadata": {},
          "execution_count": 31
        }
      ]
    },
    {
      "cell_type": "markdown",
      "source": [
        "## 2.2.1.3 Using Python to Find the Transpose of a Matrix"
      ],
      "metadata": {
        "id": "GjJJgmXnHtCJ"
      }
    },
    {
      "cell_type": "code",
      "source": [
        "L = sym.Matrix([[2, 4, 6],\n",
        "                [8, 10, 12]])\n",
        "M = sym.Matrix([[3, 1, 2],\n",
        "                [6, 4, 8],\n",
        "                [5, 9, 7]])\n",
        "N = sym.Matrix([[1],\n",
        "                [2],\n",
        "                [3]])\n",
        "P = sym.Matrix([[-3, 3],\n",
        "                [2, 5],\n",
        "                [4, 2]])\n",
        "I = sym.eye(3)"
      ],
      "metadata": {
        "id": "svCQsM5tH2oe"
      },
      "execution_count": 32,
      "outputs": []
    },
    {
      "cell_type": "code",
      "source": [
        "Q = np.array([[0, 3, 1],\n",
        "              [2, -1, 3],\n",
        "              [2, 1, 5]])"
      ],
      "metadata": {
        "id": "EgH1fW5bI34A"
      },
      "execution_count": 33,
      "outputs": []
    },
    {
      "cell_type": "markdown",
      "source": [
        "### Square Matrix"
      ],
      "metadata": {
        "id": "45u_i5KuJjeI"
      }
    },
    {
      "cell_type": "code",
      "source": [
        "M"
      ],
      "metadata": {
        "colab": {
          "base_uri": "https://localhost:8080/",
          "height": 78
        },
        "id": "fRDNWct9JwV4",
        "outputId": "a69a8dc8-2463-484e-ae7a-82c46bf105ae"
      },
      "execution_count": 34,
      "outputs": [
        {
          "output_type": "execute_result",
          "data": {
            "text/plain": [
              "Matrix([\n",
              "[3, 1, 2],\n",
              "[6, 4, 8],\n",
              "[5, 9, 7]])"
            ],
            "text/latex": "$\\displaystyle \\left[\\begin{matrix}3 & 1 & 2\\\\6 & 4 & 8\\\\5 & 9 & 7\\end{matrix}\\right]$"
          },
          "metadata": {},
          "execution_count": 34
        }
      ]
    },
    {
      "cell_type": "code",
      "source": [
        "M.transpose()"
      ],
      "metadata": {
        "colab": {
          "base_uri": "https://localhost:8080/",
          "height": 78
        },
        "id": "wy3Hhvz1KAjY",
        "outputId": "02234223-fd3f-43d0-c1da-4fe7176318da"
      },
      "execution_count": 35,
      "outputs": [
        {
          "output_type": "execute_result",
          "data": {
            "text/plain": [
              "Matrix([\n",
              "[3, 6, 5],\n",
              "[1, 4, 9],\n",
              "[2, 8, 7]])"
            ],
            "text/latex": "$\\displaystyle \\left[\\begin{matrix}3 & 6 & 5\\\\1 & 4 & 9\\\\2 & 8 & 7\\end{matrix}\\right]$"
          },
          "metadata": {},
          "execution_count": 35
        }
      ]
    },
    {
      "cell_type": "code",
      "source": [
        "M.T"
      ],
      "metadata": {
        "colab": {
          "base_uri": "https://localhost:8080/",
          "height": 78
        },
        "id": "WM1Gqe4SKCsK",
        "outputId": "0d93eab2-fd33-49eb-84ea-13e2d5a120e5"
      },
      "execution_count": 36,
      "outputs": [
        {
          "output_type": "execute_result",
          "data": {
            "text/plain": [
              "Matrix([\n",
              "[3, 6, 5],\n",
              "[1, 4, 9],\n",
              "[2, 8, 7]])"
            ],
            "text/latex": "$\\displaystyle \\left[\\begin{matrix}3 & 6 & 5\\\\1 & 4 & 9\\\\2 & 8 & 7\\end{matrix}\\right]$"
          },
          "metadata": {},
          "execution_count": 36
        }
      ]
    },
    {
      "cell_type": "code",
      "source": [
        "np.transpose(M)"
      ],
      "metadata": {
        "colab": {
          "base_uri": "https://localhost:8080/"
        },
        "id": "QITTydEDKOwm",
        "outputId": "9c7379ee-0a67-446f-a1d9-597474a9abf2"
      },
      "execution_count": 37,
      "outputs": [
        {
          "output_type": "execute_result",
          "data": {
            "text/plain": [
              "array([[3, 6, 5],\n",
              "       [1, 4, 9],\n",
              "       [2, 8, 7]], dtype=object)"
            ]
          },
          "metadata": {},
          "execution_count": 37
        }
      ]
    },
    {
      "cell_type": "code",
      "source": [
        "np.transpose(np.array(M, dtype='int'))"
      ],
      "metadata": {
        "colab": {
          "base_uri": "https://localhost:8080/"
        },
        "id": "NSrpAB2xKqh4",
        "outputId": "185a461f-0e8a-4592-b504-dadd87715674"
      },
      "execution_count": 38,
      "outputs": [
        {
          "output_type": "execute_result",
          "data": {
            "text/plain": [
              "array([[3, 6, 5],\n",
              "       [1, 4, 9],\n",
              "       [2, 8, 7]])"
            ]
          },
          "metadata": {},
          "execution_count": 38
        }
      ]
    },
    {
      "cell_type": "code",
      "source": [
        "np.array(M, dtype='int').T"
      ],
      "metadata": {
        "colab": {
          "base_uri": "https://localhost:8080/"
        },
        "id": "ioBYEYt3NQgJ",
        "outputId": "bf76f5bb-f3de-49e6-a02d-54f1ec553911"
      },
      "execution_count": 39,
      "outputs": [
        {
          "output_type": "execute_result",
          "data": {
            "text/plain": [
              "array([[3, 6, 5],\n",
              "       [1, 4, 9],\n",
              "       [2, 8, 7]])"
            ]
          },
          "metadata": {},
          "execution_count": 39
        }
      ]
    },
    {
      "cell_type": "markdown",
      "source": [
        "### Rectangular Matrix"
      ],
      "metadata": {
        "id": "2_5iOPPSJmfD"
      }
    },
    {
      "cell_type": "code",
      "source": [
        "L"
      ],
      "metadata": {
        "colab": {
          "base_uri": "https://localhost:8080/",
          "height": 58
        },
        "id": "yh32j2iRJw51",
        "outputId": "b0f29f48-a3ac-4f6b-abef-ed2d16839cd2"
      },
      "execution_count": 40,
      "outputs": [
        {
          "output_type": "execute_result",
          "data": {
            "text/plain": [
              "Matrix([\n",
              "[2,  4,  6],\n",
              "[8, 10, 12]])"
            ],
            "text/latex": "$\\displaystyle \\left[\\begin{matrix}2 & 4 & 6\\\\8 & 10 & 12\\end{matrix}\\right]$"
          },
          "metadata": {},
          "execution_count": 40
        }
      ]
    },
    {
      "cell_type": "code",
      "source": [
        "L.T"
      ],
      "metadata": {
        "colab": {
          "base_uri": "https://localhost:8080/",
          "height": 78
        },
        "id": "sW4e7q6QLetZ",
        "outputId": "7b75450e-2117-4e24-b140-2f9edf4cc5e1"
      },
      "execution_count": 41,
      "outputs": [
        {
          "output_type": "execute_result",
          "data": {
            "text/plain": [
              "Matrix([\n",
              "[2,  8],\n",
              "[4, 10],\n",
              "[6, 12]])"
            ],
            "text/latex": "$\\displaystyle \\left[\\begin{matrix}2 & 8\\\\4 & 10\\\\6 & 12\\end{matrix}\\right]$"
          },
          "metadata": {},
          "execution_count": 41
        }
      ]
    },
    {
      "cell_type": "code",
      "source": [
        "np.transpose(L)"
      ],
      "metadata": {
        "colab": {
          "base_uri": "https://localhost:8080/"
        },
        "id": "f3p0oZ7XLgYl",
        "outputId": "a7bb7a47-eeb6-4dd2-cc0a-a215a2d972ec"
      },
      "execution_count": 42,
      "outputs": [
        {
          "output_type": "execute_result",
          "data": {
            "text/plain": [
              "array([[2, 8],\n",
              "       [4, 10],\n",
              "       [6, 12]], dtype=object)"
            ]
          },
          "metadata": {},
          "execution_count": 42
        }
      ]
    },
    {
      "cell_type": "code",
      "source": [
        "np.transpose(np.array(L, dtype='int'))"
      ],
      "metadata": {
        "colab": {
          "base_uri": "https://localhost:8080/"
        },
        "id": "jTfS6g5YLith",
        "outputId": "83ec57df-d508-4130-9e5a-b4837cb6820f"
      },
      "execution_count": 43,
      "outputs": [
        {
          "output_type": "execute_result",
          "data": {
            "text/plain": [
              "array([[ 2,  8],\n",
              "       [ 4, 10],\n",
              "       [ 6, 12]])"
            ]
          },
          "metadata": {},
          "execution_count": 43
        }
      ]
    },
    {
      "cell_type": "markdown",
      "source": [
        "### Column Matrix"
      ],
      "metadata": {
        "id": "vt59wsEaJpHd"
      }
    },
    {
      "cell_type": "code",
      "source": [
        "N"
      ],
      "metadata": {
        "colab": {
          "base_uri": "https://localhost:8080/",
          "height": 78
        },
        "id": "zNcHyB7KJxtH",
        "outputId": "130b27bc-9102-4a92-f252-dcc0c7161c3e"
      },
      "execution_count": 44,
      "outputs": [
        {
          "output_type": "execute_result",
          "data": {
            "text/plain": [
              "Matrix([\n",
              "[1],\n",
              "[2],\n",
              "[3]])"
            ],
            "text/latex": "$\\displaystyle \\left[\\begin{matrix}1\\\\2\\\\3\\end{matrix}\\right]$"
          },
          "metadata": {},
          "execution_count": 44
        }
      ]
    },
    {
      "cell_type": "code",
      "source": [
        "N.T"
      ],
      "metadata": {
        "colab": {
          "base_uri": "https://localhost:8080/",
          "height": 39
        },
        "id": "RbKsfUiCMBct",
        "outputId": "3df92de2-dc17-439d-f824-494c5d1b2a40"
      },
      "execution_count": 45,
      "outputs": [
        {
          "output_type": "execute_result",
          "data": {
            "text/plain": [
              "Matrix([[1, 2, 3]])"
            ],
            "text/latex": "$\\displaystyle \\left[\\begin{matrix}1 & 2 & 3\\end{matrix}\\right]$"
          },
          "metadata": {},
          "execution_count": 45
        }
      ]
    },
    {
      "cell_type": "code",
      "source": [
        "np.transpose(N)"
      ],
      "metadata": {
        "colab": {
          "base_uri": "https://localhost:8080/"
        },
        "id": "5rcSb5HrMP2c",
        "outputId": "66e8c50e-0c29-409f-f1b3-dfcd3e15ff39"
      },
      "execution_count": 46,
      "outputs": [
        {
          "output_type": "execute_result",
          "data": {
            "text/plain": [
              "array([[1, 2, 3]], dtype=object)"
            ]
          },
          "metadata": {},
          "execution_count": 46
        }
      ]
    },
    {
      "cell_type": "code",
      "source": [
        "np.array(N, dtype='int').transpose()"
      ],
      "metadata": {
        "colab": {
          "base_uri": "https://localhost:8080/"
        },
        "id": "bicBFIbaMUEJ",
        "outputId": "d4d5933a-5a08-43b4-cb44-3ff18829502b"
      },
      "execution_count": 47,
      "outputs": [
        {
          "output_type": "execute_result",
          "data": {
            "text/plain": [
              "array([[1, 2, 3]])"
            ]
          },
          "metadata": {},
          "execution_count": 47
        }
      ]
    },
    {
      "cell_type": "code",
      "source": [
        "np.transpose(np.array(N, dtype='int'))"
      ],
      "metadata": {
        "colab": {
          "base_uri": "https://localhost:8080/"
        },
        "id": "Oe0c6eN_McqZ",
        "outputId": "4c28dee7-535c-48d8-a261-91f45d57192b"
      },
      "execution_count": 48,
      "outputs": [
        {
          "output_type": "execute_result",
          "data": {
            "text/plain": [
              "array([[1, 2, 3]])"
            ]
          },
          "metadata": {},
          "execution_count": 48
        }
      ]
    },
    {
      "cell_type": "markdown",
      "source": [
        "### Row Matrix"
      ],
      "metadata": {
        "id": "WXW4ILqzJtyf"
      }
    },
    {
      "cell_type": "code",
      "source": [
        "R = Q[1,:]\n",
        "R"
      ],
      "metadata": {
        "colab": {
          "base_uri": "https://localhost:8080/"
        },
        "id": "YDFFUZaUJyaJ",
        "outputId": "bea10011-d5e6-482a-e671-e7a7a4996ad5"
      },
      "execution_count": 49,
      "outputs": [
        {
          "output_type": "execute_result",
          "data": {
            "text/plain": [
              "array([ 2, -1,  3])"
            ]
          },
          "metadata": {},
          "execution_count": 49
        }
      ]
    },
    {
      "cell_type": "code",
      "source": [
        "R.T"
      ],
      "metadata": {
        "colab": {
          "base_uri": "https://localhost:8080/"
        },
        "id": "OXq2sEbUNKc9",
        "outputId": "e7c66bd4-ceb0-43f6-dc08-5c52c6989780"
      },
      "execution_count": 50,
      "outputs": [
        {
          "output_type": "execute_result",
          "data": {
            "text/plain": [
              "array([ 2, -1,  3])"
            ]
          },
          "metadata": {},
          "execution_count": 50
        }
      ]
    },
    {
      "cell_type": "markdown",
      "source": [
        "### Identity Matrix"
      ],
      "metadata": {
        "id": "PDM__Z-LNYbf"
      }
    },
    {
      "cell_type": "code",
      "source": [
        "I"
      ],
      "metadata": {
        "colab": {
          "base_uri": "https://localhost:8080/",
          "height": 78
        },
        "id": "zUXIigCDNaLx",
        "outputId": "e75732e4-7f60-4d72-e2d6-8be9f359d60b"
      },
      "execution_count": 51,
      "outputs": [
        {
          "output_type": "execute_result",
          "data": {
            "text/plain": [
              "Matrix([\n",
              "[1, 0, 0],\n",
              "[0, 1, 0],\n",
              "[0, 0, 1]])"
            ],
            "text/latex": "$\\displaystyle \\left[\\begin{matrix}1 & 0 & 0\\\\0 & 1 & 0\\\\0 & 0 & 1\\end{matrix}\\right]$"
          },
          "metadata": {},
          "execution_count": 51
        }
      ]
    },
    {
      "cell_type": "code",
      "source": [
        "I.T"
      ],
      "metadata": {
        "colab": {
          "base_uri": "https://localhost:8080/",
          "height": 78
        },
        "id": "7Fp7o4RUNbb5",
        "outputId": "a4e32e72-4494-47ac-9814-afc543fba97c"
      },
      "execution_count": 52,
      "outputs": [
        {
          "output_type": "execute_result",
          "data": {
            "text/plain": [
              "Matrix([\n",
              "[1, 0, 0],\n",
              "[0, 1, 0],\n",
              "[0, 0, 1]])"
            ],
            "text/latex": "$\\displaystyle \\left[\\begin{matrix}1 & 0 & 0\\\\0 & 1 & 0\\\\0 & 0 & 1\\end{matrix}\\right]$"
          },
          "metadata": {},
          "execution_count": 52
        }
      ]
    },
    {
      "cell_type": "markdown",
      "source": [
        "## 2.2.1.4 Using Python to Find the Inverse of a Matrix"
      ],
      "metadata": {
        "id": "kLQv7bdKOEiR"
      }
    },
    {
      "cell_type": "code",
      "source": [
        "M = sym.Matrix([[1, 2, 3],\n",
        "                [4, 5, 6],\n",
        "                [7, 8, 9]])\n",
        "M"
      ],
      "metadata": {
        "colab": {
          "base_uri": "https://localhost:8080/",
          "height": 78
        },
        "id": "YCxQ-iYSOsFI",
        "outputId": "d0302acc-cd45-42c5-a2d5-ab7413464c15"
      },
      "execution_count": 53,
      "outputs": [
        {
          "output_type": "execute_result",
          "data": {
            "text/plain": [
              "Matrix([\n",
              "[1, 2, 3],\n",
              "[4, 5, 6],\n",
              "[7, 8, 9]])"
            ],
            "text/latex": "$\\displaystyle \\left[\\begin{matrix}1 & 2 & 3\\\\4 & 5 & 6\\\\7 & 8 & 9\\end{matrix}\\right]$"
          },
          "metadata": {},
          "execution_count": 53
        }
      ]
    },
    {
      "cell_type": "code",
      "source": [
        "M.det() # M is not invertible"
      ],
      "metadata": {
        "colab": {
          "base_uri": "https://localhost:8080/",
          "height": 37
        },
        "id": "WagvMgMtO4Ic",
        "outputId": "97cf2d7d-3e67-4bfd-b616-07adb76d13a4"
      },
      "execution_count": 54,
      "outputs": [
        {
          "output_type": "execute_result",
          "data": {
            "text/plain": [
              "0"
            ],
            "text/latex": "$\\displaystyle 0$"
          },
          "metadata": {},
          "execution_count": 54
        }
      ]
    },
    {
      "cell_type": "code",
      "source": [
        "M[2, 2] = 11\n",
        "M"
      ],
      "metadata": {
        "colab": {
          "base_uri": "https://localhost:8080/",
          "height": 78
        },
        "id": "Pol76gMrPMDT",
        "outputId": "ac6ac44e-6f1b-49ed-ffe9-67f2c8456ab6"
      },
      "execution_count": 55,
      "outputs": [
        {
          "output_type": "execute_result",
          "data": {
            "text/plain": [
              "Matrix([\n",
              "[1, 2,  3],\n",
              "[4, 5,  6],\n",
              "[7, 8, 11]])"
            ],
            "text/latex": "$\\displaystyle \\left[\\begin{matrix}1 & 2 & 3\\\\4 & 5 & 6\\\\7 & 8 & 11\\end{matrix}\\right]$"
          },
          "metadata": {},
          "execution_count": 55
        }
      ]
    },
    {
      "cell_type": "code",
      "source": [
        "M.det()"
      ],
      "metadata": {
        "colab": {
          "base_uri": "https://localhost:8080/",
          "height": 37
        },
        "id": "K0PpX9b2PSQS",
        "outputId": "c8b33786-64dd-4796-bac0-e80abbac7358"
      },
      "execution_count": 56,
      "outputs": [
        {
          "output_type": "execute_result",
          "data": {
            "text/plain": [
              "-6"
            ],
            "text/latex": "$\\displaystyle -6$"
          },
          "metadata": {},
          "execution_count": 56
        }
      ]
    },
    {
      "cell_type": "code",
      "source": [
        "M.inv()"
      ],
      "metadata": {
        "colab": {
          "base_uri": "https://localhost:8080/",
          "height": 78
        },
        "id": "sI_w30TfPTuO",
        "outputId": "3b58a387-12e1-4507-cbab-4eeb1abda46e"
      },
      "execution_count": 57,
      "outputs": [
        {
          "output_type": "execute_result",
          "data": {
            "text/plain": [
              "Matrix([\n",
              "[-7/6, -1/3, 1/2],\n",
              "[ 1/3,  5/3,  -1],\n",
              "[ 1/2,   -1, 1/2]])"
            ],
            "text/latex": "$\\displaystyle \\left[\\begin{matrix}- \\frac{7}{6} & - \\frac{1}{3} & \\frac{1}{2}\\\\\\frac{1}{3} & \\frac{5}{3} & -1\\\\\\frac{1}{2} & -1 & \\frac{1}{2}\\end{matrix}\\right]$"
          },
          "metadata": {},
          "execution_count": 57
        }
      ]
    },
    {
      "cell_type": "code",
      "source": [
        "T = sym.Matrix(np.random.randint(-7, 5, size=(6, 6)))\n",
        "T"
      ],
      "metadata": {
        "colab": {
          "base_uri": "https://localhost:8080/",
          "height": 139
        },
        "id": "W3jRc285PafX",
        "outputId": "954da166-c8b4-4cfa-b00b-1008d1b3407b"
      },
      "execution_count": 58,
      "outputs": [
        {
          "output_type": "execute_result",
          "data": {
            "text/plain": [
              "Matrix([\n",
              "[-7,  4, -2,  1, -6, -6],\n",
              "[ 2, -5, -5,  1,  0,  2],\n",
              "[-1, -3, -1, -4, -7, -3],\n",
              "[ 0, -4,  4, -1, -6, -5],\n",
              "[ 3, -5, -4, -6,  2, -2],\n",
              "[ 3, -1,  3,  1,  0,  2]])"
            ],
            "text/latex": "$\\displaystyle \\left[\\begin{matrix}-7 & 4 & -2 & 1 & -6 & -6\\\\2 & -5 & -5 & 1 & 0 & 2\\\\-1 & -3 & -1 & -4 & -7 & -3\\\\0 & -4 & 4 & -1 & -6 & -5\\\\3 & -5 & -4 & -6 & 2 & -2\\\\3 & -1 & 3 & 1 & 0 & 2\\end{matrix}\\right]$"
          },
          "metadata": {},
          "execution_count": 58
        }
      ]
    },
    {
      "cell_type": "code",
      "source": [
        "T.det()"
      ],
      "metadata": {
        "colab": {
          "base_uri": "https://localhost:8080/",
          "height": 37
        },
        "id": "0Vq96fj7PjRh",
        "outputId": "757e3a73-54ed-43e1-dc92-0f73031ef27d"
      },
      "execution_count": 59,
      "outputs": [
        {
          "output_type": "execute_result",
          "data": {
            "text/plain": [
              "-19335"
            ],
            "text/latex": "$\\displaystyle -19335$"
          },
          "metadata": {},
          "execution_count": 59
        }
      ]
    },
    {
      "cell_type": "code",
      "source": [
        "if T.det() != 0:\n",
        "    display(T.inv())\n",
        "else:\n",
        "    print('T is not invertible')"
      ],
      "metadata": {
        "colab": {
          "base_uri": "https://localhost:8080/",
          "height": 139
        },
        "id": "jYn0K1VJPweH",
        "outputId": "1ad3af46-b87e-45ca-a26d-5151f02ed1e6"
      },
      "execution_count": 60,
      "outputs": [
        {
          "output_type": "display_data",
          "data": {
            "text/plain": [
              "Matrix([\n",
              "[ 7384/19335,  103/6445, -1912/19335, -3184/19335,  5908/19335,  5641/6445],\n",
              "[ 5056/19335, -523/6445,  -178/19335, -3856/19335,  2977/19335,  3269/6445],\n",
              "[-3451/19335, -557/6445,   328/19335,  2326/19335, -2227/19335, -1534/6445],\n",
              "[ 2599/19335,  793/6445, -3082/19335,  1016/19335,    58/19335,  1131/6445],\n",
              "[-2212/19335, -174/6445, -2339/19335,  1687/19335,   -94/19335, -1833/6445],\n",
              "[ -1557/6445,   23/6445,   1276/6445,   -383/6445,  -1354/6445, -1869/6445]])"
            ],
            "text/latex": "$\\displaystyle \\left[\\begin{matrix}\\frac{7384}{19335} & \\frac{103}{6445} & - \\frac{1912}{19335} & - \\frac{3184}{19335} & \\frac{5908}{19335} & \\frac{5641}{6445}\\\\\\frac{5056}{19335} & - \\frac{523}{6445} & - \\frac{178}{19335} & - \\frac{3856}{19335} & \\frac{2977}{19335} & \\frac{3269}{6445}\\\\- \\frac{3451}{19335} & - \\frac{557}{6445} & \\frac{328}{19335} & \\frac{2326}{19335} & - \\frac{2227}{19335} & - \\frac{1534}{6445}\\\\\\frac{2599}{19335} & \\frac{793}{6445} & - \\frac{3082}{19335} & \\frac{1016}{19335} & \\frac{58}{19335} & \\frac{1131}{6445}\\\\- \\frac{2212}{19335} & - \\frac{174}{6445} & - \\frac{2339}{19335} & \\frac{1687}{19335} & - \\frac{94}{19335} & - \\frac{1833}{6445}\\\\- \\frac{1557}{6445} & \\frac{23}{6445} & \\frac{1276}{6445} & - \\frac{383}{6445} & - \\frac{1354}{6445} & - \\frac{1869}{6445}\\end{matrix}\\right]$"
          },
          "metadata": {}
        }
      ]
    },
    {
      "cell_type": "markdown",
      "source": [
        "### Special Matrices"
      ],
      "metadata": {
        "id": "tsJl26e9QfOA"
      }
    },
    {
      "cell_type": "markdown",
      "source": [
        "#### Identity Matrix"
      ],
      "metadata": {
        "id": "B3gO4VfiQ1FH"
      }
    },
    {
      "cell_type": "code",
      "source": [
        "I = sym.eye(3, 5)\n",
        "I.shape # can only find the inverse of a square matrix"
      ],
      "metadata": {
        "colab": {
          "base_uri": "https://localhost:8080/"
        },
        "id": "d1gxbyPsQhtH",
        "outputId": "ef7bce82-f388-4008-eae0-71d9f9e95b5f"
      },
      "execution_count": 61,
      "outputs": [
        {
          "output_type": "execute_result",
          "data": {
            "text/plain": [
              "(3, 5)"
            ]
          },
          "metadata": {},
          "execution_count": 61
        }
      ]
    },
    {
      "cell_type": "code",
      "source": [
        "I = sym.eye(3)\n",
        "I"
      ],
      "metadata": {
        "colab": {
          "base_uri": "https://localhost:8080/",
          "height": 78
        },
        "id": "XLIqtXUoSh7c",
        "outputId": "fb2efb1e-69dc-4974-c662-b2c7c7c6a4f5"
      },
      "execution_count": 62,
      "outputs": [
        {
          "output_type": "execute_result",
          "data": {
            "text/plain": [
              "Matrix([\n",
              "[1, 0, 0],\n",
              "[0, 1, 0],\n",
              "[0, 0, 1]])"
            ],
            "text/latex": "$\\displaystyle \\left[\\begin{matrix}1 & 0 & 0\\\\0 & 1 & 0\\\\0 & 0 & 1\\end{matrix}\\right]$"
          },
          "metadata": {},
          "execution_count": 62
        }
      ]
    },
    {
      "cell_type": "code",
      "source": [
        "I.inv()"
      ],
      "metadata": {
        "colab": {
          "base_uri": "https://localhost:8080/",
          "height": 78
        },
        "id": "D5NuSVbbSlU-",
        "outputId": "0d9db12f-fd43-4b6d-cd3a-0f2c95e04dec"
      },
      "execution_count": 63,
      "outputs": [
        {
          "output_type": "execute_result",
          "data": {
            "text/plain": [
              "Matrix([\n",
              "[1, 0, 0],\n",
              "[0, 1, 0],\n",
              "[0, 0, 1]])"
            ],
            "text/latex": "$\\displaystyle \\left[\\begin{matrix}1 & 0 & 0\\\\0 & 1 & 0\\\\0 & 0 & 1\\end{matrix}\\right]$"
          },
          "metadata": {},
          "execution_count": 63
        }
      ]
    },
    {
      "cell_type": "markdown",
      "source": [
        "#### Zero Matrix"
      ],
      "metadata": {
        "id": "lZBwCgKHStis"
      }
    },
    {
      "cell_type": "code",
      "source": [
        "O = sym.zeros(3)\n",
        "O"
      ],
      "metadata": {
        "colab": {
          "base_uri": "https://localhost:8080/",
          "height": 78
        },
        "id": "9LFwlf4bSwh-",
        "outputId": "94361ccb-53e2-4e1b-e620-42f29ae34bb6"
      },
      "execution_count": 64,
      "outputs": [
        {
          "output_type": "execute_result",
          "data": {
            "text/plain": [
              "Matrix([\n",
              "[0, 0, 0],\n",
              "[0, 0, 0],\n",
              "[0, 0, 0]])"
            ],
            "text/latex": "$\\displaystyle \\left[\\begin{matrix}0 & 0 & 0\\\\0 & 0 & 0\\\\0 & 0 & 0\\end{matrix}\\right]$"
          },
          "metadata": {},
          "execution_count": 64
        }
      ]
    },
    {
      "cell_type": "code",
      "source": [
        "O.det() # not invertible"
      ],
      "metadata": {
        "id": "9xNURGNLTAe9",
        "outputId": "2b2a0008-9334-4a66-baa4-7123d041e6b6",
        "colab": {
          "base_uri": "https://localhost:8080/",
          "height": 37
        }
      },
      "execution_count": 65,
      "outputs": [
        {
          "output_type": "execute_result",
          "data": {
            "text/plain": [
              "0"
            ],
            "text/latex": "$\\displaystyle 0$"
          },
          "metadata": {},
          "execution_count": 65
        }
      ]
    },
    {
      "cell_type": "markdown",
      "source": [
        "#### Matrix of all ones"
      ],
      "metadata": {
        "id": "ea88eFqnToZ9"
      }
    },
    {
      "cell_type": "code",
      "source": [
        "O = sym.ones(4)\n",
        "O"
      ],
      "metadata": {
        "colab": {
          "base_uri": "https://localhost:8080/",
          "height": 98
        },
        "id": "DgyKhkcDTm2S",
        "outputId": "8c184be0-0bf6-4c08-d643-b05516793f4a"
      },
      "execution_count": 66,
      "outputs": [
        {
          "output_type": "execute_result",
          "data": {
            "text/plain": [
              "Matrix([\n",
              "[1, 1, 1, 1],\n",
              "[1, 1, 1, 1],\n",
              "[1, 1, 1, 1],\n",
              "[1, 1, 1, 1]])"
            ],
            "text/latex": "$\\displaystyle \\left[\\begin{matrix}1 & 1 & 1 & 1\\\\1 & 1 & 1 & 1\\\\1 & 1 & 1 & 1\\\\1 & 1 & 1 & 1\\end{matrix}\\right]$"
          },
          "metadata": {},
          "execution_count": 66
        }
      ]
    },
    {
      "cell_type": "code",
      "source": [
        "O.det()"
      ],
      "metadata": {
        "colab": {
          "base_uri": "https://localhost:8080/",
          "height": 37
        },
        "id": "dmwMv0FXT2Dl",
        "outputId": "70e8baef-ae18-40f9-c26a-c2e07617c2e7"
      },
      "execution_count": 67,
      "outputs": [
        {
          "output_type": "execute_result",
          "data": {
            "text/plain": [
              "0"
            ],
            "text/latex": "$\\displaystyle 0$"
          },
          "metadata": {},
          "execution_count": 67
        }
      ]
    },
    {
      "cell_type": "code",
      "source": [
        "for i in range(2, 10):\n",
        "    O = sym.ones(i)\n",
        "    print(O.det())"
      ],
      "metadata": {
        "colab": {
          "base_uri": "https://localhost:8080/"
        },
        "id": "XD1E7MPJT_Ep",
        "outputId": "cc200742-cbf9-4cd3-90e5-ddbaa7151b4c"
      },
      "execution_count": 68,
      "outputs": [
        {
          "output_type": "stream",
          "name": "stdout",
          "text": [
            "0\n",
            "0\n",
            "0\n",
            "0\n",
            "0\n",
            "0\n",
            "0\n",
            "0\n"
          ]
        }
      ]
    },
    {
      "cell_type": "markdown",
      "source": [
        "#### Diagonal Matrix"
      ],
      "metadata": {
        "id": "0pgmi_xpUblT"
      }
    },
    {
      "cell_type": "code",
      "source": [
        "D = sym.diag(1, 2, 3)\n",
        "D"
      ],
      "metadata": {
        "colab": {
          "base_uri": "https://localhost:8080/",
          "height": 78
        },
        "id": "ZyhnGD1oUhry",
        "outputId": "4e6509a1-dbc7-4acc-892b-21da771b0c94"
      },
      "execution_count": 69,
      "outputs": [
        {
          "output_type": "execute_result",
          "data": {
            "text/plain": [
              "Matrix([\n",
              "[1, 0, 0],\n",
              "[0, 2, 0],\n",
              "[0, 0, 3]])"
            ],
            "text/latex": "$\\displaystyle \\left[\\begin{matrix}1 & 0 & 0\\\\0 & 2 & 0\\\\0 & 0 & 3\\end{matrix}\\right]$"
          },
          "metadata": {},
          "execution_count": 69
        }
      ]
    },
    {
      "cell_type": "code",
      "source": [
        "D.det()"
      ],
      "metadata": {
        "colab": {
          "base_uri": "https://localhost:8080/",
          "height": 37
        },
        "id": "ChfRQ-xfUmOe",
        "outputId": "07110b0c-abf6-4e3a-dfb9-83f70b1ccfd1"
      },
      "execution_count": 70,
      "outputs": [
        {
          "output_type": "execute_result",
          "data": {
            "text/plain": [
              "6"
            ],
            "text/latex": "$\\displaystyle 6$"
          },
          "metadata": {},
          "execution_count": 70
        }
      ]
    },
    {
      "cell_type": "code",
      "source": [
        "D.inv()"
      ],
      "metadata": {
        "colab": {
          "base_uri": "https://localhost:8080/",
          "height": 78
        },
        "id": "hyin2yUMUnsF",
        "outputId": "b3ecad89-b5c8-4fe7-dd05-29643e100e26"
      },
      "execution_count": 71,
      "outputs": [
        {
          "output_type": "execute_result",
          "data": {
            "text/plain": [
              "Matrix([\n",
              "[1,   0,   0],\n",
              "[0, 1/2,   0],\n",
              "[0,   0, 1/3]])"
            ],
            "text/latex": "$\\displaystyle \\left[\\begin{matrix}1 & 0 & 0\\\\0 & \\frac{1}{2} & 0\\\\0 & 0 & \\frac{1}{3}\\end{matrix}\\right]$"
          },
          "metadata": {},
          "execution_count": 71
        }
      ]
    },
    {
      "cell_type": "markdown",
      "source": [
        "## 2.2.1.5 Practice Quiz: Matrix Algebra Functions Using Python"
      ],
      "metadata": {
        "id": "foxOHkbWVHm6"
      }
    },
    {
      "cell_type": "code",
      "source": [
        "M.inv()"
      ],
      "metadata": {
        "colab": {
          "base_uri": "https://localhost:8080/",
          "height": 78
        },
        "id": "ihoXmhmsVO06",
        "outputId": "ed4b87dc-fd02-474a-e231-da756c6ce109"
      },
      "execution_count": 72,
      "outputs": [
        {
          "output_type": "execute_result",
          "data": {
            "text/plain": [
              "Matrix([\n",
              "[-7/6, -1/3, 1/2],\n",
              "[ 1/3,  5/3,  -1],\n",
              "[ 1/2,   -1, 1/2]])"
            ],
            "text/latex": "$\\displaystyle \\left[\\begin{matrix}- \\frac{7}{6} & - \\frac{1}{3} & \\frac{1}{2}\\\\\\frac{1}{3} & \\frac{5}{3} & -1\\\\\\frac{1}{2} & -1 & \\frac{1}{2}\\end{matrix}\\right]$"
          },
          "metadata": {},
          "execution_count": 72
        }
      ]
    },
    {
      "cell_type": "code",
      "source": [
        "A = sym.Matrix([[1, -1],\n",
        "                [2, 2]])\n",
        "A"
      ],
      "metadata": {
        "colab": {
          "base_uri": "https://localhost:8080/",
          "height": 58
        },
        "id": "c3oIJPaaVogx",
        "outputId": "e8a23aba-7039-4758-c8c9-d851cd69773a"
      },
      "execution_count": 73,
      "outputs": [
        {
          "output_type": "execute_result",
          "data": {
            "text/plain": [
              "Matrix([\n",
              "[1, -1],\n",
              "[2,  2]])"
            ],
            "text/latex": "$\\displaystyle \\left[\\begin{matrix}1 & -1\\\\2 & 2\\end{matrix}\\right]$"
          },
          "metadata": {},
          "execution_count": 73
        }
      ]
    },
    {
      "cell_type": "code",
      "source": [
        "B = sym.Matrix([[2, 0],\n",
        "                [0, -1]])\n",
        "B"
      ],
      "metadata": {
        "colab": {
          "base_uri": "https://localhost:8080/",
          "height": 58
        },
        "id": "4DjWScQ_Vx_s",
        "outputId": "2127088b-3f94-4f0d-ddaa-31f7ebc24c9e"
      },
      "execution_count": 74,
      "outputs": [
        {
          "output_type": "execute_result",
          "data": {
            "text/plain": [
              "Matrix([\n",
              "[2,  0],\n",
              "[0, -1]])"
            ],
            "text/latex": "$\\displaystyle \\left[\\begin{matrix}2 & 0\\\\0 & -1\\end{matrix}\\right]$"
          },
          "metadata": {},
          "execution_count": 74
        }
      ]
    },
    {
      "cell_type": "code",
      "source": [
        "A.inv() * B.inv()"
      ],
      "metadata": {
        "colab": {
          "base_uri": "https://localhost:8080/",
          "height": 58
        },
        "id": "zmd8TnAtWLok",
        "outputId": "d217dce3-2e01-48ed-ad03-dd992a3d0394"
      },
      "execution_count": 75,
      "outputs": [
        {
          "output_type": "execute_result",
          "data": {
            "text/plain": [
              "Matrix([\n",
              "[ 1/4, -1/4],\n",
              "[-1/4, -1/4]])"
            ],
            "text/latex": "$\\displaystyle \\left[\\begin{matrix}\\frac{1}{4} & - \\frac{1}{4}\\\\- \\frac{1}{4} & - \\frac{1}{4}\\end{matrix}\\right]$"
          },
          "metadata": {},
          "execution_count": 75
        }
      ]
    },
    {
      "cell_type": "code",
      "source": [
        "(B * A).inv()"
      ],
      "metadata": {
        "colab": {
          "base_uri": "https://localhost:8080/",
          "height": 58
        },
        "id": "SptACmPpWOQJ",
        "outputId": "90c64467-8c41-425e-e54e-60f9073e1bd7"
      },
      "execution_count": 76,
      "outputs": [
        {
          "output_type": "execute_result",
          "data": {
            "text/plain": [
              "Matrix([\n",
              "[ 1/4, -1/4],\n",
              "[-1/4, -1/4]])"
            ],
            "text/latex": "$\\displaystyle \\left[\\begin{matrix}\\frac{1}{4} & - \\frac{1}{4}\\\\- \\frac{1}{4} & - \\frac{1}{4}\\end{matrix}\\right]$"
          },
          "metadata": {},
          "execution_count": 76
        }
      ]
    },
    {
      "cell_type": "markdown",
      "source": [
        "## 2.2.1.6 Using Matrix Algebra in Python\n",
        "\n",
        "- This section focuses on using `numpy` rather than `sympy`"
      ],
      "metadata": {
        "id": "G31acOh3Wcrq"
      }
    },
    {
      "cell_type": "code",
      "source": [
        "L = np.linspace(-8, 8, 9)\n",
        "L"
      ],
      "metadata": {
        "colab": {
          "base_uri": "https://localhost:8080/"
        },
        "id": "KGdzJBXoXwy0",
        "outputId": "16428034-c255-473e-d07d-3db43d4146d7"
      },
      "execution_count": 77,
      "outputs": [
        {
          "output_type": "execute_result",
          "data": {
            "text/plain": [
              "array([-8., -6., -4., -2.,  0.,  2.,  4.,  6.,  8.])"
            ]
          },
          "metadata": {},
          "execution_count": 77
        }
      ]
    },
    {
      "cell_type": "code",
      "source": [
        "M = L.reshape(3, 3)\n",
        "M"
      ],
      "metadata": {
        "colab": {
          "base_uri": "https://localhost:8080/"
        },
        "id": "g79F4ICnX0w0",
        "outputId": "e8453178-a95d-47c2-dd32-21f7a05c6bfb"
      },
      "execution_count": 78,
      "outputs": [
        {
          "output_type": "execute_result",
          "data": {
            "text/plain": [
              "array([[-8., -6., -4.],\n",
              "       [-2.,  0.,  2.],\n",
              "       [ 4.,  6.,  8.]])"
            ]
          },
          "metadata": {},
          "execution_count": 78
        }
      ]
    },
    {
      "cell_type": "code",
      "source": [
        "N = np.random.randint(-8, 8, size=(3, 3))\n",
        "N"
      ],
      "metadata": {
        "colab": {
          "base_uri": "https://localhost:8080/"
        },
        "id": "sifJAE5Tcb-G",
        "outputId": "6297e8bf-7167-43a4-adfa-3a70e997fcd1"
      },
      "execution_count": 79,
      "outputs": [
        {
          "output_type": "execute_result",
          "data": {
            "text/plain": [
              "array([[ 4,  4, -5],\n",
              "       [ 1,  0, -3],\n",
              "       [-5, -2, -6]])"
            ]
          },
          "metadata": {},
          "execution_count": 79
        }
      ]
    },
    {
      "cell_type": "code",
      "source": [
        "A = np.array([[1, 2, 3],\n",
        "              [4, 5, 6]])\n",
        "A"
      ],
      "metadata": {
        "colab": {
          "base_uri": "https://localhost:8080/"
        },
        "id": "iU5YMCkMdgNp",
        "outputId": "2c152abf-7f99-4759-cb73-a7d3d044625a"
      },
      "execution_count": 80,
      "outputs": [
        {
          "output_type": "execute_result",
          "data": {
            "text/plain": [
              "array([[1, 2, 3],\n",
              "       [4, 5, 6]])"
            ]
          },
          "metadata": {},
          "execution_count": 80
        }
      ]
    },
    {
      "cell_type": "code",
      "source": [
        "B = np.array([[7, 2, -3],\n",
        "              [0, 1, 6]])\n",
        "B"
      ],
      "metadata": {
        "colab": {
          "base_uri": "https://localhost:8080/"
        },
        "id": "b3h9ZjwwdxLk",
        "outputId": "dcbcd50d-2c13-4a65-c9cd-531d1167a659"
      },
      "execution_count": 81,
      "outputs": [
        {
          "output_type": "execute_result",
          "data": {
            "text/plain": [
              "array([[ 7,  2, -3],\n",
              "       [ 0,  1,  6]])"
            ]
          },
          "metadata": {},
          "execution_count": 81
        }
      ]
    },
    {
      "cell_type": "markdown",
      "source": [
        "### Multiply Matrices"
      ],
      "metadata": {
        "id": "ojZWzNL0YDG3"
      }
    },
    {
      "cell_type": "code",
      "source": [
        "np.matmul(M, N)"
      ],
      "metadata": {
        "colab": {
          "base_uri": "https://localhost:8080/"
        },
        "id": "Bc-Def4Kc1iQ",
        "outputId": "90962f37-d7b9-4551-f4a2-545e9c4ab52d"
      },
      "execution_count": 82,
      "outputs": [
        {
          "output_type": "execute_result",
          "data": {
            "text/plain": [
              "array([[-18., -24.,  82.],\n",
              "       [-18., -12.,  -2.],\n",
              "       [-18.,   0., -86.]])"
            ]
          },
          "metadata": {},
          "execution_count": 82
        }
      ]
    },
    {
      "cell_type": "code",
      "source": [
        "M.dot(N)"
      ],
      "metadata": {
        "colab": {
          "base_uri": "https://localhost:8080/"
        },
        "id": "NNRQKf_nc7TO",
        "outputId": "762e7e9e-0a0f-448a-dcea-6bdae0e66116"
      },
      "execution_count": 83,
      "outputs": [
        {
          "output_type": "execute_result",
          "data": {
            "text/plain": [
              "array([[-18., -24.,  82.],\n",
              "       [-18., -12.,  -2.],\n",
              "       [-18.,   0., -86.]])"
            ]
          },
          "metadata": {},
          "execution_count": 83
        }
      ]
    },
    {
      "cell_type": "code",
      "source": [
        "np.dot(M, N)"
      ],
      "metadata": {
        "colab": {
          "base_uri": "https://localhost:8080/"
        },
        "id": "sLwxM0xYdBZa",
        "outputId": "b7d4bb7b-ab32-4a2c-d33c-017d24b99a79"
      },
      "execution_count": 84,
      "outputs": [
        {
          "output_type": "execute_result",
          "data": {
            "text/plain": [
              "array([[-18., -24.,  82.],\n",
              "       [-18., -12.,  -2.],\n",
              "       [-18.,   0., -86.]])"
            ]
          },
          "metadata": {},
          "execution_count": 84
        }
      ]
    },
    {
      "cell_type": "code",
      "source": [
        "M @ N"
      ],
      "metadata": {
        "colab": {
          "base_uri": "https://localhost:8080/"
        },
        "id": "PKu81EJRdDH6",
        "outputId": "115005e0-440a-4875-fe6f-ce647120fd30"
      },
      "execution_count": 85,
      "outputs": [
        {
          "output_type": "execute_result",
          "data": {
            "text/plain": [
              "array([[-18., -24.,  82.],\n",
              "       [-18., -12.,  -2.],\n",
              "       [-18.,   0., -86.]])"
            ]
          },
          "metadata": {},
          "execution_count": 85
        }
      ]
    },
    {
      "cell_type": "code",
      "source": [
        "# careful, does not work\n",
        "# this does element-wise multiplication\n",
        "M * N"
      ],
      "metadata": {
        "colab": {
          "base_uri": "https://localhost:8080/"
        },
        "id": "22mhpFvmdFfD",
        "outputId": "e99eaede-bfe9-4b33-8890-b7d1e0942ad6"
      },
      "execution_count": 86,
      "outputs": [
        {
          "output_type": "execute_result",
          "data": {
            "text/plain": [
              "array([[-32., -24.,  20.],\n",
              "       [ -2.,   0.,  -6.],\n",
              "       [-20., -12., -48.]])"
            ]
          },
          "metadata": {},
          "execution_count": 86
        }
      ]
    },
    {
      "cell_type": "code",
      "source": [
        "A.shape, B.shape\n",
        "# A @ B is not possible\n",
        "# B @ A is also not possible"
      ],
      "metadata": {
        "colab": {
          "base_uri": "https://localhost:8080/"
        },
        "id": "WQej98Acd8UU",
        "outputId": "ad3e8ff9-8762-40d4-d984-b3cab607c215"
      },
      "execution_count": 87,
      "outputs": [
        {
          "output_type": "execute_result",
          "data": {
            "text/plain": [
              "((2, 3), (2, 3))"
            ]
          },
          "metadata": {},
          "execution_count": 87
        }
      ]
    },
    {
      "cell_type": "code",
      "source": [
        "A.shape, B.T.shape"
      ],
      "metadata": {
        "colab": {
          "base_uri": "https://localhost:8080/"
        },
        "id": "3BNYzXv3ecHG",
        "outputId": "c8cd8a00-65ed-423f-ed22-2fe059349ae0"
      },
      "execution_count": 88,
      "outputs": [
        {
          "output_type": "execute_result",
          "data": {
            "text/plain": [
              "((2, 3), (3, 2))"
            ]
          },
          "metadata": {},
          "execution_count": 88
        }
      ]
    },
    {
      "cell_type": "code",
      "source": [
        "A @ B.T"
      ],
      "metadata": {
        "colab": {
          "base_uri": "https://localhost:8080/"
        },
        "id": "oaVCq7X6efu7",
        "outputId": "c2aea0a0-d9dd-48b6-d615-33a91a2a9361"
      },
      "execution_count": 89,
      "outputs": [
        {
          "output_type": "execute_result",
          "data": {
            "text/plain": [
              "array([[ 2, 20],\n",
              "       [20, 41]])"
            ]
          },
          "metadata": {},
          "execution_count": 89
        }
      ]
    },
    {
      "cell_type": "markdown",
      "source": [
        "### Determinant\n",
        "\n",
        "- A matrix with a determinant of 0, is called a **singular matrix**\n",
        "- Singular matrices are not invertible"
      ],
      "metadata": {
        "id": "bN0s1Yukeumq"
      }
    },
    {
      "cell_type": "code",
      "source": [
        "np.linalg.det(M)"
      ],
      "metadata": {
        "colab": {
          "base_uri": "https://localhost:8080/"
        },
        "id": "NqHgvfEqe4vB",
        "outputId": "8aeb1e89-6404-4c17-a738-fea455959263"
      },
      "execution_count": 90,
      "outputs": [
        {
          "output_type": "execute_result",
          "data": {
            "text/plain": [
              "0.0"
            ]
          },
          "metadata": {},
          "execution_count": 90
        }
      ]
    },
    {
      "cell_type": "code",
      "source": [
        "np.linalg.det(N)"
      ],
      "metadata": {
        "colab": {
          "base_uri": "https://localhost:8080/"
        },
        "id": "EwY8IUkAfR7x",
        "outputId": "d66710e1-5aa3-4c3c-aaa4-c4fecb19d369"
      },
      "execution_count": 91,
      "outputs": [
        {
          "output_type": "execute_result",
          "data": {
            "text/plain": [
              "69.99999999999996"
            ]
          },
          "metadata": {},
          "execution_count": 91
        }
      ]
    },
    {
      "cell_type": "markdown",
      "source": [
        "### Inverse"
      ],
      "metadata": {
        "id": "nsOy63JDf1mx"
      }
    },
    {
      "cell_type": "code",
      "source": [
        "if np.linalg.det(N) != 0:\n",
        "    print(np.linalg.inv(N))\n",
        "else:\n",
        "    print('`N` is not invertible')"
      ],
      "metadata": {
        "colab": {
          "base_uri": "https://localhost:8080/"
        },
        "id": "rrl6CftKfx9n",
        "outputId": "80e15059-14ed-4296-d4ab-3ecd525f4377"
      },
      "execution_count": 92,
      "outputs": [
        {
          "output_type": "stream",
          "name": "stdout",
          "text": [
            "[[-0.08571429  0.48571429 -0.17142857]\n",
            " [ 0.3        -0.7         0.1       ]\n",
            " [-0.02857143 -0.17142857 -0.05714286]]\n"
          ]
        }
      ]
    },
    {
      "cell_type": "markdown",
      "source": [
        "### Matrix Addition and Subtraction"
      ],
      "metadata": {
        "id": "Mr6d5yRMffHw"
      }
    },
    {
      "cell_type": "code",
      "source": [
        "M.shape, N.shape"
      ],
      "metadata": {
        "colab": {
          "base_uri": "https://localhost:8080/"
        },
        "id": "vl0-RWN-fWUz",
        "outputId": "ae859596-e96a-4103-b0ae-9c36463de950"
      },
      "execution_count": 93,
      "outputs": [
        {
          "output_type": "execute_result",
          "data": {
            "text/plain": [
              "((3, 3), (3, 3))"
            ]
          },
          "metadata": {},
          "execution_count": 93
        }
      ]
    },
    {
      "cell_type": "code",
      "source": [
        "M + N"
      ],
      "metadata": {
        "colab": {
          "base_uri": "https://localhost:8080/"
        },
        "id": "yAVzix0nfkji",
        "outputId": "cac500ca-b0f8-480a-a76f-e2e9d01bade5"
      },
      "execution_count": 94,
      "outputs": [
        {
          "output_type": "execute_result",
          "data": {
            "text/plain": [
              "array([[-4., -2., -9.],\n",
              "       [-1.,  0., -1.],\n",
              "       [-1.,  4.,  2.]])"
            ]
          },
          "metadata": {},
          "execution_count": 94
        }
      ]
    },
    {
      "cell_type": "code",
      "source": [
        "M - N"
      ],
      "metadata": {
        "colab": {
          "base_uri": "https://localhost:8080/"
        },
        "id": "6U4Jrk0WfmXi",
        "outputId": "ff6448e7-4bf5-4f1c-a392-f035eb4f3f48"
      },
      "execution_count": 95,
      "outputs": [
        {
          "output_type": "execute_result",
          "data": {
            "text/plain": [
              "array([[-12., -10.,   1.],\n",
              "       [ -3.,   0.,   5.],\n",
              "       [  9.,   8.,  14.]])"
            ]
          },
          "metadata": {},
          "execution_count": 95
        }
      ]
    },
    {
      "cell_type": "code",
      "source": [
        "N - M"
      ],
      "metadata": {
        "colab": {
          "base_uri": "https://localhost:8080/"
        },
        "id": "kXnjxUPjfnyd",
        "outputId": "25e457ea-1cb3-47c1-fcc0-76d2b3e31814"
      },
      "execution_count": 96,
      "outputs": [
        {
          "output_type": "execute_result",
          "data": {
            "text/plain": [
              "array([[ 12.,  10.,  -1.],\n",
              "       [  3.,   0.,  -5.],\n",
              "       [ -9.,  -8., -14.]])"
            ]
          },
          "metadata": {},
          "execution_count": 96
        }
      ]
    },
    {
      "cell_type": "code",
      "source": [
        "2 * M"
      ],
      "metadata": {
        "colab": {
          "base_uri": "https://localhost:8080/"
        },
        "id": "Y1DQgGw4hXlj",
        "outputId": "553f685e-5262-4dba-ff53-d9a3f192823a"
      },
      "execution_count": 97,
      "outputs": [
        {
          "output_type": "execute_result",
          "data": {
            "text/plain": [
              "array([[-16., -12.,  -8.],\n",
              "       [ -4.,   0.,   4.],\n",
              "       [  8.,  12.,  16.]])"
            ]
          },
          "metadata": {},
          "execution_count": 97
        }
      ]
    },
    {
      "cell_type": "markdown",
      "source": [
        "## 2.2.1.7 Quiz"
      ],
      "metadata": {
        "id": "5-fEAD5GheBv"
      }
    },
    {
      "cell_type": "code",
      "source": [
        "A = sym.Matrix([[2, 3],\n",
        "                [4, -1]])\n",
        "A"
      ],
      "metadata": {
        "colab": {
          "base_uri": "https://localhost:8080/",
          "height": 58
        },
        "id": "2BCNI6D4VbDz",
        "outputId": "08aa1a09-4ceb-4d70-f18a-f4e5abc7ce57"
      },
      "execution_count": 98,
      "outputs": [
        {
          "output_type": "execute_result",
          "data": {
            "text/plain": [
              "Matrix([\n",
              "[2,  3],\n",
              "[4, -1]])"
            ],
            "text/latex": "$\\displaystyle \\left[\\begin{matrix}2 & 3\\\\4 & -1\\end{matrix}\\right]$"
          },
          "metadata": {},
          "execution_count": 98
        }
      ]
    },
    {
      "cell_type": "code",
      "source": [
        "B = sym.Matrix([[1, 0],\n",
        "                [0, 5],\n",
        "                [-1, 1]])\n",
        "B"
      ],
      "metadata": {
        "colab": {
          "base_uri": "https://localhost:8080/",
          "height": 78
        },
        "id": "UR8JYA_UVfCQ",
        "outputId": "b72ddd81-b43d-4b61-e5ad-eaa996324ab9"
      },
      "execution_count": 99,
      "outputs": [
        {
          "output_type": "execute_result",
          "data": {
            "text/plain": [
              "Matrix([\n",
              "[ 1, 0],\n",
              "[ 0, 5],\n",
              "[-1, 1]])"
            ],
            "text/latex": "$\\displaystyle \\left[\\begin{matrix}1 & 0\\\\0 & 5\\\\-1 & 1\\end{matrix}\\right]$"
          },
          "metadata": {},
          "execution_count": 99
        }
      ]
    },
    {
      "cell_type": "code",
      "source": [
        "A.shape, B.shape"
      ],
      "metadata": {
        "colab": {
          "base_uri": "https://localhost:8080/"
        },
        "id": "4zyZo2tsVrYi",
        "outputId": "3d25fd9c-31cd-4af6-b5ef-5f83cabbc9a0"
      },
      "execution_count": 100,
      "outputs": [
        {
          "output_type": "execute_result",
          "data": {
            "text/plain": [
              "((2, 2), (3, 2))"
            ]
          },
          "metadata": {},
          "execution_count": 100
        }
      ]
    },
    {
      "cell_type": "code",
      "source": [
        "A * B.T"
      ],
      "metadata": {
        "colab": {
          "base_uri": "https://localhost:8080/",
          "height": 58
        },
        "id": "293PG_90XayO",
        "outputId": "68d8a66d-010b-4d2f-d2a2-1fa748df103a"
      },
      "execution_count": 101,
      "outputs": [
        {
          "output_type": "execute_result",
          "data": {
            "text/plain": [
              "Matrix([\n",
              "[2, 15,  1],\n",
              "[4, -5, -5]])"
            ],
            "text/latex": "$\\displaystyle \\left[\\begin{matrix}2 & 15 & 1\\\\4 & -5 & -5\\end{matrix}\\right]$"
          },
          "metadata": {},
          "execution_count": 101
        }
      ]
    },
    {
      "cell_type": "code",
      "source": [
        "A = sym.Matrix([[2, 1],\n",
        "                [0, -1]])\n",
        "A"
      ],
      "metadata": {
        "colab": {
          "base_uri": "https://localhost:8080/",
          "height": 58
        },
        "id": "0COL9z_LXrXE",
        "outputId": "070f592f-d7da-44e4-b889-ce590d87a92d"
      },
      "execution_count": 102,
      "outputs": [
        {
          "output_type": "execute_result",
          "data": {
            "text/plain": [
              "Matrix([\n",
              "[2,  1],\n",
              "[0, -1]])"
            ],
            "text/latex": "$\\displaystyle \\left[\\begin{matrix}2 & 1\\\\0 & -1\\end{matrix}\\right]$"
          },
          "metadata": {},
          "execution_count": 102
        }
      ]
    },
    {
      "cell_type": "code",
      "source": [
        "u = sym.Matrix([[4],\n",
        "                [-1]])\n",
        "u"
      ],
      "metadata": {
        "colab": {
          "base_uri": "https://localhost:8080/",
          "height": 58
        },
        "id": "xH-JKiAKXwiP",
        "outputId": "5f426629-2f35-4c44-b0f2-a22efd0bc85e"
      },
      "execution_count": 103,
      "outputs": [
        {
          "output_type": "execute_result",
          "data": {
            "text/plain": [
              "Matrix([\n",
              "[ 4],\n",
              "[-1]])"
            ],
            "text/latex": "$\\displaystyle \\left[\\begin{matrix}4\\\\-1\\end{matrix}\\right]$"
          },
          "metadata": {},
          "execution_count": 103
        }
      ]
    },
    {
      "cell_type": "code",
      "source": [
        "v = sym.Matrix([[-3],\n",
        "                [5]])\n",
        "v"
      ],
      "metadata": {
        "colab": {
          "base_uri": "https://localhost:8080/",
          "height": 58
        },
        "id": "hMAy5t6qX1k0",
        "outputId": "04a74533-938b-4576-fe00-d7a9bd905fbe"
      },
      "execution_count": 104,
      "outputs": [
        {
          "output_type": "execute_result",
          "data": {
            "text/plain": [
              "Matrix([\n",
              "[-3],\n",
              "[ 5]])"
            ],
            "text/latex": "$\\displaystyle \\left[\\begin{matrix}-3\\\\5\\end{matrix}\\right]$"
          },
          "metadata": {},
          "execution_count": 104
        }
      ]
    },
    {
      "cell_type": "code",
      "source": [
        "A * (2 * u + v)"
      ],
      "metadata": {
        "colab": {
          "base_uri": "https://localhost:8080/",
          "height": 58
        },
        "id": "jdbzgmmcX79U",
        "outputId": "7cf8a5f2-fe45-4e17-f158-cb19e52df085"
      },
      "execution_count": 105,
      "outputs": [
        {
          "output_type": "execute_result",
          "data": {
            "text/plain": [
              "Matrix([\n",
              "[13],\n",
              "[-3]])"
            ],
            "text/latex": "$\\displaystyle \\left[\\begin{matrix}13\\\\-3\\end{matrix}\\right]$"
          },
          "metadata": {},
          "execution_count": 105
        }
      ]
    }
  ]
}