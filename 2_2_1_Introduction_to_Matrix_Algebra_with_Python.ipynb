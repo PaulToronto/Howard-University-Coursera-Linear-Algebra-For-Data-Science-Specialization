{
  "nbformat": 4,
  "nbformat_minor": 0,
  "metadata": {
    "colab": {
      "provenance": [],
      "toc_visible": true,
      "authorship_tag": "ABX9TyM5/s9sKo7fNjngtHeIbL4O",
      "include_colab_link": true
    },
    "kernelspec": {
      "name": "python3",
      "display_name": "Python 3"
    },
    "language_info": {
      "name": "python"
    }
  },
  "cells": [
    {
      "cell_type": "markdown",
      "metadata": {
        "id": "view-in-github",
        "colab_type": "text"
      },
      "source": [
        "<a href=\"https://colab.research.google.com/github/PaulToronto/Howard-University-Coursera-Linear-Algebra-For-Data-Science-Specialization/blob/main/2_2_1_Introduction_to_Matrix_Algebra_with_Python.ipynb\" target=\"_parent\"><img src=\"https://colab.research.google.com/assets/colab-badge.svg\" alt=\"Open In Colab\"/></a>"
      ]
    },
    {
      "cell_type": "markdown",
      "source": [
        "# 2.2.1 Introduction to Matrix Algebra with Python"
      ],
      "metadata": {
        "id": "gww9TbBAbh4F"
      }
    },
    {
      "cell_type": "markdown",
      "source": [
        "## Imports"
      ],
      "metadata": {
        "id": "WiJhdU9Hb3j1"
      }
    },
    {
      "cell_type": "code",
      "source": [
        "import sympy as sym\n",
        "import numpy as np"
      ],
      "metadata": {
        "id": "Vrfd5YpKb6I8"
      },
      "execution_count": 1,
      "outputs": []
    },
    {
      "cell_type": "markdown",
      "source": [
        "## 2.2.1.1 Review of Matrix Arithmetic"
      ],
      "metadata": {
        "id": "0m7UXeVKb6qI"
      }
    },
    {
      "cell_type": "markdown",
      "source": [
        "### Example\n",
        "\n",
        "Write $2A(\\vec{u} + \\vec{v})$ as a single matrix."
      ],
      "metadata": {
        "id": "F_8gqhGlcqT9"
      }
    },
    {
      "cell_type": "code",
      "source": [
        "A = sym.Matrix([[2, 1],\n",
        "                [0, -4]])\n",
        "A"
      ],
      "metadata": {
        "colab": {
          "base_uri": "https://localhost:8080/",
          "height": 58
        },
        "id": "e6zaMlVfc3c6",
        "outputId": "4b60c5d6-478e-480f-d33b-ba69d3bfddc2"
      },
      "execution_count": 2,
      "outputs": [
        {
          "output_type": "execute_result",
          "data": {
            "text/plain": [
              "Matrix([\n",
              "[2,  1],\n",
              "[0, -4]])"
            ],
            "text/latex": "$\\displaystyle \\left[\\begin{matrix}2 & 1\\\\0 & -4\\end{matrix}\\right]$"
          },
          "metadata": {},
          "execution_count": 2
        }
      ]
    },
    {
      "cell_type": "code",
      "source": [
        "u = sym.Matrix([[4],\n",
        "                [-1]])\n",
        "u"
      ],
      "metadata": {
        "colab": {
          "base_uri": "https://localhost:8080/",
          "height": 58
        },
        "id": "QckkRdoidAcS",
        "outputId": "c3cd8249-149e-4934-ed1b-6070a8e566d3"
      },
      "execution_count": 3,
      "outputs": [
        {
          "output_type": "execute_result",
          "data": {
            "text/plain": [
              "Matrix([\n",
              "[ 4],\n",
              "[-1]])"
            ],
            "text/latex": "$\\displaystyle \\left[\\begin{matrix}4\\\\-1\\end{matrix}\\right]$"
          },
          "metadata": {},
          "execution_count": 3
        }
      ]
    },
    {
      "cell_type": "code",
      "source": [
        "v = sym.Matrix([[-3],\n",
        "                [5]])\n",
        "v"
      ],
      "metadata": {
        "colab": {
          "base_uri": "https://localhost:8080/",
          "height": 58
        },
        "id": "eULzIMm1dGHV",
        "outputId": "e0b2a493-d30e-4fa0-d1fc-9d7dddb6f4b4"
      },
      "execution_count": 4,
      "outputs": [
        {
          "output_type": "execute_result",
          "data": {
            "text/plain": [
              "Matrix([\n",
              "[-3],\n",
              "[ 5]])"
            ],
            "text/latex": "$\\displaystyle \\left[\\begin{matrix}-3\\\\5\\end{matrix}\\right]$"
          },
          "metadata": {},
          "execution_count": 4
        }
      ]
    },
    {
      "cell_type": "code",
      "source": [
        "2 * A * (u + v)"
      ],
      "metadata": {
        "colab": {
          "base_uri": "https://localhost:8080/",
          "height": 58
        },
        "id": "c_kCxCvSdemk",
        "outputId": "4fa47648-e1e3-4edb-9b8f-1535c290d5d5"
      },
      "execution_count": 5,
      "outputs": [
        {
          "output_type": "execute_result",
          "data": {
            "text/plain": [
              "Matrix([\n",
              "[ 12],\n",
              "[-32]])"
            ],
            "text/latex": "$\\displaystyle \\left[\\begin{matrix}12\\\\-32\\end{matrix}\\right]$"
          },
          "metadata": {},
          "execution_count": 5
        }
      ]
    },
    {
      "cell_type": "markdown",
      "source": [
        "### Example\n",
        "\n",
        "Find and simplify:\n",
        "\n",
        "1. $B(A^{-1}B)^{-1}$\n",
        "2. $(A^{T} - B)^{T}$"
      ],
      "metadata": {
        "id": "zt1TRmqmeDAR"
      }
    },
    {
      "cell_type": "code",
      "source": [
        "A = sym.Matrix([[1, 0, 1],\n",
        "                [0, 3, 0],\n",
        "                [1, 0, 5]])\n",
        "A"
      ],
      "metadata": {
        "colab": {
          "base_uri": "https://localhost:8080/",
          "height": 78
        },
        "id": "PjSb_NXzedD3",
        "outputId": "a70e21c7-8b22-4aec-a360-84529249c329"
      },
      "execution_count": 6,
      "outputs": [
        {
          "output_type": "execute_result",
          "data": {
            "text/plain": [
              "Matrix([\n",
              "[1, 0, 1],\n",
              "[0, 3, 0],\n",
              "[1, 0, 5]])"
            ],
            "text/latex": "$\\displaystyle \\left[\\begin{matrix}1 & 0 & 1\\\\0 & 3 & 0\\\\1 & 0 & 5\\end{matrix}\\right]$"
          },
          "metadata": {},
          "execution_count": 6
        }
      ]
    },
    {
      "cell_type": "code",
      "source": [
        "B = sym.Matrix([[-1, 0, 1],\n",
        "                [0, 5, 6],\n",
        "                [3, 0, 1]])\n",
        "B"
      ],
      "metadata": {
        "colab": {
          "base_uri": "https://localhost:8080/",
          "height": 78
        },
        "id": "UGRy098XelIS",
        "outputId": "f9673978-4097-40db-8210-3a54246a6214"
      },
      "execution_count": 7,
      "outputs": [
        {
          "output_type": "execute_result",
          "data": {
            "text/plain": [
              "Matrix([\n",
              "[-1, 0, 1],\n",
              "[ 0, 5, 6],\n",
              "[ 3, 0, 1]])"
            ],
            "text/latex": "$\\displaystyle \\left[\\begin{matrix}-1 & 0 & 1\\\\0 & 5 & 6\\\\3 & 0 & 1\\end{matrix}\\right]$"
          },
          "metadata": {},
          "execution_count": 7
        }
      ]
    },
    {
      "cell_type": "code",
      "source": [
        "# 1.\n",
        "B @ (A.inv() @ B).inv()"
      ],
      "metadata": {
        "colab": {
          "base_uri": "https://localhost:8080/",
          "height": 78
        },
        "id": "BRYOeBK8ueUN",
        "outputId": "0172545b-fbb3-4d53-a850-3ff3d3ddd6e6"
      },
      "execution_count": 8,
      "outputs": [
        {
          "output_type": "execute_result",
          "data": {
            "text/plain": [
              "Matrix([\n",
              "[1, 0, 1],\n",
              "[0, 3, 0],\n",
              "[1, 0, 5]])"
            ],
            "text/latex": "$\\displaystyle \\left[\\begin{matrix}1 & 0 & 1\\\\0 & 3 & 0\\\\1 & 0 & 5\\end{matrix}\\right]$"
          },
          "metadata": {},
          "execution_count": 8
        }
      ]
    },
    {
      "cell_type": "code",
      "source": [
        "# 2.\n",
        "(A.T - B).T"
      ],
      "metadata": {
        "colab": {
          "base_uri": "https://localhost:8080/",
          "height": 78
        },
        "id": "xAvBmdVxyIDC",
        "outputId": "fe579d5d-d700-4154-aa32-1f0ce4446d59"
      },
      "execution_count": 9,
      "outputs": [
        {
          "output_type": "execute_result",
          "data": {
            "text/plain": [
              "Matrix([\n",
              "[2,  0, -2],\n",
              "[0, -2,  0],\n",
              "[0, -6,  4]])"
            ],
            "text/latex": "$\\displaystyle \\left[\\begin{matrix}2 & 0 & -2\\\\0 & -2 & 0\\\\0 & -6 & 4\\end{matrix}\\right]$"
          },
          "metadata": {},
          "execution_count": 9
        }
      ]
    },
    {
      "cell_type": "markdown",
      "source": [
        "Same thing, using `numpy`"
      ],
      "metadata": {
        "id": "jbzV9wpFy7oS"
      }
    },
    {
      "cell_type": "code",
      "source": [
        "Anp = np.array(A, dtype='int')\n",
        "Anp"
      ],
      "metadata": {
        "colab": {
          "base_uri": "https://localhost:8080/"
        },
        "id": "rqtIaSnqzIXB",
        "outputId": "f07a04d6-b2d8-432c-cac4-49463eb23689"
      },
      "execution_count": 10,
      "outputs": [
        {
          "output_type": "execute_result",
          "data": {
            "text/plain": [
              "array([[1, 0, 1],\n",
              "       [0, 3, 0],\n",
              "       [1, 0, 5]])"
            ]
          },
          "metadata": {},
          "execution_count": 10
        }
      ]
    },
    {
      "cell_type": "code",
      "source": [
        "Bnp = np.array(B, dtype='int')\n",
        "Bnp"
      ],
      "metadata": {
        "colab": {
          "base_uri": "https://localhost:8080/"
        },
        "id": "PJ9Zg4yH0M0M",
        "outputId": "a3bdc1dd-63ad-4b53-eb27-126714856222"
      },
      "execution_count": 11,
      "outputs": [
        {
          "output_type": "execute_result",
          "data": {
            "text/plain": [
              "array([[-1,  0,  1],\n",
              "       [ 0,  5,  6],\n",
              "       [ 3,  0,  1]])"
            ]
          },
          "metadata": {},
          "execution_count": 11
        }
      ]
    },
    {
      "cell_type": "code",
      "source": [
        "# 1.\n",
        "Bnp @ np.linalg.inv(np.linalg.inv(Anp) @ Bnp)"
      ],
      "metadata": {
        "colab": {
          "base_uri": "https://localhost:8080/"
        },
        "id": "OFvBzKvW0SHk",
        "outputId": "4311ac90-cb01-40ba-9f19-c9d51b4db11a"
      },
      "execution_count": 12,
      "outputs": [
        {
          "output_type": "execute_result",
          "data": {
            "text/plain": [
              "array([[ 1.00000000e+00,  0.00000000e+00,  1.00000000e+00],\n",
              "       [-8.88178420e-16,  3.00000000e+00, -1.77635684e-15],\n",
              "       [ 1.00000000e+00,  0.00000000e+00,  5.00000000e+00]])"
            ]
          },
          "metadata": {},
          "execution_count": 12
        }
      ]
    },
    {
      "cell_type": "code",
      "source": [
        "# 2.\n",
        "np.transpose(np.transpose(Anp) - Bnp)"
      ],
      "metadata": {
        "colab": {
          "base_uri": "https://localhost:8080/"
        },
        "id": "ym25IkLB1y5c",
        "outputId": "9e755c56-eff6-4e2f-f812-bceefcd94ce9"
      },
      "execution_count": 13,
      "outputs": [
        {
          "output_type": "execute_result",
          "data": {
            "text/plain": [
              "array([[ 2,  0, -2],\n",
              "       [ 0, -2,  0],\n",
              "       [ 0, -6,  4]])"
            ]
          },
          "metadata": {},
          "execution_count": 13
        }
      ]
    },
    {
      "cell_type": "markdown",
      "source": [
        "### Some Matrix Rules\n",
        "\n",
        "1. $(AB)^{-1} = B^{-1}A^{-1}$\n",
        "2. $(A^{T})^{T} = A$\n",
        "3. $(A + B)^{T} = A^{T} + B^{T}$"
      ],
      "metadata": {
        "id": "dC5Z5sZP4d5b"
      }
    },
    {
      "cell_type": "markdown",
      "source": [
        "In light of these rules, lets revisit the previous example. ***We already know that A and B are invertible, which is important.***\n",
        "\n",
        "Find and simplify:\n",
        "\n",
        "1. $B(A^{-1}B)^{-1}$\n",
        "2. $(A^{T} - B)^{T}$"
      ],
      "metadata": {
        "id": "W50RfBB33a_W"
      }
    },
    {
      "cell_type": "markdown",
      "source": [
        "$$\n",
        "\\begin{align}\n",
        "B(A^{-1}B)^{-1} &= B(B^{-1}A) \\\\\n",
        "&= IA \\\\\n",
        "&= A\n",
        "\\end{align}\n",
        "$$"
      ],
      "metadata": {
        "id": "J7Ft8rfc5d4e"
      }
    },
    {
      "cell_type": "code",
      "source": [
        "A"
      ],
      "metadata": {
        "colab": {
          "base_uri": "https://localhost:8080/",
          "height": 78
        },
        "id": "TVJZAstK61py",
        "outputId": "4b271005-77d5-4719-aac7-286eecea5d79"
      },
      "execution_count": 14,
      "outputs": [
        {
          "output_type": "execute_result",
          "data": {
            "text/plain": [
              "Matrix([\n",
              "[1, 0, 1],\n",
              "[0, 3, 0],\n",
              "[1, 0, 5]])"
            ],
            "text/latex": "$\\displaystyle \\left[\\begin{matrix}1 & 0 & 1\\\\0 & 3 & 0\\\\1 & 0 & 5\\end{matrix}\\right]$"
          },
          "metadata": {},
          "execution_count": 14
        }
      ]
    },
    {
      "cell_type": "markdown",
      "source": [
        "$$\n",
        "\\begin{align}\n",
        "(A^{T} - B)^{T} &= (A^{T})^{T} - B^{T} \\\\\n",
        "&= A - B^{T}\n",
        "\\end{align}\n",
        "$$"
      ],
      "metadata": {
        "id": "Q7F2y9T958OM"
      }
    },
    {
      "cell_type": "code",
      "source": [
        "A - B.T"
      ],
      "metadata": {
        "colab": {
          "base_uri": "https://localhost:8080/",
          "height": 78
        },
        "id": "TRa2oXG26f6G",
        "outputId": "5d92b43e-dca9-4a63-e4d6-632e4cc2c4b3"
      },
      "execution_count": 15,
      "outputs": [
        {
          "output_type": "execute_result",
          "data": {
            "text/plain": [
              "Matrix([\n",
              "[2,  0, -2],\n",
              "[0, -2,  0],\n",
              "[0, -6,  4]])"
            ],
            "text/latex": "$\\displaystyle \\left[\\begin{matrix}2 & 0 & -2\\\\0 & -2 & 0\\\\0 & -6 & 4\\end{matrix}\\right]$"
          },
          "metadata": {},
          "execution_count": 15
        }
      ]
    },
    {
      "cell_type": "markdown",
      "source": [
        "## 2.2.1.2 Review Matrix Algebra in Python"
      ],
      "metadata": {
        "id": "zAKovOlP7gXe"
      }
    }
  ]
}