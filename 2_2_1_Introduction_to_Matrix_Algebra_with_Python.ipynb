{
  "nbformat": 4,
  "nbformat_minor": 0,
  "metadata": {
    "colab": {
      "provenance": [],
      "toc_visible": true,
      "authorship_tag": "ABX9TyPjX8VTOviVQHO88H/e82HX",
      "include_colab_link": true
    },
    "kernelspec": {
      "name": "python3",
      "display_name": "Python 3"
    },
    "language_info": {
      "name": "python"
    }
  },
  "cells": [
    {
      "cell_type": "markdown",
      "metadata": {
        "id": "view-in-github",
        "colab_type": "text"
      },
      "source": [
        "<a href=\"https://colab.research.google.com/github/PaulToronto/Howard-University-Coursera-Linear-Algebra-For-Data-Science-Specialization/blob/main/2_2_1_Introduction_to_Matrix_Algebra_with_Python.ipynb\" target=\"_parent\"><img src=\"https://colab.research.google.com/assets/colab-badge.svg\" alt=\"Open In Colab\"/></a>"
      ]
    },
    {
      "cell_type": "markdown",
      "source": [
        "# 2.2.1 Introduction to Matrix Algebra with Python"
      ],
      "metadata": {
        "id": "gww9TbBAbh4F"
      }
    },
    {
      "cell_type": "markdown",
      "source": [
        "## Imports"
      ],
      "metadata": {
        "id": "WiJhdU9Hb3j1"
      }
    },
    {
      "cell_type": "code",
      "source": [
        "import sympy as sym\n",
        "import numpy as np\n",
        "import random"
      ],
      "metadata": {
        "id": "Vrfd5YpKb6I8"
      },
      "execution_count": 1,
      "outputs": []
    },
    {
      "cell_type": "markdown",
      "source": [
        "## 2.2.1.1 Review of Matrix Arithmetic"
      ],
      "metadata": {
        "id": "0m7UXeVKb6qI"
      }
    },
    {
      "cell_type": "markdown",
      "source": [
        "### Example\n",
        "\n",
        "Write $2A(\\vec{u} + \\vec{v})$ as a single matrix."
      ],
      "metadata": {
        "id": "F_8gqhGlcqT9"
      }
    },
    {
      "cell_type": "code",
      "source": [
        "A = sym.Matrix([[2, 1],\n",
        "                [0, -4]])\n",
        "A"
      ],
      "metadata": {
        "colab": {
          "base_uri": "https://localhost:8080/",
          "height": 58
        },
        "id": "e6zaMlVfc3c6",
        "outputId": "d8ce5dc0-de90-428c-cb97-ed2266f76dd5"
      },
      "execution_count": 2,
      "outputs": [
        {
          "output_type": "execute_result",
          "data": {
            "text/plain": [
              "Matrix([\n",
              "[2,  1],\n",
              "[0, -4]])"
            ],
            "text/latex": "$\\displaystyle \\left[\\begin{matrix}2 & 1\\\\0 & -4\\end{matrix}\\right]$"
          },
          "metadata": {},
          "execution_count": 2
        }
      ]
    },
    {
      "cell_type": "code",
      "source": [
        "u = sym.Matrix([[4],\n",
        "                [-1]])\n",
        "u"
      ],
      "metadata": {
        "colab": {
          "base_uri": "https://localhost:8080/",
          "height": 58
        },
        "id": "QckkRdoidAcS",
        "outputId": "ba367f77-0a9c-4623-938d-8c8a3eb33cf3"
      },
      "execution_count": 3,
      "outputs": [
        {
          "output_type": "execute_result",
          "data": {
            "text/plain": [
              "Matrix([\n",
              "[ 4],\n",
              "[-1]])"
            ],
            "text/latex": "$\\displaystyle \\left[\\begin{matrix}4\\\\-1\\end{matrix}\\right]$"
          },
          "metadata": {},
          "execution_count": 3
        }
      ]
    },
    {
      "cell_type": "code",
      "source": [
        "v = sym.Matrix([[-3],\n",
        "                [5]])\n",
        "v"
      ],
      "metadata": {
        "colab": {
          "base_uri": "https://localhost:8080/",
          "height": 58
        },
        "id": "eULzIMm1dGHV",
        "outputId": "8c8fa114-b37a-4a90-d20a-13f925e481c6"
      },
      "execution_count": 4,
      "outputs": [
        {
          "output_type": "execute_result",
          "data": {
            "text/plain": [
              "Matrix([\n",
              "[-3],\n",
              "[ 5]])"
            ],
            "text/latex": "$\\displaystyle \\left[\\begin{matrix}-3\\\\5\\end{matrix}\\right]$"
          },
          "metadata": {},
          "execution_count": 4
        }
      ]
    },
    {
      "cell_type": "code",
      "source": [
        "2 * A * (u + v)"
      ],
      "metadata": {
        "colab": {
          "base_uri": "https://localhost:8080/",
          "height": 58
        },
        "id": "c_kCxCvSdemk",
        "outputId": "f7988916-3e59-4281-c0b4-55288d519b27"
      },
      "execution_count": 5,
      "outputs": [
        {
          "output_type": "execute_result",
          "data": {
            "text/plain": [
              "Matrix([\n",
              "[ 12],\n",
              "[-32]])"
            ],
            "text/latex": "$\\displaystyle \\left[\\begin{matrix}12\\\\-32\\end{matrix}\\right]$"
          },
          "metadata": {},
          "execution_count": 5
        }
      ]
    },
    {
      "cell_type": "markdown",
      "source": [
        "### Example\n",
        "\n",
        "Find and simplify:\n",
        "\n",
        "1. $B(A^{-1}B)^{-1}$\n",
        "2. $(A^{T} - B)^{T}$"
      ],
      "metadata": {
        "id": "zt1TRmqmeDAR"
      }
    },
    {
      "cell_type": "code",
      "source": [
        "A = sym.Matrix([[1, 0, 1],\n",
        "                [0, 3, 0],\n",
        "                [1, 0, 5]])\n",
        "A"
      ],
      "metadata": {
        "colab": {
          "base_uri": "https://localhost:8080/",
          "height": 78
        },
        "id": "PjSb_NXzedD3",
        "outputId": "191ae25a-5fdb-4ed0-9319-1ae282269046"
      },
      "execution_count": 6,
      "outputs": [
        {
          "output_type": "execute_result",
          "data": {
            "text/plain": [
              "Matrix([\n",
              "[1, 0, 1],\n",
              "[0, 3, 0],\n",
              "[1, 0, 5]])"
            ],
            "text/latex": "$\\displaystyle \\left[\\begin{matrix}1 & 0 & 1\\\\0 & 3 & 0\\\\1 & 0 & 5\\end{matrix}\\right]$"
          },
          "metadata": {},
          "execution_count": 6
        }
      ]
    },
    {
      "cell_type": "code",
      "source": [
        "B = sym.Matrix([[-1, 0, 1],\n",
        "                [0, 5, 6],\n",
        "                [3, 0, 1]])\n",
        "B"
      ],
      "metadata": {
        "colab": {
          "base_uri": "https://localhost:8080/",
          "height": 78
        },
        "id": "UGRy098XelIS",
        "outputId": "801b814a-52bc-4c97-c7cf-acd7afb959f7"
      },
      "execution_count": 7,
      "outputs": [
        {
          "output_type": "execute_result",
          "data": {
            "text/plain": [
              "Matrix([\n",
              "[-1, 0, 1],\n",
              "[ 0, 5, 6],\n",
              "[ 3, 0, 1]])"
            ],
            "text/latex": "$\\displaystyle \\left[\\begin{matrix}-1 & 0 & 1\\\\0 & 5 & 6\\\\3 & 0 & 1\\end{matrix}\\right]$"
          },
          "metadata": {},
          "execution_count": 7
        }
      ]
    },
    {
      "cell_type": "code",
      "source": [
        "# 1.\n",
        "B @ (A.inv() @ B).inv()"
      ],
      "metadata": {
        "colab": {
          "base_uri": "https://localhost:8080/",
          "height": 78
        },
        "id": "BRYOeBK8ueUN",
        "outputId": "12aa308a-53b9-47e5-ac7c-3ec9e54c81fa"
      },
      "execution_count": 8,
      "outputs": [
        {
          "output_type": "execute_result",
          "data": {
            "text/plain": [
              "Matrix([\n",
              "[1, 0, 1],\n",
              "[0, 3, 0],\n",
              "[1, 0, 5]])"
            ],
            "text/latex": "$\\displaystyle \\left[\\begin{matrix}1 & 0 & 1\\\\0 & 3 & 0\\\\1 & 0 & 5\\end{matrix}\\right]$"
          },
          "metadata": {},
          "execution_count": 8
        }
      ]
    },
    {
      "cell_type": "code",
      "source": [
        "# 2.\n",
        "(A.T - B).T"
      ],
      "metadata": {
        "colab": {
          "base_uri": "https://localhost:8080/",
          "height": 78
        },
        "id": "xAvBmdVxyIDC",
        "outputId": "23e044a1-6721-4a3b-b553-407cd234cda9"
      },
      "execution_count": 9,
      "outputs": [
        {
          "output_type": "execute_result",
          "data": {
            "text/plain": [
              "Matrix([\n",
              "[2,  0, -2],\n",
              "[0, -2,  0],\n",
              "[0, -6,  4]])"
            ],
            "text/latex": "$\\displaystyle \\left[\\begin{matrix}2 & 0 & -2\\\\0 & -2 & 0\\\\0 & -6 & 4\\end{matrix}\\right]$"
          },
          "metadata": {},
          "execution_count": 9
        }
      ]
    },
    {
      "cell_type": "markdown",
      "source": [
        "Same thing, using `numpy`"
      ],
      "metadata": {
        "id": "jbzV9wpFy7oS"
      }
    },
    {
      "cell_type": "code",
      "source": [
        "Anp = np.array(A, dtype='int')\n",
        "Anp"
      ],
      "metadata": {
        "colab": {
          "base_uri": "https://localhost:8080/"
        },
        "id": "rqtIaSnqzIXB",
        "outputId": "1c26550f-7a51-418c-a033-c169a0ed74a4"
      },
      "execution_count": 10,
      "outputs": [
        {
          "output_type": "execute_result",
          "data": {
            "text/plain": [
              "array([[1, 0, 1],\n",
              "       [0, 3, 0],\n",
              "       [1, 0, 5]])"
            ]
          },
          "metadata": {},
          "execution_count": 10
        }
      ]
    },
    {
      "cell_type": "code",
      "source": [
        "Bnp = np.array(B, dtype='int')\n",
        "Bnp"
      ],
      "metadata": {
        "colab": {
          "base_uri": "https://localhost:8080/"
        },
        "id": "PJ9Zg4yH0M0M",
        "outputId": "7d041a6a-9173-45da-b75f-6b5d4e539233"
      },
      "execution_count": 11,
      "outputs": [
        {
          "output_type": "execute_result",
          "data": {
            "text/plain": [
              "array([[-1,  0,  1],\n",
              "       [ 0,  5,  6],\n",
              "       [ 3,  0,  1]])"
            ]
          },
          "metadata": {},
          "execution_count": 11
        }
      ]
    },
    {
      "cell_type": "code",
      "source": [
        "# 1.\n",
        "Bnp @ np.linalg.inv(np.linalg.inv(Anp) @ Bnp)"
      ],
      "metadata": {
        "colab": {
          "base_uri": "https://localhost:8080/"
        },
        "id": "OFvBzKvW0SHk",
        "outputId": "8f034485-8965-4c76-85a7-8a2103a496a5"
      },
      "execution_count": 12,
      "outputs": [
        {
          "output_type": "execute_result",
          "data": {
            "text/plain": [
              "array([[ 1.00000000e+00,  0.00000000e+00,  1.00000000e+00],\n",
              "       [-8.88178420e-16,  3.00000000e+00, -1.77635684e-15],\n",
              "       [ 1.00000000e+00,  0.00000000e+00,  5.00000000e+00]])"
            ]
          },
          "metadata": {},
          "execution_count": 12
        }
      ]
    },
    {
      "cell_type": "code",
      "source": [
        "# 2.\n",
        "np.transpose(np.transpose(Anp) - Bnp)"
      ],
      "metadata": {
        "colab": {
          "base_uri": "https://localhost:8080/"
        },
        "id": "ym25IkLB1y5c",
        "outputId": "5cbc1472-16d3-407c-882b-047daa86bab2"
      },
      "execution_count": 13,
      "outputs": [
        {
          "output_type": "execute_result",
          "data": {
            "text/plain": [
              "array([[ 2,  0, -2],\n",
              "       [ 0, -2,  0],\n",
              "       [ 0, -6,  4]])"
            ]
          },
          "metadata": {},
          "execution_count": 13
        }
      ]
    },
    {
      "cell_type": "markdown",
      "source": [
        "### Some Matrix Rules\n",
        "\n",
        "1. $(AB)^{-1} = B^{-1}A^{-1}$\n",
        "2. $(A^{T})^{T} = A$\n",
        "3. $(A + B)^{T} = A^{T} + B^{T}$"
      ],
      "metadata": {
        "id": "dC5Z5sZP4d5b"
      }
    },
    {
      "cell_type": "markdown",
      "source": [
        "In light of these rules, lets revisit the previous example. ***We already know that A and B are invertible, which is important.***\n",
        "\n",
        "Find and simplify:\n",
        "\n",
        "1. $B(A^{-1}B)^{-1}$\n",
        "2. $(A^{T} - B)^{T}$"
      ],
      "metadata": {
        "id": "W50RfBB33a_W"
      }
    },
    {
      "cell_type": "markdown",
      "source": [
        "$$\n",
        "\\begin{align}\n",
        "B(A^{-1}B)^{-1} &= B(B^{-1}A) \\\\\n",
        "&= IA \\\\\n",
        "&= A\n",
        "\\end{align}\n",
        "$$"
      ],
      "metadata": {
        "id": "J7Ft8rfc5d4e"
      }
    },
    {
      "cell_type": "code",
      "source": [
        "A"
      ],
      "metadata": {
        "colab": {
          "base_uri": "https://localhost:8080/",
          "height": 78
        },
        "id": "TVJZAstK61py",
        "outputId": "44a47332-2a69-408b-82f8-7685c1e22437"
      },
      "execution_count": 14,
      "outputs": [
        {
          "output_type": "execute_result",
          "data": {
            "text/plain": [
              "Matrix([\n",
              "[1, 0, 1],\n",
              "[0, 3, 0],\n",
              "[1, 0, 5]])"
            ],
            "text/latex": "$\\displaystyle \\left[\\begin{matrix}1 & 0 & 1\\\\0 & 3 & 0\\\\1 & 0 & 5\\end{matrix}\\right]$"
          },
          "metadata": {},
          "execution_count": 14
        }
      ]
    },
    {
      "cell_type": "markdown",
      "source": [
        "$$\n",
        "\\begin{align}\n",
        "(A^{T} - B)^{T} &= (A^{T})^{T} - B^{T} \\\\\n",
        "&= A - B^{T}\n",
        "\\end{align}\n",
        "$$"
      ],
      "metadata": {
        "id": "Q7F2y9T958OM"
      }
    },
    {
      "cell_type": "code",
      "source": [
        "A - B.T"
      ],
      "metadata": {
        "colab": {
          "base_uri": "https://localhost:8080/",
          "height": 78
        },
        "id": "TRa2oXG26f6G",
        "outputId": "a62133a2-6194-4710-957a-ee09c9a13e4f"
      },
      "execution_count": 15,
      "outputs": [
        {
          "output_type": "execute_result",
          "data": {
            "text/plain": [
              "Matrix([\n",
              "[2,  0, -2],\n",
              "[0, -2,  0],\n",
              "[0, -6,  4]])"
            ],
            "text/latex": "$\\displaystyle \\left[\\begin{matrix}2 & 0 & -2\\\\0 & -2 & 0\\\\0 & -6 & 4\\end{matrix}\\right]$"
          },
          "metadata": {},
          "execution_count": 15
        }
      ]
    },
    {
      "cell_type": "markdown",
      "source": [
        "## 2.2.1.2 Review Matrix Algebra in Python"
      ],
      "metadata": {
        "id": "zAKovOlP7gXe"
      }
    },
    {
      "cell_type": "code",
      "source": [
        "L = sym.Matrix([[-3, 3, 5],\n",
        "               [2, 5, 1]])\n",
        "M = sym.Matrix([[3, 1, 2],\n",
        "                [6, 4, 8],\n",
        "                [5, 9, 7]])\n",
        "N = sym.Matrix([[0, -1, 2],\n",
        "                [2, 6, 1],\n",
        "                [4, 1, 3]])\n",
        "P = sym.Matrix([[-3, 3],\n",
        "                [2, 5],\n",
        "                [4, 2]])"
      ],
      "metadata": {
        "id": "buVwY3HKDFkt"
      },
      "execution_count": 16,
      "outputs": []
    },
    {
      "cell_type": "code",
      "source": [
        "L"
      ],
      "metadata": {
        "colab": {
          "base_uri": "https://localhost:8080/",
          "height": 58
        },
        "id": "fz_fU83FEFcW",
        "outputId": "d7719d1e-63d6-4f14-c013-01022d433db2"
      },
      "execution_count": 17,
      "outputs": [
        {
          "output_type": "execute_result",
          "data": {
            "text/plain": [
              "Matrix([\n",
              "[-3, 3, 5],\n",
              "[ 2, 5, 1]])"
            ],
            "text/latex": "$\\displaystyle \\left[\\begin{matrix}-3 & 3 & 5\\\\2 & 5 & 1\\end{matrix}\\right]$"
          },
          "metadata": {},
          "execution_count": 17
        }
      ]
    },
    {
      "cell_type": "code",
      "source": [
        "M"
      ],
      "metadata": {
        "colab": {
          "base_uri": "https://localhost:8080/",
          "height": 78
        },
        "id": "w8fra2swEGy_",
        "outputId": "d18f8ac6-2c88-4dee-dca9-f24e2e504289"
      },
      "execution_count": 18,
      "outputs": [
        {
          "output_type": "execute_result",
          "data": {
            "text/plain": [
              "Matrix([\n",
              "[3, 1, 2],\n",
              "[6, 4, 8],\n",
              "[5, 9, 7]])"
            ],
            "text/latex": "$\\displaystyle \\left[\\begin{matrix}3 & 1 & 2\\\\6 & 4 & 8\\\\5 & 9 & 7\\end{matrix}\\right]$"
          },
          "metadata": {},
          "execution_count": 18
        }
      ]
    },
    {
      "cell_type": "code",
      "source": [
        "N"
      ],
      "metadata": {
        "colab": {
          "base_uri": "https://localhost:8080/",
          "height": 78
        },
        "id": "x13ET2bvEJMv",
        "outputId": "f3c5ad4f-d54e-498f-cf86-a35a4c58202c"
      },
      "execution_count": 19,
      "outputs": [
        {
          "output_type": "execute_result",
          "data": {
            "text/plain": [
              "Matrix([\n",
              "[0, -1, 2],\n",
              "[2,  6, 1],\n",
              "[4,  1, 3]])"
            ],
            "text/latex": "$\\displaystyle \\left[\\begin{matrix}0 & -1 & 2\\\\2 & 6 & 1\\\\4 & 1 & 3\\end{matrix}\\right]$"
          },
          "metadata": {},
          "execution_count": 19
        }
      ]
    },
    {
      "cell_type": "code",
      "source": [
        "P"
      ],
      "metadata": {
        "colab": {
          "base_uri": "https://localhost:8080/",
          "height": 78
        },
        "id": "eraI13rZEKoP",
        "outputId": "5b4a7c06-1e23-4eb8-ed69-5acacff91cbc"
      },
      "execution_count": 20,
      "outputs": [
        {
          "output_type": "execute_result",
          "data": {
            "text/plain": [
              "Matrix([\n",
              "[-3, 3],\n",
              "[ 2, 5],\n",
              "[ 4, 2]])"
            ],
            "text/latex": "$\\displaystyle \\left[\\begin{matrix}-3 & 3\\\\2 & 5\\\\4 & 2\\end{matrix}\\right]$"
          },
          "metadata": {},
          "execution_count": 20
        }
      ]
    },
    {
      "cell_type": "markdown",
      "source": [
        "### Add Matrices"
      ],
      "metadata": {
        "id": "YRDigWTdDx4K"
      }
    },
    {
      "cell_type": "code",
      "source": [
        "M + N"
      ],
      "metadata": {
        "colab": {
          "base_uri": "https://localhost:8080/",
          "height": 78
        },
        "id": "j-kSzjfqD1Xn",
        "outputId": "76beaee6-9dbd-4acc-f2f7-cfd8dd8a23f8"
      },
      "execution_count": 21,
      "outputs": [
        {
          "output_type": "execute_result",
          "data": {
            "text/plain": [
              "Matrix([\n",
              "[3,  0,  4],\n",
              "[8, 10,  9],\n",
              "[9, 10, 10]])"
            ],
            "text/latex": "$\\displaystyle \\left[\\begin{matrix}3 & 0 & 4\\\\8 & 10 & 9\\\\9 & 10 & 10\\end{matrix}\\right]$"
          },
          "metadata": {},
          "execution_count": 21
        }
      ]
    },
    {
      "cell_type": "markdown",
      "source": [
        "### Subtract Matrices"
      ],
      "metadata": {
        "id": "ORCXN2wdEySF"
      }
    },
    {
      "cell_type": "code",
      "source": [
        "M - N"
      ],
      "metadata": {
        "colab": {
          "base_uri": "https://localhost:8080/",
          "height": 78
        },
        "id": "hVFByxAZE2_q",
        "outputId": "942c5a5e-3957-4eeb-f3ea-7cb572a14078"
      },
      "execution_count": 22,
      "outputs": [
        {
          "output_type": "execute_result",
          "data": {
            "text/plain": [
              "Matrix([\n",
              "[3,  2, 0],\n",
              "[4, -2, 7],\n",
              "[1,  8, 4]])"
            ],
            "text/latex": "$\\displaystyle \\left[\\begin{matrix}3 & 2 & 0\\\\4 & -2 & 7\\\\1 & 8 & 4\\end{matrix}\\right]$"
          },
          "metadata": {},
          "execution_count": 22
        }
      ]
    },
    {
      "cell_type": "code",
      "source": [
        "N - M"
      ],
      "metadata": {
        "colab": {
          "base_uri": "https://localhost:8080/",
          "height": 78
        },
        "id": "WZAa2wEBE5M4",
        "outputId": "cad0fd0e-82e9-4beb-b7df-50cf0d02a6c2"
      },
      "execution_count": 23,
      "outputs": [
        {
          "output_type": "execute_result",
          "data": {
            "text/plain": [
              "Matrix([\n",
              "[-3, -2,  0],\n",
              "[-4,  2, -7],\n",
              "[-1, -8, -4]])"
            ],
            "text/latex": "$\\displaystyle \\left[\\begin{matrix}-3 & -2 & 0\\\\-4 & 2 & -7\\\\-1 & -8 & -4\\end{matrix}\\right]$"
          },
          "metadata": {},
          "execution_count": 23
        }
      ]
    },
    {
      "cell_type": "markdown",
      "source": [
        "### Multiply Matrices\n",
        "\n",
        "$A \\times B$ is only possible if the number of columns of $A$ is equal to the number of rows of $B$"
      ],
      "metadata": {
        "id": "2pjX6xOtFE64"
      }
    },
    {
      "cell_type": "code",
      "source": [
        "L.shape, P.shape"
      ],
      "metadata": {
        "colab": {
          "base_uri": "https://localhost:8080/"
        },
        "id": "RcjCYYBGFHb9",
        "outputId": "60e5ee55-011f-4f0c-c50d-ea97fd6b050d"
      },
      "execution_count": 24,
      "outputs": [
        {
          "output_type": "execute_result",
          "data": {
            "text/plain": [
              "((2, 3), (3, 2))"
            ]
          },
          "metadata": {},
          "execution_count": 24
        }
      ]
    },
    {
      "cell_type": "code",
      "source": [
        "L * P"
      ],
      "metadata": {
        "colab": {
          "base_uri": "https://localhost:8080/",
          "height": 58
        },
        "id": "dJIB3dsXFg63",
        "outputId": "262e5b7f-9b3d-4f0c-a603-2ef8c9985a7a"
      },
      "execution_count": 25,
      "outputs": [
        {
          "output_type": "execute_result",
          "data": {
            "text/plain": [
              "Matrix([\n",
              "[35, 16],\n",
              "[ 8, 33]])"
            ],
            "text/latex": "$\\displaystyle \\left[\\begin{matrix}35 & 16\\\\8 & 33\\end{matrix}\\right]$"
          },
          "metadata": {},
          "execution_count": 25
        }
      ]
    },
    {
      "cell_type": "code",
      "source": [
        "L.shape, M.shape"
      ],
      "metadata": {
        "colab": {
          "base_uri": "https://localhost:8080/"
        },
        "id": "oVz-AAEKGbFb",
        "outputId": "52d64b2c-b435-4dd6-b864-d5740aa3408c"
      },
      "execution_count": 26,
      "outputs": [
        {
          "output_type": "execute_result",
          "data": {
            "text/plain": [
              "((2, 3), (3, 3))"
            ]
          },
          "metadata": {},
          "execution_count": 26
        }
      ]
    },
    {
      "cell_type": "code",
      "source": [
        "L * M"
      ],
      "metadata": {
        "colab": {
          "base_uri": "https://localhost:8080/",
          "height": 58
        },
        "id": "tq3C316LGeOz",
        "outputId": "ceeb1c95-1a12-433b-a954-e8452ea76f5d"
      },
      "execution_count": 27,
      "outputs": [
        {
          "output_type": "execute_result",
          "data": {
            "text/plain": [
              "Matrix([\n",
              "[34, 54, 53],\n",
              "[41, 31, 51]])"
            ],
            "text/latex": "$\\displaystyle \\left[\\begin{matrix}34 & 54 & 53\\\\41 & 31 & 51\\end{matrix}\\right]$"
          },
          "metadata": {},
          "execution_count": 27
        }
      ]
    },
    {
      "cell_type": "code",
      "source": [
        "M.shape, L.shape # can't multiply these two"
      ],
      "metadata": {
        "colab": {
          "base_uri": "https://localhost:8080/"
        },
        "id": "mQYxBUwGGmXa",
        "outputId": "7770add3-24f8-45b2-af52-aa302ba85431"
      },
      "execution_count": 28,
      "outputs": [
        {
          "output_type": "execute_result",
          "data": {
            "text/plain": [
              "((3, 3), (2, 3))"
            ]
          },
          "metadata": {},
          "execution_count": 28
        }
      ]
    },
    {
      "cell_type": "code",
      "source": [
        "M.shape, N.shape"
      ],
      "metadata": {
        "colab": {
          "base_uri": "https://localhost:8080/"
        },
        "id": "3mKVviuAHYEu",
        "outputId": "e356b91d-29d7-40a1-f04c-335cc6d4fe86"
      },
      "execution_count": 29,
      "outputs": [
        {
          "output_type": "execute_result",
          "data": {
            "text/plain": [
              "((3, 3), (3, 3))"
            ]
          },
          "metadata": {},
          "execution_count": 29
        }
      ]
    },
    {
      "cell_type": "code",
      "source": [
        "M * N"
      ],
      "metadata": {
        "colab": {
          "base_uri": "https://localhost:8080/",
          "height": 78
        },
        "id": "korEV7ROHaKW",
        "outputId": "bdd5a968-f166-4a01-d24f-6da4ef7d827c"
      },
      "execution_count": 30,
      "outputs": [
        {
          "output_type": "execute_result",
          "data": {
            "text/plain": [
              "Matrix([\n",
              "[10,  5, 13],\n",
              "[40, 26, 40],\n",
              "[46, 56, 40]])"
            ],
            "text/latex": "$\\displaystyle \\left[\\begin{matrix}10 & 5 & 13\\\\40 & 26 & 40\\\\46 & 56 & 40\\end{matrix}\\right]$"
          },
          "metadata": {},
          "execution_count": 30
        }
      ]
    },
    {
      "cell_type": "code",
      "source": [
        "N * M"
      ],
      "metadata": {
        "colab": {
          "base_uri": "https://localhost:8080/",
          "height": 78
        },
        "id": "9Rwe8HvBHcSw",
        "outputId": "4de76e07-34da-40d9-c3ab-0eb531063b07"
      },
      "execution_count": 31,
      "outputs": [
        {
          "output_type": "execute_result",
          "data": {
            "text/plain": [
              "Matrix([\n",
              "[ 4, 14,  6],\n",
              "[47, 35, 59],\n",
              "[33, 35, 37]])"
            ],
            "text/latex": "$\\displaystyle \\left[\\begin{matrix}4 & 14 & 6\\\\47 & 35 & 59\\\\33 & 35 & 37\\end{matrix}\\right]$"
          },
          "metadata": {},
          "execution_count": 31
        }
      ]
    },
    {
      "cell_type": "markdown",
      "source": [
        "## 2.2.1.3 Using Python to Find the Transpose of a Matrix"
      ],
      "metadata": {
        "id": "GjJJgmXnHtCJ"
      }
    },
    {
      "cell_type": "code",
      "source": [
        "L = sym.Matrix([[2, 4, 6],\n",
        "                [8, 10, 12]])\n",
        "M = sym.Matrix([[3, 1, 2],\n",
        "                [6, 4, 8],\n",
        "                [5, 9, 7]])\n",
        "N = sym.Matrix([[1],\n",
        "                [2],\n",
        "                [3]])\n",
        "P = sym.Matrix([[-3, 3],\n",
        "                [2, 5],\n",
        "                [4, 2]])\n",
        "I = sym.eye(3)"
      ],
      "metadata": {
        "id": "svCQsM5tH2oe"
      },
      "execution_count": 32,
      "outputs": []
    },
    {
      "cell_type": "code",
      "source": [
        "Q = np.array([[0, 3, 1],\n",
        "              [2, -1, 3],\n",
        "              [2, 1, 5]])"
      ],
      "metadata": {
        "id": "EgH1fW5bI34A"
      },
      "execution_count": 33,
      "outputs": []
    },
    {
      "cell_type": "markdown",
      "source": [
        "### Square Matrix"
      ],
      "metadata": {
        "id": "45u_i5KuJjeI"
      }
    },
    {
      "cell_type": "code",
      "source": [
        "M"
      ],
      "metadata": {
        "colab": {
          "base_uri": "https://localhost:8080/",
          "height": 78
        },
        "id": "fRDNWct9JwV4",
        "outputId": "9a1ab7ef-1922-4eb0-f9cc-19f18d246029"
      },
      "execution_count": 34,
      "outputs": [
        {
          "output_type": "execute_result",
          "data": {
            "text/plain": [
              "Matrix([\n",
              "[3, 1, 2],\n",
              "[6, 4, 8],\n",
              "[5, 9, 7]])"
            ],
            "text/latex": "$\\displaystyle \\left[\\begin{matrix}3 & 1 & 2\\\\6 & 4 & 8\\\\5 & 9 & 7\\end{matrix}\\right]$"
          },
          "metadata": {},
          "execution_count": 34
        }
      ]
    },
    {
      "cell_type": "code",
      "source": [
        "M.transpose()"
      ],
      "metadata": {
        "colab": {
          "base_uri": "https://localhost:8080/",
          "height": 78
        },
        "id": "wy3Hhvz1KAjY",
        "outputId": "f860be5f-2653-43dd-d845-2f90948001a1"
      },
      "execution_count": 35,
      "outputs": [
        {
          "output_type": "execute_result",
          "data": {
            "text/plain": [
              "Matrix([\n",
              "[3, 6, 5],\n",
              "[1, 4, 9],\n",
              "[2, 8, 7]])"
            ],
            "text/latex": "$\\displaystyle \\left[\\begin{matrix}3 & 6 & 5\\\\1 & 4 & 9\\\\2 & 8 & 7\\end{matrix}\\right]$"
          },
          "metadata": {},
          "execution_count": 35
        }
      ]
    },
    {
      "cell_type": "code",
      "source": [
        "M.T"
      ],
      "metadata": {
        "colab": {
          "base_uri": "https://localhost:8080/",
          "height": 78
        },
        "id": "WM1Gqe4SKCsK",
        "outputId": "8845c943-e52e-4a36-fcb7-b6d44faf9982"
      },
      "execution_count": 36,
      "outputs": [
        {
          "output_type": "execute_result",
          "data": {
            "text/plain": [
              "Matrix([\n",
              "[3, 6, 5],\n",
              "[1, 4, 9],\n",
              "[2, 8, 7]])"
            ],
            "text/latex": "$\\displaystyle \\left[\\begin{matrix}3 & 6 & 5\\\\1 & 4 & 9\\\\2 & 8 & 7\\end{matrix}\\right]$"
          },
          "metadata": {},
          "execution_count": 36
        }
      ]
    },
    {
      "cell_type": "code",
      "source": [
        "np.transpose(M)"
      ],
      "metadata": {
        "colab": {
          "base_uri": "https://localhost:8080/"
        },
        "id": "QITTydEDKOwm",
        "outputId": "7365549c-e979-44d9-f8ea-5fc7c7387ba7"
      },
      "execution_count": 37,
      "outputs": [
        {
          "output_type": "execute_result",
          "data": {
            "text/plain": [
              "array([[3, 6, 5],\n",
              "       [1, 4, 9],\n",
              "       [2, 8, 7]], dtype=object)"
            ]
          },
          "metadata": {},
          "execution_count": 37
        }
      ]
    },
    {
      "cell_type": "code",
      "source": [
        "np.transpose(np.array(M, dtype='int'))"
      ],
      "metadata": {
        "colab": {
          "base_uri": "https://localhost:8080/"
        },
        "id": "NSrpAB2xKqh4",
        "outputId": "4628d9ea-3746-4a52-8c83-47fe7bb3de90"
      },
      "execution_count": 38,
      "outputs": [
        {
          "output_type": "execute_result",
          "data": {
            "text/plain": [
              "array([[3, 6, 5],\n",
              "       [1, 4, 9],\n",
              "       [2, 8, 7]])"
            ]
          },
          "metadata": {},
          "execution_count": 38
        }
      ]
    },
    {
      "cell_type": "code",
      "source": [
        "np.array(M, dtype='int').T"
      ],
      "metadata": {
        "colab": {
          "base_uri": "https://localhost:8080/"
        },
        "id": "ioBYEYt3NQgJ",
        "outputId": "7f5b7683-ce89-4289-d839-278196850319"
      },
      "execution_count": 39,
      "outputs": [
        {
          "output_type": "execute_result",
          "data": {
            "text/plain": [
              "array([[3, 6, 5],\n",
              "       [1, 4, 9],\n",
              "       [2, 8, 7]])"
            ]
          },
          "metadata": {},
          "execution_count": 39
        }
      ]
    },
    {
      "cell_type": "markdown",
      "source": [
        "### Rectangular Matrix"
      ],
      "metadata": {
        "id": "2_5iOPPSJmfD"
      }
    },
    {
      "cell_type": "code",
      "source": [
        "L"
      ],
      "metadata": {
        "colab": {
          "base_uri": "https://localhost:8080/",
          "height": 58
        },
        "id": "yh32j2iRJw51",
        "outputId": "aaf79f31-0984-4e58-b6ab-166c75b5ec34"
      },
      "execution_count": 40,
      "outputs": [
        {
          "output_type": "execute_result",
          "data": {
            "text/plain": [
              "Matrix([\n",
              "[2,  4,  6],\n",
              "[8, 10, 12]])"
            ],
            "text/latex": "$\\displaystyle \\left[\\begin{matrix}2 & 4 & 6\\\\8 & 10 & 12\\end{matrix}\\right]$"
          },
          "metadata": {},
          "execution_count": 40
        }
      ]
    },
    {
      "cell_type": "code",
      "source": [
        "L.T"
      ],
      "metadata": {
        "colab": {
          "base_uri": "https://localhost:8080/",
          "height": 78
        },
        "id": "sW4e7q6QLetZ",
        "outputId": "b39025eb-ddbe-44e3-a0b1-77871e304d95"
      },
      "execution_count": 41,
      "outputs": [
        {
          "output_type": "execute_result",
          "data": {
            "text/plain": [
              "Matrix([\n",
              "[2,  8],\n",
              "[4, 10],\n",
              "[6, 12]])"
            ],
            "text/latex": "$\\displaystyle \\left[\\begin{matrix}2 & 8\\\\4 & 10\\\\6 & 12\\end{matrix}\\right]$"
          },
          "metadata": {},
          "execution_count": 41
        }
      ]
    },
    {
      "cell_type": "code",
      "source": [
        "np.transpose(L)"
      ],
      "metadata": {
        "colab": {
          "base_uri": "https://localhost:8080/"
        },
        "id": "f3p0oZ7XLgYl",
        "outputId": "b00496c1-cd41-44be-cfd7-b4ab8a300db4"
      },
      "execution_count": 42,
      "outputs": [
        {
          "output_type": "execute_result",
          "data": {
            "text/plain": [
              "array([[2, 8],\n",
              "       [4, 10],\n",
              "       [6, 12]], dtype=object)"
            ]
          },
          "metadata": {},
          "execution_count": 42
        }
      ]
    },
    {
      "cell_type": "code",
      "source": [
        "np.transpose(np.array(L, dtype='int'))"
      ],
      "metadata": {
        "colab": {
          "base_uri": "https://localhost:8080/"
        },
        "id": "jTfS6g5YLith",
        "outputId": "089b442a-12ab-4866-8a99-bc1721a1d73b"
      },
      "execution_count": 43,
      "outputs": [
        {
          "output_type": "execute_result",
          "data": {
            "text/plain": [
              "array([[ 2,  8],\n",
              "       [ 4, 10],\n",
              "       [ 6, 12]])"
            ]
          },
          "metadata": {},
          "execution_count": 43
        }
      ]
    },
    {
      "cell_type": "markdown",
      "source": [
        "### Column Matrix"
      ],
      "metadata": {
        "id": "vt59wsEaJpHd"
      }
    },
    {
      "cell_type": "code",
      "source": [
        "N"
      ],
      "metadata": {
        "colab": {
          "base_uri": "https://localhost:8080/",
          "height": 78
        },
        "id": "zNcHyB7KJxtH",
        "outputId": "c076d6a0-0824-4fdb-ad14-ecf188e9716e"
      },
      "execution_count": 44,
      "outputs": [
        {
          "output_type": "execute_result",
          "data": {
            "text/plain": [
              "Matrix([\n",
              "[1],\n",
              "[2],\n",
              "[3]])"
            ],
            "text/latex": "$\\displaystyle \\left[\\begin{matrix}1\\\\2\\\\3\\end{matrix}\\right]$"
          },
          "metadata": {},
          "execution_count": 44
        }
      ]
    },
    {
      "cell_type": "code",
      "source": [
        "N.T"
      ],
      "metadata": {
        "colab": {
          "base_uri": "https://localhost:8080/",
          "height": 39
        },
        "id": "RbKsfUiCMBct",
        "outputId": "1e69dfe8-f71c-4595-9027-6de9ea7dfcfe"
      },
      "execution_count": 45,
      "outputs": [
        {
          "output_type": "execute_result",
          "data": {
            "text/plain": [
              "Matrix([[1, 2, 3]])"
            ],
            "text/latex": "$\\displaystyle \\left[\\begin{matrix}1 & 2 & 3\\end{matrix}\\right]$"
          },
          "metadata": {},
          "execution_count": 45
        }
      ]
    },
    {
      "cell_type": "code",
      "source": [
        "np.transpose(N)"
      ],
      "metadata": {
        "colab": {
          "base_uri": "https://localhost:8080/"
        },
        "id": "5rcSb5HrMP2c",
        "outputId": "75de50f5-c1f7-4080-ee8d-2e6ec2d5efc0"
      },
      "execution_count": 46,
      "outputs": [
        {
          "output_type": "execute_result",
          "data": {
            "text/plain": [
              "array([[1, 2, 3]], dtype=object)"
            ]
          },
          "metadata": {},
          "execution_count": 46
        }
      ]
    },
    {
      "cell_type": "code",
      "source": [
        "np.array(N, dtype='int').transpose()"
      ],
      "metadata": {
        "colab": {
          "base_uri": "https://localhost:8080/"
        },
        "id": "bicBFIbaMUEJ",
        "outputId": "dd8948af-4d11-42e8-fbe9-312826dfc920"
      },
      "execution_count": 47,
      "outputs": [
        {
          "output_type": "execute_result",
          "data": {
            "text/plain": [
              "array([[1, 2, 3]])"
            ]
          },
          "metadata": {},
          "execution_count": 47
        }
      ]
    },
    {
      "cell_type": "code",
      "source": [
        "np.transpose(np.array(N, dtype='int'))"
      ],
      "metadata": {
        "colab": {
          "base_uri": "https://localhost:8080/"
        },
        "id": "Oe0c6eN_McqZ",
        "outputId": "67354592-b4b7-4ef0-e833-348c7f25dcb9"
      },
      "execution_count": 48,
      "outputs": [
        {
          "output_type": "execute_result",
          "data": {
            "text/plain": [
              "array([[1, 2, 3]])"
            ]
          },
          "metadata": {},
          "execution_count": 48
        }
      ]
    },
    {
      "cell_type": "markdown",
      "source": [
        "### Row Matrix"
      ],
      "metadata": {
        "id": "WXW4ILqzJtyf"
      }
    },
    {
      "cell_type": "code",
      "source": [
        "R = Q[1,:]\n",
        "R"
      ],
      "metadata": {
        "colab": {
          "base_uri": "https://localhost:8080/"
        },
        "id": "YDFFUZaUJyaJ",
        "outputId": "1840a393-4d47-4d59-e49d-a04520bfafca"
      },
      "execution_count": 49,
      "outputs": [
        {
          "output_type": "execute_result",
          "data": {
            "text/plain": [
              "array([ 2, -1,  3])"
            ]
          },
          "metadata": {},
          "execution_count": 49
        }
      ]
    },
    {
      "cell_type": "code",
      "source": [
        "R.T"
      ],
      "metadata": {
        "colab": {
          "base_uri": "https://localhost:8080/"
        },
        "id": "OXq2sEbUNKc9",
        "outputId": "27544a1d-5652-41b2-ce06-fd47edefbf1c"
      },
      "execution_count": 50,
      "outputs": [
        {
          "output_type": "execute_result",
          "data": {
            "text/plain": [
              "array([ 2, -1,  3])"
            ]
          },
          "metadata": {},
          "execution_count": 50
        }
      ]
    },
    {
      "cell_type": "markdown",
      "source": [
        "### Identity Matrix"
      ],
      "metadata": {
        "id": "PDM__Z-LNYbf"
      }
    },
    {
      "cell_type": "code",
      "source": [
        "I"
      ],
      "metadata": {
        "colab": {
          "base_uri": "https://localhost:8080/",
          "height": 78
        },
        "id": "zUXIigCDNaLx",
        "outputId": "e64a588c-9614-48e1-c76b-9d90acf23859"
      },
      "execution_count": 51,
      "outputs": [
        {
          "output_type": "execute_result",
          "data": {
            "text/plain": [
              "Matrix([\n",
              "[1, 0, 0],\n",
              "[0, 1, 0],\n",
              "[0, 0, 1]])"
            ],
            "text/latex": "$\\displaystyle \\left[\\begin{matrix}1 & 0 & 0\\\\0 & 1 & 0\\\\0 & 0 & 1\\end{matrix}\\right]$"
          },
          "metadata": {},
          "execution_count": 51
        }
      ]
    },
    {
      "cell_type": "code",
      "source": [
        "I.T"
      ],
      "metadata": {
        "colab": {
          "base_uri": "https://localhost:8080/",
          "height": 78
        },
        "id": "7Fp7o4RUNbb5",
        "outputId": "0584b5bf-b8d4-4944-98c2-be055ecffc18"
      },
      "execution_count": 52,
      "outputs": [
        {
          "output_type": "execute_result",
          "data": {
            "text/plain": [
              "Matrix([\n",
              "[1, 0, 0],\n",
              "[0, 1, 0],\n",
              "[0, 0, 1]])"
            ],
            "text/latex": "$\\displaystyle \\left[\\begin{matrix}1 & 0 & 0\\\\0 & 1 & 0\\\\0 & 0 & 1\\end{matrix}\\right]$"
          },
          "metadata": {},
          "execution_count": 52
        }
      ]
    },
    {
      "cell_type": "markdown",
      "source": [
        "## 2.2.1.4 Using Python to Find the Inverse of a Matrix"
      ],
      "metadata": {
        "id": "kLQv7bdKOEiR"
      }
    },
    {
      "cell_type": "code",
      "source": [
        "M = sym.Matrix([[1, 2, 3],\n",
        "                [4, 5, 6],\n",
        "                [7, 8, 9]])\n",
        "M"
      ],
      "metadata": {
        "colab": {
          "base_uri": "https://localhost:8080/",
          "height": 78
        },
        "id": "YCxQ-iYSOsFI",
        "outputId": "3b422116-21cd-4326-bec1-0e22c398020f"
      },
      "execution_count": 53,
      "outputs": [
        {
          "output_type": "execute_result",
          "data": {
            "text/plain": [
              "Matrix([\n",
              "[1, 2, 3],\n",
              "[4, 5, 6],\n",
              "[7, 8, 9]])"
            ],
            "text/latex": "$\\displaystyle \\left[\\begin{matrix}1 & 2 & 3\\\\4 & 5 & 6\\\\7 & 8 & 9\\end{matrix}\\right]$"
          },
          "metadata": {},
          "execution_count": 53
        }
      ]
    },
    {
      "cell_type": "code",
      "source": [
        "M.det() # M is not invertible"
      ],
      "metadata": {
        "colab": {
          "base_uri": "https://localhost:8080/",
          "height": 37
        },
        "id": "WagvMgMtO4Ic",
        "outputId": "bb006115-1c01-459e-b4c8-a137e5f1e9bc"
      },
      "execution_count": 54,
      "outputs": [
        {
          "output_type": "execute_result",
          "data": {
            "text/plain": [
              "0"
            ],
            "text/latex": "$\\displaystyle 0$"
          },
          "metadata": {},
          "execution_count": 54
        }
      ]
    },
    {
      "cell_type": "code",
      "source": [
        "M[2, 2] = 11\n",
        "M"
      ],
      "metadata": {
        "colab": {
          "base_uri": "https://localhost:8080/",
          "height": 78
        },
        "id": "Pol76gMrPMDT",
        "outputId": "8b42bf30-2e70-4920-8554-d8f29086e3bb"
      },
      "execution_count": 55,
      "outputs": [
        {
          "output_type": "execute_result",
          "data": {
            "text/plain": [
              "Matrix([\n",
              "[1, 2,  3],\n",
              "[4, 5,  6],\n",
              "[7, 8, 11]])"
            ],
            "text/latex": "$\\displaystyle \\left[\\begin{matrix}1 & 2 & 3\\\\4 & 5 & 6\\\\7 & 8 & 11\\end{matrix}\\right]$"
          },
          "metadata": {},
          "execution_count": 55
        }
      ]
    },
    {
      "cell_type": "code",
      "source": [
        "M.det()"
      ],
      "metadata": {
        "colab": {
          "base_uri": "https://localhost:8080/",
          "height": 37
        },
        "id": "K0PpX9b2PSQS",
        "outputId": "689fd820-65da-44e2-d0d9-12732f68feb4"
      },
      "execution_count": 56,
      "outputs": [
        {
          "output_type": "execute_result",
          "data": {
            "text/plain": [
              "-6"
            ],
            "text/latex": "$\\displaystyle -6$"
          },
          "metadata": {},
          "execution_count": 56
        }
      ]
    },
    {
      "cell_type": "code",
      "source": [
        "M.inv()"
      ],
      "metadata": {
        "colab": {
          "base_uri": "https://localhost:8080/",
          "height": 78
        },
        "id": "sI_w30TfPTuO",
        "outputId": "5b25ff23-959f-4e48-b9bb-9ff3d27bf0fe"
      },
      "execution_count": 57,
      "outputs": [
        {
          "output_type": "execute_result",
          "data": {
            "text/plain": [
              "Matrix([\n",
              "[-7/6, -1/3, 1/2],\n",
              "[ 1/3,  5/3,  -1],\n",
              "[ 1/2,   -1, 1/2]])"
            ],
            "text/latex": "$\\displaystyle \\left[\\begin{matrix}- \\frac{7}{6} & - \\frac{1}{3} & \\frac{1}{2}\\\\\\frac{1}{3} & \\frac{5}{3} & -1\\\\\\frac{1}{2} & -1 & \\frac{1}{2}\\end{matrix}\\right]$"
          },
          "metadata": {},
          "execution_count": 57
        }
      ]
    },
    {
      "cell_type": "code",
      "source": [
        "T = sym.Matrix(np.random.randint(-7, 5, size=(6, 6)))\n",
        "T"
      ],
      "metadata": {
        "colab": {
          "base_uri": "https://localhost:8080/",
          "height": 139
        },
        "id": "W3jRc285PafX",
        "outputId": "3ebbd726-3f44-4bb1-843e-4b68c2a0f725"
      },
      "execution_count": 58,
      "outputs": [
        {
          "output_type": "execute_result",
          "data": {
            "text/plain": [
              "Matrix([\n",
              "[ 2, -1, -6,  4,  3, -5],\n",
              "[ 0,  1, -2, -7, -3, -2],\n",
              "[-6,  4, -4,  3, -4, -5],\n",
              "[ 1, -2, -5, -2,  2, -3],\n",
              "[-6,  1,  4, -1, -1, -3],\n",
              "[-5,  0, -5,  2,  2, -6]])"
            ],
            "text/latex": "$\\displaystyle \\left[\\begin{matrix}2 & -1 & -6 & 4 & 3 & -5\\\\0 & 1 & -2 & -7 & -3 & -2\\\\-6 & 4 & -4 & 3 & -4 & -5\\\\1 & -2 & -5 & -2 & 2 & -3\\\\-6 & 1 & 4 & -1 & -1 & -3\\\\-5 & 0 & -5 & 2 & 2 & -6\\end{matrix}\\right]$"
          },
          "metadata": {},
          "execution_count": 58
        }
      ]
    },
    {
      "cell_type": "code",
      "source": [
        "T.det()"
      ],
      "metadata": {
        "colab": {
          "base_uri": "https://localhost:8080/",
          "height": 37
        },
        "id": "0Vq96fj7PjRh",
        "outputId": "dbe5682b-73b1-4dd2-c041-3f2c350d24e4"
      },
      "execution_count": 59,
      "outputs": [
        {
          "output_type": "execute_result",
          "data": {
            "text/plain": [
              "7072"
            ],
            "text/latex": "$\\displaystyle 7072$"
          },
          "metadata": {},
          "execution_count": 59
        }
      ]
    },
    {
      "cell_type": "code",
      "source": [
        "if T.det() != 0:\n",
        "    display(T.inv())\n",
        "else:\n",
        "    print('T is not invertible')"
      ],
      "metadata": {
        "colab": {
          "base_uri": "https://localhost:8080/",
          "height": 139
        },
        "id": "jYn0K1VJPweH",
        "outputId": "9e36ff92-3590-41ae-c2a2-916e607ca025"
      },
      "execution_count": 60,
      "outputs": [
        {
          "output_type": "display_data",
          "data": {
            "text/plain": [
              "Matrix([\n",
              "[ 363/1768,  191/1768,   -89/1768,   -32/221,    2/221, -43/442],\n",
              "[ 903/3536, 2455/3536, -1741/3536, -1319/884, -401/884, 415/442],\n",
              "[   25/221,     5/442,    -11/221,   -31/442,   71/442, -45/442],\n",
              "[  27/1768, -373/1768,   271/1768,   103/442,   35/442, -50/221],\n",
              "[ 427/3536, 1435/3536, -1673/3536,  -843/884, -265/884, 347/442],\n",
              "[-389/1768,  -61/1768,   -41/1768,   -27/442,  -95/442,  41/221]])"
            ],
            "text/latex": "$\\displaystyle \\left[\\begin{matrix}\\frac{363}{1768} & \\frac{191}{1768} & - \\frac{89}{1768} & - \\frac{32}{221} & \\frac{2}{221} & - \\frac{43}{442}\\\\\\frac{903}{3536} & \\frac{2455}{3536} & - \\frac{1741}{3536} & - \\frac{1319}{884} & - \\frac{401}{884} & \\frac{415}{442}\\\\\\frac{25}{221} & \\frac{5}{442} & - \\frac{11}{221} & - \\frac{31}{442} & \\frac{71}{442} & - \\frac{45}{442}\\\\\\frac{27}{1768} & - \\frac{373}{1768} & \\frac{271}{1768} & \\frac{103}{442} & \\frac{35}{442} & - \\frac{50}{221}\\\\\\frac{427}{3536} & \\frac{1435}{3536} & - \\frac{1673}{3536} & - \\frac{843}{884} & - \\frac{265}{884} & \\frac{347}{442}\\\\- \\frac{389}{1768} & - \\frac{61}{1768} & - \\frac{41}{1768} & - \\frac{27}{442} & - \\frac{95}{442} & \\frac{41}{221}\\end{matrix}\\right]$"
          },
          "metadata": {}
        }
      ]
    },
    {
      "cell_type": "markdown",
      "source": [
        "### Special Matrices"
      ],
      "metadata": {
        "id": "tsJl26e9QfOA"
      }
    },
    {
      "cell_type": "markdown",
      "source": [
        "#### Identity Matrix"
      ],
      "metadata": {
        "id": "B3gO4VfiQ1FH"
      }
    },
    {
      "cell_type": "code",
      "source": [
        "I = sym.eye(3, 5)\n",
        "I.shape # can only find the inverse of a square matrix"
      ],
      "metadata": {
        "colab": {
          "base_uri": "https://localhost:8080/"
        },
        "id": "d1gxbyPsQhtH",
        "outputId": "743880c6-53f2-4cda-f9f7-a16c86225606"
      },
      "execution_count": 61,
      "outputs": [
        {
          "output_type": "execute_result",
          "data": {
            "text/plain": [
              "(3, 5)"
            ]
          },
          "metadata": {},
          "execution_count": 61
        }
      ]
    },
    {
      "cell_type": "code",
      "source": [
        "I = sym.eye(3)\n",
        "I"
      ],
      "metadata": {
        "colab": {
          "base_uri": "https://localhost:8080/",
          "height": 78
        },
        "id": "XLIqtXUoSh7c",
        "outputId": "b58afb5f-c968-4108-bdca-35939f54165e"
      },
      "execution_count": 62,
      "outputs": [
        {
          "output_type": "execute_result",
          "data": {
            "text/plain": [
              "Matrix([\n",
              "[1, 0, 0],\n",
              "[0, 1, 0],\n",
              "[0, 0, 1]])"
            ],
            "text/latex": "$\\displaystyle \\left[\\begin{matrix}1 & 0 & 0\\\\0 & 1 & 0\\\\0 & 0 & 1\\end{matrix}\\right]$"
          },
          "metadata": {},
          "execution_count": 62
        }
      ]
    },
    {
      "cell_type": "code",
      "source": [
        "I.inv()"
      ],
      "metadata": {
        "colab": {
          "base_uri": "https://localhost:8080/",
          "height": 78
        },
        "id": "D5NuSVbbSlU-",
        "outputId": "fc52d022-4a7a-4ee6-9236-ed3d28e73e46"
      },
      "execution_count": 63,
      "outputs": [
        {
          "output_type": "execute_result",
          "data": {
            "text/plain": [
              "Matrix([\n",
              "[1, 0, 0],\n",
              "[0, 1, 0],\n",
              "[0, 0, 1]])"
            ],
            "text/latex": "$\\displaystyle \\left[\\begin{matrix}1 & 0 & 0\\\\0 & 1 & 0\\\\0 & 0 & 1\\end{matrix}\\right]$"
          },
          "metadata": {},
          "execution_count": 63
        }
      ]
    },
    {
      "cell_type": "markdown",
      "source": [
        "#### Zero Matrix"
      ],
      "metadata": {
        "id": "lZBwCgKHStis"
      }
    },
    {
      "cell_type": "code",
      "source": [
        "O = sym.zeros(3)\n",
        "O"
      ],
      "metadata": {
        "colab": {
          "base_uri": "https://localhost:8080/",
          "height": 78
        },
        "id": "9LFwlf4bSwh-",
        "outputId": "5e41ac1d-3ad1-4230-ab94-78a47369413e"
      },
      "execution_count": 64,
      "outputs": [
        {
          "output_type": "execute_result",
          "data": {
            "text/plain": [
              "Matrix([\n",
              "[0, 0, 0],\n",
              "[0, 0, 0],\n",
              "[0, 0, 0]])"
            ],
            "text/latex": "$\\displaystyle \\left[\\begin{matrix}0 & 0 & 0\\\\0 & 0 & 0\\\\0 & 0 & 0\\end{matrix}\\right]$"
          },
          "metadata": {},
          "execution_count": 64
        }
      ]
    },
    {
      "cell_type": "code",
      "source": [
        "O.det() # not invertible"
      ],
      "metadata": {
        "id": "9xNURGNLTAe9",
        "outputId": "95f6b069-b7af-4090-b0e2-edcccce7bd3d",
        "colab": {
          "base_uri": "https://localhost:8080/",
          "height": 37
        }
      },
      "execution_count": 65,
      "outputs": [
        {
          "output_type": "execute_result",
          "data": {
            "text/plain": [
              "0"
            ],
            "text/latex": "$\\displaystyle 0$"
          },
          "metadata": {},
          "execution_count": 65
        }
      ]
    },
    {
      "cell_type": "markdown",
      "source": [
        "#### Matrix of all ones"
      ],
      "metadata": {
        "id": "ea88eFqnToZ9"
      }
    },
    {
      "cell_type": "code",
      "source": [
        "O = sym.ones(4)\n",
        "O"
      ],
      "metadata": {
        "colab": {
          "base_uri": "https://localhost:8080/",
          "height": 98
        },
        "id": "DgyKhkcDTm2S",
        "outputId": "133e4fcf-9b6f-4608-d7ae-bb9fd1c88170"
      },
      "execution_count": 66,
      "outputs": [
        {
          "output_type": "execute_result",
          "data": {
            "text/plain": [
              "Matrix([\n",
              "[1, 1, 1, 1],\n",
              "[1, 1, 1, 1],\n",
              "[1, 1, 1, 1],\n",
              "[1, 1, 1, 1]])"
            ],
            "text/latex": "$\\displaystyle \\left[\\begin{matrix}1 & 1 & 1 & 1\\\\1 & 1 & 1 & 1\\\\1 & 1 & 1 & 1\\\\1 & 1 & 1 & 1\\end{matrix}\\right]$"
          },
          "metadata": {},
          "execution_count": 66
        }
      ]
    },
    {
      "cell_type": "code",
      "source": [
        "O.det()"
      ],
      "metadata": {
        "colab": {
          "base_uri": "https://localhost:8080/",
          "height": 37
        },
        "id": "dmwMv0FXT2Dl",
        "outputId": "a6ea7ca5-4948-44cd-8bd9-ad504759fdc4"
      },
      "execution_count": 67,
      "outputs": [
        {
          "output_type": "execute_result",
          "data": {
            "text/plain": [
              "0"
            ],
            "text/latex": "$\\displaystyle 0$"
          },
          "metadata": {},
          "execution_count": 67
        }
      ]
    },
    {
      "cell_type": "code",
      "source": [
        "for i in range(2, 10):\n",
        "    O = sym.ones(i)\n",
        "    print(O.det())"
      ],
      "metadata": {
        "colab": {
          "base_uri": "https://localhost:8080/"
        },
        "id": "XD1E7MPJT_Ep",
        "outputId": "d566cfe6-a775-4d5d-ee5d-296509c7339f"
      },
      "execution_count": 68,
      "outputs": [
        {
          "output_type": "stream",
          "name": "stdout",
          "text": [
            "0\n",
            "0\n",
            "0\n",
            "0\n",
            "0\n",
            "0\n",
            "0\n",
            "0\n"
          ]
        }
      ]
    },
    {
      "cell_type": "markdown",
      "source": [
        "#### Diagonal Matrix"
      ],
      "metadata": {
        "id": "0pgmi_xpUblT"
      }
    },
    {
      "cell_type": "code",
      "source": [
        "D = sym.diag(1, 2, 3)\n",
        "D"
      ],
      "metadata": {
        "colab": {
          "base_uri": "https://localhost:8080/",
          "height": 78
        },
        "id": "ZyhnGD1oUhry",
        "outputId": "c34df6c0-7471-4b8f-f042-abdc629cc6b1"
      },
      "execution_count": 69,
      "outputs": [
        {
          "output_type": "execute_result",
          "data": {
            "text/plain": [
              "Matrix([\n",
              "[1, 0, 0],\n",
              "[0, 2, 0],\n",
              "[0, 0, 3]])"
            ],
            "text/latex": "$\\displaystyle \\left[\\begin{matrix}1 & 0 & 0\\\\0 & 2 & 0\\\\0 & 0 & 3\\end{matrix}\\right]$"
          },
          "metadata": {},
          "execution_count": 69
        }
      ]
    },
    {
      "cell_type": "code",
      "source": [
        "D.det()"
      ],
      "metadata": {
        "colab": {
          "base_uri": "https://localhost:8080/",
          "height": 37
        },
        "id": "ChfRQ-xfUmOe",
        "outputId": "e73b75fc-97a1-4491-af8c-260d299ca784"
      },
      "execution_count": 70,
      "outputs": [
        {
          "output_type": "execute_result",
          "data": {
            "text/plain": [
              "6"
            ],
            "text/latex": "$\\displaystyle 6$"
          },
          "metadata": {},
          "execution_count": 70
        }
      ]
    },
    {
      "cell_type": "code",
      "source": [
        "D.inv()"
      ],
      "metadata": {
        "colab": {
          "base_uri": "https://localhost:8080/",
          "height": 78
        },
        "id": "hyin2yUMUnsF",
        "outputId": "d48f396e-96d7-47e6-adcc-c84dc58ba4b5"
      },
      "execution_count": 71,
      "outputs": [
        {
          "output_type": "execute_result",
          "data": {
            "text/plain": [
              "Matrix([\n",
              "[1,   0,   0],\n",
              "[0, 1/2,   0],\n",
              "[0,   0, 1/3]])"
            ],
            "text/latex": "$\\displaystyle \\left[\\begin{matrix}1 & 0 & 0\\\\0 & \\frac{1}{2} & 0\\\\0 & 0 & \\frac{1}{3}\\end{matrix}\\right]$"
          },
          "metadata": {},
          "execution_count": 71
        }
      ]
    },
    {
      "cell_type": "markdown",
      "source": [
        "## 2.2.1.5 Practice Quiz: Matrix Algebra Functions Using Python"
      ],
      "metadata": {
        "id": "foxOHkbWVHm6"
      }
    },
    {
      "cell_type": "code",
      "source": [
        "M.inv()"
      ],
      "metadata": {
        "colab": {
          "base_uri": "https://localhost:8080/",
          "height": 78
        },
        "id": "ihoXmhmsVO06",
        "outputId": "1b4b26fd-0747-480d-eb92-0cfef1e30091"
      },
      "execution_count": 72,
      "outputs": [
        {
          "output_type": "execute_result",
          "data": {
            "text/plain": [
              "Matrix([\n",
              "[-7/6, -1/3, 1/2],\n",
              "[ 1/3,  5/3,  -1],\n",
              "[ 1/2,   -1, 1/2]])"
            ],
            "text/latex": "$\\displaystyle \\left[\\begin{matrix}- \\frac{7}{6} & - \\frac{1}{3} & \\frac{1}{2}\\\\\\frac{1}{3} & \\frac{5}{3} & -1\\\\\\frac{1}{2} & -1 & \\frac{1}{2}\\end{matrix}\\right]$"
          },
          "metadata": {},
          "execution_count": 72
        }
      ]
    },
    {
      "cell_type": "code",
      "source": [
        "A = sym.Matrix([[1, -1],\n",
        "                [2, 2]])\n",
        "A"
      ],
      "metadata": {
        "colab": {
          "base_uri": "https://localhost:8080/",
          "height": 58
        },
        "id": "c3oIJPaaVogx",
        "outputId": "5fadb57f-c226-401b-9788-cd8ec96323b8"
      },
      "execution_count": 73,
      "outputs": [
        {
          "output_type": "execute_result",
          "data": {
            "text/plain": [
              "Matrix([\n",
              "[1, -1],\n",
              "[2,  2]])"
            ],
            "text/latex": "$\\displaystyle \\left[\\begin{matrix}1 & -1\\\\2 & 2\\end{matrix}\\right]$"
          },
          "metadata": {},
          "execution_count": 73
        }
      ]
    },
    {
      "cell_type": "code",
      "source": [
        "B = sym.Matrix([[2, 0],\n",
        "                [0, -1]])\n",
        "B"
      ],
      "metadata": {
        "colab": {
          "base_uri": "https://localhost:8080/",
          "height": 58
        },
        "id": "4DjWScQ_Vx_s",
        "outputId": "3799dd3a-ab5c-432b-cc0d-8f7e2be99ee1"
      },
      "execution_count": 74,
      "outputs": [
        {
          "output_type": "execute_result",
          "data": {
            "text/plain": [
              "Matrix([\n",
              "[2,  0],\n",
              "[0, -1]])"
            ],
            "text/latex": "$\\displaystyle \\left[\\begin{matrix}2 & 0\\\\0 & -1\\end{matrix}\\right]$"
          },
          "metadata": {},
          "execution_count": 74
        }
      ]
    },
    {
      "cell_type": "code",
      "source": [
        "A.inv() * B.inv()"
      ],
      "metadata": {
        "colab": {
          "base_uri": "https://localhost:8080/",
          "height": 58
        },
        "id": "zmd8TnAtWLok",
        "outputId": "9eb41bee-08e7-4f1d-a8ff-b23b194617aa"
      },
      "execution_count": 75,
      "outputs": [
        {
          "output_type": "execute_result",
          "data": {
            "text/plain": [
              "Matrix([\n",
              "[ 1/4, -1/4],\n",
              "[-1/4, -1/4]])"
            ],
            "text/latex": "$\\displaystyle \\left[\\begin{matrix}\\frac{1}{4} & - \\frac{1}{4}\\\\- \\frac{1}{4} & - \\frac{1}{4}\\end{matrix}\\right]$"
          },
          "metadata": {},
          "execution_count": 75
        }
      ]
    },
    {
      "cell_type": "code",
      "source": [
        "(B * A).inv()"
      ],
      "metadata": {
        "colab": {
          "base_uri": "https://localhost:8080/",
          "height": 58
        },
        "id": "SptACmPpWOQJ",
        "outputId": "27c9b504-6152-4189-d78d-6aa46128b17f"
      },
      "execution_count": 76,
      "outputs": [
        {
          "output_type": "execute_result",
          "data": {
            "text/plain": [
              "Matrix([\n",
              "[ 1/4, -1/4],\n",
              "[-1/4, -1/4]])"
            ],
            "text/latex": "$\\displaystyle \\left[\\begin{matrix}\\frac{1}{4} & - \\frac{1}{4}\\\\- \\frac{1}{4} & - \\frac{1}{4}\\end{matrix}\\right]$"
          },
          "metadata": {},
          "execution_count": 76
        }
      ]
    },
    {
      "cell_type": "markdown",
      "source": [
        "## 2.2.1.6 Using Matrix Algebra in Python\n",
        "\n",
        "- This section focuses on using `numpy` rather than `sympy`"
      ],
      "metadata": {
        "id": "G31acOh3Wcrq"
      }
    },
    {
      "cell_type": "code",
      "source": [
        "L = np.linspace(-8, 8, 9)\n",
        "L"
      ],
      "metadata": {
        "colab": {
          "base_uri": "https://localhost:8080/"
        },
        "id": "KGdzJBXoXwy0",
        "outputId": "35e77897-90cc-46eb-9b99-1aa428e7494f"
      },
      "execution_count": 77,
      "outputs": [
        {
          "output_type": "execute_result",
          "data": {
            "text/plain": [
              "array([-8., -6., -4., -2.,  0.,  2.,  4.,  6.,  8.])"
            ]
          },
          "metadata": {},
          "execution_count": 77
        }
      ]
    },
    {
      "cell_type": "code",
      "source": [
        "M = L.reshape(3, 3)\n",
        "M"
      ],
      "metadata": {
        "colab": {
          "base_uri": "https://localhost:8080/"
        },
        "id": "g79F4ICnX0w0",
        "outputId": "789599fd-84cd-4ed3-84d1-52ddf4f9b830"
      },
      "execution_count": 78,
      "outputs": [
        {
          "output_type": "execute_result",
          "data": {
            "text/plain": [
              "array([[-8., -6., -4.],\n",
              "       [-2.,  0.,  2.],\n",
              "       [ 4.,  6.,  8.]])"
            ]
          },
          "metadata": {},
          "execution_count": 78
        }
      ]
    },
    {
      "cell_type": "code",
      "source": [
        "N = np.random.randint(-8, 8, size=(3, 3))\n",
        "N"
      ],
      "metadata": {
        "colab": {
          "base_uri": "https://localhost:8080/"
        },
        "id": "sifJAE5Tcb-G",
        "outputId": "7f8c9995-a910-47b6-8d68-1240faec4907"
      },
      "execution_count": 79,
      "outputs": [
        {
          "output_type": "execute_result",
          "data": {
            "text/plain": [
              "array([[ 6,  2,  1],\n",
              "       [ 7,  7, -7],\n",
              "       [-1,  6, -3]])"
            ]
          },
          "metadata": {},
          "execution_count": 79
        }
      ]
    },
    {
      "cell_type": "code",
      "source": [
        "A = np.array([[1, 2, 3],\n",
        "              [4, 5, 6]])\n",
        "A"
      ],
      "metadata": {
        "colab": {
          "base_uri": "https://localhost:8080/"
        },
        "id": "iU5YMCkMdgNp",
        "outputId": "7a615973-fe60-46ad-c047-b77c319131fa"
      },
      "execution_count": 80,
      "outputs": [
        {
          "output_type": "execute_result",
          "data": {
            "text/plain": [
              "array([[1, 2, 3],\n",
              "       [4, 5, 6]])"
            ]
          },
          "metadata": {},
          "execution_count": 80
        }
      ]
    },
    {
      "cell_type": "code",
      "source": [
        "B = np.array([[7, 2, -3],\n",
        "              [0, 1, 6]])\n",
        "B"
      ],
      "metadata": {
        "colab": {
          "base_uri": "https://localhost:8080/"
        },
        "id": "b3h9ZjwwdxLk",
        "outputId": "024d3fa3-1c77-4eec-cfff-ce3302f6dcd3"
      },
      "execution_count": 81,
      "outputs": [
        {
          "output_type": "execute_result",
          "data": {
            "text/plain": [
              "array([[ 7,  2, -3],\n",
              "       [ 0,  1,  6]])"
            ]
          },
          "metadata": {},
          "execution_count": 81
        }
      ]
    },
    {
      "cell_type": "markdown",
      "source": [
        "### Multiply Matrices"
      ],
      "metadata": {
        "id": "ojZWzNL0YDG3"
      }
    },
    {
      "cell_type": "code",
      "source": [
        "np.matmul(M, N)"
      ],
      "metadata": {
        "colab": {
          "base_uri": "https://localhost:8080/"
        },
        "id": "Bc-Def4Kc1iQ",
        "outputId": "3e99f2bc-7e52-4955-c1f2-3f2ebc0690c4"
      },
      "execution_count": 82,
      "outputs": [
        {
          "output_type": "execute_result",
          "data": {
            "text/plain": [
              "array([[-86., -82.,  46.],\n",
              "       [-14.,   8.,  -8.],\n",
              "       [ 58.,  98., -62.]])"
            ]
          },
          "metadata": {},
          "execution_count": 82
        }
      ]
    },
    {
      "cell_type": "code",
      "source": [
        "M.dot(N)"
      ],
      "metadata": {
        "colab": {
          "base_uri": "https://localhost:8080/"
        },
        "id": "NNRQKf_nc7TO",
        "outputId": "75e5d397-85e8-4719-a7cf-d4692fd8968c"
      },
      "execution_count": 83,
      "outputs": [
        {
          "output_type": "execute_result",
          "data": {
            "text/plain": [
              "array([[-86., -82.,  46.],\n",
              "       [-14.,   8.,  -8.],\n",
              "       [ 58.,  98., -62.]])"
            ]
          },
          "metadata": {},
          "execution_count": 83
        }
      ]
    },
    {
      "cell_type": "code",
      "source": [
        "np.dot(M, N)"
      ],
      "metadata": {
        "colab": {
          "base_uri": "https://localhost:8080/"
        },
        "id": "sLwxM0xYdBZa",
        "outputId": "f8498e78-2868-48a2-cd6d-febb514b4628"
      },
      "execution_count": 84,
      "outputs": [
        {
          "output_type": "execute_result",
          "data": {
            "text/plain": [
              "array([[-86., -82.,  46.],\n",
              "       [-14.,   8.,  -8.],\n",
              "       [ 58.,  98., -62.]])"
            ]
          },
          "metadata": {},
          "execution_count": 84
        }
      ]
    },
    {
      "cell_type": "code",
      "source": [
        "M @ N"
      ],
      "metadata": {
        "colab": {
          "base_uri": "https://localhost:8080/"
        },
        "id": "PKu81EJRdDH6",
        "outputId": "34ede7d9-c52f-4195-de9f-9e4622e3afe5"
      },
      "execution_count": 85,
      "outputs": [
        {
          "output_type": "execute_result",
          "data": {
            "text/plain": [
              "array([[-86., -82.,  46.],\n",
              "       [-14.,   8.,  -8.],\n",
              "       [ 58.,  98., -62.]])"
            ]
          },
          "metadata": {},
          "execution_count": 85
        }
      ]
    },
    {
      "cell_type": "code",
      "source": [
        "# careful, does not work\n",
        "# this does element-wise multiplication\n",
        "M * N"
      ],
      "metadata": {
        "colab": {
          "base_uri": "https://localhost:8080/"
        },
        "id": "22mhpFvmdFfD",
        "outputId": "ac40ad96-7934-4dea-9788-f1d6c7c073dd"
      },
      "execution_count": 86,
      "outputs": [
        {
          "output_type": "execute_result",
          "data": {
            "text/plain": [
              "array([[-48., -12.,  -4.],\n",
              "       [-14.,   0., -14.],\n",
              "       [ -4.,  36., -24.]])"
            ]
          },
          "metadata": {},
          "execution_count": 86
        }
      ]
    },
    {
      "cell_type": "code",
      "source": [
        "A.shape, B.shape\n",
        "# A @ B is not possible\n",
        "# B @ A is also not possible"
      ],
      "metadata": {
        "colab": {
          "base_uri": "https://localhost:8080/"
        },
        "id": "WQej98Acd8UU",
        "outputId": "5e23d95a-cd72-4c06-ca07-d9b5d78a544e"
      },
      "execution_count": 87,
      "outputs": [
        {
          "output_type": "execute_result",
          "data": {
            "text/plain": [
              "((2, 3), (2, 3))"
            ]
          },
          "metadata": {},
          "execution_count": 87
        }
      ]
    },
    {
      "cell_type": "code",
      "source": [
        "A.shape, B.T.shape"
      ],
      "metadata": {
        "colab": {
          "base_uri": "https://localhost:8080/"
        },
        "id": "3BNYzXv3ecHG",
        "outputId": "8d57e722-ba06-435a-db18-0f09384c897a"
      },
      "execution_count": 88,
      "outputs": [
        {
          "output_type": "execute_result",
          "data": {
            "text/plain": [
              "((2, 3), (3, 2))"
            ]
          },
          "metadata": {},
          "execution_count": 88
        }
      ]
    },
    {
      "cell_type": "code",
      "source": [
        "A @ B.T"
      ],
      "metadata": {
        "colab": {
          "base_uri": "https://localhost:8080/"
        },
        "id": "oaVCq7X6efu7",
        "outputId": "3af3f4f6-409d-4711-8634-7ea308e44b5b"
      },
      "execution_count": 89,
      "outputs": [
        {
          "output_type": "execute_result",
          "data": {
            "text/plain": [
              "array([[ 2, 20],\n",
              "       [20, 41]])"
            ]
          },
          "metadata": {},
          "execution_count": 89
        }
      ]
    },
    {
      "cell_type": "markdown",
      "source": [
        "### Determinant\n",
        "\n",
        "- A matrix with a determinant of 0, is called a **singular matrix**\n",
        "- Singular matrices are not invertible"
      ],
      "metadata": {
        "id": "bN0s1Yukeumq"
      }
    },
    {
      "cell_type": "code",
      "source": [
        "np.linalg.det(M)"
      ],
      "metadata": {
        "colab": {
          "base_uri": "https://localhost:8080/"
        },
        "id": "NqHgvfEqe4vB",
        "outputId": "eeb1d456-c2c9-42d4-cd33-15d82ddd062b"
      },
      "execution_count": 90,
      "outputs": [
        {
          "output_type": "execute_result",
          "data": {
            "text/plain": [
              "0.0"
            ]
          },
          "metadata": {},
          "execution_count": 90
        }
      ]
    },
    {
      "cell_type": "code",
      "source": [
        "np.linalg.det(N)"
      ],
      "metadata": {
        "colab": {
          "base_uri": "https://localhost:8080/"
        },
        "id": "EwY8IUkAfR7x",
        "outputId": "aebde901-b47f-47cc-96c0-ec84a2fab0e3"
      },
      "execution_count": 91,
      "outputs": [
        {
          "output_type": "execute_result",
          "data": {
            "text/plain": [
              "230.99999999999994"
            ]
          },
          "metadata": {},
          "execution_count": 91
        }
      ]
    },
    {
      "cell_type": "markdown",
      "source": [
        "### Inverse"
      ],
      "metadata": {
        "id": "nsOy63JDf1mx"
      }
    },
    {
      "cell_type": "code",
      "source": [
        "if np.linalg.det(N) != 0:\n",
        "    print(np.linalg.inv(N))\n",
        "else:\n",
        "    print('`N` is not invertible')"
      ],
      "metadata": {
        "colab": {
          "base_uri": "https://localhost:8080/"
        },
        "id": "rrl6CftKfx9n",
        "outputId": "2b1a87b1-95f3-468d-bc89-013c221d82f7"
      },
      "execution_count": 92,
      "outputs": [
        {
          "output_type": "stream",
          "name": "stdout",
          "text": [
            "[[ 0.09090909  0.05194805 -0.09090909]\n",
            " [ 0.12121212 -0.07359307  0.21212121]\n",
            " [ 0.21212121 -0.16450216  0.12121212]]\n"
          ]
        }
      ]
    },
    {
      "cell_type": "markdown",
      "source": [
        "### Matrix Addition and Subtraction"
      ],
      "metadata": {
        "id": "Mr6d5yRMffHw"
      }
    },
    {
      "cell_type": "code",
      "source": [
        "M.shape, N.shape"
      ],
      "metadata": {
        "colab": {
          "base_uri": "https://localhost:8080/"
        },
        "id": "vl0-RWN-fWUz",
        "outputId": "7c375d9e-e88e-47d9-94bd-9445960416df"
      },
      "execution_count": 93,
      "outputs": [
        {
          "output_type": "execute_result",
          "data": {
            "text/plain": [
              "((3, 3), (3, 3))"
            ]
          },
          "metadata": {},
          "execution_count": 93
        }
      ]
    },
    {
      "cell_type": "code",
      "source": [
        "M + N"
      ],
      "metadata": {
        "colab": {
          "base_uri": "https://localhost:8080/"
        },
        "id": "yAVzix0nfkji",
        "outputId": "39a0da32-32b8-4b1d-ce98-4f0844f1cc39"
      },
      "execution_count": 94,
      "outputs": [
        {
          "output_type": "execute_result",
          "data": {
            "text/plain": [
              "array([[-2., -4., -3.],\n",
              "       [ 5.,  7., -5.],\n",
              "       [ 3., 12.,  5.]])"
            ]
          },
          "metadata": {},
          "execution_count": 94
        }
      ]
    },
    {
      "cell_type": "code",
      "source": [
        "M - N"
      ],
      "metadata": {
        "colab": {
          "base_uri": "https://localhost:8080/"
        },
        "id": "6U4Jrk0WfmXi",
        "outputId": "f72e64fa-f447-4f0c-c379-c6d108a370fb"
      },
      "execution_count": 95,
      "outputs": [
        {
          "output_type": "execute_result",
          "data": {
            "text/plain": [
              "array([[-14.,  -8.,  -5.],\n",
              "       [ -9.,  -7.,   9.],\n",
              "       [  5.,   0.,  11.]])"
            ]
          },
          "metadata": {},
          "execution_count": 95
        }
      ]
    },
    {
      "cell_type": "code",
      "source": [
        "N - M"
      ],
      "metadata": {
        "colab": {
          "base_uri": "https://localhost:8080/"
        },
        "id": "kXnjxUPjfnyd",
        "outputId": "57d1d287-6801-4491-b578-142710f636d6"
      },
      "execution_count": 96,
      "outputs": [
        {
          "output_type": "execute_result",
          "data": {
            "text/plain": [
              "array([[ 14.,   8.,   5.],\n",
              "       [  9.,   7.,  -9.],\n",
              "       [ -5.,   0., -11.]])"
            ]
          },
          "metadata": {},
          "execution_count": 96
        }
      ]
    },
    {
      "cell_type": "code",
      "source": [
        "2 * M"
      ],
      "metadata": {
        "colab": {
          "base_uri": "https://localhost:8080/"
        },
        "id": "Y1DQgGw4hXlj",
        "outputId": "6877ce0e-266d-4b40-8d62-b5f0d57a3be1"
      },
      "execution_count": 97,
      "outputs": [
        {
          "output_type": "execute_result",
          "data": {
            "text/plain": [
              "array([[-16., -12.,  -8.],\n",
              "       [ -4.,   0.,   4.],\n",
              "       [  8.,  12.,  16.]])"
            ]
          },
          "metadata": {},
          "execution_count": 97
        }
      ]
    },
    {
      "cell_type": "markdown",
      "source": [
        "## 2.2.1.7 Quiz"
      ],
      "metadata": {
        "id": "5-fEAD5GheBv"
      }
    }
  ]
}