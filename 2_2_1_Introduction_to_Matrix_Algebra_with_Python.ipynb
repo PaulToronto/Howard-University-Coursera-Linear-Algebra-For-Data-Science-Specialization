{
  "nbformat": 4,
  "nbformat_minor": 0,
  "metadata": {
    "colab": {
      "provenance": [],
      "toc_visible": true,
      "authorship_tag": "ABX9TyOSdQ6GAAXTb/h69y3CMQ1r",
      "include_colab_link": true
    },
    "kernelspec": {
      "name": "python3",
      "display_name": "Python 3"
    },
    "language_info": {
      "name": "python"
    }
  },
  "cells": [
    {
      "cell_type": "markdown",
      "metadata": {
        "id": "view-in-github",
        "colab_type": "text"
      },
      "source": [
        "<a href=\"https://colab.research.google.com/github/PaulToronto/Howard-University-Coursera-Linear-Algebra-For-Data-Science-Specialization/blob/main/2_2_1_Introduction_to_Matrix_Algebra_with_Python.ipynb\" target=\"_parent\"><img src=\"https://colab.research.google.com/assets/colab-badge.svg\" alt=\"Open In Colab\"/></a>"
      ]
    },
    {
      "cell_type": "markdown",
      "source": [
        "# 2.2.1 Introduction to Matrix Algebra with Python"
      ],
      "metadata": {
        "id": "gww9TbBAbh4F"
      }
    },
    {
      "cell_type": "markdown",
      "source": [
        "## Imports"
      ],
      "metadata": {
        "id": "WiJhdU9Hb3j1"
      }
    },
    {
      "cell_type": "code",
      "source": [
        "import sympy as sym\n",
        "import numpy as np\n",
        "import random"
      ],
      "metadata": {
        "id": "Vrfd5YpKb6I8"
      },
      "execution_count": 1,
      "outputs": []
    },
    {
      "cell_type": "markdown",
      "source": [
        "## 2.2.1.1 Review of Matrix Arithmetic"
      ],
      "metadata": {
        "id": "0m7UXeVKb6qI"
      }
    },
    {
      "cell_type": "markdown",
      "source": [
        "### Example\n",
        "\n",
        "Write $2A(\\vec{u} + \\vec{v})$ as a single matrix."
      ],
      "metadata": {
        "id": "F_8gqhGlcqT9"
      }
    },
    {
      "cell_type": "code",
      "source": [
        "A = sym.Matrix([[2, 1],\n",
        "                [0, -4]])\n",
        "A"
      ],
      "metadata": {
        "colab": {
          "base_uri": "https://localhost:8080/",
          "height": 58
        },
        "id": "e6zaMlVfc3c6",
        "outputId": "3fe9312c-14b9-46d4-acd8-368a9500f301"
      },
      "execution_count": 2,
      "outputs": [
        {
          "output_type": "execute_result",
          "data": {
            "text/plain": [
              "Matrix([\n",
              "[2,  1],\n",
              "[0, -4]])"
            ],
            "text/latex": "$\\displaystyle \\left[\\begin{matrix}2 & 1\\\\0 & -4\\end{matrix}\\right]$"
          },
          "metadata": {},
          "execution_count": 2
        }
      ]
    },
    {
      "cell_type": "code",
      "source": [
        "u = sym.Matrix([[4],\n",
        "                [-1]])\n",
        "u"
      ],
      "metadata": {
        "colab": {
          "base_uri": "https://localhost:8080/",
          "height": 58
        },
        "id": "QckkRdoidAcS",
        "outputId": "fee94f77-34da-4b3e-8fea-cae35903d720"
      },
      "execution_count": 3,
      "outputs": [
        {
          "output_type": "execute_result",
          "data": {
            "text/plain": [
              "Matrix([\n",
              "[ 4],\n",
              "[-1]])"
            ],
            "text/latex": "$\\displaystyle \\left[\\begin{matrix}4\\\\-1\\end{matrix}\\right]$"
          },
          "metadata": {},
          "execution_count": 3
        }
      ]
    },
    {
      "cell_type": "code",
      "source": [
        "v = sym.Matrix([[-3],\n",
        "                [5]])\n",
        "v"
      ],
      "metadata": {
        "colab": {
          "base_uri": "https://localhost:8080/",
          "height": 58
        },
        "id": "eULzIMm1dGHV",
        "outputId": "1edd790a-99b8-4e61-81a0-e46013d98d99"
      },
      "execution_count": 4,
      "outputs": [
        {
          "output_type": "execute_result",
          "data": {
            "text/plain": [
              "Matrix([\n",
              "[-3],\n",
              "[ 5]])"
            ],
            "text/latex": "$\\displaystyle \\left[\\begin{matrix}-3\\\\5\\end{matrix}\\right]$"
          },
          "metadata": {},
          "execution_count": 4
        }
      ]
    },
    {
      "cell_type": "code",
      "source": [
        "2 * A * (u + v)"
      ],
      "metadata": {
        "colab": {
          "base_uri": "https://localhost:8080/",
          "height": 58
        },
        "id": "c_kCxCvSdemk",
        "outputId": "588fdff3-0265-4b9a-ad5c-b8ae4628ebcf"
      },
      "execution_count": 5,
      "outputs": [
        {
          "output_type": "execute_result",
          "data": {
            "text/plain": [
              "Matrix([\n",
              "[ 12],\n",
              "[-32]])"
            ],
            "text/latex": "$\\displaystyle \\left[\\begin{matrix}12\\\\-32\\end{matrix}\\right]$"
          },
          "metadata": {},
          "execution_count": 5
        }
      ]
    },
    {
      "cell_type": "markdown",
      "source": [
        "### Example\n",
        "\n",
        "Find and simplify:\n",
        "\n",
        "1. $B(A^{-1}B)^{-1}$\n",
        "2. $(A^{T} - B)^{T}$"
      ],
      "metadata": {
        "id": "zt1TRmqmeDAR"
      }
    },
    {
      "cell_type": "code",
      "source": [
        "A = sym.Matrix([[1, 0, 1],\n",
        "                [0, 3, 0],\n",
        "                [1, 0, 5]])\n",
        "A"
      ],
      "metadata": {
        "colab": {
          "base_uri": "https://localhost:8080/",
          "height": 78
        },
        "id": "PjSb_NXzedD3",
        "outputId": "289a26db-11df-4648-f6ac-36ce3fba120e"
      },
      "execution_count": 6,
      "outputs": [
        {
          "output_type": "execute_result",
          "data": {
            "text/plain": [
              "Matrix([\n",
              "[1, 0, 1],\n",
              "[0, 3, 0],\n",
              "[1, 0, 5]])"
            ],
            "text/latex": "$\\displaystyle \\left[\\begin{matrix}1 & 0 & 1\\\\0 & 3 & 0\\\\1 & 0 & 5\\end{matrix}\\right]$"
          },
          "metadata": {},
          "execution_count": 6
        }
      ]
    },
    {
      "cell_type": "code",
      "source": [
        "B = sym.Matrix([[-1, 0, 1],\n",
        "                [0, 5, 6],\n",
        "                [3, 0, 1]])\n",
        "B"
      ],
      "metadata": {
        "colab": {
          "base_uri": "https://localhost:8080/",
          "height": 78
        },
        "id": "UGRy098XelIS",
        "outputId": "be74195d-4e3a-4696-8c69-58531ce6e20e"
      },
      "execution_count": 7,
      "outputs": [
        {
          "output_type": "execute_result",
          "data": {
            "text/plain": [
              "Matrix([\n",
              "[-1, 0, 1],\n",
              "[ 0, 5, 6],\n",
              "[ 3, 0, 1]])"
            ],
            "text/latex": "$\\displaystyle \\left[\\begin{matrix}-1 & 0 & 1\\\\0 & 5 & 6\\\\3 & 0 & 1\\end{matrix}\\right]$"
          },
          "metadata": {},
          "execution_count": 7
        }
      ]
    },
    {
      "cell_type": "code",
      "source": [
        "# 1.\n",
        "B @ (A.inv() @ B).inv()"
      ],
      "metadata": {
        "colab": {
          "base_uri": "https://localhost:8080/",
          "height": 78
        },
        "id": "BRYOeBK8ueUN",
        "outputId": "844f71fd-08ea-4aa6-dcb6-43d912d4b914"
      },
      "execution_count": 8,
      "outputs": [
        {
          "output_type": "execute_result",
          "data": {
            "text/plain": [
              "Matrix([\n",
              "[1, 0, 1],\n",
              "[0, 3, 0],\n",
              "[1, 0, 5]])"
            ],
            "text/latex": "$\\displaystyle \\left[\\begin{matrix}1 & 0 & 1\\\\0 & 3 & 0\\\\1 & 0 & 5\\end{matrix}\\right]$"
          },
          "metadata": {},
          "execution_count": 8
        }
      ]
    },
    {
      "cell_type": "code",
      "source": [
        "# 2.\n",
        "(A.T - B).T"
      ],
      "metadata": {
        "colab": {
          "base_uri": "https://localhost:8080/",
          "height": 78
        },
        "id": "xAvBmdVxyIDC",
        "outputId": "454f8351-3c38-4204-8c43-37f92dc3d717"
      },
      "execution_count": 9,
      "outputs": [
        {
          "output_type": "execute_result",
          "data": {
            "text/plain": [
              "Matrix([\n",
              "[2,  0, -2],\n",
              "[0, -2,  0],\n",
              "[0, -6,  4]])"
            ],
            "text/latex": "$\\displaystyle \\left[\\begin{matrix}2 & 0 & -2\\\\0 & -2 & 0\\\\0 & -6 & 4\\end{matrix}\\right]$"
          },
          "metadata": {},
          "execution_count": 9
        }
      ]
    },
    {
      "cell_type": "markdown",
      "source": [
        "Same thing, using `numpy`"
      ],
      "metadata": {
        "id": "jbzV9wpFy7oS"
      }
    },
    {
      "cell_type": "code",
      "source": [
        "Anp = np.array(A, dtype='int')\n",
        "Anp"
      ],
      "metadata": {
        "colab": {
          "base_uri": "https://localhost:8080/"
        },
        "id": "rqtIaSnqzIXB",
        "outputId": "cb85642e-9805-4c74-b59b-c314c3ccec9f"
      },
      "execution_count": 10,
      "outputs": [
        {
          "output_type": "execute_result",
          "data": {
            "text/plain": [
              "array([[1, 0, 1],\n",
              "       [0, 3, 0],\n",
              "       [1, 0, 5]])"
            ]
          },
          "metadata": {},
          "execution_count": 10
        }
      ]
    },
    {
      "cell_type": "code",
      "source": [
        "Bnp = np.array(B, dtype='int')\n",
        "Bnp"
      ],
      "metadata": {
        "colab": {
          "base_uri": "https://localhost:8080/"
        },
        "id": "PJ9Zg4yH0M0M",
        "outputId": "1957a4c6-f7e1-42c8-f5fd-849f68b57a62"
      },
      "execution_count": 11,
      "outputs": [
        {
          "output_type": "execute_result",
          "data": {
            "text/plain": [
              "array([[-1,  0,  1],\n",
              "       [ 0,  5,  6],\n",
              "       [ 3,  0,  1]])"
            ]
          },
          "metadata": {},
          "execution_count": 11
        }
      ]
    },
    {
      "cell_type": "code",
      "source": [
        "# 1.\n",
        "Bnp @ np.linalg.inv(np.linalg.inv(Anp) @ Bnp)"
      ],
      "metadata": {
        "colab": {
          "base_uri": "https://localhost:8080/"
        },
        "id": "OFvBzKvW0SHk",
        "outputId": "dd5a915b-7038-473f-d2bd-0b900d1b4f30"
      },
      "execution_count": 12,
      "outputs": [
        {
          "output_type": "execute_result",
          "data": {
            "text/plain": [
              "array([[ 1.00000000e+00,  0.00000000e+00,  1.00000000e+00],\n",
              "       [-8.88178420e-16,  3.00000000e+00, -1.77635684e-15],\n",
              "       [ 1.00000000e+00,  0.00000000e+00,  5.00000000e+00]])"
            ]
          },
          "metadata": {},
          "execution_count": 12
        }
      ]
    },
    {
      "cell_type": "code",
      "source": [
        "# 2.\n",
        "np.transpose(np.transpose(Anp) - Bnp)"
      ],
      "metadata": {
        "colab": {
          "base_uri": "https://localhost:8080/"
        },
        "id": "ym25IkLB1y5c",
        "outputId": "c196f642-cfba-4712-b0a2-80332df268db"
      },
      "execution_count": 13,
      "outputs": [
        {
          "output_type": "execute_result",
          "data": {
            "text/plain": [
              "array([[ 2,  0, -2],\n",
              "       [ 0, -2,  0],\n",
              "       [ 0, -6,  4]])"
            ]
          },
          "metadata": {},
          "execution_count": 13
        }
      ]
    },
    {
      "cell_type": "markdown",
      "source": [
        "### Some Matrix Rules\n",
        "\n",
        "1. $(AB)^{-1} = B^{-1}A^{-1}$\n",
        "2. $(A^{T})^{T} = A$\n",
        "3. $(A + B)^{T} = A^{T} + B^{T}$"
      ],
      "metadata": {
        "id": "dC5Z5sZP4d5b"
      }
    },
    {
      "cell_type": "markdown",
      "source": [
        "In light of these rules, lets revisit the previous example. ***We already know that A and B are invertible, which is important.***\n",
        "\n",
        "Find and simplify:\n",
        "\n",
        "1. $B(A^{-1}B)^{-1}$\n",
        "2. $(A^{T} - B)^{T}$"
      ],
      "metadata": {
        "id": "W50RfBB33a_W"
      }
    },
    {
      "cell_type": "markdown",
      "source": [
        "$$\n",
        "\\begin{align}\n",
        "B(A^{-1}B)^{-1} &= B(B^{-1}A) \\\\\n",
        "&= IA \\\\\n",
        "&= A\n",
        "\\end{align}\n",
        "$$"
      ],
      "metadata": {
        "id": "J7Ft8rfc5d4e"
      }
    },
    {
      "cell_type": "code",
      "source": [
        "A"
      ],
      "metadata": {
        "colab": {
          "base_uri": "https://localhost:8080/",
          "height": 78
        },
        "id": "TVJZAstK61py",
        "outputId": "6f34492f-c448-437f-dfa0-192fcb60a570"
      },
      "execution_count": 14,
      "outputs": [
        {
          "output_type": "execute_result",
          "data": {
            "text/plain": [
              "Matrix([\n",
              "[1, 0, 1],\n",
              "[0, 3, 0],\n",
              "[1, 0, 5]])"
            ],
            "text/latex": "$\\displaystyle \\left[\\begin{matrix}1 & 0 & 1\\\\0 & 3 & 0\\\\1 & 0 & 5\\end{matrix}\\right]$"
          },
          "metadata": {},
          "execution_count": 14
        }
      ]
    },
    {
      "cell_type": "markdown",
      "source": [
        "$$\n",
        "\\begin{align}\n",
        "(A^{T} - B)^{T} &= (A^{T})^{T} - B^{T} \\\\\n",
        "&= A - B^{T}\n",
        "\\end{align}\n",
        "$$"
      ],
      "metadata": {
        "id": "Q7F2y9T958OM"
      }
    },
    {
      "cell_type": "code",
      "source": [
        "A - B.T"
      ],
      "metadata": {
        "colab": {
          "base_uri": "https://localhost:8080/",
          "height": 78
        },
        "id": "TRa2oXG26f6G",
        "outputId": "6e0e4114-f48d-4e8c-e9cf-5622eadc3ce2"
      },
      "execution_count": 15,
      "outputs": [
        {
          "output_type": "execute_result",
          "data": {
            "text/plain": [
              "Matrix([\n",
              "[2,  0, -2],\n",
              "[0, -2,  0],\n",
              "[0, -6,  4]])"
            ],
            "text/latex": "$\\displaystyle \\left[\\begin{matrix}2 & 0 & -2\\\\0 & -2 & 0\\\\0 & -6 & 4\\end{matrix}\\right]$"
          },
          "metadata": {},
          "execution_count": 15
        }
      ]
    },
    {
      "cell_type": "markdown",
      "source": [
        "## 2.2.1.2 Review Matrix Algebra in Python"
      ],
      "metadata": {
        "id": "zAKovOlP7gXe"
      }
    },
    {
      "cell_type": "code",
      "source": [
        "L = sym.Matrix([[-3, 3, 5],\n",
        "               [2, 5, 1]])\n",
        "M = sym.Matrix([[3, 1, 2],\n",
        "                [6, 4, 8],\n",
        "                [5, 9, 7]])\n",
        "N = sym.Matrix([[0, -1, 2],\n",
        "                [2, 6, 1],\n",
        "                [4, 1, 3]])\n",
        "P = sym.Matrix([[-3, 3],\n",
        "                [2, 5],\n",
        "                [4, 2]])"
      ],
      "metadata": {
        "id": "buVwY3HKDFkt"
      },
      "execution_count": 16,
      "outputs": []
    },
    {
      "cell_type": "code",
      "source": [
        "L"
      ],
      "metadata": {
        "colab": {
          "base_uri": "https://localhost:8080/",
          "height": 58
        },
        "id": "fz_fU83FEFcW",
        "outputId": "f4d6a81f-dbf1-456a-ba72-91b6221c4578"
      },
      "execution_count": 17,
      "outputs": [
        {
          "output_type": "execute_result",
          "data": {
            "text/plain": [
              "Matrix([\n",
              "[-3, 3, 5],\n",
              "[ 2, 5, 1]])"
            ],
            "text/latex": "$\\displaystyle \\left[\\begin{matrix}-3 & 3 & 5\\\\2 & 5 & 1\\end{matrix}\\right]$"
          },
          "metadata": {},
          "execution_count": 17
        }
      ]
    },
    {
      "cell_type": "code",
      "source": [
        "M"
      ],
      "metadata": {
        "colab": {
          "base_uri": "https://localhost:8080/",
          "height": 78
        },
        "id": "w8fra2swEGy_",
        "outputId": "100fff5b-e9bd-4557-d2a8-dde2a8d86c6b"
      },
      "execution_count": 18,
      "outputs": [
        {
          "output_type": "execute_result",
          "data": {
            "text/plain": [
              "Matrix([\n",
              "[3, 1, 2],\n",
              "[6, 4, 8],\n",
              "[5, 9, 7]])"
            ],
            "text/latex": "$\\displaystyle \\left[\\begin{matrix}3 & 1 & 2\\\\6 & 4 & 8\\\\5 & 9 & 7\\end{matrix}\\right]$"
          },
          "metadata": {},
          "execution_count": 18
        }
      ]
    },
    {
      "cell_type": "code",
      "source": [
        "N"
      ],
      "metadata": {
        "colab": {
          "base_uri": "https://localhost:8080/",
          "height": 78
        },
        "id": "x13ET2bvEJMv",
        "outputId": "f7e3c0b8-3e0b-4d0b-a162-c47e4b63f58f"
      },
      "execution_count": 19,
      "outputs": [
        {
          "output_type": "execute_result",
          "data": {
            "text/plain": [
              "Matrix([\n",
              "[0, -1, 2],\n",
              "[2,  6, 1],\n",
              "[4,  1, 3]])"
            ],
            "text/latex": "$\\displaystyle \\left[\\begin{matrix}0 & -1 & 2\\\\2 & 6 & 1\\\\4 & 1 & 3\\end{matrix}\\right]$"
          },
          "metadata": {},
          "execution_count": 19
        }
      ]
    },
    {
      "cell_type": "code",
      "source": [
        "P"
      ],
      "metadata": {
        "colab": {
          "base_uri": "https://localhost:8080/",
          "height": 78
        },
        "id": "eraI13rZEKoP",
        "outputId": "17a71114-fd7c-44a7-c2c7-cd2f707f74e2"
      },
      "execution_count": 20,
      "outputs": [
        {
          "output_type": "execute_result",
          "data": {
            "text/plain": [
              "Matrix([\n",
              "[-3, 3],\n",
              "[ 2, 5],\n",
              "[ 4, 2]])"
            ],
            "text/latex": "$\\displaystyle \\left[\\begin{matrix}-3 & 3\\\\2 & 5\\\\4 & 2\\end{matrix}\\right]$"
          },
          "metadata": {},
          "execution_count": 20
        }
      ]
    },
    {
      "cell_type": "markdown",
      "source": [
        "### Add Matrices"
      ],
      "metadata": {
        "id": "YRDigWTdDx4K"
      }
    },
    {
      "cell_type": "code",
      "source": [
        "M + N"
      ],
      "metadata": {
        "colab": {
          "base_uri": "https://localhost:8080/",
          "height": 78
        },
        "id": "j-kSzjfqD1Xn",
        "outputId": "ac701039-479c-4b52-b1b0-6401ba6f85ae"
      },
      "execution_count": 21,
      "outputs": [
        {
          "output_type": "execute_result",
          "data": {
            "text/plain": [
              "Matrix([\n",
              "[3,  0,  4],\n",
              "[8, 10,  9],\n",
              "[9, 10, 10]])"
            ],
            "text/latex": "$\\displaystyle \\left[\\begin{matrix}3 & 0 & 4\\\\8 & 10 & 9\\\\9 & 10 & 10\\end{matrix}\\right]$"
          },
          "metadata": {},
          "execution_count": 21
        }
      ]
    },
    {
      "cell_type": "markdown",
      "source": [
        "### Subtract Matrices"
      ],
      "metadata": {
        "id": "ORCXN2wdEySF"
      }
    },
    {
      "cell_type": "code",
      "source": [
        "M - N"
      ],
      "metadata": {
        "colab": {
          "base_uri": "https://localhost:8080/",
          "height": 78
        },
        "id": "hVFByxAZE2_q",
        "outputId": "c516ce9e-c31f-473d-8b02-b1a2f332c845"
      },
      "execution_count": 22,
      "outputs": [
        {
          "output_type": "execute_result",
          "data": {
            "text/plain": [
              "Matrix([\n",
              "[3,  2, 0],\n",
              "[4, -2, 7],\n",
              "[1,  8, 4]])"
            ],
            "text/latex": "$\\displaystyle \\left[\\begin{matrix}3 & 2 & 0\\\\4 & -2 & 7\\\\1 & 8 & 4\\end{matrix}\\right]$"
          },
          "metadata": {},
          "execution_count": 22
        }
      ]
    },
    {
      "cell_type": "code",
      "source": [
        "N - M"
      ],
      "metadata": {
        "colab": {
          "base_uri": "https://localhost:8080/",
          "height": 78
        },
        "id": "WZAa2wEBE5M4",
        "outputId": "80e87ee0-4283-4e27-bf6b-1737c3d35f9f"
      },
      "execution_count": 23,
      "outputs": [
        {
          "output_type": "execute_result",
          "data": {
            "text/plain": [
              "Matrix([\n",
              "[-3, -2,  0],\n",
              "[-4,  2, -7],\n",
              "[-1, -8, -4]])"
            ],
            "text/latex": "$\\displaystyle \\left[\\begin{matrix}-3 & -2 & 0\\\\-4 & 2 & -7\\\\-1 & -8 & -4\\end{matrix}\\right]$"
          },
          "metadata": {},
          "execution_count": 23
        }
      ]
    },
    {
      "cell_type": "markdown",
      "source": [
        "### Multiply Matrices\n",
        "\n",
        "$A \\times B$ is only possible if the number of columns of $A$ is equal to the number of rows of $B$"
      ],
      "metadata": {
        "id": "2pjX6xOtFE64"
      }
    },
    {
      "cell_type": "code",
      "source": [
        "L.shape, P.shape"
      ],
      "metadata": {
        "colab": {
          "base_uri": "https://localhost:8080/"
        },
        "id": "RcjCYYBGFHb9",
        "outputId": "f7bafb27-8798-4bd1-ed8f-c9f05534155e"
      },
      "execution_count": 24,
      "outputs": [
        {
          "output_type": "execute_result",
          "data": {
            "text/plain": [
              "((2, 3), (3, 2))"
            ]
          },
          "metadata": {},
          "execution_count": 24
        }
      ]
    },
    {
      "cell_type": "code",
      "source": [
        "L * P"
      ],
      "metadata": {
        "colab": {
          "base_uri": "https://localhost:8080/",
          "height": 58
        },
        "id": "dJIB3dsXFg63",
        "outputId": "038a26e5-2768-4ea2-b422-8188d86243e8"
      },
      "execution_count": 25,
      "outputs": [
        {
          "output_type": "execute_result",
          "data": {
            "text/plain": [
              "Matrix([\n",
              "[35, 16],\n",
              "[ 8, 33]])"
            ],
            "text/latex": "$\\displaystyle \\left[\\begin{matrix}35 & 16\\\\8 & 33\\end{matrix}\\right]$"
          },
          "metadata": {},
          "execution_count": 25
        }
      ]
    },
    {
      "cell_type": "code",
      "source": [
        "L.shape, M.shape"
      ],
      "metadata": {
        "colab": {
          "base_uri": "https://localhost:8080/"
        },
        "id": "oVz-AAEKGbFb",
        "outputId": "d194c668-65ed-41cc-eab6-63c6c9138ce8"
      },
      "execution_count": 26,
      "outputs": [
        {
          "output_type": "execute_result",
          "data": {
            "text/plain": [
              "((2, 3), (3, 3))"
            ]
          },
          "metadata": {},
          "execution_count": 26
        }
      ]
    },
    {
      "cell_type": "code",
      "source": [
        "L * M"
      ],
      "metadata": {
        "colab": {
          "base_uri": "https://localhost:8080/",
          "height": 58
        },
        "id": "tq3C316LGeOz",
        "outputId": "61d3b1f5-0e8d-430b-d7ba-3f171488433d"
      },
      "execution_count": 27,
      "outputs": [
        {
          "output_type": "execute_result",
          "data": {
            "text/plain": [
              "Matrix([\n",
              "[34, 54, 53],\n",
              "[41, 31, 51]])"
            ],
            "text/latex": "$\\displaystyle \\left[\\begin{matrix}34 & 54 & 53\\\\41 & 31 & 51\\end{matrix}\\right]$"
          },
          "metadata": {},
          "execution_count": 27
        }
      ]
    },
    {
      "cell_type": "code",
      "source": [
        "M.shape, L.shape # can't multiply these two"
      ],
      "metadata": {
        "colab": {
          "base_uri": "https://localhost:8080/"
        },
        "id": "mQYxBUwGGmXa",
        "outputId": "641a8630-3c5f-4a02-a9a5-38dff30a2fe7"
      },
      "execution_count": 28,
      "outputs": [
        {
          "output_type": "execute_result",
          "data": {
            "text/plain": [
              "((3, 3), (2, 3))"
            ]
          },
          "metadata": {},
          "execution_count": 28
        }
      ]
    },
    {
      "cell_type": "code",
      "source": [
        "M.shape, N.shape"
      ],
      "metadata": {
        "colab": {
          "base_uri": "https://localhost:8080/"
        },
        "id": "3mKVviuAHYEu",
        "outputId": "05b09724-1448-4fcc-c0ee-bdf5f3798395"
      },
      "execution_count": 29,
      "outputs": [
        {
          "output_type": "execute_result",
          "data": {
            "text/plain": [
              "((3, 3), (3, 3))"
            ]
          },
          "metadata": {},
          "execution_count": 29
        }
      ]
    },
    {
      "cell_type": "code",
      "source": [
        "M * N"
      ],
      "metadata": {
        "colab": {
          "base_uri": "https://localhost:8080/",
          "height": 78
        },
        "id": "korEV7ROHaKW",
        "outputId": "81525179-7306-4ea3-a164-1a0925f14c17"
      },
      "execution_count": 30,
      "outputs": [
        {
          "output_type": "execute_result",
          "data": {
            "text/plain": [
              "Matrix([\n",
              "[10,  5, 13],\n",
              "[40, 26, 40],\n",
              "[46, 56, 40]])"
            ],
            "text/latex": "$\\displaystyle \\left[\\begin{matrix}10 & 5 & 13\\\\40 & 26 & 40\\\\46 & 56 & 40\\end{matrix}\\right]$"
          },
          "metadata": {},
          "execution_count": 30
        }
      ]
    },
    {
      "cell_type": "code",
      "source": [
        "N * M"
      ],
      "metadata": {
        "colab": {
          "base_uri": "https://localhost:8080/",
          "height": 78
        },
        "id": "9Rwe8HvBHcSw",
        "outputId": "cd290215-779d-4582-a8ef-b690d5ec3642"
      },
      "execution_count": 31,
      "outputs": [
        {
          "output_type": "execute_result",
          "data": {
            "text/plain": [
              "Matrix([\n",
              "[ 4, 14,  6],\n",
              "[47, 35, 59],\n",
              "[33, 35, 37]])"
            ],
            "text/latex": "$\\displaystyle \\left[\\begin{matrix}4 & 14 & 6\\\\47 & 35 & 59\\\\33 & 35 & 37\\end{matrix}\\right]$"
          },
          "metadata": {},
          "execution_count": 31
        }
      ]
    },
    {
      "cell_type": "markdown",
      "source": [
        "## 2.2.1.3 Using Python to Find the Transpose of a Matrix"
      ],
      "metadata": {
        "id": "GjJJgmXnHtCJ"
      }
    },
    {
      "cell_type": "code",
      "source": [
        "L = sym.Matrix([[2, 4, 6],\n",
        "                [8, 10, 12]])\n",
        "M = sym.Matrix([[3, 1, 2],\n",
        "                [6, 4, 8],\n",
        "                [5, 9, 7]])\n",
        "N = sym.Matrix([[1],\n",
        "                [2],\n",
        "                [3]])\n",
        "P = sym.Matrix([[-3, 3],\n",
        "                [2, 5],\n",
        "                [4, 2]])\n",
        "I = sym.eye(3)"
      ],
      "metadata": {
        "id": "svCQsM5tH2oe"
      },
      "execution_count": 32,
      "outputs": []
    },
    {
      "cell_type": "code",
      "source": [
        "Q = np.array([[0, 3, 1],\n",
        "              [2, -1, 3],\n",
        "              [2, 1, 5]])"
      ],
      "metadata": {
        "id": "EgH1fW5bI34A"
      },
      "execution_count": 33,
      "outputs": []
    },
    {
      "cell_type": "markdown",
      "source": [
        "### Square Matrix"
      ],
      "metadata": {
        "id": "45u_i5KuJjeI"
      }
    },
    {
      "cell_type": "code",
      "source": [
        "M"
      ],
      "metadata": {
        "colab": {
          "base_uri": "https://localhost:8080/",
          "height": 78
        },
        "id": "fRDNWct9JwV4",
        "outputId": "ebb79be3-83a2-4d88-8706-6a667eaf8972"
      },
      "execution_count": 34,
      "outputs": [
        {
          "output_type": "execute_result",
          "data": {
            "text/plain": [
              "Matrix([\n",
              "[3, 1, 2],\n",
              "[6, 4, 8],\n",
              "[5, 9, 7]])"
            ],
            "text/latex": "$\\displaystyle \\left[\\begin{matrix}3 & 1 & 2\\\\6 & 4 & 8\\\\5 & 9 & 7\\end{matrix}\\right]$"
          },
          "metadata": {},
          "execution_count": 34
        }
      ]
    },
    {
      "cell_type": "code",
      "source": [
        "M.transpose()"
      ],
      "metadata": {
        "colab": {
          "base_uri": "https://localhost:8080/",
          "height": 78
        },
        "id": "wy3Hhvz1KAjY",
        "outputId": "f3ed18d9-4648-4a0d-8fd1-ee6ac9d0012b"
      },
      "execution_count": 35,
      "outputs": [
        {
          "output_type": "execute_result",
          "data": {
            "text/plain": [
              "Matrix([\n",
              "[3, 6, 5],\n",
              "[1, 4, 9],\n",
              "[2, 8, 7]])"
            ],
            "text/latex": "$\\displaystyle \\left[\\begin{matrix}3 & 6 & 5\\\\1 & 4 & 9\\\\2 & 8 & 7\\end{matrix}\\right]$"
          },
          "metadata": {},
          "execution_count": 35
        }
      ]
    },
    {
      "cell_type": "code",
      "source": [
        "M.T"
      ],
      "metadata": {
        "colab": {
          "base_uri": "https://localhost:8080/",
          "height": 78
        },
        "id": "WM1Gqe4SKCsK",
        "outputId": "2ecf95e7-fbc1-41eb-ef96-3aaff258f80d"
      },
      "execution_count": 36,
      "outputs": [
        {
          "output_type": "execute_result",
          "data": {
            "text/plain": [
              "Matrix([\n",
              "[3, 6, 5],\n",
              "[1, 4, 9],\n",
              "[2, 8, 7]])"
            ],
            "text/latex": "$\\displaystyle \\left[\\begin{matrix}3 & 6 & 5\\\\1 & 4 & 9\\\\2 & 8 & 7\\end{matrix}\\right]$"
          },
          "metadata": {},
          "execution_count": 36
        }
      ]
    },
    {
      "cell_type": "code",
      "source": [
        "np.transpose(M)"
      ],
      "metadata": {
        "colab": {
          "base_uri": "https://localhost:8080/"
        },
        "id": "QITTydEDKOwm",
        "outputId": "67c64402-5669-440e-e89d-7fdadf6bb463"
      },
      "execution_count": 37,
      "outputs": [
        {
          "output_type": "execute_result",
          "data": {
            "text/plain": [
              "array([[3, 6, 5],\n",
              "       [1, 4, 9],\n",
              "       [2, 8, 7]], dtype=object)"
            ]
          },
          "metadata": {},
          "execution_count": 37
        }
      ]
    },
    {
      "cell_type": "code",
      "source": [
        "np.transpose(np.array(M, dtype='int'))"
      ],
      "metadata": {
        "colab": {
          "base_uri": "https://localhost:8080/"
        },
        "id": "NSrpAB2xKqh4",
        "outputId": "152e5bc2-528d-4794-9305-504393b5e223"
      },
      "execution_count": 38,
      "outputs": [
        {
          "output_type": "execute_result",
          "data": {
            "text/plain": [
              "array([[3, 6, 5],\n",
              "       [1, 4, 9],\n",
              "       [2, 8, 7]])"
            ]
          },
          "metadata": {},
          "execution_count": 38
        }
      ]
    },
    {
      "cell_type": "code",
      "source": [
        "np.array(M, dtype='int').T"
      ],
      "metadata": {
        "colab": {
          "base_uri": "https://localhost:8080/"
        },
        "id": "ioBYEYt3NQgJ",
        "outputId": "1533a9dc-c1be-4d8f-b376-4943bb315647"
      },
      "execution_count": 39,
      "outputs": [
        {
          "output_type": "execute_result",
          "data": {
            "text/plain": [
              "array([[3, 6, 5],\n",
              "       [1, 4, 9],\n",
              "       [2, 8, 7]])"
            ]
          },
          "metadata": {},
          "execution_count": 39
        }
      ]
    },
    {
      "cell_type": "markdown",
      "source": [
        "### Rectangular Matrix"
      ],
      "metadata": {
        "id": "2_5iOPPSJmfD"
      }
    },
    {
      "cell_type": "code",
      "source": [
        "L"
      ],
      "metadata": {
        "colab": {
          "base_uri": "https://localhost:8080/",
          "height": 58
        },
        "id": "yh32j2iRJw51",
        "outputId": "2c4e0adf-e5a6-4b1c-995e-9ec2b00c2946"
      },
      "execution_count": 40,
      "outputs": [
        {
          "output_type": "execute_result",
          "data": {
            "text/plain": [
              "Matrix([\n",
              "[2,  4,  6],\n",
              "[8, 10, 12]])"
            ],
            "text/latex": "$\\displaystyle \\left[\\begin{matrix}2 & 4 & 6\\\\8 & 10 & 12\\end{matrix}\\right]$"
          },
          "metadata": {},
          "execution_count": 40
        }
      ]
    },
    {
      "cell_type": "code",
      "source": [
        "L.T"
      ],
      "metadata": {
        "colab": {
          "base_uri": "https://localhost:8080/",
          "height": 78
        },
        "id": "sW4e7q6QLetZ",
        "outputId": "d3355cf3-2cdb-43f8-ffc4-3bdfbe325fbf"
      },
      "execution_count": 41,
      "outputs": [
        {
          "output_type": "execute_result",
          "data": {
            "text/plain": [
              "Matrix([\n",
              "[2,  8],\n",
              "[4, 10],\n",
              "[6, 12]])"
            ],
            "text/latex": "$\\displaystyle \\left[\\begin{matrix}2 & 8\\\\4 & 10\\\\6 & 12\\end{matrix}\\right]$"
          },
          "metadata": {},
          "execution_count": 41
        }
      ]
    },
    {
      "cell_type": "code",
      "source": [
        "np.transpose(L)"
      ],
      "metadata": {
        "colab": {
          "base_uri": "https://localhost:8080/"
        },
        "id": "f3p0oZ7XLgYl",
        "outputId": "03524d6d-21f2-4e3c-961e-ad9960bfe81c"
      },
      "execution_count": 42,
      "outputs": [
        {
          "output_type": "execute_result",
          "data": {
            "text/plain": [
              "array([[2, 8],\n",
              "       [4, 10],\n",
              "       [6, 12]], dtype=object)"
            ]
          },
          "metadata": {},
          "execution_count": 42
        }
      ]
    },
    {
      "cell_type": "code",
      "source": [
        "np.transpose(np.array(L, dtype='int'))"
      ],
      "metadata": {
        "colab": {
          "base_uri": "https://localhost:8080/"
        },
        "id": "jTfS6g5YLith",
        "outputId": "eea75b69-223f-491c-cd20-4a15cd9f03fb"
      },
      "execution_count": 43,
      "outputs": [
        {
          "output_type": "execute_result",
          "data": {
            "text/plain": [
              "array([[ 2,  8],\n",
              "       [ 4, 10],\n",
              "       [ 6, 12]])"
            ]
          },
          "metadata": {},
          "execution_count": 43
        }
      ]
    },
    {
      "cell_type": "markdown",
      "source": [
        "### Column Matrix"
      ],
      "metadata": {
        "id": "vt59wsEaJpHd"
      }
    },
    {
      "cell_type": "code",
      "source": [
        "N"
      ],
      "metadata": {
        "colab": {
          "base_uri": "https://localhost:8080/",
          "height": 78
        },
        "id": "zNcHyB7KJxtH",
        "outputId": "be24b3f8-9bbf-474a-a2dd-3606b1fcc60a"
      },
      "execution_count": 44,
      "outputs": [
        {
          "output_type": "execute_result",
          "data": {
            "text/plain": [
              "Matrix([\n",
              "[1],\n",
              "[2],\n",
              "[3]])"
            ],
            "text/latex": "$\\displaystyle \\left[\\begin{matrix}1\\\\2\\\\3\\end{matrix}\\right]$"
          },
          "metadata": {},
          "execution_count": 44
        }
      ]
    },
    {
      "cell_type": "code",
      "source": [
        "N.T"
      ],
      "metadata": {
        "colab": {
          "base_uri": "https://localhost:8080/",
          "height": 39
        },
        "id": "RbKsfUiCMBct",
        "outputId": "bba6142d-d3eb-401b-f56a-a6c655617df6"
      },
      "execution_count": 45,
      "outputs": [
        {
          "output_type": "execute_result",
          "data": {
            "text/plain": [
              "Matrix([[1, 2, 3]])"
            ],
            "text/latex": "$\\displaystyle \\left[\\begin{matrix}1 & 2 & 3\\end{matrix}\\right]$"
          },
          "metadata": {},
          "execution_count": 45
        }
      ]
    },
    {
      "cell_type": "code",
      "source": [
        "np.transpose(N)"
      ],
      "metadata": {
        "colab": {
          "base_uri": "https://localhost:8080/"
        },
        "id": "5rcSb5HrMP2c",
        "outputId": "7ef7a44a-f614-443b-840e-01fb5ec43f0a"
      },
      "execution_count": 46,
      "outputs": [
        {
          "output_type": "execute_result",
          "data": {
            "text/plain": [
              "array([[1, 2, 3]], dtype=object)"
            ]
          },
          "metadata": {},
          "execution_count": 46
        }
      ]
    },
    {
      "cell_type": "code",
      "source": [
        "np.array(N, dtype='int').transpose()"
      ],
      "metadata": {
        "colab": {
          "base_uri": "https://localhost:8080/"
        },
        "id": "bicBFIbaMUEJ",
        "outputId": "1beb58f7-7ba3-433e-e04b-8d621e4b1d16"
      },
      "execution_count": 47,
      "outputs": [
        {
          "output_type": "execute_result",
          "data": {
            "text/plain": [
              "array([[1, 2, 3]])"
            ]
          },
          "metadata": {},
          "execution_count": 47
        }
      ]
    },
    {
      "cell_type": "code",
      "source": [
        "np.transpose(np.array(N, dtype='int'))"
      ],
      "metadata": {
        "colab": {
          "base_uri": "https://localhost:8080/"
        },
        "id": "Oe0c6eN_McqZ",
        "outputId": "c60e1306-55ca-402c-fe3e-9059ad913aaf"
      },
      "execution_count": 48,
      "outputs": [
        {
          "output_type": "execute_result",
          "data": {
            "text/plain": [
              "array([[1, 2, 3]])"
            ]
          },
          "metadata": {},
          "execution_count": 48
        }
      ]
    },
    {
      "cell_type": "markdown",
      "source": [
        "### Row Matrix"
      ],
      "metadata": {
        "id": "WXW4ILqzJtyf"
      }
    },
    {
      "cell_type": "code",
      "source": [
        "R = Q[1,:]\n",
        "R"
      ],
      "metadata": {
        "colab": {
          "base_uri": "https://localhost:8080/"
        },
        "id": "YDFFUZaUJyaJ",
        "outputId": "24351923-e5c7-4b9a-e2db-71201c982d69"
      },
      "execution_count": 49,
      "outputs": [
        {
          "output_type": "execute_result",
          "data": {
            "text/plain": [
              "array([ 2, -1,  3])"
            ]
          },
          "metadata": {},
          "execution_count": 49
        }
      ]
    },
    {
      "cell_type": "code",
      "source": [
        "R.T"
      ],
      "metadata": {
        "colab": {
          "base_uri": "https://localhost:8080/"
        },
        "id": "OXq2sEbUNKc9",
        "outputId": "0bc121e4-4654-4f83-8388-c8e0a1861255"
      },
      "execution_count": 50,
      "outputs": [
        {
          "output_type": "execute_result",
          "data": {
            "text/plain": [
              "array([ 2, -1,  3])"
            ]
          },
          "metadata": {},
          "execution_count": 50
        }
      ]
    },
    {
      "cell_type": "markdown",
      "source": [
        "### Identity Matrix"
      ],
      "metadata": {
        "id": "PDM__Z-LNYbf"
      }
    },
    {
      "cell_type": "code",
      "source": [
        "I"
      ],
      "metadata": {
        "colab": {
          "base_uri": "https://localhost:8080/",
          "height": 78
        },
        "id": "zUXIigCDNaLx",
        "outputId": "b324388b-7bb3-4c30-ecb4-e4aab9052522"
      },
      "execution_count": 51,
      "outputs": [
        {
          "output_type": "execute_result",
          "data": {
            "text/plain": [
              "Matrix([\n",
              "[1, 0, 0],\n",
              "[0, 1, 0],\n",
              "[0, 0, 1]])"
            ],
            "text/latex": "$\\displaystyle \\left[\\begin{matrix}1 & 0 & 0\\\\0 & 1 & 0\\\\0 & 0 & 1\\end{matrix}\\right]$"
          },
          "metadata": {},
          "execution_count": 51
        }
      ]
    },
    {
      "cell_type": "code",
      "source": [
        "I.T"
      ],
      "metadata": {
        "colab": {
          "base_uri": "https://localhost:8080/",
          "height": 78
        },
        "id": "7Fp7o4RUNbb5",
        "outputId": "0abe3385-2e8c-46dd-9064-7290fadfaedf"
      },
      "execution_count": 52,
      "outputs": [
        {
          "output_type": "execute_result",
          "data": {
            "text/plain": [
              "Matrix([\n",
              "[1, 0, 0],\n",
              "[0, 1, 0],\n",
              "[0, 0, 1]])"
            ],
            "text/latex": "$\\displaystyle \\left[\\begin{matrix}1 & 0 & 0\\\\0 & 1 & 0\\\\0 & 0 & 1\\end{matrix}\\right]$"
          },
          "metadata": {},
          "execution_count": 52
        }
      ]
    },
    {
      "cell_type": "markdown",
      "source": [
        "## 2.2.1.4 Using Python to Find the Inverse of a Matrix"
      ],
      "metadata": {
        "id": "kLQv7bdKOEiR"
      }
    },
    {
      "cell_type": "code",
      "source": [
        "M = sym.Matrix([[1, 2, 3],\n",
        "                [4, 5, 6],\n",
        "                [7, 8, 9]])\n",
        "M"
      ],
      "metadata": {
        "colab": {
          "base_uri": "https://localhost:8080/",
          "height": 78
        },
        "id": "YCxQ-iYSOsFI",
        "outputId": "fad9c2f3-4a69-4515-a6e6-166e219377a5"
      },
      "execution_count": 53,
      "outputs": [
        {
          "output_type": "execute_result",
          "data": {
            "text/plain": [
              "Matrix([\n",
              "[1, 2, 3],\n",
              "[4, 5, 6],\n",
              "[7, 8, 9]])"
            ],
            "text/latex": "$\\displaystyle \\left[\\begin{matrix}1 & 2 & 3\\\\4 & 5 & 6\\\\7 & 8 & 9\\end{matrix}\\right]$"
          },
          "metadata": {},
          "execution_count": 53
        }
      ]
    },
    {
      "cell_type": "code",
      "source": [
        "M.det() # M is not invertible"
      ],
      "metadata": {
        "colab": {
          "base_uri": "https://localhost:8080/",
          "height": 37
        },
        "id": "WagvMgMtO4Ic",
        "outputId": "8f0bc29d-944b-40db-eac4-3902e091708b"
      },
      "execution_count": 54,
      "outputs": [
        {
          "output_type": "execute_result",
          "data": {
            "text/plain": [
              "0"
            ],
            "text/latex": "$\\displaystyle 0$"
          },
          "metadata": {},
          "execution_count": 54
        }
      ]
    },
    {
      "cell_type": "code",
      "source": [
        "M[2, 2] = 11\n",
        "M"
      ],
      "metadata": {
        "colab": {
          "base_uri": "https://localhost:8080/",
          "height": 78
        },
        "id": "Pol76gMrPMDT",
        "outputId": "9cfccab8-8071-485f-f6b5-5ed589dc57bf"
      },
      "execution_count": 55,
      "outputs": [
        {
          "output_type": "execute_result",
          "data": {
            "text/plain": [
              "Matrix([\n",
              "[1, 2,  3],\n",
              "[4, 5,  6],\n",
              "[7, 8, 11]])"
            ],
            "text/latex": "$\\displaystyle \\left[\\begin{matrix}1 & 2 & 3\\\\4 & 5 & 6\\\\7 & 8 & 11\\end{matrix}\\right]$"
          },
          "metadata": {},
          "execution_count": 55
        }
      ]
    },
    {
      "cell_type": "code",
      "source": [
        "M.det()"
      ],
      "metadata": {
        "colab": {
          "base_uri": "https://localhost:8080/",
          "height": 37
        },
        "id": "K0PpX9b2PSQS",
        "outputId": "93d004c8-8033-4153-c584-ce35b3624b53"
      },
      "execution_count": 56,
      "outputs": [
        {
          "output_type": "execute_result",
          "data": {
            "text/plain": [
              "-6"
            ],
            "text/latex": "$\\displaystyle -6$"
          },
          "metadata": {},
          "execution_count": 56
        }
      ]
    },
    {
      "cell_type": "code",
      "source": [
        "M.inv()"
      ],
      "metadata": {
        "colab": {
          "base_uri": "https://localhost:8080/",
          "height": 78
        },
        "id": "sI_w30TfPTuO",
        "outputId": "f80b506e-59e8-4972-9559-72b218eafe13"
      },
      "execution_count": 57,
      "outputs": [
        {
          "output_type": "execute_result",
          "data": {
            "text/plain": [
              "Matrix([\n",
              "[-7/6, -1/3, 1/2],\n",
              "[ 1/3,  5/3,  -1],\n",
              "[ 1/2,   -1, 1/2]])"
            ],
            "text/latex": "$\\displaystyle \\left[\\begin{matrix}- \\frac{7}{6} & - \\frac{1}{3} & \\frac{1}{2}\\\\\\frac{1}{3} & \\frac{5}{3} & -1\\\\\\frac{1}{2} & -1 & \\frac{1}{2}\\end{matrix}\\right]$"
          },
          "metadata": {},
          "execution_count": 57
        }
      ]
    },
    {
      "cell_type": "code",
      "source": [
        "T = sym.Matrix(np.random.randint(-7, 5, size=(6, 6)))\n",
        "T"
      ],
      "metadata": {
        "colab": {
          "base_uri": "https://localhost:8080/",
          "height": 139
        },
        "id": "W3jRc285PafX",
        "outputId": "6525ed77-5564-4a18-a860-162297f2c5cf"
      },
      "execution_count": 58,
      "outputs": [
        {
          "output_type": "execute_result",
          "data": {
            "text/plain": [
              "Matrix([\n",
              "[-3,  4, -6, -4, -5,  2],\n",
              "[-3, -2,  2,  0,  4,  1],\n",
              "[-4, -7, -5, -2, -1, -5],\n",
              "[-4,  3,  3, -4,  2, -6],\n",
              "[ 2, -5,  4,  3,  2, -3],\n",
              "[ 1,  2, -4,  4, -5,  2]])"
            ],
            "text/latex": "$\\displaystyle \\left[\\begin{matrix}-3 & 4 & -6 & -4 & -5 & 2\\\\-3 & -2 & 2 & 0 & 4 & 1\\\\-4 & -7 & -5 & -2 & -1 & -5\\\\-4 & 3 & 3 & -4 & 2 & -6\\\\2 & -5 & 4 & 3 & 2 & -3\\\\1 & 2 & -4 & 4 & -5 & 2\\end{matrix}\\right]$"
          },
          "metadata": {},
          "execution_count": 58
        }
      ]
    },
    {
      "cell_type": "code",
      "source": [
        "T.det()"
      ],
      "metadata": {
        "colab": {
          "base_uri": "https://localhost:8080/",
          "height": 37
        },
        "id": "0Vq96fj7PjRh",
        "outputId": "933233ad-1eaa-4c06-958a-cfb65f8da04f"
      },
      "execution_count": 59,
      "outputs": [
        {
          "output_type": "execute_result",
          "data": {
            "text/plain": [
              "24872"
            ],
            "text/latex": "$\\displaystyle 24872$"
          },
          "metadata": {},
          "execution_count": 59
        }
      ]
    },
    {
      "cell_type": "code",
      "source": [
        "if T.det() != 0:\n",
        "    display(T.inv())\n",
        "else:\n",
        "    print('T is not invertible')"
      ],
      "metadata": {
        "colab": {
          "base_uri": "https://localhost:8080/",
          "height": 139
        },
        "id": "jYn0K1VJPweH",
        "outputId": "cc742a0a-e853-44b1-e458-dd2f4bc174af"
      },
      "execution_count": 60,
      "outputs": [
        {
          "output_type": "display_data",
          "data": {
            "text/plain": [
              "Matrix([\n",
              "[-2421/12436, -1517/6218,   187/6218, -228/3109,  -587/3109, -1385/12436],\n",
              "[  -542/3109,  -317/6218,   -47/6218,  497/6218,  -717/3109,    465/6218],\n",
              "[  1165/3109,   733/6218, -1029/6218,  165/6218,  1501/3109,   -271/6218],\n",
              "[-2051/12436,   248/3109,    76/3109,  311/6218,  -261/3109,  2615/12436],\n",
              "[-5803/12436,  -305/6218,   759/6218,  -11/3109, -1651/3109,  -135/12436],\n",
              "[ 2293/12436,   787/6218,  -511/6218, -308/3109,   407/3109,  -671/12436]])"
            ],
            "text/latex": "$\\displaystyle \\left[\\begin{matrix}- \\frac{2421}{12436} & - \\frac{1517}{6218} & \\frac{187}{6218} & - \\frac{228}{3109} & - \\frac{587}{3109} & - \\frac{1385}{12436}\\\\- \\frac{542}{3109} & - \\frac{317}{6218} & - \\frac{47}{6218} & \\frac{497}{6218} & - \\frac{717}{3109} & \\frac{465}{6218}\\\\\\frac{1165}{3109} & \\frac{733}{6218} & - \\frac{1029}{6218} & \\frac{165}{6218} & \\frac{1501}{3109} & - \\frac{271}{6218}\\\\- \\frac{2051}{12436} & \\frac{248}{3109} & \\frac{76}{3109} & \\frac{311}{6218} & - \\frac{261}{3109} & \\frac{2615}{12436}\\\\- \\frac{5803}{12436} & - \\frac{305}{6218} & \\frac{759}{6218} & - \\frac{11}{3109} & - \\frac{1651}{3109} & - \\frac{135}{12436}\\\\\\frac{2293}{12436} & \\frac{787}{6218} & - \\frac{511}{6218} & - \\frac{308}{3109} & \\frac{407}{3109} & - \\frac{671}{12436}\\end{matrix}\\right]$"
          },
          "metadata": {}
        }
      ]
    },
    {
      "cell_type": "markdown",
      "source": [
        "### Special Matrices"
      ],
      "metadata": {
        "id": "tsJl26e9QfOA"
      }
    },
    {
      "cell_type": "markdown",
      "source": [
        "#### Identity Matrix"
      ],
      "metadata": {
        "id": "B3gO4VfiQ1FH"
      }
    },
    {
      "cell_type": "code",
      "source": [
        "I = sym.eye(3, 5)\n",
        "I.shape # can only find the inverse of a square matrix"
      ],
      "metadata": {
        "colab": {
          "base_uri": "https://localhost:8080/"
        },
        "id": "d1gxbyPsQhtH",
        "outputId": "fb57c6f7-9ac9-42d1-dd89-ca44250a8f14"
      },
      "execution_count": 61,
      "outputs": [
        {
          "output_type": "execute_result",
          "data": {
            "text/plain": [
              "(3, 5)"
            ]
          },
          "metadata": {},
          "execution_count": 61
        }
      ]
    },
    {
      "cell_type": "code",
      "source": [
        "I = sym.eye(3)\n",
        "I"
      ],
      "metadata": {
        "colab": {
          "base_uri": "https://localhost:8080/",
          "height": 78
        },
        "id": "XLIqtXUoSh7c",
        "outputId": "c23d5699-129e-4087-b619-06e31b59abbe"
      },
      "execution_count": 62,
      "outputs": [
        {
          "output_type": "execute_result",
          "data": {
            "text/plain": [
              "Matrix([\n",
              "[1, 0, 0],\n",
              "[0, 1, 0],\n",
              "[0, 0, 1]])"
            ],
            "text/latex": "$\\displaystyle \\left[\\begin{matrix}1 & 0 & 0\\\\0 & 1 & 0\\\\0 & 0 & 1\\end{matrix}\\right]$"
          },
          "metadata": {},
          "execution_count": 62
        }
      ]
    },
    {
      "cell_type": "code",
      "source": [
        "I.inv()"
      ],
      "metadata": {
        "colab": {
          "base_uri": "https://localhost:8080/",
          "height": 78
        },
        "id": "D5NuSVbbSlU-",
        "outputId": "85937730-0764-4081-a40a-12534380ec01"
      },
      "execution_count": 63,
      "outputs": [
        {
          "output_type": "execute_result",
          "data": {
            "text/plain": [
              "Matrix([\n",
              "[1, 0, 0],\n",
              "[0, 1, 0],\n",
              "[0, 0, 1]])"
            ],
            "text/latex": "$\\displaystyle \\left[\\begin{matrix}1 & 0 & 0\\\\0 & 1 & 0\\\\0 & 0 & 1\\end{matrix}\\right]$"
          },
          "metadata": {},
          "execution_count": 63
        }
      ]
    },
    {
      "cell_type": "markdown",
      "source": [
        "#### Zero Matrix"
      ],
      "metadata": {
        "id": "lZBwCgKHStis"
      }
    },
    {
      "cell_type": "code",
      "source": [
        "O = sym.zeros(3)\n",
        "O"
      ],
      "metadata": {
        "colab": {
          "base_uri": "https://localhost:8080/",
          "height": 78
        },
        "id": "9LFwlf4bSwh-",
        "outputId": "34a044a3-9e01-463e-c0f7-fbb1ef4c9d3e"
      },
      "execution_count": 64,
      "outputs": [
        {
          "output_type": "execute_result",
          "data": {
            "text/plain": [
              "Matrix([\n",
              "[0, 0, 0],\n",
              "[0, 0, 0],\n",
              "[0, 0, 0]])"
            ],
            "text/latex": "$\\displaystyle \\left[\\begin{matrix}0 & 0 & 0\\\\0 & 0 & 0\\\\0 & 0 & 0\\end{matrix}\\right]$"
          },
          "metadata": {},
          "execution_count": 64
        }
      ]
    },
    {
      "cell_type": "code",
      "source": [
        "O.det() # not invertible"
      ],
      "metadata": {
        "id": "9xNURGNLTAe9",
        "outputId": "73ed4b12-2a5c-4851-a0b5-aa633b453f2e",
        "colab": {
          "base_uri": "https://localhost:8080/",
          "height": 37
        }
      },
      "execution_count": 65,
      "outputs": [
        {
          "output_type": "execute_result",
          "data": {
            "text/plain": [
              "0"
            ],
            "text/latex": "$\\displaystyle 0$"
          },
          "metadata": {},
          "execution_count": 65
        }
      ]
    },
    {
      "cell_type": "markdown",
      "source": [
        "#### Matrix of all ones"
      ],
      "metadata": {
        "id": "ea88eFqnToZ9"
      }
    },
    {
      "cell_type": "code",
      "source": [
        "O = sym.ones(4)\n",
        "O"
      ],
      "metadata": {
        "colab": {
          "base_uri": "https://localhost:8080/",
          "height": 98
        },
        "id": "DgyKhkcDTm2S",
        "outputId": "9cf1b847-6eb6-45bf-f70d-69c05a5ca29a"
      },
      "execution_count": 66,
      "outputs": [
        {
          "output_type": "execute_result",
          "data": {
            "text/plain": [
              "Matrix([\n",
              "[1, 1, 1, 1],\n",
              "[1, 1, 1, 1],\n",
              "[1, 1, 1, 1],\n",
              "[1, 1, 1, 1]])"
            ],
            "text/latex": "$\\displaystyle \\left[\\begin{matrix}1 & 1 & 1 & 1\\\\1 & 1 & 1 & 1\\\\1 & 1 & 1 & 1\\\\1 & 1 & 1 & 1\\end{matrix}\\right]$"
          },
          "metadata": {},
          "execution_count": 66
        }
      ]
    },
    {
      "cell_type": "code",
      "source": [
        "O.det()"
      ],
      "metadata": {
        "colab": {
          "base_uri": "https://localhost:8080/",
          "height": 37
        },
        "id": "dmwMv0FXT2Dl",
        "outputId": "bcfc8d2f-b394-4ed0-e823-5150d5413817"
      },
      "execution_count": 67,
      "outputs": [
        {
          "output_type": "execute_result",
          "data": {
            "text/plain": [
              "0"
            ],
            "text/latex": "$\\displaystyle 0$"
          },
          "metadata": {},
          "execution_count": 67
        }
      ]
    },
    {
      "cell_type": "code",
      "source": [
        "for i in range(2, 10):\n",
        "    O = sym.ones(i)\n",
        "    print(O.det())"
      ],
      "metadata": {
        "colab": {
          "base_uri": "https://localhost:8080/"
        },
        "id": "XD1E7MPJT_Ep",
        "outputId": "ff577cd0-70b7-46c2-cd73-ff09297deded"
      },
      "execution_count": 68,
      "outputs": [
        {
          "output_type": "stream",
          "name": "stdout",
          "text": [
            "0\n",
            "0\n",
            "0\n",
            "0\n",
            "0\n",
            "0\n",
            "0\n",
            "0\n"
          ]
        }
      ]
    },
    {
      "cell_type": "markdown",
      "source": [
        "#### Diagonal Matrix"
      ],
      "metadata": {
        "id": "0pgmi_xpUblT"
      }
    },
    {
      "cell_type": "code",
      "source": [
        "D = sym.diag(1, 2, 3)\n",
        "D"
      ],
      "metadata": {
        "colab": {
          "base_uri": "https://localhost:8080/",
          "height": 78
        },
        "id": "ZyhnGD1oUhry",
        "outputId": "c949fb78-470f-4fcb-c5a4-d313372069d5"
      },
      "execution_count": 69,
      "outputs": [
        {
          "output_type": "execute_result",
          "data": {
            "text/plain": [
              "Matrix([\n",
              "[1, 0, 0],\n",
              "[0, 2, 0],\n",
              "[0, 0, 3]])"
            ],
            "text/latex": "$\\displaystyle \\left[\\begin{matrix}1 & 0 & 0\\\\0 & 2 & 0\\\\0 & 0 & 3\\end{matrix}\\right]$"
          },
          "metadata": {},
          "execution_count": 69
        }
      ]
    },
    {
      "cell_type": "code",
      "source": [
        "D.det()"
      ],
      "metadata": {
        "colab": {
          "base_uri": "https://localhost:8080/",
          "height": 37
        },
        "id": "ChfRQ-xfUmOe",
        "outputId": "8c6a4829-3736-4ba3-bb5a-f2eaf91837d0"
      },
      "execution_count": 70,
      "outputs": [
        {
          "output_type": "execute_result",
          "data": {
            "text/plain": [
              "6"
            ],
            "text/latex": "$\\displaystyle 6$"
          },
          "metadata": {},
          "execution_count": 70
        }
      ]
    },
    {
      "cell_type": "code",
      "source": [
        "D.inv()"
      ],
      "metadata": {
        "colab": {
          "base_uri": "https://localhost:8080/",
          "height": 78
        },
        "id": "hyin2yUMUnsF",
        "outputId": "d82774b6-4cef-40af-8e73-41fcc9914014"
      },
      "execution_count": 71,
      "outputs": [
        {
          "output_type": "execute_result",
          "data": {
            "text/plain": [
              "Matrix([\n",
              "[1,   0,   0],\n",
              "[0, 1/2,   0],\n",
              "[0,   0, 1/3]])"
            ],
            "text/latex": "$\\displaystyle \\left[\\begin{matrix}1 & 0 & 0\\\\0 & \\frac{1}{2} & 0\\\\0 & 0 & \\frac{1}{3}\\end{matrix}\\right]$"
          },
          "metadata": {},
          "execution_count": 71
        }
      ]
    },
    {
      "cell_type": "markdown",
      "source": [
        "## 2.2.1.5 Practice Quiz: Matrix Algebra Functions Using Python"
      ],
      "metadata": {
        "id": "foxOHkbWVHm6"
      }
    },
    {
      "cell_type": "code",
      "source": [
        "M.inv()"
      ],
      "metadata": {
        "colab": {
          "base_uri": "https://localhost:8080/",
          "height": 78
        },
        "id": "ihoXmhmsVO06",
        "outputId": "a1dabbb4-4fe3-4649-84e6-85995f9aeac9"
      },
      "execution_count": 72,
      "outputs": [
        {
          "output_type": "execute_result",
          "data": {
            "text/plain": [
              "Matrix([\n",
              "[-7/6, -1/3, 1/2],\n",
              "[ 1/3,  5/3,  -1],\n",
              "[ 1/2,   -1, 1/2]])"
            ],
            "text/latex": "$\\displaystyle \\left[\\begin{matrix}- \\frac{7}{6} & - \\frac{1}{3} & \\frac{1}{2}\\\\\\frac{1}{3} & \\frac{5}{3} & -1\\\\\\frac{1}{2} & -1 & \\frac{1}{2}\\end{matrix}\\right]$"
          },
          "metadata": {},
          "execution_count": 72
        }
      ]
    },
    {
      "cell_type": "code",
      "source": [
        "A = sym.Matrix([[1, -1],\n",
        "                [2, 2]])\n",
        "A"
      ],
      "metadata": {
        "colab": {
          "base_uri": "https://localhost:8080/",
          "height": 58
        },
        "id": "c3oIJPaaVogx",
        "outputId": "96d59776-5b97-4ae0-e264-eeb280169c9c"
      },
      "execution_count": 73,
      "outputs": [
        {
          "output_type": "execute_result",
          "data": {
            "text/plain": [
              "Matrix([\n",
              "[1, -1],\n",
              "[2,  2]])"
            ],
            "text/latex": "$\\displaystyle \\left[\\begin{matrix}1 & -1\\\\2 & 2\\end{matrix}\\right]$"
          },
          "metadata": {},
          "execution_count": 73
        }
      ]
    },
    {
      "cell_type": "code",
      "source": [
        "B = sym.Matrix([[2, 0],\n",
        "                [0, -1]])\n",
        "B"
      ],
      "metadata": {
        "colab": {
          "base_uri": "https://localhost:8080/",
          "height": 58
        },
        "id": "4DjWScQ_Vx_s",
        "outputId": "fa80682a-e559-4f37-bbe6-ae63ea61dcd8"
      },
      "execution_count": 74,
      "outputs": [
        {
          "output_type": "execute_result",
          "data": {
            "text/plain": [
              "Matrix([\n",
              "[2,  0],\n",
              "[0, -1]])"
            ],
            "text/latex": "$\\displaystyle \\left[\\begin{matrix}2 & 0\\\\0 & -1\\end{matrix}\\right]$"
          },
          "metadata": {},
          "execution_count": 74
        }
      ]
    },
    {
      "cell_type": "code",
      "source": [
        "A.inv() * B.inv()"
      ],
      "metadata": {
        "colab": {
          "base_uri": "https://localhost:8080/",
          "height": 58
        },
        "id": "zmd8TnAtWLok",
        "outputId": "e934e7c2-a818-4ec9-952d-cdcb4f06c47f"
      },
      "execution_count": 75,
      "outputs": [
        {
          "output_type": "execute_result",
          "data": {
            "text/plain": [
              "Matrix([\n",
              "[ 1/4, -1/4],\n",
              "[-1/4, -1/4]])"
            ],
            "text/latex": "$\\displaystyle \\left[\\begin{matrix}\\frac{1}{4} & - \\frac{1}{4}\\\\- \\frac{1}{4} & - \\frac{1}{4}\\end{matrix}\\right]$"
          },
          "metadata": {},
          "execution_count": 75
        }
      ]
    },
    {
      "cell_type": "code",
      "source": [
        "(B * A).inv()"
      ],
      "metadata": {
        "colab": {
          "base_uri": "https://localhost:8080/",
          "height": 58
        },
        "id": "SptACmPpWOQJ",
        "outputId": "47800a53-23b0-4b1a-a24c-1028f501c56f"
      },
      "execution_count": 76,
      "outputs": [
        {
          "output_type": "execute_result",
          "data": {
            "text/plain": [
              "Matrix([\n",
              "[ 1/4, -1/4],\n",
              "[-1/4, -1/4]])"
            ],
            "text/latex": "$\\displaystyle \\left[\\begin{matrix}\\frac{1}{4} & - \\frac{1}{4}\\\\- \\frac{1}{4} & - \\frac{1}{4}\\end{matrix}\\right]$"
          },
          "metadata": {},
          "execution_count": 76
        }
      ]
    },
    {
      "cell_type": "markdown",
      "source": [
        "## 2.2.1.6 Using Matrix Algebra in Python"
      ],
      "metadata": {
        "id": "G31acOh3Wcrq"
      }
    }
  ]
}