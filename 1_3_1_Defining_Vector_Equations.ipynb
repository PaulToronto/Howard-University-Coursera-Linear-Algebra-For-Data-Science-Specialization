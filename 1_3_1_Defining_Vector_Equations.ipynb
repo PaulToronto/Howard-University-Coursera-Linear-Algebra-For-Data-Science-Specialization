{
  "nbformat": 4,
  "nbformat_minor": 0,
  "metadata": {
    "colab": {
      "provenance": [],
      "toc_visible": true,
      "authorship_tag": "ABX9TyMHpAMSnSkUhCXyPPiDn89Y",
      "include_colab_link": true
    },
    "kernelspec": {
      "name": "python3",
      "display_name": "Python 3"
    },
    "language_info": {
      "name": "python"
    }
  },
  "cells": [
    {
      "cell_type": "markdown",
      "metadata": {
        "id": "view-in-github",
        "colab_type": "text"
      },
      "source": [
        "<a href=\"https://colab.research.google.com/github/PaulToronto/Howard-University-Coursera-Linear-Algebra-For-Data-Science-Specialization/blob/main/1_3_1_Defining_Vector_Equations.ipynb\" target=\"_parent\"><img src=\"https://colab.research.google.com/assets/colab-badge.svg\" alt=\"Open In Colab\"/></a>"
      ]
    },
    {
      "cell_type": "markdown",
      "source": [
        "# 1.3.1 Defining Vector Equations"
      ],
      "metadata": {
        "id": "lQeJ79M--O14"
      }
    },
    {
      "cell_type": "markdown",
      "source": [
        "## 1.3.1.1 Systems of Linear Equations"
      ],
      "metadata": {
        "id": "4sd0dbya-XyY"
      }
    },
    {
      "cell_type": "markdown",
      "source": [
        "### Linear Equation (or Function)\n",
        "\n",
        "$y = mx + b$\n",
        "\n",
        "- $m$ and $b$ are constants\n",
        "- $m$ is the slope\n",
        "- $b$ is the y-intercept\n",
        "\n",
        "#### Another Form of the Linear Equation\n",
        "\n",
        "$ax + by = c$\n",
        "\n",
        "This can be generalized as shown in the following definition."
      ],
      "metadata": {
        "id": "M0S82ssbATe1"
      }
    },
    {
      "cell_type": "markdown",
      "source": [
        "### Definition: Linear Equation\n",
        "\n",
        "Let $n$ be any positive integer. A **linear equation** of the variables $x_1, x_2, \\dots, x_n$ is an equation that can be written in the form\n",
        "\n",
        "$$\n",
        "a_1x_1 + a_2x_2 + \\dots + a_nx_n = b\n",
        "$$\n",
        "\n",
        "where $b$ and the coefficents $a_1, a_2, \\dots, a_n$ are real numbers."
      ],
      "metadata": {
        "id": "x8_GegwtFM1f"
      }
    },
    {
      "cell_type": "markdown",
      "source": [
        "### Definition: System of Linear Equations\n",
        "\n",
        "A **system of linear equations** is a collection of one or more linear equations in the same variables."
      ],
      "metadata": {
        "id": "IektEH9yGeXm"
      }
    },
    {
      "cell_type": "markdown",
      "source": [
        "#### Example\n",
        "\n",
        "$$\n",
        "\\begin{align}\n",
        "x_1 + x_2 &= 1 \\\\\n",
        "x_1 - 3x_2 &= 6\n",
        "\\end{align}\n",
        "$$"
      ],
      "metadata": {
        "id": "YoWbXrIuICjd"
      }
    },
    {
      "cell_type": "markdown",
      "source": [
        "#### Example\n",
        "\n",
        "$$\n",
        "\\begin{align}\n",
        "x_1 + 3x_2 - 3x_3 &= 12.5 \\\\\n",
        "x_1 - 2x_2 + x_3 &= 2\n",
        "\\end{align}\n",
        "$$"
      ],
      "metadata": {
        "id": "kbwhDCYWJESk"
      }
    },
    {
      "cell_type": "markdown",
      "source": [
        "### Lines in the Plane\n",
        "\n",
        "Recall that given any two lines in the plane, one and only one of the following is true:\n",
        "\n",
        "1. The lines intersect in exactly one point\n",
        "2. The lines are parallel\n",
        "3. The two lines are equal"
      ],
      "metadata": {
        "id": "Uah9UmLIKUfD"
      }
    },
    {
      "cell_type": "markdown",
      "source": [
        "### Definition: Solution, Solution Set\n",
        "\n",
        "A **solution** to a system of linear equations, as a point $(s_1, s_2, \\dots, s_n)$ that satisfies all the equations of the system. The set of all soutions to a system is called the **solution set**."
      ],
      "metadata": {
        "id": "AKrVoRcJLNc8"
      }
    },
    {
      "cell_type": "markdown",
      "source": [
        "### Theorem\n",
        "\n",
        "Given any system of linear equations one and only one of the following is true:\n",
        "\n",
        "1. The system has exactly one solution\n",
        "    - the lines intersect\n",
        "2. The system has no solutions\n",
        "    - the lines are parallel\n",
        "3. The system has infinitely many solutions\n",
        "    - the lines are the same line\n"
      ],
      "metadata": {
        "id": "kgGGX5VBL7PB"
      }
    },
    {
      "cell_type": "markdown",
      "source": [
        "### Definition: Consistent/Inconsistent\n",
        "\n",
        "A system of linear equations that has one solution or infinitely many solutions is called **consistent**, otherwise it is called **inconsistent**."
      ],
      "metadata": {
        "id": "xkUdfDH_Oogg"
      }
    },
    {
      "cell_type": "markdown",
      "source": [
        "## 1.3.1.2 Row Echelon Form and Augmented Matrices"
      ],
      "metadata": {
        "id": "Mfpv4NaWP79L"
      }
    },
    {
      "cell_type": "markdown",
      "source": [
        "### Augmented Matrix\n",
        "\n",
        "Consider the following system of linear equations in variables $x_1$, $x_2$, and $x_3$.\n",
        "\n",
        "$$\n",
        "\\begin{align}\n",
        "x_1 + 3x_2 - 3x_3 &= 12 \\\\\n",
        "2x_1 - 2x_2 + x_3 &= 2\n",
        "\\end{align}\n",
        "$$\n",
        "\n",
        "The following matrix is called the **augmented matrix** of the system.\n",
        "\n",
        "$$\n",
        "\\begin{pmatrix}\n",
        "1 & 3 & -3 & \\bigm| & 12 \\\\\n",
        "2 & -2 & 1 & \\bigm| & 2\n",
        "\\end{pmatrix}\n",
        "$$"
      ],
      "metadata": {
        "id": "bWBjF03jTaDm"
      }
    },
    {
      "cell_type": "markdown",
      "source": [
        "### Coefficient Matrix\n",
        "\n",
        "Using the same system, aligning the coefficients of each variable in columns we get the **coefficient matrix** of the system.\n",
        "\n",
        "$$\n",
        "\\begin{pmatrix}\n",
        "1 & 3 & -3 \\\\\n",
        "2 & -2 & 1\n",
        "\\end{pmatrix}\n",
        "$$"
      ],
      "metadata": {
        "id": "hptNxBWRYjIi"
      }
    },
    {
      "cell_type": "markdown",
      "source": [
        "### Leading Entry (or Coefficient)\n",
        "\n",
        "- A **nonzero row** of a matrix is a row that has at least one nonzero entry\n",
        "\n",
        "- The leftmost nonzero entry of a row is called the **leading entry** or **leading coefficient** of the row"
      ],
      "metadata": {
        "id": "cfliQpEtZorY"
      }
    },
    {
      "cell_type": "markdown",
      "source": [
        "#### Example\n",
        "\n",
        "Consider the matrix $M$.\n",
        "\n",
        "$$\n",
        "M =\n",
        "\\begin{pmatrix}\n",
        "3 & 1 & 2 & 0 \\\\\n",
        "0 & 2 & 1 & 0 \\\\\n",
        "0 & 0 & 5 & 3 \\\\\n",
        "0 & 0 & 0 & 0\n",
        "\\end{pmatrix}\n",
        "$$\n",
        "\n",
        "- $3$ is the leading entry of row 1\n",
        "- $2$ is the leading entry of row 2\n",
        "- $5$ is the leading entry of row 3\n",
        "- row 4 is a zero row and has no leading entry"
      ],
      "metadata": {
        "id": "fQqfyDO0aZXH"
      }
    },
    {
      "cell_type": "markdown",
      "source": [
        "### Definition: Row Echelon Form\n",
        "\n",
        "A matrix $M$ is in **row echelon form** if it satisfies all of the following:\n",
        "\n",
        "1. All zero rows are at the bottom of $M$\n",
        "2. Each leading entry of a row is in a column to the right of the leading entry in the row above it\n",
        "3. All entries that are below a leading entry are zero"
      ],
      "metadata": {
        "id": "dhO0xqHnbJxY"
      }
    },
    {
      "cell_type": "markdown",
      "source": [
        "#### Example\n",
        "\n",
        "The following matrices are in row echelon form:\n",
        "\n",
        "$$\n",
        "\\begin{pmatrix}\n",
        "3 & 1 & 2 & 0 \\\\\n",
        "0 & 2 & 1 & 0 \\\\\n",
        "0 & 0 & 5 & 3\n",
        "\\end{pmatrix}\n",
        "$$\n",
        "\n",
        "$$\n",
        "\\begin{pmatrix}\n",
        "0 & 1 & 2 & 0 \\\\\n",
        "0 & 0 & 2 & 0 \\\\\n",
        "0 & 0 & 0 & 0\n",
        "\\end{pmatrix}\n",
        "$$\n",
        "\n",
        "$$\n",
        "\\begin{pmatrix}\n",
        "1 & 1 & 2 & 0 \\\\\n",
        "0 & 0 & 1 & 0\n",
        "\\end{pmatrix}\n",
        "$$"
      ],
      "metadata": {
        "id": "tRZzaen6cp3V"
      }
    },
    {
      "cell_type": "markdown",
      "source": [
        "### Definition: Reduced Echelon Form\n",
        "\n",
        "A matrix $M$ is in **reduced echelon form** it it satisfies all of the following:\n",
        "\n",
        "1. $M$ is in echelon form\n",
        "2. Each leading entry is $1$\n",
        "3. Each leading entry is the only nonzero entry in its column"
      ],
      "metadata": {
        "id": "DHksyhdodvhm"
      }
    },
    {
      "cell_type": "markdown",
      "source": [
        "#### Example\n",
        "\n",
        "The following matrices are in **reduced row echelon form**:\n",
        "\n",
        "$$\n",
        "\\begin{pmatrix}\n",
        "1 & 0 & 0 & 2 \\\\\n",
        "0 & 1 & 0 & 0 \\\\\n",
        "0 & 0 & 1 & 3\n",
        "\\end{pmatrix}\n",
        "$$\n",
        "\n",
        "$$\n",
        "\\begin{pmatrix}\n",
        "1 & 1 & 0 & 0 \\\\\n",
        "0 & 0 & 1 & 0 \\\\\n",
        "0 & 0 & 0 & 0\n",
        "\\end{pmatrix}\n",
        "$$\n",
        "\n",
        "$$\n",
        "\\begin{pmatrix}\n",
        "1 & 2 & 0 & 0 \\\\\n",
        "0 & 0 & 1 & 0\n",
        "\\end{pmatrix}\n",
        "$$"
      ],
      "metadata": {
        "id": "5cS7b-vxezJL"
      }
    },
    {
      "cell_type": "markdown",
      "source": [
        "## 1.3.1.3 Elementary Row Operations and Row Equivalent Matrices"
      ],
      "metadata": {
        "id": "_-QkvPCKieJv"
      }
    },
    {
      "cell_type": "markdown",
      "source": [
        "### Elementary Row Operations\n",
        "\n",
        "1. Exchange any two rows (`switch_rows`)\n",
        "2. Multiply any row by a non-zero constant (`scale_row`)\n",
        "3. Add a multiple of one row to another row (`add_row`)"
      ],
      "metadata": {
        "id": "45YJiUqPpTzL"
      }
    },
    {
      "cell_type": "markdown",
      "source": [
        "#### Elementary Row Operations with Python"
      ],
      "metadata": {
        "id": "qeWibeKZsglf"
      }
    },
    {
      "cell_type": "code",
      "source": [
        "import sympy as sym"
      ],
      "metadata": {
        "id": "tnKjd5AJ9rso"
      },
      "execution_count": 1,
      "outputs": []
    },
    {
      "cell_type": "code",
      "source": [
        "a, b, c, d, e, f, g, h, i, j, k, l = sym.symbols('a b c d e f g h i j k l')"
      ],
      "metadata": {
        "id": "nJUL6WEa91iF"
      },
      "execution_count": 2,
      "outputs": []
    },
    {
      "cell_type": "code",
      "source": [
        "M = sym.Matrix([[a, b, c, d],\n",
        "                [e, f, g, h],\n",
        "                [i, j, k, l]])\n",
        "M"
      ],
      "metadata": {
        "colab": {
          "base_uri": "https://localhost:8080/",
          "height": 78
        },
        "id": "c9C76fAZ-Jts",
        "outputId": "e216d94b-89f7-4883-b265-6b643204c78b"
      },
      "execution_count": 3,
      "outputs": [
        {
          "output_type": "execute_result",
          "data": {
            "text/plain": [
              "Matrix([\n",
              "[a, b, c, d],\n",
              "[e, f, g, h],\n",
              "[i, j, k, l]])"
            ],
            "text/latex": "$\\displaystyle \\left[\\begin{matrix}a & b & c & d\\\\e & f & g & h\\\\i & j & k & l\\end{matrix}\\right]$"
          },
          "metadata": {},
          "execution_count": 3
        }
      ]
    },
    {
      "cell_type": "code",
      "source": [
        "def switch_rows(A, row1, row2, display_input=False):\n",
        "    'Switch row1 and row2 in matrix A'\n",
        "    vline = sym.symbols('|')\n",
        "    i = row1 - 1\n",
        "    j = row2 - 1\n",
        "    n = A.shape[0]\n",
        "    E = sym.eye(n)\n",
        "    d = sym.Matrix(n, 1, [vline] * n)\n",
        "\n",
        "    E.row_swap(i, j)\n",
        "\n",
        "    if display_input:\n",
        "        return E.row_join(d).row_join(A).row_join(d).row_join(E * A)\n",
        "    else:\n",
        "        return E * A"
      ],
      "metadata": {
        "id": "9GPPYFDR9swA"
      },
      "execution_count": 4,
      "outputs": []
    },
    {
      "cell_type": "code",
      "source": [
        "switch_rows(M, 1, 2, True)"
      ],
      "metadata": {
        "colab": {
          "base_uri": "https://localhost:8080/",
          "height": 78
        },
        "id": "MsYTrCxC_DGq",
        "outputId": "d5ae9d7a-cdab-472d-9a42-fe396bae98eb"
      },
      "execution_count": 5,
      "outputs": [
        {
          "output_type": "execute_result",
          "data": {
            "text/plain": [
              "Matrix([\n",
              "[0, 1, 0, |, a, b, c, d, |, e, f, g, h],\n",
              "[1, 0, 0, |, e, f, g, h, |, a, b, c, d],\n",
              "[0, 0, 1, |, i, j, k, l, |, i, j, k, l]])"
            ],
            "text/latex": "$\\displaystyle \\left[\\begin{array}{ccccccccccccc}0 & 1 & 0 & | & a & b & c & d & | & e & f & g & h\\\\1 & 0 & 0 & | & e & f & g & h & | & a & b & c & d\\\\0 & 0 & 1 & | & i & j & k & l & | & i & j & k & l\\end{array}\\right]$"
          },
          "metadata": {},
          "execution_count": 5
        }
      ]
    },
    {
      "cell_type": "code",
      "source": [
        "def scale_row(A, k, row_to_scale, display_input=False):\n",
        "    'Multiply row_to_scale by k'\n",
        "    vline = sym.symbols('|')\n",
        "    i = row_to_scale - 1\n",
        "    n = A.shape[0]\n",
        "    E = sym.eye(n)\n",
        "    d = sym.Matrix(n, 1, [vline] * n)\n",
        "\n",
        "    E[i, i] = k\n",
        "\n",
        "    if display_input:\n",
        "        return E.row_join(d).row_join(A).row_join(d).row_join(E * A)\n",
        "    else:\n",
        "        return E * A"
      ],
      "metadata": {
        "id": "wTz0NWLH9s3C"
      },
      "execution_count": 6,
      "outputs": []
    },
    {
      "cell_type": "code",
      "source": [
        "scale_row(M, 3, 2, True)"
      ],
      "metadata": {
        "colab": {
          "base_uri": "https://localhost:8080/",
          "height": 78
        },
        "id": "L8_ULeDxGhq3",
        "outputId": "dae31894-64b1-4d94-b3cd-bf1b99a7624d"
      },
      "execution_count": 7,
      "outputs": [
        {
          "output_type": "execute_result",
          "data": {
            "text/plain": [
              "Matrix([\n",
              "[1, 0, 0, |, a, b, c, d, |,   a,   b,   c,   d],\n",
              "[0, 3, 0, |, e, f, g, h, |, 3*e, 3*f, 3*g, 3*h],\n",
              "[0, 0, 1, |, i, j, k, l, |,   i,   j,   k,   l]])"
            ],
            "text/latex": "$\\displaystyle \\left[\\begin{array}{ccccccccccccc}1 & 0 & 0 & | & a & b & c & d & | & a & b & c & d\\\\0 & 3 & 0 & | & e & f & g & h & | & 3 e & 3 f & 3 g & 3 h\\\\0 & 0 & 1 & | & i & j & k & l & | & i & j & k & l\\end{array}\\right]$"
          },
          "metadata": {},
          "execution_count": 7
        }
      ]
    },
    {
      "cell_type": "code",
      "source": [
        "def add_row(A, k, change_row, row, display_input=False):\n",
        "    'Add k times row to change_row in matrix A'\n",
        "    vline = sym.symbols('|')\n",
        "    i = change_row - 1\n",
        "    j = row - 1\n",
        "    n = A.shape[0]\n",
        "    E = sym.eye(n)\n",
        "    d = sym.Matrix(n, 1, [vline] * n)\n",
        "\n",
        "    if i == j:\n",
        "        print(\"Are you sure that you want `row` to the the same as `change_row`?\")\n",
        "        E[i, i] = k + 1\n",
        "    else:\n",
        "        E[i, j] = k\n",
        "\n",
        "    if display_input:\n",
        "        return E.row_join(d).row_join(A).row_join(d).row_join(E * A)\n",
        "    else:\n",
        "        return E * A"
      ],
      "metadata": {
        "id": "uToSx4fKraYb"
      },
      "execution_count": 8,
      "outputs": []
    },
    {
      "cell_type": "code",
      "source": [
        "add_row(M, 3, 2, 3, True)"
      ],
      "metadata": {
        "colab": {
          "base_uri": "https://localhost:8080/",
          "height": 78
        },
        "id": "9sbpxCCdHgrU",
        "outputId": "a5e1384b-09fc-432d-d419-ca0633e20f26"
      },
      "execution_count": 9,
      "outputs": [
        {
          "output_type": "execute_result",
          "data": {
            "text/plain": [
              "Matrix([\n",
              "[1, 0, 0, |, a, b, c, d, |,       a,       b,       c,       d],\n",
              "[0, 1, 3, |, e, f, g, h, |, e + 3*i, f + 3*j, g + 3*k, h + 3*l],\n",
              "[0, 0, 1, |, i, j, k, l, |,       i,       j,       k,       l]])"
            ],
            "text/latex": "$\\displaystyle \\left[\\begin{array}{ccccccccccccc}1 & 0 & 0 & | & a & b & c & d & | & a & b & c & d\\\\0 & 1 & 3 & | & e & f & g & h & | & e + 3 i & f + 3 j & g + 3 k & h + 3 l\\\\0 & 0 & 1 & | & i & j & k & l & | & i & j & k & l\\end{array}\\right]$"
          },
          "metadata": {},
          "execution_count": 9
        }
      ]
    },
    {
      "cell_type": "markdown",
      "source": [
        "#### Discussion about Elementary Row Operations\n",
        "\n",
        "- If $M$ is the augmented matrix of a linear system, then using the elementary row operations on $M$ preserves the linear system\n",
        "- Performing any of the elementary row operations on $M$ does not change the solution of the linear system\n",
        "\n",
        "#### Discussion about each of the three row operations\n",
        "\n",
        "1. Swapping rows simply changes the order of the equations, which does not alter the solutions of the system\n",
        "2. Scalar multiplication is just multiplying one equation by the same nonzero number of both sides, which does not alter the solutions of the system\n",
        "3. If two equations have a common solution, then adding one to the other preserves the solution"
      ],
      "metadata": {
        "id": "3x1GZ-H-spRV"
      }
    },
    {
      "cell_type": "markdown",
      "source": [
        "### Definition: Row Equivalent Matrices\n",
        "\n",
        "Two matrices are **row equivalent** if one can be transformed to the other by a sequence of elementary row operations."
      ],
      "metadata": {
        "id": "0Z6cYqt0uFFp"
      }
    },
    {
      "cell_type": "markdown",
      "source": [
        "### Example\n",
        "\n",
        "$$\n",
        "\\begin{align}\n",
        "x_1 - 2x_2 + x_3 &= 0 \\\\\n",
        "x_2 - 4x_3 &= 4 \\\\\n",
        "x_1 - x_3 &= 2\n",
        "\\end{align}\n",
        "$$"
      ],
      "metadata": {
        "id": "OE5T1gUNuqIY"
      }
    },
    {
      "cell_type": "code",
      "source": [
        "A = sym.Matrix([[1, -2, 1, 0],\n",
        "                [0, 1, -4, 4],\n",
        "                [1, 0, -1, 2]])\n",
        "A"
      ],
      "metadata": {
        "colab": {
          "base_uri": "https://localhost:8080/",
          "height": 78
        },
        "id": "TaZaDCa3xaUv",
        "outputId": "908102da-cb86-439b-abfb-fdf5c0229cd6"
      },
      "execution_count": 10,
      "outputs": [
        {
          "output_type": "execute_result",
          "data": {
            "text/plain": [
              "Matrix([\n",
              "[1, -2,  1, 0],\n",
              "[0,  1, -4, 4],\n",
              "[1,  0, -1, 2]])"
            ],
            "text/latex": "$\\displaystyle \\left[\\begin{matrix}1 & -2 & 1 & 0\\\\0 & 1 & -4 & 4\\\\1 & 0 & -1 & 2\\end{matrix}\\right]$"
          },
          "metadata": {},
          "execution_count": 10
        }
      ]
    },
    {
      "cell_type": "markdown",
      "source": [
        "### Example: $R_{1} \\iff R_{3}$"
      ],
      "metadata": {
        "id": "aU03jZ0Z5pAj"
      }
    },
    {
      "cell_type": "code",
      "source": [
        "switch_rows(A, 1, 3, display_input=False)"
      ],
      "metadata": {
        "colab": {
          "base_uri": "https://localhost:8080/",
          "height": 78
        },
        "id": "VmdB_gHx50pe",
        "outputId": "19708eb4-e82c-4779-b667-3724de89970e"
      },
      "execution_count": 11,
      "outputs": [
        {
          "output_type": "execute_result",
          "data": {
            "text/plain": [
              "Matrix([\n",
              "[1,  0, -1, 2],\n",
              "[0,  1, -4, 4],\n",
              "[1, -2,  1, 0]])"
            ],
            "text/latex": "$\\displaystyle \\left[\\begin{matrix}1 & 0 & -1 & 2\\\\0 & 1 & -4 & 4\\\\1 & -2 & 1 & 0\\end{matrix}\\right]$"
          },
          "metadata": {},
          "execution_count": 11
        }
      ]
    },
    {
      "cell_type": "markdown",
      "source": [
        "### Example: $R_2 \\Longleftarrow 3R_2$"
      ],
      "metadata": {
        "id": "OctvGqXh8E-8"
      }
    },
    {
      "cell_type": "code",
      "source": [
        "scale_row(A, 3, 2)"
      ],
      "metadata": {
        "colab": {
          "base_uri": "https://localhost:8080/",
          "height": 78
        },
        "id": "cTS7ww6C8YNk",
        "outputId": "0e2d8415-a555-4632-f3bd-6db58709eb08"
      },
      "execution_count": 12,
      "outputs": [
        {
          "output_type": "execute_result",
          "data": {
            "text/plain": [
              "Matrix([\n",
              "[1, -2,   1,  0],\n",
              "[0,  3, -12, 12],\n",
              "[1,  0,  -1,  2]])"
            ],
            "text/latex": "$\\displaystyle \\left[\\begin{matrix}1 & -2 & 1 & 0\\\\0 & 3 & -12 & 12\\\\1 & 0 & -1 & 2\\end{matrix}\\right]$"
          },
          "metadata": {},
          "execution_count": 12
        }
      ]
    },
    {
      "cell_type": "markdown",
      "source": [
        "### Example: $R_3 \\Longleftarrow R_3 + \\frac{1}{4}R_2$"
      ],
      "metadata": {
        "id": "t1MbIn1v8uo-"
      }
    },
    {
      "cell_type": "code",
      "source": [
        "A"
      ],
      "metadata": {
        "colab": {
          "base_uri": "https://localhost:8080/",
          "height": 78
        },
        "id": "4epEvAFAKafH",
        "outputId": "a5be07cd-6331-414f-b476-15ba8c13b34e"
      },
      "execution_count": 13,
      "outputs": [
        {
          "output_type": "execute_result",
          "data": {
            "text/plain": [
              "Matrix([\n",
              "[1, -2,  1, 0],\n",
              "[0,  1, -4, 4],\n",
              "[1,  0, -1, 2]])"
            ],
            "text/latex": "$\\displaystyle \\left[\\begin{matrix}1 & -2 & 1 & 0\\\\0 & 1 & -4 & 4\\\\1 & 0 & -1 & 2\\end{matrix}\\right]$"
          },
          "metadata": {},
          "execution_count": 13
        }
      ]
    },
    {
      "cell_type": "code",
      "source": [
        "add_row(A, sym.Rational(1, 4), 3, 2)"
      ],
      "metadata": {
        "colab": {
          "base_uri": "https://localhost:8080/",
          "height": 78
        },
        "id": "6FhqRf1d9QBe",
        "outputId": "de512c2e-4d49-4969-af14-c552e3b5df35"
      },
      "execution_count": 14,
      "outputs": [
        {
          "output_type": "execute_result",
          "data": {
            "text/plain": [
              "Matrix([\n",
              "[1,  -2,  1, 0],\n",
              "[0,   1, -4, 4],\n",
              "[1, 1/4, -2, 3]])"
            ],
            "text/latex": "$\\displaystyle \\left[\\begin{matrix}1 & -2 & 1 & 0\\\\0 & 1 & -4 & 4\\\\1 & \\frac{1}{4} & -2 & 3\\end{matrix}\\right]$"
          },
          "metadata": {},
          "execution_count": 14
        }
      ]
    },
    {
      "cell_type": "markdown",
      "source": [
        "## 1.3.1.4 Gaussian Elimination\n",
        "\n",
        "- This lesson covers an algorithm called **row reduction** or **Gaussian elimination**\n",
        "- The algorithm transforms a given matrix $M$ to a matrix in **reduced row echelon form**"
      ],
      "metadata": {
        "id": "c7bcTcQY95Fs"
      }
    },
    {
      "cell_type": "markdown",
      "source": [
        "### Example\n",
        "\n",
        "$$\n",
        "\\begin{align}\n",
        "x_1 - 2x_2 + x_3 &= 0 \\\\\n",
        "x_2 - 4x_3 &= 4 \\\\\n",
        "x_1 - x_3 &= 2\n",
        "\\end{align}\n",
        "$$"
      ],
      "metadata": {
        "id": "qHiFBtO8QK0i"
      }
    },
    {
      "cell_type": "markdown",
      "source": [
        "#### Step 1: The augmented matrix\n",
        "\n",
        "- Our goal is to transform the augmented matrix into a reduced row echelon matrix using the elementary row operations"
      ],
      "metadata": {
        "id": "PTWCXURmRFR3"
      }
    },
    {
      "cell_type": "code",
      "source": [
        "M = sym.Matrix(3, 4, [1, -2, 1, 0, 0, 1, -4, 4, 1, 0, -1, 2])\n",
        "M"
      ],
      "metadata": {
        "colab": {
          "base_uri": "https://localhost:8080/",
          "height": 78
        },
        "id": "TylNN0qWQ1jj",
        "outputId": "ea2a26fa-a5db-4254-f8d9-d5dbe289ec04"
      },
      "execution_count": 15,
      "outputs": [
        {
          "output_type": "execute_result",
          "data": {
            "text/plain": [
              "Matrix([\n",
              "[1, -2,  1, 0],\n",
              "[0,  1, -4, 4],\n",
              "[1,  0, -1, 2]])"
            ],
            "text/latex": "$\\displaystyle \\left[\\begin{matrix}1 & -2 & 1 & 0\\\\0 & 1 & -4 & 4\\\\1 & 0 & -1 & 2\\end{matrix}\\right]$"
          },
          "metadata": {},
          "execution_count": 15
        }
      ]
    },
    {
      "cell_type": "markdown",
      "source": [
        "#### $R_3 \\Longleftarrow R_3 -1R_1$"
      ],
      "metadata": {
        "id": "9FwqMaHLRnEf"
      }
    },
    {
      "cell_type": "code",
      "source": [
        "M[2, :] = M.row(2) - M.row(0)\n",
        "M"
      ],
      "metadata": {
        "colab": {
          "base_uri": "https://localhost:8080/",
          "height": 78
        },
        "id": "ma63r1kFSAvc",
        "outputId": "840003a7-fee8-4cf5-89c8-9b69fe20b8ad"
      },
      "execution_count": 16,
      "outputs": [
        {
          "output_type": "execute_result",
          "data": {
            "text/plain": [
              "Matrix([\n",
              "[1, -2,  1, 0],\n",
              "[0,  1, -4, 4],\n",
              "[0,  2, -2, 2]])"
            ],
            "text/latex": "$\\displaystyle \\left[\\begin{matrix}1 & -2 & 1 & 0\\\\0 & 1 & -4 & 4\\\\0 & 2 & -2 & 2\\end{matrix}\\right]$"
          },
          "metadata": {},
          "execution_count": 16
        }
      ]
    },
    {
      "cell_type": "markdown",
      "source": [
        "#### $R_3 \\Longleftarrow R_3 - 2R_2$"
      ],
      "metadata": {
        "id": "hyBGptUIUe1g"
      }
    },
    {
      "cell_type": "code",
      "source": [
        "M[2, :] = M.row(2) - 2 * M.row(1)\n",
        "M"
      ],
      "metadata": {
        "colab": {
          "base_uri": "https://localhost:8080/",
          "height": 78
        },
        "id": "rL9q99WGU0gw",
        "outputId": "fc664f2d-b9db-4f3e-f2e9-b28ced48c952"
      },
      "execution_count": 17,
      "outputs": [
        {
          "output_type": "execute_result",
          "data": {
            "text/plain": [
              "Matrix([\n",
              "[1, -2,  1,  0],\n",
              "[0,  1, -4,  4],\n",
              "[0,  0,  6, -6]])"
            ],
            "text/latex": "$\\displaystyle \\left[\\begin{matrix}1 & -2 & 1 & 0\\\\0 & 1 & -4 & 4\\\\0 & 0 & 6 & -6\\end{matrix}\\right]$"
          },
          "metadata": {},
          "execution_count": 17
        }
      ]
    },
    {
      "cell_type": "markdown",
      "source": [
        "#### $R_3 \\Longleftarrow \\frac{1}{6}R_3$"
      ],
      "metadata": {
        "id": "WegXFWmWWY_y"
      }
    },
    {
      "cell_type": "code",
      "source": [
        "M[2, :] = M.row(2) / 6\n",
        "M"
      ],
      "metadata": {
        "colab": {
          "base_uri": "https://localhost:8080/",
          "height": 78
        },
        "id": "cQT18tFTWlS5",
        "outputId": "51491663-e7d7-4382-e840-a2656ec7d35c"
      },
      "execution_count": 18,
      "outputs": [
        {
          "output_type": "execute_result",
          "data": {
            "text/plain": [
              "Matrix([\n",
              "[1, -2,  1,  0],\n",
              "[0,  1, -4,  4],\n",
              "[0,  0,  1, -1]])"
            ],
            "text/latex": "$\\displaystyle \\left[\\begin{matrix}1 & -2 & 1 & 0\\\\0 & 1 & -4 & 4\\\\0 & 0 & 1 & -1\\end{matrix}\\right]$"
          },
          "metadata": {},
          "execution_count": 18
        }
      ]
    },
    {
      "cell_type": "markdown",
      "source": [
        "#### $R_2 \\Longleftarrow R_2 + 4R_3 $"
      ],
      "metadata": {
        "id": "c0sBdGV9XPDy"
      }
    },
    {
      "cell_type": "code",
      "source": [
        "M[1, :] = M.row(1) + 4 * M.row(2)\n",
        "M"
      ],
      "metadata": {
        "colab": {
          "base_uri": "https://localhost:8080/",
          "height": 78
        },
        "id": "YSSpCR5UY4RB",
        "outputId": "579e8f10-1c4e-4dcd-ef4d-8473edbc973e"
      },
      "execution_count": 19,
      "outputs": [
        {
          "output_type": "execute_result",
          "data": {
            "text/plain": [
              "Matrix([\n",
              "[1, -2, 1,  0],\n",
              "[0,  1, 0,  0],\n",
              "[0,  0, 1, -1]])"
            ],
            "text/latex": "$\\displaystyle \\left[\\begin{matrix}1 & -2 & 1 & 0\\\\0 & 1 & 0 & 0\\\\0 & 0 & 1 & -1\\end{matrix}\\right]$"
          },
          "metadata": {},
          "execution_count": 19
        }
      ]
    },
    {
      "cell_type": "markdown",
      "source": [
        "#### $R_1 \\Longleftarrow R_1 - R_3$"
      ],
      "metadata": {
        "id": "xMMAl1xaZUF3"
      }
    },
    {
      "cell_type": "code",
      "source": [
        "M[0,:] = M.row(0) - M.row(2)\n",
        "M"
      ],
      "metadata": {
        "colab": {
          "base_uri": "https://localhost:8080/",
          "height": 78
        },
        "id": "8YkrCplPZkkH",
        "outputId": "a54dfbb2-f022-4f66-8416-ef5c56047221"
      },
      "execution_count": 20,
      "outputs": [
        {
          "output_type": "execute_result",
          "data": {
            "text/plain": [
              "Matrix([\n",
              "[1, -2, 0,  1],\n",
              "[0,  1, 0,  0],\n",
              "[0,  0, 1, -1]])"
            ],
            "text/latex": "$\\displaystyle \\left[\\begin{matrix}1 & -2 & 0 & 1\\\\0 & 1 & 0 & 0\\\\0 & 0 & 1 & -1\\end{matrix}\\right]$"
          },
          "metadata": {},
          "execution_count": 20
        }
      ]
    },
    {
      "cell_type": "markdown",
      "source": [
        "#### $R_1 \\Longleftarrow R_1 + 2R_2$"
      ],
      "metadata": {
        "id": "HnEgeyVIbs49"
      }
    },
    {
      "cell_type": "code",
      "source": [
        "M[0,:] = M.row(0) + 2 * M.row(1)\n",
        "M"
      ],
      "metadata": {
        "colab": {
          "base_uri": "https://localhost:8080/",
          "height": 78
        },
        "id": "QO3kIue-b_8M",
        "outputId": "8305b4e2-0ae9-4571-8c1c-f1e4081e1d19"
      },
      "execution_count": 21,
      "outputs": [
        {
          "output_type": "execute_result",
          "data": {
            "text/plain": [
              "Matrix([\n",
              "[1, 0, 0,  1],\n",
              "[0, 1, 0,  0],\n",
              "[0, 0, 1, -1]])"
            ],
            "text/latex": "$\\displaystyle \\left[\\begin{matrix}1 & 0 & 0 & 1\\\\0 & 1 & 0 & 0\\\\0 & 0 & 1 & -1\\end{matrix}\\right]$"
          },
          "metadata": {},
          "execution_count": 21
        }
      ]
    },
    {
      "cell_type": "markdown",
      "source": [
        "#### Alternately:"
      ],
      "metadata": {
        "id": "NNE-JLldcdLX"
      }
    },
    {
      "cell_type": "code",
      "source": [
        "M = sym.Matrix(3, 4, [1, -2, 1, 0, 0, 1, -4, 4, 1, 0, -1, 2])\n",
        "M"
      ],
      "metadata": {
        "colab": {
          "base_uri": "https://localhost:8080/",
          "height": 78
        },
        "id": "-iDpABCWcmKe",
        "outputId": "992fc050-b0ac-4738-ea46-c9edd34ba655"
      },
      "execution_count": 22,
      "outputs": [
        {
          "output_type": "execute_result",
          "data": {
            "text/plain": [
              "Matrix([\n",
              "[1, -2,  1, 0],\n",
              "[0,  1, -4, 4],\n",
              "[1,  0, -1, 2]])"
            ],
            "text/latex": "$\\displaystyle \\left[\\begin{matrix}1 & -2 & 1 & 0\\\\0 & 1 & -4 & 4\\\\1 & 0 & -1 & 2\\end{matrix}\\right]$"
          },
          "metadata": {},
          "execution_count": 22
        }
      ]
    },
    {
      "cell_type": "code",
      "source": [
        "M.rref()"
      ],
      "metadata": {
        "colab": {
          "base_uri": "https://localhost:8080/"
        },
        "id": "8RvwAatGcnzk",
        "outputId": "2f0e2205-8ebc-4bf3-eefb-31080f6941ae"
      },
      "execution_count": 23,
      "outputs": [
        {
          "output_type": "execute_result",
          "data": {
            "text/plain": [
              "(Matrix([\n",
              " [1, 0, 0,  1],\n",
              " [0, 1, 0,  0],\n",
              " [0, 0, 1, -1]]),\n",
              " (0, 1, 2))"
            ]
          },
          "metadata": {},
          "execution_count": 23
        }
      ]
    },
    {
      "cell_type": "markdown",
      "source": [
        "From the final matrix, we can easily see that $x_1 = 1, x_2 = 0$ and $x_3 = -1$"
      ],
      "metadata": {
        "id": "k4MAg2fPdmNA"
      }
    },
    {
      "cell_type": "markdown",
      "source": [
        "#### WolframAlpha solution:\n",
        "\n",
        "[`row reduce {{1, -2, 1, 0}, {0, 1, -4, 4}, {1, 0, -1, 2}}`](https://www.wolframalpha.com/input?i=row+reduce+%7B%7B1%2C+-2%2C+1%2C+0%7D%2C+%7B0%2C+1%2C+-4%2C+4%7D%2C+%7B1%2C+0%2C+-1%2C+2%7D%7D)"
      ],
      "metadata": {
        "id": "A3GQz0wweRt6"
      }
    },
    {
      "cell_type": "markdown",
      "source": [
        "## 1.3.1.5 Vector Equations"
      ],
      "metadata": {
        "id": "6nyKbWgAf6kk"
      }
    }
  ]
}