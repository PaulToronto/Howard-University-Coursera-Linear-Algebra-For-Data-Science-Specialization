{
  "nbformat": 4,
  "nbformat_minor": 0,
  "metadata": {
    "colab": {
      "provenance": [],
      "toc_visible": true,
      "authorship_tag": "ABX9TyNsUs0z1rMFFU3iZpGsMGTS",
      "include_colab_link": true
    },
    "kernelspec": {
      "name": "python3",
      "display_name": "Python 3"
    },
    "language_info": {
      "name": "python"
    }
  },
  "cells": [
    {
      "cell_type": "markdown",
      "metadata": {
        "id": "view-in-github",
        "colab_type": "text"
      },
      "source": [
        "<a href=\"https://colab.research.google.com/github/PaulToronto/Howard-University-Coursera-Linear-Algebra-For-Data-Science-Specialization/blob/main/1_3_1_Defining_Vector_Equations.ipynb\" target=\"_parent\"><img src=\"https://colab.research.google.com/assets/colab-badge.svg\" alt=\"Open In Colab\"/></a>"
      ]
    },
    {
      "cell_type": "markdown",
      "source": [
        "# 1.3.1 Defining Vector Equations"
      ],
      "metadata": {
        "id": "lQeJ79M--O14"
      }
    },
    {
      "cell_type": "markdown",
      "source": [
        "## 1.3.1.1 Systems of Linear Equations"
      ],
      "metadata": {
        "id": "4sd0dbya-XyY"
      }
    },
    {
      "cell_type": "markdown",
      "source": [
        "### Linear Equation (or Function)\n",
        "\n",
        "$y = mx + b$ \n",
        "\n",
        "- $m$ and $b$ are constants\n",
        "- $m$ is the slope\n",
        "- $b$ is the y-intercept\n",
        "\n",
        "#### Another Form of the Linear Equation\n",
        "\n",
        "$ax + by = c$\n",
        "\n",
        "This can be generalized as shown in the following definition."
      ],
      "metadata": {
        "id": "M0S82ssbATe1"
      }
    },
    {
      "cell_type": "markdown",
      "source": [
        "### Definition: Linear Equation\n",
        "\n",
        "Let $n$ be any positive integer. A **linear equation** of the variables $x_1, x_2, \\dots, x_n$ is an equation that can be written in the form\n",
        "\n",
        "$$\n",
        "a_1x_1 + a_2x_2 + \\dots + a_nx_n = b\n",
        "$$\n",
        "\n",
        "where $b$ and the coefficents $a_1, a_2, \\dots, a_n$ are real numbers."
      ],
      "metadata": {
        "id": "x8_GegwtFM1f"
      }
    },
    {
      "cell_type": "markdown",
      "source": [
        "### Definition: System of Linear Equations\n",
        "\n",
        "A **system of linear equations** is a collection of one or more linear equations in the same variables."
      ],
      "metadata": {
        "id": "IektEH9yGeXm"
      }
    },
    {
      "cell_type": "markdown",
      "source": [
        "#### Example\n",
        "\n",
        "$$\n",
        "\\begin{align}\n",
        "x_1 + x_2 &= 1 \\\\\n",
        "x_1 - 3x_2 &= 6\n",
        "\\end{align}\n",
        "$$"
      ],
      "metadata": {
        "id": "YoWbXrIuICjd"
      }
    },
    {
      "cell_type": "markdown",
      "source": [
        "#### Example\n",
        "\n",
        "$$\n",
        "\\begin{align}\n",
        "x_1 + 3x_2 - 3x_3 &= 12.5 \\\\\n",
        "x_1 - 2x_2 + x_3 &= 2\n",
        "\\end{align}\n",
        "$$"
      ],
      "metadata": {
        "id": "kbwhDCYWJESk"
      }
    },
    {
      "cell_type": "markdown",
      "source": [
        "### Lines in the Plane\n",
        "\n",
        "Recall that given any two lines in the plane, one and only one of the following is true:\n",
        "\n",
        "1. The lines intersect in exactly one point\n",
        "2. The lines are parallel\n",
        "3. The two lines are equal"
      ],
      "metadata": {
        "id": "Uah9UmLIKUfD"
      }
    },
    {
      "cell_type": "markdown",
      "source": [
        "### Definition: Solution, Solution Set\n",
        "\n",
        "A **solution** to a system of linear equations, as a point $(s_1, s_2, \\dots, s_n)$ that satisfies all the equations of the system. The set of all soutions to a system is called the **solution set**. "
      ],
      "metadata": {
        "id": "AKrVoRcJLNc8"
      }
    },
    {
      "cell_type": "markdown",
      "source": [
        "### Theorem\n",
        "\n",
        "Given any system of linear equations one and only one of the following is true:\n",
        "\n",
        "1. The system has exactly one solution\n",
        "    - the lines intersect\n",
        "2. The system has no solutions\n",
        "    - the lines are parallel\n",
        "3. The system has infinitely many solutions\n",
        "    - the lines are the same line\n"
      ],
      "metadata": {
        "id": "kgGGX5VBL7PB"
      }
    },
    {
      "cell_type": "markdown",
      "source": [
        "### Definition: Consistent/Inconsistent\n",
        "\n",
        "A system of linear equations that has one solution or infinitely many solutions is called **consistent**, otherwise it is called **inconsistent**. "
      ],
      "metadata": {
        "id": "xkUdfDH_Oogg"
      }
    },
    {
      "cell_type": "markdown",
      "source": [
        "## 1.3.1.2 Row Echelon Form and Augmented Matrices"
      ],
      "metadata": {
        "id": "Mfpv4NaWP79L"
      }
    },
    {
      "cell_type": "markdown",
      "source": [
        "### Augmented Matrix\n",
        "\n",
        "Consider the following system of linear equations in variables $x_1$, $x_2$, and $x_3$. \n",
        "\n",
        "$$\n",
        "\\begin{align}\n",
        "x_1 + 3x_2 - 3x_3 &= 12 \\\\\n",
        "2x_1 - 2x_2 + x_3 &= 2\n",
        "\\end{align}\n",
        "$$\n",
        "\n",
        "The following matrix is called the **augmented matrix** of the system.\n",
        "\n",
        "$$\n",
        "\\begin{pmatrix}\n",
        "1 & 3 & -3 & \\bigm| & 12 \\\\\n",
        "2 & -2 & 1 & \\bigm| & 2\n",
        "\\end{pmatrix}\n",
        "$$"
      ],
      "metadata": {
        "id": "bWBjF03jTaDm"
      }
    },
    {
      "cell_type": "markdown",
      "source": [
        "### Coefficient Matrix\n",
        "\n",
        "Using the same system, aligning the coefficients of each variable in columns we get the **coefficient matrix** of the system.\n",
        "\n",
        "$$\n",
        "\\begin{pmatrix}\n",
        "1 & 3 & -3 \\\\\n",
        "2 & -2 & 1\n",
        "\\end{pmatrix}\n",
        "$$"
      ],
      "metadata": {
        "id": "hptNxBWRYjIi"
      }
    },
    {
      "cell_type": "markdown",
      "source": [
        "### Leading Entry (or Coefficient)\n",
        "\n",
        "- A **nonzero row** of a matrix is a row that has at least one nonzero entry\n",
        "\n",
        "- The leftmost nonzero entry of a row is called the **leading entry** or **leading coefficient** of the row"
      ],
      "metadata": {
        "id": "cfliQpEtZorY"
      }
    },
    {
      "cell_type": "markdown",
      "source": [
        "#### Example\n",
        "\n",
        "Consider the matrix $M$.\n",
        "\n",
        "$$\n",
        "M = \n",
        "\\begin{pmatrix}\n",
        "3 & 1 & 2 & 0 \\\\\n",
        "0 & 2 & 1 & 0 \\\\\n",
        "0 & 0 & 5 & 3 \\\\\n",
        "0 & 0 & 0 & 0\n",
        "\\end{pmatrix}\n",
        "$$\n",
        "\n",
        "- $3$ is the leading entry of row 1\n",
        "- $2$ is the leading entry of row 2\n",
        "- $5$ is the leading entry of row 3\n",
        "- row 4 is a zero row and has no leading entry"
      ],
      "metadata": {
        "id": "fQqfyDO0aZXH"
      }
    },
    {
      "cell_type": "markdown",
      "source": [
        "### Definition: Row Echelon Form\n",
        "\n",
        "A matrix $M$ is in **row echelon form** if it satisfies all of the following:\n",
        "\n",
        "1. All zero rows are at the bottom of $M$\n",
        "2. Each leading entry of a row is in a column to the right of the leading entry in the row above it\n",
        "3. All entries that are below a leading entry are zero"
      ],
      "metadata": {
        "id": "dhO0xqHnbJxY"
      }
    },
    {
      "cell_type": "markdown",
      "source": [
        "#### Example\n",
        "\n",
        "The following matrices are in row echelon form:\n",
        "\n",
        "$$\n",
        "\\begin{pmatrix}\n",
        "3 & 1 & 2 & 0 \\\\\n",
        "0 & 2 & 1 & 0 \\\\\n",
        "0 & 0 & 5 & 3\n",
        "\\end{pmatrix}\n",
        "$$\n",
        "\n",
        "$$\n",
        "\\begin{pmatrix}\n",
        "0 & 1 & 2 & 0 \\\\\n",
        "0 & 0 & 2 & 0 \\\\\n",
        "0 & 0 & 0 & 0\n",
        "\\end{pmatrix}\n",
        "$$\n",
        "\n",
        "$$\n",
        "\\begin{pmatrix}\n",
        "1 & 1 & 2 & 0 \\\\\n",
        "0 & 0 & 1 & 0 \n",
        "\\end{pmatrix}\n",
        "$$"
      ],
      "metadata": {
        "id": "tRZzaen6cp3V"
      }
    },
    {
      "cell_type": "markdown",
      "source": [
        "### Definition: Reduced Echelon Form\n",
        "\n",
        "A matrix $M$ is in **reduced echelon form** it it satisfies all of the following:\n",
        "\n",
        "1. $M$ is in echelon form\n",
        "2. Each leading entry is $1$\n",
        "3. Each leading entry is the only nonzero entry in its column"
      ],
      "metadata": {
        "id": "DHksyhdodvhm"
      }
    },
    {
      "cell_type": "markdown",
      "source": [
        "#### Example\n",
        "\n",
        "The following matrices are in **reduced row echelon form**:\n",
        "\n",
        "$$\n",
        "\\begin{pmatrix}\n",
        "1 & 0 & 0 & 2 \\\\\n",
        "0 & 1 & 0 & 0 \\\\\n",
        "0 & 0 & 1 & 3\n",
        "\\end{pmatrix}\n",
        "$$\n",
        "\n",
        "$$\n",
        "\\begin{pmatrix}\n",
        "1 & 1 & 0 & 0 \\\\\n",
        "0 & 0 & 1 & 0 \\\\\n",
        "0 & 0 & 0 & 0\n",
        "\\end{pmatrix}\n",
        "$$\n",
        "\n",
        "$$\n",
        "\\begin{pmatrix}\n",
        "1 & 2 & 0 & 0 \\\\\n",
        "0 & 0 & 1 & 0 \n",
        "\\end{pmatrix}\n",
        "$$"
      ],
      "metadata": {
        "id": "5cS7b-vxezJL"
      }
    }
  ]
}