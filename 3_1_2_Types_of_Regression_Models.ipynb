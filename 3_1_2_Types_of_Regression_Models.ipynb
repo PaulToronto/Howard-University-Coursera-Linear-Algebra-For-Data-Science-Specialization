{
  "nbformat": 4,
  "nbformat_minor": 0,
  "metadata": {
    "colab": {
      "provenance": [],
      "authorship_tag": "ABX9TyPSqiIwr6J8WmcqEJVgCzwx",
      "include_colab_link": true
    },
    "kernelspec": {
      "name": "python3",
      "display_name": "Python 3"
    },
    "language_info": {
      "name": "python"
    }
  },
  "cells": [
    {
      "cell_type": "markdown",
      "metadata": {
        "id": "view-in-github",
        "colab_type": "text"
      },
      "source": [
        "<a href=\"https://colab.research.google.com/github/PaulToronto/Howard-University-Coursera-Linear-Algebra-For-Data-Science-Specialization/blob/main/3_1_2_Types_of_Regression_Models.ipynb\" target=\"_parent\"><img src=\"https://colab.research.google.com/assets/colab-badge.svg\" alt=\"Open In Colab\"/></a>"
      ]
    },
    {
      "cell_type": "markdown",
      "source": [
        "# 3.1.2 Types of Regression Models"
      ],
      "metadata": {
        "id": "ozpwvWI6f183"
      }
    },
    {
      "cell_type": "markdown",
      "source": [
        "## 3.1.2 Introduction to the Method of Least Squares\n",
        "\n",
        "Given the data $\\left\\{(x_1, y_1), (x_2, y_2), \\dots, (x_n, y_n)\\right\\}$, we can fir the data set with the linear model:\n",
        "\n",
        "$$\n",
        "Y = ax_n + b\n",
        "$$\n",
        "\n",
        "The **Least Square Method** is a process of finding the intercept $b$ and the slope $a$ that will minimize the error. The associated error is:\n",
        "\n",
        "$$\n",
        "E(a, b) = \\sum_{n=1}^N(y_n - (ax_n + b)^2)\n",
        "$$"
      ],
      "metadata": {
        "id": "hkvnlDVaf-jO"
      }
    }
  ]
}