{
  "nbformat": 4,
  "nbformat_minor": 0,
  "metadata": {
    "colab": {
      "provenance": [],
      "toc_visible": true,
      "authorship_tag": "ABX9TyMi37u0mgyIMze+L6MoZ4Z2",
      "include_colab_link": true
    },
    "kernelspec": {
      "name": "python3",
      "display_name": "Python 3"
    },
    "language_info": {
      "name": "python"
    }
  },
  "cells": [
    {
      "cell_type": "markdown",
      "metadata": {
        "id": "view-in-github",
        "colab_type": "text"
      },
      "source": [
        "<a href=\"https://colab.research.google.com/github/PaulToronto/Howard-University-Coursera-Linear-Algebra-For-Data-Science-Specialization/blob/main/3_1_2_Solving_Systems_of_Linear_Equations.ipynb\" target=\"_parent\"><img src=\"https://colab.research.google.com/assets/colab-badge.svg\" alt=\"Open In Colab\"/></a>"
      ]
    },
    {
      "cell_type": "markdown",
      "source": [
        "# 3.1.2 Solving Systems of Linear Equations"
      ],
      "metadata": {
        "id": "CxblYAK3v6rp"
      }
    },
    {
      "cell_type": "markdown",
      "source": [
        "## Imports"
      ],
      "metadata": {
        "id": "V8CWLEtsv9WX"
      }
    },
    {
      "cell_type": "code",
      "execution_count": 12,
      "metadata": {
        "id": "5rY-2PNuv2al"
      },
      "outputs": [],
      "source": [
        "import numpy as np\n",
        "import sympy as sym\n",
        "import random"
      ]
    },
    {
      "cell_type": "markdown",
      "source": [
        "## 3.1.2.1 Solvng Systems Using the Inverse"
      ],
      "metadata": {
        "id": "GbhcBnbYv_nt"
      }
    },
    {
      "cell_type": "markdown",
      "source": [
        "### What is need to use the inverse of the coefficient matrix to solve a system:\n",
        "\n",
        "1. The number of equations and the number of variables must be the same\n",
        "2. The coefficient matrix must be invertible"
      ],
      "metadata": {
        "id": "0E0v8Yc-xpkC"
      }
    },
    {
      "cell_type": "markdown",
      "source": [
        "### Discussion\n",
        "\n",
        "Consider the following system with 3 variables and 3 equations.\n",
        "\n",
        "$$\n",
        "\\begin{align}\n",
        "a_1x + a_2y + a_3z &= d_1 \\\\\n",
        "b_1x + b_2y + b_3z &= d_2 \\\\\n",
        "c_1x + c_2y + c_3z &= d_3\n",
        "\\end{align}\n",
        "$$\n",
        "\n",
        "Let A denote the coefficent matrix."
      ],
      "metadata": {
        "id": "ir-Aij12yI0w"
      }
    },
    {
      "cell_type": "code",
      "source": [
        "a1, a2, a3, b1, b2, b3, c1, c2, c3 = sym.symbols('a_1 a_2 a_3 b_1 b_2 b_3 c_1 c_2 c_3')\n",
        "\n",
        "A = sym.Matrix([[a1, a2, a3],\n",
        "                [b1, b2, b3],\n",
        "                [c1, c2, c3]])\n",
        "A"
      ],
      "metadata": {
        "colab": {
          "base_uri": "https://localhost:8080/",
          "height": 78
        },
        "id": "UFH6VjtAys8f",
        "outputId": "f6a6a73c-1c2c-496d-8611-6ea488c41e2b"
      },
      "execution_count": 2,
      "outputs": [
        {
          "output_type": "execute_result",
          "data": {
            "text/plain": [
              "Matrix([\n",
              "[a_1, a_2, a_3],\n",
              "[b_1, b_2, b_3],\n",
              "[c_1, c_2, c_3]])"
            ],
            "text/latex": "$\\displaystyle \\left[\\begin{matrix}a_{1} & a_{2} & a_{3}\\\\b_{1} & b_{2} & b_{3}\\\\c_{1} & c_{2} & c_{3}\\end{matrix}\\right]$"
          },
          "metadata": {},
          "execution_count": 2
        }
      ]
    },
    {
      "cell_type": "code",
      "source": [
        "x, y, z, = sym.symbols('x y z')\n",
        "X = sym.Matrix([[x],\n",
        "                [y],\n",
        "                [z]])\n",
        "X"
      ],
      "metadata": {
        "colab": {
          "base_uri": "https://localhost:8080/",
          "height": 78
        },
        "id": "o9dZ02AHzLLK",
        "outputId": "d0e840aa-a26e-48f6-bf05-45b2b16804e6"
      },
      "execution_count": 3,
      "outputs": [
        {
          "output_type": "execute_result",
          "data": {
            "text/plain": [
              "Matrix([\n",
              "[x],\n",
              "[y],\n",
              "[z]])"
            ],
            "text/latex": "$\\displaystyle \\left[\\begin{matrix}x\\\\y\\\\z\\end{matrix}\\right]$"
          },
          "metadata": {},
          "execution_count": 3
        }
      ]
    },
    {
      "cell_type": "code",
      "source": [
        "d1, d2, d3 = sym.symbols('d_1 d_2 d_3')\n",
        "C = sym.Matrix([[d1],\n",
        "                [d2],\n",
        "                [d3]])\n",
        "C"
      ],
      "metadata": {
        "colab": {
          "base_uri": "https://localhost:8080/",
          "height": 78
        },
        "id": "Y-zOOKZs0ZMy",
        "outputId": "453f3e36-65d5-4902-c181-d8b64a8711a7"
      },
      "execution_count": 4,
      "outputs": [
        {
          "output_type": "execute_result",
          "data": {
            "text/plain": [
              "Matrix([\n",
              "[d_1],\n",
              "[d_2],\n",
              "[d_3]])"
            ],
            "text/latex": "$\\displaystyle \\left[\\begin{matrix}d_{1}\\\\d_{2}\\\\d_{3}\\end{matrix}\\right]$"
          },
          "metadata": {},
          "execution_count": 4
        }
      ]
    },
    {
      "cell_type": "code",
      "source": [
        "A @ X"
      ],
      "metadata": {
        "colab": {
          "base_uri": "https://localhost:8080/",
          "height": 78
        },
        "id": "WolppQax0man",
        "outputId": "775fc68d-d0cd-4398-861a-69f3bc639339"
      },
      "execution_count": 5,
      "outputs": [
        {
          "output_type": "execute_result",
          "data": {
            "text/plain": [
              "Matrix([\n",
              "[a_1*x + a_2*y + a_3*z],\n",
              "[b_1*x + b_2*y + b_3*z],\n",
              "[c_1*x + c_2*y + c_3*z]])"
            ],
            "text/latex": "$\\displaystyle \\left[\\begin{matrix}a_{1} x + a_{2} y + a_{3} z\\\\b_{1} x + b_{2} y + b_{3} z\\\\c_{1} x + c_{2} y + c_{3} z\\end{matrix}\\right]$"
          },
          "metadata": {},
          "execution_count": 5
        }
      ]
    },
    {
      "cell_type": "markdown",
      "source": [
        "Another way of writing the linear system:\n",
        "\n",
        "$$\n",
        "A \\cdot X = C\n",
        "$$\n",
        "\n",
        "If $A$ is invertible, then:\n",
        "\n",
        "$$\n",
        "\\begin{align}\n",
        "A^{-1}AX &= A^{-1}C \\\\\n",
        "IX &= A^{-1}C \\\\\n",
        "X &= A^{-1}C\n",
        "\\end{align}\n",
        "$$"
      ],
      "metadata": {
        "id": "iECjS_Z80qrN"
      }
    },
    {
      "cell_type": "code",
      "source": [
        "A.inv() @ C"
      ],
      "metadata": {
        "colab": {
          "base_uri": "https://localhost:8080/",
          "height": 91
        },
        "id": "GzHW0QNs1dbT",
        "outputId": "7b1e2961-6f19-4527-8248-c92cf9a16eac"
      },
      "execution_count": 6,
      "outputs": [
        {
          "output_type": "execute_result",
          "data": {
            "text/plain": [
              "Matrix([\n",
              "[ d_1*(b_2*c_3 - b_3*c_2)/(a_1*b_2*c_3 - a_1*b_3*c_2 - a_2*b_1*c_3 + a_2*b_3*c_1 + a_3*b_1*c_2 - a_3*b_2*c_1) + d_2*(-a_2*c_3 + a_3*c_2)/(a_1*b_2*c_3 - a_1*b_3*c_2 - a_2*b_1*c_3 + a_2*b_3*c_1 + a_3*b_1*c_2 - a_3*b_2*c_1) + d_3*(a_2*b_3 - a_3*b_2)/(a_1*b_2*c_3 - a_1*b_3*c_2 - a_2*b_1*c_3 + a_2*b_3*c_1 + a_3*b_1*c_2 - a_3*b_2*c_1)],\n",
              "[d_1*(-b_1*c_3 + b_3*c_1)/(a_1*b_2*c_3 - a_1*b_3*c_2 - a_2*b_1*c_3 + a_2*b_3*c_1 + a_3*b_1*c_2 - a_3*b_2*c_1) + d_2*(a_1*c_3 - a_3*c_1)/(a_1*b_2*c_3 - a_1*b_3*c_2 - a_2*b_1*c_3 + a_2*b_3*c_1 + a_3*b_1*c_2 - a_3*b_2*c_1) + d_3*(-a_1*b_3 + a_3*b_1)/(a_1*b_2*c_3 - a_1*b_3*c_2 - a_2*b_1*c_3 + a_2*b_3*c_1 + a_3*b_1*c_2 - a_3*b_2*c_1)],\n",
              "[ d_1*(b_1*c_2 - b_2*c_1)/(a_1*b_2*c_3 - a_1*b_3*c_2 - a_2*b_1*c_3 + a_2*b_3*c_1 + a_3*b_1*c_2 - a_3*b_2*c_1) + d_2*(-a_1*c_2 + a_2*c_1)/(a_1*b_2*c_3 - a_1*b_3*c_2 - a_2*b_1*c_3 + a_2*b_3*c_1 + a_3*b_1*c_2 - a_3*b_2*c_1) + d_3*(a_1*b_2 - a_2*b_1)/(a_1*b_2*c_3 - a_1*b_3*c_2 - a_2*b_1*c_3 + a_2*b_3*c_1 + a_3*b_1*c_2 - a_3*b_2*c_1)]])"
            ],
            "text/latex": "$\\displaystyle \\left[\\begin{matrix}\\frac{d_{1} \\left(b_{2} c_{3} - b_{3} c_{2}\\right)}{a_{1} b_{2} c_{3} - a_{1} b_{3} c_{2} - a_{2} b_{1} c_{3} + a_{2} b_{3} c_{1} + a_{3} b_{1} c_{2} - a_{3} b_{2} c_{1}} + \\frac{d_{2} \\left(- a_{2} c_{3} + a_{3} c_{2}\\right)}{a_{1} b_{2} c_{3} - a_{1} b_{3} c_{2} - a_{2} b_{1} c_{3} + a_{2} b_{3} c_{1} + a_{3} b_{1} c_{2} - a_{3} b_{2} c_{1}} + \\frac{d_{3} \\left(a_{2} b_{3} - a_{3} b_{2}\\right)}{a_{1} b_{2} c_{3} - a_{1} b_{3} c_{2} - a_{2} b_{1} c_{3} + a_{2} b_{3} c_{1} + a_{3} b_{1} c_{2} - a_{3} b_{2} c_{1}}\\\\\\frac{d_{1} \\left(- b_{1} c_{3} + b_{3} c_{1}\\right)}{a_{1} b_{2} c_{3} - a_{1} b_{3} c_{2} - a_{2} b_{1} c_{3} + a_{2} b_{3} c_{1} + a_{3} b_{1} c_{2} - a_{3} b_{2} c_{1}} + \\frac{d_{2} \\left(a_{1} c_{3} - a_{3} c_{1}\\right)}{a_{1} b_{2} c_{3} - a_{1} b_{3} c_{2} - a_{2} b_{1} c_{3} + a_{2} b_{3} c_{1} + a_{3} b_{1} c_{2} - a_{3} b_{2} c_{1}} + \\frac{d_{3} \\left(- a_{1} b_{3} + a_{3} b_{1}\\right)}{a_{1} b_{2} c_{3} - a_{1} b_{3} c_{2} - a_{2} b_{1} c_{3} + a_{2} b_{3} c_{1} + a_{3} b_{1} c_{2} - a_{3} b_{2} c_{1}}\\\\\\frac{d_{1} \\left(b_{1} c_{2} - b_{2} c_{1}\\right)}{a_{1} b_{2} c_{3} - a_{1} b_{3} c_{2} - a_{2} b_{1} c_{3} + a_{2} b_{3} c_{1} + a_{3} b_{1} c_{2} - a_{3} b_{2} c_{1}} + \\frac{d_{2} \\left(- a_{1} c_{2} + a_{2} c_{1}\\right)}{a_{1} b_{2} c_{3} - a_{1} b_{3} c_{2} - a_{2} b_{1} c_{3} + a_{2} b_{3} c_{1} + a_{3} b_{1} c_{2} - a_{3} b_{2} c_{1}} + \\frac{d_{3} \\left(a_{1} b_{2} - a_{2} b_{1}\\right)}{a_{1} b_{2} c_{3} - a_{1} b_{3} c_{2} - a_{2} b_{1} c_{3} + a_{2} b_{3} c_{1} + a_{3} b_{1} c_{2} - a_{3} b_{2} c_{1}}\\end{matrix}\\right]$"
          },
          "metadata": {},
          "execution_count": 6
        }
      ]
    },
    {
      "cell_type": "markdown",
      "source": [
        "### Example\n",
        "\n",
        "$$\n",
        "\\begin{align}\n",
        "x + 2y + 3z &= 9 \\\\\n",
        "4x + 5y + 6z &= 24 \\\\\n",
        "3x + y - 2z &= 4\n",
        "\\end{align}\n",
        "$$"
      ],
      "metadata": {
        "id": "3UISDY0V1wcB"
      }
    },
    {
      "cell_type": "code",
      "source": [
        "A = sym.Matrix([[1, 2, 3],\n",
        "                [4, 5, 6],\n",
        "                [3, 1, -2]])\n",
        "A"
      ],
      "metadata": {
        "colab": {
          "base_uri": "https://localhost:8080/",
          "height": 78
        },
        "id": "GF-PcQJB10lS",
        "outputId": "bc81adac-fefa-430b-db6f-6bfae03f96f2"
      },
      "execution_count": 7,
      "outputs": [
        {
          "output_type": "execute_result",
          "data": {
            "text/plain": [
              "Matrix([\n",
              "[1, 2,  3],\n",
              "[4, 5,  6],\n",
              "[3, 1, -2]])"
            ],
            "text/latex": "$\\displaystyle \\left[\\begin{matrix}1 & 2 & 3\\\\4 & 5 & 6\\\\3 & 1 & -2\\end{matrix}\\right]$"
          },
          "metadata": {},
          "execution_count": 7
        }
      ]
    },
    {
      "cell_type": "code",
      "source": [
        "C = sym.Matrix([9, 24, 4])\n",
        "C"
      ],
      "metadata": {
        "colab": {
          "base_uri": "https://localhost:8080/",
          "height": 78
        },
        "id": "LjdjfOcq2AVe",
        "outputId": "9cb48fa3-a974-4d98-f02d-03ae09835335"
      },
      "execution_count": 8,
      "outputs": [
        {
          "output_type": "execute_result",
          "data": {
            "text/plain": [
              "Matrix([\n",
              "[ 9],\n",
              "[24],\n",
              "[ 4]])"
            ],
            "text/latex": "$\\displaystyle \\left[\\begin{matrix}9\\\\24\\\\4\\end{matrix}\\right]$"
          },
          "metadata": {},
          "execution_count": 8
        }
      ]
    },
    {
      "cell_type": "code",
      "source": [
        "# check to makes sure A is invertible\n",
        "A.det()"
      ],
      "metadata": {
        "colab": {
          "base_uri": "https://localhost:8080/",
          "height": 37
        },
        "id": "tiRINXpe3EJm",
        "outputId": "55750850-2a2b-4524-d846-8a9585f65394"
      },
      "execution_count": 9,
      "outputs": [
        {
          "output_type": "execute_result",
          "data": {
            "text/plain": [
              "3"
            ],
            "text/latex": "$\\displaystyle 3$"
          },
          "metadata": {},
          "execution_count": 9
        }
      ]
    },
    {
      "cell_type": "code",
      "source": [
        "X = A.inv() @ C\n",
        "x = X[0]; y = X[1]; z = X[2]\n",
        "x, y, z"
      ],
      "metadata": {
        "colab": {
          "base_uri": "https://localhost:8080/"
        },
        "id": "d4LP_72f2hYh",
        "outputId": "f8710943-5b44-40da-818e-cf57d1adaa09"
      },
      "execution_count": 10,
      "outputs": [
        {
          "output_type": "execute_result",
          "data": {
            "text/plain": [
              "(4, -2, 3)"
            ]
          },
          "metadata": {},
          "execution_count": 10
        }
      ]
    },
    {
      "cell_type": "code",
      "source": [
        "# verify answer:\n",
        "A * sym.Matrix([4, -2, 3])"
      ],
      "metadata": {
        "colab": {
          "base_uri": "https://localhost:8080/",
          "height": 78
        },
        "id": "CCQ2ShuB3cfV",
        "outputId": "9f554582-0dac-4960-801c-c231efea673f"
      },
      "execution_count": 11,
      "outputs": [
        {
          "output_type": "execute_result",
          "data": {
            "text/plain": [
              "Matrix([\n",
              "[ 9],\n",
              "[24],\n",
              "[ 4]])"
            ],
            "text/latex": "$\\displaystyle \\left[\\begin{matrix}9\\\\24\\\\4\\end{matrix}\\right]$"
          },
          "metadata": {},
          "execution_count": 11
        }
      ]
    },
    {
      "cell_type": "markdown",
      "source": [
        "## 3.1.2.2 Cramer's Rule"
      ],
      "metadata": {
        "id": "3GFGYT8K314N"
      }
    },
    {
      "cell_type": "markdown",
      "source": [
        "Consider the system:\n",
        "\n",
        "$$\n",
        "\\begin{align}\n",
        "ax + by &= u \\\\\n",
        "cx + by &= v\n",
        "\\end{align}\n",
        "$$\n",
        "\n",
        "Alternately,\n",
        "\n",
        "$$\n",
        "A \\cdot X = C\n",
        "$$\n",
        "\n"
      ],
      "metadata": {
        "id": "-jqpOCGB4ecM"
      }
    },
    {
      "cell_type": "code",
      "source": [
        "a, b, c, d, x, y, u, v = sym.symbols('a b c d x y u v')\n",
        "A = sym.Matrix([[a, b],\n",
        "                [c, d]])\n",
        "A"
      ],
      "metadata": {
        "colab": {
          "base_uri": "https://localhost:8080/",
          "height": 58
        },
        "id": "Fgkq_-5U5JeK",
        "outputId": "8bbf3d5a-88ab-4c59-c671-4f72410d20fe"
      },
      "execution_count": 13,
      "outputs": [
        {
          "output_type": "execute_result",
          "data": {
            "text/plain": [
              "Matrix([\n",
              "[a, b],\n",
              "[c, d]])"
            ],
            "text/latex": "$\\displaystyle \\left[\\begin{matrix}a & b\\\\c & d\\end{matrix}\\right]$"
          },
          "metadata": {},
          "execution_count": 13
        }
      ]
    },
    {
      "cell_type": "code",
      "source": [
        "X = sym.Matrix([x, y])\n",
        "X"
      ],
      "metadata": {
        "colab": {
          "base_uri": "https://localhost:8080/",
          "height": 58
        },
        "id": "4zOCvOve5qFr",
        "outputId": "ffbe67a1-e6e6-4d39-d4b5-323ae22bc42f"
      },
      "execution_count": 14,
      "outputs": [
        {
          "output_type": "execute_result",
          "data": {
            "text/plain": [
              "Matrix([\n",
              "[x],\n",
              "[y]])"
            ],
            "text/latex": "$\\displaystyle \\left[\\begin{matrix}x\\\\y\\end{matrix}\\right]$"
          },
          "metadata": {},
          "execution_count": 14
        }
      ]
    },
    {
      "cell_type": "code",
      "source": [
        "C = sym.Matrix([u, v])\n",
        "C"
      ],
      "metadata": {
        "colab": {
          "base_uri": "https://localhost:8080/",
          "height": 58
        },
        "id": "62Eg0wUv5t_7",
        "outputId": "88c0ba8a-9e67-42f3-960e-92054d9aa272"
      },
      "execution_count": 15,
      "outputs": [
        {
          "output_type": "execute_result",
          "data": {
            "text/plain": [
              "Matrix([\n",
              "[u],\n",
              "[v]])"
            ],
            "text/latex": "$\\displaystyle \\left[\\begin{matrix}u\\\\v\\end{matrix}\\right]$"
          },
          "metadata": {},
          "execution_count": 15
        }
      ]
    },
    {
      "cell_type": "markdown",
      "source": [
        "### Cramer's Rule\n",
        "\n",
        "$$\n",
        "x = \\frac{D_x}{\\det{(A)}}, y = \\frac{D_y}{\\det{(A)}}\n",
        "$$"
      ],
      "metadata": {
        "id": "sQhYIvP37Pb2"
      }
    },
    {
      "cell_type": "code",
      "source": [
        "# - replace the coefficients of `x` with `u` and `v`\n",
        "# - then find the determinant\n",
        "Dx = sym.Matrix([[u, b],\n",
        "                 [v, d]]).det()\n",
        "Dx"
      ],
      "metadata": {
        "colab": {
          "base_uri": "https://localhost:8080/",
          "height": 39
        },
        "id": "ki9KHaig6bh5",
        "outputId": "605e8913-0db4-42da-9b62-e41e2bd38493"
      },
      "execution_count": 22,
      "outputs": [
        {
          "output_type": "execute_result",
          "data": {
            "text/plain": [
              "-b*v + d*u"
            ],
            "text/latex": "$\\displaystyle - b v + d u$"
          },
          "metadata": {},
          "execution_count": 22
        }
      ]
    },
    {
      "cell_type": "code",
      "source": [
        "Dy = sym.Matrix([[a, u],\n",
        "                 [c, v]]).det()\n",
        "Dy"
      ],
      "metadata": {
        "colab": {
          "base_uri": "https://localhost:8080/",
          "height": 39
        },
        "id": "mV2vCsYl6_Km",
        "outputId": "739eb4cb-11cf-426f-a859-c72198f12239"
      },
      "execution_count": 23,
      "outputs": [
        {
          "output_type": "execute_result",
          "data": {
            "text/plain": [
              "a*v - c*u"
            ],
            "text/latex": "$\\displaystyle a v - c u$"
          },
          "metadata": {},
          "execution_count": 23
        }
      ]
    },
    {
      "cell_type": "code",
      "source": [
        "x = Dx / A.det()\n",
        "x"
      ],
      "metadata": {
        "colab": {
          "base_uri": "https://localhost:8080/",
          "height": 53
        },
        "id": "ferwFG8n7L_B",
        "outputId": "21f8d3cb-a1a6-41f0-d50a-e0afc3095c07"
      },
      "execution_count": 24,
      "outputs": [
        {
          "output_type": "execute_result",
          "data": {
            "text/plain": [
              "(-b*v + d*u)/(a*d - b*c)"
            ],
            "text/latex": "$\\displaystyle \\frac{- b v + d u}{a d - b c}$"
          },
          "metadata": {},
          "execution_count": 24
        }
      ]
    },
    {
      "cell_type": "code",
      "source": [
        "y = Dy / A.det()\n",
        "y"
      ],
      "metadata": {
        "colab": {
          "base_uri": "https://localhost:8080/",
          "height": 51
        },
        "id": "TjJDv3bR7qlp",
        "outputId": "48e1e455-e441-4717-d802-3b56c8071e80"
      },
      "execution_count": 25,
      "outputs": [
        {
          "output_type": "execute_result",
          "data": {
            "text/plain": [
              "(a*v - c*u)/(a*d - b*c)"
            ],
            "text/latex": "$\\displaystyle \\frac{a v - c u}{a d - b c}$"
          },
          "metadata": {},
          "execution_count": 25
        }
      ]
    },
    {
      "cell_type": "code",
      "source": [
        "# using inverse method to verify\n",
        "X = A.inv() @ C\n",
        "X"
      ],
      "metadata": {
        "colab": {
          "base_uri": "https://localhost:8080/",
          "height": 60
        },
        "id": "4C5m7I6_7s9d",
        "outputId": "75c98f39-31f1-4f20-aea6-ce9f1e39d2d6"
      },
      "execution_count": 33,
      "outputs": [
        {
          "output_type": "execute_result",
          "data": {
            "text/plain": [
              "Matrix([\n",
              "[-b*v/(a*d - b*c) + d*u/(a*d - b*c)],\n",
              "[ a*v/(a*d - b*c) - c*u/(a*d - b*c)]])"
            ],
            "text/latex": "$\\displaystyle \\left[\\begin{matrix}- \\frac{b v}{a d - b c} + \\frac{d u}{a d - b c}\\\\\\frac{a v}{a d - b c} - \\frac{c u}{a d - b c}\\end{matrix}\\right]$"
          },
          "metadata": {},
          "execution_count": 33
        }
      ]
    },
    {
      "cell_type": "markdown",
      "source": [
        "#### Example"
      ],
      "metadata": {
        "id": "ae9DUu-X8q6A"
      }
    },
    {
      "cell_type": "code",
      "source": [
        "A = sym.Matrix([[1, 2],\n",
        "                [3, 4]])\n",
        "A"
      ],
      "metadata": {
        "colab": {
          "base_uri": "https://localhost:8080/",
          "height": 58
        },
        "id": "g0hVPrdq8paL",
        "outputId": "1daa4d26-cabb-44fc-8378-8c163bd04898"
      },
      "execution_count": 34,
      "outputs": [
        {
          "output_type": "execute_result",
          "data": {
            "text/plain": [
              "Matrix([\n",
              "[1, 2],\n",
              "[3, 4]])"
            ],
            "text/latex": "$\\displaystyle \\left[\\begin{matrix}1 & 2\\\\3 & 4\\end{matrix}\\right]$"
          },
          "metadata": {},
          "execution_count": 34
        }
      ]
    },
    {
      "cell_type": "code",
      "source": [
        "C = sym.Matrix([1, 3])\n",
        "C"
      ],
      "metadata": {
        "colab": {
          "base_uri": "https://localhost:8080/",
          "height": 58
        },
        "id": "Qa3rFgZs8y-6",
        "outputId": "cedda600-9195-4efe-99d1-b61e9be1ca61"
      },
      "execution_count": 36,
      "outputs": [
        {
          "output_type": "execute_result",
          "data": {
            "text/plain": [
              "Matrix([\n",
              "[1],\n",
              "[3]])"
            ],
            "text/latex": "$\\displaystyle \\left[\\begin{matrix}1\\\\3\\end{matrix}\\right]$"
          },
          "metadata": {},
          "execution_count": 36
        }
      ]
    },
    {
      "cell_type": "code",
      "source": [
        "Dx = A.copy()\n",
        "Dx[:,0] = C\n",
        "Dx = Dx.det()\n",
        "x = Dx / A.det()\n",
        "x"
      ],
      "metadata": {
        "colab": {
          "base_uri": "https://localhost:8080/",
          "height": 37
        },
        "id": "e9M0TeDu84_V",
        "outputId": "2bf16820-176f-4425-e36f-dfee0ab3f396"
      },
      "execution_count": 45,
      "outputs": [
        {
          "output_type": "execute_result",
          "data": {
            "text/plain": [
              "1"
            ],
            "text/latex": "$\\displaystyle 1$"
          },
          "metadata": {},
          "execution_count": 45
        }
      ]
    },
    {
      "cell_type": "code",
      "source": [
        "Dy = A.copy()\n",
        "Dy[:, 1] = C\n",
        "Dy = Dy.det()\n",
        "y = Dy / A.det()\n",
        "y"
      ],
      "metadata": {
        "colab": {
          "base_uri": "https://localhost:8080/",
          "height": 37
        },
        "id": "GlLo_qaX9ozP",
        "outputId": "9a13130c-848f-4f66-e692-f06b50b93128"
      },
      "execution_count": 48,
      "outputs": [
        {
          "output_type": "execute_result",
          "data": {
            "text/plain": [
              "0"
            ],
            "text/latex": "$\\displaystyle 0$"
          },
          "metadata": {},
          "execution_count": 48
        }
      ]
    },
    {
      "cell_type": "code",
      "source": [
        "# verify using inverse method\n",
        "A.inv() @ C"
      ],
      "metadata": {
        "colab": {
          "base_uri": "https://localhost:8080/",
          "height": 58
        },
        "id": "MhgtciAC934M",
        "outputId": "e993a71d-e18e-4f2c-c4d8-d55f1a6326f9"
      },
      "execution_count": 50,
      "outputs": [
        {
          "output_type": "execute_result",
          "data": {
            "text/plain": [
              "Matrix([\n",
              "[1],\n",
              "[0]])"
            ],
            "text/latex": "$\\displaystyle \\left[\\begin{matrix}1\\\\0\\end{matrix}\\right]$"
          },
          "metadata": {},
          "execution_count": 50
        }
      ]
    },
    {
      "cell_type": "markdown",
      "source": [
        "### Cramer's Rule with $3 \\times 3$ Matrix\n",
        "\n",
        "Consider the system:\n",
        "\n",
        "$$\n",
        "\\begin{align}\n",
        "x + 2y + 3z &= 9 \\\\\n",
        "4x + 5y + 6z &= 24 \\\\\n",
        "3x + y - 2z &= 4\n",
        "\\end{align}\n",
        "$$"
      ],
      "metadata": {
        "id": "FDxcsyFG-uDd"
      }
    },
    {
      "cell_type": "code",
      "source": [
        "A = sym.Matrix([[1, 2, 3],\n",
        "                [4, 5, 6],\n",
        "                [3, 1, -2]])\n",
        "C = sym.Matrix([9, 24, 4])\n",
        "C"
      ],
      "metadata": {
        "colab": {
          "base_uri": "https://localhost:8080/",
          "height": 78
        },
        "id": "45mZjuyb-3Mv",
        "outputId": "a0a3b1fd-d3b4-4822-c8e0-41e4ab2ae9ae"
      },
      "execution_count": 52,
      "outputs": [
        {
          "output_type": "execute_result",
          "data": {
            "text/plain": [
              "Matrix([\n",
              "[ 9],\n",
              "[24],\n",
              "[ 4]])"
            ],
            "text/latex": "$\\displaystyle \\left[\\begin{matrix}9\\\\24\\\\4\\end{matrix}\\right]$"
          },
          "metadata": {},
          "execution_count": 52
        }
      ]
    },
    {
      "cell_type": "code",
      "source": [
        "D1 = A.copy()\n",
        "D1[:, 0] = C\n",
        "D1 = D1.det()\n",
        "\n",
        "D2 = A.copy()\n",
        "D2[:, 1] = C\n",
        "D2 = D2.det()\n",
        "\n",
        "D3 = A.copy()\n",
        "D3[:, 2] = C\n",
        "D3 = D3.det()"
      ],
      "metadata": {
        "id": "2eHM_ktU_Mvm"
      },
      "execution_count": 55,
      "outputs": []
    },
    {
      "cell_type": "code",
      "source": [
        "detA = A.det()\n",
        "detA"
      ],
      "metadata": {
        "colab": {
          "base_uri": "https://localhost:8080/",
          "height": 37
        },
        "id": "-Bhzgyzc_sbN",
        "outputId": "d8a8fb9a-f8f0-49f3-e3cb-db7f81f7f8d0"
      },
      "execution_count": 56,
      "outputs": [
        {
          "output_type": "execute_result",
          "data": {
            "text/plain": [
              "3"
            ],
            "text/latex": "$\\displaystyle 3$"
          },
          "metadata": {},
          "execution_count": 56
        }
      ]
    },
    {
      "cell_type": "code",
      "source": [
        "x, y, z = D1/detA, D2/detA, D3/detA\n",
        "x, y, z"
      ],
      "metadata": {
        "colab": {
          "base_uri": "https://localhost:8080/"
        },
        "id": "YVp5YeJn_xJV",
        "outputId": "d6786f4d-0762-423a-db6c-f270236a48f2"
      },
      "execution_count": 58,
      "outputs": [
        {
          "output_type": "execute_result",
          "data": {
            "text/plain": [
              "(4, -2, 3)"
            ]
          },
          "metadata": {},
          "execution_count": 58
        }
      ]
    },
    {
      "cell_type": "code",
      "source": [
        "# verify using inverse\n",
        "A.inv() * C"
      ],
      "metadata": {
        "colab": {
          "base_uri": "https://localhost:8080/",
          "height": 78
        },
        "id": "hRkOwLJu_5qe",
        "outputId": "8611720d-ecd2-4100-ce31-9a0ba8f28bdd"
      },
      "execution_count": 61,
      "outputs": [
        {
          "output_type": "execute_result",
          "data": {
            "text/plain": [
              "Matrix([\n",
              "[ 4],\n",
              "[-2],\n",
              "[ 3]])"
            ],
            "text/latex": "$\\displaystyle \\left[\\begin{matrix}4\\\\-2\\\\3\\end{matrix}\\right]$"
          },
          "metadata": {},
          "execution_count": 61
        }
      ]
    },
    {
      "cell_type": "markdown",
      "source": [
        "## 3.1.2.3 Practice Quiz"
      ],
      "metadata": {
        "id": "MoFJW3f5AfaC"
      }
    },
    {
      "cell_type": "code",
      "source": [
        "M = np.array([[2, 1], [1, -1]])\n",
        "M"
      ],
      "metadata": {
        "colab": {
          "base_uri": "https://localhost:8080/"
        },
        "id": "vShptaWSAj5A",
        "outputId": "7819c0e3-426d-4891-bece-844ab8fcd951"
      },
      "execution_count": 63,
      "outputs": [
        {
          "output_type": "execute_result",
          "data": {
            "text/plain": [
              "array([[ 2,  1],\n",
              "       [ 1, -1]])"
            ]
          },
          "metadata": {},
          "execution_count": 63
        }
      ]
    },
    {
      "cell_type": "code",
      "source": [
        "b = np.array([[5], [1]])\n",
        "b"
      ],
      "metadata": {
        "colab": {
          "base_uri": "https://localhost:8080/"
        },
        "id": "MdeF4tEqBHvu",
        "outputId": "9aca4c0a-df5c-47b2-a931-90b8bfd1804f"
      },
      "execution_count": 64,
      "outputs": [
        {
          "output_type": "execute_result",
          "data": {
            "text/plain": [
              "array([[5],\n",
              "       [1]])"
            ]
          },
          "metadata": {},
          "execution_count": 64
        }
      ]
    },
    {
      "cell_type": "markdown",
      "source": [
        "$$\n",
        "M \\cdot X = b\n",
        "$$"
      ],
      "metadata": {
        "id": "etVZD2mABTgD"
      }
    },
    {
      "cell_type": "code",
      "source": [
        "np.linalg.inv(M).dot(b)"
      ],
      "metadata": {
        "colab": {
          "base_uri": "https://localhost:8080/"
        },
        "id": "8BH-p1qyBbDZ",
        "outputId": "8f0b3b02-44e8-48c4-c216-d2c4a6b0dde2"
      },
      "execution_count": 65,
      "outputs": [
        {
          "output_type": "execute_result",
          "data": {
            "text/plain": [
              "array([[2.],\n",
              "       [1.]])"
            ]
          },
          "metadata": {},
          "execution_count": 65
        }
      ]
    },
    {
      "cell_type": "code",
      "source": [
        "M = np.array([[2, 4, 6],\n",
        "              [4, 5, 6],\n",
        "              [1, 2, 3]])\n",
        "b = np.array([[1], [-2], [2]])"
      ],
      "metadata": {
        "id": "KwLUcLdRBn7D"
      },
      "execution_count": 66,
      "outputs": []
    },
    {
      "cell_type": "code",
      "source": [
        "M, b"
      ],
      "metadata": {
        "colab": {
          "base_uri": "https://localhost:8080/"
        },
        "id": "Fh0v3KvgCAzR",
        "outputId": "607ec19c-62bd-4129-8d45-ad132914711d"
      },
      "execution_count": 67,
      "outputs": [
        {
          "output_type": "execute_result",
          "data": {
            "text/plain": [
              "(array([[2, 4, 6],\n",
              "        [4, 5, 6],\n",
              "        [1, 2, 3]]),\n",
              " array([[ 1],\n",
              "        [-2],\n",
              "        [ 2]]))"
            ]
          },
          "metadata": {},
          "execution_count": 67
        }
      ]
    },
    {
      "cell_type": "code",
      "source": [
        "np.linalg.det(M)"
      ],
      "metadata": {
        "colab": {
          "base_uri": "https://localhost:8080/"
        },
        "id": "1q2oK-82CGt-",
        "outputId": "c8aec29b-8c40-4c5c-d4d1-1646452bc491"
      },
      "execution_count": 70,
      "outputs": [
        {
          "output_type": "execute_result",
          "data": {
            "text/plain": [
              "0.0"
            ]
          },
          "metadata": {},
          "execution_count": 70
        }
      ]
    },
    {
      "cell_type": "markdown",
      "source": [
        "## 3.1.2.4 Quiz"
      ],
      "metadata": {
        "id": "waZOU9YzDGOx"
      }
    },
    {
      "cell_type": "code",
      "source": [
        "A = sym.Matrix([[4, 1, -2],\n",
        "                [2, -3, 3],\n",
        "                [-6, -2, 1]])\n",
        "A"
      ],
      "metadata": {
        "colab": {
          "base_uri": "https://localhost:8080/",
          "height": 78
        },
        "id": "176fy8j_DIha",
        "outputId": "78e95503-7125-4275-8ba7-279f70b206f1"
      },
      "execution_count": 78,
      "outputs": [
        {
          "output_type": "execute_result",
          "data": {
            "text/plain": [
              "Matrix([\n",
              "[ 4,  1, -2],\n",
              "[ 2, -3,  3],\n",
              "[-6, -2,  1]])"
            ],
            "text/latex": "$\\displaystyle \\left[\\begin{matrix}4 & 1 & -2\\\\2 & -3 & 3\\\\-6 & -2 & 1\\end{matrix}\\right]$"
          },
          "metadata": {},
          "execution_count": 78
        }
      ]
    },
    {
      "cell_type": "code",
      "source": [
        "A.inv()"
      ],
      "metadata": {
        "colab": {
          "base_uri": "https://localhost:8080/",
          "height": 78
        },
        "id": "YmoCjHF6Dm4Z",
        "outputId": "686073ca-85f3-4b57-8276-15157eadfb2f"
      },
      "execution_count": 79,
      "outputs": [
        {
          "output_type": "execute_result",
          "data": {
            "text/plain": [
              "Matrix([\n",
              "[  1/12, 1/12, -1/12],\n",
              "[  -5/9, -2/9,  -4/9],\n",
              "[-11/18, 1/18, -7/18]])"
            ],
            "text/latex": "$\\displaystyle \\left[\\begin{matrix}\\frac{1}{12} & \\frac{1}{12} & - \\frac{1}{12}\\\\- \\frac{5}{9} & - \\frac{2}{9} & - \\frac{4}{9}\\\\- \\frac{11}{18} & \\frac{1}{18} & - \\frac{7}{18}\\end{matrix}\\right]$"
          },
          "metadata": {},
          "execution_count": 79
        }
      ]
    },
    {
      "cell_type": "code",
      "source": [
        "sym.Rational(1, 36) * sym.Matrix([[3, 3, -3],\n",
        "                                  [-20, -8, -16],\n",
        "                                  [-22, 2, -14]])"
      ],
      "metadata": {
        "colab": {
          "base_uri": "https://localhost:8080/",
          "height": 78
        },
        "id": "GFN66qqNDsQM",
        "outputId": "22d5deee-c1ca-459e-dfa0-e99da6af1773"
      },
      "execution_count": 80,
      "outputs": [
        {
          "output_type": "execute_result",
          "data": {
            "text/plain": [
              "Matrix([\n",
              "[  1/12, 1/12, -1/12],\n",
              "[  -5/9, -2/9,  -4/9],\n",
              "[-11/18, 1/18, -7/18]])"
            ],
            "text/latex": "$\\displaystyle \\left[\\begin{matrix}\\frac{1}{12} & \\frac{1}{12} & - \\frac{1}{12}\\\\- \\frac{5}{9} & - \\frac{2}{9} & - \\frac{4}{9}\\\\- \\frac{11}{18} & \\frac{1}{18} & - \\frac{7}{18}\\end{matrix}\\right]$"
          },
          "metadata": {},
          "execution_count": 80
        }
      ]
    },
    {
      "cell_type": "code",
      "source": [
        "A = sym.Matrix([[4, 1, -2],\n",
        "                [2, -3, 3],\n",
        "                [-6, -2, 1]])\n",
        "A"
      ],
      "metadata": {
        "colab": {
          "base_uri": "https://localhost:8080/",
          "height": 78
        },
        "id": "uIbt7G5ZEBOf",
        "outputId": "6a32dd0e-3fbd-4592-8c19-15d3cde7ec3b"
      },
      "execution_count": 82,
      "outputs": [
        {
          "output_type": "execute_result",
          "data": {
            "text/plain": [
              "Matrix([\n",
              "[ 4,  1, -2],\n",
              "[ 2, -3,  3],\n",
              "[-6, -2,  1]])"
            ],
            "text/latex": "$\\displaystyle \\left[\\begin{matrix}4 & 1 & -2\\\\2 & -3 & 3\\\\-6 & -2 & 1\\end{matrix}\\right]$"
          },
          "metadata": {},
          "execution_count": 82
        }
      ]
    },
    {
      "cell_type": "code",
      "source": [
        "b = sym.Matrix([0, 9, 0])\n",
        "b"
      ],
      "metadata": {
        "colab": {
          "base_uri": "https://localhost:8080/",
          "height": 78
        },
        "id": "bToATvWXEPj9",
        "outputId": "222332b6-e70f-424f-d53d-f1498623513d"
      },
      "execution_count": 83,
      "outputs": [
        {
          "output_type": "execute_result",
          "data": {
            "text/plain": [
              "Matrix([\n",
              "[0],\n",
              "[9],\n",
              "[0]])"
            ],
            "text/latex": "$\\displaystyle \\left[\\begin{matrix}0\\\\9\\\\0\\end{matrix}\\right]$"
          },
          "metadata": {},
          "execution_count": 83
        }
      ]
    },
    {
      "cell_type": "markdown",
      "source": [
        "$$A \\cdot X = B$$"
      ],
      "metadata": {
        "id": "dX4-fG28EVgq"
      }
    },
    {
      "cell_type": "code",
      "source": [
        "X = A.inv() @ b\n",
        "X"
      ],
      "metadata": {
        "colab": {
          "base_uri": "https://localhost:8080/",
          "height": 78
        },
        "id": "iZFgG61nEUxi",
        "outputId": "d363acd4-4864-430e-db2e-c15a7f67517a"
      },
      "execution_count": 85,
      "outputs": [
        {
          "output_type": "execute_result",
          "data": {
            "text/plain": [
              "Matrix([\n",
              "[3/4],\n",
              "[ -2],\n",
              "[1/2]])"
            ],
            "text/latex": "$\\displaystyle \\left[\\begin{matrix}\\frac{3}{4}\\\\-2\\\\\\frac{1}{2}\\end{matrix}\\right]$"
          },
          "metadata": {},
          "execution_count": 85
        }
      ]
    },
    {
      "cell_type": "code",
      "source": [
        "A = sym.Matrix([[2, -1, 0, 0],\n",
        "                [0, 1, 1, 1],\n",
        "                [0, 0, 1, 2]])\n",
        "A"
      ],
      "metadata": {
        "colab": {
          "base_uri": "https://localhost:8080/",
          "height": 78
        },
        "id": "07lDpnVaEmda",
        "outputId": "874db683-2e8e-490f-9064-f1d02e030413"
      },
      "execution_count": 86,
      "outputs": [
        {
          "output_type": "execute_result",
          "data": {
            "text/plain": [
              "Matrix([\n",
              "[2, -1, 0, 0],\n",
              "[0,  1, 1, 1],\n",
              "[0,  0, 1, 2]])"
            ],
            "text/latex": "$\\displaystyle \\left[\\begin{matrix}2 & -1 & 0 & 0\\\\0 & 1 & 1 & 1\\\\0 & 0 & 1 & 2\\end{matrix}\\right]$"
          },
          "metadata": {},
          "execution_count": 86
        }
      ]
    },
    {
      "cell_type": "code",
      "source": [
        "A.rref(pivots=False)"
      ],
      "metadata": {
        "colab": {
          "base_uri": "https://localhost:8080/",
          "height": 78
        },
        "id": "L_uRj5o9EwLv",
        "outputId": "9a4bea9b-c0f9-4cff-eb1b-98ec4ade1bf1"
      },
      "execution_count": 89,
      "outputs": [
        {
          "output_type": "execute_result",
          "data": {
            "text/plain": [
              "Matrix([\n",
              "[1, 0, 0, -1/2],\n",
              "[0, 1, 0,   -1],\n",
              "[0, 0, 1,    2]])"
            ],
            "text/latex": "$\\displaystyle \\left[\\begin{matrix}1 & 0 & 0 & - \\frac{1}{2}\\\\0 & 1 & 0 & -1\\\\0 & 0 & 1 & 2\\end{matrix}\\right]$"
          },
          "metadata": {},
          "execution_count": 89
        }
      ]
    },
    {
      "cell_type": "code",
      "source": [
        "M = sym.Matrix([[4, 2, 5],\n",
        "                [2, 1, 8]])\n",
        "M"
      ],
      "metadata": {
        "colab": {
          "base_uri": "https://localhost:8080/",
          "height": 58
        },
        "id": "fBQmMUvpE5Q9",
        "outputId": "51480168-6cd8-4d86-c815-af0acaa307a8"
      },
      "execution_count": 97,
      "outputs": [
        {
          "output_type": "execute_result",
          "data": {
            "text/plain": [
              "Matrix([\n",
              "[4, 2, 5],\n",
              "[2, 1, 8]])"
            ],
            "text/latex": "$\\displaystyle \\left[\\begin{matrix}4 & 2 & 5\\\\2 & 1 & 8\\end{matrix}\\right]$"
          },
          "metadata": {},
          "execution_count": 97
        }
      ]
    },
    {
      "cell_type": "code",
      "source": [
        "M.rref(pivots=False)"
      ],
      "metadata": {
        "colab": {
          "base_uri": "https://localhost:8080/",
          "height": 58
        },
        "id": "XJ1X_cQTFBB3",
        "outputId": "e796b3a2-c19a-4fff-863d-0daea85cbdb6"
      },
      "execution_count": 99,
      "outputs": [
        {
          "output_type": "execute_result",
          "data": {
            "text/plain": [
              "Matrix([\n",
              "[1, 1/2, 0],\n",
              "[0,   0, 1]])"
            ],
            "text/latex": "$\\displaystyle \\left[\\begin{matrix}1 & \\frac{1}{2} & 0\\\\0 & 0 & 1\\end{matrix}\\right]$"
          },
          "metadata": {},
          "execution_count": 99
        }
      ]
    }
  ]
}