{
  "nbformat": 4,
  "nbformat_minor": 0,
  "metadata": {
    "colab": {
      "provenance": [],
      "toc_visible": true,
      "authorship_tag": "ABX9TyO0rFuz89DHsiLKRM5M0rmy",
      "include_colab_link": true
    },
    "kernelspec": {
      "name": "python3",
      "display_name": "Python 3"
    },
    "language_info": {
      "name": "python"
    }
  },
  "cells": [
    {
      "cell_type": "markdown",
      "metadata": {
        "id": "view-in-github",
        "colab_type": "text"
      },
      "source": [
        "<a href=\"https://colab.research.google.com/github/PaulToronto/Howard-University-Coursera-Linear-Algebra-For-Data-Science-Specialization/blob/main/2_4_2_Find_Eigenvalues_and_Eigenvectors.ipynb\" target=\"_parent\"><img src=\"https://colab.research.google.com/assets/colab-badge.svg\" alt=\"Open In Colab\"/></a>"
      ]
    },
    {
      "cell_type": "markdown",
      "source": [
        "# 2.4.2 Find Eigenvalues and Eigenvectors"
      ],
      "metadata": {
        "id": "5UkjEY1KRq0N"
      }
    },
    {
      "cell_type": "markdown",
      "source": [
        "## Imports"
      ],
      "metadata": {
        "id": "f2TJfRHMRs4O"
      }
    },
    {
      "cell_type": "code",
      "execution_count": 1,
      "metadata": {
        "id": "A9-NCRW0RlEQ"
      },
      "outputs": [],
      "source": [
        "import sympy as sym\n",
        "import numpy as np\n",
        "import matplotlib.pyplot as plt"
      ]
    },
    {
      "cell_type": "markdown",
      "source": [
        "## 2.4.2.1 Eigenvalues\n",
        "\n",
        "This lesson covers:\n",
        "\n",
        "- the definition of **eigenvalue** and **eigenvector**\n",
        "- how to determine eigenvectors geometrically"
      ],
      "metadata": {
        "id": "y_0DSmxVRwQH"
      }
    },
    {
      "cell_type": "markdown",
      "source": [
        "### Eigenvector and Eigenvalue\n",
        "\n",
        "Let $A$ be an $n \\times n$ matrix.\n",
        "\n",
        "- A non-zero vector $\\vec{v}$ is called an **eigenvector** of $A$ if and only if there is a scalar $\\lambda$ such that $A\\vec{v} = \\lambda\\vec{v}$.\n",
        "    - What this says is that the image of $\\vec{v}$ is a scalar multiple of $\\vec{v}$\n",
        "- An **eigenvalue** is a scalar $\\lambda$ such that $A\\vec{v} = \\lambda\\vec{v}$, for some non-zero vector $\\vec{v}$."
      ],
      "metadata": {
        "id": "tqU9hoxPUftf"
      }
    },
    {
      "cell_type": "markdown",
      "source": [
        "### Note\n",
        "\n",
        "- If $A\\vec{v} = \\lambda\\vec{v}$ for some $\\vec{v} \\ne \\vec{0}$, then we say that $\\vec{v}$ is an eigenvector corresponding to $\\lambda$ (or an eigenvector for $\\lambda$_).\n",
        "- The zero scalar can be an eigenvalue, but the zero vector cannot be an eigenvector."
      ],
      "metadata": {
        "id": "5E4Nh9i-ciaU"
      }
    },
    {
      "cell_type": "markdown",
      "source": [
        "### Example\n",
        "\n",
        "Let $A = \\begin{pmatrix}1 & 1\\\\-2 & 4\\end{pmatrix}$, $\\vec{v} = \\begin{pmatrix}1 \\\\ 2\\end{pmatrix}$, and $w = \\begin{pmatrix}2 \\\\ 1\\end{pmatrix}$.\n",
        "\n",
        "If $\\vec{v}$ or $\\vec{w}$ an eigen vector of $A$? If so, find the eigenvalues."
      ],
      "metadata": {
        "id": "4EeEO1SffUgx"
      }
    },
    {
      "cell_type": "code",
      "source": [
        "A = sym.Matrix([[1, 1],\n",
        "                [-2, 4]])\n",
        "A"
      ],
      "metadata": {
        "colab": {
          "base_uri": "https://localhost:8080/",
          "height": 58
        },
        "id": "rwpp2lcWf8Ul",
        "outputId": "ec8cd908-70aa-4560-9c4f-e682f9b532d7"
      },
      "execution_count": 2,
      "outputs": [
        {
          "output_type": "execute_result",
          "data": {
            "text/plain": [
              "Matrix([\n",
              "[ 1, 1],\n",
              "[-2, 4]])"
            ],
            "text/latex": "$\\displaystyle \\left[\\begin{matrix}1 & 1\\\\-2 & 4\\end{matrix}\\right]$"
          },
          "metadata": {},
          "execution_count": 2
        }
      ]
    },
    {
      "cell_type": "code",
      "source": [
        "v = sym.Matrix([1, 2])\n",
        "v"
      ],
      "metadata": {
        "colab": {
          "base_uri": "https://localhost:8080/",
          "height": 58
        },
        "id": "BuskpvVjgBBE",
        "outputId": "7d946105-4b73-4cf8-cb6d-4cbaf13dff92"
      },
      "execution_count": 3,
      "outputs": [
        {
          "output_type": "execute_result",
          "data": {
            "text/plain": [
              "Matrix([\n",
              "[1],\n",
              "[2]])"
            ],
            "text/latex": "$\\displaystyle \\left[\\begin{matrix}1\\\\2\\end{matrix}\\right]$"
          },
          "metadata": {},
          "execution_count": 3
        }
      ]
    },
    {
      "cell_type": "code",
      "source": [
        "w = sym.Matrix([2, 1])\n",
        "w"
      ],
      "metadata": {
        "colab": {
          "base_uri": "https://localhost:8080/",
          "height": 58
        },
        "id": "aD1sYBybgLv5",
        "outputId": "7a782e1f-774b-40f3-b8ae-459e94188730"
      },
      "execution_count": 4,
      "outputs": [
        {
          "output_type": "execute_result",
          "data": {
            "text/plain": [
              "Matrix([\n",
              "[2],\n",
              "[1]])"
            ],
            "text/latex": "$\\displaystyle \\left[\\begin{matrix}2\\\\1\\end{matrix}\\right]$"
          },
          "metadata": {},
          "execution_count": 4
        }
      ]
    },
    {
      "cell_type": "code",
      "source": [
        "A @ v, 3 * v"
      ],
      "metadata": {
        "colab": {
          "base_uri": "https://localhost:8080/"
        },
        "id": "sO6hRrzegVpF",
        "outputId": "2531bc10-ba1b-49bd-9f54-b0dfbb52c55d"
      },
      "execution_count": 5,
      "outputs": [
        {
          "output_type": "execute_result",
          "data": {
            "text/plain": [
              "(Matrix([\n",
              " [3],\n",
              " [6]]),\n",
              " Matrix([\n",
              " [3],\n",
              " [6]]))"
            ]
          },
          "metadata": {},
          "execution_count": 5
        }
      ]
    },
    {
      "cell_type": "code",
      "source": [
        "A @ w"
      ],
      "metadata": {
        "colab": {
          "base_uri": "https://localhost:8080/",
          "height": 58
        },
        "id": "2Xbn8F7_gix6",
        "outputId": "fdfa073e-95b2-4cfa-c33f-09dca2a690ef"
      },
      "execution_count": 6,
      "outputs": [
        {
          "output_type": "execute_result",
          "data": {
            "text/plain": [
              "Matrix([\n",
              "[3],\n",
              "[0]])"
            ],
            "text/latex": "$\\displaystyle \\left[\\begin{matrix}3\\\\0\\end{matrix}\\right]$"
          },
          "metadata": {},
          "execution_count": 6
        }
      ]
    },
    {
      "cell_type": "markdown",
      "source": [
        "$A\\vec{v} = 3\\vec{v}$\n",
        "\n",
        "$\\therefore$ $\\vec{v}$ is an eigenvector of $A$ and the eigenvalue, $\\lambda$ is equal to $3$."
      ],
      "metadata": {
        "id": "NbbP4Nhdgoip"
      }
    },
    {
      "cell_type": "markdown",
      "source": [
        "There is no scalar $\\lambda$ such that $A\\vec{w} = \\lambda\\vec{w}$\n",
        "\n",
        "$\\therefore$ $\\vec{w}$ is not an eigenvectore of $A$."
      ],
      "metadata": {
        "id": "te76sc6thN9H"
      }
    },
    {
      "cell_type": "code",
      "source": [
        "fig, ax = plt.subplots(1, 2, figsize=(10, 5))\n",
        "min = 0\n",
        "max = 7\n",
        "\n",
        "# plot v\n",
        "v = np.array(v, dtype='int')\n",
        "ax[0].quiver(0, 0, v[0], v[1], scale=max-min, color='red',\n",
        "           label='$\\\\vec{v}$')\n",
        "ax[0].scatter(0, 0, color='red', s=10)\n",
        "\n",
        "# plot Av\n",
        "av = A @ v\n",
        "av = np.array(av, dtype='int')\n",
        "ax[0].quiver(0, 0, av[0], av[1], scale=max-min, color='dodgerblue', alpha=0.5,\n",
        "           label='$A\\\\vec{v}$')\n",
        "ax[0].scatter(0, 0, color='dodgerblue', s=10)\n",
        "\n",
        "ax[0].grid()\n",
        "ax[0].set_xticks(np.arange(min, max+1))\n",
        "ax[0].set_yticks(np.arange(min, max+1))\n",
        "ax[0].set_title('$A\\\\vec{v} = 3\\\\vec{v}$')\n",
        "ax[0].legend()\n",
        "\n",
        "# plot w\n",
        "w = np.array(w, dtype='int')\n",
        "ax[1].quiver(0, 0, w[0], w[1], scale=max-min, color='red',\n",
        "           label='$\\\\vec{w}$')\n",
        "ax[1].scatter(0, 0, color='red', s=10)\n",
        "\n",
        "# plot Aw\n",
        "aw = A @ w\n",
        "aw = np.array(aw, dtype='int')\n",
        "ax[1].quiver(0, 0, aw[0], aw[1], scale=max-min, color='dodgerblue', alpha=0.5,\n",
        "           label='$A\\\\vec{w}$')\n",
        "ax[1].scatter(0, 0, color='dodgerblue', s=10)\n",
        "\n",
        "ax[1].grid()\n",
        "ax[1].set_xticks(np.arange(min, max+1))\n",
        "ax[1].set_yticks(np.arange(min, max+1))\n",
        "ax[1].set_title('$\\\\vec{w}$ is not an eigenvector of $A$')\n",
        "ax[1].legend()\n",
        "\n",
        "plt.show()"
      ],
      "metadata": {
        "colab": {
          "base_uri": "https://localhost:8080/",
          "height": 471
        },
        "id": "W8lL6RUQjXqk",
        "outputId": "7319b5dc-260b-4243-86fe-1c0d4e0bb089"
      },
      "execution_count": 7,
      "outputs": [
        {
          "output_type": "display_data",
          "data": {
            "text/plain": [
              "<Figure size 1000x500 with 2 Axes>"
            ],
            "image/png": "[encoded data removed]"
          },
          "metadata": {}
        }
      ]
    },
    {
      "cell_type": "markdown",
      "source": [
        "### Example\n",
        "\n",
        "Consider the rotation transformation with $\\theta = \\frac{\\pi}{2}$.\n",
        "\n",
        "$$\n",
        "\\begin{align}\n",
        "R\\left(\\frac{\\pi}{2}\\right) &= \\begin{pmatrix}\n",
        "\\cos(\\frac{\\pi}{2}) & -sin(\\frac{\\pi}{2}) \\\\\n",
        "\\sin(\\frac{\\pi}{2}) & \\cos(\\frac{\\pi}{2})\n",
        "\\end{pmatrix} \\\\\n",
        "&= \\begin{pmatrix}\n",
        "0 & -1 \\\\\n",
        "1 & 0\n",
        "\\end{pmatrix}\n",
        "\\end{align}\n",
        "$$\n",
        "\n",
        "Clearly, given any non-zero vector, $\\vec{v}$, if its image is a rotation of $\\frac{\\pi}{2}$ they are not on the same line.\n",
        "\n",
        "$\\therefore$ the matrix, $R\\left(\\frac{\\pi}{2}\\right)$ has no eigenvectors."
      ],
      "metadata": {
        "id": "dZyQZPj-tzVX"
      }
    },
    {
      "cell_type": "markdown",
      "source": [
        "### What about the matrix $R\\left(\\pi\\right)$?\n",
        "\n",
        "In this case, all non-zero vectors are eigenvectors of $R\\left(\\pi\\right)$, where the corresponding eignvalue, $\\lambda$ is equal to $1$."
      ],
      "metadata": {
        "id": "ebF1MYi_wZxp"
      }
    },
    {
      "cell_type": "markdown",
      "source": [
        "## 2.4.2.2 Finding Eigenvalues"
      ],
      "metadata": {
        "id": "pp5lComTxJHK"
      }
    }
  ]
}