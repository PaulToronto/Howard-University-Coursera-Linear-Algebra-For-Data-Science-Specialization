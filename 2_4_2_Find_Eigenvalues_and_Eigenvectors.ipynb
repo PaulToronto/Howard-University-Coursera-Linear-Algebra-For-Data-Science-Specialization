{
  "nbformat": 4,
  "nbformat_minor": 0,
  "metadata": {
    "colab": {
      "provenance": [],
      "toc_visible": true,
      "authorship_tag": "ABX9TyMHnjdDZh0dRDwM+kh3YhXs",
      "include_colab_link": true
    },
    "kernelspec": {
      "name": "python3",
      "display_name": "Python 3"
    },
    "language_info": {
      "name": "python"
    }
  },
  "cells": [
    {
      "cell_type": "markdown",
      "metadata": {
        "id": "view-in-github",
        "colab_type": "text"
      },
      "source": [
        "<a href=\"https://colab.research.google.com/github/PaulToronto/Howard-University-Coursera-Linear-Algebra-For-Data-Science-Specialization/blob/main/2_4_2_Find_Eigenvalues_and_Eigenvectors.ipynb\" target=\"_parent\"><img src=\"https://colab.research.google.com/assets/colab-badge.svg\" alt=\"Open In Colab\"/></a>"
      ]
    },
    {
      "cell_type": "markdown",
      "source": [
        "# 2.4.2 Find Eigenvalues and Eigenvectors"
      ],
      "metadata": {
        "id": "5UkjEY1KRq0N"
      }
    },
    {
      "cell_type": "markdown",
      "source": [
        "## Imports"
      ],
      "metadata": {
        "id": "f2TJfRHMRs4O"
      }
    },
    {
      "cell_type": "code",
      "execution_count": 1,
      "metadata": {
        "id": "A9-NCRW0RlEQ"
      },
      "outputs": [],
      "source": [
        "import sympy as sym\n",
        "import numpy as np\n",
        "import matplotlib.pyplot as plt"
      ]
    },
    {
      "cell_type": "markdown",
      "source": [
        "## 2.4.2.1 Eigenvalues\n",
        "\n",
        "This lesson covers:\n",
        "\n",
        "- the definition of **eigenvalue** and **eigenvector**\n",
        "- how to determine eigenvectors geometrically"
      ],
      "metadata": {
        "id": "y_0DSmxVRwQH"
      }
    },
    {
      "cell_type": "markdown",
      "source": [
        "### Eigenvector and Eigenvalue\n",
        "\n",
        "Let $A$ be an $n \\times n$ matrix.\n",
        "\n",
        "- A non-zero vector $\\vec{v}$ is called an **eigenvector** of $A$ if and only if there is a scalar $\\lambda$ such that $A\\vec{v} = \\lambda\\vec{v}$.\n",
        "    - What this says is that the image of $\\vec{v}$ is a scalar multiple of $\\vec{v}$\n",
        "- An **eigenvalue** is a scalar $\\lambda$ such that $A\\vec{v} = \\lambda\\vec{v}$, for some non-zero vector $\\vec{v}$."
      ],
      "metadata": {
        "id": "tqU9hoxPUftf"
      }
    },
    {
      "cell_type": "markdown",
      "source": [
        "### Note\n",
        "\n",
        "- If $A\\vec{v} = \\lambda\\vec{v}$ for some $\\vec{v} \\ne \\vec{0}$, then we say that $\\vec{v}$ is an eigenvector corresponding to $\\lambda$ (or an eigenvector for $\\lambda$).\n",
        "- The zero scalar can be an eigenvalue, but the zero vector cannot be an eigenvector."
      ],
      "metadata": {
        "id": "5E4Nh9i-ciaU"
      }
    },
    {
      "cell_type": "markdown",
      "source": [
        "### Example\n",
        "\n",
        "Let $A = \\begin{pmatrix}1 & 1\\\\-2 & 4\\end{pmatrix}$, $\\vec{v} = \\begin{pmatrix}1 \\\\ 2\\end{pmatrix}$, and $w = \\begin{pmatrix}2 \\\\ 1\\end{pmatrix}$.\n",
        "\n",
        "If $\\vec{v}$ or $\\vec{w}$ an eigen vector of $A$? If so, find the eigenvalues."
      ],
      "metadata": {
        "id": "4EeEO1SffUgx"
      }
    },
    {
      "cell_type": "code",
      "source": [
        "A = sym.Matrix([[1, 1],\n",
        "                [-2, 4]])\n",
        "A"
      ],
      "metadata": {
        "colab": {
          "base_uri": "https://localhost:8080/",
          "height": 58
        },
        "id": "rwpp2lcWf8Ul",
        "outputId": "724dfe47-9642-4f63-9609-88630b77c17f"
      },
      "execution_count": 2,
      "outputs": [
        {
          "output_type": "execute_result",
          "data": {
            "text/plain": [
              "Matrix([\n",
              "[ 1, 1],\n",
              "[-2, 4]])"
            ],
            "text/latex": "$\\displaystyle \\left[\\begin{matrix}1 & 1\\\\-2 & 4\\end{matrix}\\right]$"
          },
          "metadata": {},
          "execution_count": 2
        }
      ]
    },
    {
      "cell_type": "code",
      "source": [
        "v = sym.Matrix([1, 2])\n",
        "v"
      ],
      "metadata": {
        "colab": {
          "base_uri": "https://localhost:8080/",
          "height": 58
        },
        "id": "BuskpvVjgBBE",
        "outputId": "b099c8c1-547b-4b87-c9e5-cf8f2ab2c683"
      },
      "execution_count": 3,
      "outputs": [
        {
          "output_type": "execute_result",
          "data": {
            "text/plain": [
              "Matrix([\n",
              "[1],\n",
              "[2]])"
            ],
            "text/latex": "$\\displaystyle \\left[\\begin{matrix}1\\\\2\\end{matrix}\\right]$"
          },
          "metadata": {},
          "execution_count": 3
        }
      ]
    },
    {
      "cell_type": "code",
      "source": [
        "w = sym.Matrix([2, 1])\n",
        "w"
      ],
      "metadata": {
        "colab": {
          "base_uri": "https://localhost:8080/",
          "height": 58
        },
        "id": "aD1sYBybgLv5",
        "outputId": "629111a4-1971-447b-d70b-082933ae6727"
      },
      "execution_count": 4,
      "outputs": [
        {
          "output_type": "execute_result",
          "data": {
            "text/plain": [
              "Matrix([\n",
              "[2],\n",
              "[1]])"
            ],
            "text/latex": "$\\displaystyle \\left[\\begin{matrix}2\\\\1\\end{matrix}\\right]$"
          },
          "metadata": {},
          "execution_count": 4
        }
      ]
    },
    {
      "cell_type": "code",
      "source": [
        "A @ v, 3 * v"
      ],
      "metadata": {
        "colab": {
          "base_uri": "https://localhost:8080/"
        },
        "id": "sO6hRrzegVpF",
        "outputId": "bf848cef-c505-4ad6-e50f-dc026f22fa15"
      },
      "execution_count": 5,
      "outputs": [
        {
          "output_type": "execute_result",
          "data": {
            "text/plain": [
              "(Matrix([\n",
              " [3],\n",
              " [6]]),\n",
              " Matrix([\n",
              " [3],\n",
              " [6]]))"
            ]
          },
          "metadata": {},
          "execution_count": 5
        }
      ]
    },
    {
      "cell_type": "code",
      "source": [
        "A @ w"
      ],
      "metadata": {
        "colab": {
          "base_uri": "https://localhost:8080/",
          "height": 58
        },
        "id": "2Xbn8F7_gix6",
        "outputId": "b2262f70-64c0-4e39-cdb0-aba77b270b9a"
      },
      "execution_count": 6,
      "outputs": [
        {
          "output_type": "execute_result",
          "data": {
            "text/plain": [
              "Matrix([\n",
              "[3],\n",
              "[0]])"
            ],
            "text/latex": "$\\displaystyle \\left[\\begin{matrix}3\\\\0\\end{matrix}\\right]$"
          },
          "metadata": {},
          "execution_count": 6
        }
      ]
    },
    {
      "cell_type": "markdown",
      "source": [
        "$A\\vec{v} = 3\\vec{v}$\n",
        "\n",
        "$\\therefore$ $\\vec{v}$ is an eigenvector of $A$ and the eigenvalue, $\\lambda$ is equal to $3$."
      ],
      "metadata": {
        "id": "NbbP4Nhdgoip"
      }
    },
    {
      "cell_type": "markdown",
      "source": [
        "There is no scalar $\\lambda$ such that $A\\vec{w} = \\lambda\\vec{w}$\n",
        "\n",
        "$\\therefore$ $\\vec{w}$ is not an eigenvector of $A$."
      ],
      "metadata": {
        "id": "te76sc6thN9H"
      }
    },
    {
      "cell_type": "code",
      "source": [
        "fig, ax = plt.subplots(1, 2, figsize=(10, 5))\n",
        "min = 0\n",
        "max = 7\n",
        "\n",
        "# plot v\n",
        "v = np.array(v, dtype='int')\n",
        "ax[0].quiver(0, 0, v[0], v[1], scale=max-min, color='red',\n",
        "           label='$\\\\vec{v}$')\n",
        "ax[0].scatter(0, 0, color='red', s=10)\n",
        "\n",
        "# plot Av\n",
        "av = A @ v\n",
        "av = np.array(av, dtype='int')\n",
        "ax[0].quiver(0, 0, av[0], av[1], scale=max-min, color='dodgerblue', alpha=0.5,\n",
        "           label='$A\\\\vec{v}$')\n",
        "ax[0].scatter(0, 0, color='dodgerblue', s=10)\n",
        "\n",
        "ax[0].grid()\n",
        "ax[0].set_xticks(np.arange(min, max+1))\n",
        "ax[0].set_yticks(np.arange(min, max+1))\n",
        "ax[0].set_title('$A\\\\vec{v} = 3\\\\vec{v}$')\n",
        "ax[0].legend()\n",
        "\n",
        "# plot w\n",
        "w = np.array(w, dtype='int')\n",
        "ax[1].quiver(0, 0, w[0], w[1], scale=max-min, color='red',\n",
        "           label='$\\\\vec{w}$')\n",
        "ax[1].scatter(0, 0, color='red', s=10)\n",
        "\n",
        "# plot Aw\n",
        "aw = A @ w\n",
        "aw = np.array(aw, dtype='int')\n",
        "ax[1].quiver(0, 0, aw[0], aw[1], scale=max-min, color='dodgerblue', alpha=0.5,\n",
        "           label='$A\\\\vec{w}$')\n",
        "ax[1].scatter(0, 0, color='dodgerblue', s=10)\n",
        "\n",
        "ax[1].grid()\n",
        "ax[1].set_xticks(np.arange(min, max+1))\n",
        "ax[1].set_yticks(np.arange(min, max+1))\n",
        "ax[1].set_title('$\\\\vec{w}$ is not an eigenvector of $A$')\n",
        "ax[1].legend()\n",
        "\n",
        "plt.show()"
      ],
      "metadata": {
        "colab": {
          "base_uri": "https://localhost:8080/",
          "height": 471
        },
        "id": "W8lL6RUQjXqk",
        "outputId": "8ab88f75-4375-493a-c824-910594b2ed3a"
      },
      "execution_count": 7,
      "outputs": [
        {
          "output_type": "display_data",
          "data": {
            "text/plain": [
              "<Figure size 1000x500 with 2 Axes>"
            ],
            "image/png": "[encoded data removed]"
          },
          "metadata": {}
        }
      ]
    },
    {
      "cell_type": "markdown",
      "source": [
        "### Example\n",
        "\n",
        "Consider the rotation transformation with $\\theta = \\frac{\\pi}{2}$.\n",
        "\n",
        "$$\n",
        "\\begin{align}\n",
        "R\\left(\\frac{\\pi}{2}\\right) &= \\begin{pmatrix}\n",
        "\\cos(\\frac{\\pi}{2}) & -sin(\\frac{\\pi}{2}) \\\\\n",
        "\\sin(\\frac{\\pi}{2}) & \\cos(\\frac{\\pi}{2})\n",
        "\\end{pmatrix} \\\\\n",
        "&= \\begin{pmatrix}\n",
        "0 & -1 \\\\\n",
        "1 & 0\n",
        "\\end{pmatrix}\n",
        "\\end{align}\n",
        "$$\n",
        "\n",
        "Clearly, given any non-zero vector, $\\vec{v}$, if its image is a rotation of $\\frac{\\pi}{2}$ they are not on the same line.\n",
        "\n",
        "$\\therefore$ the matrix, $R\\left(\\frac{\\pi}{2}\\right)$ has no eigenvectors."
      ],
      "metadata": {
        "id": "dZyQZPj-tzVX"
      }
    },
    {
      "cell_type": "markdown",
      "source": [
        "### What about the matrix $R\\left(\\pi\\right)$?\n",
        "\n",
        "In this case, all non-zero vectors are eigenvectors of $R\\left(\\pi\\right)$, where the corresponding eignvalue, $\\lambda$ is equal to $-1$."
      ],
      "metadata": {
        "id": "ebF1MYi_wZxp"
      }
    },
    {
      "cell_type": "markdown",
      "source": [
        "## 2.4.2.2 Finding Eigenvalues"
      ],
      "metadata": {
        "id": "pp5lComTxJHK"
      }
    },
    {
      "cell_type": "markdown",
      "source": [
        "### First a short review\n",
        "\n",
        "Solving a system using the inverse:\n",
        "\n",
        "$$\n",
        "A \\cdot X = C\n",
        "$$\n",
        "\n",
        "If $A$ is invertible, then:\n",
        "\n",
        "$$\n",
        "\\begin{align}\n",
        "A^{-1}AX &= A^{-1}C \\\\\n",
        "IX &= A^{-1}C \\\\\n",
        "X &= A^{-1}C\n",
        "\\end{align}\n",
        "$$\n",
        "\n",
        "Suppose C is a zero vector:\n",
        "\n",
        "$$\n",
        "\\begin{align}\n",
        "A \\cdot X &= \\begin{pmatrix}0 \\\\ 0\\end{pmatrix} \\\\\n",
        "X &= A^{-1} \\begin{pmatrix}0 \\\\ 0\\end{pmatrix}\n",
        "\\end{align}\n",
        "$$\n",
        "\n",
        "- Recall that a square matrix is invertible, if and only if it's determinant is not 0\n",
        "- If the determinant is 0, the matrix is not invertible\n",
        "- The equation $AX = \\vec{0}$ can only have a non-trivial solution if\n",
        "$A$ is not invertible, that is $\\det(A) = 0$."
      ],
      "metadata": {
        "id": "Y9epeD-kKcSY"
      }
    },
    {
      "cell_type": "markdown",
      "source": [
        "### Example\n",
        "\n",
        "Let $A = \\begin{pmatrix}1 & 1\\\\4 & 1\\end{pmatrix}$.\n",
        "\n",
        "Suppose we want to find all the eigenvalues of $A$. Here is a simple approach."
      ],
      "metadata": {
        "id": "cfhbuaBfzV4P"
      }
    },
    {
      "cell_type": "markdown",
      "source": [
        "We want to find $\\lambda$ so the the following equation has a non-trivial solution:\n",
        "\n",
        "$$\n",
        "\\begin{pmatrix}1 & 1\\\\4 & 1\\end{pmatrix} \\begin{pmatrix}x \\\\ y\\end{pmatrix} = \\lambda \\begin{pmatrix}x \\\\ y\\end{pmatrix}\n",
        "$$"
      ],
      "metadata": {
        "id": "HiCdUXCC33-l"
      }
    },
    {
      "cell_type": "markdown",
      "source": [
        "Solution:\n",
        "\n",
        "$$\n",
        "\\begin{align}\n",
        "\\begin{pmatrix}1 & 1\\\\4 & 1\\end{pmatrix} \\begin{pmatrix}x \\\\ y\\end{pmatrix} &= \\lambda \\begin{pmatrix}x \\\\ y\\end{pmatrix} \\\\\n",
        "\\begin{pmatrix}1 & 1\\\\4 & 1\\end{pmatrix} \\begin{pmatrix}x \\\\ y\\end{pmatrix} - \\lambda \\begin{pmatrix}x \\\\ y\\end{pmatrix} &= \\begin{pmatrix}0 \\\\ 0\\end{pmatrix} \\\\\n",
        "\\left(\\begin{pmatrix}1 & 1\\\\4 & 1\\end{pmatrix} - \\lambda I \\right)\\begin{pmatrix}x \\\\ y\\end{pmatrix} &= \\begin{pmatrix}0 \\\\ 0\\end{pmatrix}\n",
        "\\end{align}\n",
        "$$\n",
        "\n",
        "For this to have a non-trivial solution, the matrix\n",
        "\n",
        "$$\n",
        "\\left(\\begin{pmatrix}1 & 1\\\\4 & 1\\end{pmatrix} - \\lambda I \\right)\n",
        "$$\n",
        "\n",
        "cannot be invertible, it's determinant must be 0.\n",
        "\n",
        "$$\n",
        "\\begin{align}\n",
        "\\left(\\begin{pmatrix}1 & 1\\\\4 & 1\\end{pmatrix} - \\lambda I \\right)\n",
        "&= \\begin{pmatrix}1 & 1\\\\4 & 1\\end{pmatrix} - \\lambda \\begin{pmatrix}1 & 0\\\\0 & 1\\end{pmatrix} \\\\\n",
        "&= \\begin{pmatrix}1 - \\lambda & 1 \\\\ 4 && 1 - \\lambda\\end{pmatrix}\n",
        "\\end{align}\n",
        "$$\n",
        "\n",
        "Solve for $\\lambda$ when the deterimant is 0.\n",
        "\n",
        "$$\n",
        "\\det{\\begin{pmatrix}1 - \\lambda & 1\\\\4 && 1 - \\lambda\\end{pmatrix}} = 0\n",
        "$$\n",
        "<br/>\n",
        "$$\n",
        "\\begin{align}\n",
        "(1 - \\lambda)(1 - \\lambda) - 4 &= 0 \\\\\n",
        "1 - 2\\lambda + \\lambda^{2} - 4 &= 0 \\\\\n",
        "\\lambda^{2} - 2\\lambda - 3 &= 0 \\\\\n",
        "(\\lambda - 3)(\\lambda + 1) &= 0\n",
        "\\end{align}\n",
        "$$\n",
        "\n",
        "<br>\n",
        "\n",
        "$$\n",
        "\\therefore \\lambda = 3 \\text{ or } \\lambda = -1\n",
        "$$"
      ],
      "metadata": {
        "id": "XIzvxBt7Cedz"
      }
    },
    {
      "cell_type": "markdown",
      "source": [
        "### Characteristic Polynomial\n",
        "\n",
        "Let $A$ be an $n \\times n$ matrix.\n",
        "\n",
        "The **characteristic polynomial** of $A$, sometimes denoted by $p_{A}$, is the polynomial given by:\n",
        "\n",
        "$$\n",
        "p_{A}(\\lambda) = \\det{(A - \\lambda I)}\n",
        "$$\n",
        "\n",
        "where $I$ is the $n \\times n$ identity matrix."
      ],
      "metadata": {
        "id": "1C8cxowRUKxS"
      }
    },
    {
      "cell_type": "markdown",
      "source": [
        "#### Note:\n",
        "\n",
        "- If $A$ is an $n \\times n$ matrix, then $p_{A}(\\lambda) = \\det{(A - \\lambda I)}$ is a polynomial of degree $n$.\n",
        "- The solutions to $\\det{(A - \\lambda I)} = 0$, are the eigenvalues of $A$."
      ],
      "metadata": {
        "id": "O2tVkZDoXHla"
      }
    },
    {
      "cell_type": "markdown",
      "source": [
        "### Example\n",
        "\n",
        "Find the eignevalues of $A = \\begin{pmatrix}3 & 2 & 4\\\\2 & 0 & 2\\\\4 & 2 & 3\\end{pmatrix}$.\n",
        "\n",
        "We first find the characteristic polynomial, $p$.\n",
        "\n",
        "$p(\\lambda) = \\det{\\begin{pmatrix}3 - \\lambda & 2 & 4\\\\2 & -\\lambda & 2\\\\4 & 2 & 3 - \\lambda\\end{pmatrix}}$"
      ],
      "metadata": {
        "id": "3uRD7wUXYqP2"
      }
    },
    {
      "cell_type": "code",
      "source": [
        "l = sym.symbols('\\lambda')\n",
        "l"
      ],
      "metadata": {
        "colab": {
          "base_uri": "https://localhost:8080/",
          "height": 39
        },
        "id": "xCCgtQdGjltC",
        "outputId": "ad313c0a-ed50-437c-bece-bf4ada38b045"
      },
      "execution_count": 8,
      "outputs": [
        {
          "output_type": "execute_result",
          "data": {
            "text/plain": [
              "\\lambda"
            ],
            "text/latex": "$\\displaystyle \\lambda$"
          },
          "metadata": {},
          "execution_count": 8
        }
      ]
    },
    {
      "cell_type": "code",
      "source": [
        "A = sym.Matrix([[3 - l, 2, 4],\n",
        "                [2, -l, 2],\n",
        "                [4, 2, 3 - l]])\n",
        "A"
      ],
      "metadata": {
        "colab": {
          "base_uri": "https://localhost:8080/",
          "height": 78
        },
        "id": "GJfomFMFYo7z",
        "outputId": "4a08874d-8851-4697-ae47-648d547d7abb"
      },
      "execution_count": 9,
      "outputs": [
        {
          "output_type": "execute_result",
          "data": {
            "text/plain": [
              "Matrix([\n",
              "[3 - \\lambda,        2,           4],\n",
              "[          2, -\\lambda,           2],\n",
              "[          4,        2, 3 - \\lambda]])"
            ],
            "text/latex": "$\\displaystyle \\left[\\begin{matrix}3 - \\lambda & 2 & 4\\\\2 & - \\lambda & 2\\\\4 & 2 & 3 - \\lambda\\end{matrix}\\right]$"
          },
          "metadata": {},
          "execution_count": 9
        }
      ]
    },
    {
      "cell_type": "code",
      "source": [
        "A.det()"
      ],
      "metadata": {
        "colab": {
          "base_uri": "https://localhost:8080/",
          "height": 39
        },
        "id": "3cj6rGvsa3Y2",
        "outputId": "e21d4aa3-c921-4558-834d-332569b4e393"
      },
      "execution_count": 10,
      "outputs": [
        {
          "output_type": "execute_result",
          "data": {
            "text/plain": [
              "-\\lambda**3 + 6*\\lambda**2 + 15*\\lambda + 8"
            ],
            "text/latex": "$\\displaystyle - \\lambda^{3} + 6 \\lambda^{2} + 15 \\lambda + 8$"
          },
          "metadata": {},
          "execution_count": 10
        }
      ]
    },
    {
      "cell_type": "code",
      "source": [
        "A.det().factor()"
      ],
      "metadata": {
        "colab": {
          "base_uri": "https://localhost:8080/",
          "height": 39
        },
        "id": "AhqXg9kpj1SW",
        "outputId": "3dc48e6f-eeb4-4480-bf20-25a09c8fc5e2"
      },
      "execution_count": 11,
      "outputs": [
        {
          "output_type": "execute_result",
          "data": {
            "text/plain": [
              "-(\\lambda - 8)*(\\lambda + 1)**2"
            ],
            "text/latex": "$\\displaystyle - \\left(\\lambda - 8\\right) \\left(\\lambda + 1\\right)^{2}$"
          },
          "metadata": {},
          "execution_count": 11
        }
      ]
    },
    {
      "cell_type": "markdown",
      "source": [
        "Set the determinant to 0 and solve for $\\lambda$"
      ],
      "metadata": {
        "id": "lCpwFejLa7E7"
      }
    },
    {
      "cell_type": "code",
      "source": [
        "sym.Eq(A.det().factor(), 0)"
      ],
      "metadata": {
        "colab": {
          "base_uri": "https://localhost:8080/",
          "height": 39
        },
        "id": "HMUV6KRBerHo",
        "outputId": "2fdb7a6e-0579-4e72-a91f-7125f10ffe2a"
      },
      "execution_count": 12,
      "outputs": [
        {
          "output_type": "execute_result",
          "data": {
            "text/plain": [
              "Eq(-(\\lambda - 8)*(\\lambda + 1)**2, 0)"
            ],
            "text/latex": "$\\displaystyle - \\left(\\lambda - 8\\right) \\left(\\lambda + 1\\right)^{2} = 0$"
          },
          "metadata": {},
          "execution_count": 12
        }
      ]
    },
    {
      "cell_type": "code",
      "source": [
        "sym.solve(sym.Eq(A.det(), 0))"
      ],
      "metadata": {
        "colab": {
          "base_uri": "https://localhost:8080/"
        },
        "id": "m5-eFHftes2i",
        "outputId": "7611e53a-b76d-4372-a509-65024a320ffc"
      },
      "execution_count": 13,
      "outputs": [
        {
          "output_type": "execute_result",
          "data": {
            "text/plain": [
              "[-1, 8]"
            ]
          },
          "metadata": {},
          "execution_count": 13
        }
      ]
    },
    {
      "cell_type": "code",
      "source": [
        "sym.solve(A.det())"
      ],
      "metadata": {
        "colab": {
          "base_uri": "https://localhost:8080/"
        },
        "id": "L3YX0ai_biCL",
        "outputId": "fb8dcc35-0ec7-4cd9-e788-8bf25b945350"
      },
      "execution_count": 14,
      "outputs": [
        {
          "output_type": "execute_result",
          "data": {
            "text/plain": [
              "[-1, 8]"
            ]
          },
          "metadata": {},
          "execution_count": 14
        }
      ]
    },
    {
      "cell_type": "markdown",
      "source": [
        "$\\therefore \\lambda = -1$ or $\\lambda = 8$"
      ],
      "metadata": {
        "id": "xQfpyto2b17_"
      }
    },
    {
      "cell_type": "markdown",
      "source": [
        "This can also be done with `sympy`\n",
        "\n",
        "https://docs.sympy.org/latest/tutorials/intro-tutorial/matrices.html"
      ],
      "metadata": {
        "id": "UHitfdj5ggLQ"
      }
    },
    {
      "cell_type": "code",
      "source": [
        "A = sym.Matrix([[3, 2, 4],\n",
        "                [2, 0, 2],\n",
        "                [4, 2, 3]])\n",
        "A"
      ],
      "metadata": {
        "colab": {
          "base_uri": "https://localhost:8080/",
          "height": 78
        },
        "id": "cYmLggzKg5v9",
        "outputId": "ce9eecc9-f9ce-446d-c190-eee07461b8d0"
      },
      "execution_count": 15,
      "outputs": [
        {
          "output_type": "execute_result",
          "data": {
            "text/plain": [
              "Matrix([\n",
              "[3, 2, 4],\n",
              "[2, 0, 2],\n",
              "[4, 2, 3]])"
            ],
            "text/latex": "$\\displaystyle \\left[\\begin{matrix}3 & 2 & 4\\\\2 & 0 & 2\\\\4 & 2 & 3\\end{matrix}\\right]$"
          },
          "metadata": {},
          "execution_count": 15
        }
      ]
    },
    {
      "cell_type": "code",
      "source": [
        "A.eigenvals()"
      ],
      "metadata": {
        "colab": {
          "base_uri": "https://localhost:8080/"
        },
        "id": "mzPSg_jQhFaD",
        "outputId": "c095000b-5ddf-4a7c-85a0-8851715d5fb8"
      },
      "execution_count": 16,
      "outputs": [
        {
          "output_type": "execute_result",
          "data": {
            "text/plain": [
              "{8: 1, -1: 2}"
            ]
          },
          "metadata": {},
          "execution_count": 16
        }
      ]
    },
    {
      "cell_type": "markdown",
      "source": [
        "`eigenvals()` returns a dictionary of `eigenvalue: algebraic_multiplicity` pairs"
      ],
      "metadata": {
        "id": "4Nli2S8Mi360"
      }
    },
    {
      "cell_type": "markdown",
      "source": [
        "## 2.4.2.3 Eigenspace\n",
        "\n",
        "This lesson covers:\n",
        "\n",
        "- What an eigenspace is\n",
        "- Given any eigenvalue $\\lambda$, how to find the eigenspace of a matrix that corresponds to $\\lambda$."
      ],
      "metadata": {
        "id": "KKXYhU4tflOy"
      }
    },
    {
      "cell_type": "markdown",
      "source": [
        "### Eigenspace\n",
        "\n",
        "Let $A$ be an $n \\times n$ matrix and $\\lambda$ an eigenvalue of $A$.\n",
        "\n",
        "The set of all vectors $\\vec{v}$ such that $A\\vec{v} = \\lambda\\vec{v}$ is called an **eigenspace** and is denoted by $E_{\\lambda}$."
      ],
      "metadata": {
        "id": "S0b0psor7rMV"
      }
    },
    {
      "cell_type": "markdown",
      "source": [
        "#### Note\n",
        "\n",
        "$E_{\\lambda}$ contains all the eigenvectors of $A$ that correspond to $\\lambda$ and the zero vector."
      ],
      "metadata": {
        "id": "TqSEwc0E8lwc"
      }
    },
    {
      "cell_type": "markdown",
      "source": [
        "#### Discussion\n",
        "\n",
        "Let $A$ be an $n \\times n$ matrix and let $\\lambda$ be an eigenvalue of $A$.\n",
        "\n",
        "We want to find all vectors $\\vec{v}$ such that\n",
        "\n",
        "$$\n",
        "A\\vec{v} = \\lambda\\vec{v}\n",
        "$$\n",
        "\n",
        "Thus,\n",
        "\n",
        "$$\n",
        "\\begin{align}\n",
        "A\\vec{v} &= \\lambda\\vec{v} \\\\\n",
        "A\\vec{v} - \\lambda\\vec{v} &= \\vec{0} \\\\\n",
        "(A - \\lambda I_n)\\vec{v} &= \\vec{0}\n",
        "\\end{align}\n",
        "$$"
      ],
      "metadata": {
        "id": "8aa1qcar9GHV"
      }
    },
    {
      "cell_type": "markdown",
      "source": [
        "#### Example\n",
        "\n",
        "Find the eigenspace of $A = \\begin{pmatrix}1 & 1\\\\4 & 1\\end{pmatrix}$ for the eigenvalue $3$.\n",
        "\n",
        "##### Solution:\n",
        "\n",
        "We must solve the following for $\\begin{pmatrix}x\\\\y\\end{pmatrix}$.\n",
        "\n",
        "$$\n",
        "\\begin{align}\n",
        "\\left(\\begin{pmatrix}1 & 1\\\\4 & 1\\end{pmatrix} - 3I_{2}\\right)\\begin{pmatrix}x \\\\y\\end{pmatrix} &= \\begin{pmatrix}0\\\\0\\end{pmatrix} \\\\\n",
        "\\begin{pmatrix}-2 & 1\\\\4 & -2\\end{pmatrix}\\begin{pmatrix}x\\\\y\\end{pmatrix} &= \\begin{pmatrix}0\\\\0\\end{pmatrix} \\\\\n",
        "\\begin{pmatrix}-2x + y\\\\4x - 2y\\end{pmatrix} &= \\begin{pmatrix}0\\\\0\\end{pmatrix}\n",
        "\\end{align}\n",
        "$$\n",
        "\n",
        "We now have a sytem of linear equations which can be written as an augmented matrix:"
      ],
      "metadata": {
        "id": "NeNa6itl-6dJ"
      }
    },
    {
      "cell_type": "code",
      "source": [
        "M = sym.Matrix([[-2, 1, 0],\n",
        "                [4, -2, 0]])\n",
        "\n",
        "M"
      ],
      "metadata": {
        "colab": {
          "base_uri": "https://localhost:8080/",
          "height": 58
        },
        "id": "22jsJvMQChSY",
        "outputId": "7676fd58-01ed-4bec-c571-ee87931d7bf0"
      },
      "execution_count": 17,
      "outputs": [
        {
          "output_type": "execute_result",
          "data": {
            "text/plain": [
              "Matrix([\n",
              "[-2,  1, 0],\n",
              "[ 4, -2, 0]])"
            ],
            "text/latex": "$\\displaystyle \\left[\\begin{matrix}-2 & 1 & 0\\\\4 & -2 & 0\\end{matrix}\\right]$"
          },
          "metadata": {},
          "execution_count": 17
        }
      ]
    },
    {
      "cell_type": "markdown",
      "source": [
        "$R_2 \\leftarrow R_2 + 2R_1$"
      ],
      "metadata": {
        "id": "F_ZctvjBDV8m"
      }
    },
    {
      "cell_type": "code",
      "source": [
        "M[1,:] = M.row(1) + 2 * M.row(0)\n",
        "M"
      ],
      "metadata": {
        "colab": {
          "base_uri": "https://localhost:8080/",
          "height": 58
        },
        "id": "x5pA0K08DVU_",
        "outputId": "89dfe8c8-afdf-40ef-b598-51233c2d9e85"
      },
      "execution_count": 18,
      "outputs": [
        {
          "output_type": "execute_result",
          "data": {
            "text/plain": [
              "Matrix([\n",
              "[-2, 1, 0],\n",
              "[ 0, 0, 0]])"
            ],
            "text/latex": "$\\displaystyle \\left[\\begin{matrix}-2 & 1 & 0\\\\0 & 0 & 0\\end{matrix}\\right]$"
          },
          "metadata": {},
          "execution_count": 18
        }
      ]
    },
    {
      "cell_type": "markdown",
      "source": [
        "$R_1 \\leftarrow = -\\frac{1}{2}R_1$"
      ],
      "metadata": {
        "id": "nzukeTgwPXBY"
      }
    },
    {
      "cell_type": "code",
      "source": [
        "M[0,:] = - sym.Rational(1, 2) * M.row(0)\n",
        "M"
      ],
      "metadata": {
        "colab": {
          "base_uri": "https://localhost:8080/",
          "height": 58
        },
        "id": "hzwNOFuNPVbH",
        "outputId": "bbf2a840-6071-45a6-a02b-35c8e2b697a6"
      },
      "execution_count": 19,
      "outputs": [
        {
          "output_type": "execute_result",
          "data": {
            "text/plain": [
              "Matrix([\n",
              "[1, -1/2, 0],\n",
              "[0,    0, 0]])"
            ],
            "text/latex": "$\\displaystyle \\left[\\begin{matrix}1 & - \\frac{1}{2} & 0\\\\0 & 0 & 0\\end{matrix}\\right]$"
          },
          "metadata": {},
          "execution_count": 19
        }
      ]
    },
    {
      "cell_type": "code",
      "source": [
        "# alternately\n",
        "M = sym.Matrix([[-2, 1, 0],\n",
        "                [4, -2, 0]])\n",
        "\n",
        "M.rref(pivots=False)"
      ],
      "metadata": {
        "colab": {
          "base_uri": "https://localhost:8080/",
          "height": 58
        },
        "id": "RR22p8fpQLNw",
        "outputId": "df0fc93a-aa20-4624-9d5e-43785340dfb1"
      },
      "execution_count": 20,
      "outputs": [
        {
          "output_type": "execute_result",
          "data": {
            "text/plain": [
              "Matrix([\n",
              "[1, -1/2, 0],\n",
              "[0,    0, 0]])"
            ],
            "text/latex": "$\\displaystyle \\left[\\begin{matrix}1 & - \\frac{1}{2} & 0\\\\0 & 0 & 0\\end{matrix}\\right]$"
          },
          "metadata": {},
          "execution_count": 20
        }
      ]
    },
    {
      "cell_type": "markdown",
      "source": [
        "From that we can see that $y = 2x$\n",
        "\n",
        "Hence, and eigenvector that corrresponds to the eigenvalue $3$ is of the form\n",
        "\n",
        "$$\n",
        "\\begin{pmatrix}t \\\\ 2t\\end{pmatrix} = t\\begin{pmatrix}1\\\\2\\end{pmatrix}\n",
        "$$\n",
        "\n",
        "where $x \\in \\mathbb{R} - \\{0\\}$.\n",
        "\n",
        "Thus, the **eigenspace** that corresponds to 3 is\n",
        "\n",
        "$$\n",
        "E_{3} = \\left\\{t\\begin{pmatrix}1\\\\2\\end{pmatrix} : t \\in \\mathbb{R}\\right\\}\n",
        "$$\n",
        "\n",
        "- Note, that the graph of the eigenspace in this example is a line that passes through the origin.\n",
        "- The eigenspace is simply all eigenvectors that correspond to a given eigenvalue plus the zero vector\n",
        "- The zero vector is in the eigenspace, but it is not an eigenvector"
      ],
      "metadata": {
        "id": "C7DQcrcKQhDZ"
      }
    },
    {
      "cell_type": "markdown",
      "source": [
        "#### Using `sympy`"
      ],
      "metadata": {
        "id": "85ZPYeHsUPJU"
      }
    },
    {
      "cell_type": "code",
      "source": [
        "A = sym.Matrix([[1, 1],\n",
        "                [4, 1]])\n",
        "A"
      ],
      "metadata": {
        "colab": {
          "base_uri": "https://localhost:8080/",
          "height": 58
        },
        "id": "WcWmVrZBQk1x",
        "outputId": "f9a54c1f-c125-4edc-e4a0-0918fa4078c4"
      },
      "execution_count": 21,
      "outputs": [
        {
          "output_type": "execute_result",
          "data": {
            "text/plain": [
              "Matrix([\n",
              "[1, 1],\n",
              "[4, 1]])"
            ],
            "text/latex": "$\\displaystyle \\left[\\begin{matrix}1 & 1\\\\4 & 1\\end{matrix}\\right]$"
          },
          "metadata": {},
          "execution_count": 21
        }
      ]
    },
    {
      "cell_type": "code",
      "source": [
        "A.eigenvals()"
      ],
      "metadata": {
        "colab": {
          "base_uri": "https://localhost:8080/"
        },
        "id": "4Kp2neDvUUnI",
        "outputId": "7312e67d-9b75-46d0-e805-bd958c0de608"
      },
      "execution_count": 22,
      "outputs": [
        {
          "output_type": "execute_result",
          "data": {
            "text/plain": [
              "{3: 1, -1: 1}"
            ]
          },
          "metadata": {},
          "execution_count": 22
        }
      ]
    },
    {
      "cell_type": "code",
      "source": [
        "A.eigenvects()"
      ],
      "metadata": {
        "colab": {
          "base_uri": "https://localhost:8080/"
        },
        "id": "hCmaQx6xUj4z",
        "outputId": "b36df316-c295-4800-b570-ea2f544a388c"
      },
      "execution_count": 23,
      "outputs": [
        {
          "output_type": "execute_result",
          "data": {
            "text/plain": [
              "[(-1,\n",
              "  1,\n",
              "  [Matrix([\n",
              "   [-1/2],\n",
              "   [   1]])]),\n",
              " (3,\n",
              "  1,\n",
              "  [Matrix([\n",
              "   [1/2],\n",
              "   [  1]])])]"
            ]
          },
          "metadata": {},
          "execution_count": 23
        }
      ]
    },
    {
      "cell_type": "markdown",
      "source": [
        "- `eigenvects` returns a list of tuples of the form: `(eigenvalue, algebraic_multiplicity, [eigenvectors])`"
      ],
      "metadata": {
        "id": "W-CWwoskVMc9"
      }
    },
    {
      "cell_type": "code",
      "source": [
        "len(A.eigenvects())"
      ],
      "metadata": {
        "colab": {
          "base_uri": "https://localhost:8080/"
        },
        "id": "VpEfQy-NVETh",
        "outputId": "7f5c96e5-50aa-4168-a83f-96cd38ffd7ea"
      },
      "execution_count": 24,
      "outputs": [
        {
          "output_type": "execute_result",
          "data": {
            "text/plain": [
              "2"
            ]
          },
          "metadata": {},
          "execution_count": 24
        }
      ]
    },
    {
      "cell_type": "code",
      "source": [
        "# the eigenvector corresponding to eigenvalue 3\n",
        "A.eigenvects()[1][2][0]"
      ],
      "metadata": {
        "colab": {
          "base_uri": "https://localhost:8080/",
          "height": 58
        },
        "id": "4I5rPYswVk61",
        "outputId": "2f3eabce-4f47-4c2e-c22e-d3ce383d8626"
      },
      "execution_count": 25,
      "outputs": [
        {
          "output_type": "execute_result",
          "data": {
            "text/plain": [
              "Matrix([\n",
              "[1/2],\n",
              "[  1]])"
            ],
            "text/latex": "$\\displaystyle \\left[\\begin{matrix}\\frac{1}{2}\\\\1\\end{matrix}\\right]$"
          },
          "metadata": {},
          "execution_count": 25
        }
      ]
    },
    {
      "cell_type": "markdown",
      "source": [
        "## 2.4.2.4 Diagonalizable Matrices\n",
        "\n",
        "This lesson covers:\n",
        "\n",
        "- What is a diagonalizable matrix?\n",
        "- What does it mean for a matrix to be diagonalizable?"
      ],
      "metadata": {
        "id": "g_0vKRMMg34F"
      }
    },
    {
      "cell_type": "markdown",
      "source": [
        "### Definition: Diagonal Matrix\n",
        "\n",
        "Let $A$ be an $n \\times n$ matrix. Then $A$ is a **diagonal matrix** if and only if the only nonzero entries are on the main diagonal.\n",
        "\n",
        "#### Note:\n",
        "\n",
        "This definition does not specify that there can't be $0$s on the main diagonal, only that there are no nonzeros that are not on the main diagonal."
      ],
      "metadata": {
        "id": "eZjWJ57Wh1ML"
      }
    },
    {
      "cell_type": "markdown",
      "source": [
        "### Discussion\n",
        "\n",
        "- The determinnt of a diagonal matrix is the product of the entries on the main diagonal\n",
        "- If all the entries on the main diagonal are equal, then the matrix is called a **scalar matrix**"
      ],
      "metadata": {
        "id": "60MAfiKEjW32"
      }
    },
    {
      "cell_type": "code",
      "source": [
        "a, b, c, x, y, z = sym.symbols('a b c x y z')\n",
        "\n",
        "A = sym.Matrix([[a, 0, 0],\n",
        "                [0, b, 0],\n",
        "                [0, 0, c]])\n",
        "\n",
        "# The determinnt of a diagonal matrix is the\n",
        "# product of the entries on the main diagonal\n",
        "A.det()"
      ],
      "metadata": {
        "colab": {
          "base_uri": "https://localhost:8080/",
          "height": 39
        },
        "id": "q3NOVIkRj8z_",
        "outputId": "e4b8c809-f0af-45f7-851d-d576d50a589e"
      },
      "execution_count": 26,
      "outputs": [
        {
          "output_type": "execute_result",
          "data": {
            "text/plain": [
              "a*b*c"
            ],
            "text/latex": "$\\displaystyle a b c$"
          },
          "metadata": {},
          "execution_count": 26
        }
      ]
    },
    {
      "cell_type": "code",
      "source": [
        "B = sym.Matrix([[a, 0, 0],\n",
        "                [0, a, 0],\n",
        "                [0, 0, a]])\n",
        "X = sym.Matrix([x, y, z])\n",
        "\n",
        "B @ X # B is a scalar matrix"
      ],
      "metadata": {
        "colab": {
          "base_uri": "https://localhost:8080/",
          "height": 78
        },
        "id": "B1fXM6IikP_R",
        "outputId": "1df6e5df-aec7-4bfb-cc6a-f8f65a4a5eac"
      },
      "execution_count": 27,
      "outputs": [
        {
          "output_type": "execute_result",
          "data": {
            "text/plain": [
              "Matrix([\n",
              "[a*x],\n",
              "[a*y],\n",
              "[a*z]])"
            ],
            "text/latex": "$\\displaystyle \\left[\\begin{matrix}a x\\\\a y\\\\a z\\end{matrix}\\right]$"
          },
          "metadata": {},
          "execution_count": 27
        }
      ]
    },
    {
      "cell_type": "markdown",
      "source": [
        "### Powers of Diagonal Matrics\n",
        "\n",
        "Let $D = \\begin{pmatrix}a & 0 & 0\\\\0 & b & 0\\\\0 & 0 & c\\end{pmatrix}$ and let $n$ be any positive integer.\n",
        "\n",
        "Then\n",
        "\n",
        "$$\n",
        "D^{n} = \\begin{pmatrix}a^n & 0 & 0\\\\0 & b^n & 0\\\\0 & 0 & c^n\\end{pmatrix}\n",
        "$$."
      ],
      "metadata": {
        "id": "BkD27vhJlTBX"
      }
    },
    {
      "cell_type": "code",
      "source": [
        "a, b, c  = sym.symbols('a b c')\n",
        "\n",
        "D = sym.Matrix([[a, 0, 0],\n",
        "                [0, b, 0],\n",
        "                [0, 0, c]])\n",
        "D"
      ],
      "metadata": {
        "colab": {
          "base_uri": "https://localhost:8080/",
          "height": 78
        },
        "id": "z8vH5Wh1lQbp",
        "outputId": "cc167231-514d-409f-b312-dc0bb58d0dc3"
      },
      "execution_count": 28,
      "outputs": [
        {
          "output_type": "execute_result",
          "data": {
            "text/plain": [
              "Matrix([\n",
              "[a, 0, 0],\n",
              "[0, b, 0],\n",
              "[0, 0, c]])"
            ],
            "text/latex": "$\\displaystyle \\left[\\begin{matrix}a & 0 & 0\\\\0 & b & 0\\\\0 & 0 & c\\end{matrix}\\right]$"
          },
          "metadata": {},
          "execution_count": 28
        }
      ]
    },
    {
      "cell_type": "code",
      "source": [
        "D @ D @ D"
      ],
      "metadata": {
        "colab": {
          "base_uri": "https://localhost:8080/",
          "height": 78
        },
        "id": "ivkuE0iWoUap",
        "outputId": "0b67e9a5-6db6-4f4b-c6df-db0a36d81b47"
      },
      "execution_count": 29,
      "outputs": [
        {
          "output_type": "execute_result",
          "data": {
            "text/plain": [
              "Matrix([\n",
              "[a**3,    0,    0],\n",
              "[   0, b**3,    0],\n",
              "[   0,    0, c**3]])"
            ],
            "text/latex": "$\\displaystyle \\left[\\begin{matrix}a^{3} & 0 & 0\\\\0 & b^{3} & 0\\\\0 & 0 & c^{3}\\end{matrix}\\right]$"
          },
          "metadata": {},
          "execution_count": 29
        }
      ]
    },
    {
      "cell_type": "code",
      "source": [
        "D**3"
      ],
      "metadata": {
        "colab": {
          "base_uri": "https://localhost:8080/",
          "height": 78
        },
        "id": "DMQ1zC6QoYRo",
        "outputId": "e33a976d-f5e1-4a2b-d638-9a4823ccb61b"
      },
      "execution_count": 30,
      "outputs": [
        {
          "output_type": "execute_result",
          "data": {
            "text/plain": [
              "Matrix([\n",
              "[a**3,    0,    0],\n",
              "[   0, b**3,    0],\n",
              "[   0,    0, c**3]])"
            ],
            "text/latex": "$\\displaystyle \\left[\\begin{matrix}a^{3} & 0 & 0\\\\0 & b^{3} & 0\\\\0 & 0 & c^{3}\\end{matrix}\\right]$"
          },
          "metadata": {},
          "execution_count": 30
        }
      ]
    },
    {
      "cell_type": "code",
      "source": [
        "n = sym.symbols('n')\n",
        "\n",
        "D**n"
      ],
      "metadata": {
        "colab": {
          "base_uri": "https://localhost:8080/",
          "height": 78
        },
        "id": "aDC-BuqHo4FR",
        "outputId": "a3b00c3f-753c-4dc7-e79e-bb5ac7191a09"
      },
      "execution_count": 31,
      "outputs": [
        {
          "output_type": "execute_result",
          "data": {
            "text/plain": [
              "Matrix([\n",
              "[a**n,    0,    0],\n",
              "[   0, b**n,    0],\n",
              "[   0,    0, c**n]])"
            ],
            "text/latex": "$\\displaystyle \\left[\\begin{matrix}a^{n} & 0 & 0\\\\0 & b^{n} & 0\\\\0 & 0 & c^{n}\\end{matrix}\\right]$"
          },
          "metadata": {},
          "execution_count": 31
        }
      ]
    },
    {
      "cell_type": "code",
      "source": [
        "a, b, c, d = sym.symbols('a b c d')\n",
        "\n",
        "D1 = sym.Matrix([[a, b],\n",
        "                 [c, d]])\n",
        "\n",
        "# just to show that raising a sympy matrix\n",
        "# to a power is not an element-wise operation\n",
        "D1**3"
      ],
      "metadata": {
        "colab": {
          "base_uri": "https://localhost:8080/",
          "height": 58
        },
        "id": "_j4idhZkrVY-",
        "outputId": "760e7533-3d6f-400b-d93d-1251e36a2b77"
      },
      "execution_count": 32,
      "outputs": [
        {
          "output_type": "execute_result",
          "data": {
            "text/plain": [
              "Matrix([\n",
              "[          a**3 + 2*a*b*c + b*c*d, a**2*b + a*b*d + b**2*c + b*d**2],\n",
              "[a**2*c + a*c*d + b*c**2 + c*d**2,           a*b*c + 2*b*c*d + d**3]])"
            ],
            "text/latex": "$\\displaystyle \\left[\\begin{matrix}a^{3} + 2 a b c + b c d & a^{2} b + a b d + b^{2} c + b d^{2}\\\\a^{2} c + a c d + b c^{2} + c d^{2} & a b c + 2 b c d + d^{3}\\end{matrix}\\right]$"
          },
          "metadata": {},
          "execution_count": 32
        }
      ]
    },
    {
      "cell_type": "markdown",
      "source": [
        "### Definition: Diagonalizable\n",
        "\n",
        "Let $A$ be an $n \\times n$ matrix. Then a is **diagonalizable** if an only if there exists an invertible $n \\times n$ matrix $C$ and a diagonal matrix $D$, such that\n",
        "\n",
        "$$\n",
        "A = CDC^{-1}\n",
        "$$"
      ],
      "metadata": {
        "id": "KOd9gwryrsOX"
      }
    },
    {
      "cell_type": "markdown",
      "source": [
        "#### All diagonal matrices are diagonalizable\n",
        "\n",
        "$$\n",
        "C = I\n",
        "$$\n",
        "\n",
        "If $D$ is a diagonal matrix, then $D = IDI^{-1}$, where $I$ is the identity matrix that is the same size as $D$."
      ],
      "metadata": {
        "id": "gaOfXIEgzoGb"
      }
    },
    {
      "cell_type": "markdown",
      "source": [
        "### When is a matrix diagonalizable?\n"
      ],
      "metadata": {
        "id": "z8MhTehe0PNY"
      }
    },
    {
      "cell_type": "markdown",
      "source": [
        "#### Linear Independence\n",
        "\n",
        "A set of vectors $\\{\\vec{v_1}, \\vec{v_2}, \\dots, \\vec{v_k}\\}$ is said to be **linearly independent** in $\\mathbb{R}^{n}$ if and only if no vector in the set can be written as a linear combination of the remaining vectors."
      ],
      "metadata": {
        "id": "77For93M0f8P"
      }
    },
    {
      "cell_type": "markdown",
      "source": [
        "The following sets are linearly independent.\n",
        "\n",
        "1. $\\left\\{\n",
        "    \\begin{pmatrix}1\\\\0\\\\0\\end{pmatrix},\n",
        "    \\begin{pmatrix}0\\\\1\\\\0\\end{pmatrix},\n",
        "    \\begin{pmatrix}0\\\\0\\\\1\\end{pmatrix}\n",
        "\\right\\}$ in $\\mathbb{R}^{3}$\n",
        "<br/><br/>\n",
        "2. $\\left\\{\n",
        "    \\begin{pmatrix}1\\\\0\\end{pmatrix},\n",
        "    \\begin{pmatrix}1\\\\1\\end{pmatrix}\n",
        "\\right\\}$ in $\\mathbb{R}^{2}$"
      ],
      "metadata": {
        "id": "wwJOr7py1tcp"
      }
    },
    {
      "cell_type": "markdown",
      "source": [
        "#### Diagonalization Theorem\n",
        "\n",
        "An $n \\times n$ matrix $A$ is diagonalizable if and only if $A$ has $n$ linearly independent eigenvectors."
      ],
      "metadata": {
        "id": "7MYGqUfS3eoX"
      }
    },
    {
      "cell_type": "markdown",
      "source": [
        "#### Let $A$ be an $n \\times n$ matrix\n",
        "\n",
        "1. If $A$ has $n$ distinct eigenvalues, then $A$ is diagonalizable.\n",
        "2. If $E_{\\lambda}$ and $E_{\\lambda}$ are two distinct eigenspaces, $\\vec{v} \\in E_{\\lambda} - \\{\\vec{0}\\}$ and $\\vec{u} \\in E_{\\mu} - \\{\\vec{0}\\}$, then $\\{\\vec{v}, \\vec{u}\\}$ is linearly independent."
      ],
      "metadata": {
        "id": "aNEmlKmG7Sli"
      }
    },
    {
      "cell_type": "markdown",
      "source": [
        "#### Structure of $D$ and $C$\n",
        "\n",
        "Let $A$ be a $3 \\times 3$ matrix. Let $\\vec{v_1}$, $\\vec{v_2}$ and $\\vec{v_3}$ be eigenvectors with corresponding eigenvalues $\\lambda_{1}$, $\\lambda_{2}$ and $\\lambda_{3}$ respectively.\n",
        "\n",
        "If $\\{\\vec{v_1}, \\vec{v_2}, \\vec{v_3}\\}$ is linearly independent, then we can write $C$ and $D$ as follows:\n",
        "\n",
        "$$\n",
        "C = \\begin{pmatrix}\\vec{v_1} & \\vec{v_2} & \\vec{v_3}\\end{pmatrix}\n",
        "$$\n",
        "\n",
        "$$\n",
        "D = \\begin{pmatrix}\n",
        "\\lambda_1 & 0 & 0 \\\\\n",
        "0 & \\lambda_2 & 0 \\\\\n",
        "0 & 0 & \\lambda_3\n",
        "\\end{pmatrix}\n",
        "$$\n",
        "\n",
        "The eigenvectors are the columns of $C$ and their order can be switched as long as the order of the eigenvalues are switched accordingly in $D$."
      ],
      "metadata": {
        "id": "f_Lp7kLl9KHF"
      }
    },
    {
      "cell_type": "markdown",
      "source": [
        "#### Conclusion:\n",
        "\n",
        "Suppose we have $A = CDC^{-1}$, where $D$ is a diagonal matrix.\n",
        "\n",
        "- $D$ is not unique\n",
        "- The entries on the main diagonal of $D$ are the eigenvalues of $A$\n",
        "- The columns of $C$ are eigenvectors of $A$"
      ],
      "metadata": {
        "id": "ymuN19VcAeR7"
      }
    },
    {
      "cell_type": "markdown",
      "source": [
        "### Example\n",
        "\n",
        "Let $A = \\begin{pmatrix}\n",
        "3 & 2 & 4\\\\\n",
        "2 & 0 & 2\\\\\n",
        "4 & 2 & 3\n",
        "\\end{pmatrix}$\n",
        "\n",
        "Find the characteristic polymomial, $p_A\\left(\\lambda\\right)$:\n",
        "\n",
        "$$\n",
        "\\begin{align}\n",
        "p_A\\left(\\lambda\\right) &= \\det{(A - \\lambda I)} \\\\\n",
        "&= \\det{\n",
        "\\begin{pmatrix}\n",
        "3 - \\lambda & 2 & 4\\\\\n",
        "2 & -\\lambda & 2 \\\\\n",
        "4 & 2 & 3 - \\lambda\n",
        "\\end{pmatrix}} \\\\\n",
        "&= -\\lambda^{3} + 6\\lambda^{2} + 15\\lambda + 8\n",
        "\\end{align}\n",
        "$$"
      ],
      "metadata": {
        "id": "pHapYFRcBlDM"
      }
    },
    {
      "cell_type": "code",
      "source": [
        "# verify with sympy\n",
        "l = sym.symbols('\\lambda')\n",
        "\n",
        "P_A = sym.Matrix([[3 - l, 2, 4],\n",
        "                  [2, -l, 2],\n",
        "                  [4, 2, 3 - l]])\n",
        "P_A.det()"
      ],
      "metadata": {
        "colab": {
          "base_uri": "https://localhost:8080/",
          "height": 39
        },
        "id": "ofVERLtVFzJV",
        "outputId": "0ec4e70b-4b69-4bcc-867b-e6e66393793f"
      },
      "execution_count": 33,
      "outputs": [
        {
          "output_type": "execute_result",
          "data": {
            "text/plain": [
              "-\\lambda**3 + 6*\\lambda**2 + 15*\\lambda + 8"
            ],
            "text/latex": "$\\displaystyle - \\lambda^{3} + 6 \\lambda^{2} + 15 \\lambda + 8$"
          },
          "metadata": {},
          "execution_count": 33
        }
      ]
    },
    {
      "cell_type": "code",
      "source": [
        "P_A.det().factor()"
      ],
      "metadata": {
        "colab": {
          "base_uri": "https://localhost:8080/",
          "height": 39
        },
        "id": "nR5JHJk_GU_O",
        "outputId": "65df72ee-ac91-4bb9-94f0-e77b496cb943"
      },
      "execution_count": 34,
      "outputs": [
        {
          "output_type": "execute_result",
          "data": {
            "text/plain": [
              "-(\\lambda - 8)*(\\lambda + 1)**2"
            ],
            "text/latex": "$\\displaystyle - \\left(\\lambda - 8\\right) \\left(\\lambda + 1\\right)^{2}$"
          },
          "metadata": {},
          "execution_count": 34
        }
      ]
    },
    {
      "cell_type": "markdown",
      "source": [
        "Let $p_{A} = 0$ and solve for $\\lambda$ to find the eigenvalues"
      ],
      "metadata": {
        "id": "6gmAouWqGkjP"
      }
    },
    {
      "cell_type": "code",
      "source": [
        "sym.solve(P_A.det())"
      ],
      "metadata": {
        "colab": {
          "base_uri": "https://localhost:8080/"
        },
        "id": "O6nbEPNEGc7U",
        "outputId": "b075937c-8960-4957-bd0f-81a87da25388"
      },
      "execution_count": 35,
      "outputs": [
        {
          "output_type": "execute_result",
          "data": {
            "text/plain": [
              "[-1, 8]"
            ]
          },
          "metadata": {},
          "execution_count": 35
        }
      ]
    },
    {
      "cell_type": "code",
      "source": [
        "# verify with sympy\n",
        "A = sym.Matrix([[3, 2, 4],\n",
        "                [2, 0, 2],\n",
        "                [4, 2, 3]])\n",
        "A.eigenvals()"
      ],
      "metadata": {
        "colab": {
          "base_uri": "https://localhost:8080/"
        },
        "id": "sl1T6oC4GjtQ",
        "outputId": "7874d2ff-847e-4eac-ce3f-ad8e5c358331"
      },
      "execution_count": 36,
      "outputs": [
        {
          "output_type": "execute_result",
          "data": {
            "text/plain": [
              "{8: 1, -1: 2}"
            ]
          },
          "metadata": {},
          "execution_count": 36
        }
      ]
    },
    {
      "cell_type": "markdown",
      "source": [
        "To find the eigenvectors we have to solve for $\\vec{v}$:\n",
        "\n",
        "$$\n",
        "(A - I\\lambda)\\vec{v} = \\vec{0}\n",
        "$$\n",
        "\n",
        "Let $v_1$, $v_2$ and $v_3$ be the components of $\\vec{v}$."
      ],
      "metadata": {
        "id": "D8cgagt5IJ90"
      }
    },
    {
      "cell_type": "markdown",
      "source": [
        "Find $E_8$:\n",
        "\n",
        "Let $\\lambda = 8$"
      ],
      "metadata": {
        "id": "n_w9rhA-HkJ6"
      }
    },
    {
      "cell_type": "code",
      "source": [
        "A"
      ],
      "metadata": {
        "colab": {
          "base_uri": "https://localhost:8080/",
          "height": 78
        },
        "id": "oQAsuZrYLR_C",
        "outputId": "cb8bb9d0-d6e0-44a4-e7fe-4293abd75584"
      },
      "execution_count": 37,
      "outputs": [
        {
          "output_type": "execute_result",
          "data": {
            "text/plain": [
              "Matrix([\n",
              "[3, 2, 4],\n",
              "[2, 0, 2],\n",
              "[4, 2, 3]])"
            ],
            "text/latex": "$\\displaystyle \\left[\\begin{matrix}3 & 2 & 4\\\\2 & 0 & 2\\\\4 & 2 & 3\\end{matrix}\\right]$"
          },
          "metadata": {},
          "execution_count": 37
        }
      ]
    },
    {
      "cell_type": "code",
      "source": [
        "# the augmented matrix of the sytem when lambda = 8\n",
        "Am = (A - sym.eye(3) * 8).col_insert(3, sym.Matrix([0, 0, 0]))\n",
        "Am"
      ],
      "metadata": {
        "colab": {
          "base_uri": "https://localhost:8080/",
          "height": 78
        },
        "id": "8uon5NxbKgT3",
        "outputId": "26b51f96-6b6b-46e8-f694-91902757306f"
      },
      "execution_count": 38,
      "outputs": [
        {
          "output_type": "execute_result",
          "data": {
            "text/plain": [
              "Matrix([\n",
              "[-5,  2,  4, 0],\n",
              "[ 2, -8,  2, 0],\n",
              "[ 4,  2, -5, 0]])"
            ],
            "text/latex": "$\\displaystyle \\left[\\begin{matrix}-5 & 2 & 4 & 0\\\\2 & -8 & 2 & 0\\\\4 & 2 & -5 & 0\\end{matrix}\\right]$"
          },
          "metadata": {},
          "execution_count": 38
        }
      ]
    },
    {
      "cell_type": "code",
      "source": [
        "Am.rref(pivots=False)"
      ],
      "metadata": {
        "colab": {
          "base_uri": "https://localhost:8080/",
          "height": 78
        },
        "id": "4A5dvggwLxcc",
        "outputId": "9f019926-7c01-4822-e980-d200484d9c46"
      },
      "execution_count": 39,
      "outputs": [
        {
          "output_type": "execute_result",
          "data": {
            "text/plain": [
              "Matrix([\n",
              "[1, 0,   -1, 0],\n",
              "[0, 1, -1/2, 0],\n",
              "[0, 0,    0, 0]])"
            ],
            "text/latex": "$\\displaystyle \\left[\\begin{matrix}1 & 0 & -1 & 0\\\\0 & 1 & - \\frac{1}{2} & 0\\\\0 & 0 & 0 & 0\\end{matrix}\\right]$"
          },
          "metadata": {},
          "execution_count": 39
        }
      ]
    },
    {
      "cell_type": "markdown",
      "source": [
        "$$\n",
        "\\begin{align}\n",
        "v_1 &= v_3 \\\\\n",
        "v_2 &= \\frac{1}{2}v_3\n",
        "\\end{align}\n",
        "$$\n",
        "\n",
        "Let $v_3 = t$\n",
        "\n",
        "$$\n",
        "\\begin{align}\n",
        "v_1 &= t \\\\\n",
        "v_2 &= \\frac{1}{2}t \\\\\n",
        "v_3 &= t\n",
        "\\end{align}\n",
        "$$\n",
        "\n",
        "<br>\n",
        "\n",
        "$$\n",
        "E_8 = \\left\\{t\\begin{pmatrix}1 \\\\ \\frac{1}{2} \\\\ 1\\end{pmatrix} : t \\in \\mathbb{R}\\right\\}\n",
        "$$"
      ],
      "metadata": {
        "id": "gn30STpfL2l8"
      }
    },
    {
      "cell_type": "markdown",
      "source": [
        "Find $E_{-1}$\n",
        "\n",
        "Let $\\lambda = -1$"
      ],
      "metadata": {
        "id": "WtB7eiWXNDfd"
      }
    },
    {
      "cell_type": "code",
      "source": [
        "A"
      ],
      "metadata": {
        "colab": {
          "base_uri": "https://localhost:8080/",
          "height": 78
        },
        "id": "jgHO9hKANO-4",
        "outputId": "97cb1b86-ed6b-4a57-e932-31bb23c17d42"
      },
      "execution_count": 40,
      "outputs": [
        {
          "output_type": "execute_result",
          "data": {
            "text/plain": [
              "Matrix([\n",
              "[3, 2, 4],\n",
              "[2, 0, 2],\n",
              "[4, 2, 3]])"
            ],
            "text/latex": "$\\displaystyle \\left[\\begin{matrix}3 & 2 & 4\\\\2 & 0 & 2\\\\4 & 2 & 3\\end{matrix}\\right]$"
          },
          "metadata": {},
          "execution_count": 40
        }
      ]
    },
    {
      "cell_type": "code",
      "source": [
        "Am = (A - sym.eye(3) * (-1)).col_insert(3, sym.Matrix([0, 0, 0]))\n",
        "Am"
      ],
      "metadata": {
        "colab": {
          "base_uri": "https://localhost:8080/",
          "height": 78
        },
        "id": "zFAcgIdENTKg",
        "outputId": "cf753fca-1ee2-4f25-e08c-0e98f46b8628"
      },
      "execution_count": 41,
      "outputs": [
        {
          "output_type": "execute_result",
          "data": {
            "text/plain": [
              "Matrix([\n",
              "[4, 2, 4, 0],\n",
              "[2, 1, 2, 0],\n",
              "[4, 2, 4, 0]])"
            ],
            "text/latex": "$\\displaystyle \\left[\\begin{matrix}4 & 2 & 4 & 0\\\\2 & 1 & 2 & 0\\\\4 & 2 & 4 & 0\\end{matrix}\\right]$"
          },
          "metadata": {},
          "execution_count": 41
        }
      ]
    },
    {
      "cell_type": "code",
      "source": [
        "Am.rref(pivots=False)"
      ],
      "metadata": {
        "colab": {
          "base_uri": "https://localhost:8080/",
          "height": 78
        },
        "id": "gSKgjeY3NWK-",
        "outputId": "d8f67e0d-a1e0-4fe3-ce04-cb12ebcc256c"
      },
      "execution_count": 42,
      "outputs": [
        {
          "output_type": "execute_result",
          "data": {
            "text/plain": [
              "Matrix([\n",
              "[1, 1/2, 1, 0],\n",
              "[0,   0, 0, 0],\n",
              "[0,   0, 0, 0]])"
            ],
            "text/latex": "$\\displaystyle \\left[\\begin{matrix}1 & \\frac{1}{2} & 1 & 0\\\\0 & 0 & 0 & 0\\\\0 & 0 & 0 & 0\\end{matrix}\\right]$"
          },
          "metadata": {},
          "execution_count": 42
        }
      ]
    },
    {
      "cell_type": "markdown",
      "source": [
        "$$\n",
        "v_1 + \\frac{1}{2}v_2 + v_3 = 0\n",
        "$$\n",
        "\n",
        "Let $v_2 = s$ and let $v_3 = t$\n",
        "\n",
        "$$\n",
        "\\begin{align}\n",
        "v_1 &= -\\frac{1}{2}s - t \\\\\n",
        "v_2 &= s \\\\\n",
        "v_3 &= t\n",
        "\\end{align}\n",
        "$$\n",
        "\n",
        "<br>\n",
        "\n",
        "$$\n",
        "E_{-1} = \\left\\{\n",
        "s\\begin{pmatrix}\\frac{-1}{2} \\\\ 1 \\\\ 0\\end{pmatrix} +\n",
        "t\\begin{pmatrix}-1 \\\\ 0 \\\\ 1\\end{pmatrix} : s, t \\in \\mathbb{R}     \n",
        "\\right\\}\n",
        "$$"
      ],
      "metadata": {
        "id": "wBHIRdTpQU3S"
      }
    },
    {
      "cell_type": "code",
      "source": [
        "A.eigenvals()"
      ],
      "metadata": {
        "colab": {
          "base_uri": "https://localhost:8080/"
        },
        "id": "rLsvukNGURQ8",
        "outputId": "af5c1fba-344f-4f9c-f304-de7d67d8b68d"
      },
      "execution_count": 43,
      "outputs": [
        {
          "output_type": "execute_result",
          "data": {
            "text/plain": [
              "{8: 1, -1: 2}"
            ]
          },
          "metadata": {},
          "execution_count": 43
        }
      ]
    },
    {
      "cell_type": "code",
      "source": [
        "A.eigenvects()"
      ],
      "metadata": {
        "colab": {
          "base_uri": "https://localhost:8080/"
        },
        "id": "oUkmmSjfUVm1",
        "outputId": "90af1787-1e47-4c43-de77-7a769d391a9b"
      },
      "execution_count": 44,
      "outputs": [
        {
          "output_type": "execute_result",
          "data": {
            "text/plain": [
              "[(-1,\n",
              "  2,\n",
              "  [Matrix([\n",
              "   [-1/2],\n",
              "   [   1],\n",
              "   [   0]]),\n",
              "   Matrix([\n",
              "   [-1],\n",
              "   [ 0],\n",
              "   [ 1]])]),\n",
              " (8,\n",
              "  1,\n",
              "  [Matrix([\n",
              "   [  1],\n",
              "   [1/2],\n",
              "   [  1]])])]"
            ]
          },
          "metadata": {},
          "execution_count": 44
        }
      ]
    },
    {
      "cell_type": "markdown",
      "source": [
        "Pick one vector from $E_8$ since the algebraic multiplicity is 1."
      ],
      "metadata": {
        "id": "XhXSxocoUOQk"
      }
    },
    {
      "cell_type": "code",
      "source": [
        "v_1 = sym.Matrix([2, 1, 2])\n",
        "v_1"
      ],
      "metadata": {
        "colab": {
          "base_uri": "https://localhost:8080/",
          "height": 78
        },
        "id": "0mYf1_MQU65i",
        "outputId": "6fbe763b-556f-4b69-cb8b-a9f3b0605f34"
      },
      "execution_count": 45,
      "outputs": [
        {
          "output_type": "execute_result",
          "data": {
            "text/plain": [
              "Matrix([\n",
              "[2],\n",
              "[1],\n",
              "[2]])"
            ],
            "text/latex": "$\\displaystyle \\left[\\begin{matrix}2\\\\1\\\\2\\end{matrix}\\right]$"
          },
          "metadata": {},
          "execution_count": 45
        }
      ]
    },
    {
      "cell_type": "markdown",
      "source": [
        "Pick two vectors from $E_{=1}$ since the algebraic multiplicity is 2."
      ],
      "metadata": {
        "id": "TNkFCA-8VUy6"
      }
    },
    {
      "cell_type": "code",
      "source": [
        "v_2 = sym.Matrix([-1, 0, 1])\n",
        "v_2"
      ],
      "metadata": {
        "colab": {
          "base_uri": "https://localhost:8080/",
          "height": 78
        },
        "id": "VRGTBUXUVdzO",
        "outputId": "48dae64d-2731-4946-e321-c7100f6ca3e4"
      },
      "execution_count": 46,
      "outputs": [
        {
          "output_type": "execute_result",
          "data": {
            "text/plain": [
              "Matrix([\n",
              "[-1],\n",
              "[ 0],\n",
              "[ 1]])"
            ],
            "text/latex": "$\\displaystyle \\left[\\begin{matrix}-1\\\\0\\\\1\\end{matrix}\\right]$"
          },
          "metadata": {},
          "execution_count": 46
        }
      ]
    },
    {
      "cell_type": "code",
      "source": [
        "v_3 = sym.Matrix([-1, 2, 0])\n",
        "v_3"
      ],
      "metadata": {
        "colab": {
          "base_uri": "https://localhost:8080/",
          "height": 78
        },
        "id": "xeAe0v_xVpnX",
        "outputId": "6e94ae67-d8e6-451e-f7b3-345aec3e4d77"
      },
      "execution_count": 47,
      "outputs": [
        {
          "output_type": "execute_result",
          "data": {
            "text/plain": [
              "Matrix([\n",
              "[-1],\n",
              "[ 2],\n",
              "[ 0]])"
            ],
            "text/latex": "$\\displaystyle \\left[\\begin{matrix}-1\\\\2\\\\0\\end{matrix}\\right]$"
          },
          "metadata": {},
          "execution_count": 47
        }
      ]
    },
    {
      "cell_type": "code",
      "source": [
        "C = sym.Matrix(sym.BlockMatrix([v_2, v_3, v_1]))\n",
        "C"
      ],
      "metadata": {
        "colab": {
          "base_uri": "https://localhost:8080/",
          "height": 78
        },
        "id": "L3uDKB4OWg7I",
        "outputId": "944c2571-b2e6-4b97-cbdd-79c8e98b5e70"
      },
      "execution_count": 48,
      "outputs": [
        {
          "output_type": "execute_result",
          "data": {
            "text/plain": [
              "Matrix([\n",
              "[-1, -1, 2],\n",
              "[ 0,  2, 1],\n",
              "[ 1,  0, 2]])"
            ],
            "text/latex": "$\\displaystyle \\left[\\begin{matrix}-1 & -1 & 2\\\\0 & 2 & 1\\\\1 & 0 & 2\\end{matrix}\\right]$"
          },
          "metadata": {},
          "execution_count": 48
        }
      ]
    },
    {
      "cell_type": "code",
      "source": [
        "D = sym.diag(-1, -1, 8)\n",
        "D"
      ],
      "metadata": {
        "colab": {
          "base_uri": "https://localhost:8080/",
          "height": 78
        },
        "id": "HHzMpa-fXYrO",
        "outputId": "6d920ad3-0afb-42da-a720-65b73dc572bb"
      },
      "execution_count": 49,
      "outputs": [
        {
          "output_type": "execute_result",
          "data": {
            "text/plain": [
              "Matrix([\n",
              "[-1,  0, 0],\n",
              "[ 0, -1, 0],\n",
              "[ 0,  0, 8]])"
            ],
            "text/latex": "$\\displaystyle \\left[\\begin{matrix}-1 & 0 & 0\\\\0 & -1 & 0\\\\0 & 0 & 8\\end{matrix}\\right]$"
          },
          "metadata": {},
          "execution_count": 49
        }
      ]
    },
    {
      "cell_type": "markdown",
      "source": [
        "Verify that $A = CDC^{-1}$"
      ],
      "metadata": {
        "id": "UHIGFwl0X_H6"
      }
    },
    {
      "cell_type": "code",
      "source": [
        "A"
      ],
      "metadata": {
        "colab": {
          "base_uri": "https://localhost:8080/",
          "height": 78
        },
        "id": "VgCa-kOaX-SQ",
        "outputId": "0089d83d-228a-4aa8-cca9-302f32029ab7"
      },
      "execution_count": 50,
      "outputs": [
        {
          "output_type": "execute_result",
          "data": {
            "text/plain": [
              "Matrix([\n",
              "[3, 2, 4],\n",
              "[2, 0, 2],\n",
              "[4, 2, 3]])"
            ],
            "text/latex": "$\\displaystyle \\left[\\begin{matrix}3 & 2 & 4\\\\2 & 0 & 2\\\\4 & 2 & 3\\end{matrix}\\right]$"
          },
          "metadata": {},
          "execution_count": 50
        }
      ]
    },
    {
      "cell_type": "code",
      "source": [
        "C @ D @ C.inv()"
      ],
      "metadata": {
        "colab": {
          "base_uri": "https://localhost:8080/",
          "height": 78
        },
        "id": "byHygzMIYHIK",
        "outputId": "db3d0529-f3da-4e54-9866-add13d0fc026"
      },
      "execution_count": 51,
      "outputs": [
        {
          "output_type": "execute_result",
          "data": {
            "text/plain": [
              "Matrix([\n",
              "[3, 2, 4],\n",
              "[2, 0, 2],\n",
              "[4, 2, 3]])"
            ],
            "text/latex": "$\\displaystyle \\left[\\begin{matrix}3 & 2 & 4\\\\2 & 0 & 2\\\\4 & 2 & 3\\end{matrix}\\right]$"
          },
          "metadata": {},
          "execution_count": 51
        }
      ]
    },
    {
      "cell_type": "markdown",
      "source": [
        "## 2.4.2.5 Diagonalization of a Matrix Using Python"
      ],
      "metadata": {
        "id": "QQFDPGXxYlSo"
      }
    },
    {
      "cell_type": "code",
      "source": [
        "M = sym.Matrix([[1, -2, 4, -2],\n",
        "                [5, 3, -3, -2],\n",
        "                [5, -2, 2, -2],\n",
        "                [5, -2, -3, 3]])\n",
        "M"
      ],
      "metadata": {
        "colab": {
          "base_uri": "https://localhost:8080/",
          "height": 98
        },
        "id": "fTWljImKYp5N",
        "outputId": "b24d93eb-fe96-4b96-a7cd-426413e47757"
      },
      "execution_count": 52,
      "outputs": [
        {
          "output_type": "execute_result",
          "data": {
            "text/plain": [
              "Matrix([\n",
              "[1, -2,  4, -2],\n",
              "[5,  3, -3, -2],\n",
              "[5, -2,  2, -2],\n",
              "[5, -2, -3,  3]])"
            ],
            "text/latex": "$\\displaystyle \\left[\\begin{matrix}1 & -2 & 4 & -2\\\\5 & 3 & -3 & -2\\\\5 & -2 & 2 & -2\\\\5 & -2 & -3 & 3\\end{matrix}\\right]$"
          },
          "metadata": {},
          "execution_count": 52
        }
      ]
    },
    {
      "cell_type": "code",
      "source": [
        "C, D = M.diagonalize()"
      ],
      "metadata": {
        "id": "abRx3pLaa-JN"
      },
      "execution_count": 53,
      "outputs": []
    },
    {
      "cell_type": "code",
      "source": [
        "C"
      ],
      "metadata": {
        "colab": {
          "base_uri": "https://localhost:8080/",
          "height": 98
        },
        "id": "bZWhWYztbDcx",
        "outputId": "5cc065b1-dc00-40e8-8225-a7059acd5158"
      },
      "execution_count": 54,
      "outputs": [
        {
          "output_type": "execute_result",
          "data": {
            "text/plain": [
              "Matrix([\n",
              "[0, 3, 7,  0],\n",
              "[1, 5, 4, -1],\n",
              "[1, 5, 9,  0],\n",
              "[1, 5, 0,  1]])"
            ],
            "text/latex": "$\\displaystyle \\left[\\begin{matrix}0 & 3 & 7 & 0\\\\1 & 5 & 4 & -1\\\\1 & 5 & 9 & 0\\\\1 & 5 & 0 & 1\\end{matrix}\\right]$"
          },
          "metadata": {},
          "execution_count": 54
        }
      ]
    },
    {
      "cell_type": "code",
      "source": [
        "D"
      ],
      "metadata": {
        "colab": {
          "base_uri": "https://localhost:8080/",
          "height": 98
        },
        "id": "v-bsewTgbEwF",
        "outputId": "947316ee-820c-421f-96f0-5e3e9def2fa5"
      },
      "execution_count": 55,
      "outputs": [
        {
          "output_type": "execute_result",
          "data": {
            "text/plain": [
              "Matrix([\n",
              "[-2, 0, 0, 0],\n",
              "[ 0, 1, 0, 0],\n",
              "[ 0, 0, 5, 0],\n",
              "[ 0, 0, 0, 5]])"
            ],
            "text/latex": "$\\displaystyle \\left[\\begin{matrix}-2 & 0 & 0 & 0\\\\0 & 1 & 0 & 0\\\\0 & 0 & 5 & 0\\\\0 & 0 & 0 & 5\\end{matrix}\\right]$"
          },
          "metadata": {},
          "execution_count": 55
        }
      ]
    },
    {
      "cell_type": "code",
      "source": [
        "C @ D @ C.inv()"
      ],
      "metadata": {
        "colab": {
          "base_uri": "https://localhost:8080/",
          "height": 98
        },
        "id": "SF6cDao2bG-J",
        "outputId": "9ce21555-1b3b-4b76-c0cd-15b3a72a7460"
      },
      "execution_count": 56,
      "outputs": [
        {
          "output_type": "execute_result",
          "data": {
            "text/plain": [
              "Matrix([\n",
              "[1, -2,  4, -2],\n",
              "[5,  3, -3, -2],\n",
              "[5, -2,  2, -2],\n",
              "[5, -2, -3,  3]])"
            ],
            "text/latex": "$\\displaystyle \\left[\\begin{matrix}1 & -2 & 4 & -2\\\\5 & 3 & -3 & -2\\\\5 & -2 & 2 & -2\\\\5 & -2 & -3 & 3\\end{matrix}\\right]$"
          },
          "metadata": {},
          "execution_count": 56
        }
      ]
    },
    {
      "cell_type": "markdown",
      "source": [
        "## 2.4.2.6 Practice Quiz"
      ],
      "metadata": {
        "id": "WdwC_CN6dj7p"
      }
    }
  ]
}