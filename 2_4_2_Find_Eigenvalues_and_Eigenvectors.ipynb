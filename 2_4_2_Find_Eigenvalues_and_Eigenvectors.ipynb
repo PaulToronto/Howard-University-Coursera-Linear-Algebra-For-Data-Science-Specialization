{
  "nbformat": 4,
  "nbformat_minor": 0,
  "metadata": {
    "colab": {
      "provenance": [],
      "toc_visible": true,
      "authorship_tag": "ABX9TyOQ80MMe0F30mxbhCTiWY/A",
      "include_colab_link": true
    },
    "kernelspec": {
      "name": "python3",
      "display_name": "Python 3"
    },
    "language_info": {
      "name": "python"
    }
  },
  "cells": [
    {
      "cell_type": "markdown",
      "metadata": {
        "id": "view-in-github",
        "colab_type": "text"
      },
      "source": [
        "<a href=\"https://colab.research.google.com/github/PaulToronto/Howard-University-Coursera-Linear-Algebra-For-Data-Science-Specialization/blob/main/2_4_2_Find_Eigenvalues_and_Eigenvectors.ipynb\" target=\"_parent\"><img src=\"https://colab.research.google.com/assets/colab-badge.svg\" alt=\"Open In Colab\"/></a>"
      ]
    },
    {
      "cell_type": "markdown",
      "source": [
        "# 2.4.2 Find Eigenvalues and Eigenvectors"
      ],
      "metadata": {
        "id": "5UkjEY1KRq0N"
      }
    },
    {
      "cell_type": "markdown",
      "source": [
        "## Imports"
      ],
      "metadata": {
        "id": "f2TJfRHMRs4O"
      }
    },
    {
      "cell_type": "code",
      "execution_count": 1,
      "metadata": {
        "id": "A9-NCRW0RlEQ"
      },
      "outputs": [],
      "source": [
        "import sympy as sym\n",
        "import numpy as np\n",
        "import matplotlib.pyplot as plt"
      ]
    },
    {
      "cell_type": "markdown",
      "source": [
        "## 2.4.2.1 Eigenvalues\n",
        "\n",
        "This lesson covers:\n",
        "\n",
        "- the definition of **eigenvalue** and **eigenvector**\n",
        "- how to determine eigenvectors geometrically"
      ],
      "metadata": {
        "id": "y_0DSmxVRwQH"
      }
    },
    {
      "cell_type": "markdown",
      "source": [
        "### Eigenvector and Eigenvalue\n",
        "\n",
        "Let $A$ be an $n \\times n$ matrix.\n",
        "\n",
        "- A non-zero vector $\\vec{v}$ is called an **eigenvector** of $A$ if and only if there is a scalar $\\lambda$ such that $A\\vec{v} = \\lambda\\vec{v}$.\n",
        "    - What this says is that the image of $\\vec{v}$ is a scalar multiple of $\\vec{v}$\n",
        "- An **eigenvalue** is a scalar $\\lambda$ such that $A\\vec{v} = \\lambda\\vec{v}$, for some non-zero vector $\\vec{v}$."
      ],
      "metadata": {
        "id": "tqU9hoxPUftf"
      }
    },
    {
      "cell_type": "markdown",
      "source": [
        "### Note\n",
        "\n",
        "- If $A\\vec{v} = \\lambda\\vec{v}$ for some $\\vec{v} \\ne \\vec{0}$, then we say that $\\vec{v}$ is an eigenvector corresponding to $\\lambda$ (or an eigenvector for $\\lambda$).\n",
        "- The zero scalar can be an eigenvalue, but the zero vector cannot be an eigenvector."
      ],
      "metadata": {
        "id": "5E4Nh9i-ciaU"
      }
    },
    {
      "cell_type": "markdown",
      "source": [
        "### Example\n",
        "\n",
        "Let $A = \\begin{pmatrix}1 & 1\\\\-2 & 4\\end{pmatrix}$, $\\vec{v} = \\begin{pmatrix}1 \\\\ 2\\end{pmatrix}$, and $w = \\begin{pmatrix}2 \\\\ 1\\end{pmatrix}$.\n",
        "\n",
        "If $\\vec{v}$ or $\\vec{w}$ an eigen vector of $A$? If so, find the eigenvalues."
      ],
      "metadata": {
        "id": "4EeEO1SffUgx"
      }
    },
    {
      "cell_type": "code",
      "source": [
        "A = sym.Matrix([[1, 1],\n",
        "                [-2, 4]])\n",
        "A"
      ],
      "metadata": {
        "colab": {
          "base_uri": "https://localhost:8080/",
          "height": 58
        },
        "id": "rwpp2lcWf8Ul",
        "outputId": "25d42033-cc1e-44f2-af78-43004f0112e4"
      },
      "execution_count": 2,
      "outputs": [
        {
          "output_type": "execute_result",
          "data": {
            "text/plain": [
              "Matrix([\n",
              "[ 1, 1],\n",
              "[-2, 4]])"
            ],
            "text/latex": "$\\displaystyle \\left[\\begin{matrix}1 & 1\\\\-2 & 4\\end{matrix}\\right]$"
          },
          "metadata": {},
          "execution_count": 2
        }
      ]
    },
    {
      "cell_type": "code",
      "source": [
        "v = sym.Matrix([1, 2])\n",
        "v"
      ],
      "metadata": {
        "colab": {
          "base_uri": "https://localhost:8080/",
          "height": 58
        },
        "id": "BuskpvVjgBBE",
        "outputId": "6eab91b1-490b-4611-be2f-e22b513d010f"
      },
      "execution_count": 3,
      "outputs": [
        {
          "output_type": "execute_result",
          "data": {
            "text/plain": [
              "Matrix([\n",
              "[1],\n",
              "[2]])"
            ],
            "text/latex": "$\\displaystyle \\left[\\begin{matrix}1\\\\2\\end{matrix}\\right]$"
          },
          "metadata": {},
          "execution_count": 3
        }
      ]
    },
    {
      "cell_type": "code",
      "source": [
        "w = sym.Matrix([2, 1])\n",
        "w"
      ],
      "metadata": {
        "colab": {
          "base_uri": "https://localhost:8080/",
          "height": 58
        },
        "id": "aD1sYBybgLv5",
        "outputId": "a0b0e2dd-bc08-450e-adf7-338567cde6de"
      },
      "execution_count": 4,
      "outputs": [
        {
          "output_type": "execute_result",
          "data": {
            "text/plain": [
              "Matrix([\n",
              "[2],\n",
              "[1]])"
            ],
            "text/latex": "$\\displaystyle \\left[\\begin{matrix}2\\\\1\\end{matrix}\\right]$"
          },
          "metadata": {},
          "execution_count": 4
        }
      ]
    },
    {
      "cell_type": "code",
      "source": [
        "A @ v, 3 * v"
      ],
      "metadata": {
        "colab": {
          "base_uri": "https://localhost:8080/"
        },
        "id": "sO6hRrzegVpF",
        "outputId": "0e887cf6-4cb3-4aa8-fc44-d60cf13463fb"
      },
      "execution_count": 5,
      "outputs": [
        {
          "output_type": "execute_result",
          "data": {
            "text/plain": [
              "(Matrix([\n",
              " [3],\n",
              " [6]]),\n",
              " Matrix([\n",
              " [3],\n",
              " [6]]))"
            ]
          },
          "metadata": {},
          "execution_count": 5
        }
      ]
    },
    {
      "cell_type": "code",
      "source": [
        "A @ w"
      ],
      "metadata": {
        "colab": {
          "base_uri": "https://localhost:8080/",
          "height": 58
        },
        "id": "2Xbn8F7_gix6",
        "outputId": "816828ff-d6e1-4069-883b-9f578c584d7b"
      },
      "execution_count": 6,
      "outputs": [
        {
          "output_type": "execute_result",
          "data": {
            "text/plain": [
              "Matrix([\n",
              "[3],\n",
              "[0]])"
            ],
            "text/latex": "$\\displaystyle \\left[\\begin{matrix}3\\\\0\\end{matrix}\\right]$"
          },
          "metadata": {},
          "execution_count": 6
        }
      ]
    },
    {
      "cell_type": "markdown",
      "source": [
        "$A\\vec{v} = 3\\vec{v}$\n",
        "\n",
        "$\\therefore$ $\\vec{v}$ is an eigenvector of $A$ and the eigenvalue, $\\lambda$ is equal to $3$."
      ],
      "metadata": {
        "id": "NbbP4Nhdgoip"
      }
    },
    {
      "cell_type": "markdown",
      "source": [
        "There is no scalar $\\lambda$ such that $A\\vec{w} = \\lambda\\vec{w}$\n",
        "\n",
        "$\\therefore$ $\\vec{w}$ is not an eigenvector of $A$."
      ],
      "metadata": {
        "id": "te76sc6thN9H"
      }
    },
    {
      "cell_type": "code",
      "source": [
        "fig, ax = plt.subplots(1, 2, figsize=(10, 5))\n",
        "min = 0\n",
        "max = 7\n",
        "\n",
        "# plot v\n",
        "v = np.array(v, dtype='int')\n",
        "ax[0].quiver(0, 0, v[0], v[1], scale=max-min, color='red',\n",
        "           label='$\\\\vec{v}$')\n",
        "ax[0].scatter(0, 0, color='red', s=10)\n",
        "\n",
        "# plot Av\n",
        "av = A @ v\n",
        "av = np.array(av, dtype='int')\n",
        "ax[0].quiver(0, 0, av[0], av[1], scale=max-min, color='dodgerblue', alpha=0.5,\n",
        "           label='$A\\\\vec{v}$')\n",
        "ax[0].scatter(0, 0, color='dodgerblue', s=10)\n",
        "\n",
        "ax[0].grid()\n",
        "ax[0].set_xticks(np.arange(min, max+1))\n",
        "ax[0].set_yticks(np.arange(min, max+1))\n",
        "ax[0].set_title('$A\\\\vec{v} = 3\\\\vec{v}$')\n",
        "ax[0].legend()\n",
        "\n",
        "# plot w\n",
        "w = np.array(w, dtype='int')\n",
        "ax[1].quiver(0, 0, w[0], w[1], scale=max-min, color='red',\n",
        "           label='$\\\\vec{w}$')\n",
        "ax[1].scatter(0, 0, color='red', s=10)\n",
        "\n",
        "# plot Aw\n",
        "aw = A @ w\n",
        "aw = np.array(aw, dtype='int')\n",
        "ax[1].quiver(0, 0, aw[0], aw[1], scale=max-min, color='dodgerblue', alpha=0.5,\n",
        "           label='$A\\\\vec{w}$')\n",
        "ax[1].scatter(0, 0, color='dodgerblue', s=10)\n",
        "\n",
        "ax[1].grid()\n",
        "ax[1].set_xticks(np.arange(min, max+1))\n",
        "ax[1].set_yticks(np.arange(min, max+1))\n",
        "ax[1].set_title('$\\\\vec{w}$ is not an eigenvector of $A$')\n",
        "ax[1].legend()\n",
        "\n",
        "plt.show()"
      ],
      "metadata": {
        "colab": {
          "base_uri": "https://localhost:8080/",
          "height": 471
        },
        "id": "W8lL6RUQjXqk",
        "outputId": "99796fe0-f708-4b6c-b99d-f2fea14dce5e"
      },
      "execution_count": 7,
      "outputs": [
        {
          "output_type": "display_data",
          "data": {
            "text/plain": [
              "<Figure size 1000x500 with 2 Axes>"
            ],
            "image/png": "[encoded data removed]"
          },
          "metadata": {}
        }
      ]
    },
    {
      "cell_type": "markdown",
      "source": [
        "### Example\n",
        "\n",
        "Consider the rotation transformation with $\\theta = \\frac{\\pi}{2}$.\n",
        "\n",
        "$$\n",
        "\\begin{align}\n",
        "R\\left(\\frac{\\pi}{2}\\right) &= \\begin{pmatrix}\n",
        "\\cos(\\frac{\\pi}{2}) & -sin(\\frac{\\pi}{2}) \\\\\n",
        "\\sin(\\frac{\\pi}{2}) & \\cos(\\frac{\\pi}{2})\n",
        "\\end{pmatrix} \\\\\n",
        "&= \\begin{pmatrix}\n",
        "0 & -1 \\\\\n",
        "1 & 0\n",
        "\\end{pmatrix}\n",
        "\\end{align}\n",
        "$$\n",
        "\n",
        "Clearly, given any non-zero vector, $\\vec{v}$, if its image is a rotation of $\\frac{\\pi}{2}$ they are not on the same line.\n",
        "\n",
        "$\\therefore$ the matrix, $R\\left(\\frac{\\pi}{2}\\right)$ has no eigenvectors."
      ],
      "metadata": {
        "id": "dZyQZPj-tzVX"
      }
    },
    {
      "cell_type": "markdown",
      "source": [
        "### What about the matrix $R\\left(\\pi\\right)$?\n",
        "\n",
        "In this case, all non-zero vectors are eigenvectors of $R\\left(\\pi\\right)$, where the corresponding eignvalue, $\\lambda$ is equal to $-1$."
      ],
      "metadata": {
        "id": "ebF1MYi_wZxp"
      }
    },
    {
      "cell_type": "markdown",
      "source": [
        "## 2.4.2.2 Finding Eigenvalues"
      ],
      "metadata": {
        "id": "pp5lComTxJHK"
      }
    },
    {
      "cell_type": "markdown",
      "source": [
        "### First a short review\n",
        "\n",
        "Solving a system using the inverse:\n",
        "\n",
        "$$\n",
        "A \\cdot X = C\n",
        "$$\n",
        "\n",
        "If $A$ is invertible, then:\n",
        "\n",
        "$$\n",
        "\\begin{align}\n",
        "A^{-1}AX &= A^{-1}C \\\\\n",
        "IX &= A^{-1}C \\\\\n",
        "X &= A^{-1}C\n",
        "\\end{align}\n",
        "$$\n",
        "\n",
        "Suppose C is a zero vector:\n",
        "\n",
        "$$\n",
        "\\begin{align}\n",
        "A \\cdot X &= \\begin{pmatrix}0 \\\\ 0\\end{pmatrix} \\\\\n",
        "X &= A^{-1} \\begin{pmatrix}0 \\\\ 0\\end{pmatrix}\n",
        "\\end{align}\n",
        "$$\n",
        "\n",
        "- Recall that a square matrix is invertible, if and only if it's determinant is not 0\n",
        "- If the determinant is 0, the matrix is not invertible\n",
        "- The equation $AX = \\vec{0}$ can only have a non-trivial solution if\n",
        "$A$ is not invertible, that is $\\det(A) = 0$."
      ],
      "metadata": {
        "id": "Y9epeD-kKcSY"
      }
    },
    {
      "cell_type": "markdown",
      "source": [
        "### Example\n",
        "\n",
        "Let $A = \\begin{pmatrix}1 & 1\\\\4 & 1\\end{pmatrix}$.\n",
        "\n",
        "Suppose we want to find all the eigenvalues of $A$. Here is a simple approach."
      ],
      "metadata": {
        "id": "cfhbuaBfzV4P"
      }
    },
    {
      "cell_type": "markdown",
      "source": [
        "We want to find $\\lambda$ so the the following equation has a non-trivial solution:\n",
        "\n",
        "$$\n",
        "\\begin{pmatrix}1 & 1\\\\4 & 1\\end{pmatrix} \\begin{pmatrix}x \\\\ y\\end{pmatrix} = \\lambda \\begin{pmatrix}x \\\\ y\\end{pmatrix}\n",
        "$$"
      ],
      "metadata": {
        "id": "HiCdUXCC33-l"
      }
    },
    {
      "cell_type": "markdown",
      "source": [
        "Solution:\n",
        "\n",
        "$$\n",
        "\\begin{align}\n",
        "\\begin{pmatrix}1 & 1\\\\4 & 1\\end{pmatrix} \\begin{pmatrix}x \\\\ y\\end{pmatrix} &= \\lambda \\begin{pmatrix}x \\\\ y\\end{pmatrix} \\\\\n",
        "\\begin{pmatrix}1 & 1\\\\4 & 1\\end{pmatrix} \\begin{pmatrix}x \\\\ y\\end{pmatrix} - \\lambda \\begin{pmatrix}x \\\\ y\\end{pmatrix} &= \\begin{pmatrix}0 \\\\ 0\\end{pmatrix} \\\\\n",
        "\\left(\\begin{pmatrix}1 & 1\\\\4 & 1\\end{pmatrix} - \\lambda I \\right)\\begin{pmatrix}x \\\\ y\\end{pmatrix} &= \\begin{pmatrix}0 \\\\ 0\\end{pmatrix}\n",
        "\\end{align}\n",
        "$$\n",
        "\n",
        "For this to have a non-trivial solution, the matrix\n",
        "\n",
        "$$\n",
        "\\left(\\begin{pmatrix}1 & 1\\\\4 & 1\\end{pmatrix} - \\lambda I \\right)\n",
        "$$\n",
        "\n",
        "cannot be invertible, it's determinant must be 0.\n",
        "\n",
        "$$\n",
        "\\begin{align}\n",
        "\\left(\\begin{pmatrix}1 & 1\\\\4 & 1\\end{pmatrix} - \\lambda I \\right)\n",
        "&= \\begin{pmatrix}1 & 1\\\\4 & 1\\end{pmatrix} - \\lambda \\begin{pmatrix}1 & 0\\\\0 & 1\\end{pmatrix} \\\\\n",
        "&= \\begin{pmatrix}1 - \\lambda & 1 \\\\ 4 && 1 - \\lambda\\end{pmatrix}\n",
        "\\end{align}\n",
        "$$\n",
        "\n",
        "Solve for $\\lambda$ when the deterimant is 0.\n",
        "\n",
        "$$\n",
        "\\det{\\begin{pmatrix}1 - \\lambda & 1\\\\4 && 1 - \\lambda\\end{pmatrix}} = 0\n",
        "$$\n",
        "<br/>\n",
        "$$\n",
        "\\begin{align}\n",
        "(1 - \\lambda)(1 - \\lambda) - 4 &= 0 \\\\\n",
        "1 - 2\\lambda + \\lambda^{2} - 4 &= 0 \\\\\n",
        "\\lambda^{2} - 2\\lambda - 3 &= 0 \\\\\n",
        "(\\lambda - 3)(\\lambda + 1) &= 0\n",
        "\\end{align}\n",
        "$$\n",
        "\n",
        "<br>\n",
        "\n",
        "$$\n",
        "\\therefore \\lambda = 3 \\text{ or } \\lambda = -1\n",
        "$$"
      ],
      "metadata": {
        "id": "XIzvxBt7Cedz"
      }
    },
    {
      "cell_type": "markdown",
      "source": [
        "### Characteristic Polynomial\n",
        "\n",
        "Let $A$ be an $n \\times n$ matrix.\n",
        "\n",
        "The **characteristic polynomial** of $A$, sometimes denoted by $p_{A}$, is the polynomial given by:\n",
        "\n",
        "$$\n",
        "p_{A}(\\lambda) = \\det{(A - \\lambda I)}\n",
        "$$\n",
        "\n",
        "where $I$ is the $n \\times n$ identity matrix."
      ],
      "metadata": {
        "id": "1C8cxowRUKxS"
      }
    },
    {
      "cell_type": "markdown",
      "source": [
        "#### Note:\n",
        "\n",
        "- If $A$ is an $n \\times n$ matrix, then $p_{A}(\\lambda) = \\det{(A - \\lambda I)}$ is a polynomial of degree $n$.\n",
        "- The solutions to $\\det{(A - \\lambda I)} = 0$, are the eigenvalues of $A$."
      ],
      "metadata": {
        "id": "O2tVkZDoXHla"
      }
    },
    {
      "cell_type": "markdown",
      "source": [
        "### Example\n",
        "\n",
        "Find the eignevalues of $A = \\begin{pmatrix}3 & 2 & 4\\\\2 & 0 & 2\\\\4 & 2 & 3\\end{pmatrix}$.\n",
        "\n",
        "We first find the characteristic polynomial, $p$.\n",
        "\n",
        "$p(\\lambda) = \\det{\\begin{pmatrix}3 - \\lambda & 2 & 4\\\\2 & -\\lambda & 2\\\\4 & 2 & 3 - \\lambda\\end{pmatrix}}$"
      ],
      "metadata": {
        "id": "3uRD7wUXYqP2"
      }
    },
    {
      "cell_type": "code",
      "source": [
        "l = sym.symbols('\\lambda')\n",
        "l"
      ],
      "metadata": {
        "colab": {
          "base_uri": "https://localhost:8080/",
          "height": 39
        },
        "id": "xCCgtQdGjltC",
        "outputId": "65233a38-27ce-49a9-b435-da914b733e2a"
      },
      "execution_count": 8,
      "outputs": [
        {
          "output_type": "execute_result",
          "data": {
            "text/plain": [
              "\\lambda"
            ],
            "text/latex": "$\\displaystyle \\lambda$"
          },
          "metadata": {},
          "execution_count": 8
        }
      ]
    },
    {
      "cell_type": "code",
      "source": [
        "A = sym.Matrix([[3 - l, 2, 4],\n",
        "                [2, -l, 2],\n",
        "                [4, 2, 3 - l]])\n",
        "A"
      ],
      "metadata": {
        "colab": {
          "base_uri": "https://localhost:8080/",
          "height": 78
        },
        "id": "GJfomFMFYo7z",
        "outputId": "cb196490-1da7-4f98-eb23-8fca0bfcb1e5"
      },
      "execution_count": 9,
      "outputs": [
        {
          "output_type": "execute_result",
          "data": {
            "text/plain": [
              "Matrix([\n",
              "[3 - \\lambda,        2,           4],\n",
              "[          2, -\\lambda,           2],\n",
              "[          4,        2, 3 - \\lambda]])"
            ],
            "text/latex": "$\\displaystyle \\left[\\begin{matrix}3 - \\lambda & 2 & 4\\\\2 & - \\lambda & 2\\\\4 & 2 & 3 - \\lambda\\end{matrix}\\right]$"
          },
          "metadata": {},
          "execution_count": 9
        }
      ]
    },
    {
      "cell_type": "code",
      "source": [
        "A.det()"
      ],
      "metadata": {
        "colab": {
          "base_uri": "https://localhost:8080/",
          "height": 39
        },
        "id": "3cj6rGvsa3Y2",
        "outputId": "78cab3eb-0740-4c2c-ce8a-6e87486f22a6"
      },
      "execution_count": 10,
      "outputs": [
        {
          "output_type": "execute_result",
          "data": {
            "text/plain": [
              "-\\lambda**3 + 6*\\lambda**2 + 15*\\lambda + 8"
            ],
            "text/latex": "$\\displaystyle - \\lambda^{3} + 6 \\lambda^{2} + 15 \\lambda + 8$"
          },
          "metadata": {},
          "execution_count": 10
        }
      ]
    },
    {
      "cell_type": "code",
      "source": [
        "A.det().factor()"
      ],
      "metadata": {
        "colab": {
          "base_uri": "https://localhost:8080/",
          "height": 39
        },
        "id": "AhqXg9kpj1SW",
        "outputId": "d42cf9b4-09f3-4517-e75b-808e1f50397c"
      },
      "execution_count": 11,
      "outputs": [
        {
          "output_type": "execute_result",
          "data": {
            "text/plain": [
              "-(\\lambda - 8)*(\\lambda + 1)**2"
            ],
            "text/latex": "$\\displaystyle - \\left(\\lambda - 8\\right) \\left(\\lambda + 1\\right)^{2}$"
          },
          "metadata": {},
          "execution_count": 11
        }
      ]
    },
    {
      "cell_type": "markdown",
      "source": [
        "Set the determinant to 0 and solve for $\\lambda$"
      ],
      "metadata": {
        "id": "lCpwFejLa7E7"
      }
    },
    {
      "cell_type": "code",
      "source": [
        "sym.Eq(A.det().factor(), 0)"
      ],
      "metadata": {
        "colab": {
          "base_uri": "https://localhost:8080/",
          "height": 39
        },
        "id": "HMUV6KRBerHo",
        "outputId": "2d8f9843-ea44-40c9-9295-0335e94a73be"
      },
      "execution_count": 12,
      "outputs": [
        {
          "output_type": "execute_result",
          "data": {
            "text/plain": [
              "Eq(-(\\lambda - 8)*(\\lambda + 1)**2, 0)"
            ],
            "text/latex": "$\\displaystyle - \\left(\\lambda - 8\\right) \\left(\\lambda + 1\\right)^{2} = 0$"
          },
          "metadata": {},
          "execution_count": 12
        }
      ]
    },
    {
      "cell_type": "code",
      "source": [
        "sym.solve(sym.Eq(A.det(), 0))"
      ],
      "metadata": {
        "colab": {
          "base_uri": "https://localhost:8080/"
        },
        "id": "m5-eFHftes2i",
        "outputId": "362e4815-1dd5-458a-f23a-4fec30e59a55"
      },
      "execution_count": 13,
      "outputs": [
        {
          "output_type": "execute_result",
          "data": {
            "text/plain": [
              "[-1, 8]"
            ]
          },
          "metadata": {},
          "execution_count": 13
        }
      ]
    },
    {
      "cell_type": "code",
      "source": [
        "sym.solve(A.det())"
      ],
      "metadata": {
        "colab": {
          "base_uri": "https://localhost:8080/"
        },
        "id": "L3YX0ai_biCL",
        "outputId": "da51ca26-7bc6-41cb-da8d-966f8b5cb1b9"
      },
      "execution_count": 14,
      "outputs": [
        {
          "output_type": "execute_result",
          "data": {
            "text/plain": [
              "[-1, 8]"
            ]
          },
          "metadata": {},
          "execution_count": 14
        }
      ]
    },
    {
      "cell_type": "markdown",
      "source": [
        "$\\therefore \\lambda = -1$ or $\\lambda = 8$"
      ],
      "metadata": {
        "id": "xQfpyto2b17_"
      }
    },
    {
      "cell_type": "markdown",
      "source": [
        "This can also be done with `sympy`\n",
        "\n",
        "https://docs.sympy.org/latest/tutorials/intro-tutorial/matrices.html"
      ],
      "metadata": {
        "id": "UHitfdj5ggLQ"
      }
    },
    {
      "cell_type": "code",
      "source": [
        "A = sym.Matrix([[3, 2, 4],\n",
        "                [2, 0, 2],\n",
        "                [4, 2, 3]])\n",
        "A"
      ],
      "metadata": {
        "colab": {
          "base_uri": "https://localhost:8080/",
          "height": 78
        },
        "id": "cYmLggzKg5v9",
        "outputId": "20a89873-dbfd-4a45-a73c-4e7e02827af1"
      },
      "execution_count": 15,
      "outputs": [
        {
          "output_type": "execute_result",
          "data": {
            "text/plain": [
              "Matrix([\n",
              "[3, 2, 4],\n",
              "[2, 0, 2],\n",
              "[4, 2, 3]])"
            ],
            "text/latex": "$\\displaystyle \\left[\\begin{matrix}3 & 2 & 4\\\\2 & 0 & 2\\\\4 & 2 & 3\\end{matrix}\\right]$"
          },
          "metadata": {},
          "execution_count": 15
        }
      ]
    },
    {
      "cell_type": "code",
      "source": [
        "A.eigenvals()"
      ],
      "metadata": {
        "colab": {
          "base_uri": "https://localhost:8080/"
        },
        "id": "mzPSg_jQhFaD",
        "outputId": "d6e61d78-047d-4fb4-b059-c3ea9b9d97b7"
      },
      "execution_count": 16,
      "outputs": [
        {
          "output_type": "execute_result",
          "data": {
            "text/plain": [
              "{8: 1, -1: 2}"
            ]
          },
          "metadata": {},
          "execution_count": 16
        }
      ]
    },
    {
      "cell_type": "markdown",
      "source": [
        "`eigenvals()` returns a dictionary of `eigenvalue: algebraic_multiplicity` pairs"
      ],
      "metadata": {
        "id": "4Nli2S8Mi360"
      }
    },
    {
      "cell_type": "markdown",
      "source": [
        "## 2.4.2.3 Eigenspace\n",
        "\n",
        "This lesson covers:\n",
        "\n",
        "- What an eigenspace is\n",
        "- Given any eigenvalue $\\lambda$, how to find the eigenspace of a matrix that corresponds to $\\lambda$."
      ],
      "metadata": {
        "id": "KKXYhU4tflOy"
      }
    },
    {
      "cell_type": "markdown",
      "source": [
        "### Eigenspace\n",
        "\n",
        "Let $A$ be an $n \\times n$ matrix and $\\lambda$ an eigenvalue of $A$.\n",
        "\n",
        "The set of all vectors $\\vec{v}$ such that $A\\vec{v} = \\lambda\\vec{v}$ is called an **eigenspace** and is denoted by $E_{\\lambda}$."
      ],
      "metadata": {
        "id": "S0b0psor7rMV"
      }
    },
    {
      "cell_type": "markdown",
      "source": [
        "#### Note\n",
        "\n",
        "$E_{\\lambda}$ contains all the eigenvectors of $A$ that correspond to $\\lambda$ and the zero vector."
      ],
      "metadata": {
        "id": "TqSEwc0E8lwc"
      }
    },
    {
      "cell_type": "markdown",
      "source": [
        "#### Discussion\n",
        "\n",
        "Let $A$ be an $n \\times n$ matrix and let $\\lambda$ be an eigenvalue of $A$.\n",
        "\n",
        "We want to find all vectors $\\vec{v}$ such that\n",
        "\n",
        "$$\n",
        "A\\vec{v} = \\lambda\\vec{v}\n",
        "$$\n",
        "\n",
        "Thus,\n",
        "\n",
        "$$\n",
        "\\begin{align}\n",
        "A\\vec{v} &= \\lambda\\vec{v} \\\\\n",
        "A\\vec{v} - \\lambda\\vec{v} &= \\vec{0} \\\\\n",
        "(A - \\lambda I_n)\\vec{v} &= \\vec{0}\n",
        "\\end{align}\n",
        "$$"
      ],
      "metadata": {
        "id": "8aa1qcar9GHV"
      }
    },
    {
      "cell_type": "markdown",
      "source": [
        "#### Example\n",
        "\n",
        "Find the eigenspace of $A = \\begin{pmatrix}1 & 1\\\\4 & 1\\end{pmatrix}$ for the eigenvalue $3$.\n",
        "\n",
        "##### Solution:\n",
        "\n",
        "We must solve the following for $\\begin{pmatrix}x\\\\y\\end{pmatrix}$.\n",
        "\n",
        "$$\n",
        "\\begin{align}\n",
        "\\left(\\begin{pmatrix}1 & 1\\\\4 & 1\\end{pmatrix} - 3I_{2}\\right)\\begin{pmatrix}x \\\\y\\end{pmatrix} &= \\begin{pmatrix}0\\\\0\\end{pmatrix} \\\\\n",
        "\\begin{pmatrix}-2 & 1\\\\4 & -2\\end{pmatrix}\\begin{pmatrix}x\\\\y\\end{pmatrix} &= \\begin{pmatrix}0\\\\0\\end{pmatrix} \\\\\n",
        "\\begin{pmatrix}-2x + y\\\\4x - 2y\\end{pmatrix} &= \\begin{pmatrix}0\\\\0\\end{pmatrix}\n",
        "\\end{align}\n",
        "$$\n",
        "\n",
        "We now have a sytem of linear equations which can be written as an augmented matrix:"
      ],
      "metadata": {
        "id": "NeNa6itl-6dJ"
      }
    },
    {
      "cell_type": "code",
      "source": [
        "M = sym.Matrix([[-2, 1, 0],\n",
        "                [4, -2, 0]])\n",
        "\n",
        "M"
      ],
      "metadata": {
        "colab": {
          "base_uri": "https://localhost:8080/",
          "height": 58
        },
        "id": "22jsJvMQChSY",
        "outputId": "a89fd91d-9406-489d-fd37-d68c15cd138d"
      },
      "execution_count": 17,
      "outputs": [
        {
          "output_type": "execute_result",
          "data": {
            "text/plain": [
              "Matrix([\n",
              "[-2,  1, 0],\n",
              "[ 4, -2, 0]])"
            ],
            "text/latex": "$\\displaystyle \\left[\\begin{matrix}-2 & 1 & 0\\\\4 & -2 & 0\\end{matrix}\\right]$"
          },
          "metadata": {},
          "execution_count": 17
        }
      ]
    },
    {
      "cell_type": "markdown",
      "source": [
        "$R_2 \\leftarrow R_2 + 2R_1$"
      ],
      "metadata": {
        "id": "F_ZctvjBDV8m"
      }
    },
    {
      "cell_type": "code",
      "source": [
        "M[1,:] = M.row(1) + 2 * M.row(0)\n",
        "M"
      ],
      "metadata": {
        "colab": {
          "base_uri": "https://localhost:8080/",
          "height": 58
        },
        "id": "x5pA0K08DVU_",
        "outputId": "d0d790c5-8ec0-49d7-c118-35e708cadf7e"
      },
      "execution_count": 18,
      "outputs": [
        {
          "output_type": "execute_result",
          "data": {
            "text/plain": [
              "Matrix([\n",
              "[-2, 1, 0],\n",
              "[ 0, 0, 0]])"
            ],
            "text/latex": "$\\displaystyle \\left[\\begin{matrix}-2 & 1 & 0\\\\0 & 0 & 0\\end{matrix}\\right]$"
          },
          "metadata": {},
          "execution_count": 18
        }
      ]
    },
    {
      "cell_type": "markdown",
      "source": [
        "$R_1 \\leftarrow = -\\frac{1}{2}R_1$"
      ],
      "metadata": {
        "id": "nzukeTgwPXBY"
      }
    },
    {
      "cell_type": "code",
      "source": [
        "M[0,:] = - sym.Rational(1, 2) * M.row(0)\n",
        "M"
      ],
      "metadata": {
        "colab": {
          "base_uri": "https://localhost:8080/",
          "height": 58
        },
        "id": "hzwNOFuNPVbH",
        "outputId": "5be8b9f9-df9d-401a-9919-5685f7783608"
      },
      "execution_count": 19,
      "outputs": [
        {
          "output_type": "execute_result",
          "data": {
            "text/plain": [
              "Matrix([\n",
              "[1, -1/2, 0],\n",
              "[0,    0, 0]])"
            ],
            "text/latex": "$\\displaystyle \\left[\\begin{matrix}1 & - \\frac{1}{2} & 0\\\\0 & 0 & 0\\end{matrix}\\right]$"
          },
          "metadata": {},
          "execution_count": 19
        }
      ]
    },
    {
      "cell_type": "code",
      "source": [
        "# alternately\n",
        "M = sym.Matrix([[-2, 1, 0],\n",
        "                [4, -2, 0]])\n",
        "\n",
        "M.rref(pivots=False)"
      ],
      "metadata": {
        "colab": {
          "base_uri": "https://localhost:8080/",
          "height": 58
        },
        "id": "RR22p8fpQLNw",
        "outputId": "de102987-f6ec-4ea8-b2f9-0f48d23a4a1e"
      },
      "execution_count": 20,
      "outputs": [
        {
          "output_type": "execute_result",
          "data": {
            "text/plain": [
              "Matrix([\n",
              "[1, -1/2, 0],\n",
              "[0,    0, 0]])"
            ],
            "text/latex": "$\\displaystyle \\left[\\begin{matrix}1 & - \\frac{1}{2} & 0\\\\0 & 0 & 0\\end{matrix}\\right]$"
          },
          "metadata": {},
          "execution_count": 20
        }
      ]
    },
    {
      "cell_type": "markdown",
      "source": [
        "From that we can see that $y = 2x$\n",
        "\n",
        "Hence, and eigenvector that corrresponds to the eigenvalue $3$ is of the form\n",
        "\n",
        "$$\n",
        "\\begin{pmatrix}t \\\\ 2t\\end{pmatrix} = t\\begin{pmatrix}1\\\\2\\end{pmatrix}\n",
        "$$\n",
        "\n",
        "where $x \\in \\mathbb{R} - \\{0\\}$.\n",
        "\n",
        "Thus, the **eigenspace** that corresponds to 3 is\n",
        "\n",
        "$$\n",
        "E_{3} = \\left\\{t\\begin{pmatrix}1\\\\2\\end{pmatrix} : t \\in \\mathbb{R}\\right\\}\n",
        "$$\n",
        "\n",
        "- Note, that the graph of the eigenspace in this example is a line that passes through the origin.\n",
        "- The eigenspace is simply all eigenvectors that correspond to a given eigenvalue plus the zero vector\n",
        "- The zero vector is in the eigenspace, but it is not an eigenvector"
      ],
      "metadata": {
        "id": "C7DQcrcKQhDZ"
      }
    },
    {
      "cell_type": "markdown",
      "source": [
        "#### Using `sympy`"
      ],
      "metadata": {
        "id": "85ZPYeHsUPJU"
      }
    },
    {
      "cell_type": "code",
      "source": [
        "A = sym.Matrix([[1, 1],\n",
        "                [4, 1]])\n",
        "A"
      ],
      "metadata": {
        "colab": {
          "base_uri": "https://localhost:8080/",
          "height": 58
        },
        "id": "WcWmVrZBQk1x",
        "outputId": "0f3ccdfb-ffa2-48e1-ca56-65e375cb3a0c"
      },
      "execution_count": 21,
      "outputs": [
        {
          "output_type": "execute_result",
          "data": {
            "text/plain": [
              "Matrix([\n",
              "[1, 1],\n",
              "[4, 1]])"
            ],
            "text/latex": "$\\displaystyle \\left[\\begin{matrix}1 & 1\\\\4 & 1\\end{matrix}\\right]$"
          },
          "metadata": {},
          "execution_count": 21
        }
      ]
    },
    {
      "cell_type": "code",
      "source": [
        "A.eigenvals()"
      ],
      "metadata": {
        "colab": {
          "base_uri": "https://localhost:8080/"
        },
        "id": "4Kp2neDvUUnI",
        "outputId": "6e0a6506-e478-415b-809c-b37811b75315"
      },
      "execution_count": 22,
      "outputs": [
        {
          "output_type": "execute_result",
          "data": {
            "text/plain": [
              "{3: 1, -1: 1}"
            ]
          },
          "metadata": {},
          "execution_count": 22
        }
      ]
    },
    {
      "cell_type": "code",
      "source": [
        "A.eigenvects()"
      ],
      "metadata": {
        "colab": {
          "base_uri": "https://localhost:8080/"
        },
        "id": "hCmaQx6xUj4z",
        "outputId": "d459d12a-a7cb-4f17-dd3e-83abb396cfb9"
      },
      "execution_count": 23,
      "outputs": [
        {
          "output_type": "execute_result",
          "data": {
            "text/plain": [
              "[(-1,\n",
              "  1,\n",
              "  [Matrix([\n",
              "   [-1/2],\n",
              "   [   1]])]),\n",
              " (3,\n",
              "  1,\n",
              "  [Matrix([\n",
              "   [1/2],\n",
              "   [  1]])])]"
            ]
          },
          "metadata": {},
          "execution_count": 23
        }
      ]
    },
    {
      "cell_type": "markdown",
      "source": [
        "- `eigenvects` returns a list of tuples of the form: `(eigenvalue, algebraic_multiplicity, [eigenvectors])`"
      ],
      "metadata": {
        "id": "W-CWwoskVMc9"
      }
    },
    {
      "cell_type": "code",
      "source": [
        "len(A.eigenvects())"
      ],
      "metadata": {
        "colab": {
          "base_uri": "https://localhost:8080/"
        },
        "id": "VpEfQy-NVETh",
        "outputId": "779ae680-d17a-408d-dd8e-891c3fd9a28f"
      },
      "execution_count": 24,
      "outputs": [
        {
          "output_type": "execute_result",
          "data": {
            "text/plain": [
              "2"
            ]
          },
          "metadata": {},
          "execution_count": 24
        }
      ]
    },
    {
      "cell_type": "code",
      "source": [
        "# the eigenvector corresponding to eigenvalue 3\n",
        "A.eigenvects()[1][2][0]"
      ],
      "metadata": {
        "colab": {
          "base_uri": "https://localhost:8080/",
          "height": 58
        },
        "id": "4I5rPYswVk61",
        "outputId": "b0a17891-4c36-46a4-b3ee-90f56efa9a7f"
      },
      "execution_count": 25,
      "outputs": [
        {
          "output_type": "execute_result",
          "data": {
            "text/plain": [
              "Matrix([\n",
              "[1/2],\n",
              "[  1]])"
            ],
            "text/latex": "$\\displaystyle \\left[\\begin{matrix}\\frac{1}{2}\\\\1\\end{matrix}\\right]$"
          },
          "metadata": {},
          "execution_count": 25
        }
      ]
    }
  ]
}