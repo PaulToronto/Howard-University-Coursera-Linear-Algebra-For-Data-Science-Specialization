{
  "nbformat": 4,
  "nbformat_minor": 0,
  "metadata": {
    "colab": {
      "provenance": [],
      "toc_visible": true,
      "authorship_tag": "ABX9TyNTXndKMvb99NrMGVDjITWw",
      "include_colab_link": true
    },
    "kernelspec": {
      "name": "python3",
      "display_name": "Python 3"
    },
    "language_info": {
      "name": "python"
    }
  },
  "cells": [
    {
      "cell_type": "markdown",
      "metadata": {
        "id": "view-in-github",
        "colab_type": "text"
      },
      "source": [
        "<a href=\"https://colab.research.google.com/github/PaulToronto/Howard-University-Coursera-Linear-Algebra-For-Data-Science-Specialization/blob/main/Solving_Systems_of_Linear_Equations_with_Python.ipynb\" target=\"_parent\"><img src=\"https://colab.research.google.com/assets/colab-badge.svg\" alt=\"Open In Colab\"/></a>"
      ]
    },
    {
      "cell_type": "code",
      "source": [
        "import numpy as np\n",
        "import sympy as sym\n",
        "import scipy as sci\n",
        "\n",
        "sym.init_printing(use_unicode=True)"
      ],
      "metadata": {
        "id": "MLZ3I7hgxk7m"
      },
      "execution_count": 1,
      "outputs": []
    },
    {
      "cell_type": "markdown",
      "source": [
        "# Solving Systems of Linear Equations with Python"
      ],
      "metadata": {
        "id": "X6I-yKU7uR3Z"
      }
    },
    {
      "cell_type": "markdown",
      "source": [
        "$$\n",
        "\\begin{align}\n",
        "4x_1 + 3x_2 + 2x_3 &= 25 \\\\\n",
        "-2x_1 + 2x_2 + 3x_3 &= -10 \\\\\n",
        "3x_1 - 5x_2 + 2x_3 &= -4\n",
        "\\end{align}\n",
        "$$"
      ],
      "metadata": {
        "id": "uzVVeAVHuQW5"
      }
    },
    {
      "cell_type": "markdown",
      "source": [
        "## Inverse Method\n",
        "\n",
        "$$\n",
        "\\begin{align}\n",
        "Ax &= b \\\\\n",
        "A^{-1}Ax &= A^{-1}b \\\\\n",
        "Ix &= A^{-1}b \\\\\n",
        "x &= A^{-1}b\n",
        "\\end{align}\n",
        "$$"
      ],
      "metadata": {
        "id": "OuqddAV2vGxt"
      }
    },
    {
      "cell_type": "markdown",
      "source": [
        "$$\n",
        "A =\n",
        "\\left[\n",
        "\\begin{matrix}\n",
        "4 & 3 & 2 \\\\\n",
        "-2 & 2 & 3 \\\\\n",
        "3 & -5 & 2\n",
        "\\end{matrix}\n",
        "\\right], \n",
        "x = \n",
        "\\left[\n",
        "\\begin{matrix}\n",
        "x_1 \\\\\n",
        "x_2 \\\\\n",
        "x_3\n",
        "\\end{matrix}\n",
        "\\right],\n",
        "b = \n",
        "\\left[\n",
        "\\begin{matrix}\n",
        "25 \\\\\n",
        "-10 \\\\\n",
        "-4\n",
        "\\end{matrix}\n",
        "\\right]\n",
        "$$"
      ],
      "metadata": {
        "id": "Vn-KFdpByVJ6"
      }
    },
    {
      "cell_type": "markdown",
      "source": [
        "### Numpy"
      ],
      "metadata": {
        "id": "aEjpneonUC4i"
      }
    },
    {
      "cell_type": "code",
      "source": [
        "A = np.array([[4, 3, 2],\n",
        "              [-2, 2, 3],\n",
        "              [3, -5, 2]])\n",
        "b = np.array([[25],\n",
        "              [-10],\n",
        "              [-4]])\n",
        "\n",
        "np.linalg.inv(A).dot(b)"
      ],
      "metadata": {
        "colab": {
          "base_uri": "https://localhost:8080/"
        },
        "id": "rv6XWHVxUF_h",
        "outputId": "1a78926e-8c0e-4919-a8fd-fdf39ef04d14"
      },
      "execution_count": 2,
      "outputs": [
        {
          "output_type": "execute_result",
          "data": {
            "text/plain": [
              "array([[ 5.],\n",
              "       [ 3.],\n",
              "       [-2.]])"
            ]
          },
          "metadata": {},
          "execution_count": 2
        }
      ]
    },
    {
      "cell_type": "code",
      "source": [
        "np.linalg.inv(A) @ b"
      ],
      "metadata": {
        "colab": {
          "base_uri": "https://localhost:8080/"
        },
        "id": "LKCsoLH7uMwX",
        "outputId": "d6b9c0a7-4824-4928-c387-ef4ef78e80d0"
      },
      "execution_count": 3,
      "outputs": [
        {
          "output_type": "execute_result",
          "data": {
            "text/plain": [
              "array([[ 5.],\n",
              "       [ 3.],\n",
              "       [-2.]])"
            ]
          },
          "metadata": {},
          "execution_count": 3
        }
      ]
    },
    {
      "cell_type": "markdown",
      "source": [
        "### Sympy"
      ],
      "metadata": {
        "id": "yfCj1QBgVcMY"
      }
    },
    {
      "cell_type": "code",
      "source": [
        "symA = sym.Matrix(A)\n",
        "symB = sym.Matrix(b)\n",
        "\n",
        "symA**-1 * symB"
      ],
      "metadata": {
        "colab": {
          "base_uri": "https://localhost:8080/",
          "height": 78
        },
        "id": "4VE-aAsIVeCw",
        "outputId": "8e9fb2a2-9d9a-454e-e8e4-ea26f35491fb"
      },
      "execution_count": 4,
      "outputs": [
        {
          "output_type": "execute_result",
          "data": {
            "text/plain": [
              "⎡5 ⎤\n",
              "⎢  ⎥\n",
              "⎢3 ⎥\n",
              "⎢  ⎥\n",
              "⎣-2⎦"
            ],
            "text/latex": "$\\displaystyle \\left[\\begin{matrix}5\\\\3\\\\-2\\end{matrix}\\right]$"
          },
          "metadata": {},
          "execution_count": 4
        }
      ]
    },
    {
      "cell_type": "markdown",
      "source": [
        "## Reduced Row Echelon Form"
      ],
      "metadata": {
        "id": "AQA-irCPcRIB"
      }
    },
    {
      "cell_type": "markdown",
      "source": [
        "For this we need the augmented matrix, $G$"
      ],
      "metadata": {
        "id": "S80RY3MNccYm"
      }
    },
    {
      "cell_type": "markdown",
      "source": [
        "$$\n",
        "A =\n",
        "\\left[\n",
        "\\begin{matrix}\n",
        "4 & 3 & 2 & 25\\\\\n",
        "-2 & 2 & 3 & -10 \\\\\n",
        "3 & -5 & 2 & 4\n",
        "\\end{matrix}\n",
        "\\right]\n",
        "$$"
      ],
      "metadata": {
        "id": "4w3qJFo0crKr"
      }
    },
    {
      "cell_type": "markdown",
      "source": [
        "### Sympy"
      ],
      "metadata": {
        "id": "cZuy8EFEfEdA"
      }
    },
    {
      "cell_type": "code",
      "source": [
        "G = np.concatenate((A, b), axis=1)\n",
        "G = sym.Matrix(G)\n",
        "\n",
        "G.rref(pivots=False).col(-1)"
      ],
      "metadata": {
        "colab": {
          "base_uri": "https://localhost:8080/",
          "height": 78
        },
        "id": "uwo31D8FcmJE",
        "outputId": "c8cd0765-311a-4622-ee03-12084c36d3d7"
      },
      "execution_count": 5,
      "outputs": [
        {
          "output_type": "execute_result",
          "data": {
            "text/plain": [
              "⎡5 ⎤\n",
              "⎢  ⎥\n",
              "⎢3 ⎥\n",
              "⎢  ⎥\n",
              "⎣-2⎦"
            ],
            "text/latex": "$\\displaystyle \\left[\\begin{matrix}5\\\\3\\\\-2\\end{matrix}\\right]$"
          },
          "metadata": {},
          "execution_count": 5
        }
      ]
    },
    {
      "cell_type": "markdown",
      "source": [
        "## `numpy.linalg.solve()`"
      ],
      "metadata": {
        "id": "NMn1P5JNhLen"
      }
    },
    {
      "cell_type": "code",
      "source": [
        "np.linalg.solve(A, b)"
      ],
      "metadata": {
        "colab": {
          "base_uri": "https://localhost:8080/"
        },
        "id": "HVvj9AA8hbWE",
        "outputId": "0433658e-cd08-4130-a8c1-ed53047d187c"
      },
      "execution_count": 6,
      "outputs": [
        {
          "output_type": "execute_result",
          "data": {
            "text/plain": [
              "array([[ 5.],\n",
              "       [ 3.],\n",
              "       [-2.]])"
            ]
          },
          "metadata": {},
          "execution_count": 6
        }
      ]
    },
    {
      "cell_type": "markdown",
      "source": [
        "## `sympy.linsolve()`"
      ],
      "metadata": {
        "id": "LKVt-ViOiWZn"
      }
    },
    {
      "cell_type": "code",
      "source": [
        "x_1, x_2, x_3 = sym.symbols('x_1 x_2 x_3')\n",
        "x_1, x_2, x_3"
      ],
      "metadata": {
        "colab": {
          "base_uri": "https://localhost:8080/",
          "height": 39
        },
        "id": "LjH7H-jwihIx",
        "outputId": "64d28595-e2c9-4dc0-9cb8-a36f2a116e1f"
      },
      "execution_count": 7,
      "outputs": [
        {
          "output_type": "execute_result",
          "data": {
            "text/plain": [
              "(x₁, x₂, x₃)"
            ],
            "image/png": "[encoded data removed]",
            "text/latex": "$\\displaystyle \\left( x_{1}, \\  x_{2}, \\  x_{3}\\right)$"
          },
          "metadata": {},
          "execution_count": 7
        }
      ]
    },
    {
      "cell_type": "code",
      "source": [
        "# the sig of the elements from the column\n",
        "#  vector `b` has been changed\n",
        "system = [4 * x_1 + 3 * x_2 + 2 * x_3 - 25,\n",
        "          -2 * x_1 + 2 * x_2 + 3 * x_3 + 10,\n",
        "          3 * x_1 - 5 * x_2 + 2 * x_3 + 4]\n",
        "system"
      ],
      "metadata": {
        "colab": {
          "base_uri": "https://localhost:8080/",
          "height": 39
        },
        "id": "g9zPiBMujj-C",
        "outputId": "feb4a5df-d086-4284-a9cb-865a3188b91e"
      },
      "execution_count": 8,
      "outputs": [
        {
          "output_type": "execute_result",
          "data": {
            "text/plain": [
              "[4⋅x₁ + 3⋅x₂ + 2⋅x₃ - 25, -2⋅x₁ + 2⋅x₂ + 3⋅x₃ + 10, 3⋅x₁ - 5⋅x₂ + 2⋅x₃ + 4]"
            ],
            "image/png": "[encoded data removed]",
            "text/latex": "$\\displaystyle \\left[ 4 x_{1} + 3 x_{2} + 2 x_{3} - 25, \\  - 2 x_{1} + 2 x_{2} + 3 x_{3} + 10, \\  3 x_{1} - 5 x_{2} + 2 x_{3} + 4\\right]$"
          },
          "metadata": {},
          "execution_count": 8
        }
      ]
    },
    {
      "cell_type": "code",
      "source": [
        "sym.linsolve(system, x_1, x_2, x_3)"
      ],
      "metadata": {
        "colab": {
          "base_uri": "https://localhost:8080/",
          "height": 37
        },
        "id": "vlFqu_I9mN9B",
        "outputId": "1183cdc1-9426-4943-bf76-9d240241b0a2"
      },
      "execution_count": 9,
      "outputs": [
        {
          "output_type": "execute_result",
          "data": {
            "text/plain": [
              "{(5, 3, -2)}"
            ],
            "image/png": "[encoded data removed]",
            "text/latex": "$\\displaystyle \\left\\{\\left( 5, \\  3, \\  -2\\right)\\right\\}$"
          },
          "metadata": {},
          "execution_count": 9
        }
      ]
    },
    {
      "cell_type": "code",
      "source": [
        "sym.linsolve(G, x_1, x_2, x_3)"
      ],
      "metadata": {
        "colab": {
          "base_uri": "https://localhost:8080/",
          "height": 37
        },
        "id": "QptF0sH6i5uF",
        "outputId": "980c65ad-5032-428a-9980-c0114430c5bf"
      },
      "execution_count": 10,
      "outputs": [
        {
          "output_type": "execute_result",
          "data": {
            "text/plain": [
              "{(5, 3, -2)}"
            ],
            "image/png": "[encoded data removed]",
            "text/latex": "$\\displaystyle \\left\\{\\left( 5, \\  3, \\  -2\\right)\\right\\}$"
          },
          "metadata": {},
          "execution_count": 10
        }
      ]
    },
    {
      "cell_type": "code",
      "source": [
        "sym.linsolve((symA, symB), x_1, x_2, x_3)"
      ],
      "metadata": {
        "colab": {
          "base_uri": "https://localhost:8080/",
          "height": 37
        },
        "id": "gsY3njz8mSZx",
        "outputId": "05b3acb6-3a6b-404f-8c45-10a89747ba40"
      },
      "execution_count": 11,
      "outputs": [
        {
          "output_type": "execute_result",
          "data": {
            "text/plain": [
              "{(5, 3, -2)}"
            ],
            "image/png": "[encoded data removed]",
            "text/latex": "$\\displaystyle \\left\\{\\left( 5, \\  3, \\  -2\\right)\\right\\}$"
          },
          "metadata": {},
          "execution_count": 11
        }
      ]
    }
  ]
}