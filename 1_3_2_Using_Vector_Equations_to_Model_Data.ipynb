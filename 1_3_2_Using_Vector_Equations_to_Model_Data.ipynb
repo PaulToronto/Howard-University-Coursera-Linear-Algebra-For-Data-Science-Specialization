{
  "nbformat": 4,
  "nbformat_minor": 0,
  "metadata": {
    "colab": {
      "provenance": [],
      "toc_visible": true,
      "authorship_tag": "ABX9TyNnptO529kO4K+kmAMR3ci0",
      "include_colab_link": true
    },
    "kernelspec": {
      "name": "python3",
      "display_name": "Python 3"
    },
    "language_info": {
      "name": "python"
    }
  },
  "cells": [
    {
      "cell_type": "markdown",
      "metadata": {
        "id": "view-in-github",
        "colab_type": "text"
      },
      "source": [
        "<a href=\"https://colab.research.google.com/github/PaulToronto/Howard-University-Coursera-Linear-Algebra-For-Data-Science-Specialization/blob/main/1_3_2_Using_Vector_Equations_to_Model_Data.ipynb\" target=\"_parent\"><img src=\"https://colab.research.google.com/assets/colab-badge.svg\" alt=\"Open In Colab\"/></a>"
      ]
    },
    {
      "cell_type": "markdown",
      "source": [
        "# 1.3.2 Using Vector Equations to Model Data"
      ],
      "metadata": {
        "id": "_EMLuq884dVH"
      }
    },
    {
      "cell_type": "markdown",
      "source": [
        "## 1.3.2.1 Solving Vector Equations"
      ],
      "metadata": {
        "id": "vUctJZvy6BPd"
      }
    },
    {
      "cell_type": "markdown",
      "source": [
        "### Definitions\n",
        "\n",
        "- A **column vector** is a matrix with one column\n",
        "- A **vector equation** is an equation of the form: $a\\mathbf{v}_1 + b\\mathbf{v}_2 = \\mathbf{w}$\n",
        "- The **span** of $\\{\\mathbf{v}_1, \\mathbf{v}_2\\}$ is $\\{a\\mathbf{v}_1 + b\\mathbf{v}_2 : a, b \\text{ are scalars}\\}$"
      ],
      "metadata": {
        "id": "Kb99Q93U6dc3"
      }
    },
    {
      "cell_type": "markdown",
      "source": [
        "### Example\n",
        "\n",
        "Let $\\mathbf{v}_1 = \\begin{pmatrix}2 \\\\ 0 \\\\ 1\\end{pmatrix}$, $\\mathbf{v}_2 = \\begin{pmatrix}-1 \\\\ 1 \\\\ 3\\end{pmatrix}$, and $\\mathbf{y} = \\begin{pmatrix}x \\\\ -1 \\\\ -2\\end{pmatrix}$\n",
        "\n",
        "We want to find $x$ such that $y \\in \\text{Span}\\{\\textbf{v}_1, \\textbf{v}_2\\}$"
      ],
      "metadata": {
        "id": "LJRJ4lod8wUo"
      }
    },
    {
      "cell_type": "markdown",
      "source": [
        "#### Solution:\n",
        "\n",
        "$$\n",
        "\\begin{align}\n",
        "2a - b &= x \\\\\n",
        "b &= -1 \\\\\n",
        "a + 3b &= -2\n",
        "\\end{align}\n",
        "$$\n",
        "\n",
        "We actually have 3 equations with 3 unknowns\n",
        "\n",
        "$$\n",
        "\\begin{align}\n",
        "-x + 2a - b &= 0 \\\\\n",
        "b &= -1 \\\\\n",
        "a + 3b &= -2\n",
        "\\end{align}\n",
        "$$"
      ],
      "metadata": {
        "id": "ow2HoQiu_FU2"
      }
    },
    {
      "cell_type": "code",
      "source": [
        "import sympy as sym\n",
        "\n",
        "M = sym.Matrix([[-1, 2, -1, 0],\n",
        "                [0, 0, 1, -1],\n",
        "                [0, 1, 3, -2]])\n",
        "\n",
        "M"
      ],
      "metadata": {
        "colab": {
          "base_uri": "https://localhost:8080/",
          "height": 78
        },
        "id": "GHltHeS8C5-r",
        "outputId": "3f066161-f56d-420f-b0d4-2bb92c0b3123"
      },
      "execution_count": 1,
      "outputs": [
        {
          "output_type": "execute_result",
          "data": {
            "text/plain": [
              "Matrix([\n",
              "[-1, 2, -1,  0],\n",
              "[ 0, 0,  1, -1],\n",
              "[ 0, 1,  3, -2]])"
            ],
            "text/latex": "$\\displaystyle \\left[\\begin{matrix}-1 & 2 & -1 & 0\\\\0 & 0 & 1 & -1\\\\0 & 1 & 3 & -2\\end{matrix}\\right]$"
          },
          "metadata": {},
          "execution_count": 1
        }
      ]
    },
    {
      "cell_type": "code",
      "source": [
        "M.rref()[0]"
      ],
      "metadata": {
        "colab": {
          "base_uri": "https://localhost:8080/",
          "height": 78
        },
        "id": "pGymHm3eELo-",
        "outputId": "88c9c122-0ffa-4cb8-9aaa-f670594c5dc5"
      },
      "execution_count": 2,
      "outputs": [
        {
          "output_type": "execute_result",
          "data": {
            "text/plain": [
              "Matrix([\n",
              "[1, 0, 0,  3],\n",
              "[0, 1, 0,  1],\n",
              "[0, 0, 1, -1]])"
            ],
            "text/latex": "$\\displaystyle \\left[\\begin{matrix}1 & 0 & 0 & 3\\\\0 & 1 & 0 & 1\\\\0 & 0 & 1 & -1\\end{matrix}\\right]$"
          },
          "metadata": {},
          "execution_count": 2
        }
      ]
    },
    {
      "cell_type": "markdown",
      "source": [
        "$x = 3$\n",
        "\n",
        "We also know that $a = 1$ and $b = -1$"
      ],
      "metadata": {
        "id": "cqdlddQHEYXr"
      }
    },
    {
      "cell_type": "markdown",
      "source": [
        "We can also state the following:\n",
        "\n",
        "$$\n",
        "\\begin{pmatrix}3 \\\\ -1 \\\\ -2\\end{pmatrix} \\in \\text{Span}\\{\\textbf{v}_1, \\textbf{v}_2\\}\n",
        "$$"
      ],
      "metadata": {
        "id": "qTAMSCXXF5Om"
      }
    },
    {
      "cell_type": "markdown",
      "source": [
        "### Quiz Question\n",
        "\n",
        "Is the vector $\\mathbf{v} = \\begin{pmatrix}1 \\\\ -1 \\\\ 2\\end{pmatrix}$ in $\\text{Span}\n",
        "\\left(\n",
        "    \\begin{pmatrix}-1 \\\\ 1 \\\\ 0\\end{pmatrix}, \\begin{pmatrix}2 \\\\ 1 \\\\ 0\\end{pmatrix}\n",
        "\\right)$?"
      ],
      "metadata": {
        "id": "muNNpquLYAFs"
      }
    },
    {
      "cell_type": "markdown",
      "source": [
        "#### Solution:\n",
        "\n",
        "Let $a$ and $b$ be scalars, so we have the following system of linear equations:\n",
        "\n",
        "$$\n",
        "\\begin{align}\n",
        "-a + 2b &= 1 \\\\\n",
        "a + b &= -1 \\\\\n",
        "0a + 0b &= 2\n",
        "\\end{align}\n",
        "$$\n",
        "\n",
        "This is impossible, $\\therefore$ $v$ is not in the span"
      ],
      "metadata": {
        "id": "KShRLI9cZYnH"
      }
    },
    {
      "cell_type": "markdown",
      "source": [
        "## 1.3.2.2 Practical Applications of a Linear Function Model"
      ],
      "metadata": {
        "id": "i32jQB0LIIdc"
      }
    },
    {
      "cell_type": "markdown",
      "source": [
        "$$\n",
        "Y = \\begin{pmatrix}y_1 \\\\ y_2 \\\\ \\vdots \\\\ y_n\\end{pmatrix},\\hspace{0.4cm}\n",
        "X = \\begin{pmatrix}x_1 & 1 \\\\ x_2 & 1 \\\\ \\vdots & \\vdots \\\\ x_n & 1\\end{pmatrix},\\hspace{0.4cm}\n",
        "A = \\begin{pmatrix}m \\\\ b\\end{pmatrix},\\hspace{0.5cm} \\text{and}\\hspace{0.4cm}\n",
        "E = \\begin{pmatrix}e_1 \\\\ e_2 \\\\ \\vdots \\\\ e_n\\end{pmatrix}\n",
        "$$"
      ],
      "metadata": {
        "id": "isiqxnq6KPzX"
      }
    },
    {
      "cell_type": "markdown",
      "source": [
        "$$\n",
        "Y = AX + E\n",
        "$$"
      ],
      "metadata": {
        "id": "XbRiZN6mSjkw"
      }
    },
    {
      "cell_type": "code",
      "source": [
        "m, b, x1, x2, x3, e1, e2, e3 = sym.symbols('m b x_1 x_2 x_3 e_1 e_2 e_3')"
      ],
      "metadata": {
        "id": "IUG7gidtSqyh"
      },
      "execution_count": 3,
      "outputs": []
    },
    {
      "cell_type": "code",
      "source": [
        "A = sym.Matrix([[m],\n",
        "                [b]])\n",
        "A"
      ],
      "metadata": {
        "colab": {
          "base_uri": "https://localhost:8080/",
          "height": 58
        },
        "id": "XaZahyn_S2Q3",
        "outputId": "6f537273-8df8-44d5-bedb-30f2860040f8"
      },
      "execution_count": 4,
      "outputs": [
        {
          "output_type": "execute_result",
          "data": {
            "text/plain": [
              "Matrix([\n",
              "[m],\n",
              "[b]])"
            ],
            "text/latex": "$\\displaystyle \\left[\\begin{matrix}m\\\\b\\end{matrix}\\right]$"
          },
          "metadata": {},
          "execution_count": 4
        }
      ]
    },
    {
      "cell_type": "code",
      "source": [
        "X = sym.Matrix([[x1, 1],\n",
        "                [x2, 1],\n",
        "                [x3, 1]])\n",
        "X"
      ],
      "metadata": {
        "colab": {
          "base_uri": "https://localhost:8080/",
          "height": 78
        },
        "id": "_Zp--UORTCS_",
        "outputId": "c1251c59-a4ba-40ca-cd95-b4aa0a5ff723"
      },
      "execution_count": 5,
      "outputs": [
        {
          "output_type": "execute_result",
          "data": {
            "text/plain": [
              "Matrix([\n",
              "[x_1, 1],\n",
              "[x_2, 1],\n",
              "[x_3, 1]])"
            ],
            "text/latex": "$\\displaystyle \\left[\\begin{matrix}x_{1} & 1\\\\x_{2} & 1\\\\x_{3} & 1\\end{matrix}\\right]$"
          },
          "metadata": {},
          "execution_count": 5
        }
      ]
    },
    {
      "cell_type": "code",
      "source": [
        "E = sym.Matrix([[e1],\n",
        "                [e2],\n",
        "                [e3]])\n",
        "E"
      ],
      "metadata": {
        "colab": {
          "base_uri": "https://localhost:8080/",
          "height": 78
        },
        "id": "bE3C9pJHTKG8",
        "outputId": "12145a0f-0d14-49fa-aef3-1693f5d01146"
      },
      "execution_count": 6,
      "outputs": [
        {
          "output_type": "execute_result",
          "data": {
            "text/plain": [
              "Matrix([\n",
              "[e_1],\n",
              "[e_2],\n",
              "[e_3]])"
            ],
            "text/latex": "$\\displaystyle \\left[\\begin{matrix}e_{1}\\\\e_{2}\\\\e_{3}\\end{matrix}\\right]$"
          },
          "metadata": {},
          "execution_count": 6
        }
      ]
    },
    {
      "cell_type": "code",
      "source": [
        "X * A + E"
      ],
      "metadata": {
        "colab": {
          "base_uri": "https://localhost:8080/",
          "height": 78
        },
        "id": "ANta7awbTWBI",
        "outputId": "a34dfb61-8714-490c-c2bc-760469c42b21"
      },
      "execution_count": 7,
      "outputs": [
        {
          "output_type": "execute_result",
          "data": {
            "text/plain": [
              "Matrix([\n",
              "[b + e_1 + m*x_1],\n",
              "[b + e_2 + m*x_2],\n",
              "[b + e_3 + m*x_3]])"
            ],
            "text/latex": "$\\displaystyle \\left[\\begin{matrix}b + e_{1} + m x_{1}\\\\b + e_{2} + m x_{2}\\\\b + e_{3} + m x_{3}\\end{matrix}\\right]$"
          },
          "metadata": {},
          "execution_count": 7
        }
      ]
    },
    {
      "cell_type": "markdown",
      "source": [
        "## 1.3.2.3 Quiz; Vector Equations, Systems of Linear Equations, and Modeling Data"
      ],
      "metadata": {
        "id": "Dr3aZ-d7axU8"
      }
    },
    {
      "cell_type": "code",
      "source": [
        "M"
      ],
      "metadata": {
        "colab": {
          "base_uri": "https://localhost:8080/",
          "height": 78
        },
        "id": "4qmoxeXTa_h5",
        "outputId": "e7919f3c-8bc1-4907-ab7a-1a28ff7412b4"
      },
      "execution_count": 8,
      "outputs": [
        {
          "output_type": "execute_result",
          "data": {
            "text/plain": [
              "Matrix([\n",
              "[-1, 2, -1,  0],\n",
              "[ 0, 0,  1, -1],\n",
              "[ 0, 1,  3, -2]])"
            ],
            "text/latex": "$\\displaystyle \\left[\\begin{matrix}-1 & 2 & -1 & 0\\\\0 & 0 & 1 & -1\\\\0 & 1 & 3 & -2\\end{matrix}\\right]$"
          },
          "metadata": {},
          "execution_count": 8
        }
      ]
    },
    {
      "cell_type": "code",
      "source": [
        "M.rref()[0]"
      ],
      "metadata": {
        "colab": {
          "base_uri": "https://localhost:8080/",
          "height": 78
        },
        "id": "Jwc13S9ybA6j",
        "outputId": "7371054d-37ed-4f63-cd93-7cf53afaa0dd"
      },
      "execution_count": 9,
      "outputs": [
        {
          "output_type": "execute_result",
          "data": {
            "text/plain": [
              "Matrix([\n",
              "[1, 0, 0,  3],\n",
              "[0, 1, 0,  1],\n",
              "[0, 0, 1, -1]])"
            ],
            "text/latex": "$\\displaystyle \\left[\\begin{matrix}1 & 0 & 0 & 3\\\\0 & 1 & 0 & 1\\\\0 & 0 & 1 & -1\\end{matrix}\\right]$"
          },
          "metadata": {},
          "execution_count": 9
        }
      ]
    },
    {
      "cell_type": "code",
      "source": [
        "M.rref()[1]"
      ],
      "metadata": {
        "colab": {
          "base_uri": "https://localhost:8080/"
        },
        "id": "bBC3YMj0bE6K",
        "outputId": "74fb101a-5d07-4758-dab2-cc64159668ce"
      },
      "execution_count": 10,
      "outputs": [
        {
          "output_type": "execute_result",
          "data": {
            "text/plain": [
              "(0, 1, 2)"
            ]
          },
          "metadata": {},
          "execution_count": 10
        }
      ]
    },
    {
      "cell_type": "code",
      "source": [
        "M.rref()"
      ],
      "metadata": {
        "colab": {
          "base_uri": "https://localhost:8080/"
        },
        "id": "tkytsdrPbIhq",
        "outputId": "3206b05f-48ec-450f-ae22-c482778cd558"
      },
      "execution_count": 11,
      "outputs": [
        {
          "output_type": "execute_result",
          "data": {
            "text/plain": [
              "(Matrix([\n",
              " [1, 0, 0,  3],\n",
              " [0, 1, 0,  1],\n",
              " [0, 0, 1, -1]]),\n",
              " (0, 1, 2))"
            ]
          },
          "metadata": {},
          "execution_count": 11
        }
      ]
    }
  ]
}