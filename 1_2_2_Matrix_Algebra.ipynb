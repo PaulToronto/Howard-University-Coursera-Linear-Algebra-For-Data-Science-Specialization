{
  "nbformat": 4,
  "nbformat_minor": 0,
  "metadata": {
    "colab": {
      "provenance": [],
      "collapsed_sections": [],
      "toc_visible": true,
      "authorship_tag": "ABX9TyP3nCUTzTR7ItPnGKT1Ei6v",
      "include_colab_link": true
    },
    "kernelspec": {
      "name": "python3",
      "display_name": "Python 3"
    },
    "language_info": {
      "name": "python"
    }
  },
  "cells": [
    {
      "cell_type": "markdown",
      "metadata": {
        "id": "view-in-github",
        "colab_type": "text"
      },
      "source": [
        "<a href=\"https://colab.research.google.com/github/PaulToronto/Howard-University-Coursera-Linear-Algebra-For-Data-Science-Specialization/blob/main/1_2_2_Matrix_Algebra.ipynb\" target=\"_parent\"><img src=\"https://colab.research.google.com/assets/colab-badge.svg\" alt=\"Open In Colab\"/></a>"
      ]
    },
    {
      "cell_type": "markdown",
      "source": [
        "# 1.2.2 Matrix Algebra"
      ],
      "metadata": {
        "id": "S59dgsWpeRZr"
      }
    },
    {
      "cell_type": "code",
      "execution_count": 1,
      "metadata": {
        "id": "RiRZnIowdrjN"
      },
      "outputs": [],
      "source": [
        "import numpy as np\n",
        "import sympy as sym\n",
        "import scipy as sci"
      ]
    },
    {
      "cell_type": "markdown",
      "source": [
        "## 1.2.2.1 Matrix Addition"
      ],
      "metadata": {
        "id": "kO5FQPUeedwf"
      }
    },
    {
      "cell_type": "markdown",
      "source": [
        "### Definition\n",
        "\n",
        "Two matrices are **equal** if they are the same shape and the corresponding entries are equal."
      ],
      "metadata": {
        "id": "iC-ZIGE5gYZL"
      }
    },
    {
      "cell_type": "markdown",
      "source": [
        "#### Example\n",
        "\n",
        "Find $x$ so that the matrices $A$ and $B$ are equal."
      ],
      "metadata": {
        "id": "MuHwYeoQg5Ur"
      }
    },
    {
      "cell_type": "code",
      "source": [
        "x = sym.symbols('x')"
      ],
      "metadata": {
        "id": "3fCH-RMUhbvi"
      },
      "execution_count": 2,
      "outputs": []
    },
    {
      "cell_type": "code",
      "source": [
        "A = sym.Matrix([[-1, 0, 5],\n",
        "                [0, 5, 6]])\n",
        "A"
      ],
      "metadata": {
        "colab": {
          "base_uri": "https://localhost:8080/",
          "height": 58
        },
        "id": "vj_HI2i6hFMY",
        "outputId": "9cbcf8cc-f34b-405f-fe6b-2d0e74d14102"
      },
      "execution_count": 3,
      "outputs": [
        {
          "output_type": "execute_result",
          "data": {
            "text/plain": [
              "Matrix([\n",
              "[-1, 0, 5],\n",
              "[ 0, 5, 6]])"
            ],
            "text/latex": "$\\displaystyle \\left[\\begin{matrix}-1 & 0 & 5\\\\0 & 5 & 6\\end{matrix}\\right]$"
          },
          "metadata": {},
          "execution_count": 3
        }
      ]
    },
    {
      "cell_type": "code",
      "source": [
        "B = sym.Matrix([[-1, 0, x + 1],\n",
        "                [0, 5, 6]])\n",
        "B"
      ],
      "metadata": {
        "colab": {
          "base_uri": "https://localhost:8080/",
          "height": 58
        },
        "id": "0Ww8MMqveibi",
        "outputId": "60bef9bd-4acc-47aa-dfd1-ac7c0e884970"
      },
      "execution_count": 4,
      "outputs": [
        {
          "output_type": "execute_result",
          "data": {
            "text/plain": [
              "Matrix([\n",
              "[-1, 0, x + 1],\n",
              "[ 0, 5,     6]])"
            ],
            "text/latex": "$\\displaystyle \\left[\\begin{matrix}-1 & 0 & x + 1\\\\0 & 5 & 6\\end{matrix}\\right]$"
          },
          "metadata": {},
          "execution_count": 4
        }
      ]
    },
    {
      "cell_type": "code",
      "source": [
        "sym.solve(x + 1 - 5)"
      ],
      "metadata": {
        "colab": {
          "base_uri": "https://localhost:8080/"
        },
        "id": "SDY6lJSGhnBg",
        "outputId": "2e7fd295-fe7a-467e-8fb8-a7c76d35da3b"
      },
      "execution_count": 5,
      "outputs": [
        {
          "output_type": "execute_result",
          "data": {
            "text/plain": [
              "[4]"
            ]
          },
          "metadata": {},
          "execution_count": 5
        }
      ]
    },
    {
      "cell_type": "markdown",
      "source": [
        "$\\therefore$ The matrix $A$ is equal to $B$ when $x = 4$"
      ],
      "metadata": {
        "id": "eWFJnX2Mh0f_"
      }
    },
    {
      "cell_type": "markdown",
      "source": [
        "### Definition: Matrix Addition\n",
        "\n",
        "Let $A$ and $B$ be two $m \\times n$ matrices. then the sum of the two matrices, denoted by $A + B$ is the $m \\times n$ matrix, where the entries are $A + B$ are obtained by adding the corresponding entries of $A$ and $B$"
      ],
      "metadata": {
        "id": "wVoVGUxaiQIc"
      }
    },
    {
      "cell_type": "markdown",
      "source": [
        "#### Example\n",
        "\n",
        "Find $A + B$"
      ],
      "metadata": {
        "id": "KDFCusAMjsu1"
      }
    },
    {
      "cell_type": "code",
      "source": [
        "A = np.array([[-1, 0],\n",
        "              [0, 5],\n",
        "              [3, 0]])\n",
        "A"
      ],
      "metadata": {
        "colab": {
          "base_uri": "https://localhost:8080/"
        },
        "id": "Ev4w4RVoj2fn",
        "outputId": "2581c915-6da6-4d5f-8fd3-40a093874151"
      },
      "execution_count": 6,
      "outputs": [
        {
          "output_type": "execute_result",
          "data": {
            "text/plain": [
              "array([[-1,  0],\n",
              "       [ 0,  5],\n",
              "       [ 3,  0]])"
            ]
          },
          "metadata": {},
          "execution_count": 6
        }
      ]
    },
    {
      "cell_type": "code",
      "source": [
        "B = np.array([[1, 1],\n",
        "              [3, -5],\n",
        "              [1, 5]])\n",
        "B"
      ],
      "metadata": {
        "colab": {
          "base_uri": "https://localhost:8080/"
        },
        "id": "fHQD4t-HkI0k",
        "outputId": "6e35a01d-c024-4476-a880-dd8ae3eeae1c"
      },
      "execution_count": 7,
      "outputs": [
        {
          "output_type": "execute_result",
          "data": {
            "text/plain": [
              "array([[ 1,  1],\n",
              "       [ 3, -5],\n",
              "       [ 1,  5]])"
            ]
          },
          "metadata": {},
          "execution_count": 7
        }
      ]
    },
    {
      "cell_type": "code",
      "source": [
        "A + B"
      ],
      "metadata": {
        "colab": {
          "base_uri": "https://localhost:8080/"
        },
        "id": "mqfz6xmZkPeD",
        "outputId": "db73a957-4b3a-4210-b712-bbe1d4f5a683"
      },
      "execution_count": 8,
      "outputs": [
        {
          "output_type": "execute_result",
          "data": {
            "text/plain": [
              "array([[0, 1],\n",
              "       [3, 0],\n",
              "       [4, 5]])"
            ]
          },
          "metadata": {},
          "execution_count": 8
        }
      ]
    },
    {
      "cell_type": "code",
      "source": [
        "sym.Matrix(A) + sym.Matrix(B)"
      ],
      "metadata": {
        "colab": {
          "base_uri": "https://localhost:8080/",
          "height": 78
        },
        "id": "M7IfjjTkkUtf",
        "outputId": "73c46492-6b4f-4b28-811f-fd781755aeef"
      },
      "execution_count": 9,
      "outputs": [
        {
          "output_type": "execute_result",
          "data": {
            "text/plain": [
              "Matrix([\n",
              "[0, 1],\n",
              "[3, 0],\n",
              "[4, 5]])"
            ],
            "text/latex": "$\\displaystyle \\left[\\begin{matrix}0 & 1\\\\3 & 0\\\\4 & 5\\end{matrix}\\right]$"
          },
          "metadata": {},
          "execution_count": 9
        }
      ]
    },
    {
      "cell_type": "markdown",
      "source": [
        "### Definition: Scalar Multiplication\n",
        "\n",
        "Let $r$ be any real number (a **scalar**) and let $B$ be an $m \\times n$ matrix. Then $rB$ is the $m \\times n$ matrix determined by multiplying each entry of $B$ by the scalar $r$.\n",
        "\n",
        "#### Remark\n",
        "\n",
        "Let $A$ and $B$ be two matrices of the same size. Then\n",
        "\n",
        "- $-A = (-1)A$\n",
        "- $A - B = A + (-1)B$"
      ],
      "metadata": {
        "id": "cxL0_qMnkwkK"
      }
    },
    {
      "cell_type": "markdown",
      "source": [
        "#### Example\n",
        "\n",
        "Given matrices $A$ and $B$ below, find $2B$ and find $A - 2B$."
      ],
      "metadata": {
        "id": "hz-gmWtmnxIN"
      }
    },
    {
      "cell_type": "code",
      "source": [
        "A"
      ],
      "metadata": {
        "colab": {
          "base_uri": "https://localhost:8080/"
        },
        "id": "URV9wjbPk109",
        "outputId": "15036669-af3c-4f6f-b67c-240b46860641"
      },
      "execution_count": 10,
      "outputs": [
        {
          "output_type": "execute_result",
          "data": {
            "text/plain": [
              "array([[-1,  0],\n",
              "       [ 0,  5],\n",
              "       [ 3,  0]])"
            ]
          },
          "metadata": {},
          "execution_count": 10
        }
      ]
    },
    {
      "cell_type": "code",
      "source": [
        "B"
      ],
      "metadata": {
        "colab": {
          "base_uri": "https://localhost:8080/"
        },
        "id": "nNBQG0BZpVS7",
        "outputId": "3d18eabf-bc0d-45bf-a90d-2f62f5e79c5f"
      },
      "execution_count": 11,
      "outputs": [
        {
          "output_type": "execute_result",
          "data": {
            "text/plain": [
              "array([[ 1,  1],\n",
              "       [ 3, -5],\n",
              "       [ 1,  5]])"
            ]
          },
          "metadata": {},
          "execution_count": 11
        }
      ]
    },
    {
      "cell_type": "code",
      "source": [
        "2 * B"
      ],
      "metadata": {
        "colab": {
          "base_uri": "https://localhost:8080/"
        },
        "id": "5RIhbE2SpV-5",
        "outputId": "3aac2da5-f37b-416e-c1b1-759b49fb57e8"
      },
      "execution_count": 12,
      "outputs": [
        {
          "output_type": "execute_result",
          "data": {
            "text/plain": [
              "array([[  2,   2],\n",
              "       [  6, -10],\n",
              "       [  2,  10]])"
            ]
          },
          "metadata": {},
          "execution_count": 12
        }
      ]
    },
    {
      "cell_type": "code",
      "source": [
        "A - 2 * B"
      ],
      "metadata": {
        "colab": {
          "base_uri": "https://localhost:8080/"
        },
        "id": "z2VOj3MLpWZd",
        "outputId": "6dfaa6a2-90f2-463d-96f8-40d943fdbfa2"
      },
      "execution_count": 13,
      "outputs": [
        {
          "output_type": "execute_result",
          "data": {
            "text/plain": [
              "array([[ -3,  -2],\n",
              "       [ -6,  15],\n",
              "       [  1, -10]])"
            ]
          },
          "metadata": {},
          "execution_count": 13
        }
      ]
    },
    {
      "cell_type": "code",
      "source": [
        "sym.Matrix(A) - 2 * sym.Matrix(B)"
      ],
      "metadata": {
        "colab": {
          "base_uri": "https://localhost:8080/",
          "height": 78
        },
        "id": "fcJj2_3YpgoK",
        "outputId": "6ae0a6bc-4719-41b5-db2e-2108d9e8fd7d"
      },
      "execution_count": 14,
      "outputs": [
        {
          "output_type": "execute_result",
          "data": {
            "text/plain": [
              "Matrix([\n",
              "[-3,  -2],\n",
              "[-6,  15],\n",
              "[ 1, -10]])"
            ],
            "text/latex": "$\\displaystyle \\left[\\begin{matrix}-3 & -2\\\\-6 & 15\\\\1 & -10\\end{matrix}\\right]$"
          },
          "metadata": {},
          "execution_count": 14
        }
      ]
    },
    {
      "cell_type": "markdown",
      "source": [
        "### Theorem\n",
        "\n",
        "Let $A$, $B$, and $C$ be three matrices of the same size. Let $r$ and $s$ be two scalars. Then\n",
        "\n",
        "1. $A + B = B + A$ \n",
        "    - Commutative property of addition\n",
        "2. $A + (B + C) = (A + B) + C$ \n",
        "    - Associative property of addition\n",
        "3. $A + O = A$, where $O$ is the **zero matrix**\n",
        "    - Additive identity property\n",
        "4. $r(A + B) = rA + rB$ \n",
        "    - Distributive property\n",
        "5. $(r + s)A = rA + sA$ \n",
        "    - Distributive property\n",
        "6. $(rs)A = r(sA)$ \n",
        "    - Associative property of multiplication"
      ],
      "metadata": {
        "id": "9fUhC0EdqfO4"
      }
    },
    {
      "cell_type": "markdown",
      "source": [
        "## 1.2.2.2 Matrix Multiplication"
      ],
      "metadata": {
        "id": "9j61fAbttsCs"
      }
    },
    {
      "cell_type": "markdown",
      "source": [
        "### Definition\n",
        "\n",
        "Let \n",
        "$\n",
        "u = \\left(\\begin{matrix}\n",
        "u_{1} \\\\ \n",
        "u_{2} \\\\\n",
        "\\vdots \\\\\n",
        "u_{n}\n",
        "\\end{matrix}\\right)\n",
        "$ \n",
        "and \n",
        "$\n",
        "v = \\left(\\begin{matrix}\n",
        "v_{1} \\\\ \n",
        "v_{2} \\\\\n",
        "\\vdots \\\\\n",
        "v_{n}\n",
        "\\end{matrix}\\right)\n",
        "$ \n",
        "be two column vectors. Then the **inner product** or **dot product** of $u$ and $v$ is denoted by $u^{T} \\cdot v$."
      ],
      "metadata": {
        "id": "MEMbPYvGFtvz"
      }
    },
    {
      "cell_type": "markdown",
      "source": [
        "$\n",
        "\\begin{align}\n",
        "u^{T} \\cdot v \n",
        "&= \n",
        "\\left(\\begin{matrix}\n",
        "    u_{1} & u_{2} & \\dots & u_{n} \n",
        "\\end{matrix}\\right) \n",
        "\\cdot \n",
        "\\left(\\begin{matrix}\n",
        "    v_{1} \\\\ \n",
        "    v_{2} \\\\\n",
        "    \\vdots \\\\\n",
        "    v_{n}\n",
        "\\end{matrix}\\right) \\\\\n",
        "&= \n",
        "u_{1}v_{1} + u_{2}v_{2} + \\dots + u_{n}v_{n}\n",
        "\\end{align}\n",
        "$"
      ],
      "metadata": {
        "id": "9PtmArhRI4Gz"
      }
    },
    {
      "cell_type": "markdown",
      "source": [
        "#### Example"
      ],
      "metadata": {
        "id": "gXqZmdOjKi8O"
      }
    },
    {
      "cell_type": "code",
      "source": [
        "u = sym.Matrix([[1], [0], [-1], [5]])\n",
        "v = sym.Matrix([[2], [1], [0], [-1]])"
      ],
      "metadata": {
        "id": "5q7fFLdIKoO3"
      },
      "execution_count": 15,
      "outputs": []
    },
    {
      "cell_type": "code",
      "source": [
        "u.T * v"
      ],
      "metadata": {
        "colab": {
          "base_uri": "https://localhost:8080/",
          "height": 39
        },
        "id": "TVBdoOggLFnv",
        "outputId": "7155feb3-57f4-4ee0-bee7-420ebc3c77dd"
      },
      "execution_count": 16,
      "outputs": [
        {
          "output_type": "execute_result",
          "data": {
            "text/plain": [
              "Matrix([[-3]])"
            ],
            "text/latex": "$\\displaystyle \\left[\\begin{matrix}-3\\end{matrix}\\right]$"
          },
          "metadata": {},
          "execution_count": 16
        }
      ]
    },
    {
      "cell_type": "code",
      "source": [
        "u.dot(v)"
      ],
      "metadata": {
        "colab": {
          "base_uri": "https://localhost:8080/",
          "height": 37
        },
        "id": "fDcxAkAYLO9r",
        "outputId": "32f13e73-7a15-4e02-9f3a-373ae9fa8ec1"
      },
      "execution_count": 17,
      "outputs": [
        {
          "output_type": "execute_result",
          "data": {
            "text/plain": [
              "-3"
            ],
            "text/latex": "$\\displaystyle -3$"
          },
          "metadata": {},
          "execution_count": 17
        }
      ]
    },
    {
      "cell_type": "code",
      "source": [
        "sum([u[i] * v[i] for i in range(4)])"
      ],
      "metadata": {
        "colab": {
          "base_uri": "https://localhost:8080/",
          "height": 37
        },
        "id": "v268D30cLRMl",
        "outputId": "f3d57d7c-a725-4e02-d552-5544a1c4f150"
      },
      "execution_count": 18,
      "outputs": [
        {
          "output_type": "execute_result",
          "data": {
            "text/plain": [
              "-3"
            ],
            "text/latex": "$\\displaystyle -3$"
          },
          "metadata": {},
          "execution_count": 18
        }
      ]
    },
    {
      "cell_type": "markdown",
      "source": [
        "#### Example\n",
        "\n",
        "We want to find $C = A \\cdot B = \n",
        "\\left(\\begin{matrix} \n",
        "1 & 1 \\\\\n",
        "1 & 0\n",
        "\\end{matrix}\\right) \\cdot \n",
        "\\left(\\begin{matrix}\n",
        "0 & 1 \\\\\n",
        "1 & 2\n",
        "\\end{matrix}\\right)$\n",
        "\n",
        "$C_{ij}$ is obtained by mutliplying the $i^{th}$ row of $A$ by the $j^{th}$ row if $B$"
      ],
      "metadata": {
        "id": "Yi9eRKsqM6jF"
      }
    },
    {
      "cell_type": "markdown",
      "source": [
        "$\n",
        "\\begin{align}\n",
        "C_{11} \n",
        "&= \n",
        "\\left(\\begin{matrix}\n",
        "    1 & 1\n",
        "\\end{matrix}\\right) \n",
        "\\cdot \n",
        "\\left(\\begin{matrix}\n",
        "    0 \\\\ \n",
        "    1\n",
        "\\end{matrix}\\right) \\\\\n",
        "&= 1 \\cdot 0 + 1 \\cdot 1 \\\\\n",
        "&= 1\n",
        "\\end{align}\n",
        "$\n",
        "\n",
        "$\n",
        "\\begin{align}\n",
        "C_{12} \n",
        "&= \n",
        "\\left(\\begin{matrix}\n",
        "    1 & 1\n",
        "\\end{matrix}\\right) \n",
        "\\cdot \n",
        "\\left(\\begin{matrix}\n",
        "    1 \\\\ \n",
        "    2\n",
        "\\end{matrix}\\right) \\\\\n",
        "&= 1 \\cdot 1 + 1 \\cdot 2 \\\\\n",
        "&= 1 + 2 \\\\\n",
        "&= 3\n",
        "\\end{align}\n",
        "$\n",
        "\n",
        "$\n",
        "\\begin{align}\n",
        "C_{21} \n",
        "&= \n",
        "\\left(\\begin{matrix}\n",
        "    1 & 0\n",
        "\\end{matrix}\\right) \n",
        "\\cdot \n",
        "\\left(\\begin{matrix}\n",
        "    0 \\\\ \n",
        "    1\n",
        "\\end{matrix}\\right) \\\\\n",
        "&= 1 \\cdot 0 + 0 \\cdot 1 \\\\\n",
        "&= 0\n",
        "\\end{align}\n",
        "$\n",
        "\n",
        "$\n",
        "\\begin{align}\n",
        "C_{22} \n",
        "&= \n",
        "\\left(\\begin{matrix}\n",
        "    1 & 0\n",
        "\\end{matrix}\\right) \n",
        "\\cdot \n",
        "\\left(\\begin{matrix}\n",
        "    1 \\\\ \n",
        "    2\n",
        "\\end{matrix}\\right) \\\\\n",
        "&= 1 \\cdot 1 + 2 \\cdot 2 \\\\\n",
        "&= 1\n",
        "\\end{align}\n",
        "$\n"
      ],
      "metadata": {
        "id": "bUYdosY0PG8G"
      }
    },
    {
      "cell_type": "markdown",
      "source": [
        "$\n",
        "\\therefore\n",
        "C = \n",
        "\\left(\\begin{matrix} \n",
        "1 & 3 \\\\\n",
        "0 & 1\n",
        "\\end{matrix}\\right)\n",
        "$"
      ],
      "metadata": {
        "id": "7x2IA8KdSQp1"
      }
    },
    {
      "cell_type": "code",
      "source": [
        "A = sym.Matrix([[1, 1], [1, 0]])\n",
        "B = sym.Matrix([[0, 1], [1, 2]])"
      ],
      "metadata": {
        "id": "v4jGKG2RPotj"
      },
      "execution_count": 19,
      "outputs": []
    },
    {
      "cell_type": "code",
      "source": [
        "A * B"
      ],
      "metadata": {
        "colab": {
          "base_uri": "https://localhost:8080/",
          "height": 58
        },
        "id": "DnRPc__zSxal",
        "outputId": "5208827b-e1a1-4107-9c29-5b9a5d739242"
      },
      "execution_count": 20,
      "outputs": [
        {
          "output_type": "execute_result",
          "data": {
            "text/plain": [
              "Matrix([\n",
              "[1, 3],\n",
              "[0, 1]])"
            ],
            "text/latex": "$\\displaystyle \\left[\\begin{matrix}1 & 3\\\\0 & 1\\end{matrix}\\right]$"
          },
          "metadata": {},
          "execution_count": 20
        }
      ]
    },
    {
      "cell_type": "markdown",
      "source": [
        "### Definition: Matrix Multiplication\n",
        "\n",
        "Let $A$ be and $m \\times n$ matrix with rows $r_{1}, r_{2}, \\dots, r_{m}$ and let $B$ be an $n \\times p$ matrix with columns $c_{1}, c_{2}, \\dots, c_{p}$.\n",
        "\n",
        "The the **product** of the two matrices, denoted by $A \\cdot B$ is the $m \\times p$ matrix, where the entry in the $i^{th}$ row and $j^{th}$ column is given by the dot product $r_{i} \\cdot c_{j}$, that is the dot product of the $i^{th}$ row of matrix $A$ and the $j^{th}$ column of matrix $B$."
      ],
      "metadata": {
        "id": "NqXEfWlIU05m"
      }
    },
    {
      "cell_type": "markdown",
      "source": [
        "#### Observation\n",
        "\n",
        "1. Matrix multiplication is **not commutative**. It may be the case that $A \\cdot B$ is not equal to $B \\cdot A$. \n",
        "2. In fact, it is possible that $A \\cdot B$ is defined, but $B \\cdot A$ is not defined. \n",
        "3. If $A$ and $B$ are square matrices of the same size, then both $A \\cdot B$ and $B \\cdot A$ exist, but they might not be equal to each other."
      ],
      "metadata": {
        "id": "1pLXyr4fbZ_E"
      }
    },
    {
      "cell_type": "markdown",
      "source": [
        "##### Example"
      ],
      "metadata": {
        "id": "bI2rOwELdbig"
      }
    },
    {
      "cell_type": "markdown",
      "source": [
        "###### Numpy"
      ],
      "metadata": {
        "id": "gGu_wgSIdfYI"
      }
    },
    {
      "cell_type": "code",
      "source": [
        "A = np.array([[-1, 0], [0, 5]])\n",
        "B = np.array([[1, 1], [3, -5]])"
      ],
      "metadata": {
        "id": "qnMlmKkbc61y"
      },
      "execution_count": 21,
      "outputs": []
    },
    {
      "cell_type": "code",
      "source": [
        "A.dot(B)"
      ],
      "metadata": {
        "colab": {
          "base_uri": "https://localhost:8080/"
        },
        "id": "IOEDUHVQdRR6",
        "outputId": "a099aabd-b105-4fe6-9349-c38d3a7bbdb9"
      },
      "execution_count": 22,
      "outputs": [
        {
          "output_type": "execute_result",
          "data": {
            "text/plain": [
              "array([[ -1,  -1],\n",
              "       [ 15, -25]])"
            ]
          },
          "metadata": {},
          "execution_count": 22
        }
      ]
    },
    {
      "cell_type": "code",
      "source": [
        "A @ B"
      ],
      "metadata": {
        "colab": {
          "base_uri": "https://localhost:8080/"
        },
        "id": "nKkPeqvhdUfY",
        "outputId": "b7b20c47-c636-4ed4-c7d2-303febf78aad"
      },
      "execution_count": 23,
      "outputs": [
        {
          "output_type": "execute_result",
          "data": {
            "text/plain": [
              "array([[ -1,  -1],\n",
              "       [ 15, -25]])"
            ]
          },
          "metadata": {},
          "execution_count": 23
        }
      ]
    },
    {
      "cell_type": "code",
      "source": [
        "B @ A"
      ],
      "metadata": {
        "colab": {
          "base_uri": "https://localhost:8080/"
        },
        "id": "la6VxJSkdppZ",
        "outputId": "d75690f2-f9fd-49f3-fcd7-f4f1519f24f0"
      },
      "execution_count": 24,
      "outputs": [
        {
          "output_type": "execute_result",
          "data": {
            "text/plain": [
              "array([[ -1,   5],\n",
              "       [ -3, -25]])"
            ]
          },
          "metadata": {},
          "execution_count": 24
        }
      ]
    },
    {
      "cell_type": "markdown",
      "source": [
        "###### Sympy"
      ],
      "metadata": {
        "id": "IppfD8NKdjTx"
      }
    },
    {
      "cell_type": "code",
      "source": [
        "A = sym.Matrix(A)\n",
        "B = sym.Matrix(B)"
      ],
      "metadata": {
        "id": "_tWK8PoudmYC"
      },
      "execution_count": 25,
      "outputs": []
    },
    {
      "cell_type": "code",
      "source": [
        "A"
      ],
      "metadata": {
        "colab": {
          "base_uri": "https://localhost:8080/",
          "height": 58
        },
        "id": "5z8hcC_Yd0Hm",
        "outputId": "7b0463ec-99d2-490d-dfc4-a071ab3b9ee3"
      },
      "execution_count": 26,
      "outputs": [
        {
          "output_type": "execute_result",
          "data": {
            "text/plain": [
              "Matrix([\n",
              "[-1, 0],\n",
              "[ 0, 5]])"
            ],
            "text/latex": "$\\displaystyle \\left[\\begin{matrix}-1 & 0\\\\0 & 5\\end{matrix}\\right]$"
          },
          "metadata": {},
          "execution_count": 26
        }
      ]
    },
    {
      "cell_type": "code",
      "source": [
        "B"
      ],
      "metadata": {
        "colab": {
          "base_uri": "https://localhost:8080/",
          "height": 58
        },
        "id": "b27G7gKSd1KA",
        "outputId": "9ad78b4e-2ca8-47fe-986d-c71845be77d2"
      },
      "execution_count": 27,
      "outputs": [
        {
          "output_type": "execute_result",
          "data": {
            "text/plain": [
              "Matrix([\n",
              "[1,  1],\n",
              "[3, -5]])"
            ],
            "text/latex": "$\\displaystyle \\left[\\begin{matrix}1 & 1\\\\3 & -5\\end{matrix}\\right]$"
          },
          "metadata": {},
          "execution_count": 27
        }
      ]
    },
    {
      "cell_type": "code",
      "source": [
        "A * B"
      ],
      "metadata": {
        "colab": {
          "base_uri": "https://localhost:8080/",
          "height": 58
        },
        "id": "kWJctEeSd11x",
        "outputId": "ec36d130-c14c-477b-a56e-1f5830a5c121"
      },
      "execution_count": 28,
      "outputs": [
        {
          "output_type": "execute_result",
          "data": {
            "text/plain": [
              "Matrix([\n",
              "[-1,  -1],\n",
              "[15, -25]])"
            ],
            "text/latex": "$\\displaystyle \\left[\\begin{matrix}-1 & -1\\\\15 & -25\\end{matrix}\\right]$"
          },
          "metadata": {},
          "execution_count": 28
        }
      ]
    },
    {
      "cell_type": "code",
      "source": [
        "B * A"
      ],
      "metadata": {
        "colab": {
          "base_uri": "https://localhost:8080/",
          "height": 58
        },
        "id": "4mDcnzI1eHQ5",
        "outputId": "c90c70ee-368b-4e45-c0af-05d95dadc26b"
      },
      "execution_count": 29,
      "outputs": [
        {
          "output_type": "execute_result",
          "data": {
            "text/plain": [
              "Matrix([\n",
              "[-1,   5],\n",
              "[-3, -25]])"
            ],
            "text/latex": "$\\displaystyle \\left[\\begin{matrix}-1 & 5\\\\-3 & -25\\end{matrix}\\right]$"
          },
          "metadata": {},
          "execution_count": 29
        }
      ]
    },
    {
      "cell_type": "markdown",
      "source": [
        "From this example, we can see that $A \\cdot B \\ne B \\cdot A$"
      ],
      "metadata": {
        "id": "2xo88J33eMAG"
      }
    },
    {
      "cell_type": "markdown",
      "source": [
        "##### Example\n",
        "\n",
        "Let \n",
        "$I_{2} = \n",
        "\\left(\\begin{matrix} \n",
        "1 & 0 \\\\\n",
        "0 & 1\n",
        "\\end{matrix}\\right)\n",
        "$ and let \n",
        "$\n",
        "A = \n",
        "\\left(\\begin{matrix} \n",
        "1 & 2 \\\\\n",
        "3 & 4\n",
        "\\end{matrix}\\right)\n",
        "$."
      ],
      "metadata": {
        "id": "eLdDNm94frYa"
      }
    },
    {
      "cell_type": "code",
      "source": [
        "I_2 = np.array([[1, 0], [0, 1]])\n",
        "A = np.array([[1, 2], [3, 4]])"
      ],
      "metadata": {
        "id": "I3fboUCigH36"
      },
      "execution_count": 30,
      "outputs": []
    },
    {
      "cell_type": "code",
      "source": [
        "I_2 @ A"
      ],
      "metadata": {
        "colab": {
          "base_uri": "https://localhost:8080/"
        },
        "id": "5ssYRW3lgSOq",
        "outputId": "46183651-a577-49bf-b3b5-0e522dc21855"
      },
      "execution_count": 31,
      "outputs": [
        {
          "output_type": "execute_result",
          "data": {
            "text/plain": [
              "array([[1, 2],\n",
              "       [3, 4]])"
            ]
          },
          "metadata": {},
          "execution_count": 31
        }
      ]
    },
    {
      "cell_type": "code",
      "source": [
        "A @ I_2"
      ],
      "metadata": {
        "colab": {
          "base_uri": "https://localhost:8080/"
        },
        "id": "W2Z0EJfagZNy",
        "outputId": "b9c4afe9-fd3d-4f80-e720-0e535514e918"
      },
      "execution_count": 32,
      "outputs": [
        {
          "output_type": "execute_result",
          "data": {
            "text/plain": [
              "array([[1, 2],\n",
              "       [3, 4]])"
            ]
          },
          "metadata": {},
          "execution_count": 32
        }
      ]
    },
    {
      "cell_type": "markdown",
      "source": [
        "Note that $I_{2} \\cdot A = A$ and also that $A \\cdot I_{2} = A$."
      ],
      "metadata": {
        "id": "e2to0_qHgdpU"
      }
    },
    {
      "cell_type": "markdown",
      "source": [
        "#### Example"
      ],
      "metadata": {
        "id": "Xcn9s3RkiZPy"
      }
    },
    {
      "cell_type": "code",
      "source": [
        "a, b, c, d = sym.symbols('a b c d')\n",
        "A = sym.Matrix([[a, b], [c, d]])\n",
        "I_2 = sym.Matrix(I_2)"
      ],
      "metadata": {
        "id": "Uj70l8muid2h"
      },
      "execution_count": 33,
      "outputs": []
    },
    {
      "cell_type": "code",
      "source": [
        "A * I_2 == A, I_2 * A == A"
      ],
      "metadata": {
        "colab": {
          "base_uri": "https://localhost:8080/"
        },
        "id": "E5Rvq8hSiw5d",
        "outputId": "db966fab-bdf1-429b-9239-c794ec3249bb"
      },
      "execution_count": 34,
      "outputs": [
        {
          "output_type": "execute_result",
          "data": {
            "text/plain": [
              "(True, True)"
            ]
          },
          "metadata": {},
          "execution_count": 34
        }
      ]
    },
    {
      "cell_type": "markdown",
      "source": [
        "##### Remark\n",
        "\n",
        "The matrix\n",
        "$I_{2} = \n",
        "\\left(\\begin{matrix} \n",
        "1 & 0 \\\\\n",
        "0 & 1\n",
        "\\end{matrix}\\right)\n",
        "$\n",
        "acts as an identity elment for any $2 \\times 2$ matrix $A$. In fact, it can be shown that $I_{2} \\cdot A = A \\cdot I_{2} = A$ for all $2 \\times 2$ matrices."
      ],
      "metadata": {
        "id": "cREPFF72jHdm"
      }
    },
    {
      "cell_type": "markdown",
      "source": [
        "#### Theorem\n",
        "\n",
        "Let $I_n$ by the $n \\times n$ matrix defined by \n",
        "$I_{n} = \n",
        "\\left(\\begin{matrix} \n",
        "1 & 0 & 0 & \\dots & 0 \\\\\n",
        "0 & 1 & 0 & \\dots & 0 \\\\\n",
        "0 & 0 & 1 & \\dots & 0 \\\\\n",
        "\\vdots & \\vdots & \\vdots & \\ddots & \\vdots \\\\\n",
        "0 & 0 & 0 & \\dots & 1 \n",
        "\\end{matrix}\\right)\n",
        "$\n",
        "\n",
        "Then for any $n \\times n$ matrix $A$, \n",
        "\n",
        "$I_{n} \\cdot A$ = $A \\cdot I_{n} = A$."
      ],
      "metadata": {
        "id": "M6SU_I67kb0s"
      }
    },
    {
      "cell_type": "markdown",
      "source": [
        "##### Definition: Identity Matrix\n",
        "\n",
        "The matrix $I_{n}$ is called the **identity matrix** for the set of $n \\times n$ matrrices. \n",
        "\n",
        "We will simply write $I$ for $I_{n}$ when this is unlikely to cause confusion. "
      ],
      "metadata": {
        "id": "1_NcXpHCmR8h"
      }
    },
    {
      "cell_type": "markdown",
      "source": [
        "## 1.2.2.3 A Practical Example of Matrix Multiplication"
      ],
      "metadata": {
        "id": "e6Dzdc8zmzGh"
      }
    },
    {
      "cell_type": "markdown",
      "source": [
        "### Problem\n",
        "\n",
        "- You only have time to visit one store\n",
        "- You have choice of three supermarkets: A, B, C\n",
        "- You need: Broccoli (2.5 pounds), tomatoes (4 pounds), carrots (2 pounds)\n",
        "- Your goal is to spend as little money as possible\n",
        "- Prices, per pound, are shown in the table below"
      ],
      "metadata": {
        "id": "qIInbEGvVvqp"
      }
    },
    {
      "cell_type": "markdown",
      "source": [
        "\n",
        "|Supermarket|Broccoli|Tomatoes|Carrots|\n",
        "|-|-|-|-|\n",
        "|A|\\$1.49|\\$3.99|\\$2.49|\n",
        "|B|\\$1.69|\\$2.49|\\$1.69|\n",
        "|C|\\$1.04|\\$3.52|\\$1.28|\n",
        " "
      ],
      "metadata": {
        "id": "lzM6BKBVWvUI"
      }
    },
    {
      "cell_type": "markdown",
      "source": [
        "To find the best shopping option, simply find $P \\cdot A$ and pick the smallest number in the product.\n",
        "\n",
        "$$\n",
        "\\begin{align}\n",
        "P \\cdot A &= \n",
        "\\left(\\begin{matrix}\n",
        "1.49 & 3.99 & 2.49 \\\\\n",
        "1.69 & 2.49 & 1.69 \\\\\n",
        "1.04 & 3.52 & 1.28 \n",
        "\\end{matrix}\\right)\n",
        "\\left(\\begin{matrix}\n",
        "2.5 \\\\\n",
        "4 \\\\\n",
        "2\n",
        "\\end{matrix}\\right) \\\\ &= \n",
        "\\left(\\begin{matrix} \n",
        "24.665 \\\\\n",
        "17.565 \\\\\n",
        "19.24\n",
        "\\end{matrix}\\right)\n",
        "\\end{align}\n",
        "$$\n",
        "\n",
        "$\\therefore$ I should go to supermarket B, where it will cost about $\\$17.57$ for the items I need."
      ],
      "metadata": {
        "id": "7q01KpwabrH1"
      }
    },
    {
      "cell_type": "code",
      "source": [
        "# Prices, per pound \n",
        "P = np.array([[1.49, 3.99, 2.49],\n",
        "              [1.69, 2.49, 1.69],\n",
        "              [1.04, 3.52, 1.28]])\n",
        "\n",
        "# Qauntities needed\n",
        "Q = np.array([2.5, 4, 2]).reshape(3, 1)"
      ],
      "metadata": {
        "id": "BKsHnBKRYpKt"
      },
      "execution_count": 35,
      "outputs": []
    },
    {
      "cell_type": "code",
      "source": [
        "P @ Q"
      ],
      "metadata": {
        "colab": {
          "base_uri": "https://localhost:8080/"
        },
        "id": "JrYuW6PYZl2s",
        "outputId": "046f526a-44c4-430b-8ecc-a677dfe1f1b5"
      },
      "execution_count": 36,
      "outputs": [
        {
          "output_type": "execute_result",
          "data": {
            "text/plain": [
              "array([[24.665],\n",
              "       [17.565],\n",
              "       [19.24 ]])"
            ]
          },
          "metadata": {},
          "execution_count": 36
        }
      ]
    },
    {
      "cell_type": "code",
      "source": [
        "P.dot(Q)"
      ],
      "metadata": {
        "colab": {
          "base_uri": "https://localhost:8080/"
        },
        "id": "aL60wI3yZ5GM",
        "outputId": "42ddf700-52b1-4110-b749-a236dcd489fa"
      },
      "execution_count": 37,
      "outputs": [
        {
          "output_type": "execute_result",
          "data": {
            "text/plain": [
              "array([[24.665],\n",
              "       [17.565],\n",
              "       [19.24 ]])"
            ]
          },
          "metadata": {},
          "execution_count": 37
        }
      ]
    },
    {
      "cell_type": "code",
      "source": [
        "P = sym.Matrix(P)\n",
        "Q = sym.Matrix(Q)\n",
        "P * Q"
      ],
      "metadata": {
        "colab": {
          "base_uri": "https://localhost:8080/",
          "height": 78
        },
        "id": "1Tz3sa4faBMC",
        "outputId": "8fee2967-dc93-4f42-ed4b-3591e2cf3753"
      },
      "execution_count": 38,
      "outputs": [
        {
          "output_type": "execute_result",
          "data": {
            "text/plain": [
              "Matrix([\n",
              "[24.665],\n",
              "[17.565],\n",
              "[ 19.24]])"
            ],
            "text/latex": "$\\displaystyle \\left[\\begin{matrix}24.665\\\\17.565\\\\19.24\\end{matrix}\\right]$"
          },
          "metadata": {},
          "execution_count": 38
        }
      ]
    },
    {
      "cell_type": "markdown",
      "source": [
        "## 1.2.2.4 Using Matrix Algebra in Python"
      ],
      "metadata": {
        "id": "Wtr5BpjHg-o5"
      }
    },
    {
      "cell_type": "code",
      "source": [
        "L = np.linspace(-8, 8, 9)\n",
        "M = L.reshape(3, 3)\n",
        "M"
      ],
      "metadata": {
        "colab": {
          "base_uri": "https://localhost:8080/"
        },
        "id": "NtrHi0a4kkpw",
        "outputId": "0a442ebb-e406-4851-e34d-b91239cc6252"
      },
      "execution_count": 39,
      "outputs": [
        {
          "output_type": "execute_result",
          "data": {
            "text/plain": [
              "array([[-8., -6., -4.],\n",
              "       [-2.,  0.,  2.],\n",
              "       [ 4.,  6.,  8.]])"
            ]
          },
          "metadata": {},
          "execution_count": 39
        }
      ]
    },
    {
      "cell_type": "code",
      "source": [
        "N = np.random.randint(-8, 8, size=(3, 3))\n",
        "N"
      ],
      "metadata": {
        "colab": {
          "base_uri": "https://localhost:8080/"
        },
        "id": "DeboCsuOlYTP",
        "outputId": "0c5c3844-91d9-406f-d4ef-f25fe797774c"
      },
      "execution_count": 40,
      "outputs": [
        {
          "output_type": "execute_result",
          "data": {
            "text/plain": [
              "array([[-1,  7, -3],\n",
              "       [ 1, -6,  1],\n",
              "       [ 1,  3, -4]])"
            ]
          },
          "metadata": {},
          "execution_count": 40
        }
      ]
    },
    {
      "cell_type": "code",
      "source": [
        "A = np.array([[1, 2, 3],\n",
        "              [4, 5, 6]])\n",
        "B = np.array([[7, 2, -3],\n",
        "              [0, 1, 6]])"
      ],
      "metadata": {
        "id": "-lZ7vS-emx9e"
      },
      "execution_count": 41,
      "outputs": []
    },
    {
      "cell_type": "markdown",
      "source": [
        "### Multiplying Matrices"
      ],
      "metadata": {
        "id": "BDZ6NmYKjMWS"
      }
    },
    {
      "cell_type": "markdown",
      "source": [
        "#### NumPy"
      ],
      "metadata": {
        "id": "FIjObWB6l6N8"
      }
    },
    {
      "cell_type": "code",
      "source": [
        "np.matmul(M, N)"
      ],
      "metadata": {
        "colab": {
          "base_uri": "https://localhost:8080/"
        },
        "id": "uoM_zWLkmCZc",
        "outputId": "f796b9c9-9c35-442b-f337-cef1791cc696"
      },
      "execution_count": 42,
      "outputs": [
        {
          "output_type": "execute_result",
          "data": {
            "text/plain": [
              "array([[ -2., -32.,  34.],\n",
              "       [  4.,  -8.,  -2.],\n",
              "       [ 10.,  16., -38.]])"
            ]
          },
          "metadata": {},
          "execution_count": 42
        }
      ]
    },
    {
      "cell_type": "code",
      "source": [
        "np.dot(M, N)"
      ],
      "metadata": {
        "colab": {
          "base_uri": "https://localhost:8080/"
        },
        "id": "o3K8H4gkmHoB",
        "outputId": "da240bd1-f023-4a11-804e-c4154258dac1"
      },
      "execution_count": 43,
      "outputs": [
        {
          "output_type": "execute_result",
          "data": {
            "text/plain": [
              "array([[ -2., -32.,  34.],\n",
              "       [  4.,  -8.,  -2.],\n",
              "       [ 10.,  16., -38.]])"
            ]
          },
          "metadata": {},
          "execution_count": 43
        }
      ]
    },
    {
      "cell_type": "code",
      "source": [
        "M.dot(N)"
      ],
      "metadata": {
        "colab": {
          "base_uri": "https://localhost:8080/"
        },
        "id": "1qcCwVj1mPZ3",
        "outputId": "ec57fa23-1a04-4fd4-eb37-d071a55e0625"
      },
      "execution_count": 44,
      "outputs": [
        {
          "output_type": "execute_result",
          "data": {
            "text/plain": [
              "array([[ -2., -32.,  34.],\n",
              "       [  4.,  -8.,  -2.],\n",
              "       [ 10.,  16., -38.]])"
            ]
          },
          "metadata": {},
          "execution_count": 44
        }
      ]
    },
    {
      "cell_type": "code",
      "source": [
        "M @ N"
      ],
      "metadata": {
        "colab": {
          "base_uri": "https://localhost:8080/"
        },
        "id": "UIelMYkQmR-g",
        "outputId": "7efb1d3f-29f3-4c93-899f-bdb12ff935ee"
      },
      "execution_count": 45,
      "outputs": [
        {
          "output_type": "execute_result",
          "data": {
            "text/plain": [
              "array([[ -2., -32.,  34.],\n",
              "       [  4.,  -8.,  -2.],\n",
              "       [ 10.,  16., -38.]])"
            ]
          },
          "metadata": {},
          "execution_count": 45
        }
      ]
    },
    {
      "cell_type": "code",
      "source": [
        "A "
      ],
      "metadata": {
        "colab": {
          "base_uri": "https://localhost:8080/"
        },
        "id": "M5vx1lLUm45A",
        "outputId": "d734b571-51f5-4b20-fe29-501453f938a6"
      },
      "execution_count": 46,
      "outputs": [
        {
          "output_type": "execute_result",
          "data": {
            "text/plain": [
              "array([[1, 2, 3],\n",
              "       [4, 5, 6]])"
            ]
          },
          "metadata": {},
          "execution_count": 46
        }
      ]
    },
    {
      "cell_type": "code",
      "source": [
        "B"
      ],
      "metadata": {
        "colab": {
          "base_uri": "https://localhost:8080/"
        },
        "id": "buNa8--lngJY",
        "outputId": "908d210f-7220-4ba4-988c-07cab3d3389f"
      },
      "execution_count": 47,
      "outputs": [
        {
          "output_type": "execute_result",
          "data": {
            "text/plain": [
              "array([[ 7,  2, -3],\n",
              "       [ 0,  1,  6]])"
            ]
          },
          "metadata": {},
          "execution_count": 47
        }
      ]
    },
    {
      "cell_type": "code",
      "source": [
        "B.T"
      ],
      "metadata": {
        "colab": {
          "base_uri": "https://localhost:8080/"
        },
        "id": "6tImObFdnhs2",
        "outputId": "ab0de4de-c547-4150-ce42-9978d75fa267"
      },
      "execution_count": 48,
      "outputs": [
        {
          "output_type": "execute_result",
          "data": {
            "text/plain": [
              "array([[ 7,  0],\n",
              "       [ 2,  1],\n",
              "       [-3,  6]])"
            ]
          },
          "metadata": {},
          "execution_count": 48
        }
      ]
    },
    {
      "cell_type": "code",
      "source": [
        "A.shape, B.T.shape"
      ],
      "metadata": {
        "colab": {
          "base_uri": "https://localhost:8080/"
        },
        "id": "xw5AC8wjnnTE",
        "outputId": "178ce552-9c1e-4f8e-cd9c-f0d0f5b5c941"
      },
      "execution_count": 49,
      "outputs": [
        {
          "output_type": "execute_result",
          "data": {
            "text/plain": [
              "((2, 3), (3, 2))"
            ]
          },
          "metadata": {},
          "execution_count": 49
        }
      ]
    },
    {
      "cell_type": "code",
      "source": [
        "A.dot(B.T)"
      ],
      "metadata": {
        "colab": {
          "base_uri": "https://localhost:8080/"
        },
        "id": "84kTXJAMnrY6",
        "outputId": "eeb69db0-99b2-43ce-96e9-658fc0c4f7aa"
      },
      "execution_count": 50,
      "outputs": [
        {
          "output_type": "execute_result",
          "data": {
            "text/plain": [
              "array([[ 2, 20],\n",
              "       [20, 41]])"
            ]
          },
          "metadata": {},
          "execution_count": 50
        }
      ]
    },
    {
      "cell_type": "markdown",
      "source": [
        "#### SymPy"
      ],
      "metadata": {
        "id": "KLxf9XCMoDWl"
      }
    },
    {
      "cell_type": "code",
      "source": [
        "sM = sym.Matrix(M)\n",
        "sN = sym.Matrix(N)\n",
        "sA = sym.Matrix(A)\n",
        "sB = sym.Matrix(B)"
      ],
      "metadata": {
        "id": "RwJHJzjFoGta"
      },
      "execution_count": 51,
      "outputs": []
    },
    {
      "cell_type": "code",
      "source": [
        "sM * sN"
      ],
      "metadata": {
        "colab": {
          "base_uri": "https://localhost:8080/",
          "height": 78
        },
        "id": "qDniiNPkoWVA",
        "outputId": "64912a30-a52d-42fa-90a4-ce7810783c8a"
      },
      "execution_count": 52,
      "outputs": [
        {
          "output_type": "execute_result",
          "data": {
            "text/plain": [
              "Matrix([\n",
              "[-2.0, -32.0,  34.0],\n",
              "[ 4.0,  -8.0,  -2.0],\n",
              "[10.0,  16.0, -38.0]])"
            ],
            "text/latex": "$\\displaystyle \\left[\\begin{matrix}-2.0 & -32.0 & 34.0\\\\4.0 & -8.0 & -2.0\\\\10.0 & 16.0 & -38.0\\end{matrix}\\right]$"
          },
          "metadata": {},
          "execution_count": 52
        }
      ]
    },
    {
      "cell_type": "code",
      "source": [
        "sA * sB.T"
      ],
      "metadata": {
        "colab": {
          "base_uri": "https://localhost:8080/",
          "height": 58
        },
        "id": "OKTF5LsuoaBg",
        "outputId": "69b5a20b-8954-4eac-d61f-4a95a684125f"
      },
      "execution_count": 53,
      "outputs": [
        {
          "output_type": "execute_result",
          "data": {
            "text/plain": [
              "Matrix([\n",
              "[ 2, 20],\n",
              "[20, 41]])"
            ],
            "text/latex": "$\\displaystyle \\left[\\begin{matrix}2 & 20\\\\20 & 41\\end{matrix}\\right]$"
          },
          "metadata": {},
          "execution_count": 53
        }
      ]
    },
    {
      "cell_type": "markdown",
      "source": [
        "### Calculating Matrix Determinant"
      ],
      "metadata": {
        "id": "Lac_vTAYpF5G"
      }
    },
    {
      "cell_type": "markdown",
      "source": [
        "#### NumPy"
      ],
      "metadata": {
        "id": "xMp22Y-ArOyC"
      }
    },
    {
      "cell_type": "code",
      "source": [
        "np.linalg.det(M)"
      ],
      "metadata": {
        "colab": {
          "base_uri": "https://localhost:8080/"
        },
        "id": "ywGRUNXmrNZ6",
        "outputId": "0e1b9630-83b7-43c0-e8c8-b83c0b508d28"
      },
      "execution_count": 54,
      "outputs": [
        {
          "output_type": "execute_result",
          "data": {
            "text/plain": [
              "0.0"
            ]
          },
          "metadata": {},
          "execution_count": 54
        }
      ]
    },
    {
      "cell_type": "code",
      "source": [
        "np.linalg.det(N)"
      ],
      "metadata": {
        "colab": {
          "base_uri": "https://localhost:8080/"
        },
        "id": "2DCsGISAreHO",
        "outputId": "84eb7012-4c26-46b6-ba85-0d88ad9f6932"
      },
      "execution_count": 55,
      "outputs": [
        {
          "output_type": "execute_result",
          "data": {
            "text/plain": [
              "-13.0"
            ]
          },
          "metadata": {},
          "execution_count": 55
        }
      ]
    },
    {
      "cell_type": "markdown",
      "source": [
        "#### SciPy"
      ],
      "metadata": {
        "id": "4VBZnUs9rqy9"
      }
    },
    {
      "cell_type": "code",
      "source": [
        "import scipy.linalg as la"
      ],
      "metadata": {
        "id": "wdDqFF29rttX"
      },
      "execution_count": 56,
      "outputs": []
    },
    {
      "cell_type": "code",
      "source": [
        "la.det(M)"
      ],
      "metadata": {
        "colab": {
          "base_uri": "https://localhost:8080/"
        },
        "id": "bX-CWspcskPu",
        "outputId": "7c75a572-0078-404c-c7b0-9878603341cb"
      },
      "execution_count": 57,
      "outputs": [
        {
          "output_type": "execute_result",
          "data": {
            "text/plain": [
              "0.0"
            ]
          },
          "metadata": {},
          "execution_count": 57
        }
      ]
    },
    {
      "cell_type": "code",
      "source": [
        "la.det(N)"
      ],
      "metadata": {
        "colab": {
          "base_uri": "https://localhost:8080/"
        },
        "id": "FrXKBHiksmjg",
        "outputId": "d23f94db-e80e-4d22-e736-0a35373085ac"
      },
      "execution_count": 58,
      "outputs": [
        {
          "output_type": "execute_result",
          "data": {
            "text/plain": [
              "-12.999999999999996"
            ]
          },
          "metadata": {},
          "execution_count": 58
        }
      ]
    },
    {
      "cell_type": "markdown",
      "source": [
        "#### SymPy"
      ],
      "metadata": {
        "id": "aoT7Y0PasqNL"
      }
    },
    {
      "cell_type": "code",
      "source": [
        "sym.det(sM)"
      ],
      "metadata": {
        "colab": {
          "base_uri": "https://localhost:8080/",
          "height": 37
        },
        "id": "uQfcBj91stfN",
        "outputId": "03ba2015-5973-449f-f4db-852d52df58ff"
      },
      "execution_count": 59,
      "outputs": [
        {
          "output_type": "execute_result",
          "data": {
            "text/plain": [
              "0"
            ],
            "text/latex": "$\\displaystyle 0$"
          },
          "metadata": {},
          "execution_count": 59
        }
      ]
    },
    {
      "cell_type": "code",
      "source": [
        "sM.det()"
      ],
      "metadata": {
        "colab": {
          "base_uri": "https://localhost:8080/",
          "height": 37
        },
        "id": "muI5WPOOs1by",
        "outputId": "ddb01606-123c-471d-cee4-ec1c99521e89"
      },
      "execution_count": 60,
      "outputs": [
        {
          "output_type": "execute_result",
          "data": {
            "text/plain": [
              "0"
            ],
            "text/latex": "$\\displaystyle 0$"
          },
          "metadata": {},
          "execution_count": 60
        }
      ]
    },
    {
      "cell_type": "code",
      "source": [
        "sym.det(sN)"
      ],
      "metadata": {
        "colab": {
          "base_uri": "https://localhost:8080/",
          "height": 37
        },
        "id": "2Pr5LMa6s3ic",
        "outputId": "183fc76a-da66-423d-dc9c-f7b003af697d"
      },
      "execution_count": 61,
      "outputs": [
        {
          "output_type": "execute_result",
          "data": {
            "text/plain": [
              "-13"
            ],
            "text/latex": "$\\displaystyle -13$"
          },
          "metadata": {},
          "execution_count": 61
        }
      ]
    },
    {
      "cell_type": "code",
      "source": [
        "sN.det()"
      ],
      "metadata": {
        "colab": {
          "base_uri": "https://localhost:8080/",
          "height": 37
        },
        "id": "YAcXi_P_s6Wg",
        "outputId": "4dacb886-53fb-4594-cc4f-4438b317753f"
      },
      "execution_count": 62,
      "outputs": [
        {
          "output_type": "execute_result",
          "data": {
            "text/plain": [
              "-13"
            ],
            "text/latex": "$\\displaystyle -13$"
          },
          "metadata": {},
          "execution_count": 62
        }
      ]
    },
    {
      "cell_type": "markdown",
      "source": [
        "### Inverse of a Matrix"
      ],
      "metadata": {
        "id": "gg93SIg5uRKV"
      }
    },
    {
      "cell_type": "markdown",
      "source": [
        "#### NumPy"
      ],
      "metadata": {
        "id": "iwL0v855uWJZ"
      }
    },
    {
      "cell_type": "code",
      "source": [
        "np.linalg.inv(N)"
      ],
      "metadata": {
        "colab": {
          "base_uri": "https://localhost:8080/"
        },
        "id": "0keZ1kmJuYqo",
        "outputId": "228a4554-ce73-4c90-baec-48e799f77c38"
      },
      "execution_count": 63,
      "outputs": [
        {
          "output_type": "execute_result",
          "data": {
            "text/plain": [
              "array([[-1.61538462, -1.46153846,  0.84615385],\n",
              "       [-0.38461538, -0.53846154,  0.15384615],\n",
              "       [-0.69230769, -0.76923077,  0.07692308]])"
            ]
          },
          "metadata": {},
          "execution_count": 63
        }
      ]
    },
    {
      "cell_type": "markdown",
      "source": [
        "#### SymPy"
      ],
      "metadata": {
        "id": "NmLUnF-duhsV"
      }
    },
    {
      "cell_type": "code",
      "source": [
        "sN.inv()"
      ],
      "metadata": {
        "colab": {
          "base_uri": "https://localhost:8080/",
          "height": 79
        },
        "id": "yah79iXmul7i",
        "outputId": "584751e2-086e-4b10-e5b0-b1a2cac241c6"
      },
      "execution_count": 64,
      "outputs": [
        {
          "output_type": "execute_result",
          "data": {
            "text/plain": [
              "Matrix([\n",
              "[-21/13, -19/13, 11/13],\n",
              "[ -5/13,  -7/13,  2/13],\n",
              "[ -9/13, -10/13,  1/13]])"
            ],
            "text/latex": "$\\displaystyle \\left[\\begin{matrix}- \\frac{21}{13} & - \\frac{19}{13} & \\frac{11}{13}\\\\- \\frac{5}{13} & - \\frac{7}{13} & \\frac{2}{13}\\\\- \\frac{9}{13} & - \\frac{10}{13} & \\frac{1}{13}\\end{matrix}\\right]$"
          },
          "metadata": {},
          "execution_count": 64
        }
      ]
    },
    {
      "cell_type": "code",
      "source": [
        "sN.inv().evalf()"
      ],
      "metadata": {
        "colab": {
          "base_uri": "https://localhost:8080/",
          "height": 78
        },
        "id": "VCqoGSJtu2gl",
        "outputId": "c0411289-94cd-4fc6-fa47-b08e50b643c6"
      },
      "execution_count": 65,
      "outputs": [
        {
          "output_type": "execute_result",
          "data": {
            "text/plain": [
              "Matrix([\n",
              "[ -1.61538461538462,  -1.46153846153846,  0.846153846153846],\n",
              "[-0.384615384615385, -0.538461538461538,  0.153846153846154],\n",
              "[-0.692307692307692, -0.769230769230769, 0.0769230769230769]])"
            ],
            "text/latex": "$\\displaystyle \\left[\\begin{matrix}-1.61538461538462 & -1.46153846153846 & 0.846153846153846\\\\-0.384615384615385 & -0.538461538461538 & 0.153846153846154\\\\-0.692307692307692 & -0.769230769230769 & 0.0769230769230769\\end{matrix}\\right]$"
          },
          "metadata": {},
          "execution_count": 65
        }
      ]
    },
    {
      "cell_type": "code",
      "source": [
        "sN**-1"
      ],
      "metadata": {
        "colab": {
          "base_uri": "https://localhost:8080/",
          "height": 79
        },
        "id": "RXy4K25Tu6ib",
        "outputId": "383bbb61-a9b6-41f4-a50f-7ad4b65d5ef5"
      },
      "execution_count": 66,
      "outputs": [
        {
          "output_type": "execute_result",
          "data": {
            "text/plain": [
              "Matrix([\n",
              "[-21/13, -19/13, 11/13],\n",
              "[ -5/13,  -7/13,  2/13],\n",
              "[ -9/13, -10/13,  1/13]])"
            ],
            "text/latex": "$\\displaystyle \\left[\\begin{matrix}- \\frac{21}{13} & - \\frac{19}{13} & \\frac{11}{13}\\\\- \\frac{5}{13} & - \\frac{7}{13} & \\frac{2}{13}\\\\- \\frac{9}{13} & - \\frac{10}{13} & \\frac{1}{13}\\end{matrix}\\right]$"
          },
          "metadata": {},
          "execution_count": 66
        }
      ]
    },
    {
      "cell_type": "markdown",
      "source": [
        "## 1.2.2.5 Practice Quiz"
      ],
      "metadata": {
        "id": "x7A2SxuCwgUd"
      }
    }
  ]
}