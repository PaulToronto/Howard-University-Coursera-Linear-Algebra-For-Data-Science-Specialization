{
  "nbformat": 4,
  "nbformat_minor": 0,
  "metadata": {
    "colab": {
      "provenance": [],
      "collapsed_sections": [],
      "toc_visible": true,
      "authorship_tag": "ABX9TyM3Rq+NPtF4G2hK0JCdMJlG",
      "include_colab_link": true
    },
    "kernelspec": {
      "name": "python3",
      "display_name": "Python 3"
    },
    "language_info": {
      "name": "python"
    }
  },
  "cells": [
    {
      "cell_type": "markdown",
      "metadata": {
        "id": "view-in-github",
        "colab_type": "text"
      },
      "source": [
        "<a href=\"https://colab.research.google.com/github/PaulToronto/Howard-University-Coursera-Linear-Algebra-For-Data-Science-Specialization/blob/main/1_2_2_Matrix_Algebra.ipynb\" target=\"_parent\"><img src=\"https://colab.research.google.com/assets/colab-badge.svg\" alt=\"Open In Colab\"/></a>"
      ]
    },
    {
      "cell_type": "markdown",
      "source": [
        "# 1.2.2 Matrix Algebra"
      ],
      "metadata": {
        "id": "S59dgsWpeRZr"
      }
    },
    {
      "cell_type": "code",
      "execution_count": 1,
      "metadata": {
        "id": "RiRZnIowdrjN"
      },
      "outputs": [],
      "source": [
        "import numpy as np\n",
        "import sympy as sym\n",
        "import scipy as sci"
      ]
    },
    {
      "cell_type": "markdown",
      "source": [
        "## 1.2.2.1 Matrix Addition"
      ],
      "metadata": {
        "id": "kO5FQPUeedwf"
      }
    },
    {
      "cell_type": "markdown",
      "source": [
        "### Definition\n",
        "\n",
        "Two matrices are **equal** if they are the same shape and the corresponding entries are equal."
      ],
      "metadata": {
        "id": "iC-ZIGE5gYZL"
      }
    },
    {
      "cell_type": "markdown",
      "source": [
        "#### Example\n",
        "\n",
        "Find $x$ so that the matrices $A$ and $B$ are equal."
      ],
      "metadata": {
        "id": "MuHwYeoQg5Ur"
      }
    },
    {
      "cell_type": "code",
      "source": [
        "x = sym.symbols('x')"
      ],
      "metadata": {
        "id": "3fCH-RMUhbvi"
      },
      "execution_count": 2,
      "outputs": []
    },
    {
      "cell_type": "code",
      "source": [
        "A = sym.Matrix([[-1, 0, 5],\n",
        "                [0, 5, 6]])\n",
        "A"
      ],
      "metadata": {
        "colab": {
          "base_uri": "https://localhost:8080/",
          "height": 58
        },
        "id": "vj_HI2i6hFMY",
        "outputId": "30718650-2e84-4ceb-8b31-7b9ccfa3e458"
      },
      "execution_count": 3,
      "outputs": [
        {
          "output_type": "execute_result",
          "data": {
            "text/plain": [
              "Matrix([\n",
              "[-1, 0, 5],\n",
              "[ 0, 5, 6]])"
            ],
            "text/latex": "$\\displaystyle \\left[\\begin{matrix}-1 & 0 & 5\\\\0 & 5 & 6\\end{matrix}\\right]$"
          },
          "metadata": {},
          "execution_count": 3
        }
      ]
    },
    {
      "cell_type": "code",
      "source": [
        "B = sym.Matrix([[-1, 0, x + 1],\n",
        "                [0, 5, 6]])\n",
        "B"
      ],
      "metadata": {
        "colab": {
          "base_uri": "https://localhost:8080/",
          "height": 58
        },
        "id": "0Ww8MMqveibi",
        "outputId": "112a1dbd-7ca9-4c09-8d3c-18fe4bb761a3"
      },
      "execution_count": 4,
      "outputs": [
        {
          "output_type": "execute_result",
          "data": {
            "text/plain": [
              "Matrix([\n",
              "[-1, 0, x + 1],\n",
              "[ 0, 5,     6]])"
            ],
            "text/latex": "$\\displaystyle \\left[\\begin{matrix}-1 & 0 & x + 1\\\\0 & 5 & 6\\end{matrix}\\right]$"
          },
          "metadata": {},
          "execution_count": 4
        }
      ]
    },
    {
      "cell_type": "code",
      "source": [
        "sym.solve(x + 1 - 5)"
      ],
      "metadata": {
        "colab": {
          "base_uri": "https://localhost:8080/"
        },
        "id": "SDY6lJSGhnBg",
        "outputId": "1ba535ce-ac77-4d8a-f0e2-364360a86b49"
      },
      "execution_count": 5,
      "outputs": [
        {
          "output_type": "execute_result",
          "data": {
            "text/plain": [
              "[4]"
            ]
          },
          "metadata": {},
          "execution_count": 5
        }
      ]
    },
    {
      "cell_type": "markdown",
      "source": [
        "$\\therefore$ The matrix $A$ is equal to $B$ when $x = 4$"
      ],
      "metadata": {
        "id": "eWFJnX2Mh0f_"
      }
    },
    {
      "cell_type": "markdown",
      "source": [
        "### Definition: Matrix Addition\n",
        "\n",
        "Let $A$ and $B$ be two $m \\times n$ matrices. then the sum of the two matrices, denoted by $A + B$ is the $m \\times n$ matrix, where the entries are $A + B$ are obtained by adding the corresponding entries of $A$ and $B$"
      ],
      "metadata": {
        "id": "wVoVGUxaiQIc"
      }
    },
    {
      "cell_type": "markdown",
      "source": [
        "#### Example\n",
        "\n",
        "Find $A + B$"
      ],
      "metadata": {
        "id": "KDFCusAMjsu1"
      }
    },
    {
      "cell_type": "code",
      "source": [
        "A = np.array([[-1, 0],\n",
        "              [0, 5],\n",
        "              [3, 0]])\n",
        "A"
      ],
      "metadata": {
        "colab": {
          "base_uri": "https://localhost:8080/"
        },
        "id": "Ev4w4RVoj2fn",
        "outputId": "9d521b2a-c604-4c70-a6cd-952b92e8f267"
      },
      "execution_count": 6,
      "outputs": [
        {
          "output_type": "execute_result",
          "data": {
            "text/plain": [
              "array([[-1,  0],\n",
              "       [ 0,  5],\n",
              "       [ 3,  0]])"
            ]
          },
          "metadata": {},
          "execution_count": 6
        }
      ]
    },
    {
      "cell_type": "code",
      "source": [
        "B = np.array([[1, 1],\n",
        "              [3, -5],\n",
        "              [1, 5]])\n",
        "B"
      ],
      "metadata": {
        "colab": {
          "base_uri": "https://localhost:8080/"
        },
        "id": "fHQD4t-HkI0k",
        "outputId": "7a6cb7e8-484a-49e9-b7db-a19b665f9cb5"
      },
      "execution_count": 7,
      "outputs": [
        {
          "output_type": "execute_result",
          "data": {
            "text/plain": [
              "array([[ 1,  1],\n",
              "       [ 3, -5],\n",
              "       [ 1,  5]])"
            ]
          },
          "metadata": {},
          "execution_count": 7
        }
      ]
    },
    {
      "cell_type": "code",
      "source": [
        "A + B"
      ],
      "metadata": {
        "colab": {
          "base_uri": "https://localhost:8080/"
        },
        "id": "mqfz6xmZkPeD",
        "outputId": "39e2971b-166a-485d-f875-235e9ce57b24"
      },
      "execution_count": 8,
      "outputs": [
        {
          "output_type": "execute_result",
          "data": {
            "text/plain": [
              "array([[0, 1],\n",
              "       [3, 0],\n",
              "       [4, 5]])"
            ]
          },
          "metadata": {},
          "execution_count": 8
        }
      ]
    },
    {
      "cell_type": "code",
      "source": [
        "sym.Matrix(A) + sym.Matrix(B)"
      ],
      "metadata": {
        "colab": {
          "base_uri": "https://localhost:8080/",
          "height": 78
        },
        "id": "M7IfjjTkkUtf",
        "outputId": "edb54f0a-ecff-4a38-9222-25d776fd3b7d"
      },
      "execution_count": 9,
      "outputs": [
        {
          "output_type": "execute_result",
          "data": {
            "text/plain": [
              "Matrix([\n",
              "[0, 1],\n",
              "[3, 0],\n",
              "[4, 5]])"
            ],
            "text/latex": "$\\displaystyle \\left[\\begin{matrix}0 & 1\\\\3 & 0\\\\4 & 5\\end{matrix}\\right]$"
          },
          "metadata": {},
          "execution_count": 9
        }
      ]
    },
    {
      "cell_type": "markdown",
      "source": [
        "### Definition: Scalar Multiplication\n",
        "\n",
        "Let $r$ be any real number (a **scalar**) and let $B$ be an $m \\times n$ matrix. Then $rB$ is the $m \\times n$ matrix determined by multiplying each entry of $B$ by the scalar $r$.\n",
        "\n",
        "#### Remark\n",
        "\n",
        "Let $A$ and $B$ be two matrices of the same size. Then\n",
        "\n",
        "- $-A = (-1)A$\n",
        "- $A - B = A + (-1)B$"
      ],
      "metadata": {
        "id": "cxL0_qMnkwkK"
      }
    },
    {
      "cell_type": "markdown",
      "source": [
        "#### Example\n",
        "\n",
        "Given matrices $A$ and $B$ below, find $2B$ and find $A - 2B$."
      ],
      "metadata": {
        "id": "hz-gmWtmnxIN"
      }
    },
    {
      "cell_type": "code",
      "source": [
        "A"
      ],
      "metadata": {
        "colab": {
          "base_uri": "https://localhost:8080/"
        },
        "id": "URV9wjbPk109",
        "outputId": "5540afe5-c834-4df5-c8b7-134f071a0d2f"
      },
      "execution_count": 10,
      "outputs": [
        {
          "output_type": "execute_result",
          "data": {
            "text/plain": [
              "array([[-1,  0],\n",
              "       [ 0,  5],\n",
              "       [ 3,  0]])"
            ]
          },
          "metadata": {},
          "execution_count": 10
        }
      ]
    },
    {
      "cell_type": "code",
      "source": [
        "B"
      ],
      "metadata": {
        "colab": {
          "base_uri": "https://localhost:8080/"
        },
        "id": "nNBQG0BZpVS7",
        "outputId": "193d2505-325e-42a9-bd23-88289fa5e5cc"
      },
      "execution_count": 11,
      "outputs": [
        {
          "output_type": "execute_result",
          "data": {
            "text/plain": [
              "array([[ 1,  1],\n",
              "       [ 3, -5],\n",
              "       [ 1,  5]])"
            ]
          },
          "metadata": {},
          "execution_count": 11
        }
      ]
    },
    {
      "cell_type": "code",
      "source": [
        "2 * B"
      ],
      "metadata": {
        "colab": {
          "base_uri": "https://localhost:8080/"
        },
        "id": "5RIhbE2SpV-5",
        "outputId": "30f9b145-5c65-4518-88c1-32c7ca339ef7"
      },
      "execution_count": 12,
      "outputs": [
        {
          "output_type": "execute_result",
          "data": {
            "text/plain": [
              "array([[  2,   2],\n",
              "       [  6, -10],\n",
              "       [  2,  10]])"
            ]
          },
          "metadata": {},
          "execution_count": 12
        }
      ]
    },
    {
      "cell_type": "code",
      "source": [
        "A - 2 * B"
      ],
      "metadata": {
        "colab": {
          "base_uri": "https://localhost:8080/"
        },
        "id": "z2VOj3MLpWZd",
        "outputId": "bac7dea6-752e-42cb-83ec-b922d94f1f98"
      },
      "execution_count": 13,
      "outputs": [
        {
          "output_type": "execute_result",
          "data": {
            "text/plain": [
              "array([[ -3,  -2],\n",
              "       [ -6,  15],\n",
              "       [  1, -10]])"
            ]
          },
          "metadata": {},
          "execution_count": 13
        }
      ]
    },
    {
      "cell_type": "code",
      "source": [
        "sym.Matrix(A) - 2 * sym.Matrix(B)"
      ],
      "metadata": {
        "colab": {
          "base_uri": "https://localhost:8080/",
          "height": 78
        },
        "id": "fcJj2_3YpgoK",
        "outputId": "73695f2f-dc91-44b3-bddb-06eded2b2957"
      },
      "execution_count": 14,
      "outputs": [
        {
          "output_type": "execute_result",
          "data": {
            "text/plain": [
              "Matrix([\n",
              "[-3,  -2],\n",
              "[-6,  15],\n",
              "[ 1, -10]])"
            ],
            "text/latex": "$\\displaystyle \\left[\\begin{matrix}-3 & -2\\\\-6 & 15\\\\1 & -10\\end{matrix}\\right]$"
          },
          "metadata": {},
          "execution_count": 14
        }
      ]
    },
    {
      "cell_type": "markdown",
      "source": [
        "### Theorem\n",
        "\n",
        "Let $A$, $B$, and $C$ be three matrices of the same size. Let $r$ and $s$ be two scalars. Then\n",
        "\n",
        "1. $A + B = B + A$ \n",
        "    - Commutative property of addition\n",
        "2. $A + (B + C) = (A + B) + C$ \n",
        "    - Associative property of addition\n",
        "3. $A + O = A$, where $O$ is the **zero matrix**\n",
        "    - Additive identity property\n",
        "4. $r(A + B) = rA + rB$ \n",
        "    - Distributive property\n",
        "5. $(r + s)A = rA + sA$ \n",
        "    - Distributive property\n",
        "6. $(rs)A = r(sA)$ \n",
        "    - Associative property of multiplication"
      ],
      "metadata": {
        "id": "9fUhC0EdqfO4"
      }
    },
    {
      "cell_type": "markdown",
      "source": [
        "## 1.2.2.2 Matrix Multiplication"
      ],
      "metadata": {
        "id": "9j61fAbttsCs"
      }
    },
    {
      "cell_type": "markdown",
      "source": [
        "### Definition\n",
        "\n",
        "Let \n",
        "$\n",
        "u = \\left(\\begin{matrix}\n",
        "u_{1} \\\\ \n",
        "u_{2} \\\\\n",
        "\\vdots \\\\\n",
        "u_{n}\n",
        "\\end{matrix}\\right)\n",
        "$ \n",
        "and \n",
        "$\n",
        "v = \\left(\\begin{matrix}\n",
        "v_{1} \\\\ \n",
        "v_{2} \\\\\n",
        "\\vdots \\\\\n",
        "v_{n}\n",
        "\\end{matrix}\\right)\n",
        "$ \n",
        "be two column vectors. Then the **inner product** or **dot product** of $u$ and $v$ is denoted by $u^{T} \\cdot v$."
      ],
      "metadata": {
        "id": "MEMbPYvGFtvz"
      }
    },
    {
      "cell_type": "markdown",
      "source": [
        "$\n",
        "\\begin{align}\n",
        "u^{T} \\cdot v \n",
        "&= \n",
        "\\left(\\begin{matrix}\n",
        "    u_{1} & u_{2} & \\dots & u_{n} \n",
        "\\end{matrix}\\right) \n",
        "\\cdot \n",
        "\\left(\\begin{matrix}\n",
        "    v_{1} \\\\ \n",
        "    v_{2} \\\\\n",
        "    \\vdots \\\\\n",
        "    v_{n}\n",
        "\\end{matrix}\\right) \\\\\n",
        "&= \n",
        "u_{1}v_{1} + u_{2}v_{2} + \\dots + u_{n}v_{n}\n",
        "\\end{align}\n",
        "$"
      ],
      "metadata": {
        "id": "9PtmArhRI4Gz"
      }
    },
    {
      "cell_type": "markdown",
      "source": [
        "#### Example"
      ],
      "metadata": {
        "id": "gXqZmdOjKi8O"
      }
    },
    {
      "cell_type": "code",
      "source": [
        "u = sym.Matrix([[1], [0], [-1], [5]])\n",
        "v = sym.Matrix([[2], [1], [0], [-1]])"
      ],
      "metadata": {
        "id": "5q7fFLdIKoO3"
      },
      "execution_count": 15,
      "outputs": []
    },
    {
      "cell_type": "code",
      "source": [
        "u.T * v"
      ],
      "metadata": {
        "colab": {
          "base_uri": "https://localhost:8080/",
          "height": 39
        },
        "id": "TVBdoOggLFnv",
        "outputId": "292fb160-6470-4086-c97e-8dbfbc19b29e"
      },
      "execution_count": 16,
      "outputs": [
        {
          "output_type": "execute_result",
          "data": {
            "text/plain": [
              "Matrix([[-3]])"
            ],
            "text/latex": "$\\displaystyle \\left[\\begin{matrix}-3\\end{matrix}\\right]$"
          },
          "metadata": {},
          "execution_count": 16
        }
      ]
    },
    {
      "cell_type": "code",
      "source": [
        "u.dot(v)"
      ],
      "metadata": {
        "colab": {
          "base_uri": "https://localhost:8080/",
          "height": 37
        },
        "id": "fDcxAkAYLO9r",
        "outputId": "5a1aee57-ae67-47e7-9f5a-76d1515f8ecd"
      },
      "execution_count": 17,
      "outputs": [
        {
          "output_type": "execute_result",
          "data": {
            "text/plain": [
              "-3"
            ],
            "text/latex": "$\\displaystyle -3$"
          },
          "metadata": {},
          "execution_count": 17
        }
      ]
    },
    {
      "cell_type": "code",
      "source": [
        "sum([u[i] * v[i] for i in range(4)])"
      ],
      "metadata": {
        "colab": {
          "base_uri": "https://localhost:8080/",
          "height": 37
        },
        "id": "v268D30cLRMl",
        "outputId": "77223bb8-f980-474a-d2e4-edd62e0e11d5"
      },
      "execution_count": 18,
      "outputs": [
        {
          "output_type": "execute_result",
          "data": {
            "text/plain": [
              "-3"
            ],
            "text/latex": "$\\displaystyle -3$"
          },
          "metadata": {},
          "execution_count": 18
        }
      ]
    },
    {
      "cell_type": "markdown",
      "source": [
        "#### Example\n",
        "\n",
        "We want to find $C = A \\cdot B = \n",
        "\\left(\\begin{matrix} \n",
        "1 & 1 \\\\\n",
        "1 & 0\n",
        "\\end{matrix}\\right) \\cdot \n",
        "\\left(\\begin{matrix}\n",
        "0 & 1 \\\\\n",
        "1 & 2\n",
        "\\end{matrix}\\right)$\n",
        "\n",
        "$C_{ij}$ is obtained by mutliplying the $i^{th}$ row of $A$ by the $j^{th}$ row if $B$"
      ],
      "metadata": {
        "id": "Yi9eRKsqM6jF"
      }
    },
    {
      "cell_type": "markdown",
      "source": [
        "$\n",
        "\\begin{align}\n",
        "C_{11} \n",
        "&= \n",
        "\\left(\\begin{matrix}\n",
        "    1 & 1\n",
        "\\end{matrix}\\right) \n",
        "\\cdot \n",
        "\\left(\\begin{matrix}\n",
        "    0 \\\\ \n",
        "    1\n",
        "\\end{matrix}\\right) \\\\\n",
        "&= 1 \\cdot 0 + 1 \\cdot 1 \\\\\n",
        "&= 1\n",
        "\\end{align}\n",
        "$\n",
        "\n",
        "$\n",
        "\\begin{align}\n",
        "C_{12} \n",
        "&= \n",
        "\\left(\\begin{matrix}\n",
        "    1 & 1\n",
        "\\end{matrix}\\right) \n",
        "\\cdot \n",
        "\\left(\\begin{matrix}\n",
        "    1 \\\\ \n",
        "    2\n",
        "\\end{matrix}\\right) \\\\\n",
        "&= 1 \\cdot 1 + 1 \\cdot 2 \\\\\n",
        "&= 1 + 2 \\\\\n",
        "&= 3\n",
        "\\end{align}\n",
        "$\n",
        "\n",
        "$\n",
        "\\begin{align}\n",
        "C_{21} \n",
        "&= \n",
        "\\left(\\begin{matrix}\n",
        "    1 & 0\n",
        "\\end{matrix}\\right) \n",
        "\\cdot \n",
        "\\left(\\begin{matrix}\n",
        "    0 \\\\ \n",
        "    1\n",
        "\\end{matrix}\\right) \\\\\n",
        "&= 1 \\cdot 0 + 0 \\cdot 1 \\\\\n",
        "&= 0\n",
        "\\end{align}\n",
        "$\n",
        "\n",
        "$\n",
        "\\begin{align}\n",
        "C_{22} \n",
        "&= \n",
        "\\left(\\begin{matrix}\n",
        "    1 & 0\n",
        "\\end{matrix}\\right) \n",
        "\\cdot \n",
        "\\left(\\begin{matrix}\n",
        "    1 \\\\ \n",
        "    2\n",
        "\\end{matrix}\\right) \\\\\n",
        "&= 1 \\cdot 1 + 2 \\cdot 2 \\\\\n",
        "&= 1\n",
        "\\end{align}\n",
        "$\n"
      ],
      "metadata": {
        "id": "bUYdosY0PG8G"
      }
    },
    {
      "cell_type": "markdown",
      "source": [
        "$\n",
        "\\therefore\n",
        "C = \n",
        "\\left(\\begin{matrix} \n",
        "1 & 3 \\\\\n",
        "0 & 1\n",
        "\\end{matrix}\\right)\n",
        "$"
      ],
      "metadata": {
        "id": "7x2IA8KdSQp1"
      }
    },
    {
      "cell_type": "code",
      "source": [
        "A = sym.Matrix([[1, 1], [1, 0]])\n",
        "B = sym.Matrix([[0, 1], [1, 2]])"
      ],
      "metadata": {
        "id": "v4jGKG2RPotj"
      },
      "execution_count": 19,
      "outputs": []
    },
    {
      "cell_type": "code",
      "source": [
        "A * B"
      ],
      "metadata": {
        "colab": {
          "base_uri": "https://localhost:8080/",
          "height": 58
        },
        "id": "DnRPc__zSxal",
        "outputId": "d2ddbe56-baa2-4714-aeb7-b04e3a707cb0"
      },
      "execution_count": 20,
      "outputs": [
        {
          "output_type": "execute_result",
          "data": {
            "text/plain": [
              "Matrix([\n",
              "[1, 3],\n",
              "[0, 1]])"
            ],
            "text/latex": "$\\displaystyle \\left[\\begin{matrix}1 & 3\\\\0 & 1\\end{matrix}\\right]$"
          },
          "metadata": {},
          "execution_count": 20
        }
      ]
    },
    {
      "cell_type": "markdown",
      "source": [
        "### Definition: Matrix Multiplication\n",
        "\n",
        "Let $A$ be and $m \\times n$ matrix with rows $r_{1}, r_{2}, \\dots, r_{m}$ and let $B$ be an $n \\times p$ matrix with columns $c_{1}, c_{2}, \\dots, c_{p}$.\n",
        "\n",
        "The the **product** of the two matrices, denoted by $A \\cdot B$ is the $m \\times p$ matrix, where the entry in the $i^{th}$ row and $j^{th}$ column is given by the dot product $r_{i} \\cdot c_{j}$, that is the dot product of the $i^{th}$ row of matrix $A$ and the $j^{th}$ column of matrix $B$."
      ],
      "metadata": {
        "id": "NqXEfWlIU05m"
      }
    },
    {
      "cell_type": "markdown",
      "source": [
        "#### Observation\n",
        "\n",
        "1. Matrix multiplication is **not commutative**. It may be the case that $A \\cdot B$ is not equal to $B \\cdot A$. \n",
        "2. In fact, it is possible that $A \\cdot B$ is defined, but $B \\cdot A$ is not defined. \n",
        "3. If $A$ and $B$ are square matrices of the same size, then both $A \\cdot B$ and $B \\cdot A$ exist, but they might not be equal to each other."
      ],
      "metadata": {
        "id": "1pLXyr4fbZ_E"
      }
    },
    {
      "cell_type": "markdown",
      "source": [
        "##### Example"
      ],
      "metadata": {
        "id": "bI2rOwELdbig"
      }
    },
    {
      "cell_type": "markdown",
      "source": [
        "###### Numpy"
      ],
      "metadata": {
        "id": "gGu_wgSIdfYI"
      }
    },
    {
      "cell_type": "code",
      "source": [
        "A = np.array([[-1, 0], [0, 5]])\n",
        "B = np.array([[1, 1], [3, -5]])"
      ],
      "metadata": {
        "id": "qnMlmKkbc61y"
      },
      "execution_count": 21,
      "outputs": []
    },
    {
      "cell_type": "code",
      "source": [
        "A.dot(B)"
      ],
      "metadata": {
        "colab": {
          "base_uri": "https://localhost:8080/"
        },
        "id": "IOEDUHVQdRR6",
        "outputId": "cca5f032-3cc7-4ef7-8efe-8d567d4320e2"
      },
      "execution_count": 22,
      "outputs": [
        {
          "output_type": "execute_result",
          "data": {
            "text/plain": [
              "array([[ -1,  -1],\n",
              "       [ 15, -25]])"
            ]
          },
          "metadata": {},
          "execution_count": 22
        }
      ]
    },
    {
      "cell_type": "code",
      "source": [
        "A @ B"
      ],
      "metadata": {
        "colab": {
          "base_uri": "https://localhost:8080/"
        },
        "id": "nKkPeqvhdUfY",
        "outputId": "7d313b6a-c7d6-4e49-b1dd-c8fa8d34a6cb"
      },
      "execution_count": 23,
      "outputs": [
        {
          "output_type": "execute_result",
          "data": {
            "text/plain": [
              "array([[ -1,  -1],\n",
              "       [ 15, -25]])"
            ]
          },
          "metadata": {},
          "execution_count": 23
        }
      ]
    },
    {
      "cell_type": "code",
      "source": [
        "B @ A"
      ],
      "metadata": {
        "colab": {
          "base_uri": "https://localhost:8080/"
        },
        "id": "la6VxJSkdppZ",
        "outputId": "48cc5fb7-c610-4e36-8fa4-8f0f18f54bba"
      },
      "execution_count": 24,
      "outputs": [
        {
          "output_type": "execute_result",
          "data": {
            "text/plain": [
              "array([[ -1,   5],\n",
              "       [ -3, -25]])"
            ]
          },
          "metadata": {},
          "execution_count": 24
        }
      ]
    },
    {
      "cell_type": "markdown",
      "source": [
        "###### Sympy"
      ],
      "metadata": {
        "id": "IppfD8NKdjTx"
      }
    },
    {
      "cell_type": "code",
      "source": [
        "A = sym.Matrix(A)\n",
        "B = sym.Matrix(B)"
      ],
      "metadata": {
        "id": "_tWK8PoudmYC"
      },
      "execution_count": 25,
      "outputs": []
    },
    {
      "cell_type": "code",
      "source": [
        "A"
      ],
      "metadata": {
        "colab": {
          "base_uri": "https://localhost:8080/",
          "height": 58
        },
        "id": "5z8hcC_Yd0Hm",
        "outputId": "05378d81-aceb-4930-9bb7-f5cf8b0174a9"
      },
      "execution_count": 26,
      "outputs": [
        {
          "output_type": "execute_result",
          "data": {
            "text/plain": [
              "Matrix([\n",
              "[-1, 0],\n",
              "[ 0, 5]])"
            ],
            "text/latex": "$\\displaystyle \\left[\\begin{matrix}-1 & 0\\\\0 & 5\\end{matrix}\\right]$"
          },
          "metadata": {},
          "execution_count": 26
        }
      ]
    },
    {
      "cell_type": "code",
      "source": [
        "B"
      ],
      "metadata": {
        "colab": {
          "base_uri": "https://localhost:8080/",
          "height": 58
        },
        "id": "b27G7gKSd1KA",
        "outputId": "c6b81eab-81e8-4b36-9ad1-efa4e01ed616"
      },
      "execution_count": 27,
      "outputs": [
        {
          "output_type": "execute_result",
          "data": {
            "text/plain": [
              "Matrix([\n",
              "[1,  1],\n",
              "[3, -5]])"
            ],
            "text/latex": "$\\displaystyle \\left[\\begin{matrix}1 & 1\\\\3 & -5\\end{matrix}\\right]$"
          },
          "metadata": {},
          "execution_count": 27
        }
      ]
    },
    {
      "cell_type": "code",
      "source": [
        "A * B"
      ],
      "metadata": {
        "colab": {
          "base_uri": "https://localhost:8080/",
          "height": 58
        },
        "id": "kWJctEeSd11x",
        "outputId": "b134049f-ba04-4e5c-e093-416374b2a62e"
      },
      "execution_count": 28,
      "outputs": [
        {
          "output_type": "execute_result",
          "data": {
            "text/plain": [
              "Matrix([\n",
              "[-1,  -1],\n",
              "[15, -25]])"
            ],
            "text/latex": "$\\displaystyle \\left[\\begin{matrix}-1 & -1\\\\15 & -25\\end{matrix}\\right]$"
          },
          "metadata": {},
          "execution_count": 28
        }
      ]
    },
    {
      "cell_type": "code",
      "source": [
        "B * A"
      ],
      "metadata": {
        "colab": {
          "base_uri": "https://localhost:8080/",
          "height": 58
        },
        "id": "4mDcnzI1eHQ5",
        "outputId": "9c7ba0b8-d795-4069-d7aa-ab4f39806e89"
      },
      "execution_count": 29,
      "outputs": [
        {
          "output_type": "execute_result",
          "data": {
            "text/plain": [
              "Matrix([\n",
              "[-1,   5],\n",
              "[-3, -25]])"
            ],
            "text/latex": "$\\displaystyle \\left[\\begin{matrix}-1 & 5\\\\-3 & -25\\end{matrix}\\right]$"
          },
          "metadata": {},
          "execution_count": 29
        }
      ]
    },
    {
      "cell_type": "markdown",
      "source": [
        "From this example, we can see that $A \\cdot B \\ne B \\cdot A$"
      ],
      "metadata": {
        "id": "2xo88J33eMAG"
      }
    },
    {
      "cell_type": "markdown",
      "source": [
        "##### Example\n",
        "\n",
        "Let \n",
        "$I_{2} = \n",
        "\\left(\\begin{matrix} \n",
        "1 & 0 \\\\\n",
        "0 & 1\n",
        "\\end{matrix}\\right)\n",
        "$ and let \n",
        "$\n",
        "A = \n",
        "\\left(\\begin{matrix} \n",
        "1 & 2 \\\\\n",
        "3 & 4\n",
        "\\end{matrix}\\right)\n",
        "$."
      ],
      "metadata": {
        "id": "eLdDNm94frYa"
      }
    },
    {
      "cell_type": "code",
      "source": [
        "I_2 = np.array([[1, 0], [0, 1]])\n",
        "A = np.array([[1, 2], [3, 4]])"
      ],
      "metadata": {
        "id": "I3fboUCigH36"
      },
      "execution_count": 30,
      "outputs": []
    },
    {
      "cell_type": "code",
      "source": [
        "I_2 @ A"
      ],
      "metadata": {
        "colab": {
          "base_uri": "https://localhost:8080/"
        },
        "id": "5ssYRW3lgSOq",
        "outputId": "f1e72d5c-87e3-4ef1-d63e-2f59c4178fd6"
      },
      "execution_count": 31,
      "outputs": [
        {
          "output_type": "execute_result",
          "data": {
            "text/plain": [
              "array([[1, 2],\n",
              "       [3, 4]])"
            ]
          },
          "metadata": {},
          "execution_count": 31
        }
      ]
    },
    {
      "cell_type": "code",
      "source": [
        "A @ I_2"
      ],
      "metadata": {
        "colab": {
          "base_uri": "https://localhost:8080/"
        },
        "id": "W2Z0EJfagZNy",
        "outputId": "7750c5cc-fca3-455b-f12e-51a0f3659399"
      },
      "execution_count": 32,
      "outputs": [
        {
          "output_type": "execute_result",
          "data": {
            "text/plain": [
              "array([[1, 2],\n",
              "       [3, 4]])"
            ]
          },
          "metadata": {},
          "execution_count": 32
        }
      ]
    },
    {
      "cell_type": "markdown",
      "source": [
        "Note that $I_{2} \\cdot A = A$ and also that $A \\cdot I_{2} = A$."
      ],
      "metadata": {
        "id": "e2to0_qHgdpU"
      }
    },
    {
      "cell_type": "markdown",
      "source": [
        "#### Example"
      ],
      "metadata": {
        "id": "Xcn9s3RkiZPy"
      }
    },
    {
      "cell_type": "code",
      "source": [
        "a, b, c, d = sym.symbols('a b c d')\n",
        "A = sym.Matrix([[a, b], [c, d]])\n",
        "I_2 = sym.Matrix(I_2)"
      ],
      "metadata": {
        "id": "Uj70l8muid2h"
      },
      "execution_count": 33,
      "outputs": []
    },
    {
      "cell_type": "code",
      "source": [
        "A * I_2 == A, I_2 * A == A"
      ],
      "metadata": {
        "colab": {
          "base_uri": "https://localhost:8080/"
        },
        "id": "E5Rvq8hSiw5d",
        "outputId": "7fb6a6c2-646a-4fef-eff0-97ebec496d8f"
      },
      "execution_count": 34,
      "outputs": [
        {
          "output_type": "execute_result",
          "data": {
            "text/plain": [
              "(True, True)"
            ]
          },
          "metadata": {},
          "execution_count": 34
        }
      ]
    },
    {
      "cell_type": "markdown",
      "source": [
        "##### Remark\n",
        "\n",
        "The matrix\n",
        "$I_{2} = \n",
        "\\left(\\begin{matrix} \n",
        "1 & 0 \\\\\n",
        "0 & 1\n",
        "\\end{matrix}\\right)\n",
        "$\n",
        "acts as an identity elment for any $2 \\times 2$ matrix $A$. In fact, it can be shown that $I_{2} \\cdot A = A \\cdot I_{2} = A$ for all $2 \\times 2$ matrices."
      ],
      "metadata": {
        "id": "cREPFF72jHdm"
      }
    },
    {
      "cell_type": "markdown",
      "source": [
        "#### Theorem\n",
        "\n",
        "Let $I_n$ by the $n \\times n$ matrix defined by \n",
        "$I_{n} = \n",
        "\\left(\\begin{matrix} \n",
        "1 & 0 & 0 & \\dots & 0 \\\\\n",
        "0 & 1 & 0 & \\dots & 0 \\\\\n",
        "0 & 0 & 1 & \\dots & 0 \\\\\n",
        "\\vdots & \\vdots & \\vdots & \\ddots & \\vdots \\\\\n",
        "0 & 0 & 0 & \\dots & 1 \n",
        "\\end{matrix}\\right)\n",
        "$\n",
        "\n",
        "Then for any $n \\times n$ matrix $A$, \n",
        "\n",
        "$I_{n} \\cdot A$ = $A \\cdot I_{n} = A$."
      ],
      "metadata": {
        "id": "M6SU_I67kb0s"
      }
    },
    {
      "cell_type": "markdown",
      "source": [
        "##### Definition: Identity Matrix\n",
        "\n",
        "The matrix $I_{n}$ is called the **identity matrix** for the set of $n \\times n$ matrrices. \n",
        "\n",
        "We will simply write $I$ for $I_{n}$ when this is unlikely to cause confusion. "
      ],
      "metadata": {
        "id": "1_NcXpHCmR8h"
      }
    },
    {
      "cell_type": "markdown",
      "source": [
        "## 1.2.2.3 A Practical Example of Matrix Multiplication"
      ],
      "metadata": {
        "id": "e6Dzdc8zmzGh"
      }
    },
    {
      "cell_type": "markdown",
      "source": [
        "### Problem\n",
        "\n",
        "- You only have time to visit one store\n",
        "- You have choice of three supermarkets: A, B, C\n",
        "- You need: Broccoli (2.5 pounds), tomatoes (4 pounds), carrots (2 pounds)\n",
        "- Your goal is to spend as little money as possible\n",
        "- Prices, per pound, are shown in the table below"
      ],
      "metadata": {
        "id": "qIInbEGvVvqp"
      }
    },
    {
      "cell_type": "markdown",
      "source": [
        "\n",
        "|Supermarket|Broccoli|Tomatoes|Carrots|\n",
        "|-|-|-|-|\n",
        "|A|\\$1.49|\\$3.99|\\$2.49|\n",
        "|B|\\$1.69|\\$2.49|\\$1.69|\n",
        "|C|\\$1.04|\\$3.52|\\$1.28|\n",
        " "
      ],
      "metadata": {
        "id": "lzM6BKBVWvUI"
      }
    },
    {
      "cell_type": "markdown",
      "source": [
        "To find the best shopping option, simply find $P \\cdot A$ and pick the smallest number in the product.\n",
        "\n",
        "$$\n",
        "\\begin{align}\n",
        "P \\cdot A &= \n",
        "\\left(\\begin{matrix}\n",
        "1.49 & 3.99 & 2.49 \\\\\n",
        "1.69 & 2.49 & 1.69 \\\\\n",
        "1.04 & 3.52 & 1.28 \n",
        "\\end{matrix}\\right)\n",
        "\\left(\\begin{matrix}\n",
        "2.5 \\\\\n",
        "4 \\\\\n",
        "2\n",
        "\\end{matrix}\\right) \\\\ &= \n",
        "\\left(\\begin{matrix} \n",
        "24.665 \\\\\n",
        "17.565 \\\\\n",
        "19.24\n",
        "\\end{matrix}\\right)\n",
        "\\end{align}\n",
        "$$\n",
        "\n",
        "$\\therefore$ I should go to supermarket B, where it will cost about $\\$17.57$ for the items I need."
      ],
      "metadata": {
        "id": "7q01KpwabrH1"
      }
    },
    {
      "cell_type": "code",
      "source": [
        "# Prices, per pound \n",
        "P = np.array([[1.49, 3.99, 2.49],\n",
        "              [1.69, 2.49, 1.69],\n",
        "              [1.04, 3.52, 1.28]])\n",
        "\n",
        "# Qauntities needed\n",
        "Q = np.array([2.5, 4, 2]).reshape(3, 1)"
      ],
      "metadata": {
        "id": "BKsHnBKRYpKt"
      },
      "execution_count": 35,
      "outputs": []
    },
    {
      "cell_type": "code",
      "source": [
        "P @ Q"
      ],
      "metadata": {
        "colab": {
          "base_uri": "https://localhost:8080/"
        },
        "id": "JrYuW6PYZl2s",
        "outputId": "7aedc132-a1bd-4136-cf79-d015d37aa7d8"
      },
      "execution_count": 36,
      "outputs": [
        {
          "output_type": "execute_result",
          "data": {
            "text/plain": [
              "array([[24.665],\n",
              "       [17.565],\n",
              "       [19.24 ]])"
            ]
          },
          "metadata": {},
          "execution_count": 36
        }
      ]
    },
    {
      "cell_type": "code",
      "source": [
        "P.dot(Q)"
      ],
      "metadata": {
        "colab": {
          "base_uri": "https://localhost:8080/"
        },
        "id": "aL60wI3yZ5GM",
        "outputId": "f5ccbd09-2624-4aa0-e91a-aa45cbb71bd8"
      },
      "execution_count": 37,
      "outputs": [
        {
          "output_type": "execute_result",
          "data": {
            "text/plain": [
              "array([[24.665],\n",
              "       [17.565],\n",
              "       [19.24 ]])"
            ]
          },
          "metadata": {},
          "execution_count": 37
        }
      ]
    },
    {
      "cell_type": "code",
      "source": [
        "P = sym.Matrix(P)\n",
        "Q = sym.Matrix(Q)\n",
        "P * Q"
      ],
      "metadata": {
        "colab": {
          "base_uri": "https://localhost:8080/",
          "height": 78
        },
        "id": "1Tz3sa4faBMC",
        "outputId": "de735cbf-5aaa-44a4-9649-a732eca4e0fc"
      },
      "execution_count": 38,
      "outputs": [
        {
          "output_type": "execute_result",
          "data": {
            "text/plain": [
              "Matrix([\n",
              "[24.665],\n",
              "[17.565],\n",
              "[ 19.24]])"
            ],
            "text/latex": "$\\displaystyle \\left[\\begin{matrix}24.665\\\\17.565\\\\19.24\\end{matrix}\\right]$"
          },
          "metadata": {},
          "execution_count": 38
        }
      ]
    },
    {
      "cell_type": "markdown",
      "source": [
        "## 1.2.2.4 Using Matrix Algebra in Python"
      ],
      "metadata": {
        "id": "Wtr5BpjHg-o5"
      }
    },
    {
      "cell_type": "code",
      "source": [
        "L = np.linspace(-8, 8, 9)\n",
        "M = L.reshape(3, 3)\n",
        "M"
      ],
      "metadata": {
        "colab": {
          "base_uri": "https://localhost:8080/"
        },
        "id": "NtrHi0a4kkpw",
        "outputId": "561b2390-e98b-4dc3-b46b-9949d0ab7f3c"
      },
      "execution_count": 39,
      "outputs": [
        {
          "output_type": "execute_result",
          "data": {
            "text/plain": [
              "array([[-8., -6., -4.],\n",
              "       [-2.,  0.,  2.],\n",
              "       [ 4.,  6.,  8.]])"
            ]
          },
          "metadata": {},
          "execution_count": 39
        }
      ]
    },
    {
      "cell_type": "code",
      "source": [
        "N = np.array([[4, 1, -7],\n",
        "              [-6, -6, -6],\n",
        "              [-3, 7, 3]])\n",
        "N"
      ],
      "metadata": {
        "colab": {
          "base_uri": "https://localhost:8080/"
        },
        "id": "DeboCsuOlYTP",
        "outputId": "d9540a7d-71c2-4d2c-d00f-f4d0c482f1c4"
      },
      "execution_count": 40,
      "outputs": [
        {
          "output_type": "execute_result",
          "data": {
            "text/plain": [
              "array([[ 4,  1, -7],\n",
              "       [-6, -6, -6],\n",
              "       [-3,  7,  3]])"
            ]
          },
          "metadata": {},
          "execution_count": 40
        }
      ]
    },
    {
      "cell_type": "code",
      "source": [
        "A = np.array([[1, 2, 3],\n",
        "              [4, 5, 6]])\n",
        "B = np.array([[7, 2, -3],\n",
        "              [0, 1, 6]])"
      ],
      "metadata": {
        "id": "-lZ7vS-emx9e"
      },
      "execution_count": 41,
      "outputs": []
    },
    {
      "cell_type": "markdown",
      "source": [
        "### Multiplying Matrices"
      ],
      "metadata": {
        "id": "BDZ6NmYKjMWS"
      }
    },
    {
      "cell_type": "markdown",
      "source": [
        "#### NumPy"
      ],
      "metadata": {
        "id": "FIjObWB6l6N8"
      }
    },
    {
      "cell_type": "code",
      "source": [
        "np.matmul(M, N)"
      ],
      "metadata": {
        "colab": {
          "base_uri": "https://localhost:8080/"
        },
        "id": "uoM_zWLkmCZc",
        "outputId": "904be472-8602-4734-f98c-5d6ba1223ec4"
      },
      "execution_count": 42,
      "outputs": [
        {
          "output_type": "execute_result",
          "data": {
            "text/plain": [
              "array([[ 16.,   0.,  80.],\n",
              "       [-14.,  12.,  20.],\n",
              "       [-44.,  24., -40.]])"
            ]
          },
          "metadata": {},
          "execution_count": 42
        }
      ]
    },
    {
      "cell_type": "code",
      "source": [
        "np.dot(M, N)"
      ],
      "metadata": {
        "colab": {
          "base_uri": "https://localhost:8080/"
        },
        "id": "o3K8H4gkmHoB",
        "outputId": "0f935f02-d3a8-46aa-de5a-fe4fb0c68d8e"
      },
      "execution_count": 43,
      "outputs": [
        {
          "output_type": "execute_result",
          "data": {
            "text/plain": [
              "array([[ 16.,   0.,  80.],\n",
              "       [-14.,  12.,  20.],\n",
              "       [-44.,  24., -40.]])"
            ]
          },
          "metadata": {},
          "execution_count": 43
        }
      ]
    },
    {
      "cell_type": "code",
      "source": [
        "M.dot(N)"
      ],
      "metadata": {
        "colab": {
          "base_uri": "https://localhost:8080/"
        },
        "id": "1qcCwVj1mPZ3",
        "outputId": "cdd6ebfb-ed88-4e49-884c-c6b5e228044d"
      },
      "execution_count": 44,
      "outputs": [
        {
          "output_type": "execute_result",
          "data": {
            "text/plain": [
              "array([[ 16.,   0.,  80.],\n",
              "       [-14.,  12.,  20.],\n",
              "       [-44.,  24., -40.]])"
            ]
          },
          "metadata": {},
          "execution_count": 44
        }
      ]
    },
    {
      "cell_type": "code",
      "source": [
        "M @ N"
      ],
      "metadata": {
        "colab": {
          "base_uri": "https://localhost:8080/"
        },
        "id": "UIelMYkQmR-g",
        "outputId": "c610b275-8def-4810-b2a4-d920540257b2"
      },
      "execution_count": 45,
      "outputs": [
        {
          "output_type": "execute_result",
          "data": {
            "text/plain": [
              "array([[ 16.,   0.,  80.],\n",
              "       [-14.,  12.,  20.],\n",
              "       [-44.,  24., -40.]])"
            ]
          },
          "metadata": {},
          "execution_count": 45
        }
      ]
    },
    {
      "cell_type": "code",
      "source": [
        "A "
      ],
      "metadata": {
        "colab": {
          "base_uri": "https://localhost:8080/"
        },
        "id": "M5vx1lLUm45A",
        "outputId": "0350849f-4da3-438b-f04a-014593201a1e"
      },
      "execution_count": 46,
      "outputs": [
        {
          "output_type": "execute_result",
          "data": {
            "text/plain": [
              "array([[1, 2, 3],\n",
              "       [4, 5, 6]])"
            ]
          },
          "metadata": {},
          "execution_count": 46
        }
      ]
    },
    {
      "cell_type": "code",
      "source": [
        "B"
      ],
      "metadata": {
        "colab": {
          "base_uri": "https://localhost:8080/"
        },
        "id": "buNa8--lngJY",
        "outputId": "b5001438-a176-413b-f05b-ef6a4bafa534"
      },
      "execution_count": 47,
      "outputs": [
        {
          "output_type": "execute_result",
          "data": {
            "text/plain": [
              "array([[ 7,  2, -3],\n",
              "       [ 0,  1,  6]])"
            ]
          },
          "metadata": {},
          "execution_count": 47
        }
      ]
    },
    {
      "cell_type": "code",
      "source": [
        "B.T"
      ],
      "metadata": {
        "colab": {
          "base_uri": "https://localhost:8080/"
        },
        "id": "6tImObFdnhs2",
        "outputId": "4f4c2377-1903-4e9e-ef80-971d03d39e23"
      },
      "execution_count": 48,
      "outputs": [
        {
          "output_type": "execute_result",
          "data": {
            "text/plain": [
              "array([[ 7,  0],\n",
              "       [ 2,  1],\n",
              "       [-3,  6]])"
            ]
          },
          "metadata": {},
          "execution_count": 48
        }
      ]
    },
    {
      "cell_type": "code",
      "source": [
        "A.shape, B.T.shape"
      ],
      "metadata": {
        "colab": {
          "base_uri": "https://localhost:8080/"
        },
        "id": "xw5AC8wjnnTE",
        "outputId": "cf5077c5-b78b-46c1-9e98-27ff3e815681"
      },
      "execution_count": 49,
      "outputs": [
        {
          "output_type": "execute_result",
          "data": {
            "text/plain": [
              "((2, 3), (3, 2))"
            ]
          },
          "metadata": {},
          "execution_count": 49
        }
      ]
    },
    {
      "cell_type": "code",
      "source": [
        "A.dot(B.T)"
      ],
      "metadata": {
        "colab": {
          "base_uri": "https://localhost:8080/"
        },
        "id": "84kTXJAMnrY6",
        "outputId": "20cb1aa8-4db7-4a74-afe5-1d85d6467099"
      },
      "execution_count": 50,
      "outputs": [
        {
          "output_type": "execute_result",
          "data": {
            "text/plain": [
              "array([[ 2, 20],\n",
              "       [20, 41]])"
            ]
          },
          "metadata": {},
          "execution_count": 50
        }
      ]
    },
    {
      "cell_type": "markdown",
      "source": [
        "#### SymPy"
      ],
      "metadata": {
        "id": "KLxf9XCMoDWl"
      }
    },
    {
      "cell_type": "code",
      "source": [
        "sM = sym.Matrix(M)\n",
        "sN = sym.Matrix(N)\n",
        "sA = sym.Matrix(A)\n",
        "sB = sym.Matrix(B)"
      ],
      "metadata": {
        "id": "RwJHJzjFoGta"
      },
      "execution_count": 51,
      "outputs": []
    },
    {
      "cell_type": "code",
      "source": [
        "sM * sN"
      ],
      "metadata": {
        "colab": {
          "base_uri": "https://localhost:8080/",
          "height": 78
        },
        "id": "qDniiNPkoWVA",
        "outputId": "da7eded6-1fdd-4cea-88a5-2c28bb271b1a"
      },
      "execution_count": 52,
      "outputs": [
        {
          "output_type": "execute_result",
          "data": {
            "text/plain": [
              "Matrix([\n",
              "[ 16.0,    0,  80.0],\n",
              "[-14.0, 12.0,  20.0],\n",
              "[-44.0, 24.0, -40.0]])"
            ],
            "text/latex": "$\\displaystyle \\left[\\begin{matrix}16.0 & 0 & 80.0\\\\-14.0 & 12.0 & 20.0\\\\-44.0 & 24.0 & -40.0\\end{matrix}\\right]$"
          },
          "metadata": {},
          "execution_count": 52
        }
      ]
    },
    {
      "cell_type": "code",
      "source": [
        "sA * sB.T"
      ],
      "metadata": {
        "colab": {
          "base_uri": "https://localhost:8080/",
          "height": 58
        },
        "id": "OKTF5LsuoaBg",
        "outputId": "f0feeab6-c2d7-4140-ab37-783ff69a2cb1"
      },
      "execution_count": 53,
      "outputs": [
        {
          "output_type": "execute_result",
          "data": {
            "text/plain": [
              "Matrix([\n",
              "[ 2, 20],\n",
              "[20, 41]])"
            ],
            "text/latex": "$\\displaystyle \\left[\\begin{matrix}2 & 20\\\\20 & 41\\end{matrix}\\right]$"
          },
          "metadata": {},
          "execution_count": 53
        }
      ]
    },
    {
      "cell_type": "markdown",
      "source": [
        "### Calculating Matrix Determinant"
      ],
      "metadata": {
        "id": "Lac_vTAYpF5G"
      }
    },
    {
      "cell_type": "markdown",
      "source": [
        "#### NumPy"
      ],
      "metadata": {
        "id": "xMp22Y-ArOyC"
      }
    },
    {
      "cell_type": "code",
      "source": [
        "np.linalg.det(M)"
      ],
      "metadata": {
        "colab": {
          "base_uri": "https://localhost:8080/"
        },
        "id": "ywGRUNXmrNZ6",
        "outputId": "80b8711a-db23-4117-f1b2-586ed79c6732"
      },
      "execution_count": 54,
      "outputs": [
        {
          "output_type": "execute_result",
          "data": {
            "text/plain": [
              "0.0"
            ]
          },
          "metadata": {},
          "execution_count": 54
        }
      ]
    },
    {
      "cell_type": "code",
      "source": [
        "np.linalg.det(N)"
      ],
      "metadata": {
        "colab": {
          "base_uri": "https://localhost:8080/"
        },
        "id": "2DCsGISAreHO",
        "outputId": "29164425-e0b4-44fd-97f5-943489e0d0e2"
      },
      "execution_count": 55,
      "outputs": [
        {
          "output_type": "execute_result",
          "data": {
            "text/plain": [
              "552.0000000000003"
            ]
          },
          "metadata": {},
          "execution_count": 55
        }
      ]
    },
    {
      "cell_type": "markdown",
      "source": [
        "#### SciPy"
      ],
      "metadata": {
        "id": "4VBZnUs9rqy9"
      }
    },
    {
      "cell_type": "code",
      "source": [
        "import scipy.linalg as la"
      ],
      "metadata": {
        "id": "wdDqFF29rttX"
      },
      "execution_count": 56,
      "outputs": []
    },
    {
      "cell_type": "code",
      "source": [
        "la.det(M)"
      ],
      "metadata": {
        "colab": {
          "base_uri": "https://localhost:8080/"
        },
        "id": "bX-CWspcskPu",
        "outputId": "00a46264-728e-4510-9517-e907537d2700"
      },
      "execution_count": 57,
      "outputs": [
        {
          "output_type": "execute_result",
          "data": {
            "text/plain": [
              "0.0"
            ]
          },
          "metadata": {},
          "execution_count": 57
        }
      ]
    },
    {
      "cell_type": "code",
      "source": [
        "la.det(N)"
      ],
      "metadata": {
        "colab": {
          "base_uri": "https://localhost:8080/"
        },
        "id": "FrXKBHiksmjg",
        "outputId": "4b669a21-2890-4b2d-f0ce-48686f87f607"
      },
      "execution_count": 58,
      "outputs": [
        {
          "output_type": "execute_result",
          "data": {
            "text/plain": [
              "552.0"
            ]
          },
          "metadata": {},
          "execution_count": 58
        }
      ]
    },
    {
      "cell_type": "markdown",
      "source": [
        "#### SymPy"
      ],
      "metadata": {
        "id": "aoT7Y0PasqNL"
      }
    },
    {
      "cell_type": "code",
      "source": [
        "sym.det(sM)"
      ],
      "metadata": {
        "colab": {
          "base_uri": "https://localhost:8080/",
          "height": 37
        },
        "id": "uQfcBj91stfN",
        "outputId": "18350900-c1ae-414d-b5f5-600e6bb824b6"
      },
      "execution_count": 59,
      "outputs": [
        {
          "output_type": "execute_result",
          "data": {
            "text/plain": [
              "0"
            ],
            "text/latex": "$\\displaystyle 0$"
          },
          "metadata": {},
          "execution_count": 59
        }
      ]
    },
    {
      "cell_type": "code",
      "source": [
        "sM.det()"
      ],
      "metadata": {
        "colab": {
          "base_uri": "https://localhost:8080/",
          "height": 37
        },
        "id": "muI5WPOOs1by",
        "outputId": "f3dc65c7-63b6-4558-c997-744ee5adb86c"
      },
      "execution_count": 60,
      "outputs": [
        {
          "output_type": "execute_result",
          "data": {
            "text/plain": [
              "0"
            ],
            "text/latex": "$\\displaystyle 0$"
          },
          "metadata": {},
          "execution_count": 60
        }
      ]
    },
    {
      "cell_type": "code",
      "source": [
        "sym.det(sN)"
      ],
      "metadata": {
        "colab": {
          "base_uri": "https://localhost:8080/",
          "height": 37
        },
        "id": "2Pr5LMa6s3ic",
        "outputId": "0bbb02af-a6fc-4bf3-b364-27594c1da51b"
      },
      "execution_count": 61,
      "outputs": [
        {
          "output_type": "execute_result",
          "data": {
            "text/plain": [
              "552"
            ],
            "text/latex": "$\\displaystyle 552$"
          },
          "metadata": {},
          "execution_count": 61
        }
      ]
    },
    {
      "cell_type": "code",
      "source": [
        "sN.det()"
      ],
      "metadata": {
        "colab": {
          "base_uri": "https://localhost:8080/",
          "height": 37
        },
        "id": "YAcXi_P_s6Wg",
        "outputId": "75471997-3df4-4770-a56d-2b5f0ff53ed0"
      },
      "execution_count": 62,
      "outputs": [
        {
          "output_type": "execute_result",
          "data": {
            "text/plain": [
              "552"
            ],
            "text/latex": "$\\displaystyle 552$"
          },
          "metadata": {},
          "execution_count": 62
        }
      ]
    },
    {
      "cell_type": "markdown",
      "source": [
        "### Inverse of a Matrix"
      ],
      "metadata": {
        "id": "gg93SIg5uRKV"
      }
    },
    {
      "cell_type": "markdown",
      "source": [
        "#### NumPy"
      ],
      "metadata": {
        "id": "iwL0v855uWJZ"
      }
    },
    {
      "cell_type": "code",
      "source": [
        "np.linalg.inv(N)"
      ],
      "metadata": {
        "colab": {
          "base_uri": "https://localhost:8080/"
        },
        "id": "0keZ1kmJuYqo",
        "outputId": "c6ff18ea-7f39-47c2-cee2-e12b5e10346a"
      },
      "execution_count": 63,
      "outputs": [
        {
          "output_type": "execute_result",
          "data": {
            "text/plain": [
              "array([[ 0.04347826, -0.0942029 , -0.08695652],\n",
              "       [ 0.06521739, -0.01630435,  0.11956522],\n",
              "       [-0.10869565, -0.05615942, -0.0326087 ]])"
            ]
          },
          "metadata": {},
          "execution_count": 63
        }
      ]
    },
    {
      "cell_type": "markdown",
      "source": [
        "#### SymPy"
      ],
      "metadata": {
        "id": "NmLUnF-duhsV"
      }
    },
    {
      "cell_type": "code",
      "source": [
        "sN.inv()"
      ],
      "metadata": {
        "colab": {
          "base_uri": "https://localhost:8080/",
          "height": 79
        },
        "id": "yah79iXmul7i",
        "outputId": "761f56fb-7190-4bfe-d004-d6339c84b022"
      },
      "execution_count": 64,
      "outputs": [
        {
          "output_type": "execute_result",
          "data": {
            "text/plain": [
              "Matrix([\n",
              "[ 1/23, -13/138, -2/23],\n",
              "[ 3/46,  -3/184, 11/92],\n",
              "[-5/46, -31/552, -3/92]])"
            ],
            "text/latex": "$\\displaystyle \\left[\\begin{matrix}\\frac{1}{23} & - \\frac{13}{138} & - \\frac{2}{23}\\\\\\frac{3}{46} & - \\frac{3}{184} & \\frac{11}{92}\\\\- \\frac{5}{46} & - \\frac{31}{552} & - \\frac{3}{92}\\end{matrix}\\right]$"
          },
          "metadata": {},
          "execution_count": 64
        }
      ]
    },
    {
      "cell_type": "code",
      "source": [
        "sN.inv().evalf()"
      ],
      "metadata": {
        "colab": {
          "base_uri": "https://localhost:8080/",
          "height": 78
        },
        "id": "VCqoGSJtu2gl",
        "outputId": "dd309467-ec5b-4cf8-cee9-c49bbaca969f"
      },
      "execution_count": 65,
      "outputs": [
        {
          "output_type": "execute_result",
          "data": {
            "text/plain": [
              "Matrix([\n",
              "[0.0434782608695652, -0.0942028985507246, -0.0869565217391304],\n",
              "[0.0652173913043478,  -0.016304347826087,   0.119565217391304],\n",
              "[-0.108695652173913, -0.0561594202898551, -0.0326086956521739]])"
            ],
            "text/latex": "$\\displaystyle \\left[\\begin{matrix}0.0434782608695652 & -0.0942028985507246 & -0.0869565217391304\\\\0.0652173913043478 & -0.016304347826087 & 0.119565217391304\\\\-0.108695652173913 & -0.0561594202898551 & -0.0326086956521739\\end{matrix}\\right]$"
          },
          "metadata": {},
          "execution_count": 65
        }
      ]
    },
    {
      "cell_type": "code",
      "source": [
        "sN**-1"
      ],
      "metadata": {
        "colab": {
          "base_uri": "https://localhost:8080/",
          "height": 79
        },
        "id": "RXy4K25Tu6ib",
        "outputId": "1427ac55-ca10-4524-c749-7260ef8271a1"
      },
      "execution_count": 66,
      "outputs": [
        {
          "output_type": "execute_result",
          "data": {
            "text/plain": [
              "Matrix([\n",
              "[ 1/23, -13/138, -2/23],\n",
              "[ 3/46,  -3/184, 11/92],\n",
              "[-5/46, -31/552, -3/92]])"
            ],
            "text/latex": "$\\displaystyle \\left[\\begin{matrix}\\frac{1}{23} & - \\frac{13}{138} & - \\frac{2}{23}\\\\\\frac{3}{46} & - \\frac{3}{184} & \\frac{11}{92}\\\\- \\frac{5}{46} & - \\frac{31}{552} & - \\frac{3}{92}\\end{matrix}\\right]$"
          },
          "metadata": {},
          "execution_count": 66
        }
      ]
    },
    {
      "cell_type": "markdown",
      "source": [
        "## 1.2.2.5 Practice Quiz"
      ],
      "metadata": {
        "id": "x7A2SxuCwgUd"
      }
    }
  ]
}