{
  "nbformat": 4,
  "nbformat_minor": 0,
  "metadata": {
    "colab": {
      "provenance": [],
      "collapsed_sections": [],
      "toc_visible": true,
      "authorship_tag": "ABX9TyPq4ki7O+JMtVw3YjfnqnJd",
      "include_colab_link": true
    },
    "kernelspec": {
      "name": "python3",
      "display_name": "Python 3"
    },
    "language_info": {
      "name": "python"
    }
  },
  "cells": [
    {
      "cell_type": "markdown",
      "metadata": {
        "id": "view-in-github",
        "colab_type": "text"
      },
      "source": [
        "<a href=\"https://colab.research.google.com/github/PaulToronto/Howard-University-Coursera-Linear-Algebra-For-Data-Science-Specialization/blob/main/1_2_2_Matrix_Algebra.ipynb\" target=\"_parent\"><img src=\"https://colab.research.google.com/assets/colab-badge.svg\" alt=\"Open In Colab\"/></a>"
      ]
    },
    {
      "cell_type": "markdown",
      "source": [
        "# 1.2.2 Matrix Algebra"
      ],
      "metadata": {
        "id": "S59dgsWpeRZr"
      }
    },
    {
      "cell_type": "code",
      "execution_count": 1,
      "metadata": {
        "id": "RiRZnIowdrjN"
      },
      "outputs": [],
      "source": [
        "import numpy as np\n",
        "import sympy as sym"
      ]
    },
    {
      "cell_type": "markdown",
      "source": [
        "## 1.2.2.1 Matrix Addition"
      ],
      "metadata": {
        "id": "kO5FQPUeedwf"
      }
    },
    {
      "cell_type": "markdown",
      "source": [
        "### Definition\n",
        "\n",
        "Two matrices are **equal** if they are the same shape and the corresponding entries are equal."
      ],
      "metadata": {
        "id": "iC-ZIGE5gYZL"
      }
    },
    {
      "cell_type": "markdown",
      "source": [
        "#### Example\n",
        "\n",
        "Find $x$ so that the matrices $A$ and $B$ are equal."
      ],
      "metadata": {
        "id": "MuHwYeoQg5Ur"
      }
    },
    {
      "cell_type": "code",
      "source": [
        "x = sym.symbols('x')"
      ],
      "metadata": {
        "id": "3fCH-RMUhbvi"
      },
      "execution_count": 2,
      "outputs": []
    },
    {
      "cell_type": "code",
      "source": [
        "A = sym.Matrix([[-1, 0, 5],\n",
        "                [0, 5, 6]])\n",
        "A"
      ],
      "metadata": {
        "colab": {
          "base_uri": "https://localhost:8080/",
          "height": 58
        },
        "id": "vj_HI2i6hFMY",
        "outputId": "5edf15f3-de2c-46c4-8094-908740dd21a7"
      },
      "execution_count": 3,
      "outputs": [
        {
          "output_type": "execute_result",
          "data": {
            "text/plain": [
              "Matrix([\n",
              "[-1, 0, 5],\n",
              "[ 0, 5, 6]])"
            ],
            "text/latex": "$\\displaystyle \\left[\\begin{matrix}-1 & 0 & 5\\\\0 & 5 & 6\\end{matrix}\\right]$"
          },
          "metadata": {},
          "execution_count": 3
        }
      ]
    },
    {
      "cell_type": "code",
      "source": [
        "B = sym.Matrix([[-1, 0, x + 1],\n",
        "                [0, 5, 6]])\n",
        "B"
      ],
      "metadata": {
        "colab": {
          "base_uri": "https://localhost:8080/",
          "height": 58
        },
        "id": "0Ww8MMqveibi",
        "outputId": "dd505757-dcf1-44e5-9d58-2a7b5c028e82"
      },
      "execution_count": 4,
      "outputs": [
        {
          "output_type": "execute_result",
          "data": {
            "text/plain": [
              "Matrix([\n",
              "[-1, 0, x + 1],\n",
              "[ 0, 5,     6]])"
            ],
            "text/latex": "$\\displaystyle \\left[\\begin{matrix}-1 & 0 & x + 1\\\\0 & 5 & 6\\end{matrix}\\right]$"
          },
          "metadata": {},
          "execution_count": 4
        }
      ]
    },
    {
      "cell_type": "code",
      "source": [
        "sym.solve(x + 1 - 5)"
      ],
      "metadata": {
        "colab": {
          "base_uri": "https://localhost:8080/"
        },
        "id": "SDY6lJSGhnBg",
        "outputId": "361bc8e5-5818-4cf6-903d-1addf865b5c5"
      },
      "execution_count": 5,
      "outputs": [
        {
          "output_type": "execute_result",
          "data": {
            "text/plain": [
              "[4]"
            ]
          },
          "metadata": {},
          "execution_count": 5
        }
      ]
    },
    {
      "cell_type": "markdown",
      "source": [
        "$\\therefore$ The matrix $A$ is equal to $B$ when $x = 4$"
      ],
      "metadata": {
        "id": "eWFJnX2Mh0f_"
      }
    },
    {
      "cell_type": "markdown",
      "source": [
        "### Definition: Matrix Addition\n",
        "\n",
        "Let $A$ and $B$ be two $m \\times n$ matrices. then the sum of the two matrices, denoted by $A + B$ is the $m \\times n$ matrix, where the entries are $A + B$ are obtained by adding the corresponding entries of $A$ and $B$"
      ],
      "metadata": {
        "id": "wVoVGUxaiQIc"
      }
    },
    {
      "cell_type": "markdown",
      "source": [
        "#### Example\n",
        "\n",
        "Find $A + B$"
      ],
      "metadata": {
        "id": "KDFCusAMjsu1"
      }
    },
    {
      "cell_type": "code",
      "source": [
        "A = np.array([[-1, 0],\n",
        "              [0, 5],\n",
        "              [3, 0]])\n",
        "A"
      ],
      "metadata": {
        "colab": {
          "base_uri": "https://localhost:8080/"
        },
        "id": "Ev4w4RVoj2fn",
        "outputId": "3fb7fed5-ca7e-43fb-c58e-608847a15df1"
      },
      "execution_count": 6,
      "outputs": [
        {
          "output_type": "execute_result",
          "data": {
            "text/plain": [
              "array([[-1,  0],\n",
              "       [ 0,  5],\n",
              "       [ 3,  0]])"
            ]
          },
          "metadata": {},
          "execution_count": 6
        }
      ]
    },
    {
      "cell_type": "code",
      "source": [
        "B = np.array([[1, 1],\n",
        "              [3, -5],\n",
        "              [1, 5]])\n",
        "B"
      ],
      "metadata": {
        "colab": {
          "base_uri": "https://localhost:8080/"
        },
        "id": "fHQD4t-HkI0k",
        "outputId": "0e76d4e9-0f4b-49f7-a99b-0ac923b1f228"
      },
      "execution_count": 7,
      "outputs": [
        {
          "output_type": "execute_result",
          "data": {
            "text/plain": [
              "array([[ 1,  1],\n",
              "       [ 3, -5],\n",
              "       [ 1,  5]])"
            ]
          },
          "metadata": {},
          "execution_count": 7
        }
      ]
    },
    {
      "cell_type": "code",
      "source": [
        "A + B"
      ],
      "metadata": {
        "colab": {
          "base_uri": "https://localhost:8080/"
        },
        "id": "mqfz6xmZkPeD",
        "outputId": "98afdf26-ff8e-4257-88fb-18ded20404ac"
      },
      "execution_count": 8,
      "outputs": [
        {
          "output_type": "execute_result",
          "data": {
            "text/plain": [
              "array([[0, 1],\n",
              "       [3, 0],\n",
              "       [4, 5]])"
            ]
          },
          "metadata": {},
          "execution_count": 8
        }
      ]
    },
    {
      "cell_type": "code",
      "source": [
        "sym.Matrix(A) + sym.Matrix(B)"
      ],
      "metadata": {
        "colab": {
          "base_uri": "https://localhost:8080/",
          "height": 78
        },
        "id": "M7IfjjTkkUtf",
        "outputId": "1fc6d18e-e4c2-470e-bf51-4bdcc40a1bc5"
      },
      "execution_count": 9,
      "outputs": [
        {
          "output_type": "execute_result",
          "data": {
            "text/plain": [
              "Matrix([\n",
              "[0, 1],\n",
              "[3, 0],\n",
              "[4, 5]])"
            ],
            "text/latex": "$\\displaystyle \\left[\\begin{matrix}0 & 1\\\\3 & 0\\\\4 & 5\\end{matrix}\\right]$"
          },
          "metadata": {},
          "execution_count": 9
        }
      ]
    },
    {
      "cell_type": "markdown",
      "source": [
        "### Definition: Scalar Multiplication\n",
        "\n",
        "Let $r$ be any real number (a **scalar**) and let $B$ be an $m \\times n$ matrix. Then $rB$ is the $m \\times n$ matrix determined by multiplying each entry of $B$ by the scalar $r$.\n",
        "\n",
        "#### Remark\n",
        "\n",
        "Let $A$ and $B$ be two matrices of the same size. Then\n",
        "\n",
        "- $-A = (-1)A$\n",
        "- $A - B = A + (-1)B$"
      ],
      "metadata": {
        "id": "cxL0_qMnkwkK"
      }
    },
    {
      "cell_type": "markdown",
      "source": [
        "#### Example\n",
        "\n",
        "Given matrices $A$ and $B$ below, find $2B$ and find $A - 2B$."
      ],
      "metadata": {
        "id": "hz-gmWtmnxIN"
      }
    },
    {
      "cell_type": "code",
      "source": [
        "A"
      ],
      "metadata": {
        "colab": {
          "base_uri": "https://localhost:8080/"
        },
        "id": "URV9wjbPk109",
        "outputId": "5e244f20-b298-4c90-8d36-315d53cac107"
      },
      "execution_count": 10,
      "outputs": [
        {
          "output_type": "execute_result",
          "data": {
            "text/plain": [
              "array([[-1,  0],\n",
              "       [ 0,  5],\n",
              "       [ 3,  0]])"
            ]
          },
          "metadata": {},
          "execution_count": 10
        }
      ]
    },
    {
      "cell_type": "code",
      "source": [
        "B"
      ],
      "metadata": {
        "colab": {
          "base_uri": "https://localhost:8080/"
        },
        "id": "nNBQG0BZpVS7",
        "outputId": "d5aa1d02-128b-48a5-bea4-864c85626f5a"
      },
      "execution_count": 11,
      "outputs": [
        {
          "output_type": "execute_result",
          "data": {
            "text/plain": [
              "array([[ 1,  1],\n",
              "       [ 3, -5],\n",
              "       [ 1,  5]])"
            ]
          },
          "metadata": {},
          "execution_count": 11
        }
      ]
    },
    {
      "cell_type": "code",
      "source": [
        "2 * B"
      ],
      "metadata": {
        "colab": {
          "base_uri": "https://localhost:8080/"
        },
        "id": "5RIhbE2SpV-5",
        "outputId": "9e559769-83f3-479f-8df7-7355919cc843"
      },
      "execution_count": 12,
      "outputs": [
        {
          "output_type": "execute_result",
          "data": {
            "text/plain": [
              "array([[  2,   2],\n",
              "       [  6, -10],\n",
              "       [  2,  10]])"
            ]
          },
          "metadata": {},
          "execution_count": 12
        }
      ]
    },
    {
      "cell_type": "code",
      "source": [
        "A - 2 * B"
      ],
      "metadata": {
        "colab": {
          "base_uri": "https://localhost:8080/"
        },
        "id": "z2VOj3MLpWZd",
        "outputId": "6ed45920-caa3-42a1-c1e0-4bbc7a7b4cda"
      },
      "execution_count": 13,
      "outputs": [
        {
          "output_type": "execute_result",
          "data": {
            "text/plain": [
              "array([[ -3,  -2],\n",
              "       [ -6,  15],\n",
              "       [  1, -10]])"
            ]
          },
          "metadata": {},
          "execution_count": 13
        }
      ]
    },
    {
      "cell_type": "code",
      "source": [
        "sym.Matrix(A) - 2 * sym.Matrix(B)"
      ],
      "metadata": {
        "colab": {
          "base_uri": "https://localhost:8080/",
          "height": 78
        },
        "id": "fcJj2_3YpgoK",
        "outputId": "4354ea14-f4d7-4c50-c100-441152d03814"
      },
      "execution_count": 14,
      "outputs": [
        {
          "output_type": "execute_result",
          "data": {
            "text/plain": [
              "Matrix([\n",
              "[-3,  -2],\n",
              "[-6,  15],\n",
              "[ 1, -10]])"
            ],
            "text/latex": "$\\displaystyle \\left[\\begin{matrix}-3 & -2\\\\-6 & 15\\\\1 & -10\\end{matrix}\\right]$"
          },
          "metadata": {},
          "execution_count": 14
        }
      ]
    },
    {
      "cell_type": "markdown",
      "source": [
        "### Theorem\n",
        "\n",
        "Let $A$, $B$, and $C$ be three matrices of the same size. Let $r$ and $s$ be two scalars. Then\n",
        "\n",
        "1. $A + B = B + A$ \n",
        "    - Commutative property of addition\n",
        "2. $A + (B + C) = (A + B) + C$ \n",
        "    - Associative property of addition\n",
        "3. $A + O = A$, where $O$ is the **zero matrix**\n",
        "    - Additive identity property\n",
        "4. $r(A + B) = rA + rB$ \n",
        "    - Distributive property\n",
        "5. $(r + s)A = rA + sA$ \n",
        "    - Distributive property\n",
        "6. $(rs)A = r(sA)$ \n",
        "    - Associative property of multiplication"
      ],
      "metadata": {
        "id": "9fUhC0EdqfO4"
      }
    },
    {
      "cell_type": "markdown",
      "source": [
        "## 1.2.2.2 Matrix Multiplication"
      ],
      "metadata": {
        "id": "9j61fAbttsCs"
      }
    },
    {
      "cell_type": "markdown",
      "source": [
        "### Definition\n",
        "\n",
        "Let \n",
        "$\n",
        "u = \\left(\\begin{matrix}\n",
        "u_{1} \\\\ \n",
        "u_{2} \\\\\n",
        "\\vdots \\\\\n",
        "u_{n}\n",
        "\\end{matrix}\\right)\n",
        "$ \n",
        "and \n",
        "$\n",
        "v = \\left(\\begin{matrix}\n",
        "v_{1} \\\\ \n",
        "v_{2} \\\\\n",
        "\\vdots \\\\\n",
        "v_{n}\n",
        "\\end{matrix}\\right)\n",
        "$ \n",
        "be two column vectors. Then the **inner product** or **dot product** of $u$ and $v$ is denoted by $u^{T} \\cdot v$."
      ],
      "metadata": {
        "id": "MEMbPYvGFtvz"
      }
    },
    {
      "cell_type": "markdown",
      "source": [
        "$\n",
        "\\begin{align}\n",
        "u^{T} \\cdot v \n",
        "&= \n",
        "\\left(\\begin{matrix}\n",
        "    u_{1} & u_{2} & \\dots & u_{n} \n",
        "\\end{matrix}\\right) \n",
        "\\cdot \n",
        "\\left(\\begin{matrix}\n",
        "    v_{1} \\\\ \n",
        "    v_{2} \\\\\n",
        "    \\vdots \\\\\n",
        "    v_{n}\n",
        "\\end{matrix}\\right) \\\\\n",
        "&= \n",
        "u_{1}v_{1} + u_{2}v_{2} + \\dots + u_{n}v_{n}\n",
        "\\end{align}\n",
        "$"
      ],
      "metadata": {
        "id": "9PtmArhRI4Gz"
      }
    },
    {
      "cell_type": "markdown",
      "source": [
        "#### Example"
      ],
      "metadata": {
        "id": "gXqZmdOjKi8O"
      }
    },
    {
      "cell_type": "code",
      "source": [
        "u = sym.Matrix([[1], [0], [-1], [5]])\n",
        "v = sym.Matrix([[2], [1], [0], [-1]])"
      ],
      "metadata": {
        "id": "5q7fFLdIKoO3"
      },
      "execution_count": 15,
      "outputs": []
    },
    {
      "cell_type": "code",
      "source": [
        "u.T * v"
      ],
      "metadata": {
        "colab": {
          "base_uri": "https://localhost:8080/",
          "height": 39
        },
        "id": "TVBdoOggLFnv",
        "outputId": "cc103b8a-63ac-4e90-d151-2f4b96213793"
      },
      "execution_count": 16,
      "outputs": [
        {
          "output_type": "execute_result",
          "data": {
            "text/plain": [
              "Matrix([[-3]])"
            ],
            "text/latex": "$\\displaystyle \\left[\\begin{matrix}-3\\end{matrix}\\right]$"
          },
          "metadata": {},
          "execution_count": 16
        }
      ]
    },
    {
      "cell_type": "code",
      "source": [
        "u.dot(v)"
      ],
      "metadata": {
        "colab": {
          "base_uri": "https://localhost:8080/",
          "height": 37
        },
        "id": "fDcxAkAYLO9r",
        "outputId": "10c1c9c2-12d4-419e-b533-bb8c894dbec0"
      },
      "execution_count": 17,
      "outputs": [
        {
          "output_type": "execute_result",
          "data": {
            "text/plain": [
              "-3"
            ],
            "text/latex": "$\\displaystyle -3$"
          },
          "metadata": {},
          "execution_count": 17
        }
      ]
    },
    {
      "cell_type": "code",
      "source": [
        "sum([u[i] * v[i] for i in range(4)])"
      ],
      "metadata": {
        "colab": {
          "base_uri": "https://localhost:8080/",
          "height": 37
        },
        "id": "v268D30cLRMl",
        "outputId": "176a1bab-55bd-4877-a7fa-7709268a6972"
      },
      "execution_count": 18,
      "outputs": [
        {
          "output_type": "execute_result",
          "data": {
            "text/plain": [
              "-3"
            ],
            "text/latex": "$\\displaystyle -3$"
          },
          "metadata": {},
          "execution_count": 18
        }
      ]
    },
    {
      "cell_type": "markdown",
      "source": [
        "#### Example\n",
        "\n",
        "We want to find $C = A \\cdot B = \n",
        "\\left(\\begin{matrix} \n",
        "1 & 1 \\\\\n",
        "1 & 0\n",
        "\\end{matrix}\\right) \\cdot \n",
        "\\left(\\begin{matrix}\n",
        "0 & 1 \\\\\n",
        "1 & 2\n",
        "\\end{matrix}\\right)$\n",
        "\n",
        "$C_{ij}$ is obtained by mutliplying the $i^{th}$ row of $A$ by the $j^{th}$ row if $B$"
      ],
      "metadata": {
        "id": "Yi9eRKsqM6jF"
      }
    },
    {
      "cell_type": "markdown",
      "source": [
        "$\n",
        "\\begin{align}\n",
        "C_{11} \n",
        "&= \n",
        "\\left(\\begin{matrix}\n",
        "    1 & 1\n",
        "\\end{matrix}\\right) \n",
        "\\cdot \n",
        "\\left(\\begin{matrix}\n",
        "    0 \\\\ \n",
        "    1\n",
        "\\end{matrix}\\right) \\\\\n",
        "&= 1 \\cdot 0 + 1 \\cdot 1 \\\\\n",
        "&= 1\n",
        "\\end{align}\n",
        "$\n",
        "\n",
        "$\n",
        "\\begin{align}\n",
        "C_{12} \n",
        "&= \n",
        "\\left(\\begin{matrix}\n",
        "    1 & 1\n",
        "\\end{matrix}\\right) \n",
        "\\cdot \n",
        "\\left(\\begin{matrix}\n",
        "    1 \\\\ \n",
        "    2\n",
        "\\end{matrix}\\right) \\\\\n",
        "&= 1 \\cdot 1 + 1 \\cdot 2 \\\\\n",
        "&= 1 + 2 \\\\\n",
        "&= 3\n",
        "\\end{align}\n",
        "$\n",
        "\n",
        "$\n",
        "\\begin{align}\n",
        "C_{21} \n",
        "&= \n",
        "\\left(\\begin{matrix}\n",
        "    1 & 0\n",
        "\\end{matrix}\\right) \n",
        "\\cdot \n",
        "\\left(\\begin{matrix}\n",
        "    0 \\\\ \n",
        "    1\n",
        "\\end{matrix}\\right) \\\\\n",
        "&= 1 \\cdot 0 + 0 \\cdot 1 \\\\\n",
        "&= 0\n",
        "\\end{align}\n",
        "$\n",
        "\n",
        "$\n",
        "\\begin{align}\n",
        "C_{22} \n",
        "&= \n",
        "\\left(\\begin{matrix}\n",
        "    1 & 0\n",
        "\\end{matrix}\\right) \n",
        "\\cdot \n",
        "\\left(\\begin{matrix}\n",
        "    1 \\\\ \n",
        "    2\n",
        "\\end{matrix}\\right) \\\\\n",
        "&= 1 \\cdot 1 + 2 \\cdot 2 \\\\\n",
        "&= 1\n",
        "\\end{align}\n",
        "$\n"
      ],
      "metadata": {
        "id": "bUYdosY0PG8G"
      }
    },
    {
      "cell_type": "markdown",
      "source": [
        "$\n",
        "\\therefore\n",
        "C = \n",
        "\\left(\\begin{matrix} \n",
        "1 & 3 \\\\\n",
        "0 & 1\n",
        "\\end{matrix}\\right)\n",
        "$"
      ],
      "metadata": {
        "id": "7x2IA8KdSQp1"
      }
    },
    {
      "cell_type": "code",
      "source": [
        "A = sym.Matrix([[1, 1], [1, 0]])\n",
        "B = sym.Matrix([[0, 1], [1, 2]])"
      ],
      "metadata": {
        "id": "v4jGKG2RPotj"
      },
      "execution_count": 19,
      "outputs": []
    },
    {
      "cell_type": "code",
      "source": [
        "A * B"
      ],
      "metadata": {
        "colab": {
          "base_uri": "https://localhost:8080/",
          "height": 58
        },
        "id": "DnRPc__zSxal",
        "outputId": "68e995b7-c0bc-4fbe-8684-7d69ce6d6fc2"
      },
      "execution_count": 20,
      "outputs": [
        {
          "output_type": "execute_result",
          "data": {
            "text/plain": [
              "Matrix([\n",
              "[1, 3],\n",
              "[0, 1]])"
            ],
            "text/latex": "$\\displaystyle \\left[\\begin{matrix}1 & 3\\\\0 & 1\\end{matrix}\\right]$"
          },
          "metadata": {},
          "execution_count": 20
        }
      ]
    },
    {
      "cell_type": "markdown",
      "source": [
        "### Definition: Matrix Multiplication\n",
        "\n",
        "Let $A$ be and $m \\times n$ matrix with rows $r_{1}, r_{2}, \\dots, r_{m}$ and let $B$ be an $n \\times p$ matrix with columns $c_{1}, c_{2}, \\dots, c_{p}$.\n",
        "\n",
        "The the **product** of the two matrices, denoted by $A \\cdot B$ is the $m \\times p$ matrix, where the entry in the $i^{th}$ row and $j^{th}$ column is given by the dot product $r_{i} \\cdot c_{j}$, that is the dot product of the $i^{th}$ row of matrix $A$ and the $j^{th}$ column of matrix $B$."
      ],
      "metadata": {
        "id": "NqXEfWlIU05m"
      }
    },
    {
      "cell_type": "markdown",
      "source": [
        "#### Observation\n",
        "\n",
        "1. Matrix multiplication is **not commutative**. It may be the case that $A \\cdot B$ is not equal to $B \\cdot A$. \n",
        "2. In fact, it is possible that $A \\cdot B$ is defined, but $B \\cdot A$ is not defined. \n",
        "3. If $A$ and $B$ are square matrices of the same size, then both $A \\cdot B$ and $B \\cdot A$ exist, but they might not be equal to each other."
      ],
      "metadata": {
        "id": "1pLXyr4fbZ_E"
      }
    },
    {
      "cell_type": "markdown",
      "source": [
        "##### Example"
      ],
      "metadata": {
        "id": "bI2rOwELdbig"
      }
    },
    {
      "cell_type": "markdown",
      "source": [
        "###### Numpy"
      ],
      "metadata": {
        "id": "gGu_wgSIdfYI"
      }
    },
    {
      "cell_type": "code",
      "source": [
        "A = np.array([[-1, 0], [0, 5]])\n",
        "B = np.array([[1, 1], [3, -5]])"
      ],
      "metadata": {
        "id": "qnMlmKkbc61y"
      },
      "execution_count": 21,
      "outputs": []
    },
    {
      "cell_type": "code",
      "source": [
        "A.dot(B)"
      ],
      "metadata": {
        "colab": {
          "base_uri": "https://localhost:8080/"
        },
        "id": "IOEDUHVQdRR6",
        "outputId": "7bb74bb3-64fd-499e-d68f-0178ddbb1695"
      },
      "execution_count": 22,
      "outputs": [
        {
          "output_type": "execute_result",
          "data": {
            "text/plain": [
              "array([[ -1,  -1],\n",
              "       [ 15, -25]])"
            ]
          },
          "metadata": {},
          "execution_count": 22
        }
      ]
    },
    {
      "cell_type": "code",
      "source": [
        "A @ B"
      ],
      "metadata": {
        "colab": {
          "base_uri": "https://localhost:8080/"
        },
        "id": "nKkPeqvhdUfY",
        "outputId": "e5f1df16-e7ea-48db-9825-612068dec64a"
      },
      "execution_count": 23,
      "outputs": [
        {
          "output_type": "execute_result",
          "data": {
            "text/plain": [
              "array([[ -1,  -1],\n",
              "       [ 15, -25]])"
            ]
          },
          "metadata": {},
          "execution_count": 23
        }
      ]
    },
    {
      "cell_type": "code",
      "source": [
        "B @ A"
      ],
      "metadata": {
        "colab": {
          "base_uri": "https://localhost:8080/"
        },
        "id": "la6VxJSkdppZ",
        "outputId": "baaf080b-b77c-435d-a82b-658617f80f4a"
      },
      "execution_count": 24,
      "outputs": [
        {
          "output_type": "execute_result",
          "data": {
            "text/plain": [
              "array([[ -1,   5],\n",
              "       [ -3, -25]])"
            ]
          },
          "metadata": {},
          "execution_count": 24
        }
      ]
    },
    {
      "cell_type": "markdown",
      "source": [
        "###### Sympy"
      ],
      "metadata": {
        "id": "IppfD8NKdjTx"
      }
    },
    {
      "cell_type": "code",
      "source": [
        "A = sym.Matrix(A)\n",
        "B = sym.Matrix(B)"
      ],
      "metadata": {
        "id": "_tWK8PoudmYC"
      },
      "execution_count": 25,
      "outputs": []
    },
    {
      "cell_type": "code",
      "source": [
        "A"
      ],
      "metadata": {
        "colab": {
          "base_uri": "https://localhost:8080/",
          "height": 58
        },
        "id": "5z8hcC_Yd0Hm",
        "outputId": "1560aeba-ba93-46cc-9056-8579a0953828"
      },
      "execution_count": 26,
      "outputs": [
        {
          "output_type": "execute_result",
          "data": {
            "text/plain": [
              "Matrix([\n",
              "[-1, 0],\n",
              "[ 0, 5]])"
            ],
            "text/latex": "$\\displaystyle \\left[\\begin{matrix}-1 & 0\\\\0 & 5\\end{matrix}\\right]$"
          },
          "metadata": {},
          "execution_count": 26
        }
      ]
    },
    {
      "cell_type": "code",
      "source": [
        "B"
      ],
      "metadata": {
        "colab": {
          "base_uri": "https://localhost:8080/",
          "height": 58
        },
        "id": "b27G7gKSd1KA",
        "outputId": "1ecdffc0-b7b0-458d-fdb1-359f183d8698"
      },
      "execution_count": 27,
      "outputs": [
        {
          "output_type": "execute_result",
          "data": {
            "text/plain": [
              "Matrix([\n",
              "[1,  1],\n",
              "[3, -5]])"
            ],
            "text/latex": "$\\displaystyle \\left[\\begin{matrix}1 & 1\\\\3 & -5\\end{matrix}\\right]$"
          },
          "metadata": {},
          "execution_count": 27
        }
      ]
    },
    {
      "cell_type": "code",
      "source": [
        "A * B"
      ],
      "metadata": {
        "colab": {
          "base_uri": "https://localhost:8080/",
          "height": 58
        },
        "id": "kWJctEeSd11x",
        "outputId": "a10082ce-653c-493f-c616-3792cd1c5303"
      },
      "execution_count": 28,
      "outputs": [
        {
          "output_type": "execute_result",
          "data": {
            "text/plain": [
              "Matrix([\n",
              "[-1,  -1],\n",
              "[15, -25]])"
            ],
            "text/latex": "$\\displaystyle \\left[\\begin{matrix}-1 & -1\\\\15 & -25\\end{matrix}\\right]$"
          },
          "metadata": {},
          "execution_count": 28
        }
      ]
    },
    {
      "cell_type": "code",
      "source": [
        "B * A"
      ],
      "metadata": {
        "colab": {
          "base_uri": "https://localhost:8080/",
          "height": 58
        },
        "id": "4mDcnzI1eHQ5",
        "outputId": "d65d6442-2c62-4436-b5c4-7cc3ec6d24c1"
      },
      "execution_count": 29,
      "outputs": [
        {
          "output_type": "execute_result",
          "data": {
            "text/plain": [
              "Matrix([\n",
              "[-1,   5],\n",
              "[-3, -25]])"
            ],
            "text/latex": "$\\displaystyle \\left[\\begin{matrix}-1 & 5\\\\-3 & -25\\end{matrix}\\right]$"
          },
          "metadata": {},
          "execution_count": 29
        }
      ]
    },
    {
      "cell_type": "markdown",
      "source": [
        "From this example, we can see that $A \\cdot B \\ne B \\cdot A$"
      ],
      "metadata": {
        "id": "2xo88J33eMAG"
      }
    },
    {
      "cell_type": "markdown",
      "source": [
        "##### Example\n",
        "\n",
        "Let \n",
        "$I_{2} = \n",
        "\\left(\\begin{matrix} \n",
        "1 & 0 \\\\\n",
        "0 & 1\n",
        "\\end{matrix}\\right)\n",
        "$ and let \n",
        "$\n",
        "A = \n",
        "\\left(\\begin{matrix} \n",
        "1 & 2 \\\\\n",
        "3 & 4\n",
        "\\end{matrix}\\right)\n",
        "$."
      ],
      "metadata": {
        "id": "eLdDNm94frYa"
      }
    },
    {
      "cell_type": "code",
      "source": [
        "I_2 = np.array([[1, 0], [0, 1]])\n",
        "A = np.array([[1, 2], [3, 4]])"
      ],
      "metadata": {
        "id": "I3fboUCigH36"
      },
      "execution_count": 30,
      "outputs": []
    },
    {
      "cell_type": "code",
      "source": [
        "I_2 @ A"
      ],
      "metadata": {
        "colab": {
          "base_uri": "https://localhost:8080/"
        },
        "id": "5ssYRW3lgSOq",
        "outputId": "c0974ccc-0069-496b-ee6b-b5d63231f76f"
      },
      "execution_count": 31,
      "outputs": [
        {
          "output_type": "execute_result",
          "data": {
            "text/plain": [
              "array([[1, 2],\n",
              "       [3, 4]])"
            ]
          },
          "metadata": {},
          "execution_count": 31
        }
      ]
    },
    {
      "cell_type": "code",
      "source": [
        "A @ I_2"
      ],
      "metadata": {
        "colab": {
          "base_uri": "https://localhost:8080/"
        },
        "id": "W2Z0EJfagZNy",
        "outputId": "caf6efde-c04b-4571-9611-357e9bee7dd7"
      },
      "execution_count": 32,
      "outputs": [
        {
          "output_type": "execute_result",
          "data": {
            "text/plain": [
              "array([[1, 2],\n",
              "       [3, 4]])"
            ]
          },
          "metadata": {},
          "execution_count": 32
        }
      ]
    },
    {
      "cell_type": "markdown",
      "source": [
        "Note that $I_{2} \\cdot A = A$ and also that $A \\cdot I_{2} = A$."
      ],
      "metadata": {
        "id": "e2to0_qHgdpU"
      }
    },
    {
      "cell_type": "markdown",
      "source": [
        "#### Example"
      ],
      "metadata": {
        "id": "Xcn9s3RkiZPy"
      }
    },
    {
      "cell_type": "code",
      "source": [
        "a, b, c, d = sym.symbols('a b c d')\n",
        "A = sym.Matrix([[a, b], [c, d]])\n",
        "I_2 = sym.Matrix(I_2)"
      ],
      "metadata": {
        "id": "Uj70l8muid2h"
      },
      "execution_count": 33,
      "outputs": []
    },
    {
      "cell_type": "code",
      "source": [
        "A * I_2 == A, I_2 * A == A"
      ],
      "metadata": {
        "colab": {
          "base_uri": "https://localhost:8080/"
        },
        "id": "E5Rvq8hSiw5d",
        "outputId": "cc953db4-7c31-4fd4-a7a0-271ea0ce2b80"
      },
      "execution_count": 34,
      "outputs": [
        {
          "output_type": "execute_result",
          "data": {
            "text/plain": [
              "(True, True)"
            ]
          },
          "metadata": {},
          "execution_count": 34
        }
      ]
    },
    {
      "cell_type": "markdown",
      "source": [
        "##### Remark\n",
        "\n",
        "The matrix\n",
        "$I_{2} = \n",
        "\\left(\\begin{matrix} \n",
        "1 & 0 \\\\\n",
        "0 & 1\n",
        "\\end{matrix}\\right)\n",
        "$\n",
        "acts as an identity elment for any $2 \\times 2$ matrix $A$. In fact, it can be shown that $I_{2} \\cdot A = A \\cdot I_{2} = A$ for all $2 \\times 2$ matrices."
      ],
      "metadata": {
        "id": "cREPFF72jHdm"
      }
    },
    {
      "cell_type": "markdown",
      "source": [
        "#### Theorem\n",
        "\n",
        "Let $I_n$ by the $n \\times n$ matrix defined by \n",
        "$I_{n} = \n",
        "\\left(\\begin{matrix} \n",
        "1 & 0 & 0 & \\dots & 0 \\\\\n",
        "0 & 1 & 0 & \\dots & 0 \\\\\n",
        "0 & 0 & 1 & \\dots & 0 \\\\\n",
        "\\vdots & \\vdots & \\vdots & \\ddots & \\vdots \\\\\n",
        "0 & 0 & 0 & \\dots & 1 \n",
        "\\end{matrix}\\right)\n",
        "$\n",
        "\n",
        "Then for any $n \\times n$ matrix $A$, \n",
        "\n",
        "$I_{n} \\cdot A$ = $A \\cdot I_{n} = A$."
      ],
      "metadata": {
        "id": "M6SU_I67kb0s"
      }
    },
    {
      "cell_type": "markdown",
      "source": [
        "##### Definition: Identity Matrix\n",
        "\n",
        "The matrix $I_{n}$ is called the **identity matrix** for the set of $n \\times n$ matrrices. \n",
        "\n",
        "We will simply write $I$ for $I_{n}$ when this is unlikely to cause confusion. "
      ],
      "metadata": {
        "id": "1_NcXpHCmR8h"
      }
    },
    {
      "cell_type": "markdown",
      "source": [
        "## 1.2.2.3 A Practical Example of Matrix Multiplication"
      ],
      "metadata": {
        "id": "e6Dzdc8zmzGh"
      }
    }
  ]
}