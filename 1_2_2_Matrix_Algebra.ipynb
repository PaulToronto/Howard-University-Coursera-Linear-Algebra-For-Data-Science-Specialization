{
  "nbformat": 4,
  "nbformat_minor": 0,
  "metadata": {
    "colab": {
      "provenance": [],
      "collapsed_sections": [],
      "toc_visible": true,
      "authorship_tag": "ABX9TyNPbLUsyuBUw7a9eISOneXW",
      "include_colab_link": true
    },
    "kernelspec": {
      "name": "python3",
      "display_name": "Python 3"
    },
    "language_info": {
      "name": "python"
    }
  },
  "cells": [
    {
      "cell_type": "markdown",
      "metadata": {
        "id": "view-in-github",
        "colab_type": "text"
      },
      "source": [
        "<a href=\"https://colab.research.google.com/github/PaulToronto/Howard-University-Coursera-Linear_Algebra-For-Data-Science-Specialization/blob/main/1_2_2_Matrix_Algebra.ipynb\" target=\"_parent\"><img src=\"https://colab.research.google.com/assets/colab-badge.svg\" alt=\"Open In Colab\"/></a>"
      ]
    },
    {
      "cell_type": "markdown",
      "source": [
        "# 1.2.2 Matrix Algebra"
      ],
      "metadata": {
        "id": "S59dgsWpeRZr"
      }
    },
    {
      "cell_type": "code",
      "execution_count": 1,
      "metadata": {
        "id": "RiRZnIowdrjN"
      },
      "outputs": [],
      "source": [
        "import numpy as np\n",
        "import sympy as sym"
      ]
    },
    {
      "cell_type": "markdown",
      "source": [
        "## 1.2.2.1 Matrix Addition"
      ],
      "metadata": {
        "id": "kO5FQPUeedwf"
      }
    },
    {
      "cell_type": "markdown",
      "source": [
        "### Definition\n",
        "\n",
        "Two matrices are **equal** if they are the same shape and the corresponding entries are equal."
      ],
      "metadata": {
        "id": "iC-ZIGE5gYZL"
      }
    },
    {
      "cell_type": "markdown",
      "source": [
        "#### Example\n",
        "\n",
        "Find $x$ so that the matrices $A$ and $B$ are equal."
      ],
      "metadata": {
        "id": "MuHwYeoQg5Ur"
      }
    },
    {
      "cell_type": "code",
      "source": [
        "x = sym.symbols('x')"
      ],
      "metadata": {
        "id": "3fCH-RMUhbvi"
      },
      "execution_count": 2,
      "outputs": []
    },
    {
      "cell_type": "code",
      "source": [
        "A = sym.Matrix([[-1, 0, 5],\n",
        "                [0, 5, 6]])\n",
        "A"
      ],
      "metadata": {
        "colab": {
          "base_uri": "https://localhost:8080/",
          "height": 58
        },
        "id": "vj_HI2i6hFMY",
        "outputId": "68ca2701-64ec-42b7-ae34-ab48c017aff8"
      },
      "execution_count": 3,
      "outputs": [
        {
          "output_type": "execute_result",
          "data": {
            "text/plain": [
              "Matrix([\n",
              "[-1, 0, 5],\n",
              "[ 0, 5, 6]])"
            ],
            "text/latex": "$\\displaystyle \\left[\\begin{matrix}-1 & 0 & 5\\\\0 & 5 & 6\\end{matrix}\\right]$"
          },
          "metadata": {},
          "execution_count": 3
        }
      ]
    },
    {
      "cell_type": "code",
      "source": [
        "B = sym.Matrix([[-1, 0, x + 1],\n",
        "                [0, 5, 6]])\n",
        "B"
      ],
      "metadata": {
        "colab": {
          "base_uri": "https://localhost:8080/",
          "height": 58
        },
        "id": "0Ww8MMqveibi",
        "outputId": "0c55c73b-8214-47c9-fe5f-8998d7ba777e"
      },
      "execution_count": 4,
      "outputs": [
        {
          "output_type": "execute_result",
          "data": {
            "text/plain": [
              "Matrix([\n",
              "[-1, 0, x + 1],\n",
              "[ 0, 5,     6]])"
            ],
            "text/latex": "$\\displaystyle \\left[\\begin{matrix}-1 & 0 & x + 1\\\\0 & 5 & 6\\end{matrix}\\right]$"
          },
          "metadata": {},
          "execution_count": 4
        }
      ]
    },
    {
      "cell_type": "code",
      "source": [
        "sym.solve(x + 1 - 5)"
      ],
      "metadata": {
        "colab": {
          "base_uri": "https://localhost:8080/"
        },
        "id": "SDY6lJSGhnBg",
        "outputId": "3c510a73-9349-4c91-e066-4106a7c51039"
      },
      "execution_count": 5,
      "outputs": [
        {
          "output_type": "execute_result",
          "data": {
            "text/plain": [
              "[4]"
            ]
          },
          "metadata": {},
          "execution_count": 5
        }
      ]
    },
    {
      "cell_type": "markdown",
      "source": [
        "The matrix $A$ is equal to $B$ when $x = 4$"
      ],
      "metadata": {
        "id": "eWFJnX2Mh0f_"
      }
    },
    {
      "cell_type": "markdown",
      "source": [
        "### Definition: Matrix Addition\n",
        "\n",
        "Let $A$ and $B$ be two $m \\times n$ matrices. then the sum of the two matrices, denoted by $A + B$ is the $m \\times n$ matrix, where the entries are $A + B$ are obtained by adding the corresponding entries of $A$ and $B$"
      ],
      "metadata": {
        "id": "wVoVGUxaiQIc"
      }
    },
    {
      "cell_type": "markdown",
      "source": [
        "#### Example\n",
        "\n",
        "Find $A + B$"
      ],
      "metadata": {
        "id": "KDFCusAMjsu1"
      }
    },
    {
      "cell_type": "code",
      "source": [
        "A = np.array([[-1, 0],\n",
        "              [0, 5],\n",
        "              [3, 0]])\n",
        "A"
      ],
      "metadata": {
        "colab": {
          "base_uri": "https://localhost:8080/"
        },
        "id": "Ev4w4RVoj2fn",
        "outputId": "4da50518-0390-496f-eff0-b99fd3fe9634"
      },
      "execution_count": 6,
      "outputs": [
        {
          "output_type": "execute_result",
          "data": {
            "text/plain": [
              "array([[-1,  0],\n",
              "       [ 0,  5],\n",
              "       [ 3,  0]])"
            ]
          },
          "metadata": {},
          "execution_count": 6
        }
      ]
    },
    {
      "cell_type": "code",
      "source": [
        "B = np.array([[1, 1],\n",
        "              [3, -5],\n",
        "              [1, 5]])\n",
        "B"
      ],
      "metadata": {
        "colab": {
          "base_uri": "https://localhost:8080/"
        },
        "id": "fHQD4t-HkI0k",
        "outputId": "f8eaffd3-2697-4376-a140-480d0df6d55c"
      },
      "execution_count": 7,
      "outputs": [
        {
          "output_type": "execute_result",
          "data": {
            "text/plain": [
              "array([[ 1,  1],\n",
              "       [ 3, -5],\n",
              "       [ 1,  5]])"
            ]
          },
          "metadata": {},
          "execution_count": 7
        }
      ]
    },
    {
      "cell_type": "code",
      "source": [
        "A + B"
      ],
      "metadata": {
        "colab": {
          "base_uri": "https://localhost:8080/"
        },
        "id": "mqfz6xmZkPeD",
        "outputId": "5266181a-bfab-42b3-aed8-c7123d9eabc1"
      },
      "execution_count": 8,
      "outputs": [
        {
          "output_type": "execute_result",
          "data": {
            "text/plain": [
              "array([[0, 1],\n",
              "       [3, 0],\n",
              "       [4, 5]])"
            ]
          },
          "metadata": {},
          "execution_count": 8
        }
      ]
    },
    {
      "cell_type": "code",
      "source": [
        "sym.Matrix(A) + sym.Matrix(B)"
      ],
      "metadata": {
        "colab": {
          "base_uri": "https://localhost:8080/",
          "height": 78
        },
        "id": "M7IfjjTkkUtf",
        "outputId": "c7cbb213-a566-4054-f76f-7b162efee2be"
      },
      "execution_count": 9,
      "outputs": [
        {
          "output_type": "execute_result",
          "data": {
            "text/plain": [
              "Matrix([\n",
              "[0, 1],\n",
              "[3, 0],\n",
              "[4, 5]])"
            ],
            "text/latex": "$\\displaystyle \\left[\\begin{matrix}0 & 1\\\\3 & 0\\\\4 & 5\\end{matrix}\\right]$"
          },
          "metadata": {},
          "execution_count": 9
        }
      ]
    },
    {
      "cell_type": "markdown",
      "source": [
        "### Definition: Scalar Multiplication\n",
        "\n",
        "Let $r$ be any real number (a **scalar**) and let $B$ be an $m \\times n$ matrix. Then $rB$ is the $m \\times n$ matrix determined by multiplying each entry of $B$ by the scalar $r$.\n",
        "\n",
        "#### Remark\n",
        "\n",
        "Let $A$ and $B$ be two matrices of the same size. Then\n",
        "\n",
        "- $-A = (-1)A$\n",
        "- $A - B = A + (-1)B$"
      ],
      "metadata": {
        "id": "cxL0_qMnkwkK"
      }
    },
    {
      "cell_type": "markdown",
      "source": [
        "#### Example\n",
        "\n",
        "Given matrices $A$ and $B$ below, find $2B$ and find $A - 2B$."
      ],
      "metadata": {
        "id": "hz-gmWtmnxIN"
      }
    },
    {
      "cell_type": "code",
      "source": [
        "A"
      ],
      "metadata": {
        "colab": {
          "base_uri": "https://localhost:8080/"
        },
        "id": "URV9wjbPk109",
        "outputId": "071a2b37-f1ea-469a-d068-d3ebad1c6082"
      },
      "execution_count": 10,
      "outputs": [
        {
          "output_type": "execute_result",
          "data": {
            "text/plain": [
              "array([[-1,  0],\n",
              "       [ 0,  5],\n",
              "       [ 3,  0]])"
            ]
          },
          "metadata": {},
          "execution_count": 10
        }
      ]
    },
    {
      "cell_type": "code",
      "source": [
        "B"
      ],
      "metadata": {
        "colab": {
          "base_uri": "https://localhost:8080/"
        },
        "id": "nNBQG0BZpVS7",
        "outputId": "7d802c73-af92-4d70-85f0-1dc8f1dc1765"
      },
      "execution_count": 11,
      "outputs": [
        {
          "output_type": "execute_result",
          "data": {
            "text/plain": [
              "array([[ 1,  1],\n",
              "       [ 3, -5],\n",
              "       [ 1,  5]])"
            ]
          },
          "metadata": {},
          "execution_count": 11
        }
      ]
    },
    {
      "cell_type": "code",
      "source": [
        "2 * B"
      ],
      "metadata": {
        "colab": {
          "base_uri": "https://localhost:8080/"
        },
        "id": "5RIhbE2SpV-5",
        "outputId": "20adccc4-66ff-4e36-8059-779ee59f7c9c"
      },
      "execution_count": 12,
      "outputs": [
        {
          "output_type": "execute_result",
          "data": {
            "text/plain": [
              "array([[  2,   2],\n",
              "       [  6, -10],\n",
              "       [  2,  10]])"
            ]
          },
          "metadata": {},
          "execution_count": 12
        }
      ]
    },
    {
      "cell_type": "code",
      "source": [
        "A - 2 * B"
      ],
      "metadata": {
        "colab": {
          "base_uri": "https://localhost:8080/"
        },
        "id": "z2VOj3MLpWZd",
        "outputId": "ce544734-f52e-4976-d01e-24badd506b21"
      },
      "execution_count": 13,
      "outputs": [
        {
          "output_type": "execute_result",
          "data": {
            "text/plain": [
              "array([[ -3,  -2],\n",
              "       [ -6,  15],\n",
              "       [  1, -10]])"
            ]
          },
          "metadata": {},
          "execution_count": 13
        }
      ]
    },
    {
      "cell_type": "code",
      "source": [
        "sym.Matrix(A) - 2 * sym.Matrix(B)"
      ],
      "metadata": {
        "colab": {
          "base_uri": "https://localhost:8080/",
          "height": 78
        },
        "id": "fcJj2_3YpgoK",
        "outputId": "c206dacc-a849-49af-8195-3051d027490d"
      },
      "execution_count": 14,
      "outputs": [
        {
          "output_type": "execute_result",
          "data": {
            "text/plain": [
              "Matrix([\n",
              "[-3,  -2],\n",
              "[-6,  15],\n",
              "[ 1, -10]])"
            ],
            "text/latex": "$\\displaystyle \\left[\\begin{matrix}-3 & -2\\\\-6 & 15\\\\1 & -10\\end{matrix}\\right]$"
          },
          "metadata": {},
          "execution_count": 14
        }
      ]
    },
    {
      "cell_type": "markdown",
      "source": [
        "### Theorem\n",
        "\n",
        "Let $A$, $B$, and $C$ be three matrices of the same size. Let $r$ and $s$ be two scalars. Then\n",
        "\n",
        "1. $A + B = B + A$ \n",
        "    - Commutative property of addition\n",
        "2. $A + (B + C) = (A + B) + C$ \n",
        "    - Associative property of addition\n",
        "3. $A + O = A$, where $O$ is the **zero matrix**\n",
        "    - Additive identity property\n",
        "4. $r(A + B) = rA + rB$ \n",
        "    - Distributive property\n",
        "5. $(r + s)A = rA + sA$ \n",
        "    - Distributive property\n",
        "6. $(rs)A = r(sA)$ \n",
        "    - Associative property of multiplication"
      ],
      "metadata": {
        "id": "9fUhC0EdqfO4"
      }
    },
    {
      "cell_type": "markdown",
      "source": [
        "## 1.2.2.2 Matrix Multiplication"
      ],
      "metadata": {
        "id": "9j61fAbttsCs"
      }
    }
  ]
}