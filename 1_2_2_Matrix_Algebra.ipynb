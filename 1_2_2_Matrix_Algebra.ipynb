{
  "nbformat": 4,
  "nbformat_minor": 0,
  "metadata": {
    "colab": {
      "provenance": [],
      "toc_visible": true,
      "authorship_tag": "ABX9TyPFg8/UFpqZPTBtKWHtHpIx",
      "include_colab_link": true
    },
    "kernelspec": {
      "name": "python3",
      "display_name": "Python 3"
    },
    "language_info": {
      "name": "python"
    }
  },
  "cells": [
    {
      "cell_type": "markdown",
      "metadata": {
        "id": "view-in-github",
        "colab_type": "text"
      },
      "source": [
        "<a href=\"https://colab.research.google.com/github/PaulToronto/Howard-University-Coursera-Linear-Algebra-For-Data-Science-Specialization/blob/main/1_2_2_Matrix_Algebra.ipynb\" target=\"_parent\"><img src=\"https://colab.research.google.com/assets/colab-badge.svg\" alt=\"Open In Colab\"/></a>"
      ]
    },
    {
      "cell_type": "markdown",
      "source": [
        "# 1.2.2 Matrix Algebra"
      ],
      "metadata": {
        "id": "S59dgsWpeRZr"
      }
    },
    {
      "cell_type": "code",
      "execution_count": 1,
      "metadata": {
        "id": "RiRZnIowdrjN"
      },
      "outputs": [],
      "source": [
        "import numpy as np\n",
        "import sympy as sym\n",
        "import scipy as sci"
      ]
    },
    {
      "cell_type": "markdown",
      "source": [
        "## 1.2.2.1 Matrix Addition"
      ],
      "metadata": {
        "id": "kO5FQPUeedwf"
      }
    },
    {
      "cell_type": "markdown",
      "source": [
        "### Definition\n",
        "\n",
        "Two matrices are **equal** if they are the same shape and the corresponding entries are equal."
      ],
      "metadata": {
        "id": "iC-ZIGE5gYZL"
      }
    },
    {
      "cell_type": "markdown",
      "source": [
        "#### Example\n",
        "\n",
        "Find $x$ so that the matrices $A$ and $B$ are equal."
      ],
      "metadata": {
        "id": "MuHwYeoQg5Ur"
      }
    },
    {
      "cell_type": "code",
      "source": [
        "x = sym.symbols('x')"
      ],
      "metadata": {
        "id": "3fCH-RMUhbvi"
      },
      "execution_count": 2,
      "outputs": []
    },
    {
      "cell_type": "code",
      "source": [
        "A = sym.Matrix([[-1, 0, 5],\n",
        "                [0, 5, 6]])\n",
        "A"
      ],
      "metadata": {
        "colab": {
          "base_uri": "https://localhost:8080/",
          "height": 58
        },
        "id": "vj_HI2i6hFMY",
        "outputId": "61e7210b-a923-492f-bc24-7765453526d5"
      },
      "execution_count": 3,
      "outputs": [
        {
          "output_type": "execute_result",
          "data": {
            "text/plain": [
              "Matrix([\n",
              "[-1, 0, 5],\n",
              "[ 0, 5, 6]])"
            ],
            "text/latex": "$\\displaystyle \\left[\\begin{matrix}-1 & 0 & 5\\\\0 & 5 & 6\\end{matrix}\\right]$"
          },
          "metadata": {},
          "execution_count": 3
        }
      ]
    },
    {
      "cell_type": "code",
      "source": [
        "B = sym.Matrix([[-1, 0, x + 1],\n",
        "                [0, 5, 6]])\n",
        "B"
      ],
      "metadata": {
        "colab": {
          "base_uri": "https://localhost:8080/",
          "height": 58
        },
        "id": "0Ww8MMqveibi",
        "outputId": "5ff5d4f6-315f-4f16-8eda-575ea168503b"
      },
      "execution_count": 4,
      "outputs": [
        {
          "output_type": "execute_result",
          "data": {
            "text/plain": [
              "Matrix([\n",
              "[-1, 0, x + 1],\n",
              "[ 0, 5,     6]])"
            ],
            "text/latex": "$\\displaystyle \\left[\\begin{matrix}-1 & 0 & x + 1\\\\0 & 5 & 6\\end{matrix}\\right]$"
          },
          "metadata": {},
          "execution_count": 4
        }
      ]
    },
    {
      "cell_type": "code",
      "source": [
        "sym.solve(x + 1 - 5)"
      ],
      "metadata": {
        "colab": {
          "base_uri": "https://localhost:8080/"
        },
        "id": "SDY6lJSGhnBg",
        "outputId": "03d913ce-2151-420f-af72-b825038c6fcb"
      },
      "execution_count": 5,
      "outputs": [
        {
          "output_type": "execute_result",
          "data": {
            "text/plain": [
              "[4]"
            ]
          },
          "metadata": {},
          "execution_count": 5
        }
      ]
    },
    {
      "cell_type": "markdown",
      "source": [
        "$\\therefore$ The matrix $A$ is equal to $B$ when $x = 4$"
      ],
      "metadata": {
        "id": "eWFJnX2Mh0f_"
      }
    },
    {
      "cell_type": "markdown",
      "source": [
        "### Definition: Matrix Addition\n",
        "\n",
        "Let $A$ and $B$ be two $m \\times n$ matrices. then the sum of the two matrices, denoted by $A + B$ is the $m \\times n$ matrix, where the entries are $A + B$ are obtained by adding the corresponding entries of $A$ and $B$"
      ],
      "metadata": {
        "id": "wVoVGUxaiQIc"
      }
    },
    {
      "cell_type": "markdown",
      "source": [
        "#### Example\n",
        "\n",
        "Find $A + B$"
      ],
      "metadata": {
        "id": "KDFCusAMjsu1"
      }
    },
    {
      "cell_type": "code",
      "source": [
        "A = np.array([[-1, 0],\n",
        "              [0, 5],\n",
        "              [3, 0]])\n",
        "A"
      ],
      "metadata": {
        "colab": {
          "base_uri": "https://localhost:8080/"
        },
        "id": "Ev4w4RVoj2fn",
        "outputId": "df1fa7dd-263f-4e3f-83c7-f907f91e998d"
      },
      "execution_count": 6,
      "outputs": [
        {
          "output_type": "execute_result",
          "data": {
            "text/plain": [
              "array([[-1,  0],\n",
              "       [ 0,  5],\n",
              "       [ 3,  0]])"
            ]
          },
          "metadata": {},
          "execution_count": 6
        }
      ]
    },
    {
      "cell_type": "code",
      "source": [
        "B = np.array([[1, 1],\n",
        "              [3, -5],\n",
        "              [1, 5]])\n",
        "B"
      ],
      "metadata": {
        "colab": {
          "base_uri": "https://localhost:8080/"
        },
        "id": "fHQD4t-HkI0k",
        "outputId": "02a80a4f-1f22-4f4e-c7ba-f4bf276f721d"
      },
      "execution_count": 7,
      "outputs": [
        {
          "output_type": "execute_result",
          "data": {
            "text/plain": [
              "array([[ 1,  1],\n",
              "       [ 3, -5],\n",
              "       [ 1,  5]])"
            ]
          },
          "metadata": {},
          "execution_count": 7
        }
      ]
    },
    {
      "cell_type": "code",
      "source": [
        "A + B"
      ],
      "metadata": {
        "colab": {
          "base_uri": "https://localhost:8080/"
        },
        "id": "mqfz6xmZkPeD",
        "outputId": "7b6dfb3d-ae4b-4246-897f-d7efc4d55502"
      },
      "execution_count": 8,
      "outputs": [
        {
          "output_type": "execute_result",
          "data": {
            "text/plain": [
              "array([[0, 1],\n",
              "       [3, 0],\n",
              "       [4, 5]])"
            ]
          },
          "metadata": {},
          "execution_count": 8
        }
      ]
    },
    {
      "cell_type": "code",
      "source": [
        "sym.Matrix(A) + sym.Matrix(B)"
      ],
      "metadata": {
        "colab": {
          "base_uri": "https://localhost:8080/",
          "height": 78
        },
        "id": "M7IfjjTkkUtf",
        "outputId": "67c3b532-0bc2-4937-f4e6-0a4d056d2f72"
      },
      "execution_count": 9,
      "outputs": [
        {
          "output_type": "execute_result",
          "data": {
            "text/plain": [
              "Matrix([\n",
              "[0, 1],\n",
              "[3, 0],\n",
              "[4, 5]])"
            ],
            "text/latex": "$\\displaystyle \\left[\\begin{matrix}0 & 1\\\\3 & 0\\\\4 & 5\\end{matrix}\\right]$"
          },
          "metadata": {},
          "execution_count": 9
        }
      ]
    },
    {
      "cell_type": "markdown",
      "source": [
        "### Definition: Scalar Multiplication\n",
        "\n",
        "Let $r$ be any real number (a **scalar**) and let $B$ be an $m \\times n$ matrix. Then $rB$ is the $m \\times n$ matrix determined by multiplying each entry of $B$ by the scalar $r$.\n",
        "\n",
        "#### Remark\n",
        "\n",
        "Let $A$ and $B$ be two matrices of the same size. Then\n",
        "\n",
        "- $-A = (-1)A$\n",
        "- $A - B = A + (-1)B$"
      ],
      "metadata": {
        "id": "cxL0_qMnkwkK"
      }
    },
    {
      "cell_type": "markdown",
      "source": [
        "#### Example\n",
        "\n",
        "Given matrices $A$ and $B$ below, find $2B$ and find $A - 2B$."
      ],
      "metadata": {
        "id": "hz-gmWtmnxIN"
      }
    },
    {
      "cell_type": "code",
      "source": [
        "A"
      ],
      "metadata": {
        "colab": {
          "base_uri": "https://localhost:8080/"
        },
        "id": "URV9wjbPk109",
        "outputId": "405abe59-4622-4daf-e993-b9663bf40a9b"
      },
      "execution_count": 10,
      "outputs": [
        {
          "output_type": "execute_result",
          "data": {
            "text/plain": [
              "array([[-1,  0],\n",
              "       [ 0,  5],\n",
              "       [ 3,  0]])"
            ]
          },
          "metadata": {},
          "execution_count": 10
        }
      ]
    },
    {
      "cell_type": "code",
      "source": [
        "B"
      ],
      "metadata": {
        "colab": {
          "base_uri": "https://localhost:8080/"
        },
        "id": "nNBQG0BZpVS7",
        "outputId": "01c718f6-79ba-413a-f764-2a608264f413"
      },
      "execution_count": 11,
      "outputs": [
        {
          "output_type": "execute_result",
          "data": {
            "text/plain": [
              "array([[ 1,  1],\n",
              "       [ 3, -5],\n",
              "       [ 1,  5]])"
            ]
          },
          "metadata": {},
          "execution_count": 11
        }
      ]
    },
    {
      "cell_type": "code",
      "source": [
        "2 * B"
      ],
      "metadata": {
        "colab": {
          "base_uri": "https://localhost:8080/"
        },
        "id": "5RIhbE2SpV-5",
        "outputId": "2454d495-8220-4a3d-abbe-e49aab33e092"
      },
      "execution_count": 12,
      "outputs": [
        {
          "output_type": "execute_result",
          "data": {
            "text/plain": [
              "array([[  2,   2],\n",
              "       [  6, -10],\n",
              "       [  2,  10]])"
            ]
          },
          "metadata": {},
          "execution_count": 12
        }
      ]
    },
    {
      "cell_type": "code",
      "source": [
        "A - 2 * B"
      ],
      "metadata": {
        "colab": {
          "base_uri": "https://localhost:8080/"
        },
        "id": "z2VOj3MLpWZd",
        "outputId": "eef1406d-2341-4798-c684-f9133b2e2790"
      },
      "execution_count": 13,
      "outputs": [
        {
          "output_type": "execute_result",
          "data": {
            "text/plain": [
              "array([[ -3,  -2],\n",
              "       [ -6,  15],\n",
              "       [  1, -10]])"
            ]
          },
          "metadata": {},
          "execution_count": 13
        }
      ]
    },
    {
      "cell_type": "code",
      "source": [
        "sym.Matrix(A) - 2 * sym.Matrix(B)"
      ],
      "metadata": {
        "colab": {
          "base_uri": "https://localhost:8080/",
          "height": 78
        },
        "id": "fcJj2_3YpgoK",
        "outputId": "48f58bf7-6b32-4751-8a42-0531805d26af"
      },
      "execution_count": 14,
      "outputs": [
        {
          "output_type": "execute_result",
          "data": {
            "text/plain": [
              "Matrix([\n",
              "[-3,  -2],\n",
              "[-6,  15],\n",
              "[ 1, -10]])"
            ],
            "text/latex": "$\\displaystyle \\left[\\begin{matrix}-3 & -2\\\\-6 & 15\\\\1 & -10\\end{matrix}\\right]$"
          },
          "metadata": {},
          "execution_count": 14
        }
      ]
    },
    {
      "cell_type": "markdown",
      "source": [
        "### Theorem\n",
        "\n",
        "Let $A$, $B$, and $C$ be three matrices of the same size. Let $r$ and $s$ be two scalars. Then\n",
        "\n",
        "1. $A + B = B + A$\n",
        "    - Commutative property of addition\n",
        "2. $A + (B + C) = (A + B) + C$\n",
        "    - Associative property of addition\n",
        "3. $A + O = A$, where $O$ is the **zero matrix**\n",
        "    - Additive identity property\n",
        "4. $r(A + B) = rA + rB$\n",
        "    - Distributive property\n",
        "5. $(r + s)A = rA + sA$\n",
        "    - Distributive property\n",
        "6. $(rs)A = r(sA)$\n",
        "    - Associative property of multiplication"
      ],
      "metadata": {
        "id": "9fUhC0EdqfO4"
      }
    },
    {
      "cell_type": "markdown",
      "source": [
        "## 1.2.2.2 Matrix Multiplication"
      ],
      "metadata": {
        "id": "9j61fAbttsCs"
      }
    },
    {
      "cell_type": "markdown",
      "source": [
        "### Definition\n",
        "\n",
        "Let\n",
        "$\n",
        "u = \\left(\\begin{matrix}\n",
        "u_{1} \\\\\n",
        "u_{2} \\\\\n",
        "\\vdots \\\\\n",
        "u_{n}\n",
        "\\end{matrix}\\right)\n",
        "$\n",
        "and\n",
        "$\n",
        "v = \\left(\\begin{matrix}\n",
        "v_{1} \\\\\n",
        "v_{2} \\\\\n",
        "\\vdots \\\\\n",
        "v_{n}\n",
        "\\end{matrix}\\right)\n",
        "$\n",
        "be two column vectors. Then the **inner product** or **dot product** of $u$ and $v$ is denoted by $u^{T} \\cdot v$."
      ],
      "metadata": {
        "id": "MEMbPYvGFtvz"
      }
    },
    {
      "cell_type": "markdown",
      "source": [
        "$\n",
        "\\begin{align}\n",
        "u^{T} \\cdot v\n",
        "&=\n",
        "\\left(\\begin{matrix}\n",
        "    u_{1} & u_{2} & \\dots & u_{n}\n",
        "\\end{matrix}\\right)\n",
        "\\cdot\n",
        "\\left(\\begin{matrix}\n",
        "    v_{1} \\\\\n",
        "    v_{2} \\\\\n",
        "    \\vdots \\\\\n",
        "    v_{n}\n",
        "\\end{matrix}\\right) \\\\\n",
        "&=\n",
        "u_{1}v_{1} + u_{2}v_{2} + \\dots + u_{n}v_{n}\n",
        "\\end{align}\n",
        "$"
      ],
      "metadata": {
        "id": "9PtmArhRI4Gz"
      }
    },
    {
      "cell_type": "markdown",
      "source": [
        "#### Example"
      ],
      "metadata": {
        "id": "gXqZmdOjKi8O"
      }
    },
    {
      "cell_type": "code",
      "source": [
        "u = sym.Matrix([[1], [0], [-1], [5]])\n",
        "v = sym.Matrix([[2], [1], [0], [-1]])"
      ],
      "metadata": {
        "id": "5q7fFLdIKoO3"
      },
      "execution_count": 15,
      "outputs": []
    },
    {
      "cell_type": "code",
      "source": [
        "u.T * v"
      ],
      "metadata": {
        "colab": {
          "base_uri": "https://localhost:8080/",
          "height": 39
        },
        "id": "TVBdoOggLFnv",
        "outputId": "edc32d25-0ade-481d-9709-817213bccd34"
      },
      "execution_count": 16,
      "outputs": [
        {
          "output_type": "execute_result",
          "data": {
            "text/plain": [
              "Matrix([[-3]])"
            ],
            "text/latex": "$\\displaystyle \\left[\\begin{matrix}-3\\end{matrix}\\right]$"
          },
          "metadata": {},
          "execution_count": 16
        }
      ]
    },
    {
      "cell_type": "code",
      "source": [
        "u.dot(v)"
      ],
      "metadata": {
        "colab": {
          "base_uri": "https://localhost:8080/",
          "height": 37
        },
        "id": "fDcxAkAYLO9r",
        "outputId": "86ad193f-a78f-415a-9a04-7c80241aedf1"
      },
      "execution_count": 17,
      "outputs": [
        {
          "output_type": "execute_result",
          "data": {
            "text/plain": [
              "-3"
            ],
            "text/latex": "$\\displaystyle -3$"
          },
          "metadata": {},
          "execution_count": 17
        }
      ]
    },
    {
      "cell_type": "code",
      "source": [
        "sum([u[i] * v[i] for i in range(4)])"
      ],
      "metadata": {
        "colab": {
          "base_uri": "https://localhost:8080/",
          "height": 37
        },
        "id": "v268D30cLRMl",
        "outputId": "f83f7c77-0bfe-4d54-b9b4-37a0427f01f4"
      },
      "execution_count": 18,
      "outputs": [
        {
          "output_type": "execute_result",
          "data": {
            "text/plain": [
              "-3"
            ],
            "text/latex": "$\\displaystyle -3$"
          },
          "metadata": {},
          "execution_count": 18
        }
      ]
    },
    {
      "cell_type": "markdown",
      "source": [
        "#### Example\n",
        "\n",
        "We want to find $C = A \\cdot B =\n",
        "\\left(\\begin{matrix}\n",
        "1 & 1 \\\\\n",
        "1 & 0\n",
        "\\end{matrix}\\right) \\cdot\n",
        "\\left(\\begin{matrix}\n",
        "0 & 1 \\\\\n",
        "1 & 2\n",
        "\\end{matrix}\\right)$\n",
        "\n",
        "$C_{ij}$ is obtained by mutliplying the $i^{th}$ row of $A$ by the $j^{th}$ row if $B$"
      ],
      "metadata": {
        "id": "Yi9eRKsqM6jF"
      }
    },
    {
      "cell_type": "markdown",
      "source": [
        "$\n",
        "\\begin{align}\n",
        "C_{11}\n",
        "&=\n",
        "\\left(\\begin{matrix}\n",
        "    1 & 1\n",
        "\\end{matrix}\\right)\n",
        "\\cdot\n",
        "\\left(\\begin{matrix}\n",
        "    0 \\\\\n",
        "    1\n",
        "\\end{matrix}\\right) \\\\\n",
        "&= 1 \\cdot 0 + 1 \\cdot 1 \\\\\n",
        "&= 1\n",
        "\\end{align}\n",
        "$\n",
        "\n",
        "$\n",
        "\\begin{align}\n",
        "C_{12}\n",
        "&=\n",
        "\\left(\\begin{matrix}\n",
        "    1 & 1\n",
        "\\end{matrix}\\right)\n",
        "\\cdot\n",
        "\\left(\\begin{matrix}\n",
        "    1 \\\\\n",
        "    2\n",
        "\\end{matrix}\\right) \\\\\n",
        "&= 1 \\cdot 1 + 1 \\cdot 2 \\\\\n",
        "&= 1 + 2 \\\\\n",
        "&= 3\n",
        "\\end{align}\n",
        "$\n",
        "\n",
        "$\n",
        "\\begin{align}\n",
        "C_{21}\n",
        "&=\n",
        "\\left(\\begin{matrix}\n",
        "    1 & 0\n",
        "\\end{matrix}\\right)\n",
        "\\cdot\n",
        "\\left(\\begin{matrix}\n",
        "    0 \\\\\n",
        "    1\n",
        "\\end{matrix}\\right) \\\\\n",
        "&= 1 \\cdot 0 + 0 \\cdot 1 \\\\\n",
        "&= 0\n",
        "\\end{align}\n",
        "$\n",
        "\n",
        "$\n",
        "\\begin{align}\n",
        "C_{22}\n",
        "&=\n",
        "\\left(\\begin{matrix}\n",
        "    1 & 0\n",
        "\\end{matrix}\\right)\n",
        "\\cdot\n",
        "\\left(\\begin{matrix}\n",
        "    1 \\\\\n",
        "    2\n",
        "\\end{matrix}\\right) \\\\\n",
        "&= 1 \\cdot 1 + 2 \\cdot 2 \\\\\n",
        "&= 1\n",
        "\\end{align}\n",
        "$\n"
      ],
      "metadata": {
        "id": "bUYdosY0PG8G"
      }
    },
    {
      "cell_type": "markdown",
      "source": [
        "$\n",
        "\\therefore\n",
        "C =\n",
        "\\left(\\begin{matrix}\n",
        "1 & 3 \\\\\n",
        "0 & 1\n",
        "\\end{matrix}\\right)\n",
        "$"
      ],
      "metadata": {
        "id": "7x2IA8KdSQp1"
      }
    },
    {
      "cell_type": "code",
      "source": [
        "A = sym.Matrix([[1, 1], [1, 0]])\n",
        "B = sym.Matrix([[0, 1], [1, 2]])"
      ],
      "metadata": {
        "id": "v4jGKG2RPotj"
      },
      "execution_count": 19,
      "outputs": []
    },
    {
      "cell_type": "code",
      "source": [
        "A * B"
      ],
      "metadata": {
        "colab": {
          "base_uri": "https://localhost:8080/",
          "height": 58
        },
        "id": "DnRPc__zSxal",
        "outputId": "5f6e5373-a403-43fb-aba0-97a00edb84dd"
      },
      "execution_count": 20,
      "outputs": [
        {
          "output_type": "execute_result",
          "data": {
            "text/plain": [
              "Matrix([\n",
              "[1, 3],\n",
              "[0, 1]])"
            ],
            "text/latex": "$\\displaystyle \\left[\\begin{matrix}1 & 3\\\\0 & 1\\end{matrix}\\right]$"
          },
          "metadata": {},
          "execution_count": 20
        }
      ]
    },
    {
      "cell_type": "code",
      "source": [
        "A @ B"
      ],
      "metadata": {
        "colab": {
          "base_uri": "https://localhost:8080/",
          "height": 58
        },
        "id": "GjViK0auFsH4",
        "outputId": "833aea18-6c41-43b6-a58a-0f9d76fac74c"
      },
      "execution_count": 21,
      "outputs": [
        {
          "output_type": "execute_result",
          "data": {
            "text/plain": [
              "Matrix([\n",
              "[1, 3],\n",
              "[0, 1]])"
            ],
            "text/latex": "$\\displaystyle \\left[\\begin{matrix}1 & 3\\\\0 & 1\\end{matrix}\\right]$"
          },
          "metadata": {},
          "execution_count": 21
        }
      ]
    },
    {
      "cell_type": "markdown",
      "source": [
        "### Definition: Matrix Multiplication\n",
        "\n",
        "Let $A$ be and $m \\times n$ matrix with rows $r_{1}, r_{2}, \\dots, r_{m}$ and let $B$ be an $n \\times p$ matrix with columns $c_{1}, c_{2}, \\dots, c_{p}$.\n",
        "\n",
        "The the **product** of the two matrices, denoted by $A \\cdot B$ is the $m \\times p$ matrix, where the entry in the $i^{th}$ row and $j^{th}$ column is given by the dot product $r_{i} \\cdot c_{j}$, that is the dot product of the $i^{th}$ row of matrix $A$ and the $j^{th}$ column of matrix $B$."
      ],
      "metadata": {
        "id": "NqXEfWlIU05m"
      }
    },
    {
      "cell_type": "markdown",
      "source": [
        "#### Observation\n",
        "\n",
        "1. Matrix multiplication is **not commutative**. It may be the case that $A \\cdot B$ is not equal to $B \\cdot A$.\n",
        "2. In fact, it is possible that $A \\cdot B$ is defined, but $B \\cdot A$ is not defined.\n",
        "3. If $A$ and $B$ are square matrices of the same size, then both $A \\cdot B$ and $B \\cdot A$ exist, but they might not be equal to each other."
      ],
      "metadata": {
        "id": "1pLXyr4fbZ_E"
      }
    },
    {
      "cell_type": "markdown",
      "source": [
        "##### Example"
      ],
      "metadata": {
        "id": "bI2rOwELdbig"
      }
    },
    {
      "cell_type": "markdown",
      "source": [
        "###### Numpy"
      ],
      "metadata": {
        "id": "gGu_wgSIdfYI"
      }
    },
    {
      "cell_type": "code",
      "source": [
        "A = np.array([[-1, 0], [0, 5]])\n",
        "B = np.array([[1, 1], [3, -5]])"
      ],
      "metadata": {
        "id": "qnMlmKkbc61y"
      },
      "execution_count": 22,
      "outputs": []
    },
    {
      "cell_type": "code",
      "source": [
        "A"
      ],
      "metadata": {
        "colab": {
          "base_uri": "https://localhost:8080/"
        },
        "id": "JcJl9ZZdF91q",
        "outputId": "a13bb759-0dc8-479d-f9a6-ad7123613d9a"
      },
      "execution_count": 23,
      "outputs": [
        {
          "output_type": "execute_result",
          "data": {
            "text/plain": [
              "array([[-1,  0],\n",
              "       [ 0,  5]])"
            ]
          },
          "metadata": {},
          "execution_count": 23
        }
      ]
    },
    {
      "cell_type": "code",
      "source": [
        "B"
      ],
      "metadata": {
        "colab": {
          "base_uri": "https://localhost:8080/"
        },
        "id": "vTu-gmMqF-5e",
        "outputId": "b6c5f2cb-441c-4488-b110-ae206259fbb3"
      },
      "execution_count": 24,
      "outputs": [
        {
          "output_type": "execute_result",
          "data": {
            "text/plain": [
              "array([[ 1,  1],\n",
              "       [ 3, -5]])"
            ]
          },
          "metadata": {},
          "execution_count": 24
        }
      ]
    },
    {
      "cell_type": "code",
      "source": [
        "A.dot(B)"
      ],
      "metadata": {
        "colab": {
          "base_uri": "https://localhost:8080/"
        },
        "id": "IOEDUHVQdRR6",
        "outputId": "68282428-a70a-46d0-92c8-f72dea1fcc22"
      },
      "execution_count": 25,
      "outputs": [
        {
          "output_type": "execute_result",
          "data": {
            "text/plain": [
              "array([[ -1,  -1],\n",
              "       [ 15, -25]])"
            ]
          },
          "metadata": {},
          "execution_count": 25
        }
      ]
    },
    {
      "cell_type": "code",
      "source": [
        "A * B # element-wise, not matrix multiplication"
      ],
      "metadata": {
        "colab": {
          "base_uri": "https://localhost:8080/"
        },
        "id": "-dcdKSGHF4Vl",
        "outputId": "551085a2-b4ef-4a34-a2a3-2b6a3eae8829"
      },
      "execution_count": 26,
      "outputs": [
        {
          "output_type": "execute_result",
          "data": {
            "text/plain": [
              "array([[ -1,   0],\n",
              "       [  0, -25]])"
            ]
          },
          "metadata": {},
          "execution_count": 26
        }
      ]
    },
    {
      "cell_type": "code",
      "source": [
        "A @ B"
      ],
      "metadata": {
        "colab": {
          "base_uri": "https://localhost:8080/"
        },
        "id": "nKkPeqvhdUfY",
        "outputId": "f124d83f-f526-4cb4-a48c-f1c9026f8c6c"
      },
      "execution_count": 27,
      "outputs": [
        {
          "output_type": "execute_result",
          "data": {
            "text/plain": [
              "array([[ -1,  -1],\n",
              "       [ 15, -25]])"
            ]
          },
          "metadata": {},
          "execution_count": 27
        }
      ]
    },
    {
      "cell_type": "code",
      "source": [
        "B @ A"
      ],
      "metadata": {
        "colab": {
          "base_uri": "https://localhost:8080/"
        },
        "id": "la6VxJSkdppZ",
        "outputId": "815aa35f-e56d-43f7-d7e0-d13c46d815e3"
      },
      "execution_count": 28,
      "outputs": [
        {
          "output_type": "execute_result",
          "data": {
            "text/plain": [
              "array([[ -1,   5],\n",
              "       [ -3, -25]])"
            ]
          },
          "metadata": {},
          "execution_count": 28
        }
      ]
    },
    {
      "cell_type": "markdown",
      "source": [
        "###### Sympy"
      ],
      "metadata": {
        "id": "IppfD8NKdjTx"
      }
    },
    {
      "cell_type": "code",
      "source": [
        "A = sym.Matrix(A)\n",
        "B = sym.Matrix(B)"
      ],
      "metadata": {
        "id": "_tWK8PoudmYC"
      },
      "execution_count": 29,
      "outputs": []
    },
    {
      "cell_type": "code",
      "source": [
        "A"
      ],
      "metadata": {
        "colab": {
          "base_uri": "https://localhost:8080/",
          "height": 58
        },
        "id": "5z8hcC_Yd0Hm",
        "outputId": "a0f31c83-1b60-4cfd-82d5-5791015524c5"
      },
      "execution_count": 30,
      "outputs": [
        {
          "output_type": "execute_result",
          "data": {
            "text/plain": [
              "Matrix([\n",
              "[-1, 0],\n",
              "[ 0, 5]])"
            ],
            "text/latex": "$\\displaystyle \\left[\\begin{matrix}-1 & 0\\\\0 & 5\\end{matrix}\\right]$"
          },
          "metadata": {},
          "execution_count": 30
        }
      ]
    },
    {
      "cell_type": "code",
      "source": [
        "B"
      ],
      "metadata": {
        "colab": {
          "base_uri": "https://localhost:8080/",
          "height": 58
        },
        "id": "b27G7gKSd1KA",
        "outputId": "72fdf754-0469-472d-8320-4990945a9b3c"
      },
      "execution_count": 31,
      "outputs": [
        {
          "output_type": "execute_result",
          "data": {
            "text/plain": [
              "Matrix([\n",
              "[1,  1],\n",
              "[3, -5]])"
            ],
            "text/latex": "$\\displaystyle \\left[\\begin{matrix}1 & 1\\\\3 & -5\\end{matrix}\\right]$"
          },
          "metadata": {},
          "execution_count": 31
        }
      ]
    },
    {
      "cell_type": "code",
      "source": [
        "A @ B"
      ],
      "metadata": {
        "colab": {
          "base_uri": "https://localhost:8080/",
          "height": 58
        },
        "id": "slop0lpBGLr5",
        "outputId": "5c4b95e4-966d-41b9-a06d-957fd104e4c5"
      },
      "execution_count": 32,
      "outputs": [
        {
          "output_type": "execute_result",
          "data": {
            "text/plain": [
              "Matrix([\n",
              "[-1,  -1],\n",
              "[15, -25]])"
            ],
            "text/latex": "$\\displaystyle \\left[\\begin{matrix}-1 & -1\\\\15 & -25\\end{matrix}\\right]$"
          },
          "metadata": {},
          "execution_count": 32
        }
      ]
    },
    {
      "cell_type": "code",
      "source": [
        "A * B"
      ],
      "metadata": {
        "colab": {
          "base_uri": "https://localhost:8080/",
          "height": 58
        },
        "id": "kWJctEeSd11x",
        "outputId": "8aa55a2b-53b8-4bf6-825b-58294ef5ab62"
      },
      "execution_count": 33,
      "outputs": [
        {
          "output_type": "execute_result",
          "data": {
            "text/plain": [
              "Matrix([\n",
              "[-1,  -1],\n",
              "[15, -25]])"
            ],
            "text/latex": "$\\displaystyle \\left[\\begin{matrix}-1 & -1\\\\15 & -25\\end{matrix}\\right]$"
          },
          "metadata": {},
          "execution_count": 33
        }
      ]
    },
    {
      "cell_type": "code",
      "source": [
        "B * A"
      ],
      "metadata": {
        "colab": {
          "base_uri": "https://localhost:8080/",
          "height": 58
        },
        "id": "4mDcnzI1eHQ5",
        "outputId": "a83b87d1-8c26-4f43-ab7d-4e2401885d94"
      },
      "execution_count": 34,
      "outputs": [
        {
          "output_type": "execute_result",
          "data": {
            "text/plain": [
              "Matrix([\n",
              "[-1,   5],\n",
              "[-3, -25]])"
            ],
            "text/latex": "$\\displaystyle \\left[\\begin{matrix}-1 & 5\\\\-3 & -25\\end{matrix}\\right]$"
          },
          "metadata": {},
          "execution_count": 34
        }
      ]
    },
    {
      "cell_type": "markdown",
      "source": [
        "From this example, we can see that $A \\cdot B \\ne B \\cdot A$"
      ],
      "metadata": {
        "id": "2xo88J33eMAG"
      }
    },
    {
      "cell_type": "markdown",
      "source": [
        "##### Example\n",
        "\n",
        "Let\n",
        "$I_{2} =\n",
        "\\left(\\begin{matrix}\n",
        "1 & 0 \\\\\n",
        "0 & 1\n",
        "\\end{matrix}\\right)\n",
        "$ and let\n",
        "$\n",
        "A =\n",
        "\\left(\\begin{matrix}\n",
        "1 & 2 \\\\\n",
        "3 & 4\n",
        "\\end{matrix}\\right)\n",
        "$."
      ],
      "metadata": {
        "id": "eLdDNm94frYa"
      }
    },
    {
      "cell_type": "code",
      "source": [
        "I_2 = np.array([[1, 0], [0, 1]])\n",
        "A = np.array([[1, 2], [3, 4]])"
      ],
      "metadata": {
        "id": "I3fboUCigH36"
      },
      "execution_count": 35,
      "outputs": []
    },
    {
      "cell_type": "code",
      "source": [
        "I_2 @ A"
      ],
      "metadata": {
        "colab": {
          "base_uri": "https://localhost:8080/"
        },
        "id": "5ssYRW3lgSOq",
        "outputId": "e9d9e7b8-8ec9-4f84-fa95-50d8051bfbb2"
      },
      "execution_count": 36,
      "outputs": [
        {
          "output_type": "execute_result",
          "data": {
            "text/plain": [
              "array([[1, 2],\n",
              "       [3, 4]])"
            ]
          },
          "metadata": {},
          "execution_count": 36
        }
      ]
    },
    {
      "cell_type": "code",
      "source": [
        "A @ I_2"
      ],
      "metadata": {
        "colab": {
          "base_uri": "https://localhost:8080/"
        },
        "id": "W2Z0EJfagZNy",
        "outputId": "710dcfc9-1b89-447f-f899-7e2f3307b7cc"
      },
      "execution_count": 37,
      "outputs": [
        {
          "output_type": "execute_result",
          "data": {
            "text/plain": [
              "array([[1, 2],\n",
              "       [3, 4]])"
            ]
          },
          "metadata": {},
          "execution_count": 37
        }
      ]
    },
    {
      "cell_type": "markdown",
      "source": [
        "Note that $I_{2} \\cdot A = A$ and also that $A \\cdot I_{2} = A$."
      ],
      "metadata": {
        "id": "e2to0_qHgdpU"
      }
    },
    {
      "cell_type": "markdown",
      "source": [
        "#### Example"
      ],
      "metadata": {
        "id": "Xcn9s3RkiZPy"
      }
    },
    {
      "cell_type": "code",
      "source": [
        "a, b, c, d = sym.symbols('a b c d')\n",
        "A = sym.Matrix([[a, b], [c, d]])\n",
        "I_2 = sym.Matrix(I_2)"
      ],
      "metadata": {
        "id": "Uj70l8muid2h"
      },
      "execution_count": 38,
      "outputs": []
    },
    {
      "cell_type": "code",
      "source": [
        "A"
      ],
      "metadata": {
        "colab": {
          "base_uri": "https://localhost:8080/",
          "height": 58
        },
        "id": "ipxi7VZpGoc8",
        "outputId": "ec7fb0d1-5018-483f-f3a1-c430c0fbd421"
      },
      "execution_count": 39,
      "outputs": [
        {
          "output_type": "execute_result",
          "data": {
            "text/plain": [
              "Matrix([\n",
              "[a, b],\n",
              "[c, d]])"
            ],
            "text/latex": "$\\displaystyle \\left[\\begin{matrix}a & b\\\\c & d\\end{matrix}\\right]$"
          },
          "metadata": {},
          "execution_count": 39
        }
      ]
    },
    {
      "cell_type": "code",
      "source": [
        "I_2"
      ],
      "metadata": {
        "colab": {
          "base_uri": "https://localhost:8080/",
          "height": 58
        },
        "id": "1c_Pyk42Gp_L",
        "outputId": "038baa33-f361-4b9d-c681-56da2dd64d38"
      },
      "execution_count": 40,
      "outputs": [
        {
          "output_type": "execute_result",
          "data": {
            "text/plain": [
              "Matrix([\n",
              "[1, 0],\n",
              "[0, 1]])"
            ],
            "text/latex": "$\\displaystyle \\left[\\begin{matrix}1 & 0\\\\0 & 1\\end{matrix}\\right]$"
          },
          "metadata": {},
          "execution_count": 40
        }
      ]
    },
    {
      "cell_type": "code",
      "source": [
        "A * I_2 == A, I_2 * A == A"
      ],
      "metadata": {
        "colab": {
          "base_uri": "https://localhost:8080/"
        },
        "id": "E5Rvq8hSiw5d",
        "outputId": "8726c099-e545-4447-c90b-9303b47f7926"
      },
      "execution_count": 41,
      "outputs": [
        {
          "output_type": "execute_result",
          "data": {
            "text/plain": [
              "(True, True)"
            ]
          },
          "metadata": {},
          "execution_count": 41
        }
      ]
    },
    {
      "cell_type": "code",
      "source": [
        "A @ I_2 == A, I_2 @ A == A"
      ],
      "metadata": {
        "colab": {
          "base_uri": "https://localhost:8080/"
        },
        "id": "L0RJ1TcfGtVX",
        "outputId": "026a03a0-7327-4000-ae30-26728992ed27"
      },
      "execution_count": 42,
      "outputs": [
        {
          "output_type": "execute_result",
          "data": {
            "text/plain": [
              "(True, True)"
            ]
          },
          "metadata": {},
          "execution_count": 42
        }
      ]
    },
    {
      "cell_type": "markdown",
      "source": [
        "##### Remark\n",
        "\n",
        "The matrix\n",
        "$I_{2} =\n",
        "\\left(\\begin{matrix}\n",
        "1 & 0 \\\\\n",
        "0 & 1\n",
        "\\end{matrix}\\right)\n",
        "$\n",
        "acts as an identity elment for any $2 \\times 2$ matrix $A$. In fact, it can be shown that $I_{2} \\cdot A = A \\cdot I_{2} = A$ for all $2 \\times 2$ matrices."
      ],
      "metadata": {
        "id": "cREPFF72jHdm"
      }
    },
    {
      "cell_type": "markdown",
      "source": [
        "#### Theorem\n",
        "\n",
        "Let $I_n$ by the $n \\times n$ matrix defined by\n",
        "$I_{n} =\n",
        "\\left(\\begin{matrix}\n",
        "1 & 0 & 0 & \\dots & 0 \\\\\n",
        "0 & 1 & 0 & \\dots & 0 \\\\\n",
        "0 & 0 & 1 & \\dots & 0 \\\\\n",
        "\\vdots & \\vdots & \\vdots & \\ddots & \\vdots \\\\\n",
        "0 & 0 & 0 & \\dots & 1\n",
        "\\end{matrix}\\right)\n",
        "$\n",
        "\n",
        "Then for any $n \\times n$ matrix $A$,\n",
        "\n",
        "$I_{n} \\cdot A$ = $A \\cdot I_{n} = A$."
      ],
      "metadata": {
        "id": "M6SU_I67kb0s"
      }
    },
    {
      "cell_type": "markdown",
      "source": [
        "##### Definition: Identity Matrix\n",
        "\n",
        "The matrix $I_{n}$ is called the **identity matrix** for the set of $n \\times n$ matrrices.\n",
        "\n",
        "We will simply write $I$ for $I_{n}$ when this is unlikely to cause confusion."
      ],
      "metadata": {
        "id": "1_NcXpHCmR8h"
      }
    },
    {
      "cell_type": "markdown",
      "source": [
        "## 1.2.2.3 A Practical Example of Matrix Multiplication"
      ],
      "metadata": {
        "id": "e6Dzdc8zmzGh"
      }
    },
    {
      "cell_type": "markdown",
      "source": [
        "### Problem\n",
        "\n",
        "- You only have time to visit one store\n",
        "- You have choice of three supermarkets: A, B, C\n",
        "- You need: Broccoli (2.5 pounds), tomatoes (4 pounds), carrots (2 pounds)\n",
        "- Your goal is to spend as little money as possible\n",
        "- Prices, per pound, are shown in the table below"
      ],
      "metadata": {
        "id": "qIInbEGvVvqp"
      }
    },
    {
      "cell_type": "markdown",
      "source": [
        "\n",
        "|Supermarket|Broccoli|Tomatoes|Carrots|\n",
        "|-|-|-|-|\n",
        "|A|\\$1.49|\\$3.99|\\$2.49|\n",
        "|B|\\$1.69|\\$2.49|\\$1.69|\n",
        "|C|\\$1.04|\\$3.52|\\$1.28|\n",
        ""
      ],
      "metadata": {
        "id": "lzM6BKBVWvUI"
      }
    },
    {
      "cell_type": "markdown",
      "source": [
        "To find the best shopping option, simply find $P \\cdot A$ and pick the smallest number in the product.\n",
        "\n",
        "$$\n",
        "\\begin{align}\n",
        "P \\cdot A &=\n",
        "\\left(\\begin{matrix}\n",
        "1.49 & 3.99 & 2.49 \\\\\n",
        "1.69 & 2.49 & 1.69 \\\\\n",
        "1.04 & 3.52 & 1.28\n",
        "\\end{matrix}\\right)\n",
        "\\left(\\begin{matrix}\n",
        "2.5 \\\\\n",
        "4 \\\\\n",
        "2\n",
        "\\end{matrix}\\right) \\\\ &=\n",
        "\\left(\\begin{matrix}\n",
        "24.665 \\\\\n",
        "17.565 \\\\\n",
        "19.24\n",
        "\\end{matrix}\\right)\n",
        "\\end{align}\n",
        "$$\n",
        "\n",
        "$\\therefore$ I should go to supermarket B, where it will cost about $\\$17.57$ for the items I need."
      ],
      "metadata": {
        "id": "7q01KpwabrH1"
      }
    },
    {
      "cell_type": "code",
      "source": [
        "# Prices, per pound\n",
        "P = np.array([[1.49, 3.99, 2.49],\n",
        "              [1.69, 2.49, 1.69],\n",
        "              [1.04, 3.52, 1.28]])\n",
        "\n",
        "# Qauntities needed\n",
        "Q = np.array([2.5, 4, 2]).reshape(3, 1)"
      ],
      "metadata": {
        "id": "BKsHnBKRYpKt"
      },
      "execution_count": 43,
      "outputs": []
    },
    {
      "cell_type": "code",
      "source": [
        "P @ Q"
      ],
      "metadata": {
        "colab": {
          "base_uri": "https://localhost:8080/"
        },
        "id": "JrYuW6PYZl2s",
        "outputId": "7ce3b715-2eb4-450d-b07d-a31d1f6c4dec"
      },
      "execution_count": 44,
      "outputs": [
        {
          "output_type": "execute_result",
          "data": {
            "text/plain": [
              "array([[24.665],\n",
              "       [17.565],\n",
              "       [19.24 ]])"
            ]
          },
          "metadata": {},
          "execution_count": 44
        }
      ]
    },
    {
      "cell_type": "code",
      "source": [
        "P.dot(Q)"
      ],
      "metadata": {
        "colab": {
          "base_uri": "https://localhost:8080/"
        },
        "id": "aL60wI3yZ5GM",
        "outputId": "76626a61-a265-4b7c-8b91-fd3169b259ff"
      },
      "execution_count": 45,
      "outputs": [
        {
          "output_type": "execute_result",
          "data": {
            "text/plain": [
              "array([[24.665],\n",
              "       [17.565],\n",
              "       [19.24 ]])"
            ]
          },
          "metadata": {},
          "execution_count": 45
        }
      ]
    },
    {
      "cell_type": "code",
      "source": [
        "P = sym.Matrix(P)\n",
        "Q = sym.Matrix(Q)\n",
        "P * Q"
      ],
      "metadata": {
        "colab": {
          "base_uri": "https://localhost:8080/",
          "height": 78
        },
        "id": "1Tz3sa4faBMC",
        "outputId": "699b4c02-22d4-4606-9309-dfd6e7dc4be3"
      },
      "execution_count": 46,
      "outputs": [
        {
          "output_type": "execute_result",
          "data": {
            "text/plain": [
              "Matrix([\n",
              "[24.665],\n",
              "[17.565],\n",
              "[ 19.24]])"
            ],
            "text/latex": "$\\displaystyle \\left[\\begin{matrix}24.665\\\\17.565\\\\19.24\\end{matrix}\\right]$"
          },
          "metadata": {},
          "execution_count": 46
        }
      ]
    },
    {
      "cell_type": "markdown",
      "source": [
        "## 1.2.2.4 Using Matrix Algebra in Python"
      ],
      "metadata": {
        "id": "Wtr5BpjHg-o5"
      }
    },
    {
      "cell_type": "code",
      "source": [
        "L = np.linspace(-8, 8, 9)\n",
        "M = L.reshape(3, 3)\n",
        "M"
      ],
      "metadata": {
        "colab": {
          "base_uri": "https://localhost:8080/"
        },
        "id": "NtrHi0a4kkpw",
        "outputId": "a18bf6e7-f4c7-40bb-ffa4-e1190bbd901f"
      },
      "execution_count": 47,
      "outputs": [
        {
          "output_type": "execute_result",
          "data": {
            "text/plain": [
              "array([[-8., -6., -4.],\n",
              "       [-2.,  0.,  2.],\n",
              "       [ 4.,  6.,  8.]])"
            ]
          },
          "metadata": {},
          "execution_count": 47
        }
      ]
    },
    {
      "cell_type": "code",
      "source": [
        "N = np.array([[4, 1, -7],\n",
        "              [-6, -6, -6],\n",
        "              [-3, 7, 3]])\n",
        "N"
      ],
      "metadata": {
        "colab": {
          "base_uri": "https://localhost:8080/"
        },
        "id": "DeboCsuOlYTP",
        "outputId": "70433d99-02a5-4745-933e-1a8f6e9c1d92"
      },
      "execution_count": 48,
      "outputs": [
        {
          "output_type": "execute_result",
          "data": {
            "text/plain": [
              "array([[ 4,  1, -7],\n",
              "       [-6, -6, -6],\n",
              "       [-3,  7,  3]])"
            ]
          },
          "metadata": {},
          "execution_count": 48
        }
      ]
    },
    {
      "cell_type": "code",
      "source": [
        "A = np.array([[1, 2, 3],\n",
        "              [4, 5, 6]])\n",
        "B = np.array([[7, 2, -3],\n",
        "              [0, 1, 6]])"
      ],
      "metadata": {
        "id": "-lZ7vS-emx9e"
      },
      "execution_count": 49,
      "outputs": []
    },
    {
      "cell_type": "markdown",
      "source": [
        "### Multiplying Matrices"
      ],
      "metadata": {
        "id": "BDZ6NmYKjMWS"
      }
    },
    {
      "cell_type": "markdown",
      "source": [
        "#### NumPy"
      ],
      "metadata": {
        "id": "FIjObWB6l6N8"
      }
    },
    {
      "cell_type": "code",
      "source": [
        "np.matmul(M, N)"
      ],
      "metadata": {
        "colab": {
          "base_uri": "https://localhost:8080/"
        },
        "id": "uoM_zWLkmCZc",
        "outputId": "12756b0e-ef60-4a0f-adc2-cd7480d1094f"
      },
      "execution_count": 50,
      "outputs": [
        {
          "output_type": "execute_result",
          "data": {
            "text/plain": [
              "array([[ 16.,   0.,  80.],\n",
              "       [-14.,  12.,  20.],\n",
              "       [-44.,  24., -40.]])"
            ]
          },
          "metadata": {},
          "execution_count": 50
        }
      ]
    },
    {
      "cell_type": "code",
      "source": [
        "np.dot(M, N)"
      ],
      "metadata": {
        "colab": {
          "base_uri": "https://localhost:8080/"
        },
        "id": "o3K8H4gkmHoB",
        "outputId": "2348ab42-cdac-4473-d212-3c4e256a0d2b"
      },
      "execution_count": 51,
      "outputs": [
        {
          "output_type": "execute_result",
          "data": {
            "text/plain": [
              "array([[ 16.,   0.,  80.],\n",
              "       [-14.,  12.,  20.],\n",
              "       [-44.,  24., -40.]])"
            ]
          },
          "metadata": {},
          "execution_count": 51
        }
      ]
    },
    {
      "cell_type": "code",
      "source": [
        "M.dot(N)"
      ],
      "metadata": {
        "colab": {
          "base_uri": "https://localhost:8080/"
        },
        "id": "1qcCwVj1mPZ3",
        "outputId": "6f20ddf9-96a7-445a-db3b-6edca4984fd9"
      },
      "execution_count": 52,
      "outputs": [
        {
          "output_type": "execute_result",
          "data": {
            "text/plain": [
              "array([[ 16.,   0.,  80.],\n",
              "       [-14.,  12.,  20.],\n",
              "       [-44.,  24., -40.]])"
            ]
          },
          "metadata": {},
          "execution_count": 52
        }
      ]
    },
    {
      "cell_type": "code",
      "source": [
        "M @ N"
      ],
      "metadata": {
        "colab": {
          "base_uri": "https://localhost:8080/"
        },
        "id": "UIelMYkQmR-g",
        "outputId": "94b1f2bb-bed0-4c2a-ba0c-b181737ca72e"
      },
      "execution_count": 53,
      "outputs": [
        {
          "output_type": "execute_result",
          "data": {
            "text/plain": [
              "array([[ 16.,   0.,  80.],\n",
              "       [-14.,  12.,  20.],\n",
              "       [-44.,  24., -40.]])"
            ]
          },
          "metadata": {},
          "execution_count": 53
        }
      ]
    },
    {
      "cell_type": "code",
      "source": [
        "A"
      ],
      "metadata": {
        "colab": {
          "base_uri": "https://localhost:8080/"
        },
        "id": "M5vx1lLUm45A",
        "outputId": "9df59ac1-d77b-4997-818a-024bd2cc351f"
      },
      "execution_count": 54,
      "outputs": [
        {
          "output_type": "execute_result",
          "data": {
            "text/plain": [
              "array([[1, 2, 3],\n",
              "       [4, 5, 6]])"
            ]
          },
          "metadata": {},
          "execution_count": 54
        }
      ]
    },
    {
      "cell_type": "code",
      "source": [
        "B"
      ],
      "metadata": {
        "colab": {
          "base_uri": "https://localhost:8080/"
        },
        "id": "buNa8--lngJY",
        "outputId": "3f4aba2c-ac70-45b6-bafd-530ae5f571ec"
      },
      "execution_count": 55,
      "outputs": [
        {
          "output_type": "execute_result",
          "data": {
            "text/plain": [
              "array([[ 7,  2, -3],\n",
              "       [ 0,  1,  6]])"
            ]
          },
          "metadata": {},
          "execution_count": 55
        }
      ]
    },
    {
      "cell_type": "code",
      "source": [
        "B.T"
      ],
      "metadata": {
        "colab": {
          "base_uri": "https://localhost:8080/"
        },
        "id": "6tImObFdnhs2",
        "outputId": "04a4a00a-ffe3-4f07-bc24-2da6fa480156"
      },
      "execution_count": 56,
      "outputs": [
        {
          "output_type": "execute_result",
          "data": {
            "text/plain": [
              "array([[ 7,  0],\n",
              "       [ 2,  1],\n",
              "       [-3,  6]])"
            ]
          },
          "metadata": {},
          "execution_count": 56
        }
      ]
    },
    {
      "cell_type": "code",
      "source": [
        "A.shape, B.T.shape"
      ],
      "metadata": {
        "colab": {
          "base_uri": "https://localhost:8080/"
        },
        "id": "xw5AC8wjnnTE",
        "outputId": "386125bd-872b-4e0d-991b-ae2a004fbd69"
      },
      "execution_count": 57,
      "outputs": [
        {
          "output_type": "execute_result",
          "data": {
            "text/plain": [
              "((2, 3), (3, 2))"
            ]
          },
          "metadata": {},
          "execution_count": 57
        }
      ]
    },
    {
      "cell_type": "code",
      "source": [
        "A.dot(B.T)"
      ],
      "metadata": {
        "colab": {
          "base_uri": "https://localhost:8080/"
        },
        "id": "84kTXJAMnrY6",
        "outputId": "4a90ab96-013b-4287-a759-e0250b94c0c5"
      },
      "execution_count": 58,
      "outputs": [
        {
          "output_type": "execute_result",
          "data": {
            "text/plain": [
              "array([[ 2, 20],\n",
              "       [20, 41]])"
            ]
          },
          "metadata": {},
          "execution_count": 58
        }
      ]
    },
    {
      "cell_type": "markdown",
      "source": [
        "#### SymPy"
      ],
      "metadata": {
        "id": "KLxf9XCMoDWl"
      }
    },
    {
      "cell_type": "code",
      "source": [
        "sM = sym.Matrix(M)\n",
        "sN = sym.Matrix(N)\n",
        "sA = sym.Matrix(A)\n",
        "sB = sym.Matrix(B)"
      ],
      "metadata": {
        "id": "RwJHJzjFoGta"
      },
      "execution_count": 59,
      "outputs": []
    },
    {
      "cell_type": "code",
      "source": [
        "sM * sN"
      ],
      "metadata": {
        "colab": {
          "base_uri": "https://localhost:8080/",
          "height": 78
        },
        "id": "qDniiNPkoWVA",
        "outputId": "7d589edf-3474-4132-935a-f3e962f59c0e"
      },
      "execution_count": 60,
      "outputs": [
        {
          "output_type": "execute_result",
          "data": {
            "text/plain": [
              "Matrix([\n",
              "[ 16.0,    0,  80.0],\n",
              "[-14.0, 12.0,  20.0],\n",
              "[-44.0, 24.0, -40.0]])"
            ],
            "text/latex": "$\\displaystyle \\left[\\begin{matrix}16.0 & 0 & 80.0\\\\-14.0 & 12.0 & 20.0\\\\-44.0 & 24.0 & -40.0\\end{matrix}\\right]$"
          },
          "metadata": {},
          "execution_count": 60
        }
      ]
    },
    {
      "cell_type": "code",
      "source": [
        "sA * sB.T"
      ],
      "metadata": {
        "colab": {
          "base_uri": "https://localhost:8080/",
          "height": 58
        },
        "id": "OKTF5LsuoaBg",
        "outputId": "c9033772-839e-46f3-d7e2-976801f69e86"
      },
      "execution_count": 61,
      "outputs": [
        {
          "output_type": "execute_result",
          "data": {
            "text/plain": [
              "Matrix([\n",
              "[ 2, 20],\n",
              "[20, 41]])"
            ],
            "text/latex": "$\\displaystyle \\left[\\begin{matrix}2 & 20\\\\20 & 41\\end{matrix}\\right]$"
          },
          "metadata": {},
          "execution_count": 61
        }
      ]
    },
    {
      "cell_type": "markdown",
      "source": [
        "### Calculating Matrix Determinant"
      ],
      "metadata": {
        "id": "Lac_vTAYpF5G"
      }
    },
    {
      "cell_type": "markdown",
      "source": [
        "#### NumPy"
      ],
      "metadata": {
        "id": "xMp22Y-ArOyC"
      }
    },
    {
      "cell_type": "code",
      "source": [
        "np.linalg.det(M)"
      ],
      "metadata": {
        "colab": {
          "base_uri": "https://localhost:8080/"
        },
        "id": "ywGRUNXmrNZ6",
        "outputId": "e22acab5-af3e-4ed1-b7f0-ef01db46fdbf"
      },
      "execution_count": 62,
      "outputs": [
        {
          "output_type": "execute_result",
          "data": {
            "text/plain": [
              "0.0"
            ]
          },
          "metadata": {},
          "execution_count": 62
        }
      ]
    },
    {
      "cell_type": "code",
      "source": [
        "np.linalg.det(N)"
      ],
      "metadata": {
        "colab": {
          "base_uri": "https://localhost:8080/"
        },
        "id": "2DCsGISAreHO",
        "outputId": "53efc1ee-d956-4d40-8ff9-255dccbee93b"
      },
      "execution_count": 63,
      "outputs": [
        {
          "output_type": "execute_result",
          "data": {
            "text/plain": [
              "552.0000000000003"
            ]
          },
          "metadata": {},
          "execution_count": 63
        }
      ]
    },
    {
      "cell_type": "markdown",
      "source": [
        "#### SciPy"
      ],
      "metadata": {
        "id": "4VBZnUs9rqy9"
      }
    },
    {
      "cell_type": "code",
      "source": [
        "import scipy.linalg as la"
      ],
      "metadata": {
        "id": "wdDqFF29rttX"
      },
      "execution_count": 64,
      "outputs": []
    },
    {
      "cell_type": "code",
      "source": [
        "la.det(M)"
      ],
      "metadata": {
        "colab": {
          "base_uri": "https://localhost:8080/"
        },
        "id": "bX-CWspcskPu",
        "outputId": "09dc36c1-8e8f-47ad-b3bc-bbae07dc7dce"
      },
      "execution_count": 65,
      "outputs": [
        {
          "output_type": "execute_result",
          "data": {
            "text/plain": [
              "0.0"
            ]
          },
          "metadata": {},
          "execution_count": 65
        }
      ]
    },
    {
      "cell_type": "code",
      "source": [
        "la.det(N)"
      ],
      "metadata": {
        "colab": {
          "base_uri": "https://localhost:8080/"
        },
        "id": "FrXKBHiksmjg",
        "outputId": "36fc4a1b-4eec-42b3-c7b4-fdab5c77b7c8"
      },
      "execution_count": 66,
      "outputs": [
        {
          "output_type": "execute_result",
          "data": {
            "text/plain": [
              "552.0"
            ]
          },
          "metadata": {},
          "execution_count": 66
        }
      ]
    },
    {
      "cell_type": "markdown",
      "source": [
        "#### SymPy"
      ],
      "metadata": {
        "id": "aoT7Y0PasqNL"
      }
    },
    {
      "cell_type": "code",
      "source": [
        "sym.det(sM)"
      ],
      "metadata": {
        "colab": {
          "base_uri": "https://localhost:8080/",
          "height": 37
        },
        "id": "uQfcBj91stfN",
        "outputId": "732e1ae3-5c27-4e88-fd1b-d2cba25e9a02"
      },
      "execution_count": 67,
      "outputs": [
        {
          "output_type": "execute_result",
          "data": {
            "text/plain": [
              "0"
            ],
            "text/latex": "$\\displaystyle 0$"
          },
          "metadata": {},
          "execution_count": 67
        }
      ]
    },
    {
      "cell_type": "code",
      "source": [
        "sM.det()"
      ],
      "metadata": {
        "colab": {
          "base_uri": "https://localhost:8080/",
          "height": 37
        },
        "id": "muI5WPOOs1by",
        "outputId": "c60c4653-8edc-462d-dee8-ef18c79e167e"
      },
      "execution_count": 68,
      "outputs": [
        {
          "output_type": "execute_result",
          "data": {
            "text/plain": [
              "0"
            ],
            "text/latex": "$\\displaystyle 0$"
          },
          "metadata": {},
          "execution_count": 68
        }
      ]
    },
    {
      "cell_type": "code",
      "source": [
        "sym.det(sN)"
      ],
      "metadata": {
        "colab": {
          "base_uri": "https://localhost:8080/",
          "height": 37
        },
        "id": "2Pr5LMa6s3ic",
        "outputId": "0c2e338f-0c61-4de3-8196-b23db9676b80"
      },
      "execution_count": 69,
      "outputs": [
        {
          "output_type": "execute_result",
          "data": {
            "text/plain": [
              "552"
            ],
            "text/latex": "$\\displaystyle 552$"
          },
          "metadata": {},
          "execution_count": 69
        }
      ]
    },
    {
      "cell_type": "code",
      "source": [
        "sN.det()"
      ],
      "metadata": {
        "colab": {
          "base_uri": "https://localhost:8080/",
          "height": 37
        },
        "id": "YAcXi_P_s6Wg",
        "outputId": "be71f07a-bca7-4280-935e-d75d040e6039"
      },
      "execution_count": 70,
      "outputs": [
        {
          "output_type": "execute_result",
          "data": {
            "text/plain": [
              "552"
            ],
            "text/latex": "$\\displaystyle 552$"
          },
          "metadata": {},
          "execution_count": 70
        }
      ]
    },
    {
      "cell_type": "markdown",
      "source": [
        "### Inverse of a Matrix"
      ],
      "metadata": {
        "id": "gg93SIg5uRKV"
      }
    },
    {
      "cell_type": "markdown",
      "source": [
        "#### NumPy"
      ],
      "metadata": {
        "id": "iwL0v855uWJZ"
      }
    },
    {
      "cell_type": "code",
      "source": [
        "np.linalg.inv(N)"
      ],
      "metadata": {
        "colab": {
          "base_uri": "https://localhost:8080/"
        },
        "id": "0keZ1kmJuYqo",
        "outputId": "a46b754d-c940-4b15-d36f-ef3106bb0d26"
      },
      "execution_count": 71,
      "outputs": [
        {
          "output_type": "execute_result",
          "data": {
            "text/plain": [
              "array([[ 0.04347826, -0.0942029 , -0.08695652],\n",
              "       [ 0.06521739, -0.01630435,  0.11956522],\n",
              "       [-0.10869565, -0.05615942, -0.0326087 ]])"
            ]
          },
          "metadata": {},
          "execution_count": 71
        }
      ]
    },
    {
      "cell_type": "markdown",
      "source": [
        "#### SymPy"
      ],
      "metadata": {
        "id": "NmLUnF-duhsV"
      }
    },
    {
      "cell_type": "code",
      "source": [
        "sN.inv()"
      ],
      "metadata": {
        "colab": {
          "base_uri": "https://localhost:8080/",
          "height": 78
        },
        "id": "yah79iXmul7i",
        "outputId": "2ea7a688-ed98-4a92-f0b3-9ca58eb6f52b"
      },
      "execution_count": 72,
      "outputs": [
        {
          "output_type": "execute_result",
          "data": {
            "text/plain": [
              "Matrix([\n",
              "[ 1/23, -13/138, -2/23],\n",
              "[ 3/46,  -3/184, 11/92],\n",
              "[-5/46, -31/552, -3/92]])"
            ],
            "text/latex": "$\\displaystyle \\left[\\begin{matrix}\\frac{1}{23} & - \\frac{13}{138} & - \\frac{2}{23}\\\\\\frac{3}{46} & - \\frac{3}{184} & \\frac{11}{92}\\\\- \\frac{5}{46} & - \\frac{31}{552} & - \\frac{3}{92}\\end{matrix}\\right]$"
          },
          "metadata": {},
          "execution_count": 72
        }
      ]
    },
    {
      "cell_type": "code",
      "source": [
        "sN.inv().evalf()"
      ],
      "metadata": {
        "colab": {
          "base_uri": "https://localhost:8080/",
          "height": 78
        },
        "id": "VCqoGSJtu2gl",
        "outputId": "e7dafff4-e385-48f9-fb38-ba6c17fac021"
      },
      "execution_count": 73,
      "outputs": [
        {
          "output_type": "execute_result",
          "data": {
            "text/plain": [
              "Matrix([\n",
              "[0.0434782608695652, -0.0942028985507246, -0.0869565217391304],\n",
              "[0.0652173913043478,  -0.016304347826087,   0.119565217391304],\n",
              "[-0.108695652173913, -0.0561594202898551, -0.0326086956521739]])"
            ],
            "text/latex": "$\\displaystyle \\left[\\begin{matrix}0.0434782608695652 & -0.0942028985507246 & -0.0869565217391304\\\\0.0652173913043478 & -0.016304347826087 & 0.119565217391304\\\\-0.108695652173913 & -0.0561594202898551 & -0.0326086956521739\\end{matrix}\\right]$"
          },
          "metadata": {},
          "execution_count": 73
        }
      ]
    },
    {
      "cell_type": "code",
      "source": [
        "sN**-1"
      ],
      "metadata": {
        "colab": {
          "base_uri": "https://localhost:8080/",
          "height": 78
        },
        "id": "RXy4K25Tu6ib",
        "outputId": "f8341898-801d-4687-8529-911a9dcb2dcb"
      },
      "execution_count": 74,
      "outputs": [
        {
          "output_type": "execute_result",
          "data": {
            "text/plain": [
              "Matrix([\n",
              "[ 1/23, -13/138, -2/23],\n",
              "[ 3/46,  -3/184, 11/92],\n",
              "[-5/46, -31/552, -3/92]])"
            ],
            "text/latex": "$\\displaystyle \\left[\\begin{matrix}\\frac{1}{23} & - \\frac{13}{138} & - \\frac{2}{23}\\\\\\frac{3}{46} & - \\frac{3}{184} & \\frac{11}{92}\\\\- \\frac{5}{46} & - \\frac{31}{552} & - \\frac{3}{92}\\end{matrix}\\right]$"
          },
          "metadata": {},
          "execution_count": 74
        }
      ]
    },
    {
      "cell_type": "markdown",
      "source": [
        "## 1.2.2.5 Practice Quiz"
      ],
      "metadata": {
        "id": "x7A2SxuCwgUd"
      }
    },
    {
      "cell_type": "code",
      "source": [
        "M = np.array([[-3, 1, 4], [2, 5, 9], [-1, 8, 6]])\n",
        "M"
      ],
      "metadata": {
        "colab": {
          "base_uri": "https://localhost:8080/"
        },
        "id": "HFs0R2DvLY4T",
        "outputId": "8328d6d9-2ca8-49ed-b411-c89476fafee3"
      },
      "execution_count": 75,
      "outputs": [
        {
          "output_type": "execute_result",
          "data": {
            "text/plain": [
              "array([[-3,  1,  4],\n",
              "       [ 2,  5,  9],\n",
              "       [-1,  8,  6]])"
            ]
          },
          "metadata": {},
          "execution_count": 75
        }
      ]
    },
    {
      "cell_type": "code",
      "source": [
        "M + 3"
      ],
      "metadata": {
        "colab": {
          "base_uri": "https://localhost:8080/"
        },
        "id": "P3UcbMuwLlbS",
        "outputId": "e5d78c00-dcc5-4828-8686-f3adcbe7ddd2"
      },
      "execution_count": 76,
      "outputs": [
        {
          "output_type": "execute_result",
          "data": {
            "text/plain": [
              "array([[ 0,  4,  7],\n",
              "       [ 5,  8, 12],\n",
              "       [ 2, 11,  9]])"
            ]
          },
          "metadata": {},
          "execution_count": 76
        }
      ]
    },
    {
      "cell_type": "markdown",
      "source": [
        "## 1.2.2.6 Quiz"
      ],
      "metadata": {
        "id": "arBt-C8yMhyU"
      }
    },
    {
      "cell_type": "code",
      "source": [
        "A = np.array([[3, -1], [2, -2]])\n",
        "A"
      ],
      "metadata": {
        "colab": {
          "base_uri": "https://localhost:8080/"
        },
        "id": "v45EL1DAMmFl",
        "outputId": "b0553b09-e783-4c7f-ffb0-095c0860b5f0"
      },
      "execution_count": 77,
      "outputs": [
        {
          "output_type": "execute_result",
          "data": {
            "text/plain": [
              "array([[ 3, -1],\n",
              "       [ 2, -2]])"
            ]
          },
          "metadata": {},
          "execution_count": 77
        }
      ]
    },
    {
      "cell_type": "code",
      "source": [
        "B = np.array([[1, 2, -1],\n",
        "              [0, 2, 7]])\n",
        "B"
      ],
      "metadata": {
        "colab": {
          "base_uri": "https://localhost:8080/"
        },
        "id": "1uxYeJ73Mz93",
        "outputId": "33ce4d0e-8fa1-4f7c-bb57-6bd0054c8da5"
      },
      "execution_count": 78,
      "outputs": [
        {
          "output_type": "execute_result",
          "data": {
            "text/plain": [
              "array([[ 1,  2, -1],\n",
              "       [ 0,  2,  7]])"
            ]
          },
          "metadata": {},
          "execution_count": 78
        }
      ]
    },
    {
      "cell_type": "code",
      "source": [
        "(2 * A) @ B"
      ],
      "metadata": {
        "colab": {
          "base_uri": "https://localhost:8080/"
        },
        "id": "CjjRayOPM76T",
        "outputId": "133c9901-3f1c-41a7-c821-ec722bc3071f"
      },
      "execution_count": 79,
      "outputs": [
        {
          "output_type": "execute_result",
          "data": {
            "text/plain": [
              "array([[  6,   8, -20],\n",
              "       [  4,   0, -32]])"
            ]
          },
          "metadata": {},
          "execution_count": 79
        }
      ]
    },
    {
      "cell_type": "code",
      "source": [
        "sp_A = sym.Matrix(A)\n",
        "sp_A"
      ],
      "metadata": {
        "colab": {
          "base_uri": "https://localhost:8080/",
          "height": 58
        },
        "id": "Wu2Kgq0INCrm",
        "outputId": "e2b939e0-30e7-4fdc-8cd2-50245b7f1598"
      },
      "execution_count": 80,
      "outputs": [
        {
          "output_type": "execute_result",
          "data": {
            "text/plain": [
              "Matrix([\n",
              "[3, -1],\n",
              "[2, -2]])"
            ],
            "text/latex": "$\\displaystyle \\left[\\begin{matrix}3 & -1\\\\2 & -2\\end{matrix}\\right]$"
          },
          "metadata": {},
          "execution_count": 80
        }
      ]
    },
    {
      "cell_type": "code",
      "source": [
        "sp_B = sym.Matrix(B)\n",
        "sp_B"
      ],
      "metadata": {
        "colab": {
          "base_uri": "https://localhost:8080/",
          "height": 58
        },
        "id": "9_E33dIzNG9r",
        "outputId": "5d4a8139-f36c-40c0-bd8e-83920c2cb1f1"
      },
      "execution_count": 81,
      "outputs": [
        {
          "output_type": "execute_result",
          "data": {
            "text/plain": [
              "Matrix([\n",
              "[1, 2, -1],\n",
              "[0, 2,  7]])"
            ],
            "text/latex": "$\\displaystyle \\left[\\begin{matrix}1 & 2 & -1\\\\0 & 2 & 7\\end{matrix}\\right]$"
          },
          "metadata": {},
          "execution_count": 81
        }
      ]
    },
    {
      "cell_type": "code",
      "source": [
        "2 * sp_A * sp_B"
      ],
      "metadata": {
        "colab": {
          "base_uri": "https://localhost:8080/",
          "height": 58
        },
        "id": "Owb5oYhgNLBz",
        "outputId": "3aade969-22af-4673-b670-429a73628945"
      },
      "execution_count": 82,
      "outputs": [
        {
          "output_type": "execute_result",
          "data": {
            "text/plain": [
              "Matrix([\n",
              "[6, 8, -20],\n",
              "[4, 0, -32]])"
            ],
            "text/latex": "$\\displaystyle \\left[\\begin{matrix}6 & 8 & -20\\\\4 & 0 & -32\\end{matrix}\\right]$"
          },
          "metadata": {},
          "execution_count": 82
        }
      ]
    }
  ]
}