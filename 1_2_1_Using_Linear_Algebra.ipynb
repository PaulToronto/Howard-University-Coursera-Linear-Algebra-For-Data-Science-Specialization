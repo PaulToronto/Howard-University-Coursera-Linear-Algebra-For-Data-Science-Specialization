{
  "nbformat": 4,
  "nbformat_minor": 0,
  "metadata": {
    "colab": {
      "provenance": [],
      "collapsed_sections": [
        "dIuLxySQGp1Z",
        "9nOeuE29HMc6",
        "wiv0axR_I-Nv",
        "N0R6NkoM10by",
        "6sYmKl2gJeSV",
        "ot2bvBTb2Qa7",
        "VjPFBHOmJnnJ",
        "QNkCBv1D4CkP",
        "0RC7kAdHKm8m",
        "9_Beszt5781k",
        "NicauXjL_olr",
        "XuJMw16RPYes",
        "3-aJe7nFADTy",
        "caV6TXlzQ1yb",
        "HBIKF1GAZbxV",
        "nrXLeIGhfGcy",
        "yAj3bREdajzt",
        "Yn2LG6b7eCyA",
        "bZFwOAfllmOu"
      ],
      "toc_visible": true,
      "authorship_tag": "ABX9TyMJgx7TmAAKP22nUynC5w0n",
      "include_colab_link": true
    },
    "kernelspec": {
      "name": "python3",
      "display_name": "Python 3"
    },
    "language_info": {
      "name": "python"
    }
  },
  "cells": [
    {
      "cell_type": "markdown",
      "metadata": {
        "id": "view-in-github",
        "colab_type": "text"
      },
      "source": [
        "<a href=\"https://colab.research.google.com/github/PaulToronto/Howard-University-Coursera-Linear_Algebra-For-Data-Science-Specialization/blob/main/1_2_1_Using_Linear_Algebra.ipynb\" target=\"_parent\"><img src=\"https://colab.research.google.com/assets/colab-badge.svg\" alt=\"Open In Colab\"/></a>"
      ]
    },
    {
      "cell_type": "markdown",
      "source": [
        "# 1.2.1 Using Linear Algebra"
      ],
      "metadata": {
        "id": "sQpkE21IjKyD"
      }
    },
    {
      "cell_type": "code",
      "source": [
        "import numpy as np\n",
        "import random\n",
        "import sympy as sp"
      ],
      "metadata": {
        "id": "NLxCc2G2mJkg"
      },
      "execution_count": 1,
      "outputs": []
    },
    {
      "cell_type": "markdown",
      "source": [
        "## 1.2.1.1 Introduction to Linear Algebra Functions in Python"
      ],
      "metadata": {
        "id": "5oYPHLHwkVSe"
      }
    },
    {
      "cell_type": "code",
      "execution_count": 2,
      "metadata": {
        "id": "9dz_frzXjFgD"
      },
      "outputs": [],
      "source": [
        "M = np.linspace(-8, 8, 9).reshape(3, 3)\n",
        "N = np.random.randint(-8, 8, size=(3, 3))\n",
        "O = 2*N\n",
        "\n",
        "sp_M = sp.Matrix(M)\n",
        "sp_N = sp.Matrix(N)\n",
        "sp_O = sp.Matrix(O)\n",
        "\n",
        "v1 = np.array([1, 3, 5, 7])\n",
        "v2 = np.array([2, 4, 6, 8])\n",
        "v3 = np.array([-2, 5, 1, 3])\n",
        "\n",
        "sp_v1 = sp.Matrix(v1)\n",
        "sp_v2 = sp.Matrix(v2)\n",
        "sp_v3 = sp.Matrix(v3)"
      ]
    },
    {
      "cell_type": "markdown",
      "source": [
        "### `dot()` for two vectors\n",
        "\n",
        "The `dot` function calculates the **dot product* of two vectors."
      ],
      "metadata": {
        "id": "3b5hR8JCnhLI"
      }
    },
    {
      "cell_type": "code",
      "source": [
        "v1, v2"
      ],
      "metadata": {
        "colab": {
          "base_uri": "https://localhost:8080/"
        },
        "id": "9pVw6mWZnws7",
        "outputId": "c6294128-ff80-464d-db48-7311e265975a"
      },
      "execution_count": 3,
      "outputs": [
        {
          "output_type": "execute_result",
          "data": {
            "text/plain": [
              "(array([1, 3, 5, 7]), array([2, 4, 6, 8]))"
            ]
          },
          "metadata": {},
          "execution_count": 3
        }
      ]
    },
    {
      "cell_type": "code",
      "source": [
        "np.dot(v1, v2)"
      ],
      "metadata": {
        "colab": {
          "base_uri": "https://localhost:8080/"
        },
        "id": "6uvv264nn3m8",
        "outputId": "3cd372e8-0f9c-47ea-f41b-974926be7eac"
      },
      "execution_count": 4,
      "outputs": [
        {
          "output_type": "execute_result",
          "data": {
            "text/plain": [
              "100"
            ]
          },
          "metadata": {},
          "execution_count": 4
        }
      ]
    },
    {
      "cell_type": "code",
      "source": [
        "v1.dot(v2)"
      ],
      "metadata": {
        "colab": {
          "base_uri": "https://localhost:8080/"
        },
        "id": "NOnR_L29n99W",
        "outputId": "53411bac-8953-49be-988d-26356a2d0db6"
      },
      "execution_count": 5,
      "outputs": [
        {
          "output_type": "execute_result",
          "data": {
            "text/plain": [
              "100"
            ]
          },
          "metadata": {},
          "execution_count": 5
        }
      ]
    },
    {
      "cell_type": "markdown",
      "source": [
        "#### Sympy"
      ],
      "metadata": {
        "id": "2aqxi8jHDX3V"
      }
    },
    {
      "cell_type": "code",
      "source": [
        "sp.DotProduct(sp_v1, sp_v2)"
      ],
      "metadata": {
        "colab": {
          "base_uri": "https://localhost:8080/",
          "height": 99
        },
        "id": "5EHvHDybEDAk",
        "outputId": "93fdbdf6-3556-4f6d-984b-22c4d14d1d82"
      },
      "execution_count": 6,
      "outputs": [
        {
          "output_type": "execute_result",
          "data": {
            "text/plain": [
              "DotProduct(Matrix([\n",
              "[1],\n",
              "[3],\n",
              "[5],\n",
              "[7]]), Matrix([\n",
              "[2],\n",
              "[4],\n",
              "[6],\n",
              "[8]]))"
            ],
            "text/latex": "$\\displaystyle DotProduct\\left(\\left[\\begin{matrix}1\\\\3\\\\5\\\\7\\end{matrix}\\right], \\left[\\begin{matrix}2\\\\4\\\\6\\\\8\\end{matrix}\\right]\\right)$"
          },
          "metadata": {},
          "execution_count": 6
        }
      ]
    },
    {
      "cell_type": "code",
      "source": [
        "sp.DotProduct(sp_v1, sp_v2).simplify()"
      ],
      "metadata": {
        "colab": {
          "base_uri": "https://localhost:8080/",
          "height": 37
        },
        "id": "WQsNcbYeDf8a",
        "outputId": "fb00c6cf-6c95-4027-ebf2-71c4c03b1ed9"
      },
      "execution_count": 7,
      "outputs": [
        {
          "output_type": "execute_result",
          "data": {
            "text/plain": [
              "100"
            ],
            "text/latex": "$\\displaystyle 100$"
          },
          "metadata": {},
          "execution_count": 7
        }
      ]
    },
    {
      "cell_type": "code",
      "source": [
        "sp_v1.dot(sp_v2)"
      ],
      "metadata": {
        "colab": {
          "base_uri": "https://localhost:8080/",
          "height": 37
        },
        "id": "eXen28nZF4ML",
        "outputId": "c0be1532-aa8a-46f0-d62d-bf5f9fed2c6f"
      },
      "execution_count": 8,
      "outputs": [
        {
          "output_type": "execute_result",
          "data": {
            "text/plain": [
              "100"
            ],
            "text/latex": "$\\displaystyle 100$"
          },
          "metadata": {},
          "execution_count": 8
        }
      ]
    },
    {
      "cell_type": "markdown",
      "source": [
        "### `dot()` for two matrices\n",
        "\n",
        "This is matrix multiplication"
      ],
      "metadata": {
        "id": "XDOCUTSWrj_A"
      }
    },
    {
      "cell_type": "code",
      "source": [
        "M"
      ],
      "metadata": {
        "colab": {
          "base_uri": "https://localhost:8080/"
        },
        "id": "LrzXs78NoS05",
        "outputId": "af6e6269-53d5-417d-c37d-6f2c30486f37"
      },
      "execution_count": 9,
      "outputs": [
        {
          "output_type": "execute_result",
          "data": {
            "text/plain": [
              "array([[-8., -6., -4.],\n",
              "       [-2.,  0.,  2.],\n",
              "       [ 4.,  6.,  8.]])"
            ]
          },
          "metadata": {},
          "execution_count": 9
        }
      ]
    },
    {
      "cell_type": "code",
      "source": [
        "N"
      ],
      "metadata": {
        "colab": {
          "base_uri": "https://localhost:8080/"
        },
        "id": "c1r5D1aToVGc",
        "outputId": "abfe175c-5ea5-485e-eb4d-8d436ec36f0d"
      },
      "execution_count": 10,
      "outputs": [
        {
          "output_type": "execute_result",
          "data": {
            "text/plain": [
              "array([[-1,  7,  0],\n",
              "       [ 6, -8, -2],\n",
              "       [ 7, -4, -1]])"
            ]
          },
          "metadata": {},
          "execution_count": 10
        }
      ]
    },
    {
      "cell_type": "code",
      "source": [
        "np.dot(N, M)"
      ],
      "metadata": {
        "colab": {
          "base_uri": "https://localhost:8080/"
        },
        "id": "Vi0fzWqHsi30",
        "outputId": "ee7e29e4-3203-4219-f2f0-89ed3218c96b"
      },
      "execution_count": 11,
      "outputs": [
        {
          "output_type": "execute_result",
          "data": {
            "text/plain": [
              "array([[ -6.,   6.,  18.],\n",
              "       [-40., -48., -56.],\n",
              "       [-52., -48., -44.]])"
            ]
          },
          "metadata": {},
          "execution_count": 11
        }
      ]
    },
    {
      "cell_type": "code",
      "source": [
        "N.dot(M)"
      ],
      "metadata": {
        "colab": {
          "base_uri": "https://localhost:8080/"
        },
        "id": "xSueM4sasmQ9",
        "outputId": "c85e1851-c2e5-4bbe-9cd7-d97a8a11a6ea"
      },
      "execution_count": 12,
      "outputs": [
        {
          "output_type": "execute_result",
          "data": {
            "text/plain": [
              "array([[ -6.,   6.,  18.],\n",
              "       [-40., -48., -56.],\n",
              "       [-52., -48., -44.]])"
            ]
          },
          "metadata": {},
          "execution_count": 12
        }
      ]
    },
    {
      "cell_type": "code",
      "source": [
        "np.matmul(N, M)"
      ],
      "metadata": {
        "colab": {
          "base_uri": "https://localhost:8080/"
        },
        "id": "1vWXQ4sprweu",
        "outputId": "b7a28811-4727-4763-c9ea-e548a48bbe4d"
      },
      "execution_count": 13,
      "outputs": [
        {
          "output_type": "execute_result",
          "data": {
            "text/plain": [
              "array([[ -6.,   6.,  18.],\n",
              "       [-40., -48., -56.],\n",
              "       [-52., -48., -44.]])"
            ]
          },
          "metadata": {},
          "execution_count": 13
        }
      ]
    },
    {
      "cell_type": "markdown",
      "source": [
        "#### SymPy"
      ],
      "metadata": {
        "id": "TItFvqeSCiy9"
      }
    },
    {
      "cell_type": "code",
      "source": [
        "sp_N * sp_M"
      ],
      "metadata": {
        "colab": {
          "base_uri": "https://localhost:8080/",
          "height": 78
        },
        "id": "u9gwVhiRGGiC",
        "outputId": "01d8c512-1f5a-4ef5-e834-4880d3014d1a"
      },
      "execution_count": 14,
      "outputs": [
        {
          "output_type": "execute_result",
          "data": {
            "text/plain": [
              "Matrix([\n",
              "[ -6.0,   6.0,  18.0],\n",
              "[-40.0, -48.0, -56.0],\n",
              "[-52.0, -48.0, -44.0]])"
            ],
            "text/latex": "$\\displaystyle \\left[\\begin{matrix}-6.0 & 6.0 & 18.0\\\\-40.0 & -48.0 & -56.0\\\\-52.0 & -48.0 & -44.0\\end{matrix}\\right]$"
          },
          "metadata": {},
          "execution_count": 14
        }
      ]
    },
    {
      "cell_type": "markdown",
      "source": [
        "### `linalg.multi_dot()`"
      ],
      "metadata": {
        "id": "A22X_8CWtKcD"
      }
    },
    {
      "cell_type": "code",
      "source": [
        "np.linalg.multi_dot([M, N, O])"
      ],
      "metadata": {
        "colab": {
          "base_uri": "https://localhost:8080/"
        },
        "id": "csBkMYmltrR2",
        "outputId": "91a300f8-db7e-4965-b00f-4c508ba38296"
      },
      "execution_count": 15,
      "outputs": [
        {
          "output_type": "execute_result",
          "data": {
            "text/plain": [
              "array([[  432., -1040.,   -64.],\n",
              "       [ -324.,   592.,    92.],\n",
              "       [-1080.,  2224.,   248.]])"
            ]
          },
          "metadata": {},
          "execution_count": 15
        }
      ]
    },
    {
      "cell_type": "markdown",
      "source": [
        "#### SymPy"
      ],
      "metadata": {
        "id": "dIuLxySQGp1Z"
      }
    },
    {
      "cell_type": "code",
      "source": [
        "sp_M * sp_N * sp_O"
      ],
      "metadata": {
        "colab": {
          "base_uri": "https://localhost:8080/",
          "height": 0
        },
        "id": "VpB1BrpXGsVu",
        "outputId": "ebb2d101-c50c-4e5d-cf75-c19f56a917cc"
      },
      "execution_count": 16,
      "outputs": [
        {
          "output_type": "execute_result",
          "data": {
            "text/plain": [
              "Matrix([\n",
              "[  432.0, -1040.0, -64.0],\n",
              "[ -324.0,   592.0,  92.0],\n",
              "[-1080.0,  2224.0, 248.0]])"
            ],
            "text/latex": "$\\displaystyle \\left[\\begin{matrix}432.0 & -1040.0 & -64.0\\\\-324.0 & 592.0 & 92.0\\\\-1080.0 & 2224.0 & 248.0\\end{matrix}\\right]$"
          },
          "metadata": {},
          "execution_count": 16
        }
      ]
    },
    {
      "cell_type": "markdown",
      "source": [
        "### `vdot()`"
      ],
      "metadata": {
        "id": "m_dqROlXv7FR"
      }
    },
    {
      "cell_type": "code",
      "source": [
        "np.vdot(v1, v2)"
      ],
      "metadata": {
        "colab": {
          "base_uri": "https://localhost:8080/"
        },
        "id": "mr2O8jMHv_MI",
        "outputId": "61803ea0-6f62-47e2-8e2f-ddf8f9291448"
      },
      "execution_count": 17,
      "outputs": [
        {
          "output_type": "execute_result",
          "data": {
            "text/plain": [
              "100"
            ]
          },
          "metadata": {},
          "execution_count": 17
        }
      ]
    },
    {
      "cell_type": "markdown",
      "source": [
        "#### SymPy"
      ],
      "metadata": {
        "id": "9nOeuE29HMc6"
      }
    },
    {
      "cell_type": "code",
      "source": [
        "sp_v1.dot(sp_v2)"
      ],
      "metadata": {
        "colab": {
          "base_uri": "https://localhost:8080/",
          "height": 0
        },
        "id": "qmITt9XRHORi",
        "outputId": "8ab2ab9b-9d7d-4710-fb36-22352098f461"
      },
      "execution_count": 18,
      "outputs": [
        {
          "output_type": "execute_result",
          "data": {
            "text/plain": [
              "100"
            ],
            "text/latex": "$\\displaystyle 100$"
          },
          "metadata": {},
          "execution_count": 18
        }
      ]
    },
    {
      "cell_type": "markdown",
      "source": [
        "### `inner()`\n",
        "\n",
        "Returns the inner product of two arrays"
      ],
      "metadata": {
        "id": "LWTuwnTSyc9k"
      }
    },
    {
      "cell_type": "code",
      "source": [
        "v3, v1"
      ],
      "metadata": {
        "colab": {
          "base_uri": "https://localhost:8080/"
        },
        "id": "jh9xL3QnymZy",
        "outputId": "fc9ddaed-9d15-4ccc-e638-d356a4251563"
      },
      "execution_count": 19,
      "outputs": [
        {
          "output_type": "execute_result",
          "data": {
            "text/plain": [
              "(array([-2,  5,  1,  3]), array([1, 3, 5, 7]))"
            ]
          },
          "metadata": {},
          "execution_count": 19
        }
      ]
    },
    {
      "cell_type": "code",
      "source": [
        "np.inner(v3, v1)"
      ],
      "metadata": {
        "colab": {
          "base_uri": "https://localhost:8080/"
        },
        "id": "R0fHZIH_1dTy",
        "outputId": "f5a525c7-fcc1-4da2-b71a-e67d81e85f30"
      },
      "execution_count": 20,
      "outputs": [
        {
          "output_type": "execute_result",
          "data": {
            "text/plain": [
              "39"
            ]
          },
          "metadata": {},
          "execution_count": 20
        }
      ]
    },
    {
      "cell_type": "code",
      "source": [
        "np.dot(v3, v1)"
      ],
      "metadata": {
        "colab": {
          "base_uri": "https://localhost:8080/"
        },
        "id": "I5l9B2Jz1n-j",
        "outputId": "da890bd4-537a-4da4-865c-fa1cc0ef211a"
      },
      "execution_count": 21,
      "outputs": [
        {
          "output_type": "execute_result",
          "data": {
            "text/plain": [
              "39"
            ]
          },
          "metadata": {},
          "execution_count": 21
        }
      ]
    },
    {
      "cell_type": "markdown",
      "source": [
        "#### SymPy"
      ],
      "metadata": {
        "id": "wiv0axR_I-Nv"
      }
    },
    {
      "cell_type": "code",
      "source": [
        "sp_v3.dot(sp_v1)"
      ],
      "metadata": {
        "colab": {
          "base_uri": "https://localhost:8080/",
          "height": 0
        },
        "id": "meU3nGHNI_9V",
        "outputId": "74c0ac7b-b8a6-4db3-a239-fa5e4482ae10"
      },
      "execution_count": 22,
      "outputs": [
        {
          "output_type": "execute_result",
          "data": {
            "text/plain": [
              "39"
            ],
            "text/latex": "$\\displaystyle 39$"
          },
          "metadata": {},
          "execution_count": 22
        }
      ]
    },
    {
      "cell_type": "markdown",
      "source": [
        "### `matmul()`"
      ],
      "metadata": {
        "id": "N0R6NkoM10by"
      }
    },
    {
      "cell_type": "code",
      "source": [
        "np.matmul(M, N)"
      ],
      "metadata": {
        "colab": {
          "base_uri": "https://localhost:8080/"
        },
        "id": "EBFq1fKM13qj",
        "outputId": "898ab513-23c6-4e47-fecc-10644c21b936"
      },
      "execution_count": 23,
      "outputs": [
        {
          "output_type": "execute_result",
          "data": {
            "text/plain": [
              "array([[-56.,   8.,  16.],\n",
              "       [ 16., -22.,  -2.],\n",
              "       [ 88., -52., -20.]])"
            ]
          },
          "metadata": {},
          "execution_count": 23
        }
      ]
    },
    {
      "cell_type": "code",
      "source": [
        "np.dot(M, N)"
      ],
      "metadata": {
        "colab": {
          "base_uri": "https://localhost:8080/"
        },
        "id": "Tiy2Q08319V1",
        "outputId": "04e07f4d-977e-4207-d8ec-77b5236b5b8b"
      },
      "execution_count": 24,
      "outputs": [
        {
          "output_type": "execute_result",
          "data": {
            "text/plain": [
              "array([[-56.,   8.,  16.],\n",
              "       [ 16., -22.,  -2.],\n",
              "       [ 88., -52., -20.]])"
            ]
          },
          "metadata": {},
          "execution_count": 24
        }
      ]
    },
    {
      "cell_type": "markdown",
      "source": [
        "#### SymPy"
      ],
      "metadata": {
        "id": "6sYmKl2gJeSV"
      }
    },
    {
      "cell_type": "code",
      "source": [
        "sp_M * sp_N"
      ],
      "metadata": {
        "colab": {
          "base_uri": "https://localhost:8080/",
          "height": 0
        },
        "id": "ZMMWBJJdJgBl",
        "outputId": "062d64aa-205c-4ecd-c592-6aecdbe97b40"
      },
      "execution_count": 25,
      "outputs": [
        {
          "output_type": "execute_result",
          "data": {
            "text/plain": [
              "Matrix([\n",
              "[-56.0,   8.0,  16.0],\n",
              "[ 16.0, -22.0,  -2.0],\n",
              "[ 88.0, -52.0, -20.0]])"
            ],
            "text/latex": "$\\displaystyle \\left[\\begin{matrix}-56.0 & 8.0 & 16.0\\\\16.0 & -22.0 & -2.0\\\\88.0 & -52.0 & -20.0\\end{matrix}\\right]$"
          },
          "metadata": {},
          "execution_count": 25
        }
      ]
    },
    {
      "cell_type": "markdown",
      "source": [
        "### `linalg.matrix_power()`"
      ],
      "metadata": {
        "id": "ot2bvBTb2Qa7"
      }
    },
    {
      "cell_type": "code",
      "source": [
        "M"
      ],
      "metadata": {
        "colab": {
          "base_uri": "https://localhost:8080/"
        },
        "id": "Mulu27Ln2Vm4",
        "outputId": "50cec0f7-2b27-4e21-b68d-3e24608a1b37"
      },
      "execution_count": 26,
      "outputs": [
        {
          "output_type": "execute_result",
          "data": {
            "text/plain": [
              "array([[-8., -6., -4.],\n",
              "       [-2.,  0.,  2.],\n",
              "       [ 4.,  6.,  8.]])"
            ]
          },
          "metadata": {},
          "execution_count": 26
        }
      ]
    },
    {
      "cell_type": "code",
      "source": [
        "np.linalg.matrix_power(M, 3)"
      ],
      "metadata": {
        "colab": {
          "base_uri": "https://localhost:8080/"
        },
        "id": "n7i-oz522b2z",
        "outputId": "b4abe6a9-1465-4617-b3fa-23cb741536f5"
      },
      "execution_count": 27,
      "outputs": [
        {
          "output_type": "execute_result",
          "data": {
            "text/plain": [
              "array([[-576., -432., -288.],\n",
              "       [-144.,    0.,  144.],\n",
              "       [ 288.,  432.,  576.]])"
            ]
          },
          "metadata": {},
          "execution_count": 27
        }
      ]
    },
    {
      "cell_type": "code",
      "source": [
        "M.dot(M).dot(M)"
      ],
      "metadata": {
        "colab": {
          "base_uri": "https://localhost:8080/"
        },
        "id": "0xQaP18-2klP",
        "outputId": "d985e326-77a6-4afb-d3d3-dffd7716dd30"
      },
      "execution_count": 28,
      "outputs": [
        {
          "output_type": "execute_result",
          "data": {
            "text/plain": [
              "array([[-576., -432., -288.],\n",
              "       [-144.,    0.,  144.],\n",
              "       [ 288.,  432.,  576.]])"
            ]
          },
          "metadata": {},
          "execution_count": 28
        }
      ]
    },
    {
      "cell_type": "code",
      "source": [
        "np.linalg.multi_dot([M, M, M])"
      ],
      "metadata": {
        "colab": {
          "base_uri": "https://localhost:8080/"
        },
        "id": "55XDffAk2n_F",
        "outputId": "5111e64b-c3db-49e4-e164-c92c7561d2cf"
      },
      "execution_count": 29,
      "outputs": [
        {
          "output_type": "execute_result",
          "data": {
            "text/plain": [
              "array([[-576., -432., -288.],\n",
              "       [-144.,    0.,  144.],\n",
              "       [ 288.,  432.,  576.]])"
            ]
          },
          "metadata": {},
          "execution_count": 29
        }
      ]
    },
    {
      "cell_type": "code",
      "source": [
        "np.matmul(np.matmul(M, M), M)"
      ],
      "metadata": {
        "colab": {
          "base_uri": "https://localhost:8080/"
        },
        "id": "9ekZ-n3W2vwD",
        "outputId": "b04beb45-74e0-4602-c64c-e6992f81c88f"
      },
      "execution_count": 30,
      "outputs": [
        {
          "output_type": "execute_result",
          "data": {
            "text/plain": [
              "array([[-576., -432., -288.],\n",
              "       [-144.,    0.,  144.],\n",
              "       [ 288.,  432.,  576.]])"
            ]
          },
          "metadata": {},
          "execution_count": 30
        }
      ]
    },
    {
      "cell_type": "markdown",
      "source": [
        "#### SymPy"
      ],
      "metadata": {
        "id": "VjPFBHOmJnnJ"
      }
    },
    {
      "cell_type": "code",
      "source": [
        "sp_M**3"
      ],
      "metadata": {
        "colab": {
          "base_uri": "https://localhost:8080/",
          "height": 0
        },
        "id": "phHvoJVkJpDm",
        "outputId": "404cab44-276c-4e1b-9b64-fd502abcfba1"
      },
      "execution_count": 31,
      "outputs": [
        {
          "output_type": "execute_result",
          "data": {
            "text/plain": [
              "Matrix([\n",
              "[-576.0, -432.0, -288.0],\n",
              "[-144.0,      0,  144.0],\n",
              "[ 288.0,  432.0,  576.0]])"
            ],
            "text/latex": "$\\displaystyle \\left[\\begin{matrix}-576.0 & -432.0 & -288.0\\\\-144.0 & 0 & 144.0\\\\288.0 & 432.0 & 576.0\\end{matrix}\\right]$"
          },
          "metadata": {},
          "execution_count": 31
        }
      ]
    },
    {
      "cell_type": "code",
      "source": [
        "sp_M * sp_M * sp_M"
      ],
      "metadata": {
        "colab": {
          "base_uri": "https://localhost:8080/",
          "height": 0
        },
        "id": "7OblycvQJvIh",
        "outputId": "982a9276-b9c3-4f42-d60d-21f29bed5a21"
      },
      "execution_count": 32,
      "outputs": [
        {
          "output_type": "execute_result",
          "data": {
            "text/plain": [
              "Matrix([\n",
              "[-576.0, -432.0, -288.0],\n",
              "[-144.0,      0,  144.0],\n",
              "[ 288.0,  432.0,  576.0]])"
            ],
            "text/latex": "$\\displaystyle \\left[\\begin{matrix}-576.0 & -432.0 & -288.0\\\\-144.0 & 0 & 144.0\\\\288.0 & 432.0 & 576.0\\end{matrix}\\right]$"
          },
          "metadata": {},
          "execution_count": 32
        }
      ]
    },
    {
      "cell_type": "markdown",
      "source": [
        "### `linalg.eig()`\n",
        "\n",
        "Returns the eigenvalues and eigenvectors of a matrix"
      ],
      "metadata": {
        "id": "QNkCBv1D4CkP"
      }
    },
    {
      "cell_type": "code",
      "source": [
        "eig_vals, eig_vects = np.linalg.eig(O)"
      ],
      "metadata": {
        "id": "6AdJblCW4HmF"
      },
      "execution_count": 33,
      "outputs": []
    },
    {
      "cell_type": "code",
      "source": [
        "eig_vals"
      ],
      "metadata": {
        "colab": {
          "base_uri": "https://localhost:8080/"
        },
        "id": "VYFxBbZw4brU",
        "outputId": "09359cf6-eb73-47c8-b698-9ab820f462d2"
      },
      "execution_count": 34,
      "outputs": [
        {
          "output_type": "execute_result",
          "data": {
            "text/plain": [
              "array([-25.79145634+0.j       ,   2.89572817+2.9974742j,\n",
              "         2.89572817-2.9974742j])"
            ]
          },
          "metadata": {},
          "execution_count": 34
        }
      ]
    },
    {
      "cell_type": "code",
      "source": [
        "eig_vects"
      ],
      "metadata": {
        "colab": {
          "base_uri": "https://localhost:8080/"
        },
        "id": "zbbZ2TNA4djJ",
        "outputId": "212876bf-13f1-46e5-e937-1dee98469bfd"
      },
      "execution_count": 35,
      "outputs": [
        {
          "output_type": "execute_result",
          "data": {
            "text/plain": [
              "array([[ 0.43713427+0.j        , -0.3395124 -0.2866132j ,\n",
              "        -0.3395124 +0.2866132j ],\n",
              "       [-0.74286148+0.j        , -0.05736034-0.17291857j,\n",
              "        -0.05736034+0.17291857j],\n",
              "       [-0.50702115+0.j        , -0.87715059+0.j        ,\n",
              "        -0.87715059-0.j        ]])"
            ]
          },
          "metadata": {},
          "execution_count": 35
        }
      ]
    },
    {
      "cell_type": "markdown",
      "source": [
        "#### SymPy"
      ],
      "metadata": {
        "id": "0RC7kAdHKm8m"
      }
    },
    {
      "cell_type": "code",
      "source": [
        "sp_O.eigenvals()"
      ],
      "metadata": {
        "colab": {
          "base_uri": "https://localhost:8080/"
        },
        "id": "BK_V0mHQKpUy",
        "outputId": "1df50e2d-179c-468c-eddb-d741dc9dfbb4"
      },
      "execution_count": 36,
      "outputs": [
        {
          "output_type": "execute_result",
          "data": {
            "text/plain": [
              "{-2*(3*sqrt(291498) + 3241)**(1/3)/3 - 398/(3*(3*sqrt(291498) + 3241)**(1/3)) - 20/3: 1,\n",
              " -20/3 - 2*(-1/2 + sqrt(3)*I/2)*(3*sqrt(291498) + 3241)**(1/3)/3 - 398/(3*(-1/2 + sqrt(3)*I/2)*(3*sqrt(291498) + 3241)**(1/3)): 1,\n",
              " -20/3 - 398/(3*(-1/2 - sqrt(3)*I/2)*(3*sqrt(291498) + 3241)**(1/3)) - 2*(-1/2 - sqrt(3)*I/2)*(3*sqrt(291498) + 3241)**(1/3)/3: 1}"
            ]
          },
          "metadata": {},
          "execution_count": 36
        }
      ]
    },
    {
      "cell_type": "code",
      "source": [
        "for eig_val in list(sp_O.eigenvals()):\n",
        "    print(eig_val.evalf())"
      ],
      "metadata": {
        "colab": {
          "base_uri": "https://localhost:8080/"
        },
        "id": "WTO57CXfK_gg",
        "outputId": "23a09b7e-8104-468a-c255-6a1514b49c01"
      },
      "execution_count": 37,
      "outputs": [
        {
          "output_type": "stream",
          "name": "stdout",
          "text": [
            "-25.7914563352496\n",
            "2.89572816762482 - 2.99747419794072*I\n",
            "2.89572816762482 + 2.99747419794072*I\n"
          ]
        }
      ]
    },
    {
      "cell_type": "code",
      "source": [
        "# takes too long to run\n",
        "# eig_vects = sp_O.eigenvects()"
      ],
      "metadata": {
        "id": "oLfnvLeFL1VX"
      },
      "execution_count": 38,
      "outputs": []
    },
    {
      "cell_type": "markdown",
      "source": [
        "### `linalg.eigh()`\n",
        "\n",
        "Returns eigenvalues and eigenvectors of a complex Hermition matix or a real symmetric matrix"
      ],
      "metadata": {
        "id": "9_Beszt5781k"
      }
    },
    {
      "cell_type": "code",
      "source": [
        "eigh_vals, eigh_vects = np.linalg.eigh(N)"
      ],
      "metadata": {
        "id": "hqnb23xG8SS9"
      },
      "execution_count": 39,
      "outputs": []
    },
    {
      "cell_type": "code",
      "source": [
        "eigh_vals"
      ],
      "metadata": {
        "colab": {
          "base_uri": "https://localhost:8080/"
        },
        "id": "Zbybq1Cf8lyH",
        "outputId": "529f61a6-9cdb-49e5-9cf5-3029a8dc9866"
      },
      "execution_count": 40,
      "outputs": [
        {
          "output_type": "execute_result",
          "data": {
            "text/plain": [
              "array([-15.11857803,  -1.0689804 ,   6.18755843])"
            ]
          },
          "metadata": {},
          "execution_count": 40
        }
      ]
    },
    {
      "cell_type": "code",
      "source": [
        "eigh_vects"
      ],
      "metadata": {
        "colab": {
          "base_uri": "https://localhost:8080/"
        },
        "id": "N1kGo-Fa80R1",
        "outputId": "b844d334-106c-4800-e7a0-913174597644"
      },
      "execution_count": 41,
      "outputs": [
        {
          "output_type": "execute_result",
          "data": {
            "text/plain": [
              "array([[ 0.53131839,  0.40202857, -0.74570355],\n",
              "       [-0.70867101,  0.69323463, -0.13119129],\n",
              "       [-0.46420488, -0.59816284, -0.6532343 ]])"
            ]
          },
          "metadata": {},
          "execution_count": 41
        }
      ]
    },
    {
      "cell_type": "markdown",
      "source": [
        "### `linalg.det()`\n",
        "\n",
        "Returns the determinant of a matrix"
      ],
      "metadata": {
        "id": "NicauXjL_olr"
      }
    },
    {
      "cell_type": "code",
      "source": [
        "np.linalg.det(M), np.linalg.det(N), np.linalg.det(O)"
      ],
      "metadata": {
        "colab": {
          "base_uri": "https://localhost:8080/"
        },
        "id": "fbOG_fvu_wcy",
        "outputId": "665341e7-bada-41d0-9c13-d8f1d963f329"
      },
      "execution_count": 42,
      "outputs": [
        {
          "output_type": "execute_result",
          "data": {
            "text/plain": [
              "(0.0, -55.99999999999997, -447.9999999999999)"
            ]
          },
          "metadata": {},
          "execution_count": 42
        }
      ]
    },
    {
      "cell_type": "markdown",
      "source": [
        "#### SymPy"
      ],
      "metadata": {
        "id": "XuJMw16RPYes"
      }
    },
    {
      "cell_type": "code",
      "source": [
        "sp_M.det(), sp_N.det(), sp_O.det()"
      ],
      "metadata": {
        "colab": {
          "base_uri": "https://localhost:8080/"
        },
        "id": "kyByiDwGPaVE",
        "outputId": "dc3c134c-31e2-427a-c2fa-c732333c5020"
      },
      "execution_count": 43,
      "outputs": [
        {
          "output_type": "execute_result",
          "data": {
            "text/plain": [
              "(0, -56, -448)"
            ]
          },
          "metadata": {},
          "execution_count": 43
        }
      ]
    },
    {
      "cell_type": "markdown",
      "source": [
        "### `linalg.inv()`\n",
        "\n",
        "Returns the inverse of a matrix"
      ],
      "metadata": {
        "id": "3-aJe7nFADTy"
      }
    },
    {
      "cell_type": "code",
      "source": [
        "N"
      ],
      "metadata": {
        "colab": {
          "base_uri": "https://localhost:8080/"
        },
        "id": "wjQeLNlEALNa",
        "outputId": "c8160601-838b-4218-fda5-3680730c7bc0"
      },
      "execution_count": 44,
      "outputs": [
        {
          "output_type": "execute_result",
          "data": {
            "text/plain": [
              "array([[-1,  7,  0],\n",
              "       [ 6, -8, -2],\n",
              "       [ 7, -4, -1]])"
            ]
          },
          "metadata": {},
          "execution_count": 44
        }
      ]
    },
    {
      "cell_type": "code",
      "source": [
        "np.linalg.inv(N)"
      ],
      "metadata": {
        "colab": {
          "base_uri": "https://localhost:8080/"
        },
        "id": "expG6ShNAPUZ",
        "outputId": "2b5188fb-3e83-441d-eeb9-28c66062a6f8"
      },
      "execution_count": 45,
      "outputs": [
        {
          "output_type": "execute_result",
          "data": {
            "text/plain": [
              "array([[-1.58603289e-17, -1.25000000e-01,  2.50000000e-01],\n",
              "       [ 1.42857143e-01, -1.78571429e-02,  3.57142857e-02],\n",
              "       [-5.71428571e-01, -8.03571429e-01,  6.07142857e-01]])"
            ]
          },
          "metadata": {},
          "execution_count": 45
        }
      ]
    },
    {
      "cell_type": "code",
      "source": [
        "np.matmul(N, np.linalg.inv(N))"
      ],
      "metadata": {
        "colab": {
          "base_uri": "https://localhost:8080/"
        },
        "id": "gkGExSTXAR42",
        "outputId": "4e41c502-6baa-4071-f249-d473d0fb719d"
      },
      "execution_count": 46,
      "outputs": [
        {
          "output_type": "execute_result",
          "data": {
            "text/plain": [
              "array([[ 1.00000000e+00,  6.93889390e-18, -1.38777878e-17],\n",
              "       [ 2.22044605e-16,  1.00000000e+00,  0.00000000e+00],\n",
              "       [ 0.00000000e+00,  0.00000000e+00,  1.00000000e+00]])"
            ]
          },
          "metadata": {},
          "execution_count": 46
        }
      ]
    },
    {
      "cell_type": "code",
      "source": [
        "N.dot(np.linalg.inv(N))"
      ],
      "metadata": {
        "colab": {
          "base_uri": "https://localhost:8080/"
        },
        "id": "wooYzv5LAnBC",
        "outputId": "902fb094-7f04-4eb2-a77b-5c7736b048f8"
      },
      "execution_count": 47,
      "outputs": [
        {
          "output_type": "execute_result",
          "data": {
            "text/plain": [
              "array([[ 1.00000000e+00,  6.93889390e-18, -1.38777878e-17],\n",
              "       [ 2.22044605e-16,  1.00000000e+00,  0.00000000e+00],\n",
              "       [ 0.00000000e+00,  0.00000000e+00,  1.00000000e+00]])"
            ]
          },
          "metadata": {},
          "execution_count": 47
        }
      ]
    },
    {
      "cell_type": "markdown",
      "source": [
        "#### SymPy"
      ],
      "metadata": {
        "id": "caV6TXlzQ1yb"
      }
    },
    {
      "cell_type": "code",
      "source": [
        "sp_N**-1"
      ],
      "metadata": {
        "colab": {
          "base_uri": "https://localhost:8080/",
          "height": 0
        },
        "id": "G8vX2rwbQ3-q",
        "outputId": "ea6b6453-64fb-411b-9e32-4446468c2a6a"
      },
      "execution_count": 48,
      "outputs": [
        {
          "output_type": "execute_result",
          "data": {
            "text/plain": [
              "Matrix([\n",
              "[   0,   -1/8,   1/4],\n",
              "[ 1/7,  -1/56,  1/28],\n",
              "[-4/7, -45/56, 17/28]])"
            ],
            "text/latex": "$\\displaystyle \\left[\\begin{matrix}0 & - \\frac{1}{8} & \\frac{1}{4}\\\\\\frac{1}{7} & - \\frac{1}{56} & \\frac{1}{28}\\\\- \\frac{4}{7} & - \\frac{45}{56} & \\frac{17}{28}\\end{matrix}\\right]$"
          },
          "metadata": {},
          "execution_count": 48
        }
      ]
    },
    {
      "cell_type": "code",
      "source": [
        "(sp_N**-1).evalf()"
      ],
      "metadata": {
        "colab": {
          "base_uri": "https://localhost:8080/",
          "height": 0
        },
        "id": "mvyj4OC-Q828",
        "outputId": "0e6e5307-9e1c-4729-fc0b-3721c7bdda74"
      },
      "execution_count": 49,
      "outputs": [
        {
          "output_type": "execute_result",
          "data": {
            "text/plain": [
              "Matrix([\n",
              "[                 0,              -0.125,               0.25],\n",
              "[ 0.142857142857143, -0.0178571428571429, 0.0357142857142857],\n",
              "[-0.571428571428571,  -0.803571428571429,  0.607142857142857]])"
            ],
            "text/latex": "$\\displaystyle \\left[\\begin{matrix}0 & -0.125 & 0.25\\\\0.142857142857143 & -0.0178571428571429 & 0.0357142857142857\\\\-0.571428571428571 & -0.803571428571429 & 0.607142857142857\\end{matrix}\\right]$"
          },
          "metadata": {},
          "execution_count": 49
        }
      ]
    },
    {
      "cell_type": "code",
      "source": [
        "sp_N * sp_N**-1"
      ],
      "metadata": {
        "colab": {
          "base_uri": "https://localhost:8080/",
          "height": 0
        },
        "id": "jttDC0m0REpH",
        "outputId": "89c6d2e5-1536-4302-984e-d9104ba9ee5e"
      },
      "execution_count": 50,
      "outputs": [
        {
          "output_type": "execute_result",
          "data": {
            "text/plain": [
              "Matrix([\n",
              "[1, 0, 0],\n",
              "[0, 1, 0],\n",
              "[0, 0, 1]])"
            ],
            "text/latex": "$\\displaystyle \\left[\\begin{matrix}1 & 0 & 0\\\\0 & 1 & 0\\\\0 & 0 & 1\\end{matrix}\\right]$"
          },
          "metadata": {},
          "execution_count": 50
        }
      ]
    },
    {
      "cell_type": "markdown",
      "source": [
        "## 1.2.1.2 Using Matrices in Python"
      ],
      "metadata": {
        "id": "agRDbyAHRc27"
      }
    },
    {
      "cell_type": "markdown",
      "source": [
        "### Building Matrices Using Numpy"
      ],
      "metadata": {
        "id": "HBIKF1GAZbxV"
      }
    },
    {
      "cell_type": "code",
      "source": [
        "L = np.linspace(0, 120, 25)\n",
        "L"
      ],
      "metadata": {
        "colab": {
          "base_uri": "https://localhost:8080/"
        },
        "id": "NmKml2scZhXy",
        "outputId": "c95d228c-ffb3-4fde-ddca-2cea18a0e53a"
      },
      "execution_count": 51,
      "outputs": [
        {
          "output_type": "execute_result",
          "data": {
            "text/plain": [
              "array([  0.,   5.,  10.,  15.,  20.,  25.,  30.,  35.,  40.,  45.,  50.,\n",
              "        55.,  60.,  65.,  70.,  75.,  80.,  85.,  90.,  95., 100., 105.,\n",
              "       110., 115., 120.])"
            ]
          },
          "metadata": {},
          "execution_count": 51
        }
      ]
    },
    {
      "cell_type": "code",
      "source": [
        "M = L.reshape(5, 5)\n",
        "M"
      ],
      "metadata": {
        "colab": {
          "base_uri": "https://localhost:8080/"
        },
        "id": "54lM5HZsZ5PE",
        "outputId": "35e8c1f5-e08f-4111-c628-ffc81ecb74db"
      },
      "execution_count": 52,
      "outputs": [
        {
          "output_type": "execute_result",
          "data": {
            "text/plain": [
              "array([[  0.,   5.,  10.,  15.,  20.],\n",
              "       [ 25.,  30.,  35.,  40.,  45.],\n",
              "       [ 50.,  55.,  60.,  65.,  70.],\n",
              "       [ 75.,  80.,  85.,  90.,  95.],\n",
              "       [100., 105., 110., 115., 120.]])"
            ]
          },
          "metadata": {},
          "execution_count": 52
        }
      ]
    },
    {
      "cell_type": "code",
      "source": [
        "R = np.random.randint(-5, 4, size=(4, 4))\n",
        "R"
      ],
      "metadata": {
        "colab": {
          "base_uri": "https://localhost:8080/"
        },
        "id": "TkX53rOfbUqe",
        "outputId": "99bed7d2-c7c6-4f42-ba90-2551843baa5c"
      },
      "execution_count": 53,
      "outputs": [
        {
          "output_type": "execute_result",
          "data": {
            "text/plain": [
              "array([[-2,  3, -4,  1],\n",
              "       [ 3, -1,  2,  3],\n",
              "       [ 0,  1, -3, -5],\n",
              "       [-4,  3,  0,  1]])"
            ]
          },
          "metadata": {},
          "execution_count": 53
        }
      ]
    },
    {
      "cell_type": "markdown",
      "source": [
        "### Building Matrices Using SymPy"
      ],
      "metadata": {
        "id": "nrXLeIGhfGcy"
      }
    },
    {
      "cell_type": "code",
      "source": [
        "sp_M = sp.Matrix(M)\n",
        "sp_M"
      ],
      "metadata": {
        "colab": {
          "base_uri": "https://localhost:8080/",
          "height": 0
        },
        "id": "V06Y7zvFfJ-K",
        "outputId": "97d61539-a595-459b-8d1f-524ea1ae0f7d"
      },
      "execution_count": 54,
      "outputs": [
        {
          "output_type": "execute_result",
          "data": {
            "text/plain": [
              "Matrix([\n",
              "[  0.0,   5.0,  10.0,  15.0,  20.0],\n",
              "[ 25.0,  30.0,  35.0,  40.0,  45.0],\n",
              "[ 50.0,  55.0,  60.0,  65.0,  70.0],\n",
              "[ 75.0,  80.0,  85.0,  90.0,  95.0],\n",
              "[100.0, 105.0, 110.0, 115.0, 120.0]])"
            ],
            "text/latex": "$\\displaystyle \\left[\\begin{matrix}0.0 & 5.0 & 10.0 & 15.0 & 20.0\\\\25.0 & 30.0 & 35.0 & 40.0 & 45.0\\\\50.0 & 55.0 & 60.0 & 65.0 & 70.0\\\\75.0 & 80.0 & 85.0 & 90.0 & 95.0\\\\100.0 & 105.0 & 110.0 & 115.0 & 120.0\\end{matrix}\\right]$"
          },
          "metadata": {},
          "execution_count": 54
        }
      ]
    },
    {
      "cell_type": "code",
      "source": [
        "sp_R = sp.Matrix(R)\n",
        "sp_R"
      ],
      "metadata": {
        "colab": {
          "base_uri": "https://localhost:8080/",
          "height": 0
        },
        "id": "cWB6GNWcfdtF",
        "outputId": "2a207936-2bce-4d79-aed3-a8ecbc12ddf6"
      },
      "execution_count": 55,
      "outputs": [
        {
          "output_type": "execute_result",
          "data": {
            "text/plain": [
              "Matrix([\n",
              "[-2,  3, -4,  1],\n",
              "[ 3, -1,  2,  3],\n",
              "[ 0,  1, -3, -5],\n",
              "[-4,  3,  0,  1]])"
            ],
            "text/latex": "$\\displaystyle \\left[\\begin{matrix}-2 & 3 & -4 & 1\\\\3 & -1 & 2 & 3\\\\0 & 1 & -3 & -5\\\\-4 & 3 & 0 & 1\\end{matrix}\\right]$"
          },
          "metadata": {},
          "execution_count": 55
        }
      ]
    },
    {
      "cell_type": "markdown",
      "source": [
        "### Accessing Matrix Entries: NumPy and SymPy"
      ],
      "metadata": {
        "id": "yAj3bREdajzt"
      }
    },
    {
      "cell_type": "code",
      "source": [
        "# first row\n",
        "M[0]"
      ],
      "metadata": {
        "colab": {
          "base_uri": "https://localhost:8080/"
        },
        "id": "EfSyLVgca53u",
        "outputId": "e7af59fa-cd53-41fe-ebc3-c9ec6c70c0c2"
      },
      "execution_count": 56,
      "outputs": [
        {
          "output_type": "execute_result",
          "data": {
            "text/plain": [
              "array([ 0.,  5., 10., 15., 20.])"
            ]
          },
          "metadata": {},
          "execution_count": 56
        }
      ]
    },
    {
      "cell_type": "code",
      "source": [
        "sp_M.row(1)"
      ],
      "metadata": {
        "colab": {
          "base_uri": "https://localhost:8080/",
          "height": 0
        },
        "id": "I37LwWTcfi7C",
        "outputId": "d5b8823b-b684-4f0e-9953-ed4213982b85"
      },
      "execution_count": 57,
      "outputs": [
        {
          "output_type": "execute_result",
          "data": {
            "text/plain": [
              "Matrix([[25.0, 30.0, 35.0, 40.0, 45.0]])"
            ],
            "text/latex": "$\\displaystyle \\left[\\begin{matrix}25.0 & 30.0 & 35.0 & 40.0 & 45.0\\end{matrix}\\right]$"
          },
          "metadata": {},
          "execution_count": 57
        }
      ]
    },
    {
      "cell_type": "code",
      "source": [
        "sp_M[1, :]"
      ],
      "metadata": {
        "colab": {
          "base_uri": "https://localhost:8080/",
          "height": 0
        },
        "id": "VSR0Lop1gGyj",
        "outputId": "9fcf9d22-46d7-4182-c28e-dd6eb337def6"
      },
      "execution_count": 58,
      "outputs": [
        {
          "output_type": "execute_result",
          "data": {
            "text/plain": [
              "Matrix([[25.0, 30.0, 35.0, 40.0, 45.0]])"
            ],
            "text/latex": "$\\displaystyle \\left[\\begin{matrix}25.0 & 30.0 & 35.0 & 40.0 & 45.0\\end{matrix}\\right]$"
          },
          "metadata": {},
          "execution_count": 58
        }
      ]
    },
    {
      "cell_type": "code",
      "source": [
        "# last row\n",
        "M[-1]"
      ],
      "metadata": {
        "colab": {
          "base_uri": "https://localhost:8080/"
        },
        "id": "f2BAz7Mvb1w4",
        "outputId": "90831ddc-3f3d-4e67-94bf-41fb180e8bb1"
      },
      "execution_count": 59,
      "outputs": [
        {
          "output_type": "execute_result",
          "data": {
            "text/plain": [
              "array([100., 105., 110., 115., 120.])"
            ]
          },
          "metadata": {},
          "execution_count": 59
        }
      ]
    },
    {
      "cell_type": "code",
      "source": [
        "sp_M.row(-1)"
      ],
      "metadata": {
        "colab": {
          "base_uri": "https://localhost:8080/",
          "height": 0
        },
        "id": "ymM2kKNXhkf2",
        "outputId": "921a525f-7b54-405f-b562-eaa25344bc08"
      },
      "execution_count": 60,
      "outputs": [
        {
          "output_type": "execute_result",
          "data": {
            "text/plain": [
              "Matrix([[100.0, 105.0, 110.0, 115.0, 120.0]])"
            ],
            "text/latex": "$\\displaystyle \\left[\\begin{matrix}100.0 & 105.0 & 110.0 & 115.0 & 120.0\\end{matrix}\\right]$"
          },
          "metadata": {},
          "execution_count": 60
        }
      ]
    },
    {
      "cell_type": "code",
      "source": [
        "#first column\n",
        "M[:,0]"
      ],
      "metadata": {
        "colab": {
          "base_uri": "https://localhost:8080/"
        },
        "id": "sq_vvmxNcDbv",
        "outputId": "45b8bfce-436e-454f-f151-f53636276b15"
      },
      "execution_count": 61,
      "outputs": [
        {
          "output_type": "execute_result",
          "data": {
            "text/plain": [
              "array([  0.,  25.,  50.,  75., 100.])"
            ]
          },
          "metadata": {},
          "execution_count": 61
        }
      ]
    },
    {
      "cell_type": "code",
      "source": [
        "sp_M.col(0)"
      ],
      "metadata": {
        "colab": {
          "base_uri": "https://localhost:8080/",
          "height": 0
        },
        "id": "dAvl8qauhpP2",
        "outputId": "5e0902ac-3e4c-4577-e77c-4e64295c126c"
      },
      "execution_count": 62,
      "outputs": [
        {
          "output_type": "execute_result",
          "data": {
            "text/plain": [
              "Matrix([\n",
              "[  0.0],\n",
              "[ 25.0],\n",
              "[ 50.0],\n",
              "[ 75.0],\n",
              "[100.0]])"
            ],
            "text/latex": "$\\displaystyle \\left[\\begin{matrix}0.0\\\\25.0\\\\50.0\\\\75.0\\\\100.0\\end{matrix}\\right]$"
          },
          "metadata": {},
          "execution_count": 62
        }
      ]
    },
    {
      "cell_type": "code",
      "source": [
        "# last column\n",
        "M[:,-1]"
      ],
      "metadata": {
        "colab": {
          "base_uri": "https://localhost:8080/"
        },
        "id": "F1xHm1KbcR5c",
        "outputId": "3c2db864-38c3-4168-f9a5-f3dac752dfb7"
      },
      "execution_count": 63,
      "outputs": [
        {
          "output_type": "execute_result",
          "data": {
            "text/plain": [
              "array([ 20.,  45.,  70.,  95., 120.])"
            ]
          },
          "metadata": {},
          "execution_count": 63
        }
      ]
    },
    {
      "cell_type": "code",
      "source": [
        "sp_M.col(-1)"
      ],
      "metadata": {
        "colab": {
          "base_uri": "https://localhost:8080/",
          "height": 0
        },
        "id": "5z51fffshtIR",
        "outputId": "22347b41-c7ae-4c01-94e1-23f0db62b0f6"
      },
      "execution_count": 64,
      "outputs": [
        {
          "output_type": "execute_result",
          "data": {
            "text/plain": [
              "Matrix([\n",
              "[ 20.0],\n",
              "[ 45.0],\n",
              "[ 70.0],\n",
              "[ 95.0],\n",
              "[120.0]])"
            ],
            "text/latex": "$\\displaystyle \\left[\\begin{matrix}20.0\\\\45.0\\\\70.0\\\\95.0\\\\120.0\\end{matrix}\\right]$"
          },
          "metadata": {},
          "execution_count": 64
        }
      ]
    },
    {
      "cell_type": "code",
      "source": [
        "# first 3 rows\n",
        "M[0:3]"
      ],
      "metadata": {
        "colab": {
          "base_uri": "https://localhost:8080/"
        },
        "id": "f7jA7nV-cuXH",
        "outputId": "4930528d-36ce-4bf4-9b04-edcbc05f6c27"
      },
      "execution_count": 65,
      "outputs": [
        {
          "output_type": "execute_result",
          "data": {
            "text/plain": [
              "array([[ 0.,  5., 10., 15., 20.],\n",
              "       [25., 30., 35., 40., 45.],\n",
              "       [50., 55., 60., 65., 70.]])"
            ]
          },
          "metadata": {},
          "execution_count": 65
        }
      ]
    },
    {
      "cell_type": "code",
      "source": [
        "sp_M[0:3,:]"
      ],
      "metadata": {
        "colab": {
          "base_uri": "https://localhost:8080/",
          "height": 0
        },
        "id": "vwg1hQzRh6XO",
        "outputId": "faaf5e9a-990d-4f63-aeb9-f1428c3e0cb5"
      },
      "execution_count": 66,
      "outputs": [
        {
          "output_type": "execute_result",
          "data": {
            "text/plain": [
              "Matrix([\n",
              "[ 0.0,  5.0, 10.0, 15.0, 20.0],\n",
              "[25.0, 30.0, 35.0, 40.0, 45.0],\n",
              "[50.0, 55.0, 60.0, 65.0, 70.0]])"
            ],
            "text/latex": "$\\displaystyle \\left[\\begin{matrix}0.0 & 5.0 & 10.0 & 15.0 & 20.0\\\\25.0 & 30.0 & 35.0 & 40.0 & 45.0\\\\50.0 & 55.0 & 60.0 & 65.0 & 70.0\\end{matrix}\\right]$"
          },
          "metadata": {},
          "execution_count": 66
        }
      ]
    },
    {
      "cell_type": "code",
      "source": [
        "# second and third columns\n",
        "M[:,2:4]"
      ],
      "metadata": {
        "colab": {
          "base_uri": "https://localhost:8080/"
        },
        "id": "6LI3yQrVc37e",
        "outputId": "fa28a5b5-6e41-4dd3-c8cf-23ec5d7360ae"
      },
      "execution_count": 67,
      "outputs": [
        {
          "output_type": "execute_result",
          "data": {
            "text/plain": [
              "array([[ 10.,  15.],\n",
              "       [ 35.,  40.],\n",
              "       [ 60.,  65.],\n",
              "       [ 85.,  90.],\n",
              "       [110., 115.]])"
            ]
          },
          "metadata": {},
          "execution_count": 67
        }
      ]
    },
    {
      "cell_type": "code",
      "source": [
        "sp_M[:, 2:4]"
      ],
      "metadata": {
        "colab": {
          "base_uri": "https://localhost:8080/",
          "height": 0
        },
        "id": "rWHVh4tAiU1P",
        "outputId": "eac8b1b7-966b-4811-d614-544f3bbdef68"
      },
      "execution_count": 68,
      "outputs": [
        {
          "output_type": "execute_result",
          "data": {
            "text/plain": [
              "Matrix([\n",
              "[ 10.0,  15.0],\n",
              "[ 35.0,  40.0],\n",
              "[ 60.0,  65.0],\n",
              "[ 85.0,  90.0],\n",
              "[110.0, 115.0]])"
            ],
            "text/latex": "$\\displaystyle \\left[\\begin{matrix}10.0 & 15.0\\\\35.0 & 40.0\\\\60.0 & 65.0\\\\85.0 & 90.0\\\\110.0 & 115.0\\end{matrix}\\right]$"
          },
          "metadata": {},
          "execution_count": 68
        }
      ]
    },
    {
      "cell_type": "code",
      "source": [
        "# first 3 rows, 2nd, 3rd and 4th columns\n",
        "M[:3, 1:4]"
      ],
      "metadata": {
        "colab": {
          "base_uri": "https://localhost:8080/"
        },
        "id": "KWQNOX6hdNP9",
        "outputId": "fdbf2d61-dfa5-441e-b1f0-463c4d433b5e"
      },
      "execution_count": 69,
      "outputs": [
        {
          "output_type": "execute_result",
          "data": {
            "text/plain": [
              "array([[ 5., 10., 15.],\n",
              "       [30., 35., 40.],\n",
              "       [55., 60., 65.]])"
            ]
          },
          "metadata": {},
          "execution_count": 69
        }
      ]
    },
    {
      "cell_type": "code",
      "source": [
        "sp_M[:3, 1:4]"
      ],
      "metadata": {
        "colab": {
          "base_uri": "https://localhost:8080/",
          "height": 0
        },
        "id": "5ZJiI_N-ifbI",
        "outputId": "39073f3c-adf3-4cbf-cf37-638763cc1f10"
      },
      "execution_count": 70,
      "outputs": [
        {
          "output_type": "execute_result",
          "data": {
            "text/plain": [
              "Matrix([\n",
              "[ 5.0, 10.0, 15.0],\n",
              "[30.0, 35.0, 40.0],\n",
              "[55.0, 60.0, 65.0]])"
            ],
            "text/latex": "$\\displaystyle \\left[\\begin{matrix}5.0 & 10.0 & 15.0\\\\30.0 & 35.0 & 40.0\\\\55.0 & 60.0 & 65.0\\end{matrix}\\right]$"
          },
          "metadata": {},
          "execution_count": 70
        }
      ]
    },
    {
      "cell_type": "code",
      "source": [
        "# first 3 rows, 2nd and 4th columns\n",
        "M[:3, (1, 3)]"
      ],
      "metadata": {
        "colab": {
          "base_uri": "https://localhost:8080/"
        },
        "id": "TQ5MOepfdkcn",
        "outputId": "cba903e6-d73e-4dae-afdb-e2b1e0c0b344"
      },
      "execution_count": 71,
      "outputs": [
        {
          "output_type": "execute_result",
          "data": {
            "text/plain": [
              "array([[ 5., 15.],\n",
              "       [30., 40.],\n",
              "       [55., 65.]])"
            ]
          },
          "metadata": {},
          "execution_count": 71
        }
      ]
    },
    {
      "cell_type": "code",
      "source": [
        "sp_M[:3, (1, 3)]"
      ],
      "metadata": {
        "colab": {
          "base_uri": "https://localhost:8080/",
          "height": 0
        },
        "id": "XcBDkJkuij8t",
        "outputId": "a9260a90-451d-4665-97ac-9d68ac1326f5"
      },
      "execution_count": 72,
      "outputs": [
        {
          "output_type": "execute_result",
          "data": {
            "text/plain": [
              "Matrix([\n",
              "[ 5.0, 15.0],\n",
              "[30.0, 40.0],\n",
              "[55.0, 65.0]])"
            ],
            "text/latex": "$\\displaystyle \\left[\\begin{matrix}5.0 & 15.0\\\\30.0 & 40.0\\\\55.0 & 65.0\\end{matrix}\\right]$"
          },
          "metadata": {},
          "execution_count": 72
        }
      ]
    },
    {
      "cell_type": "code",
      "source": [
        "# the entry at the intersection of \n",
        "# the 2nd row and the 2nd column\n",
        "M[1, 1]"
      ],
      "metadata": {
        "colab": {
          "base_uri": "https://localhost:8080/"
        },
        "id": "WX4x9WsPdx9N",
        "outputId": "9c5a54d7-67d2-49bc-867e-ec2ce218ebce"
      },
      "execution_count": 73,
      "outputs": [
        {
          "output_type": "execute_result",
          "data": {
            "text/plain": [
              "30.0"
            ]
          },
          "metadata": {},
          "execution_count": 73
        }
      ]
    },
    {
      "cell_type": "code",
      "source": [
        "sp_M[1,1]"
      ],
      "metadata": {
        "colab": {
          "base_uri": "https://localhost:8080/",
          "height": 0
        },
        "id": "KdNywH_OipWb",
        "outputId": "22a2ae83-6cac-4049-cef2-d1253d16af58"
      },
      "execution_count": 74,
      "outputs": [
        {
          "output_type": "execute_result",
          "data": {
            "text/plain": [
              "30.0000000000000"
            ],
            "text/latex": "$\\displaystyle 30.0$"
          },
          "metadata": {},
          "execution_count": 74
        }
      ]
    },
    {
      "cell_type": "markdown",
      "source": [
        "## 1.2.1.3 Solving Linear Equations Using Python"
      ],
      "metadata": {
        "id": "WV72b3Ioi6ED"
      }
    },
    {
      "cell_type": "markdown",
      "source": [
        "### Example"
      ],
      "metadata": {
        "id": "Z9jdnn4fWBOM"
      }
    },
    {
      "cell_type": "markdown",
      "source": [
        "$\n",
        "\\begin{align}\n",
        "4x + 3y + 2z &= 25 \\\\\n",
        "-2x + 2y + 3z &= -10 \\\\\n",
        "3x - 5y + 2z &= -4\n",
        "\\end{align}\n",
        "$"
      ],
      "metadata": {
        "id": "Nooz5FblWG5H"
      }
    },
    {
      "cell_type": "markdown",
      "source": [
        "#### Solve Using the Inverse Method\n",
        "\n",
        "In a nutshell, the solution is found by multiplying the inverse of the coefficent matrix, $M^{-1}$ by the column matrix, $K$.\n",
        "\n",
        "Let $V$ be the solution, then\n",
        "\n",
        "$V = M^{-1} * K$\n",
        "\n",
        "Details about why this equation works are shown in this notebook. "
      ],
      "metadata": {
        "id": "MovWJ7FgW22H"
      }
    },
    {
      "cell_type": "code",
      "source": [
        "# M is the coefficient matrix\n",
        "M = np.array([[4, 3, 2],\n",
        "              [-2, 2, 3],\n",
        "              [3, -5, 2]])\n",
        "M"
      ],
      "metadata": {
        "colab": {
          "base_uri": "https://localhost:8080/"
        },
        "id": "9U5XYoKGXQpY",
        "outputId": "2e1edd2c-ded3-4482-9b94-c9575a38abd3"
      },
      "execution_count": 75,
      "outputs": [
        {
          "output_type": "execute_result",
          "data": {
            "text/plain": [
              "array([[ 4,  3,  2],\n",
              "       [-2,  2,  3],\n",
              "       [ 3, -5,  2]])"
            ]
          },
          "metadata": {},
          "execution_count": 75
        }
      ]
    },
    {
      "cell_type": "code",
      "source": [
        "# K is the column matrix\n",
        "K = np.array([[25],\n",
        "              [-10],\n",
        "              [-4]])\n",
        "K"
      ],
      "metadata": {
        "colab": {
          "base_uri": "https://localhost:8080/"
        },
        "id": "qO8tZvJKX-4n",
        "outputId": "53fabe15-178c-4214-ba8c-b7526a100531"
      },
      "execution_count": 76,
      "outputs": [
        {
          "output_type": "execute_result",
          "data": {
            "text/plain": [
              "array([[ 25],\n",
              "       [-10],\n",
              "       [ -4]])"
            ]
          },
          "metadata": {},
          "execution_count": 76
        }
      ]
    },
    {
      "cell_type": "code",
      "source": [
        "V = np.array([['x'],\n",
        "              ['y'],\n",
        "              ['z']])\n",
        "V"
      ],
      "metadata": {
        "colab": {
          "base_uri": "https://localhost:8080/"
        },
        "id": "ZXgK-nuZYUCD",
        "outputId": "70e57038-cfd8-426b-9e11-426847c68d9d"
      },
      "execution_count": 77,
      "outputs": [
        {
          "output_type": "execute_result",
          "data": {
            "text/plain": [
              "array([['x'],\n",
              "       ['y'],\n",
              "       ['z']], dtype='<U1')"
            ]
          },
          "metadata": {},
          "execution_count": 77
        }
      ]
    },
    {
      "cell_type": "markdown",
      "source": [
        "The system of linear equations in this example can be written as:"
      ],
      "metadata": {
        "id": "FvqqbLyXZX6z"
      }
    },
    {
      "cell_type": "markdown",
      "source": [
        "$\n",
        "M * V = K \\\\\n",
        "\\implies \n",
        "M^{-1} * M * V = M^{-1} * K \\\\\n",
        "\\implies\n",
        "I * V = M^{-1} * K \\\\\n",
        "\\implies\n",
        "V = M^{-1} * K\n",
        "$"
      ],
      "metadata": {
        "id": "zwSz4DZoZePn"
      }
    },
    {
      "cell_type": "code",
      "source": [
        "np.linalg.inv(M).dot(K)"
      ],
      "metadata": {
        "colab": {
          "base_uri": "https://localhost:8080/"
        },
        "id": "dcAP5C51b1bS",
        "outputId": "f93da7fa-8e78-42da-ee62-03e67b40e5cf"
      },
      "execution_count": 78,
      "outputs": [
        {
          "output_type": "execute_result",
          "data": {
            "text/plain": [
              "array([[ 5.],\n",
              "       [ 3.],\n",
              "       [-2.]])"
            ]
          },
          "metadata": {},
          "execution_count": 78
        }
      ]
    },
    {
      "cell_type": "markdown",
      "source": [
        "##### Sympy"
      ],
      "metadata": {
        "id": "Yn2LG6b7eCyA"
      }
    },
    {
      "cell_type": "code",
      "source": [
        "sp_M = sp.Matrix(M)\n",
        "sp_M"
      ],
      "metadata": {
        "colab": {
          "base_uri": "https://localhost:8080/",
          "height": 0
        },
        "id": "yQ2neumqeIoU",
        "outputId": "cae2b13e-1b65-4eb0-a0de-4b7171bbfe85"
      },
      "execution_count": 79,
      "outputs": [
        {
          "output_type": "execute_result",
          "data": {
            "text/plain": [
              "Matrix([\n",
              "[ 4,  3, 2],\n",
              "[-2,  2, 3],\n",
              "[ 3, -5, 2]])"
            ],
            "text/latex": "$\\displaystyle \\left[\\begin{matrix}4 & 3 & 2\\\\-2 & 2 & 3\\\\3 & -5 & 2\\end{matrix}\\right]$"
          },
          "metadata": {},
          "execution_count": 79
        }
      ]
    },
    {
      "cell_type": "code",
      "source": [
        "sp_K = sp.Matrix(K)\n",
        "sp_K"
      ],
      "metadata": {
        "colab": {
          "base_uri": "https://localhost:8080/",
          "height": 0
        },
        "id": "wMmGqoVweNBb",
        "outputId": "90fc1a80-51ca-4f03-bbc1-64d4db9c2c52"
      },
      "execution_count": 80,
      "outputs": [
        {
          "output_type": "execute_result",
          "data": {
            "text/plain": [
              "Matrix([\n",
              "[ 25],\n",
              "[-10],\n",
              "[ -4]])"
            ],
            "text/latex": "$\\displaystyle \\left[\\begin{matrix}25\\\\-10\\\\-4\\end{matrix}\\right]$"
          },
          "metadata": {},
          "execution_count": 80
        }
      ]
    },
    {
      "cell_type": "code",
      "source": [
        "sp_M**-1 * sp_K"
      ],
      "metadata": {
        "colab": {
          "base_uri": "https://localhost:8080/",
          "height": 0
        },
        "id": "KZxdiQBReUrR",
        "outputId": "bc108f2e-c194-45b4-a534-921d346eb699"
      },
      "execution_count": 81,
      "outputs": [
        {
          "output_type": "execute_result",
          "data": {
            "text/plain": [
              "Matrix([\n",
              "[ 5],\n",
              "[ 3],\n",
              "[-2]])"
            ],
            "text/latex": "$\\displaystyle \\left[\\begin{matrix}5\\\\3\\\\-2\\end{matrix}\\right]$"
          },
          "metadata": {},
          "execution_count": 81
        }
      ]
    },
    {
      "cell_type": "markdown",
      "source": [],
      "metadata": {
        "id": "n8OVEu4umYKP"
      }
    },
    {
      "cell_type": "markdown",
      "source": [
        "##### Symbolic summary of this method"
      ],
      "metadata": {
        "id": "bZFwOAfllmOu"
      }
    },
    {
      "cell_type": "code",
      "source": [
        "x, y, z = sp.symbols('x y z')\n",
        "m_11, m_12, m_13 = sp.symbols('m_11 m_12 m_13')\n",
        "m_21, m_22, m_23 = sp.symbols('m_21 m_22 m_23')\n",
        "m_31, m_32, m_33 = sp.symbols('m_31 m_32 m_33')\n",
        "k_1, k_2, k_3 = sp.symbols('k_1 k_2 k_3')"
      ],
      "metadata": {
        "id": "VAh_XwmclsAP"
      },
      "execution_count": 82,
      "outputs": []
    },
    {
      "cell_type": "code",
      "source": [
        "V = sp.Matrix([[x], [y], [z]])\n",
        "V"
      ],
      "metadata": {
        "colab": {
          "base_uri": "https://localhost:8080/",
          "height": 0
        },
        "id": "E3ch8LT6lzxG",
        "outputId": "23d34725-a75a-4d67-ce68-a09b15d127b0"
      },
      "execution_count": 83,
      "outputs": [
        {
          "output_type": "execute_result",
          "data": {
            "text/plain": [
              "Matrix([\n",
              "[x],\n",
              "[y],\n",
              "[z]])"
            ],
            "text/latex": "$\\displaystyle \\left[\\begin{matrix}x\\\\y\\\\z\\end{matrix}\\right]$"
          },
          "metadata": {},
          "execution_count": 83
        }
      ]
    },
    {
      "cell_type": "code",
      "source": [
        "M = sp.Matrix([[m_11, m_12, m_13],\n",
        "               [m_21, m_22, m_23],\n",
        "               [m_31, m_32, m_33]])\n",
        "M"
      ],
      "metadata": {
        "colab": {
          "base_uri": "https://localhost:8080/",
          "height": 0
        },
        "id": "SbOEZnoamD8f",
        "outputId": "aa820ad1-81ca-4d45-d994-6752a5bea550"
      },
      "execution_count": 84,
      "outputs": [
        {
          "output_type": "execute_result",
          "data": {
            "text/plain": [
              "Matrix([\n",
              "[m_11, m_12, m_13],\n",
              "[m_21, m_22, m_23],\n",
              "[m_31, m_32, m_33]])"
            ],
            "text/latex": "$\\displaystyle \\left[\\begin{matrix}m_{11} & m_{12} & m_{13}\\\\m_{21} & m_{22} & m_{23}\\\\m_{31} & m_{32} & m_{33}\\end{matrix}\\right]$"
          },
          "metadata": {},
          "execution_count": 84
        }
      ]
    },
    {
      "cell_type": "code",
      "source": [
        "K = sp.Matrix([[k_1], [k_2], [k_3]])\n",
        "K"
      ],
      "metadata": {
        "colab": {
          "base_uri": "https://localhost:8080/",
          "height": 0
        },
        "id": "EJtmC5q-nTD-",
        "outputId": "5ac5b82a-1393-4635-ba1d-eb07f21673d8"
      },
      "execution_count": 85,
      "outputs": [
        {
          "output_type": "execute_result",
          "data": {
            "text/plain": [
              "Matrix([\n",
              "[k_1],\n",
              "[k_2],\n",
              "[k_3]])"
            ],
            "text/latex": "$\\displaystyle \\left[\\begin{matrix}k_{1}\\\\k_{2}\\\\k_{3}\\end{matrix}\\right]$"
          },
          "metadata": {},
          "execution_count": 85
        }
      ]
    },
    {
      "cell_type": "code",
      "source": [
        "sp.Eq(M * V, K)"
      ],
      "metadata": {
        "colab": {
          "base_uri": "https://localhost:8080/",
          "height": 0
        },
        "id": "1_cd0ya9oOTZ",
        "outputId": "e5d42ca2-82f3-4fab-df99-b11a6815ad1b"
      },
      "execution_count": 86,
      "outputs": [
        {
          "output_type": "execute_result",
          "data": {
            "text/plain": [
              "Eq(Matrix([\n",
              "[m_11*x + m_12*y + m_13*z],\n",
              "[m_21*x + m_22*y + m_23*z],\n",
              "[m_31*x + m_32*y + m_33*z]]), Matrix([\n",
              "[k_1],\n",
              "[k_2],\n",
              "[k_3]]))"
            ],
            "text/latex": "$\\displaystyle \\left[\\begin{matrix}m_{11} x + m_{12} y + m_{13} z\\\\m_{21} x + m_{22} y + m_{23} z\\\\m_{31} x + m_{32} y + m_{33} z\\end{matrix}\\right] = \\left[\\begin{matrix}k_{1}\\\\k_{2}\\\\k_{3}\\end{matrix}\\right]$"
          },
          "metadata": {},
          "execution_count": 86
        }
      ]
    },
    {
      "cell_type": "code",
      "source": [
        "sp.Eq(V, M**-1 * K)"
      ],
      "metadata": {
        "colab": {
          "base_uri": "https://localhost:8080/",
          "height": 0
        },
        "id": "7M9KC1EvnlJh",
        "outputId": "a8f6d3c9-941e-4d53-b45c-ef43d1411174"
      },
      "execution_count": 87,
      "outputs": [
        {
          "output_type": "execute_result",
          "data": {
            "text/plain": [
              "Eq(Matrix([\n",
              "[x],\n",
              "[y],\n",
              "[z]]), Matrix([\n",
              "[ k_1*(m_22*m_33 - m_23*m_32)/(m_11*m_22*m_33 - m_11*m_23*m_32 - m_12*m_21*m_33 + m_12*m_23*m_31 + m_13*m_21*m_32 - m_13*m_22*m_31) + k_2*(-m_12*m_33 + m_13*m_32)/(m_11*m_22*m_33 - m_11*m_23*m_32 - m_12*m_21*m_33 + m_12*m_23*m_31 + m_13*m_21*m_32 - m_13*m_22*m_31) + k_3*(m_12*m_23 - m_13*m_22)/(m_11*m_22*m_33 - m_11*m_23*m_32 - m_12*m_21*m_33 + m_12*m_23*m_31 + m_13*m_21*m_32 - m_13*m_22*m_31)],\n",
              "[k_1*(-m_21*m_33 + m_23*m_31)/(m_11*m_22*m_33 - m_11*m_23*m_32 - m_12*m_21*m_33 + m_12*m_23*m_31 + m_13*m_21*m_32 - m_13*m_22*m_31) + k_2*(m_11*m_33 - m_13*m_31)/(m_11*m_22*m_33 - m_11*m_23*m_32 - m_12*m_21*m_33 + m_12*m_23*m_31 + m_13*m_21*m_32 - m_13*m_22*m_31) + k_3*(-m_11*m_23 + m_13*m_21)/(m_11*m_22*m_33 - m_11*m_23*m_32 - m_12*m_21*m_33 + m_12*m_23*m_31 + m_13*m_21*m_32 - m_13*m_22*m_31)],\n",
              "[ k_1*(m_21*m_32 - m_22*m_31)/(m_11*m_22*m_33 - m_11*m_23*m_32 - m_12*m_21*m_33 + m_12*m_23*m_31 + m_13*m_21*m_32 - m_13*m_22*m_31) + k_2*(-m_11*m_32 + m_12*m_31)/(m_11*m_22*m_33 - m_11*m_23*m_32 - m_12*m_21*m_33 + m_12*m_23*m_31 + m_13*m_21*m_32 - m_13*m_22*m_31) + k_3*(m_11*m_22 - m_12*m_21)/(m_11*m_22*m_33 - m_11*m_23*m_32 - m_12*m_21*m_33 + m_12*m_23*m_31 + m_13*m_21*m_32 - m_13*m_22*m_31)]]))"
            ],
            "text/latex": "$\\displaystyle \\left[\\begin{matrix}x\\\\y\\\\z\\end{matrix}\\right] = \\left[\\begin{matrix}\\frac{k_{1} \\left(m_{22} m_{33} - m_{23} m_{32}\\right)}{m_{11} m_{22} m_{33} - m_{11} m_{23} m_{32} - m_{12} m_{21} m_{33} + m_{12} m_{23} m_{31} + m_{13} m_{21} m_{32} - m_{13} m_{22} m_{31}} + \\frac{k_{2} \\left(- m_{12} m_{33} + m_{13} m_{32}\\right)}{m_{11} m_{22} m_{33} - m_{11} m_{23} m_{32} - m_{12} m_{21} m_{33} + m_{12} m_{23} m_{31} + m_{13} m_{21} m_{32} - m_{13} m_{22} m_{31}} + \\frac{k_{3} \\left(m_{12} m_{23} - m_{13} m_{22}\\right)}{m_{11} m_{22} m_{33} - m_{11} m_{23} m_{32} - m_{12} m_{21} m_{33} + m_{12} m_{23} m_{31} + m_{13} m_{21} m_{32} - m_{13} m_{22} m_{31}}\\\\\\frac{k_{1} \\left(- m_{21} m_{33} + m_{23} m_{31}\\right)}{m_{11} m_{22} m_{33} - m_{11} m_{23} m_{32} - m_{12} m_{21} m_{33} + m_{12} m_{23} m_{31} + m_{13} m_{21} m_{32} - m_{13} m_{22} m_{31}} + \\frac{k_{2} \\left(m_{11} m_{33} - m_{13} m_{31}\\right)}{m_{11} m_{22} m_{33} - m_{11} m_{23} m_{32} - m_{12} m_{21} m_{33} + m_{12} m_{23} m_{31} + m_{13} m_{21} m_{32} - m_{13} m_{22} m_{31}} + \\frac{k_{3} \\left(- m_{11} m_{23} + m_{13} m_{21}\\right)}{m_{11} m_{22} m_{33} - m_{11} m_{23} m_{32} - m_{12} m_{21} m_{33} + m_{12} m_{23} m_{31} + m_{13} m_{21} m_{32} - m_{13} m_{22} m_{31}}\\\\\\frac{k_{1} \\left(m_{21} m_{32} - m_{22} m_{31}\\right)}{m_{11} m_{22} m_{33} - m_{11} m_{23} m_{32} - m_{12} m_{21} m_{33} + m_{12} m_{23} m_{31} + m_{13} m_{21} m_{32} - m_{13} m_{22} m_{31}} + \\frac{k_{2} \\left(- m_{11} m_{32} + m_{12} m_{31}\\right)}{m_{11} m_{22} m_{33} - m_{11} m_{23} m_{32} - m_{12} m_{21} m_{33} + m_{12} m_{23} m_{31} + m_{13} m_{21} m_{32} - m_{13} m_{22} m_{31}} + \\frac{k_{3} \\left(m_{11} m_{22} - m_{12} m_{21}\\right)}{m_{11} m_{22} m_{33} - m_{11} m_{23} m_{32} - m_{12} m_{21} m_{33} + m_{12} m_{23} m_{31} + m_{13} m_{21} m_{32} - m_{13} m_{22} m_{31}}\\end{matrix}\\right]$"
          },
          "metadata": {},
          "execution_count": 87
        }
      ]
    },
    {
      "cell_type": "markdown",
      "source": [
        "#### Solve Using Reduced Row Echelon Form (SymPy solution only)"
      ],
      "metadata": {
        "id": "H0MD4oUbo4gl"
      }
    },
    {
      "cell_type": "code",
      "source": [
        "# the augmented matrix\n",
        "A = sp.Matrix([[4, 3, 2, 25],\n",
        "               [-2, 2, 3, -10],\n",
        "               [3, -5, 2, -4]])\n",
        "A"
      ],
      "metadata": {
        "colab": {
          "base_uri": "https://localhost:8080/",
          "height": 78
        },
        "id": "6Mf5Y0mupAGg",
        "outputId": "e015712b-3a68-4e86-9766-6c61b30e8ef1"
      },
      "execution_count": 88,
      "outputs": [
        {
          "output_type": "execute_result",
          "data": {
            "text/plain": [
              "Matrix([\n",
              "[ 4,  3, 2,  25],\n",
              "[-2,  2, 3, -10],\n",
              "[ 3, -5, 2,  -4]])"
            ],
            "text/latex": "$\\displaystyle \\left[\\begin{matrix}4 & 3 & 2 & 25\\\\-2 & 2 & 3 & -10\\\\3 & -5 & 2 & -4\\end{matrix}\\right]$"
          },
          "metadata": {},
          "execution_count": 88
        }
      ]
    },
    {
      "cell_type": "code",
      "source": [
        "A.rref(pivots=False)"
      ],
      "metadata": {
        "colab": {
          "base_uri": "https://localhost:8080/",
          "height": 78
        },
        "id": "nV3DtuUkqScw",
        "outputId": "192bedc3-28bf-4de1-c0a2-f64b410fe12a"
      },
      "execution_count": 89,
      "outputs": [
        {
          "output_type": "execute_result",
          "data": {
            "text/plain": [
              "Matrix([\n",
              "[1, 0, 0,  5],\n",
              "[0, 1, 0,  3],\n",
              "[0, 0, 1, -2]])"
            ],
            "text/latex": "$\\displaystyle \\left[\\begin{matrix}1 & 0 & 0 & 5\\\\0 & 1 & 0 & 3\\\\0 & 0 & 1 & -2\\end{matrix}\\right]$"
          },
          "metadata": {},
          "execution_count": 89
        }
      ]
    },
    {
      "cell_type": "markdown",
      "source": [
        "#### Solve Using `sympy.linsolve()` (3 methods)"
      ],
      "metadata": {
        "id": "f2DKjLl8rhbt"
      }
    },
    {
      "cell_type": "markdown",
      "source": [
        "##### Method 1 - List of Equations Form"
      ],
      "metadata": {
        "id": "kl4WK55Bt897"
      }
    },
    {
      "cell_type": "code",
      "source": [
        "# note the change in sign of the values from \n",
        "# the column matrix\n",
        "system = [4 * x + 3 * y + 2 * z - 25,\n",
        "          -2 * x + 2 * y + 3 * z + 10,\n",
        "          3 * x - 5 * y + 2 * z + 4]\n",
        "system"
      ],
      "metadata": {
        "colab": {
          "base_uri": "https://localhost:8080/"
        },
        "id": "xUTvCGTxrqvB",
        "outputId": "9c2f2465-27b5-4773-b7aa-89b5bfb09fcc"
      },
      "execution_count": 90,
      "outputs": [
        {
          "output_type": "execute_result",
          "data": {
            "text/plain": [
              "[4*x + 3*y + 2*z - 25, -2*x + 2*y + 3*z + 10, 3*x - 5*y + 2*z + 4]"
            ]
          },
          "metadata": {},
          "execution_count": 90
        }
      ]
    },
    {
      "cell_type": "code",
      "source": [
        "sp.linsolve(system, (x, y, z))"
      ],
      "metadata": {
        "colab": {
          "base_uri": "https://localhost:8080/",
          "height": 37
        },
        "id": "f_HABQgKtG_G",
        "outputId": "fdeaa333-e4b7-4ee0-d600-d4a936fd49f1"
      },
      "execution_count": 91,
      "outputs": [
        {
          "output_type": "execute_result",
          "data": {
            "text/plain": [
              "FiniteSet((5, 3, -2))"
            ],
            "text/latex": "$\\displaystyle \\left\\{\\left( 5, \\  3, \\  -2\\right)\\right\\}$"
          },
          "metadata": {},
          "execution_count": 91
        }
      ]
    },
    {
      "cell_type": "markdown",
      "source": [
        "##### Method 2 - Augmented Matrix Form"
      ],
      "metadata": {
        "id": "f3-DW2BVubux"
      }
    },
    {
      "cell_type": "code",
      "source": [
        "A"
      ],
      "metadata": {
        "colab": {
          "base_uri": "https://localhost:8080/",
          "height": 78
        },
        "id": "7nFrg4imuo1U",
        "outputId": "09730977-c475-44a6-a359-6f16c0de91ad"
      },
      "execution_count": 92,
      "outputs": [
        {
          "output_type": "execute_result",
          "data": {
            "text/plain": [
              "Matrix([\n",
              "[ 4,  3, 2,  25],\n",
              "[-2,  2, 3, -10],\n",
              "[ 3, -5, 2,  -4]])"
            ],
            "text/latex": "$\\displaystyle \\left[\\begin{matrix}4 & 3 & 2 & 25\\\\-2 & 2 & 3 & -10\\\\3 & -5 & 2 & -4\\end{matrix}\\right]$"
          },
          "metadata": {},
          "execution_count": 92
        }
      ]
    },
    {
      "cell_type": "code",
      "source": [
        "sp.linsolve(A, (x, y, z))"
      ],
      "metadata": {
        "colab": {
          "base_uri": "https://localhost:8080/",
          "height": 37
        },
        "id": "0bI9VdFruruH",
        "outputId": "3787a3be-6ae1-4898-a28b-f861a0b2804a"
      },
      "execution_count": 93,
      "outputs": [
        {
          "output_type": "execute_result",
          "data": {
            "text/plain": [
              "FiniteSet((5, 3, -2))"
            ],
            "text/latex": "$\\displaystyle \\left\\{\\left( 5, \\  3, \\  -2\\right)\\right\\}$"
          },
          "metadata": {},
          "execution_count": 93
        }
      ]
    },
    {
      "cell_type": "markdown",
      "source": [
        "##### Method 3 - $A*x=b$ Form"
      ],
      "metadata": {
        "id": "uQTSrGVxuzm0"
      }
    },
    {
      "cell_type": "code",
      "source": [
        "A = sp_M\n",
        "A"
      ],
      "metadata": {
        "colab": {
          "base_uri": "https://localhost:8080/",
          "height": 78
        },
        "id": "7G1oVLTiu8ur",
        "outputId": "8e0018b1-c467-4f17-f2d5-ea959d430ebb"
      },
      "execution_count": 94,
      "outputs": [
        {
          "output_type": "execute_result",
          "data": {
            "text/plain": [
              "Matrix([\n",
              "[ 4,  3, 2],\n",
              "[-2,  2, 3],\n",
              "[ 3, -5, 2]])"
            ],
            "text/latex": "$\\displaystyle \\left[\\begin{matrix}4 & 3 & 2\\\\-2 & 2 & 3\\\\3 & -5 & 2\\end{matrix}\\right]$"
          },
          "metadata": {},
          "execution_count": 94
        }
      ]
    },
    {
      "cell_type": "code",
      "source": [
        "b = sp_K\n",
        "b"
      ],
      "metadata": {
        "colab": {
          "base_uri": "https://localhost:8080/",
          "height": 78
        },
        "id": "mDT-0pbdvAQ-",
        "outputId": "85ec66be-8be9-4dfe-88ef-8fb75d1879f3"
      },
      "execution_count": 95,
      "outputs": [
        {
          "output_type": "execute_result",
          "data": {
            "text/plain": [
              "Matrix([\n",
              "[ 25],\n",
              "[-10],\n",
              "[ -4]])"
            ],
            "text/latex": "$\\displaystyle \\left[\\begin{matrix}25\\\\-10\\\\-4\\end{matrix}\\right]$"
          },
          "metadata": {},
          "execution_count": 95
        }
      ]
    },
    {
      "cell_type": "code",
      "source": [
        "sp.linsolve((A, b), x, y, z)"
      ],
      "metadata": {
        "colab": {
          "base_uri": "https://localhost:8080/",
          "height": 37
        },
        "id": "Y5PMIhKPveRb",
        "outputId": "ecad7ea1-7840-4e1a-81ee-3681efa96841"
      },
      "execution_count": 96,
      "outputs": [
        {
          "output_type": "execute_result",
          "data": {
            "text/plain": [
              "FiniteSet((5, 3, -2))"
            ],
            "text/latex": "$\\displaystyle \\left\\{\\left( 5, \\  3, \\  -2\\right)\\right\\}$"
          },
          "metadata": {},
          "execution_count": 96
        }
      ]
    },
    {
      "cell_type": "markdown",
      "source": [
        "#### Solve Using `np.linalg.solve()`"
      ],
      "metadata": {
        "id": "j-8vQWIuxpJJ"
      }
    },
    {
      "cell_type": "code",
      "source": [
        "M = np.array([[4, 3, 2],\n",
        "              [-2, 2, 3],\n",
        "              [3, -5, 2]])\n",
        "M"
      ],
      "metadata": {
        "colab": {
          "base_uri": "https://localhost:8080/"
        },
        "id": "pLke6fxTziN4",
        "outputId": "e53274f8-23e5-4c1c-ee8b-aa61347cb1aa"
      },
      "execution_count": 97,
      "outputs": [
        {
          "output_type": "execute_result",
          "data": {
            "text/plain": [
              "array([[ 4,  3,  2],\n",
              "       [-2,  2,  3],\n",
              "       [ 3, -5,  2]])"
            ]
          },
          "metadata": {},
          "execution_count": 97
        }
      ]
    },
    {
      "cell_type": "code",
      "source": [
        "K = np.array([[25],\n",
        "              [-10],\n",
        "              [-4]])\n",
        "K"
      ],
      "metadata": {
        "colab": {
          "base_uri": "https://localhost:8080/"
        },
        "id": "DlXkkcim4Bvv",
        "outputId": "26342580-791e-4820-ce2e-7384249ddc68"
      },
      "execution_count": 99,
      "outputs": [
        {
          "output_type": "execute_result",
          "data": {
            "text/plain": [
              "array([[ 25],\n",
              "       [-10],\n",
              "       [ -4]])"
            ]
          },
          "metadata": {},
          "execution_count": 99
        }
      ]
    },
    {
      "cell_type": "code",
      "source": [
        "np.linalg.solve(M, K)"
      ],
      "metadata": {
        "colab": {
          "base_uri": "https://localhost:8080/"
        },
        "id": "zJR0kEh54Ot8",
        "outputId": "d12acc07-f323-46d0-b517-7d38c4bf8cdc"
      },
      "execution_count": 102,
      "outputs": [
        {
          "output_type": "execute_result",
          "data": {
            "text/plain": [
              "array([[ 5.],\n",
              "       [ 3.],\n",
              "       [-2.]])"
            ]
          },
          "metadata": {},
          "execution_count": 102
        }
      ]
    }
  ]
}