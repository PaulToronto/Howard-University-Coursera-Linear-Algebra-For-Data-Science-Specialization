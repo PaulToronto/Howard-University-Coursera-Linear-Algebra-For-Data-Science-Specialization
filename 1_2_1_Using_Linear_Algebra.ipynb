{
  "nbformat": 4,
  "nbformat_minor": 0,
  "metadata": {
    "colab": {
      "provenance": [],
      "collapsed_sections": [
        "9nOeuE29HMc6",
        "wiv0axR_I-Nv",
        "N0R6NkoM10by",
        "6sYmKl2gJeSV",
        "QNkCBv1D4CkP",
        "0RC7kAdHKm8m",
        "9_Beszt5781k",
        "caV6TXlzQ1yb",
        "nrXLeIGhfGcy",
        "yAj3bREdajzt",
        "Yn2LG6b7eCyA"
      ],
      "toc_visible": true,
      "authorship_tag": "ABX9TyOn17rqyxrVtaZ40L4WM7UV",
      "include_colab_link": true
    },
    "kernelspec": {
      "name": "python3",
      "display_name": "Python 3"
    },
    "language_info": {
      "name": "python"
    }
  },
  "cells": [
    {
      "cell_type": "markdown",
      "metadata": {
        "id": "view-in-github",
        "colab_type": "text"
      },
      "source": [
        "<a href=\"https://colab.research.google.com/github/PaulToronto/Howard-University-Coursera-Linear-Algebra-For-Data-Science-Specialization/blob/main/1_2_1_Using_Linear_Algebra.ipynb\" target=\"_parent\"><img src=\"https://colab.research.google.com/assets/colab-badge.svg\" alt=\"Open In Colab\"/></a>"
      ]
    },
    {
      "cell_type": "markdown",
      "source": [
        "# 1.2.1 Using Linear Algebra"
      ],
      "metadata": {
        "id": "sQpkE21IjKyD"
      }
    },
    {
      "cell_type": "code",
      "source": [
        "import numpy as np\n",
        "import random\n",
        "import sympy as sp\n",
        "import matplotlib.pyplot as plt"
      ],
      "metadata": {
        "id": "NLxCc2G2mJkg"
      },
      "execution_count": 206,
      "outputs": []
    },
    {
      "cell_type": "markdown",
      "source": [
        "## 1.2.1.1 Introduction to Linear Algebra Functions in Python"
      ],
      "metadata": {
        "id": "5oYPHLHwkVSe"
      }
    },
    {
      "cell_type": "code",
      "execution_count": 207,
      "metadata": {
        "id": "9dz_frzXjFgD"
      },
      "outputs": [],
      "source": [
        "M = np.linspace(-8, 8, 9).reshape(3, 3)\n",
        "N = np.random.randint(-8, 8, size=(3, 3))\n",
        "O = 2*N\n",
        "\n",
        "sp_M = sp.Matrix(M)\n",
        "sp_N = sp.Matrix(N)\n",
        "sp_O = sp.Matrix(O)\n",
        "\n",
        "v1 = np.array([1, 3, 5, 7])\n",
        "v2 = np.array([2, 4, 6, 8])\n",
        "v3 = np.array([-2, 5, 1, 3])\n",
        "\n",
        "sp_v1 = sp.Matrix(v1)\n",
        "sp_v2 = sp.Matrix(v2)\n",
        "sp_v3 = sp.Matrix(v3)"
      ]
    },
    {
      "cell_type": "code",
      "source": [
        "M, sp_M, N, sp_N, O, sp_O"
      ],
      "metadata": {
        "colab": {
          "base_uri": "https://localhost:8080/"
        },
        "id": "OmjTKygUek8q",
        "outputId": "0e96b09a-837f-4bb7-c30f-dae661fbc203"
      },
      "execution_count": 208,
      "outputs": [
        {
          "output_type": "execute_result",
          "data": {
            "text/plain": [
              "(array([[-8., -6., -4.],\n",
              "        [-2.,  0.,  2.],\n",
              "        [ 4.,  6.,  8.]]),\n",
              " Matrix([\n",
              " [-8.0, -6.0, -4.0],\n",
              " [-2.0,    0,  2.0],\n",
              " [ 4.0,  6.0,  8.0]]),\n",
              " array([[-4, -4,  1],\n",
              "        [ 0, -5,  0],\n",
              "        [ 7, -8, -8]]),\n",
              " Matrix([\n",
              " [-4, -4,  1],\n",
              " [ 0, -5,  0],\n",
              " [ 7, -8, -8]]),\n",
              " array([[ -8,  -8,   2],\n",
              "        [  0, -10,   0],\n",
              "        [ 14, -16, -16]]),\n",
              " Matrix([\n",
              " [-8,  -8,   2],\n",
              " [ 0, -10,   0],\n",
              " [14, -16, -16]]))"
            ]
          },
          "metadata": {},
          "execution_count": 208
        }
      ]
    },
    {
      "cell_type": "code",
      "source": [
        "v1"
      ],
      "metadata": {
        "colab": {
          "base_uri": "https://localhost:8080/"
        },
        "id": "prQ-I33pe2v1",
        "outputId": "4f5a75ba-ae91-487c-c5f6-48d01499d807"
      },
      "execution_count": 209,
      "outputs": [
        {
          "output_type": "execute_result",
          "data": {
            "text/plain": [
              "array([1, 3, 5, 7])"
            ]
          },
          "metadata": {},
          "execution_count": 209
        }
      ]
    },
    {
      "cell_type": "code",
      "source": [
        "sp_v1"
      ],
      "metadata": {
        "colab": {
          "base_uri": "https://localhost:8080/",
          "height": 98
        },
        "id": "R_m3mUvwe-jZ",
        "outputId": "97e7d05a-b302-404e-9000-f0fdb7248403"
      },
      "execution_count": 210,
      "outputs": [
        {
          "output_type": "execute_result",
          "data": {
            "text/plain": [
              "Matrix([\n",
              "[1],\n",
              "[3],\n",
              "[5],\n",
              "[7]])"
            ],
            "text/latex": "$\\displaystyle \\left[\\begin{matrix}1\\\\3\\\\5\\\\7\\end{matrix}\\right]$"
          },
          "metadata": {},
          "execution_count": 210
        }
      ]
    },
    {
      "cell_type": "markdown",
      "source": [
        "### `dot()` for two vectors\n",
        "\n",
        "The `dot` function calculates the **dot product** of two vectors."
      ],
      "metadata": {
        "id": "3b5hR8JCnhLI"
      }
    },
    {
      "cell_type": "code",
      "source": [
        "v1, v2"
      ],
      "metadata": {
        "colab": {
          "base_uri": "https://localhost:8080/"
        },
        "id": "9pVw6mWZnws7",
        "outputId": "3a019536-951d-43bd-9f00-628fc22e1099"
      },
      "execution_count": 211,
      "outputs": [
        {
          "output_type": "execute_result",
          "data": {
            "text/plain": [
              "(array([1, 3, 5, 7]), array([2, 4, 6, 8]))"
            ]
          },
          "metadata": {},
          "execution_count": 211
        }
      ]
    },
    {
      "cell_type": "code",
      "source": [
        "total = 0;\n",
        "for i in range(4):\n",
        "    total += v1[i] * v2[i]\n",
        "\n",
        "total"
      ],
      "metadata": {
        "colab": {
          "base_uri": "https://localhost:8080/"
        },
        "id": "KB7MalF67Uj-",
        "outputId": "c387933d-c061-4926-9aa1-fe26fac39362"
      },
      "execution_count": 212,
      "outputs": [
        {
          "output_type": "execute_result",
          "data": {
            "text/plain": [
              "100"
            ]
          },
          "metadata": {},
          "execution_count": 212
        }
      ]
    },
    {
      "cell_type": "code",
      "source": [
        "sum([v1[i] * v2[i] for i in range(4)])"
      ],
      "metadata": {
        "colab": {
          "base_uri": "https://localhost:8080/"
        },
        "id": "eJE5cgt08Ecx",
        "outputId": "2f2cd77d-be25-4364-884b-e9840811c2f6"
      },
      "execution_count": 213,
      "outputs": [
        {
          "output_type": "execute_result",
          "data": {
            "text/plain": [
              "100"
            ]
          },
          "metadata": {},
          "execution_count": 213
        }
      ]
    },
    {
      "cell_type": "code",
      "source": [
        "np.dot(v1, v2)"
      ],
      "metadata": {
        "colab": {
          "base_uri": "https://localhost:8080/"
        },
        "id": "6uvv264nn3m8",
        "outputId": "a167ec0a-3ce0-4b06-f02c-ca3551ba00e3"
      },
      "execution_count": 214,
      "outputs": [
        {
          "output_type": "execute_result",
          "data": {
            "text/plain": [
              "100"
            ]
          },
          "metadata": {},
          "execution_count": 214
        }
      ]
    },
    {
      "cell_type": "code",
      "source": [
        "v1.dot(v2)"
      ],
      "metadata": {
        "colab": {
          "base_uri": "https://localhost:8080/"
        },
        "id": "NOnR_L29n99W",
        "outputId": "b831377a-39e4-477d-b0cd-5df8cae3d227"
      },
      "execution_count": 215,
      "outputs": [
        {
          "output_type": "execute_result",
          "data": {
            "text/plain": [
              "100"
            ]
          },
          "metadata": {},
          "execution_count": 215
        }
      ]
    },
    {
      "cell_type": "markdown",
      "source": [
        "#### Sympy"
      ],
      "metadata": {
        "id": "2aqxi8jHDX3V"
      }
    },
    {
      "cell_type": "code",
      "source": [
        "sp.DotProduct(sp_v1, sp_v2)"
      ],
      "metadata": {
        "colab": {
          "base_uri": "https://localhost:8080/",
          "height": 98
        },
        "id": "5EHvHDybEDAk",
        "outputId": "59c764d8-799c-4c3f-f121-777b6a6aa86e"
      },
      "execution_count": 216,
      "outputs": [
        {
          "output_type": "execute_result",
          "data": {
            "text/plain": [
              "DotProduct(Matrix([\n",
              "[1],\n",
              "[3],\n",
              "[5],\n",
              "[7]]), Matrix([\n",
              "[2],\n",
              "[4],\n",
              "[6],\n",
              "[8]]))"
            ],
            "text/latex": "$\\displaystyle \\operatorname{DotProduct}\\left(\\left[\\begin{matrix}1\\\\3\\\\5\\\\7\\end{matrix}\\right], \\left[\\begin{matrix}2\\\\4\\\\6\\\\8\\end{matrix}\\right]\\right)$"
          },
          "metadata": {},
          "execution_count": 216
        }
      ]
    },
    {
      "cell_type": "code",
      "source": [
        "sp.DotProduct(sp_v1, sp_v2).simplify()"
      ],
      "metadata": {
        "colab": {
          "base_uri": "https://localhost:8080/",
          "height": 37
        },
        "id": "WQsNcbYeDf8a",
        "outputId": "bc9a11c6-6272-491f-81c3-b8372c5bdd74"
      },
      "execution_count": 217,
      "outputs": [
        {
          "output_type": "execute_result",
          "data": {
            "text/plain": [
              "100"
            ],
            "text/latex": "$\\displaystyle 100$"
          },
          "metadata": {},
          "execution_count": 217
        }
      ]
    },
    {
      "cell_type": "code",
      "source": [
        "sp_v1.dot(sp_v2)"
      ],
      "metadata": {
        "colab": {
          "base_uri": "https://localhost:8080/",
          "height": 37
        },
        "id": "eXen28nZF4ML",
        "outputId": "ced95aff-6a01-4ddd-bfd1-74444196fa47"
      },
      "execution_count": 218,
      "outputs": [
        {
          "output_type": "execute_result",
          "data": {
            "text/plain": [
              "100"
            ],
            "text/latex": "$\\displaystyle 100$"
          },
          "metadata": {},
          "execution_count": 218
        }
      ]
    },
    {
      "cell_type": "markdown",
      "source": [
        "### `dot()` for two matrices\n",
        "\n",
        "This is matrix multiplication"
      ],
      "metadata": {
        "id": "XDOCUTSWrj_A"
      }
    },
    {
      "cell_type": "code",
      "source": [
        "M"
      ],
      "metadata": {
        "colab": {
          "base_uri": "https://localhost:8080/"
        },
        "id": "LrzXs78NoS05",
        "outputId": "a29b63a2-6c33-4e3f-c8f7-b73eebbd192b"
      },
      "execution_count": 219,
      "outputs": [
        {
          "output_type": "execute_result",
          "data": {
            "text/plain": [
              "array([[-8., -6., -4.],\n",
              "       [-2.,  0.,  2.],\n",
              "       [ 4.,  6.,  8.]])"
            ]
          },
          "metadata": {},
          "execution_count": 219
        }
      ]
    },
    {
      "cell_type": "code",
      "source": [
        "N"
      ],
      "metadata": {
        "colab": {
          "base_uri": "https://localhost:8080/"
        },
        "id": "c1r5D1aToVGc",
        "outputId": "5ea82b29-dc21-4731-e4e8-d751b01b2608"
      },
      "execution_count": 220,
      "outputs": [
        {
          "output_type": "execute_result",
          "data": {
            "text/plain": [
              "array([[-4, -4,  1],\n",
              "       [ 0, -5,  0],\n",
              "       [ 7, -8, -8]])"
            ]
          },
          "metadata": {},
          "execution_count": 220
        }
      ]
    },
    {
      "cell_type": "code",
      "source": [
        "N[0,:], N[1, :], N[2,:] # rows of N"
      ],
      "metadata": {
        "colab": {
          "base_uri": "https://localhost:8080/"
        },
        "id": "a4Hthm3hjHEB",
        "outputId": "c00f0464-606b-40ac-fa40-9e808598af6e"
      },
      "execution_count": 221,
      "outputs": [
        {
          "output_type": "execute_result",
          "data": {
            "text/plain": [
              "(array([-4, -4,  1]), array([ 0, -5,  0]), array([ 7, -8, -8]))"
            ]
          },
          "metadata": {},
          "execution_count": 221
        }
      ]
    },
    {
      "cell_type": "code",
      "source": [
        "N[:,0], N[:,1], N[:,2] # columns of N"
      ],
      "metadata": {
        "colab": {
          "base_uri": "https://localhost:8080/"
        },
        "id": "NQ0Igew1jUAC",
        "outputId": "355e8aef-25d7-473b-d9c8-6f4bc134e156"
      },
      "execution_count": 222,
      "outputs": [
        {
          "output_type": "execute_result",
          "data": {
            "text/plain": [
              "(array([-4,  0,  7]), array([-4, -5, -8]), array([ 1,  0, -8]))"
            ]
          },
          "metadata": {},
          "execution_count": 222
        }
      ]
    },
    {
      "cell_type": "code",
      "source": [
        "np.dot(N, M)"
      ],
      "metadata": {
        "colab": {
          "base_uri": "https://localhost:8080/"
        },
        "id": "Vi0fzWqHsi30",
        "outputId": "fbc4d717-56cc-4eb3-acc8-1e4420549c59"
      },
      "execution_count": 223,
      "outputs": [
        {
          "output_type": "execute_result",
          "data": {
            "text/plain": [
              "array([[  44.,   30.,   16.],\n",
              "       [  10.,    0.,  -10.],\n",
              "       [ -72.,  -90., -108.]])"
            ]
          },
          "metadata": {},
          "execution_count": 223
        }
      ]
    },
    {
      "cell_type": "code",
      "source": [
        "np.dot(M, N)"
      ],
      "metadata": {
        "colab": {
          "base_uri": "https://localhost:8080/"
        },
        "id": "_mfMJP8DhNxe",
        "outputId": "b573533a-a4b3-42fa-8554-cb02a8b695cc"
      },
      "execution_count": 224,
      "outputs": [
        {
          "output_type": "execute_result",
          "data": {
            "text/plain": [
              "array([[   4.,   94.,   24.],\n",
              "       [  22.,   -8.,  -18.],\n",
              "       [  40., -110.,  -60.]])"
            ]
          },
          "metadata": {},
          "execution_count": 224
        }
      ]
    },
    {
      "cell_type": "code",
      "source": [
        "N_dot_M = np.zeros((3, 3))\n",
        "\n",
        "for i in range(3):\n",
        "    for j in range(3):\n",
        "        row_N = N[i,:]\n",
        "        col_M = M[:,j]\n",
        "        N_dot_M[i,j] = np.dot(row_N, col_M)\n",
        "\n",
        "N_dot_M"
      ],
      "metadata": {
        "colab": {
          "base_uri": "https://localhost:8080/"
        },
        "id": "rkQmCH2ng8BF",
        "outputId": "df8eac12-619d-4712-8127-002ca742c913"
      },
      "execution_count": 225,
      "outputs": [
        {
          "output_type": "execute_result",
          "data": {
            "text/plain": [
              "array([[  44.,   30.,   16.],\n",
              "       [  10.,    0.,  -10.],\n",
              "       [ -72.,  -90., -108.]])"
            ]
          },
          "metadata": {},
          "execution_count": 225
        }
      ]
    },
    {
      "cell_type": "code",
      "source": [
        "N.dot(M)"
      ],
      "metadata": {
        "colab": {
          "base_uri": "https://localhost:8080/"
        },
        "id": "xSueM4sasmQ9",
        "outputId": "b3ec722a-512b-4557-8fc3-848c3814afa6"
      },
      "execution_count": 226,
      "outputs": [
        {
          "output_type": "execute_result",
          "data": {
            "text/plain": [
              "array([[  44.,   30.,   16.],\n",
              "       [  10.,    0.,  -10.],\n",
              "       [ -72.,  -90., -108.]])"
            ]
          },
          "metadata": {},
          "execution_count": 226
        }
      ]
    },
    {
      "cell_type": "code",
      "source": [
        "N"
      ],
      "metadata": {
        "colab": {
          "base_uri": "https://localhost:8080/"
        },
        "id": "tvfzOQhIkE0g",
        "outputId": "f48c8a97-dbe5-4d46-de8d-c6ef4d29519c"
      },
      "execution_count": 227,
      "outputs": [
        {
          "output_type": "execute_result",
          "data": {
            "text/plain": [
              "array([[-4, -4,  1],\n",
              "       [ 0, -5,  0],\n",
              "       [ 7, -8, -8]])"
            ]
          },
          "metadata": {},
          "execution_count": 227
        }
      ]
    },
    {
      "cell_type": "code",
      "source": [
        "M"
      ],
      "metadata": {
        "colab": {
          "base_uri": "https://localhost:8080/"
        },
        "id": "KW9_pAqtkGPd",
        "outputId": "1a0ccda3-650c-41be-b2b0-cb1dcaafb471"
      },
      "execution_count": 228,
      "outputs": [
        {
          "output_type": "execute_result",
          "data": {
            "text/plain": [
              "array([[-8., -6., -4.],\n",
              "       [-2.,  0.,  2.],\n",
              "       [ 4.,  6.,  8.]])"
            ]
          },
          "metadata": {},
          "execution_count": 228
        }
      ]
    },
    {
      "cell_type": "code",
      "source": [
        "np.matmul(N, M) # also the dot product"
      ],
      "metadata": {
        "colab": {
          "base_uri": "https://localhost:8080/"
        },
        "id": "1vWXQ4sprweu",
        "outputId": "e4e64301-ca71-430b-b4cc-9877a82aa692"
      },
      "execution_count": 229,
      "outputs": [
        {
          "output_type": "execute_result",
          "data": {
            "text/plain": [
              "array([[  44.,   30.,   16.],\n",
              "       [  10.,    0.,  -10.],\n",
              "       [ -72.,  -90., -108.]])"
            ]
          },
          "metadata": {},
          "execution_count": 229
        }
      ]
    },
    {
      "cell_type": "code",
      "source": [
        "N @ M # also the dot product"
      ],
      "metadata": {
        "colab": {
          "base_uri": "https://localhost:8080/"
        },
        "id": "_V11V_PLkMQX",
        "outputId": "6108f9a1-301e-4023-e0f4-c826766eafaa"
      },
      "execution_count": 230,
      "outputs": [
        {
          "output_type": "execute_result",
          "data": {
            "text/plain": [
              "array([[  44.,   30.,   16.],\n",
              "       [  10.,    0.,  -10.],\n",
              "       [ -72.,  -90., -108.]])"
            ]
          },
          "metadata": {},
          "execution_count": 230
        }
      ]
    },
    {
      "cell_type": "code",
      "source": [
        "N * M # element-wise mutliplication"
      ],
      "metadata": {
        "colab": {
          "base_uri": "https://localhost:8080/"
        },
        "id": "otmnvd04kXVd",
        "outputId": "3a9643cd-b056-4fb9-9fbc-b2f238e3908c"
      },
      "execution_count": 231,
      "outputs": [
        {
          "output_type": "execute_result",
          "data": {
            "text/plain": [
              "array([[ 32.,  24.,  -4.],\n",
              "       [ -0.,  -0.,   0.],\n",
              "       [ 28., -48., -64.]])"
            ]
          },
          "metadata": {},
          "execution_count": 231
        }
      ]
    },
    {
      "cell_type": "markdown",
      "source": [
        "#### SymPy"
      ],
      "metadata": {
        "id": "TItFvqeSCiy9"
      }
    },
    {
      "cell_type": "code",
      "source": [
        "N.dot(M)"
      ],
      "metadata": {
        "colab": {
          "base_uri": "https://localhost:8080/"
        },
        "id": "ZdyoomQBktbT",
        "outputId": "6bc92f59-5cb1-4d9f-ae0d-7290129ef1e7"
      },
      "execution_count": 232,
      "outputs": [
        {
          "output_type": "execute_result",
          "data": {
            "text/plain": [
              "array([[  44.,   30.,   16.],\n",
              "       [  10.,    0.,  -10.],\n",
              "       [ -72.,  -90., -108.]])"
            ]
          },
          "metadata": {},
          "execution_count": 232
        }
      ]
    },
    {
      "cell_type": "code",
      "source": [
        "np.matmul(N, M)"
      ],
      "metadata": {
        "colab": {
          "base_uri": "https://localhost:8080/"
        },
        "id": "bwUAT5EMlFCA",
        "outputId": "f5ed16b8-ee4a-4da0-8d7e-6c54f6a6c031"
      },
      "execution_count": 233,
      "outputs": [
        {
          "output_type": "execute_result",
          "data": {
            "text/plain": [
              "array([[  44.,   30.,   16.],\n",
              "       [  10.,    0.,  -10.],\n",
              "       [ -72.,  -90., -108.]])"
            ]
          },
          "metadata": {},
          "execution_count": 233
        }
      ]
    },
    {
      "cell_type": "code",
      "source": [
        "sp_N"
      ],
      "metadata": {
        "colab": {
          "base_uri": "https://localhost:8080/",
          "height": 78
        },
        "id": "vlg3--FukjMp",
        "outputId": "dd37f7c8-4dc0-4c9d-e636-6d90036c8b0b"
      },
      "execution_count": 234,
      "outputs": [
        {
          "output_type": "execute_result",
          "data": {
            "text/plain": [
              "Matrix([\n",
              "[-4, -4,  1],\n",
              "[ 0, -5,  0],\n",
              "[ 7, -8, -8]])"
            ],
            "text/latex": "$\\displaystyle \\left[\\begin{matrix}-4 & -4 & 1\\\\0 & -5 & 0\\\\7 & -8 & -8\\end{matrix}\\right]$"
          },
          "metadata": {},
          "execution_count": 234
        }
      ]
    },
    {
      "cell_type": "code",
      "source": [
        "sp_M"
      ],
      "metadata": {
        "colab": {
          "base_uri": "https://localhost:8080/",
          "height": 78
        },
        "id": "iJ55_R0kkk60",
        "outputId": "b9521dda-0fca-46e9-b9d6-cc9482177589"
      },
      "execution_count": 235,
      "outputs": [
        {
          "output_type": "execute_result",
          "data": {
            "text/plain": [
              "Matrix([\n",
              "[-8.0, -6.0, -4.0],\n",
              "[-2.0,    0,  2.0],\n",
              "[ 4.0,  6.0,  8.0]])"
            ],
            "text/latex": "$\\displaystyle \\left[\\begin{matrix}-8.0 & -6.0 & -4.0\\\\-2.0 & 0 & 2.0\\\\4.0 & 6.0 & 8.0\\end{matrix}\\right]$"
          },
          "metadata": {},
          "execution_count": 235
        }
      ]
    },
    {
      "cell_type": "code",
      "source": [
        "sp_N * sp_M"
      ],
      "metadata": {
        "colab": {
          "base_uri": "https://localhost:8080/",
          "height": 78
        },
        "id": "u9gwVhiRGGiC",
        "outputId": "20f7051c-cfb6-40df-d3d1-e1c5629487f3"
      },
      "execution_count": 236,
      "outputs": [
        {
          "output_type": "execute_result",
          "data": {
            "text/plain": [
              "Matrix([\n",
              "[ 44.0,  30.0,   16.0],\n",
              "[ 10.0,     0,  -10.0],\n",
              "[-72.0, -90.0, -108.0]])"
            ],
            "text/latex": "$\\displaystyle \\left[\\begin{matrix}44.0 & 30.0 & 16.0\\\\10.0 & 0 & -10.0\\\\-72.0 & -90.0 & -108.0\\end{matrix}\\right]$"
          },
          "metadata": {},
          "execution_count": 236
        }
      ]
    },
    {
      "cell_type": "code",
      "source": [
        "sp_N @ sp_M"
      ],
      "metadata": {
        "colab": {
          "base_uri": "https://localhost:8080/",
          "height": 78
        },
        "id": "dsrouuWZmYlG",
        "outputId": "8211f97a-9755-4236-8d7b-cd63404b0ed1"
      },
      "execution_count": 237,
      "outputs": [
        {
          "output_type": "execute_result",
          "data": {
            "text/plain": [
              "Matrix([\n",
              "[ 44.0,  30.0,   16.0],\n",
              "[ 10.0,     0,  -10.0],\n",
              "[-72.0, -90.0, -108.0]])"
            ],
            "text/latex": "$\\displaystyle \\left[\\begin{matrix}44.0 & 30.0 & 16.0\\\\10.0 & 0 & -10.0\\\\-72.0 & -90.0 & -108.0\\end{matrix}\\right]$"
          },
          "metadata": {},
          "execution_count": 237
        }
      ]
    },
    {
      "cell_type": "code",
      "source": [
        "sp.matrices.dense.matrix_multiply_elementwise(sp_N, sp_M)"
      ],
      "metadata": {
        "colab": {
          "base_uri": "https://localhost:8080/",
          "height": 78
        },
        "id": "rbDJI58epy4j",
        "outputId": "ad1972ed-bc21-4cd5-a8dd-e9909a8ceb37"
      },
      "execution_count": 238,
      "outputs": [
        {
          "output_type": "execute_result",
          "data": {
            "text/plain": [
              "Matrix([\n",
              "[32.0,  24.0,  -4.0],\n",
              "[   0,     0,     0],\n",
              "[28.0, -48.0, -64.0]])"
            ],
            "text/latex": "$\\displaystyle \\left[\\begin{matrix}32.0 & 24.0 & -4.0\\\\0 & 0 & 0\\\\28.0 & -48.0 & -64.0\\end{matrix}\\right]$"
          },
          "metadata": {},
          "execution_count": 238
        }
      ]
    },
    {
      "cell_type": "markdown",
      "source": [
        "### `linalg.multi_dot()`"
      ],
      "metadata": {
        "id": "A22X_8CWtKcD"
      }
    },
    {
      "cell_type": "code",
      "source": [
        "np.linalg.multi_dot([M, N, O])"
      ],
      "metadata": {
        "colab": {
          "base_uri": "https://localhost:8080/"
        },
        "id": "csBkMYmltrR2",
        "outputId": "70902334-fc1c-4c15-e5d6-b06768a768f4"
      },
      "execution_count": 239,
      "outputs": [
        {
          "output_type": "execute_result",
          "data": {
            "text/plain": [
              "array([[  304., -1356.,  -376.],\n",
              "       [ -428.,   192.,   332.],\n",
              "       [-1160.,  1740.,  1040.]])"
            ]
          },
          "metadata": {},
          "execution_count": 239
        }
      ]
    },
    {
      "cell_type": "code",
      "source": [
        "M.dot(N).dot(O)"
      ],
      "metadata": {
        "colab": {
          "base_uri": "https://localhost:8080/"
        },
        "id": "OnTeiJXsAxkH",
        "outputId": "cc695670-25de-4c1f-a751-31f5dfd43257"
      },
      "execution_count": 240,
      "outputs": [
        {
          "output_type": "execute_result",
          "data": {
            "text/plain": [
              "array([[  304., -1356.,  -376.],\n",
              "       [ -428.,   192.,   332.],\n",
              "       [-1160.,  1740.,  1040.]])"
            ]
          },
          "metadata": {},
          "execution_count": 240
        }
      ]
    },
    {
      "cell_type": "markdown",
      "source": [
        "#### SymPy"
      ],
      "metadata": {
        "id": "dIuLxySQGp1Z"
      }
    },
    {
      "cell_type": "code",
      "source": [
        "sp_M * sp_N * sp_O"
      ],
      "metadata": {
        "colab": {
          "base_uri": "https://localhost:8080/",
          "height": 78
        },
        "id": "VpB1BrpXGsVu",
        "outputId": "79d77dd2-fcb5-4079-8916-aa4c072fc109"
      },
      "execution_count": 241,
      "outputs": [
        {
          "output_type": "execute_result",
          "data": {
            "text/plain": [
              "Matrix([\n",
              "[  304.0, -1356.0, -376.0],\n",
              "[ -428.0,   192.0,  332.0],\n",
              "[-1160.0,  1740.0, 1040.0]])"
            ],
            "text/latex": "$\\displaystyle \\left[\\begin{matrix}304.0 & -1356.0 & -376.0\\\\-428.0 & 192.0 & 332.0\\\\-1160.0 & 1740.0 & 1040.0\\end{matrix}\\right]$"
          },
          "metadata": {},
          "execution_count": 241
        }
      ]
    },
    {
      "cell_type": "markdown",
      "source": [
        "### `vdot()`"
      ],
      "metadata": {
        "id": "m_dqROlXv7FR"
      }
    },
    {
      "cell_type": "code",
      "source": [
        "v1, v2"
      ],
      "metadata": {
        "colab": {
          "base_uri": "https://localhost:8080/"
        },
        "id": "uh1BR8tlqDiT",
        "outputId": "0c67159f-d038-416e-a6c2-0f542dcc609a"
      },
      "execution_count": 242,
      "outputs": [
        {
          "output_type": "execute_result",
          "data": {
            "text/plain": [
              "(array([1, 3, 5, 7]), array([2, 4, 6, 8]))"
            ]
          },
          "metadata": {},
          "execution_count": 242
        }
      ]
    },
    {
      "cell_type": "code",
      "source": [
        "np.vdot(v1, v2), np.dot(v1, v2)"
      ],
      "metadata": {
        "colab": {
          "base_uri": "https://localhost:8080/"
        },
        "id": "mr2O8jMHv_MI",
        "outputId": "c977bbf9-d81a-4202-d7f1-b3752715e73c"
      },
      "execution_count": 243,
      "outputs": [
        {
          "output_type": "execute_result",
          "data": {
            "text/plain": [
              "(100, 100)"
            ]
          },
          "metadata": {},
          "execution_count": 243
        }
      ]
    },
    {
      "cell_type": "markdown",
      "source": [
        "#### SymPy"
      ],
      "metadata": {
        "id": "9nOeuE29HMc6"
      }
    },
    {
      "cell_type": "code",
      "source": [
        "sp_v1.dot(sp_v2)"
      ],
      "metadata": {
        "colab": {
          "base_uri": "https://localhost:8080/",
          "height": 0
        },
        "id": "qmITt9XRHORi",
        "outputId": "246f4ff4-34cd-4b34-bb51-c87fc17f1955"
      },
      "execution_count": 244,
      "outputs": [
        {
          "output_type": "execute_result",
          "data": {
            "text/plain": [
              "100"
            ],
            "text/latex": "$\\displaystyle 100$"
          },
          "metadata": {},
          "execution_count": 244
        }
      ]
    },
    {
      "cell_type": "markdown",
      "source": [
        "### `inner()`\n",
        "\n",
        "Returns the inner product of two arrays"
      ],
      "metadata": {
        "id": "LWTuwnTSyc9k"
      }
    },
    {
      "cell_type": "code",
      "source": [
        "v3, v1"
      ],
      "metadata": {
        "colab": {
          "base_uri": "https://localhost:8080/"
        },
        "id": "jh9xL3QnymZy",
        "outputId": "34967ab7-a20c-4214-db3d-b1d6d77ad442"
      },
      "execution_count": 245,
      "outputs": [
        {
          "output_type": "execute_result",
          "data": {
            "text/plain": [
              "(array([-2,  5,  1,  3]), array([1, 3, 5, 7]))"
            ]
          },
          "metadata": {},
          "execution_count": 245
        }
      ]
    },
    {
      "cell_type": "code",
      "source": [
        "np.inner(v3, v1)"
      ],
      "metadata": {
        "colab": {
          "base_uri": "https://localhost:8080/"
        },
        "id": "R0fHZIH_1dTy",
        "outputId": "b648b93e-cebe-491c-a8b6-520480ea356b"
      },
      "execution_count": 246,
      "outputs": [
        {
          "output_type": "execute_result",
          "data": {
            "text/plain": [
              "39"
            ]
          },
          "metadata": {},
          "execution_count": 246
        }
      ]
    },
    {
      "cell_type": "code",
      "source": [
        "np.dot(v3, v1)"
      ],
      "metadata": {
        "colab": {
          "base_uri": "https://localhost:8080/"
        },
        "id": "I5l9B2Jz1n-j",
        "outputId": "ad25f675-0de7-424c-d0e3-478f678ede33"
      },
      "execution_count": 247,
      "outputs": [
        {
          "output_type": "execute_result",
          "data": {
            "text/plain": [
              "39"
            ]
          },
          "metadata": {},
          "execution_count": 247
        }
      ]
    },
    {
      "cell_type": "markdown",
      "source": [
        "#### SymPy"
      ],
      "metadata": {
        "id": "wiv0axR_I-Nv"
      }
    },
    {
      "cell_type": "code",
      "source": [
        "sp_v3.dot(sp_v1), sp_v1.dot(sp_v3)"
      ],
      "metadata": {
        "colab": {
          "base_uri": "https://localhost:8080/"
        },
        "id": "meU3nGHNI_9V",
        "outputId": "fb68eb89-7f51-4acc-eed5-23ec93a34e28"
      },
      "execution_count": 248,
      "outputs": [
        {
          "output_type": "execute_result",
          "data": {
            "text/plain": [
              "(39, 39)"
            ]
          },
          "metadata": {},
          "execution_count": 248
        }
      ]
    },
    {
      "cell_type": "code",
      "source": [
        "sp.DotProduct(sp_v3, sp_v1).simplify()"
      ],
      "metadata": {
        "colab": {
          "base_uri": "https://localhost:8080/",
          "height": 0
        },
        "id": "gQfVGYq3qiHM",
        "outputId": "edb9620e-aea8-4b91-d182-4fdee46a5da8"
      },
      "execution_count": 249,
      "outputs": [
        {
          "output_type": "execute_result",
          "data": {
            "text/plain": [
              "39"
            ],
            "text/latex": "$\\displaystyle 39$"
          },
          "metadata": {},
          "execution_count": 249
        }
      ]
    },
    {
      "cell_type": "markdown",
      "source": [
        "### `matmul()`"
      ],
      "metadata": {
        "id": "N0R6NkoM10by"
      }
    },
    {
      "cell_type": "code",
      "source": [
        "np.matmul(M, N)"
      ],
      "metadata": {
        "colab": {
          "base_uri": "https://localhost:8080/"
        },
        "id": "EBFq1fKM13qj",
        "outputId": "c9f4c9e2-28b2-4d96-cce6-35d338f94e5e"
      },
      "execution_count": 250,
      "outputs": [
        {
          "output_type": "execute_result",
          "data": {
            "text/plain": [
              "array([[   4.,   94.,   24.],\n",
              "       [  22.,   -8.,  -18.],\n",
              "       [  40., -110.,  -60.]])"
            ]
          },
          "metadata": {},
          "execution_count": 250
        }
      ]
    },
    {
      "cell_type": "code",
      "source": [
        "np.dot(M, N)"
      ],
      "metadata": {
        "colab": {
          "base_uri": "https://localhost:8080/"
        },
        "id": "Tiy2Q08319V1",
        "outputId": "0a2cbde5-80c3-4ffd-ed31-e648bf2c622b"
      },
      "execution_count": 251,
      "outputs": [
        {
          "output_type": "execute_result",
          "data": {
            "text/plain": [
              "array([[   4.,   94.,   24.],\n",
              "       [  22.,   -8.,  -18.],\n",
              "       [  40., -110.,  -60.]])"
            ]
          },
          "metadata": {},
          "execution_count": 251
        }
      ]
    },
    {
      "cell_type": "markdown",
      "source": [
        "#### SymPy"
      ],
      "metadata": {
        "id": "6sYmKl2gJeSV"
      }
    },
    {
      "cell_type": "code",
      "source": [
        "sp_M * sp_N"
      ],
      "metadata": {
        "colab": {
          "base_uri": "https://localhost:8080/",
          "height": 0
        },
        "id": "ZMMWBJJdJgBl",
        "outputId": "6b87383c-4fc6-48a5-8f57-8ef3db1a675c"
      },
      "execution_count": 252,
      "outputs": [
        {
          "output_type": "execute_result",
          "data": {
            "text/plain": [
              "Matrix([\n",
              "[ 4.0,   94.0,  24.0],\n",
              "[22.0,   -8.0, -18.0],\n",
              "[40.0, -110.0, -60.0]])"
            ],
            "text/latex": "$\\displaystyle \\left[\\begin{matrix}4.0 & 94.0 & 24.0\\\\22.0 & -8.0 & -18.0\\\\40.0 & -110.0 & -60.0\\end{matrix}\\right]$"
          },
          "metadata": {},
          "execution_count": 252
        }
      ]
    },
    {
      "cell_type": "code",
      "source": [
        "sp_M @ sp_N"
      ],
      "metadata": {
        "colab": {
          "base_uri": "https://localhost:8080/",
          "height": 0
        },
        "id": "oSk4-hwtqysK",
        "outputId": "250dc434-bb46-4a34-8495-162dba32cd7f"
      },
      "execution_count": 253,
      "outputs": [
        {
          "output_type": "execute_result",
          "data": {
            "text/plain": [
              "Matrix([\n",
              "[ 4.0,   94.0,  24.0],\n",
              "[22.0,   -8.0, -18.0],\n",
              "[40.0, -110.0, -60.0]])"
            ],
            "text/latex": "$\\displaystyle \\left[\\begin{matrix}4.0 & 94.0 & 24.0\\\\22.0 & -8.0 & -18.0\\\\40.0 & -110.0 & -60.0\\end{matrix}\\right]$"
          },
          "metadata": {},
          "execution_count": 253
        }
      ]
    },
    {
      "cell_type": "code",
      "source": [
        "M.dot(N)"
      ],
      "metadata": {
        "colab": {
          "base_uri": "https://localhost:8080/"
        },
        "id": "yvK_Kk30q4KA",
        "outputId": "6d1ea421-719f-4262-9429-dc45b0e8c3b2"
      },
      "execution_count": 254,
      "outputs": [
        {
          "output_type": "execute_result",
          "data": {
            "text/plain": [
              "array([[   4.,   94.,   24.],\n",
              "       [  22.,   -8.,  -18.],\n",
              "       [  40., -110.,  -60.]])"
            ]
          },
          "metadata": {},
          "execution_count": 254
        }
      ]
    },
    {
      "cell_type": "markdown",
      "source": [
        "### `linalg.matrix_power()`"
      ],
      "metadata": {
        "id": "ot2bvBTb2Qa7"
      }
    },
    {
      "cell_type": "code",
      "source": [
        "M"
      ],
      "metadata": {
        "colab": {
          "base_uri": "https://localhost:8080/"
        },
        "id": "Mulu27Ln2Vm4",
        "outputId": "73f1d553-5704-4e89-9898-bb4834cf3a93"
      },
      "execution_count": 255,
      "outputs": [
        {
          "output_type": "execute_result",
          "data": {
            "text/plain": [
              "array([[-8., -6., -4.],\n",
              "       [-2.,  0.,  2.],\n",
              "       [ 4.,  6.,  8.]])"
            ]
          },
          "metadata": {},
          "execution_count": 255
        }
      ]
    },
    {
      "cell_type": "code",
      "source": [
        "np.linalg.matrix_power(M, 3)"
      ],
      "metadata": {
        "colab": {
          "base_uri": "https://localhost:8080/"
        },
        "id": "n7i-oz522b2z",
        "outputId": "2b8e763d-f7cc-48d4-9651-1a5d90fde57c"
      },
      "execution_count": 256,
      "outputs": [
        {
          "output_type": "execute_result",
          "data": {
            "text/plain": [
              "array([[-576., -432., -288.],\n",
              "       [-144.,    0.,  144.],\n",
              "       [ 288.,  432.,  576.]])"
            ]
          },
          "metadata": {},
          "execution_count": 256
        }
      ]
    },
    {
      "cell_type": "code",
      "source": [
        "M.dot(M).dot(M)"
      ],
      "metadata": {
        "colab": {
          "base_uri": "https://localhost:8080/"
        },
        "id": "0xQaP18-2klP",
        "outputId": "0a91586b-5bf5-418d-83d2-ee7117ceb9dd"
      },
      "execution_count": 257,
      "outputs": [
        {
          "output_type": "execute_result",
          "data": {
            "text/plain": [
              "array([[-576., -432., -288.],\n",
              "       [-144.,    0.,  144.],\n",
              "       [ 288.,  432.,  576.]])"
            ]
          },
          "metadata": {},
          "execution_count": 257
        }
      ]
    },
    {
      "cell_type": "code",
      "source": [
        "np.linalg.multi_dot([M, M, M])"
      ],
      "metadata": {
        "colab": {
          "base_uri": "https://localhost:8080/"
        },
        "id": "55XDffAk2n_F",
        "outputId": "2f294e19-2eaf-4194-d59b-7768e324573e"
      },
      "execution_count": 258,
      "outputs": [
        {
          "output_type": "execute_result",
          "data": {
            "text/plain": [
              "array([[-576., -432., -288.],\n",
              "       [-144.,    0.,  144.],\n",
              "       [ 288.,  432.,  576.]])"
            ]
          },
          "metadata": {},
          "execution_count": 258
        }
      ]
    },
    {
      "cell_type": "code",
      "source": [
        "np.matmul(np.matmul(M, M), M)"
      ],
      "metadata": {
        "colab": {
          "base_uri": "https://localhost:8080/"
        },
        "id": "9ekZ-n3W2vwD",
        "outputId": "4b49d841-8125-4bc7-930f-3a11c89c2808"
      },
      "execution_count": 259,
      "outputs": [
        {
          "output_type": "execute_result",
          "data": {
            "text/plain": [
              "array([[-576., -432., -288.],\n",
              "       [-144.,    0.,  144.],\n",
              "       [ 288.,  432.,  576.]])"
            ]
          },
          "metadata": {},
          "execution_count": 259
        }
      ]
    },
    {
      "cell_type": "markdown",
      "source": [
        "#### SymPy"
      ],
      "metadata": {
        "id": "VjPFBHOmJnnJ"
      }
    },
    {
      "cell_type": "code",
      "source": [
        "sp_M**3"
      ],
      "metadata": {
        "colab": {
          "base_uri": "https://localhost:8080/",
          "height": 78
        },
        "id": "phHvoJVkJpDm",
        "outputId": "c34804df-81c6-4236-9e58-899216ef9041"
      },
      "execution_count": 260,
      "outputs": [
        {
          "output_type": "execute_result",
          "data": {
            "text/plain": [
              "Matrix([\n",
              "[-576.0, -432.0, -288.0],\n",
              "[-144.0,      0,  144.0],\n",
              "[ 288.0,  432.0,  576.0]])"
            ],
            "text/latex": "$\\displaystyle \\left[\\begin{matrix}-576.0 & -432.0 & -288.0\\\\-144.0 & 0 & 144.0\\\\288.0 & 432.0 & 576.0\\end{matrix}\\right]$"
          },
          "metadata": {},
          "execution_count": 260
        }
      ]
    },
    {
      "cell_type": "code",
      "source": [
        "sp_M * sp_M * sp_M"
      ],
      "metadata": {
        "colab": {
          "base_uri": "https://localhost:8080/",
          "height": 78
        },
        "id": "7OblycvQJvIh",
        "outputId": "89bcb3e4-ad38-4a31-e9d1-a8ca5e6c6fb2"
      },
      "execution_count": 261,
      "outputs": [
        {
          "output_type": "execute_result",
          "data": {
            "text/plain": [
              "Matrix([\n",
              "[-576.0, -432.0, -288.0],\n",
              "[-144.0,      0,  144.0],\n",
              "[ 288.0,  432.0,  576.0]])"
            ],
            "text/latex": "$\\displaystyle \\left[\\begin{matrix}-576.0 & -432.0 & -288.0\\\\-144.0 & 0 & 144.0\\\\288.0 & 432.0 & 576.0\\end{matrix}\\right]$"
          },
          "metadata": {},
          "execution_count": 261
        }
      ]
    },
    {
      "cell_type": "markdown",
      "source": [
        "### `linalg.eig()`\n",
        "\n",
        "Returns the eigenvalues and eigenvectors of a matrix"
      ],
      "metadata": {
        "id": "QNkCBv1D4CkP"
      }
    },
    {
      "cell_type": "code",
      "source": [
        "O"
      ],
      "metadata": {
        "colab": {
          "base_uri": "https://localhost:8080/"
        },
        "id": "annYw0ITC4cF",
        "outputId": "c841c6c5-4291-427b-8a32-866bf0b6f67e"
      },
      "execution_count": 262,
      "outputs": [
        {
          "output_type": "execute_result",
          "data": {
            "text/plain": [
              "array([[ -8,  -8,   2],\n",
              "       [  0, -10,   0],\n",
              "       [ 14, -16, -16]])"
            ]
          },
          "metadata": {},
          "execution_count": 262
        }
      ]
    },
    {
      "cell_type": "code",
      "source": [
        "eig_vals, eig_vects = np.linalg.eig(O)"
      ],
      "metadata": {
        "id": "6AdJblCW4HmF"
      },
      "execution_count": 263,
      "outputs": []
    },
    {
      "cell_type": "code",
      "source": [
        "eig_vals"
      ],
      "metadata": {
        "colab": {
          "base_uri": "https://localhost:8080/"
        },
        "id": "VYFxBbZw4brU",
        "outputId": "489fe093-4293-4a2d-ea3f-067ea98a59df"
      },
      "execution_count": 264,
      "outputs": [
        {
          "output_type": "execute_result",
          "data": {
            "text/plain": [
              "array([ -5.36675042, -18.63324958, -10.        ])"
            ]
          },
          "metadata": {},
          "execution_count": 264
        }
      ]
    },
    {
      "cell_type": "code",
      "source": [
        "eig_vects"
      ],
      "metadata": {
        "colab": {
          "base_uri": "https://localhost:8080/"
        },
        "id": "zbbZ2TNA4djJ",
        "outputId": "5633e84a-1603-49ae-ea6a-021e5a57c894"
      },
      "execution_count": 265,
      "outputs": [
        {
          "output_type": "execute_result",
          "data": {
            "text/plain": [
              "array([[ 0.60483985, -0.18484794,  0.66666667],\n",
              "       [ 0.        ,  0.        ,  0.33333333],\n",
              "       [ 0.79634714,  0.98276713,  0.66666667]])"
            ]
          },
          "metadata": {},
          "execution_count": 265
        }
      ]
    },
    {
      "cell_type": "markdown",
      "source": [
        "#### SymPy"
      ],
      "metadata": {
        "id": "0RC7kAdHKm8m"
      }
    },
    {
      "cell_type": "code",
      "source": [
        "sp_O.eigenvals()"
      ],
      "metadata": {
        "colab": {
          "base_uri": "https://localhost:8080/"
        },
        "id": "BK_V0mHQKpUy",
        "outputId": "c7993571-5572-4fc7-fd38-e487482aa68c"
      },
      "execution_count": 266,
      "outputs": [
        {
          "output_type": "execute_result",
          "data": {
            "text/plain": [
              "{-10: 1, -12 - 2*sqrt(11): 1, -12 + 2*sqrt(11): 1}"
            ]
          },
          "metadata": {},
          "execution_count": 266
        }
      ]
    },
    {
      "cell_type": "code",
      "source": [
        "2, 10 - 2 * np.sqrt(5), 2 * np.sqrt(5) + 10"
      ],
      "metadata": {
        "colab": {
          "base_uri": "https://localhost:8080/"
        },
        "id": "omDmiESzsOIY",
        "outputId": "a0c023f3-fed9-46eb-85b9-8a6ef96e01a9"
      },
      "execution_count": 267,
      "outputs": [
        {
          "output_type": "execute_result",
          "data": {
            "text/plain": [
              "(2, 5.52786404500042, 14.47213595499958)"
            ]
          },
          "metadata": {},
          "execution_count": 267
        }
      ]
    },
    {
      "cell_type": "code",
      "source": [
        "for eig_val in list(sp_O.eigenvals()):\n",
        "    print(eig_val.evalf())"
      ],
      "metadata": {
        "colab": {
          "base_uri": "https://localhost:8080/"
        },
        "id": "WTO57CXfK_gg",
        "outputId": "b5da72bd-26e0-489b-d891-be1c5a1953fd"
      },
      "execution_count": 268,
      "outputs": [
        {
          "output_type": "stream",
          "name": "stdout",
          "text": [
            "-10.0000000000000\n",
            "-18.6332495807108\n",
            "-5.36675041928920\n"
          ]
        }
      ]
    },
    {
      "cell_type": "code",
      "source": [
        "# takes too long to run\n",
        "# eig_vects = sp_O.eigenvects()"
      ],
      "metadata": {
        "id": "oLfnvLeFL1VX"
      },
      "execution_count": 269,
      "outputs": []
    },
    {
      "cell_type": "markdown",
      "source": [
        "### `linalg.eigh()`\n",
        "\n",
        "Returns eigenvalues and eigenvectors of a complex Hermition matrix or a real symmetric matrix"
      ],
      "metadata": {
        "id": "9_Beszt5781k"
      }
    },
    {
      "cell_type": "code",
      "source": [
        "eigh_vals, eigh_vects = np.linalg.eigh(N)"
      ],
      "metadata": {
        "id": "hqnb23xG8SS9"
      },
      "execution_count": 270,
      "outputs": []
    },
    {
      "cell_type": "code",
      "source": [
        "eigh_vals"
      ],
      "metadata": {
        "colab": {
          "base_uri": "https://localhost:8080/"
        },
        "id": "Zbybq1Cf8lyH",
        "outputId": "a5c1960e-016f-4887-d858-de785d153da9"
      },
      "execution_count": 271,
      "outputs": [
        {
          "output_type": "execute_result",
          "data": {
            "text/plain": [
              "array([-17.05925527,  -4.44139317,   4.50064844])"
            ]
          },
          "metadata": {},
          "execution_count": 271
        }
      ]
    },
    {
      "cell_type": "code",
      "source": [
        "eigh_vects"
      ],
      "metadata": {
        "colab": {
          "base_uri": "https://localhost:8080/"
        },
        "id": "N1kGo-Fa80R1",
        "outputId": "def5060e-815b-411d-c539-ed5d9389b23c"
      },
      "execution_count": 272,
      "outputs": [
        {
          "output_type": "execute_result",
          "data": {
            "text/plain": [
              "array([[-0.40783339, -0.74135654, -0.53297506],\n",
              "       [ 0.50474573, -0.66948129,  0.54500143],\n",
              "       [ 0.7608572 ,  0.0467471 , -0.64723337]])"
            ]
          },
          "metadata": {},
          "execution_count": 272
        }
      ]
    },
    {
      "cell_type": "markdown",
      "source": [
        "### `linalg.det()`\n",
        "\n",
        "Returns the determinant of a matrix"
      ],
      "metadata": {
        "id": "NicauXjL_olr"
      }
    },
    {
      "cell_type": "code",
      "source": [
        "np.linalg.det(M), np.linalg.det(N), np.linalg.det(O)"
      ],
      "metadata": {
        "colab": {
          "base_uri": "https://localhost:8080/"
        },
        "id": "fbOG_fvu_wcy",
        "outputId": "fd041219-3461-4815-925a-0b506bda9633"
      },
      "execution_count": 273,
      "outputs": [
        {
          "output_type": "execute_result",
          "data": {
            "text/plain": [
              "(0.0, -124.99999999999994, -999.9999999999998)"
            ]
          },
          "metadata": {},
          "execution_count": 273
        }
      ]
    },
    {
      "cell_type": "markdown",
      "source": [
        "#### SymPy"
      ],
      "metadata": {
        "id": "XuJMw16RPYes"
      }
    },
    {
      "cell_type": "code",
      "source": [
        "sp_M.det(), sp_N.det(), sp_O.det()"
      ],
      "metadata": {
        "colab": {
          "base_uri": "https://localhost:8080/"
        },
        "id": "kyByiDwGPaVE",
        "outputId": "83cf0468-5331-46c5-e8c5-d952a9000e1a"
      },
      "execution_count": 274,
      "outputs": [
        {
          "output_type": "execute_result",
          "data": {
            "text/plain": [
              "(0, -125, -1000)"
            ]
          },
          "metadata": {},
          "execution_count": 274
        }
      ]
    },
    {
      "cell_type": "markdown",
      "source": [
        "### `linalg.inv()`\n",
        "\n",
        "Returns the inverse of a matrix"
      ],
      "metadata": {
        "id": "3-aJe7nFADTy"
      }
    },
    {
      "cell_type": "code",
      "source": [
        "N"
      ],
      "metadata": {
        "colab": {
          "base_uri": "https://localhost:8080/"
        },
        "id": "wjQeLNlEALNa",
        "outputId": "1366c2a2-b95f-4809-c187-96a777583be0"
      },
      "execution_count": 275,
      "outputs": [
        {
          "output_type": "execute_result",
          "data": {
            "text/plain": [
              "array([[-4, -4,  1],\n",
              "       [ 0, -5,  0],\n",
              "       [ 7, -8, -8]])"
            ]
          },
          "metadata": {},
          "execution_count": 275
        }
      ]
    },
    {
      "cell_type": "code",
      "source": [
        "np.linalg.inv(N)"
      ],
      "metadata": {
        "colab": {
          "base_uri": "https://localhost:8080/"
        },
        "id": "expG6ShNAPUZ",
        "outputId": "1b2514f0-5dfa-4e15-ce3d-4b81f70465a7"
      },
      "execution_count": 276,
      "outputs": [
        {
          "output_type": "execute_result",
          "data": {
            "text/plain": [
              "array([[-3.2000000e-01,  3.2000000e-01, -4.0000000e-02],\n",
              "       [-0.0000000e+00, -2.0000000e-01, -1.2952602e-17],\n",
              "       [-2.8000000e-01,  4.8000000e-01, -1.6000000e-01]])"
            ]
          },
          "metadata": {},
          "execution_count": 276
        }
      ]
    },
    {
      "cell_type": "code",
      "source": [
        "np.matmul(N, np.linalg.inv(N))"
      ],
      "metadata": {
        "colab": {
          "base_uri": "https://localhost:8080/"
        },
        "id": "gkGExSTXAR42",
        "outputId": "0104e5a9-4d6d-4c8b-fd56-2731348231c2"
      },
      "execution_count": 277,
      "outputs": [
        {
          "output_type": "execute_result",
          "data": {
            "text/plain": [
              "array([[ 1.00000000e+00, -1.11022302e-16,  2.77555756e-17],\n",
              "       [ 0.00000000e+00,  1.00000000e+00,  6.47630098e-17],\n",
              "       [ 0.00000000e+00,  0.00000000e+00,  1.00000000e+00]])"
            ]
          },
          "metadata": {},
          "execution_count": 277
        }
      ]
    },
    {
      "cell_type": "code",
      "source": [
        "N.dot(np.linalg.inv(N))"
      ],
      "metadata": {
        "colab": {
          "base_uri": "https://localhost:8080/"
        },
        "id": "wooYzv5LAnBC",
        "outputId": "c867c179-6b35-4b80-b19a-6e990adc9d43"
      },
      "execution_count": 278,
      "outputs": [
        {
          "output_type": "execute_result",
          "data": {
            "text/plain": [
              "array([[ 1.00000000e+00, -1.11022302e-16,  2.77555756e-17],\n",
              "       [ 0.00000000e+00,  1.00000000e+00,  6.47630098e-17],\n",
              "       [ 0.00000000e+00,  0.00000000e+00,  1.00000000e+00]])"
            ]
          },
          "metadata": {},
          "execution_count": 278
        }
      ]
    },
    {
      "cell_type": "markdown",
      "source": [
        "#### SymPy"
      ],
      "metadata": {
        "id": "caV6TXlzQ1yb"
      }
    },
    {
      "cell_type": "code",
      "source": [
        "sp_N**-1"
      ],
      "metadata": {
        "colab": {
          "base_uri": "https://localhost:8080/",
          "height": 0
        },
        "id": "G8vX2rwbQ3-q",
        "outputId": "3ee0547e-9ff3-4845-ce5b-4c851fe9052e"
      },
      "execution_count": 279,
      "outputs": [
        {
          "output_type": "execute_result",
          "data": {
            "text/plain": [
              "Matrix([\n",
              "[-8/25,  8/25, -1/25],\n",
              "[    0,  -1/5,     0],\n",
              "[-7/25, 12/25, -4/25]])"
            ],
            "text/latex": "$\\displaystyle \\left[\\begin{matrix}- \\frac{8}{25} & \\frac{8}{25} & - \\frac{1}{25}\\\\0 & - \\frac{1}{5} & 0\\\\- \\frac{7}{25} & \\frac{12}{25} & - \\frac{4}{25}\\end{matrix}\\right]$"
          },
          "metadata": {},
          "execution_count": 279
        }
      ]
    },
    {
      "cell_type": "code",
      "source": [
        "(sp_N**-1).evalf()"
      ],
      "metadata": {
        "colab": {
          "base_uri": "https://localhost:8080/",
          "height": 0
        },
        "id": "mvyj4OC-Q828",
        "outputId": "e5a01323-5a86-4d45-a5e0-5ca5b06e25fb"
      },
      "execution_count": 280,
      "outputs": [
        {
          "output_type": "execute_result",
          "data": {
            "text/plain": [
              "Matrix([\n",
              "[-0.32, 0.32, -0.04],\n",
              "[    0, -0.2,     0],\n",
              "[-0.28, 0.48, -0.16]])"
            ],
            "text/latex": "$\\displaystyle \\left[\\begin{matrix}-0.32 & 0.32 & -0.04\\\\0 & -0.2 & 0\\\\-0.28 & 0.48 & -0.16\\end{matrix}\\right]$"
          },
          "metadata": {},
          "execution_count": 280
        }
      ]
    },
    {
      "cell_type": "code",
      "source": [
        "sp_N * sp_N**-1"
      ],
      "metadata": {
        "colab": {
          "base_uri": "https://localhost:8080/",
          "height": 0
        },
        "id": "jttDC0m0REpH",
        "outputId": "0ffd0ead-334b-48dd-9470-81f246075055"
      },
      "execution_count": 281,
      "outputs": [
        {
          "output_type": "execute_result",
          "data": {
            "text/plain": [
              "Matrix([\n",
              "[1, 0, 0],\n",
              "[0, 1, 0],\n",
              "[0, 0, 1]])"
            ],
            "text/latex": "$\\displaystyle \\left[\\begin{matrix}1 & 0 & 0\\\\0 & 1 & 0\\\\0 & 0 & 1\\end{matrix}\\right]$"
          },
          "metadata": {},
          "execution_count": 281
        }
      ]
    },
    {
      "cell_type": "markdown",
      "source": [
        "## 1.2.1.2 Using Matrices in Python"
      ],
      "metadata": {
        "id": "agRDbyAHRc27"
      }
    },
    {
      "cell_type": "markdown",
      "source": [
        "### Building Matrices Using Numpy"
      ],
      "metadata": {
        "id": "HBIKF1GAZbxV"
      }
    },
    {
      "cell_type": "code",
      "source": [
        "L = np.linspace(0, 120, 25)\n",
        "L"
      ],
      "metadata": {
        "colab": {
          "base_uri": "https://localhost:8080/"
        },
        "id": "NmKml2scZhXy",
        "outputId": "9f8c806b-2906-44e4-9a99-2e282d6b93ab"
      },
      "execution_count": 282,
      "outputs": [
        {
          "output_type": "execute_result",
          "data": {
            "text/plain": [
              "array([  0.,   5.,  10.,  15.,  20.,  25.,  30.,  35.,  40.,  45.,  50.,\n",
              "        55.,  60.,  65.,  70.,  75.,  80.,  85.,  90.,  95., 100., 105.,\n",
              "       110., 115., 120.])"
            ]
          },
          "metadata": {},
          "execution_count": 282
        }
      ]
    },
    {
      "cell_type": "code",
      "source": [
        "M = L.reshape(5, 5)\n",
        "M"
      ],
      "metadata": {
        "colab": {
          "base_uri": "https://localhost:8080/"
        },
        "id": "54lM5HZsZ5PE",
        "outputId": "e25ef997-f535-4045-e690-cae5017651ae"
      },
      "execution_count": 283,
      "outputs": [
        {
          "output_type": "execute_result",
          "data": {
            "text/plain": [
              "array([[  0.,   5.,  10.,  15.,  20.],\n",
              "       [ 25.,  30.,  35.,  40.,  45.],\n",
              "       [ 50.,  55.,  60.,  65.,  70.],\n",
              "       [ 75.,  80.,  85.,  90.,  95.],\n",
              "       [100., 105., 110., 115., 120.]])"
            ]
          },
          "metadata": {},
          "execution_count": 283
        }
      ]
    },
    {
      "cell_type": "code",
      "source": [
        "R = np.random.randint(-5, 4, size=(4, 4))\n",
        "R"
      ],
      "metadata": {
        "colab": {
          "base_uri": "https://localhost:8080/"
        },
        "id": "TkX53rOfbUqe",
        "outputId": "0ca2e7a5-3e2e-43b4-d67e-9ab256416322"
      },
      "execution_count": 284,
      "outputs": [
        {
          "output_type": "execute_result",
          "data": {
            "text/plain": [
              "array([[-4, -4, -1, -4],\n",
              "       [-4,  3,  0, -1],\n",
              "       [-3, -3,  0, -2],\n",
              "       [ 3, -2,  2, -3]])"
            ]
          },
          "metadata": {},
          "execution_count": 284
        }
      ]
    },
    {
      "cell_type": "markdown",
      "source": [
        "### Building Matrices Using SymPy"
      ],
      "metadata": {
        "id": "nrXLeIGhfGcy"
      }
    },
    {
      "cell_type": "code",
      "source": [
        "sp.Matrix([[1, -1], [3, 4], [0, 2]])"
      ],
      "metadata": {
        "colab": {
          "base_uri": "https://localhost:8080/",
          "height": 0
        },
        "id": "10tbp1HZJM-9",
        "outputId": "57515ef4-6bca-48e8-95f0-e6dcb008dc54"
      },
      "execution_count": 285,
      "outputs": [
        {
          "output_type": "execute_result",
          "data": {
            "text/plain": [
              "Matrix([\n",
              "[1, -1],\n",
              "[3,  4],\n",
              "[0,  2]])"
            ],
            "text/latex": "$\\displaystyle \\left[\\begin{matrix}1 & -1\\\\3 & 4\\\\0 & 2\\end{matrix}\\right]$"
          },
          "metadata": {},
          "execution_count": 285
        }
      ]
    },
    {
      "cell_type": "code",
      "source": [
        "sp_M = sp.Matrix(M)\n",
        "sp_M"
      ],
      "metadata": {
        "colab": {
          "base_uri": "https://localhost:8080/",
          "height": 0
        },
        "id": "V06Y7zvFfJ-K",
        "outputId": "ea61e4f7-1e1b-445c-ae76-1471aeebd30c"
      },
      "execution_count": 286,
      "outputs": [
        {
          "output_type": "execute_result",
          "data": {
            "text/plain": [
              "Matrix([\n",
              "[    0,   5.0,  10.0,  15.0,  20.0],\n",
              "[ 25.0,  30.0,  35.0,  40.0,  45.0],\n",
              "[ 50.0,  55.0,  60.0,  65.0,  70.0],\n",
              "[ 75.0,  80.0,  85.0,  90.0,  95.0],\n",
              "[100.0, 105.0, 110.0, 115.0, 120.0]])"
            ],
            "text/latex": "$\\displaystyle \\left[\\begin{matrix}0 & 5.0 & 10.0 & 15.0 & 20.0\\\\25.0 & 30.0 & 35.0 & 40.0 & 45.0\\\\50.0 & 55.0 & 60.0 & 65.0 & 70.0\\\\75.0 & 80.0 & 85.0 & 90.0 & 95.0\\\\100.0 & 105.0 & 110.0 & 115.0 & 120.0\\end{matrix}\\right]$"
          },
          "metadata": {},
          "execution_count": 286
        }
      ]
    },
    {
      "cell_type": "code",
      "source": [
        "sp_R = sp.Matrix(R)\n",
        "sp_R"
      ],
      "metadata": {
        "colab": {
          "base_uri": "https://localhost:8080/",
          "height": 0
        },
        "id": "cWB6GNWcfdtF",
        "outputId": "b13ed2b3-aa4a-49dc-9cca-8ce654851ea1"
      },
      "execution_count": 287,
      "outputs": [
        {
          "output_type": "execute_result",
          "data": {
            "text/plain": [
              "Matrix([\n",
              "[-4, -4, -1, -4],\n",
              "[-4,  3,  0, -1],\n",
              "[-3, -3,  0, -2],\n",
              "[ 3, -2,  2, -3]])"
            ],
            "text/latex": "$\\displaystyle \\left[\\begin{matrix}-4 & -4 & -1 & -4\\\\-4 & 3 & 0 & -1\\\\-3 & -3 & 0 & -2\\\\3 & -2 & 2 & -3\\end{matrix}\\right]$"
          },
          "metadata": {},
          "execution_count": 287
        }
      ]
    },
    {
      "cell_type": "markdown",
      "source": [
        "### Accessing Matrix Entries: NumPy and SymPy"
      ],
      "metadata": {
        "id": "yAj3bREdajzt"
      }
    },
    {
      "cell_type": "code",
      "source": [
        "M"
      ],
      "metadata": {
        "colab": {
          "base_uri": "https://localhost:8080/"
        },
        "id": "qxn0BDdDKljy",
        "outputId": "c7155d12-16a2-47f4-f402-c0ee429c346d"
      },
      "execution_count": 288,
      "outputs": [
        {
          "output_type": "execute_result",
          "data": {
            "text/plain": [
              "array([[  0.,   5.,  10.,  15.,  20.],\n",
              "       [ 25.,  30.,  35.,  40.,  45.],\n",
              "       [ 50.,  55.,  60.,  65.,  70.],\n",
              "       [ 75.,  80.,  85.,  90.,  95.],\n",
              "       [100., 105., 110., 115., 120.]])"
            ]
          },
          "metadata": {},
          "execution_count": 288
        }
      ]
    },
    {
      "cell_type": "code",
      "source": [
        "# first row\n",
        "M[0]"
      ],
      "metadata": {
        "colab": {
          "base_uri": "https://localhost:8080/"
        },
        "id": "EfSyLVgca53u",
        "outputId": "75d89799-503f-47f9-e357-0a118f5fcdb4"
      },
      "execution_count": 289,
      "outputs": [
        {
          "output_type": "execute_result",
          "data": {
            "text/plain": [
              "array([ 0.,  5., 10., 15., 20.])"
            ]
          },
          "metadata": {},
          "execution_count": 289
        }
      ]
    },
    {
      "cell_type": "code",
      "source": [
        "M[0,:] # also first row"
      ],
      "metadata": {
        "colab": {
          "base_uri": "https://localhost:8080/"
        },
        "id": "xheG-sPNvoX-",
        "outputId": "8690413a-5313-4e87-d024-3310587440a3"
      },
      "execution_count": 290,
      "outputs": [
        {
          "output_type": "execute_result",
          "data": {
            "text/plain": [
              "array([ 0.,  5., 10., 15., 20.])"
            ]
          },
          "metadata": {},
          "execution_count": 290
        }
      ]
    },
    {
      "cell_type": "code",
      "source": [
        "# first rown\n",
        "sp_M.row(0)"
      ],
      "metadata": {
        "colab": {
          "base_uri": "https://localhost:8080/",
          "height": 0
        },
        "id": "I37LwWTcfi7C",
        "outputId": "bb36a799-d228-42ba-f6d0-f04c3398cc8d"
      },
      "execution_count": 291,
      "outputs": [
        {
          "output_type": "execute_result",
          "data": {
            "text/plain": [
              "Matrix([[0, 5.0, 10.0, 15.0, 20.0]])"
            ],
            "text/latex": "$\\displaystyle \\left[\\begin{matrix}0 & 5.0 & 10.0 & 15.0 & 20.0\\end{matrix}\\right]$"
          },
          "metadata": {},
          "execution_count": 291
        }
      ]
    },
    {
      "cell_type": "code",
      "source": [
        "# also first row\n",
        "sp_M[0, :]"
      ],
      "metadata": {
        "colab": {
          "base_uri": "https://localhost:8080/",
          "height": 0
        },
        "id": "VSR0Lop1gGyj",
        "outputId": "afac1b4f-b94e-4d7b-e26a-bca973204517"
      },
      "execution_count": 292,
      "outputs": [
        {
          "output_type": "execute_result",
          "data": {
            "text/plain": [
              "Matrix([[0, 5.0, 10.0, 15.0, 20.0]])"
            ],
            "text/latex": "$\\displaystyle \\left[\\begin{matrix}0 & 5.0 & 10.0 & 15.0 & 20.0\\end{matrix}\\right]$"
          },
          "metadata": {},
          "execution_count": 292
        }
      ]
    },
    {
      "cell_type": "code",
      "source": [
        "# last row\n",
        "M[-1]"
      ],
      "metadata": {
        "colab": {
          "base_uri": "https://localhost:8080/"
        },
        "id": "f2BAz7Mvb1w4",
        "outputId": "7fc073aa-57ff-467d-dd1b-b3dec2da0c14"
      },
      "execution_count": 293,
      "outputs": [
        {
          "output_type": "execute_result",
          "data": {
            "text/plain": [
              "array([100., 105., 110., 115., 120.])"
            ]
          },
          "metadata": {},
          "execution_count": 293
        }
      ]
    },
    {
      "cell_type": "code",
      "source": [
        "# last row\n",
        "sp_M.row(-1)"
      ],
      "metadata": {
        "colab": {
          "base_uri": "https://localhost:8080/",
          "height": 0
        },
        "id": "ymM2kKNXhkf2",
        "outputId": "18b6afc8-c425-40a1-a99d-09aaf7730f26"
      },
      "execution_count": 294,
      "outputs": [
        {
          "output_type": "execute_result",
          "data": {
            "text/plain": [
              "Matrix([[100.0, 105.0, 110.0, 115.0, 120.0]])"
            ],
            "text/latex": "$\\displaystyle \\left[\\begin{matrix}100.0 & 105.0 & 110.0 & 115.0 & 120.0\\end{matrix}\\right]$"
          },
          "metadata": {},
          "execution_count": 294
        }
      ]
    },
    {
      "cell_type": "code",
      "source": [
        "#first column\n",
        "M[:,0]"
      ],
      "metadata": {
        "colab": {
          "base_uri": "https://localhost:8080/"
        },
        "id": "sq_vvmxNcDbv",
        "outputId": "d0d61d1c-9459-41aa-95cc-f16b322060fb"
      },
      "execution_count": 295,
      "outputs": [
        {
          "output_type": "execute_result",
          "data": {
            "text/plain": [
              "array([  0.,  25.,  50.,  75., 100.])"
            ]
          },
          "metadata": {},
          "execution_count": 295
        }
      ]
    },
    {
      "cell_type": "code",
      "source": [
        "sp_M.col(0)"
      ],
      "metadata": {
        "colab": {
          "base_uri": "https://localhost:8080/",
          "height": 0
        },
        "id": "dAvl8qauhpP2",
        "outputId": "25284c08-95b3-4e60-a918-f0d248461f5b"
      },
      "execution_count": 296,
      "outputs": [
        {
          "output_type": "execute_result",
          "data": {
            "text/plain": [
              "Matrix([\n",
              "[    0],\n",
              "[ 25.0],\n",
              "[ 50.0],\n",
              "[ 75.0],\n",
              "[100.0]])"
            ],
            "text/latex": "$\\displaystyle \\left[\\begin{matrix}0\\\\25.0\\\\50.0\\\\75.0\\\\100.0\\end{matrix}\\right]$"
          },
          "metadata": {},
          "execution_count": 296
        }
      ]
    },
    {
      "cell_type": "code",
      "source": [
        "# last column\n",
        "M[:,-1]"
      ],
      "metadata": {
        "colab": {
          "base_uri": "https://localhost:8080/"
        },
        "id": "F1xHm1KbcR5c",
        "outputId": "356802ac-ffd6-4d0a-b032-06fce2b78808"
      },
      "execution_count": 297,
      "outputs": [
        {
          "output_type": "execute_result",
          "data": {
            "text/plain": [
              "array([ 20.,  45.,  70.,  95., 120.])"
            ]
          },
          "metadata": {},
          "execution_count": 297
        }
      ]
    },
    {
      "cell_type": "code",
      "source": [
        "sp_M.col(-1)"
      ],
      "metadata": {
        "colab": {
          "base_uri": "https://localhost:8080/",
          "height": 0
        },
        "id": "5z51fffshtIR",
        "outputId": "2b4a6176-1dbe-452c-e77e-fc8847f314cd"
      },
      "execution_count": 298,
      "outputs": [
        {
          "output_type": "execute_result",
          "data": {
            "text/plain": [
              "Matrix([\n",
              "[ 20.0],\n",
              "[ 45.0],\n",
              "[ 70.0],\n",
              "[ 95.0],\n",
              "[120.0]])"
            ],
            "text/latex": "$\\displaystyle \\left[\\begin{matrix}20.0\\\\45.0\\\\70.0\\\\95.0\\\\120.0\\end{matrix}\\right]$"
          },
          "metadata": {},
          "execution_count": 298
        }
      ]
    },
    {
      "cell_type": "code",
      "source": [
        "# first 3 rows\n",
        "M[0:3]"
      ],
      "metadata": {
        "colab": {
          "base_uri": "https://localhost:8080/"
        },
        "id": "f7jA7nV-cuXH",
        "outputId": "bddb29bd-91d7-4ab8-d5ed-9124658f26c8"
      },
      "execution_count": 299,
      "outputs": [
        {
          "output_type": "execute_result",
          "data": {
            "text/plain": [
              "array([[ 0.,  5., 10., 15., 20.],\n",
              "       [25., 30., 35., 40., 45.],\n",
              "       [50., 55., 60., 65., 70.]])"
            ]
          },
          "metadata": {},
          "execution_count": 299
        }
      ]
    },
    {
      "cell_type": "code",
      "source": [
        "# first 3 rows\n",
        "sp_M[0:3,:]"
      ],
      "metadata": {
        "colab": {
          "base_uri": "https://localhost:8080/",
          "height": 0
        },
        "id": "vwg1hQzRh6XO",
        "outputId": "31340995-8b32-4cdd-a62d-6d81f0496ec9"
      },
      "execution_count": 300,
      "outputs": [
        {
          "output_type": "execute_result",
          "data": {
            "text/plain": [
              "Matrix([\n",
              "[   0,  5.0, 10.0, 15.0, 20.0],\n",
              "[25.0, 30.0, 35.0, 40.0, 45.0],\n",
              "[50.0, 55.0, 60.0, 65.0, 70.0]])"
            ],
            "text/latex": "$\\displaystyle \\left[\\begin{matrix}0 & 5.0 & 10.0 & 15.0 & 20.0\\\\25.0 & 30.0 & 35.0 & 40.0 & 45.0\\\\50.0 & 55.0 & 60.0 & 65.0 & 70.0\\end{matrix}\\right]$"
          },
          "metadata": {},
          "execution_count": 300
        }
      ]
    },
    {
      "cell_type": "code",
      "source": [
        "# third and fourth columns\n",
        "M[:,2:4]"
      ],
      "metadata": {
        "colab": {
          "base_uri": "https://localhost:8080/"
        },
        "id": "6LI3yQrVc37e",
        "outputId": "776c3ca8-f86f-4f0d-a417-af159b239ca6"
      },
      "execution_count": 301,
      "outputs": [
        {
          "output_type": "execute_result",
          "data": {
            "text/plain": [
              "array([[ 10.,  15.],\n",
              "       [ 35.,  40.],\n",
              "       [ 60.,  65.],\n",
              "       [ 85.,  90.],\n",
              "       [110., 115.]])"
            ]
          },
          "metadata": {},
          "execution_count": 301
        }
      ]
    },
    {
      "cell_type": "code",
      "source": [
        "sp_M[:, 2:4]"
      ],
      "metadata": {
        "colab": {
          "base_uri": "https://localhost:8080/",
          "height": 0
        },
        "id": "rWHVh4tAiU1P",
        "outputId": "3943b24f-a4cd-4476-8049-d322ea682575"
      },
      "execution_count": 302,
      "outputs": [
        {
          "output_type": "execute_result",
          "data": {
            "text/plain": [
              "Matrix([\n",
              "[ 10.0,  15.0],\n",
              "[ 35.0,  40.0],\n",
              "[ 60.0,  65.0],\n",
              "[ 85.0,  90.0],\n",
              "[110.0, 115.0]])"
            ],
            "text/latex": "$\\displaystyle \\left[\\begin{matrix}10.0 & 15.0\\\\35.0 & 40.0\\\\60.0 & 65.0\\\\85.0 & 90.0\\\\110.0 & 115.0\\end{matrix}\\right]$"
          },
          "metadata": {},
          "execution_count": 302
        }
      ]
    },
    {
      "cell_type": "code",
      "source": [
        "M"
      ],
      "metadata": {
        "colab": {
          "base_uri": "https://localhost:8080/"
        },
        "id": "pgdj4JbywANw",
        "outputId": "33b426b5-f9b8-46d8-9b63-d87728cebce1"
      },
      "execution_count": 303,
      "outputs": [
        {
          "output_type": "execute_result",
          "data": {
            "text/plain": [
              "array([[  0.,   5.,  10.,  15.,  20.],\n",
              "       [ 25.,  30.,  35.,  40.,  45.],\n",
              "       [ 50.,  55.,  60.,  65.,  70.],\n",
              "       [ 75.,  80.,  85.,  90.,  95.],\n",
              "       [100., 105., 110., 115., 120.]])"
            ]
          },
          "metadata": {},
          "execution_count": 303
        }
      ]
    },
    {
      "cell_type": "code",
      "source": [
        "# first 3 rows, 2nd, 3rd and 4th columns\n",
        "M[:3, 1:4]"
      ],
      "metadata": {
        "colab": {
          "base_uri": "https://localhost:8080/"
        },
        "id": "KWQNOX6hdNP9",
        "outputId": "8e68c0f9-925c-4608-9813-e6f912385346"
      },
      "execution_count": 304,
      "outputs": [
        {
          "output_type": "execute_result",
          "data": {
            "text/plain": [
              "array([[ 5., 10., 15.],\n",
              "       [30., 35., 40.],\n",
              "       [55., 60., 65.]])"
            ]
          },
          "metadata": {},
          "execution_count": 304
        }
      ]
    },
    {
      "cell_type": "code",
      "source": [
        "sp_M[:3, 1:4]"
      ],
      "metadata": {
        "colab": {
          "base_uri": "https://localhost:8080/",
          "height": 0
        },
        "id": "5ZJiI_N-ifbI",
        "outputId": "f9e82334-413c-4182-d690-ee6893a7f8d9"
      },
      "execution_count": 305,
      "outputs": [
        {
          "output_type": "execute_result",
          "data": {
            "text/plain": [
              "Matrix([\n",
              "[ 5.0, 10.0, 15.0],\n",
              "[30.0, 35.0, 40.0],\n",
              "[55.0, 60.0, 65.0]])"
            ],
            "text/latex": "$\\displaystyle \\left[\\begin{matrix}5.0 & 10.0 & 15.0\\\\30.0 & 35.0 & 40.0\\\\55.0 & 60.0 & 65.0\\end{matrix}\\right]$"
          },
          "metadata": {},
          "execution_count": 305
        }
      ]
    },
    {
      "cell_type": "code",
      "source": [
        "M"
      ],
      "metadata": {
        "colab": {
          "base_uri": "https://localhost:8080/"
        },
        "id": "enK5wDWHwIV9",
        "outputId": "0c723661-3a17-4fa3-c49c-c9902c30a35f"
      },
      "execution_count": 306,
      "outputs": [
        {
          "output_type": "execute_result",
          "data": {
            "text/plain": [
              "array([[  0.,   5.,  10.,  15.,  20.],\n",
              "       [ 25.,  30.,  35.,  40.,  45.],\n",
              "       [ 50.,  55.,  60.,  65.,  70.],\n",
              "       [ 75.,  80.,  85.,  90.,  95.],\n",
              "       [100., 105., 110., 115., 120.]])"
            ]
          },
          "metadata": {},
          "execution_count": 306
        }
      ]
    },
    {
      "cell_type": "code",
      "source": [
        "# first 3 rows, 2nd and 4th columns\n",
        "M[:3, (1, 3)]"
      ],
      "metadata": {
        "colab": {
          "base_uri": "https://localhost:8080/"
        },
        "id": "TQ5MOepfdkcn",
        "outputId": "7f83c5f5-1146-4586-e4bb-4d46ec8aa6d4"
      },
      "execution_count": 307,
      "outputs": [
        {
          "output_type": "execute_result",
          "data": {
            "text/plain": [
              "array([[ 5., 15.],\n",
              "       [30., 40.],\n",
              "       [55., 65.]])"
            ]
          },
          "metadata": {},
          "execution_count": 307
        }
      ]
    },
    {
      "cell_type": "code",
      "source": [
        "sp_M[:3, (1, 3)]"
      ],
      "metadata": {
        "colab": {
          "base_uri": "https://localhost:8080/",
          "height": 0
        },
        "id": "XcBDkJkuij8t",
        "outputId": "6d7f62a9-362a-49f2-931f-7ce37d16200d"
      },
      "execution_count": 308,
      "outputs": [
        {
          "output_type": "execute_result",
          "data": {
            "text/plain": [
              "Matrix([\n",
              "[ 5.0, 15.0],\n",
              "[30.0, 40.0],\n",
              "[55.0, 65.0]])"
            ],
            "text/latex": "$\\displaystyle \\left[\\begin{matrix}5.0 & 15.0\\\\30.0 & 40.0\\\\55.0 & 65.0\\end{matrix}\\right]$"
          },
          "metadata": {},
          "execution_count": 308
        }
      ]
    },
    {
      "cell_type": "code",
      "source": [
        "# the entry at the intersection of\n",
        "# the 2nd row and the 2nd column\n",
        "M[1, 1]"
      ],
      "metadata": {
        "colab": {
          "base_uri": "https://localhost:8080/"
        },
        "id": "WX4x9WsPdx9N",
        "outputId": "a7a9ae86-5434-49bb-f39d-36cab0ee92ca"
      },
      "execution_count": 309,
      "outputs": [
        {
          "output_type": "execute_result",
          "data": {
            "text/plain": [
              "30.0"
            ]
          },
          "metadata": {},
          "execution_count": 309
        }
      ]
    },
    {
      "cell_type": "code",
      "source": [
        "sp_M[1,1]"
      ],
      "metadata": {
        "colab": {
          "base_uri": "https://localhost:8080/",
          "height": 0
        },
        "id": "KdNywH_OipWb",
        "outputId": "866e14bb-1765-473e-f478-4b54f3a90f6b"
      },
      "execution_count": 310,
      "outputs": [
        {
          "output_type": "execute_result",
          "data": {
            "text/plain": [
              "30.0000000000000"
            ],
            "text/latex": "$\\displaystyle 30.0$"
          },
          "metadata": {},
          "execution_count": 310
        }
      ]
    },
    {
      "cell_type": "markdown",
      "source": [
        "## 1.2.1.3 Solving Linear Equations Using Python"
      ],
      "metadata": {
        "id": "WV72b3Ioi6ED"
      }
    },
    {
      "cell_type": "markdown",
      "source": [
        "### Example"
      ],
      "metadata": {
        "id": "Z9jdnn4fWBOM"
      }
    },
    {
      "cell_type": "markdown",
      "source": [
        "$\n",
        "\\begin{align}\n",
        "4x + 3y + 2x &= 25 \\\\\n",
        "-2x + 2y + 3z &= -10 \\\\\n",
        "3x - 5y + 2z &= -4\n",
        "\\end{align}\n",
        "$"
      ],
      "metadata": {
        "id": "Nooz5FblWG5H"
      }
    },
    {
      "cell_type": "markdown",
      "source": [
        "#### Solve Using the Inverse Method\n",
        "\n",
        "In a nutshell, the solution is found by multiplying the inverse of the coefficent matrix, $M^{-1}$ by the column matrix, $K$.\n",
        "\n",
        "Let $V$ be the solution, then\n",
        "\n",
        "$V = M^{-1} * K$\n",
        "\n",
        "Details about why this equation works are shown in this notebook."
      ],
      "metadata": {
        "id": "MovWJ7FgW22H"
      }
    },
    {
      "cell_type": "code",
      "source": [
        "# M is the coefficient matrix\n",
        "M = np.array([[4, 3, 2],\n",
        "              [-2, 2, 3],\n",
        "              [3, -5, 2]])\n",
        "M"
      ],
      "metadata": {
        "colab": {
          "base_uri": "https://localhost:8080/"
        },
        "id": "9U5XYoKGXQpY",
        "outputId": "2fa44305-fb13-4fa9-9a2e-d58470e4f822"
      },
      "execution_count": 311,
      "outputs": [
        {
          "output_type": "execute_result",
          "data": {
            "text/plain": [
              "array([[ 4,  3,  2],\n",
              "       [-2,  2,  3],\n",
              "       [ 3, -5,  2]])"
            ]
          },
          "metadata": {},
          "execution_count": 311
        }
      ]
    },
    {
      "cell_type": "code",
      "source": [
        "# K is the column matrix\n",
        "K = np.array([[25],\n",
        "              [-10],\n",
        "              [-4]])\n",
        "K"
      ],
      "metadata": {
        "colab": {
          "base_uri": "https://localhost:8080/"
        },
        "id": "qO8tZvJKX-4n",
        "outputId": "f9c4cb59-8a09-4d65-f1a5-1ed37a3bf669"
      },
      "execution_count": 312,
      "outputs": [
        {
          "output_type": "execute_result",
          "data": {
            "text/plain": [
              "array([[ 25],\n",
              "       [-10],\n",
              "       [ -4]])"
            ]
          },
          "metadata": {},
          "execution_count": 312
        }
      ]
    },
    {
      "cell_type": "code",
      "source": [
        "V = np.array([['x'],\n",
        "              ['y'],\n",
        "              ['z']])\n",
        "V"
      ],
      "metadata": {
        "colab": {
          "base_uri": "https://localhost:8080/"
        },
        "id": "ZXgK-nuZYUCD",
        "outputId": "d4691a20-c386-4869-b596-b3a5ee288fce"
      },
      "execution_count": 313,
      "outputs": [
        {
          "output_type": "execute_result",
          "data": {
            "text/plain": [
              "array([['x'],\n",
              "       ['y'],\n",
              "       ['z']], dtype='<U1')"
            ]
          },
          "metadata": {},
          "execution_count": 313
        }
      ]
    },
    {
      "cell_type": "markdown",
      "source": [
        "The system of linear equations in this example can be written as:"
      ],
      "metadata": {
        "id": "FvqqbLyXZX6z"
      }
    },
    {
      "cell_type": "markdown",
      "source": [
        "$\n",
        "M * V = K \\\\\n",
        "\\implies\n",
        "M^{-1} * M * V = M^{-1} * K \\\\\n",
        "\\implies\n",
        "I * V = M^{-1} * K \\\\\n",
        "\\implies\n",
        "V = M^{-1} * K\n",
        "$"
      ],
      "metadata": {
        "id": "zwSz4DZoZePn"
      }
    },
    {
      "cell_type": "code",
      "source": [
        "np.linalg.inv(M).dot(K)"
      ],
      "metadata": {
        "colab": {
          "base_uri": "https://localhost:8080/"
        },
        "id": "dcAP5C51b1bS",
        "outputId": "942a7467-0f4c-4c40-fc21-a199cd7e718a"
      },
      "execution_count": 314,
      "outputs": [
        {
          "output_type": "execute_result",
          "data": {
            "text/plain": [
              "array([[ 5.],\n",
              "       [ 3.],\n",
              "       [-2.]])"
            ]
          },
          "metadata": {},
          "execution_count": 314
        }
      ]
    },
    {
      "cell_type": "markdown",
      "source": [
        "##### Sympy"
      ],
      "metadata": {
        "id": "Yn2LG6b7eCyA"
      }
    },
    {
      "cell_type": "code",
      "source": [
        "sp_M = sp.Matrix(M)\n",
        "sp_M"
      ],
      "metadata": {
        "colab": {
          "base_uri": "https://localhost:8080/",
          "height": 0
        },
        "id": "yQ2neumqeIoU",
        "outputId": "cd8f4a7a-f2e9-4c08-c5a0-b54fc0c819f9"
      },
      "execution_count": 315,
      "outputs": [
        {
          "output_type": "execute_result",
          "data": {
            "text/plain": [
              "Matrix([\n",
              "[ 4,  3, 2],\n",
              "[-2,  2, 3],\n",
              "[ 3, -5, 2]])"
            ],
            "text/latex": "$\\displaystyle \\left[\\begin{matrix}4 & 3 & 2\\\\-2 & 2 & 3\\\\3 & -5 & 2\\end{matrix}\\right]$"
          },
          "metadata": {},
          "execution_count": 315
        }
      ]
    },
    {
      "cell_type": "code",
      "source": [
        "sp_K = sp.Matrix(K)\n",
        "sp_K"
      ],
      "metadata": {
        "colab": {
          "base_uri": "https://localhost:8080/",
          "height": 0
        },
        "id": "wMmGqoVweNBb",
        "outputId": "07e6a966-e2a1-499e-dad2-77a1283cf586"
      },
      "execution_count": 316,
      "outputs": [
        {
          "output_type": "execute_result",
          "data": {
            "text/plain": [
              "Matrix([\n",
              "[ 25],\n",
              "[-10],\n",
              "[ -4]])"
            ],
            "text/latex": "$\\displaystyle \\left[\\begin{matrix}25\\\\-10\\\\-4\\end{matrix}\\right]$"
          },
          "metadata": {},
          "execution_count": 316
        }
      ]
    },
    {
      "cell_type": "code",
      "source": [
        "sp_M**-1 * sp_K"
      ],
      "metadata": {
        "colab": {
          "base_uri": "https://localhost:8080/",
          "height": 0
        },
        "id": "KZxdiQBReUrR",
        "outputId": "def798aa-6f81-4c28-8dea-8977281b681b"
      },
      "execution_count": 317,
      "outputs": [
        {
          "output_type": "execute_result",
          "data": {
            "text/plain": [
              "Matrix([\n",
              "[ 5],\n",
              "[ 3],\n",
              "[-2]])"
            ],
            "text/latex": "$\\displaystyle \\left[\\begin{matrix}5\\\\3\\\\-2\\end{matrix}\\right]$"
          },
          "metadata": {},
          "execution_count": 317
        }
      ]
    },
    {
      "cell_type": "markdown",
      "source": [
        "##### Symbolic summary of this method"
      ],
      "metadata": {
        "id": "bZFwOAfllmOu"
      }
    },
    {
      "cell_type": "code",
      "source": [
        "x, y, z = sp.symbols('x y z')\n",
        "m_11, m_12, m_13 = sp.symbols('m_11 m_12 m_13')\n",
        "m_21, m_22, m_23 = sp.symbols('m_21 m_22 m_23')\n",
        "m_31, m_32, m_33 = sp.symbols('m_31 m_32 m_33')\n",
        "k_1, k_2, k_3 = sp.symbols('k_1 k_2 k_3')"
      ],
      "metadata": {
        "id": "VAh_XwmclsAP"
      },
      "execution_count": 318,
      "outputs": []
    },
    {
      "cell_type": "code",
      "source": [
        "V = sp.Matrix([[x], [y], [z]])\n",
        "V"
      ],
      "metadata": {
        "colab": {
          "base_uri": "https://localhost:8080/",
          "height": 78
        },
        "id": "E3ch8LT6lzxG",
        "outputId": "d0ed891d-73e5-4fe0-c1e6-a127b031492a"
      },
      "execution_count": 319,
      "outputs": [
        {
          "output_type": "execute_result",
          "data": {
            "text/plain": [
              "Matrix([\n",
              "[x],\n",
              "[y],\n",
              "[z]])"
            ],
            "text/latex": "$\\displaystyle \\left[\\begin{matrix}x\\\\y\\\\z\\end{matrix}\\right]$"
          },
          "metadata": {},
          "execution_count": 319
        }
      ]
    },
    {
      "cell_type": "code",
      "source": [
        "M = sp.Matrix([[m_11, m_12, m_13],\n",
        "               [m_21, m_22, m_23],\n",
        "               [m_31, m_32, m_33]])\n",
        "M"
      ],
      "metadata": {
        "colab": {
          "base_uri": "https://localhost:8080/",
          "height": 78
        },
        "id": "SbOEZnoamD8f",
        "outputId": "50c64448-d9b1-4be5-ddf0-359788a9d427"
      },
      "execution_count": 320,
      "outputs": [
        {
          "output_type": "execute_result",
          "data": {
            "text/plain": [
              "Matrix([\n",
              "[m_11, m_12, m_13],\n",
              "[m_21, m_22, m_23],\n",
              "[m_31, m_32, m_33]])"
            ],
            "text/latex": "$\\displaystyle \\left[\\begin{matrix}m_{11} & m_{12} & m_{13}\\\\m_{21} & m_{22} & m_{23}\\\\m_{31} & m_{32} & m_{33}\\end{matrix}\\right]$"
          },
          "metadata": {},
          "execution_count": 320
        }
      ]
    },
    {
      "cell_type": "code",
      "source": [
        "K = sp.Matrix([[k_1], [k_2], [k_3]])\n",
        "K"
      ],
      "metadata": {
        "colab": {
          "base_uri": "https://localhost:8080/",
          "height": 78
        },
        "id": "EJtmC5q-nTD-",
        "outputId": "5d4f053e-4dbb-454e-8150-aa5a572dd3b0"
      },
      "execution_count": 321,
      "outputs": [
        {
          "output_type": "execute_result",
          "data": {
            "text/plain": [
              "Matrix([\n",
              "[k_1],\n",
              "[k_2],\n",
              "[k_3]])"
            ],
            "text/latex": "$\\displaystyle \\left[\\begin{matrix}k_{1}\\\\k_{2}\\\\k_{3}\\end{matrix}\\right]$"
          },
          "metadata": {},
          "execution_count": 321
        }
      ]
    },
    {
      "cell_type": "code",
      "source": [
        "sp.Eq(M * V, K)"
      ],
      "metadata": {
        "colab": {
          "base_uri": "https://localhost:8080/",
          "height": 78
        },
        "id": "1_cd0ya9oOTZ",
        "outputId": "bc33326c-1902-4220-d1b1-d724eae988ae"
      },
      "execution_count": 322,
      "outputs": [
        {
          "output_type": "execute_result",
          "data": {
            "text/plain": [
              "Eq(Matrix([\n",
              "[m_11*x + m_12*y + m_13*z],\n",
              "[m_21*x + m_22*y + m_23*z],\n",
              "[m_31*x + m_32*y + m_33*z]]), Matrix([\n",
              "[k_1],\n",
              "[k_2],\n",
              "[k_3]]))"
            ],
            "text/latex": "$\\displaystyle \\left[\\begin{matrix}m_{11} x + m_{12} y + m_{13} z\\\\m_{21} x + m_{22} y + m_{23} z\\\\m_{31} x + m_{32} y + m_{33} z\\end{matrix}\\right] = \\left[\\begin{matrix}k_{1}\\\\k_{2}\\\\k_{3}\\end{matrix}\\right]$"
          },
          "metadata": {},
          "execution_count": 322
        }
      ]
    },
    {
      "cell_type": "code",
      "source": [
        "sp.Eq(V, M**-1 * K)"
      ],
      "metadata": {
        "colab": {
          "base_uri": "https://localhost:8080/",
          "height": 172
        },
        "id": "7M9KC1EvnlJh",
        "outputId": "8ff1b535-d659-43a7-9d62-23ad931cf227"
      },
      "execution_count": 323,
      "outputs": [
        {
          "output_type": "execute_result",
          "data": {
            "text/plain": [
              "Eq(Matrix([\n",
              "[x],\n",
              "[y],\n",
              "[z]]), Matrix([\n",
              "[ k_1*(m_22*m_33 - m_23*m_32)/(m_11*m_22*m_33 - m_11*m_23*m_32 - m_12*m_21*m_33 + m_12*m_23*m_31 + m_13*m_21*m_32 - m_13*m_22*m_31) + k_2*(-m_12*m_33 + m_13*m_32)/(m_11*m_22*m_33 - m_11*m_23*m_32 - m_12*m_21*m_33 + m_12*m_23*m_31 + m_13*m_21*m_32 - m_13*m_22*m_31) + k_3*(m_12*m_23 - m_13*m_22)/(m_11*m_22*m_33 - m_11*m_23*m_32 - m_12*m_21*m_33 + m_12*m_23*m_31 + m_13*m_21*m_32 - m_13*m_22*m_31)],\n",
              "[k_1*(-m_21*m_33 + m_23*m_31)/(m_11*m_22*m_33 - m_11*m_23*m_32 - m_12*m_21*m_33 + m_12*m_23*m_31 + m_13*m_21*m_32 - m_13*m_22*m_31) + k_2*(m_11*m_33 - m_13*m_31)/(m_11*m_22*m_33 - m_11*m_23*m_32 - m_12*m_21*m_33 + m_12*m_23*m_31 + m_13*m_21*m_32 - m_13*m_22*m_31) + k_3*(-m_11*m_23 + m_13*m_21)/(m_11*m_22*m_33 - m_11*m_23*m_32 - m_12*m_21*m_33 + m_12*m_23*m_31 + m_13*m_21*m_32 - m_13*m_22*m_31)],\n",
              "[ k_1*(m_21*m_32 - m_22*m_31)/(m_11*m_22*m_33 - m_11*m_23*m_32 - m_12*m_21*m_33 + m_12*m_23*m_31 + m_13*m_21*m_32 - m_13*m_22*m_31) + k_2*(-m_11*m_32 + m_12*m_31)/(m_11*m_22*m_33 - m_11*m_23*m_32 - m_12*m_21*m_33 + m_12*m_23*m_31 + m_13*m_21*m_32 - m_13*m_22*m_31) + k_3*(m_11*m_22 - m_12*m_21)/(m_11*m_22*m_33 - m_11*m_23*m_32 - m_12*m_21*m_33 + m_12*m_23*m_31 + m_13*m_21*m_32 - m_13*m_22*m_31)]]))"
            ],
            "text/latex": "$\\displaystyle \\left[\\begin{matrix}x\\\\y\\\\z\\end{matrix}\\right] = \\left[\\begin{matrix}\\frac{k_{1} \\left(m_{22} m_{33} - m_{23} m_{32}\\right)}{m_{11} m_{22} m_{33} - m_{11} m_{23} m_{32} - m_{12} m_{21} m_{33} + m_{12} m_{23} m_{31} + m_{13} m_{21} m_{32} - m_{13} m_{22} m_{31}} + \\frac{k_{2} \\left(- m_{12} m_{33} + m_{13} m_{32}\\right)}{m_{11} m_{22} m_{33} - m_{11} m_{23} m_{32} - m_{12} m_{21} m_{33} + m_{12} m_{23} m_{31} + m_{13} m_{21} m_{32} - m_{13} m_{22} m_{31}} + \\frac{k_{3} \\left(m_{12} m_{23} - m_{13} m_{22}\\right)}{m_{11} m_{22} m_{33} - m_{11} m_{23} m_{32} - m_{12} m_{21} m_{33} + m_{12} m_{23} m_{31} + m_{13} m_{21} m_{32} - m_{13} m_{22} m_{31}}\\\\\\frac{k_{1} \\left(- m_{21} m_{33} + m_{23} m_{31}\\right)}{m_{11} m_{22} m_{33} - m_{11} m_{23} m_{32} - m_{12} m_{21} m_{33} + m_{12} m_{23} m_{31} + m_{13} m_{21} m_{32} - m_{13} m_{22} m_{31}} + \\frac{k_{2} \\left(m_{11} m_{33} - m_{13} m_{31}\\right)}{m_{11} m_{22} m_{33} - m_{11} m_{23} m_{32} - m_{12} m_{21} m_{33} + m_{12} m_{23} m_{31} + m_{13} m_{21} m_{32} - m_{13} m_{22} m_{31}} + \\frac{k_{3} \\left(- m_{11} m_{23} + m_{13} m_{21}\\right)}{m_{11} m_{22} m_{33} - m_{11} m_{23} m_{32} - m_{12} m_{21} m_{33} + m_{12} m_{23} m_{31} + m_{13} m_{21} m_{32} - m_{13} m_{22} m_{31}}\\\\\\frac{k_{1} \\left(m_{21} m_{32} - m_{22} m_{31}\\right)}{m_{11} m_{22} m_{33} - m_{11} m_{23} m_{32} - m_{12} m_{21} m_{33} + m_{12} m_{23} m_{31} + m_{13} m_{21} m_{32} - m_{13} m_{22} m_{31}} + \\frac{k_{2} \\left(- m_{11} m_{32} + m_{12} m_{31}\\right)}{m_{11} m_{22} m_{33} - m_{11} m_{23} m_{32} - m_{12} m_{21} m_{33} + m_{12} m_{23} m_{31} + m_{13} m_{21} m_{32} - m_{13} m_{22} m_{31}} + \\frac{k_{3} \\left(m_{11} m_{22} - m_{12} m_{21}\\right)}{m_{11} m_{22} m_{33} - m_{11} m_{23} m_{32} - m_{12} m_{21} m_{33} + m_{12} m_{23} m_{31} + m_{13} m_{21} m_{32} - m_{13} m_{22} m_{31}}\\end{matrix}\\right]$"
          },
          "metadata": {},
          "execution_count": 323
        }
      ]
    },
    {
      "cell_type": "markdown",
      "source": [
        "#### Solve Using Reduced Row Echelon Form (SymPy solution only)"
      ],
      "metadata": {
        "id": "H0MD4oUbo4gl"
      }
    },
    {
      "cell_type": "code",
      "source": [
        "# the augmented matrix\n",
        "A = sp.Matrix([[4, 3, 2, 25],\n",
        "               [-2, 2, 3, -10],\n",
        "               [3, -5, 2, -4]])\n",
        "A"
      ],
      "metadata": {
        "colab": {
          "base_uri": "https://localhost:8080/",
          "height": 78
        },
        "id": "6Mf5Y0mupAGg",
        "outputId": "7a522b6b-b0f4-49e7-8770-8a4c57177c38"
      },
      "execution_count": 324,
      "outputs": [
        {
          "output_type": "execute_result",
          "data": {
            "text/plain": [
              "Matrix([\n",
              "[ 4,  3, 2,  25],\n",
              "[-2,  2, 3, -10],\n",
              "[ 3, -5, 2,  -4]])"
            ],
            "text/latex": "$\\displaystyle \\left[\\begin{matrix}4 & 3 & 2 & 25\\\\-2 & 2 & 3 & -10\\\\3 & -5 & 2 & -4\\end{matrix}\\right]$"
          },
          "metadata": {},
          "execution_count": 324
        }
      ]
    },
    {
      "cell_type": "code",
      "source": [
        "print(sp.latex(A))"
      ],
      "metadata": {
        "colab": {
          "base_uri": "https://localhost:8080/"
        },
        "id": "8DK3DNriG-oj",
        "outputId": "f2749b19-fed6-4fd9-fdd8-e88294bc0149"
      },
      "execution_count": 325,
      "outputs": [
        {
          "output_type": "stream",
          "name": "stdout",
          "text": [
            "\\left[\\begin{matrix}4 & 3 & 2 & 25\\\\-2 & 2 & 3 & -10\\\\3 & -5 & 2 & -4\\end{matrix}\\right]\n"
          ]
        }
      ]
    },
    {
      "cell_type": "markdown",
      "source": [
        "$$\n",
        "\\left[\\begin{matrix}4 & 3 & 2 & 25\\\\-2 & 2 & 3 & -10\\\\3 & -5 & 2 & -4\\end{matrix}\\right]\n",
        "$$"
      ],
      "metadata": {
        "id": "6W0w0NZj1sGe"
      }
    },
    {
      "cell_type": "code",
      "source": [
        "A.rref(pivots=False)"
      ],
      "metadata": {
        "colab": {
          "base_uri": "https://localhost:8080/",
          "height": 78
        },
        "id": "nV3DtuUkqScw",
        "outputId": "283065b9-2aa6-4d8c-b35a-81eab7d2b02d"
      },
      "execution_count": 326,
      "outputs": [
        {
          "output_type": "execute_result",
          "data": {
            "text/plain": [
              "Matrix([\n",
              "[1, 0, 0,  5],\n",
              "[0, 1, 0,  3],\n",
              "[0, 0, 1, -2]])"
            ],
            "text/latex": "$\\displaystyle \\left[\\begin{matrix}1 & 0 & 0 & 5\\\\0 & 1 & 0 & 3\\\\0 & 0 & 1 & -2\\end{matrix}\\right]$"
          },
          "metadata": {},
          "execution_count": 326
        }
      ]
    },
    {
      "cell_type": "markdown",
      "source": [
        "#### Solve Using `sympy.linsolve()` (3 methods)"
      ],
      "metadata": {
        "id": "f2DKjLl8rhbt"
      }
    },
    {
      "cell_type": "markdown",
      "source": [
        "##### Method 1 - List of Equations Form"
      ],
      "metadata": {
        "id": "kl4WK55Bt897"
      }
    },
    {
      "cell_type": "code",
      "source": [
        "# note the change in sign of the values from\n",
        "# the column matrix\n",
        "system = [4 * x + 3 * y + 2 * z - 25,\n",
        "          -2 * x + 2 * y + 3 * z + 10,\n",
        "          3 * x - 5 * y + 2 * z + 4]\n",
        "system"
      ],
      "metadata": {
        "colab": {
          "base_uri": "https://localhost:8080/"
        },
        "id": "xUTvCGTxrqvB",
        "outputId": "9d3d0aa0-9691-4193-b6b0-23471cc2baf9"
      },
      "execution_count": 327,
      "outputs": [
        {
          "output_type": "execute_result",
          "data": {
            "text/plain": [
              "[4*x + 3*y + 2*z - 25, -2*x + 2*y + 3*z + 10, 3*x - 5*y + 2*z + 4]"
            ]
          },
          "metadata": {},
          "execution_count": 327
        }
      ]
    },
    {
      "cell_type": "code",
      "source": [
        "system[0]"
      ],
      "metadata": {
        "colab": {
          "base_uri": "https://localhost:8080/",
          "height": 39
        },
        "id": "X4BuTD6v14nw",
        "outputId": "c9868c29-31f8-45c4-aef1-1bdab8531147"
      },
      "execution_count": 328,
      "outputs": [
        {
          "output_type": "execute_result",
          "data": {
            "text/plain": [
              "4*x + 3*y + 2*z - 25"
            ],
            "text/latex": "$\\displaystyle 4 x + 3 y + 2 z - 25$"
          },
          "metadata": {},
          "execution_count": 328
        }
      ]
    },
    {
      "cell_type": "code",
      "source": [
        "sp.linsolve(system, (x, y, z))"
      ],
      "metadata": {
        "colab": {
          "base_uri": "https://localhost:8080/",
          "height": 37
        },
        "id": "f_HABQgKtG_G",
        "outputId": "4e96553d-7769-41ec-96be-4e671cc74d93"
      },
      "execution_count": 329,
      "outputs": [
        {
          "output_type": "execute_result",
          "data": {
            "text/plain": [
              "{(5, 3, -2)}"
            ],
            "text/latex": "$\\displaystyle \\left\\{\\left( 5, \\  3, \\  -2\\right)\\right\\}$"
          },
          "metadata": {},
          "execution_count": 329
        }
      ]
    },
    {
      "cell_type": "markdown",
      "source": [
        "##### Method 2 - Augmented Matrix Form"
      ],
      "metadata": {
        "id": "f3-DW2BVubux"
      }
    },
    {
      "cell_type": "code",
      "source": [
        "A"
      ],
      "metadata": {
        "colab": {
          "base_uri": "https://localhost:8080/",
          "height": 78
        },
        "id": "7nFrg4imuo1U",
        "outputId": "208c6165-6c08-45c5-cd18-4de366d365a5"
      },
      "execution_count": 330,
      "outputs": [
        {
          "output_type": "execute_result",
          "data": {
            "text/plain": [
              "Matrix([\n",
              "[ 4,  3, 2,  25],\n",
              "[-2,  2, 3, -10],\n",
              "[ 3, -5, 2,  -4]])"
            ],
            "text/latex": "$\\displaystyle \\left[\\begin{matrix}4 & 3 & 2 & 25\\\\-2 & 2 & 3 & -10\\\\3 & -5 & 2 & -4\\end{matrix}\\right]$"
          },
          "metadata": {},
          "execution_count": 330
        }
      ]
    },
    {
      "cell_type": "code",
      "source": [
        "sp.linsolve(A, (x, y, z))"
      ],
      "metadata": {
        "colab": {
          "base_uri": "https://localhost:8080/",
          "height": 37
        },
        "id": "0bI9VdFruruH",
        "outputId": "df7606ca-ed24-4c3f-c702-8e636e93de3b"
      },
      "execution_count": 331,
      "outputs": [
        {
          "output_type": "execute_result",
          "data": {
            "text/plain": [
              "{(5, 3, -2)}"
            ],
            "text/latex": "$\\displaystyle \\left\\{\\left( 5, \\  3, \\  -2\\right)\\right\\}$"
          },
          "metadata": {},
          "execution_count": 331
        }
      ]
    },
    {
      "cell_type": "markdown",
      "source": [
        "##### Method 3 - $A*x=b$ Form"
      ],
      "metadata": {
        "id": "uQTSrGVxuzm0"
      }
    },
    {
      "cell_type": "code",
      "source": [
        "A = sp_M\n",
        "A"
      ],
      "metadata": {
        "colab": {
          "base_uri": "https://localhost:8080/",
          "height": 78
        },
        "id": "7G1oVLTiu8ur",
        "outputId": "c989d831-c067-4dd8-f681-1e65fb632f53"
      },
      "execution_count": 332,
      "outputs": [
        {
          "output_type": "execute_result",
          "data": {
            "text/plain": [
              "Matrix([\n",
              "[ 4,  3, 2],\n",
              "[-2,  2, 3],\n",
              "[ 3, -5, 2]])"
            ],
            "text/latex": "$\\displaystyle \\left[\\begin{matrix}4 & 3 & 2\\\\-2 & 2 & 3\\\\3 & -5 & 2\\end{matrix}\\right]$"
          },
          "metadata": {},
          "execution_count": 332
        }
      ]
    },
    {
      "cell_type": "code",
      "source": [
        "b = sp_K\n",
        "b"
      ],
      "metadata": {
        "colab": {
          "base_uri": "https://localhost:8080/",
          "height": 78
        },
        "id": "mDT-0pbdvAQ-",
        "outputId": "50c40a77-5e8f-4743-e6c6-571f76e37aab"
      },
      "execution_count": 333,
      "outputs": [
        {
          "output_type": "execute_result",
          "data": {
            "text/plain": [
              "Matrix([\n",
              "[ 25],\n",
              "[-10],\n",
              "[ -4]])"
            ],
            "text/latex": "$\\displaystyle \\left[\\begin{matrix}25\\\\-10\\\\-4\\end{matrix}\\right]$"
          },
          "metadata": {},
          "execution_count": 333
        }
      ]
    },
    {
      "cell_type": "code",
      "source": [
        "sp.linsolve((A, b), x, y, z)"
      ],
      "metadata": {
        "colab": {
          "base_uri": "https://localhost:8080/",
          "height": 37
        },
        "id": "Y5PMIhKPveRb",
        "outputId": "ee72e9d3-2f8a-45e2-d9cf-ec0b432936b5"
      },
      "execution_count": 334,
      "outputs": [
        {
          "output_type": "execute_result",
          "data": {
            "text/plain": [
              "{(5, 3, -2)}"
            ],
            "text/latex": "$\\displaystyle \\left\\{\\left( 5, \\  3, \\  -2\\right)\\right\\}$"
          },
          "metadata": {},
          "execution_count": 334
        }
      ]
    },
    {
      "cell_type": "markdown",
      "source": [
        "#### Solve Using `np.linalg.solve()`"
      ],
      "metadata": {
        "id": "j-8vQWIuxpJJ"
      }
    },
    {
      "cell_type": "code",
      "source": [
        "M = np.array([[4, 3, 2],\n",
        "              [-2, 2, 3],\n",
        "              [3, -5, 2]])\n",
        "M"
      ],
      "metadata": {
        "colab": {
          "base_uri": "https://localhost:8080/"
        },
        "id": "pLke6fxTziN4",
        "outputId": "40c7d2d9-7ec5-4623-ae8e-5e35e5159a47"
      },
      "execution_count": 335,
      "outputs": [
        {
          "output_type": "execute_result",
          "data": {
            "text/plain": [
              "array([[ 4,  3,  2],\n",
              "       [-2,  2,  3],\n",
              "       [ 3, -5,  2]])"
            ]
          },
          "metadata": {},
          "execution_count": 335
        }
      ]
    },
    {
      "cell_type": "code",
      "source": [
        "K = np.array([[25],\n",
        "              [-10],\n",
        "              [-4]])\n",
        "K"
      ],
      "metadata": {
        "colab": {
          "base_uri": "https://localhost:8080/"
        },
        "id": "DlXkkcim4Bvv",
        "outputId": "1241a430-3146-4cea-e546-ccbdc83022af"
      },
      "execution_count": 336,
      "outputs": [
        {
          "output_type": "execute_result",
          "data": {
            "text/plain": [
              "array([[ 25],\n",
              "       [-10],\n",
              "       [ -4]])"
            ]
          },
          "metadata": {},
          "execution_count": 336
        }
      ]
    },
    {
      "cell_type": "code",
      "source": [
        "np.linalg.solve(M, K)"
      ],
      "metadata": {
        "colab": {
          "base_uri": "https://localhost:8080/"
        },
        "id": "zJR0kEh54Ot8",
        "outputId": "0c6f99ee-8158-4ee9-8579-f39b716238b6"
      },
      "execution_count": 337,
      "outputs": [
        {
          "output_type": "execute_result",
          "data": {
            "text/plain": [
              "array([[ 5.],\n",
              "       [ 3.],\n",
              "       [-2.]])"
            ]
          },
          "metadata": {},
          "execution_count": 337
        }
      ]
    },
    {
      "cell_type": "markdown",
      "source": [
        "## 1.2.1.4 Supplemental Reading - [Linear Algebra](https://patrickwalls.github.io/mathematicalpython/linear-algebra/linear-algebra-scipy/)"
      ],
      "metadata": {
        "id": "c32PJROu5ch-"
      }
    },
    {
      "cell_type": "markdown",
      "source": [
        "### Linear Algebra with SciPy"
      ],
      "metadata": {
        "id": "oJXxpL8BB1yd"
      }
    },
    {
      "cell_type": "code",
      "source": [
        "import scipy.linalg as la"
      ],
      "metadata": {
        "id": "r1Jmfq9B6GWT"
      },
      "execution_count": 338,
      "outputs": []
    },
    {
      "cell_type": "markdown",
      "source": [
        "#### Numpy Arrays: 1D, 2D and 3D"
      ],
      "metadata": {
        "id": "qbtzc22E8Lt2"
      }
    },
    {
      "cell_type": "markdown",
      "source": [
        "##### 1D"
      ],
      "metadata": {
        "id": "k--Ib6tC8n5o"
      }
    },
    {
      "cell_type": "code",
      "source": [
        "a = np.array([1, 3, -2, 1])\n",
        "a"
      ],
      "metadata": {
        "colab": {
          "base_uri": "https://localhost:8080/"
        },
        "id": "9Jqs45Qf8XQH",
        "outputId": "afb98686-3aea-4328-ec5a-8497f9a95258"
      },
      "execution_count": 339,
      "outputs": [
        {
          "output_type": "execute_result",
          "data": {
            "text/plain": [
              "array([ 1,  3, -2,  1])"
            ]
          },
          "metadata": {},
          "execution_count": 339
        }
      ]
    },
    {
      "cell_type": "code",
      "source": [
        "a.ndim, a.shape, a.size"
      ],
      "metadata": {
        "colab": {
          "base_uri": "https://localhost:8080/"
        },
        "id": "PcD2atsa8bID",
        "outputId": "06c5a9aa-5981-4213-a78b-e9709ad2fd7a"
      },
      "execution_count": 340,
      "outputs": [
        {
          "output_type": "execute_result",
          "data": {
            "text/plain": [
              "(1, (4,), 4)"
            ]
          },
          "metadata": {},
          "execution_count": 340
        }
      ]
    },
    {
      "cell_type": "markdown",
      "source": [
        "##### 2D"
      ],
      "metadata": {
        "id": "tx8hefuJ83gb"
      }
    },
    {
      "cell_type": "code",
      "source": [
        "M = np.array([[1, 2],\n",
        "              [3, 7],\n",
        "              [-1, 5]])\n",
        "M"
      ],
      "metadata": {
        "colab": {
          "base_uri": "https://localhost:8080/"
        },
        "id": "EPLdhjTD84rb",
        "outputId": "8d099d9e-c8fc-4f6f-9cc5-c80633915ece"
      },
      "execution_count": 341,
      "outputs": [
        {
          "output_type": "execute_result",
          "data": {
            "text/plain": [
              "array([[ 1,  2],\n",
              "       [ 3,  7],\n",
              "       [-1,  5]])"
            ]
          },
          "metadata": {},
          "execution_count": 341
        }
      ]
    },
    {
      "cell_type": "code",
      "source": [
        "M.ndim, M.shape, M.size"
      ],
      "metadata": {
        "colab": {
          "base_uri": "https://localhost:8080/"
        },
        "id": "O9qsNEHF8_Gx",
        "outputId": "518868d2-0cb0-48cf-ed82-e821fbc622d9"
      },
      "execution_count": 342,
      "outputs": [
        {
          "output_type": "execute_result",
          "data": {
            "text/plain": [
              "(2, (3, 2), 6)"
            ]
          },
          "metadata": {},
          "execution_count": 342
        }
      ]
    },
    {
      "cell_type": "code",
      "source": [
        "M_column = M[:, 1]\n",
        "print(M_column)"
      ],
      "metadata": {
        "colab": {
          "base_uri": "https://localhost:8080/"
        },
        "id": "vVyvoP2VA8Ik",
        "outputId": "1b1878d0-5e1e-44b7-f215-f2fbd67a8df9"
      },
      "execution_count": 343,
      "outputs": [
        {
          "output_type": "stream",
          "name": "stdout",
          "text": [
            "[2 7 5]\n"
          ]
        }
      ]
    },
    {
      "cell_type": "code",
      "source": [
        "M_column.ndim, M_column.shape, M_column.size"
      ],
      "metadata": {
        "colab": {
          "base_uri": "https://localhost:8080/"
        },
        "id": "0F68alVzBEdU",
        "outputId": "1e42009a-5bb5-4d58-d3f7-6d0ce4d114ac"
      },
      "execution_count": 344,
      "outputs": [
        {
          "output_type": "execute_result",
          "data": {
            "text/plain": [
              "(1, (3,), 3)"
            ]
          },
          "metadata": {},
          "execution_count": 344
        }
      ]
    },
    {
      "cell_type": "code",
      "source": [
        "M_column = M_column.reshape(3, 1)"
      ],
      "metadata": {
        "id": "5R38Tpi5BRyb"
      },
      "execution_count": 345,
      "outputs": []
    },
    {
      "cell_type": "code",
      "source": [
        "M_column"
      ],
      "metadata": {
        "colab": {
          "base_uri": "https://localhost:8080/"
        },
        "id": "Wjo58mTkBcKU",
        "outputId": "4f436bd1-e265-4285-fb25-4589846df7ac"
      },
      "execution_count": 346,
      "outputs": [
        {
          "output_type": "execute_result",
          "data": {
            "text/plain": [
              "array([[2],\n",
              "       [7],\n",
              "       [5]])"
            ]
          },
          "metadata": {},
          "execution_count": 346
        }
      ]
    },
    {
      "cell_type": "code",
      "source": [
        "M_column.ndim, M_column.shape, M_column.size"
      ],
      "metadata": {
        "colab": {
          "base_uri": "https://localhost:8080/"
        },
        "id": "tRId5b5WBf3m",
        "outputId": "4004264f-c732-478e-a88d-b03c20509829"
      },
      "execution_count": 347,
      "outputs": [
        {
          "output_type": "execute_result",
          "data": {
            "text/plain": [
              "(2, (3, 1), 3)"
            ]
          },
          "metadata": {},
          "execution_count": 347
        }
      ]
    },
    {
      "cell_type": "markdown",
      "source": [
        "##### 3D"
      ],
      "metadata": {
        "id": "kVvHEv5rCHkO"
      }
    },
    {
      "cell_type": "code",
      "source": [
        "M = np.array([[[1, 2, 100],\n",
        "               [3, 4, 100]],\n",
        "\n",
        "              [[5, 6, 100],\n",
        "               [7, 8, 100]],\n",
        "\n",
        "              [[9, 10, 100],\n",
        "               [11, 12, 100]],\n",
        "\n",
        "              [[13, 14, 100],\n",
        "               [15, 16, 100]]])\n",
        "M"
      ],
      "metadata": {
        "colab": {
          "base_uri": "https://localhost:8080/"
        },
        "id": "BW_B60mOCLOS",
        "outputId": "b353e2fa-6625-44c8-e9b0-600b5c639cbc"
      },
      "execution_count": 348,
      "outputs": [
        {
          "output_type": "execute_result",
          "data": {
            "text/plain": [
              "array([[[  1,   2, 100],\n",
              "        [  3,   4, 100]],\n",
              "\n",
              "       [[  5,   6, 100],\n",
              "        [  7,   8, 100]],\n",
              "\n",
              "       [[  9,  10, 100],\n",
              "        [ 11,  12, 100]],\n",
              "\n",
              "       [[ 13,  14, 100],\n",
              "        [ 15,  16, 100]]])"
            ]
          },
          "metadata": {},
          "execution_count": 348
        }
      ]
    },
    {
      "cell_type": "code",
      "source": [
        "M.ndim, M.shape, M.size"
      ],
      "metadata": {
        "colab": {
          "base_uri": "https://localhost:8080/"
        },
        "id": "snlYEG9TCmJX",
        "outputId": "3b3ce0f6-0cd5-4d9b-a56f-7f5d0dcc2aa0"
      },
      "execution_count": 349,
      "outputs": [
        {
          "output_type": "execute_result",
          "data": {
            "text/plain": [
              "(3, (4, 2, 3), 24)"
            ]
          },
          "metadata": {},
          "execution_count": 349
        }
      ]
    },
    {
      "cell_type": "markdown",
      "source": [
        "#### Matrix Operations and Functions"
      ],
      "metadata": {
        "id": "j1EsA4I1DISo"
      }
    },
    {
      "cell_type": "markdown",
      "source": [
        "##### Arithmetic Operations\n",
        "\n",
        "Arithmetic array operators: `+`, `-`, `/`, `*`, and `**` are performed elementwise on NumPy arrays"
      ],
      "metadata": {
        "id": "lx1tdlbPEOWP"
      }
    },
    {
      "cell_type": "code",
      "source": [
        "M = np.array([[3, 4],\n",
        "              [-1, 5]])\n",
        "M"
      ],
      "metadata": {
        "colab": {
          "base_uri": "https://localhost:8080/"
        },
        "id": "RZSt4SJgEve3",
        "outputId": "178ccbad-3710-45a3-da6d-6266f641a4d3"
      },
      "execution_count": 350,
      "outputs": [
        {
          "output_type": "execute_result",
          "data": {
            "text/plain": [
              "array([[ 3,  4],\n",
              "       [-1,  5]])"
            ]
          },
          "metadata": {},
          "execution_count": 350
        }
      ]
    },
    {
      "cell_type": "code",
      "source": [
        "M + M"
      ],
      "metadata": {
        "colab": {
          "base_uri": "https://localhost:8080/"
        },
        "id": "eR8O3YJ3E1Ht",
        "outputId": "18d90d80-11a6-4922-9a87-a375a780afeb"
      },
      "execution_count": 351,
      "outputs": [
        {
          "output_type": "execute_result",
          "data": {
            "text/plain": [
              "array([[ 6,  8],\n",
              "       [-2, 10]])"
            ]
          },
          "metadata": {},
          "execution_count": 351
        }
      ]
    },
    {
      "cell_type": "code",
      "source": [
        "M * M"
      ],
      "metadata": {
        "colab": {
          "base_uri": "https://localhost:8080/"
        },
        "id": "1RtUbKFfE32N",
        "outputId": "067304f2-938d-4ac5-8737-bf9721bb470a"
      },
      "execution_count": 352,
      "outputs": [
        {
          "output_type": "execute_result",
          "data": {
            "text/plain": [
              "array([[ 9, 16],\n",
              "       [ 1, 25]])"
            ]
          },
          "metadata": {},
          "execution_count": 352
        }
      ]
    },
    {
      "cell_type": "code",
      "source": [
        "M / M"
      ],
      "metadata": {
        "colab": {
          "base_uri": "https://localhost:8080/"
        },
        "id": "G6HR91ZlE6t4",
        "outputId": "03645886-e451-4c65-e3da-1ed85dc7f01d"
      },
      "execution_count": 353,
      "outputs": [
        {
          "output_type": "execute_result",
          "data": {
            "text/plain": [
              "array([[1., 1.],\n",
              "       [1., 1.]])"
            ]
          },
          "metadata": {},
          "execution_count": 353
        }
      ]
    },
    {
      "cell_type": "code",
      "source": [
        "M**3"
      ],
      "metadata": {
        "colab": {
          "base_uri": "https://localhost:8080/"
        },
        "id": "zC66p-QjE8pG",
        "outputId": "0cd125b9-c2a4-4d23-ecfb-f96631aff394"
      },
      "execution_count": 354,
      "outputs": [
        {
          "output_type": "execute_result",
          "data": {
            "text/plain": [
              "array([[ 27,  64],\n",
              "       [ -1, 125]])"
            ]
          },
          "metadata": {},
          "execution_count": 354
        }
      ]
    },
    {
      "cell_type": "markdown",
      "source": [
        "##### Matrix Multiplication"
      ],
      "metadata": {
        "id": "KAFtDkKxFJLr"
      }
    },
    {
      "cell_type": "code",
      "source": [
        "M @ M"
      ],
      "metadata": {
        "colab": {
          "base_uri": "https://localhost:8080/"
        },
        "id": "JFb3kHWrH4m_",
        "outputId": "4f4dad72-3402-478b-e78d-57b0d04800d4"
      },
      "execution_count": 355,
      "outputs": [
        {
          "output_type": "execute_result",
          "data": {
            "text/plain": [
              "array([[ 5, 32],\n",
              "       [-8, 21]])"
            ]
          },
          "metadata": {},
          "execution_count": 355
        }
      ]
    },
    {
      "cell_type": "code",
      "source": [
        "M.dot(M)"
      ],
      "metadata": {
        "colab": {
          "base_uri": "https://localhost:8080/"
        },
        "id": "i_1sa23jH8uJ",
        "outputId": "94f66686-ca81-4753-974e-60d81e53c5cb"
      },
      "execution_count": 356,
      "outputs": [
        {
          "output_type": "execute_result",
          "data": {
            "text/plain": [
              "array([[ 5, 32],\n",
              "       [-8, 21]])"
            ]
          },
          "metadata": {},
          "execution_count": 356
        }
      ]
    },
    {
      "cell_type": "markdown",
      "source": [
        "###### Example\n",
        "\n",
        "Compute $2I + 3A - AB$ for\n",
        "\n",
        "$A = \\left[\\begin{matrix}1 & 3\\\\-1 & 7\\end{matrix}\\right]$\n",
        "\n",
        "$B = \\left[\\begin{matrix}5 & 2\\\\1 & 2\\end{matrix}\\right]$"
      ],
      "metadata": {
        "id": "Q7-9Uw0jIEt9"
      }
    },
    {
      "cell_type": "code",
      "source": [
        "A = np.array([[1, 3],\n",
        "              [-1, 7]])\n",
        "B = np.array([[5, 2],\n",
        "              [1, 2]])\n",
        "I = np.eye(2)"
      ],
      "metadata": {
        "id": "CXZgBNAaIRmm"
      },
      "execution_count": 357,
      "outputs": []
    },
    {
      "cell_type": "code",
      "source": [
        "2 * I + 3 * A - A @ B"
      ],
      "metadata": {
        "colab": {
          "base_uri": "https://localhost:8080/"
        },
        "id": "MXmTgotoJKvm",
        "outputId": "fc634621-855d-42e6-a84a-a18687ec627d"
      },
      "execution_count": 358,
      "outputs": [
        {
          "output_type": "execute_result",
          "data": {
            "text/plain": [
              "array([[-3.,  1.],\n",
              "       [-5., 11.]])"
            ]
          },
          "metadata": {},
          "execution_count": 358
        }
      ]
    },
    {
      "cell_type": "markdown",
      "source": [
        "##### Matrix Powers - `np.linalg.matrix_power()`"
      ],
      "metadata": {
        "id": "t0QghoORLRsD"
      }
    },
    {
      "cell_type": "code",
      "source": [
        "M"
      ],
      "metadata": {
        "colab": {
          "base_uri": "https://localhost:8080/"
        },
        "id": "pfYw5qECM-mT",
        "outputId": "0b4eb23a-da54-42fe-abbd-40a8937e7fc4"
      },
      "execution_count": 359,
      "outputs": [
        {
          "output_type": "execute_result",
          "data": {
            "text/plain": [
              "array([[ 3,  4],\n",
              "       [-1,  5]])"
            ]
          },
          "metadata": {},
          "execution_count": 359
        }
      ]
    },
    {
      "cell_type": "code",
      "source": [
        "np.linalg.matrix_power(M, 3)"
      ],
      "metadata": {
        "colab": {
          "base_uri": "https://localhost:8080/"
        },
        "id": "C1l7-b-9NCoN",
        "outputId": "67495970-9132-4f9f-efa2-7942e567926f"
      },
      "execution_count": 360,
      "outputs": [
        {
          "output_type": "execute_result",
          "data": {
            "text/plain": [
              "array([[-17, 180],\n",
              "       [-45,  73]])"
            ]
          },
          "metadata": {},
          "execution_count": 360
        }
      ]
    },
    {
      "cell_type": "code",
      "source": [
        "M @ M @ M"
      ],
      "metadata": {
        "colab": {
          "base_uri": "https://localhost:8080/"
        },
        "id": "GcM_uzTGNLbH",
        "outputId": "db4fdd47-e806-4464-920b-8dfa326cc4fd"
      },
      "execution_count": 361,
      "outputs": [
        {
          "output_type": "execute_result",
          "data": {
            "text/plain": [
              "array([[-17, 180],\n",
              "       [-45,  73]])"
            ]
          },
          "metadata": {},
          "execution_count": 361
        }
      ]
    },
    {
      "cell_type": "code",
      "source": [
        "M.dot(M).dot(M)"
      ],
      "metadata": {
        "colab": {
          "base_uri": "https://localhost:8080/"
        },
        "id": "dFPZ-eC-NRCP",
        "outputId": "6814b4fb-c9f6-4a4f-abcf-440bc93e1bdd"
      },
      "execution_count": 362,
      "outputs": [
        {
          "output_type": "execute_result",
          "data": {
            "text/plain": [
              "array([[-17, 180],\n",
              "       [-45,  73]])"
            ]
          },
          "metadata": {},
          "execution_count": 362
        }
      ]
    },
    {
      "cell_type": "markdown",
      "source": [
        "##### Transpose"
      ],
      "metadata": {
        "id": "EY9T1mpONXGA"
      }
    },
    {
      "cell_type": "code",
      "source": [
        "M"
      ],
      "metadata": {
        "colab": {
          "base_uri": "https://localhost:8080/"
        },
        "id": "na0GZ8tTNwGx",
        "outputId": "794dbc24-d1fc-4778-8e26-7a9728c4b43e"
      },
      "execution_count": 363,
      "outputs": [
        {
          "output_type": "execute_result",
          "data": {
            "text/plain": [
              "array([[ 3,  4],\n",
              "       [-1,  5]])"
            ]
          },
          "metadata": {},
          "execution_count": 363
        }
      ]
    },
    {
      "cell_type": "code",
      "source": [
        "M.T"
      ],
      "metadata": {
        "colab": {
          "base_uri": "https://localhost:8080/"
        },
        "id": "okRoMbRYNxwo",
        "outputId": "add9f07b-e822-4ab1-8d66-a7f3f12cd2d7"
      },
      "execution_count": 364,
      "outputs": [
        {
          "output_type": "execute_result",
          "data": {
            "text/plain": [
              "array([[ 3, -1],\n",
              "       [ 4,  5]])"
            ]
          },
          "metadata": {},
          "execution_count": 364
        }
      ]
    },
    {
      "cell_type": "markdown",
      "source": [
        "Notice that $MM^{T}$ is a symmetric matrix"
      ],
      "metadata": {
        "id": "5vAATds1N64F"
      }
    },
    {
      "cell_type": "code",
      "source": [
        "M @ M.T"
      ],
      "metadata": {
        "colab": {
          "base_uri": "https://localhost:8080/"
        },
        "id": "NuDtYGCdN3xs",
        "outputId": "d1a7f450-47e1-49b2-f2ca-8bc090165e5f"
      },
      "execution_count": 365,
      "outputs": [
        {
          "output_type": "execute_result",
          "data": {
            "text/plain": [
              "array([[25, 17],\n",
              "       [17, 26]])"
            ]
          },
          "metadata": {},
          "execution_count": 365
        }
      ]
    },
    {
      "cell_type": "code",
      "source": [
        "M.T @ M"
      ],
      "metadata": {
        "colab": {
          "base_uri": "https://localhost:8080/"
        },
        "id": "7avMozIOOCo_",
        "outputId": "97a43de4-2025-4664-cbb7-89be9300f1ef"
      },
      "execution_count": 366,
      "outputs": [
        {
          "output_type": "execute_result",
          "data": {
            "text/plain": [
              "array([[10,  7],\n",
              "       [ 7, 41]])"
            ]
          },
          "metadata": {},
          "execution_count": 366
        }
      ]
    },
    {
      "cell_type": "code",
      "source": [
        "a, b, c, d = sp.symbols('a b c c')\n",
        "\n",
        "M = sp.Matrix([[a, b],\n",
        "                [c, d]])\n",
        "\n",
        "M"
      ],
      "metadata": {
        "colab": {
          "base_uri": "https://localhost:8080/",
          "height": 58
        },
        "id": "kIqtbA_rwG5U",
        "outputId": "e7f022c8-93f6-4334-e4c4-0c9e0dd7c083"
      },
      "execution_count": 367,
      "outputs": [
        {
          "output_type": "execute_result",
          "data": {
            "text/plain": [
              "Matrix([\n",
              "[a, b],\n",
              "[c, c]])"
            ],
            "text/latex": "$\\displaystyle \\left[\\begin{matrix}a & b\\\\c & c\\end{matrix}\\right]$"
          },
          "metadata": {},
          "execution_count": 367
        }
      ]
    },
    {
      "cell_type": "code",
      "source": [
        "M.T"
      ],
      "metadata": {
        "colab": {
          "base_uri": "https://localhost:8080/",
          "height": 58
        },
        "id": "Jl0zDwlwwafH",
        "outputId": "c9c83c93-ab3a-4ca8-c1e0-6a04da69b2ce"
      },
      "execution_count": 368,
      "outputs": [
        {
          "output_type": "execute_result",
          "data": {
            "text/plain": [
              "Matrix([\n",
              "[a, c],\n",
              "[b, c]])"
            ],
            "text/latex": "$\\displaystyle \\left[\\begin{matrix}a & c\\\\b & c\\end{matrix}\\right]$"
          },
          "metadata": {},
          "execution_count": 368
        }
      ]
    },
    {
      "cell_type": "code",
      "source": [
        "M @ M.T # symmetric"
      ],
      "metadata": {
        "colab": {
          "base_uri": "https://localhost:8080/",
          "height": 58
        },
        "id": "oD_ZHHC4wcs0",
        "outputId": "9507951e-9b60-4878-9c02-52fd0e42f040"
      },
      "execution_count": 369,
      "outputs": [
        {
          "output_type": "execute_result",
          "data": {
            "text/plain": [
              "Matrix([\n",
              "[a**2 + b**2, a*c + b*c],\n",
              "[  a*c + b*c,    2*c**2]])"
            ],
            "text/latex": "$\\displaystyle \\left[\\begin{matrix}a^{2} + b^{2} & a c + b c\\\\a c + b c & 2 c^{2}\\end{matrix}\\right]$"
          },
          "metadata": {},
          "execution_count": 369
        }
      ]
    },
    {
      "cell_type": "code",
      "source": [
        "M.T @ M # symmetric"
      ],
      "metadata": {
        "colab": {
          "base_uri": "https://localhost:8080/",
          "height": 58
        },
        "id": "HrxwW1szws4F",
        "outputId": "46a563d3-c393-4273-f2ff-2f03f548684c"
      },
      "execution_count": 370,
      "outputs": [
        {
          "output_type": "execute_result",
          "data": {
            "text/plain": [
              "Matrix([\n",
              "[a**2 + c**2,  a*b + c**2],\n",
              "[ a*b + c**2, b**2 + c**2]])"
            ],
            "text/latex": "$\\displaystyle \\left[\\begin{matrix}a^{2} + c^{2} & a b + c^{2}\\\\a b + c^{2} & b^{2} + c^{2}\\end{matrix}\\right]$"
          },
          "metadata": {},
          "execution_count": 370
        }
      ]
    },
    {
      "cell_type": "markdown",
      "source": [
        "##### Inverse"
      ],
      "metadata": {
        "id": "0TojeFs1QnH8"
      }
    },
    {
      "cell_type": "code",
      "source": [
        "A = np.array([[1, 2],\n",
        "              [3, 4]])\n",
        "A"
      ],
      "metadata": {
        "colab": {
          "base_uri": "https://localhost:8080/"
        },
        "id": "sHsaZQsRQsHQ",
        "outputId": "c0b18e0b-b8e9-4fe2-a011-c45be1fb9ed0"
      },
      "execution_count": 371,
      "outputs": [
        {
          "output_type": "execute_result",
          "data": {
            "text/plain": [
              "array([[1, 2],\n",
              "       [3, 4]])"
            ]
          },
          "metadata": {},
          "execution_count": 371
        }
      ]
    },
    {
      "cell_type": "code",
      "source": [
        "np.linalg.inv(A)"
      ],
      "metadata": {
        "colab": {
          "base_uri": "https://localhost:8080/"
        },
        "id": "MjODd9RoQ1D1",
        "outputId": "b91b2415-80b8-4c45-bc76-ce15108d3f29"
      },
      "execution_count": 372,
      "outputs": [
        {
          "output_type": "execute_result",
          "data": {
            "text/plain": [
              "array([[-2. ,  1. ],\n",
              "       [ 1.5, -0.5]])"
            ]
          },
          "metadata": {},
          "execution_count": 372
        }
      ]
    },
    {
      "cell_type": "markdown",
      "source": [
        "##### Trace"
      ],
      "metadata": {
        "id": "mI27MHNBRQEu"
      }
    },
    {
      "cell_type": "code",
      "source": [
        "A"
      ],
      "metadata": {
        "colab": {
          "base_uri": "https://localhost:8080/"
        },
        "id": "n4bF9IWjxdMo",
        "outputId": "ff54fc66-5a76-4262-8810-50e7bb14cebd"
      },
      "execution_count": 373,
      "outputs": [
        {
          "output_type": "execute_result",
          "data": {
            "text/plain": [
              "array([[1, 2],\n",
              "       [3, 4]])"
            ]
          },
          "metadata": {},
          "execution_count": 373
        }
      ]
    },
    {
      "cell_type": "code",
      "source": [
        "np.trace(A)"
      ],
      "metadata": {
        "colab": {
          "base_uri": "https://localhost:8080/"
        },
        "id": "0f66PmWgQ4SQ",
        "outputId": "dcfcca06-3407-40e4-be99-2f030c862391"
      },
      "execution_count": 374,
      "outputs": [
        {
          "output_type": "execute_result",
          "data": {
            "text/plain": [
              "5"
            ]
          },
          "metadata": {},
          "execution_count": 374
        }
      ]
    },
    {
      "cell_type": "code",
      "source": [
        "M"
      ],
      "metadata": {
        "colab": {
          "base_uri": "https://localhost:8080/",
          "height": 58
        },
        "id": "Q6xOTKoR7L-2",
        "outputId": "d2ffb358-0331-40f3-9bab-0d2dbdc46763"
      },
      "execution_count": 375,
      "outputs": [
        {
          "output_type": "execute_result",
          "data": {
            "text/plain": [
              "Matrix([\n",
              "[a, b],\n",
              "[c, c]])"
            ],
            "text/latex": "$\\displaystyle \\left[\\begin{matrix}a & b\\\\c & c\\end{matrix}\\right]$"
          },
          "metadata": {},
          "execution_count": 375
        }
      ]
    },
    {
      "cell_type": "code",
      "source": [
        "M.trace()"
      ],
      "metadata": {
        "colab": {
          "base_uri": "https://localhost:8080/",
          "height": 39
        },
        "id": "hN0h4xP37Nir",
        "outputId": "f524d168-41d5-4358-d572-b7b303aaba8e"
      },
      "execution_count": 376,
      "outputs": [
        {
          "output_type": "execute_result",
          "data": {
            "text/plain": [
              "a + c"
            ],
            "text/latex": "$\\displaystyle a + c$"
          },
          "metadata": {},
          "execution_count": 376
        }
      ]
    },
    {
      "cell_type": "markdown",
      "source": [
        "##### Determinant"
      ],
      "metadata": {
        "id": "M7RPrRT-SdMr"
      }
    },
    {
      "cell_type": "code",
      "source": [
        "# scipy\n",
        "la.det(A)"
      ],
      "metadata": {
        "colab": {
          "base_uri": "https://localhost:8080/"
        },
        "id": "za9JQmzgRlLe",
        "outputId": "0310d06c-5798-4202-b769-a5cdaeabd879"
      },
      "execution_count": 377,
      "outputs": [
        {
          "output_type": "execute_result",
          "data": {
            "text/plain": [
              "-2.0"
            ]
          },
          "metadata": {},
          "execution_count": 377
        }
      ]
    },
    {
      "cell_type": "code",
      "source": [
        "# numpy\n",
        "np.linalg.det(A)"
      ],
      "metadata": {
        "colab": {
          "base_uri": "https://localhost:8080/"
        },
        "id": "fYfGh_mCSwL7",
        "outputId": "d7eb8f91-b77d-45f0-d0fa-5f48e448e660"
      },
      "execution_count": 378,
      "outputs": [
        {
          "output_type": "execute_result",
          "data": {
            "text/plain": [
              "-2.0000000000000004"
            ]
          },
          "metadata": {},
          "execution_count": 378
        }
      ]
    },
    {
      "cell_type": "code",
      "source": [
        "sp_A = sp.Matrix(A)\n",
        "sp_A"
      ],
      "metadata": {
        "colab": {
          "base_uri": "https://localhost:8080/",
          "height": 58
        },
        "id": "N2eViHGdS6tX",
        "outputId": "1d3814a4-4ea5-4a2f-94e2-cf2113e7bc3d"
      },
      "execution_count": 379,
      "outputs": [
        {
          "output_type": "execute_result",
          "data": {
            "text/plain": [
              "Matrix([\n",
              "[1, 2],\n",
              "[3, 4]])"
            ],
            "text/latex": "$\\displaystyle \\left[\\begin{matrix}1 & 2\\\\3 & 4\\end{matrix}\\right]$"
          },
          "metadata": {},
          "execution_count": 379
        }
      ]
    },
    {
      "cell_type": "code",
      "source": [
        "sp_A.det(), sp.det(sp_A)"
      ],
      "metadata": {
        "colab": {
          "base_uri": "https://localhost:8080/"
        },
        "id": "-zje1VzWS-Kd",
        "outputId": "63342ca5-308b-423b-e77a-e0c32ee0d46a"
      },
      "execution_count": 380,
      "outputs": [
        {
          "output_type": "execute_result",
          "data": {
            "text/plain": [
              "(-2, -2)"
            ]
          },
          "metadata": {},
          "execution_count": 380
        }
      ]
    },
    {
      "cell_type": "code",
      "source": [
        "M.det()"
      ],
      "metadata": {
        "colab": {
          "base_uri": "https://localhost:8080/",
          "height": 39
        },
        "id": "U7ri1fc17SzB",
        "outputId": "eaee2150-8699-4794-957c-2913454a038a"
      },
      "execution_count": 381,
      "outputs": [
        {
          "output_type": "execute_result",
          "data": {
            "text/plain": [
              "a*c - b*c"
            ],
            "text/latex": "$\\displaystyle a c - b c$"
          },
          "metadata": {},
          "execution_count": 381
        }
      ]
    },
    {
      "cell_type": "markdown",
      "source": [
        "### Solving Linear Systems"
      ],
      "metadata": {
        "id": "cqaDlSC_TL2_"
      }
    },
    {
      "cell_type": "markdown",
      "source": [
        "#### Linear Systems"
      ],
      "metadata": {
        "id": "rDwqPw3FTwiI"
      }
    },
    {
      "cell_type": "markdown",
      "source": [
        "A **linear system of equations** is a collection of linear equations:\n",
        "\n",
        "$\n",
        "a_{00}x_{0} + a_{01}x_{1} + \\dots + a_{0n}x_{n} = b_{0} \\\\\n",
        "a_{10}x_{0} + a_{11}x_{1} + \\dots + a_{1n}x_{n} = b_{1} \\\\\n",
        "\\vdots \\\\\n",
        "a_{m0}x_{0} + a_{m1}x_{1} + \\dots + a_{mn}x_{n} = b_{m}\n",
        "$"
      ],
      "metadata": {
        "id": "6qE7baBzT1Kv"
      }
    },
    {
      "cell_type": "markdown",
      "source": [
        "In matrix notation, a linear system is $Ax = b$ where\n",
        "\n",
        "$A =\n",
        "\\left[\n",
        "\\begin{matrix}\n",
        "a_{00} & a_{01} & \\dots & a_{0n} \\\\\n",
        "a_{10} & a_{11} & \\dots & a \\\\\n",
        "\\vdots & & & \\vdots \\\\\n",
        "a_{m0} & a_{m1} & \\dots & a_{mn}\n",
        "\\end{matrix}\n",
        "\\right] ,\n",
        "x =\n",
        "\\left[\n",
        "\\begin{matrix}\n",
        "x_{0}  \\\\\n",
        "x_{1}  \\\\\n",
        "\\vdots  \\\\\n",
        "x_{n}  \n",
        "\\end{matrix}\n",
        "\\right] ,\n",
        "b =\n",
        "\\left[\n",
        "\\begin{matrix}\n",
        "b_{0}  \\\\\n",
        "b_{1}  \\\\\n",
        "\\vdots  \\\\\n",
        "b_{m}  \n",
        "\\end{matrix}\n",
        "\\right]\n",
        "$"
      ],
      "metadata": {
        "id": "RhaRySJZVF4G"
      }
    },
    {
      "cell_type": "markdown",
      "source": [
        "#### Gaussian Elimination\n",
        "\n",
        "Perform elementary row operations to reduce the system to its row echelen form and then solve"
      ],
      "metadata": {
        "id": "jjVXTMpMYZN-"
      }
    },
    {
      "cell_type": "markdown",
      "source": [
        "###### Elementary Row Operations\n",
        "\n",
        "1. Add $k$ times row $j$ to row $i$\n",
        "2. Multiply row $i$ by scalar $k$\n",
        "3. Switch rows $i$ and $j$"
      ],
      "metadata": {
        "id": "JGrSL1kKYyE6"
      }
    },
    {
      "cell_type": "code",
      "source": [
        "a, b, c, d, e, f, g, h, i, k = sp.symbols('a b c d e f g h i k')\n",
        "\n",
        "A = sp.Matrix([[a, b, c],\n",
        "               [d, e, f],\n",
        "               [g, h, i]])"
      ],
      "metadata": {
        "id": "f3Q3d1zJy641"
      },
      "execution_count": 382,
      "outputs": []
    },
    {
      "cell_type": "markdown",
      "source": [
        "- Each of the **elementary row operations** is the result of matrix multiplication by an elementary matrix on the left.\n",
        "- For example, $E_k$ is used to add 3 times row 2 to row 0"
      ],
      "metadata": {
        "id": "U-lLJsDh144e"
      }
    },
    {
      "cell_type": "code",
      "source": [
        "# add k times row 2 to row 0\n",
        "Ek = sp.Matrix([[1, 0, k],\n",
        "                [0, 1, 0],\n",
        "                [0, 0, 1]])"
      ],
      "metadata": {
        "id": "ow_xp7wV4pRw"
      },
      "execution_count": 383,
      "outputs": []
    },
    {
      "cell_type": "code",
      "source": [
        "Ek"
      ],
      "metadata": {
        "colab": {
          "base_uri": "https://localhost:8080/",
          "height": 78
        },
        "id": "cw5RSVxM7cf4",
        "outputId": "148a56c4-5fdf-40dd-8b4c-fcdfe0beaf03"
      },
      "execution_count": 384,
      "outputs": [
        {
          "output_type": "execute_result",
          "data": {
            "text/plain": [
              "Matrix([\n",
              "[1, 0, k],\n",
              "[0, 1, 0],\n",
              "[0, 0, 1]])"
            ],
            "text/latex": "$\\displaystyle \\left[\\begin{matrix}1 & 0 & k\\\\0 & 1 & 0\\\\0 & 0 & 1\\end{matrix}\\right]$"
          },
          "metadata": {},
          "execution_count": 384
        }
      ]
    },
    {
      "cell_type": "code",
      "source": [
        "A"
      ],
      "metadata": {
        "colab": {
          "base_uri": "https://localhost:8080/",
          "height": 78
        },
        "id": "OrnNBLic7gkD",
        "outputId": "036e44d6-49b6-44d5-f3d3-9b4f7fe5549c"
      },
      "execution_count": 385,
      "outputs": [
        {
          "output_type": "execute_result",
          "data": {
            "text/plain": [
              "Matrix([\n",
              "[a, b, c],\n",
              "[d, e, f],\n",
              "[g, h, i]])"
            ],
            "text/latex": "$\\displaystyle \\left[\\begin{matrix}a & b & c\\\\d & e & f\\\\g & h & i\\end{matrix}\\right]$"
          },
          "metadata": {},
          "execution_count": 385
        }
      ]
    },
    {
      "cell_type": "code",
      "source": [
        "Ek @ A"
      ],
      "metadata": {
        "colab": {
          "base_uri": "https://localhost:8080/",
          "height": 78
        },
        "id": "JSSSdKu77jDo",
        "outputId": "32e4b442-667d-4d80-a7cf-8b4eae749d7f"
      },
      "execution_count": 386,
      "outputs": [
        {
          "output_type": "execute_result",
          "data": {
            "text/plain": [
              "Matrix([\n",
              "[a + g*k, b + h*k, c + i*k],\n",
              "[      d,       e,       f],\n",
              "[      g,       h,       i]])"
            ],
            "text/latex": "$\\displaystyle \\left[\\begin{matrix}a + g k & b + h k & c + i k\\\\d & e & f\\\\g & h & i\\end{matrix}\\right]$"
          },
          "metadata": {},
          "execution_count": 386
        }
      ]
    },
    {
      "cell_type": "code",
      "source": [
        "# multiply row 1 by -k\n",
        "Ek = sp.Matrix([[1, 0, 0],\n",
        "                [0, -k, 0],\n",
        "                [0, 0, 1]])"
      ],
      "metadata": {
        "id": "kYJvGdFf3g7d"
      },
      "execution_count": 387,
      "outputs": []
    },
    {
      "cell_type": "code",
      "source": [
        "Ek * A"
      ],
      "metadata": {
        "colab": {
          "base_uri": "https://localhost:8080/",
          "height": 78
        },
        "id": "lYWdtTbh3k7e",
        "outputId": "c628caa7-6d71-4ec8-b737-8b22e93ffd74"
      },
      "execution_count": 388,
      "outputs": [
        {
          "output_type": "execute_result",
          "data": {
            "text/plain": [
              "Matrix([\n",
              "[   a,    b,    c],\n",
              "[-d*k, -e*k, -f*k],\n",
              "[   g,    h,    i]])"
            ],
            "text/latex": "$\\displaystyle \\left[\\begin{matrix}a & b & c\\\\- d k & - e k & - f k\\\\g & h & i\\end{matrix}\\right]$"
          },
          "metadata": {},
          "execution_count": 388
        }
      ]
    },
    {
      "cell_type": "code",
      "source": [
        "# switch rows 1 and 2\n",
        "Ek = sp.Matrix([[1, 0, 0],\n",
        "                [0, 0, 1],\n",
        "                [0, 1, 0]])"
      ],
      "metadata": {
        "id": "QlQ3iRpD5sGs"
      },
      "execution_count": 389,
      "outputs": []
    },
    {
      "cell_type": "code",
      "source": [
        "Ek * A"
      ],
      "metadata": {
        "colab": {
          "base_uri": "https://localhost:8080/",
          "height": 78
        },
        "id": "MprAThP56Fha",
        "outputId": "bd83b0fc-9639-41f5-a323-5c2ce74466b7"
      },
      "execution_count": 390,
      "outputs": [
        {
          "output_type": "execute_result",
          "data": {
            "text/plain": [
              "Matrix([\n",
              "[a, b, c],\n",
              "[g, h, i],\n",
              "[d, e, f]])"
            ],
            "text/latex": "$\\displaystyle \\left[\\begin{matrix}a & b & c\\\\g & h & i\\\\d & e & f\\end{matrix}\\right]$"
          },
          "metadata": {},
          "execution_count": 390
        }
      ]
    },
    {
      "cell_type": "markdown",
      "source": [
        "###### Implementation\n",
        "\n",
        "1. Add $k$ times row $j$ to row $i$\n",
        "2. Multiply row $i$ by scalar $k$\n",
        "3. Switch rows $i$ and $j$"
      ],
      "metadata": {
        "id": "O5dd15Ql6tTl"
      }
    },
    {
      "cell_type": "markdown",
      "source": [
        "###### $1.$ Add $k$ times row $j$ to row $i$"
      ],
      "metadata": {
        "id": "sXKojwzjK0nW"
      }
    },
    {
      "cell_type": "code",
      "source": [
        "M = np.array([[1, 1],\n",
        "              [3, 2]])\n",
        "M"
      ],
      "metadata": {
        "colab": {
          "base_uri": "https://localhost:8080/"
        },
        "id": "oO0QW56G8AVo",
        "outputId": "191a25bf-18cb-4879-b9a4-ed1b08a25bfe"
      },
      "execution_count": 391,
      "outputs": [
        {
          "output_type": "execute_result",
          "data": {
            "text/plain": [
              "array([[1, 1],\n",
              "       [3, 2]])"
            ]
          },
          "metadata": {},
          "execution_count": 391
        }
      ]
    },
    {
      "cell_type": "code",
      "source": [
        "def add_row(A, k, i, j):\n",
        "    'Add k times row j to row i in matrix A'\n",
        "    n = A.shape[0]\n",
        "    E = np.eye(n)\n",
        "    if i == j:\n",
        "        E[i, i] = k + 1\n",
        "    else:\n",
        "        E[i, j] = k\n",
        "    return E @ A"
      ],
      "metadata": {
        "id": "xL7VGMbq7g9Y"
      },
      "execution_count": 392,
      "outputs": []
    },
    {
      "cell_type": "code",
      "source": [
        "add_row(M, 2, 0, 1)"
      ],
      "metadata": {
        "colab": {
          "base_uri": "https://localhost:8080/"
        },
        "id": "N_exgvtz-sqK",
        "outputId": "73e4bb51-ba55-441f-e01f-32b77e71a987"
      },
      "execution_count": 393,
      "outputs": [
        {
          "output_type": "execute_result",
          "data": {
            "text/plain": [
              "array([[7., 5.],\n",
              "       [3., 2.]])"
            ]
          },
          "metadata": {},
          "execution_count": 393
        }
      ]
    },
    {
      "cell_type": "code",
      "source": [
        "add_row(M, 3, 1, 1)"
      ],
      "metadata": {
        "colab": {
          "base_uri": "https://localhost:8080/"
        },
        "id": "lWO7vFWeEelS",
        "outputId": "cbaedc35-749a-4582-d556-62b26ae34a47"
      },
      "execution_count": 394,
      "outputs": [
        {
          "output_type": "execute_result",
          "data": {
            "text/plain": [
              "array([[ 1.,  1.],\n",
              "       [12.,  8.]])"
            ]
          },
          "metadata": {},
          "execution_count": 394
        }
      ]
    },
    {
      "cell_type": "markdown",
      "source": [
        "###### $2.$ Multiply row $i$ by scalar $k$"
      ],
      "metadata": {
        "id": "71_SmDc1LjWi"
      }
    },
    {
      "cell_type": "code",
      "source": [
        "def scale_row(A, k, i):\n",
        "    'Multiply row i by k'\n",
        "    n = A.shape[0]\n",
        "    E = np.eye(n)\n",
        "    E[i, i] = k\n",
        "    return E @ A"
      ],
      "metadata": {
        "id": "QcGWiFiWHYmd"
      },
      "execution_count": 395,
      "outputs": []
    },
    {
      "cell_type": "code",
      "source": [
        "M"
      ],
      "metadata": {
        "colab": {
          "base_uri": "https://localhost:8080/"
        },
        "id": "k9NTBJlx9E00",
        "outputId": "080e3060-1261-4d42-c3a8-be54806b3349"
      },
      "execution_count": 396,
      "outputs": [
        {
          "output_type": "execute_result",
          "data": {
            "text/plain": [
              "array([[1, 1],\n",
              "       [3, 2]])"
            ]
          },
          "metadata": {},
          "execution_count": 396
        }
      ]
    },
    {
      "cell_type": "code",
      "source": [
        "scale_row(M, 3, 0)"
      ],
      "metadata": {
        "colab": {
          "base_uri": "https://localhost:8080/"
        },
        "id": "Aa448kmMIgol",
        "outputId": "fc950adc-9982-4683-c79a-c9ba4f3116d5"
      },
      "execution_count": 397,
      "outputs": [
        {
          "output_type": "execute_result",
          "data": {
            "text/plain": [
              "array([[3., 3.],\n",
              "       [3., 2.]])"
            ]
          },
          "metadata": {},
          "execution_count": 397
        }
      ]
    },
    {
      "cell_type": "code",
      "source": [
        "scale_row(np.array([[3, 1], [-2, 7]]), 3, 1)"
      ],
      "metadata": {
        "colab": {
          "base_uri": "https://localhost:8080/"
        },
        "id": "jgfsZ6ZEI6Zw",
        "outputId": "2c51aa12-e044-446f-e8b5-06dc5301589b"
      },
      "execution_count": 398,
      "outputs": [
        {
          "output_type": "execute_result",
          "data": {
            "text/plain": [
              "array([[ 3.,  1.],\n",
              "       [-6., 21.]])"
            ]
          },
          "metadata": {},
          "execution_count": 398
        }
      ]
    },
    {
      "cell_type": "code",
      "source": [
        "A = np.array([[1, 1, 1],\n",
        "              [1, -1, 0]])"
      ],
      "metadata": {
        "id": "nVhGi7e4JKW8"
      },
      "execution_count": 399,
      "outputs": []
    },
    {
      "cell_type": "code",
      "source": [
        "scale_row(A, 5, 1)"
      ],
      "metadata": {
        "colab": {
          "base_uri": "https://localhost:8080/"
        },
        "id": "eYBnavHlJRlD",
        "outputId": "10a16075-ba12-4ff6-fa40-e1903afa1a03"
      },
      "execution_count": 400,
      "outputs": [
        {
          "output_type": "execute_result",
          "data": {
            "text/plain": [
              "array([[ 1.,  1.,  1.],\n",
              "       [ 5., -5.,  0.]])"
            ]
          },
          "metadata": {},
          "execution_count": 400
        }
      ]
    },
    {
      "cell_type": "markdown",
      "source": [
        "###### $3.$ Switch rows $i$ and $j$"
      ],
      "metadata": {
        "id": "SCHLnlWDLsmq"
      }
    },
    {
      "cell_type": "code",
      "source": [
        "def switch_rows(A, i, j):\n",
        "    'Switch rows i and j in matrix A'\n",
        "    n = A.shape[0]\n",
        "    E = np.eye(n)\n",
        "    E[i, i] = 0\n",
        "    E[j, j] = 0\n",
        "    E[i, j] = 1\n",
        "    E[j, i] = 1\n",
        "    print(E)\n",
        "    return E @ A"
      ],
      "metadata": {
        "id": "3Qqh__gHMSrs"
      },
      "execution_count": 401,
      "outputs": []
    },
    {
      "cell_type": "code",
      "source": [
        "A = np.array([[1, 1, 1],\n",
        "              [1, -1, 0]])\n",
        "A"
      ],
      "metadata": {
        "colab": {
          "base_uri": "https://localhost:8080/"
        },
        "id": "z13BijNPN6Sp",
        "outputId": "32ce778c-dbbf-4482-f5c3-933b68c10f46"
      },
      "execution_count": 402,
      "outputs": [
        {
          "output_type": "execute_result",
          "data": {
            "text/plain": [
              "array([[ 1,  1,  1],\n",
              "       [ 1, -1,  0]])"
            ]
          },
          "metadata": {},
          "execution_count": 402
        }
      ]
    },
    {
      "cell_type": "code",
      "source": [
        "switch_rows(A, 0, 1)"
      ],
      "metadata": {
        "colab": {
          "base_uri": "https://localhost:8080/"
        },
        "id": "aZEqCrBnN_9h",
        "outputId": "75e28a1a-b077-4d25-f929-591c04d9ed33"
      },
      "execution_count": 403,
      "outputs": [
        {
          "output_type": "stream",
          "name": "stdout",
          "text": [
            "[[0. 1.]\n",
            " [1. 0.]]\n"
          ]
        },
        {
          "output_type": "execute_result",
          "data": {
            "text/plain": [
              "array([[ 1., -1.,  0.],\n",
              "       [ 1.,  1.,  1.]])"
            ]
          },
          "metadata": {},
          "execution_count": 403
        }
      ]
    },
    {
      "cell_type": "markdown",
      "source": [
        "## 1.2.1.5 Practice Quiz"
      ],
      "metadata": {
        "id": "PilsCTj198MM"
      }
    },
    {
      "cell_type": "markdown",
      "source": [
        "### 1. Raise a square matrix A to the integer power of n"
      ],
      "metadata": {
        "id": "U--4gNq_-qHL"
      }
    },
    {
      "cell_type": "code",
      "source": [
        "A = np.array([[1, 2, 3],\n",
        "              [4, 5, 6],\n",
        "              [7, 8, 9]])"
      ],
      "metadata": {
        "id": "ImJU-fp8-M1j"
      },
      "execution_count": 404,
      "outputs": []
    },
    {
      "cell_type": "code",
      "source": [
        "A @ A @ A"
      ],
      "metadata": {
        "colab": {
          "base_uri": "https://localhost:8080/"
        },
        "id": "0_RK4ak0-WaF",
        "outputId": "c32d6fda-95b8-4b6f-af2c-74c4531b8e13"
      },
      "execution_count": 405,
      "outputs": [
        {
          "output_type": "execute_result",
          "data": {
            "text/plain": [
              "array([[ 468,  576,  684],\n",
              "       [1062, 1305, 1548],\n",
              "       [1656, 2034, 2412]])"
            ]
          },
          "metadata": {},
          "execution_count": 405
        }
      ]
    },
    {
      "cell_type": "code",
      "source": [
        "np.linalg.matrix_power(A, 3)"
      ],
      "metadata": {
        "colab": {
          "base_uri": "https://localhost:8080/"
        },
        "id": "q2jp0Lvj-YtX",
        "outputId": "7c280785-796b-4ec3-8596-128cfe6c18ff"
      },
      "execution_count": 406,
      "outputs": [
        {
          "output_type": "execute_result",
          "data": {
            "text/plain": [
              "array([[ 468,  576,  684],\n",
              "       [1062, 1305, 1548],\n",
              "       [1656, 2034, 2412]])"
            ]
          },
          "metadata": {},
          "execution_count": 406
        }
      ]
    },
    {
      "cell_type": "markdown",
      "source": [
        "### 2. Compute eigenvalues for a squaqre matrix A."
      ],
      "metadata": {
        "id": "85arhnCW-wul"
      }
    },
    {
      "cell_type": "code",
      "source": [
        "np.linalg.eig(A)"
      ],
      "metadata": {
        "colab": {
          "base_uri": "https://localhost:8080/"
        },
        "id": "K8BlIc0j--Hs",
        "outputId": "9d8ff463-17b1-473e-ae4f-99d083704d08"
      },
      "execution_count": 407,
      "outputs": [
        {
          "output_type": "execute_result",
          "data": {
            "text/plain": [
              "(array([ 1.61168440e+01, -1.11684397e+00, -1.30367773e-15]),\n",
              " array([[-0.23197069, -0.78583024,  0.40824829],\n",
              "        [-0.52532209, -0.08675134, -0.81649658],\n",
              "        [-0.8186735 ,  0.61232756,  0.40824829]]))"
            ]
          },
          "metadata": {},
          "execution_count": 407
        }
      ]
    },
    {
      "cell_type": "markdown",
      "source": [
        "### 3. This line of code will multiply matrix A by a matrix B"
      ],
      "metadata": {
        "id": "eN9edT8Q_aA9"
      }
    },
    {
      "cell_type": "code",
      "source": [
        "np.dot(A, A)"
      ],
      "metadata": {
        "colab": {
          "base_uri": "https://localhost:8080/"
        },
        "id": "jScp4L2-_URv",
        "outputId": "5794dc57-5626-4102-b1c3-62d5ea9d8b2a"
      },
      "execution_count": 408,
      "outputs": [
        {
          "output_type": "execute_result",
          "data": {
            "text/plain": [
              "array([[ 30,  36,  42],\n",
              "       [ 66,  81,  96],\n",
              "       [102, 126, 150]])"
            ]
          },
          "metadata": {},
          "execution_count": 408
        }
      ]
    },
    {
      "cell_type": "markdown",
      "source": [
        "### 4. In order to add two matrices, they do not need to have the same dimension.\n",
        "\n",
        "Answer: false"
      ],
      "metadata": {
        "id": "shYq0aFO_m29"
      }
    },
    {
      "cell_type": "markdown",
      "source": [
        "### 5. Which line of code will allow you to solve a system of linear equations, where A is the coefficient matrix and B is the column matix, $(Av = B)$?\n",
        "\n",
        "Answer: `np.linalg(A,B)`"
      ],
      "metadata": {
        "id": "d4gGXHNH_2ip"
      }
    },
    {
      "cell_type": "markdown",
      "source": [
        "### 6. Find the inverse of a matrix"
      ],
      "metadata": {
        "id": "5cbQq8W4AcA_"
      }
    },
    {
      "cell_type": "code",
      "source": [
        "M, np.linalg.inv(M)"
      ],
      "metadata": {
        "colab": {
          "base_uri": "https://localhost:8080/"
        },
        "id": "KJwnTJ16A94F",
        "outputId": "4920e674-b385-44e8-8a58-3cf2dca8af10"
      },
      "execution_count": 409,
      "outputs": [
        {
          "output_type": "execute_result",
          "data": {
            "text/plain": [
              "(array([[1, 1],\n",
              "        [3, 2]]),\n",
              " array([[-2.,  1.],\n",
              "        [ 3., -1.]]))"
            ]
          },
          "metadata": {},
          "execution_count": 409
        }
      ]
    },
    {
      "cell_type": "code",
      "source": [
        "np.linalg.inv(M) @ M"
      ],
      "metadata": {
        "colab": {
          "base_uri": "https://localhost:8080/"
        },
        "id": "T0FpAq8cAaha",
        "outputId": "e08eec22-22fa-439d-83e8-1268fcbb9928"
      },
      "execution_count": 410,
      "outputs": [
        {
          "output_type": "execute_result",
          "data": {
            "text/plain": [
              "array([[1.00000000e+00, 0.00000000e+00],\n",
              "       [2.22044605e-16, 1.00000000e+00]])"
            ]
          },
          "metadata": {},
          "execution_count": 410
        }
      ]
    }
  ]
}