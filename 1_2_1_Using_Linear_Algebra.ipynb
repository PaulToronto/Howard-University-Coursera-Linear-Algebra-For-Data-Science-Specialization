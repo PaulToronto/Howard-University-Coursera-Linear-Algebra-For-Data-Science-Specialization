{
  "nbformat": 4,
  "nbformat_minor": 0,
  "metadata": {
    "colab": {
      "provenance": [],
      "collapsed_sections": [
        "dIuLxySQGp1Z",
        "9nOeuE29HMc6",
        "wiv0axR_I-Nv",
        "N0R6NkoM10by",
        "6sYmKl2gJeSV",
        "QNkCBv1D4CkP",
        "0RC7kAdHKm8m",
        "9_Beszt5781k",
        "caV6TXlzQ1yb",
        "HBIKF1GAZbxV",
        "nrXLeIGhfGcy",
        "yAj3bREdajzt",
        "Yn2LG6b7eCyA",
        "bZFwOAfllmOu"
      ],
      "toc_visible": true,
      "authorship_tag": "ABX9TyNMEgP8nbNIwZx21ylDvqjk",
      "include_colab_link": true
    },
    "kernelspec": {
      "name": "python3",
      "display_name": "Python 3"
    },
    "language_info": {
      "name": "python"
    }
  },
  "cells": [
    {
      "cell_type": "markdown",
      "metadata": {
        "id": "view-in-github",
        "colab_type": "text"
      },
      "source": [
        "<a href=\"https://colab.research.google.com/github/PaulToronto/Howard-University-Coursera-Linear_Algebra-For-Data-Science-Specialization/blob/main/1_2_1_Using_Linear_Algebra.ipynb\" target=\"_parent\"><img src=\"https://colab.research.google.com/assets/colab-badge.svg\" alt=\"Open In Colab\"/></a>"
      ]
    },
    {
      "cell_type": "markdown",
      "source": [
        "# 1.2.1 Using Linear Algebra"
      ],
      "metadata": {
        "id": "sQpkE21IjKyD"
      }
    },
    {
      "cell_type": "code",
      "source": [
        "import numpy as np\n",
        "import random\n",
        "import sympy as sp\n",
        "import matplotlib.pyplot as plt"
      ],
      "metadata": {
        "id": "NLxCc2G2mJkg"
      },
      "execution_count": 1,
      "outputs": []
    },
    {
      "cell_type": "markdown",
      "source": [
        "## 1.2.1.1 Introduction to Linear Algebra Functions in Python"
      ],
      "metadata": {
        "id": "5oYPHLHwkVSe"
      }
    },
    {
      "cell_type": "code",
      "execution_count": 2,
      "metadata": {
        "id": "9dz_frzXjFgD"
      },
      "outputs": [],
      "source": [
        "M = np.linspace(-8, 8, 9).reshape(3, 3)\n",
        "N = np.random.randint(-8, 8, size=(3, 3))\n",
        "O = 2*N\n",
        "\n",
        "sp_M = sp.Matrix(M)\n",
        "sp_N = sp.Matrix(N)\n",
        "sp_O = sp.Matrix(O)\n",
        "\n",
        "v1 = np.array([1, 3, 5, 7])\n",
        "v2 = np.array([2, 4, 6, 8])\n",
        "v3 = np.array([-2, 5, 1, 3])\n",
        "\n",
        "sp_v1 = sp.Matrix(v1)\n",
        "sp_v2 = sp.Matrix(v2)\n",
        "sp_v3 = sp.Matrix(v3)"
      ]
    },
    {
      "cell_type": "markdown",
      "source": [
        "### `dot()` for two vectors\n",
        "\n",
        "The `dot` function calculates the **dot product* of two vectors."
      ],
      "metadata": {
        "id": "3b5hR8JCnhLI"
      }
    },
    {
      "cell_type": "code",
      "source": [
        "v1, v2"
      ],
      "metadata": {
        "colab": {
          "base_uri": "https://localhost:8080/"
        },
        "id": "9pVw6mWZnws7",
        "outputId": "3fc1651b-1f97-4f36-92c6-90c5fec1b752"
      },
      "execution_count": 3,
      "outputs": [
        {
          "output_type": "execute_result",
          "data": {
            "text/plain": [
              "(array([1, 3, 5, 7]), array([2, 4, 6, 8]))"
            ]
          },
          "metadata": {},
          "execution_count": 3
        }
      ]
    },
    {
      "cell_type": "code",
      "source": [
        "np.dot(v1, v2)"
      ],
      "metadata": {
        "colab": {
          "base_uri": "https://localhost:8080/"
        },
        "id": "6uvv264nn3m8",
        "outputId": "681a7c1c-1e09-4092-9078-4a7e6d6d4102"
      },
      "execution_count": 4,
      "outputs": [
        {
          "output_type": "execute_result",
          "data": {
            "text/plain": [
              "100"
            ]
          },
          "metadata": {},
          "execution_count": 4
        }
      ]
    },
    {
      "cell_type": "code",
      "source": [
        "v1.dot(v2)"
      ],
      "metadata": {
        "colab": {
          "base_uri": "https://localhost:8080/"
        },
        "id": "NOnR_L29n99W",
        "outputId": "9b1dbf15-5b9b-47ab-cabc-2925947aff1c"
      },
      "execution_count": 5,
      "outputs": [
        {
          "output_type": "execute_result",
          "data": {
            "text/plain": [
              "100"
            ]
          },
          "metadata": {},
          "execution_count": 5
        }
      ]
    },
    {
      "cell_type": "markdown",
      "source": [
        "#### Sympy"
      ],
      "metadata": {
        "id": "2aqxi8jHDX3V"
      }
    },
    {
      "cell_type": "code",
      "source": [
        "sp.DotProduct(sp_v1, sp_v2)"
      ],
      "metadata": {
        "colab": {
          "base_uri": "https://localhost:8080/",
          "height": 99
        },
        "id": "5EHvHDybEDAk",
        "outputId": "2ef16fa2-1ee9-48c7-85bd-84b682b875fb"
      },
      "execution_count": 6,
      "outputs": [
        {
          "output_type": "execute_result",
          "data": {
            "text/plain": [
              "DotProduct(Matrix([\n",
              "[1],\n",
              "[3],\n",
              "[5],\n",
              "[7]]), Matrix([\n",
              "[2],\n",
              "[4],\n",
              "[6],\n",
              "[8]]))"
            ],
            "text/latex": "$\\displaystyle DotProduct\\left(\\left[\\begin{matrix}1\\\\3\\\\5\\\\7\\end{matrix}\\right], \\left[\\begin{matrix}2\\\\4\\\\6\\\\8\\end{matrix}\\right]\\right)$"
          },
          "metadata": {},
          "execution_count": 6
        }
      ]
    },
    {
      "cell_type": "code",
      "source": [
        "sp.DotProduct(sp_v1, sp_v2).simplify()"
      ],
      "metadata": {
        "colab": {
          "base_uri": "https://localhost:8080/",
          "height": 37
        },
        "id": "WQsNcbYeDf8a",
        "outputId": "4a0fdb44-acab-4e8c-ed14-6aef65098519"
      },
      "execution_count": 7,
      "outputs": [
        {
          "output_type": "execute_result",
          "data": {
            "text/plain": [
              "100"
            ],
            "text/latex": "$\\displaystyle 100$"
          },
          "metadata": {},
          "execution_count": 7
        }
      ]
    },
    {
      "cell_type": "code",
      "source": [
        "sp_v1.dot(sp_v2)"
      ],
      "metadata": {
        "colab": {
          "base_uri": "https://localhost:8080/",
          "height": 37
        },
        "id": "eXen28nZF4ML",
        "outputId": "890728db-3d62-4a48-bf17-55b08a994880"
      },
      "execution_count": 8,
      "outputs": [
        {
          "output_type": "execute_result",
          "data": {
            "text/plain": [
              "100"
            ],
            "text/latex": "$\\displaystyle 100$"
          },
          "metadata": {},
          "execution_count": 8
        }
      ]
    },
    {
      "cell_type": "markdown",
      "source": [
        "### `dot()` for two matrices\n",
        "\n",
        "This is matrix multiplication"
      ],
      "metadata": {
        "id": "XDOCUTSWrj_A"
      }
    },
    {
      "cell_type": "code",
      "source": [
        "M"
      ],
      "metadata": {
        "colab": {
          "base_uri": "https://localhost:8080/"
        },
        "id": "LrzXs78NoS05",
        "outputId": "07d0621a-0850-4de4-8b2a-c002f344152e"
      },
      "execution_count": 9,
      "outputs": [
        {
          "output_type": "execute_result",
          "data": {
            "text/plain": [
              "array([[-8., -6., -4.],\n",
              "       [-2.,  0.,  2.],\n",
              "       [ 4.,  6.,  8.]])"
            ]
          },
          "metadata": {},
          "execution_count": 9
        }
      ]
    },
    {
      "cell_type": "code",
      "source": [
        "N"
      ],
      "metadata": {
        "colab": {
          "base_uri": "https://localhost:8080/"
        },
        "id": "c1r5D1aToVGc",
        "outputId": "a9359047-7993-44a6-fd1c-a67bb33fb7cb"
      },
      "execution_count": 10,
      "outputs": [
        {
          "output_type": "execute_result",
          "data": {
            "text/plain": [
              "array([[ 4,  7,  4],\n",
              "       [ 7,  2, -5],\n",
              "       [ 0,  5,  0]])"
            ]
          },
          "metadata": {},
          "execution_count": 10
        }
      ]
    },
    {
      "cell_type": "code",
      "source": [
        "np.dot(N, M)"
      ],
      "metadata": {
        "colab": {
          "base_uri": "https://localhost:8080/"
        },
        "id": "Vi0fzWqHsi30",
        "outputId": "424eb8f0-4128-460e-f804-0a696161412b"
      },
      "execution_count": 11,
      "outputs": [
        {
          "output_type": "execute_result",
          "data": {
            "text/plain": [
              "array([[-30.,   0.,  30.],\n",
              "       [-80., -72., -64.],\n",
              "       [-10.,   0.,  10.]])"
            ]
          },
          "metadata": {},
          "execution_count": 11
        }
      ]
    },
    {
      "cell_type": "code",
      "source": [
        "N.dot(M)"
      ],
      "metadata": {
        "colab": {
          "base_uri": "https://localhost:8080/"
        },
        "id": "xSueM4sasmQ9",
        "outputId": "ad11d6bc-6880-45ba-f11f-46013b17684c"
      },
      "execution_count": 12,
      "outputs": [
        {
          "output_type": "execute_result",
          "data": {
            "text/plain": [
              "array([[-30.,   0.,  30.],\n",
              "       [-80., -72., -64.],\n",
              "       [-10.,   0.,  10.]])"
            ]
          },
          "metadata": {},
          "execution_count": 12
        }
      ]
    },
    {
      "cell_type": "code",
      "source": [
        "np.matmul(N, M)"
      ],
      "metadata": {
        "colab": {
          "base_uri": "https://localhost:8080/"
        },
        "id": "1vWXQ4sprweu",
        "outputId": "cf8e0170-e103-4f1e-ac86-1c0492d63c4f"
      },
      "execution_count": 13,
      "outputs": [
        {
          "output_type": "execute_result",
          "data": {
            "text/plain": [
              "array([[-30.,   0.,  30.],\n",
              "       [-80., -72., -64.],\n",
              "       [-10.,   0.,  10.]])"
            ]
          },
          "metadata": {},
          "execution_count": 13
        }
      ]
    },
    {
      "cell_type": "markdown",
      "source": [
        "#### SymPy"
      ],
      "metadata": {
        "id": "TItFvqeSCiy9"
      }
    },
    {
      "cell_type": "code",
      "source": [
        "sp_N * sp_M"
      ],
      "metadata": {
        "colab": {
          "base_uri": "https://localhost:8080/",
          "height": 78
        },
        "id": "u9gwVhiRGGiC",
        "outputId": "2ff85b3e-329d-4348-ccde-7caed0266881"
      },
      "execution_count": 14,
      "outputs": [
        {
          "output_type": "execute_result",
          "data": {
            "text/plain": [
              "Matrix([\n",
              "[-30.0,     0,  30.0],\n",
              "[-80.0, -72.0, -64.0],\n",
              "[-10.0,     0,  10.0]])"
            ],
            "text/latex": "$\\displaystyle \\left[\\begin{matrix}-30.0 & 0 & 30.0\\\\-80.0 & -72.0 & -64.0\\\\-10.0 & 0 & 10.0\\end{matrix}\\right]$"
          },
          "metadata": {},
          "execution_count": 14
        }
      ]
    },
    {
      "cell_type": "markdown",
      "source": [
        "### `linalg.multi_dot()`"
      ],
      "metadata": {
        "id": "A22X_8CWtKcD"
      }
    },
    {
      "cell_type": "code",
      "source": [
        "np.linalg.multi_dot([M, N, O])"
      ],
      "metadata": {
        "colab": {
          "base_uri": "https://localhost:8080/"
        },
        "id": "csBkMYmltrR2",
        "outputId": "1615db7c-d969-4dae-c1f9-47d1aed7af05"
      },
      "execution_count": 15,
      "outputs": [
        {
          "output_type": "execute_result",
          "data": {
            "text/plain": [
              "array([[-1824., -1408.,   288.],\n",
              "       [ -120.,  -208.,   -24.],\n",
              "       [ 1584.,   992.,  -336.]])"
            ]
          },
          "metadata": {},
          "execution_count": 15
        }
      ]
    },
    {
      "cell_type": "markdown",
      "source": [
        "#### SymPy"
      ],
      "metadata": {
        "id": "dIuLxySQGp1Z"
      }
    },
    {
      "cell_type": "code",
      "source": [
        "sp_M * sp_N * sp_O"
      ],
      "metadata": {
        "colab": {
          "base_uri": "https://localhost:8080/",
          "height": 0
        },
        "id": "VpB1BrpXGsVu",
        "outputId": "95c11f3a-0604-4ef0-bb7c-9ed9f057833c"
      },
      "execution_count": 16,
      "outputs": [
        {
          "output_type": "execute_result",
          "data": {
            "text/plain": [
              "Matrix([\n",
              "[-1824.0, -1408.0,  288.0],\n",
              "[ -120.0,  -208.0,  -24.0],\n",
              "[ 1584.0,   992.0, -336.0]])"
            ],
            "text/latex": "$\\displaystyle \\left[\\begin{matrix}-1824.0 & -1408.0 & 288.0\\\\-120.0 & -208.0 & -24.0\\\\1584.0 & 992.0 & -336.0\\end{matrix}\\right]$"
          },
          "metadata": {},
          "execution_count": 16
        }
      ]
    },
    {
      "cell_type": "markdown",
      "source": [
        "### `vdot()`"
      ],
      "metadata": {
        "id": "m_dqROlXv7FR"
      }
    },
    {
      "cell_type": "code",
      "source": [
        "np.vdot(v1, v2)"
      ],
      "metadata": {
        "colab": {
          "base_uri": "https://localhost:8080/"
        },
        "id": "mr2O8jMHv_MI",
        "outputId": "3830ad35-6b38-4e4d-90fe-80267b8127fa"
      },
      "execution_count": 17,
      "outputs": [
        {
          "output_type": "execute_result",
          "data": {
            "text/plain": [
              "100"
            ]
          },
          "metadata": {},
          "execution_count": 17
        }
      ]
    },
    {
      "cell_type": "markdown",
      "source": [
        "#### SymPy"
      ],
      "metadata": {
        "id": "9nOeuE29HMc6"
      }
    },
    {
      "cell_type": "code",
      "source": [
        "sp_v1.dot(sp_v2)"
      ],
      "metadata": {
        "colab": {
          "base_uri": "https://localhost:8080/",
          "height": 0
        },
        "id": "qmITt9XRHORi",
        "outputId": "0c239e00-1b01-4f54-fe28-72e8e6808640"
      },
      "execution_count": 18,
      "outputs": [
        {
          "output_type": "execute_result",
          "data": {
            "text/plain": [
              "100"
            ],
            "text/latex": "$\\displaystyle 100$"
          },
          "metadata": {},
          "execution_count": 18
        }
      ]
    },
    {
      "cell_type": "markdown",
      "source": [
        "### `inner()`\n",
        "\n",
        "Returns the inner product of two arrays"
      ],
      "metadata": {
        "id": "LWTuwnTSyc9k"
      }
    },
    {
      "cell_type": "code",
      "source": [
        "v3, v1"
      ],
      "metadata": {
        "colab": {
          "base_uri": "https://localhost:8080/"
        },
        "id": "jh9xL3QnymZy",
        "outputId": "0c9acac6-b4d5-476c-9d1c-aea24d0a10b2"
      },
      "execution_count": 19,
      "outputs": [
        {
          "output_type": "execute_result",
          "data": {
            "text/plain": [
              "(array([-2,  5,  1,  3]), array([1, 3, 5, 7]))"
            ]
          },
          "metadata": {},
          "execution_count": 19
        }
      ]
    },
    {
      "cell_type": "code",
      "source": [
        "np.inner(v3, v1)"
      ],
      "metadata": {
        "colab": {
          "base_uri": "https://localhost:8080/"
        },
        "id": "R0fHZIH_1dTy",
        "outputId": "d0b95fc4-93ce-4910-c80c-3baaf136a232"
      },
      "execution_count": 20,
      "outputs": [
        {
          "output_type": "execute_result",
          "data": {
            "text/plain": [
              "39"
            ]
          },
          "metadata": {},
          "execution_count": 20
        }
      ]
    },
    {
      "cell_type": "code",
      "source": [
        "np.dot(v3, v1)"
      ],
      "metadata": {
        "colab": {
          "base_uri": "https://localhost:8080/"
        },
        "id": "I5l9B2Jz1n-j",
        "outputId": "e6e6308c-437e-4b5f-db3e-5bb3a1cd50e2"
      },
      "execution_count": 21,
      "outputs": [
        {
          "output_type": "execute_result",
          "data": {
            "text/plain": [
              "39"
            ]
          },
          "metadata": {},
          "execution_count": 21
        }
      ]
    },
    {
      "cell_type": "markdown",
      "source": [
        "#### SymPy"
      ],
      "metadata": {
        "id": "wiv0axR_I-Nv"
      }
    },
    {
      "cell_type": "code",
      "source": [
        "sp_v3.dot(sp_v1)"
      ],
      "metadata": {
        "colab": {
          "base_uri": "https://localhost:8080/",
          "height": 0
        },
        "id": "meU3nGHNI_9V",
        "outputId": "a28137b0-4dc3-428b-8f35-941cf19dbb1d"
      },
      "execution_count": 22,
      "outputs": [
        {
          "output_type": "execute_result",
          "data": {
            "text/plain": [
              "39"
            ],
            "text/latex": "$\\displaystyle 39$"
          },
          "metadata": {},
          "execution_count": 22
        }
      ]
    },
    {
      "cell_type": "markdown",
      "source": [
        "### `matmul()`"
      ],
      "metadata": {
        "id": "N0R6NkoM10by"
      }
    },
    {
      "cell_type": "code",
      "source": [
        "np.matmul(M, N)"
      ],
      "metadata": {
        "colab": {
          "base_uri": "https://localhost:8080/"
        },
        "id": "EBFq1fKM13qj",
        "outputId": "eaaf1719-fea1-4c89-ca64-2fc9ff63b865"
      },
      "execution_count": 23,
      "outputs": [
        {
          "output_type": "execute_result",
          "data": {
            "text/plain": [
              "array([[-74., -88.,  -2.],\n",
              "       [ -8.,  -4.,  -8.],\n",
              "       [ 58.,  80., -14.]])"
            ]
          },
          "metadata": {},
          "execution_count": 23
        }
      ]
    },
    {
      "cell_type": "code",
      "source": [
        "np.dot(M, N)"
      ],
      "metadata": {
        "colab": {
          "base_uri": "https://localhost:8080/"
        },
        "id": "Tiy2Q08319V1",
        "outputId": "ab288674-ebad-47ae-bf64-a578decc572c"
      },
      "execution_count": 24,
      "outputs": [
        {
          "output_type": "execute_result",
          "data": {
            "text/plain": [
              "array([[-74., -88.,  -2.],\n",
              "       [ -8.,  -4.,  -8.],\n",
              "       [ 58.,  80., -14.]])"
            ]
          },
          "metadata": {},
          "execution_count": 24
        }
      ]
    },
    {
      "cell_type": "markdown",
      "source": [
        "#### SymPy"
      ],
      "metadata": {
        "id": "6sYmKl2gJeSV"
      }
    },
    {
      "cell_type": "code",
      "source": [
        "sp_M * sp_N"
      ],
      "metadata": {
        "colab": {
          "base_uri": "https://localhost:8080/",
          "height": 0
        },
        "id": "ZMMWBJJdJgBl",
        "outputId": "2b157d6e-4c4e-452f-fb59-fd19f5d6fe7a"
      },
      "execution_count": 25,
      "outputs": [
        {
          "output_type": "execute_result",
          "data": {
            "text/plain": [
              "Matrix([\n",
              "[-74.0, -88.0,  -2.0],\n",
              "[ -8.0,  -4.0,  -8.0],\n",
              "[ 58.0,  80.0, -14.0]])"
            ],
            "text/latex": "$\\displaystyle \\left[\\begin{matrix}-74.0 & -88.0 & -2.0\\\\-8.0 & -4.0 & -8.0\\\\58.0 & 80.0 & -14.0\\end{matrix}\\right]$"
          },
          "metadata": {},
          "execution_count": 25
        }
      ]
    },
    {
      "cell_type": "markdown",
      "source": [
        "### `linalg.matrix_power()`"
      ],
      "metadata": {
        "id": "ot2bvBTb2Qa7"
      }
    },
    {
      "cell_type": "code",
      "source": [
        "M"
      ],
      "metadata": {
        "colab": {
          "base_uri": "https://localhost:8080/"
        },
        "id": "Mulu27Ln2Vm4",
        "outputId": "29a9c7dd-dea9-4736-a738-eda88a3ee67e"
      },
      "execution_count": 26,
      "outputs": [
        {
          "output_type": "execute_result",
          "data": {
            "text/plain": [
              "array([[-8., -6., -4.],\n",
              "       [-2.,  0.,  2.],\n",
              "       [ 4.,  6.,  8.]])"
            ]
          },
          "metadata": {},
          "execution_count": 26
        }
      ]
    },
    {
      "cell_type": "code",
      "source": [
        "np.linalg.matrix_power(M, 3)"
      ],
      "metadata": {
        "colab": {
          "base_uri": "https://localhost:8080/"
        },
        "id": "n7i-oz522b2z",
        "outputId": "3de020da-c50c-4e3c-cbf4-fc88e70a5cba"
      },
      "execution_count": 27,
      "outputs": [
        {
          "output_type": "execute_result",
          "data": {
            "text/plain": [
              "array([[-576., -432., -288.],\n",
              "       [-144.,    0.,  144.],\n",
              "       [ 288.,  432.,  576.]])"
            ]
          },
          "metadata": {},
          "execution_count": 27
        }
      ]
    },
    {
      "cell_type": "code",
      "source": [
        "M.dot(M).dot(M)"
      ],
      "metadata": {
        "colab": {
          "base_uri": "https://localhost:8080/"
        },
        "id": "0xQaP18-2klP",
        "outputId": "e310f8a6-0805-42ae-88e1-0f814d63b4c8"
      },
      "execution_count": 28,
      "outputs": [
        {
          "output_type": "execute_result",
          "data": {
            "text/plain": [
              "array([[-576., -432., -288.],\n",
              "       [-144.,    0.,  144.],\n",
              "       [ 288.,  432.,  576.]])"
            ]
          },
          "metadata": {},
          "execution_count": 28
        }
      ]
    },
    {
      "cell_type": "code",
      "source": [
        "np.linalg.multi_dot([M, M, M])"
      ],
      "metadata": {
        "colab": {
          "base_uri": "https://localhost:8080/"
        },
        "id": "55XDffAk2n_F",
        "outputId": "9b0c4ddd-384c-4169-d7fe-1a6b00751f85"
      },
      "execution_count": 29,
      "outputs": [
        {
          "output_type": "execute_result",
          "data": {
            "text/plain": [
              "array([[-576., -432., -288.],\n",
              "       [-144.,    0.,  144.],\n",
              "       [ 288.,  432.,  576.]])"
            ]
          },
          "metadata": {},
          "execution_count": 29
        }
      ]
    },
    {
      "cell_type": "code",
      "source": [
        "np.matmul(np.matmul(M, M), M)"
      ],
      "metadata": {
        "colab": {
          "base_uri": "https://localhost:8080/"
        },
        "id": "9ekZ-n3W2vwD",
        "outputId": "71cbc697-0c61-4ab2-8657-7d70d2096308"
      },
      "execution_count": 30,
      "outputs": [
        {
          "output_type": "execute_result",
          "data": {
            "text/plain": [
              "array([[-576., -432., -288.],\n",
              "       [-144.,    0.,  144.],\n",
              "       [ 288.,  432.,  576.]])"
            ]
          },
          "metadata": {},
          "execution_count": 30
        }
      ]
    },
    {
      "cell_type": "markdown",
      "source": [
        "#### SymPy"
      ],
      "metadata": {
        "id": "VjPFBHOmJnnJ"
      }
    },
    {
      "cell_type": "code",
      "source": [
        "sp_M**3"
      ],
      "metadata": {
        "colab": {
          "base_uri": "https://localhost:8080/",
          "height": 78
        },
        "id": "phHvoJVkJpDm",
        "outputId": "ed220169-6adb-422d-d16e-ff23cf5aa652"
      },
      "execution_count": 31,
      "outputs": [
        {
          "output_type": "execute_result",
          "data": {
            "text/plain": [
              "Matrix([\n",
              "[-576.0, -432.0, -288.0],\n",
              "[-144.0,      0,  144.0],\n",
              "[ 288.0,  432.0,  576.0]])"
            ],
            "text/latex": "$\\displaystyle \\left[\\begin{matrix}-576.0 & -432.0 & -288.0\\\\-144.0 & 0 & 144.0\\\\288.0 & 432.0 & 576.0\\end{matrix}\\right]$"
          },
          "metadata": {},
          "execution_count": 31
        }
      ]
    },
    {
      "cell_type": "code",
      "source": [
        "sp_M * sp_M * sp_M"
      ],
      "metadata": {
        "colab": {
          "base_uri": "https://localhost:8080/",
          "height": 78
        },
        "id": "7OblycvQJvIh",
        "outputId": "b4e82c68-8343-464a-b50a-665ced86f3ee"
      },
      "execution_count": 32,
      "outputs": [
        {
          "output_type": "execute_result",
          "data": {
            "text/plain": [
              "Matrix([\n",
              "[-576.0, -432.0, -288.0],\n",
              "[-144.0,      0,  144.0],\n",
              "[ 288.0,  432.0,  576.0]])"
            ],
            "text/latex": "$\\displaystyle \\left[\\begin{matrix}-576.0 & -432.0 & -288.0\\\\-144.0 & 0 & 144.0\\\\288.0 & 432.0 & 576.0\\end{matrix}\\right]$"
          },
          "metadata": {},
          "execution_count": 32
        }
      ]
    },
    {
      "cell_type": "markdown",
      "source": [
        "### `linalg.eig()`\n",
        "\n",
        "Returns the eigenvalues and eigenvectors of a matrix"
      ],
      "metadata": {
        "id": "QNkCBv1D4CkP"
      }
    },
    {
      "cell_type": "code",
      "source": [
        "eig_vals, eig_vects = np.linalg.eig(O)"
      ],
      "metadata": {
        "id": "6AdJblCW4HmF"
      },
      "execution_count": 33,
      "outputs": []
    },
    {
      "cell_type": "code",
      "source": [
        "eig_vals"
      ],
      "metadata": {
        "colab": {
          "base_uri": "https://localhost:8080/"
        },
        "id": "VYFxBbZw4brU",
        "outputId": "1e87e1df-4aac-401c-ff98-a81dae72b2d2"
      },
      "execution_count": 34,
      "outputs": [
        {
          "output_type": "execute_result",
          "data": {
            "text/plain": [
              "array([20.+0.j        , -4.+8.94427191j, -4.-8.94427191j])"
            ]
          },
          "metadata": {},
          "execution_count": 34
        }
      ]
    },
    {
      "cell_type": "code",
      "source": [
        "eig_vects"
      ],
      "metadata": {
        "colab": {
          "base_uri": "https://localhost:8080/"
        },
        "id": "zbbZ2TNA4djJ",
        "outputId": "0c75d146-c258-4c7a-d36b-23103ae2e30c"
      },
      "execution_count": 35,
      "outputs": [
        {
          "output_type": "execute_result",
          "data": {
            "text/plain": [
              "array([[-0.80178373+0.j        ,  0.22664461-0.46780871j,\n",
              "         0.22664461+0.46780871j],\n",
              "       [-0.53452248+0.j        , -0.24407882+0.54577682j,\n",
              "        -0.24407882-0.54577682j],\n",
              "       [-0.26726124+0.j        ,  0.61019704+0.j        ,\n",
              "         0.61019704-0.j        ]])"
            ]
          },
          "metadata": {},
          "execution_count": 35
        }
      ]
    },
    {
      "cell_type": "markdown",
      "source": [
        "#### SymPy"
      ],
      "metadata": {
        "id": "0RC7kAdHKm8m"
      }
    },
    {
      "cell_type": "code",
      "source": [
        "sp_O.eigenvals()"
      ],
      "metadata": {
        "colab": {
          "base_uri": "https://localhost:8080/"
        },
        "id": "BK_V0mHQKpUy",
        "outputId": "bde02bfd-60cb-4fd3-ac48-978a17715ea8"
      },
      "execution_count": 36,
      "outputs": [
        {
          "output_type": "execute_result",
          "data": {
            "text/plain": [
              "{20: 1, -4 - 4*sqrt(5)*I: 1, -4 + 4*sqrt(5)*I: 1}"
            ]
          },
          "metadata": {},
          "execution_count": 36
        }
      ]
    },
    {
      "cell_type": "code",
      "source": [
        "for eig_val in list(sp_O.eigenvals()):\n",
        "    print(eig_val.evalf())"
      ],
      "metadata": {
        "colab": {
          "base_uri": "https://localhost:8080/"
        },
        "id": "WTO57CXfK_gg",
        "outputId": "fdc08c93-72b4-4cc9-dbf9-7193a1f86fda"
      },
      "execution_count": 37,
      "outputs": [
        {
          "output_type": "stream",
          "name": "stdout",
          "text": [
            "20.0000000000000\n",
            "-4.0 - 8.94427190999916*I\n",
            "-4.0 + 8.94427190999916*I\n"
          ]
        }
      ]
    },
    {
      "cell_type": "code",
      "source": [
        "# takes too long to run\n",
        "# eig_vects = sp_O.eigenvects()"
      ],
      "metadata": {
        "id": "oLfnvLeFL1VX"
      },
      "execution_count": 38,
      "outputs": []
    },
    {
      "cell_type": "markdown",
      "source": [
        "### `linalg.eigh()`\n",
        "\n",
        "Returns eigenvalues and eigenvectors of a complex Hermition matix or a real symmetric matrix"
      ],
      "metadata": {
        "id": "9_Beszt5781k"
      }
    },
    {
      "cell_type": "code",
      "source": [
        "eigh_vals, eigh_vects = np.linalg.eigh(N)"
      ],
      "metadata": {
        "id": "hqnb23xG8SS9"
      },
      "execution_count": 39,
      "outputs": []
    },
    {
      "cell_type": "code",
      "source": [
        "eigh_vals"
      ],
      "metadata": {
        "colab": {
          "base_uri": "https://localhost:8080/"
        },
        "id": "Zbybq1Cf8lyH",
        "outputId": "6810ddfe-3536-4c22-c113-2337372daada"
      },
      "execution_count": 40,
      "outputs": [
        {
          "output_type": "execute_result",
          "data": {
            "text/plain": [
              "array([-6.50629901,  1.38158325, 11.12471577])"
            ]
          },
          "metadata": {},
          "execution_count": 40
        }
      ]
    },
    {
      "cell_type": "code",
      "source": [
        "eigh_vects"
      ],
      "metadata": {
        "colab": {
          "base_uri": "https://localhost:8080/"
        },
        "id": "N1kGo-Fa80R1",
        "outputId": "a135ea0f-c1c3-4140-85f3-53385076334a"
      },
      "execution_count": 41,
      "outputs": [
        {
          "output_type": "execute_result",
          "data": {
            "text/plain": [
              "array([[ 0.4671123 ,  0.58001292, -0.66737629],\n",
              "       [-0.70108879, -0.21695936, -0.67926662],\n",
              "       [ 0.53877695, -0.78518383, -0.30529617]])"
            ]
          },
          "metadata": {},
          "execution_count": 41
        }
      ]
    },
    {
      "cell_type": "markdown",
      "source": [
        "### `linalg.det()`\n",
        "\n",
        "Returns the determinant of a matrix"
      ],
      "metadata": {
        "id": "NicauXjL_olr"
      }
    },
    {
      "cell_type": "code",
      "source": [
        "np.linalg.det(M), np.linalg.det(N), np.linalg.det(O)"
      ],
      "metadata": {
        "colab": {
          "base_uri": "https://localhost:8080/"
        },
        "id": "fbOG_fvu_wcy",
        "outputId": "b7b8783b-22fb-4bc0-b6b9-3b06c550a099"
      },
      "execution_count": 42,
      "outputs": [
        {
          "output_type": "execute_result",
          "data": {
            "text/plain": [
              "(0.0, 239.99999999999997, 1919.9999999999986)"
            ]
          },
          "metadata": {},
          "execution_count": 42
        }
      ]
    },
    {
      "cell_type": "markdown",
      "source": [
        "#### SymPy"
      ],
      "metadata": {
        "id": "XuJMw16RPYes"
      }
    },
    {
      "cell_type": "code",
      "source": [
        "sp_M.det(), sp_N.det(), sp_O.det()"
      ],
      "metadata": {
        "colab": {
          "base_uri": "https://localhost:8080/"
        },
        "id": "kyByiDwGPaVE",
        "outputId": "351a527a-6a13-44ff-fb08-b606af56412a"
      },
      "execution_count": 43,
      "outputs": [
        {
          "output_type": "execute_result",
          "data": {
            "text/plain": [
              "(0, 240, 1920)"
            ]
          },
          "metadata": {},
          "execution_count": 43
        }
      ]
    },
    {
      "cell_type": "markdown",
      "source": [
        "### `linalg.inv()`\n",
        "\n",
        "Returns the inverse of a matrix"
      ],
      "metadata": {
        "id": "3-aJe7nFADTy"
      }
    },
    {
      "cell_type": "code",
      "source": [
        "N"
      ],
      "metadata": {
        "colab": {
          "base_uri": "https://localhost:8080/"
        },
        "id": "wjQeLNlEALNa",
        "outputId": "a918caf4-cb04-4010-8a3b-704f2334961f"
      },
      "execution_count": 44,
      "outputs": [
        {
          "output_type": "execute_result",
          "data": {
            "text/plain": [
              "array([[ 4,  7,  4],\n",
              "       [ 7,  2, -5],\n",
              "       [ 0,  5,  0]])"
            ]
          },
          "metadata": {},
          "execution_count": 44
        }
      ]
    },
    {
      "cell_type": "code",
      "source": [
        "np.linalg.inv(N)"
      ],
      "metadata": {
        "colab": {
          "base_uri": "https://localhost:8080/"
        },
        "id": "expG6ShNAPUZ",
        "outputId": "0b6aaa94-2cf4-4e4d-8a7f-95ccbeae7899"
      },
      "execution_count": 45,
      "outputs": [
        {
          "output_type": "execute_result",
          "data": {
            "text/plain": [
              "array([[ 0.10416667,  0.08333333, -0.17916667],\n",
              "       [ 0.        ,  0.        ,  0.2       ],\n",
              "       [ 0.14583333, -0.08333333, -0.17083333]])"
            ]
          },
          "metadata": {},
          "execution_count": 45
        }
      ]
    },
    {
      "cell_type": "code",
      "source": [
        "np.matmul(N, np.linalg.inv(N))"
      ],
      "metadata": {
        "colab": {
          "base_uri": "https://localhost:8080/"
        },
        "id": "gkGExSTXAR42",
        "outputId": "1ab1a249-bd80-4241-a036-50eadc6cad4d"
      },
      "execution_count": 46,
      "outputs": [
        {
          "output_type": "execute_result",
          "data": {
            "text/plain": [
              "array([[ 1.00000000e+00,  0.00000000e+00, -3.33066907e-16],\n",
              "       [ 2.77555756e-17,  1.00000000e+00, -1.38777878e-16],\n",
              "       [ 0.00000000e+00,  0.00000000e+00,  1.00000000e+00]])"
            ]
          },
          "metadata": {},
          "execution_count": 46
        }
      ]
    },
    {
      "cell_type": "code",
      "source": [
        "N.dot(np.linalg.inv(N))"
      ],
      "metadata": {
        "colab": {
          "base_uri": "https://localhost:8080/"
        },
        "id": "wooYzv5LAnBC",
        "outputId": "5e151e2d-25fc-4105-c03a-10b6e9a44e6a"
      },
      "execution_count": 47,
      "outputs": [
        {
          "output_type": "execute_result",
          "data": {
            "text/plain": [
              "array([[ 1.00000000e+00,  0.00000000e+00, -3.33066907e-16],\n",
              "       [ 2.77555756e-17,  1.00000000e+00, -1.38777878e-16],\n",
              "       [ 0.00000000e+00,  0.00000000e+00,  1.00000000e+00]])"
            ]
          },
          "metadata": {},
          "execution_count": 47
        }
      ]
    },
    {
      "cell_type": "markdown",
      "source": [
        "#### SymPy"
      ],
      "metadata": {
        "id": "caV6TXlzQ1yb"
      }
    },
    {
      "cell_type": "code",
      "source": [
        "sp_N**-1"
      ],
      "metadata": {
        "colab": {
          "base_uri": "https://localhost:8080/",
          "height": 0
        },
        "id": "G8vX2rwbQ3-q",
        "outputId": "b952ce79-dd7b-4bbd-9ac6-8cf04c1e58dd"
      },
      "execution_count": 48,
      "outputs": [
        {
          "output_type": "execute_result",
          "data": {
            "text/plain": [
              "Matrix([\n",
              "[5/48,  1/12, -43/240],\n",
              "[   0,     0,     1/5],\n",
              "[7/48, -1/12, -41/240]])"
            ],
            "text/latex": "$\\displaystyle \\left[\\begin{matrix}\\frac{5}{48} & \\frac{1}{12} & - \\frac{43}{240}\\\\0 & 0 & \\frac{1}{5}\\\\\\frac{7}{48} & - \\frac{1}{12} & - \\frac{41}{240}\\end{matrix}\\right]$"
          },
          "metadata": {},
          "execution_count": 48
        }
      ]
    },
    {
      "cell_type": "code",
      "source": [
        "(sp_N**-1).evalf()"
      ],
      "metadata": {
        "colab": {
          "base_uri": "https://localhost:8080/",
          "height": 0
        },
        "id": "mvyj4OC-Q828",
        "outputId": "0931088f-cef1-43d4-83ec-2120c5db3ee2"
      },
      "execution_count": 49,
      "outputs": [
        {
          "output_type": "execute_result",
          "data": {
            "text/plain": [
              "Matrix([\n",
              "[0.104166666666667,  0.0833333333333333, -0.179166666666667],\n",
              "[                0,                   0,                0.2],\n",
              "[0.145833333333333, -0.0833333333333333, -0.170833333333333]])"
            ],
            "text/latex": "$\\displaystyle \\left[\\begin{matrix}0.104166666666667 & 0.0833333333333333 & -0.179166666666667\\\\0 & 0 & 0.2\\\\0.145833333333333 & -0.0833333333333333 & -0.170833333333333\\end{matrix}\\right]$"
          },
          "metadata": {},
          "execution_count": 49
        }
      ]
    },
    {
      "cell_type": "code",
      "source": [
        "sp_N * sp_N**-1"
      ],
      "metadata": {
        "colab": {
          "base_uri": "https://localhost:8080/",
          "height": 0
        },
        "id": "jttDC0m0REpH",
        "outputId": "2185206a-2e02-45bd-8e92-36ba779b8720"
      },
      "execution_count": 50,
      "outputs": [
        {
          "output_type": "execute_result",
          "data": {
            "text/plain": [
              "Matrix([\n",
              "[1, 0, 0],\n",
              "[0, 1, 0],\n",
              "[0, 0, 1]])"
            ],
            "text/latex": "$\\displaystyle \\left[\\begin{matrix}1 & 0 & 0\\\\0 & 1 & 0\\\\0 & 0 & 1\\end{matrix}\\right]$"
          },
          "metadata": {},
          "execution_count": 50
        }
      ]
    },
    {
      "cell_type": "markdown",
      "source": [
        "## 1.2.1.2 Using Matrices in Python"
      ],
      "metadata": {
        "id": "agRDbyAHRc27"
      }
    },
    {
      "cell_type": "markdown",
      "source": [
        "### Building Matrices Using Numpy"
      ],
      "metadata": {
        "id": "HBIKF1GAZbxV"
      }
    },
    {
      "cell_type": "code",
      "source": [
        "L = np.linspace(0, 120, 25)\n",
        "L"
      ],
      "metadata": {
        "colab": {
          "base_uri": "https://localhost:8080/"
        },
        "id": "NmKml2scZhXy",
        "outputId": "076434bb-31a4-4bc3-9f08-253524268404"
      },
      "execution_count": 51,
      "outputs": [
        {
          "output_type": "execute_result",
          "data": {
            "text/plain": [
              "array([  0.,   5.,  10.,  15.,  20.,  25.,  30.,  35.,  40.,  45.,  50.,\n",
              "        55.,  60.,  65.,  70.,  75.,  80.,  85.,  90.,  95., 100., 105.,\n",
              "       110., 115., 120.])"
            ]
          },
          "metadata": {},
          "execution_count": 51
        }
      ]
    },
    {
      "cell_type": "code",
      "source": [
        "M = L.reshape(5, 5)\n",
        "M"
      ],
      "metadata": {
        "colab": {
          "base_uri": "https://localhost:8080/"
        },
        "id": "54lM5HZsZ5PE",
        "outputId": "0f2cb613-c28c-4727-e48c-5dc2e949dd6a"
      },
      "execution_count": 52,
      "outputs": [
        {
          "output_type": "execute_result",
          "data": {
            "text/plain": [
              "array([[  0.,   5.,  10.,  15.,  20.],\n",
              "       [ 25.,  30.,  35.,  40.,  45.],\n",
              "       [ 50.,  55.,  60.,  65.,  70.],\n",
              "       [ 75.,  80.,  85.,  90.,  95.],\n",
              "       [100., 105., 110., 115., 120.]])"
            ]
          },
          "metadata": {},
          "execution_count": 52
        }
      ]
    },
    {
      "cell_type": "code",
      "source": [
        "R = np.random.randint(-5, 4, size=(4, 4))\n",
        "R"
      ],
      "metadata": {
        "colab": {
          "base_uri": "https://localhost:8080/"
        },
        "id": "TkX53rOfbUqe",
        "outputId": "317d9097-f428-4e68-e921-beaf895d7801"
      },
      "execution_count": 53,
      "outputs": [
        {
          "output_type": "execute_result",
          "data": {
            "text/plain": [
              "array([[ 2, -4, -4,  3],\n",
              "       [-1, -4,  2, -3],\n",
              "       [-4, -5,  0, -1],\n",
              "       [-4, -1, -2, -3]])"
            ]
          },
          "metadata": {},
          "execution_count": 53
        }
      ]
    },
    {
      "cell_type": "markdown",
      "source": [
        "### Building Matrices Using SymPy"
      ],
      "metadata": {
        "id": "nrXLeIGhfGcy"
      }
    },
    {
      "cell_type": "code",
      "source": [
        "sp_M = sp.Matrix(M)\n",
        "sp_M"
      ],
      "metadata": {
        "colab": {
          "base_uri": "https://localhost:8080/",
          "height": 0
        },
        "id": "V06Y7zvFfJ-K",
        "outputId": "e99d4fbb-8124-4480-e774-2f6c3c6f50ee"
      },
      "execution_count": 54,
      "outputs": [
        {
          "output_type": "execute_result",
          "data": {
            "text/plain": [
              "Matrix([\n",
              "[  0.0,   5.0,  10.0,  15.0,  20.0],\n",
              "[ 25.0,  30.0,  35.0,  40.0,  45.0],\n",
              "[ 50.0,  55.0,  60.0,  65.0,  70.0],\n",
              "[ 75.0,  80.0,  85.0,  90.0,  95.0],\n",
              "[100.0, 105.0, 110.0, 115.0, 120.0]])"
            ],
            "text/latex": "$\\displaystyle \\left[\\begin{matrix}0.0 & 5.0 & 10.0 & 15.0 & 20.0\\\\25.0 & 30.0 & 35.0 & 40.0 & 45.0\\\\50.0 & 55.0 & 60.0 & 65.0 & 70.0\\\\75.0 & 80.0 & 85.0 & 90.0 & 95.0\\\\100.0 & 105.0 & 110.0 & 115.0 & 120.0\\end{matrix}\\right]$"
          },
          "metadata": {},
          "execution_count": 54
        }
      ]
    },
    {
      "cell_type": "code",
      "source": [
        "sp_R = sp.Matrix(R)\n",
        "sp_R"
      ],
      "metadata": {
        "colab": {
          "base_uri": "https://localhost:8080/",
          "height": 0
        },
        "id": "cWB6GNWcfdtF",
        "outputId": "d12536da-3b4b-441d-a952-e0dde8b5eddd"
      },
      "execution_count": 55,
      "outputs": [
        {
          "output_type": "execute_result",
          "data": {
            "text/plain": [
              "Matrix([\n",
              "[ 2, -4, -4,  3],\n",
              "[-1, -4,  2, -3],\n",
              "[-4, -5,  0, -1],\n",
              "[-4, -1, -2, -3]])"
            ],
            "text/latex": "$\\displaystyle \\left[\\begin{matrix}2 & -4 & -4 & 3\\\\-1 & -4 & 2 & -3\\\\-4 & -5 & 0 & -1\\\\-4 & -1 & -2 & -3\\end{matrix}\\right]$"
          },
          "metadata": {},
          "execution_count": 55
        }
      ]
    },
    {
      "cell_type": "markdown",
      "source": [
        "### Accessing Matrix Entries: NumPy and SymPy"
      ],
      "metadata": {
        "id": "yAj3bREdajzt"
      }
    },
    {
      "cell_type": "code",
      "source": [
        "# first row\n",
        "M[0]"
      ],
      "metadata": {
        "colab": {
          "base_uri": "https://localhost:8080/"
        },
        "id": "EfSyLVgca53u",
        "outputId": "05085313-0ac8-4afa-82f6-c123fb780a4b"
      },
      "execution_count": 56,
      "outputs": [
        {
          "output_type": "execute_result",
          "data": {
            "text/plain": [
              "array([ 0.,  5., 10., 15., 20.])"
            ]
          },
          "metadata": {},
          "execution_count": 56
        }
      ]
    },
    {
      "cell_type": "code",
      "source": [
        "sp_M.row(1)"
      ],
      "metadata": {
        "colab": {
          "base_uri": "https://localhost:8080/",
          "height": 0
        },
        "id": "I37LwWTcfi7C",
        "outputId": "0a311245-07af-4f5f-af1e-98e0a851487a"
      },
      "execution_count": 57,
      "outputs": [
        {
          "output_type": "execute_result",
          "data": {
            "text/plain": [
              "Matrix([[25.0, 30.0, 35.0, 40.0, 45.0]])"
            ],
            "text/latex": "$\\displaystyle \\left[\\begin{matrix}25.0 & 30.0 & 35.0 & 40.0 & 45.0\\end{matrix}\\right]$"
          },
          "metadata": {},
          "execution_count": 57
        }
      ]
    },
    {
      "cell_type": "code",
      "source": [
        "sp_M[1, :]"
      ],
      "metadata": {
        "colab": {
          "base_uri": "https://localhost:8080/",
          "height": 0
        },
        "id": "VSR0Lop1gGyj",
        "outputId": "23ca52b5-9ab4-48a7-fc7e-9b026c8269ee"
      },
      "execution_count": 58,
      "outputs": [
        {
          "output_type": "execute_result",
          "data": {
            "text/plain": [
              "Matrix([[25.0, 30.0, 35.0, 40.0, 45.0]])"
            ],
            "text/latex": "$\\displaystyle \\left[\\begin{matrix}25.0 & 30.0 & 35.0 & 40.0 & 45.0\\end{matrix}\\right]$"
          },
          "metadata": {},
          "execution_count": 58
        }
      ]
    },
    {
      "cell_type": "code",
      "source": [
        "# last row\n",
        "M[-1]"
      ],
      "metadata": {
        "colab": {
          "base_uri": "https://localhost:8080/"
        },
        "id": "f2BAz7Mvb1w4",
        "outputId": "539e38c7-fac3-4aab-92ca-0b9577009a43"
      },
      "execution_count": 59,
      "outputs": [
        {
          "output_type": "execute_result",
          "data": {
            "text/plain": [
              "array([100., 105., 110., 115., 120.])"
            ]
          },
          "metadata": {},
          "execution_count": 59
        }
      ]
    },
    {
      "cell_type": "code",
      "source": [
        "sp_M.row(-1)"
      ],
      "metadata": {
        "colab": {
          "base_uri": "https://localhost:8080/",
          "height": 0
        },
        "id": "ymM2kKNXhkf2",
        "outputId": "884c4289-7d6b-4f54-923d-7072c1625e79"
      },
      "execution_count": 60,
      "outputs": [
        {
          "output_type": "execute_result",
          "data": {
            "text/plain": [
              "Matrix([[100.0, 105.0, 110.0, 115.0, 120.0]])"
            ],
            "text/latex": "$\\displaystyle \\left[\\begin{matrix}100.0 & 105.0 & 110.0 & 115.0 & 120.0\\end{matrix}\\right]$"
          },
          "metadata": {},
          "execution_count": 60
        }
      ]
    },
    {
      "cell_type": "code",
      "source": [
        "#first column\n",
        "M[:,0]"
      ],
      "metadata": {
        "colab": {
          "base_uri": "https://localhost:8080/"
        },
        "id": "sq_vvmxNcDbv",
        "outputId": "8da7d3cc-329e-49ce-9a9f-2cbda5fb2607"
      },
      "execution_count": 61,
      "outputs": [
        {
          "output_type": "execute_result",
          "data": {
            "text/plain": [
              "array([  0.,  25.,  50.,  75., 100.])"
            ]
          },
          "metadata": {},
          "execution_count": 61
        }
      ]
    },
    {
      "cell_type": "code",
      "source": [
        "sp_M.col(0)"
      ],
      "metadata": {
        "colab": {
          "base_uri": "https://localhost:8080/",
          "height": 0
        },
        "id": "dAvl8qauhpP2",
        "outputId": "58b5ff96-d71f-44c6-a8e7-9e79d1c88f18"
      },
      "execution_count": 62,
      "outputs": [
        {
          "output_type": "execute_result",
          "data": {
            "text/plain": [
              "Matrix([\n",
              "[  0.0],\n",
              "[ 25.0],\n",
              "[ 50.0],\n",
              "[ 75.0],\n",
              "[100.0]])"
            ],
            "text/latex": "$\\displaystyle \\left[\\begin{matrix}0.0\\\\25.0\\\\50.0\\\\75.0\\\\100.0\\end{matrix}\\right]$"
          },
          "metadata": {},
          "execution_count": 62
        }
      ]
    },
    {
      "cell_type": "code",
      "source": [
        "# last column\n",
        "M[:,-1]"
      ],
      "metadata": {
        "colab": {
          "base_uri": "https://localhost:8080/"
        },
        "id": "F1xHm1KbcR5c",
        "outputId": "ab6ad3bc-df35-4e05-962c-4701988794cc"
      },
      "execution_count": 63,
      "outputs": [
        {
          "output_type": "execute_result",
          "data": {
            "text/plain": [
              "array([ 20.,  45.,  70.,  95., 120.])"
            ]
          },
          "metadata": {},
          "execution_count": 63
        }
      ]
    },
    {
      "cell_type": "code",
      "source": [
        "sp_M.col(-1)"
      ],
      "metadata": {
        "colab": {
          "base_uri": "https://localhost:8080/",
          "height": 0
        },
        "id": "5z51fffshtIR",
        "outputId": "efd563f4-1a20-4bcb-d09e-4353af2c7759"
      },
      "execution_count": 64,
      "outputs": [
        {
          "output_type": "execute_result",
          "data": {
            "text/plain": [
              "Matrix([\n",
              "[ 20.0],\n",
              "[ 45.0],\n",
              "[ 70.0],\n",
              "[ 95.0],\n",
              "[120.0]])"
            ],
            "text/latex": "$\\displaystyle \\left[\\begin{matrix}20.0\\\\45.0\\\\70.0\\\\95.0\\\\120.0\\end{matrix}\\right]$"
          },
          "metadata": {},
          "execution_count": 64
        }
      ]
    },
    {
      "cell_type": "code",
      "source": [
        "# first 3 rows\n",
        "M[0:3]"
      ],
      "metadata": {
        "colab": {
          "base_uri": "https://localhost:8080/"
        },
        "id": "f7jA7nV-cuXH",
        "outputId": "1fbf996e-998b-46d3-f83e-98b6d80918ac"
      },
      "execution_count": 65,
      "outputs": [
        {
          "output_type": "execute_result",
          "data": {
            "text/plain": [
              "array([[ 0.,  5., 10., 15., 20.],\n",
              "       [25., 30., 35., 40., 45.],\n",
              "       [50., 55., 60., 65., 70.]])"
            ]
          },
          "metadata": {},
          "execution_count": 65
        }
      ]
    },
    {
      "cell_type": "code",
      "source": [
        "sp_M[0:3,:]"
      ],
      "metadata": {
        "colab": {
          "base_uri": "https://localhost:8080/",
          "height": 0
        },
        "id": "vwg1hQzRh6XO",
        "outputId": "5efa5bec-bbde-4a1d-c2fc-adb021e4ea7d"
      },
      "execution_count": 66,
      "outputs": [
        {
          "output_type": "execute_result",
          "data": {
            "text/plain": [
              "Matrix([\n",
              "[ 0.0,  5.0, 10.0, 15.0, 20.0],\n",
              "[25.0, 30.0, 35.0, 40.0, 45.0],\n",
              "[50.0, 55.0, 60.0, 65.0, 70.0]])"
            ],
            "text/latex": "$\\displaystyle \\left[\\begin{matrix}0.0 & 5.0 & 10.0 & 15.0 & 20.0\\\\25.0 & 30.0 & 35.0 & 40.0 & 45.0\\\\50.0 & 55.0 & 60.0 & 65.0 & 70.0\\end{matrix}\\right]$"
          },
          "metadata": {},
          "execution_count": 66
        }
      ]
    },
    {
      "cell_type": "code",
      "source": [
        "# second and third columns\n",
        "M[:,2:4]"
      ],
      "metadata": {
        "colab": {
          "base_uri": "https://localhost:8080/"
        },
        "id": "6LI3yQrVc37e",
        "outputId": "41fcb872-562e-4db7-9c0f-0b6cc8350faa"
      },
      "execution_count": 67,
      "outputs": [
        {
          "output_type": "execute_result",
          "data": {
            "text/plain": [
              "array([[ 10.,  15.],\n",
              "       [ 35.,  40.],\n",
              "       [ 60.,  65.],\n",
              "       [ 85.,  90.],\n",
              "       [110., 115.]])"
            ]
          },
          "metadata": {},
          "execution_count": 67
        }
      ]
    },
    {
      "cell_type": "code",
      "source": [
        "sp_M[:, 2:4]"
      ],
      "metadata": {
        "colab": {
          "base_uri": "https://localhost:8080/",
          "height": 0
        },
        "id": "rWHVh4tAiU1P",
        "outputId": "9674f820-2c6b-4e15-f366-569f7e1d45a7"
      },
      "execution_count": 68,
      "outputs": [
        {
          "output_type": "execute_result",
          "data": {
            "text/plain": [
              "Matrix([\n",
              "[ 10.0,  15.0],\n",
              "[ 35.0,  40.0],\n",
              "[ 60.0,  65.0],\n",
              "[ 85.0,  90.0],\n",
              "[110.0, 115.0]])"
            ],
            "text/latex": "$\\displaystyle \\left[\\begin{matrix}10.0 & 15.0\\\\35.0 & 40.0\\\\60.0 & 65.0\\\\85.0 & 90.0\\\\110.0 & 115.0\\end{matrix}\\right]$"
          },
          "metadata": {},
          "execution_count": 68
        }
      ]
    },
    {
      "cell_type": "code",
      "source": [
        "# first 3 rows, 2nd, 3rd and 4th columns\n",
        "M[:3, 1:4]"
      ],
      "metadata": {
        "colab": {
          "base_uri": "https://localhost:8080/"
        },
        "id": "KWQNOX6hdNP9",
        "outputId": "68963add-fe46-4a61-ca73-de41561b02a6"
      },
      "execution_count": 69,
      "outputs": [
        {
          "output_type": "execute_result",
          "data": {
            "text/plain": [
              "array([[ 5., 10., 15.],\n",
              "       [30., 35., 40.],\n",
              "       [55., 60., 65.]])"
            ]
          },
          "metadata": {},
          "execution_count": 69
        }
      ]
    },
    {
      "cell_type": "code",
      "source": [
        "sp_M[:3, 1:4]"
      ],
      "metadata": {
        "colab": {
          "base_uri": "https://localhost:8080/",
          "height": 0
        },
        "id": "5ZJiI_N-ifbI",
        "outputId": "198b0059-6528-4a11-b659-eef0e23e1d0d"
      },
      "execution_count": 70,
      "outputs": [
        {
          "output_type": "execute_result",
          "data": {
            "text/plain": [
              "Matrix([\n",
              "[ 5.0, 10.0, 15.0],\n",
              "[30.0, 35.0, 40.0],\n",
              "[55.0, 60.0, 65.0]])"
            ],
            "text/latex": "$\\displaystyle \\left[\\begin{matrix}5.0 & 10.0 & 15.0\\\\30.0 & 35.0 & 40.0\\\\55.0 & 60.0 & 65.0\\end{matrix}\\right]$"
          },
          "metadata": {},
          "execution_count": 70
        }
      ]
    },
    {
      "cell_type": "code",
      "source": [
        "# first 3 rows, 2nd and 4th columns\n",
        "M[:3, (1, 3)]"
      ],
      "metadata": {
        "colab": {
          "base_uri": "https://localhost:8080/"
        },
        "id": "TQ5MOepfdkcn",
        "outputId": "de601d78-1a2d-4989-a81b-e4119a13050f"
      },
      "execution_count": 71,
      "outputs": [
        {
          "output_type": "execute_result",
          "data": {
            "text/plain": [
              "array([[ 5., 15.],\n",
              "       [30., 40.],\n",
              "       [55., 65.]])"
            ]
          },
          "metadata": {},
          "execution_count": 71
        }
      ]
    },
    {
      "cell_type": "code",
      "source": [
        "sp_M[:3, (1, 3)]"
      ],
      "metadata": {
        "colab": {
          "base_uri": "https://localhost:8080/",
          "height": 0
        },
        "id": "XcBDkJkuij8t",
        "outputId": "060dab8b-5153-4cbc-b321-f68b318476fa"
      },
      "execution_count": 72,
      "outputs": [
        {
          "output_type": "execute_result",
          "data": {
            "text/plain": [
              "Matrix([\n",
              "[ 5.0, 15.0],\n",
              "[30.0, 40.0],\n",
              "[55.0, 65.0]])"
            ],
            "text/latex": "$\\displaystyle \\left[\\begin{matrix}5.0 & 15.0\\\\30.0 & 40.0\\\\55.0 & 65.0\\end{matrix}\\right]$"
          },
          "metadata": {},
          "execution_count": 72
        }
      ]
    },
    {
      "cell_type": "code",
      "source": [
        "# the entry at the intersection of \n",
        "# the 2nd row and the 2nd column\n",
        "M[1, 1]"
      ],
      "metadata": {
        "colab": {
          "base_uri": "https://localhost:8080/"
        },
        "id": "WX4x9WsPdx9N",
        "outputId": "78785bc5-1a9e-416c-a9f3-038770aab341"
      },
      "execution_count": 73,
      "outputs": [
        {
          "output_type": "execute_result",
          "data": {
            "text/plain": [
              "30.0"
            ]
          },
          "metadata": {},
          "execution_count": 73
        }
      ]
    },
    {
      "cell_type": "code",
      "source": [
        "sp_M[1,1]"
      ],
      "metadata": {
        "colab": {
          "base_uri": "https://localhost:8080/",
          "height": 0
        },
        "id": "KdNywH_OipWb",
        "outputId": "23a41bf0-a8b0-4129-adb9-66e5b9f2e624"
      },
      "execution_count": 74,
      "outputs": [
        {
          "output_type": "execute_result",
          "data": {
            "text/plain": [
              "30.0000000000000"
            ],
            "text/latex": "$\\displaystyle 30.0$"
          },
          "metadata": {},
          "execution_count": 74
        }
      ]
    },
    {
      "cell_type": "markdown",
      "source": [
        "## 1.2.1.3 Solving Linear Equations Using Python"
      ],
      "metadata": {
        "id": "WV72b3Ioi6ED"
      }
    },
    {
      "cell_type": "markdown",
      "source": [
        "### Example"
      ],
      "metadata": {
        "id": "Z9jdnn4fWBOM"
      }
    },
    {
      "cell_type": "markdown",
      "source": [
        "$\n",
        "\\begin{align}\n",
        "4x + 3y + 2z &= 25 \\\\\n",
        "-2x + 2y + 3z &= -10 \\\\\n",
        "3x - 5y + 2z &= -4\n",
        "\\end{align}\n",
        "$"
      ],
      "metadata": {
        "id": "Nooz5FblWG5H"
      }
    },
    {
      "cell_type": "markdown",
      "source": [
        "#### Solve Using the Inverse Method\n",
        "\n",
        "In a nutshell, the solution is found by multiplying the inverse of the coefficent matrix, $M^{-1}$ by the column matrix, $K$.\n",
        "\n",
        "Let $V$ be the solution, then\n",
        "\n",
        "$V = M^{-1} * K$\n",
        "\n",
        "Details about why this equation works are shown in this notebook. "
      ],
      "metadata": {
        "id": "MovWJ7FgW22H"
      }
    },
    {
      "cell_type": "code",
      "source": [
        "# M is the coefficient matrix\n",
        "M = np.array([[4, 3, 2],\n",
        "              [-2, 2, 3],\n",
        "              [3, -5, 2]])\n",
        "M"
      ],
      "metadata": {
        "colab": {
          "base_uri": "https://localhost:8080/"
        },
        "id": "9U5XYoKGXQpY",
        "outputId": "7aa48c43-2f90-4626-87be-8e2d04d7c31f"
      },
      "execution_count": 75,
      "outputs": [
        {
          "output_type": "execute_result",
          "data": {
            "text/plain": [
              "array([[ 4,  3,  2],\n",
              "       [-2,  2,  3],\n",
              "       [ 3, -5,  2]])"
            ]
          },
          "metadata": {},
          "execution_count": 75
        }
      ]
    },
    {
      "cell_type": "code",
      "source": [
        "# K is the column matrix\n",
        "K = np.array([[25],\n",
        "              [-10],\n",
        "              [-4]])\n",
        "K"
      ],
      "metadata": {
        "colab": {
          "base_uri": "https://localhost:8080/"
        },
        "id": "qO8tZvJKX-4n",
        "outputId": "2a20cb27-d53e-4f2d-eba1-c073ef910381"
      },
      "execution_count": 76,
      "outputs": [
        {
          "output_type": "execute_result",
          "data": {
            "text/plain": [
              "array([[ 25],\n",
              "       [-10],\n",
              "       [ -4]])"
            ]
          },
          "metadata": {},
          "execution_count": 76
        }
      ]
    },
    {
      "cell_type": "code",
      "source": [
        "V = np.array([['x'],\n",
        "              ['y'],\n",
        "              ['z']])\n",
        "V"
      ],
      "metadata": {
        "colab": {
          "base_uri": "https://localhost:8080/"
        },
        "id": "ZXgK-nuZYUCD",
        "outputId": "c22049bf-f3b9-4243-8eb6-48c2fd223e73"
      },
      "execution_count": 77,
      "outputs": [
        {
          "output_type": "execute_result",
          "data": {
            "text/plain": [
              "array([['x'],\n",
              "       ['y'],\n",
              "       ['z']], dtype='<U1')"
            ]
          },
          "metadata": {},
          "execution_count": 77
        }
      ]
    },
    {
      "cell_type": "markdown",
      "source": [
        "The system of linear equations in this example can be written as:"
      ],
      "metadata": {
        "id": "FvqqbLyXZX6z"
      }
    },
    {
      "cell_type": "markdown",
      "source": [
        "$\n",
        "M * V = K \\\\\n",
        "\\implies \n",
        "M^{-1} * M * V = M^{-1} * K \\\\\n",
        "\\implies\n",
        "I * V = M^{-1} * K \\\\\n",
        "\\implies\n",
        "V = M^{-1} * K\n",
        "$"
      ],
      "metadata": {
        "id": "zwSz4DZoZePn"
      }
    },
    {
      "cell_type": "code",
      "source": [
        "np.linalg.inv(M).dot(K)"
      ],
      "metadata": {
        "colab": {
          "base_uri": "https://localhost:8080/"
        },
        "id": "dcAP5C51b1bS",
        "outputId": "bd9be978-e1f4-4e91-c4a2-e21b0af95a18"
      },
      "execution_count": 78,
      "outputs": [
        {
          "output_type": "execute_result",
          "data": {
            "text/plain": [
              "array([[ 5.],\n",
              "       [ 3.],\n",
              "       [-2.]])"
            ]
          },
          "metadata": {},
          "execution_count": 78
        }
      ]
    },
    {
      "cell_type": "markdown",
      "source": [
        "##### Sympy"
      ],
      "metadata": {
        "id": "Yn2LG6b7eCyA"
      }
    },
    {
      "cell_type": "code",
      "source": [
        "sp_M = sp.Matrix(M)\n",
        "sp_M"
      ],
      "metadata": {
        "colab": {
          "base_uri": "https://localhost:8080/",
          "height": 0
        },
        "id": "yQ2neumqeIoU",
        "outputId": "60bf1d41-7887-4c26-d17a-accec2ea20da"
      },
      "execution_count": 79,
      "outputs": [
        {
          "output_type": "execute_result",
          "data": {
            "text/plain": [
              "Matrix([\n",
              "[ 4,  3, 2],\n",
              "[-2,  2, 3],\n",
              "[ 3, -5, 2]])"
            ],
            "text/latex": "$\\displaystyle \\left[\\begin{matrix}4 & 3 & 2\\\\-2 & 2 & 3\\\\3 & -5 & 2\\end{matrix}\\right]$"
          },
          "metadata": {},
          "execution_count": 79
        }
      ]
    },
    {
      "cell_type": "code",
      "source": [
        "sp_K = sp.Matrix(K)\n",
        "sp_K"
      ],
      "metadata": {
        "colab": {
          "base_uri": "https://localhost:8080/",
          "height": 0
        },
        "id": "wMmGqoVweNBb",
        "outputId": "7d857089-9bf7-445a-ad46-7c2f0cfbd485"
      },
      "execution_count": 80,
      "outputs": [
        {
          "output_type": "execute_result",
          "data": {
            "text/plain": [
              "Matrix([\n",
              "[ 25],\n",
              "[-10],\n",
              "[ -4]])"
            ],
            "text/latex": "$\\displaystyle \\left[\\begin{matrix}25\\\\-10\\\\-4\\end{matrix}\\right]$"
          },
          "metadata": {},
          "execution_count": 80
        }
      ]
    },
    {
      "cell_type": "code",
      "source": [
        "sp_M**-1 * sp_K"
      ],
      "metadata": {
        "colab": {
          "base_uri": "https://localhost:8080/",
          "height": 0
        },
        "id": "KZxdiQBReUrR",
        "outputId": "646db802-1826-4b03-eb7e-995e94967268"
      },
      "execution_count": 81,
      "outputs": [
        {
          "output_type": "execute_result",
          "data": {
            "text/plain": [
              "Matrix([\n",
              "[ 5],\n",
              "[ 3],\n",
              "[-2]])"
            ],
            "text/latex": "$\\displaystyle \\left[\\begin{matrix}5\\\\3\\\\-2\\end{matrix}\\right]$"
          },
          "metadata": {},
          "execution_count": 81
        }
      ]
    },
    {
      "cell_type": "markdown",
      "source": [],
      "metadata": {
        "id": "n8OVEu4umYKP"
      }
    },
    {
      "cell_type": "markdown",
      "source": [
        "##### Symbolic summary of this method"
      ],
      "metadata": {
        "id": "bZFwOAfllmOu"
      }
    },
    {
      "cell_type": "code",
      "source": [
        "x, y, z = sp.symbols('x y z')\n",
        "m_11, m_12, m_13 = sp.symbols('m_11 m_12 m_13')\n",
        "m_21, m_22, m_23 = sp.symbols('m_21 m_22 m_23')\n",
        "m_31, m_32, m_33 = sp.symbols('m_31 m_32 m_33')\n",
        "k_1, k_2, k_3 = sp.symbols('k_1 k_2 k_3')"
      ],
      "metadata": {
        "id": "VAh_XwmclsAP"
      },
      "execution_count": 82,
      "outputs": []
    },
    {
      "cell_type": "code",
      "source": [
        "V = sp.Matrix([[x], [y], [z]])\n",
        "V"
      ],
      "metadata": {
        "colab": {
          "base_uri": "https://localhost:8080/",
          "height": 0
        },
        "id": "E3ch8LT6lzxG",
        "outputId": "3419ba0a-f938-4746-e23f-b37f304701ef"
      },
      "execution_count": 83,
      "outputs": [
        {
          "output_type": "execute_result",
          "data": {
            "text/plain": [
              "Matrix([\n",
              "[x],\n",
              "[y],\n",
              "[z]])"
            ],
            "text/latex": "$\\displaystyle \\left[\\begin{matrix}x\\\\y\\\\z\\end{matrix}\\right]$"
          },
          "metadata": {},
          "execution_count": 83
        }
      ]
    },
    {
      "cell_type": "code",
      "source": [
        "M = sp.Matrix([[m_11, m_12, m_13],\n",
        "               [m_21, m_22, m_23],\n",
        "               [m_31, m_32, m_33]])\n",
        "M"
      ],
      "metadata": {
        "colab": {
          "base_uri": "https://localhost:8080/",
          "height": 0
        },
        "id": "SbOEZnoamD8f",
        "outputId": "c0dda5c2-ab08-4206-b2e6-f6e85a249741"
      },
      "execution_count": 84,
      "outputs": [
        {
          "output_type": "execute_result",
          "data": {
            "text/plain": [
              "Matrix([\n",
              "[m_11, m_12, m_13],\n",
              "[m_21, m_22, m_23],\n",
              "[m_31, m_32, m_33]])"
            ],
            "text/latex": "$\\displaystyle \\left[\\begin{matrix}m_{11} & m_{12} & m_{13}\\\\m_{21} & m_{22} & m_{23}\\\\m_{31} & m_{32} & m_{33}\\end{matrix}\\right]$"
          },
          "metadata": {},
          "execution_count": 84
        }
      ]
    },
    {
      "cell_type": "code",
      "source": [
        "K = sp.Matrix([[k_1], [k_2], [k_3]])\n",
        "K"
      ],
      "metadata": {
        "colab": {
          "base_uri": "https://localhost:8080/",
          "height": 0
        },
        "id": "EJtmC5q-nTD-",
        "outputId": "0c6fac03-7a4d-4902-8043-6ee40d24e220"
      },
      "execution_count": 85,
      "outputs": [
        {
          "output_type": "execute_result",
          "data": {
            "text/plain": [
              "Matrix([\n",
              "[k_1],\n",
              "[k_2],\n",
              "[k_3]])"
            ],
            "text/latex": "$\\displaystyle \\left[\\begin{matrix}k_{1}\\\\k_{2}\\\\k_{3}\\end{matrix}\\right]$"
          },
          "metadata": {},
          "execution_count": 85
        }
      ]
    },
    {
      "cell_type": "code",
      "source": [
        "sp.Eq(M * V, K)"
      ],
      "metadata": {
        "colab": {
          "base_uri": "https://localhost:8080/",
          "height": 0
        },
        "id": "1_cd0ya9oOTZ",
        "outputId": "b7225bb8-44b9-4637-8dba-114a83cf8634"
      },
      "execution_count": 86,
      "outputs": [
        {
          "output_type": "execute_result",
          "data": {
            "text/plain": [
              "Eq(Matrix([\n",
              "[m_11*x + m_12*y + m_13*z],\n",
              "[m_21*x + m_22*y + m_23*z],\n",
              "[m_31*x + m_32*y + m_33*z]]), Matrix([\n",
              "[k_1],\n",
              "[k_2],\n",
              "[k_3]]))"
            ],
            "text/latex": "$\\displaystyle \\left[\\begin{matrix}m_{11} x + m_{12} y + m_{13} z\\\\m_{21} x + m_{22} y + m_{23} z\\\\m_{31} x + m_{32} y + m_{33} z\\end{matrix}\\right] = \\left[\\begin{matrix}k_{1}\\\\k_{2}\\\\k_{3}\\end{matrix}\\right]$"
          },
          "metadata": {},
          "execution_count": 86
        }
      ]
    },
    {
      "cell_type": "code",
      "source": [
        "sp.Eq(V, M**-1 * K)"
      ],
      "metadata": {
        "colab": {
          "base_uri": "https://localhost:8080/",
          "height": 0
        },
        "id": "7M9KC1EvnlJh",
        "outputId": "02e1251d-f856-4778-b16e-1a79f5500b52"
      },
      "execution_count": 87,
      "outputs": [
        {
          "output_type": "execute_result",
          "data": {
            "text/plain": [
              "Eq(Matrix([\n",
              "[x],\n",
              "[y],\n",
              "[z]]), Matrix([\n",
              "[ k_1*(m_22*m_33 - m_23*m_32)/(m_11*m_22*m_33 - m_11*m_23*m_32 - m_12*m_21*m_33 + m_12*m_23*m_31 + m_13*m_21*m_32 - m_13*m_22*m_31) + k_2*(-m_12*m_33 + m_13*m_32)/(m_11*m_22*m_33 - m_11*m_23*m_32 - m_12*m_21*m_33 + m_12*m_23*m_31 + m_13*m_21*m_32 - m_13*m_22*m_31) + k_3*(m_12*m_23 - m_13*m_22)/(m_11*m_22*m_33 - m_11*m_23*m_32 - m_12*m_21*m_33 + m_12*m_23*m_31 + m_13*m_21*m_32 - m_13*m_22*m_31)],\n",
              "[k_1*(-m_21*m_33 + m_23*m_31)/(m_11*m_22*m_33 - m_11*m_23*m_32 - m_12*m_21*m_33 + m_12*m_23*m_31 + m_13*m_21*m_32 - m_13*m_22*m_31) + k_2*(m_11*m_33 - m_13*m_31)/(m_11*m_22*m_33 - m_11*m_23*m_32 - m_12*m_21*m_33 + m_12*m_23*m_31 + m_13*m_21*m_32 - m_13*m_22*m_31) + k_3*(-m_11*m_23 + m_13*m_21)/(m_11*m_22*m_33 - m_11*m_23*m_32 - m_12*m_21*m_33 + m_12*m_23*m_31 + m_13*m_21*m_32 - m_13*m_22*m_31)],\n",
              "[ k_1*(m_21*m_32 - m_22*m_31)/(m_11*m_22*m_33 - m_11*m_23*m_32 - m_12*m_21*m_33 + m_12*m_23*m_31 + m_13*m_21*m_32 - m_13*m_22*m_31) + k_2*(-m_11*m_32 + m_12*m_31)/(m_11*m_22*m_33 - m_11*m_23*m_32 - m_12*m_21*m_33 + m_12*m_23*m_31 + m_13*m_21*m_32 - m_13*m_22*m_31) + k_3*(m_11*m_22 - m_12*m_21)/(m_11*m_22*m_33 - m_11*m_23*m_32 - m_12*m_21*m_33 + m_12*m_23*m_31 + m_13*m_21*m_32 - m_13*m_22*m_31)]]))"
            ],
            "text/latex": "$\\displaystyle \\left[\\begin{matrix}x\\\\y\\\\z\\end{matrix}\\right] = \\left[\\begin{matrix}\\frac{k_{1} \\left(m_{22} m_{33} - m_{23} m_{32}\\right)}{m_{11} m_{22} m_{33} - m_{11} m_{23} m_{32} - m_{12} m_{21} m_{33} + m_{12} m_{23} m_{31} + m_{13} m_{21} m_{32} - m_{13} m_{22} m_{31}} + \\frac{k_{2} \\left(- m_{12} m_{33} + m_{13} m_{32}\\right)}{m_{11} m_{22} m_{33} - m_{11} m_{23} m_{32} - m_{12} m_{21} m_{33} + m_{12} m_{23} m_{31} + m_{13} m_{21} m_{32} - m_{13} m_{22} m_{31}} + \\frac{k_{3} \\left(m_{12} m_{23} - m_{13} m_{22}\\right)}{m_{11} m_{22} m_{33} - m_{11} m_{23} m_{32} - m_{12} m_{21} m_{33} + m_{12} m_{23} m_{31} + m_{13} m_{21} m_{32} - m_{13} m_{22} m_{31}}\\\\\\frac{k_{1} \\left(- m_{21} m_{33} + m_{23} m_{31}\\right)}{m_{11} m_{22} m_{33} - m_{11} m_{23} m_{32} - m_{12} m_{21} m_{33} + m_{12} m_{23} m_{31} + m_{13} m_{21} m_{32} - m_{13} m_{22} m_{31}} + \\frac{k_{2} \\left(m_{11} m_{33} - m_{13} m_{31}\\right)}{m_{11} m_{22} m_{33} - m_{11} m_{23} m_{32} - m_{12} m_{21} m_{33} + m_{12} m_{23} m_{31} + m_{13} m_{21} m_{32} - m_{13} m_{22} m_{31}} + \\frac{k_{3} \\left(- m_{11} m_{23} + m_{13} m_{21}\\right)}{m_{11} m_{22} m_{33} - m_{11} m_{23} m_{32} - m_{12} m_{21} m_{33} + m_{12} m_{23} m_{31} + m_{13} m_{21} m_{32} - m_{13} m_{22} m_{31}}\\\\\\frac{k_{1} \\left(m_{21} m_{32} - m_{22} m_{31}\\right)}{m_{11} m_{22} m_{33} - m_{11} m_{23} m_{32} - m_{12} m_{21} m_{33} + m_{12} m_{23} m_{31} + m_{13} m_{21} m_{32} - m_{13} m_{22} m_{31}} + \\frac{k_{2} \\left(- m_{11} m_{32} + m_{12} m_{31}\\right)}{m_{11} m_{22} m_{33} - m_{11} m_{23} m_{32} - m_{12} m_{21} m_{33} + m_{12} m_{23} m_{31} + m_{13} m_{21} m_{32} - m_{13} m_{22} m_{31}} + \\frac{k_{3} \\left(m_{11} m_{22} - m_{12} m_{21}\\right)}{m_{11} m_{22} m_{33} - m_{11} m_{23} m_{32} - m_{12} m_{21} m_{33} + m_{12} m_{23} m_{31} + m_{13} m_{21} m_{32} - m_{13} m_{22} m_{31}}\\end{matrix}\\right]$"
          },
          "metadata": {},
          "execution_count": 87
        }
      ]
    },
    {
      "cell_type": "markdown",
      "source": [
        "#### Solve Using Reduced Row Echelon Form (SymPy solution only)"
      ],
      "metadata": {
        "id": "H0MD4oUbo4gl"
      }
    },
    {
      "cell_type": "code",
      "source": [
        "# the augmented matrix\n",
        "A = sp.Matrix([[4, 3, 2, 25],\n",
        "               [-2, 2, 3, -10],\n",
        "               [3, -5, 2, -4]])\n",
        "A"
      ],
      "metadata": {
        "colab": {
          "base_uri": "https://localhost:8080/",
          "height": 78
        },
        "id": "6Mf5Y0mupAGg",
        "outputId": "fa7526d5-c324-414b-8274-5bd056f3731e"
      },
      "execution_count": 88,
      "outputs": [
        {
          "output_type": "execute_result",
          "data": {
            "text/plain": [
              "Matrix([\n",
              "[ 4,  3, 2,  25],\n",
              "[-2,  2, 3, -10],\n",
              "[ 3, -5, 2,  -4]])"
            ],
            "text/latex": "$\\displaystyle \\left[\\begin{matrix}4 & 3 & 2 & 25\\\\-2 & 2 & 3 & -10\\\\3 & -5 & 2 & -4\\end{matrix}\\right]$"
          },
          "metadata": {},
          "execution_count": 88
        }
      ]
    },
    {
      "cell_type": "code",
      "source": [
        "A.rref(pivots=False)"
      ],
      "metadata": {
        "colab": {
          "base_uri": "https://localhost:8080/",
          "height": 78
        },
        "id": "nV3DtuUkqScw",
        "outputId": "dc77c93f-a13b-4f60-adb4-256eea2f9de8"
      },
      "execution_count": 89,
      "outputs": [
        {
          "output_type": "execute_result",
          "data": {
            "text/plain": [
              "Matrix([\n",
              "[1, 0, 0,  5],\n",
              "[0, 1, 0,  3],\n",
              "[0, 0, 1, -2]])"
            ],
            "text/latex": "$\\displaystyle \\left[\\begin{matrix}1 & 0 & 0 & 5\\\\0 & 1 & 0 & 3\\\\0 & 0 & 1 & -2\\end{matrix}\\right]$"
          },
          "metadata": {},
          "execution_count": 89
        }
      ]
    },
    {
      "cell_type": "markdown",
      "source": [
        "#### Solve Using `sympy.linsolve()` (3 methods)"
      ],
      "metadata": {
        "id": "f2DKjLl8rhbt"
      }
    },
    {
      "cell_type": "markdown",
      "source": [
        "##### Method 1 - List of Equations Form"
      ],
      "metadata": {
        "id": "kl4WK55Bt897"
      }
    },
    {
      "cell_type": "code",
      "source": [
        "# note the change in sign of the values from \n",
        "# the column matrix\n",
        "system = [4 * x + 3 * y + 2 * z - 25,\n",
        "          -2 * x + 2 * y + 3 * z + 10,\n",
        "          3 * x - 5 * y + 2 * z + 4]\n",
        "system"
      ],
      "metadata": {
        "colab": {
          "base_uri": "https://localhost:8080/"
        },
        "id": "xUTvCGTxrqvB",
        "outputId": "4dcf062a-9d85-43ad-edba-fec4fb42dea2"
      },
      "execution_count": 90,
      "outputs": [
        {
          "output_type": "execute_result",
          "data": {
            "text/plain": [
              "[4*x + 3*y + 2*z - 25, -2*x + 2*y + 3*z + 10, 3*x - 5*y + 2*z + 4]"
            ]
          },
          "metadata": {},
          "execution_count": 90
        }
      ]
    },
    {
      "cell_type": "code",
      "source": [
        "sp.linsolve(system, (x, y, z))"
      ],
      "metadata": {
        "colab": {
          "base_uri": "https://localhost:8080/",
          "height": 37
        },
        "id": "f_HABQgKtG_G",
        "outputId": "b4b7134f-17fb-41f3-cc71-57cf4b6f56c1"
      },
      "execution_count": 91,
      "outputs": [
        {
          "output_type": "execute_result",
          "data": {
            "text/plain": [
              "FiniteSet((5, 3, -2))"
            ],
            "text/latex": "$\\displaystyle \\left\\{\\left( 5, \\  3, \\  -2\\right)\\right\\}$"
          },
          "metadata": {},
          "execution_count": 91
        }
      ]
    },
    {
      "cell_type": "markdown",
      "source": [
        "##### Method 2 - Augmented Matrix Form"
      ],
      "metadata": {
        "id": "f3-DW2BVubux"
      }
    },
    {
      "cell_type": "code",
      "source": [
        "A"
      ],
      "metadata": {
        "colab": {
          "base_uri": "https://localhost:8080/",
          "height": 78
        },
        "id": "7nFrg4imuo1U",
        "outputId": "9389631b-5ad7-4dc5-c752-798bee7877d8"
      },
      "execution_count": 92,
      "outputs": [
        {
          "output_type": "execute_result",
          "data": {
            "text/plain": [
              "Matrix([\n",
              "[ 4,  3, 2,  25],\n",
              "[-2,  2, 3, -10],\n",
              "[ 3, -5, 2,  -4]])"
            ],
            "text/latex": "$\\displaystyle \\left[\\begin{matrix}4 & 3 & 2 & 25\\\\-2 & 2 & 3 & -10\\\\3 & -5 & 2 & -4\\end{matrix}\\right]$"
          },
          "metadata": {},
          "execution_count": 92
        }
      ]
    },
    {
      "cell_type": "code",
      "source": [
        "sp.linsolve(A, (x, y, z))"
      ],
      "metadata": {
        "colab": {
          "base_uri": "https://localhost:8080/",
          "height": 37
        },
        "id": "0bI9VdFruruH",
        "outputId": "5b4aa959-1915-482c-c548-5ad8ea38d899"
      },
      "execution_count": 93,
      "outputs": [
        {
          "output_type": "execute_result",
          "data": {
            "text/plain": [
              "FiniteSet((5, 3, -2))"
            ],
            "text/latex": "$\\displaystyle \\left\\{\\left( 5, \\  3, \\  -2\\right)\\right\\}$"
          },
          "metadata": {},
          "execution_count": 93
        }
      ]
    },
    {
      "cell_type": "markdown",
      "source": [
        "##### Method 3 - $A*x=b$ Form"
      ],
      "metadata": {
        "id": "uQTSrGVxuzm0"
      }
    },
    {
      "cell_type": "code",
      "source": [
        "A = sp_M\n",
        "A"
      ],
      "metadata": {
        "colab": {
          "base_uri": "https://localhost:8080/",
          "height": 78
        },
        "id": "7G1oVLTiu8ur",
        "outputId": "0e7bc71a-c36c-4f39-b155-56e4022617c5"
      },
      "execution_count": 94,
      "outputs": [
        {
          "output_type": "execute_result",
          "data": {
            "text/plain": [
              "Matrix([\n",
              "[ 4,  3, 2],\n",
              "[-2,  2, 3],\n",
              "[ 3, -5, 2]])"
            ],
            "text/latex": "$\\displaystyle \\left[\\begin{matrix}4 & 3 & 2\\\\-2 & 2 & 3\\\\3 & -5 & 2\\end{matrix}\\right]$"
          },
          "metadata": {},
          "execution_count": 94
        }
      ]
    },
    {
      "cell_type": "code",
      "source": [
        "b = sp_K\n",
        "b"
      ],
      "metadata": {
        "colab": {
          "base_uri": "https://localhost:8080/",
          "height": 78
        },
        "id": "mDT-0pbdvAQ-",
        "outputId": "31cf0cb6-1c67-44d5-e8df-f5d2c1cdc60c"
      },
      "execution_count": 95,
      "outputs": [
        {
          "output_type": "execute_result",
          "data": {
            "text/plain": [
              "Matrix([\n",
              "[ 25],\n",
              "[-10],\n",
              "[ -4]])"
            ],
            "text/latex": "$\\displaystyle \\left[\\begin{matrix}25\\\\-10\\\\-4\\end{matrix}\\right]$"
          },
          "metadata": {},
          "execution_count": 95
        }
      ]
    },
    {
      "cell_type": "code",
      "source": [
        "sp.linsolve((A, b), x, y, z)"
      ],
      "metadata": {
        "colab": {
          "base_uri": "https://localhost:8080/",
          "height": 37
        },
        "id": "Y5PMIhKPveRb",
        "outputId": "79198bb6-ba39-4c2c-f66e-38b76dc2beac"
      },
      "execution_count": 96,
      "outputs": [
        {
          "output_type": "execute_result",
          "data": {
            "text/plain": [
              "FiniteSet((5, 3, -2))"
            ],
            "text/latex": "$\\displaystyle \\left\\{\\left( 5, \\  3, \\  -2\\right)\\right\\}$"
          },
          "metadata": {},
          "execution_count": 96
        }
      ]
    },
    {
      "cell_type": "markdown",
      "source": [
        "#### Solve Using `np.linalg.solve()`"
      ],
      "metadata": {
        "id": "j-8vQWIuxpJJ"
      }
    },
    {
      "cell_type": "code",
      "source": [
        "M = np.array([[4, 3, 2],\n",
        "              [-2, 2, 3],\n",
        "              [3, -5, 2]])\n",
        "M"
      ],
      "metadata": {
        "colab": {
          "base_uri": "https://localhost:8080/"
        },
        "id": "pLke6fxTziN4",
        "outputId": "95f0e98e-6760-45f8-e321-233d9d768dbc"
      },
      "execution_count": 97,
      "outputs": [
        {
          "output_type": "execute_result",
          "data": {
            "text/plain": [
              "array([[ 4,  3,  2],\n",
              "       [-2,  2,  3],\n",
              "       [ 3, -5,  2]])"
            ]
          },
          "metadata": {},
          "execution_count": 97
        }
      ]
    },
    {
      "cell_type": "code",
      "source": [
        "K = np.array([[25],\n",
        "              [-10],\n",
        "              [-4]])\n",
        "K"
      ],
      "metadata": {
        "colab": {
          "base_uri": "https://localhost:8080/"
        },
        "id": "DlXkkcim4Bvv",
        "outputId": "18458261-787f-4aa1-b364-0385eeef9cbb"
      },
      "execution_count": 98,
      "outputs": [
        {
          "output_type": "execute_result",
          "data": {
            "text/plain": [
              "array([[ 25],\n",
              "       [-10],\n",
              "       [ -4]])"
            ]
          },
          "metadata": {},
          "execution_count": 98
        }
      ]
    },
    {
      "cell_type": "code",
      "source": [
        "np.linalg.solve(M, K)"
      ],
      "metadata": {
        "colab": {
          "base_uri": "https://localhost:8080/"
        },
        "id": "zJR0kEh54Ot8",
        "outputId": "28fde6ea-dc30-4013-a2ef-b2b22cb945ae"
      },
      "execution_count": 99,
      "outputs": [
        {
          "output_type": "execute_result",
          "data": {
            "text/plain": [
              "array([[ 5.],\n",
              "       [ 3.],\n",
              "       [-2.]])"
            ]
          },
          "metadata": {},
          "execution_count": 99
        }
      ]
    },
    {
      "cell_type": "markdown",
      "source": [
        "## 1.2.1.4 Supplemental Reading - [Linear Algebra](https://patrickwalls.github.io/mathematicalpython/linear-algebra/linear-algebra-scipy/)"
      ],
      "metadata": {
        "id": "c32PJROu5ch-"
      }
    },
    {
      "cell_type": "markdown",
      "source": [
        "### Linear Algebra with SciPy"
      ],
      "metadata": {
        "id": "oJXxpL8BB1yd"
      }
    },
    {
      "cell_type": "code",
      "source": [
        "import scipy.linalg as la"
      ],
      "metadata": {
        "id": "r1Jmfq9B6GWT"
      },
      "execution_count": 100,
      "outputs": []
    },
    {
      "cell_type": "markdown",
      "source": [
        "#### Numpy Arrays: 1D, 2D and 3D"
      ],
      "metadata": {
        "id": "qbtzc22E8Lt2"
      }
    },
    {
      "cell_type": "markdown",
      "source": [
        "##### 1D"
      ],
      "metadata": {
        "id": "k--Ib6tC8n5o"
      }
    },
    {
      "cell_type": "code",
      "source": [
        "a = np.array([1, 3, -2, 1])\n",
        "a"
      ],
      "metadata": {
        "colab": {
          "base_uri": "https://localhost:8080/"
        },
        "id": "9Jqs45Qf8XQH",
        "outputId": "07f7ae10-f225-4c3c-9d54-33308ca07f7f"
      },
      "execution_count": 101,
      "outputs": [
        {
          "output_type": "execute_result",
          "data": {
            "text/plain": [
              "array([ 1,  3, -2,  1])"
            ]
          },
          "metadata": {},
          "execution_count": 101
        }
      ]
    },
    {
      "cell_type": "code",
      "source": [
        "a.ndim, a.shape, a.size"
      ],
      "metadata": {
        "colab": {
          "base_uri": "https://localhost:8080/"
        },
        "id": "PcD2atsa8bID",
        "outputId": "553ea471-e59c-4115-ce5b-b44aa9d4e212"
      },
      "execution_count": 102,
      "outputs": [
        {
          "output_type": "execute_result",
          "data": {
            "text/plain": [
              "(1, (4,), 4)"
            ]
          },
          "metadata": {},
          "execution_count": 102
        }
      ]
    },
    {
      "cell_type": "markdown",
      "source": [
        "##### 2D"
      ],
      "metadata": {
        "id": "tx8hefuJ83gb"
      }
    },
    {
      "cell_type": "code",
      "source": [
        "M = np.array([[1, 2],\n",
        "              [3, 7],\n",
        "              [-1, 5]])\n",
        "M"
      ],
      "metadata": {
        "colab": {
          "base_uri": "https://localhost:8080/"
        },
        "id": "EPLdhjTD84rb",
        "outputId": "aeffc9a8-7b7b-46d3-db05-3aedc32e9048"
      },
      "execution_count": 103,
      "outputs": [
        {
          "output_type": "execute_result",
          "data": {
            "text/plain": [
              "array([[ 1,  2],\n",
              "       [ 3,  7],\n",
              "       [-1,  5]])"
            ]
          },
          "metadata": {},
          "execution_count": 103
        }
      ]
    },
    {
      "cell_type": "code",
      "source": [
        "M.ndim, M.shape, M.size"
      ],
      "metadata": {
        "colab": {
          "base_uri": "https://localhost:8080/"
        },
        "id": "O9qsNEHF8_Gx",
        "outputId": "96481692-49e5-4fe1-a12e-f5faeb677ae8"
      },
      "execution_count": 104,
      "outputs": [
        {
          "output_type": "execute_result",
          "data": {
            "text/plain": [
              "(2, (3, 2), 6)"
            ]
          },
          "metadata": {},
          "execution_count": 104
        }
      ]
    },
    {
      "cell_type": "code",
      "source": [
        "M_column = M[:, 1]\n",
        "print(M_column)"
      ],
      "metadata": {
        "colab": {
          "base_uri": "https://localhost:8080/"
        },
        "id": "vVyvoP2VA8Ik",
        "outputId": "52043769-72cc-4f43-8020-2ff017e1c354"
      },
      "execution_count": 105,
      "outputs": [
        {
          "output_type": "stream",
          "name": "stdout",
          "text": [
            "[2 7 5]\n"
          ]
        }
      ]
    },
    {
      "cell_type": "code",
      "source": [
        "M_column.ndim, M_column.shape, M_column.size"
      ],
      "metadata": {
        "colab": {
          "base_uri": "https://localhost:8080/"
        },
        "id": "0F68alVzBEdU",
        "outputId": "c6be37ad-e41e-4534-9ec1-1e0cd6a683dd"
      },
      "execution_count": 106,
      "outputs": [
        {
          "output_type": "execute_result",
          "data": {
            "text/plain": [
              "(1, (3,), 3)"
            ]
          },
          "metadata": {},
          "execution_count": 106
        }
      ]
    },
    {
      "cell_type": "code",
      "source": [
        "M_column = M_column.reshape(3, 1)"
      ],
      "metadata": {
        "id": "5R38Tpi5BRyb"
      },
      "execution_count": 107,
      "outputs": []
    },
    {
      "cell_type": "code",
      "source": [
        "M_column"
      ],
      "metadata": {
        "colab": {
          "base_uri": "https://localhost:8080/"
        },
        "id": "Wjo58mTkBcKU",
        "outputId": "1659fc97-0466-4b9d-dbf4-98272e4a5101"
      },
      "execution_count": 108,
      "outputs": [
        {
          "output_type": "execute_result",
          "data": {
            "text/plain": [
              "array([[2],\n",
              "       [7],\n",
              "       [5]])"
            ]
          },
          "metadata": {},
          "execution_count": 108
        }
      ]
    },
    {
      "cell_type": "code",
      "source": [
        "M_column.ndim, M_column.shape, M_column.size"
      ],
      "metadata": {
        "colab": {
          "base_uri": "https://localhost:8080/"
        },
        "id": "tRId5b5WBf3m",
        "outputId": "6e8fc818-4f63-4db9-bb35-d1ca7c18911e"
      },
      "execution_count": 109,
      "outputs": [
        {
          "output_type": "execute_result",
          "data": {
            "text/plain": [
              "(2, (3, 1), 3)"
            ]
          },
          "metadata": {},
          "execution_count": 109
        }
      ]
    },
    {
      "cell_type": "markdown",
      "source": [
        "##### 3D"
      ],
      "metadata": {
        "id": "kVvHEv5rCHkO"
      }
    },
    {
      "cell_type": "code",
      "source": [
        "M = np.array([[[1, 2, 100], \n",
        "               [3, 4, 100]],\n",
        "              \n",
        "              [[5, 6, 100], \n",
        "               [7, 8, 100]],\n",
        "              \n",
        "              [[9, 10, 100], \n",
        "               [11, 12, 100]],\n",
        "              \n",
        "              [[13, 14, 100],\n",
        "               [15, 16, 100]]])\n",
        "M"
      ],
      "metadata": {
        "colab": {
          "base_uri": "https://localhost:8080/"
        },
        "id": "BW_B60mOCLOS",
        "outputId": "96634439-4cbe-462a-f7b9-d9e18d89a6fe"
      },
      "execution_count": 110,
      "outputs": [
        {
          "output_type": "execute_result",
          "data": {
            "text/plain": [
              "array([[[  1,   2, 100],\n",
              "        [  3,   4, 100]],\n",
              "\n",
              "       [[  5,   6, 100],\n",
              "        [  7,   8, 100]],\n",
              "\n",
              "       [[  9,  10, 100],\n",
              "        [ 11,  12, 100]],\n",
              "\n",
              "       [[ 13,  14, 100],\n",
              "        [ 15,  16, 100]]])"
            ]
          },
          "metadata": {},
          "execution_count": 110
        }
      ]
    },
    {
      "cell_type": "code",
      "source": [
        "M.ndim, M.shape, M.size"
      ],
      "metadata": {
        "colab": {
          "base_uri": "https://localhost:8080/"
        },
        "id": "snlYEG9TCmJX",
        "outputId": "0fd48ac5-e56e-4050-bb88-2f1b59c72aeb"
      },
      "execution_count": 111,
      "outputs": [
        {
          "output_type": "execute_result",
          "data": {
            "text/plain": [
              "(3, (4, 2, 3), 24)"
            ]
          },
          "metadata": {},
          "execution_count": 111
        }
      ]
    },
    {
      "cell_type": "markdown",
      "source": [
        "#### Matrix Operations and Functions"
      ],
      "metadata": {
        "id": "j1EsA4I1DISo"
      }
    },
    {
      "cell_type": "markdown",
      "source": [
        "##### Arithmetic Operations\n",
        "\n",
        "Arithmetic array operators: `+`, `-`, `/`, `*`, and `**` are performed elementwise on NumPy arrays"
      ],
      "metadata": {
        "id": "lx1tdlbPEOWP"
      }
    },
    {
      "cell_type": "code",
      "source": [
        "M = np.array([[3, 4],\n",
        "              [-1, 5]])\n",
        "M"
      ],
      "metadata": {
        "colab": {
          "base_uri": "https://localhost:8080/"
        },
        "id": "RZSt4SJgEve3",
        "outputId": "dd25cac6-ef92-4097-b967-5a832781531b"
      },
      "execution_count": 112,
      "outputs": [
        {
          "output_type": "execute_result",
          "data": {
            "text/plain": [
              "array([[ 3,  4],\n",
              "       [-1,  5]])"
            ]
          },
          "metadata": {},
          "execution_count": 112
        }
      ]
    },
    {
      "cell_type": "code",
      "source": [
        "M + M"
      ],
      "metadata": {
        "colab": {
          "base_uri": "https://localhost:8080/"
        },
        "id": "eR8O3YJ3E1Ht",
        "outputId": "1f18c413-5e63-4584-abf3-793f862b6cc5"
      },
      "execution_count": 113,
      "outputs": [
        {
          "output_type": "execute_result",
          "data": {
            "text/plain": [
              "array([[ 6,  8],\n",
              "       [-2, 10]])"
            ]
          },
          "metadata": {},
          "execution_count": 113
        }
      ]
    },
    {
      "cell_type": "code",
      "source": [
        "M * M"
      ],
      "metadata": {
        "colab": {
          "base_uri": "https://localhost:8080/"
        },
        "id": "1RtUbKFfE32N",
        "outputId": "2dac7ed1-2f58-44ee-db1b-d2d47162aa65"
      },
      "execution_count": 114,
      "outputs": [
        {
          "output_type": "execute_result",
          "data": {
            "text/plain": [
              "array([[ 9, 16],\n",
              "       [ 1, 25]])"
            ]
          },
          "metadata": {},
          "execution_count": 114
        }
      ]
    },
    {
      "cell_type": "code",
      "source": [
        "M / M"
      ],
      "metadata": {
        "colab": {
          "base_uri": "https://localhost:8080/"
        },
        "id": "G6HR91ZlE6t4",
        "outputId": "31746be2-af6c-47b1-9dc5-662c3e206c8e"
      },
      "execution_count": 115,
      "outputs": [
        {
          "output_type": "execute_result",
          "data": {
            "text/plain": [
              "array([[1., 1.],\n",
              "       [1., 1.]])"
            ]
          },
          "metadata": {},
          "execution_count": 115
        }
      ]
    },
    {
      "cell_type": "code",
      "source": [
        "M**3"
      ],
      "metadata": {
        "colab": {
          "base_uri": "https://localhost:8080/"
        },
        "id": "zC66p-QjE8pG",
        "outputId": "3d0ef270-097b-4d48-949e-25c3a107db75"
      },
      "execution_count": 116,
      "outputs": [
        {
          "output_type": "execute_result",
          "data": {
            "text/plain": [
              "array([[ 27,  64],\n",
              "       [ -1, 125]])"
            ]
          },
          "metadata": {},
          "execution_count": 116
        }
      ]
    },
    {
      "cell_type": "markdown",
      "source": [
        "##### Matrix Multiplication"
      ],
      "metadata": {
        "id": "KAFtDkKxFJLr"
      }
    },
    {
      "cell_type": "code",
      "source": [
        "M @ M"
      ],
      "metadata": {
        "colab": {
          "base_uri": "https://localhost:8080/"
        },
        "id": "JFb3kHWrH4m_",
        "outputId": "44f010ec-ce65-4e21-c5fa-3b0819c1e429"
      },
      "execution_count": 117,
      "outputs": [
        {
          "output_type": "execute_result",
          "data": {
            "text/plain": [
              "array([[ 5, 32],\n",
              "       [-8, 21]])"
            ]
          },
          "metadata": {},
          "execution_count": 117
        }
      ]
    },
    {
      "cell_type": "code",
      "source": [
        "M.dot(M)"
      ],
      "metadata": {
        "colab": {
          "base_uri": "https://localhost:8080/"
        },
        "id": "i_1sa23jH8uJ",
        "outputId": "a8b75835-5811-46ed-8bea-ff9eaca49cdf"
      },
      "execution_count": 118,
      "outputs": [
        {
          "output_type": "execute_result",
          "data": {
            "text/plain": [
              "array([[ 5, 32],\n",
              "       [-8, 21]])"
            ]
          },
          "metadata": {},
          "execution_count": 118
        }
      ]
    },
    {
      "cell_type": "markdown",
      "source": [
        "###### Example\n",
        "\n",
        "Compute $2I + 3A - AB$ for\n",
        "\n",
        "$A = \\left[\\begin{matrix}1 & 3\\\\-1 & 7\\end{matrix}\\right]$\n",
        "\n",
        "$B = \\left[\\begin{matrix}5 & 2\\\\1 & 2\\end{matrix}\\right]$"
      ],
      "metadata": {
        "id": "Q7-9Uw0jIEt9"
      }
    },
    {
      "cell_type": "code",
      "source": [
        "A = np.array([[1, 3],\n",
        "              [-1, 7]])\n",
        "B = np.array([[5, 2],\n",
        "              [1, 2]])\n",
        "I = np.eye(2)"
      ],
      "metadata": {
        "id": "CXZgBNAaIRmm"
      },
      "execution_count": 119,
      "outputs": []
    },
    {
      "cell_type": "code",
      "source": [
        "2 * I + 3 * A - A @ B"
      ],
      "metadata": {
        "colab": {
          "base_uri": "https://localhost:8080/"
        },
        "id": "MXmTgotoJKvm",
        "outputId": "95e61342-7612-426a-b59d-cf2e30a606fc"
      },
      "execution_count": 120,
      "outputs": [
        {
          "output_type": "execute_result",
          "data": {
            "text/plain": [
              "array([[-3.,  1.],\n",
              "       [-5., 11.]])"
            ]
          },
          "metadata": {},
          "execution_count": 120
        }
      ]
    },
    {
      "cell_type": "markdown",
      "source": [
        "##### Matrix Powers - `np.linalg.matrix_power()`"
      ],
      "metadata": {
        "id": "t0QghoORLRsD"
      }
    },
    {
      "cell_type": "code",
      "source": [
        "M"
      ],
      "metadata": {
        "colab": {
          "base_uri": "https://localhost:8080/"
        },
        "id": "pfYw5qECM-mT",
        "outputId": "45b1520d-4021-4e9e-9473-c5207b1b75dc"
      },
      "execution_count": 121,
      "outputs": [
        {
          "output_type": "execute_result",
          "data": {
            "text/plain": [
              "array([[ 3,  4],\n",
              "       [-1,  5]])"
            ]
          },
          "metadata": {},
          "execution_count": 121
        }
      ]
    },
    {
      "cell_type": "code",
      "source": [
        "np.linalg.matrix_power(M, 3)"
      ],
      "metadata": {
        "colab": {
          "base_uri": "https://localhost:8080/"
        },
        "id": "C1l7-b-9NCoN",
        "outputId": "eac36877-b050-4874-f26b-e86b31d32a47"
      },
      "execution_count": 122,
      "outputs": [
        {
          "output_type": "execute_result",
          "data": {
            "text/plain": [
              "array([[-17, 180],\n",
              "       [-45,  73]])"
            ]
          },
          "metadata": {},
          "execution_count": 122
        }
      ]
    },
    {
      "cell_type": "code",
      "source": [
        "M @ M @ M"
      ],
      "metadata": {
        "colab": {
          "base_uri": "https://localhost:8080/"
        },
        "id": "GcM_uzTGNLbH",
        "outputId": "56ac4e60-5eff-4f02-dbd0-0dbd835fddfb"
      },
      "execution_count": 123,
      "outputs": [
        {
          "output_type": "execute_result",
          "data": {
            "text/plain": [
              "array([[-17, 180],\n",
              "       [-45,  73]])"
            ]
          },
          "metadata": {},
          "execution_count": 123
        }
      ]
    },
    {
      "cell_type": "code",
      "source": [
        "M.dot(M).dot(M)"
      ],
      "metadata": {
        "colab": {
          "base_uri": "https://localhost:8080/"
        },
        "id": "dFPZ-eC-NRCP",
        "outputId": "2ad6fffc-adb7-464f-ad9c-2b61f211de01"
      },
      "execution_count": 124,
      "outputs": [
        {
          "output_type": "execute_result",
          "data": {
            "text/plain": [
              "array([[-17, 180],\n",
              "       [-45,  73]])"
            ]
          },
          "metadata": {},
          "execution_count": 124
        }
      ]
    },
    {
      "cell_type": "markdown",
      "source": [
        "##### Transpose"
      ],
      "metadata": {
        "id": "EY9T1mpONXGA"
      }
    },
    {
      "cell_type": "code",
      "source": [
        "M"
      ],
      "metadata": {
        "colab": {
          "base_uri": "https://localhost:8080/"
        },
        "id": "na0GZ8tTNwGx",
        "outputId": "1c4d2c33-a62d-49bc-cf25-ef84a2c19d73"
      },
      "execution_count": 125,
      "outputs": [
        {
          "output_type": "execute_result",
          "data": {
            "text/plain": [
              "array([[ 3,  4],\n",
              "       [-1,  5]])"
            ]
          },
          "metadata": {},
          "execution_count": 125
        }
      ]
    },
    {
      "cell_type": "code",
      "source": [
        "M.T"
      ],
      "metadata": {
        "colab": {
          "base_uri": "https://localhost:8080/"
        },
        "id": "okRoMbRYNxwo",
        "outputId": "7e485221-0e52-4592-8abb-209fdf835f6a"
      },
      "execution_count": 126,
      "outputs": [
        {
          "output_type": "execute_result",
          "data": {
            "text/plain": [
              "array([[ 3, -1],\n",
              "       [ 4,  5]])"
            ]
          },
          "metadata": {},
          "execution_count": 126
        }
      ]
    },
    {
      "cell_type": "markdown",
      "source": [
        "Notice that $MM^{T}$ is a symmetric matrix"
      ],
      "metadata": {
        "id": "5vAATds1N64F"
      }
    },
    {
      "cell_type": "code",
      "source": [
        "M @ M.T"
      ],
      "metadata": {
        "colab": {
          "base_uri": "https://localhost:8080/"
        },
        "id": "NuDtYGCdN3xs",
        "outputId": "7fbd10e4-cefc-405a-d38d-aa32b79a1ae0"
      },
      "execution_count": 127,
      "outputs": [
        {
          "output_type": "execute_result",
          "data": {
            "text/plain": [
              "array([[25, 17],\n",
              "       [17, 26]])"
            ]
          },
          "metadata": {},
          "execution_count": 127
        }
      ]
    },
    {
      "cell_type": "code",
      "source": [
        "M.T @ M"
      ],
      "metadata": {
        "colab": {
          "base_uri": "https://localhost:8080/"
        },
        "id": "7avMozIOOCo_",
        "outputId": "2be2e9ab-5f47-48b3-8995-686d4fad8a71"
      },
      "execution_count": 128,
      "outputs": [
        {
          "output_type": "execute_result",
          "data": {
            "text/plain": [
              "array([[10,  7],\n",
              "       [ 7, 41]])"
            ]
          },
          "metadata": {},
          "execution_count": 128
        }
      ]
    },
    {
      "cell_type": "markdown",
      "source": [
        "##### Inverse"
      ],
      "metadata": {
        "id": "0TojeFs1QnH8"
      }
    },
    {
      "cell_type": "code",
      "source": [
        "A = np.array([[1, 2],\n",
        "              [3, 4]])\n",
        "A"
      ],
      "metadata": {
        "colab": {
          "base_uri": "https://localhost:8080/"
        },
        "id": "sHsaZQsRQsHQ",
        "outputId": "a1a55749-881f-4591-ee4c-0f3b3cc1e831"
      },
      "execution_count": 129,
      "outputs": [
        {
          "output_type": "execute_result",
          "data": {
            "text/plain": [
              "array([[1, 2],\n",
              "       [3, 4]])"
            ]
          },
          "metadata": {},
          "execution_count": 129
        }
      ]
    },
    {
      "cell_type": "code",
      "source": [
        "np.linalg.inv(A)"
      ],
      "metadata": {
        "colab": {
          "base_uri": "https://localhost:8080/"
        },
        "id": "MjODd9RoQ1D1",
        "outputId": "b7c46518-3fd7-4274-fa7b-b88281a5cd4e"
      },
      "execution_count": 130,
      "outputs": [
        {
          "output_type": "execute_result",
          "data": {
            "text/plain": [
              "array([[-2. ,  1. ],\n",
              "       [ 1.5, -0.5]])"
            ]
          },
          "metadata": {},
          "execution_count": 130
        }
      ]
    },
    {
      "cell_type": "markdown",
      "source": [
        "##### Trace"
      ],
      "metadata": {
        "id": "mI27MHNBRQEu"
      }
    },
    {
      "cell_type": "code",
      "source": [
        "np.trace(A)"
      ],
      "metadata": {
        "colab": {
          "base_uri": "https://localhost:8080/"
        },
        "id": "0f66PmWgQ4SQ",
        "outputId": "ef3f2a94-f1a2-4ffe-ac4b-7f023fa540e4"
      },
      "execution_count": 131,
      "outputs": [
        {
          "output_type": "execute_result",
          "data": {
            "text/plain": [
              "5"
            ]
          },
          "metadata": {},
          "execution_count": 131
        }
      ]
    },
    {
      "cell_type": "markdown",
      "source": [
        "##### Determinant"
      ],
      "metadata": {
        "id": "M7RPrRT-SdMr"
      }
    },
    {
      "cell_type": "code",
      "source": [
        "# scipy\n",
        "la.det(A)"
      ],
      "metadata": {
        "colab": {
          "base_uri": "https://localhost:8080/"
        },
        "id": "za9JQmzgRlLe",
        "outputId": "04dd363e-8d35-4e77-b256-5ed87d696aa9"
      },
      "execution_count": 132,
      "outputs": [
        {
          "output_type": "execute_result",
          "data": {
            "text/plain": [
              "-2.0"
            ]
          },
          "metadata": {},
          "execution_count": 132
        }
      ]
    },
    {
      "cell_type": "code",
      "source": [
        "# numpy \n",
        "np.linalg.det(A)"
      ],
      "metadata": {
        "colab": {
          "base_uri": "https://localhost:8080/"
        },
        "id": "fYfGh_mCSwL7",
        "outputId": "3c2b7a47-c0eb-447a-a728-21610d7cdb9f"
      },
      "execution_count": 133,
      "outputs": [
        {
          "output_type": "execute_result",
          "data": {
            "text/plain": [
              "-2.0000000000000004"
            ]
          },
          "metadata": {},
          "execution_count": 133
        }
      ]
    },
    {
      "cell_type": "code",
      "source": [
        "sp_A = sp.Matrix(A)\n",
        "sp_A"
      ],
      "metadata": {
        "colab": {
          "base_uri": "https://localhost:8080/",
          "height": 58
        },
        "id": "N2eViHGdS6tX",
        "outputId": "d235c1cd-9554-4212-f8e0-e316d74b1ea1"
      },
      "execution_count": 134,
      "outputs": [
        {
          "output_type": "execute_result",
          "data": {
            "text/plain": [
              "Matrix([\n",
              "[1, 2],\n",
              "[3, 4]])"
            ],
            "text/latex": "$\\displaystyle \\left[\\begin{matrix}1 & 2\\\\3 & 4\\end{matrix}\\right]$"
          },
          "metadata": {},
          "execution_count": 134
        }
      ]
    },
    {
      "cell_type": "code",
      "source": [
        "sp_A.det(), sp.det(sp_A)"
      ],
      "metadata": {
        "colab": {
          "base_uri": "https://localhost:8080/"
        },
        "id": "-zje1VzWS-Kd",
        "outputId": "9ff0b39c-e0ae-46fc-fdd2-ea67273e3199"
      },
      "execution_count": 135,
      "outputs": [
        {
          "output_type": "execute_result",
          "data": {
            "text/plain": [
              "(-2, -2)"
            ]
          },
          "metadata": {},
          "execution_count": 135
        }
      ]
    },
    {
      "cell_type": "markdown",
      "source": [
        "### Solving Linear Systems"
      ],
      "metadata": {
        "id": "cqaDlSC_TL2_"
      }
    },
    {
      "cell_type": "markdown",
      "source": [
        "#### Linear Systems"
      ],
      "metadata": {
        "id": "rDwqPw3FTwiI"
      }
    },
    {
      "cell_type": "markdown",
      "source": [
        "A **linear system of equations** is a collection of linear equations:\n",
        "\n",
        "$\n",
        "a_{00}x_{0} + a_{01}x_{1} + \\dots + a_{0n}x_{n} = b_{0} \\\\\n",
        "a_{10}x_{0} + a_{11}x_{1} + \\dots + a_{1n}x_{n} = b_{1} \\\\\n",
        "\\vdots \\\\\n",
        "a_{m0}x_{0} + a_{m1}x_{1} + \\dots + a_{mn}x_{n} = b_{m}\n",
        "$"
      ],
      "metadata": {
        "id": "6qE7baBzT1Kv"
      }
    },
    {
      "cell_type": "markdown",
      "source": [
        "In matrix notation, a linear system is $Ax = b$ where\n",
        "\n",
        "$A = \n",
        "\\left[\n",
        "\\begin{matrix}\n",
        "a_{00} & a_{01} & \\dots & a_{0n} \\\\\n",
        "a_{10} & a_{11} & \\dots & a \\\\\n",
        "\\vdots & & & \\vdots \\\\\n",
        "a_{m0} & a_{m1} & \\dots & a_{mn}\n",
        "\\end{matrix}\n",
        "\\right] ,\n",
        "x = \n",
        "\\left[\n",
        "\\begin{matrix}\n",
        "x_{0}  \\\\\n",
        "x_{1}  \\\\\n",
        "\\vdots  \\\\\n",
        "x_{n}  \n",
        "\\end{matrix}\n",
        "\\right] ,\n",
        "b = \n",
        "\\left[\n",
        "\\begin{matrix}\n",
        "b_{0}  \\\\\n",
        "b_{1}  \\\\\n",
        "\\vdots  \\\\\n",
        "b_{m}  \n",
        "\\end{matrix}\n",
        "\\right]\n",
        "$"
      ],
      "metadata": {
        "id": "RhaRySJZVF4G"
      }
    },
    {
      "cell_type": "markdown",
      "source": [
        "#### Gaussian Elimination\n",
        "\n",
        "Perform elementary row operations to reduce the system to its row echelen form and then solve"
      ],
      "metadata": {
        "id": "jjVXTMpMYZN-"
      }
    },
    {
      "cell_type": "markdown",
      "source": [
        "###### Elmentary Row Operations\n",
        "\n",
        "1. Add $k$ times row $j$ to row $i$\n",
        "2. Multiply row $i$ by scalar $k$\n",
        "3. Switch rows $i$ and $j$"
      ],
      "metadata": {
        "id": "JGrSL1kKYyE6"
      }
    }
  ]
}