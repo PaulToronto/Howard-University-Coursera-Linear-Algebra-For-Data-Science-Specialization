{
  "nbformat": 4,
  "nbformat_minor": 0,
  "metadata": {
    "colab": {
      "provenance": [],
      "collapsed_sections": [
        "dIuLxySQGp1Z",
        "9nOeuE29HMc6",
        "wiv0axR_I-Nv",
        "N0R6NkoM10by",
        "6sYmKl2gJeSV",
        "QNkCBv1D4CkP",
        "0RC7kAdHKm8m",
        "9_Beszt5781k",
        "caV6TXlzQ1yb",
        "HBIKF1GAZbxV",
        "nrXLeIGhfGcy",
        "yAj3bREdajzt",
        "Yn2LG6b7eCyA",
        "bZFwOAfllmOu"
      ],
      "toc_visible": true,
      "authorship_tag": "ABX9TyPQPuyM81C8+G8LCDIGvqGz",
      "include_colab_link": true
    },
    "kernelspec": {
      "name": "python3",
      "display_name": "Python 3"
    },
    "language_info": {
      "name": "python"
    }
  },
  "cells": [
    {
      "cell_type": "markdown",
      "metadata": {
        "id": "view-in-github",
        "colab_type": "text"
      },
      "source": [
        "<a href=\"https://colab.research.google.com/github/PaulToronto/Howard-University-Coursera-Linear-Algebra-For-Data-Science-Specialization/blob/main/1_2_1_Using_Linear_Algebra.ipynb\" target=\"_parent\"><img src=\"https://colab.research.google.com/assets/colab-badge.svg\" alt=\"Open In Colab\"/></a>"
      ]
    },
    {
      "cell_type": "markdown",
      "source": [
        "# 1.2.1 Using Linear Algebra"
      ],
      "metadata": {
        "id": "sQpkE21IjKyD"
      }
    },
    {
      "cell_type": "code",
      "source": [
        "import numpy as np\n",
        "import random\n",
        "import sympy as sp\n",
        "import matplotlib.pyplot as plt"
      ],
      "metadata": {
        "id": "NLxCc2G2mJkg"
      },
      "execution_count": 1,
      "outputs": []
    },
    {
      "cell_type": "markdown",
      "source": [
        "## 1.2.1.1 Introduction to Linear Algebra Functions in Python"
      ],
      "metadata": {
        "id": "5oYPHLHwkVSe"
      }
    },
    {
      "cell_type": "code",
      "execution_count": 2,
      "metadata": {
        "id": "9dz_frzXjFgD"
      },
      "outputs": [],
      "source": [
        "M = np.linspace(-8, 8, 9).reshape(3, 3)\n",
        "N = np.random.randint(-8, 8, size=(3, 3))\n",
        "O = 2*N\n",
        "\n",
        "sp_M = sp.Matrix(M)\n",
        "sp_N = sp.Matrix(N)\n",
        "sp_O = sp.Matrix(O)\n",
        "\n",
        "v1 = np.array([1, 3, 5, 7])\n",
        "v2 = np.array([2, 4, 6, 8])\n",
        "v3 = np.array([-2, 5, 1, 3])\n",
        "\n",
        "sp_v1 = sp.Matrix(v1)\n",
        "sp_v2 = sp.Matrix(v2)\n",
        "sp_v3 = sp.Matrix(v3)"
      ]
    },
    {
      "cell_type": "markdown",
      "source": [
        "### `dot()` for two vectors\n",
        "\n",
        "The `dot` function calculates the **dot product** of two vectors."
      ],
      "metadata": {
        "id": "3b5hR8JCnhLI"
      }
    },
    {
      "cell_type": "code",
      "source": [
        "v1, v2"
      ],
      "metadata": {
        "colab": {
          "base_uri": "https://localhost:8080/"
        },
        "id": "9pVw6mWZnws7",
        "outputId": "ce8649cc-68e6-49b7-ff59-937a3e2b26a9"
      },
      "execution_count": 3,
      "outputs": [
        {
          "output_type": "execute_result",
          "data": {
            "text/plain": [
              "(array([1, 3, 5, 7]), array([2, 4, 6, 8]))"
            ]
          },
          "metadata": {},
          "execution_count": 3
        }
      ]
    },
    {
      "cell_type": "code",
      "source": [
        "total = 0;\n",
        "for i in range(4):\n",
        "    total += v1[i] * v2[i]\n",
        "\n",
        "total"
      ],
      "metadata": {
        "colab": {
          "base_uri": "https://localhost:8080/"
        },
        "id": "KB7MalF67Uj-",
        "outputId": "7469bf7e-e268-47f9-c638-581ed4be4eeb"
      },
      "execution_count": 4,
      "outputs": [
        {
          "output_type": "execute_result",
          "data": {
            "text/plain": [
              "100"
            ]
          },
          "metadata": {},
          "execution_count": 4
        }
      ]
    },
    {
      "cell_type": "code",
      "source": [
        "sum([v1[i] * v2[i] for i in range(4)])"
      ],
      "metadata": {
        "colab": {
          "base_uri": "https://localhost:8080/"
        },
        "id": "eJE5cgt08Ecx",
        "outputId": "456c11fb-5046-478c-89ca-b8e4a9087b9a"
      },
      "execution_count": 5,
      "outputs": [
        {
          "output_type": "execute_result",
          "data": {
            "text/plain": [
              "100"
            ]
          },
          "metadata": {},
          "execution_count": 5
        }
      ]
    },
    {
      "cell_type": "code",
      "source": [
        "np.dot(v1, v2)"
      ],
      "metadata": {
        "colab": {
          "base_uri": "https://localhost:8080/"
        },
        "id": "6uvv264nn3m8",
        "outputId": "a0e53032-6271-4e86-b965-faf73056e73e"
      },
      "execution_count": 6,
      "outputs": [
        {
          "output_type": "execute_result",
          "data": {
            "text/plain": [
              "100"
            ]
          },
          "metadata": {},
          "execution_count": 6
        }
      ]
    },
    {
      "cell_type": "code",
      "source": [
        "v1.dot(v2)"
      ],
      "metadata": {
        "colab": {
          "base_uri": "https://localhost:8080/"
        },
        "id": "NOnR_L29n99W",
        "outputId": "8ce8fe6b-4595-4b24-88bc-6c501e9b3fc2"
      },
      "execution_count": 7,
      "outputs": [
        {
          "output_type": "execute_result",
          "data": {
            "text/plain": [
              "100"
            ]
          },
          "metadata": {},
          "execution_count": 7
        }
      ]
    },
    {
      "cell_type": "markdown",
      "source": [
        "#### Sympy"
      ],
      "metadata": {
        "id": "2aqxi8jHDX3V"
      }
    },
    {
      "cell_type": "code",
      "source": [
        "sp.DotProduct(sp_v1, sp_v2)"
      ],
      "metadata": {
        "colab": {
          "base_uri": "https://localhost:8080/",
          "height": 99
        },
        "id": "5EHvHDybEDAk",
        "outputId": "7012ef98-039b-421a-fbf7-eb4c378ff641"
      },
      "execution_count": 8,
      "outputs": [
        {
          "output_type": "execute_result",
          "data": {
            "text/plain": [
              "DotProduct(Matrix([\n",
              "[1],\n",
              "[3],\n",
              "[5],\n",
              "[7]]), Matrix([\n",
              "[2],\n",
              "[4],\n",
              "[6],\n",
              "[8]]))"
            ],
            "text/latex": "$\\displaystyle DotProduct\\left(\\left[\\begin{matrix}1\\\\3\\\\5\\\\7\\end{matrix}\\right], \\left[\\begin{matrix}2\\\\4\\\\6\\\\8\\end{matrix}\\right]\\right)$"
          },
          "metadata": {},
          "execution_count": 8
        }
      ]
    },
    {
      "cell_type": "code",
      "source": [
        "sp.DotProduct(sp_v1, sp_v2).simplify()"
      ],
      "metadata": {
        "colab": {
          "base_uri": "https://localhost:8080/",
          "height": 37
        },
        "id": "WQsNcbYeDf8a",
        "outputId": "ab58e4c0-6b29-43b6-aff4-5b1ba11fc3ed"
      },
      "execution_count": 9,
      "outputs": [
        {
          "output_type": "execute_result",
          "data": {
            "text/plain": [
              "100"
            ],
            "text/latex": "$\\displaystyle 100$"
          },
          "metadata": {},
          "execution_count": 9
        }
      ]
    },
    {
      "cell_type": "code",
      "source": [
        "sp_v1.dot(sp_v2)"
      ],
      "metadata": {
        "colab": {
          "base_uri": "https://localhost:8080/",
          "height": 37
        },
        "id": "eXen28nZF4ML",
        "outputId": "2409e965-cd2b-48f4-a7a6-cc918c3b9c34"
      },
      "execution_count": 10,
      "outputs": [
        {
          "output_type": "execute_result",
          "data": {
            "text/plain": [
              "100"
            ],
            "text/latex": "$\\displaystyle 100$"
          },
          "metadata": {},
          "execution_count": 10
        }
      ]
    },
    {
      "cell_type": "markdown",
      "source": [
        "### `dot()` for two matrices\n",
        "\n",
        "This is matrix multiplication"
      ],
      "metadata": {
        "id": "XDOCUTSWrj_A"
      }
    },
    {
      "cell_type": "code",
      "source": [
        "M"
      ],
      "metadata": {
        "colab": {
          "base_uri": "https://localhost:8080/"
        },
        "id": "LrzXs78NoS05",
        "outputId": "97c90ffb-abeb-4868-bd0a-98609bd375bf"
      },
      "execution_count": 11,
      "outputs": [
        {
          "output_type": "execute_result",
          "data": {
            "text/plain": [
              "array([[-8., -6., -4.],\n",
              "       [-2.,  0.,  2.],\n",
              "       [ 4.,  6.,  8.]])"
            ]
          },
          "metadata": {},
          "execution_count": 11
        }
      ]
    },
    {
      "cell_type": "code",
      "source": [
        "N"
      ],
      "metadata": {
        "colab": {
          "base_uri": "https://localhost:8080/"
        },
        "id": "c1r5D1aToVGc",
        "outputId": "d8cd493e-5c53-4f75-f47c-e1c5a5ed3514"
      },
      "execution_count": 12,
      "outputs": [
        {
          "output_type": "execute_result",
          "data": {
            "text/plain": [
              "array([[-2,  6,  2],\n",
              "       [-1, -5, -7],\n",
              "       [ 1, -1,  6]])"
            ]
          },
          "metadata": {},
          "execution_count": 12
        }
      ]
    },
    {
      "cell_type": "code",
      "source": [
        "np.dot(N, M)"
      ],
      "metadata": {
        "colab": {
          "base_uri": "https://localhost:8080/"
        },
        "id": "Vi0fzWqHsi30",
        "outputId": "861c1fd6-ebdf-4bf4-bb75-5b340364af6a"
      },
      "execution_count": 13,
      "outputs": [
        {
          "output_type": "execute_result",
          "data": {
            "text/plain": [
              "array([[ 12.,  24.,  36.],\n",
              "       [-10., -36., -62.],\n",
              "       [ 18.,  30.,  42.]])"
            ]
          },
          "metadata": {},
          "execution_count": 13
        }
      ]
    },
    {
      "cell_type": "code",
      "source": [
        "N.dot(M)"
      ],
      "metadata": {
        "colab": {
          "base_uri": "https://localhost:8080/"
        },
        "id": "xSueM4sasmQ9",
        "outputId": "840dbdcf-968c-4a58-c279-ca232f916ba2"
      },
      "execution_count": 14,
      "outputs": [
        {
          "output_type": "execute_result",
          "data": {
            "text/plain": [
              "array([[ 12.,  24.,  36.],\n",
              "       [-10., -36., -62.],\n",
              "       [ 18.,  30.,  42.]])"
            ]
          },
          "metadata": {},
          "execution_count": 14
        }
      ]
    },
    {
      "cell_type": "code",
      "source": [
        "np.matmul(N, M)"
      ],
      "metadata": {
        "colab": {
          "base_uri": "https://localhost:8080/"
        },
        "id": "1vWXQ4sprweu",
        "outputId": "9f74210f-03d6-43d1-cd58-9d79c6655e37"
      },
      "execution_count": 15,
      "outputs": [
        {
          "output_type": "execute_result",
          "data": {
            "text/plain": [
              "array([[ 12.,  24.,  36.],\n",
              "       [-10., -36., -62.],\n",
              "       [ 18.,  30.,  42.]])"
            ]
          },
          "metadata": {},
          "execution_count": 15
        }
      ]
    },
    {
      "cell_type": "markdown",
      "source": [
        "#### SymPy"
      ],
      "metadata": {
        "id": "TItFvqeSCiy9"
      }
    },
    {
      "cell_type": "code",
      "source": [
        "sp_N * sp_M"
      ],
      "metadata": {
        "colab": {
          "base_uri": "https://localhost:8080/",
          "height": 78
        },
        "id": "u9gwVhiRGGiC",
        "outputId": "a54d51c9-b42d-43f1-e0db-8eb471e518b8"
      },
      "execution_count": 16,
      "outputs": [
        {
          "output_type": "execute_result",
          "data": {
            "text/plain": [
              "Matrix([\n",
              "[ 12.0,  24.0,  36.0],\n",
              "[-10.0, -36.0, -62.0],\n",
              "[ 18.0,  30.0,  42.0]])"
            ],
            "text/latex": "$\\displaystyle \\left[\\begin{matrix}12.0 & 24.0 & 36.0\\\\-10.0 & -36.0 & -62.0\\\\18.0 & 30.0 & 42.0\\end{matrix}\\right]$"
          },
          "metadata": {},
          "execution_count": 16
        }
      ]
    },
    {
      "cell_type": "markdown",
      "source": [
        "### `linalg.multi_dot()`"
      ],
      "metadata": {
        "id": "A22X_8CWtKcD"
      }
    },
    {
      "cell_type": "code",
      "source": [
        "np.linalg.multi_dot([M, N, O])"
      ],
      "metadata": {
        "colab": {
          "base_uri": "https://localhost:8080/"
        },
        "id": "csBkMYmltrR2",
        "outputId": "35a89784-2f46-4e72-92cd-4960bd7e53a5"
      },
      "execution_count": 17,
      "outputs": [
        {
          "output_type": "execute_result",
          "data": {
            "text/plain": [
              "array([[-40., 352., 292.],\n",
              "       [ 20., 196., 316.],\n",
              "       [ 80.,  40., 340.]])"
            ]
          },
          "metadata": {},
          "execution_count": 17
        }
      ]
    },
    {
      "cell_type": "code",
      "source": [
        "M.dot(N).dot(O)"
      ],
      "metadata": {
        "colab": {
          "base_uri": "https://localhost:8080/"
        },
        "id": "OnTeiJXsAxkH",
        "outputId": "d8ee1ee9-ee3e-4eda-df54-dc110fe2daaa"
      },
      "execution_count": 18,
      "outputs": [
        {
          "output_type": "execute_result",
          "data": {
            "text/plain": [
              "array([[-40., 352., 292.],\n",
              "       [ 20., 196., 316.],\n",
              "       [ 80.,  40., 340.]])"
            ]
          },
          "metadata": {},
          "execution_count": 18
        }
      ]
    },
    {
      "cell_type": "markdown",
      "source": [
        "#### SymPy"
      ],
      "metadata": {
        "id": "dIuLxySQGp1Z"
      }
    },
    {
      "cell_type": "code",
      "source": [
        "sp_M * sp_N * sp_O"
      ],
      "metadata": {
        "colab": {
          "base_uri": "https://localhost:8080/",
          "height": 78
        },
        "id": "VpB1BrpXGsVu",
        "outputId": "9ec8f2fd-665a-4def-d0f3-e22022630ea0"
      },
      "execution_count": 19,
      "outputs": [
        {
          "output_type": "execute_result",
          "data": {
            "text/plain": [
              "Matrix([\n",
              "[-40.0, 352.0, 292.0],\n",
              "[ 20.0, 196.0, 316.0],\n",
              "[ 80.0,  40.0, 340.0]])"
            ],
            "text/latex": "$\\displaystyle \\left[\\begin{matrix}-40.0 & 352.0 & 292.0\\\\20.0 & 196.0 & 316.0\\\\80.0 & 40.0 & 340.0\\end{matrix}\\right]$"
          },
          "metadata": {},
          "execution_count": 19
        }
      ]
    },
    {
      "cell_type": "markdown",
      "source": [
        "### `vdot()`"
      ],
      "metadata": {
        "id": "m_dqROlXv7FR"
      }
    },
    {
      "cell_type": "code",
      "source": [
        "np.vdot(v1, v2), np.dot(v1, v2)"
      ],
      "metadata": {
        "colab": {
          "base_uri": "https://localhost:8080/"
        },
        "id": "mr2O8jMHv_MI",
        "outputId": "a6773ea4-e15c-43e1-98e6-41407ba1db9b"
      },
      "execution_count": 20,
      "outputs": [
        {
          "output_type": "execute_result",
          "data": {
            "text/plain": [
              "(100, 100)"
            ]
          },
          "metadata": {},
          "execution_count": 20
        }
      ]
    },
    {
      "cell_type": "markdown",
      "source": [
        "#### SymPy"
      ],
      "metadata": {
        "id": "9nOeuE29HMc6"
      }
    },
    {
      "cell_type": "code",
      "source": [
        "sp_v1.dot(sp_v2)"
      ],
      "metadata": {
        "colab": {
          "base_uri": "https://localhost:8080/",
          "height": 37
        },
        "id": "qmITt9XRHORi",
        "outputId": "b67c7dd7-fd5a-4c26-9f9e-e3a7c822b1f2"
      },
      "execution_count": 21,
      "outputs": [
        {
          "output_type": "execute_result",
          "data": {
            "text/plain": [
              "100"
            ],
            "text/latex": "$\\displaystyle 100$"
          },
          "metadata": {},
          "execution_count": 21
        }
      ]
    },
    {
      "cell_type": "markdown",
      "source": [
        "### `inner()`\n",
        "\n",
        "Returns the inner product of two arrays"
      ],
      "metadata": {
        "id": "LWTuwnTSyc9k"
      }
    },
    {
      "cell_type": "code",
      "source": [
        "v3, v1"
      ],
      "metadata": {
        "colab": {
          "base_uri": "https://localhost:8080/"
        },
        "id": "jh9xL3QnymZy",
        "outputId": "a7586d3d-fa4e-4066-d35c-9905047b4752"
      },
      "execution_count": 22,
      "outputs": [
        {
          "output_type": "execute_result",
          "data": {
            "text/plain": [
              "(array([-2,  5,  1,  3]), array([1, 3, 5, 7]))"
            ]
          },
          "metadata": {},
          "execution_count": 22
        }
      ]
    },
    {
      "cell_type": "code",
      "source": [
        "np.inner(v3, v1)"
      ],
      "metadata": {
        "colab": {
          "base_uri": "https://localhost:8080/"
        },
        "id": "R0fHZIH_1dTy",
        "outputId": "18ac7baa-c90c-4169-8937-cdf474e0da9f"
      },
      "execution_count": 23,
      "outputs": [
        {
          "output_type": "execute_result",
          "data": {
            "text/plain": [
              "39"
            ]
          },
          "metadata": {},
          "execution_count": 23
        }
      ]
    },
    {
      "cell_type": "code",
      "source": [
        "np.dot(v3, v1)"
      ],
      "metadata": {
        "colab": {
          "base_uri": "https://localhost:8080/"
        },
        "id": "I5l9B2Jz1n-j",
        "outputId": "104bd950-4aa6-4300-d49c-e39db6469608"
      },
      "execution_count": 24,
      "outputs": [
        {
          "output_type": "execute_result",
          "data": {
            "text/plain": [
              "39"
            ]
          },
          "metadata": {},
          "execution_count": 24
        }
      ]
    },
    {
      "cell_type": "markdown",
      "source": [
        "#### SymPy"
      ],
      "metadata": {
        "id": "wiv0axR_I-Nv"
      }
    },
    {
      "cell_type": "code",
      "source": [
        "sp_v3.dot(sp_v1)"
      ],
      "metadata": {
        "colab": {
          "base_uri": "https://localhost:8080/",
          "height": 37
        },
        "id": "meU3nGHNI_9V",
        "outputId": "e3d1d155-315a-44ac-8435-5bbee268fe1f"
      },
      "execution_count": 25,
      "outputs": [
        {
          "output_type": "execute_result",
          "data": {
            "text/plain": [
              "39"
            ],
            "text/latex": "$\\displaystyle 39$"
          },
          "metadata": {},
          "execution_count": 25
        }
      ]
    },
    {
      "cell_type": "markdown",
      "source": [
        "### `matmul()`"
      ],
      "metadata": {
        "id": "N0R6NkoM10by"
      }
    },
    {
      "cell_type": "code",
      "source": [
        "np.matmul(M, N)"
      ],
      "metadata": {
        "colab": {
          "base_uri": "https://localhost:8080/"
        },
        "id": "EBFq1fKM13qj",
        "outputId": "00c80fd0-3ac7-49e7-9a92-ad7823295300"
      },
      "execution_count": 26,
      "outputs": [
        {
          "output_type": "execute_result",
          "data": {
            "text/plain": [
              "array([[ 18., -14.,   2.],\n",
              "       [  6., -14.,   8.],\n",
              "       [ -6., -14.,  14.]])"
            ]
          },
          "metadata": {},
          "execution_count": 26
        }
      ]
    },
    {
      "cell_type": "code",
      "source": [
        "np.dot(M, N)"
      ],
      "metadata": {
        "colab": {
          "base_uri": "https://localhost:8080/"
        },
        "id": "Tiy2Q08319V1",
        "outputId": "61cf7f03-3458-43c1-8c0f-1d897d892053"
      },
      "execution_count": 27,
      "outputs": [
        {
          "output_type": "execute_result",
          "data": {
            "text/plain": [
              "array([[ 18., -14.,   2.],\n",
              "       [  6., -14.,   8.],\n",
              "       [ -6., -14.,  14.]])"
            ]
          },
          "metadata": {},
          "execution_count": 27
        }
      ]
    },
    {
      "cell_type": "markdown",
      "source": [
        "#### SymPy"
      ],
      "metadata": {
        "id": "6sYmKl2gJeSV"
      }
    },
    {
      "cell_type": "code",
      "source": [
        "sp_M * sp_N"
      ],
      "metadata": {
        "colab": {
          "base_uri": "https://localhost:8080/",
          "height": 78
        },
        "id": "ZMMWBJJdJgBl",
        "outputId": "9170a0a9-fcdb-481a-bc24-f6965076e354"
      },
      "execution_count": 28,
      "outputs": [
        {
          "output_type": "execute_result",
          "data": {
            "text/plain": [
              "Matrix([\n",
              "[18.0, -14.0,  2.0],\n",
              "[ 6.0, -14.0,  8.0],\n",
              "[-6.0, -14.0, 14.0]])"
            ],
            "text/latex": "$\\displaystyle \\left[\\begin{matrix}18.0 & -14.0 & 2.0\\\\6.0 & -14.0 & 8.0\\\\-6.0 & -14.0 & 14.0\\end{matrix}\\right]$"
          },
          "metadata": {},
          "execution_count": 28
        }
      ]
    },
    {
      "cell_type": "markdown",
      "source": [
        "### `linalg.matrix_power()`"
      ],
      "metadata": {
        "id": "ot2bvBTb2Qa7"
      }
    },
    {
      "cell_type": "code",
      "source": [
        "M"
      ],
      "metadata": {
        "colab": {
          "base_uri": "https://localhost:8080/"
        },
        "id": "Mulu27Ln2Vm4",
        "outputId": "a199932d-a2b9-46d3-9dfd-802c34792eec"
      },
      "execution_count": 29,
      "outputs": [
        {
          "output_type": "execute_result",
          "data": {
            "text/plain": [
              "array([[-8., -6., -4.],\n",
              "       [-2.,  0.,  2.],\n",
              "       [ 4.,  6.,  8.]])"
            ]
          },
          "metadata": {},
          "execution_count": 29
        }
      ]
    },
    {
      "cell_type": "code",
      "source": [
        "np.linalg.matrix_power(M, 3)"
      ],
      "metadata": {
        "colab": {
          "base_uri": "https://localhost:8080/"
        },
        "id": "n7i-oz522b2z",
        "outputId": "c43fa48d-a501-4ad9-faf1-00e1e97be279"
      },
      "execution_count": 30,
      "outputs": [
        {
          "output_type": "execute_result",
          "data": {
            "text/plain": [
              "array([[-576., -432., -288.],\n",
              "       [-144.,    0.,  144.],\n",
              "       [ 288.,  432.,  576.]])"
            ]
          },
          "metadata": {},
          "execution_count": 30
        }
      ]
    },
    {
      "cell_type": "code",
      "source": [
        "M.dot(M).dot(M)"
      ],
      "metadata": {
        "colab": {
          "base_uri": "https://localhost:8080/"
        },
        "id": "0xQaP18-2klP",
        "outputId": "c2ceb9ff-81f8-4bff-e71c-505cc0ba55c1"
      },
      "execution_count": 31,
      "outputs": [
        {
          "output_type": "execute_result",
          "data": {
            "text/plain": [
              "array([[-576., -432., -288.],\n",
              "       [-144.,    0.,  144.],\n",
              "       [ 288.,  432.,  576.]])"
            ]
          },
          "metadata": {},
          "execution_count": 31
        }
      ]
    },
    {
      "cell_type": "code",
      "source": [
        "np.linalg.multi_dot([M, M, M])"
      ],
      "metadata": {
        "colab": {
          "base_uri": "https://localhost:8080/"
        },
        "id": "55XDffAk2n_F",
        "outputId": "bb00637d-d087-494c-aa1c-9afe420079d8"
      },
      "execution_count": 32,
      "outputs": [
        {
          "output_type": "execute_result",
          "data": {
            "text/plain": [
              "array([[-576., -432., -288.],\n",
              "       [-144.,    0.,  144.],\n",
              "       [ 288.,  432.,  576.]])"
            ]
          },
          "metadata": {},
          "execution_count": 32
        }
      ]
    },
    {
      "cell_type": "code",
      "source": [
        "np.matmul(np.matmul(M, M), M)"
      ],
      "metadata": {
        "colab": {
          "base_uri": "https://localhost:8080/"
        },
        "id": "9ekZ-n3W2vwD",
        "outputId": "3ba70e01-9627-44df-f319-693b98af69c0"
      },
      "execution_count": 33,
      "outputs": [
        {
          "output_type": "execute_result",
          "data": {
            "text/plain": [
              "array([[-576., -432., -288.],\n",
              "       [-144.,    0.,  144.],\n",
              "       [ 288.,  432.,  576.]])"
            ]
          },
          "metadata": {},
          "execution_count": 33
        }
      ]
    },
    {
      "cell_type": "markdown",
      "source": [
        "#### SymPy"
      ],
      "metadata": {
        "id": "VjPFBHOmJnnJ"
      }
    },
    {
      "cell_type": "code",
      "source": [
        "sp_M**3"
      ],
      "metadata": {
        "colab": {
          "base_uri": "https://localhost:8080/",
          "height": 78
        },
        "id": "phHvoJVkJpDm",
        "outputId": "9e745ceb-bd98-43b0-adf2-6a8ebf27a877"
      },
      "execution_count": 34,
      "outputs": [
        {
          "output_type": "execute_result",
          "data": {
            "text/plain": [
              "Matrix([\n",
              "[-576.0, -432.0, -288.0],\n",
              "[-144.0,      0,  144.0],\n",
              "[ 288.0,  432.0,  576.0]])"
            ],
            "text/latex": "$\\displaystyle \\left[\\begin{matrix}-576.0 & -432.0 & -288.0\\\\-144.0 & 0 & 144.0\\\\288.0 & 432.0 & 576.0\\end{matrix}\\right]$"
          },
          "metadata": {},
          "execution_count": 34
        }
      ]
    },
    {
      "cell_type": "code",
      "source": [
        "sp_M * sp_M * sp_M"
      ],
      "metadata": {
        "colab": {
          "base_uri": "https://localhost:8080/",
          "height": 78
        },
        "id": "7OblycvQJvIh",
        "outputId": "e623f0bf-bbe8-4bcc-f30c-fdc2d18bcee1"
      },
      "execution_count": 35,
      "outputs": [
        {
          "output_type": "execute_result",
          "data": {
            "text/plain": [
              "Matrix([\n",
              "[-576.0, -432.0, -288.0],\n",
              "[-144.0,      0,  144.0],\n",
              "[ 288.0,  432.0,  576.0]])"
            ],
            "text/latex": "$\\displaystyle \\left[\\begin{matrix}-576.0 & -432.0 & -288.0\\\\-144.0 & 0 & 144.0\\\\288.0 & 432.0 & 576.0\\end{matrix}\\right]$"
          },
          "metadata": {},
          "execution_count": 35
        }
      ]
    },
    {
      "cell_type": "markdown",
      "source": [
        "### `linalg.eig()`\n",
        "\n",
        "Returns the eigenvalues and eigenvectors of a matrix"
      ],
      "metadata": {
        "id": "QNkCBv1D4CkP"
      }
    },
    {
      "cell_type": "code",
      "source": [
        "O"
      ],
      "metadata": {
        "colab": {
          "base_uri": "https://localhost:8080/"
        },
        "id": "annYw0ITC4cF",
        "outputId": "68746028-ecc2-461c-d31b-8621d31b75c5"
      },
      "execution_count": 36,
      "outputs": [
        {
          "output_type": "execute_result",
          "data": {
            "text/plain": [
              "array([[ -4,  12,   4],\n",
              "       [ -2, -10, -14],\n",
              "       [  2,  -2,  12]])"
            ]
          },
          "metadata": {},
          "execution_count": 36
        }
      ]
    },
    {
      "cell_type": "code",
      "source": [
        "eig_vals, eig_vects = np.linalg.eig(O)"
      ],
      "metadata": {
        "id": "6AdJblCW4HmF"
      },
      "execution_count": 37,
      "outputs": []
    },
    {
      "cell_type": "code",
      "source": [
        "eig_vals"
      ],
      "metadata": {
        "colab": {
          "base_uri": "https://localhost:8080/"
        },
        "id": "VYFxBbZw4brU",
        "outputId": "f8c39d82-7c4e-4d6f-b6b9-81d99218feb8"
      },
      "execution_count": 38,
      "outputs": [
        {
          "output_type": "execute_result",
          "data": {
            "text/plain": [
              "array([12.81776729, -5.18158391, -9.63618337])"
            ]
          },
          "metadata": {},
          "execution_count": 38
        }
      ]
    },
    {
      "cell_type": "code",
      "source": [
        "eig_vects"
      ],
      "metadata": {
        "colab": {
          "base_uri": "https://localhost:8080/"
        },
        "id": "zbbZ2TNA4djJ",
        "outputId": "81d7fd34-dd4d-49ee-bd7f-a02329920254"
      },
      "execution_count": 39,
      "outputs": [
        {
          "output_type": "execute_result",
          "data": {
            "text/plain": [
              "array([[ 0.15950282,  0.9909008 , -0.91339123],\n",
              "       [ 0.50607717, -0.0569129 ,  0.38887712],\n",
              "       [-0.8476112 , -0.1219694 ,  0.12037875]])"
            ]
          },
          "metadata": {},
          "execution_count": 39
        }
      ]
    },
    {
      "cell_type": "markdown",
      "source": [
        "#### SymPy"
      ],
      "metadata": {
        "id": "0RC7kAdHKm8m"
      }
    },
    {
      "cell_type": "code",
      "source": [
        "sp_O.eigenvals()"
      ],
      "metadata": {
        "colab": {
          "base_uri": "https://localhost:8080/"
        },
        "id": "BK_V0mHQKpUy",
        "outputId": "4f56f1ce-4475-4c66-c714-62eef72ce30a"
      },
      "execution_count": 40,
      "outputs": [
        {
          "output_type": "execute_result",
          "data": {
            "text/plain": [
              "{-2/3 + 212/(9*(1843/54 + sqrt(151935)*I/18)**(1/3)) + 2*(1843/54 + sqrt(151935)*I/18)**(1/3): 1,\n",
              " -2/3 + 212/(9*(-1/2 + sqrt(3)*I/2)*(1843/54 + sqrt(151935)*I/18)**(1/3)) + 2*(-1/2 + sqrt(3)*I/2)*(1843/54 + sqrt(151935)*I/18)**(1/3): 1,\n",
              " -2/3 + 2*(-1/2 - sqrt(3)*I/2)*(1843/54 + sqrt(151935)*I/18)**(1/3) + 212/(9*(-1/2 - sqrt(3)*I/2)*(1843/54 + sqrt(151935)*I/18)**(1/3)): 1}"
            ]
          },
          "metadata": {},
          "execution_count": 40
        }
      ]
    },
    {
      "cell_type": "code",
      "source": [
        "for eig_val in list(sp_O.eigenvals()):\n",
        "    print(eig_val.evalf())"
      ],
      "metadata": {
        "colab": {
          "base_uri": "https://localhost:8080/"
        },
        "id": "WTO57CXfK_gg",
        "outputId": "33d36f0b-7a3f-457c-f30f-89982e5c7a1b"
      },
      "execution_count": 41,
      "outputs": [
        {
          "output_type": "stream",
          "name": "stdout",
          "text": [
            "12.8177672851209 + 0.e-22*I\n",
            "-9.63618337165891 + 0.e-22*I\n",
            "-5.18158391346201 - 0.e-22*I\n"
          ]
        }
      ]
    },
    {
      "cell_type": "code",
      "source": [
        "# takes too long to run\n",
        "# eig_vects = sp_O.eigenvects()"
      ],
      "metadata": {
        "id": "oLfnvLeFL1VX"
      },
      "execution_count": 42,
      "outputs": []
    },
    {
      "cell_type": "markdown",
      "source": [
        "### `linalg.eigh()`\n",
        "\n",
        "Returns eigenvalues and eigenvectors of a complex Hermition matrix or a real symmetric matrix"
      ],
      "metadata": {
        "id": "9_Beszt5781k"
      }
    },
    {
      "cell_type": "code",
      "source": [
        "eigh_vals, eigh_vects = np.linalg.eigh(N)"
      ],
      "metadata": {
        "id": "hqnb23xG8SS9"
      },
      "execution_count": 43,
      "outputs": []
    },
    {
      "cell_type": "code",
      "source": [
        "eigh_vals"
      ],
      "metadata": {
        "colab": {
          "base_uri": "https://localhost:8080/"
        },
        "id": "Zbybq1Cf8lyH",
        "outputId": "571343eb-3229-4a77-d283-0c34968bcaa0"
      },
      "execution_count": 44,
      "outputs": [
        {
          "output_type": "execute_result",
          "data": {
            "text/plain": [
              "array([-5.3435645 , -1.89103957,  6.23460406])"
            ]
          },
          "metadata": {},
          "execution_count": 44
        }
      ]
    },
    {
      "cell_type": "code",
      "source": [
        "eigh_vects"
      ],
      "metadata": {
        "colab": {
          "base_uri": "https://localhost:8080/"
        },
        "id": "N1kGo-Fa80R1",
        "outputId": "99e8696f-97c6-4e77-ef6b-25d4c2c9f3c3"
      },
      "execution_count": 45,
      "outputs": [
        {
          "output_type": "execute_result",
          "data": {
            "text/plain": [
              "array([[ 0.26921815,  0.95401022, -0.13185629],\n",
              "       [ 0.96114562, -0.25747622,  0.09952432],\n",
              "       [ 0.06099736, -0.15352685, -0.98626002]])"
            ]
          },
          "metadata": {},
          "execution_count": 45
        }
      ]
    },
    {
      "cell_type": "markdown",
      "source": [
        "### `linalg.det()`\n",
        "\n",
        "Returns the determinant of a matrix"
      ],
      "metadata": {
        "id": "NicauXjL_olr"
      }
    },
    {
      "cell_type": "code",
      "source": [
        "np.linalg.det(M), np.linalg.det(N), np.linalg.det(O)"
      ],
      "metadata": {
        "colab": {
          "base_uri": "https://localhost:8080/"
        },
        "id": "fbOG_fvu_wcy",
        "outputId": "fb3ee08f-5849-452e-b6ce-e007e6dbd23e"
      },
      "execution_count": 46,
      "outputs": [
        {
          "output_type": "execute_result",
          "data": {
            "text/plain": [
              "(0.0, 79.99999999999997, 639.9999999999999)"
            ]
          },
          "metadata": {},
          "execution_count": 46
        }
      ]
    },
    {
      "cell_type": "markdown",
      "source": [
        "#### SymPy"
      ],
      "metadata": {
        "id": "XuJMw16RPYes"
      }
    },
    {
      "cell_type": "code",
      "source": [
        "sp_M.det(), sp_N.det(), sp_O.det()"
      ],
      "metadata": {
        "colab": {
          "base_uri": "https://localhost:8080/"
        },
        "id": "kyByiDwGPaVE",
        "outputId": "4ba093c7-86be-46e5-9442-7cd09ec70fd7"
      },
      "execution_count": 47,
      "outputs": [
        {
          "output_type": "execute_result",
          "data": {
            "text/plain": [
              "(0, 80, 640)"
            ]
          },
          "metadata": {},
          "execution_count": 47
        }
      ]
    },
    {
      "cell_type": "markdown",
      "source": [
        "### `linalg.inv()`\n",
        "\n",
        "Returns the inverse of a matrix"
      ],
      "metadata": {
        "id": "3-aJe7nFADTy"
      }
    },
    {
      "cell_type": "code",
      "source": [
        "N"
      ],
      "metadata": {
        "colab": {
          "base_uri": "https://localhost:8080/"
        },
        "id": "wjQeLNlEALNa",
        "outputId": "3bbb946a-ea7d-4132-a321-01f1e05ee9fe"
      },
      "execution_count": 48,
      "outputs": [
        {
          "output_type": "execute_result",
          "data": {
            "text/plain": [
              "array([[-2,  6,  2],\n",
              "       [-1, -5, -7],\n",
              "       [ 1, -1,  6]])"
            ]
          },
          "metadata": {},
          "execution_count": 48
        }
      ]
    },
    {
      "cell_type": "code",
      "source": [
        "np.linalg.inv(N)"
      ],
      "metadata": {
        "colab": {
          "base_uri": "https://localhost:8080/"
        },
        "id": "expG6ShNAPUZ",
        "outputId": "d575cbb1-38ac-4d94-c353-38643a3cb3aa"
      },
      "execution_count": 49,
      "outputs": [
        {
          "output_type": "execute_result",
          "data": {
            "text/plain": [
              "array([[-0.4625, -0.475 , -0.4   ],\n",
              "       [-0.0125, -0.175 , -0.2   ],\n",
              "       [ 0.075 ,  0.05  ,  0.2   ]])"
            ]
          },
          "metadata": {},
          "execution_count": 49
        }
      ]
    },
    {
      "cell_type": "code",
      "source": [
        "np.matmul(N, np.linalg.inv(N))"
      ],
      "metadata": {
        "colab": {
          "base_uri": "https://localhost:8080/"
        },
        "id": "gkGExSTXAR42",
        "outputId": "48e87d61-ca92-4a7e-df26-290d731f87b6"
      },
      "execution_count": 50,
      "outputs": [
        {
          "output_type": "execute_result",
          "data": {
            "text/plain": [
              "array([[ 1.00000000e+00, -8.32667268e-17,  1.11022302e-16],\n",
              "       [ 5.55111512e-17,  1.00000000e+00,  5.55111512e-17],\n",
              "       [ 5.55111512e-17,  8.32667268e-17,  1.00000000e+00]])"
            ]
          },
          "metadata": {},
          "execution_count": 50
        }
      ]
    },
    {
      "cell_type": "code",
      "source": [
        "N.dot(np.linalg.inv(N))"
      ],
      "metadata": {
        "colab": {
          "base_uri": "https://localhost:8080/"
        },
        "id": "wooYzv5LAnBC",
        "outputId": "b4394fbf-6d92-4974-aafa-9e3ac02c0e93"
      },
      "execution_count": 51,
      "outputs": [
        {
          "output_type": "execute_result",
          "data": {
            "text/plain": [
              "array([[ 1.00000000e+00, -8.32667268e-17,  1.11022302e-16],\n",
              "       [ 5.55111512e-17,  1.00000000e+00,  5.55111512e-17],\n",
              "       [ 5.55111512e-17,  8.32667268e-17,  1.00000000e+00]])"
            ]
          },
          "metadata": {},
          "execution_count": 51
        }
      ]
    },
    {
      "cell_type": "markdown",
      "source": [
        "#### SymPy"
      ],
      "metadata": {
        "id": "caV6TXlzQ1yb"
      }
    },
    {
      "cell_type": "code",
      "source": [
        "sp_N**-1"
      ],
      "metadata": {
        "colab": {
          "base_uri": "https://localhost:8080/",
          "height": 79
        },
        "id": "G8vX2rwbQ3-q",
        "outputId": "d5a6e826-aa5c-4919-b786-ced2b8c61e60"
      },
      "execution_count": 52,
      "outputs": [
        {
          "output_type": "execute_result",
          "data": {
            "text/plain": [
              "Matrix([\n",
              "[-37/80, -19/40, -2/5],\n",
              "[ -1/80,  -7/40, -1/5],\n",
              "[  3/40,   1/20,  1/5]])"
            ],
            "text/latex": "$\\displaystyle \\left[\\begin{matrix}- \\frac{37}{80} & - \\frac{19}{40} & - \\frac{2}{5}\\\\- \\frac{1}{80} & - \\frac{7}{40} & - \\frac{1}{5}\\\\\\frac{3}{40} & \\frac{1}{20} & \\frac{1}{5}\\end{matrix}\\right]$"
          },
          "metadata": {},
          "execution_count": 52
        }
      ]
    },
    {
      "cell_type": "code",
      "source": [
        "(sp_N**-1).evalf()"
      ],
      "metadata": {
        "colab": {
          "base_uri": "https://localhost:8080/",
          "height": 78
        },
        "id": "mvyj4OC-Q828",
        "outputId": "40d4cf70-1964-4643-d257-ee7ab0814505"
      },
      "execution_count": 53,
      "outputs": [
        {
          "output_type": "execute_result",
          "data": {
            "text/plain": [
              "Matrix([\n",
              "[-0.4625, -0.475, -0.4],\n",
              "[-0.0125, -0.175, -0.2],\n",
              "[  0.075,   0.05,  0.2]])"
            ],
            "text/latex": "$\\displaystyle \\left[\\begin{matrix}-0.4625 & -0.475 & -0.4\\\\-0.0125 & -0.175 & -0.2\\\\0.075 & 0.05 & 0.2\\end{matrix}\\right]$"
          },
          "metadata": {},
          "execution_count": 53
        }
      ]
    },
    {
      "cell_type": "code",
      "source": [
        "sp_N * sp_N**-1"
      ],
      "metadata": {
        "colab": {
          "base_uri": "https://localhost:8080/",
          "height": 78
        },
        "id": "jttDC0m0REpH",
        "outputId": "79d81bcb-8ca4-431a-f7e5-ae4e0ab88cfc"
      },
      "execution_count": 54,
      "outputs": [
        {
          "output_type": "execute_result",
          "data": {
            "text/plain": [
              "Matrix([\n",
              "[1, 0, 0],\n",
              "[0, 1, 0],\n",
              "[0, 0, 1]])"
            ],
            "text/latex": "$\\displaystyle \\left[\\begin{matrix}1 & 0 & 0\\\\0 & 1 & 0\\\\0 & 0 & 1\\end{matrix}\\right]$"
          },
          "metadata": {},
          "execution_count": 54
        }
      ]
    },
    {
      "cell_type": "markdown",
      "source": [
        "## 1.2.1.2 Using Matrices in Python"
      ],
      "metadata": {
        "id": "agRDbyAHRc27"
      }
    },
    {
      "cell_type": "markdown",
      "source": [
        "### Building Matrices Using Numpy"
      ],
      "metadata": {
        "id": "HBIKF1GAZbxV"
      }
    },
    {
      "cell_type": "code",
      "source": [
        "L = np.linspace(0, 120, 25)\n",
        "L"
      ],
      "metadata": {
        "colab": {
          "base_uri": "https://localhost:8080/"
        },
        "id": "NmKml2scZhXy",
        "outputId": "975df441-dd13-44eb-830f-37adc4268d2b"
      },
      "execution_count": 55,
      "outputs": [
        {
          "output_type": "execute_result",
          "data": {
            "text/plain": [
              "array([  0.,   5.,  10.,  15.,  20.,  25.,  30.,  35.,  40.,  45.,  50.,\n",
              "        55.,  60.,  65.,  70.,  75.,  80.,  85.,  90.,  95., 100., 105.,\n",
              "       110., 115., 120.])"
            ]
          },
          "metadata": {},
          "execution_count": 55
        }
      ]
    },
    {
      "cell_type": "code",
      "source": [
        "M = L.reshape(5, 5)\n",
        "M"
      ],
      "metadata": {
        "colab": {
          "base_uri": "https://localhost:8080/"
        },
        "id": "54lM5HZsZ5PE",
        "outputId": "18b83786-3dd1-496e-9819-8c5ff6e89055"
      },
      "execution_count": 56,
      "outputs": [
        {
          "output_type": "execute_result",
          "data": {
            "text/plain": [
              "array([[  0.,   5.,  10.,  15.,  20.],\n",
              "       [ 25.,  30.,  35.,  40.,  45.],\n",
              "       [ 50.,  55.,  60.,  65.,  70.],\n",
              "       [ 75.,  80.,  85.,  90.,  95.],\n",
              "       [100., 105., 110., 115., 120.]])"
            ]
          },
          "metadata": {},
          "execution_count": 56
        }
      ]
    },
    {
      "cell_type": "code",
      "source": [
        "R = np.random.randint(-5, 4, size=(4, 4))\n",
        "R"
      ],
      "metadata": {
        "colab": {
          "base_uri": "https://localhost:8080/"
        },
        "id": "TkX53rOfbUqe",
        "outputId": "27ea6da2-379b-439a-9ad2-a7fc05df61ed"
      },
      "execution_count": 57,
      "outputs": [
        {
          "output_type": "execute_result",
          "data": {
            "text/plain": [
              "array([[-4,  3,  2, -5],\n",
              "       [-5, -3, -4, -3],\n",
              "       [-4,  1,  2, -3],\n",
              "       [ 3, -5, -4,  1]])"
            ]
          },
          "metadata": {},
          "execution_count": 57
        }
      ]
    },
    {
      "cell_type": "markdown",
      "source": [
        "### Building Matrices Using SymPy"
      ],
      "metadata": {
        "id": "nrXLeIGhfGcy"
      }
    },
    {
      "cell_type": "code",
      "source": [
        "sp.Matrix([[1, -1], [3, 4], [0, 2]])"
      ],
      "metadata": {
        "colab": {
          "base_uri": "https://localhost:8080/",
          "height": 78
        },
        "id": "10tbp1HZJM-9",
        "outputId": "cf64126a-1ea5-42d1-aacd-f37d16885acb"
      },
      "execution_count": 58,
      "outputs": [
        {
          "output_type": "execute_result",
          "data": {
            "text/plain": [
              "Matrix([\n",
              "[1, -1],\n",
              "[3,  4],\n",
              "[0,  2]])"
            ],
            "text/latex": "$\\displaystyle \\left[\\begin{matrix}1 & -1\\\\3 & 4\\\\0 & 2\\end{matrix}\\right]$"
          },
          "metadata": {},
          "execution_count": 58
        }
      ]
    },
    {
      "cell_type": "code",
      "source": [
        "sp_M = sp.Matrix(M)\n",
        "sp_M"
      ],
      "metadata": {
        "colab": {
          "base_uri": "https://localhost:8080/",
          "height": 119
        },
        "id": "V06Y7zvFfJ-K",
        "outputId": "350fec64-31e9-4f7b-ef54-8e372ed82850"
      },
      "execution_count": 59,
      "outputs": [
        {
          "output_type": "execute_result",
          "data": {
            "text/plain": [
              "Matrix([\n",
              "[  0.0,   5.0,  10.0,  15.0,  20.0],\n",
              "[ 25.0,  30.0,  35.0,  40.0,  45.0],\n",
              "[ 50.0,  55.0,  60.0,  65.0,  70.0],\n",
              "[ 75.0,  80.0,  85.0,  90.0,  95.0],\n",
              "[100.0, 105.0, 110.0, 115.0, 120.0]])"
            ],
            "text/latex": "$\\displaystyle \\left[\\begin{matrix}0.0 & 5.0 & 10.0 & 15.0 & 20.0\\\\25.0 & 30.0 & 35.0 & 40.0 & 45.0\\\\50.0 & 55.0 & 60.0 & 65.0 & 70.0\\\\75.0 & 80.0 & 85.0 & 90.0 & 95.0\\\\100.0 & 105.0 & 110.0 & 115.0 & 120.0\\end{matrix}\\right]$"
          },
          "metadata": {},
          "execution_count": 59
        }
      ]
    },
    {
      "cell_type": "code",
      "source": [
        "sp_R = sp.Matrix(R)\n",
        "sp_R"
      ],
      "metadata": {
        "colab": {
          "base_uri": "https://localhost:8080/",
          "height": 99
        },
        "id": "cWB6GNWcfdtF",
        "outputId": "309d5e9c-f9ec-4ede-b40d-465d63c1d153"
      },
      "execution_count": 60,
      "outputs": [
        {
          "output_type": "execute_result",
          "data": {
            "text/plain": [
              "Matrix([\n",
              "[-4,  3,  2, -5],\n",
              "[-5, -3, -4, -3],\n",
              "[-4,  1,  2, -3],\n",
              "[ 3, -5, -4,  1]])"
            ],
            "text/latex": "$\\displaystyle \\left[\\begin{matrix}-4 & 3 & 2 & -5\\\\-5 & -3 & -4 & -3\\\\-4 & 1 & 2 & -3\\\\3 & -5 & -4 & 1\\end{matrix}\\right]$"
          },
          "metadata": {},
          "execution_count": 60
        }
      ]
    },
    {
      "cell_type": "markdown",
      "source": [
        "### Accessing Matrix Entries: NumPy and SymPy"
      ],
      "metadata": {
        "id": "yAj3bREdajzt"
      }
    },
    {
      "cell_type": "code",
      "source": [
        "M"
      ],
      "metadata": {
        "colab": {
          "base_uri": "https://localhost:8080/"
        },
        "id": "qxn0BDdDKljy",
        "outputId": "dec45fca-ff10-4709-f303-cf0a81cf47c3"
      },
      "execution_count": 61,
      "outputs": [
        {
          "output_type": "execute_result",
          "data": {
            "text/plain": [
              "array([[  0.,   5.,  10.,  15.,  20.],\n",
              "       [ 25.,  30.,  35.,  40.,  45.],\n",
              "       [ 50.,  55.,  60.,  65.,  70.],\n",
              "       [ 75.,  80.,  85.,  90.,  95.],\n",
              "       [100., 105., 110., 115., 120.]])"
            ]
          },
          "metadata": {},
          "execution_count": 61
        }
      ]
    },
    {
      "cell_type": "code",
      "source": [
        "# first row\n",
        "M[0]"
      ],
      "metadata": {
        "colab": {
          "base_uri": "https://localhost:8080/"
        },
        "id": "EfSyLVgca53u",
        "outputId": "ab30a9d7-1477-46ba-eaa2-6199eedbbcff"
      },
      "execution_count": 62,
      "outputs": [
        {
          "output_type": "execute_result",
          "data": {
            "text/plain": [
              "array([ 0.,  5., 10., 15., 20.])"
            ]
          },
          "metadata": {},
          "execution_count": 62
        }
      ]
    },
    {
      "cell_type": "code",
      "source": [
        "# first rown\n",
        "sp_M.row(0)"
      ],
      "metadata": {
        "colab": {
          "base_uri": "https://localhost:8080/",
          "height": 39
        },
        "id": "I37LwWTcfi7C",
        "outputId": "ae8515e3-0c74-4651-fce7-7f43f7f13e5a"
      },
      "execution_count": 63,
      "outputs": [
        {
          "output_type": "execute_result",
          "data": {
            "text/plain": [
              "Matrix([[0.0, 5.0, 10.0, 15.0, 20.0]])"
            ],
            "text/latex": "$\\displaystyle \\left[\\begin{matrix}0.0 & 5.0 & 10.0 & 15.0 & 20.0\\end{matrix}\\right]$"
          },
          "metadata": {},
          "execution_count": 63
        }
      ]
    },
    {
      "cell_type": "code",
      "source": [
        "# also first row\n",
        "sp_M[0, :]"
      ],
      "metadata": {
        "colab": {
          "base_uri": "https://localhost:8080/",
          "height": 39
        },
        "id": "VSR0Lop1gGyj",
        "outputId": "060916fb-fbbc-42c3-c7c9-860a969c3fd9"
      },
      "execution_count": 64,
      "outputs": [
        {
          "output_type": "execute_result",
          "data": {
            "text/plain": [
              "Matrix([[0.0, 5.0, 10.0, 15.0, 20.0]])"
            ],
            "text/latex": "$\\displaystyle \\left[\\begin{matrix}0.0 & 5.0 & 10.0 & 15.0 & 20.0\\end{matrix}\\right]$"
          },
          "metadata": {},
          "execution_count": 64
        }
      ]
    },
    {
      "cell_type": "code",
      "source": [
        "# last row\n",
        "M[-1]"
      ],
      "metadata": {
        "colab": {
          "base_uri": "https://localhost:8080/"
        },
        "id": "f2BAz7Mvb1w4",
        "outputId": "37e47539-34be-4dca-8af4-0740e04cfac3"
      },
      "execution_count": 65,
      "outputs": [
        {
          "output_type": "execute_result",
          "data": {
            "text/plain": [
              "array([100., 105., 110., 115., 120.])"
            ]
          },
          "metadata": {},
          "execution_count": 65
        }
      ]
    },
    {
      "cell_type": "code",
      "source": [
        "# last row\n",
        "sp_M.row(-1)"
      ],
      "metadata": {
        "colab": {
          "base_uri": "https://localhost:8080/",
          "height": 39
        },
        "id": "ymM2kKNXhkf2",
        "outputId": "f2d86a78-948b-4015-a89a-75c07806de4e"
      },
      "execution_count": 66,
      "outputs": [
        {
          "output_type": "execute_result",
          "data": {
            "text/plain": [
              "Matrix([[100.0, 105.0, 110.0, 115.0, 120.0]])"
            ],
            "text/latex": "$\\displaystyle \\left[\\begin{matrix}100.0 & 105.0 & 110.0 & 115.0 & 120.0\\end{matrix}\\right]$"
          },
          "metadata": {},
          "execution_count": 66
        }
      ]
    },
    {
      "cell_type": "code",
      "source": [
        "#first column\n",
        "M[:,0]"
      ],
      "metadata": {
        "colab": {
          "base_uri": "https://localhost:8080/"
        },
        "id": "sq_vvmxNcDbv",
        "outputId": "f01133c1-55fd-4282-8ad4-2d4f81db84c7"
      },
      "execution_count": 67,
      "outputs": [
        {
          "output_type": "execute_result",
          "data": {
            "text/plain": [
              "array([  0.,  25.,  50.,  75., 100.])"
            ]
          },
          "metadata": {},
          "execution_count": 67
        }
      ]
    },
    {
      "cell_type": "code",
      "source": [
        "sp_M.col(0)"
      ],
      "metadata": {
        "colab": {
          "base_uri": "https://localhost:8080/",
          "height": 119
        },
        "id": "dAvl8qauhpP2",
        "outputId": "8f460d32-500d-4d6b-d0d8-b09a4a2e8210"
      },
      "execution_count": 68,
      "outputs": [
        {
          "output_type": "execute_result",
          "data": {
            "text/plain": [
              "Matrix([\n",
              "[  0.0],\n",
              "[ 25.0],\n",
              "[ 50.0],\n",
              "[ 75.0],\n",
              "[100.0]])"
            ],
            "text/latex": "$\\displaystyle \\left[\\begin{matrix}0.0\\\\25.0\\\\50.0\\\\75.0\\\\100.0\\end{matrix}\\right]$"
          },
          "metadata": {},
          "execution_count": 68
        }
      ]
    },
    {
      "cell_type": "code",
      "source": [
        "# last column\n",
        "M[:,-1]"
      ],
      "metadata": {
        "colab": {
          "base_uri": "https://localhost:8080/"
        },
        "id": "F1xHm1KbcR5c",
        "outputId": "fd3a6209-ac76-4000-ae67-3e00e91b7350"
      },
      "execution_count": 69,
      "outputs": [
        {
          "output_type": "execute_result",
          "data": {
            "text/plain": [
              "array([ 20.,  45.,  70.,  95., 120.])"
            ]
          },
          "metadata": {},
          "execution_count": 69
        }
      ]
    },
    {
      "cell_type": "code",
      "source": [
        "sp_M.col(-1)"
      ],
      "metadata": {
        "colab": {
          "base_uri": "https://localhost:8080/",
          "height": 119
        },
        "id": "5z51fffshtIR",
        "outputId": "7fcbe3bc-1164-43a6-8964-24c2fd27e8c4"
      },
      "execution_count": 70,
      "outputs": [
        {
          "output_type": "execute_result",
          "data": {
            "text/plain": [
              "Matrix([\n",
              "[ 20.0],\n",
              "[ 45.0],\n",
              "[ 70.0],\n",
              "[ 95.0],\n",
              "[120.0]])"
            ],
            "text/latex": "$\\displaystyle \\left[\\begin{matrix}20.0\\\\45.0\\\\70.0\\\\95.0\\\\120.0\\end{matrix}\\right]$"
          },
          "metadata": {},
          "execution_count": 70
        }
      ]
    },
    {
      "cell_type": "code",
      "source": [
        "# first 3 rows\n",
        "M[0:3]"
      ],
      "metadata": {
        "colab": {
          "base_uri": "https://localhost:8080/"
        },
        "id": "f7jA7nV-cuXH",
        "outputId": "2d87fef2-10e5-4c2e-ad4f-2e12c67265e3"
      },
      "execution_count": 71,
      "outputs": [
        {
          "output_type": "execute_result",
          "data": {
            "text/plain": [
              "array([[ 0.,  5., 10., 15., 20.],\n",
              "       [25., 30., 35., 40., 45.],\n",
              "       [50., 55., 60., 65., 70.]])"
            ]
          },
          "metadata": {},
          "execution_count": 71
        }
      ]
    },
    {
      "cell_type": "code",
      "source": [
        "# first 3 rows\n",
        "sp_M[0:3,:]"
      ],
      "metadata": {
        "colab": {
          "base_uri": "https://localhost:8080/",
          "height": 78
        },
        "id": "vwg1hQzRh6XO",
        "outputId": "9570e858-4dd1-43fd-be83-a2acba6f41fc"
      },
      "execution_count": 72,
      "outputs": [
        {
          "output_type": "execute_result",
          "data": {
            "text/plain": [
              "Matrix([\n",
              "[ 0.0,  5.0, 10.0, 15.0, 20.0],\n",
              "[25.0, 30.0, 35.0, 40.0, 45.0],\n",
              "[50.0, 55.0, 60.0, 65.0, 70.0]])"
            ],
            "text/latex": "$\\displaystyle \\left[\\begin{matrix}0.0 & 5.0 & 10.0 & 15.0 & 20.0\\\\25.0 & 30.0 & 35.0 & 40.0 & 45.0\\\\50.0 & 55.0 & 60.0 & 65.0 & 70.0\\end{matrix}\\right]$"
          },
          "metadata": {},
          "execution_count": 72
        }
      ]
    },
    {
      "cell_type": "code",
      "source": [
        "# third and fourth columns\n",
        "M[:,2:4]"
      ],
      "metadata": {
        "colab": {
          "base_uri": "https://localhost:8080/"
        },
        "id": "6LI3yQrVc37e",
        "outputId": "b164c0ff-3dd5-4011-a68d-ce6469213443"
      },
      "execution_count": 73,
      "outputs": [
        {
          "output_type": "execute_result",
          "data": {
            "text/plain": [
              "array([[ 10.,  15.],\n",
              "       [ 35.,  40.],\n",
              "       [ 60.,  65.],\n",
              "       [ 85.,  90.],\n",
              "       [110., 115.]])"
            ]
          },
          "metadata": {},
          "execution_count": 73
        }
      ]
    },
    {
      "cell_type": "code",
      "source": [
        "sp_M[:, 2:4]"
      ],
      "metadata": {
        "colab": {
          "base_uri": "https://localhost:8080/",
          "height": 119
        },
        "id": "rWHVh4tAiU1P",
        "outputId": "59b06159-b0d9-4b53-dac3-7743310b9c6f"
      },
      "execution_count": 74,
      "outputs": [
        {
          "output_type": "execute_result",
          "data": {
            "text/plain": [
              "Matrix([\n",
              "[ 10.0,  15.0],\n",
              "[ 35.0,  40.0],\n",
              "[ 60.0,  65.0],\n",
              "[ 85.0,  90.0],\n",
              "[110.0, 115.0]])"
            ],
            "text/latex": "$\\displaystyle \\left[\\begin{matrix}10.0 & 15.0\\\\35.0 & 40.0\\\\60.0 & 65.0\\\\85.0 & 90.0\\\\110.0 & 115.0\\end{matrix}\\right]$"
          },
          "metadata": {},
          "execution_count": 74
        }
      ]
    },
    {
      "cell_type": "code",
      "source": [
        "# first 3 rows, 2nd, 3rd and 4th columns\n",
        "M[:3, 1:4]"
      ],
      "metadata": {
        "colab": {
          "base_uri": "https://localhost:8080/"
        },
        "id": "KWQNOX6hdNP9",
        "outputId": "d98258c2-7ff7-4b91-9612-b80533c0f9a5"
      },
      "execution_count": 75,
      "outputs": [
        {
          "output_type": "execute_result",
          "data": {
            "text/plain": [
              "array([[ 5., 10., 15.],\n",
              "       [30., 35., 40.],\n",
              "       [55., 60., 65.]])"
            ]
          },
          "metadata": {},
          "execution_count": 75
        }
      ]
    },
    {
      "cell_type": "code",
      "source": [
        "sp_M[:3, 1:4]"
      ],
      "metadata": {
        "colab": {
          "base_uri": "https://localhost:8080/",
          "height": 78
        },
        "id": "5ZJiI_N-ifbI",
        "outputId": "a5bbe2e3-5ac3-4249-e9d7-7795a29f83b6"
      },
      "execution_count": 76,
      "outputs": [
        {
          "output_type": "execute_result",
          "data": {
            "text/plain": [
              "Matrix([\n",
              "[ 5.0, 10.0, 15.0],\n",
              "[30.0, 35.0, 40.0],\n",
              "[55.0, 60.0, 65.0]])"
            ],
            "text/latex": "$\\displaystyle \\left[\\begin{matrix}5.0 & 10.0 & 15.0\\\\30.0 & 35.0 & 40.0\\\\55.0 & 60.0 & 65.0\\end{matrix}\\right]$"
          },
          "metadata": {},
          "execution_count": 76
        }
      ]
    },
    {
      "cell_type": "code",
      "source": [
        "# first 3 rows, 2nd and 4th columns\n",
        "M[:3, (1, 3)]"
      ],
      "metadata": {
        "colab": {
          "base_uri": "https://localhost:8080/"
        },
        "id": "TQ5MOepfdkcn",
        "outputId": "4f232f0c-f32d-4e1d-eadb-df5b66b3a2b1"
      },
      "execution_count": 77,
      "outputs": [
        {
          "output_type": "execute_result",
          "data": {
            "text/plain": [
              "array([[ 5., 15.],\n",
              "       [30., 40.],\n",
              "       [55., 65.]])"
            ]
          },
          "metadata": {},
          "execution_count": 77
        }
      ]
    },
    {
      "cell_type": "code",
      "source": [
        "sp_M[:3, (1, 3)]"
      ],
      "metadata": {
        "colab": {
          "base_uri": "https://localhost:8080/",
          "height": 78
        },
        "id": "XcBDkJkuij8t",
        "outputId": "d9e3b3b7-337f-446a-92e4-4848ba055c91"
      },
      "execution_count": 78,
      "outputs": [
        {
          "output_type": "execute_result",
          "data": {
            "text/plain": [
              "Matrix([\n",
              "[ 5.0, 15.0],\n",
              "[30.0, 40.0],\n",
              "[55.0, 65.0]])"
            ],
            "text/latex": "$\\displaystyle \\left[\\begin{matrix}5.0 & 15.0\\\\30.0 & 40.0\\\\55.0 & 65.0\\end{matrix}\\right]$"
          },
          "metadata": {},
          "execution_count": 78
        }
      ]
    },
    {
      "cell_type": "code",
      "source": [
        "# the entry at the intersection of \n",
        "# the 2nd row and the 2nd column\n",
        "M[1, 1]"
      ],
      "metadata": {
        "colab": {
          "base_uri": "https://localhost:8080/"
        },
        "id": "WX4x9WsPdx9N",
        "outputId": "a9eee405-a2bc-426e-eb0b-8212a136cece"
      },
      "execution_count": 79,
      "outputs": [
        {
          "output_type": "execute_result",
          "data": {
            "text/plain": [
              "30.0"
            ]
          },
          "metadata": {},
          "execution_count": 79
        }
      ]
    },
    {
      "cell_type": "code",
      "source": [
        "sp_M[1,1]"
      ],
      "metadata": {
        "colab": {
          "base_uri": "https://localhost:8080/",
          "height": 37
        },
        "id": "KdNywH_OipWb",
        "outputId": "ab6e9b84-4063-46e5-b91a-cdefba6d2298"
      },
      "execution_count": 80,
      "outputs": [
        {
          "output_type": "execute_result",
          "data": {
            "text/plain": [
              "30.0000000000000"
            ],
            "text/latex": "$\\displaystyle 30.0$"
          },
          "metadata": {},
          "execution_count": 80
        }
      ]
    },
    {
      "cell_type": "markdown",
      "source": [
        "## 1.2.1.3 Solving Linear Equations Using Python"
      ],
      "metadata": {
        "id": "WV72b3Ioi6ED"
      }
    },
    {
      "cell_type": "markdown",
      "source": [
        "### Example"
      ],
      "metadata": {
        "id": "Z9jdnn4fWBOM"
      }
    },
    {
      "cell_type": "markdown",
      "source": [
        "$\n",
        "\\begin{align}\n",
        "4x + 3y + 2z &= 25 \\\\\n",
        "-2x + 2y + 3z &= -10 \\\\\n",
        "3x - 5y + 2z &= -4\n",
        "\\end{align}\n",
        "$"
      ],
      "metadata": {
        "id": "Nooz5FblWG5H"
      }
    },
    {
      "cell_type": "markdown",
      "source": [
        "#### Solve Using the Inverse Method\n",
        "\n",
        "In a nutshell, the solution is found by multiplying the inverse of the coefficent matrix, $M^{-1}$ by the column matrix, $K$.\n",
        "\n",
        "Let $V$ be the solution, then\n",
        "\n",
        "$V = M^{-1} * K$\n",
        "\n",
        "Details about why this equation works are shown in this notebook. "
      ],
      "metadata": {
        "id": "MovWJ7FgW22H"
      }
    },
    {
      "cell_type": "code",
      "source": [
        "# M is the coefficient matrix\n",
        "M = np.array([[4, 3, 2],\n",
        "              [-2, 2, 3],\n",
        "              [3, -5, 2]])\n",
        "M"
      ],
      "metadata": {
        "colab": {
          "base_uri": "https://localhost:8080/"
        },
        "id": "9U5XYoKGXQpY",
        "outputId": "25f30f26-8990-4872-d1a5-f0f3565b3c2c"
      },
      "execution_count": 81,
      "outputs": [
        {
          "output_type": "execute_result",
          "data": {
            "text/plain": [
              "array([[ 4,  3,  2],\n",
              "       [-2,  2,  3],\n",
              "       [ 3, -5,  2]])"
            ]
          },
          "metadata": {},
          "execution_count": 81
        }
      ]
    },
    {
      "cell_type": "code",
      "source": [
        "# K is the column matrix\n",
        "K = np.array([[25],\n",
        "              [-10],\n",
        "              [-4]])\n",
        "K"
      ],
      "metadata": {
        "colab": {
          "base_uri": "https://localhost:8080/"
        },
        "id": "qO8tZvJKX-4n",
        "outputId": "54ba1a16-c190-42d1-bcbc-65c8400f59d6"
      },
      "execution_count": 82,
      "outputs": [
        {
          "output_type": "execute_result",
          "data": {
            "text/plain": [
              "array([[ 25],\n",
              "       [-10],\n",
              "       [ -4]])"
            ]
          },
          "metadata": {},
          "execution_count": 82
        }
      ]
    },
    {
      "cell_type": "code",
      "source": [
        "V = np.array([['x'],\n",
        "              ['y'],\n",
        "              ['z']])\n",
        "V"
      ],
      "metadata": {
        "colab": {
          "base_uri": "https://localhost:8080/"
        },
        "id": "ZXgK-nuZYUCD",
        "outputId": "e76b95c7-91fc-4307-dcc3-08006e0c9dd7"
      },
      "execution_count": 83,
      "outputs": [
        {
          "output_type": "execute_result",
          "data": {
            "text/plain": [
              "array([['x'],\n",
              "       ['y'],\n",
              "       ['z']], dtype='<U1')"
            ]
          },
          "metadata": {},
          "execution_count": 83
        }
      ]
    },
    {
      "cell_type": "markdown",
      "source": [
        "The system of linear equations in this example can be written as:"
      ],
      "metadata": {
        "id": "FvqqbLyXZX6z"
      }
    },
    {
      "cell_type": "markdown",
      "source": [
        "$\n",
        "M * V = K \\\\\n",
        "\\implies \n",
        "M^{-1} * M * V = M^{-1} * K \\\\\n",
        "\\implies\n",
        "I * V = M^{-1} * K \\\\\n",
        "\\implies\n",
        "V = M^{-1} * K\n",
        "$"
      ],
      "metadata": {
        "id": "zwSz4DZoZePn"
      }
    },
    {
      "cell_type": "code",
      "source": [
        "np.linalg.inv(M).dot(K)"
      ],
      "metadata": {
        "colab": {
          "base_uri": "https://localhost:8080/"
        },
        "id": "dcAP5C51b1bS",
        "outputId": "58939e25-6465-45b7-a3f5-0a15d23cca95"
      },
      "execution_count": 84,
      "outputs": [
        {
          "output_type": "execute_result",
          "data": {
            "text/plain": [
              "array([[ 5.],\n",
              "       [ 3.],\n",
              "       [-2.]])"
            ]
          },
          "metadata": {},
          "execution_count": 84
        }
      ]
    },
    {
      "cell_type": "markdown",
      "source": [
        "##### Sympy"
      ],
      "metadata": {
        "id": "Yn2LG6b7eCyA"
      }
    },
    {
      "cell_type": "code",
      "source": [
        "sp_M = sp.Matrix(M)\n",
        "sp_M"
      ],
      "metadata": {
        "colab": {
          "base_uri": "https://localhost:8080/",
          "height": 0
        },
        "id": "yQ2neumqeIoU",
        "outputId": "e10b5454-ba94-4450-a299-6f4719a6d693"
      },
      "execution_count": 85,
      "outputs": [
        {
          "output_type": "execute_result",
          "data": {
            "text/plain": [
              "Matrix([\n",
              "[ 4,  3, 2],\n",
              "[-2,  2, 3],\n",
              "[ 3, -5, 2]])"
            ],
            "text/latex": "$\\displaystyle \\left[\\begin{matrix}4 & 3 & 2\\\\-2 & 2 & 3\\\\3 & -5 & 2\\end{matrix}\\right]$"
          },
          "metadata": {},
          "execution_count": 85
        }
      ]
    },
    {
      "cell_type": "code",
      "source": [
        "sp_K = sp.Matrix(K)\n",
        "sp_K"
      ],
      "metadata": {
        "colab": {
          "base_uri": "https://localhost:8080/",
          "height": 0
        },
        "id": "wMmGqoVweNBb",
        "outputId": "c662760b-e3ea-43b7-e2ba-e895cac5feb7"
      },
      "execution_count": 86,
      "outputs": [
        {
          "output_type": "execute_result",
          "data": {
            "text/plain": [
              "Matrix([\n",
              "[ 25],\n",
              "[-10],\n",
              "[ -4]])"
            ],
            "text/latex": "$\\displaystyle \\left[\\begin{matrix}25\\\\-10\\\\-4\\end{matrix}\\right]$"
          },
          "metadata": {},
          "execution_count": 86
        }
      ]
    },
    {
      "cell_type": "code",
      "source": [
        "sp_M**-1 * sp_K"
      ],
      "metadata": {
        "colab": {
          "base_uri": "https://localhost:8080/",
          "height": 0
        },
        "id": "KZxdiQBReUrR",
        "outputId": "6ccf99a1-26f7-4ab2-dff9-05bad1025039"
      },
      "execution_count": 87,
      "outputs": [
        {
          "output_type": "execute_result",
          "data": {
            "text/plain": [
              "Matrix([\n",
              "[ 5],\n",
              "[ 3],\n",
              "[-2]])"
            ],
            "text/latex": "$\\displaystyle \\left[\\begin{matrix}5\\\\3\\\\-2\\end{matrix}\\right]$"
          },
          "metadata": {},
          "execution_count": 87
        }
      ]
    },
    {
      "cell_type": "markdown",
      "source": [],
      "metadata": {
        "id": "n8OVEu4umYKP"
      }
    },
    {
      "cell_type": "markdown",
      "source": [
        "##### Symbolic summary of this method"
      ],
      "metadata": {
        "id": "bZFwOAfllmOu"
      }
    },
    {
      "cell_type": "code",
      "source": [
        "x, y, z = sp.symbols('x y z')\n",
        "m_11, m_12, m_13 = sp.symbols('m_11 m_12 m_13')\n",
        "m_21, m_22, m_23 = sp.symbols('m_21 m_22 m_23')\n",
        "m_31, m_32, m_33 = sp.symbols('m_31 m_32 m_33')\n",
        "k_1, k_2, k_3 = sp.symbols('k_1 k_2 k_3')"
      ],
      "metadata": {
        "id": "VAh_XwmclsAP"
      },
      "execution_count": 88,
      "outputs": []
    },
    {
      "cell_type": "code",
      "source": [
        "V = sp.Matrix([[x], [y], [z]])\n",
        "V"
      ],
      "metadata": {
        "colab": {
          "base_uri": "https://localhost:8080/",
          "height": 0
        },
        "id": "E3ch8LT6lzxG",
        "outputId": "1f280615-3d48-4ebc-8ea2-6903443ec78e"
      },
      "execution_count": 89,
      "outputs": [
        {
          "output_type": "execute_result",
          "data": {
            "text/plain": [
              "Matrix([\n",
              "[x],\n",
              "[y],\n",
              "[z]])"
            ],
            "text/latex": "$\\displaystyle \\left[\\begin{matrix}x\\\\y\\\\z\\end{matrix}\\right]$"
          },
          "metadata": {},
          "execution_count": 89
        }
      ]
    },
    {
      "cell_type": "code",
      "source": [
        "M = sp.Matrix([[m_11, m_12, m_13],\n",
        "               [m_21, m_22, m_23],\n",
        "               [m_31, m_32, m_33]])\n",
        "M"
      ],
      "metadata": {
        "colab": {
          "base_uri": "https://localhost:8080/",
          "height": 0
        },
        "id": "SbOEZnoamD8f",
        "outputId": "6fae3d48-45a9-43b5-d1ea-62ea0ef46612"
      },
      "execution_count": 90,
      "outputs": [
        {
          "output_type": "execute_result",
          "data": {
            "text/plain": [
              "Matrix([\n",
              "[m_11, m_12, m_13],\n",
              "[m_21, m_22, m_23],\n",
              "[m_31, m_32, m_33]])"
            ],
            "text/latex": "$\\displaystyle \\left[\\begin{matrix}m_{11} & m_{12} & m_{13}\\\\m_{21} & m_{22} & m_{23}\\\\m_{31} & m_{32} & m_{33}\\end{matrix}\\right]$"
          },
          "metadata": {},
          "execution_count": 90
        }
      ]
    },
    {
      "cell_type": "code",
      "source": [
        "K = sp.Matrix([[k_1], [k_2], [k_3]])\n",
        "K"
      ],
      "metadata": {
        "colab": {
          "base_uri": "https://localhost:8080/",
          "height": 0
        },
        "id": "EJtmC5q-nTD-",
        "outputId": "519413c8-85c0-41ec-b114-71a53f84637b"
      },
      "execution_count": 91,
      "outputs": [
        {
          "output_type": "execute_result",
          "data": {
            "text/plain": [
              "Matrix([\n",
              "[k_1],\n",
              "[k_2],\n",
              "[k_3]])"
            ],
            "text/latex": "$\\displaystyle \\left[\\begin{matrix}k_{1}\\\\k_{2}\\\\k_{3}\\end{matrix}\\right]$"
          },
          "metadata": {},
          "execution_count": 91
        }
      ]
    },
    {
      "cell_type": "code",
      "source": [
        "sp.Eq(M * V, K)"
      ],
      "metadata": {
        "colab": {
          "base_uri": "https://localhost:8080/",
          "height": 0
        },
        "id": "1_cd0ya9oOTZ",
        "outputId": "a2739f80-1244-47f4-edc6-4de26aba04a9"
      },
      "execution_count": 92,
      "outputs": [
        {
          "output_type": "execute_result",
          "data": {
            "text/plain": [
              "Eq(Matrix([\n",
              "[m_11*x + m_12*y + m_13*z],\n",
              "[m_21*x + m_22*y + m_23*z],\n",
              "[m_31*x + m_32*y + m_33*z]]), Matrix([\n",
              "[k_1],\n",
              "[k_2],\n",
              "[k_3]]))"
            ],
            "text/latex": "$\\displaystyle \\left[\\begin{matrix}m_{11} x + m_{12} y + m_{13} z\\\\m_{21} x + m_{22} y + m_{23} z\\\\m_{31} x + m_{32} y + m_{33} z\\end{matrix}\\right] = \\left[\\begin{matrix}k_{1}\\\\k_{2}\\\\k_{3}\\end{matrix}\\right]$"
          },
          "metadata": {},
          "execution_count": 92
        }
      ]
    },
    {
      "cell_type": "code",
      "source": [
        "sp.Eq(V, M**-1 * K)"
      ],
      "metadata": {
        "colab": {
          "base_uri": "https://localhost:8080/",
          "height": 0
        },
        "id": "7M9KC1EvnlJh",
        "outputId": "831d9f02-7925-4c9c-ab66-61b0c6d3223f"
      },
      "execution_count": 93,
      "outputs": [
        {
          "output_type": "execute_result",
          "data": {
            "text/plain": [
              "Eq(Matrix([\n",
              "[x],\n",
              "[y],\n",
              "[z]]), Matrix([\n",
              "[ k_1*(m_22*m_33 - m_23*m_32)/(m_11*m_22*m_33 - m_11*m_23*m_32 - m_12*m_21*m_33 + m_12*m_23*m_31 + m_13*m_21*m_32 - m_13*m_22*m_31) + k_2*(-m_12*m_33 + m_13*m_32)/(m_11*m_22*m_33 - m_11*m_23*m_32 - m_12*m_21*m_33 + m_12*m_23*m_31 + m_13*m_21*m_32 - m_13*m_22*m_31) + k_3*(m_12*m_23 - m_13*m_22)/(m_11*m_22*m_33 - m_11*m_23*m_32 - m_12*m_21*m_33 + m_12*m_23*m_31 + m_13*m_21*m_32 - m_13*m_22*m_31)],\n",
              "[k_1*(-m_21*m_33 + m_23*m_31)/(m_11*m_22*m_33 - m_11*m_23*m_32 - m_12*m_21*m_33 + m_12*m_23*m_31 + m_13*m_21*m_32 - m_13*m_22*m_31) + k_2*(m_11*m_33 - m_13*m_31)/(m_11*m_22*m_33 - m_11*m_23*m_32 - m_12*m_21*m_33 + m_12*m_23*m_31 + m_13*m_21*m_32 - m_13*m_22*m_31) + k_3*(-m_11*m_23 + m_13*m_21)/(m_11*m_22*m_33 - m_11*m_23*m_32 - m_12*m_21*m_33 + m_12*m_23*m_31 + m_13*m_21*m_32 - m_13*m_22*m_31)],\n",
              "[ k_1*(m_21*m_32 - m_22*m_31)/(m_11*m_22*m_33 - m_11*m_23*m_32 - m_12*m_21*m_33 + m_12*m_23*m_31 + m_13*m_21*m_32 - m_13*m_22*m_31) + k_2*(-m_11*m_32 + m_12*m_31)/(m_11*m_22*m_33 - m_11*m_23*m_32 - m_12*m_21*m_33 + m_12*m_23*m_31 + m_13*m_21*m_32 - m_13*m_22*m_31) + k_3*(m_11*m_22 - m_12*m_21)/(m_11*m_22*m_33 - m_11*m_23*m_32 - m_12*m_21*m_33 + m_12*m_23*m_31 + m_13*m_21*m_32 - m_13*m_22*m_31)]]))"
            ],
            "text/latex": "$\\displaystyle \\left[\\begin{matrix}x\\\\y\\\\z\\end{matrix}\\right] = \\left[\\begin{matrix}\\frac{k_{1} \\left(m_{22} m_{33} - m_{23} m_{32}\\right)}{m_{11} m_{22} m_{33} - m_{11} m_{23} m_{32} - m_{12} m_{21} m_{33} + m_{12} m_{23} m_{31} + m_{13} m_{21} m_{32} - m_{13} m_{22} m_{31}} + \\frac{k_{2} \\left(- m_{12} m_{33} + m_{13} m_{32}\\right)}{m_{11} m_{22} m_{33} - m_{11} m_{23} m_{32} - m_{12} m_{21} m_{33} + m_{12} m_{23} m_{31} + m_{13} m_{21} m_{32} - m_{13} m_{22} m_{31}} + \\frac{k_{3} \\left(m_{12} m_{23} - m_{13} m_{22}\\right)}{m_{11} m_{22} m_{33} - m_{11} m_{23} m_{32} - m_{12} m_{21} m_{33} + m_{12} m_{23} m_{31} + m_{13} m_{21} m_{32} - m_{13} m_{22} m_{31}}\\\\\\frac{k_{1} \\left(- m_{21} m_{33} + m_{23} m_{31}\\right)}{m_{11} m_{22} m_{33} - m_{11} m_{23} m_{32} - m_{12} m_{21} m_{33} + m_{12} m_{23} m_{31} + m_{13} m_{21} m_{32} - m_{13} m_{22} m_{31}} + \\frac{k_{2} \\left(m_{11} m_{33} - m_{13} m_{31}\\right)}{m_{11} m_{22} m_{33} - m_{11} m_{23} m_{32} - m_{12} m_{21} m_{33} + m_{12} m_{23} m_{31} + m_{13} m_{21} m_{32} - m_{13} m_{22} m_{31}} + \\frac{k_{3} \\left(- m_{11} m_{23} + m_{13} m_{21}\\right)}{m_{11} m_{22} m_{33} - m_{11} m_{23} m_{32} - m_{12} m_{21} m_{33} + m_{12} m_{23} m_{31} + m_{13} m_{21} m_{32} - m_{13} m_{22} m_{31}}\\\\\\frac{k_{1} \\left(m_{21} m_{32} - m_{22} m_{31}\\right)}{m_{11} m_{22} m_{33} - m_{11} m_{23} m_{32} - m_{12} m_{21} m_{33} + m_{12} m_{23} m_{31} + m_{13} m_{21} m_{32} - m_{13} m_{22} m_{31}} + \\frac{k_{2} \\left(- m_{11} m_{32} + m_{12} m_{31}\\right)}{m_{11} m_{22} m_{33} - m_{11} m_{23} m_{32} - m_{12} m_{21} m_{33} + m_{12} m_{23} m_{31} + m_{13} m_{21} m_{32} - m_{13} m_{22} m_{31}} + \\frac{k_{3} \\left(m_{11} m_{22} - m_{12} m_{21}\\right)}{m_{11} m_{22} m_{33} - m_{11} m_{23} m_{32} - m_{12} m_{21} m_{33} + m_{12} m_{23} m_{31} + m_{13} m_{21} m_{32} - m_{13} m_{22} m_{31}}\\end{matrix}\\right]$"
          },
          "metadata": {},
          "execution_count": 93
        }
      ]
    },
    {
      "cell_type": "markdown",
      "source": [
        "#### Solve Using Reduced Row Echelon Form (SymPy solution only)"
      ],
      "metadata": {
        "id": "H0MD4oUbo4gl"
      }
    },
    {
      "cell_type": "code",
      "source": [
        "# the augmented matrix\n",
        "A = sp.Matrix([[4, 3, 2, 25],\n",
        "               [-2, 2, 3, -10],\n",
        "               [3, -5, 2, -4]])\n",
        "A"
      ],
      "metadata": {
        "colab": {
          "base_uri": "https://localhost:8080/",
          "height": 78
        },
        "id": "6Mf5Y0mupAGg",
        "outputId": "e15b06f6-1542-451d-f2e0-843a62978d4c"
      },
      "execution_count": 94,
      "outputs": [
        {
          "output_type": "execute_result",
          "data": {
            "text/plain": [
              "Matrix([\n",
              "[ 4,  3, 2,  25],\n",
              "[-2,  2, 3, -10],\n",
              "[ 3, -5, 2,  -4]])"
            ],
            "text/latex": "$\\displaystyle \\left[\\begin{matrix}4 & 3 & 2 & 25\\\\-2 & 2 & 3 & -10\\\\3 & -5 & 2 & -4\\end{matrix}\\right]$"
          },
          "metadata": {},
          "execution_count": 94
        }
      ]
    },
    {
      "cell_type": "code",
      "source": [
        "A.rref(pivots=False)"
      ],
      "metadata": {
        "colab": {
          "base_uri": "https://localhost:8080/",
          "height": 78
        },
        "id": "nV3DtuUkqScw",
        "outputId": "cfb87199-e91a-47aa-ebea-7d7311a90847"
      },
      "execution_count": 95,
      "outputs": [
        {
          "output_type": "execute_result",
          "data": {
            "text/plain": [
              "Matrix([\n",
              "[1, 0, 0,  5],\n",
              "[0, 1, 0,  3],\n",
              "[0, 0, 1, -2]])"
            ],
            "text/latex": "$\\displaystyle \\left[\\begin{matrix}1 & 0 & 0 & 5\\\\0 & 1 & 0 & 3\\\\0 & 0 & 1 & -2\\end{matrix}\\right]$"
          },
          "metadata": {},
          "execution_count": 95
        }
      ]
    },
    {
      "cell_type": "markdown",
      "source": [
        "#### Solve Using `sympy.linsolve()` (3 methods)"
      ],
      "metadata": {
        "id": "f2DKjLl8rhbt"
      }
    },
    {
      "cell_type": "markdown",
      "source": [
        "##### Method 1 - List of Equations Form"
      ],
      "metadata": {
        "id": "kl4WK55Bt897"
      }
    },
    {
      "cell_type": "code",
      "source": [
        "# note the change in sign of the values from \n",
        "# the column matrix\n",
        "system = [4 * x + 3 * y + 2 * z - 25,\n",
        "          -2 * x + 2 * y + 3 * z + 10,\n",
        "          3 * x - 5 * y + 2 * z + 4]\n",
        "system"
      ],
      "metadata": {
        "colab": {
          "base_uri": "https://localhost:8080/"
        },
        "id": "xUTvCGTxrqvB",
        "outputId": "fd464a60-dd04-422b-a75f-b97c4ea267d8"
      },
      "execution_count": 96,
      "outputs": [
        {
          "output_type": "execute_result",
          "data": {
            "text/plain": [
              "[4*x + 3*y + 2*z - 25, -2*x + 2*y + 3*z + 10, 3*x - 5*y + 2*z + 4]"
            ]
          },
          "metadata": {},
          "execution_count": 96
        }
      ]
    },
    {
      "cell_type": "code",
      "source": [
        "sp.linsolve(system, (x, y, z))"
      ],
      "metadata": {
        "colab": {
          "base_uri": "https://localhost:8080/",
          "height": 37
        },
        "id": "f_HABQgKtG_G",
        "outputId": "b78d89b5-5670-4226-e8ca-c5f51b938687"
      },
      "execution_count": 97,
      "outputs": [
        {
          "output_type": "execute_result",
          "data": {
            "text/plain": [
              "FiniteSet((5, 3, -2))"
            ],
            "text/latex": "$\\displaystyle \\left\\{\\left( 5, \\  3, \\  -2\\right)\\right\\}$"
          },
          "metadata": {},
          "execution_count": 97
        }
      ]
    },
    {
      "cell_type": "markdown",
      "source": [
        "##### Method 2 - Augmented Matrix Form"
      ],
      "metadata": {
        "id": "f3-DW2BVubux"
      }
    },
    {
      "cell_type": "code",
      "source": [
        "A"
      ],
      "metadata": {
        "colab": {
          "base_uri": "https://localhost:8080/",
          "height": 78
        },
        "id": "7nFrg4imuo1U",
        "outputId": "7857cd48-dc7e-4480-8b44-ff4cfcbe11b0"
      },
      "execution_count": 98,
      "outputs": [
        {
          "output_type": "execute_result",
          "data": {
            "text/plain": [
              "Matrix([\n",
              "[ 4,  3, 2,  25],\n",
              "[-2,  2, 3, -10],\n",
              "[ 3, -5, 2,  -4]])"
            ],
            "text/latex": "$\\displaystyle \\left[\\begin{matrix}4 & 3 & 2 & 25\\\\-2 & 2 & 3 & -10\\\\3 & -5 & 2 & -4\\end{matrix}\\right]$"
          },
          "metadata": {},
          "execution_count": 98
        }
      ]
    },
    {
      "cell_type": "code",
      "source": [
        "sp.linsolve(A, (x, y, z))"
      ],
      "metadata": {
        "colab": {
          "base_uri": "https://localhost:8080/",
          "height": 37
        },
        "id": "0bI9VdFruruH",
        "outputId": "0aafba73-446c-44aa-bccf-934a49339c68"
      },
      "execution_count": 99,
      "outputs": [
        {
          "output_type": "execute_result",
          "data": {
            "text/plain": [
              "FiniteSet((5, 3, -2))"
            ],
            "text/latex": "$\\displaystyle \\left\\{\\left( 5, \\  3, \\  -2\\right)\\right\\}$"
          },
          "metadata": {},
          "execution_count": 99
        }
      ]
    },
    {
      "cell_type": "markdown",
      "source": [
        "##### Method 3 - $A*x=b$ Form"
      ],
      "metadata": {
        "id": "uQTSrGVxuzm0"
      }
    },
    {
      "cell_type": "code",
      "source": [
        "A = sp_M\n",
        "A"
      ],
      "metadata": {
        "colab": {
          "base_uri": "https://localhost:8080/",
          "height": 78
        },
        "id": "7G1oVLTiu8ur",
        "outputId": "7509a24f-f95a-4c8f-b658-29cda2fc2339"
      },
      "execution_count": 100,
      "outputs": [
        {
          "output_type": "execute_result",
          "data": {
            "text/plain": [
              "Matrix([\n",
              "[ 4,  3, 2],\n",
              "[-2,  2, 3],\n",
              "[ 3, -5, 2]])"
            ],
            "text/latex": "$\\displaystyle \\left[\\begin{matrix}4 & 3 & 2\\\\-2 & 2 & 3\\\\3 & -5 & 2\\end{matrix}\\right]$"
          },
          "metadata": {},
          "execution_count": 100
        }
      ]
    },
    {
      "cell_type": "code",
      "source": [
        "b = sp_K\n",
        "b"
      ],
      "metadata": {
        "colab": {
          "base_uri": "https://localhost:8080/",
          "height": 78
        },
        "id": "mDT-0pbdvAQ-",
        "outputId": "d77baa1e-4708-4247-e5d9-85d461f7847d"
      },
      "execution_count": 101,
      "outputs": [
        {
          "output_type": "execute_result",
          "data": {
            "text/plain": [
              "Matrix([\n",
              "[ 25],\n",
              "[-10],\n",
              "[ -4]])"
            ],
            "text/latex": "$\\displaystyle \\left[\\begin{matrix}25\\\\-10\\\\-4\\end{matrix}\\right]$"
          },
          "metadata": {},
          "execution_count": 101
        }
      ]
    },
    {
      "cell_type": "code",
      "source": [
        "sp.linsolve((A, b), x, y, z)"
      ],
      "metadata": {
        "colab": {
          "base_uri": "https://localhost:8080/",
          "height": 37
        },
        "id": "Y5PMIhKPveRb",
        "outputId": "1a6dd4b5-225f-46b9-cfd2-268d4d36c6bf"
      },
      "execution_count": 102,
      "outputs": [
        {
          "output_type": "execute_result",
          "data": {
            "text/plain": [
              "FiniteSet((5, 3, -2))"
            ],
            "text/latex": "$\\displaystyle \\left\\{\\left( 5, \\  3, \\  -2\\right)\\right\\}$"
          },
          "metadata": {},
          "execution_count": 102
        }
      ]
    },
    {
      "cell_type": "markdown",
      "source": [
        "#### Solve Using `np.linalg.solve()`"
      ],
      "metadata": {
        "id": "j-8vQWIuxpJJ"
      }
    },
    {
      "cell_type": "code",
      "source": [
        "M = np.array([[4, 3, 2],\n",
        "              [-2, 2, 3],\n",
        "              [3, -5, 2]])\n",
        "M"
      ],
      "metadata": {
        "colab": {
          "base_uri": "https://localhost:8080/"
        },
        "id": "pLke6fxTziN4",
        "outputId": "bfa539ff-449c-492c-ec28-0f082da858f0"
      },
      "execution_count": 103,
      "outputs": [
        {
          "output_type": "execute_result",
          "data": {
            "text/plain": [
              "array([[ 4,  3,  2],\n",
              "       [-2,  2,  3],\n",
              "       [ 3, -5,  2]])"
            ]
          },
          "metadata": {},
          "execution_count": 103
        }
      ]
    },
    {
      "cell_type": "code",
      "source": [
        "K = np.array([[25],\n",
        "              [-10],\n",
        "              [-4]])\n",
        "K"
      ],
      "metadata": {
        "colab": {
          "base_uri": "https://localhost:8080/"
        },
        "id": "DlXkkcim4Bvv",
        "outputId": "373ba19b-60f6-45b1-a3e0-0c7728d3a37d"
      },
      "execution_count": 104,
      "outputs": [
        {
          "output_type": "execute_result",
          "data": {
            "text/plain": [
              "array([[ 25],\n",
              "       [-10],\n",
              "       [ -4]])"
            ]
          },
          "metadata": {},
          "execution_count": 104
        }
      ]
    },
    {
      "cell_type": "code",
      "source": [
        "np.linalg.solve(M, K)"
      ],
      "metadata": {
        "colab": {
          "base_uri": "https://localhost:8080/"
        },
        "id": "zJR0kEh54Ot8",
        "outputId": "f3dc32ee-ae33-47d2-e616-461fdd73057c"
      },
      "execution_count": 105,
      "outputs": [
        {
          "output_type": "execute_result",
          "data": {
            "text/plain": [
              "array([[ 5.],\n",
              "       [ 3.],\n",
              "       [-2.]])"
            ]
          },
          "metadata": {},
          "execution_count": 105
        }
      ]
    },
    {
      "cell_type": "markdown",
      "source": [
        "## 1.2.1.4 Supplemental Reading - [Linear Algebra](https://patrickwalls.github.io/mathematicalpython/linear-algebra/linear-algebra-scipy/)"
      ],
      "metadata": {
        "id": "c32PJROu5ch-"
      }
    },
    {
      "cell_type": "markdown",
      "source": [
        "### Linear Algebra with SciPy"
      ],
      "metadata": {
        "id": "oJXxpL8BB1yd"
      }
    },
    {
      "cell_type": "code",
      "source": [
        "import scipy.linalg as la"
      ],
      "metadata": {
        "id": "r1Jmfq9B6GWT"
      },
      "execution_count": 106,
      "outputs": []
    },
    {
      "cell_type": "markdown",
      "source": [
        "#### Numpy Arrays: 1D, 2D and 3D"
      ],
      "metadata": {
        "id": "qbtzc22E8Lt2"
      }
    },
    {
      "cell_type": "markdown",
      "source": [
        "##### 1D"
      ],
      "metadata": {
        "id": "k--Ib6tC8n5o"
      }
    },
    {
      "cell_type": "code",
      "source": [
        "a = np.array([1, 3, -2, 1])\n",
        "a"
      ],
      "metadata": {
        "colab": {
          "base_uri": "https://localhost:8080/"
        },
        "id": "9Jqs45Qf8XQH",
        "outputId": "ac3202d8-de90-4b63-8f12-23062db29e66"
      },
      "execution_count": 107,
      "outputs": [
        {
          "output_type": "execute_result",
          "data": {
            "text/plain": [
              "array([ 1,  3, -2,  1])"
            ]
          },
          "metadata": {},
          "execution_count": 107
        }
      ]
    },
    {
      "cell_type": "code",
      "source": [
        "a.ndim, a.shape, a.size"
      ],
      "metadata": {
        "colab": {
          "base_uri": "https://localhost:8080/"
        },
        "id": "PcD2atsa8bID",
        "outputId": "c50188f4-0357-4f08-8421-efe1b007c9e6"
      },
      "execution_count": 108,
      "outputs": [
        {
          "output_type": "execute_result",
          "data": {
            "text/plain": [
              "(1, (4,), 4)"
            ]
          },
          "metadata": {},
          "execution_count": 108
        }
      ]
    },
    {
      "cell_type": "markdown",
      "source": [
        "##### 2D"
      ],
      "metadata": {
        "id": "tx8hefuJ83gb"
      }
    },
    {
      "cell_type": "code",
      "source": [
        "M = np.array([[1, 2],\n",
        "              [3, 7],\n",
        "              [-1, 5]])\n",
        "M"
      ],
      "metadata": {
        "colab": {
          "base_uri": "https://localhost:8080/"
        },
        "id": "EPLdhjTD84rb",
        "outputId": "e0f5c44d-cb00-42de-f46a-86f26b2ab465"
      },
      "execution_count": 109,
      "outputs": [
        {
          "output_type": "execute_result",
          "data": {
            "text/plain": [
              "array([[ 1,  2],\n",
              "       [ 3,  7],\n",
              "       [-1,  5]])"
            ]
          },
          "metadata": {},
          "execution_count": 109
        }
      ]
    },
    {
      "cell_type": "code",
      "source": [
        "M.ndim, M.shape, M.size"
      ],
      "metadata": {
        "colab": {
          "base_uri": "https://localhost:8080/"
        },
        "id": "O9qsNEHF8_Gx",
        "outputId": "069d22b1-3e9f-413c-a8da-5d361b9ae2ec"
      },
      "execution_count": 110,
      "outputs": [
        {
          "output_type": "execute_result",
          "data": {
            "text/plain": [
              "(2, (3, 2), 6)"
            ]
          },
          "metadata": {},
          "execution_count": 110
        }
      ]
    },
    {
      "cell_type": "code",
      "source": [
        "M_column = M[:, 1]\n",
        "print(M_column)"
      ],
      "metadata": {
        "colab": {
          "base_uri": "https://localhost:8080/"
        },
        "id": "vVyvoP2VA8Ik",
        "outputId": "5fb3658c-0b2b-4754-b831-273eb7db4a20"
      },
      "execution_count": 111,
      "outputs": [
        {
          "output_type": "stream",
          "name": "stdout",
          "text": [
            "[2 7 5]\n"
          ]
        }
      ]
    },
    {
      "cell_type": "code",
      "source": [
        "M_column.ndim, M_column.shape, M_column.size"
      ],
      "metadata": {
        "colab": {
          "base_uri": "https://localhost:8080/"
        },
        "id": "0F68alVzBEdU",
        "outputId": "7cec131c-0b73-4fce-9e3d-af837b9936a0"
      },
      "execution_count": 112,
      "outputs": [
        {
          "output_type": "execute_result",
          "data": {
            "text/plain": [
              "(1, (3,), 3)"
            ]
          },
          "metadata": {},
          "execution_count": 112
        }
      ]
    },
    {
      "cell_type": "code",
      "source": [
        "M_column = M_column.reshape(3, 1)"
      ],
      "metadata": {
        "id": "5R38Tpi5BRyb"
      },
      "execution_count": 113,
      "outputs": []
    },
    {
      "cell_type": "code",
      "source": [
        "M_column"
      ],
      "metadata": {
        "colab": {
          "base_uri": "https://localhost:8080/"
        },
        "id": "Wjo58mTkBcKU",
        "outputId": "63c204ea-ec42-4b4d-b540-e83a19130a2b"
      },
      "execution_count": 114,
      "outputs": [
        {
          "output_type": "execute_result",
          "data": {
            "text/plain": [
              "array([[2],\n",
              "       [7],\n",
              "       [5]])"
            ]
          },
          "metadata": {},
          "execution_count": 114
        }
      ]
    },
    {
      "cell_type": "code",
      "source": [
        "M_column.ndim, M_column.shape, M_column.size"
      ],
      "metadata": {
        "colab": {
          "base_uri": "https://localhost:8080/"
        },
        "id": "tRId5b5WBf3m",
        "outputId": "720ed2a4-3885-4be4-b580-0aab3ad74301"
      },
      "execution_count": 115,
      "outputs": [
        {
          "output_type": "execute_result",
          "data": {
            "text/plain": [
              "(2, (3, 1), 3)"
            ]
          },
          "metadata": {},
          "execution_count": 115
        }
      ]
    },
    {
      "cell_type": "markdown",
      "source": [
        "##### 3D"
      ],
      "metadata": {
        "id": "kVvHEv5rCHkO"
      }
    },
    {
      "cell_type": "code",
      "source": [
        "M = np.array([[[1, 2, 100], \n",
        "               [3, 4, 100]],\n",
        "              \n",
        "              [[5, 6, 100], \n",
        "               [7, 8, 100]],\n",
        "              \n",
        "              [[9, 10, 100], \n",
        "               [11, 12, 100]],\n",
        "              \n",
        "              [[13, 14, 100],\n",
        "               [15, 16, 100]]])\n",
        "M"
      ],
      "metadata": {
        "colab": {
          "base_uri": "https://localhost:8080/"
        },
        "id": "BW_B60mOCLOS",
        "outputId": "8a535f8e-239a-413f-f6f9-c77739cae0c6"
      },
      "execution_count": 116,
      "outputs": [
        {
          "output_type": "execute_result",
          "data": {
            "text/plain": [
              "array([[[  1,   2, 100],\n",
              "        [  3,   4, 100]],\n",
              "\n",
              "       [[  5,   6, 100],\n",
              "        [  7,   8, 100]],\n",
              "\n",
              "       [[  9,  10, 100],\n",
              "        [ 11,  12, 100]],\n",
              "\n",
              "       [[ 13,  14, 100],\n",
              "        [ 15,  16, 100]]])"
            ]
          },
          "metadata": {},
          "execution_count": 116
        }
      ]
    },
    {
      "cell_type": "code",
      "source": [
        "M.ndim, M.shape, M.size"
      ],
      "metadata": {
        "colab": {
          "base_uri": "https://localhost:8080/"
        },
        "id": "snlYEG9TCmJX",
        "outputId": "4afb7306-9912-4655-df7c-2578ce4418d0"
      },
      "execution_count": 117,
      "outputs": [
        {
          "output_type": "execute_result",
          "data": {
            "text/plain": [
              "(3, (4, 2, 3), 24)"
            ]
          },
          "metadata": {},
          "execution_count": 117
        }
      ]
    },
    {
      "cell_type": "markdown",
      "source": [
        "#### Matrix Operations and Functions"
      ],
      "metadata": {
        "id": "j1EsA4I1DISo"
      }
    },
    {
      "cell_type": "markdown",
      "source": [
        "##### Arithmetic Operations\n",
        "\n",
        "Arithmetic array operators: `+`, `-`, `/`, `*`, and `**` are performed elementwise on NumPy arrays"
      ],
      "metadata": {
        "id": "lx1tdlbPEOWP"
      }
    },
    {
      "cell_type": "code",
      "source": [
        "M = np.array([[3, 4],\n",
        "              [-1, 5]])\n",
        "M"
      ],
      "metadata": {
        "colab": {
          "base_uri": "https://localhost:8080/"
        },
        "id": "RZSt4SJgEve3",
        "outputId": "e8537338-ccab-44d8-84c4-aed6b3e48fbd"
      },
      "execution_count": 118,
      "outputs": [
        {
          "output_type": "execute_result",
          "data": {
            "text/plain": [
              "array([[ 3,  4],\n",
              "       [-1,  5]])"
            ]
          },
          "metadata": {},
          "execution_count": 118
        }
      ]
    },
    {
      "cell_type": "code",
      "source": [
        "M + M"
      ],
      "metadata": {
        "colab": {
          "base_uri": "https://localhost:8080/"
        },
        "id": "eR8O3YJ3E1Ht",
        "outputId": "6439a9ca-c5a1-4ae7-f334-23a83638d92c"
      },
      "execution_count": 119,
      "outputs": [
        {
          "output_type": "execute_result",
          "data": {
            "text/plain": [
              "array([[ 6,  8],\n",
              "       [-2, 10]])"
            ]
          },
          "metadata": {},
          "execution_count": 119
        }
      ]
    },
    {
      "cell_type": "code",
      "source": [
        "M * M"
      ],
      "metadata": {
        "colab": {
          "base_uri": "https://localhost:8080/"
        },
        "id": "1RtUbKFfE32N",
        "outputId": "18d9921d-5036-43eb-b918-ce2e9699a43c"
      },
      "execution_count": 120,
      "outputs": [
        {
          "output_type": "execute_result",
          "data": {
            "text/plain": [
              "array([[ 9, 16],\n",
              "       [ 1, 25]])"
            ]
          },
          "metadata": {},
          "execution_count": 120
        }
      ]
    },
    {
      "cell_type": "code",
      "source": [
        "M / M"
      ],
      "metadata": {
        "colab": {
          "base_uri": "https://localhost:8080/"
        },
        "id": "G6HR91ZlE6t4",
        "outputId": "f10a60f3-b0d9-4eb9-8f80-30df89ce6537"
      },
      "execution_count": 121,
      "outputs": [
        {
          "output_type": "execute_result",
          "data": {
            "text/plain": [
              "array([[1., 1.],\n",
              "       [1., 1.]])"
            ]
          },
          "metadata": {},
          "execution_count": 121
        }
      ]
    },
    {
      "cell_type": "code",
      "source": [
        "M**3"
      ],
      "metadata": {
        "colab": {
          "base_uri": "https://localhost:8080/"
        },
        "id": "zC66p-QjE8pG",
        "outputId": "27717049-dc77-4ebc-a1e9-734454333dda"
      },
      "execution_count": 122,
      "outputs": [
        {
          "output_type": "execute_result",
          "data": {
            "text/plain": [
              "array([[ 27,  64],\n",
              "       [ -1, 125]])"
            ]
          },
          "metadata": {},
          "execution_count": 122
        }
      ]
    },
    {
      "cell_type": "markdown",
      "source": [
        "##### Matrix Multiplication"
      ],
      "metadata": {
        "id": "KAFtDkKxFJLr"
      }
    },
    {
      "cell_type": "code",
      "source": [
        "M @ M"
      ],
      "metadata": {
        "colab": {
          "base_uri": "https://localhost:8080/"
        },
        "id": "JFb3kHWrH4m_",
        "outputId": "b0a0782d-0015-4999-c1a1-917c0b65b662"
      },
      "execution_count": 123,
      "outputs": [
        {
          "output_type": "execute_result",
          "data": {
            "text/plain": [
              "array([[ 5, 32],\n",
              "       [-8, 21]])"
            ]
          },
          "metadata": {},
          "execution_count": 123
        }
      ]
    },
    {
      "cell_type": "code",
      "source": [
        "M.dot(M)"
      ],
      "metadata": {
        "colab": {
          "base_uri": "https://localhost:8080/"
        },
        "id": "i_1sa23jH8uJ",
        "outputId": "218380d2-2201-492d-bfe0-862339dccb34"
      },
      "execution_count": 124,
      "outputs": [
        {
          "output_type": "execute_result",
          "data": {
            "text/plain": [
              "array([[ 5, 32],\n",
              "       [-8, 21]])"
            ]
          },
          "metadata": {},
          "execution_count": 124
        }
      ]
    },
    {
      "cell_type": "markdown",
      "source": [
        "###### Example\n",
        "\n",
        "Compute $2I + 3A - AB$ for\n",
        "\n",
        "$A = \\left[\\begin{matrix}1 & 3\\\\-1 & 7\\end{matrix}\\right]$\n",
        "\n",
        "$B = \\left[\\begin{matrix}5 & 2\\\\1 & 2\\end{matrix}\\right]$"
      ],
      "metadata": {
        "id": "Q7-9Uw0jIEt9"
      }
    },
    {
      "cell_type": "code",
      "source": [
        "A = np.array([[1, 3],\n",
        "              [-1, 7]])\n",
        "B = np.array([[5, 2],\n",
        "              [1, 2]])\n",
        "I = np.eye(2)"
      ],
      "metadata": {
        "id": "CXZgBNAaIRmm"
      },
      "execution_count": 125,
      "outputs": []
    },
    {
      "cell_type": "code",
      "source": [
        "2 * I + 3 * A - A @ B"
      ],
      "metadata": {
        "colab": {
          "base_uri": "https://localhost:8080/"
        },
        "id": "MXmTgotoJKvm",
        "outputId": "8c638c97-28ad-4f4f-fc43-64312e6c8336"
      },
      "execution_count": 126,
      "outputs": [
        {
          "output_type": "execute_result",
          "data": {
            "text/plain": [
              "array([[-3.,  1.],\n",
              "       [-5., 11.]])"
            ]
          },
          "metadata": {},
          "execution_count": 126
        }
      ]
    },
    {
      "cell_type": "markdown",
      "source": [
        "##### Matrix Powers - `np.linalg.matrix_power()`"
      ],
      "metadata": {
        "id": "t0QghoORLRsD"
      }
    },
    {
      "cell_type": "code",
      "source": [
        "M"
      ],
      "metadata": {
        "colab": {
          "base_uri": "https://localhost:8080/"
        },
        "id": "pfYw5qECM-mT",
        "outputId": "aba337bc-bf34-49dc-a9cd-958e2bc114c9"
      },
      "execution_count": 127,
      "outputs": [
        {
          "output_type": "execute_result",
          "data": {
            "text/plain": [
              "array([[ 3,  4],\n",
              "       [-1,  5]])"
            ]
          },
          "metadata": {},
          "execution_count": 127
        }
      ]
    },
    {
      "cell_type": "code",
      "source": [
        "np.linalg.matrix_power(M, 3)"
      ],
      "metadata": {
        "colab": {
          "base_uri": "https://localhost:8080/"
        },
        "id": "C1l7-b-9NCoN",
        "outputId": "e7d47b95-a22e-42f6-fb41-1e5a4fd6f23e"
      },
      "execution_count": 128,
      "outputs": [
        {
          "output_type": "execute_result",
          "data": {
            "text/plain": [
              "array([[-17, 180],\n",
              "       [-45,  73]])"
            ]
          },
          "metadata": {},
          "execution_count": 128
        }
      ]
    },
    {
      "cell_type": "code",
      "source": [
        "M @ M @ M"
      ],
      "metadata": {
        "colab": {
          "base_uri": "https://localhost:8080/"
        },
        "id": "GcM_uzTGNLbH",
        "outputId": "a0d11bb8-237e-43b5-ab98-ee3d14214a84"
      },
      "execution_count": 129,
      "outputs": [
        {
          "output_type": "execute_result",
          "data": {
            "text/plain": [
              "array([[-17, 180],\n",
              "       [-45,  73]])"
            ]
          },
          "metadata": {},
          "execution_count": 129
        }
      ]
    },
    {
      "cell_type": "code",
      "source": [
        "M.dot(M).dot(M)"
      ],
      "metadata": {
        "colab": {
          "base_uri": "https://localhost:8080/"
        },
        "id": "dFPZ-eC-NRCP",
        "outputId": "ee2258e0-b22c-4879-d2c5-f976e8beee62"
      },
      "execution_count": 130,
      "outputs": [
        {
          "output_type": "execute_result",
          "data": {
            "text/plain": [
              "array([[-17, 180],\n",
              "       [-45,  73]])"
            ]
          },
          "metadata": {},
          "execution_count": 130
        }
      ]
    },
    {
      "cell_type": "markdown",
      "source": [
        "##### Transpose"
      ],
      "metadata": {
        "id": "EY9T1mpONXGA"
      }
    },
    {
      "cell_type": "code",
      "source": [
        "M"
      ],
      "metadata": {
        "colab": {
          "base_uri": "https://localhost:8080/"
        },
        "id": "na0GZ8tTNwGx",
        "outputId": "58891e67-c0ae-4722-f850-d682258ff785"
      },
      "execution_count": 131,
      "outputs": [
        {
          "output_type": "execute_result",
          "data": {
            "text/plain": [
              "array([[ 3,  4],\n",
              "       [-1,  5]])"
            ]
          },
          "metadata": {},
          "execution_count": 131
        }
      ]
    },
    {
      "cell_type": "code",
      "source": [
        "M.T"
      ],
      "metadata": {
        "colab": {
          "base_uri": "https://localhost:8080/"
        },
        "id": "okRoMbRYNxwo",
        "outputId": "8d6d3f04-9dce-4ac8-eaa2-0bce89ba97d2"
      },
      "execution_count": 132,
      "outputs": [
        {
          "output_type": "execute_result",
          "data": {
            "text/plain": [
              "array([[ 3, -1],\n",
              "       [ 4,  5]])"
            ]
          },
          "metadata": {},
          "execution_count": 132
        }
      ]
    },
    {
      "cell_type": "markdown",
      "source": [
        "Notice that $MM^{T}$ is a symmetric matrix"
      ],
      "metadata": {
        "id": "5vAATds1N64F"
      }
    },
    {
      "cell_type": "code",
      "source": [
        "M @ M.T"
      ],
      "metadata": {
        "colab": {
          "base_uri": "https://localhost:8080/"
        },
        "id": "NuDtYGCdN3xs",
        "outputId": "2b0719a3-7661-4f63-a329-183a486249da"
      },
      "execution_count": 133,
      "outputs": [
        {
          "output_type": "execute_result",
          "data": {
            "text/plain": [
              "array([[25, 17],\n",
              "       [17, 26]])"
            ]
          },
          "metadata": {},
          "execution_count": 133
        }
      ]
    },
    {
      "cell_type": "code",
      "source": [
        "M.T @ M"
      ],
      "metadata": {
        "colab": {
          "base_uri": "https://localhost:8080/"
        },
        "id": "7avMozIOOCo_",
        "outputId": "aee52abb-f46f-4573-eca0-cb24f8d698f6"
      },
      "execution_count": 134,
      "outputs": [
        {
          "output_type": "execute_result",
          "data": {
            "text/plain": [
              "array([[10,  7],\n",
              "       [ 7, 41]])"
            ]
          },
          "metadata": {},
          "execution_count": 134
        }
      ]
    },
    {
      "cell_type": "markdown",
      "source": [
        "##### Inverse"
      ],
      "metadata": {
        "id": "0TojeFs1QnH8"
      }
    },
    {
      "cell_type": "code",
      "source": [
        "A = np.array([[1, 2],\n",
        "              [3, 4]])\n",
        "A"
      ],
      "metadata": {
        "colab": {
          "base_uri": "https://localhost:8080/"
        },
        "id": "sHsaZQsRQsHQ",
        "outputId": "673d92cf-0fbd-4723-a308-6e2603a73761"
      },
      "execution_count": 135,
      "outputs": [
        {
          "output_type": "execute_result",
          "data": {
            "text/plain": [
              "array([[1, 2],\n",
              "       [3, 4]])"
            ]
          },
          "metadata": {},
          "execution_count": 135
        }
      ]
    },
    {
      "cell_type": "code",
      "source": [
        "np.linalg.inv(A)"
      ],
      "metadata": {
        "colab": {
          "base_uri": "https://localhost:8080/"
        },
        "id": "MjODd9RoQ1D1",
        "outputId": "85091f1a-65de-46bf-8ec1-6a7d030ca32e"
      },
      "execution_count": 136,
      "outputs": [
        {
          "output_type": "execute_result",
          "data": {
            "text/plain": [
              "array([[-2. ,  1. ],\n",
              "       [ 1.5, -0.5]])"
            ]
          },
          "metadata": {},
          "execution_count": 136
        }
      ]
    },
    {
      "cell_type": "markdown",
      "source": [
        "##### Trace"
      ],
      "metadata": {
        "id": "mI27MHNBRQEu"
      }
    },
    {
      "cell_type": "code",
      "source": [
        "np.trace(A)"
      ],
      "metadata": {
        "colab": {
          "base_uri": "https://localhost:8080/"
        },
        "id": "0f66PmWgQ4SQ",
        "outputId": "e16ce641-a83a-4be0-9bbd-c65648881897"
      },
      "execution_count": 137,
      "outputs": [
        {
          "output_type": "execute_result",
          "data": {
            "text/plain": [
              "5"
            ]
          },
          "metadata": {},
          "execution_count": 137
        }
      ]
    },
    {
      "cell_type": "markdown",
      "source": [
        "##### Determinant"
      ],
      "metadata": {
        "id": "M7RPrRT-SdMr"
      }
    },
    {
      "cell_type": "code",
      "source": [
        "# scipy\n",
        "la.det(A)"
      ],
      "metadata": {
        "colab": {
          "base_uri": "https://localhost:8080/"
        },
        "id": "za9JQmzgRlLe",
        "outputId": "b90b4788-4078-42de-def7-ebbe98d3b191"
      },
      "execution_count": 138,
      "outputs": [
        {
          "output_type": "execute_result",
          "data": {
            "text/plain": [
              "-2.0"
            ]
          },
          "metadata": {},
          "execution_count": 138
        }
      ]
    },
    {
      "cell_type": "code",
      "source": [
        "# numpy \n",
        "np.linalg.det(A)"
      ],
      "metadata": {
        "colab": {
          "base_uri": "https://localhost:8080/"
        },
        "id": "fYfGh_mCSwL7",
        "outputId": "a3636956-dddd-4387-d470-f4d89205559e"
      },
      "execution_count": 139,
      "outputs": [
        {
          "output_type": "execute_result",
          "data": {
            "text/plain": [
              "-2.0000000000000004"
            ]
          },
          "metadata": {},
          "execution_count": 139
        }
      ]
    },
    {
      "cell_type": "code",
      "source": [
        "sp_A = sp.Matrix(A)\n",
        "sp_A"
      ],
      "metadata": {
        "colab": {
          "base_uri": "https://localhost:8080/",
          "height": 58
        },
        "id": "N2eViHGdS6tX",
        "outputId": "31eacfb6-4b72-475b-be4c-0ed249016c46"
      },
      "execution_count": 140,
      "outputs": [
        {
          "output_type": "execute_result",
          "data": {
            "text/plain": [
              "Matrix([\n",
              "[1, 2],\n",
              "[3, 4]])"
            ],
            "text/latex": "$\\displaystyle \\left[\\begin{matrix}1 & 2\\\\3 & 4\\end{matrix}\\right]$"
          },
          "metadata": {},
          "execution_count": 140
        }
      ]
    },
    {
      "cell_type": "code",
      "source": [
        "sp_A.det(), sp.det(sp_A)"
      ],
      "metadata": {
        "colab": {
          "base_uri": "https://localhost:8080/"
        },
        "id": "-zje1VzWS-Kd",
        "outputId": "f0b5298b-df09-4c16-9d3a-4d4377ee1946"
      },
      "execution_count": 141,
      "outputs": [
        {
          "output_type": "execute_result",
          "data": {
            "text/plain": [
              "(-2, -2)"
            ]
          },
          "metadata": {},
          "execution_count": 141
        }
      ]
    },
    {
      "cell_type": "markdown",
      "source": [
        "### Solving Linear Systems"
      ],
      "metadata": {
        "id": "cqaDlSC_TL2_"
      }
    },
    {
      "cell_type": "markdown",
      "source": [
        "#### Linear Systems"
      ],
      "metadata": {
        "id": "rDwqPw3FTwiI"
      }
    },
    {
      "cell_type": "markdown",
      "source": [
        "A **linear system of equations** is a collection of linear equations:\n",
        "\n",
        "$\n",
        "a_{00}x_{0} + a_{01}x_{1} + \\dots + a_{0n}x_{n} = b_{0} \\\\\n",
        "a_{10}x_{0} + a_{11}x_{1} + \\dots + a_{1n}x_{n} = b_{1} \\\\\n",
        "\\vdots \\\\\n",
        "a_{m0}x_{0} + a_{m1}x_{1} + \\dots + a_{mn}x_{n} = b_{m}\n",
        "$"
      ],
      "metadata": {
        "id": "6qE7baBzT1Kv"
      }
    },
    {
      "cell_type": "markdown",
      "source": [
        "In matrix notation, a linear system is $Ax = b$ where\n",
        "\n",
        "$A = \n",
        "\\left[\n",
        "\\begin{matrix}\n",
        "a_{00} & a_{01} & \\dots & a_{0n} \\\\\n",
        "a_{10} & a_{11} & \\dots & a \\\\\n",
        "\\vdots & & & \\vdots \\\\\n",
        "a_{m0} & a_{m1} & \\dots & a_{mn}\n",
        "\\end{matrix}\n",
        "\\right] ,\n",
        "x = \n",
        "\\left[\n",
        "\\begin{matrix}\n",
        "x_{0}  \\\\\n",
        "x_{1}  \\\\\n",
        "\\vdots  \\\\\n",
        "x_{n}  \n",
        "\\end{matrix}\n",
        "\\right] ,\n",
        "b = \n",
        "\\left[\n",
        "\\begin{matrix}\n",
        "b_{0}  \\\\\n",
        "b_{1}  \\\\\n",
        "\\vdots  \\\\\n",
        "b_{m}  \n",
        "\\end{matrix}\n",
        "\\right]\n",
        "$"
      ],
      "metadata": {
        "id": "RhaRySJZVF4G"
      }
    },
    {
      "cell_type": "markdown",
      "source": [
        "#### Gaussian Elimination\n",
        "\n",
        "Perform elementary row operations to reduce the system to its row echelen form and then solve"
      ],
      "metadata": {
        "id": "jjVXTMpMYZN-"
      }
    },
    {
      "cell_type": "markdown",
      "source": [
        "###### Elmentary Row Operations\n",
        "\n",
        "1. Add $k$ times row $j$ to row $i$\n",
        "2. Multiply row $i$ by scalar $k$\n",
        "3. Switch rows $i$ and $j$"
      ],
      "metadata": {
        "id": "JGrSL1kKYyE6"
      }
    }
  ]
}