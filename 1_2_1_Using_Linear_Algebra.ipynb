{
  "nbformat": 4,
  "nbformat_minor": 0,
  "metadata": {
    "colab": {
      "provenance": [],
      "collapsed_sections": [
        "dIuLxySQGp1Z",
        "9nOeuE29HMc6",
        "wiv0axR_I-Nv",
        "N0R6NkoM10by",
        "6sYmKl2gJeSV",
        "QNkCBv1D4CkP",
        "0RC7kAdHKm8m",
        "9_Beszt5781k",
        "caV6TXlzQ1yb",
        "HBIKF1GAZbxV",
        "nrXLeIGhfGcy",
        "yAj3bREdajzt",
        "Yn2LG6b7eCyA",
        "bZFwOAfllmOu"
      ],
      "toc_visible": true,
      "authorship_tag": "ABX9TyO1zW0swzJIHvI3uRP7cFol",
      "include_colab_link": true
    },
    "kernelspec": {
      "name": "python3",
      "display_name": "Python 3"
    },
    "language_info": {
      "name": "python"
    }
  },
  "cells": [
    {
      "cell_type": "markdown",
      "metadata": {
        "id": "view-in-github",
        "colab_type": "text"
      },
      "source": [
        "<a href=\"https://colab.research.google.com/github/PaulToronto/Howard-University-Coursera-Linear-Algebra-For-Data-Science-Specialization/blob/main/1_2_1_Using_Linear_Algebra.ipynb\" target=\"_parent\"><img src=\"https://colab.research.google.com/assets/colab-badge.svg\" alt=\"Open In Colab\"/></a>"
      ]
    },
    {
      "cell_type": "markdown",
      "source": [
        "# 1.2.1 Using Linear Algebra"
      ],
      "metadata": {
        "id": "sQpkE21IjKyD"
      }
    },
    {
      "cell_type": "code",
      "source": [
        "import numpy as np\n",
        "import random\n",
        "import sympy as sp\n",
        "import matplotlib.pyplot as plt"
      ],
      "metadata": {
        "id": "NLxCc2G2mJkg"
      },
      "execution_count": 216,
      "outputs": []
    },
    {
      "cell_type": "markdown",
      "source": [
        "## 1.2.1.1 Introduction to Linear Algebra Functions in Python"
      ],
      "metadata": {
        "id": "5oYPHLHwkVSe"
      }
    },
    {
      "cell_type": "code",
      "execution_count": 217,
      "metadata": {
        "id": "9dz_frzXjFgD"
      },
      "outputs": [],
      "source": [
        "M = np.linspace(-8, 8, 9).reshape(3, 3)\n",
        "N = np.random.randint(-8, 8, size=(3, 3))\n",
        "O = 2*N\n",
        "\n",
        "sp_M = sp.Matrix(M)\n",
        "sp_N = sp.Matrix(N)\n",
        "sp_O = sp.Matrix(O)\n",
        "\n",
        "v1 = np.array([1, 3, 5, 7])\n",
        "v2 = np.array([2, 4, 6, 8])\n",
        "v3 = np.array([-2, 5, 1, 3])\n",
        "\n",
        "sp_v1 = sp.Matrix(v1)\n",
        "sp_v2 = sp.Matrix(v2)\n",
        "sp_v3 = sp.Matrix(v3)"
      ]
    },
    {
      "cell_type": "markdown",
      "source": [
        "### `dot()` for two vectors\n",
        "\n",
        "The `dot` function calculates the **dot product** of two vectors."
      ],
      "metadata": {
        "id": "3b5hR8JCnhLI"
      }
    },
    {
      "cell_type": "code",
      "source": [
        "v1, v2"
      ],
      "metadata": {
        "colab": {
          "base_uri": "https://localhost:8080/"
        },
        "id": "9pVw6mWZnws7",
        "outputId": "864fde4f-4910-4fca-bd8f-6a4a42ed6aac"
      },
      "execution_count": 218,
      "outputs": [
        {
          "output_type": "execute_result",
          "data": {
            "text/plain": [
              "(array([1, 3, 5, 7]), array([2, 4, 6, 8]))"
            ]
          },
          "metadata": {},
          "execution_count": 218
        }
      ]
    },
    {
      "cell_type": "code",
      "source": [
        "total = 0;\n",
        "for i in range(4):\n",
        "    total += v1[i] * v2[i]\n",
        "\n",
        "total"
      ],
      "metadata": {
        "colab": {
          "base_uri": "https://localhost:8080/"
        },
        "id": "KB7MalF67Uj-",
        "outputId": "d18b98aa-1f5c-467d-9077-930871da2f07"
      },
      "execution_count": 219,
      "outputs": [
        {
          "output_type": "execute_result",
          "data": {
            "text/plain": [
              "100"
            ]
          },
          "metadata": {},
          "execution_count": 219
        }
      ]
    },
    {
      "cell_type": "code",
      "source": [
        "sum([v1[i] * v2[i] for i in range(4)])"
      ],
      "metadata": {
        "colab": {
          "base_uri": "https://localhost:8080/"
        },
        "id": "eJE5cgt08Ecx",
        "outputId": "358926ee-2303-4b3d-8818-f07f02e0aaf9"
      },
      "execution_count": 220,
      "outputs": [
        {
          "output_type": "execute_result",
          "data": {
            "text/plain": [
              "100"
            ]
          },
          "metadata": {},
          "execution_count": 220
        }
      ]
    },
    {
      "cell_type": "code",
      "source": [
        "np.dot(v1, v2)"
      ],
      "metadata": {
        "colab": {
          "base_uri": "https://localhost:8080/"
        },
        "id": "6uvv264nn3m8",
        "outputId": "5b305b5b-e2ae-4116-932c-da0367148e96"
      },
      "execution_count": 221,
      "outputs": [
        {
          "output_type": "execute_result",
          "data": {
            "text/plain": [
              "100"
            ]
          },
          "metadata": {},
          "execution_count": 221
        }
      ]
    },
    {
      "cell_type": "code",
      "source": [
        "v1.dot(v2)"
      ],
      "metadata": {
        "colab": {
          "base_uri": "https://localhost:8080/"
        },
        "id": "NOnR_L29n99W",
        "outputId": "bd47df78-2033-485b-ee41-fef6b74decaf"
      },
      "execution_count": 222,
      "outputs": [
        {
          "output_type": "execute_result",
          "data": {
            "text/plain": [
              "100"
            ]
          },
          "metadata": {},
          "execution_count": 222
        }
      ]
    },
    {
      "cell_type": "markdown",
      "source": [
        "#### Sympy"
      ],
      "metadata": {
        "id": "2aqxi8jHDX3V"
      }
    },
    {
      "cell_type": "code",
      "source": [
        "sp.DotProduct(sp_v1, sp_v2)"
      ],
      "metadata": {
        "colab": {
          "base_uri": "https://localhost:8080/",
          "height": 99
        },
        "id": "5EHvHDybEDAk",
        "outputId": "e2ba5bbc-5ebc-4bf2-956e-91a63f51f338"
      },
      "execution_count": 223,
      "outputs": [
        {
          "output_type": "execute_result",
          "data": {
            "text/plain": [
              "DotProduct(Matrix([\n",
              "[1],\n",
              "[3],\n",
              "[5],\n",
              "[7]]), Matrix([\n",
              "[2],\n",
              "[4],\n",
              "[6],\n",
              "[8]]))"
            ],
            "text/latex": "$\\displaystyle DotProduct\\left(\\left[\\begin{matrix}1\\\\3\\\\5\\\\7\\end{matrix}\\right], \\left[\\begin{matrix}2\\\\4\\\\6\\\\8\\end{matrix}\\right]\\right)$"
          },
          "metadata": {},
          "execution_count": 223
        }
      ]
    },
    {
      "cell_type": "code",
      "source": [
        "sp.DotProduct(sp_v1, sp_v2).simplify()"
      ],
      "metadata": {
        "colab": {
          "base_uri": "https://localhost:8080/",
          "height": 37
        },
        "id": "WQsNcbYeDf8a",
        "outputId": "4d45ab65-7de5-417a-83d2-b608fa0ad9c6"
      },
      "execution_count": 224,
      "outputs": [
        {
          "output_type": "execute_result",
          "data": {
            "text/plain": [
              "100"
            ],
            "text/latex": "$\\displaystyle 100$"
          },
          "metadata": {},
          "execution_count": 224
        }
      ]
    },
    {
      "cell_type": "code",
      "source": [
        "sp_v1.dot(sp_v2)"
      ],
      "metadata": {
        "colab": {
          "base_uri": "https://localhost:8080/",
          "height": 37
        },
        "id": "eXen28nZF4ML",
        "outputId": "534f98c1-f6a4-42bb-dca2-6735b1f45081"
      },
      "execution_count": 225,
      "outputs": [
        {
          "output_type": "execute_result",
          "data": {
            "text/plain": [
              "100"
            ],
            "text/latex": "$\\displaystyle 100$"
          },
          "metadata": {},
          "execution_count": 225
        }
      ]
    },
    {
      "cell_type": "markdown",
      "source": [
        "### `dot()` for two matrices\n",
        "\n",
        "This is matrix multiplication"
      ],
      "metadata": {
        "id": "XDOCUTSWrj_A"
      }
    },
    {
      "cell_type": "code",
      "source": [
        "M"
      ],
      "metadata": {
        "colab": {
          "base_uri": "https://localhost:8080/"
        },
        "id": "LrzXs78NoS05",
        "outputId": "0e2e30c0-9c63-4dfc-e8f9-d22b8403b6f3"
      },
      "execution_count": 226,
      "outputs": [
        {
          "output_type": "execute_result",
          "data": {
            "text/plain": [
              "array([[-8., -6., -4.],\n",
              "       [-2.,  0.,  2.],\n",
              "       [ 4.,  6.,  8.]])"
            ]
          },
          "metadata": {},
          "execution_count": 226
        }
      ]
    },
    {
      "cell_type": "code",
      "source": [
        "N"
      ],
      "metadata": {
        "colab": {
          "base_uri": "https://localhost:8080/"
        },
        "id": "c1r5D1aToVGc",
        "outputId": "0a607d9a-634c-4db3-e421-419e5832d94f"
      },
      "execution_count": 227,
      "outputs": [
        {
          "output_type": "execute_result",
          "data": {
            "text/plain": [
              "array([[ 6, -5, -1],\n",
              "       [ 5,  3,  0],\n",
              "       [ 0, -3,  7]])"
            ]
          },
          "metadata": {},
          "execution_count": 227
        }
      ]
    },
    {
      "cell_type": "code",
      "source": [
        "np.dot(N, M)"
      ],
      "metadata": {
        "colab": {
          "base_uri": "https://localhost:8080/"
        },
        "id": "Vi0fzWqHsi30",
        "outputId": "dac02681-3bc0-460d-f6bf-7b2fbb48f300"
      },
      "execution_count": 228,
      "outputs": [
        {
          "output_type": "execute_result",
          "data": {
            "text/plain": [
              "array([[-42., -42., -42.],\n",
              "       [-46., -30., -14.],\n",
              "       [ 34.,  42.,  50.]])"
            ]
          },
          "metadata": {},
          "execution_count": 228
        }
      ]
    },
    {
      "cell_type": "code",
      "source": [
        "N.dot(M)"
      ],
      "metadata": {
        "colab": {
          "base_uri": "https://localhost:8080/"
        },
        "id": "xSueM4sasmQ9",
        "outputId": "207925c8-a87a-4d88-83ce-aa2d17ee1ee7"
      },
      "execution_count": 229,
      "outputs": [
        {
          "output_type": "execute_result",
          "data": {
            "text/plain": [
              "array([[-42., -42., -42.],\n",
              "       [-46., -30., -14.],\n",
              "       [ 34.,  42.,  50.]])"
            ]
          },
          "metadata": {},
          "execution_count": 229
        }
      ]
    },
    {
      "cell_type": "code",
      "source": [
        "np.matmul(N, M)"
      ],
      "metadata": {
        "colab": {
          "base_uri": "https://localhost:8080/"
        },
        "id": "1vWXQ4sprweu",
        "outputId": "60d21c01-a09d-4687-ca65-6ec030632201"
      },
      "execution_count": 230,
      "outputs": [
        {
          "output_type": "execute_result",
          "data": {
            "text/plain": [
              "array([[-42., -42., -42.],\n",
              "       [-46., -30., -14.],\n",
              "       [ 34.,  42.,  50.]])"
            ]
          },
          "metadata": {},
          "execution_count": 230
        }
      ]
    },
    {
      "cell_type": "markdown",
      "source": [
        "#### SymPy"
      ],
      "metadata": {
        "id": "TItFvqeSCiy9"
      }
    },
    {
      "cell_type": "code",
      "source": [
        "sp_N * sp_M"
      ],
      "metadata": {
        "colab": {
          "base_uri": "https://localhost:8080/",
          "height": 78
        },
        "id": "u9gwVhiRGGiC",
        "outputId": "0f820d5e-8b22-4f67-a1d0-24dacc65ea68"
      },
      "execution_count": 231,
      "outputs": [
        {
          "output_type": "execute_result",
          "data": {
            "text/plain": [
              "Matrix([\n",
              "[-42.0, -42.0, -42.0],\n",
              "[-46.0, -30.0, -14.0],\n",
              "[ 34.0,  42.0,  50.0]])"
            ],
            "text/latex": "$\\displaystyle \\left[\\begin{matrix}-42.0 & -42.0 & -42.0\\\\-46.0 & -30.0 & -14.0\\\\34.0 & 42.0 & 50.0\\end{matrix}\\right]$"
          },
          "metadata": {},
          "execution_count": 231
        }
      ]
    },
    {
      "cell_type": "markdown",
      "source": [
        "### `linalg.multi_dot()`"
      ],
      "metadata": {
        "id": "A22X_8CWtKcD"
      }
    },
    {
      "cell_type": "code",
      "source": [
        "np.linalg.multi_dot([M, N, O])"
      ],
      "metadata": {
        "colab": {
          "base_uri": "https://localhost:8080/"
        },
        "id": "csBkMYmltrR2",
        "outputId": "36a4778c-4efe-4140-bf56-aa01a122a1f5"
      },
      "execution_count": 232,
      "outputs": [
        {
          "output_type": "execute_result",
          "data": {
            "text/plain": [
              "array([[ -596.,  1104.,  -124.],\n",
              "       [ -104.,    48.,   248.],\n",
              "       [  388., -1008.,   620.]])"
            ]
          },
          "metadata": {},
          "execution_count": 232
        }
      ]
    },
    {
      "cell_type": "code",
      "source": [
        "M.dot(N).dot(O)"
      ],
      "metadata": {
        "colab": {
          "base_uri": "https://localhost:8080/"
        },
        "id": "OnTeiJXsAxkH",
        "outputId": "23727b59-a194-41b0-f75f-1f6709106eef"
      },
      "execution_count": 233,
      "outputs": [
        {
          "output_type": "execute_result",
          "data": {
            "text/plain": [
              "array([[ -596.,  1104.,  -124.],\n",
              "       [ -104.,    48.,   248.],\n",
              "       [  388., -1008.,   620.]])"
            ]
          },
          "metadata": {},
          "execution_count": 233
        }
      ]
    },
    {
      "cell_type": "markdown",
      "source": [
        "#### SymPy"
      ],
      "metadata": {
        "id": "dIuLxySQGp1Z"
      }
    },
    {
      "cell_type": "code",
      "source": [
        "sp_M * sp_N * sp_O"
      ],
      "metadata": {
        "colab": {
          "base_uri": "https://localhost:8080/",
          "height": 0
        },
        "id": "VpB1BrpXGsVu",
        "outputId": "79c79452-02cd-452b-b572-bd46a4bf6625"
      },
      "execution_count": 234,
      "outputs": [
        {
          "output_type": "execute_result",
          "data": {
            "text/plain": [
              "Matrix([\n",
              "[-596.0,  1104.0, -124.0],\n",
              "[-104.0,    48.0,  248.0],\n",
              "[ 388.0, -1008.0,  620.0]])"
            ],
            "text/latex": "$\\displaystyle \\left[\\begin{matrix}-596.0 & 1104.0 & -124.0\\\\-104.0 & 48.0 & 248.0\\\\388.0 & -1008.0 & 620.0\\end{matrix}\\right]$"
          },
          "metadata": {},
          "execution_count": 234
        }
      ]
    },
    {
      "cell_type": "markdown",
      "source": [
        "### `vdot()`"
      ],
      "metadata": {
        "id": "m_dqROlXv7FR"
      }
    },
    {
      "cell_type": "code",
      "source": [
        "np.vdot(v1, v2), np.dot(v1, v2)"
      ],
      "metadata": {
        "colab": {
          "base_uri": "https://localhost:8080/"
        },
        "id": "mr2O8jMHv_MI",
        "outputId": "a00a43ba-b44b-4f4c-a757-58998534a232"
      },
      "execution_count": 235,
      "outputs": [
        {
          "output_type": "execute_result",
          "data": {
            "text/plain": [
              "(100, 100)"
            ]
          },
          "metadata": {},
          "execution_count": 235
        }
      ]
    },
    {
      "cell_type": "markdown",
      "source": [
        "#### SymPy"
      ],
      "metadata": {
        "id": "9nOeuE29HMc6"
      }
    },
    {
      "cell_type": "code",
      "source": [
        "sp_v1.dot(sp_v2)"
      ],
      "metadata": {
        "colab": {
          "base_uri": "https://localhost:8080/",
          "height": 0
        },
        "id": "qmITt9XRHORi",
        "outputId": "2b1891ed-b2a3-47dd-ca12-86c2d5aef8ca"
      },
      "execution_count": 236,
      "outputs": [
        {
          "output_type": "execute_result",
          "data": {
            "text/plain": [
              "100"
            ],
            "text/latex": "$\\displaystyle 100$"
          },
          "metadata": {},
          "execution_count": 236
        }
      ]
    },
    {
      "cell_type": "markdown",
      "source": [
        "### `inner()`\n",
        "\n",
        "Returns the inner product of two arrays"
      ],
      "metadata": {
        "id": "LWTuwnTSyc9k"
      }
    },
    {
      "cell_type": "code",
      "source": [
        "v3, v1"
      ],
      "metadata": {
        "colab": {
          "base_uri": "https://localhost:8080/"
        },
        "id": "jh9xL3QnymZy",
        "outputId": "5f306409-f2d6-4f7f-e122-740ba9c8bee8"
      },
      "execution_count": 237,
      "outputs": [
        {
          "output_type": "execute_result",
          "data": {
            "text/plain": [
              "(array([-2,  5,  1,  3]), array([1, 3, 5, 7]))"
            ]
          },
          "metadata": {},
          "execution_count": 237
        }
      ]
    },
    {
      "cell_type": "code",
      "source": [
        "np.inner(v3, v1)"
      ],
      "metadata": {
        "colab": {
          "base_uri": "https://localhost:8080/"
        },
        "id": "R0fHZIH_1dTy",
        "outputId": "2e0d608e-19c7-490a-ceeb-e0c5557a74fd"
      },
      "execution_count": 238,
      "outputs": [
        {
          "output_type": "execute_result",
          "data": {
            "text/plain": [
              "39"
            ]
          },
          "metadata": {},
          "execution_count": 238
        }
      ]
    },
    {
      "cell_type": "code",
      "source": [
        "np.dot(v3, v1)"
      ],
      "metadata": {
        "colab": {
          "base_uri": "https://localhost:8080/"
        },
        "id": "I5l9B2Jz1n-j",
        "outputId": "7e8f5366-dafe-47df-d465-616bdc62babe"
      },
      "execution_count": 239,
      "outputs": [
        {
          "output_type": "execute_result",
          "data": {
            "text/plain": [
              "39"
            ]
          },
          "metadata": {},
          "execution_count": 239
        }
      ]
    },
    {
      "cell_type": "markdown",
      "source": [
        "#### SymPy"
      ],
      "metadata": {
        "id": "wiv0axR_I-Nv"
      }
    },
    {
      "cell_type": "code",
      "source": [
        "sp_v3.dot(sp_v1)"
      ],
      "metadata": {
        "colab": {
          "base_uri": "https://localhost:8080/",
          "height": 0
        },
        "id": "meU3nGHNI_9V",
        "outputId": "5296bda3-fd51-42a6-aa89-87b6d7a2e0b4"
      },
      "execution_count": 240,
      "outputs": [
        {
          "output_type": "execute_result",
          "data": {
            "text/plain": [
              "39"
            ],
            "text/latex": "$\\displaystyle 39$"
          },
          "metadata": {},
          "execution_count": 240
        }
      ]
    },
    {
      "cell_type": "markdown",
      "source": [
        "### `matmul()`"
      ],
      "metadata": {
        "id": "N0R6NkoM10by"
      }
    },
    {
      "cell_type": "code",
      "source": [
        "np.matmul(M, N)"
      ],
      "metadata": {
        "colab": {
          "base_uri": "https://localhost:8080/"
        },
        "id": "EBFq1fKM13qj",
        "outputId": "b2678cc4-95fe-475e-9ae6-58c0669dfb1b"
      },
      "execution_count": 241,
      "outputs": [
        {
          "output_type": "execute_result",
          "data": {
            "text/plain": [
              "array([[-78.,  34., -20.],\n",
              "       [-12.,   4.,  16.],\n",
              "       [ 54., -26.,  52.]])"
            ]
          },
          "metadata": {},
          "execution_count": 241
        }
      ]
    },
    {
      "cell_type": "code",
      "source": [
        "np.dot(M, N)"
      ],
      "metadata": {
        "colab": {
          "base_uri": "https://localhost:8080/"
        },
        "id": "Tiy2Q08319V1",
        "outputId": "667275d4-f54e-452b-a3c0-8933f3036d6a"
      },
      "execution_count": 242,
      "outputs": [
        {
          "output_type": "execute_result",
          "data": {
            "text/plain": [
              "array([[-78.,  34., -20.],\n",
              "       [-12.,   4.,  16.],\n",
              "       [ 54., -26.,  52.]])"
            ]
          },
          "metadata": {},
          "execution_count": 242
        }
      ]
    },
    {
      "cell_type": "markdown",
      "source": [
        "#### SymPy"
      ],
      "metadata": {
        "id": "6sYmKl2gJeSV"
      }
    },
    {
      "cell_type": "code",
      "source": [
        "sp_M * sp_N"
      ],
      "metadata": {
        "colab": {
          "base_uri": "https://localhost:8080/",
          "height": 0
        },
        "id": "ZMMWBJJdJgBl",
        "outputId": "04b08794-81a6-4323-8791-e3262ad3bc26"
      },
      "execution_count": 243,
      "outputs": [
        {
          "output_type": "execute_result",
          "data": {
            "text/plain": [
              "Matrix([\n",
              "[-78.0,  34.0, -20.0],\n",
              "[-12.0,   4.0,  16.0],\n",
              "[ 54.0, -26.0,  52.0]])"
            ],
            "text/latex": "$\\displaystyle \\left[\\begin{matrix}-78.0 & 34.0 & -20.0\\\\-12.0 & 4.0 & 16.0\\\\54.0 & -26.0 & 52.0\\end{matrix}\\right]$"
          },
          "metadata": {},
          "execution_count": 243
        }
      ]
    },
    {
      "cell_type": "markdown",
      "source": [
        "### `linalg.matrix_power()`"
      ],
      "metadata": {
        "id": "ot2bvBTb2Qa7"
      }
    },
    {
      "cell_type": "code",
      "source": [
        "M"
      ],
      "metadata": {
        "colab": {
          "base_uri": "https://localhost:8080/"
        },
        "id": "Mulu27Ln2Vm4",
        "outputId": "23cc36c8-8cfb-4423-c1cc-10a26bfd94a5"
      },
      "execution_count": 244,
      "outputs": [
        {
          "output_type": "execute_result",
          "data": {
            "text/plain": [
              "array([[-8., -6., -4.],\n",
              "       [-2.,  0.,  2.],\n",
              "       [ 4.,  6.,  8.]])"
            ]
          },
          "metadata": {},
          "execution_count": 244
        }
      ]
    },
    {
      "cell_type": "code",
      "source": [
        "np.linalg.matrix_power(M, 3)"
      ],
      "metadata": {
        "colab": {
          "base_uri": "https://localhost:8080/"
        },
        "id": "n7i-oz522b2z",
        "outputId": "1d7025cf-d1ed-475a-8472-06e30bd56fc0"
      },
      "execution_count": 245,
      "outputs": [
        {
          "output_type": "execute_result",
          "data": {
            "text/plain": [
              "array([[-576., -432., -288.],\n",
              "       [-144.,    0.,  144.],\n",
              "       [ 288.,  432.,  576.]])"
            ]
          },
          "metadata": {},
          "execution_count": 245
        }
      ]
    },
    {
      "cell_type": "code",
      "source": [
        "M.dot(M).dot(M)"
      ],
      "metadata": {
        "colab": {
          "base_uri": "https://localhost:8080/"
        },
        "id": "0xQaP18-2klP",
        "outputId": "fe1347f9-d21d-4af1-8892-8dfd4b39487c"
      },
      "execution_count": 246,
      "outputs": [
        {
          "output_type": "execute_result",
          "data": {
            "text/plain": [
              "array([[-576., -432., -288.],\n",
              "       [-144.,    0.,  144.],\n",
              "       [ 288.,  432.,  576.]])"
            ]
          },
          "metadata": {},
          "execution_count": 246
        }
      ]
    },
    {
      "cell_type": "code",
      "source": [
        "np.linalg.multi_dot([M, M, M])"
      ],
      "metadata": {
        "colab": {
          "base_uri": "https://localhost:8080/"
        },
        "id": "55XDffAk2n_F",
        "outputId": "d31e9c13-d52e-4b20-ce2f-2ab5eb929179"
      },
      "execution_count": 247,
      "outputs": [
        {
          "output_type": "execute_result",
          "data": {
            "text/plain": [
              "array([[-576., -432., -288.],\n",
              "       [-144.,    0.,  144.],\n",
              "       [ 288.,  432.,  576.]])"
            ]
          },
          "metadata": {},
          "execution_count": 247
        }
      ]
    },
    {
      "cell_type": "code",
      "source": [
        "np.matmul(np.matmul(M, M), M)"
      ],
      "metadata": {
        "colab": {
          "base_uri": "https://localhost:8080/"
        },
        "id": "9ekZ-n3W2vwD",
        "outputId": "5b41f48d-dec0-48b1-9d48-17581e1a3edf"
      },
      "execution_count": 248,
      "outputs": [
        {
          "output_type": "execute_result",
          "data": {
            "text/plain": [
              "array([[-576., -432., -288.],\n",
              "       [-144.,    0.,  144.],\n",
              "       [ 288.,  432.,  576.]])"
            ]
          },
          "metadata": {},
          "execution_count": 248
        }
      ]
    },
    {
      "cell_type": "markdown",
      "source": [
        "#### SymPy"
      ],
      "metadata": {
        "id": "VjPFBHOmJnnJ"
      }
    },
    {
      "cell_type": "code",
      "source": [
        "sp_M**3"
      ],
      "metadata": {
        "colab": {
          "base_uri": "https://localhost:8080/",
          "height": 78
        },
        "id": "phHvoJVkJpDm",
        "outputId": "ad2ee37d-d815-45a0-c397-18770f3421d2"
      },
      "execution_count": 249,
      "outputs": [
        {
          "output_type": "execute_result",
          "data": {
            "text/plain": [
              "Matrix([\n",
              "[-576.0, -432.0, -288.0],\n",
              "[-144.0,      0,  144.0],\n",
              "[ 288.0,  432.0,  576.0]])"
            ],
            "text/latex": "$\\displaystyle \\left[\\begin{matrix}-576.0 & -432.0 & -288.0\\\\-144.0 & 0 & 144.0\\\\288.0 & 432.0 & 576.0\\end{matrix}\\right]$"
          },
          "metadata": {},
          "execution_count": 249
        }
      ]
    },
    {
      "cell_type": "code",
      "source": [
        "sp_M * sp_M * sp_M"
      ],
      "metadata": {
        "colab": {
          "base_uri": "https://localhost:8080/",
          "height": 78
        },
        "id": "7OblycvQJvIh",
        "outputId": "8189a053-37af-4332-fe81-54b2648b4d72"
      },
      "execution_count": 250,
      "outputs": [
        {
          "output_type": "execute_result",
          "data": {
            "text/plain": [
              "Matrix([\n",
              "[-576.0, -432.0, -288.0],\n",
              "[-144.0,      0,  144.0],\n",
              "[ 288.0,  432.0,  576.0]])"
            ],
            "text/latex": "$\\displaystyle \\left[\\begin{matrix}-576.0 & -432.0 & -288.0\\\\-144.0 & 0 & 144.0\\\\288.0 & 432.0 & 576.0\\end{matrix}\\right]$"
          },
          "metadata": {},
          "execution_count": 250
        }
      ]
    },
    {
      "cell_type": "markdown",
      "source": [
        "### `linalg.eig()`\n",
        "\n",
        "Returns the eigenvalues and eigenvectors of a matrix"
      ],
      "metadata": {
        "id": "QNkCBv1D4CkP"
      }
    },
    {
      "cell_type": "code",
      "source": [
        "O"
      ],
      "metadata": {
        "colab": {
          "base_uri": "https://localhost:8080/"
        },
        "id": "annYw0ITC4cF",
        "outputId": "cef4e632-32ee-4545-9992-d9639aef15bf"
      },
      "execution_count": 251,
      "outputs": [
        {
          "output_type": "execute_result",
          "data": {
            "text/plain": [
              "array([[ 12, -10,  -2],\n",
              "       [ 10,   6,   0],\n",
              "       [  0,  -6,  14]])"
            ]
          },
          "metadata": {},
          "execution_count": 251
        }
      ]
    },
    {
      "cell_type": "code",
      "source": [
        "eig_vals, eig_vects = np.linalg.eig(O)"
      ],
      "metadata": {
        "id": "6AdJblCW4HmF"
      },
      "execution_count": 252,
      "outputs": []
    },
    {
      "cell_type": "code",
      "source": [
        "eig_vals"
      ],
      "metadata": {
        "colab": {
          "base_uri": "https://localhost:8080/"
        },
        "id": "VYFxBbZw4brU",
        "outputId": "11e366cb-d8a5-418d-9fea-7069f6e0b732"
      },
      "execution_count": 253,
      "outputs": [
        {
          "output_type": "execute_result",
          "data": {
            "text/plain": [
              "array([ 8.52529911+9.81952299j,  8.52529911-9.81952299j,\n",
              "       14.94940178+0.j        ])"
            ]
          },
          "metadata": {},
          "execution_count": 253
        }
      ]
    },
    {
      "cell_type": "code",
      "source": [
        "eig_vects"
      ],
      "metadata": {
        "colab": {
          "base_uri": "https://localhost:8080/"
        },
        "id": "zbbZ2TNA4djJ",
        "outputId": "02ee6eab-f861-43f4-b2e2-ee1bfd0c1895"
      },
      "execution_count": 254,
      "outputs": [
        {
          "output_type": "execute_result",
          "data": {
            "text/plain": [
              "array([[ 0.66669283+0.j        ,  0.66669283-0.j        ,\n",
              "        -0.13852103+0.j        ],\n",
              "       [ 0.16377394-0.6368283j ,  0.16377394+0.6368283j ,\n",
              "        -0.15478244+0.j        ],\n",
              "       [ 0.3394094 -0.08916129j,  0.3394094 +0.08916129j,\n",
              "         0.97818931+0.j        ]])"
            ]
          },
          "metadata": {},
          "execution_count": 254
        }
      ]
    },
    {
      "cell_type": "markdown",
      "source": [
        "#### SymPy"
      ],
      "metadata": {
        "id": "0RC7kAdHKm8m"
      }
    },
    {
      "cell_type": "code",
      "source": [
        "sp_O.eigenvals()"
      ],
      "metadata": {
        "colab": {
          "base_uri": "https://localhost:8080/"
        },
        "id": "BK_V0mHQKpUy",
        "outputId": "fbeae56d-62a9-42bd-9646-1174a0484697"
      },
      "execution_count": 255,
      "outputs": [
        {
          "output_type": "execute_result",
          "data": {
            "text/plain": [
              "{-124/(9*(730/27 + 2*sqrt(21423)/9)**(1/3)) + 2*(730/27 + 2*sqrt(21423)/9)**(1/3) + 32/3: 1,\n",
              " 32/3 - 124/(9*(-1/2 + sqrt(3)*I/2)*(730/27 + 2*sqrt(21423)/9)**(1/3)) + 2*(-1/2 + sqrt(3)*I/2)*(730/27 + 2*sqrt(21423)/9)**(1/3): 1,\n",
              " 32/3 + 2*(-1/2 - sqrt(3)*I/2)*(730/27 + 2*sqrt(21423)/9)**(1/3) - 124/(9*(-1/2 - sqrt(3)*I/2)*(730/27 + 2*sqrt(21423)/9)**(1/3)): 1}"
            ]
          },
          "metadata": {},
          "execution_count": 255
        }
      ]
    },
    {
      "cell_type": "code",
      "source": [
        "for eig_val in list(sp_O.eigenvals()):\n",
        "    print(eig_val.evalf())"
      ],
      "metadata": {
        "colab": {
          "base_uri": "https://localhost:8080/"
        },
        "id": "WTO57CXfK_gg",
        "outputId": "5db00a71-54e9-4a22-bf30-09c112a2af44"
      },
      "execution_count": 256,
      "outputs": [
        {
          "output_type": "stream",
          "name": "stdout",
          "text": [
            "14.9494017784187\n",
            "8.52529911079064 + 9.81952298712835*I\n",
            "8.52529911079064 - 9.81952298712835*I\n"
          ]
        }
      ]
    },
    {
      "cell_type": "code",
      "source": [
        "# takes too long to run\n",
        "# eig_vects = sp_O.eigenvects()"
      ],
      "metadata": {
        "id": "oLfnvLeFL1VX"
      },
      "execution_count": 257,
      "outputs": []
    },
    {
      "cell_type": "markdown",
      "source": [
        "### `linalg.eigh()`\n",
        "\n",
        "Returns eigenvalues and eigenvectors of a complex Hermition matrix or a real symmetric matrix"
      ],
      "metadata": {
        "id": "9_Beszt5781k"
      }
    },
    {
      "cell_type": "code",
      "source": [
        "eigh_vals, eigh_vects = np.linalg.eigh(N)"
      ],
      "metadata": {
        "id": "hqnb23xG8SS9"
      },
      "execution_count": 258,
      "outputs": []
    },
    {
      "cell_type": "code",
      "source": [
        "eigh_vals"
      ],
      "metadata": {
        "colab": {
          "base_uri": "https://localhost:8080/"
        },
        "id": "Zbybq1Cf8lyH",
        "outputId": "c8f34d5a-4fea-4865-e9c2-41cd421dc37a"
      },
      "execution_count": 259,
      "outputs": [
        {
          "output_type": "execute_result",
          "data": {
            "text/plain": [
              "array([-1.43148995,  6.71294498, 10.71854497])"
            ]
          },
          "metadata": {},
          "execution_count": 259
        }
      ]
    },
    {
      "cell_type": "code",
      "source": [
        "eigh_vects"
      ],
      "metadata": {
        "colab": {
          "base_uri": "https://localhost:8080/"
        },
        "id": "N1kGo-Fa80R1",
        "outputId": "a3cff0de-5405-46ee-b46b-feca88e00e9f"
      },
      "execution_count": 260,
      "outputs": [
        {
          "output_type": "execute_result",
          "data": {
            "text/plain": [
              "array([[-0.53538349,  0.55546961, -0.63625312],\n",
              "       [ 0.79573941,  0.07920385, -0.60043779],\n",
              "       [ 0.28313124,  0.82775616,  0.4844135 ]])"
            ]
          },
          "metadata": {},
          "execution_count": 260
        }
      ]
    },
    {
      "cell_type": "markdown",
      "source": [
        "### `linalg.det()`\n",
        "\n",
        "Returns the determinant of a matrix"
      ],
      "metadata": {
        "id": "NicauXjL_olr"
      }
    },
    {
      "cell_type": "code",
      "source": [
        "np.linalg.det(M), np.linalg.det(N), np.linalg.det(O)"
      ],
      "metadata": {
        "colab": {
          "base_uri": "https://localhost:8080/"
        },
        "id": "fbOG_fvu_wcy",
        "outputId": "bbc3e45a-0e1c-45b3-e9e2-54e4914a988c"
      },
      "execution_count": 261,
      "outputs": [
        {
          "output_type": "execute_result",
          "data": {
            "text/plain": [
              "(0.0, 316.00000000000006, 2527.999999999999)"
            ]
          },
          "metadata": {},
          "execution_count": 261
        }
      ]
    },
    {
      "cell_type": "markdown",
      "source": [
        "#### SymPy"
      ],
      "metadata": {
        "id": "XuJMw16RPYes"
      }
    },
    {
      "cell_type": "code",
      "source": [
        "sp_M.det(), sp_N.det(), sp_O.det()"
      ],
      "metadata": {
        "colab": {
          "base_uri": "https://localhost:8080/"
        },
        "id": "kyByiDwGPaVE",
        "outputId": "4c6cfe95-e545-4a39-eea9-67849fdc49a8"
      },
      "execution_count": 262,
      "outputs": [
        {
          "output_type": "execute_result",
          "data": {
            "text/plain": [
              "(0, 316, 2528)"
            ]
          },
          "metadata": {},
          "execution_count": 262
        }
      ]
    },
    {
      "cell_type": "markdown",
      "source": [
        "### `linalg.inv()`\n",
        "\n",
        "Returns the inverse of a matrix"
      ],
      "metadata": {
        "id": "3-aJe7nFADTy"
      }
    },
    {
      "cell_type": "code",
      "source": [
        "N"
      ],
      "metadata": {
        "colab": {
          "base_uri": "https://localhost:8080/"
        },
        "id": "wjQeLNlEALNa",
        "outputId": "451497d5-4976-458c-cab9-9940b32bc95b"
      },
      "execution_count": 263,
      "outputs": [
        {
          "output_type": "execute_result",
          "data": {
            "text/plain": [
              "array([[ 6, -5, -1],\n",
              "       [ 5,  3,  0],\n",
              "       [ 0, -3,  7]])"
            ]
          },
          "metadata": {},
          "execution_count": 263
        }
      ]
    },
    {
      "cell_type": "code",
      "source": [
        "np.linalg.inv(N)"
      ],
      "metadata": {
        "colab": {
          "base_uri": "https://localhost:8080/"
        },
        "id": "expG6ShNAPUZ",
        "outputId": "005f5bb4-cf20-4237-c654-672cc8cf60c7"
      },
      "execution_count": 264,
      "outputs": [
        {
          "output_type": "execute_result",
          "data": {
            "text/plain": [
              "array([[ 0.0664557 ,  0.12025316,  0.00949367],\n",
              "       [-0.11075949,  0.13291139, -0.01582278],\n",
              "       [-0.04746835,  0.05696203,  0.13607595]])"
            ]
          },
          "metadata": {},
          "execution_count": 264
        }
      ]
    },
    {
      "cell_type": "code",
      "source": [
        "np.matmul(N, np.linalg.inv(N))"
      ],
      "metadata": {
        "colab": {
          "base_uri": "https://localhost:8080/"
        },
        "id": "gkGExSTXAR42",
        "outputId": "38a7ee30-0e90-43e6-9d94-405e55796529"
      },
      "execution_count": 265,
      "outputs": [
        {
          "output_type": "execute_result",
          "data": {
            "text/plain": [
              "array([[1.00000000e+00, 2.77555756e-17, 0.00000000e+00],\n",
              "       [1.38777878e-17, 1.00000000e+00, 1.73472348e-17],\n",
              "       [2.08166817e-17, 2.77555756e-17, 1.00000000e+00]])"
            ]
          },
          "metadata": {},
          "execution_count": 265
        }
      ]
    },
    {
      "cell_type": "code",
      "source": [
        "N.dot(np.linalg.inv(N))"
      ],
      "metadata": {
        "colab": {
          "base_uri": "https://localhost:8080/"
        },
        "id": "wooYzv5LAnBC",
        "outputId": "6af830e1-2de6-43a0-f064-06f64ee9c861"
      },
      "execution_count": 266,
      "outputs": [
        {
          "output_type": "execute_result",
          "data": {
            "text/plain": [
              "array([[1.00000000e+00, 2.77555756e-17, 0.00000000e+00],\n",
              "       [1.38777878e-17, 1.00000000e+00, 1.73472348e-17],\n",
              "       [2.08166817e-17, 2.77555756e-17, 1.00000000e+00]])"
            ]
          },
          "metadata": {},
          "execution_count": 266
        }
      ]
    },
    {
      "cell_type": "markdown",
      "source": [
        "#### SymPy"
      ],
      "metadata": {
        "id": "caV6TXlzQ1yb"
      }
    },
    {
      "cell_type": "code",
      "source": [
        "sp_N**-1"
      ],
      "metadata": {
        "colab": {
          "base_uri": "https://localhost:8080/",
          "height": 0
        },
        "id": "G8vX2rwbQ3-q",
        "outputId": "8a22f594-3a9f-4f54-a02a-eb893ba7d552"
      },
      "execution_count": 267,
      "outputs": [
        {
          "output_type": "execute_result",
          "data": {
            "text/plain": [
              "Matrix([\n",
              "[ 21/316, 19/158,  3/316],\n",
              "[-35/316, 21/158, -5/316],\n",
              "[-15/316,  9/158, 43/316]])"
            ],
            "text/latex": "$\\displaystyle \\left[\\begin{matrix}\\frac{21}{316} & \\frac{19}{158} & \\frac{3}{316}\\\\- \\frac{35}{316} & \\frac{21}{158} & - \\frac{5}{316}\\\\- \\frac{15}{316} & \\frac{9}{158} & \\frac{43}{316}\\end{matrix}\\right]$"
          },
          "metadata": {},
          "execution_count": 267
        }
      ]
    },
    {
      "cell_type": "code",
      "source": [
        "(sp_N**-1).evalf()"
      ],
      "metadata": {
        "colab": {
          "base_uri": "https://localhost:8080/",
          "height": 0
        },
        "id": "mvyj4OC-Q828",
        "outputId": "b2795c42-d9ce-4c29-92a6-e968de1d8b5a"
      },
      "execution_count": 268,
      "outputs": [
        {
          "output_type": "execute_result",
          "data": {
            "text/plain": [
              "Matrix([\n",
              "[ 0.0664556962025316,  0.120253164556962, 0.00949367088607595],\n",
              "[ -0.110759493670886,  0.132911392405063, -0.0158227848101266],\n",
              "[-0.0474683544303797, 0.0569620253164557,   0.136075949367089]])"
            ],
            "text/latex": "$\\displaystyle \\left[\\begin{matrix}0.0664556962025316 & 0.120253164556962 & 0.00949367088607595\\\\-0.110759493670886 & 0.132911392405063 & -0.0158227848101266\\\\-0.0474683544303797 & 0.0569620253164557 & 0.136075949367089\\end{matrix}\\right]$"
          },
          "metadata": {},
          "execution_count": 268
        }
      ]
    },
    {
      "cell_type": "code",
      "source": [
        "sp_N * sp_N**-1"
      ],
      "metadata": {
        "colab": {
          "base_uri": "https://localhost:8080/",
          "height": 0
        },
        "id": "jttDC0m0REpH",
        "outputId": "f9318404-214f-4942-da39-9f0a49033119"
      },
      "execution_count": 269,
      "outputs": [
        {
          "output_type": "execute_result",
          "data": {
            "text/plain": [
              "Matrix([\n",
              "[1, 0, 0],\n",
              "[0, 1, 0],\n",
              "[0, 0, 1]])"
            ],
            "text/latex": "$\\displaystyle \\left[\\begin{matrix}1 & 0 & 0\\\\0 & 1 & 0\\\\0 & 0 & 1\\end{matrix}\\right]$"
          },
          "metadata": {},
          "execution_count": 269
        }
      ]
    },
    {
      "cell_type": "markdown",
      "source": [
        "## 1.2.1.2 Using Matrices in Python"
      ],
      "metadata": {
        "id": "agRDbyAHRc27"
      }
    },
    {
      "cell_type": "markdown",
      "source": [
        "### Building Matrices Using Numpy"
      ],
      "metadata": {
        "id": "HBIKF1GAZbxV"
      }
    },
    {
      "cell_type": "code",
      "source": [
        "L = np.linspace(0, 120, 25)\n",
        "L"
      ],
      "metadata": {
        "colab": {
          "base_uri": "https://localhost:8080/"
        },
        "id": "NmKml2scZhXy",
        "outputId": "da1a2abd-34af-4e91-ed36-c963fc5051e6"
      },
      "execution_count": 270,
      "outputs": [
        {
          "output_type": "execute_result",
          "data": {
            "text/plain": [
              "array([  0.,   5.,  10.,  15.,  20.,  25.,  30.,  35.,  40.,  45.,  50.,\n",
              "        55.,  60.,  65.,  70.,  75.,  80.,  85.,  90.,  95., 100., 105.,\n",
              "       110., 115., 120.])"
            ]
          },
          "metadata": {},
          "execution_count": 270
        }
      ]
    },
    {
      "cell_type": "code",
      "source": [
        "M = L.reshape(5, 5)\n",
        "M"
      ],
      "metadata": {
        "colab": {
          "base_uri": "https://localhost:8080/"
        },
        "id": "54lM5HZsZ5PE",
        "outputId": "aa382d17-00ad-4439-cf26-b0301a952406"
      },
      "execution_count": 271,
      "outputs": [
        {
          "output_type": "execute_result",
          "data": {
            "text/plain": [
              "array([[  0.,   5.,  10.,  15.,  20.],\n",
              "       [ 25.,  30.,  35.,  40.,  45.],\n",
              "       [ 50.,  55.,  60.,  65.,  70.],\n",
              "       [ 75.,  80.,  85.,  90.,  95.],\n",
              "       [100., 105., 110., 115., 120.]])"
            ]
          },
          "metadata": {},
          "execution_count": 271
        }
      ]
    },
    {
      "cell_type": "code",
      "source": [
        "R = np.random.randint(-5, 4, size=(4, 4))\n",
        "R"
      ],
      "metadata": {
        "colab": {
          "base_uri": "https://localhost:8080/"
        },
        "id": "TkX53rOfbUqe",
        "outputId": "443922b1-9cae-4285-fe46-d92f7e461dd1"
      },
      "execution_count": 272,
      "outputs": [
        {
          "output_type": "execute_result",
          "data": {
            "text/plain": [
              "array([[-2, -4, -2, -2],\n",
              "       [ 3,  0, -2,  0],\n",
              "       [-1,  2,  3, -1],\n",
              "       [-3, -5, -3, -1]])"
            ]
          },
          "metadata": {},
          "execution_count": 272
        }
      ]
    },
    {
      "cell_type": "markdown",
      "source": [
        "### Building Matrices Using SymPy"
      ],
      "metadata": {
        "id": "nrXLeIGhfGcy"
      }
    },
    {
      "cell_type": "code",
      "source": [
        "sp.Matrix([[1, -1], [3, 4], [0, 2]])"
      ],
      "metadata": {
        "colab": {
          "base_uri": "https://localhost:8080/",
          "height": 0
        },
        "id": "10tbp1HZJM-9",
        "outputId": "59fbb0ca-9236-4f80-c15f-b79999b0dee0"
      },
      "execution_count": 273,
      "outputs": [
        {
          "output_type": "execute_result",
          "data": {
            "text/plain": [
              "Matrix([\n",
              "[1, -1],\n",
              "[3,  4],\n",
              "[0,  2]])"
            ],
            "text/latex": "$\\displaystyle \\left[\\begin{matrix}1 & -1\\\\3 & 4\\\\0 & 2\\end{matrix}\\right]$"
          },
          "metadata": {},
          "execution_count": 273
        }
      ]
    },
    {
      "cell_type": "code",
      "source": [
        "sp_M = sp.Matrix(M)\n",
        "sp_M"
      ],
      "metadata": {
        "colab": {
          "base_uri": "https://localhost:8080/",
          "height": 0
        },
        "id": "V06Y7zvFfJ-K",
        "outputId": "05bd3854-134b-42d4-925b-3ceb6210f359"
      },
      "execution_count": 274,
      "outputs": [
        {
          "output_type": "execute_result",
          "data": {
            "text/plain": [
              "Matrix([\n",
              "[  0.0,   5.0,  10.0,  15.0,  20.0],\n",
              "[ 25.0,  30.0,  35.0,  40.0,  45.0],\n",
              "[ 50.0,  55.0,  60.0,  65.0,  70.0],\n",
              "[ 75.0,  80.0,  85.0,  90.0,  95.0],\n",
              "[100.0, 105.0, 110.0, 115.0, 120.0]])"
            ],
            "text/latex": "$\\displaystyle \\left[\\begin{matrix}0.0 & 5.0 & 10.0 & 15.0 & 20.0\\\\25.0 & 30.0 & 35.0 & 40.0 & 45.0\\\\50.0 & 55.0 & 60.0 & 65.0 & 70.0\\\\75.0 & 80.0 & 85.0 & 90.0 & 95.0\\\\100.0 & 105.0 & 110.0 & 115.0 & 120.0\\end{matrix}\\right]$"
          },
          "metadata": {},
          "execution_count": 274
        }
      ]
    },
    {
      "cell_type": "code",
      "source": [
        "sp_R = sp.Matrix(R)\n",
        "sp_R"
      ],
      "metadata": {
        "colab": {
          "base_uri": "https://localhost:8080/",
          "height": 0
        },
        "id": "cWB6GNWcfdtF",
        "outputId": "e105fe75-9e07-46e5-9fe7-370da2a778c3"
      },
      "execution_count": 275,
      "outputs": [
        {
          "output_type": "execute_result",
          "data": {
            "text/plain": [
              "Matrix([\n",
              "[-2, -4, -2, -2],\n",
              "[ 3,  0, -2,  0],\n",
              "[-1,  2,  3, -1],\n",
              "[-3, -5, -3, -1]])"
            ],
            "text/latex": "$\\displaystyle \\left[\\begin{matrix}-2 & -4 & -2 & -2\\\\3 & 0 & -2 & 0\\\\-1 & 2 & 3 & -1\\\\-3 & -5 & -3 & -1\\end{matrix}\\right]$"
          },
          "metadata": {},
          "execution_count": 275
        }
      ]
    },
    {
      "cell_type": "markdown",
      "source": [
        "### Accessing Matrix Entries: NumPy and SymPy"
      ],
      "metadata": {
        "id": "yAj3bREdajzt"
      }
    },
    {
      "cell_type": "code",
      "source": [
        "M"
      ],
      "metadata": {
        "colab": {
          "base_uri": "https://localhost:8080/"
        },
        "id": "qxn0BDdDKljy",
        "outputId": "547f440d-23f7-4139-fab8-cbdb699b61b4"
      },
      "execution_count": 276,
      "outputs": [
        {
          "output_type": "execute_result",
          "data": {
            "text/plain": [
              "array([[  0.,   5.,  10.,  15.,  20.],\n",
              "       [ 25.,  30.,  35.,  40.,  45.],\n",
              "       [ 50.,  55.,  60.,  65.,  70.],\n",
              "       [ 75.,  80.,  85.,  90.,  95.],\n",
              "       [100., 105., 110., 115., 120.]])"
            ]
          },
          "metadata": {},
          "execution_count": 276
        }
      ]
    },
    {
      "cell_type": "code",
      "source": [
        "# first row\n",
        "M[0]"
      ],
      "metadata": {
        "colab": {
          "base_uri": "https://localhost:8080/"
        },
        "id": "EfSyLVgca53u",
        "outputId": "b66ae594-484d-41b6-9717-a1dc814e92e7"
      },
      "execution_count": 277,
      "outputs": [
        {
          "output_type": "execute_result",
          "data": {
            "text/plain": [
              "array([ 0.,  5., 10., 15., 20.])"
            ]
          },
          "metadata": {},
          "execution_count": 277
        }
      ]
    },
    {
      "cell_type": "code",
      "source": [
        "# first rown\n",
        "sp_M.row(0)"
      ],
      "metadata": {
        "colab": {
          "base_uri": "https://localhost:8080/",
          "height": 0
        },
        "id": "I37LwWTcfi7C",
        "outputId": "c1be486d-e5a6-476c-d2d5-c67074aed22b"
      },
      "execution_count": 278,
      "outputs": [
        {
          "output_type": "execute_result",
          "data": {
            "text/plain": [
              "Matrix([[0.0, 5.0, 10.0, 15.0, 20.0]])"
            ],
            "text/latex": "$\\displaystyle \\left[\\begin{matrix}0.0 & 5.0 & 10.0 & 15.0 & 20.0\\end{matrix}\\right]$"
          },
          "metadata": {},
          "execution_count": 278
        }
      ]
    },
    {
      "cell_type": "code",
      "source": [
        "# also first row\n",
        "sp_M[0, :]"
      ],
      "metadata": {
        "colab": {
          "base_uri": "https://localhost:8080/",
          "height": 0
        },
        "id": "VSR0Lop1gGyj",
        "outputId": "32ceacab-f2d8-47b7-a4f8-1ce05c202e52"
      },
      "execution_count": 279,
      "outputs": [
        {
          "output_type": "execute_result",
          "data": {
            "text/plain": [
              "Matrix([[0.0, 5.0, 10.0, 15.0, 20.0]])"
            ],
            "text/latex": "$\\displaystyle \\left[\\begin{matrix}0.0 & 5.0 & 10.0 & 15.0 & 20.0\\end{matrix}\\right]$"
          },
          "metadata": {},
          "execution_count": 279
        }
      ]
    },
    {
      "cell_type": "code",
      "source": [
        "# last row\n",
        "M[-1]"
      ],
      "metadata": {
        "colab": {
          "base_uri": "https://localhost:8080/"
        },
        "id": "f2BAz7Mvb1w4",
        "outputId": "3e2328fe-3566-4e91-edc7-690566764619"
      },
      "execution_count": 280,
      "outputs": [
        {
          "output_type": "execute_result",
          "data": {
            "text/plain": [
              "array([100., 105., 110., 115., 120.])"
            ]
          },
          "metadata": {},
          "execution_count": 280
        }
      ]
    },
    {
      "cell_type": "code",
      "source": [
        "# last row\n",
        "sp_M.row(-1)"
      ],
      "metadata": {
        "colab": {
          "base_uri": "https://localhost:8080/",
          "height": 0
        },
        "id": "ymM2kKNXhkf2",
        "outputId": "6bc8d0e6-018c-4701-87be-1a85ceec278f"
      },
      "execution_count": 281,
      "outputs": [
        {
          "output_type": "execute_result",
          "data": {
            "text/plain": [
              "Matrix([[100.0, 105.0, 110.0, 115.0, 120.0]])"
            ],
            "text/latex": "$\\displaystyle \\left[\\begin{matrix}100.0 & 105.0 & 110.0 & 115.0 & 120.0\\end{matrix}\\right]$"
          },
          "metadata": {},
          "execution_count": 281
        }
      ]
    },
    {
      "cell_type": "code",
      "source": [
        "#first column\n",
        "M[:,0]"
      ],
      "metadata": {
        "colab": {
          "base_uri": "https://localhost:8080/"
        },
        "id": "sq_vvmxNcDbv",
        "outputId": "9711bb28-deca-4b0c-9b88-50877a60d32a"
      },
      "execution_count": 282,
      "outputs": [
        {
          "output_type": "execute_result",
          "data": {
            "text/plain": [
              "array([  0.,  25.,  50.,  75., 100.])"
            ]
          },
          "metadata": {},
          "execution_count": 282
        }
      ]
    },
    {
      "cell_type": "code",
      "source": [
        "sp_M.col(0)"
      ],
      "metadata": {
        "colab": {
          "base_uri": "https://localhost:8080/",
          "height": 0
        },
        "id": "dAvl8qauhpP2",
        "outputId": "4b72d078-2b69-4f7b-a87f-cdbaaa269ec6"
      },
      "execution_count": 283,
      "outputs": [
        {
          "output_type": "execute_result",
          "data": {
            "text/plain": [
              "Matrix([\n",
              "[  0.0],\n",
              "[ 25.0],\n",
              "[ 50.0],\n",
              "[ 75.0],\n",
              "[100.0]])"
            ],
            "text/latex": "$\\displaystyle \\left[\\begin{matrix}0.0\\\\25.0\\\\50.0\\\\75.0\\\\100.0\\end{matrix}\\right]$"
          },
          "metadata": {},
          "execution_count": 283
        }
      ]
    },
    {
      "cell_type": "code",
      "source": [
        "# last column\n",
        "M[:,-1]"
      ],
      "metadata": {
        "colab": {
          "base_uri": "https://localhost:8080/"
        },
        "id": "F1xHm1KbcR5c",
        "outputId": "51ec4a85-6c25-4b61-de18-81e3a74fe9f9"
      },
      "execution_count": 284,
      "outputs": [
        {
          "output_type": "execute_result",
          "data": {
            "text/plain": [
              "array([ 20.,  45.,  70.,  95., 120.])"
            ]
          },
          "metadata": {},
          "execution_count": 284
        }
      ]
    },
    {
      "cell_type": "code",
      "source": [
        "sp_M.col(-1)"
      ],
      "metadata": {
        "colab": {
          "base_uri": "https://localhost:8080/",
          "height": 0
        },
        "id": "5z51fffshtIR",
        "outputId": "3d846683-4095-40fa-9079-a5fef5edd49c"
      },
      "execution_count": 285,
      "outputs": [
        {
          "output_type": "execute_result",
          "data": {
            "text/plain": [
              "Matrix([\n",
              "[ 20.0],\n",
              "[ 45.0],\n",
              "[ 70.0],\n",
              "[ 95.0],\n",
              "[120.0]])"
            ],
            "text/latex": "$\\displaystyle \\left[\\begin{matrix}20.0\\\\45.0\\\\70.0\\\\95.0\\\\120.0\\end{matrix}\\right]$"
          },
          "metadata": {},
          "execution_count": 285
        }
      ]
    },
    {
      "cell_type": "code",
      "source": [
        "# first 3 rows\n",
        "M[0:3]"
      ],
      "metadata": {
        "colab": {
          "base_uri": "https://localhost:8080/"
        },
        "id": "f7jA7nV-cuXH",
        "outputId": "9d6f31a9-7999-4a94-b364-248cb31218f9"
      },
      "execution_count": 286,
      "outputs": [
        {
          "output_type": "execute_result",
          "data": {
            "text/plain": [
              "array([[ 0.,  5., 10., 15., 20.],\n",
              "       [25., 30., 35., 40., 45.],\n",
              "       [50., 55., 60., 65., 70.]])"
            ]
          },
          "metadata": {},
          "execution_count": 286
        }
      ]
    },
    {
      "cell_type": "code",
      "source": [
        "# first 3 rows\n",
        "sp_M[0:3,:]"
      ],
      "metadata": {
        "colab": {
          "base_uri": "https://localhost:8080/",
          "height": 0
        },
        "id": "vwg1hQzRh6XO",
        "outputId": "f5f26ece-4bcc-432f-c444-a12fc28b8d31"
      },
      "execution_count": 287,
      "outputs": [
        {
          "output_type": "execute_result",
          "data": {
            "text/plain": [
              "Matrix([\n",
              "[ 0.0,  5.0, 10.0, 15.0, 20.0],\n",
              "[25.0, 30.0, 35.0, 40.0, 45.0],\n",
              "[50.0, 55.0, 60.0, 65.0, 70.0]])"
            ],
            "text/latex": "$\\displaystyle \\left[\\begin{matrix}0.0 & 5.0 & 10.0 & 15.0 & 20.0\\\\25.0 & 30.0 & 35.0 & 40.0 & 45.0\\\\50.0 & 55.0 & 60.0 & 65.0 & 70.0\\end{matrix}\\right]$"
          },
          "metadata": {},
          "execution_count": 287
        }
      ]
    },
    {
      "cell_type": "code",
      "source": [
        "# third and fourth columns\n",
        "M[:,2:4]"
      ],
      "metadata": {
        "colab": {
          "base_uri": "https://localhost:8080/"
        },
        "id": "6LI3yQrVc37e",
        "outputId": "034bc2b2-645a-4550-a145-9a0d15ea87cb"
      },
      "execution_count": 288,
      "outputs": [
        {
          "output_type": "execute_result",
          "data": {
            "text/plain": [
              "array([[ 10.,  15.],\n",
              "       [ 35.,  40.],\n",
              "       [ 60.,  65.],\n",
              "       [ 85.,  90.],\n",
              "       [110., 115.]])"
            ]
          },
          "metadata": {},
          "execution_count": 288
        }
      ]
    },
    {
      "cell_type": "code",
      "source": [
        "sp_M[:, 2:4]"
      ],
      "metadata": {
        "colab": {
          "base_uri": "https://localhost:8080/",
          "height": 0
        },
        "id": "rWHVh4tAiU1P",
        "outputId": "d1afff57-ef5d-4ce0-bd50-c4fc8113500a"
      },
      "execution_count": 289,
      "outputs": [
        {
          "output_type": "execute_result",
          "data": {
            "text/plain": [
              "Matrix([\n",
              "[ 10.0,  15.0],\n",
              "[ 35.0,  40.0],\n",
              "[ 60.0,  65.0],\n",
              "[ 85.0,  90.0],\n",
              "[110.0, 115.0]])"
            ],
            "text/latex": "$\\displaystyle \\left[\\begin{matrix}10.0 & 15.0\\\\35.0 & 40.0\\\\60.0 & 65.0\\\\85.0 & 90.0\\\\110.0 & 115.0\\end{matrix}\\right]$"
          },
          "metadata": {},
          "execution_count": 289
        }
      ]
    },
    {
      "cell_type": "code",
      "source": [
        "# first 3 rows, 2nd, 3rd and 4th columns\n",
        "M[:3, 1:4]"
      ],
      "metadata": {
        "colab": {
          "base_uri": "https://localhost:8080/"
        },
        "id": "KWQNOX6hdNP9",
        "outputId": "2694e161-43da-432b-8662-768bb56dcb7d"
      },
      "execution_count": 290,
      "outputs": [
        {
          "output_type": "execute_result",
          "data": {
            "text/plain": [
              "array([[ 5., 10., 15.],\n",
              "       [30., 35., 40.],\n",
              "       [55., 60., 65.]])"
            ]
          },
          "metadata": {},
          "execution_count": 290
        }
      ]
    },
    {
      "cell_type": "code",
      "source": [
        "sp_M[:3, 1:4]"
      ],
      "metadata": {
        "colab": {
          "base_uri": "https://localhost:8080/",
          "height": 0
        },
        "id": "5ZJiI_N-ifbI",
        "outputId": "1337684e-53aa-43e3-b7f9-e867df5f2cac"
      },
      "execution_count": 291,
      "outputs": [
        {
          "output_type": "execute_result",
          "data": {
            "text/plain": [
              "Matrix([\n",
              "[ 5.0, 10.0, 15.0],\n",
              "[30.0, 35.0, 40.0],\n",
              "[55.0, 60.0, 65.0]])"
            ],
            "text/latex": "$\\displaystyle \\left[\\begin{matrix}5.0 & 10.0 & 15.0\\\\30.0 & 35.0 & 40.0\\\\55.0 & 60.0 & 65.0\\end{matrix}\\right]$"
          },
          "metadata": {},
          "execution_count": 291
        }
      ]
    },
    {
      "cell_type": "code",
      "source": [
        "# first 3 rows, 2nd and 4th columns\n",
        "M[:3, (1, 3)]"
      ],
      "metadata": {
        "colab": {
          "base_uri": "https://localhost:8080/"
        },
        "id": "TQ5MOepfdkcn",
        "outputId": "15f859fa-f862-4e29-fd5e-e222729a3d8a"
      },
      "execution_count": 292,
      "outputs": [
        {
          "output_type": "execute_result",
          "data": {
            "text/plain": [
              "array([[ 5., 15.],\n",
              "       [30., 40.],\n",
              "       [55., 65.]])"
            ]
          },
          "metadata": {},
          "execution_count": 292
        }
      ]
    },
    {
      "cell_type": "code",
      "source": [
        "sp_M[:3, (1, 3)]"
      ],
      "metadata": {
        "colab": {
          "base_uri": "https://localhost:8080/",
          "height": 0
        },
        "id": "XcBDkJkuij8t",
        "outputId": "273d48dc-fc80-452d-ad3a-341ac57c45da"
      },
      "execution_count": 293,
      "outputs": [
        {
          "output_type": "execute_result",
          "data": {
            "text/plain": [
              "Matrix([\n",
              "[ 5.0, 15.0],\n",
              "[30.0, 40.0],\n",
              "[55.0, 65.0]])"
            ],
            "text/latex": "$\\displaystyle \\left[\\begin{matrix}5.0 & 15.0\\\\30.0 & 40.0\\\\55.0 & 65.0\\end{matrix}\\right]$"
          },
          "metadata": {},
          "execution_count": 293
        }
      ]
    },
    {
      "cell_type": "code",
      "source": [
        "# the entry at the intersection of \n",
        "# the 2nd row and the 2nd column\n",
        "M[1, 1]"
      ],
      "metadata": {
        "colab": {
          "base_uri": "https://localhost:8080/"
        },
        "id": "WX4x9WsPdx9N",
        "outputId": "45ca6ba7-b773-4ff8-f4fa-de3342c61514"
      },
      "execution_count": 294,
      "outputs": [
        {
          "output_type": "execute_result",
          "data": {
            "text/plain": [
              "30.0"
            ]
          },
          "metadata": {},
          "execution_count": 294
        }
      ]
    },
    {
      "cell_type": "code",
      "source": [
        "sp_M[1,1]"
      ],
      "metadata": {
        "colab": {
          "base_uri": "https://localhost:8080/",
          "height": 0
        },
        "id": "KdNywH_OipWb",
        "outputId": "8b95eadc-4569-4f15-9a00-5fd3c3e1d835"
      },
      "execution_count": 295,
      "outputs": [
        {
          "output_type": "execute_result",
          "data": {
            "text/plain": [
              "30.0000000000000"
            ],
            "text/latex": "$\\displaystyle 30.0$"
          },
          "metadata": {},
          "execution_count": 295
        }
      ]
    },
    {
      "cell_type": "markdown",
      "source": [
        "## 1.2.1.3 Solving Linear Equations Using Python"
      ],
      "metadata": {
        "id": "WV72b3Ioi6ED"
      }
    },
    {
      "cell_type": "markdown",
      "source": [
        "### Example"
      ],
      "metadata": {
        "id": "Z9jdnn4fWBOM"
      }
    },
    {
      "cell_type": "markdown",
      "source": [
        "$\n",
        "\\begin{align}\n",
        "4x + 3y + 2x &= 25 \\\\\n",
        "-2x + 2y + 3z &= -10 \\\\\n",
        "3x - 5y + 2z &= -4\n",
        "\\end{align}\n",
        "$"
      ],
      "metadata": {
        "id": "Nooz5FblWG5H"
      }
    },
    {
      "cell_type": "markdown",
      "source": [
        "#### Solve Using the Inverse Method\n",
        "\n",
        "In a nutshell, the solution is found by multiplying the inverse of the coefficent matrix, $M^{-1}$ by the column matrix, $K$.\n",
        "\n",
        "Let $V$ be the solution, then\n",
        "\n",
        "$V = M^{-1} * K$\n",
        "\n",
        "Details about why this equation works are shown in this notebook. "
      ],
      "metadata": {
        "id": "MovWJ7FgW22H"
      }
    },
    {
      "cell_type": "code",
      "source": [
        "# M is the coefficient matrix\n",
        "M = np.array([[4, 3, 2],\n",
        "              [-2, 2, 3],\n",
        "              [3, -5, 2]])\n",
        "M"
      ],
      "metadata": {
        "colab": {
          "base_uri": "https://localhost:8080/"
        },
        "id": "9U5XYoKGXQpY",
        "outputId": "351dfcba-2902-4a43-ba74-63f52f0217fb"
      },
      "execution_count": 296,
      "outputs": [
        {
          "output_type": "execute_result",
          "data": {
            "text/plain": [
              "array([[ 4,  3,  2],\n",
              "       [-2,  2,  3],\n",
              "       [ 3, -5,  2]])"
            ]
          },
          "metadata": {},
          "execution_count": 296
        }
      ]
    },
    {
      "cell_type": "code",
      "source": [
        "# K is the column matrix\n",
        "K = np.array([[25],\n",
        "              [-10],\n",
        "              [-4]])\n",
        "K"
      ],
      "metadata": {
        "colab": {
          "base_uri": "https://localhost:8080/"
        },
        "id": "qO8tZvJKX-4n",
        "outputId": "46bd1acf-d8b6-4747-9f26-d552b495b24d"
      },
      "execution_count": 297,
      "outputs": [
        {
          "output_type": "execute_result",
          "data": {
            "text/plain": [
              "array([[ 25],\n",
              "       [-10],\n",
              "       [ -4]])"
            ]
          },
          "metadata": {},
          "execution_count": 297
        }
      ]
    },
    {
      "cell_type": "code",
      "source": [
        "V = np.array([['x'],\n",
        "              ['y'],\n",
        "              ['z']])\n",
        "V"
      ],
      "metadata": {
        "colab": {
          "base_uri": "https://localhost:8080/"
        },
        "id": "ZXgK-nuZYUCD",
        "outputId": "219e02d2-395a-42e9-fbb0-489db6344472"
      },
      "execution_count": 298,
      "outputs": [
        {
          "output_type": "execute_result",
          "data": {
            "text/plain": [
              "array([['x'],\n",
              "       ['y'],\n",
              "       ['z']], dtype='<U1')"
            ]
          },
          "metadata": {},
          "execution_count": 298
        }
      ]
    },
    {
      "cell_type": "markdown",
      "source": [
        "The system of linear equations in this example can be written as:"
      ],
      "metadata": {
        "id": "FvqqbLyXZX6z"
      }
    },
    {
      "cell_type": "markdown",
      "source": [
        "$\n",
        "M * V = K \\\\\n",
        "\\implies \n",
        "M^{-1} * M * V = M^{-1} * K \\\\\n",
        "\\implies\n",
        "I * V = M^{-1} * K \\\\\n",
        "\\implies\n",
        "V = M^{-1} * K\n",
        "$"
      ],
      "metadata": {
        "id": "zwSz4DZoZePn"
      }
    },
    {
      "cell_type": "code",
      "source": [
        "np.linalg.inv(M).dot(K)"
      ],
      "metadata": {
        "colab": {
          "base_uri": "https://localhost:8080/"
        },
        "id": "dcAP5C51b1bS",
        "outputId": "230d369a-169f-4daa-b6bc-ddebbbde2ef2"
      },
      "execution_count": 299,
      "outputs": [
        {
          "output_type": "execute_result",
          "data": {
            "text/plain": [
              "array([[ 5.],\n",
              "       [ 3.],\n",
              "       [-2.]])"
            ]
          },
          "metadata": {},
          "execution_count": 299
        }
      ]
    },
    {
      "cell_type": "markdown",
      "source": [
        "##### Sympy"
      ],
      "metadata": {
        "id": "Yn2LG6b7eCyA"
      }
    },
    {
      "cell_type": "code",
      "source": [
        "sp_M = sp.Matrix(M)\n",
        "sp_M"
      ],
      "metadata": {
        "colab": {
          "base_uri": "https://localhost:8080/",
          "height": 0
        },
        "id": "yQ2neumqeIoU",
        "outputId": "4f1e8c8d-4395-4b76-c4b3-e65949521147"
      },
      "execution_count": 300,
      "outputs": [
        {
          "output_type": "execute_result",
          "data": {
            "text/plain": [
              "Matrix([\n",
              "[ 4,  3, 2],\n",
              "[-2,  2, 3],\n",
              "[ 3, -5, 2]])"
            ],
            "text/latex": "$\\displaystyle \\left[\\begin{matrix}4 & 3 & 2\\\\-2 & 2 & 3\\\\3 & -5 & 2\\end{matrix}\\right]$"
          },
          "metadata": {},
          "execution_count": 300
        }
      ]
    },
    {
      "cell_type": "code",
      "source": [
        "sp_K = sp.Matrix(K)\n",
        "sp_K"
      ],
      "metadata": {
        "colab": {
          "base_uri": "https://localhost:8080/",
          "height": 0
        },
        "id": "wMmGqoVweNBb",
        "outputId": "edd96e03-9652-4851-c50c-27c3596e563f"
      },
      "execution_count": 301,
      "outputs": [
        {
          "output_type": "execute_result",
          "data": {
            "text/plain": [
              "Matrix([\n",
              "[ 25],\n",
              "[-10],\n",
              "[ -4]])"
            ],
            "text/latex": "$\\displaystyle \\left[\\begin{matrix}25\\\\-10\\\\-4\\end{matrix}\\right]$"
          },
          "metadata": {},
          "execution_count": 301
        }
      ]
    },
    {
      "cell_type": "code",
      "source": [
        "sp_M**-1 * sp_K"
      ],
      "metadata": {
        "colab": {
          "base_uri": "https://localhost:8080/",
          "height": 0
        },
        "id": "KZxdiQBReUrR",
        "outputId": "4798e439-3a6c-446c-8491-3a0295b86265"
      },
      "execution_count": 302,
      "outputs": [
        {
          "output_type": "execute_result",
          "data": {
            "text/plain": [
              "Matrix([\n",
              "[ 5],\n",
              "[ 3],\n",
              "[-2]])"
            ],
            "text/latex": "$\\displaystyle \\left[\\begin{matrix}5\\\\3\\\\-2\\end{matrix}\\right]$"
          },
          "metadata": {},
          "execution_count": 302
        }
      ]
    },
    {
      "cell_type": "markdown",
      "source": [
        "##### Symbolic summary of this method"
      ],
      "metadata": {
        "id": "bZFwOAfllmOu"
      }
    },
    {
      "cell_type": "code",
      "source": [
        "x, y, z = sp.symbols('x y z')\n",
        "m_11, m_12, m_13 = sp.symbols('m_11 m_12 m_13')\n",
        "m_21, m_22, m_23 = sp.symbols('m_21 m_22 m_23')\n",
        "m_31, m_32, m_33 = sp.symbols('m_31 m_32 m_33')\n",
        "k_1, k_2, k_3 = sp.symbols('k_1 k_2 k_3')"
      ],
      "metadata": {
        "id": "VAh_XwmclsAP"
      },
      "execution_count": 303,
      "outputs": []
    },
    {
      "cell_type": "code",
      "source": [
        "V = sp.Matrix([[x], [y], [z]])\n",
        "V"
      ],
      "metadata": {
        "colab": {
          "base_uri": "https://localhost:8080/",
          "height": 0
        },
        "id": "E3ch8LT6lzxG",
        "outputId": "e44cb034-f0ce-4a07-9045-c863ed431a6a"
      },
      "execution_count": 304,
      "outputs": [
        {
          "output_type": "execute_result",
          "data": {
            "text/plain": [
              "Matrix([\n",
              "[x],\n",
              "[y],\n",
              "[z]])"
            ],
            "text/latex": "$\\displaystyle \\left[\\begin{matrix}x\\\\y\\\\z\\end{matrix}\\right]$"
          },
          "metadata": {},
          "execution_count": 304
        }
      ]
    },
    {
      "cell_type": "code",
      "source": [
        "M = sp.Matrix([[m_11, m_12, m_13],\n",
        "               [m_21, m_22, m_23],\n",
        "               [m_31, m_32, m_33]])\n",
        "M"
      ],
      "metadata": {
        "colab": {
          "base_uri": "https://localhost:8080/",
          "height": 0
        },
        "id": "SbOEZnoamD8f",
        "outputId": "a7511cb0-aa0e-4134-9003-62b2bd681d53"
      },
      "execution_count": 305,
      "outputs": [
        {
          "output_type": "execute_result",
          "data": {
            "text/plain": [
              "Matrix([\n",
              "[m_11, m_12, m_13],\n",
              "[m_21, m_22, m_23],\n",
              "[m_31, m_32, m_33]])"
            ],
            "text/latex": "$\\displaystyle \\left[\\begin{matrix}m_{11} & m_{12} & m_{13}\\\\m_{21} & m_{22} & m_{23}\\\\m_{31} & m_{32} & m_{33}\\end{matrix}\\right]$"
          },
          "metadata": {},
          "execution_count": 305
        }
      ]
    },
    {
      "cell_type": "code",
      "source": [
        "K = sp.Matrix([[k_1], [k_2], [k_3]])\n",
        "K"
      ],
      "metadata": {
        "colab": {
          "base_uri": "https://localhost:8080/",
          "height": 0
        },
        "id": "EJtmC5q-nTD-",
        "outputId": "e2b09812-f892-4f52-fc71-4b9139116411"
      },
      "execution_count": 306,
      "outputs": [
        {
          "output_type": "execute_result",
          "data": {
            "text/plain": [
              "Matrix([\n",
              "[k_1],\n",
              "[k_2],\n",
              "[k_3]])"
            ],
            "text/latex": "$\\displaystyle \\left[\\begin{matrix}k_{1}\\\\k_{2}\\\\k_{3}\\end{matrix}\\right]$"
          },
          "metadata": {},
          "execution_count": 306
        }
      ]
    },
    {
      "cell_type": "code",
      "source": [
        "sp.Eq(M * V, K)"
      ],
      "metadata": {
        "colab": {
          "base_uri": "https://localhost:8080/",
          "height": 0
        },
        "id": "1_cd0ya9oOTZ",
        "outputId": "ffae4029-8010-4d01-a411-f115b358c92b"
      },
      "execution_count": 307,
      "outputs": [
        {
          "output_type": "execute_result",
          "data": {
            "text/plain": [
              "Eq(Matrix([\n",
              "[m_11*x + m_12*y + m_13*z],\n",
              "[m_21*x + m_22*y + m_23*z],\n",
              "[m_31*x + m_32*y + m_33*z]]), Matrix([\n",
              "[k_1],\n",
              "[k_2],\n",
              "[k_3]]))"
            ],
            "text/latex": "$\\displaystyle \\left[\\begin{matrix}m_{11} x + m_{12} y + m_{13} z\\\\m_{21} x + m_{22} y + m_{23} z\\\\m_{31} x + m_{32} y + m_{33} z\\end{matrix}\\right] = \\left[\\begin{matrix}k_{1}\\\\k_{2}\\\\k_{3}\\end{matrix}\\right]$"
          },
          "metadata": {},
          "execution_count": 307
        }
      ]
    },
    {
      "cell_type": "code",
      "source": [
        "sp.Eq(V, M**-1 * K)"
      ],
      "metadata": {
        "colab": {
          "base_uri": "https://localhost:8080/",
          "height": 0
        },
        "id": "7M9KC1EvnlJh",
        "outputId": "c2a59cce-96a6-40a1-c39a-fd1ee8671437"
      },
      "execution_count": 308,
      "outputs": [
        {
          "output_type": "execute_result",
          "data": {
            "text/plain": [
              "Eq(Matrix([\n",
              "[x],\n",
              "[y],\n",
              "[z]]), Matrix([\n",
              "[ k_1*(m_22*m_33 - m_23*m_32)/(m_11*m_22*m_33 - m_11*m_23*m_32 - m_12*m_21*m_33 + m_12*m_23*m_31 + m_13*m_21*m_32 - m_13*m_22*m_31) + k_2*(-m_12*m_33 + m_13*m_32)/(m_11*m_22*m_33 - m_11*m_23*m_32 - m_12*m_21*m_33 + m_12*m_23*m_31 + m_13*m_21*m_32 - m_13*m_22*m_31) + k_3*(m_12*m_23 - m_13*m_22)/(m_11*m_22*m_33 - m_11*m_23*m_32 - m_12*m_21*m_33 + m_12*m_23*m_31 + m_13*m_21*m_32 - m_13*m_22*m_31)],\n",
              "[k_1*(-m_21*m_33 + m_23*m_31)/(m_11*m_22*m_33 - m_11*m_23*m_32 - m_12*m_21*m_33 + m_12*m_23*m_31 + m_13*m_21*m_32 - m_13*m_22*m_31) + k_2*(m_11*m_33 - m_13*m_31)/(m_11*m_22*m_33 - m_11*m_23*m_32 - m_12*m_21*m_33 + m_12*m_23*m_31 + m_13*m_21*m_32 - m_13*m_22*m_31) + k_3*(-m_11*m_23 + m_13*m_21)/(m_11*m_22*m_33 - m_11*m_23*m_32 - m_12*m_21*m_33 + m_12*m_23*m_31 + m_13*m_21*m_32 - m_13*m_22*m_31)],\n",
              "[ k_1*(m_21*m_32 - m_22*m_31)/(m_11*m_22*m_33 - m_11*m_23*m_32 - m_12*m_21*m_33 + m_12*m_23*m_31 + m_13*m_21*m_32 - m_13*m_22*m_31) + k_2*(-m_11*m_32 + m_12*m_31)/(m_11*m_22*m_33 - m_11*m_23*m_32 - m_12*m_21*m_33 + m_12*m_23*m_31 + m_13*m_21*m_32 - m_13*m_22*m_31) + k_3*(m_11*m_22 - m_12*m_21)/(m_11*m_22*m_33 - m_11*m_23*m_32 - m_12*m_21*m_33 + m_12*m_23*m_31 + m_13*m_21*m_32 - m_13*m_22*m_31)]]))"
            ],
            "text/latex": "$\\displaystyle \\left[\\begin{matrix}x\\\\y\\\\z\\end{matrix}\\right] = \\left[\\begin{matrix}\\frac{k_{1} \\left(m_{22} m_{33} - m_{23} m_{32}\\right)}{m_{11} m_{22} m_{33} - m_{11} m_{23} m_{32} - m_{12} m_{21} m_{33} + m_{12} m_{23} m_{31} + m_{13} m_{21} m_{32} - m_{13} m_{22} m_{31}} + \\frac{k_{2} \\left(- m_{12} m_{33} + m_{13} m_{32}\\right)}{m_{11} m_{22} m_{33} - m_{11} m_{23} m_{32} - m_{12} m_{21} m_{33} + m_{12} m_{23} m_{31} + m_{13} m_{21} m_{32} - m_{13} m_{22} m_{31}} + \\frac{k_{3} \\left(m_{12} m_{23} - m_{13} m_{22}\\right)}{m_{11} m_{22} m_{33} - m_{11} m_{23} m_{32} - m_{12} m_{21} m_{33} + m_{12} m_{23} m_{31} + m_{13} m_{21} m_{32} - m_{13} m_{22} m_{31}}\\\\\\frac{k_{1} \\left(- m_{21} m_{33} + m_{23} m_{31}\\right)}{m_{11} m_{22} m_{33} - m_{11} m_{23} m_{32} - m_{12} m_{21} m_{33} + m_{12} m_{23} m_{31} + m_{13} m_{21} m_{32} - m_{13} m_{22} m_{31}} + \\frac{k_{2} \\left(m_{11} m_{33} - m_{13} m_{31}\\right)}{m_{11} m_{22} m_{33} - m_{11} m_{23} m_{32} - m_{12} m_{21} m_{33} + m_{12} m_{23} m_{31} + m_{13} m_{21} m_{32} - m_{13} m_{22} m_{31}} + \\frac{k_{3} \\left(- m_{11} m_{23} + m_{13} m_{21}\\right)}{m_{11} m_{22} m_{33} - m_{11} m_{23} m_{32} - m_{12} m_{21} m_{33} + m_{12} m_{23} m_{31} + m_{13} m_{21} m_{32} - m_{13} m_{22} m_{31}}\\\\\\frac{k_{1} \\left(m_{21} m_{32} - m_{22} m_{31}\\right)}{m_{11} m_{22} m_{33} - m_{11} m_{23} m_{32} - m_{12} m_{21} m_{33} + m_{12} m_{23} m_{31} + m_{13} m_{21} m_{32} - m_{13} m_{22} m_{31}} + \\frac{k_{2} \\left(- m_{11} m_{32} + m_{12} m_{31}\\right)}{m_{11} m_{22} m_{33} - m_{11} m_{23} m_{32} - m_{12} m_{21} m_{33} + m_{12} m_{23} m_{31} + m_{13} m_{21} m_{32} - m_{13} m_{22} m_{31}} + \\frac{k_{3} \\left(m_{11} m_{22} - m_{12} m_{21}\\right)}{m_{11} m_{22} m_{33} - m_{11} m_{23} m_{32} - m_{12} m_{21} m_{33} + m_{12} m_{23} m_{31} + m_{13} m_{21} m_{32} - m_{13} m_{22} m_{31}}\\end{matrix}\\right]$"
          },
          "metadata": {},
          "execution_count": 308
        }
      ]
    },
    {
      "cell_type": "markdown",
      "source": [
        "#### Solve Using Reduced Row Echelon Form (SymPy solution only)"
      ],
      "metadata": {
        "id": "H0MD4oUbo4gl"
      }
    },
    {
      "cell_type": "code",
      "source": [
        "# the augmented matrix\n",
        "A = sp.Matrix([[4, 3, 2, 25],\n",
        "               [-2, 2, 3, -10],\n",
        "               [3, -5, 2, -4]])\n",
        "A"
      ],
      "metadata": {
        "colab": {
          "base_uri": "https://localhost:8080/",
          "height": 78
        },
        "id": "6Mf5Y0mupAGg",
        "outputId": "5a1458d0-54db-4f80-9d65-3c8ae852b7f8"
      },
      "execution_count": 309,
      "outputs": [
        {
          "output_type": "execute_result",
          "data": {
            "text/plain": [
              "Matrix([\n",
              "[ 4,  3, 2,  25],\n",
              "[-2,  2, 3, -10],\n",
              "[ 3, -5, 2,  -4]])"
            ],
            "text/latex": "$\\displaystyle \\left[\\begin{matrix}4 & 3 & 2 & 25\\\\-2 & 2 & 3 & -10\\\\3 & -5 & 2 & -4\\end{matrix}\\right]$"
          },
          "metadata": {},
          "execution_count": 309
        }
      ]
    },
    {
      "cell_type": "code",
      "source": [
        "A.rref(pivots=False)"
      ],
      "metadata": {
        "colab": {
          "base_uri": "https://localhost:8080/",
          "height": 78
        },
        "id": "nV3DtuUkqScw",
        "outputId": "57a61120-1288-4c10-f00c-bc3466e41bc8"
      },
      "execution_count": 310,
      "outputs": [
        {
          "output_type": "execute_result",
          "data": {
            "text/plain": [
              "Matrix([\n",
              "[1, 0, 0,  5],\n",
              "[0, 1, 0,  3],\n",
              "[0, 0, 1, -2]])"
            ],
            "text/latex": "$\\displaystyle \\left[\\begin{matrix}1 & 0 & 0 & 5\\\\0 & 1 & 0 & 3\\\\0 & 0 & 1 & -2\\end{matrix}\\right]$"
          },
          "metadata": {},
          "execution_count": 310
        }
      ]
    },
    {
      "cell_type": "markdown",
      "source": [
        "#### Solve Using `sympy.linsolve()` (3 methods)"
      ],
      "metadata": {
        "id": "f2DKjLl8rhbt"
      }
    },
    {
      "cell_type": "markdown",
      "source": [
        "##### Method 1 - List of Equations Form"
      ],
      "metadata": {
        "id": "kl4WK55Bt897"
      }
    },
    {
      "cell_type": "code",
      "source": [
        "# note the change in sign of the values from \n",
        "# the column matrix\n",
        "system = [4 * x + 3 * y + 2 * z - 25,\n",
        "          -2 * x + 2 * y + 3 * z + 10,\n",
        "          3 * x - 5 * y + 2 * z + 4]\n",
        "system"
      ],
      "metadata": {
        "colab": {
          "base_uri": "https://localhost:8080/"
        },
        "id": "xUTvCGTxrqvB",
        "outputId": "780db06d-679d-4b78-ff42-10be17ec5cb7"
      },
      "execution_count": 311,
      "outputs": [
        {
          "output_type": "execute_result",
          "data": {
            "text/plain": [
              "[4*x + 3*y + 2*z - 25, -2*x + 2*y + 3*z + 10, 3*x - 5*y + 2*z + 4]"
            ]
          },
          "metadata": {},
          "execution_count": 311
        }
      ]
    },
    {
      "cell_type": "code",
      "source": [
        "sp.linsolve(system, (x, y, z))"
      ],
      "metadata": {
        "colab": {
          "base_uri": "https://localhost:8080/",
          "height": 37
        },
        "id": "f_HABQgKtG_G",
        "outputId": "fc640754-f7cd-4c1b-b482-7d2ec945bb83"
      },
      "execution_count": 312,
      "outputs": [
        {
          "output_type": "execute_result",
          "data": {
            "text/plain": [
              "FiniteSet((5, 3, -2))"
            ],
            "text/latex": "$\\displaystyle \\left\\{\\left( 5, \\  3, \\  -2\\right)\\right\\}$"
          },
          "metadata": {},
          "execution_count": 312
        }
      ]
    },
    {
      "cell_type": "markdown",
      "source": [
        "##### Method 2 - Augmented Matrix Form"
      ],
      "metadata": {
        "id": "f3-DW2BVubux"
      }
    },
    {
      "cell_type": "code",
      "source": [
        "A"
      ],
      "metadata": {
        "colab": {
          "base_uri": "https://localhost:8080/",
          "height": 78
        },
        "id": "7nFrg4imuo1U",
        "outputId": "72f5a534-9345-44a3-e3e5-0a014d8cfdf3"
      },
      "execution_count": 313,
      "outputs": [
        {
          "output_type": "execute_result",
          "data": {
            "text/plain": [
              "Matrix([\n",
              "[ 4,  3, 2,  25],\n",
              "[-2,  2, 3, -10],\n",
              "[ 3, -5, 2,  -4]])"
            ],
            "text/latex": "$\\displaystyle \\left[\\begin{matrix}4 & 3 & 2 & 25\\\\-2 & 2 & 3 & -10\\\\3 & -5 & 2 & -4\\end{matrix}\\right]$"
          },
          "metadata": {},
          "execution_count": 313
        }
      ]
    },
    {
      "cell_type": "code",
      "source": [
        "sp.linsolve(A, (x, y, z))"
      ],
      "metadata": {
        "colab": {
          "base_uri": "https://localhost:8080/",
          "height": 37
        },
        "id": "0bI9VdFruruH",
        "outputId": "edac9428-6a7e-4726-e190-f13a073a5132"
      },
      "execution_count": 314,
      "outputs": [
        {
          "output_type": "execute_result",
          "data": {
            "text/plain": [
              "FiniteSet((5, 3, -2))"
            ],
            "text/latex": "$\\displaystyle \\left\\{\\left( 5, \\  3, \\  -2\\right)\\right\\}$"
          },
          "metadata": {},
          "execution_count": 314
        }
      ]
    },
    {
      "cell_type": "markdown",
      "source": [
        "##### Method 3 - $A*x=b$ Form"
      ],
      "metadata": {
        "id": "uQTSrGVxuzm0"
      }
    },
    {
      "cell_type": "code",
      "source": [
        "A = sp_M\n",
        "A"
      ],
      "metadata": {
        "colab": {
          "base_uri": "https://localhost:8080/",
          "height": 78
        },
        "id": "7G1oVLTiu8ur",
        "outputId": "44615f04-1a9b-4433-dfd6-580e6c8c069d"
      },
      "execution_count": 315,
      "outputs": [
        {
          "output_type": "execute_result",
          "data": {
            "text/plain": [
              "Matrix([\n",
              "[ 4,  3, 2],\n",
              "[-2,  2, 3],\n",
              "[ 3, -5, 2]])"
            ],
            "text/latex": "$\\displaystyle \\left[\\begin{matrix}4 & 3 & 2\\\\-2 & 2 & 3\\\\3 & -5 & 2\\end{matrix}\\right]$"
          },
          "metadata": {},
          "execution_count": 315
        }
      ]
    },
    {
      "cell_type": "code",
      "source": [
        "b = sp_K\n",
        "b"
      ],
      "metadata": {
        "colab": {
          "base_uri": "https://localhost:8080/",
          "height": 78
        },
        "id": "mDT-0pbdvAQ-",
        "outputId": "3066f874-c56b-494a-8c91-68eaf4691695"
      },
      "execution_count": 316,
      "outputs": [
        {
          "output_type": "execute_result",
          "data": {
            "text/plain": [
              "Matrix([\n",
              "[ 25],\n",
              "[-10],\n",
              "[ -4]])"
            ],
            "text/latex": "$\\displaystyle \\left[\\begin{matrix}25\\\\-10\\\\-4\\end{matrix}\\right]$"
          },
          "metadata": {},
          "execution_count": 316
        }
      ]
    },
    {
      "cell_type": "code",
      "source": [
        "sp.linsolve((A, b), x, y, z)"
      ],
      "metadata": {
        "colab": {
          "base_uri": "https://localhost:8080/",
          "height": 37
        },
        "id": "Y5PMIhKPveRb",
        "outputId": "5bf8483d-2578-4498-9f14-33fafbe6298e"
      },
      "execution_count": 317,
      "outputs": [
        {
          "output_type": "execute_result",
          "data": {
            "text/plain": [
              "FiniteSet((5, 3, -2))"
            ],
            "text/latex": "$\\displaystyle \\left\\{\\left( 5, \\  3, \\  -2\\right)\\right\\}$"
          },
          "metadata": {},
          "execution_count": 317
        }
      ]
    },
    {
      "cell_type": "markdown",
      "source": [
        "#### Solve Using `np.linalg.solve()`"
      ],
      "metadata": {
        "id": "j-8vQWIuxpJJ"
      }
    },
    {
      "cell_type": "code",
      "source": [
        "M = np.array([[4, 3, 2],\n",
        "              [-2, 2, 3],\n",
        "              [3, -5, 2]])\n",
        "M"
      ],
      "metadata": {
        "colab": {
          "base_uri": "https://localhost:8080/"
        },
        "id": "pLke6fxTziN4",
        "outputId": "88595858-5073-4264-d0de-61192ebfba13"
      },
      "execution_count": 318,
      "outputs": [
        {
          "output_type": "execute_result",
          "data": {
            "text/plain": [
              "array([[ 4,  3,  2],\n",
              "       [-2,  2,  3],\n",
              "       [ 3, -5,  2]])"
            ]
          },
          "metadata": {},
          "execution_count": 318
        }
      ]
    },
    {
      "cell_type": "code",
      "source": [
        "K = np.array([[25],\n",
        "              [-10],\n",
        "              [-4]])\n",
        "K"
      ],
      "metadata": {
        "colab": {
          "base_uri": "https://localhost:8080/"
        },
        "id": "DlXkkcim4Bvv",
        "outputId": "256f7ceb-b0df-4bc4-f40e-c9784f69ee59"
      },
      "execution_count": 319,
      "outputs": [
        {
          "output_type": "execute_result",
          "data": {
            "text/plain": [
              "array([[ 25],\n",
              "       [-10],\n",
              "       [ -4]])"
            ]
          },
          "metadata": {},
          "execution_count": 319
        }
      ]
    },
    {
      "cell_type": "code",
      "source": [
        "np.linalg.solve(M, K)"
      ],
      "metadata": {
        "colab": {
          "base_uri": "https://localhost:8080/"
        },
        "id": "zJR0kEh54Ot8",
        "outputId": "f23b3db4-b4f5-4254-b67c-1006555e8ec5"
      },
      "execution_count": 320,
      "outputs": [
        {
          "output_type": "execute_result",
          "data": {
            "text/plain": [
              "array([[ 5.],\n",
              "       [ 3.],\n",
              "       [-2.]])"
            ]
          },
          "metadata": {},
          "execution_count": 320
        }
      ]
    },
    {
      "cell_type": "markdown",
      "source": [
        "## 1.2.1.4 Supplemental Reading - [Linear Algebra](https://patrickwalls.github.io/mathematicalpython/linear-algebra/linear-algebra-scipy/)"
      ],
      "metadata": {
        "id": "c32PJROu5ch-"
      }
    },
    {
      "cell_type": "markdown",
      "source": [
        "### Linear Algebra with SciPy"
      ],
      "metadata": {
        "id": "oJXxpL8BB1yd"
      }
    },
    {
      "cell_type": "code",
      "source": [
        "import scipy.linalg as la"
      ],
      "metadata": {
        "id": "r1Jmfq9B6GWT"
      },
      "execution_count": 321,
      "outputs": []
    },
    {
      "cell_type": "markdown",
      "source": [
        "#### Numpy Arrays: 1D, 2D and 3D"
      ],
      "metadata": {
        "id": "qbtzc22E8Lt2"
      }
    },
    {
      "cell_type": "markdown",
      "source": [
        "##### 1D"
      ],
      "metadata": {
        "id": "k--Ib6tC8n5o"
      }
    },
    {
      "cell_type": "code",
      "source": [
        "a = np.array([1, 3, -2, 1])\n",
        "a"
      ],
      "metadata": {
        "colab": {
          "base_uri": "https://localhost:8080/"
        },
        "id": "9Jqs45Qf8XQH",
        "outputId": "82271fa3-f9b0-4fdb-98cd-49395d4da672"
      },
      "execution_count": 322,
      "outputs": [
        {
          "output_type": "execute_result",
          "data": {
            "text/plain": [
              "array([ 1,  3, -2,  1])"
            ]
          },
          "metadata": {},
          "execution_count": 322
        }
      ]
    },
    {
      "cell_type": "code",
      "source": [
        "a.ndim, a.shape, a.size"
      ],
      "metadata": {
        "colab": {
          "base_uri": "https://localhost:8080/"
        },
        "id": "PcD2atsa8bID",
        "outputId": "2e32a104-0f4d-4dda-cfd1-503d8c37d593"
      },
      "execution_count": 323,
      "outputs": [
        {
          "output_type": "execute_result",
          "data": {
            "text/plain": [
              "(1, (4,), 4)"
            ]
          },
          "metadata": {},
          "execution_count": 323
        }
      ]
    },
    {
      "cell_type": "markdown",
      "source": [
        "##### 2D"
      ],
      "metadata": {
        "id": "tx8hefuJ83gb"
      }
    },
    {
      "cell_type": "code",
      "source": [
        "M = np.array([[1, 2],\n",
        "              [3, 7],\n",
        "              [-1, 5]])\n",
        "M"
      ],
      "metadata": {
        "colab": {
          "base_uri": "https://localhost:8080/"
        },
        "id": "EPLdhjTD84rb",
        "outputId": "6e7daf92-4f78-414f-8817-65b034e340cb"
      },
      "execution_count": 324,
      "outputs": [
        {
          "output_type": "execute_result",
          "data": {
            "text/plain": [
              "array([[ 1,  2],\n",
              "       [ 3,  7],\n",
              "       [-1,  5]])"
            ]
          },
          "metadata": {},
          "execution_count": 324
        }
      ]
    },
    {
      "cell_type": "code",
      "source": [
        "M.ndim, M.shape, M.size"
      ],
      "metadata": {
        "colab": {
          "base_uri": "https://localhost:8080/"
        },
        "id": "O9qsNEHF8_Gx",
        "outputId": "8f262ece-1781-4bba-996f-0bd79e4a4b55"
      },
      "execution_count": 325,
      "outputs": [
        {
          "output_type": "execute_result",
          "data": {
            "text/plain": [
              "(2, (3, 2), 6)"
            ]
          },
          "metadata": {},
          "execution_count": 325
        }
      ]
    },
    {
      "cell_type": "code",
      "source": [
        "M_column = M[:, 1]\n",
        "print(M_column)"
      ],
      "metadata": {
        "colab": {
          "base_uri": "https://localhost:8080/"
        },
        "id": "vVyvoP2VA8Ik",
        "outputId": "40025b76-398b-4c0f-feaa-c4a9f3a42e07"
      },
      "execution_count": 326,
      "outputs": [
        {
          "output_type": "stream",
          "name": "stdout",
          "text": [
            "[2 7 5]\n"
          ]
        }
      ]
    },
    {
      "cell_type": "code",
      "source": [
        "M_column.ndim, M_column.shape, M_column.size"
      ],
      "metadata": {
        "colab": {
          "base_uri": "https://localhost:8080/"
        },
        "id": "0F68alVzBEdU",
        "outputId": "de1c8377-dac9-4fd3-e412-62b08a53a833"
      },
      "execution_count": 327,
      "outputs": [
        {
          "output_type": "execute_result",
          "data": {
            "text/plain": [
              "(1, (3,), 3)"
            ]
          },
          "metadata": {},
          "execution_count": 327
        }
      ]
    },
    {
      "cell_type": "code",
      "source": [
        "M_column = M_column.reshape(3, 1)"
      ],
      "metadata": {
        "id": "5R38Tpi5BRyb"
      },
      "execution_count": 328,
      "outputs": []
    },
    {
      "cell_type": "code",
      "source": [
        "M_column"
      ],
      "metadata": {
        "colab": {
          "base_uri": "https://localhost:8080/"
        },
        "id": "Wjo58mTkBcKU",
        "outputId": "7227cbda-807b-4a32-bb6e-2ef394449ae4"
      },
      "execution_count": 329,
      "outputs": [
        {
          "output_type": "execute_result",
          "data": {
            "text/plain": [
              "array([[2],\n",
              "       [7],\n",
              "       [5]])"
            ]
          },
          "metadata": {},
          "execution_count": 329
        }
      ]
    },
    {
      "cell_type": "code",
      "source": [
        "M_column.ndim, M_column.shape, M_column.size"
      ],
      "metadata": {
        "colab": {
          "base_uri": "https://localhost:8080/"
        },
        "id": "tRId5b5WBf3m",
        "outputId": "01e2ad4a-a402-440b-b0a6-248eb4c140fe"
      },
      "execution_count": 330,
      "outputs": [
        {
          "output_type": "execute_result",
          "data": {
            "text/plain": [
              "(2, (3, 1), 3)"
            ]
          },
          "metadata": {},
          "execution_count": 330
        }
      ]
    },
    {
      "cell_type": "markdown",
      "source": [
        "##### 3D"
      ],
      "metadata": {
        "id": "kVvHEv5rCHkO"
      }
    },
    {
      "cell_type": "code",
      "source": [
        "M = np.array([[[1, 2, 100], \n",
        "               [3, 4, 100]],\n",
        "              \n",
        "              [[5, 6, 100], \n",
        "               [7, 8, 100]],\n",
        "              \n",
        "              [[9, 10, 100], \n",
        "               [11, 12, 100]],\n",
        "              \n",
        "              [[13, 14, 100],\n",
        "               [15, 16, 100]]])\n",
        "M"
      ],
      "metadata": {
        "colab": {
          "base_uri": "https://localhost:8080/"
        },
        "id": "BW_B60mOCLOS",
        "outputId": "55f397f6-c4db-40fa-e73c-12d95e55bb41"
      },
      "execution_count": 331,
      "outputs": [
        {
          "output_type": "execute_result",
          "data": {
            "text/plain": [
              "array([[[  1,   2, 100],\n",
              "        [  3,   4, 100]],\n",
              "\n",
              "       [[  5,   6, 100],\n",
              "        [  7,   8, 100]],\n",
              "\n",
              "       [[  9,  10, 100],\n",
              "        [ 11,  12, 100]],\n",
              "\n",
              "       [[ 13,  14, 100],\n",
              "        [ 15,  16, 100]]])"
            ]
          },
          "metadata": {},
          "execution_count": 331
        }
      ]
    },
    {
      "cell_type": "code",
      "source": [
        "M.ndim, M.shape, M.size"
      ],
      "metadata": {
        "colab": {
          "base_uri": "https://localhost:8080/"
        },
        "id": "snlYEG9TCmJX",
        "outputId": "660e784c-890b-46b4-98b2-7219c6c2fd0c"
      },
      "execution_count": 332,
      "outputs": [
        {
          "output_type": "execute_result",
          "data": {
            "text/plain": [
              "(3, (4, 2, 3), 24)"
            ]
          },
          "metadata": {},
          "execution_count": 332
        }
      ]
    },
    {
      "cell_type": "markdown",
      "source": [
        "#### Matrix Operations and Functions"
      ],
      "metadata": {
        "id": "j1EsA4I1DISo"
      }
    },
    {
      "cell_type": "markdown",
      "source": [
        "##### Arithmetic Operations\n",
        "\n",
        "Arithmetic array operators: `+`, `-`, `/`, `*`, and `**` are performed elementwise on NumPy arrays"
      ],
      "metadata": {
        "id": "lx1tdlbPEOWP"
      }
    },
    {
      "cell_type": "code",
      "source": [
        "M = np.array([[3, 4],\n",
        "              [-1, 5]])\n",
        "M"
      ],
      "metadata": {
        "colab": {
          "base_uri": "https://localhost:8080/"
        },
        "id": "RZSt4SJgEve3",
        "outputId": "b64ae3c8-e663-489a-fbba-a783933dd901"
      },
      "execution_count": 333,
      "outputs": [
        {
          "output_type": "execute_result",
          "data": {
            "text/plain": [
              "array([[ 3,  4],\n",
              "       [-1,  5]])"
            ]
          },
          "metadata": {},
          "execution_count": 333
        }
      ]
    },
    {
      "cell_type": "code",
      "source": [
        "M + M"
      ],
      "metadata": {
        "colab": {
          "base_uri": "https://localhost:8080/"
        },
        "id": "eR8O3YJ3E1Ht",
        "outputId": "a6546af4-6037-41c2-af6f-98159080d95e"
      },
      "execution_count": 334,
      "outputs": [
        {
          "output_type": "execute_result",
          "data": {
            "text/plain": [
              "array([[ 6,  8],\n",
              "       [-2, 10]])"
            ]
          },
          "metadata": {},
          "execution_count": 334
        }
      ]
    },
    {
      "cell_type": "code",
      "source": [
        "M * M"
      ],
      "metadata": {
        "colab": {
          "base_uri": "https://localhost:8080/"
        },
        "id": "1RtUbKFfE32N",
        "outputId": "c05c86e0-8882-4783-8cc1-314492123f68"
      },
      "execution_count": 335,
      "outputs": [
        {
          "output_type": "execute_result",
          "data": {
            "text/plain": [
              "array([[ 9, 16],\n",
              "       [ 1, 25]])"
            ]
          },
          "metadata": {},
          "execution_count": 335
        }
      ]
    },
    {
      "cell_type": "code",
      "source": [
        "M / M"
      ],
      "metadata": {
        "colab": {
          "base_uri": "https://localhost:8080/"
        },
        "id": "G6HR91ZlE6t4",
        "outputId": "e049be70-81e9-40dd-fca9-6a97fa45ca14"
      },
      "execution_count": 336,
      "outputs": [
        {
          "output_type": "execute_result",
          "data": {
            "text/plain": [
              "array([[1., 1.],\n",
              "       [1., 1.]])"
            ]
          },
          "metadata": {},
          "execution_count": 336
        }
      ]
    },
    {
      "cell_type": "code",
      "source": [
        "M**3"
      ],
      "metadata": {
        "colab": {
          "base_uri": "https://localhost:8080/"
        },
        "id": "zC66p-QjE8pG",
        "outputId": "95cfced8-98bf-4fa1-f27b-4e03e616cd3e"
      },
      "execution_count": 337,
      "outputs": [
        {
          "output_type": "execute_result",
          "data": {
            "text/plain": [
              "array([[ 27,  64],\n",
              "       [ -1, 125]])"
            ]
          },
          "metadata": {},
          "execution_count": 337
        }
      ]
    },
    {
      "cell_type": "markdown",
      "source": [
        "##### Matrix Multiplication"
      ],
      "metadata": {
        "id": "KAFtDkKxFJLr"
      }
    },
    {
      "cell_type": "code",
      "source": [
        "M @ M"
      ],
      "metadata": {
        "colab": {
          "base_uri": "https://localhost:8080/"
        },
        "id": "JFb3kHWrH4m_",
        "outputId": "46ae5765-0be3-4cab-ab46-848139de4e05"
      },
      "execution_count": 338,
      "outputs": [
        {
          "output_type": "execute_result",
          "data": {
            "text/plain": [
              "array([[ 5, 32],\n",
              "       [-8, 21]])"
            ]
          },
          "metadata": {},
          "execution_count": 338
        }
      ]
    },
    {
      "cell_type": "code",
      "source": [
        "M.dot(M)"
      ],
      "metadata": {
        "colab": {
          "base_uri": "https://localhost:8080/"
        },
        "id": "i_1sa23jH8uJ",
        "outputId": "8fc64df6-604a-45fe-f437-737925d9120d"
      },
      "execution_count": 339,
      "outputs": [
        {
          "output_type": "execute_result",
          "data": {
            "text/plain": [
              "array([[ 5, 32],\n",
              "       [-8, 21]])"
            ]
          },
          "metadata": {},
          "execution_count": 339
        }
      ]
    },
    {
      "cell_type": "markdown",
      "source": [
        "###### Example\n",
        "\n",
        "Compute $2I + 3A - AB$ for\n",
        "\n",
        "$A = \\left[\\begin{matrix}1 & 3\\\\-1 & 7\\end{matrix}\\right]$\n",
        "\n",
        "$B = \\left[\\begin{matrix}5 & 2\\\\1 & 2\\end{matrix}\\right]$"
      ],
      "metadata": {
        "id": "Q7-9Uw0jIEt9"
      }
    },
    {
      "cell_type": "code",
      "source": [
        "A = np.array([[1, 3],\n",
        "              [-1, 7]])\n",
        "B = np.array([[5, 2],\n",
        "              [1, 2]])\n",
        "I = np.eye(2)"
      ],
      "metadata": {
        "id": "CXZgBNAaIRmm"
      },
      "execution_count": 340,
      "outputs": []
    },
    {
      "cell_type": "code",
      "source": [
        "2 * I + 3 * A - A @ B"
      ],
      "metadata": {
        "colab": {
          "base_uri": "https://localhost:8080/"
        },
        "id": "MXmTgotoJKvm",
        "outputId": "2af24844-2c30-48a7-f219-c6f3e422a5c5"
      },
      "execution_count": 341,
      "outputs": [
        {
          "output_type": "execute_result",
          "data": {
            "text/plain": [
              "array([[-3.,  1.],\n",
              "       [-5., 11.]])"
            ]
          },
          "metadata": {},
          "execution_count": 341
        }
      ]
    },
    {
      "cell_type": "markdown",
      "source": [
        "##### Matrix Powers - `np.linalg.matrix_power()`"
      ],
      "metadata": {
        "id": "t0QghoORLRsD"
      }
    },
    {
      "cell_type": "code",
      "source": [
        "M"
      ],
      "metadata": {
        "colab": {
          "base_uri": "https://localhost:8080/"
        },
        "id": "pfYw5qECM-mT",
        "outputId": "333ed513-4a2d-4c96-9c06-c2989908ec29"
      },
      "execution_count": 342,
      "outputs": [
        {
          "output_type": "execute_result",
          "data": {
            "text/plain": [
              "array([[ 3,  4],\n",
              "       [-1,  5]])"
            ]
          },
          "metadata": {},
          "execution_count": 342
        }
      ]
    },
    {
      "cell_type": "code",
      "source": [
        "np.linalg.matrix_power(M, 3)"
      ],
      "metadata": {
        "colab": {
          "base_uri": "https://localhost:8080/"
        },
        "id": "C1l7-b-9NCoN",
        "outputId": "c12a0840-18f8-414c-de08-d549c3d15c27"
      },
      "execution_count": 343,
      "outputs": [
        {
          "output_type": "execute_result",
          "data": {
            "text/plain": [
              "array([[-17, 180],\n",
              "       [-45,  73]])"
            ]
          },
          "metadata": {},
          "execution_count": 343
        }
      ]
    },
    {
      "cell_type": "code",
      "source": [
        "M @ M @ M"
      ],
      "metadata": {
        "colab": {
          "base_uri": "https://localhost:8080/"
        },
        "id": "GcM_uzTGNLbH",
        "outputId": "445a5598-f64b-4dcc-ba9e-fa51d780d2c8"
      },
      "execution_count": 344,
      "outputs": [
        {
          "output_type": "execute_result",
          "data": {
            "text/plain": [
              "array([[-17, 180],\n",
              "       [-45,  73]])"
            ]
          },
          "metadata": {},
          "execution_count": 344
        }
      ]
    },
    {
      "cell_type": "code",
      "source": [
        "M.dot(M).dot(M)"
      ],
      "metadata": {
        "colab": {
          "base_uri": "https://localhost:8080/"
        },
        "id": "dFPZ-eC-NRCP",
        "outputId": "49af4b5b-ad03-4544-f893-e6503b72bb57"
      },
      "execution_count": 345,
      "outputs": [
        {
          "output_type": "execute_result",
          "data": {
            "text/plain": [
              "array([[-17, 180],\n",
              "       [-45,  73]])"
            ]
          },
          "metadata": {},
          "execution_count": 345
        }
      ]
    },
    {
      "cell_type": "markdown",
      "source": [
        "##### Transpose"
      ],
      "metadata": {
        "id": "EY9T1mpONXGA"
      }
    },
    {
      "cell_type": "code",
      "source": [
        "M"
      ],
      "metadata": {
        "colab": {
          "base_uri": "https://localhost:8080/"
        },
        "id": "na0GZ8tTNwGx",
        "outputId": "26d268a7-bf51-462b-db25-a3400e345997"
      },
      "execution_count": 346,
      "outputs": [
        {
          "output_type": "execute_result",
          "data": {
            "text/plain": [
              "array([[ 3,  4],\n",
              "       [-1,  5]])"
            ]
          },
          "metadata": {},
          "execution_count": 346
        }
      ]
    },
    {
      "cell_type": "code",
      "source": [
        "M.T"
      ],
      "metadata": {
        "colab": {
          "base_uri": "https://localhost:8080/"
        },
        "id": "okRoMbRYNxwo",
        "outputId": "e5bc9a87-b631-4290-b72a-3d1eab918719"
      },
      "execution_count": 347,
      "outputs": [
        {
          "output_type": "execute_result",
          "data": {
            "text/plain": [
              "array([[ 3, -1],\n",
              "       [ 4,  5]])"
            ]
          },
          "metadata": {},
          "execution_count": 347
        }
      ]
    },
    {
      "cell_type": "markdown",
      "source": [
        "Notice that $MM^{T}$ is a symmetric matrix"
      ],
      "metadata": {
        "id": "5vAATds1N64F"
      }
    },
    {
      "cell_type": "code",
      "source": [
        "M @ M.T"
      ],
      "metadata": {
        "colab": {
          "base_uri": "https://localhost:8080/"
        },
        "id": "NuDtYGCdN3xs",
        "outputId": "87506927-0490-45f0-e7bc-2b9aedb3b12a"
      },
      "execution_count": 348,
      "outputs": [
        {
          "output_type": "execute_result",
          "data": {
            "text/plain": [
              "array([[25, 17],\n",
              "       [17, 26]])"
            ]
          },
          "metadata": {},
          "execution_count": 348
        }
      ]
    },
    {
      "cell_type": "code",
      "source": [
        "M.T @ M"
      ],
      "metadata": {
        "colab": {
          "base_uri": "https://localhost:8080/"
        },
        "id": "7avMozIOOCo_",
        "outputId": "0320da78-9e63-4f2f-983b-b7f538ca0e8e"
      },
      "execution_count": 349,
      "outputs": [
        {
          "output_type": "execute_result",
          "data": {
            "text/plain": [
              "array([[10,  7],\n",
              "       [ 7, 41]])"
            ]
          },
          "metadata": {},
          "execution_count": 349
        }
      ]
    },
    {
      "cell_type": "code",
      "source": [
        "a, b, c, d = sp.symbols('a b c c')\n",
        "\n",
        "M = sp.Matrix([[a, b],\n",
        "                [c, d]])\n",
        "\n",
        "M"
      ],
      "metadata": {
        "colab": {
          "base_uri": "https://localhost:8080/",
          "height": 58
        },
        "id": "kIqtbA_rwG5U",
        "outputId": "3d7bca00-7c93-48f4-e10e-5e3ec22f3847"
      },
      "execution_count": 350,
      "outputs": [
        {
          "output_type": "execute_result",
          "data": {
            "text/plain": [
              "Matrix([\n",
              "[a, b],\n",
              "[c, c]])"
            ],
            "text/latex": "$\\displaystyle \\left[\\begin{matrix}a & b\\\\c & c\\end{matrix}\\right]$"
          },
          "metadata": {},
          "execution_count": 350
        }
      ]
    },
    {
      "cell_type": "code",
      "source": [
        "M.T"
      ],
      "metadata": {
        "colab": {
          "base_uri": "https://localhost:8080/",
          "height": 58
        },
        "id": "Jl0zDwlwwafH",
        "outputId": "8e4aecfc-c47d-481d-a084-2d85cc643fc9"
      },
      "execution_count": 351,
      "outputs": [
        {
          "output_type": "execute_result",
          "data": {
            "text/plain": [
              "Matrix([\n",
              "[a, c],\n",
              "[b, c]])"
            ],
            "text/latex": "$\\displaystyle \\left[\\begin{matrix}a & c\\\\b & c\\end{matrix}\\right]$"
          },
          "metadata": {},
          "execution_count": 351
        }
      ]
    },
    {
      "cell_type": "code",
      "source": [
        "M @ M.T # symmetric"
      ],
      "metadata": {
        "colab": {
          "base_uri": "https://localhost:8080/",
          "height": 58
        },
        "id": "oD_ZHHC4wcs0",
        "outputId": "b7705641-f129-480f-c4d6-b3313103018d"
      },
      "execution_count": 352,
      "outputs": [
        {
          "output_type": "execute_result",
          "data": {
            "text/plain": [
              "Matrix([\n",
              "[a**2 + b**2, a*c + b*c],\n",
              "[  a*c + b*c,    2*c**2]])"
            ],
            "text/latex": "$\\displaystyle \\left[\\begin{matrix}a^{2} + b^{2} & a c + b c\\\\a c + b c & 2 c^{2}\\end{matrix}\\right]$"
          },
          "metadata": {},
          "execution_count": 352
        }
      ]
    },
    {
      "cell_type": "code",
      "source": [
        "M.T @ M # symmetric"
      ],
      "metadata": {
        "colab": {
          "base_uri": "https://localhost:8080/",
          "height": 58
        },
        "id": "HrxwW1szws4F",
        "outputId": "61b2eaa0-4146-4894-b254-01e241f4e6d4"
      },
      "execution_count": 353,
      "outputs": [
        {
          "output_type": "execute_result",
          "data": {
            "text/plain": [
              "Matrix([\n",
              "[a**2 + c**2,  a*b + c**2],\n",
              "[ a*b + c**2, b**2 + c**2]])"
            ],
            "text/latex": "$\\displaystyle \\left[\\begin{matrix}a^{2} + c^{2} & a b + c^{2}\\\\a b + c^{2} & b^{2} + c^{2}\\end{matrix}\\right]$"
          },
          "metadata": {},
          "execution_count": 353
        }
      ]
    },
    {
      "cell_type": "markdown",
      "source": [
        "##### Inverse"
      ],
      "metadata": {
        "id": "0TojeFs1QnH8"
      }
    },
    {
      "cell_type": "code",
      "source": [
        "A = np.array([[1, 2],\n",
        "              [3, 4]])\n",
        "A"
      ],
      "metadata": {
        "colab": {
          "base_uri": "https://localhost:8080/"
        },
        "id": "sHsaZQsRQsHQ",
        "outputId": "724fdcb6-c945-4d52-e8f9-61b6e0e014af"
      },
      "execution_count": 354,
      "outputs": [
        {
          "output_type": "execute_result",
          "data": {
            "text/plain": [
              "array([[1, 2],\n",
              "       [3, 4]])"
            ]
          },
          "metadata": {},
          "execution_count": 354
        }
      ]
    },
    {
      "cell_type": "code",
      "source": [
        "np.linalg.inv(A)"
      ],
      "metadata": {
        "colab": {
          "base_uri": "https://localhost:8080/"
        },
        "id": "MjODd9RoQ1D1",
        "outputId": "75251deb-c6fa-431e-ba4d-07133e4990e9"
      },
      "execution_count": 355,
      "outputs": [
        {
          "output_type": "execute_result",
          "data": {
            "text/plain": [
              "array([[-2. ,  1. ],\n",
              "       [ 1.5, -0.5]])"
            ]
          },
          "metadata": {},
          "execution_count": 355
        }
      ]
    },
    {
      "cell_type": "markdown",
      "source": [
        "##### Trace"
      ],
      "metadata": {
        "id": "mI27MHNBRQEu"
      }
    },
    {
      "cell_type": "code",
      "source": [
        "A"
      ],
      "metadata": {
        "colab": {
          "base_uri": "https://localhost:8080/"
        },
        "id": "n4bF9IWjxdMo",
        "outputId": "aa85d34b-a743-428b-8f06-cf1a3224a4f9"
      },
      "execution_count": 356,
      "outputs": [
        {
          "output_type": "execute_result",
          "data": {
            "text/plain": [
              "array([[1, 2],\n",
              "       [3, 4]])"
            ]
          },
          "metadata": {},
          "execution_count": 356
        }
      ]
    },
    {
      "cell_type": "code",
      "source": [
        "np.trace(A)"
      ],
      "metadata": {
        "colab": {
          "base_uri": "https://localhost:8080/"
        },
        "id": "0f66PmWgQ4SQ",
        "outputId": "4ead07f6-84fb-45c7-f6be-fe44e4836970"
      },
      "execution_count": 357,
      "outputs": [
        {
          "output_type": "execute_result",
          "data": {
            "text/plain": [
              "5"
            ]
          },
          "metadata": {},
          "execution_count": 357
        }
      ]
    },
    {
      "cell_type": "markdown",
      "source": [
        "##### Determinant"
      ],
      "metadata": {
        "id": "M7RPrRT-SdMr"
      }
    },
    {
      "cell_type": "code",
      "source": [
        "# scipy\n",
        "la.det(A)"
      ],
      "metadata": {
        "colab": {
          "base_uri": "https://localhost:8080/"
        },
        "id": "za9JQmzgRlLe",
        "outputId": "4e146abf-9111-4ae4-92f1-1143f4371151"
      },
      "execution_count": 358,
      "outputs": [
        {
          "output_type": "execute_result",
          "data": {
            "text/plain": [
              "-2.0"
            ]
          },
          "metadata": {},
          "execution_count": 358
        }
      ]
    },
    {
      "cell_type": "code",
      "source": [
        "# numpy \n",
        "np.linalg.det(A)"
      ],
      "metadata": {
        "colab": {
          "base_uri": "https://localhost:8080/"
        },
        "id": "fYfGh_mCSwL7",
        "outputId": "d228708b-10aa-4b30-c66b-fa98aca366a9"
      },
      "execution_count": 359,
      "outputs": [
        {
          "output_type": "execute_result",
          "data": {
            "text/plain": [
              "-2.0000000000000004"
            ]
          },
          "metadata": {},
          "execution_count": 359
        }
      ]
    },
    {
      "cell_type": "code",
      "source": [
        "sp_A = sp.Matrix(A)\n",
        "sp_A"
      ],
      "metadata": {
        "colab": {
          "base_uri": "https://localhost:8080/",
          "height": 58
        },
        "id": "N2eViHGdS6tX",
        "outputId": "692f1756-8bc7-497b-882c-ba378687e57c"
      },
      "execution_count": 360,
      "outputs": [
        {
          "output_type": "execute_result",
          "data": {
            "text/plain": [
              "Matrix([\n",
              "[1, 2],\n",
              "[3, 4]])"
            ],
            "text/latex": "$\\displaystyle \\left[\\begin{matrix}1 & 2\\\\3 & 4\\end{matrix}\\right]$"
          },
          "metadata": {},
          "execution_count": 360
        }
      ]
    },
    {
      "cell_type": "code",
      "source": [
        "sp_A.det(), sp.det(sp_A)"
      ],
      "metadata": {
        "colab": {
          "base_uri": "https://localhost:8080/"
        },
        "id": "-zje1VzWS-Kd",
        "outputId": "81661b3c-a4fb-4bc9-c56b-3ab15ff5f2d8"
      },
      "execution_count": 361,
      "outputs": [
        {
          "output_type": "execute_result",
          "data": {
            "text/plain": [
              "(-2, -2)"
            ]
          },
          "metadata": {},
          "execution_count": 361
        }
      ]
    },
    {
      "cell_type": "markdown",
      "source": [
        "### Solving Linear Systems"
      ],
      "metadata": {
        "id": "cqaDlSC_TL2_"
      }
    },
    {
      "cell_type": "markdown",
      "source": [
        "#### Linear Systems"
      ],
      "metadata": {
        "id": "rDwqPw3FTwiI"
      }
    },
    {
      "cell_type": "markdown",
      "source": [
        "A **linear system of equations** is a collection of linear equations:\n",
        "\n",
        "$\n",
        "a_{00}x_{0} + a_{01}x_{1} + \\dots + a_{0n}x_{n} = b_{0} \\\\\n",
        "a_{10}x_{0} + a_{11}x_{1} + \\dots + a_{1n}x_{n} = b_{1} \\\\\n",
        "\\vdots \\\\\n",
        "a_{m0}x_{0} + a_{m1}x_{1} + \\dots + a_{mn}x_{n} = b_{m}\n",
        "$"
      ],
      "metadata": {
        "id": "6qE7baBzT1Kv"
      }
    },
    {
      "cell_type": "markdown",
      "source": [
        "In matrix notation, a linear system is $Ax = b$ where\n",
        "\n",
        "$A = \n",
        "\\left[\n",
        "\\begin{matrix}\n",
        "a_{00} & a_{01} & \\dots & a_{0n} \\\\\n",
        "a_{10} & a_{11} & \\dots & a \\\\\n",
        "\\vdots & & & \\vdots \\\\\n",
        "a_{m0} & a_{m1} & \\dots & a_{mn}\n",
        "\\end{matrix}\n",
        "\\right] ,\n",
        "x = \n",
        "\\left[\n",
        "\\begin{matrix}\n",
        "x_{0}  \\\\\n",
        "x_{1}  \\\\\n",
        "\\vdots  \\\\\n",
        "x_{n}  \n",
        "\\end{matrix}\n",
        "\\right] ,\n",
        "b = \n",
        "\\left[\n",
        "\\begin{matrix}\n",
        "b_{0}  \\\\\n",
        "b_{1}  \\\\\n",
        "\\vdots  \\\\\n",
        "b_{m}  \n",
        "\\end{matrix}\n",
        "\\right]\n",
        "$"
      ],
      "metadata": {
        "id": "RhaRySJZVF4G"
      }
    },
    {
      "cell_type": "markdown",
      "source": [
        "#### Gaussian Elimination\n",
        "\n",
        "Perform elementary row operations to reduce the system to its row echelen form and then solve"
      ],
      "metadata": {
        "id": "jjVXTMpMYZN-"
      }
    },
    {
      "cell_type": "markdown",
      "source": [
        "###### Elementary Row Operations\n",
        "\n",
        "1. Add $k$ times row $j$ to row $i$\n",
        "2. Multiply row $i$ by scalar $k$\n",
        "3. Switch rows $i$ and $j$"
      ],
      "metadata": {
        "id": "JGrSL1kKYyE6"
      }
    },
    {
      "cell_type": "code",
      "source": [
        "a, b, c, d, e, f, g, h, i, k = sp.symbols('a b c d e f g h i k')\n",
        "\n",
        "A = sp.Matrix([[a, b, c],\n",
        "               [d, e, f],\n",
        "               [g, h, i]])"
      ],
      "metadata": {
        "id": "f3Q3d1zJy641"
      },
      "execution_count": 362,
      "outputs": []
    },
    {
      "cell_type": "markdown",
      "source": [
        "- Each of the **elementary row operations** is the result of matrix multiplication by an elementary matrix on the left.\n",
        "- For example, $E_k$ is used to add 3 times row 2 to row 0"
      ],
      "metadata": {
        "id": "U-lLJsDh144e"
      }
    },
    {
      "cell_type": "code",
      "source": [
        "# add k times row 2 to row 0\n",
        "Ek = sp.Matrix([[1, 0, k],\n",
        "                [0, 1, 0],\n",
        "                [0, 0, 1]])"
      ],
      "metadata": {
        "id": "ow_xp7wV4pRw"
      },
      "execution_count": 363,
      "outputs": []
    },
    {
      "cell_type": "code",
      "source": [
        "Ek * A"
      ],
      "metadata": {
        "colab": {
          "base_uri": "https://localhost:8080/",
          "height": 78
        },
        "id": "5zUjGrlr0P-r",
        "outputId": "02780e13-603e-4346-ddf2-a3d7f43bab1d"
      },
      "execution_count": 364,
      "outputs": [
        {
          "output_type": "execute_result",
          "data": {
            "text/plain": [
              "Matrix([\n",
              "[a + g*k, b + h*k, c + i*k],\n",
              "[      d,       e,       f],\n",
              "[      g,       h,       i]])"
            ],
            "text/latex": "$\\displaystyle \\left[\\begin{matrix}a + g k & b + h k & c + i k\\\\d & e & f\\\\g & h & i\\end{matrix}\\right]$"
          },
          "metadata": {},
          "execution_count": 364
        }
      ]
    },
    {
      "cell_type": "code",
      "source": [
        "# multiply row 1 by -k\n",
        "Ek = sp.Matrix([[1, 0, 0],\n",
        "                [0, -k, 0],\n",
        "                [0, 0, 1]])"
      ],
      "metadata": {
        "id": "kYJvGdFf3g7d"
      },
      "execution_count": 365,
      "outputs": []
    },
    {
      "cell_type": "code",
      "source": [
        "Ek * A"
      ],
      "metadata": {
        "colab": {
          "base_uri": "https://localhost:8080/",
          "height": 78
        },
        "id": "lYWdtTbh3k7e",
        "outputId": "c9cd8f3b-ed21-4e08-fae1-88885eb44be5"
      },
      "execution_count": 366,
      "outputs": [
        {
          "output_type": "execute_result",
          "data": {
            "text/plain": [
              "Matrix([\n",
              "[   a,    b,    c],\n",
              "[-d*k, -e*k, -f*k],\n",
              "[   g,    h,    i]])"
            ],
            "text/latex": "$\\displaystyle \\left[\\begin{matrix}a & b & c\\\\- d k & - e k & - f k\\\\g & h & i\\end{matrix}\\right]$"
          },
          "metadata": {},
          "execution_count": 366
        }
      ]
    },
    {
      "cell_type": "code",
      "source": [
        "# switch rows 1 and 2\n",
        "Ek = sp.Matrix([[1, 0, 0],\n",
        "                [0, 0, 1],\n",
        "                [0, 1, 0]])"
      ],
      "metadata": {
        "id": "QlQ3iRpD5sGs"
      },
      "execution_count": 367,
      "outputs": []
    },
    {
      "cell_type": "code",
      "source": [
        "Ek * A"
      ],
      "metadata": {
        "colab": {
          "base_uri": "https://localhost:8080/",
          "height": 78
        },
        "id": "MprAThP56Fha",
        "outputId": "60f7397d-3e18-428b-b06c-de8b2941aa47"
      },
      "execution_count": 368,
      "outputs": [
        {
          "output_type": "execute_result",
          "data": {
            "text/plain": [
              "Matrix([\n",
              "[a, b, c],\n",
              "[g, h, i],\n",
              "[d, e, f]])"
            ],
            "text/latex": "$\\displaystyle \\left[\\begin{matrix}a & b & c\\\\g & h & i\\\\d & e & f\\end{matrix}\\right]$"
          },
          "metadata": {},
          "execution_count": 368
        }
      ]
    },
    {
      "cell_type": "markdown",
      "source": [
        "###### Implementation\n",
        "\n",
        "1. Add $k$ times row $j$ to row $i$\n",
        "2. Multiply row $i$ by scalar $k$\n",
        "3. Switch rows $i$ and $j$"
      ],
      "metadata": {
        "id": "O5dd15Ql6tTl"
      }
    },
    {
      "cell_type": "markdown",
      "source": [
        "###### $1.$ Add $k$ times row $j$ to row $i$"
      ],
      "metadata": {
        "id": "sXKojwzjK0nW"
      }
    },
    {
      "cell_type": "code",
      "source": [
        "M = np.array([[1, 1],\n",
        "              [3, 2]])\n",
        "M"
      ],
      "metadata": {
        "colab": {
          "base_uri": "https://localhost:8080/"
        },
        "id": "oO0QW56G8AVo",
        "outputId": "5aebf1ec-544f-48af-91c4-1325fa754283"
      },
      "execution_count": 369,
      "outputs": [
        {
          "output_type": "execute_result",
          "data": {
            "text/plain": [
              "array([[1, 1],\n",
              "       [3, 2]])"
            ]
          },
          "metadata": {},
          "execution_count": 369
        }
      ]
    },
    {
      "cell_type": "code",
      "source": [
        "def add_row(A, k, i, j):\n",
        "    'Add k times row j to row i in matrix A'\n",
        "    n = A.shape[0]\n",
        "    E = np.eye(n)\n",
        "    if i == j:\n",
        "        E[i, i] = k + 1\n",
        "    else:\n",
        "        E[i, j] = k \n",
        "    return E @ A"
      ],
      "metadata": {
        "id": "xL7VGMbq7g9Y"
      },
      "execution_count": 370,
      "outputs": []
    },
    {
      "cell_type": "code",
      "source": [
        "add_row(M, 2, 0, 1)"
      ],
      "metadata": {
        "colab": {
          "base_uri": "https://localhost:8080/"
        },
        "id": "N_exgvtz-sqK",
        "outputId": "0419b83d-939d-4ef0-daeb-6e5bbc8ea889"
      },
      "execution_count": 371,
      "outputs": [
        {
          "output_type": "execute_result",
          "data": {
            "text/plain": [
              "array([[7., 5.],\n",
              "       [3., 2.]])"
            ]
          },
          "metadata": {},
          "execution_count": 371
        }
      ]
    },
    {
      "cell_type": "code",
      "source": [
        "add_row(M, 3, 1, 1)"
      ],
      "metadata": {
        "colab": {
          "base_uri": "https://localhost:8080/"
        },
        "id": "lWO7vFWeEelS",
        "outputId": "f99b0507-2a83-407d-8e9b-81310ebf362a"
      },
      "execution_count": 372,
      "outputs": [
        {
          "output_type": "execute_result",
          "data": {
            "text/plain": [
              "array([[ 1.,  1.],\n",
              "       [12.,  8.]])"
            ]
          },
          "metadata": {},
          "execution_count": 372
        }
      ]
    },
    {
      "cell_type": "markdown",
      "source": [
        "###### $2.$ Multiply row $i$ by scalar $k$"
      ],
      "metadata": {
        "id": "71_SmDc1LjWi"
      }
    },
    {
      "cell_type": "code",
      "source": [
        "def scale_row(A, k, i):\n",
        "    'Multiply row i by k'\n",
        "    n = A.shape[0]\n",
        "    E = np.eye(n)\n",
        "    E[i, i] = k\n",
        "    return E @ A"
      ],
      "metadata": {
        "id": "QcGWiFiWHYmd"
      },
      "execution_count": 373,
      "outputs": []
    },
    {
      "cell_type": "code",
      "source": [
        "scale_row(M, 3, 0)"
      ],
      "metadata": {
        "colab": {
          "base_uri": "https://localhost:8080/"
        },
        "id": "Aa448kmMIgol",
        "outputId": "52958d2e-4d82-4986-9731-682b8ada22e3"
      },
      "execution_count": 374,
      "outputs": [
        {
          "output_type": "execute_result",
          "data": {
            "text/plain": [
              "array([[3., 3.],\n",
              "       [3., 2.]])"
            ]
          },
          "metadata": {},
          "execution_count": 374
        }
      ]
    },
    {
      "cell_type": "code",
      "source": [
        "scale_row(np.array([[3, 1], [-2, 7]]), 3, 1)"
      ],
      "metadata": {
        "colab": {
          "base_uri": "https://localhost:8080/"
        },
        "id": "jgfsZ6ZEI6Zw",
        "outputId": "8f588c80-ee22-4167-957c-0dfada6910aa"
      },
      "execution_count": 375,
      "outputs": [
        {
          "output_type": "execute_result",
          "data": {
            "text/plain": [
              "array([[ 3.,  1.],\n",
              "       [-6., 21.]])"
            ]
          },
          "metadata": {},
          "execution_count": 375
        }
      ]
    },
    {
      "cell_type": "code",
      "source": [
        "A = np.array([[1, 1, 1],\n",
        "              [1, -1, 0]])"
      ],
      "metadata": {
        "id": "nVhGi7e4JKW8"
      },
      "execution_count": 376,
      "outputs": []
    },
    {
      "cell_type": "code",
      "source": [
        "scale_row(A, 5, 1)"
      ],
      "metadata": {
        "colab": {
          "base_uri": "https://localhost:8080/"
        },
        "id": "eYBnavHlJRlD",
        "outputId": "ff865e07-6100-4acc-95ee-100347717589"
      },
      "execution_count": 377,
      "outputs": [
        {
          "output_type": "execute_result",
          "data": {
            "text/plain": [
              "array([[ 1.,  1.,  1.],\n",
              "       [ 5., -5.,  0.]])"
            ]
          },
          "metadata": {},
          "execution_count": 377
        }
      ]
    },
    {
      "cell_type": "markdown",
      "source": [
        "###### $3.$ Switch rows $i$ and $j$"
      ],
      "metadata": {
        "id": "SCHLnlWDLsmq"
      }
    },
    {
      "cell_type": "code",
      "source": [
        "def switch_rows(A, i, j):\n",
        "    'Switch rows i and j in matrix A'\n",
        "    n = A.shape[0]\n",
        "    E = np.eye(n)\n",
        "    E[i, i] = 0\n",
        "    E[j, j] = 0\n",
        "    E[i, j] = 1\n",
        "    E[j, i] = 1\n",
        "    print(E)\n",
        "    return E @ A"
      ],
      "metadata": {
        "id": "3Qqh__gHMSrs"
      },
      "execution_count": 378,
      "outputs": []
    },
    {
      "cell_type": "code",
      "source": [
        "A = np.array([[1, 1, 1],\n",
        "              [1, -1, 0]])\n",
        "A"
      ],
      "metadata": {
        "colab": {
          "base_uri": "https://localhost:8080/"
        },
        "id": "z13BijNPN6Sp",
        "outputId": "65e74236-6a73-4519-e742-b4fde9db3821"
      },
      "execution_count": 379,
      "outputs": [
        {
          "output_type": "execute_result",
          "data": {
            "text/plain": [
              "array([[ 1,  1,  1],\n",
              "       [ 1, -1,  0]])"
            ]
          },
          "metadata": {},
          "execution_count": 379
        }
      ]
    },
    {
      "cell_type": "code",
      "source": [
        "switch_rows(A, 0, 1)"
      ],
      "metadata": {
        "colab": {
          "base_uri": "https://localhost:8080/"
        },
        "id": "aZEqCrBnN_9h",
        "outputId": "3519307e-f7f3-4b9a-eeb3-4367e00fdd90"
      },
      "execution_count": 380,
      "outputs": [
        {
          "output_type": "stream",
          "name": "stdout",
          "text": [
            "[[0. 1.]\n",
            " [1. 0.]]\n"
          ]
        },
        {
          "output_type": "execute_result",
          "data": {
            "text/plain": [
              "array([[ 1., -1.,  0.],\n",
              "       [ 1.,  1.,  1.]])"
            ]
          },
          "metadata": {},
          "execution_count": 380
        }
      ]
    }
  ]
}