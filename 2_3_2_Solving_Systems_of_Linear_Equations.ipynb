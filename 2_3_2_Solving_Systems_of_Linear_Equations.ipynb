{
  "nbformat": 4,
  "nbformat_minor": 0,
  "metadata": {
    "colab": {
      "provenance": [],
      "toc_visible": true,
      "authorship_tag": "ABX9TyMDqJAawDmjviLkBoyix7rF",
      "include_colab_link": true
    },
    "kernelspec": {
      "name": "python3",
      "display_name": "Python 3"
    },
    "language_info": {
      "name": "python"
    }
  },
  "cells": [
    {
      "cell_type": "markdown",
      "metadata": {
        "id": "view-in-github",
        "colab_type": "text"
      },
      "source": [
        "<a href=\"https://colab.research.google.com/github/PaulToronto/Howard-University-Coursera-Linear-Algebra-For-Data-Science-Specialization/blob/main/2_3_2_Solving_Systems_of_Linear_Equations.ipynb\" target=\"_parent\"><img src=\"https://colab.research.google.com/assets/colab-badge.svg\" alt=\"Open In Colab\"/></a>"
      ]
    },
    {
      "cell_type": "markdown",
      "source": [
        "# 2.3.2 Solving Systems of Linear Equations"
      ],
      "metadata": {
        "id": "CxblYAK3v6rp"
      }
    },
    {
      "cell_type": "markdown",
      "source": [
        "## Imports"
      ],
      "metadata": {
        "id": "V8CWLEtsv9WX"
      }
    },
    {
      "cell_type": "code",
      "execution_count": 1,
      "metadata": {
        "id": "5rY-2PNuv2al"
      },
      "outputs": [],
      "source": [
        "import numpy as np\n",
        "import sympy as sym\n",
        "import random"
      ]
    },
    {
      "cell_type": "markdown",
      "source": [
        "## 2.3.2.1 Solvng Systems Using the Inverse"
      ],
      "metadata": {
        "id": "GbhcBnbYv_nt"
      }
    },
    {
      "cell_type": "markdown",
      "source": [
        "### What is need to use the inverse of the coefficient matrix to solve a system:\n",
        "\n",
        "1. The number of equations and the number of variables must be the same\n",
        "2. The coefficient matrix must be invertible"
      ],
      "metadata": {
        "id": "0E0v8Yc-xpkC"
      }
    },
    {
      "cell_type": "markdown",
      "source": [
        "### Discussion\n",
        "\n",
        "Consider the following system with 3 variables and 3 equations.\n",
        "\n",
        "$$\n",
        "\\begin{align}\n",
        "a_1x + a_2y + a_3z &= d_1 \\\\\n",
        "b_1x + b_2y + b_3z &= d_2 \\\\\n",
        "c_1x + c_2y + c_3z &= d_3\n",
        "\\end{align}\n",
        "$$\n",
        "\n",
        "Let A denote the coefficent matrix."
      ],
      "metadata": {
        "id": "ir-Aij12yI0w"
      }
    },
    {
      "cell_type": "code",
      "source": [
        "a1, a2, a3, b1, b2, b3, c1, c2, c3 = sym.symbols('a_1 a_2 a_3 b_1 b_2 b_3 c_1 c_2 c_3')\n",
        "\n",
        "A = sym.Matrix([[a1, a2, a3],\n",
        "                [b1, b2, b3],\n",
        "                [c1, c2, c3]])\n",
        "A"
      ],
      "metadata": {
        "colab": {
          "base_uri": "https://localhost:8080/",
          "height": 78
        },
        "id": "UFH6VjtAys8f",
        "outputId": "256bac5f-8efa-4ee6-ddb2-8f09d3f9ad79"
      },
      "execution_count": 2,
      "outputs": [
        {
          "output_type": "execute_result",
          "data": {
            "text/plain": [
              "Matrix([\n",
              "[a_1, a_2, a_3],\n",
              "[b_1, b_2, b_3],\n",
              "[c_1, c_2, c_3]])"
            ],
            "text/latex": "$\\displaystyle \\left[\\begin{matrix}a_{1} & a_{2} & a_{3}\\\\b_{1} & b_{2} & b_{3}\\\\c_{1} & c_{2} & c_{3}\\end{matrix}\\right]$"
          },
          "metadata": {},
          "execution_count": 2
        }
      ]
    },
    {
      "cell_type": "code",
      "source": [
        "x, y, z, = sym.symbols('x y z')\n",
        "X = sym.Matrix([[x],\n",
        "                [y],\n",
        "                [z]])\n",
        "X"
      ],
      "metadata": {
        "colab": {
          "base_uri": "https://localhost:8080/",
          "height": 78
        },
        "id": "o9dZ02AHzLLK",
        "outputId": "d062d130-7461-4df8-db9d-b6971d3f417c"
      },
      "execution_count": 3,
      "outputs": [
        {
          "output_type": "execute_result",
          "data": {
            "text/plain": [
              "Matrix([\n",
              "[x],\n",
              "[y],\n",
              "[z]])"
            ],
            "text/latex": "$\\displaystyle \\left[\\begin{matrix}x\\\\y\\\\z\\end{matrix}\\right]$"
          },
          "metadata": {},
          "execution_count": 3
        }
      ]
    },
    {
      "cell_type": "code",
      "source": [
        "d1, d2, d3 = sym.symbols('d_1 d_2 d_3')\n",
        "C = sym.Matrix([[d1],\n",
        "                [d2],\n",
        "                [d3]])\n",
        "C"
      ],
      "metadata": {
        "colab": {
          "base_uri": "https://localhost:8080/",
          "height": 78
        },
        "id": "Y-zOOKZs0ZMy",
        "outputId": "1824a62b-9f6d-417d-be68-311f7ecc4bb3"
      },
      "execution_count": 4,
      "outputs": [
        {
          "output_type": "execute_result",
          "data": {
            "text/plain": [
              "Matrix([\n",
              "[d_1],\n",
              "[d_2],\n",
              "[d_3]])"
            ],
            "text/latex": "$\\displaystyle \\left[\\begin{matrix}d_{1}\\\\d_{2}\\\\d_{3}\\end{matrix}\\right]$"
          },
          "metadata": {},
          "execution_count": 4
        }
      ]
    },
    {
      "cell_type": "code",
      "source": [
        "A @ X"
      ],
      "metadata": {
        "colab": {
          "base_uri": "https://localhost:8080/",
          "height": 78
        },
        "id": "WolppQax0man",
        "outputId": "709b6505-4738-467d-99f0-62bf112e7eea"
      },
      "execution_count": 5,
      "outputs": [
        {
          "output_type": "execute_result",
          "data": {
            "text/plain": [
              "Matrix([\n",
              "[a_1*x + a_2*y + a_3*z],\n",
              "[b_1*x + b_2*y + b_3*z],\n",
              "[c_1*x + c_2*y + c_3*z]])"
            ],
            "text/latex": "$\\displaystyle \\left[\\begin{matrix}a_{1} x + a_{2} y + a_{3} z\\\\b_{1} x + b_{2} y + b_{3} z\\\\c_{1} x + c_{2} y + c_{3} z\\end{matrix}\\right]$"
          },
          "metadata": {},
          "execution_count": 5
        }
      ]
    },
    {
      "cell_type": "markdown",
      "source": [
        "Another way of writing the linear system:\n",
        "\n",
        "$$\n",
        "A \\cdot X = C\n",
        "$$\n",
        "\n",
        "If $A$ is invertible, then:\n",
        "\n",
        "$$\n",
        "\\begin{align}\n",
        "A^{-1}AX &= A^{-1}C \\\\\n",
        "IX &= A^{-1}C \\\\\n",
        "X &= A^{-1}C\n",
        "\\end{align}\n",
        "$$"
      ],
      "metadata": {
        "id": "iECjS_Z80qrN"
      }
    },
    {
      "cell_type": "code",
      "source": [
        "A.inv() @ C"
      ],
      "metadata": {
        "colab": {
          "base_uri": "https://localhost:8080/",
          "height": 91
        },
        "id": "GzHW0QNs1dbT",
        "outputId": "cabb6f87-b527-4795-877f-34fbf8f8c1cc"
      },
      "execution_count": 6,
      "outputs": [
        {
          "output_type": "execute_result",
          "data": {
            "text/plain": [
              "Matrix([\n",
              "[ d_1*(b_2*c_3 - b_3*c_2)/(a_1*b_2*c_3 - a_1*b_3*c_2 - a_2*b_1*c_3 + a_2*b_3*c_1 + a_3*b_1*c_2 - a_3*b_2*c_1) + d_2*(-a_2*c_3 + a_3*c_2)/(a_1*b_2*c_3 - a_1*b_3*c_2 - a_2*b_1*c_3 + a_2*b_3*c_1 + a_3*b_1*c_2 - a_3*b_2*c_1) + d_3*(a_2*b_3 - a_3*b_2)/(a_1*b_2*c_3 - a_1*b_3*c_2 - a_2*b_1*c_3 + a_2*b_3*c_1 + a_3*b_1*c_2 - a_3*b_2*c_1)],\n",
              "[d_1*(-b_1*c_3 + b_3*c_1)/(a_1*b_2*c_3 - a_1*b_3*c_2 - a_2*b_1*c_3 + a_2*b_3*c_1 + a_3*b_1*c_2 - a_3*b_2*c_1) + d_2*(a_1*c_3 - a_3*c_1)/(a_1*b_2*c_3 - a_1*b_3*c_2 - a_2*b_1*c_3 + a_2*b_3*c_1 + a_3*b_1*c_2 - a_3*b_2*c_1) + d_3*(-a_1*b_3 + a_3*b_1)/(a_1*b_2*c_3 - a_1*b_3*c_2 - a_2*b_1*c_3 + a_2*b_3*c_1 + a_3*b_1*c_2 - a_3*b_2*c_1)],\n",
              "[ d_1*(b_1*c_2 - b_2*c_1)/(a_1*b_2*c_3 - a_1*b_3*c_2 - a_2*b_1*c_3 + a_2*b_3*c_1 + a_3*b_1*c_2 - a_3*b_2*c_1) + d_2*(-a_1*c_2 + a_2*c_1)/(a_1*b_2*c_3 - a_1*b_3*c_2 - a_2*b_1*c_3 + a_2*b_3*c_1 + a_3*b_1*c_2 - a_3*b_2*c_1) + d_3*(a_1*b_2 - a_2*b_1)/(a_1*b_2*c_3 - a_1*b_3*c_2 - a_2*b_1*c_3 + a_2*b_3*c_1 + a_3*b_1*c_2 - a_3*b_2*c_1)]])"
            ],
            "text/latex": "$\\displaystyle \\left[\\begin{matrix}\\frac{d_{1} \\left(b_{2} c_{3} - b_{3} c_{2}\\right)}{a_{1} b_{2} c_{3} - a_{1} b_{3} c_{2} - a_{2} b_{1} c_{3} + a_{2} b_{3} c_{1} + a_{3} b_{1} c_{2} - a_{3} b_{2} c_{1}} + \\frac{d_{2} \\left(- a_{2} c_{3} + a_{3} c_{2}\\right)}{a_{1} b_{2} c_{3} - a_{1} b_{3} c_{2} - a_{2} b_{1} c_{3} + a_{2} b_{3} c_{1} + a_{3} b_{1} c_{2} - a_{3} b_{2} c_{1}} + \\frac{d_{3} \\left(a_{2} b_{3} - a_{3} b_{2}\\right)}{a_{1} b_{2} c_{3} - a_{1} b_{3} c_{2} - a_{2} b_{1} c_{3} + a_{2} b_{3} c_{1} + a_{3} b_{1} c_{2} - a_{3} b_{2} c_{1}}\\\\\\frac{d_{1} \\left(- b_{1} c_{3} + b_{3} c_{1}\\right)}{a_{1} b_{2} c_{3} - a_{1} b_{3} c_{2} - a_{2} b_{1} c_{3} + a_{2} b_{3} c_{1} + a_{3} b_{1} c_{2} - a_{3} b_{2} c_{1}} + \\frac{d_{2} \\left(a_{1} c_{3} - a_{3} c_{1}\\right)}{a_{1} b_{2} c_{3} - a_{1} b_{3} c_{2} - a_{2} b_{1} c_{3} + a_{2} b_{3} c_{1} + a_{3} b_{1} c_{2} - a_{3} b_{2} c_{1}} + \\frac{d_{3} \\left(- a_{1} b_{3} + a_{3} b_{1}\\right)}{a_{1} b_{2} c_{3} - a_{1} b_{3} c_{2} - a_{2} b_{1} c_{3} + a_{2} b_{3} c_{1} + a_{3} b_{1} c_{2} - a_{3} b_{2} c_{1}}\\\\\\frac{d_{1} \\left(b_{1} c_{2} - b_{2} c_{1}\\right)}{a_{1} b_{2} c_{3} - a_{1} b_{3} c_{2} - a_{2} b_{1} c_{3} + a_{2} b_{3} c_{1} + a_{3} b_{1} c_{2} - a_{3} b_{2} c_{1}} + \\frac{d_{2} \\left(- a_{1} c_{2} + a_{2} c_{1}\\right)}{a_{1} b_{2} c_{3} - a_{1} b_{3} c_{2} - a_{2} b_{1} c_{3} + a_{2} b_{3} c_{1} + a_{3} b_{1} c_{2} - a_{3} b_{2} c_{1}} + \\frac{d_{3} \\left(a_{1} b_{2} - a_{2} b_{1}\\right)}{a_{1} b_{2} c_{3} - a_{1} b_{3} c_{2} - a_{2} b_{1} c_{3} + a_{2} b_{3} c_{1} + a_{3} b_{1} c_{2} - a_{3} b_{2} c_{1}}\\end{matrix}\\right]$"
          },
          "metadata": {},
          "execution_count": 6
        }
      ]
    },
    {
      "cell_type": "markdown",
      "source": [
        "### Example\n",
        "\n",
        "$$\n",
        "\\begin{align}\n",
        "x + 2y + 3z &= 9 \\\\\n",
        "4x + 5y + 6z &= 24 \\\\\n",
        "3x + y - 2z &= 4\n",
        "\\end{align}\n",
        "$$"
      ],
      "metadata": {
        "id": "3UISDY0V1wcB"
      }
    },
    {
      "cell_type": "code",
      "source": [
        "A = sym.Matrix([[1, 2, 3],\n",
        "                [4, 5, 6],\n",
        "                [3, 1, -2]])\n",
        "A"
      ],
      "metadata": {
        "colab": {
          "base_uri": "https://localhost:8080/",
          "height": 78
        },
        "id": "GF-PcQJB10lS",
        "outputId": "9d66d54e-cfec-44ab-8738-b6aa41d1fa39"
      },
      "execution_count": 7,
      "outputs": [
        {
          "output_type": "execute_result",
          "data": {
            "text/plain": [
              "Matrix([\n",
              "[1, 2,  3],\n",
              "[4, 5,  6],\n",
              "[3, 1, -2]])"
            ],
            "text/latex": "$\\displaystyle \\left[\\begin{matrix}1 & 2 & 3\\\\4 & 5 & 6\\\\3 & 1 & -2\\end{matrix}\\right]$"
          },
          "metadata": {},
          "execution_count": 7
        }
      ]
    },
    {
      "cell_type": "code",
      "source": [
        "C = sym.Matrix([9, 24, 4])\n",
        "C"
      ],
      "metadata": {
        "colab": {
          "base_uri": "https://localhost:8080/",
          "height": 78
        },
        "id": "LjdjfOcq2AVe",
        "outputId": "81d3b159-d06d-42ac-e8b5-aeee281100a5"
      },
      "execution_count": 8,
      "outputs": [
        {
          "output_type": "execute_result",
          "data": {
            "text/plain": [
              "Matrix([\n",
              "[ 9],\n",
              "[24],\n",
              "[ 4]])"
            ],
            "text/latex": "$\\displaystyle \\left[\\begin{matrix}9\\\\24\\\\4\\end{matrix}\\right]$"
          },
          "metadata": {},
          "execution_count": 8
        }
      ]
    },
    {
      "cell_type": "code",
      "source": [
        "# check to makes sure A is invertible\n",
        "A.det()"
      ],
      "metadata": {
        "colab": {
          "base_uri": "https://localhost:8080/",
          "height": 37
        },
        "id": "tiRINXpe3EJm",
        "outputId": "fe64b9f1-ec3b-4056-cc1d-dec37de6000f"
      },
      "execution_count": 9,
      "outputs": [
        {
          "output_type": "execute_result",
          "data": {
            "text/plain": [
              "3"
            ],
            "text/latex": "$\\displaystyle 3$"
          },
          "metadata": {},
          "execution_count": 9
        }
      ]
    },
    {
      "cell_type": "code",
      "source": [
        "X = A.inv() @ C\n",
        "x = X[0]; y = X[1]; z = X[2]\n",
        "x, y, z"
      ],
      "metadata": {
        "colab": {
          "base_uri": "https://localhost:8080/"
        },
        "id": "d4LP_72f2hYh",
        "outputId": "01b6f934-3ffe-49bc-ba97-80cdca1abfbd"
      },
      "execution_count": 10,
      "outputs": [
        {
          "output_type": "execute_result",
          "data": {
            "text/plain": [
              "(4, -2, 3)"
            ]
          },
          "metadata": {},
          "execution_count": 10
        }
      ]
    },
    {
      "cell_type": "code",
      "source": [
        "# verify answer:\n",
        "A * sym.Matrix([4, -2, 3])"
      ],
      "metadata": {
        "colab": {
          "base_uri": "https://localhost:8080/",
          "height": 78
        },
        "id": "CCQ2ShuB3cfV",
        "outputId": "e3865d79-3f0c-452f-f62d-f02a3d5b4d95"
      },
      "execution_count": 11,
      "outputs": [
        {
          "output_type": "execute_result",
          "data": {
            "text/plain": [
              "Matrix([\n",
              "[ 9],\n",
              "[24],\n",
              "[ 4]])"
            ],
            "text/latex": "$\\displaystyle \\left[\\begin{matrix}9\\\\24\\\\4\\end{matrix}\\right]$"
          },
          "metadata": {},
          "execution_count": 11
        }
      ]
    },
    {
      "cell_type": "markdown",
      "source": [
        "## 2.3.2.2 Cramer's Rule"
      ],
      "metadata": {
        "id": "3GFGYT8K314N"
      }
    },
    {
      "cell_type": "markdown",
      "source": [
        "Consider the system:\n",
        "\n",
        "$$\n",
        "\\begin{align}\n",
        "ax + by &= u \\\\\n",
        "cx + by &= v\n",
        "\\end{align}\n",
        "$$\n",
        "\n",
        "Alternately,\n",
        "\n",
        "$$\n",
        "A \\cdot X = C\n",
        "$$\n",
        "\n"
      ],
      "metadata": {
        "id": "-jqpOCGB4ecM"
      }
    },
    {
      "cell_type": "code",
      "source": [
        "a, b, c, d, x, y, u, v = sym.symbols('a b c d x y u v')\n",
        "A = sym.Matrix([[a, b],\n",
        "                [c, d]])\n",
        "A"
      ],
      "metadata": {
        "colab": {
          "base_uri": "https://localhost:8080/",
          "height": 58
        },
        "id": "Fgkq_-5U5JeK",
        "outputId": "4982e3a8-dd91-4ab4-b978-b10ed5893f5b"
      },
      "execution_count": 12,
      "outputs": [
        {
          "output_type": "execute_result",
          "data": {
            "text/plain": [
              "Matrix([\n",
              "[a, b],\n",
              "[c, d]])"
            ],
            "text/latex": "$\\displaystyle \\left[\\begin{matrix}a & b\\\\c & d\\end{matrix}\\right]$"
          },
          "metadata": {},
          "execution_count": 12
        }
      ]
    },
    {
      "cell_type": "code",
      "source": [
        "X = sym.Matrix([x, y])\n",
        "X"
      ],
      "metadata": {
        "colab": {
          "base_uri": "https://localhost:8080/",
          "height": 58
        },
        "id": "4zOCvOve5qFr",
        "outputId": "e0247a57-f60b-4b77-9e35-538f3e762a21"
      },
      "execution_count": 13,
      "outputs": [
        {
          "output_type": "execute_result",
          "data": {
            "text/plain": [
              "Matrix([\n",
              "[x],\n",
              "[y]])"
            ],
            "text/latex": "$\\displaystyle \\left[\\begin{matrix}x\\\\y\\end{matrix}\\right]$"
          },
          "metadata": {},
          "execution_count": 13
        }
      ]
    },
    {
      "cell_type": "code",
      "source": [
        "C = sym.Matrix([u, v])\n",
        "C"
      ],
      "metadata": {
        "colab": {
          "base_uri": "https://localhost:8080/",
          "height": 58
        },
        "id": "62Eg0wUv5t_7",
        "outputId": "81155eaa-2318-47a9-8f1d-a1be21a477ad"
      },
      "execution_count": 14,
      "outputs": [
        {
          "output_type": "execute_result",
          "data": {
            "text/plain": [
              "Matrix([\n",
              "[u],\n",
              "[v]])"
            ],
            "text/latex": "$\\displaystyle \\left[\\begin{matrix}u\\\\v\\end{matrix}\\right]$"
          },
          "metadata": {},
          "execution_count": 14
        }
      ]
    },
    {
      "cell_type": "markdown",
      "source": [
        "### Cramer's Rule\n",
        "\n",
        "$$\n",
        "x = \\frac{D_x}{\\det{(A)}}, y = \\frac{D_y}{\\det{(A)}}\n",
        "$$"
      ],
      "metadata": {
        "id": "sQhYIvP37Pb2"
      }
    },
    {
      "cell_type": "code",
      "source": [
        "# - replace the coefficients of `x` with `u` and `v`\n",
        "# - then find the determinant\n",
        "Dx = sym.Matrix([[u, b],\n",
        "                 [v, d]]).det()\n",
        "Dx"
      ],
      "metadata": {
        "colab": {
          "base_uri": "https://localhost:8080/",
          "height": 39
        },
        "id": "ki9KHaig6bh5",
        "outputId": "b97e4516-73f9-466f-a712-b40be97c882c"
      },
      "execution_count": 15,
      "outputs": [
        {
          "output_type": "execute_result",
          "data": {
            "text/plain": [
              "-b*v + d*u"
            ],
            "text/latex": "$\\displaystyle - b v + d u$"
          },
          "metadata": {},
          "execution_count": 15
        }
      ]
    },
    {
      "cell_type": "code",
      "source": [
        "Dy = sym.Matrix([[a, u],\n",
        "                 [c, v]]).det()\n",
        "Dy"
      ],
      "metadata": {
        "colab": {
          "base_uri": "https://localhost:8080/",
          "height": 39
        },
        "id": "mV2vCsYl6_Km",
        "outputId": "5e2e7c63-2d23-400f-a687-4a55dba93c4d"
      },
      "execution_count": 16,
      "outputs": [
        {
          "output_type": "execute_result",
          "data": {
            "text/plain": [
              "a*v - c*u"
            ],
            "text/latex": "$\\displaystyle a v - c u$"
          },
          "metadata": {},
          "execution_count": 16
        }
      ]
    },
    {
      "cell_type": "code",
      "source": [
        "x = Dx / A.det()\n",
        "x"
      ],
      "metadata": {
        "colab": {
          "base_uri": "https://localhost:8080/",
          "height": 53
        },
        "id": "ferwFG8n7L_B",
        "outputId": "9c1507b0-75d3-40be-ce03-a6290cbc8454"
      },
      "execution_count": 17,
      "outputs": [
        {
          "output_type": "execute_result",
          "data": {
            "text/plain": [
              "(-b*v + d*u)/(a*d - b*c)"
            ],
            "text/latex": "$\\displaystyle \\frac{- b v + d u}{a d - b c}$"
          },
          "metadata": {},
          "execution_count": 17
        }
      ]
    },
    {
      "cell_type": "code",
      "source": [
        "y = Dy / A.det()\n",
        "y"
      ],
      "metadata": {
        "colab": {
          "base_uri": "https://localhost:8080/",
          "height": 51
        },
        "id": "TjJDv3bR7qlp",
        "outputId": "89d4fa8c-277b-4313-d6a7-72633ad592ab"
      },
      "execution_count": 18,
      "outputs": [
        {
          "output_type": "execute_result",
          "data": {
            "text/plain": [
              "(a*v - c*u)/(a*d - b*c)"
            ],
            "text/latex": "$\\displaystyle \\frac{a v - c u}{a d - b c}$"
          },
          "metadata": {},
          "execution_count": 18
        }
      ]
    },
    {
      "cell_type": "code",
      "source": [
        "# using inverse method to verify\n",
        "X = A.inv() @ C\n",
        "X"
      ],
      "metadata": {
        "colab": {
          "base_uri": "https://localhost:8080/",
          "height": 60
        },
        "id": "4C5m7I6_7s9d",
        "outputId": "994395ec-bc99-4d21-9ce0-fe85074f0a49"
      },
      "execution_count": 19,
      "outputs": [
        {
          "output_type": "execute_result",
          "data": {
            "text/plain": [
              "Matrix([\n",
              "[-b*v/(a*d - b*c) + d*u/(a*d - b*c)],\n",
              "[ a*v/(a*d - b*c) - c*u/(a*d - b*c)]])"
            ],
            "text/latex": "$\\displaystyle \\left[\\begin{matrix}- \\frac{b v}{a d - b c} + \\frac{d u}{a d - b c}\\\\\\frac{a v}{a d - b c} - \\frac{c u}{a d - b c}\\end{matrix}\\right]$"
          },
          "metadata": {},
          "execution_count": 19
        }
      ]
    },
    {
      "cell_type": "markdown",
      "source": [
        "#### Example"
      ],
      "metadata": {
        "id": "ae9DUu-X8q6A"
      }
    },
    {
      "cell_type": "code",
      "source": [
        "A = sym.Matrix([[1, 2],\n",
        "                [3, 4]])\n",
        "A"
      ],
      "metadata": {
        "colab": {
          "base_uri": "https://localhost:8080/",
          "height": 58
        },
        "id": "g0hVPrdq8paL",
        "outputId": "6b8de527-a256-4e6c-9d9a-cea93187e637"
      },
      "execution_count": 20,
      "outputs": [
        {
          "output_type": "execute_result",
          "data": {
            "text/plain": [
              "Matrix([\n",
              "[1, 2],\n",
              "[3, 4]])"
            ],
            "text/latex": "$\\displaystyle \\left[\\begin{matrix}1 & 2\\\\3 & 4\\end{matrix}\\right]$"
          },
          "metadata": {},
          "execution_count": 20
        }
      ]
    },
    {
      "cell_type": "code",
      "source": [
        "C = sym.Matrix([1, 3])\n",
        "C"
      ],
      "metadata": {
        "colab": {
          "base_uri": "https://localhost:8080/",
          "height": 58
        },
        "id": "Qa3rFgZs8y-6",
        "outputId": "251f42e2-8755-4c1b-8c1a-7f9533b6ac44"
      },
      "execution_count": 21,
      "outputs": [
        {
          "output_type": "execute_result",
          "data": {
            "text/plain": [
              "Matrix([\n",
              "[1],\n",
              "[3]])"
            ],
            "text/latex": "$\\displaystyle \\left[\\begin{matrix}1\\\\3\\end{matrix}\\right]$"
          },
          "metadata": {},
          "execution_count": 21
        }
      ]
    },
    {
      "cell_type": "code",
      "source": [
        "Dx = A.copy()\n",
        "Dx[:,0] = C\n",
        "Dx = Dx.det()\n",
        "x = Dx / A.det()\n",
        "x"
      ],
      "metadata": {
        "colab": {
          "base_uri": "https://localhost:8080/",
          "height": 37
        },
        "id": "e9M0TeDu84_V",
        "outputId": "64d9e98c-649f-41f2-88fa-5ba758aa2c15"
      },
      "execution_count": 22,
      "outputs": [
        {
          "output_type": "execute_result",
          "data": {
            "text/plain": [
              "1"
            ],
            "text/latex": "$\\displaystyle 1$"
          },
          "metadata": {},
          "execution_count": 22
        }
      ]
    },
    {
      "cell_type": "code",
      "source": [
        "Dy = A.copy()\n",
        "Dy[:, 1] = C\n",
        "Dy = Dy.det()\n",
        "y = Dy / A.det()\n",
        "y"
      ],
      "metadata": {
        "colab": {
          "base_uri": "https://localhost:8080/",
          "height": 37
        },
        "id": "GlLo_qaX9ozP",
        "outputId": "5cf9a50e-e3fe-4384-ddf0-ad9c0f504e8f"
      },
      "execution_count": 23,
      "outputs": [
        {
          "output_type": "execute_result",
          "data": {
            "text/plain": [
              "0"
            ],
            "text/latex": "$\\displaystyle 0$"
          },
          "metadata": {},
          "execution_count": 23
        }
      ]
    },
    {
      "cell_type": "code",
      "source": [
        "# verify using inverse method\n",
        "A.inv() @ C"
      ],
      "metadata": {
        "colab": {
          "base_uri": "https://localhost:8080/",
          "height": 58
        },
        "id": "MhgtciAC934M",
        "outputId": "338dfa7b-18d0-4f24-b0c8-45742c354da7"
      },
      "execution_count": 24,
      "outputs": [
        {
          "output_type": "execute_result",
          "data": {
            "text/plain": [
              "Matrix([\n",
              "[1],\n",
              "[0]])"
            ],
            "text/latex": "$\\displaystyle \\left[\\begin{matrix}1\\\\0\\end{matrix}\\right]$"
          },
          "metadata": {},
          "execution_count": 24
        }
      ]
    },
    {
      "cell_type": "markdown",
      "source": [
        "### Cramer's Rule with $3 \\times 3$ Matrix\n",
        "\n",
        "Consider the system:\n",
        "\n",
        "$$\n",
        "\\begin{align}\n",
        "x + 2y + 3z &= 9 \\\\\n",
        "4x + 5y + 6z &= 24 \\\\\n",
        "3x + y - 2z &= 4\n",
        "\\end{align}\n",
        "$$"
      ],
      "metadata": {
        "id": "FDxcsyFG-uDd"
      }
    },
    {
      "cell_type": "code",
      "source": [
        "A = sym.Matrix([[1, 2, 3],\n",
        "                [4, 5, 6],\n",
        "                [3, 1, -2]])\n",
        "C = sym.Matrix([9, 24, 4])\n",
        "C"
      ],
      "metadata": {
        "colab": {
          "base_uri": "https://localhost:8080/",
          "height": 78
        },
        "id": "45mZjuyb-3Mv",
        "outputId": "9b797e91-7421-435a-e84b-548bbab09fa6"
      },
      "execution_count": 25,
      "outputs": [
        {
          "output_type": "execute_result",
          "data": {
            "text/plain": [
              "Matrix([\n",
              "[ 9],\n",
              "[24],\n",
              "[ 4]])"
            ],
            "text/latex": "$\\displaystyle \\left[\\begin{matrix}9\\\\24\\\\4\\end{matrix}\\right]$"
          },
          "metadata": {},
          "execution_count": 25
        }
      ]
    },
    {
      "cell_type": "code",
      "source": [
        "D1 = A.copy()\n",
        "D1[:, 0] = C\n",
        "D1 = D1.det()\n",
        "\n",
        "D2 = A.copy()\n",
        "D2[:, 1] = C\n",
        "D2 = D2.det()\n",
        "\n",
        "D3 = A.copy()\n",
        "D3[:, 2] = C\n",
        "D3 = D3.det()"
      ],
      "metadata": {
        "id": "2eHM_ktU_Mvm"
      },
      "execution_count": 26,
      "outputs": []
    },
    {
      "cell_type": "code",
      "source": [
        "detA = A.det()\n",
        "detA"
      ],
      "metadata": {
        "colab": {
          "base_uri": "https://localhost:8080/",
          "height": 37
        },
        "id": "-Bhzgyzc_sbN",
        "outputId": "0b96d1ce-474e-4d72-c822-bc65e2e4bcee"
      },
      "execution_count": 27,
      "outputs": [
        {
          "output_type": "execute_result",
          "data": {
            "text/plain": [
              "3"
            ],
            "text/latex": "$\\displaystyle 3$"
          },
          "metadata": {},
          "execution_count": 27
        }
      ]
    },
    {
      "cell_type": "code",
      "source": [
        "x, y, z = D1/detA, D2/detA, D3/detA\n",
        "x, y, z"
      ],
      "metadata": {
        "colab": {
          "base_uri": "https://localhost:8080/"
        },
        "id": "YVp5YeJn_xJV",
        "outputId": "4a1c3690-c77c-4bdb-dfbc-786acd18fae7"
      },
      "execution_count": 28,
      "outputs": [
        {
          "output_type": "execute_result",
          "data": {
            "text/plain": [
              "(4, -2, 3)"
            ]
          },
          "metadata": {},
          "execution_count": 28
        }
      ]
    },
    {
      "cell_type": "code",
      "source": [
        "# verify using inverse\n",
        "A.inv() * C"
      ],
      "metadata": {
        "colab": {
          "base_uri": "https://localhost:8080/",
          "height": 78
        },
        "id": "hRkOwLJu_5qe",
        "outputId": "5c3281e3-a073-476e-d6ec-a2d0c72c70eb"
      },
      "execution_count": 29,
      "outputs": [
        {
          "output_type": "execute_result",
          "data": {
            "text/plain": [
              "Matrix([\n",
              "[ 4],\n",
              "[-2],\n",
              "[ 3]])"
            ],
            "text/latex": "$\\displaystyle \\left[\\begin{matrix}4\\\\-2\\\\3\\end{matrix}\\right]$"
          },
          "metadata": {},
          "execution_count": 29
        }
      ]
    },
    {
      "cell_type": "markdown",
      "source": [
        "## 2.3.2.3 Practice Quiz"
      ],
      "metadata": {
        "id": "MoFJW3f5AfaC"
      }
    },
    {
      "cell_type": "code",
      "source": [
        "M = np.array([[2, 1], [1, -1]])\n",
        "M"
      ],
      "metadata": {
        "colab": {
          "base_uri": "https://localhost:8080/"
        },
        "id": "vShptaWSAj5A",
        "outputId": "f874c176-35e9-41bf-dbcc-c90f9285b5a5"
      },
      "execution_count": 30,
      "outputs": [
        {
          "output_type": "execute_result",
          "data": {
            "text/plain": [
              "array([[ 2,  1],\n",
              "       [ 1, -1]])"
            ]
          },
          "metadata": {},
          "execution_count": 30
        }
      ]
    },
    {
      "cell_type": "code",
      "source": [
        "b = np.array([[5], [1]])\n",
        "b"
      ],
      "metadata": {
        "colab": {
          "base_uri": "https://localhost:8080/"
        },
        "id": "MdeF4tEqBHvu",
        "outputId": "6e8d8980-d978-4564-9c8e-681c14a801e7"
      },
      "execution_count": 31,
      "outputs": [
        {
          "output_type": "execute_result",
          "data": {
            "text/plain": [
              "array([[5],\n",
              "       [1]])"
            ]
          },
          "metadata": {},
          "execution_count": 31
        }
      ]
    },
    {
      "cell_type": "markdown",
      "source": [
        "$$\n",
        "M \\cdot X = b\n",
        "$$"
      ],
      "metadata": {
        "id": "etVZD2mABTgD"
      }
    },
    {
      "cell_type": "code",
      "source": [
        "np.linalg.inv(M).dot(b)"
      ],
      "metadata": {
        "colab": {
          "base_uri": "https://localhost:8080/"
        },
        "id": "8BH-p1qyBbDZ",
        "outputId": "47fbfe9b-d28b-4adf-e332-40398b0327bb"
      },
      "execution_count": 32,
      "outputs": [
        {
          "output_type": "execute_result",
          "data": {
            "text/plain": [
              "array([[2.],\n",
              "       [1.]])"
            ]
          },
          "metadata": {},
          "execution_count": 32
        }
      ]
    },
    {
      "cell_type": "code",
      "source": [
        "M = np.array([[2, 4, 6],\n",
        "              [4, 5, 6],\n",
        "              [1, 2, 3]])\n",
        "b = np.array([[1], [-2], [2]])"
      ],
      "metadata": {
        "id": "KwLUcLdRBn7D"
      },
      "execution_count": 33,
      "outputs": []
    },
    {
      "cell_type": "code",
      "source": [
        "M, b"
      ],
      "metadata": {
        "colab": {
          "base_uri": "https://localhost:8080/"
        },
        "id": "Fh0v3KvgCAzR",
        "outputId": "12919111-9635-4a5b-d5bd-9b2f5d777782"
      },
      "execution_count": 34,
      "outputs": [
        {
          "output_type": "execute_result",
          "data": {
            "text/plain": [
              "(array([[2, 4, 6],\n",
              "        [4, 5, 6],\n",
              "        [1, 2, 3]]),\n",
              " array([[ 1],\n",
              "        [-2],\n",
              "        [ 2]]))"
            ]
          },
          "metadata": {},
          "execution_count": 34
        }
      ]
    },
    {
      "cell_type": "code",
      "source": [
        "np.linalg.det(M)"
      ],
      "metadata": {
        "colab": {
          "base_uri": "https://localhost:8080/"
        },
        "id": "1q2oK-82CGt-",
        "outputId": "3688690d-933d-4994-f70f-60cf89429527"
      },
      "execution_count": 35,
      "outputs": [
        {
          "output_type": "execute_result",
          "data": {
            "text/plain": [
              "0.0"
            ]
          },
          "metadata": {},
          "execution_count": 35
        }
      ]
    },
    {
      "cell_type": "markdown",
      "source": [
        "## 2.3.2.4 Quiz"
      ],
      "metadata": {
        "id": "waZOU9YzDGOx"
      }
    },
    {
      "cell_type": "code",
      "source": [
        "A = sym.Matrix([[4, 1, -2],\n",
        "                [2, -3, 3],\n",
        "                [-6, -2, 1]])\n",
        "A"
      ],
      "metadata": {
        "colab": {
          "base_uri": "https://localhost:8080/",
          "height": 78
        },
        "id": "176fy8j_DIha",
        "outputId": "e2a1e6d4-fcbf-40aa-a699-1c83e8f079fc"
      },
      "execution_count": 36,
      "outputs": [
        {
          "output_type": "execute_result",
          "data": {
            "text/plain": [
              "Matrix([\n",
              "[ 4,  1, -2],\n",
              "[ 2, -3,  3],\n",
              "[-6, -2,  1]])"
            ],
            "text/latex": "$\\displaystyle \\left[\\begin{matrix}4 & 1 & -2\\\\2 & -3 & 3\\\\-6 & -2 & 1\\end{matrix}\\right]$"
          },
          "metadata": {},
          "execution_count": 36
        }
      ]
    },
    {
      "cell_type": "code",
      "source": [
        "A.inv()"
      ],
      "metadata": {
        "colab": {
          "base_uri": "https://localhost:8080/",
          "height": 78
        },
        "id": "YmoCjHF6Dm4Z",
        "outputId": "234e0a5f-d062-428e-e2f7-8ad10bddb341"
      },
      "execution_count": 37,
      "outputs": [
        {
          "output_type": "execute_result",
          "data": {
            "text/plain": [
              "Matrix([\n",
              "[  1/12, 1/12, -1/12],\n",
              "[  -5/9, -2/9,  -4/9],\n",
              "[-11/18, 1/18, -7/18]])"
            ],
            "text/latex": "$\\displaystyle \\left[\\begin{matrix}\\frac{1}{12} & \\frac{1}{12} & - \\frac{1}{12}\\\\- \\frac{5}{9} & - \\frac{2}{9} & - \\frac{4}{9}\\\\- \\frac{11}{18} & \\frac{1}{18} & - \\frac{7}{18}\\end{matrix}\\right]$"
          },
          "metadata": {},
          "execution_count": 37
        }
      ]
    },
    {
      "cell_type": "code",
      "source": [
        "sym.Rational(1, 36) * sym.Matrix([[3, 3, -3],\n",
        "                                  [-20, -8, -16],\n",
        "                                  [-22, 2, -14]])"
      ],
      "metadata": {
        "colab": {
          "base_uri": "https://localhost:8080/",
          "height": 78
        },
        "id": "GFN66qqNDsQM",
        "outputId": "57e526bd-9837-4078-d2f7-e9c2745d942e"
      },
      "execution_count": 38,
      "outputs": [
        {
          "output_type": "execute_result",
          "data": {
            "text/plain": [
              "Matrix([\n",
              "[  1/12, 1/12, -1/12],\n",
              "[  -5/9, -2/9,  -4/9],\n",
              "[-11/18, 1/18, -7/18]])"
            ],
            "text/latex": "$\\displaystyle \\left[\\begin{matrix}\\frac{1}{12} & \\frac{1}{12} & - \\frac{1}{12}\\\\- \\frac{5}{9} & - \\frac{2}{9} & - \\frac{4}{9}\\\\- \\frac{11}{18} & \\frac{1}{18} & - \\frac{7}{18}\\end{matrix}\\right]$"
          },
          "metadata": {},
          "execution_count": 38
        }
      ]
    },
    {
      "cell_type": "code",
      "source": [
        "A = sym.Matrix([[4, 1, -2],\n",
        "                [2, -3, 3],\n",
        "                [-6, -2, 1]])\n",
        "A"
      ],
      "metadata": {
        "colab": {
          "base_uri": "https://localhost:8080/",
          "height": 78
        },
        "id": "uIbt7G5ZEBOf",
        "outputId": "21c6aa2f-294c-4c2c-d8d6-17000860ac81"
      },
      "execution_count": 39,
      "outputs": [
        {
          "output_type": "execute_result",
          "data": {
            "text/plain": [
              "Matrix([\n",
              "[ 4,  1, -2],\n",
              "[ 2, -3,  3],\n",
              "[-6, -2,  1]])"
            ],
            "text/latex": "$\\displaystyle \\left[\\begin{matrix}4 & 1 & -2\\\\2 & -3 & 3\\\\-6 & -2 & 1\\end{matrix}\\right]$"
          },
          "metadata": {},
          "execution_count": 39
        }
      ]
    },
    {
      "cell_type": "code",
      "source": [
        "b = sym.Matrix([0, 9, 0])\n",
        "b"
      ],
      "metadata": {
        "colab": {
          "base_uri": "https://localhost:8080/",
          "height": 78
        },
        "id": "bToATvWXEPj9",
        "outputId": "92144b9b-1761-486c-e9b6-224afe3fde44"
      },
      "execution_count": 40,
      "outputs": [
        {
          "output_type": "execute_result",
          "data": {
            "text/plain": [
              "Matrix([\n",
              "[0],\n",
              "[9],\n",
              "[0]])"
            ],
            "text/latex": "$\\displaystyle \\left[\\begin{matrix}0\\\\9\\\\0\\end{matrix}\\right]$"
          },
          "metadata": {},
          "execution_count": 40
        }
      ]
    },
    {
      "cell_type": "markdown",
      "source": [
        "$$A \\cdot X = B$$"
      ],
      "metadata": {
        "id": "dX4-fG28EVgq"
      }
    },
    {
      "cell_type": "code",
      "source": [
        "X = A.inv() @ b\n",
        "X"
      ],
      "metadata": {
        "colab": {
          "base_uri": "https://localhost:8080/",
          "height": 78
        },
        "id": "iZFgG61nEUxi",
        "outputId": "13d52cb2-92d1-4517-bb2c-49beaf47e400"
      },
      "execution_count": 41,
      "outputs": [
        {
          "output_type": "execute_result",
          "data": {
            "text/plain": [
              "Matrix([\n",
              "[3/4],\n",
              "[ -2],\n",
              "[1/2]])"
            ],
            "text/latex": "$\\displaystyle \\left[\\begin{matrix}\\frac{3}{4}\\\\-2\\\\\\frac{1}{2}\\end{matrix}\\right]$"
          },
          "metadata": {},
          "execution_count": 41
        }
      ]
    },
    {
      "cell_type": "code",
      "source": [
        "A = sym.Matrix([[2, -1, 0, 0],\n",
        "                [0, 1, 1, 1],\n",
        "                [0, 0, 1, 2]])\n",
        "A"
      ],
      "metadata": {
        "colab": {
          "base_uri": "https://localhost:8080/",
          "height": 78
        },
        "id": "07lDpnVaEmda",
        "outputId": "7cad930b-4d89-4720-ad5e-4b348f908620"
      },
      "execution_count": 42,
      "outputs": [
        {
          "output_type": "execute_result",
          "data": {
            "text/plain": [
              "Matrix([\n",
              "[2, -1, 0, 0],\n",
              "[0,  1, 1, 1],\n",
              "[0,  0, 1, 2]])"
            ],
            "text/latex": "$\\displaystyle \\left[\\begin{matrix}2 & -1 & 0 & 0\\\\0 & 1 & 1 & 1\\\\0 & 0 & 1 & 2\\end{matrix}\\right]$"
          },
          "metadata": {},
          "execution_count": 42
        }
      ]
    },
    {
      "cell_type": "code",
      "source": [
        "A.rref(pivots=False)"
      ],
      "metadata": {
        "colab": {
          "base_uri": "https://localhost:8080/",
          "height": 78
        },
        "id": "L_uRj5o9EwLv",
        "outputId": "6af50dc5-3f28-4985-8261-603806a0aaf4"
      },
      "execution_count": 43,
      "outputs": [
        {
          "output_type": "execute_result",
          "data": {
            "text/plain": [
              "Matrix([\n",
              "[1, 0, 0, -1/2],\n",
              "[0, 1, 0,   -1],\n",
              "[0, 0, 1,    2]])"
            ],
            "text/latex": "$\\displaystyle \\left[\\begin{matrix}1 & 0 & 0 & - \\frac{1}{2}\\\\0 & 1 & 0 & -1\\\\0 & 0 & 1 & 2\\end{matrix}\\right]$"
          },
          "metadata": {},
          "execution_count": 43
        }
      ]
    },
    {
      "cell_type": "code",
      "source": [
        "M = sym.Matrix([[4, 2, 5],\n",
        "                [2, 1, 8]])\n",
        "M"
      ],
      "metadata": {
        "colab": {
          "base_uri": "https://localhost:8080/",
          "height": 58
        },
        "id": "fBQmMUvpE5Q9",
        "outputId": "37e69ded-accb-4c82-d434-594905de3fa5"
      },
      "execution_count": 44,
      "outputs": [
        {
          "output_type": "execute_result",
          "data": {
            "text/plain": [
              "Matrix([\n",
              "[4, 2, 5],\n",
              "[2, 1, 8]])"
            ],
            "text/latex": "$\\displaystyle \\left[\\begin{matrix}4 & 2 & 5\\\\2 & 1 & 8\\end{matrix}\\right]$"
          },
          "metadata": {},
          "execution_count": 44
        }
      ]
    },
    {
      "cell_type": "code",
      "source": [
        "M.rref(pivots=False)"
      ],
      "metadata": {
        "colab": {
          "base_uri": "https://localhost:8080/",
          "height": 58
        },
        "id": "XJ1X_cQTFBB3",
        "outputId": "ac502898-7a52-47ea-d189-825f46e4a68d"
      },
      "execution_count": 45,
      "outputs": [
        {
          "output_type": "execute_result",
          "data": {
            "text/plain": [
              "Matrix([\n",
              "[1, 1/2, 0],\n",
              "[0,   0, 1]])"
            ],
            "text/latex": "$\\displaystyle \\left[\\begin{matrix}1 & \\frac{1}{2} & 0\\\\0 & 0 & 1\\end{matrix}\\right]$"
          },
          "metadata": {},
          "execution_count": 45
        }
      ]
    }
  ]
}