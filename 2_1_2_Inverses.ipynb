{
  "nbformat": 4,
  "nbformat_minor": 0,
  "metadata": {
    "colab": {
      "provenance": [],
      "toc_visible": true,
      "authorship_tag": "ABX9TyP251Z/Fd8nHHr5RmeGUX8S",
      "include_colab_link": true
    },
    "kernelspec": {
      "name": "python3",
      "display_name": "Python 3"
    },
    "language_info": {
      "name": "python"
    }
  },
  "cells": [
    {
      "cell_type": "markdown",
      "metadata": {
        "id": "view-in-github",
        "colab_type": "text"
      },
      "source": [
        "<a href=\"https://colab.research.google.com/github/PaulToronto/Howard-University-Coursera-Linear-Algebra-For-Data-Science-Specialization/blob/main/2_1_2_Inverses.ipynb\" target=\"_parent\"><img src=\"https://colab.research.google.com/assets/colab-badge.svg\" alt=\"Open In Colab\"/></a>"
      ]
    },
    {
      "cell_type": "markdown",
      "source": [
        "# 2.1.2 Inverses"
      ],
      "metadata": {
        "id": "ZQA2mT-SusJt"
      }
    },
    {
      "cell_type": "markdown",
      "source": [
        "## Imports"
      ],
      "metadata": {
        "id": "wcSWM4fdu19H"
      }
    },
    {
      "cell_type": "code",
      "execution_count": 1,
      "metadata": {
        "id": "TD0eifhjuppA"
      },
      "outputs": [],
      "source": [
        "import sympy as sym\n",
        "import numpy as np"
      ]
    },
    {
      "cell_type": "markdown",
      "source": [
        "## Use `sympy` to find the inverse"
      ],
      "metadata": {
        "id": "rxNyAKCW2U9J"
      }
    },
    {
      "cell_type": "code",
      "source": [
        "a, b, c, d = sym.symbols('a b c d')\n",
        "\n",
        "M = sym.Matrix([[a, b],\n",
        "                [c, d]])\n",
        "\n",
        "M"
      ],
      "metadata": {
        "colab": {
          "base_uri": "https://localhost:8080/",
          "height": 58
        },
        "id": "Zxm9uxFJvIDk",
        "outputId": "f09f6a42-cf4f-4ecb-bc97-aa5a93c4fdfd"
      },
      "execution_count": 2,
      "outputs": [
        {
          "output_type": "execute_result",
          "data": {
            "text/plain": [
              "Matrix([\n",
              "[a, b],\n",
              "[c, d]])"
            ],
            "text/latex": "$\\displaystyle \\left[\\begin{matrix}a & b\\\\c & d\\end{matrix}\\right]$"
          },
          "metadata": {},
          "execution_count": 2
        }
      ]
    },
    {
      "cell_type": "code",
      "source": [
        "M_inv1 = M.inv()\n",
        "M_inv1"
      ],
      "metadata": {
        "colab": {
          "base_uri": "https://localhost:8080/",
          "height": 60
        },
        "id": "uy7aGfks2P1J",
        "outputId": "3f2d8277-b7a3-4076-cdd6-c8343ec44f81"
      },
      "execution_count": 3,
      "outputs": [
        {
          "output_type": "execute_result",
          "data": {
            "text/plain": [
              "Matrix([\n",
              "[ d/(a*d - b*c), -b/(a*d - b*c)],\n",
              "[-c/(a*d - b*c),  a/(a*d - b*c)]])"
            ],
            "text/latex": "$\\displaystyle \\left[\\begin{matrix}\\frac{d}{a d - b c} & - \\frac{b}{a d - b c}\\\\- \\frac{c}{a d - b c} & \\frac{a}{a d - b c}\\end{matrix}\\right]$"
          },
          "metadata": {},
          "execution_count": 3
        }
      ]
    },
    {
      "cell_type": "markdown",
      "source": [
        "## Use `sympy` and RREF to find the inverse"
      ],
      "metadata": {
        "id": "yYe4LXJn2ep2"
      }
    },
    {
      "cell_type": "code",
      "source": [
        "M = sym.Matrix([[a, b, 1, 0],\n",
        "                [c, d, 0, 1]])\n",
        "M"
      ],
      "metadata": {
        "colab": {
          "base_uri": "https://localhost:8080/",
          "height": 58
        },
        "id": "S8VldK2I2Sqs",
        "outputId": "230d6092-6682-4e80-c4ac-1fe94ca39309"
      },
      "execution_count": 4,
      "outputs": [
        {
          "output_type": "execute_result",
          "data": {
            "text/plain": [
              "Matrix([\n",
              "[a, b, 1, 0],\n",
              "[c, d, 0, 1]])"
            ],
            "text/latex": "$\\displaystyle \\left[\\begin{matrix}a & b & 1 & 0\\\\c & d & 0 & 1\\end{matrix}\\right]$"
          },
          "metadata": {},
          "execution_count": 4
        }
      ]
    },
    {
      "cell_type": "markdown",
      "source": [
        "$R_1 \\leftarrow \\frac{1}{a} \\cdot R_1$"
      ],
      "metadata": {
        "id": "x6UmqmsuwU7s"
      }
    },
    {
      "cell_type": "code",
      "source": [
        "M[0,:] = (1/a) * M.row(0)\n",
        "M"
      ],
      "metadata": {
        "colab": {
          "base_uri": "https://localhost:8080/",
          "height": 58
        },
        "id": "I76esOwxvZBd",
        "outputId": "5984aef5-4dc2-49a1-f01f-b69b9cce0485"
      },
      "execution_count": 5,
      "outputs": [
        {
          "output_type": "execute_result",
          "data": {
            "text/plain": [
              "Matrix([\n",
              "[1, b/a, 1/a, 0],\n",
              "[c,   d,   0, 1]])"
            ],
            "text/latex": "$\\displaystyle \\left[\\begin{matrix}1 & \\frac{b}{a} & \\frac{1}{a} & 0\\\\c & d & 0 & 1\\end{matrix}\\right]$"
          },
          "metadata": {},
          "execution_count": 5
        }
      ]
    },
    {
      "cell_type": "markdown",
      "source": [
        "$R_2 \\leftarrow R_1 - c \\cdot R_1$"
      ],
      "metadata": {
        "id": "WB27utVxwza9"
      }
    },
    {
      "cell_type": "code",
      "source": [
        "M[1,:] = M.row(1) - c * M.row(0)\n",
        "M"
      ],
      "metadata": {
        "colab": {
          "base_uri": "https://localhost:8080/",
          "height": 59
        },
        "id": "HebG99HfxBZ2",
        "outputId": "f3d01593-e6fc-4b96-d818-5f46db323b2d"
      },
      "execution_count": 6,
      "outputs": [
        {
          "output_type": "execute_result",
          "data": {
            "text/plain": [
              "Matrix([\n",
              "[1,       b/a,  1/a, 0],\n",
              "[0, d - b*c/a, -c/a, 1]])"
            ],
            "text/latex": "$\\displaystyle \\left[\\begin{matrix}1 & \\frac{b}{a} & \\frac{1}{a} & 0\\\\0 & d - \\frac{b c}{a} & - \\frac{c}{a} & 1\\end{matrix}\\right]$"
          },
          "metadata": {},
          "execution_count": 6
        }
      ]
    },
    {
      "cell_type": "markdown",
      "source": [
        "$R_2 \\leftarrow \\frac{a}{ad - bc} \\cdot R_2$"
      ],
      "metadata": {
        "id": "Yuxx_li1wwCh"
      }
    },
    {
      "cell_type": "code",
      "source": [
        "M[1,:] = ((a / (a*d - b*c)) * M.row(1))\n",
        "M[1, 1] =  M[1, 1].simplify()\n",
        "M"
      ],
      "metadata": {
        "colab": {
          "base_uri": "https://localhost:8080/",
          "height": 59
        },
        "id": "-1CuPOk5yGAw",
        "outputId": "cec989ff-073c-43b6-e171-adb175a9b948"
      },
      "execution_count": 7,
      "outputs": [
        {
          "output_type": "execute_result",
          "data": {
            "text/plain": [
              "Matrix([\n",
              "[1, b/a,            1/a,             0],\n",
              "[0,   1, -c/(a*d - b*c), a/(a*d - b*c)]])"
            ],
            "text/latex": "$\\displaystyle \\left[\\begin{matrix}1 & \\frac{b}{a} & \\frac{1}{a} & 0\\\\0 & 1 & - \\frac{c}{a d - b c} & \\frac{a}{a d - b c}\\end{matrix}\\right]$"
          },
          "metadata": {},
          "execution_count": 7
        }
      ]
    },
    {
      "cell_type": "markdown",
      "source": [
        "$R_0 \\leftarrow R_0 - \\frac{b}{a} \\cdot R_1$"
      ],
      "metadata": {
        "id": "928S-bIG1a-8"
      }
    },
    {
      "cell_type": "code",
      "source": [
        "M[0,:] = M.row(0) - (b/a) * M.row(1)\n",
        "M[0,2] = M[0,2].simplify()\n",
        "M"
      ],
      "metadata": {
        "colab": {
          "base_uri": "https://localhost:8080/",
          "height": 60
        },
        "id": "_aIrsXbX0sPI",
        "outputId": "11e79b29-e765-438b-db78-ddc85d1d53f8"
      },
      "execution_count": 8,
      "outputs": [
        {
          "output_type": "execute_result",
          "data": {
            "text/plain": [
              "Matrix([\n",
              "[1, 0,  d/(a*d - b*c), -b/(a*d - b*c)],\n",
              "[0, 1, -c/(a*d - b*c),  a/(a*d - b*c)]])"
            ],
            "text/latex": "$\\displaystyle \\left[\\begin{matrix}1 & 0 & \\frac{d}{a d - b c} & - \\frac{b}{a d - b c}\\\\0 & 1 & - \\frac{c}{a d - b c} & \\frac{a}{a d - b c}\\end{matrix}\\right]$"
          },
          "metadata": {},
          "execution_count": 8
        }
      ]
    },
    {
      "cell_type": "code",
      "source": [
        "M_inv2 = M[:, 2:]\n",
        "M_inv2"
      ],
      "metadata": {
        "colab": {
          "base_uri": "https://localhost:8080/",
          "height": 60
        },
        "id": "p8tJaNz52vhW",
        "outputId": "96128223-e48e-4254-b0cb-8a9173939064"
      },
      "execution_count": 9,
      "outputs": [
        {
          "output_type": "execute_result",
          "data": {
            "text/plain": [
              "Matrix([\n",
              "[ d/(a*d - b*c), -b/(a*d - b*c)],\n",
              "[-c/(a*d - b*c),  a/(a*d - b*c)]])"
            ],
            "text/latex": "$\\displaystyle \\left[\\begin{matrix}\\frac{d}{a d - b c} & - \\frac{b}{a d - b c}\\\\- \\frac{c}{a d - b c} & \\frac{a}{a d - b c}\\end{matrix}\\right]$"
          },
          "metadata": {},
          "execution_count": 9
        }
      ]
    },
    {
      "cell_type": "code",
      "source": [
        "M_inv1 == M_inv2"
      ],
      "metadata": {
        "colab": {
          "base_uri": "https://localhost:8080/"
        },
        "id": "IVviVBTF2-2t",
        "outputId": "55d79c43-b083-4df9-8fff-f2a2cb8afc56"
      },
      "execution_count": 10,
      "outputs": [
        {
          "output_type": "execute_result",
          "data": {
            "text/plain": [
              "True"
            ]
          },
          "metadata": {},
          "execution_count": 10
        }
      ]
    },
    {
      "cell_type": "markdown",
      "source": [
        "## 2.1.2.1 Inverse of a $2 \\times 2$ Matrix"
      ],
      "metadata": {
        "id": "mE_sBxGbu44j"
      }
    },
    {
      "cell_type": "markdown",
      "source": [
        "### The Identity Matrix\n",
        "\n",
        "$$\n",
        "I_2 = \\begin{pmatrix}1 & 0\\\\0 & 1\\end{pmatrix}\n",
        "$$\n",
        "\n",
        "For any $n \\times n$ matrix A:\n",
        "\n",
        "$$\n",
        "I_nA = AI_n = A\n",
        "$$"
      ],
      "metadata": {
        "id": "8mvc3nSp4GIP"
      }
    },
    {
      "cell_type": "code",
      "source": [
        "M = sym.Matrix([[a, b],\n",
        "                [c, d]])\n",
        "M"
      ],
      "metadata": {
        "colab": {
          "base_uri": "https://localhost:8080/",
          "height": 58
        },
        "id": "x88_5BgL5NYY",
        "outputId": "9c3e0ab6-445f-428e-fbfc-562f92239ccd"
      },
      "execution_count": 11,
      "outputs": [
        {
          "output_type": "execute_result",
          "data": {
            "text/plain": [
              "Matrix([\n",
              "[a, b],\n",
              "[c, d]])"
            ],
            "text/latex": "$\\displaystyle \\left[\\begin{matrix}a & b\\\\c & d\\end{matrix}\\right]$"
          },
          "metadata": {},
          "execution_count": 11
        }
      ]
    },
    {
      "cell_type": "code",
      "source": [
        "I = sym.Matrix([[1, 0],\n",
        "                [0, 1]])\n",
        "I"
      ],
      "metadata": {
        "colab": {
          "base_uri": "https://localhost:8080/",
          "height": 58
        },
        "id": "AQ_TiFgJ5Tlc",
        "outputId": "936f2cdf-7b9d-426a-c20a-1e8ac087f302"
      },
      "execution_count": 12,
      "outputs": [
        {
          "output_type": "execute_result",
          "data": {
            "text/plain": [
              "Matrix([\n",
              "[1, 0],\n",
              "[0, 1]])"
            ],
            "text/latex": "$\\displaystyle \\left[\\begin{matrix}1 & 0\\\\0 & 1\\end{matrix}\\right]$"
          },
          "metadata": {},
          "execution_count": 12
        }
      ]
    },
    {
      "cell_type": "code",
      "source": [
        "I * M"
      ],
      "metadata": {
        "colab": {
          "base_uri": "https://localhost:8080/",
          "height": 58
        },
        "id": "IJQuZVFp5X57",
        "outputId": "4cbd3851-d10a-449f-f3bb-51f4c932060b"
      },
      "execution_count": 13,
      "outputs": [
        {
          "output_type": "execute_result",
          "data": {
            "text/plain": [
              "Matrix([\n",
              "[a, b],\n",
              "[c, d]])"
            ],
            "text/latex": "$\\displaystyle \\left[\\begin{matrix}a & b\\\\c & d\\end{matrix}\\right]$"
          },
          "metadata": {},
          "execution_count": 13
        }
      ]
    },
    {
      "cell_type": "code",
      "source": [
        "M * I"
      ],
      "metadata": {
        "colab": {
          "base_uri": "https://localhost:8080/",
          "height": 58
        },
        "id": "l9LAW2VN5Z9h",
        "outputId": "18508a93-189b-4bbe-f874-1beece119ea8"
      },
      "execution_count": 14,
      "outputs": [
        {
          "output_type": "execute_result",
          "data": {
            "text/plain": [
              "Matrix([\n",
              "[a, b],\n",
              "[c, d]])"
            ],
            "text/latex": "$\\displaystyle \\left[\\begin{matrix}a & b\\\\c & d\\end{matrix}\\right]$"
          },
          "metadata": {},
          "execution_count": 14
        }
      ]
    },
    {
      "cell_type": "markdown",
      "source": [
        "### Inverse Matrix\n",
        "\n",
        "Let $A$ be an $n \\times n$ matrix. If there exists a matrix $B$, such that $AB = BA = I$, then $B$ is called the inverse of $A$ and is denoted by $A^{-1}$."
      ],
      "metadata": {
        "id": "_I77AiH96MGP"
      }
    },
    {
      "cell_type": "markdown",
      "source": [
        "### Inverse of a $2 \\times 2$ Matrix\n",
        "\n",
        "Let $A = \\begin{pmatrix}a & b\\\\c & d\\end{pmatrix}$.\n",
        "\n",
        "If $\\det{(A)} \\ne 0, \\text{ then } A^{-1} \\text{ exists and}$\n",
        "\n",
        "$$\n",
        "A^{-1} = \\frac{1}{\\det{(A)}} \\cdot \\begin{pmatrix}d & -b\\\\-c & a\\end{pmatrix}\n",
        "$$"
      ],
      "metadata": {
        "id": "RT5BXhcC728U"
      }
    },
    {
      "cell_type": "markdown",
      "source": [
        "### Verify the Formula"
      ],
      "metadata": {
        "id": "7swqf_Kn9ae-"
      }
    },
    {
      "cell_type": "code",
      "source": [
        "M"
      ],
      "metadata": {
        "colab": {
          "base_uri": "https://localhost:8080/",
          "height": 58
        },
        "id": "YQryCkCI9kCt",
        "outputId": "33416b3a-6d24-413e-f87c-ce51825dfa06"
      },
      "execution_count": 15,
      "outputs": [
        {
          "output_type": "execute_result",
          "data": {
            "text/plain": [
              "Matrix([\n",
              "[a, b],\n",
              "[c, d]])"
            ],
            "text/latex": "$\\displaystyle \\left[\\begin{matrix}a & b\\\\c & d\\end{matrix}\\right]$"
          },
          "metadata": {},
          "execution_count": 15
        }
      ]
    },
    {
      "cell_type": "code",
      "source": [
        "M_adjugate = sym.Matrix([[d, -b],\n",
        "                    [-c, a]])\n",
        "M_adjugate"
      ],
      "metadata": {
        "colab": {
          "base_uri": "https://localhost:8080/",
          "height": 58
        },
        "id": "eYh0gKBV9oAt",
        "outputId": "84405e62-194a-43b5-a499-8967cb5d7c1b"
      },
      "execution_count": 16,
      "outputs": [
        {
          "output_type": "execute_result",
          "data": {
            "text/plain": [
              "Matrix([\n",
              "[ d, -b],\n",
              "[-c,  a]])"
            ],
            "text/latex": "$\\displaystyle \\left[\\begin{matrix}d & - b\\\\- c & a\\end{matrix}\\right]$"
          },
          "metadata": {},
          "execution_count": 16
        }
      ]
    },
    {
      "cell_type": "code",
      "source": [
        "(1 / M.det()) * M_adjugate == M.inv()"
      ],
      "metadata": {
        "colab": {
          "base_uri": "https://localhost:8080/"
        },
        "id": "7fawTcr399MY",
        "outputId": "5f5b08bf-cc09-47f5-beca-0e0de87d603d"
      },
      "execution_count": 17,
      "outputs": [
        {
          "output_type": "execute_result",
          "data": {
            "text/plain": [
              "True"
            ]
          },
          "metadata": {},
          "execution_count": 17
        }
      ]
    },
    {
      "cell_type": "markdown",
      "source": [
        "### Example\n",
        "\n",
        "Find the inverse of $A$"
      ],
      "metadata": {
        "id": "jpUP7dNs-zQZ"
      }
    },
    {
      "cell_type": "code",
      "source": [
        "A = sym.Matrix([[1, 2],\n",
        "                [4, -2]])\n",
        "A"
      ],
      "metadata": {
        "colab": {
          "base_uri": "https://localhost:8080/",
          "height": 58
        },
        "id": "8DQrR9vp-3fx",
        "outputId": "69908493-f5f7-46fb-a32a-88615ff4e950"
      },
      "execution_count": 18,
      "outputs": [
        {
          "output_type": "execute_result",
          "data": {
            "text/plain": [
              "Matrix([\n",
              "[1,  2],\n",
              "[4, -2]])"
            ],
            "text/latex": "$\\displaystyle \\left[\\begin{matrix}1 & 2\\\\4 & -2\\end{matrix}\\right]$"
          },
          "metadata": {},
          "execution_count": 18
        }
      ]
    },
    {
      "cell_type": "code",
      "source": [
        "A_det = (1) * (-2) - (4) * (2)\n",
        "A_det, A.det()"
      ],
      "metadata": {
        "colab": {
          "base_uri": "https://localhost:8080/"
        },
        "id": "xH1b96Kn-8cM",
        "outputId": "aff64d03-025e-4079-c762-aaac59b7babb"
      },
      "execution_count": 19,
      "outputs": [
        {
          "output_type": "execute_result",
          "data": {
            "text/plain": [
              "(-10, -10)"
            ]
          },
          "metadata": {},
          "execution_count": 19
        }
      ]
    },
    {
      "cell_type": "markdown",
      "source": [
        "The determinant is not equal to 0, so we know that the inverse exists."
      ],
      "metadata": {
        "id": "KDj3JXbp_Gl8"
      }
    },
    {
      "cell_type": "code",
      "source": [
        "A_inv = (1/A.det()) * A.adjugate()\n",
        "A_inv"
      ],
      "metadata": {
        "colab": {
          "base_uri": "https://localhost:8080/",
          "height": 58
        },
        "id": "9_Lu869U_LDM",
        "outputId": "fa3126fd-d036-423e-b1bc-c90479259b39"
      },
      "execution_count": 20,
      "outputs": [
        {
          "output_type": "execute_result",
          "data": {
            "text/plain": [
              "Matrix([\n",
              "[1/5,   1/5],\n",
              "[2/5, -1/10]])"
            ],
            "text/latex": "$\\displaystyle \\left[\\begin{matrix}\\frac{1}{5} & \\frac{1}{5}\\\\\\frac{2}{5} & - \\frac{1}{10}\\end{matrix}\\right]$"
          },
          "metadata": {},
          "execution_count": 20
        }
      ]
    },
    {
      "cell_type": "code",
      "source": [
        "# verify\n",
        "A.inv()"
      ],
      "metadata": {
        "colab": {
          "base_uri": "https://localhost:8080/",
          "height": 58
        },
        "id": "9yYJ0h-c_qu2",
        "outputId": "a5bcf12f-5492-4fb6-91c5-54ed3612b19f"
      },
      "execution_count": 21,
      "outputs": [
        {
          "output_type": "execute_result",
          "data": {
            "text/plain": [
              "Matrix([\n",
              "[1/5,   1/5],\n",
              "[2/5, -1/10]])"
            ],
            "text/latex": "$\\displaystyle \\left[\\begin{matrix}\\frac{1}{5} & \\frac{1}{5}\\\\\\frac{2}{5} & - \\frac{1}{10}\\end{matrix}\\right]$"
          },
          "metadata": {},
          "execution_count": 21
        }
      ]
    },
    {
      "cell_type": "markdown",
      "source": [
        "## 2.1.2.2 Inverse of a $3 \\times 3$ Matrix\n",
        "\n",
        "One method of finding the inverse of a $3 \\times 3$ matrix is to use **Gaussian elimination**."
      ],
      "metadata": {
        "id": "4repHA4uA72G"
      }
    },
    {
      "cell_type": "markdown",
      "source": [
        "#### Example of using Gaussian elmimnation\n",
        "\n",
        "Find $A^{-1}$."
      ],
      "metadata": {
        "id": "zc-tbpJnCfVZ"
      }
    },
    {
      "cell_type": "code",
      "source": [
        "A = sym.Matrix([[0, 1, -1],\n",
        "                [0, 1, 1],\n",
        "                [1, 0, -6]])\n",
        "A"
      ],
      "metadata": {
        "colab": {
          "base_uri": "https://localhost:8080/",
          "height": 78
        },
        "id": "xMS7YpmbCxgU",
        "outputId": "6b789c3c-aaa8-41b5-c8c5-64a5b351893d"
      },
      "execution_count": 22,
      "outputs": [
        {
          "output_type": "execute_result",
          "data": {
            "text/plain": [
              "Matrix([\n",
              "[0, 1, -1],\n",
              "[0, 1,  1],\n",
              "[1, 0, -6]])"
            ],
            "text/latex": "$\\displaystyle \\left[\\begin{matrix}0 & 1 & -1\\\\0 & 1 & 1\\\\1 & 0 & -6\\end{matrix}\\right]$"
          },
          "metadata": {},
          "execution_count": 22
        }
      ]
    },
    {
      "cell_type": "code",
      "source": [
        "A.det()"
      ],
      "metadata": {
        "colab": {
          "base_uri": "https://localhost:8080/",
          "height": 37
        },
        "id": "O3uqd9TJDAHt",
        "outputId": "a9988c20-843c-4f45-c83b-9531fa198624"
      },
      "execution_count": 23,
      "outputs": [
        {
          "output_type": "execute_result",
          "data": {
            "text/plain": [
              "2"
            ],
            "text/latex": "$\\displaystyle 2$"
          },
          "metadata": {},
          "execution_count": 23
        }
      ]
    },
    {
      "cell_type": "markdown",
      "source": [
        "The $\\det{(A)} \\ne 0$, so we know that $A^{-1}$ exists."
      ],
      "metadata": {
        "id": "8vPNgeWLDCJM"
      }
    },
    {
      "cell_type": "markdown",
      "source": [
        "Let $M$ be the augmented matrix."
      ],
      "metadata": {
        "id": "tGK6WsVgDMza"
      }
    },
    {
      "cell_type": "code",
      "source": [
        "M = sym.Matrix(sym.BlockMatrix([A, sym.eye(3)]))\n",
        "M"
      ],
      "metadata": {
        "colab": {
          "base_uri": "https://localhost:8080/",
          "height": 78
        },
        "id": "bOkjQbFVDogG",
        "outputId": "7e5264f8-706f-4439-bf5c-3198fc4df752"
      },
      "execution_count": 24,
      "outputs": [
        {
          "output_type": "execute_result",
          "data": {
            "text/plain": [
              "Matrix([\n",
              "[0, 1, -1, 1, 0, 0],\n",
              "[0, 1,  1, 0, 1, 0],\n",
              "[1, 0, -6, 0, 0, 1]])"
            ],
            "text/latex": "$\\displaystyle \\left[\\begin{matrix}0 & 1 & -1 & 1 & 0 & 0\\\\0 & 1 & 1 & 0 & 1 & 0\\\\1 & 0 & -6 & 0 & 0 & 1\\end{matrix}\\right]$"
          },
          "metadata": {},
          "execution_count": 24
        }
      ]
    },
    {
      "cell_type": "markdown",
      "source": [
        "$R_1 \\longleftrightarrow R_3$"
      ],
      "metadata": {
        "id": "zCxv_lZIFwqu"
      }
    },
    {
      "cell_type": "code",
      "source": [
        "row1 =  M.row(0)\n",
        "row3 = M.row(2)\n",
        "\n",
        "M[0,:] = row3\n",
        "M[2,:] = row1\n",
        "M"
      ],
      "metadata": {
        "colab": {
          "base_uri": "https://localhost:8080/",
          "height": 78
        },
        "id": "aKDxPDjLDxm6",
        "outputId": "20cd05b2-dddd-4bfc-cd3b-c0c27b89d33f"
      },
      "execution_count": 25,
      "outputs": [
        {
          "output_type": "execute_result",
          "data": {
            "text/plain": [
              "Matrix([\n",
              "[1, 0, -6, 0, 0, 1],\n",
              "[0, 1,  1, 0, 1, 0],\n",
              "[0, 1, -1, 1, 0, 0]])"
            ],
            "text/latex": "$\\displaystyle \\left[\\begin{matrix}1 & 0 & -6 & 0 & 0 & 1\\\\0 & 1 & 1 & 0 & 1 & 0\\\\0 & 1 & -1 & 1 & 0 & 0\\end{matrix}\\right]$"
          },
          "metadata": {},
          "execution_count": 25
        }
      ]
    },
    {
      "cell_type": "markdown",
      "source": [
        "$R_3 \\longleftarrow R_3 - R_2$"
      ],
      "metadata": {
        "id": "RUAewmVsG76N"
      }
    },
    {
      "cell_type": "code",
      "source": [
        "M[2,:] = M.row(2) - M.row(1)\n",
        "M"
      ],
      "metadata": {
        "colab": {
          "base_uri": "https://localhost:8080/",
          "height": 78
        },
        "id": "1YNxs21gIVAe",
        "outputId": "a8a0b313-ad96-4b5d-c9ea-b520eb6246fd"
      },
      "execution_count": 26,
      "outputs": [
        {
          "output_type": "execute_result",
          "data": {
            "text/plain": [
              "Matrix([\n",
              "[1, 0, -6, 0,  0, 1],\n",
              "[0, 1,  1, 0,  1, 0],\n",
              "[0, 0, -2, 1, -1, 0]])"
            ],
            "text/latex": "$\\displaystyle \\left[\\begin{matrix}1 & 0 & -6 & 0 & 0 & 1\\\\0 & 1 & 1 & 0 & 1 & 0\\\\0 & 0 & -2 & 1 & -1 & 0\\end{matrix}\\right]$"
          },
          "metadata": {},
          "execution_count": 26
        }
      ]
    },
    {
      "cell_type": "markdown",
      "source": [
        "$R_3 \\longleftarrow -\\frac{1}{2}R_3$"
      ],
      "metadata": {
        "id": "2-6fOT-DIzGn"
      }
    },
    {
      "cell_type": "code",
      "source": [
        "M[2,:] = sym.Rational(-1,2) * M.row(2)\n",
        "M"
      ],
      "metadata": {
        "colab": {
          "base_uri": "https://localhost:8080/",
          "height": 78
        },
        "id": "2rGGE-hfIv7j",
        "outputId": "b89fde77-6f1b-418f-8836-716c814e1e21"
      },
      "execution_count": 27,
      "outputs": [
        {
          "output_type": "execute_result",
          "data": {
            "text/plain": [
              "Matrix([\n",
              "[1, 0, -6,    0,   0, 1],\n",
              "[0, 1,  1,    0,   1, 0],\n",
              "[0, 0,  1, -1/2, 1/2, 0]])"
            ],
            "text/latex": "$\\displaystyle \\left[\\begin{matrix}1 & 0 & -6 & 0 & 0 & 1\\\\0 & 1 & 1 & 0 & 1 & 0\\\\0 & 0 & 1 & - \\frac{1}{2} & \\frac{1}{2} & 0\\end{matrix}\\right]$"
          },
          "metadata": {},
          "execution_count": 27
        }
      ]
    },
    {
      "cell_type": "markdown",
      "source": [
        "$R_1 \\longleftarrow R_1 + 6R_3$"
      ],
      "metadata": {
        "id": "lEoM0oHbJowE"
      }
    },
    {
      "cell_type": "code",
      "source": [
        "M[0,:] = M.row(0) + 6 * M.row(2)\n",
        "M"
      ],
      "metadata": {
        "colab": {
          "base_uri": "https://localhost:8080/",
          "height": 78
        },
        "id": "zMaFiLSzJzxL",
        "outputId": "94b1933e-39ea-446c-a8a3-02fc2696e0ca"
      },
      "execution_count": 28,
      "outputs": [
        {
          "output_type": "execute_result",
          "data": {
            "text/plain": [
              "Matrix([\n",
              "[1, 0, 0,   -3,   3, 1],\n",
              "[0, 1, 1,    0,   1, 0],\n",
              "[0, 0, 1, -1/2, 1/2, 0]])"
            ],
            "text/latex": "$\\displaystyle \\left[\\begin{matrix}1 & 0 & 0 & -3 & 3 & 1\\\\0 & 1 & 1 & 0 & 1 & 0\\\\0 & 0 & 1 & - \\frac{1}{2} & \\frac{1}{2} & 0\\end{matrix}\\right]$"
          },
          "metadata": {},
          "execution_count": 28
        }
      ]
    },
    {
      "cell_type": "markdown",
      "source": [
        "$R2 \\longleftarrow R_2 - R_3$"
      ],
      "metadata": {
        "id": "CbZrYrAhJ-E0"
      }
    },
    {
      "cell_type": "code",
      "source": [
        "M[1,:] = M.row(1) - M.row(2)\n",
        "M"
      ],
      "metadata": {
        "colab": {
          "base_uri": "https://localhost:8080/",
          "height": 78
        },
        "id": "J-MJTubyKDWh",
        "outputId": "57b521f7-6a66-4eb4-b43a-f660a4ee6e75"
      },
      "execution_count": 29,
      "outputs": [
        {
          "output_type": "execute_result",
          "data": {
            "text/plain": [
              "Matrix([\n",
              "[1, 0, 0,   -3,   3, 1],\n",
              "[0, 1, 0,  1/2, 1/2, 0],\n",
              "[0, 0, 1, -1/2, 1/2, 0]])"
            ],
            "text/latex": "$\\displaystyle \\left[\\begin{matrix}1 & 0 & 0 & -3 & 3 & 1\\\\0 & 1 & 0 & \\frac{1}{2} & \\frac{1}{2} & 0\\\\0 & 0 & 1 & - \\frac{1}{2} & \\frac{1}{2} & 0\\end{matrix}\\right]$"
          },
          "metadata": {},
          "execution_count": 29
        }
      ]
    },
    {
      "cell_type": "code",
      "source": [
        "A_inv = M[:,3:]\n",
        "A_inv"
      ],
      "metadata": {
        "colab": {
          "base_uri": "https://localhost:8080/",
          "height": 78
        },
        "id": "RTCD9gkaKQQp",
        "outputId": "4d163dc7-2fb8-4747-cd94-d1ae8606359b"
      },
      "execution_count": 30,
      "outputs": [
        {
          "output_type": "execute_result",
          "data": {
            "text/plain": [
              "Matrix([\n",
              "[  -3,   3, 1],\n",
              "[ 1/2, 1/2, 0],\n",
              "[-1/2, 1/2, 0]])"
            ],
            "text/latex": "$\\displaystyle \\left[\\begin{matrix}-3 & 3 & 1\\\\\\frac{1}{2} & \\frac{1}{2} & 0\\\\- \\frac{1}{2} & \\frac{1}{2} & 0\\end{matrix}\\right]$"
          },
          "metadata": {},
          "execution_count": 30
        }
      ]
    },
    {
      "cell_type": "code",
      "source": [
        "A.inv()"
      ],
      "metadata": {
        "colab": {
          "base_uri": "https://localhost:8080/",
          "height": 78
        },
        "id": "zviqd5mRKYE5",
        "outputId": "7b06ce1c-e01d-4a65-b847-7658f4ec79ad"
      },
      "execution_count": 31,
      "outputs": [
        {
          "output_type": "execute_result",
          "data": {
            "text/plain": [
              "Matrix([\n",
              "[  -3,   3, 1],\n",
              "[ 1/2, 1/2, 0],\n",
              "[-1/2, 1/2, 0]])"
            ],
            "text/latex": "$\\displaystyle \\left[\\begin{matrix}-3 & 3 & 1\\\\\\frac{1}{2} & \\frac{1}{2} & 0\\\\- \\frac{1}{2} & \\frac{1}{2} & 0\\end{matrix}\\right]$"
          },
          "metadata": {},
          "execution_count": 31
        }
      ]
    },
    {
      "cell_type": "code",
      "source": [
        "A * A_inv"
      ],
      "metadata": {
        "colab": {
          "base_uri": "https://localhost:8080/",
          "height": 78
        },
        "id": "FHaX6dNTKl64",
        "outputId": "53ec0e7e-b68c-445a-efe4-7b39eff0247b"
      },
      "execution_count": 32,
      "outputs": [
        {
          "output_type": "execute_result",
          "data": {
            "text/plain": [
              "Matrix([\n",
              "[1, 0, 0],\n",
              "[0, 1, 0],\n",
              "[0, 0, 1]])"
            ],
            "text/latex": "$\\displaystyle \\left[\\begin{matrix}1 & 0 & 0\\\\0 & 1 & 0\\\\0 & 0 & 1\\end{matrix}\\right]$"
          },
          "metadata": {},
          "execution_count": 32
        }
      ]
    },
    {
      "cell_type": "code",
      "source": [
        "A_inv * A"
      ],
      "metadata": {
        "colab": {
          "base_uri": "https://localhost:8080/",
          "height": 78
        },
        "id": "kbmpitQnKqTA",
        "outputId": "abbceede-6272-49e4-a1b0-968af12162c0"
      },
      "execution_count": 33,
      "outputs": [
        {
          "output_type": "execute_result",
          "data": {
            "text/plain": [
              "Matrix([\n",
              "[1, 0, 0],\n",
              "[0, 1, 0],\n",
              "[0, 0, 1]])"
            ],
            "text/latex": "$\\displaystyle \\left[\\begin{matrix}1 & 0 & 0\\\\0 & 1 & 0\\\\0 & 0 & 1\\end{matrix}\\right]$"
          },
          "metadata": {},
          "execution_count": 33
        }
      ]
    },
    {
      "cell_type": "markdown",
      "source": [
        "## 2.1.2.3 Practice Quiz"
      ],
      "metadata": {
        "id": "q_8c24z1Q__A"
      }
    },
    {
      "cell_type": "code",
      "source": [
        "A = sym.Matrix([[1, 0, 1],\n",
        "                [1, 0, 0],\n",
        "                [2, 1, 1]])\n",
        "\n",
        "A"
      ],
      "metadata": {
        "colab": {
          "base_uri": "https://localhost:8080/",
          "height": 78
        },
        "id": "vbhRKRoMRDQu",
        "outputId": "3e4002c7-c936-4d7f-ee2b-5005d1ed6bec"
      },
      "execution_count": 34,
      "outputs": [
        {
          "output_type": "execute_result",
          "data": {
            "text/plain": [
              "Matrix([\n",
              "[1, 0, 1],\n",
              "[1, 0, 0],\n",
              "[2, 1, 1]])"
            ],
            "text/latex": "$\\displaystyle \\left[\\begin{matrix}1 & 0 & 1\\\\1 & 0 & 0\\\\2 & 1 & 1\\end{matrix}\\right]$"
          },
          "metadata": {},
          "execution_count": 34
        }
      ]
    },
    {
      "cell_type": "code",
      "source": [
        "A_det = 1 * 0 * 1 + 0 * 0 * 2 + 1 * 1 * 1 - 1 * 0 * 2 - 0 * 1 * 1 - 1 * 0 * 1\n",
        "A_det"
      ],
      "metadata": {
        "colab": {
          "base_uri": "https://localhost:8080/"
        },
        "id": "XGg55b3BRNzT",
        "outputId": "81c295be-18cb-4dfc-8e57-8874a7b3eeb0"
      },
      "execution_count": 35,
      "outputs": [
        {
          "output_type": "execute_result",
          "data": {
            "text/plain": [
              "1"
            ]
          },
          "metadata": {},
          "execution_count": 35
        }
      ]
    },
    {
      "cell_type": "code",
      "source": [
        "A.det()"
      ],
      "metadata": {
        "colab": {
          "base_uri": "https://localhost:8080/",
          "height": 37
        },
        "id": "tPUo7w25Rcw0",
        "outputId": "cafd93f9-b023-4a16-c9df-fa18d49ca853"
      },
      "execution_count": 36,
      "outputs": [
        {
          "output_type": "execute_result",
          "data": {
            "text/plain": [
              "1"
            ],
            "text/latex": "$\\displaystyle 1$"
          },
          "metadata": {},
          "execution_count": 36
        }
      ]
    },
    {
      "cell_type": "code",
      "source": [
        "A.inv()"
      ],
      "metadata": {
        "colab": {
          "base_uri": "https://localhost:8080/",
          "height": 78
        },
        "id": "x44313YsRe__",
        "outputId": "62cc2a81-b80f-4162-9f10-9c9507011989"
      },
      "execution_count": 37,
      "outputs": [
        {
          "output_type": "execute_result",
          "data": {
            "text/plain": [
              "Matrix([\n",
              "[ 0,  1, 0],\n",
              "[-1, -1, 1],\n",
              "[ 1, -1, 0]])"
            ],
            "text/latex": "$\\displaystyle \\left[\\begin{matrix}0 & 1 & 0\\\\-1 & -1 & 1\\\\1 & -1 & 0\\end{matrix}\\right]$"
          },
          "metadata": {},
          "execution_count": 37
        }
      ]
    },
    {
      "cell_type": "code",
      "source": [
        "A = sym.Matrix([[2, 1],\n",
        "               [1, .5]])\n",
        "A"
      ],
      "metadata": {
        "colab": {
          "base_uri": "https://localhost:8080/",
          "height": 58
        },
        "id": "_WK_GfZISs6t",
        "outputId": "3ccc1c61-f599-4662-abaf-0eb60cd38cae"
      },
      "execution_count": 38,
      "outputs": [
        {
          "output_type": "execute_result",
          "data": {
            "text/plain": [
              "Matrix([\n",
              "[2,   1],\n",
              "[1, 0.5]])"
            ],
            "text/latex": "$\\displaystyle \\left[\\begin{matrix}2 & 1\\\\1 & 0.5\\end{matrix}\\right]$"
          },
          "metadata": {},
          "execution_count": 38
        }
      ]
    },
    {
      "cell_type": "code",
      "source": [
        "A.det() # the matrix is not invertible"
      ],
      "metadata": {
        "colab": {
          "base_uri": "https://localhost:8080/",
          "height": 37
        },
        "id": "ugWuiJgoS5Kv",
        "outputId": "69f08e6e-d49d-430f-a2c2-e4ee68fcddbe"
      },
      "execution_count": 39,
      "outputs": [
        {
          "output_type": "execute_result",
          "data": {
            "text/plain": [
              "0"
            ],
            "text/latex": "$\\displaystyle 0$"
          },
          "metadata": {},
          "execution_count": 39
        }
      ]
    },
    {
      "cell_type": "code",
      "source": [
        "A = sym.Matrix([[2,1],\n",
        "                [1, 2]])\n",
        "A"
      ],
      "metadata": {
        "colab": {
          "base_uri": "https://localhost:8080/",
          "height": 58
        },
        "id": "xqumKt0fTjO7",
        "outputId": "155f162b-00ac-4a46-dc92-498517cc9ffa"
      },
      "execution_count": 40,
      "outputs": [
        {
          "output_type": "execute_result",
          "data": {
            "text/plain": [
              "Matrix([\n",
              "[2, 1],\n",
              "[1, 2]])"
            ],
            "text/latex": "$\\displaystyle \\left[\\begin{matrix}2 & 1\\\\1 & 2\\end{matrix}\\right]$"
          },
          "metadata": {},
          "execution_count": 40
        }
      ]
    },
    {
      "cell_type": "markdown",
      "source": [
        "## 2.1.2.4 Quiz"
      ],
      "metadata": {
        "id": "X1GHAw2vULtx"
      }
    },
    {
      "cell_type": "code",
      "source": [
        "A.det()"
      ],
      "metadata": {
        "colab": {
          "base_uri": "https://localhost:8080/",
          "height": 37
        },
        "id": "fOmB9omNUaIM",
        "outputId": "f69d710f-2b90-40a8-c843-f08b955e4681"
      },
      "execution_count": 41,
      "outputs": [
        {
          "output_type": "execute_result",
          "data": {
            "text/plain": [
              "3"
            ],
            "text/latex": "$\\displaystyle 3$"
          },
          "metadata": {},
          "execution_count": 41
        }
      ]
    },
    {
      "cell_type": "code",
      "source": [
        "A = np.array([[2, 1],\n",
        "              [1, 2]])\n",
        "A"
      ],
      "metadata": {
        "colab": {
          "base_uri": "https://localhost:8080/"
        },
        "id": "sv6tLZziUoIW",
        "outputId": "e3fde9de-e299-49b4-968c-6e2bb479fcea"
      },
      "execution_count": 42,
      "outputs": [
        {
          "output_type": "execute_result",
          "data": {
            "text/plain": [
              "array([[2, 1],\n",
              "       [1, 2]])"
            ]
          },
          "metadata": {},
          "execution_count": 42
        }
      ]
    },
    {
      "cell_type": "code",
      "source": [
        "np.linalg.det(A)"
      ],
      "metadata": {
        "colab": {
          "base_uri": "https://localhost:8080/"
        },
        "id": "E1mpUY3EVf21",
        "outputId": "5a212fcb-3dc4-4744-a049-d8975742f7f5"
      },
      "execution_count": 43,
      "outputs": [
        {
          "output_type": "execute_result",
          "data": {
            "text/plain": [
              "2.9999999999999996"
            ]
          },
          "metadata": {},
          "execution_count": 43
        }
      ]
    },
    {
      "cell_type": "code",
      "source": [
        "# Find the vlaues of x so that A is not invertible\n",
        "x = sym.symbols('x')\n",
        "\n",
        "A = sym.Matrix([[1, x],\n",
        "                [x, x + 2]])\n",
        "A"
      ],
      "metadata": {
        "colab": {
          "base_uri": "https://localhost:8080/",
          "height": 58
        },
        "id": "iYLc_2WKVqju",
        "outputId": "1815a340-c3c8-4ac5-fe14-27d58a410d58"
      },
      "execution_count": 44,
      "outputs": [
        {
          "output_type": "execute_result",
          "data": {
            "text/plain": [
              "Matrix([\n",
              "[1,     x],\n",
              "[x, x + 2]])"
            ],
            "text/latex": "$\\displaystyle \\left[\\begin{matrix}1 & x\\\\x & x + 2\\end{matrix}\\right]$"
          },
          "metadata": {},
          "execution_count": 44
        }
      ]
    },
    {
      "cell_type": "code",
      "source": [
        "A.det()"
      ],
      "metadata": {
        "colab": {
          "base_uri": "https://localhost:8080/",
          "height": 39
        },
        "id": "bJ_U2nKqWFsQ",
        "outputId": "601103b3-ab1f-4f62-982f-73b94db68f8f"
      },
      "execution_count": 45,
      "outputs": [
        {
          "output_type": "execute_result",
          "data": {
            "text/plain": [
              "-x**2 + x + 2"
            ],
            "text/latex": "$\\displaystyle - x^{2} + x + 2$"
          },
          "metadata": {},
          "execution_count": 45
        }
      ]
    },
    {
      "cell_type": "code",
      "source": [
        "sym.solve(sym.Eq(A.det(), 0))"
      ],
      "metadata": {
        "colab": {
          "base_uri": "https://localhost:8080/"
        },
        "id": "CZmi4ZgiWHoh",
        "outputId": "079393e4-dfe0-4d31-cba6-43bfc1935c99"
      },
      "execution_count": 46,
      "outputs": [
        {
          "output_type": "execute_result",
          "data": {
            "text/plain": [
              "[-1, 2]"
            ]
          },
          "metadata": {},
          "execution_count": 46
        }
      ]
    }
  ]
}