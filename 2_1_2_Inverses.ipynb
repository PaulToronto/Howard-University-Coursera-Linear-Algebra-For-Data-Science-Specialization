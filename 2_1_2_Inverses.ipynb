{
  "nbformat": 4,
  "nbformat_minor": 0,
  "metadata": {
    "colab": {
      "provenance": [],
      "toc_visible": true,
      "authorship_tag": "ABX9TyNgp0TXRP5nnMS/GsumGuf+",
      "include_colab_link": true
    },
    "kernelspec": {
      "name": "python3",
      "display_name": "Python 3"
    },
    "language_info": {
      "name": "python"
    }
  },
  "cells": [
    {
      "cell_type": "markdown",
      "metadata": {
        "id": "view-in-github",
        "colab_type": "text"
      },
      "source": [
        "<a href=\"https://colab.research.google.com/github/PaulToronto/Howard-University-Coursera-Linear-Algebra-For-Data-Science-Specialization/blob/main/2_1_2_Inverses.ipynb\" target=\"_parent\"><img src=\"https://colab.research.google.com/assets/colab-badge.svg\" alt=\"Open In Colab\"/></a>"
      ]
    },
    {
      "cell_type": "markdown",
      "source": [
        "# Inverses"
      ],
      "metadata": {
        "id": "ZQA2mT-SusJt"
      }
    },
    {
      "cell_type": "markdown",
      "source": [
        "## Imports"
      ],
      "metadata": {
        "id": "wcSWM4fdu19H"
      }
    },
    {
      "cell_type": "code",
      "execution_count": 1,
      "metadata": {
        "id": "TD0eifhjuppA"
      },
      "outputs": [],
      "source": [
        "import sympy as sym\n",
        "import numpy as np"
      ]
    },
    {
      "cell_type": "markdown",
      "source": [
        "## Use `sympy` to find the inverse"
      ],
      "metadata": {
        "id": "rxNyAKCW2U9J"
      }
    },
    {
      "cell_type": "code",
      "source": [
        "a, b, c, d = sym.symbols('a b c d')\n",
        "\n",
        "M = sym.Matrix([[a, b],\n",
        "                [c, d]])\n",
        "\n",
        "M"
      ],
      "metadata": {
        "colab": {
          "base_uri": "https://localhost:8080/",
          "height": 58
        },
        "id": "Zxm9uxFJvIDk",
        "outputId": "7858f26b-d29b-4409-bb42-82954320e8c2"
      },
      "execution_count": 2,
      "outputs": [
        {
          "output_type": "execute_result",
          "data": {
            "text/plain": [
              "Matrix([\n",
              "[a, b],\n",
              "[c, d]])"
            ],
            "text/latex": "$\\displaystyle \\left[\\begin{matrix}a & b\\\\c & d\\end{matrix}\\right]$"
          },
          "metadata": {},
          "execution_count": 2
        }
      ]
    },
    {
      "cell_type": "code",
      "source": [
        "M_inv1 = M.inv()\n",
        "M_inv1"
      ],
      "metadata": {
        "colab": {
          "base_uri": "https://localhost:8080/",
          "height": 60
        },
        "id": "uy7aGfks2P1J",
        "outputId": "f526c7e8-ded2-4b73-b787-1218fbdb5da5"
      },
      "execution_count": 3,
      "outputs": [
        {
          "output_type": "execute_result",
          "data": {
            "text/plain": [
              "Matrix([\n",
              "[ d/(a*d - b*c), -b/(a*d - b*c)],\n",
              "[-c/(a*d - b*c),  a/(a*d - b*c)]])"
            ],
            "text/latex": "$\\displaystyle \\left[\\begin{matrix}\\frac{d}{a d - b c} & - \\frac{b}{a d - b c}\\\\- \\frac{c}{a d - b c} & \\frac{a}{a d - b c}\\end{matrix}\\right]$"
          },
          "metadata": {},
          "execution_count": 3
        }
      ]
    },
    {
      "cell_type": "markdown",
      "source": [
        "## Use `sympy` and RREF to find the inverse"
      ],
      "metadata": {
        "id": "yYe4LXJn2ep2"
      }
    },
    {
      "cell_type": "code",
      "source": [
        "M = sym.Matrix([[a, b, 1, 0],\n",
        "                [c, d, 0, 1]])\n",
        "M"
      ],
      "metadata": {
        "colab": {
          "base_uri": "https://localhost:8080/",
          "height": 58
        },
        "id": "S8VldK2I2Sqs",
        "outputId": "52269ebb-23a2-41f1-cd11-b29b1873eb7a"
      },
      "execution_count": 4,
      "outputs": [
        {
          "output_type": "execute_result",
          "data": {
            "text/plain": [
              "Matrix([\n",
              "[a, b, 1, 0],\n",
              "[c, d, 0, 1]])"
            ],
            "text/latex": "$\\displaystyle \\left[\\begin{matrix}a & b & 1 & 0\\\\c & d & 0 & 1\\end{matrix}\\right]$"
          },
          "metadata": {},
          "execution_count": 4
        }
      ]
    },
    {
      "cell_type": "markdown",
      "source": [
        "$R_1 \\leftarrow \\frac{1}{a} \\cdot R_1$"
      ],
      "metadata": {
        "id": "x6UmqmsuwU7s"
      }
    },
    {
      "cell_type": "code",
      "source": [
        "M[0,:] = (1/a) * M.row(0)\n",
        "M"
      ],
      "metadata": {
        "colab": {
          "base_uri": "https://localhost:8080/",
          "height": 58
        },
        "id": "I76esOwxvZBd",
        "outputId": "1cb0a5b8-3283-4800-99f1-31922f3af93e"
      },
      "execution_count": 5,
      "outputs": [
        {
          "output_type": "execute_result",
          "data": {
            "text/plain": [
              "Matrix([\n",
              "[1, b/a, 1/a, 0],\n",
              "[c,   d,   0, 1]])"
            ],
            "text/latex": "$\\displaystyle \\left[\\begin{matrix}1 & \\frac{b}{a} & \\frac{1}{a} & 0\\\\c & d & 0 & 1\\end{matrix}\\right]$"
          },
          "metadata": {},
          "execution_count": 5
        }
      ]
    },
    {
      "cell_type": "markdown",
      "source": [
        "$R_2 \\leftarrow R_1 - c \\cdot R_1$"
      ],
      "metadata": {
        "id": "WB27utVxwza9"
      }
    },
    {
      "cell_type": "code",
      "source": [
        "M[1,:] = M.row(1) - c * M.row(0)\n",
        "M"
      ],
      "metadata": {
        "colab": {
          "base_uri": "https://localhost:8080/",
          "height": 59
        },
        "id": "HebG99HfxBZ2",
        "outputId": "55609bd7-fdc6-4e77-fda9-0a667bab39d2"
      },
      "execution_count": 6,
      "outputs": [
        {
          "output_type": "execute_result",
          "data": {
            "text/plain": [
              "Matrix([\n",
              "[1,       b/a,  1/a, 0],\n",
              "[0, d - b*c/a, -c/a, 1]])"
            ],
            "text/latex": "$\\displaystyle \\left[\\begin{matrix}1 & \\frac{b}{a} & \\frac{1}{a} & 0\\\\0 & d - \\frac{b c}{a} & - \\frac{c}{a} & 1\\end{matrix}\\right]$"
          },
          "metadata": {},
          "execution_count": 6
        }
      ]
    },
    {
      "cell_type": "markdown",
      "source": [
        "$R_2 \\leftarrow \\frac{a}{ad - bc} \\cdot R_2$"
      ],
      "metadata": {
        "id": "Yuxx_li1wwCh"
      }
    },
    {
      "cell_type": "code",
      "source": [
        "M[1,:] = ((a / (a*d - b*c)) * M.row(1))\n",
        "M[1, 1] =  M[1, 1].simplify()\n",
        "M"
      ],
      "metadata": {
        "colab": {
          "base_uri": "https://localhost:8080/",
          "height": 59
        },
        "id": "-1CuPOk5yGAw",
        "outputId": "40a04698-4f7e-4647-b190-e7425fab21fd"
      },
      "execution_count": 7,
      "outputs": [
        {
          "output_type": "execute_result",
          "data": {
            "text/plain": [
              "Matrix([\n",
              "[1, b/a,            1/a,             0],\n",
              "[0,   1, -c/(a*d - b*c), a/(a*d - b*c)]])"
            ],
            "text/latex": "$\\displaystyle \\left[\\begin{matrix}1 & \\frac{b}{a} & \\frac{1}{a} & 0\\\\0 & 1 & - \\frac{c}{a d - b c} & \\frac{a}{a d - b c}\\end{matrix}\\right]$"
          },
          "metadata": {},
          "execution_count": 7
        }
      ]
    },
    {
      "cell_type": "markdown",
      "source": [
        "$R_0 \\leftarrow R_0 - \\frac{b}{a} \\cdot R_1$"
      ],
      "metadata": {
        "id": "928S-bIG1a-8"
      }
    },
    {
      "cell_type": "code",
      "source": [
        "M[0,:] = M.row(0) - (b/a) * M.row(1)\n",
        "M[0,2] = M[0,2].simplify()\n",
        "M"
      ],
      "metadata": {
        "colab": {
          "base_uri": "https://localhost:8080/",
          "height": 60
        },
        "id": "_aIrsXbX0sPI",
        "outputId": "91cb03bd-695e-4e81-edb1-c4312a3050a3"
      },
      "execution_count": 8,
      "outputs": [
        {
          "output_type": "execute_result",
          "data": {
            "text/plain": [
              "Matrix([\n",
              "[1, 0,  d/(a*d - b*c), -b/(a*d - b*c)],\n",
              "[0, 1, -c/(a*d - b*c),  a/(a*d - b*c)]])"
            ],
            "text/latex": "$\\displaystyle \\left[\\begin{matrix}1 & 0 & \\frac{d}{a d - b c} & - \\frac{b}{a d - b c}\\\\0 & 1 & - \\frac{c}{a d - b c} & \\frac{a}{a d - b c}\\end{matrix}\\right]$"
          },
          "metadata": {},
          "execution_count": 8
        }
      ]
    },
    {
      "cell_type": "code",
      "source": [
        "M_inv2 = M[:, 2:]\n",
        "M_inv2"
      ],
      "metadata": {
        "colab": {
          "base_uri": "https://localhost:8080/",
          "height": 60
        },
        "id": "p8tJaNz52vhW",
        "outputId": "56a1e511-013e-43ef-86f7-d3279024e42e"
      },
      "execution_count": 9,
      "outputs": [
        {
          "output_type": "execute_result",
          "data": {
            "text/plain": [
              "Matrix([\n",
              "[ d/(a*d - b*c), -b/(a*d - b*c)],\n",
              "[-c/(a*d - b*c),  a/(a*d - b*c)]])"
            ],
            "text/latex": "$\\displaystyle \\left[\\begin{matrix}\\frac{d}{a d - b c} & - \\frac{b}{a d - b c}\\\\- \\frac{c}{a d - b c} & \\frac{a}{a d - b c}\\end{matrix}\\right]$"
          },
          "metadata": {},
          "execution_count": 9
        }
      ]
    },
    {
      "cell_type": "code",
      "source": [
        "M_inv1 == M_inv2"
      ],
      "metadata": {
        "colab": {
          "base_uri": "https://localhost:8080/"
        },
        "id": "IVviVBTF2-2t",
        "outputId": "20c72f44-a3a8-49f5-df45-e87a52a952eb"
      },
      "execution_count": 10,
      "outputs": [
        {
          "output_type": "execute_result",
          "data": {
            "text/plain": [
              "True"
            ]
          },
          "metadata": {},
          "execution_count": 10
        }
      ]
    },
    {
      "cell_type": "markdown",
      "source": [
        "## 2.1.2.1 Inverse of a $2 \\times 2$ Matrix"
      ],
      "metadata": {
        "id": "mE_sBxGbu44j"
      }
    },
    {
      "cell_type": "markdown",
      "source": [
        "### The Identity Matrix\n",
        "\n",
        "$$\n",
        "I_2 = \\begin{pmatrix}1 & 0\\\\0 & 1\\end{pmatrix}\n",
        "$$\n",
        "\n",
        "For any $n \\times n$ matrix A:\n",
        "\n",
        "$$\n",
        "I_nA = AI_n = A\n",
        "$$"
      ],
      "metadata": {
        "id": "8mvc3nSp4GIP"
      }
    },
    {
      "cell_type": "code",
      "source": [
        "M = sym.Matrix([[a, b],\n",
        "                [c, d]])\n",
        "M"
      ],
      "metadata": {
        "colab": {
          "base_uri": "https://localhost:8080/",
          "height": 58
        },
        "id": "x88_5BgL5NYY",
        "outputId": "a58dab6e-0a96-49f7-8fe7-0ea0bd629d90"
      },
      "execution_count": 11,
      "outputs": [
        {
          "output_type": "execute_result",
          "data": {
            "text/plain": [
              "Matrix([\n",
              "[a, b],\n",
              "[c, d]])"
            ],
            "text/latex": "$\\displaystyle \\left[\\begin{matrix}a & b\\\\c & d\\end{matrix}\\right]$"
          },
          "metadata": {},
          "execution_count": 11
        }
      ]
    },
    {
      "cell_type": "code",
      "source": [
        "I = sym.Matrix([[1, 0],\n",
        "                [0, 1]])\n",
        "I"
      ],
      "metadata": {
        "colab": {
          "base_uri": "https://localhost:8080/",
          "height": 58
        },
        "id": "AQ_TiFgJ5Tlc",
        "outputId": "35fe75d8-7da3-450b-fc9b-7f720b166be6"
      },
      "execution_count": 12,
      "outputs": [
        {
          "output_type": "execute_result",
          "data": {
            "text/plain": [
              "Matrix([\n",
              "[1, 0],\n",
              "[0, 1]])"
            ],
            "text/latex": "$\\displaystyle \\left[\\begin{matrix}1 & 0\\\\0 & 1\\end{matrix}\\right]$"
          },
          "metadata": {},
          "execution_count": 12
        }
      ]
    },
    {
      "cell_type": "code",
      "source": [
        "I * M"
      ],
      "metadata": {
        "colab": {
          "base_uri": "https://localhost:8080/",
          "height": 58
        },
        "id": "IJQuZVFp5X57",
        "outputId": "12adabab-955b-4db3-a528-863896fdde7e"
      },
      "execution_count": 13,
      "outputs": [
        {
          "output_type": "execute_result",
          "data": {
            "text/plain": [
              "Matrix([\n",
              "[a, b],\n",
              "[c, d]])"
            ],
            "text/latex": "$\\displaystyle \\left[\\begin{matrix}a & b\\\\c & d\\end{matrix}\\right]$"
          },
          "metadata": {},
          "execution_count": 13
        }
      ]
    },
    {
      "cell_type": "code",
      "source": [
        "M * I"
      ],
      "metadata": {
        "colab": {
          "base_uri": "https://localhost:8080/",
          "height": 58
        },
        "id": "l9LAW2VN5Z9h",
        "outputId": "8855f8b4-394a-48a8-8eda-6ac0e46472a9"
      },
      "execution_count": 14,
      "outputs": [
        {
          "output_type": "execute_result",
          "data": {
            "text/plain": [
              "Matrix([\n",
              "[a, b],\n",
              "[c, d]])"
            ],
            "text/latex": "$\\displaystyle \\left[\\begin{matrix}a & b\\\\c & d\\end{matrix}\\right]$"
          },
          "metadata": {},
          "execution_count": 14
        }
      ]
    },
    {
      "cell_type": "markdown",
      "source": [
        "### Inverse Matrix\n",
        "\n",
        "Let $A$ be an $n \\times n$ matrix. If there exists a matrix $B$, such that $AB = BA = I$, then $B$ is called the inverse of $A$ and is denoted by $A^{-1}$."
      ],
      "metadata": {
        "id": "_I77AiH96MGP"
      }
    },
    {
      "cell_type": "markdown",
      "source": [
        "### Inverse of a $2 \\times 2$ Matrix\n",
        "\n",
        "Let $A = \\begin{pmatrix}a & b\\\\c & d\\end{pmatrix}$.\n",
        "\n",
        "If $\\det{(A)} \\ne 0, \\text{ then } A^{-1} \\text{ exists and}$\n",
        "\n",
        "$$\n",
        "A^{-1} = \\frac{1}{\\det{(A)}} \\cdot \\begin{pmatrix}d & -b\\\\-c & a\\end{pmatrix}\n",
        "$$"
      ],
      "metadata": {
        "id": "RT5BXhcC728U"
      }
    },
    {
      "cell_type": "markdown",
      "source": [
        "### Verify the Formula"
      ],
      "metadata": {
        "id": "7swqf_Kn9ae-"
      }
    },
    {
      "cell_type": "code",
      "source": [
        "M"
      ],
      "metadata": {
        "colab": {
          "base_uri": "https://localhost:8080/",
          "height": 58
        },
        "id": "YQryCkCI9kCt",
        "outputId": "fea1847e-9b3f-4ad0-b4ab-ed9a1a356529"
      },
      "execution_count": 15,
      "outputs": [
        {
          "output_type": "execute_result",
          "data": {
            "text/plain": [
              "Matrix([\n",
              "[a, b],\n",
              "[c, d]])"
            ],
            "text/latex": "$\\displaystyle \\left[\\begin{matrix}a & b\\\\c & d\\end{matrix}\\right]$"
          },
          "metadata": {},
          "execution_count": 15
        }
      ]
    },
    {
      "cell_type": "code",
      "source": [
        "M_adjugate = sym.Matrix([[d, -b],\n",
        "                    [-c, a]])\n",
        "M_adjugate"
      ],
      "metadata": {
        "colab": {
          "base_uri": "https://localhost:8080/",
          "height": 58
        },
        "id": "eYh0gKBV9oAt",
        "outputId": "7bfe6879-4aa3-439c-fd41-47f1690edf42"
      },
      "execution_count": 16,
      "outputs": [
        {
          "output_type": "execute_result",
          "data": {
            "text/plain": [
              "Matrix([\n",
              "[ d, -b],\n",
              "[-c,  a]])"
            ],
            "text/latex": "$\\displaystyle \\left[\\begin{matrix}d & - b\\\\- c & a\\end{matrix}\\right]$"
          },
          "metadata": {},
          "execution_count": 16
        }
      ]
    },
    {
      "cell_type": "code",
      "source": [
        "(1 / M.det()) * M_adjugate == M.inv()"
      ],
      "metadata": {
        "colab": {
          "base_uri": "https://localhost:8080/"
        },
        "id": "7fawTcr399MY",
        "outputId": "977bda69-c240-4e96-aa20-826c618adb9c"
      },
      "execution_count": 17,
      "outputs": [
        {
          "output_type": "execute_result",
          "data": {
            "text/plain": [
              "True"
            ]
          },
          "metadata": {},
          "execution_count": 17
        }
      ]
    },
    {
      "cell_type": "markdown",
      "source": [
        "### Example\n",
        "\n",
        "Find the inverse of $A$"
      ],
      "metadata": {
        "id": "jpUP7dNs-zQZ"
      }
    },
    {
      "cell_type": "code",
      "source": [
        "A = sym.Matrix([[1, 2],\n",
        "                [4, -2]])\n",
        "A"
      ],
      "metadata": {
        "colab": {
          "base_uri": "https://localhost:8080/",
          "height": 58
        },
        "id": "8DQrR9vp-3fx",
        "outputId": "5f843eff-f0a2-4dce-e572-9543defbab02"
      },
      "execution_count": 18,
      "outputs": [
        {
          "output_type": "execute_result",
          "data": {
            "text/plain": [
              "Matrix([\n",
              "[1,  2],\n",
              "[4, -2]])"
            ],
            "text/latex": "$\\displaystyle \\left[\\begin{matrix}1 & 2\\\\4 & -2\\end{matrix}\\right]$"
          },
          "metadata": {},
          "execution_count": 18
        }
      ]
    },
    {
      "cell_type": "code",
      "source": [
        "A_det = (1) * (-2) - (4) * (2)\n",
        "A_det, A.det()"
      ],
      "metadata": {
        "colab": {
          "base_uri": "https://localhost:8080/"
        },
        "id": "xH1b96Kn-8cM",
        "outputId": "6e51bae8-9704-425a-cf1b-3c593c41a460"
      },
      "execution_count": 19,
      "outputs": [
        {
          "output_type": "execute_result",
          "data": {
            "text/plain": [
              "(-10, -10)"
            ]
          },
          "metadata": {},
          "execution_count": 19
        }
      ]
    },
    {
      "cell_type": "markdown",
      "source": [
        "The determinant is not equal to 0, so we know that the inverse exists."
      ],
      "metadata": {
        "id": "KDj3JXbp_Gl8"
      }
    },
    {
      "cell_type": "code",
      "source": [
        "A_inv = (1/A.det()) * A.adjugate()\n",
        "A_inv"
      ],
      "metadata": {
        "colab": {
          "base_uri": "https://localhost:8080/",
          "height": 58
        },
        "id": "9_Lu869U_LDM",
        "outputId": "90135272-2d53-4367-e5e3-bbe14c4ec54f"
      },
      "execution_count": 20,
      "outputs": [
        {
          "output_type": "execute_result",
          "data": {
            "text/plain": [
              "Matrix([\n",
              "[1/5,   1/5],\n",
              "[2/5, -1/10]])"
            ],
            "text/latex": "$\\displaystyle \\left[\\begin{matrix}\\frac{1}{5} & \\frac{1}{5}\\\\\\frac{2}{5} & - \\frac{1}{10}\\end{matrix}\\right]$"
          },
          "metadata": {},
          "execution_count": 20
        }
      ]
    },
    {
      "cell_type": "code",
      "source": [
        "# verify\n",
        "A.inv()"
      ],
      "metadata": {
        "colab": {
          "base_uri": "https://localhost:8080/",
          "height": 58
        },
        "id": "9yYJ0h-c_qu2",
        "outputId": "ae94b1cd-1d32-4dd1-9055-a265f467b87b"
      },
      "execution_count": 21,
      "outputs": [
        {
          "output_type": "execute_result",
          "data": {
            "text/plain": [
              "Matrix([\n",
              "[1/5,   1/5],\n",
              "[2/5, -1/10]])"
            ],
            "text/latex": "$\\displaystyle \\left[\\begin{matrix}\\frac{1}{5} & \\frac{1}{5}\\\\\\frac{2}{5} & - \\frac{1}{10}\\end{matrix}\\right]$"
          },
          "metadata": {},
          "execution_count": 21
        }
      ]
    },
    {
      "cell_type": "markdown",
      "source": [
        "## 2.1.2.2 Inverse of a $3 \\times 3$ Matrix\n",
        "\n",
        "One method of finding the inverse of a $3 \\times 3$ matrix is to use **Gaussian elimination**."
      ],
      "metadata": {
        "id": "4repHA4uA72G"
      }
    },
    {
      "cell_type": "markdown",
      "source": [
        "#### Example of using Gaussian elmimnation\n",
        "\n",
        "Find $A^{-1}$."
      ],
      "metadata": {
        "id": "zc-tbpJnCfVZ"
      }
    },
    {
      "cell_type": "code",
      "source": [
        "A = sym.Matrix([[0, 1, -1],\n",
        "                [0, 1, 1],\n",
        "                [1, 0, -6]])\n",
        "A"
      ],
      "metadata": {
        "colab": {
          "base_uri": "https://localhost:8080/",
          "height": 78
        },
        "id": "xMS7YpmbCxgU",
        "outputId": "7da20b3d-800f-4c18-ecf8-0c8ff4f8dc57"
      },
      "execution_count": 22,
      "outputs": [
        {
          "output_type": "execute_result",
          "data": {
            "text/plain": [
              "Matrix([\n",
              "[0, 1, -1],\n",
              "[0, 1,  1],\n",
              "[1, 0, -6]])"
            ],
            "text/latex": "$\\displaystyle \\left[\\begin{matrix}0 & 1 & -1\\\\0 & 1 & 1\\\\1 & 0 & -6\\end{matrix}\\right]$"
          },
          "metadata": {},
          "execution_count": 22
        }
      ]
    },
    {
      "cell_type": "code",
      "source": [
        "A.det()"
      ],
      "metadata": {
        "colab": {
          "base_uri": "https://localhost:8080/",
          "height": 37
        },
        "id": "O3uqd9TJDAHt",
        "outputId": "174ce4f9-1b3e-42ff-e24e-eda3e023da10"
      },
      "execution_count": 23,
      "outputs": [
        {
          "output_type": "execute_result",
          "data": {
            "text/plain": [
              "2"
            ],
            "text/latex": "$\\displaystyle 2$"
          },
          "metadata": {},
          "execution_count": 23
        }
      ]
    },
    {
      "cell_type": "markdown",
      "source": [
        "The $\\det{(A)} \\ne 0$, so we know that $A^{-1}$ exists."
      ],
      "metadata": {
        "id": "8vPNgeWLDCJM"
      }
    },
    {
      "cell_type": "markdown",
      "source": [
        "Let $M$ be the augmented matrix."
      ],
      "metadata": {
        "id": "tGK6WsVgDMza"
      }
    },
    {
      "cell_type": "code",
      "source": [
        "M = sym.Matrix(sym.BlockMatrix([A, sym.eye(3)]))\n",
        "M"
      ],
      "metadata": {
        "colab": {
          "base_uri": "https://localhost:8080/",
          "height": 78
        },
        "id": "bOkjQbFVDogG",
        "outputId": "0131e9f2-a086-4749-a357-d3018bf4a809"
      },
      "execution_count": 24,
      "outputs": [
        {
          "output_type": "execute_result",
          "data": {
            "text/plain": [
              "Matrix([\n",
              "[0, 1, -1, 1, 0, 0],\n",
              "[0, 1,  1, 0, 1, 0],\n",
              "[1, 0, -6, 0, 0, 1]])"
            ],
            "text/latex": "$\\displaystyle \\left[\\begin{matrix}0 & 1 & -1 & 1 & 0 & 0\\\\0 & 1 & 1 & 0 & 1 & 0\\\\1 & 0 & -6 & 0 & 0 & 1\\end{matrix}\\right]$"
          },
          "metadata": {},
          "execution_count": 24
        }
      ]
    },
    {
      "cell_type": "markdown",
      "source": [
        "$R_1 \\longleftrightarrow R_3$"
      ],
      "metadata": {
        "id": "zCxv_lZIFwqu"
      }
    },
    {
      "cell_type": "code",
      "source": [
        "row1 =  M.row(0)\n",
        "row3 = M.row(2)\n",
        "\n",
        "M[0,:] = row3\n",
        "M[2,:] = row1\n",
        "M"
      ],
      "metadata": {
        "colab": {
          "base_uri": "https://localhost:8080/",
          "height": 78
        },
        "id": "aKDxPDjLDxm6",
        "outputId": "e32a03b9-63c2-4ff1-ceda-b883e6c8e8f6"
      },
      "execution_count": 25,
      "outputs": [
        {
          "output_type": "execute_result",
          "data": {
            "text/plain": [
              "Matrix([\n",
              "[1, 0, -6, 0, 0, 1],\n",
              "[0, 1,  1, 0, 1, 0],\n",
              "[0, 1, -1, 1, 0, 0]])"
            ],
            "text/latex": "$\\displaystyle \\left[\\begin{matrix}1 & 0 & -6 & 0 & 0 & 1\\\\0 & 1 & 1 & 0 & 1 & 0\\\\0 & 1 & -1 & 1 & 0 & 0\\end{matrix}\\right]$"
          },
          "metadata": {},
          "execution_count": 25
        }
      ]
    },
    {
      "cell_type": "markdown",
      "source": [
        "$R_3 \\longleftarrow R_3 - R_2$"
      ],
      "metadata": {
        "id": "RUAewmVsG76N"
      }
    },
    {
      "cell_type": "code",
      "source": [
        "M[2,:] = M.row(2) - M.row(1)\n",
        "M"
      ],
      "metadata": {
        "colab": {
          "base_uri": "https://localhost:8080/",
          "height": 78
        },
        "id": "1YNxs21gIVAe",
        "outputId": "3be830d5-d13b-4f8b-cc27-5474a8a29a3d"
      },
      "execution_count": 26,
      "outputs": [
        {
          "output_type": "execute_result",
          "data": {
            "text/plain": [
              "Matrix([\n",
              "[1, 0, -6, 0,  0, 1],\n",
              "[0, 1,  1, 0,  1, 0],\n",
              "[0, 0, -2, 1, -1, 0]])"
            ],
            "text/latex": "$\\displaystyle \\left[\\begin{matrix}1 & 0 & -6 & 0 & 0 & 1\\\\0 & 1 & 1 & 0 & 1 & 0\\\\0 & 0 & -2 & 1 & -1 & 0\\end{matrix}\\right]$"
          },
          "metadata": {},
          "execution_count": 26
        }
      ]
    },
    {
      "cell_type": "markdown",
      "source": [
        "$R_3 \\longleftarrow -\\frac{1}{2}R_3$"
      ],
      "metadata": {
        "id": "2-6fOT-DIzGn"
      }
    },
    {
      "cell_type": "code",
      "source": [
        "M[2,:] = sym.Rational(-1,2) * M.row(2)\n",
        "M"
      ],
      "metadata": {
        "colab": {
          "base_uri": "https://localhost:8080/",
          "height": 78
        },
        "id": "2rGGE-hfIv7j",
        "outputId": "341633ed-4d41-4a44-a7cf-4c2ab5d8cbf9"
      },
      "execution_count": 27,
      "outputs": [
        {
          "output_type": "execute_result",
          "data": {
            "text/plain": [
              "Matrix([\n",
              "[1, 0, -6,    0,   0, 1],\n",
              "[0, 1,  1,    0,   1, 0],\n",
              "[0, 0,  1, -1/2, 1/2, 0]])"
            ],
            "text/latex": "$\\displaystyle \\left[\\begin{matrix}1 & 0 & -6 & 0 & 0 & 1\\\\0 & 1 & 1 & 0 & 1 & 0\\\\0 & 0 & 1 & - \\frac{1}{2} & \\frac{1}{2} & 0\\end{matrix}\\right]$"
          },
          "metadata": {},
          "execution_count": 27
        }
      ]
    },
    {
      "cell_type": "markdown",
      "source": [
        "$R_1 \\longleftarrow R_1 + 6R_3$"
      ],
      "metadata": {
        "id": "lEoM0oHbJowE"
      }
    },
    {
      "cell_type": "code",
      "source": [
        "M[0,:] = M.row(0) + 6 * M.row(2)\n",
        "M"
      ],
      "metadata": {
        "colab": {
          "base_uri": "https://localhost:8080/",
          "height": 78
        },
        "id": "zMaFiLSzJzxL",
        "outputId": "3388d766-d67d-406f-824a-f783e2dc0b8e"
      },
      "execution_count": 28,
      "outputs": [
        {
          "output_type": "execute_result",
          "data": {
            "text/plain": [
              "Matrix([\n",
              "[1, 0, 0,   -3,   3, 1],\n",
              "[0, 1, 1,    0,   1, 0],\n",
              "[0, 0, 1, -1/2, 1/2, 0]])"
            ],
            "text/latex": "$\\displaystyle \\left[\\begin{matrix}1 & 0 & 0 & -3 & 3 & 1\\\\0 & 1 & 1 & 0 & 1 & 0\\\\0 & 0 & 1 & - \\frac{1}{2} & \\frac{1}{2} & 0\\end{matrix}\\right]$"
          },
          "metadata": {},
          "execution_count": 28
        }
      ]
    },
    {
      "cell_type": "markdown",
      "source": [
        "$R2 \\longleftarrow R_2 - R_3$"
      ],
      "metadata": {
        "id": "CbZrYrAhJ-E0"
      }
    },
    {
      "cell_type": "code",
      "source": [
        "M[1,:] = M.row(1) - M.row(2)\n",
        "M"
      ],
      "metadata": {
        "colab": {
          "base_uri": "https://localhost:8080/",
          "height": 78
        },
        "id": "J-MJTubyKDWh",
        "outputId": "3b0d328b-c4e0-4d90-9f0b-f863ed406078"
      },
      "execution_count": 29,
      "outputs": [
        {
          "output_type": "execute_result",
          "data": {
            "text/plain": [
              "Matrix([\n",
              "[1, 0, 0,   -3,   3, 1],\n",
              "[0, 1, 0,  1/2, 1/2, 0],\n",
              "[0, 0, 1, -1/2, 1/2, 0]])"
            ],
            "text/latex": "$\\displaystyle \\left[\\begin{matrix}1 & 0 & 0 & -3 & 3 & 1\\\\0 & 1 & 0 & \\frac{1}{2} & \\frac{1}{2} & 0\\\\0 & 0 & 1 & - \\frac{1}{2} & \\frac{1}{2} & 0\\end{matrix}\\right]$"
          },
          "metadata": {},
          "execution_count": 29
        }
      ]
    },
    {
      "cell_type": "code",
      "source": [
        "A_inv = M[:,3:]\n",
        "A_inv"
      ],
      "metadata": {
        "colab": {
          "base_uri": "https://localhost:8080/",
          "height": 78
        },
        "id": "RTCD9gkaKQQp",
        "outputId": "b756511b-bf40-47b1-ccdc-66036a8c7c42"
      },
      "execution_count": 30,
      "outputs": [
        {
          "output_type": "execute_result",
          "data": {
            "text/plain": [
              "Matrix([\n",
              "[  -3,   3, 1],\n",
              "[ 1/2, 1/2, 0],\n",
              "[-1/2, 1/2, 0]])"
            ],
            "text/latex": "$\\displaystyle \\left[\\begin{matrix}-3 & 3 & 1\\\\\\frac{1}{2} & \\frac{1}{2} & 0\\\\- \\frac{1}{2} & \\frac{1}{2} & 0\\end{matrix}\\right]$"
          },
          "metadata": {},
          "execution_count": 30
        }
      ]
    },
    {
      "cell_type": "code",
      "source": [
        "A.inv()"
      ],
      "metadata": {
        "colab": {
          "base_uri": "https://localhost:8080/",
          "height": 78
        },
        "id": "zviqd5mRKYE5",
        "outputId": "b6a6e479-a2c8-46b3-9a3e-b50d01a9935b"
      },
      "execution_count": 31,
      "outputs": [
        {
          "output_type": "execute_result",
          "data": {
            "text/plain": [
              "Matrix([\n",
              "[  -3,   3, 1],\n",
              "[ 1/2, 1/2, 0],\n",
              "[-1/2, 1/2, 0]])"
            ],
            "text/latex": "$\\displaystyle \\left[\\begin{matrix}-3 & 3 & 1\\\\\\frac{1}{2} & \\frac{1}{2} & 0\\\\- \\frac{1}{2} & \\frac{1}{2} & 0\\end{matrix}\\right]$"
          },
          "metadata": {},
          "execution_count": 31
        }
      ]
    },
    {
      "cell_type": "code",
      "source": [
        "A * A_inv"
      ],
      "metadata": {
        "colab": {
          "base_uri": "https://localhost:8080/",
          "height": 78
        },
        "id": "FHaX6dNTKl64",
        "outputId": "ee90cc1f-6d6e-49b9-d939-d7a11466a5e6"
      },
      "execution_count": 32,
      "outputs": [
        {
          "output_type": "execute_result",
          "data": {
            "text/plain": [
              "Matrix([\n",
              "[1, 0, 0],\n",
              "[0, 1, 0],\n",
              "[0, 0, 1]])"
            ],
            "text/latex": "$\\displaystyle \\left[\\begin{matrix}1 & 0 & 0\\\\0 & 1 & 0\\\\0 & 0 & 1\\end{matrix}\\right]$"
          },
          "metadata": {},
          "execution_count": 32
        }
      ]
    },
    {
      "cell_type": "code",
      "source": [
        "A_inv * A"
      ],
      "metadata": {
        "colab": {
          "base_uri": "https://localhost:8080/",
          "height": 78
        },
        "id": "kbmpitQnKqTA",
        "outputId": "dec08772-2309-4cd9-fbfb-74bc918947ec"
      },
      "execution_count": 33,
      "outputs": [
        {
          "output_type": "execute_result",
          "data": {
            "text/plain": [
              "Matrix([\n",
              "[1, 0, 0],\n",
              "[0, 1, 0],\n",
              "[0, 0, 1]])"
            ],
            "text/latex": "$\\displaystyle \\left[\\begin{matrix}1 & 0 & 0\\\\0 & 1 & 0\\\\0 & 0 & 1\\end{matrix}\\right]$"
          },
          "metadata": {},
          "execution_count": 33
        }
      ]
    },
    {
      "cell_type": "markdown",
      "source": [
        "## 2.1.2.3 Practice Quiz"
      ],
      "metadata": {
        "id": "q_8c24z1Q__A"
      }
    },
    {
      "cell_type": "code",
      "source": [
        "A = sym.Matrix([[1, 0, 1],\n",
        "                [1, 0, 0],\n",
        "                [2, 1, 1]])\n",
        "\n",
        "A"
      ],
      "metadata": {
        "colab": {
          "base_uri": "https://localhost:8080/",
          "height": 78
        },
        "id": "vbhRKRoMRDQu",
        "outputId": "89566669-ceff-44e8-fab2-3a4413d8b871"
      },
      "execution_count": 34,
      "outputs": [
        {
          "output_type": "execute_result",
          "data": {
            "text/plain": [
              "Matrix([\n",
              "[1, 0, 1],\n",
              "[1, 0, 0],\n",
              "[2, 1, 1]])"
            ],
            "text/latex": "$\\displaystyle \\left[\\begin{matrix}1 & 0 & 1\\\\1 & 0 & 0\\\\2 & 1 & 1\\end{matrix}\\right]$"
          },
          "metadata": {},
          "execution_count": 34
        }
      ]
    },
    {
      "cell_type": "code",
      "source": [
        "A_det = 1 * 0 * 1 + 0 * 0 * 2 + 1 * 1 * 1 - 1 * 0 * 2 - 0 * 1 * 1 - 1 * 0 * 1\n",
        "A_det"
      ],
      "metadata": {
        "colab": {
          "base_uri": "https://localhost:8080/"
        },
        "id": "XGg55b3BRNzT",
        "outputId": "8f9a7f5e-f3fc-41c2-b3d7-71bccabb174e"
      },
      "execution_count": 35,
      "outputs": [
        {
          "output_type": "execute_result",
          "data": {
            "text/plain": [
              "1"
            ]
          },
          "metadata": {},
          "execution_count": 35
        }
      ]
    },
    {
      "cell_type": "code",
      "source": [
        "A.det()"
      ],
      "metadata": {
        "colab": {
          "base_uri": "https://localhost:8080/",
          "height": 37
        },
        "id": "tPUo7w25Rcw0",
        "outputId": "2744581f-bd88-4670-bf70-be1661f65b31"
      },
      "execution_count": 36,
      "outputs": [
        {
          "output_type": "execute_result",
          "data": {
            "text/plain": [
              "1"
            ],
            "text/latex": "$\\displaystyle 1$"
          },
          "metadata": {},
          "execution_count": 36
        }
      ]
    },
    {
      "cell_type": "code",
      "source": [
        "A.inv()"
      ],
      "metadata": {
        "colab": {
          "base_uri": "https://localhost:8080/",
          "height": 78
        },
        "id": "x44313YsRe__",
        "outputId": "addb225b-bebb-4992-e1a8-565eca219c85"
      },
      "execution_count": 37,
      "outputs": [
        {
          "output_type": "execute_result",
          "data": {
            "text/plain": [
              "Matrix([\n",
              "[ 0,  1, 0],\n",
              "[-1, -1, 1],\n",
              "[ 1, -1, 0]])"
            ],
            "text/latex": "$\\displaystyle \\left[\\begin{matrix}0 & 1 & 0\\\\-1 & -1 & 1\\\\1 & -1 & 0\\end{matrix}\\right]$"
          },
          "metadata": {},
          "execution_count": 37
        }
      ]
    },
    {
      "cell_type": "code",
      "source": [
        "A = sym.Matrix([[2, 1],\n",
        "               [1, .5]])\n",
        "A"
      ],
      "metadata": {
        "colab": {
          "base_uri": "https://localhost:8080/",
          "height": 58
        },
        "id": "_WK_GfZISs6t",
        "outputId": "1ba430d8-09c9-43b3-cb09-6123bd5a5f88"
      },
      "execution_count": 38,
      "outputs": [
        {
          "output_type": "execute_result",
          "data": {
            "text/plain": [
              "Matrix([\n",
              "[2,   1],\n",
              "[1, 0.5]])"
            ],
            "text/latex": "$\\displaystyle \\left[\\begin{matrix}2 & 1\\\\1 & 0.5\\end{matrix}\\right]$"
          },
          "metadata": {},
          "execution_count": 38
        }
      ]
    },
    {
      "cell_type": "code",
      "source": [
        "A.det() # the matrix is not invertible"
      ],
      "metadata": {
        "colab": {
          "base_uri": "https://localhost:8080/",
          "height": 37
        },
        "id": "ugWuiJgoS5Kv",
        "outputId": "ce528065-aadf-48af-96e9-a5312c1cac81"
      },
      "execution_count": 39,
      "outputs": [
        {
          "output_type": "execute_result",
          "data": {
            "text/plain": [
              "0"
            ],
            "text/latex": "$\\displaystyle 0$"
          },
          "metadata": {},
          "execution_count": 39
        }
      ]
    },
    {
      "cell_type": "code",
      "source": [
        "A = sym.Matrix([[2,1],\n",
        "                [1, 2]])\n",
        "A"
      ],
      "metadata": {
        "colab": {
          "base_uri": "https://localhost:8080/",
          "height": 58
        },
        "id": "xqumKt0fTjO7",
        "outputId": "b3aeebb5-a963-4e29-8042-18302f57d39b"
      },
      "execution_count": 40,
      "outputs": [
        {
          "output_type": "execute_result",
          "data": {
            "text/plain": [
              "Matrix([\n",
              "[2, 1],\n",
              "[1, 2]])"
            ],
            "text/latex": "$\\displaystyle \\left[\\begin{matrix}2 & 1\\\\1 & 2\\end{matrix}\\right]$"
          },
          "metadata": {},
          "execution_count": 40
        }
      ]
    },
    {
      "cell_type": "markdown",
      "source": [
        "## 2.1.2.4 Quiz"
      ],
      "metadata": {
        "id": "X1GHAw2vULtx"
      }
    },
    {
      "cell_type": "code",
      "source": [
        "A.det()"
      ],
      "metadata": {
        "colab": {
          "base_uri": "https://localhost:8080/",
          "height": 37
        },
        "id": "fOmB9omNUaIM",
        "outputId": "ac095de7-ae60-4d03-ca0c-cd55b7b2a9fc"
      },
      "execution_count": 41,
      "outputs": [
        {
          "output_type": "execute_result",
          "data": {
            "text/plain": [
              "3"
            ],
            "text/latex": "$\\displaystyle 3$"
          },
          "metadata": {},
          "execution_count": 41
        }
      ]
    },
    {
      "cell_type": "code",
      "source": [
        "A = np.array([[2, 1],\n",
        "              [1, 2]])\n",
        "A"
      ],
      "metadata": {
        "colab": {
          "base_uri": "https://localhost:8080/"
        },
        "id": "sv6tLZziUoIW",
        "outputId": "ef7cf2b2-8781-4c53-e798-7e07616f6029"
      },
      "execution_count": 42,
      "outputs": [
        {
          "output_type": "execute_result",
          "data": {
            "text/plain": [
              "array([[2, 1],\n",
              "       [1, 2]])"
            ]
          },
          "metadata": {},
          "execution_count": 42
        }
      ]
    },
    {
      "cell_type": "code",
      "source": [
        "np.linalg.det(A)"
      ],
      "metadata": {
        "colab": {
          "base_uri": "https://localhost:8080/"
        },
        "id": "E1mpUY3EVf21",
        "outputId": "901cfa8e-1816-45ed-aa84-c4081c01a7f5"
      },
      "execution_count": 43,
      "outputs": [
        {
          "output_type": "execute_result",
          "data": {
            "text/plain": [
              "2.9999999999999996"
            ]
          },
          "metadata": {},
          "execution_count": 43
        }
      ]
    },
    {
      "cell_type": "code",
      "source": [
        "# Find the vlaues of x so that A is not invertible\n",
        "x = sym.symbols('x')\n",
        "\n",
        "A = sym.Matrix([[1, x],\n",
        "                [x, x + 2]])\n",
        "A"
      ],
      "metadata": {
        "colab": {
          "base_uri": "https://localhost:8080/",
          "height": 58
        },
        "id": "iYLc_2WKVqju",
        "outputId": "d4bd4613-38d6-441c-91c5-c35081f3c0b0"
      },
      "execution_count": 44,
      "outputs": [
        {
          "output_type": "execute_result",
          "data": {
            "text/plain": [
              "Matrix([\n",
              "[1,     x],\n",
              "[x, x + 2]])"
            ],
            "text/latex": "$\\displaystyle \\left[\\begin{matrix}1 & x\\\\x & x + 2\\end{matrix}\\right]$"
          },
          "metadata": {},
          "execution_count": 44
        }
      ]
    },
    {
      "cell_type": "code",
      "source": [
        "A.det()"
      ],
      "metadata": {
        "colab": {
          "base_uri": "https://localhost:8080/",
          "height": 39
        },
        "id": "bJ_U2nKqWFsQ",
        "outputId": "aa2d300d-9e81-4c0e-e129-3fe90e464137"
      },
      "execution_count": 45,
      "outputs": [
        {
          "output_type": "execute_result",
          "data": {
            "text/plain": [
              "-x**2 + x + 2"
            ],
            "text/latex": "$\\displaystyle - x^{2} + x + 2$"
          },
          "metadata": {},
          "execution_count": 45
        }
      ]
    },
    {
      "cell_type": "code",
      "source": [
        "sym.solve(sym.Eq(A.det(), 0))"
      ],
      "metadata": {
        "colab": {
          "base_uri": "https://localhost:8080/"
        },
        "id": "CZmi4ZgiWHoh",
        "outputId": "f664689b-0614-4134-dd3d-b5911e271fe8"
      },
      "execution_count": 46,
      "outputs": [
        {
          "output_type": "execute_result",
          "data": {
            "text/plain": [
              "[-1, 2]"
            ]
          },
          "metadata": {},
          "execution_count": 46
        }
      ]
    }
  ]
}