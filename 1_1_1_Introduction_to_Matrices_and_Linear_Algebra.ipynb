{
  "nbformat": 4,
  "nbformat_minor": 0,
  "metadata": {
    "colab": {
      "provenance": [],
      "collapsed_sections": [],
      "toc_visible": true,
      "authorship_tag": "ABX9TyNbwFk0caTjumI/aBLgSNj9",
      "include_colab_link": true
    },
    "kernelspec": {
      "name": "python3",
      "display_name": "Python 3"
    },
    "language_info": {
      "name": "python"
    }
  },
  "cells": [
    {
      "cell_type": "markdown",
      "metadata": {
        "id": "view-in-github",
        "colab_type": "text"
      },
      "source": [
        "<a href=\"https://colab.research.google.com/github/PaulToronto/PaulToronto-Howard-University-Coursera-Linear_Algebra-For-Data-Science-Specialization/blob/main/1_1_1_Introduction_to_Matrices_and_Linear_Algebra.ipynb\" target=\"_parent\"><img src=\"https://colab.research.google.com/assets/colab-badge.svg\" alt=\"Open In Colab\"/></a>"
      ]
    },
    {
      "cell_type": "markdown",
      "source": [
        "# 1.1.1 Introduction to Matrices and Linear Algebra"
      ],
      "metadata": {
        "id": "Auo0E9BZa-aL"
      }
    },
    {
      "cell_type": "code",
      "source": [
        "import numpy as np\n",
        "import sympy as sp\n",
        "import random\n",
        "\n",
        "import matplotlib.pyplot as plt"
      ],
      "metadata": {
        "id": "C9xGZCXQTjup"
      },
      "execution_count": 1,
      "outputs": []
    },
    {
      "cell_type": "markdown",
      "source": [
        "## 1.1.1.1 How to Document Your Code"
      ],
      "metadata": {
        "id": "FP8UE6LhbUlJ"
      }
    },
    {
      "cell_type": "markdown",
      "source": [
        "### List Comprehension"
      ],
      "metadata": {
        "id": "kw3pqtwRb2Sk"
      }
    },
    {
      "cell_type": "code",
      "execution_count": 2,
      "metadata": {
        "colab": {
          "base_uri": "https://localhost:8080/"
        },
        "id": "jB4zx5BqZ10F",
        "outputId": "13a916f6-9728-496b-b50b-2781a28c73ba"
      },
      "outputs": [
        {
          "output_type": "execute_result",
          "data": {
            "text/plain": [
              "[0, 2, 4, 6, 8, 10, 12, 14, 16, 18, 20]"
            ]
          },
          "metadata": {},
          "execution_count": 2
        }
      ],
      "source": [
        "double = []\n",
        "\n",
        "for i in range(11):\n",
        "    double.append(i * 2)\n",
        "\n",
        "double"
      ]
    },
    {
      "cell_type": "code",
      "source": [
        "double_comprehension = [i * 2 for i in range(11)]\n",
        "double_comprehension"
      ],
      "metadata": {
        "colab": {
          "base_uri": "https://localhost:8080/"
        },
        "id": "NJRGZoAMcP-9",
        "outputId": "719ab3d9-b5e9-4006-dbd9-373ddeb8747b"
      },
      "execution_count": 3,
      "outputs": [
        {
          "output_type": "execute_result",
          "data": {
            "text/plain": [
              "[0, 2, 4, 6, 8, 10, 12, 14, 16, 18, 20]"
            ]
          },
          "metadata": {},
          "execution_count": 3
        }
      ]
    },
    {
      "cell_type": "markdown",
      "source": [
        "### Simplifying `if` Statements"
      ],
      "metadata": {
        "id": "SA1rGLntCRQl"
      }
    },
    {
      "cell_type": "code",
      "source": [
        "emp_names = ['John','Josh', 'Mia', 'Nia', 'David']"
      ],
      "metadata": {
        "id": "f_108mVnCcYK"
      },
      "execution_count": 4,
      "outputs": []
    },
    {
      "cell_type": "code",
      "source": [
        "name = 'John'\n",
        "\n",
        "if name == 'John' or name == 'Josh' or name == 'Mia' or name == 'Nia' or name == 'David':\n",
        "    print('Employee')\n",
        "else:\n",
        "    print('Not an employee')"
      ],
      "metadata": {
        "colab": {
          "base_uri": "https://localhost:8080/"
        },
        "id": "iHzxkGejC10l",
        "outputId": "d278d1e2-1b19-401c-873d-f5bd30ef45e3"
      },
      "execution_count": 5,
      "outputs": [
        {
          "output_type": "stream",
          "name": "stdout",
          "text": [
            "Employee\n"
          ]
        }
      ]
    },
    {
      "cell_type": "code",
      "source": [
        "if name in emp_names:\n",
        "    print('Employee')\n",
        "else:\n",
        "    print('Not an employee')"
      ],
      "metadata": {
        "colab": {
          "base_uri": "https://localhost:8080/"
        },
        "id": "BgAW_qX4DRvS",
        "outputId": "bc98c3d4-9be8-47e4-e245-ce03e111e8bd"
      },
      "execution_count": 6,
      "outputs": [
        {
          "output_type": "stream",
          "name": "stdout",
          "text": [
            "Employee\n"
          ]
        }
      ]
    },
    {
      "cell_type": "markdown",
      "source": [
        "### Using Enumerate"
      ],
      "metadata": {
        "id": "JtldzaPrDm3O"
      }
    },
    {
      "cell_type": "code",
      "source": [
        "my_list = [2, -3, 10, 11, -7]"
      ],
      "metadata": {
        "id": "Y4gRdK49DqOV"
      },
      "execution_count": 7,
      "outputs": []
    },
    {
      "cell_type": "code",
      "source": [
        "for i in range(len(my_list)):\n",
        "    if my_list[i] < 0:\n",
        "        my_list[i] = 0\n",
        "\n",
        "print(my_list)"
      ],
      "metadata": {
        "colab": {
          "base_uri": "https://localhost:8080/"
        },
        "id": "HvO0JkQ2Er8A",
        "outputId": "a276d91a-87fe-4b50-dd6d-bac746394b5b"
      },
      "execution_count": 8,
      "outputs": [
        {
          "output_type": "stream",
          "name": "stdout",
          "text": [
            "[2, 0, 10, 11, 0]\n"
          ]
        }
      ]
    },
    {
      "cell_type": "code",
      "source": [
        "my_list = [2, -3, 10, 11, -7]"
      ],
      "metadata": {
        "id": "XZFoempzFIvV"
      },
      "execution_count": 9,
      "outputs": []
    },
    {
      "cell_type": "code",
      "source": [
        "for i, element in enumerate(my_list):\n",
        "    if element < 0:\n",
        "        my_list[i] = 0\n",
        "\n",
        "print(my_list)"
      ],
      "metadata": {
        "colab": {
          "base_uri": "https://localhost:8080/"
        },
        "id": "SUZvSCEsFMFr",
        "outputId": "b3bb2f4a-50da-4628-fe35-57966829f884"
      },
      "execution_count": 10,
      "outputs": [
        {
          "output_type": "stream",
          "name": "stdout",
          "text": [
            "[2, 0, 10, 11, 0]\n"
          ]
        }
      ]
    },
    {
      "cell_type": "markdown",
      "source": [
        "### Saving Memory with a Generator\n",
        "\n",
        "- memory is measured with `sys.getsizeof()`"
      ],
      "metadata": {
        "id": "vYUU4t_WF8E7"
      }
    },
    {
      "cell_type": "code",
      "source": [
        "import sys"
      ],
      "metadata": {
        "id": "x8jTs-45JVh5"
      },
      "execution_count": 11,
      "outputs": []
    },
    {
      "cell_type": "code",
      "source": [
        "a_list = [i**2 for i in range(100000)]\n",
        "type(a_list)"
      ],
      "metadata": {
        "colab": {
          "base_uri": "https://localhost:8080/"
        },
        "id": "e7gaw-ulGBOs",
        "outputId": "75b160c5-6d6d-4abd-b05a-f50e31cb9be1"
      },
      "execution_count": 12,
      "outputs": [
        {
          "output_type": "execute_result",
          "data": {
            "text/plain": [
              "list"
            ]
          },
          "metadata": {},
          "execution_count": 12
        }
      ]
    },
    {
      "cell_type": "code",
      "source": [
        "sys.getsizeof(a_list, 'bytes')"
      ],
      "metadata": {
        "colab": {
          "base_uri": "https://localhost:8080/"
        },
        "id": "TT75BqCqJdvA",
        "outputId": "57ed64e2-1a57-4bc6-eacb-f37df80aff94"
      },
      "execution_count": 13,
      "outputs": [
        {
          "output_type": "execute_result",
          "data": {
            "text/plain": [
              "824472"
            ]
          },
          "metadata": {},
          "execution_count": 13
        }
      ]
    },
    {
      "cell_type": "code",
      "source": [
        "a_gen = (i**2 for i in range(100000))\n",
        "type(a_gen)"
      ],
      "metadata": {
        "colab": {
          "base_uri": "https://localhost:8080/"
        },
        "id": "M0ziUC4iIdMP",
        "outputId": "39a8d962-b4c8-41b4-8eb2-288bb93a4c23"
      },
      "execution_count": 14,
      "outputs": [
        {
          "output_type": "execute_result",
          "data": {
            "text/plain": [
              "generator"
            ]
          },
          "metadata": {},
          "execution_count": 14
        }
      ]
    },
    {
      "cell_type": "code",
      "source": [
        "a_gen"
      ],
      "metadata": {
        "colab": {
          "base_uri": "https://localhost:8080/"
        },
        "id": "et2IOYMYIzw6",
        "outputId": "d7a2b3cb-7b79-48e6-a034-26bba3b898d8"
      },
      "execution_count": 15,
      "outputs": [
        {
          "output_type": "execute_result",
          "data": {
            "text/plain": [
              "<generator object <genexpr> at 0x7f4aec21bb50>"
            ]
          },
          "metadata": {},
          "execution_count": 15
        }
      ]
    },
    {
      "cell_type": "code",
      "source": [
        "sys.getsizeof(a_gen, 'bytes')"
      ],
      "metadata": {
        "colab": {
          "base_uri": "https://localhost:8080/"
        },
        "id": "RVi_tMnlJpvo",
        "outputId": "83d9e722-aa52-439d-a907-ad812ab1f1ca"
      },
      "execution_count": 16,
      "outputs": [
        {
          "output_type": "execute_result",
          "data": {
            "text/plain": [
              "128"
            ]
          },
          "metadata": {},
          "execution_count": 16
        }
      ]
    },
    {
      "cell_type": "code",
      "source": [
        "sum(a_gen) == sum(a_list)"
      ],
      "metadata": {
        "colab": {
          "base_uri": "https://localhost:8080/"
        },
        "id": "cL61frENLRvF",
        "outputId": "a8fd0eec-d3fb-4226-cf4f-7e6b8eedaa57"
      },
      "execution_count": 17,
      "outputs": [
        {
          "output_type": "execute_result",
          "data": {
            "text/plain": [
              "True"
            ]
          },
          "metadata": {},
          "execution_count": 17
        }
      ]
    },
    {
      "cell_type": "markdown",
      "source": [
        "## 1.1.1.2 Python Resources"
      ],
      "metadata": {
        "id": "pKZEbryGM0aq"
      }
    },
    {
      "cell_type": "markdown",
      "source": [
        "- [Pandas DataFrame](https://pandas.pydata.org/pandas-docs/stable/user_guide/index.html)\n",
        "- [NumPy](https://numpy.org/doc/stable/user/whatisnumpy.html)\n",
        "    - [Numpy.Matrix](https://numpy.org/doc/stable/user/absolute_beginners.html)\n",
        "    - [Numpy.Matmul](https://numpy.org/doc/stable/reference/generated/numpy.matmul.html)\n",
        "- [SymPy Matrices](https://docs.sympy.org/latest/tutorials/intro-tutorial/matrices.html)\n",
        "- [SymPy Matrices (linear algebra)](https://docs.sympy.org/latest/modules/matrices/matrices.html)\n",
        "- [matplotlib](https://matplotlib.org/stable/tutorials/index.html)\n",
        "- [pyplot](https://matplotlib.org/stable/tutorials/introductory/pyplot.html)\n",
        "- [seaborn](https://seaborn.pydata.org/tutorial.html)\n",
        "- [seaborn styling](https://www.codecademy.com/article/seaborn-design-ii)\n"
      ],
      "metadata": {
        "id": "6uhfkrrMM93N"
      }
    },
    {
      "cell_type": "markdown",
      "source": [
        "## 1.1.1.3 Introduction to Matrices"
      ],
      "metadata": {
        "id": "m2KRDdchOvzw"
      }
    },
    {
      "cell_type": "markdown",
      "source": [
        "### Definitions\n",
        "\n",
        "A **matrix** is a rectangular array of numbers. The numbers of the matrix are called **entries**\n",
        "\n",
        "A matrix is sometimes denoted by $A = \\left(a_{ij}\\right)$, where $a_{ij}$ is the entry in the $i^{th}$ row and the $j^{th}$ column of matrix $A$. \n",
        "\n",
        "The **dimension** or **size** of a matrix is the number of rows of the matrix by the number of columns. If $A = \\left(a_{ij}\\right)$, its size is $2 \\times 3$. \n",
        "\n",
        "A matrix that has the same number of rows as columns is called a **square matrix**. \n",
        "\n",
        "A matrix with a single column ($i \\times 1$) is called **column matrix** or a **column vector**. \n",
        "\n",
        "Let $A$ be an $m \\times n$ matrix. Then the **transpose** of $A$, denoted by $A^{T}$, is the $n \\times m$ matrix whose columns are formed by the rows of $A$. \n",
        "\n",
        "$A = \n",
        "\\left[\n",
        "\\begin{matrix}\n",
        "a & b & c \\\\\n",
        "d & e & f \n",
        "\\end{matrix}\n",
        "\\right]\n",
        "$\n",
        "<br><br>\n",
        "$\n",
        "A^{T} = \n",
        "\\left[\n",
        "\\begin{matrix}\n",
        "a & d \\\\\n",
        "b & e \\\\\n",
        "c & f \n",
        "\\end{matrix}\n",
        "\\right]\n",
        "$ "
      ],
      "metadata": {
        "id": "qmg-6x0uPODs"
      }
    },
    {
      "cell_type": "markdown",
      "source": [
        "## 1.1.1.4 Introduction to Matrices in Python Using NumPy and SymPy"
      ],
      "metadata": {
        "id": "fcDlj-IXYC4g"
      }
    },
    {
      "cell_type": "code",
      "source": [
        "M = np.array([[1, 2, 3],\n",
        "              [4, 5, 6],\n",
        "              [7, 8, 9]])\n",
        "\n",
        "M"
      ],
      "metadata": {
        "colab": {
          "base_uri": "https://localhost:8080/"
        },
        "id": "D-Ie5tJjZQhk",
        "outputId": "eac90da8-edd9-4830-de13-799e66214f45"
      },
      "execution_count": 18,
      "outputs": [
        {
          "output_type": "execute_result",
          "data": {
            "text/plain": [
              "array([[1, 2, 3],\n",
              "       [4, 5, 6],\n",
              "       [7, 8, 9]])"
            ]
          },
          "metadata": {},
          "execution_count": 18
        }
      ]
    },
    {
      "cell_type": "code",
      "source": [
        "M = sp.Matrix([[1, 2, 3],\n",
        "               [4, 5, 6],\n",
        "               [7, 8, 9]])\n",
        "M"
      ],
      "metadata": {
        "colab": {
          "base_uri": "https://localhost:8080/",
          "height": 78
        },
        "id": "wq7h12jemr7z",
        "outputId": "79a45455-4a72-456f-b068-3a64294db1e9"
      },
      "execution_count": 19,
      "outputs": [
        {
          "output_type": "execute_result",
          "data": {
            "text/plain": [
              "Matrix([\n",
              "[1, 2, 3],\n",
              "[4, 5, 6],\n",
              "[7, 8, 9]])"
            ],
            "text/latex": "$\\displaystyle \\left[\\begin{matrix}1 & 2 & 3\\\\4 & 5 & 6\\\\7 & 8 & 9\\end{matrix}\\right]$"
          },
          "metadata": {},
          "execution_count": 19
        }
      ]
    },
    {
      "cell_type": "markdown",
      "source": [
        "##### Detour: `np.random.randint()`"
      ],
      "metadata": {
        "id": "AIjbTxO6m8iK"
      }
    },
    {
      "cell_type": "code",
      "source": [
        "# np.random.randint(low, high=None, size=None, dtype=int)\n",
        "# returns an integer in the range: [low, high)\n",
        "# if high=None, the default, then it returns an integer in the range\n",
        "#   [0, low)\n",
        "\n",
        "def make_random_dict(low, high=None):\n",
        "    my_dict = dict()\n",
        "    for i in range(1000):\n",
        "        key = np.random.randint(low, high)\n",
        "        if key in my_dict.keys():\n",
        "            my_dict[key] += 1\n",
        "        else: \n",
        "            my_dict[key] = 1\n",
        "    return my_dict"
      ],
      "metadata": {
        "id": "HUykciCQZ0MO"
      },
      "execution_count": 20,
      "outputs": []
    },
    {
      "cell_type": "code",
      "source": [
        "make_random_dict(3)"
      ],
      "metadata": {
        "colab": {
          "base_uri": "https://localhost:8080/"
        },
        "id": "6itHO9O5bBvv",
        "outputId": "7950b021-c079-40a0-ff2a-5622090d00d2"
      },
      "execution_count": 21,
      "outputs": [
        {
          "output_type": "execute_result",
          "data": {
            "text/plain": [
              "{2: 337, 0: 323, 1: 340}"
            ]
          },
          "metadata": {},
          "execution_count": 21
        }
      ]
    },
    {
      "cell_type": "code",
      "source": [
        "make_random_dict(10, 15)"
      ],
      "metadata": {
        "colab": {
          "base_uri": "https://localhost:8080/"
        },
        "id": "-b2SCUaDcIu3",
        "outputId": "c82de47e-b573-4ecc-e22b-1abe30462bf4"
      },
      "execution_count": 22,
      "outputs": [
        {
          "output_type": "execute_result",
          "data": {
            "text/plain": [
              "{13: 193, 12: 182, 14: 220, 11: 198, 10: 207}"
            ]
          },
          "metadata": {},
          "execution_count": 22
        }
      ]
    },
    {
      "cell_type": "code",
      "source": [
        "make_random_dict(-2, 3)"
      ],
      "metadata": {
        "colab": {
          "base_uri": "https://localhost:8080/"
        },
        "id": "9aaJWG5ncxmZ",
        "outputId": "113a14c8-2406-4f64-a26b-2f52188057cf"
      },
      "execution_count": 23,
      "outputs": [
        {
          "output_type": "execute_result",
          "data": {
            "text/plain": [
              "{1: 193, 2: 191, -1: 213, -2: 218, 0: 185}"
            ]
          },
          "metadata": {},
          "execution_count": 23
        }
      ]
    },
    {
      "cell_type": "markdown",
      "source": [
        "### A Matrix of Random Integers"
      ],
      "metadata": {
        "id": "lQNeAJKpcel-"
      }
    },
    {
      "cell_type": "code",
      "source": [
        "N = np.random.randint(-2, 3, size=(2, 2))\n",
        "N"
      ],
      "metadata": {
        "colab": {
          "base_uri": "https://localhost:8080/"
        },
        "id": "Km99vG7HcomF",
        "outputId": "6943383e-c73a-4ea9-bead-ed377b0cdf42"
      },
      "execution_count": 24,
      "outputs": [
        {
          "output_type": "execute_result",
          "data": {
            "text/plain": [
              "array([[-1,  2],\n",
              "       [ 0,  1]])"
            ]
          },
          "metadata": {},
          "execution_count": 24
        }
      ]
    },
    {
      "cell_type": "code",
      "source": [
        "N = sp.Matrix(N)\n",
        "N"
      ],
      "metadata": {
        "colab": {
          "base_uri": "https://localhost:8080/",
          "height": 58
        },
        "id": "NxZp2Uvdn6wm",
        "outputId": "b89faaa3-8119-4536-bb58-57c13c337561"
      },
      "execution_count": 25,
      "outputs": [
        {
          "output_type": "execute_result",
          "data": {
            "text/plain": [
              "Matrix([\n",
              "[-1, 2],\n",
              "[ 0, 1]])"
            ],
            "text/latex": "$\\displaystyle \\left[\\begin{matrix}-1 & 2\\\\0 & 1\\end{matrix}\\right]$"
          },
          "metadata": {},
          "execution_count": 25
        }
      ]
    },
    {
      "cell_type": "code",
      "source": [
        "A = np.random.randint(-2, 3, size=(4,1))\n",
        "A"
      ],
      "metadata": {
        "colab": {
          "base_uri": "https://localhost:8080/"
        },
        "id": "pERR2uhmdJ83",
        "outputId": "d63f6ee2-f07f-43dd-894b-20bb169b8884"
      },
      "execution_count": 26,
      "outputs": [
        {
          "output_type": "execute_result",
          "data": {
            "text/plain": [
              "array([[2],\n",
              "       [1],\n",
              "       [0],\n",
              "       [0]])"
            ]
          },
          "metadata": {},
          "execution_count": 26
        }
      ]
    },
    {
      "cell_type": "code",
      "source": [
        "A.shape"
      ],
      "metadata": {
        "colab": {
          "base_uri": "https://localhost:8080/"
        },
        "id": "MU_xVciUoY8o",
        "outputId": "3b117672-36f9-4833-941e-af1d2b35da78"
      },
      "execution_count": 27,
      "outputs": [
        {
          "output_type": "execute_result",
          "data": {
            "text/plain": [
              "(4, 1)"
            ]
          },
          "metadata": {},
          "execution_count": 27
        }
      ]
    },
    {
      "cell_type": "code",
      "source": [
        "A = sp.Matrix(A)\n",
        "A"
      ],
      "metadata": {
        "colab": {
          "base_uri": "https://localhost:8080/",
          "height": 99
        },
        "id": "Qh7kwrTzoT0a",
        "outputId": "66d68ab7-3829-4cec-da80-c4006fdb4290"
      },
      "execution_count": 28,
      "outputs": [
        {
          "output_type": "execute_result",
          "data": {
            "text/plain": [
              "Matrix([\n",
              "[2],\n",
              "[1],\n",
              "[0],\n",
              "[0]])"
            ],
            "text/latex": "$\\displaystyle \\left[\\begin{matrix}2\\\\1\\\\0\\\\0\\end{matrix}\\right]$"
          },
          "metadata": {},
          "execution_count": 28
        }
      ]
    },
    {
      "cell_type": "code",
      "source": [
        "A.shape"
      ],
      "metadata": {
        "colab": {
          "base_uri": "https://localhost:8080/"
        },
        "id": "AIRwkjqqdxeL",
        "outputId": "0776e23f-b625-4427-ffcb-eb4c8f156621"
      },
      "execution_count": 29,
      "outputs": [
        {
          "output_type": "execute_result",
          "data": {
            "text/plain": [
              "(4, 1)"
            ]
          },
          "metadata": {},
          "execution_count": 29
        }
      ]
    },
    {
      "cell_type": "code",
      "source": [
        "B = np.random.randint(-2, 3, size=(1, 4))\n",
        "B"
      ],
      "metadata": {
        "colab": {
          "base_uri": "https://localhost:8080/"
        },
        "id": "3QBc2zVRdZVy",
        "outputId": "7cc081aa-6c3f-469c-f030-61dbb0e296e3"
      },
      "execution_count": 30,
      "outputs": [
        {
          "output_type": "execute_result",
          "data": {
            "text/plain": [
              "array([[-2,  2,  0,  1]])"
            ]
          },
          "metadata": {},
          "execution_count": 30
        }
      ]
    },
    {
      "cell_type": "code",
      "source": [
        "B.shape"
      ],
      "metadata": {
        "colab": {
          "base_uri": "https://localhost:8080/"
        },
        "id": "TN11V_MFolkr",
        "outputId": "e21a96a4-6940-4833-da2f-cad13fd64611"
      },
      "execution_count": 31,
      "outputs": [
        {
          "output_type": "execute_result",
          "data": {
            "text/plain": [
              "(1, 4)"
            ]
          },
          "metadata": {},
          "execution_count": 31
        }
      ]
    },
    {
      "cell_type": "code",
      "source": [
        "B = sp.Matrix(B)\n",
        "B"
      ],
      "metadata": {
        "colab": {
          "base_uri": "https://localhost:8080/",
          "height": 39
        },
        "id": "JIhkbjdPogyD",
        "outputId": "a34d1219-f5ff-4739-fa0d-3d5682271e69"
      },
      "execution_count": 32,
      "outputs": [
        {
          "output_type": "execute_result",
          "data": {
            "text/plain": [
              "Matrix([[-2, 2, 0, 1]])"
            ],
            "text/latex": "$\\displaystyle \\left[\\begin{matrix}-2 & 2 & 0 & 1\\end{matrix}\\right]$"
          },
          "metadata": {},
          "execution_count": 32
        }
      ]
    },
    {
      "cell_type": "code",
      "source": [
        "B.shape"
      ],
      "metadata": {
        "colab": {
          "base_uri": "https://localhost:8080/"
        },
        "id": "RmQcvPyQon3t",
        "outputId": "3219e2e3-a9af-4e0d-d467-280f544b112b"
      },
      "execution_count": 33,
      "outputs": [
        {
          "output_type": "execute_result",
          "data": {
            "text/plain": [
              "(1, 4)"
            ]
          },
          "metadata": {},
          "execution_count": 33
        }
      ]
    },
    {
      "cell_type": "code",
      "source": [
        "C = np.random.randint(-2, 3, size=4)\n",
        "C"
      ],
      "metadata": {
        "colab": {
          "base_uri": "https://localhost:8080/"
        },
        "id": "z_fYde_Odezq",
        "outputId": "076cce59-66ba-49d0-8446-01a2b565c3cc"
      },
      "execution_count": 34,
      "outputs": [
        {
          "output_type": "execute_result",
          "data": {
            "text/plain": [
              "array([ 2, -1, -1,  0])"
            ]
          },
          "metadata": {},
          "execution_count": 34
        }
      ]
    },
    {
      "cell_type": "code",
      "source": [
        "C.shape"
      ],
      "metadata": {
        "colab": {
          "base_uri": "https://localhost:8080/"
        },
        "id": "PTooBFvkotB6",
        "outputId": "f96629ec-b29d-423e-901d-43986aa4f15b"
      },
      "execution_count": 35,
      "outputs": [
        {
          "output_type": "execute_result",
          "data": {
            "text/plain": [
              "(4,)"
            ]
          },
          "metadata": {},
          "execution_count": 35
        }
      ]
    },
    {
      "cell_type": "code",
      "source": [
        "C = sp.Matrix(C)\n",
        "C"
      ],
      "metadata": {
        "colab": {
          "base_uri": "https://localhost:8080/",
          "height": 99
        },
        "id": "cPi0rvR4ovYT",
        "outputId": "54e22719-3e62-465c-cb9f-022694316c26"
      },
      "execution_count": 36,
      "outputs": [
        {
          "output_type": "execute_result",
          "data": {
            "text/plain": [
              "Matrix([\n",
              "[ 2],\n",
              "[-1],\n",
              "[-1],\n",
              "[ 0]])"
            ],
            "text/latex": "$\\displaystyle \\left[\\begin{matrix}2\\\\-1\\\\-1\\\\0\\end{matrix}\\right]$"
          },
          "metadata": {},
          "execution_count": 36
        }
      ]
    },
    {
      "cell_type": "code",
      "source": [
        "C.shape"
      ],
      "metadata": {
        "colab": {
          "base_uri": "https://localhost:8080/"
        },
        "id": "RPRZhvBno1QP",
        "outputId": "d66c5759-768f-45a3-cbaa-b69fc3e0131c"
      },
      "execution_count": 37,
      "outputs": [
        {
          "output_type": "execute_result",
          "data": {
            "text/plain": [
              "(4, 1)"
            ]
          },
          "metadata": {},
          "execution_count": 37
        }
      ]
    },
    {
      "cell_type": "markdown",
      "source": [
        "### Special Matrices"
      ],
      "metadata": {
        "id": "JM2JKS79eZeQ"
      }
    },
    {
      "cell_type": "markdown",
      "source": [
        "#### Identity Matrix"
      ],
      "metadata": {
        "id": "jVHMD7biedOQ"
      }
    },
    {
      "cell_type": "code",
      "source": [
        "I = np.eye(3)\n",
        "I"
      ],
      "metadata": {
        "colab": {
          "base_uri": "https://localhost:8080/"
        },
        "id": "799vv20Ae6gL",
        "outputId": "74155f32-418d-4bb6-8b5b-1cf8aea1ead6"
      },
      "execution_count": 38,
      "outputs": [
        {
          "output_type": "execute_result",
          "data": {
            "text/plain": [
              "array([[1., 0., 0.],\n",
              "       [0., 1., 0.],\n",
              "       [0., 0., 1.]])"
            ]
          },
          "metadata": {},
          "execution_count": 38
        }
      ]
    },
    {
      "cell_type": "code",
      "source": [
        "I = sp.eye(3)\n",
        "I"
      ],
      "metadata": {
        "colab": {
          "base_uri": "https://localhost:8080/",
          "height": 78
        },
        "id": "jKSZZtSXpbl_",
        "outputId": "7c3b633d-f0fe-4eb7-9610-116fbb10fa96"
      },
      "execution_count": 39,
      "outputs": [
        {
          "output_type": "execute_result",
          "data": {
            "text/plain": [
              "Matrix([\n",
              "[1, 0, 0],\n",
              "[0, 1, 0],\n",
              "[0, 0, 1]])"
            ],
            "text/latex": "$\\displaystyle \\left[\\begin{matrix}1 & 0 & 0\\\\0 & 1 & 0\\\\0 & 0 & 1\\end{matrix}\\right]$"
          },
          "metadata": {},
          "execution_count": 39
        }
      ]
    },
    {
      "cell_type": "code",
      "source": [
        "I = np.eye(3, 4)\n",
        "I"
      ],
      "metadata": {
        "colab": {
          "base_uri": "https://localhost:8080/"
        },
        "id": "48FKR3WBfCVo",
        "outputId": "6f3db217-4dfd-4625-ee7a-6484fbf7935d"
      },
      "execution_count": 40,
      "outputs": [
        {
          "output_type": "execute_result",
          "data": {
            "text/plain": [
              "array([[1., 0., 0., 0.],\n",
              "       [0., 1., 0., 0.],\n",
              "       [0., 0., 1., 0.]])"
            ]
          },
          "metadata": {},
          "execution_count": 40
        }
      ]
    },
    {
      "cell_type": "code",
      "source": [
        "I = sp.eye(3, 4)\n",
        "I"
      ],
      "metadata": {
        "colab": {
          "base_uri": "https://localhost:8080/",
          "height": 78
        },
        "id": "rUVbzKjqpguJ",
        "outputId": "df956002-ae1c-48bb-fa52-a08028eb766c"
      },
      "execution_count": 41,
      "outputs": [
        {
          "output_type": "execute_result",
          "data": {
            "text/plain": [
              "Matrix([\n",
              "[1, 0, 0, 0],\n",
              "[0, 1, 0, 0],\n",
              "[0, 0, 1, 0]])"
            ],
            "text/latex": "$\\displaystyle \\left[\\begin{matrix}1 & 0 & 0 & 0\\\\0 & 1 & 0 & 0\\\\0 & 0 & 1 & 0\\end{matrix}\\right]$"
          },
          "metadata": {},
          "execution_count": 41
        }
      ]
    },
    {
      "cell_type": "markdown",
      "source": [
        "#### Zeros Matrix\n",
        "\n",
        "- unlike `np.eye`, the argument is a tuple"
      ],
      "metadata": {
        "id": "Qwx_0gSZi11D"
      }
    },
    {
      "cell_type": "code",
      "source": [
        "Z = np.zeros(3)\n",
        "Z"
      ],
      "metadata": {
        "colab": {
          "base_uri": "https://localhost:8080/"
        },
        "id": "NvfHjY7qi4ND",
        "outputId": "40ac49da-2336-4af8-e758-b0acfaa5b932"
      },
      "execution_count": 42,
      "outputs": [
        {
          "output_type": "execute_result",
          "data": {
            "text/plain": [
              "array([0., 0., 0.])"
            ]
          },
          "metadata": {},
          "execution_count": 42
        }
      ]
    },
    {
      "cell_type": "code",
      "source": [
        "Z = sp.zeros(3)\n",
        "Z"
      ],
      "metadata": {
        "colab": {
          "base_uri": "https://localhost:8080/",
          "height": 78
        },
        "id": "xvsZmCDTqJQE",
        "outputId": "bcd5d198-fcae-41f2-a249-42de2e064852"
      },
      "execution_count": 43,
      "outputs": [
        {
          "output_type": "execute_result",
          "data": {
            "text/plain": [
              "Matrix([\n",
              "[0, 0, 0],\n",
              "[0, 0, 0],\n",
              "[0, 0, 0]])"
            ],
            "text/latex": "$\\displaystyle \\left[\\begin{matrix}0 & 0 & 0\\\\0 & 0 & 0\\\\0 & 0 & 0\\end{matrix}\\right]$"
          },
          "metadata": {},
          "execution_count": 43
        }
      ]
    },
    {
      "cell_type": "code",
      "source": [
        "Z = np.zeros((2, 3))\n",
        "Z"
      ],
      "metadata": {
        "colab": {
          "base_uri": "https://localhost:8080/"
        },
        "id": "Y4of91PRjHA4",
        "outputId": "422f50fb-3e56-4f1a-b2a2-08422563286a"
      },
      "execution_count": 44,
      "outputs": [
        {
          "output_type": "execute_result",
          "data": {
            "text/plain": [
              "array([[0., 0., 0.],\n",
              "       [0., 0., 0.]])"
            ]
          },
          "metadata": {},
          "execution_count": 44
        }
      ]
    },
    {
      "cell_type": "code",
      "source": [
        "Z = sp.zeros(2, 3)\n",
        "Z"
      ],
      "metadata": {
        "colab": {
          "base_uri": "https://localhost:8080/",
          "height": 58
        },
        "id": "D1D0Pf_LqM_O",
        "outputId": "652c242e-feca-4383-d4b7-b1a368adcd2e"
      },
      "execution_count": 45,
      "outputs": [
        {
          "output_type": "execute_result",
          "data": {
            "text/plain": [
              "Matrix([\n",
              "[0, 0, 0],\n",
              "[0, 0, 0]])"
            ],
            "text/latex": "$\\displaystyle \\left[\\begin{matrix}0 & 0 & 0\\\\0 & 0 & 0\\end{matrix}\\right]$"
          },
          "metadata": {},
          "execution_count": 45
        }
      ]
    },
    {
      "cell_type": "markdown",
      "source": [
        "#### Ones Matrix"
      ],
      "metadata": {
        "id": "ZceIX-gqjn4r"
      }
    },
    {
      "cell_type": "code",
      "source": [
        "O = np.ones(3)\n",
        "O"
      ],
      "metadata": {
        "colab": {
          "base_uri": "https://localhost:8080/"
        },
        "id": "MkNy-WBUjlba",
        "outputId": "5f9b7139-8579-45f0-f2ef-843d4890c0f2"
      },
      "execution_count": 46,
      "outputs": [
        {
          "output_type": "execute_result",
          "data": {
            "text/plain": [
              "array([1., 1., 1.])"
            ]
          },
          "metadata": {},
          "execution_count": 46
        }
      ]
    },
    {
      "cell_type": "code",
      "source": [
        "O = sp.ones(3)\n",
        "O"
      ],
      "metadata": {
        "colab": {
          "base_uri": "https://localhost:8080/",
          "height": 78
        },
        "id": "F20nzAseqt6B",
        "outputId": "fa1373d1-664e-402a-f1f5-30807871e375"
      },
      "execution_count": 47,
      "outputs": [
        {
          "output_type": "execute_result",
          "data": {
            "text/plain": [
              "Matrix([\n",
              "[1, 1, 1],\n",
              "[1, 1, 1],\n",
              "[1, 1, 1]])"
            ],
            "text/latex": "$\\displaystyle \\left[\\begin{matrix}1 & 1 & 1\\\\1 & 1 & 1\\\\1 & 1 & 1\\end{matrix}\\right]$"
          },
          "metadata": {},
          "execution_count": 47
        }
      ]
    },
    {
      "cell_type": "code",
      "source": [
        "O = np.ones((3, 2))\n",
        "O"
      ],
      "metadata": {
        "colab": {
          "base_uri": "https://localhost:8080/"
        },
        "id": "f9RC1ypcjxDq",
        "outputId": "cf048a5a-af72-4c1d-9f3b-f99a973084ed"
      },
      "execution_count": 48,
      "outputs": [
        {
          "output_type": "execute_result",
          "data": {
            "text/plain": [
              "array([[1., 1.],\n",
              "       [1., 1.],\n",
              "       [1., 1.]])"
            ]
          },
          "metadata": {},
          "execution_count": 48
        }
      ]
    },
    {
      "cell_type": "code",
      "source": [
        "O = sp.ones(3, 2)\n",
        "O"
      ],
      "metadata": {
        "colab": {
          "base_uri": "https://localhost:8080/",
          "height": 78
        },
        "id": "ZBNCCJGUqxqG",
        "outputId": "00ec18fd-e515-43ae-9acf-5c0973f9a02d"
      },
      "execution_count": 49,
      "outputs": [
        {
          "output_type": "execute_result",
          "data": {
            "text/plain": [
              "Matrix([\n",
              "[1, 1],\n",
              "[1, 1],\n",
              "[1, 1]])"
            ],
            "text/latex": "$\\displaystyle \\left[\\begin{matrix}1 & 1\\\\1 & 1\\\\1 & 1\\end{matrix}\\right]$"
          },
          "metadata": {},
          "execution_count": 49
        }
      ]
    },
    {
      "cell_type": "markdown",
      "source": [
        "#### Diagonal Matrix"
      ],
      "metadata": {
        "id": "OWG7RxarkBS4"
      }
    },
    {
      "cell_type": "code",
      "source": [
        "D = np.diag([1, 2, 3])\n",
        "D"
      ],
      "metadata": {
        "colab": {
          "base_uri": "https://localhost:8080/"
        },
        "id": "bFe0AssykEFx",
        "outputId": "da67a0ac-3dc8-436a-b0a6-e388abcb2db7"
      },
      "execution_count": 50,
      "outputs": [
        {
          "output_type": "execute_result",
          "data": {
            "text/plain": [
              "array([[1, 0, 0],\n",
              "       [0, 2, 0],\n",
              "       [0, 0, 3]])"
            ]
          },
          "metadata": {},
          "execution_count": 50
        }
      ]
    },
    {
      "cell_type": "code",
      "source": [
        "D = sp.diag(1, 2, 3)\n",
        "D"
      ],
      "metadata": {
        "colab": {
          "base_uri": "https://localhost:8080/",
          "height": 78
        },
        "id": "zKJB0ephq9xq",
        "outputId": "d1f0a15a-02c6-4211-ea99-a8362f716d62"
      },
      "execution_count": 51,
      "outputs": [
        {
          "output_type": "execute_result",
          "data": {
            "text/plain": [
              "Matrix([\n",
              "[1, 0, 0],\n",
              "[0, 2, 0],\n",
              "[0, 0, 3]])"
            ],
            "text/latex": "$\\displaystyle \\left[\\begin{matrix}1 & 0 & 0\\\\0 & 2 & 0\\\\0 & 0 & 3\\end{matrix}\\right]$"
          },
          "metadata": {},
          "execution_count": 51
        }
      ]
    },
    {
      "cell_type": "markdown",
      "source": [
        "##### `np.diag(M)` when applied to a Matrix"
      ],
      "metadata": {
        "id": "Hygs-g5HlPUn"
      }
    },
    {
      "cell_type": "code",
      "source": [
        "M = np.array([[1, 2, 3],\n",
        "              [4, 5, 6],\n",
        "              [7, 8, 9]])\n",
        "\n",
        "M"
      ],
      "metadata": {
        "colab": {
          "base_uri": "https://localhost:8080/"
        },
        "id": "UShDJrbclsVQ",
        "outputId": "95f41e2d-0154-4d64-d323-b0e4471c49d0"
      },
      "execution_count": 52,
      "outputs": [
        {
          "output_type": "execute_result",
          "data": {
            "text/plain": [
              "array([[1, 2, 3],\n",
              "       [4, 5, 6],\n",
              "       [7, 8, 9]])"
            ]
          },
          "metadata": {},
          "execution_count": 52
        }
      ]
    },
    {
      "cell_type": "code",
      "source": [
        "C = np.diag(M)\n",
        "C"
      ],
      "metadata": {
        "colab": {
          "base_uri": "https://localhost:8080/"
        },
        "id": "kKkp2Q48lING",
        "outputId": "c694a88c-bc1f-4678-be0e-ef90b1f05cc3"
      },
      "execution_count": 53,
      "outputs": [
        {
          "output_type": "execute_result",
          "data": {
            "text/plain": [
              "array([1, 5, 9])"
            ]
          },
          "metadata": {},
          "execution_count": 53
        }
      ]
    },
    {
      "cell_type": "markdown",
      "source": [
        "## 1.1.1.5 How is Linear Algebra Used to Solve Problems? "
      ],
      "metadata": {
        "id": "9-H9AaPLr0qj"
      }
    },
    {
      "cell_type": "markdown",
      "source": [
        "### Definition of Linear Algebra\n",
        "\n",
        "The study of systems of linear equations.\n",
        "\n",
        "A **system of linear equations** is a set, or collection of linear equations."
      ],
      "metadata": {
        "id": "f8OOe9UCs0H7"
      }
    },
    {
      "cell_type": "markdown",
      "source": [
        "#### Example\n",
        "\n",
        "A set of two linear equations in the plane is an example of a system of linear equations.\n",
        "\n",
        "There are two possibilities for these two lines:\n",
        "\n",
        "1. The lines intersect at exactly one point\n",
        "    - One solution\n",
        "2. The lines are parallel\n",
        "    - No solutions\n",
        "3. The lines are coincide\n",
        "    - Infinitely many solutions"
      ],
      "metadata": {
        "id": "nNw5E3YfxXop"
      }
    },
    {
      "cell_type": "code",
      "source": [
        "x = sp.symbols('x')\n",
        "p = sp.plot(x - 3, \n",
        "            -2*x, \n",
        "            title = 'The lines intersect at exactly one point\\nOne Solution\\n\\n',\n",
        "            xlabel = '$x_1$',\n",
        "            ylabel = '$x_2$',\n",
        "            show=False, \n",
        "            legend=True, \n",
        "            xlim=[-4, 4], \n",
        "            ylim=[-4, 4])\n",
        "\n",
        "p[0].line_color = 'red'\n",
        "p[0].label = '$x_1 - x_2 = 3$'\n",
        "\n",
        "p[1].line_color = 'dodgerblue'\n",
        "p[1].label = '$2x_1 + x_2 = 0$'\n",
        "\n",
        "plt.rcParams['axes.grid'] = True\n",
        "\n",
        "p.show()\n",
        "\n",
        "# reset rcParams to defaults\n",
        "plt.rcParams.update(plt.rcParamsDefault)"
      ],
      "metadata": {
        "colab": {
          "base_uri": "https://localhost:8080/",
          "height": 297
        },
        "id": "7FGMCLmHxn8x",
        "outputId": "5b887594-235b-403a-f4e8-9629911cc886"
      },
      "execution_count": 54,
      "outputs": [
        {
          "output_type": "display_data",
          "data": {
            "text/plain": [
              "<Figure size 432x288 with 1 Axes>"
            ],
            "image/png": "[encoded data removed]"
          },
          "metadata": {
            "needs_background": "light"
          }
        }
      ]
    },
    {
      "cell_type": "code",
      "source": [
        "x = sp.symbols('x')\n",
        "p = sp.plot(x - 3, \n",
        "            x - 2, \n",
        "            title = 'The lines are parallel\\nNo Solutions\\n\\n',\n",
        "            xlabel = '$x_1$',\n",
        "            ylabel = '$x_2$',\n",
        "            show=False, \n",
        "            legend=True, \n",
        "            xlim=[-4, 4], \n",
        "            ylim=[-4, 4])\n",
        "\n",
        "p[0].line_color = 'red'\n",
        "p[0].label = '$x_1 - x_2 = 3$'\n",
        "\n",
        "p[1].line_color = 'dodgerblue'\n",
        "p[1].label = '$x_1 - x_2 = 2$'\n",
        "\n",
        "plt.rcParams['axes.grid'] = True\n",
        "\n",
        "p.show()\n",
        "\n",
        "# reset rcParams to defaults\n",
        "plt.rcParams.update(plt.rcParamsDefault)"
      ],
      "metadata": {
        "colab": {
          "base_uri": "https://localhost:8080/",
          "height": 487
        },
        "id": "3hiX6ui77oA-",
        "outputId": "18e58a2f-4939-4464-f523-a29d37a698e8"
      },
      "execution_count": 55,
      "outputs": [
        {
          "output_type": "display_data",
          "data": {
            "text/plain": [
              "<Figure size 640x480 with 1 Axes>"
            ],
            "image/png": "[encoded data removed]"
          },
          "metadata": {}
        }
      ]
    },
    {
      "cell_type": "code",
      "source": [
        "x = sp.symbols('x')\n",
        "p = sp.plot(x - 3, \n",
        "            x - 3, \n",
        "            title = 'The lines coincide\\nInfinitely Many Solutions\\n\\n',\n",
        "            xlabel = '$x_1$',\n",
        "            ylabel = '$x_2$',\n",
        "            show=False, \n",
        "            legend=True, \n",
        "            xlim=[-4, 4], \n",
        "            ylim=[-4, 4])\n",
        "\n",
        "p[0].line_color = 'red'\n",
        "p[0].label = '$x_1 - x_2 = 3$'\n",
        "\n",
        "p[1].line_color = 'dodgerblue'\n",
        "p[1].label = '$2x_1 - 2x_2 = 6$'\n",
        "\n",
        "plt.rcParams['axes.grid'] = True\n",
        "\n",
        "p.show()\n",
        "\n",
        "# reset rcParams to defaults\n",
        "plt.rcParams.update(plt.rcParamsDefault)"
      ],
      "metadata": {
        "colab": {
          "base_uri": "https://localhost:8080/",
          "height": 487
        },
        "id": "Ti8zl9b88PFf",
        "outputId": "53268a43-37e9-4205-9480-65bb276c1187"
      },
      "execution_count": 56,
      "outputs": [
        {
          "output_type": "display_data",
          "data": {
            "text/plain": [
              "<Figure size 640x480 with 1 Axes>"
            ],
            "image/png": "[encoded data removed]"
          },
          "metadata": {}
        }
      ]
    },
    {
      "cell_type": "markdown",
      "source": [
        "### Real World Applications\n",
        "\n",
        "- A photo is a 2D representation of a 3D world. Linear algebra is used for this transformation\n",
        "- Cryptography"
      ],
      "metadata": {
        "id": "gCe6tSYb-KvD"
      }
    },
    {
      "cell_type": "markdown",
      "source": [
        "## 1.1.1.6 Practice Quiz"
      ],
      "metadata": {
        "id": "NAJp9BOT-sf2"
      }
    }
  ]
}