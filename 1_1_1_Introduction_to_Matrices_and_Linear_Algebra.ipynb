{
  "nbformat": 4,
  "nbformat_minor": 0,
  "metadata": {
    "colab": {
      "provenance": [],
      "collapsed_sections": [],
      "toc_visible": true,
      "authorship_tag": "ABX9TyOoKRXXtDvEKQXP5a9SMI7s",
      "include_colab_link": true
    },
    "kernelspec": {
      "name": "python3",
      "display_name": "Python 3"
    },
    "language_info": {
      "name": "python"
    }
  },
  "cells": [
    {
      "cell_type": "markdown",
      "metadata": {
        "id": "view-in-github",
        "colab_type": "text"
      },
      "source": [
        "<a href=\"https://colab.research.google.com/github/PaulToronto/PaulToronto-Howard-University-Coursera-Linear_Algebra-For-Data-Science-Specialization/blob/main/1_1_1_Introduction_to_Matrices_and_Linear_Algebra.ipynb\" target=\"_parent\"><img src=\"https://colab.research.google.com/assets/colab-badge.svg\" alt=\"Open In Colab\"/></a>"
      ]
    },
    {
      "cell_type": "markdown",
      "source": [
        "# 1.1.1 Introduction to Matrices and Linear Algebra"
      ],
      "metadata": {
        "id": "Auo0E9BZa-aL"
      }
    },
    {
      "cell_type": "code",
      "source": [
        "import numpy as npss\n",
        "import sympy as sp\n",
        "import random\n",
        "\n",
        "import matplotlib.pyplot as plt"
      ],
      "metadata": {
        "id": "C9xGZCXQTjup"
      },
      "execution_count": null,
      "outputs": []
    },
    {
      "cell_type": "markdown",
      "source": [
        "## 1.1.1.1 How to Document Your Code"
      ],
      "metadata": {
        "id": "FP8UE6LhbUlJ"
      }
    },
    {
      "cell_type": "markdown",
      "source": [
        "### List Comprehension"
      ],
      "metadata": {
        "id": "kw3pqtwRb2Sk"
      }
    },
    {
      "cell_type": "code",
      "execution_count": null,
      "metadata": {
        "colab": {
          "base_uri": "https://localhost:8080/"
        },
        "id": "jB4zx5BqZ10F",
        "outputId": "fa1369a1-824e-458d-ec68-a0d6f2374a2a"
      },
      "outputs": [
        {
          "output_type": "execute_result",
          "data": {
            "text/plain": [
              "[0, 2, 4, 6, 8, 10, 12, 14, 16, 18, 20]"
            ]
          },
          "metadata": {},
          "execution_count": 2
        }
      ],
      "source": [
        "double = []\n",
        "\n",
        "for i in range(11):\n",
        "    double.append(i * 2)\n",
        "\n",
        "double"
      ]
    },
    {
      "cell_type": "code",
      "source": [
        "double_comprehension = [i * 2 for i in range(11)]\n",
        "double_comprehension"
      ],
      "metadata": {
        "colab": {
          "base_uri": "https://localhost:8080/"
        },
        "id": "NJRGZoAMcP-9",
        "outputId": "1df25434-5c52-4bb5-8b7f-d0cd89e70bc1"
      },
      "execution_count": null,
      "outputs": [
        {
          "output_type": "execute_result",
          "data": {
            "text/plain": [
              "[0, 2, 4, 6, 8, 10, 12, 14, 16, 18, 20]"
            ]
          },
          "metadata": {},
          "execution_count": 3
        }
      ]
    },
    {
      "cell_type": "markdown",
      "source": [
        "### Simplifying `if` Statements"
      ],
      "metadata": {
        "id": "SA1rGLntCRQl"
      }
    },
    {
      "cell_type": "code",
      "source": [
        "emp_names = ['John','Josh', 'Mia', 'Nia', 'David']"
      ],
      "metadata": {
        "id": "f_108mVnCcYK"
      },
      "execution_count": null,
      "outputs": []
    },
    {
      "cell_type": "code",
      "source": [
        "name = 'John'\n",
        "\n",
        "if name == 'John' or name == 'Josh' or name == 'Mia' or name == 'Nia' or name == 'David':\n",
        "    print('Employee')\n",
        "else:\n",
        "    print('Not an employee')"
      ],
      "metadata": {
        "colab": {
          "base_uri": "https://localhost:8080/"
        },
        "id": "iHzxkGejC10l",
        "outputId": "627ef159-2353-4786-8e76-276dd81c4f8d"
      },
      "execution_count": null,
      "outputs": [
        {
          "output_type": "stream",
          "name": "stdout",
          "text": [
            "Employee\n"
          ]
        }
      ]
    },
    {
      "cell_type": "code",
      "source": [
        "if name in emp_names:\n",
        "    print('Employee')\n",
        "else:\n",
        "    print('Not an employee')"
      ],
      "metadata": {
        "colab": {
          "base_uri": "https://localhost:8080/"
        },
        "id": "BgAW_qX4DRvS",
        "outputId": "c9309b3d-f239-4a46-dafa-2a70cb31f4b1"
      },
      "execution_count": null,
      "outputs": [
        {
          "output_type": "stream",
          "name": "stdout",
          "text": [
            "Employee\n"
          ]
        }
      ]
    },
    {
      "cell_type": "markdown",
      "source": [
        "### Using Enumerate"
      ],
      "metadata": {
        "id": "JtldzaPrDm3O"
      }
    },
    {
      "cell_type": "code",
      "source": [
        "my_list = [2, -3, 10, 11, -7]"
      ],
      "metadata": {
        "id": "Y4gRdK49DqOV"
      },
      "execution_count": null,
      "outputs": []
    },
    {
      "cell_type": "code",
      "source": [
        "for i in range(len(my_list)):\n",
        "    if my_list[i] < 0:\n",
        "        my_list[i] = 0\n",
        "\n",
        "print(my_list)"
      ],
      "metadata": {
        "colab": {
          "base_uri": "https://localhost:8080/"
        },
        "id": "HvO0JkQ2Er8A",
        "outputId": "48e94aff-bd73-4c2f-bf27-e56236c7c63c"
      },
      "execution_count": null,
      "outputs": [
        {
          "output_type": "stream",
          "name": "stdout",
          "text": [
            "[2, 0, 10, 11, 0]\n"
          ]
        }
      ]
    },
    {
      "cell_type": "code",
      "source": [
        "my_list = [2, -3, 10, 11, -7]"
      ],
      "metadata": {
        "id": "XZFoempzFIvV"
      },
      "execution_count": null,
      "outputs": []
    },
    {
      "cell_type": "code",
      "source": [
        "for i, element in enumerate(my_list):\n",
        "    if element < 0:\n",
        "        my_list[i] = 0\n",
        "\n",
        "print(my_list)"
      ],
      "metadata": {
        "colab": {
          "base_uri": "https://localhost:8080/"
        },
        "id": "SUZvSCEsFMFr",
        "outputId": "ecfb67ae-89e6-4ff1-b81c-dbdfa2758ab0"
      },
      "execution_count": null,
      "outputs": [
        {
          "output_type": "stream",
          "name": "stdout",
          "text": [
            "[2, 0, 10, 11, 0]\n"
          ]
        }
      ]
    },
    {
      "cell_type": "markdown",
      "source": [
        "### Saving Memory with a Generator\n",
        "\n",
        "- memory is measured with `sys.getsizeof()`"
      ],
      "metadata": {
        "id": "vYUU4t_WF8E7"
      }
    },
    {
      "cell_type": "code",
      "source": [
        "import sys"
      ],
      "metadata": {
        "id": "x8jTs-45JVh5"
      },
      "execution_count": null,
      "outputs": []
    },
    {
      "cell_type": "code",
      "source": [
        "a_list = [i**2 for i in range(100000)]\n",
        "type(a_list)"
      ],
      "metadata": {
        "colab": {
          "base_uri": "https://localhost:8080/"
        },
        "id": "e7gaw-ulGBOs",
        "outputId": "78ed26cd-e10d-421f-c99c-494f644b087f"
      },
      "execution_count": null,
      "outputs": [
        {
          "output_type": "execute_result",
          "data": {
            "text/plain": [
              "list"
            ]
          },
          "metadata": {},
          "execution_count": 12
        }
      ]
    },
    {
      "cell_type": "code",
      "source": [
        "sys.getsizeof(a_list, 'bytes')"
      ],
      "metadata": {
        "colab": {
          "base_uri": "https://localhost:8080/"
        },
        "id": "TT75BqCqJdvA",
        "outputId": "b1e32abf-81f8-41e8-ff78-5cfdf95dc4f2"
      },
      "execution_count": null,
      "outputs": [
        {
          "output_type": "execute_result",
          "data": {
            "text/plain": [
              "824472"
            ]
          },
          "metadata": {},
          "execution_count": 13
        }
      ]
    },
    {
      "cell_type": "code",
      "source": [
        "a_gen = (i**2 for i in range(100000))\n",
        "type(a_gen)"
      ],
      "metadata": {
        "colab": {
          "base_uri": "https://localhost:8080/"
        },
        "id": "M0ziUC4iIdMP",
        "outputId": "772f21fd-1f72-4f74-f50f-4aa79d34cb5e"
      },
      "execution_count": null,
      "outputs": [
        {
          "output_type": "execute_result",
          "data": {
            "text/plain": [
              "generator"
            ]
          },
          "metadata": {},
          "execution_count": 14
        }
      ]
    },
    {
      "cell_type": "code",
      "source": [
        "a_gen"
      ],
      "metadata": {
        "colab": {
          "base_uri": "https://localhost:8080/"
        },
        "id": "et2IOYMYIzw6",
        "outputId": "64becc58-4ada-4393-a2d8-878582bfec30"
      },
      "execution_count": null,
      "outputs": [
        {
          "output_type": "execute_result",
          "data": {
            "text/plain": [
              "<generator object <genexpr> at 0x7fa41cb57b50>"
            ]
          },
          "metadata": {},
          "execution_count": 15
        }
      ]
    },
    {
      "cell_type": "code",
      "source": [
        "sys.getsizeof(a_gen, 'bytes')"
      ],
      "metadata": {
        "colab": {
          "base_uri": "https://localhost:8080/"
        },
        "id": "RVi_tMnlJpvo",
        "outputId": "053b3add-3bf9-4e4f-aac7-b59ee44f973d"
      },
      "execution_count": null,
      "outputs": [
        {
          "output_type": "execute_result",
          "data": {
            "text/plain": [
              "128"
            ]
          },
          "metadata": {},
          "execution_count": 16
        }
      ]
    },
    {
      "cell_type": "code",
      "source": [
        "sum(a_gen) == sum(a_list)"
      ],
      "metadata": {
        "colab": {
          "base_uri": "https://localhost:8080/"
        },
        "id": "cL61frENLRvF",
        "outputId": "f639ada6-9ed4-4487-fb86-09dbc78770cb"
      },
      "execution_count": null,
      "outputs": [
        {
          "output_type": "execute_result",
          "data": {
            "text/plain": [
              "True"
            ]
          },
          "metadata": {},
          "execution_count": 17
        }
      ]
    },
    {
      "cell_type": "markdown",
      "source": [
        "## 1.1.1.2 Python Resources"
      ],
      "metadata": {
        "id": "pKZEbryGM0aq"
      }
    },
    {
      "cell_type": "markdown",
      "source": [
        "- [Pandas DataFrame](https://pandas.pydata.org/pandas-docs/stable/user_guide/index.html)\n",
        "- [NumPy](https://numpy.org/doc/stable/user/whatisnumpy.html)\n",
        "    - [Numpy.Matrix](https://numpy.org/doc/stable/user/absolute_beginners.html)\n",
        "    - [Numpy.Matmul](https://numpy.org/doc/stable/reference/generated/numpy.matmul.html)\n",
        "- [SymPy Matrices](https://docs.sympy.org/latest/tutorials/intro-tutorial/matrices.html)\n",
        "- [SymPy Matrices (linear algebra)](https://docs.sympy.org/latest/modules/matrices/matrices.html)\n",
        "- [matplotlib](https://matplotlib.org/stable/tutorials/index.html)\n",
        "- [pyplot](https://matplotlib.org/stable/tutorials/introductory/pyplot.html)\n",
        "- [seaborn](https://seaborn.pydata.org/tutorial.html)\n",
        "- [seaborn styling](https://www.codecademy.com/article/seaborn-design-ii)\n"
      ],
      "metadata": {
        "id": "6uhfkrrMM93N"
      }
    },
    {
      "cell_type": "markdown",
      "source": [
        "## 1.1.1.3 Introduction to Matrices"
      ],
      "metadata": {
        "id": "m2KRDdchOvzw"
      }
    },
    {
      "cell_type": "markdown",
      "source": [
        "### Definitions\n",
        "\n",
        "A **matrix** is a rectangular array of numbers. The numbers of the matrix are called **entries**\n",
        "\n",
        "A matrix is sometimes denoted by $A = \\left(a_{ij}\\right)$, where $a_{ij}$ is the entry in the $i^{th}$ row and the $j^{th}$ column of matrix $A$. \n",
        "\n",
        "The **dimension** or **size** of a matrix is the number of rows of the matrix by the number of columns. If $A = \\left(a_{ij}\\right)$, its size is $2 \\times 3$. \n",
        "\n",
        "A matrix that has the same number of rows as columns is called a **square matrix**. \n",
        "\n",
        "A matrix with a single column ($i \\times 1$) is called **column matrix** or a **column vector**. \n",
        "\n",
        "Let $A$ be an $m \\times n$ matrix. Then the **transpose** of $A$, denoted by $A^{T}$, is the $n \\times m$ matrix whose columns are formed by the rows of $A$. \n",
        "\n",
        "$A = \n",
        "\\left[\n",
        "\\begin{matrix}\n",
        "a & b & c \\\\\n",
        "d & e & f \n",
        "\\end{matrix}\n",
        "\\right]\n",
        "$\n",
        "<br><br>\n",
        "$\n",
        "A^{T} = \n",
        "\\left[\n",
        "\\begin{matrix}\n",
        "a & d \\\\\n",
        "b & e \\\\\n",
        "c & f \n",
        "\\end{matrix}\n",
        "\\right]\n",
        "$ "
      ],
      "metadata": {
        "id": "qmg-6x0uPODs"
      }
    },
    {
      "cell_type": "markdown",
      "source": [
        "## 1.1.1.4 Introduction to Matrices in Python Using NumPy and SymPy"
      ],
      "metadata": {
        "id": "fcDlj-IXYC4g"
      }
    },
    {
      "cell_type": "code",
      "source": [
        "M = np.array([[1, 2, 3],\n",
        "              [4, 5, 6],\n",
        "              [7, 8, 9]])\n",
        "\n",
        "M"
      ],
      "metadata": {
        "colab": {
          "base_uri": "https://localhost:8080/"
        },
        "id": "D-Ie5tJjZQhk",
        "outputId": "d5193cae-a7d8-43a3-b4cc-02ea04f0a7fe"
      },
      "execution_count": null,
      "outputs": [
        {
          "output_type": "execute_result",
          "data": {
            "text/plain": [
              "array([[1, 2, 3],\n",
              "       [4, 5, 6],\n",
              "       [7, 8, 9]])"
            ]
          },
          "metadata": {},
          "execution_count": 18
        }
      ]
    },
    {
      "cell_type": "code",
      "source": [
        "M = sp.Matrix([[1, 2, 3],\n",
        "               [4, 5, 6],\n",
        "               [7, 8, 9]])\n",
        "M"
      ],
      "metadata": {
        "colab": {
          "base_uri": "https://localhost:8080/",
          "height": 78
        },
        "id": "wq7h12jemr7z",
        "outputId": "139ae85d-a281-43c7-ac18-af079b6d3058"
      },
      "execution_count": null,
      "outputs": [
        {
          "output_type": "execute_result",
          "data": {
            "text/plain": [
              "Matrix([\n",
              "[1, 2, 3],\n",
              "[4, 5, 6],\n",
              "[7, 8, 9]])"
            ],
            "text/latex": "$\\displaystyle \\left[\\begin{matrix}1 & 2 & 3\\\\4 & 5 & 6\\\\7 & 8 & 9\\end{matrix}\\right]$"
          },
          "metadata": {},
          "execution_count": 38
        }
      ]
    },
    {
      "cell_type": "markdown",
      "source": [
        "##### Detour: `np.random.randint()`"
      ],
      "metadata": {
        "id": "AIjbTxO6m8iK"
      }
    },
    {
      "cell_type": "code",
      "source": [
        "# np.random.randint(low, high=None, size=None, dtype=int)\n",
        "# returns an integer in the range: [low, high)\n",
        "# if high=None, the default, then it returns an integer in the range\n",
        "#   [0, low)\n",
        "\n",
        "def make_random_dict(low, high=None):\n",
        "    my_dict = dict()\n",
        "    for i in range(1000):\n",
        "        key = np.random.randint(low, high)\n",
        "        if key in my_dict.keys():\n",
        "            my_dict[key] += 1\n",
        "        else: \n",
        "            my_dict[key] = 1\n",
        "    return my_dict"
      ],
      "metadata": {
        "id": "HUykciCQZ0MO"
      },
      "execution_count": null,
      "outputs": []
    },
    {
      "cell_type": "code",
      "source": [
        "make_random_dict(3)"
      ],
      "metadata": {
        "colab": {
          "base_uri": "https://localhost:8080/"
        },
        "id": "6itHO9O5bBvv",
        "outputId": "f3c25de9-7c21-4b2f-fc20-78af226b7ca1"
      },
      "execution_count": null,
      "outputs": [
        {
          "output_type": "execute_result",
          "data": {
            "text/plain": [
              "{0: 362, 2: 323, 1: 315}"
            ]
          },
          "metadata": {},
          "execution_count": 20
        }
      ]
    },
    {
      "cell_type": "code",
      "source": [
        "make_random_dict(10, 15)"
      ],
      "metadata": {
        "colab": {
          "base_uri": "https://localhost:8080/"
        },
        "id": "-b2SCUaDcIu3",
        "outputId": "9ab54b54-79eb-4343-ae89-b7cf45a2031a"
      },
      "execution_count": null,
      "outputs": [
        {
          "output_type": "execute_result",
          "data": {
            "text/plain": [
              "{10: 197, 14: 202, 11: 219, 12: 190, 13: 192}"
            ]
          },
          "metadata": {},
          "execution_count": 21
        }
      ]
    },
    {
      "cell_type": "code",
      "source": [
        "make_random_dict(-2, 3)"
      ],
      "metadata": {
        "colab": {
          "base_uri": "https://localhost:8080/"
        },
        "id": "9aaJWG5ncxmZ",
        "outputId": "c8c5f148-63fb-4a33-815b-7a4e5e1429c1"
      },
      "execution_count": null,
      "outputs": [
        {
          "output_type": "execute_result",
          "data": {
            "text/plain": [
              "{2: 202, 0: 198, -2: 201, -1: 194, 1: 205}"
            ]
          },
          "metadata": {},
          "execution_count": 22
        }
      ]
    },
    {
      "cell_type": "markdown",
      "source": [
        "### A Matrix of Random Integers"
      ],
      "metadata": {
        "id": "lQNeAJKpcel-"
      }
    },
    {
      "cell_type": "code",
      "source": [
        "N = np.random.randint(-2, 3, size=(2, 2))\n",
        "N"
      ],
      "metadata": {
        "colab": {
          "base_uri": "https://localhost:8080/"
        },
        "id": "Km99vG7HcomF",
        "outputId": "5c54189f-fd0b-4f18-a81e-ec02a4603748"
      },
      "execution_count": null,
      "outputs": [
        {
          "output_type": "execute_result",
          "data": {
            "text/plain": [
              "array([[ 2, -2],\n",
              "       [ 0,  0]])"
            ]
          },
          "metadata": {},
          "execution_count": 41
        }
      ]
    },
    {
      "cell_type": "code",
      "source": [
        "N = sp.Matrix(N)\n",
        "N"
      ],
      "metadata": {
        "colab": {
          "base_uri": "https://localhost:8080/",
          "height": 58
        },
        "id": "NxZp2Uvdn6wm",
        "outputId": "5c1deb8a-d0b7-4042-bf07-8a6481ffe2a3"
      },
      "execution_count": null,
      "outputs": [
        {
          "output_type": "execute_result",
          "data": {
            "text/plain": [
              "Matrix([\n",
              "[2, -2],\n",
              "[0,  0]])"
            ],
            "text/latex": "$\\displaystyle \\left[\\begin{matrix}2 & -2\\\\0 & 0\\end{matrix}\\right]$"
          },
          "metadata": {},
          "execution_count": 42
        }
      ]
    },
    {
      "cell_type": "code",
      "source": [
        "A = np.random.randint(-2, 3, size=(4,1))\n",
        "A"
      ],
      "metadata": {
        "colab": {
          "base_uri": "https://localhost:8080/"
        },
        "id": "pERR2uhmdJ83",
        "outputId": "becd5674-bdf4-4bd4-f187-bc6351ea5d17"
      },
      "execution_count": null,
      "outputs": [
        {
          "output_type": "execute_result",
          "data": {
            "text/plain": [
              "array([[ 0],\n",
              "       [-1],\n",
              "       [ 1],\n",
              "       [ 2]])"
            ]
          },
          "metadata": {},
          "execution_count": 45
        }
      ]
    },
    {
      "cell_type": "code",
      "source": [
        "A.shape"
      ],
      "metadata": {
        "colab": {
          "base_uri": "https://localhost:8080/"
        },
        "id": "MU_xVciUoY8o",
        "outputId": "3723747e-b02c-42dc-d8e1-d68b42c6d5d1"
      },
      "execution_count": null,
      "outputs": [
        {
          "output_type": "execute_result",
          "data": {
            "text/plain": [
              "(4, 1)"
            ]
          },
          "metadata": {},
          "execution_count": 46
        }
      ]
    },
    {
      "cell_type": "code",
      "source": [
        "A = sp.Matrix(A)\n",
        "A"
      ],
      "metadata": {
        "colab": {
          "base_uri": "https://localhost:8080/",
          "height": 99
        },
        "id": "Qh7kwrTzoT0a",
        "outputId": "d0d1a534-8522-4c67-fe35-d3b043947d82"
      },
      "execution_count": null,
      "outputs": [
        {
          "output_type": "execute_result",
          "data": {
            "text/plain": [
              "Matrix([\n",
              "[ 0],\n",
              "[-1],\n",
              "[ 1],\n",
              "[ 2]])"
            ],
            "text/latex": "$\\displaystyle \\left[\\begin{matrix}0\\\\-1\\\\1\\\\2\\end{matrix}\\right]$"
          },
          "metadata": {},
          "execution_count": 47
        }
      ]
    },
    {
      "cell_type": "code",
      "source": [
        "A.shape"
      ],
      "metadata": {
        "colab": {
          "base_uri": "https://localhost:8080/"
        },
        "id": "AIRwkjqqdxeL",
        "outputId": "06bead8f-6169-4f98-ff8d-bb5ae2b6815a"
      },
      "execution_count": null,
      "outputs": [
        {
          "output_type": "execute_result",
          "data": {
            "text/plain": [
              "(4, 1)"
            ]
          },
          "metadata": {},
          "execution_count": 48
        }
      ]
    },
    {
      "cell_type": "code",
      "source": [
        "B = np.random.randint(-2, 3, size=(1, 4))\n",
        "B"
      ],
      "metadata": {
        "colab": {
          "base_uri": "https://localhost:8080/"
        },
        "id": "3QBc2zVRdZVy",
        "outputId": "1783b440-b213-44e5-d60b-7f89b20abdd6"
      },
      "execution_count": null,
      "outputs": [
        {
          "output_type": "execute_result",
          "data": {
            "text/plain": [
              "array([[ 2, -2,  2, -1]])"
            ]
          },
          "metadata": {},
          "execution_count": 51
        }
      ]
    },
    {
      "cell_type": "code",
      "source": [
        "B.shape"
      ],
      "metadata": {
        "colab": {
          "base_uri": "https://localhost:8080/"
        },
        "id": "TN11V_MFolkr",
        "outputId": "38fac0e6-3b22-4dd6-fa01-20a3e11bf7e8"
      },
      "execution_count": null,
      "outputs": [
        {
          "output_type": "execute_result",
          "data": {
            "text/plain": [
              "(1, 4)"
            ]
          },
          "metadata": {},
          "execution_count": 52
        }
      ]
    },
    {
      "cell_type": "code",
      "source": [
        "B = sp.Matrix(B)\n",
        "B"
      ],
      "metadata": {
        "colab": {
          "base_uri": "https://localhost:8080/",
          "height": 39
        },
        "id": "JIhkbjdPogyD",
        "outputId": "5bd859b9-4a6f-47f7-b053-5b9b17a4b705"
      },
      "execution_count": null,
      "outputs": [
        {
          "output_type": "execute_result",
          "data": {
            "text/plain": [
              "Matrix([[2, -2, 2, -1]])"
            ],
            "text/latex": "$\\displaystyle \\left[\\begin{matrix}2 & -2 & 2 & -1\\end{matrix}\\right]$"
          },
          "metadata": {},
          "execution_count": 55
        }
      ]
    },
    {
      "cell_type": "code",
      "source": [
        "B.shape"
      ],
      "metadata": {
        "colab": {
          "base_uri": "https://localhost:8080/"
        },
        "id": "RmQcvPyQon3t",
        "outputId": "d4af9374-dd2d-495e-8bb2-510ed39b3aec"
      },
      "execution_count": null,
      "outputs": [
        {
          "output_type": "execute_result",
          "data": {
            "text/plain": [
              "(1, 4)"
            ]
          },
          "metadata": {},
          "execution_count": 56
        }
      ]
    },
    {
      "cell_type": "code",
      "source": [
        "C = np.random.randint(-2, 3, size=4)\n",
        "C"
      ],
      "metadata": {
        "colab": {
          "base_uri": "https://localhost:8080/"
        },
        "id": "z_fYde_Odezq",
        "outputId": "c68abd3a-40a0-4b8b-e87a-06f40c72291a"
      },
      "execution_count": null,
      "outputs": [
        {
          "output_type": "execute_result",
          "data": {
            "text/plain": [
              "array([-1,  2,  1,  1])"
            ]
          },
          "metadata": {},
          "execution_count": 57
        }
      ]
    },
    {
      "cell_type": "code",
      "source": [
        "C.shape"
      ],
      "metadata": {
        "colab": {
          "base_uri": "https://localhost:8080/"
        },
        "id": "PTooBFvkotB6",
        "outputId": "e42fc939-d8c3-4941-e022-e2e4e3e569fa"
      },
      "execution_count": null,
      "outputs": [
        {
          "output_type": "execute_result",
          "data": {
            "text/plain": [
              "(4,)"
            ]
          },
          "metadata": {},
          "execution_count": 58
        }
      ]
    },
    {
      "cell_type": "code",
      "source": [
        "C = sp.Matrix(C)\n",
        "C"
      ],
      "metadata": {
        "colab": {
          "base_uri": "https://localhost:8080/",
          "height": 99
        },
        "id": "cPi0rvR4ovYT",
        "outputId": "15584c28-855e-499e-d2cc-fa681d82739f"
      },
      "execution_count": null,
      "outputs": [
        {
          "output_type": "execute_result",
          "data": {
            "text/plain": [
              "Matrix([\n",
              "[-1],\n",
              "[ 2],\n",
              "[ 1],\n",
              "[ 1]])"
            ],
            "text/latex": "$\\displaystyle \\left[\\begin{matrix}-1\\\\2\\\\1\\\\1\\end{matrix}\\right]$"
          },
          "metadata": {},
          "execution_count": 59
        }
      ]
    },
    {
      "cell_type": "code",
      "source": [
        "C.shape"
      ],
      "metadata": {
        "colab": {
          "base_uri": "https://localhost:8080/"
        },
        "id": "RPRZhvBno1QP",
        "outputId": "9e55e42f-c491-46af-989c-2464cb026425"
      },
      "execution_count": null,
      "outputs": [
        {
          "output_type": "execute_result",
          "data": {
            "text/plain": [
              "(4, 1)"
            ]
          },
          "metadata": {},
          "execution_count": 60
        }
      ]
    },
    {
      "cell_type": "markdown",
      "source": [
        "### Special Matrices"
      ],
      "metadata": {
        "id": "JM2JKS79eZeQ"
      }
    },
    {
      "cell_type": "markdown",
      "source": [
        "#### Identity Matrix"
      ],
      "metadata": {
        "id": "jVHMD7biedOQ"
      }
    },
    {
      "cell_type": "code",
      "source": [
        "I = np.eye(3)\n",
        "I"
      ],
      "metadata": {
        "colab": {
          "base_uri": "https://localhost:8080/"
        },
        "id": "799vv20Ae6gL",
        "outputId": "73020045-7648-47d1-b3e2-25e02bd72d56"
      },
      "execution_count": null,
      "outputs": [
        {
          "output_type": "execute_result",
          "data": {
            "text/plain": [
              "array([[1., 0., 0.],\n",
              "       [0., 1., 0.],\n",
              "       [0., 0., 1.]])"
            ]
          },
          "metadata": {},
          "execution_count": 61
        }
      ]
    },
    {
      "cell_type": "code",
      "source": [
        "I = sp.eye(3)\n",
        "I"
      ],
      "metadata": {
        "colab": {
          "base_uri": "https://localhost:8080/",
          "height": 78
        },
        "id": "jKSZZtSXpbl_",
        "outputId": "b9fd9de2-a612-4ad8-f65e-5754faa8196e"
      },
      "execution_count": null,
      "outputs": [
        {
          "output_type": "execute_result",
          "data": {
            "text/plain": [
              "Matrix([\n",
              "[1, 0, 0],\n",
              "[0, 1, 0],\n",
              "[0, 0, 1]])"
            ],
            "text/latex": "$\\displaystyle \\left[\\begin{matrix}1 & 0 & 0\\\\0 & 1 & 0\\\\0 & 0 & 1\\end{matrix}\\right]$"
          },
          "metadata": {},
          "execution_count": 63
        }
      ]
    },
    {
      "cell_type": "code",
      "source": [
        "I = np.eye(3, 4)\n",
        "I"
      ],
      "metadata": {
        "colab": {
          "base_uri": "https://localhost:8080/"
        },
        "id": "48FKR3WBfCVo",
        "outputId": "8916cfcb-e834-474b-9367-0f30a45f0ea8"
      },
      "execution_count": null,
      "outputs": [
        {
          "output_type": "execute_result",
          "data": {
            "text/plain": [
              "array([[1., 0., 0., 0.],\n",
              "       [0., 1., 0., 0.],\n",
              "       [0., 0., 1., 0.]])"
            ]
          },
          "metadata": {},
          "execution_count": 62
        }
      ]
    },
    {
      "cell_type": "code",
      "source": [
        "I = sp.eye(3, 4)\n",
        "I"
      ],
      "metadata": {
        "colab": {
          "base_uri": "https://localhost:8080/",
          "height": 78
        },
        "id": "rUVbzKjqpguJ",
        "outputId": "a3568383-bea1-445e-88d3-f598d8169955"
      },
      "execution_count": null,
      "outputs": [
        {
          "output_type": "execute_result",
          "data": {
            "text/plain": [
              "Matrix([\n",
              "[1, 0, 0, 0],\n",
              "[0, 1, 0, 0],\n",
              "[0, 0, 1, 0]])"
            ],
            "text/latex": "$\\displaystyle \\left[\\begin{matrix}1 & 0 & 0 & 0\\\\0 & 1 & 0 & 0\\\\0 & 0 & 1 & 0\\end{matrix}\\right]$"
          },
          "metadata": {},
          "execution_count": 68
        }
      ]
    },
    {
      "cell_type": "markdown",
      "source": [
        "#### Zeros Matrix\n",
        "\n",
        "- unlike `np.eye`, the argument is a tuple"
      ],
      "metadata": {
        "id": "Qwx_0gSZi11D"
      }
    },
    {
      "cell_type": "code",
      "source": [
        "Z = np.zeros(3)\n",
        "Z"
      ],
      "metadata": {
        "colab": {
          "base_uri": "https://localhost:8080/"
        },
        "id": "NvfHjY7qi4ND",
        "outputId": "3221d73e-5320-4d0e-e1f0-f0ded43d7d03"
      },
      "execution_count": null,
      "outputs": [
        {
          "output_type": "execute_result",
          "data": {
            "text/plain": [
              "array([0., 0., 0.])"
            ]
          },
          "metadata": {},
          "execution_count": 69
        }
      ]
    },
    {
      "cell_type": "code",
      "source": [
        "Z = sp.zeros(3)\n",
        "Z"
      ],
      "metadata": {
        "colab": {
          "base_uri": "https://localhost:8080/",
          "height": 78
        },
        "id": "xvsZmCDTqJQE",
        "outputId": "d4dab251-7209-4cae-dc71-ca352186a3b1"
      },
      "execution_count": null,
      "outputs": [
        {
          "output_type": "execute_result",
          "data": {
            "text/plain": [
              "Matrix([\n",
              "[0, 0, 0],\n",
              "[0, 0, 0],\n",
              "[0, 0, 0]])"
            ],
            "text/latex": "$\\displaystyle \\left[\\begin{matrix}0 & 0 & 0\\\\0 & 0 & 0\\\\0 & 0 & 0\\end{matrix}\\right]$"
          },
          "metadata": {},
          "execution_count": 70
        }
      ]
    },
    {
      "cell_type": "code",
      "source": [
        "Z = np.zeros((2, 3))\n",
        "Z"
      ],
      "metadata": {
        "colab": {
          "base_uri": "https://localhost:8080/"
        },
        "id": "Y4of91PRjHA4",
        "outputId": "a2b818ee-a255-4efa-b9b3-0e31eece0c12"
      },
      "execution_count": null,
      "outputs": [
        {
          "output_type": "execute_result",
          "data": {
            "text/plain": [
              "array([[0., 0., 0.],\n",
              "       [0., 0., 0.]])"
            ]
          },
          "metadata": {},
          "execution_count": 71
        }
      ]
    },
    {
      "cell_type": "code",
      "source": [
        "Z = sp.zeros(2, 3)\n",
        "Z"
      ],
      "metadata": {
        "colab": {
          "base_uri": "https://localhost:8080/",
          "height": 58
        },
        "id": "D1D0Pf_LqM_O",
        "outputId": "14c8fa2b-8b34-48de-b5b4-45c8f54615a7"
      },
      "execution_count": null,
      "outputs": [
        {
          "output_type": "execute_result",
          "data": {
            "text/plain": [
              "Matrix([\n",
              "[0, 0, 0],\n",
              "[0, 0, 0]])"
            ],
            "text/latex": "$\\displaystyle \\left[\\begin{matrix}0 & 0 & 0\\\\0 & 0 & 0\\end{matrix}\\right]$"
          },
          "metadata": {},
          "execution_count": 74
        }
      ]
    },
    {
      "cell_type": "markdown",
      "source": [
        "#### Ones Matrix"
      ],
      "metadata": {
        "id": "ZceIX-gqjn4r"
      }
    },
    {
      "cell_type": "code",
      "source": [
        "O = np.ones(3)\n",
        "O"
      ],
      "metadata": {
        "colab": {
          "base_uri": "https://localhost:8080/"
        },
        "id": "MkNy-WBUjlba",
        "outputId": "42f338fd-2cf5-4781-a27c-abd5bd3d45ca"
      },
      "execution_count": null,
      "outputs": [
        {
          "output_type": "execute_result",
          "data": {
            "text/plain": [
              "array([1., 1., 1.])"
            ]
          },
          "metadata": {},
          "execution_count": 75
        }
      ]
    },
    {
      "cell_type": "code",
      "source": [
        "O = sp.ones(3)\n",
        "O"
      ],
      "metadata": {
        "colab": {
          "base_uri": "https://localhost:8080/",
          "height": 78
        },
        "id": "F20nzAseqt6B",
        "outputId": "28465985-028a-44ca-d152-5084a5c4d2e5"
      },
      "execution_count": null,
      "outputs": [
        {
          "output_type": "execute_result",
          "data": {
            "text/plain": [
              "Matrix([\n",
              "[1, 1, 1],\n",
              "[1, 1, 1],\n",
              "[1, 1, 1]])"
            ],
            "text/latex": "$\\displaystyle \\left[\\begin{matrix}1 & 1 & 1\\\\1 & 1 & 1\\\\1 & 1 & 1\\end{matrix}\\right]$"
          },
          "metadata": {},
          "execution_count": 76
        }
      ]
    },
    {
      "cell_type": "code",
      "source": [
        "O = np.ones((3, 2))\n",
        "O"
      ],
      "metadata": {
        "colab": {
          "base_uri": "https://localhost:8080/"
        },
        "id": "f9RC1ypcjxDq",
        "outputId": "3e1ea119-90db-40bd-8ad3-af0130026808"
      },
      "execution_count": null,
      "outputs": [
        {
          "output_type": "execute_result",
          "data": {
            "text/plain": [
              "array([[1., 1.],\n",
              "       [1., 1.],\n",
              "       [1., 1.]])"
            ]
          },
          "metadata": {},
          "execution_count": 77
        }
      ]
    },
    {
      "cell_type": "code",
      "source": [
        "O = sp.ones(3, 2)\n",
        "O"
      ],
      "metadata": {
        "colab": {
          "base_uri": "https://localhost:8080/",
          "height": 78
        },
        "id": "ZBNCCJGUqxqG",
        "outputId": "76a86cb1-f8f7-42db-b1bb-b6aa9ff332da"
      },
      "execution_count": null,
      "outputs": [
        {
          "output_type": "execute_result",
          "data": {
            "text/plain": [
              "Matrix([\n",
              "[1, 1],\n",
              "[1, 1],\n",
              "[1, 1]])"
            ],
            "text/latex": "$\\displaystyle \\left[\\begin{matrix}1 & 1\\\\1 & 1\\\\1 & 1\\end{matrix}\\right]$"
          },
          "metadata": {},
          "execution_count": 78
        }
      ]
    },
    {
      "cell_type": "markdown",
      "source": [
        "#### Diagonal Matrix"
      ],
      "metadata": {
        "id": "OWG7RxarkBS4"
      }
    },
    {
      "cell_type": "code",
      "source": [
        "D = np.diag([1, 2, 3])\n",
        "D"
      ],
      "metadata": {
        "colab": {
          "base_uri": "https://localhost:8080/"
        },
        "id": "bFe0AssykEFx",
        "outputId": "176c7ee1-7a5c-403b-f8fb-b3d4d7bc4988"
      },
      "execution_count": null,
      "outputs": [
        {
          "output_type": "execute_result",
          "data": {
            "text/plain": [
              "array([[1, 0, 0],\n",
              "       [0, 2, 0],\n",
              "       [0, 0, 3]])"
            ]
          },
          "metadata": {},
          "execution_count": 34
        }
      ]
    },
    {
      "cell_type": "code",
      "source": [
        "D = sp.diag(1, 2, 3)\n",
        "D"
      ],
      "metadata": {
        "colab": {
          "base_uri": "https://localhost:8080/",
          "height": 78
        },
        "id": "zKJB0ephq9xq",
        "outputId": "17729642-6252-4415-befe-4d6b343862b4"
      },
      "execution_count": null,
      "outputs": [
        {
          "output_type": "execute_result",
          "data": {
            "text/plain": [
              "Matrix([\n",
              "[1, 0, 0],\n",
              "[0, 2, 0],\n",
              "[0, 0, 3]])"
            ],
            "text/latex": "$\\displaystyle \\left[\\begin{matrix}1 & 0 & 0\\\\0 & 2 & 0\\\\0 & 0 & 3\\end{matrix}\\right]$"
          },
          "metadata": {},
          "execution_count": 81
        }
      ]
    },
    {
      "cell_type": "markdown",
      "source": [
        "##### `np.diag(M)` when applied to a Matrix"
      ],
      "metadata": {
        "id": "Hygs-g5HlPUn"
      }
    },
    {
      "cell_type": "code",
      "source": [
        "M = np.array([[1, 2, 3],\n",
        "              [4, 5, 6],\n",
        "              [7, 8, 9]])\n",
        "\n",
        "M"
      ],
      "metadata": {
        "colab": {
          "base_uri": "https://localhost:8080/"
        },
        "id": "UShDJrbclsVQ",
        "outputId": "e0fb18b6-9d51-4678-c908-5f6d2741f0d3"
      },
      "execution_count": null,
      "outputs": [
        {
          "output_type": "execute_result",
          "data": {
            "text/plain": [
              "array([[1, 2, 3],\n",
              "       [4, 5, 6],\n",
              "       [7, 8, 9]])"
            ]
          },
          "metadata": {},
          "execution_count": 87
        }
      ]
    },
    {
      "cell_type": "code",
      "source": [
        "C = np.diag(M)\n",
        "C"
      ],
      "metadata": {
        "colab": {
          "base_uri": "https://localhost:8080/"
        },
        "id": "kKkp2Q48lING",
        "outputId": "3712680f-d32f-4661-a4fa-f73facfe9690"
      },
      "execution_count": null,
      "outputs": [
        {
          "output_type": "execute_result",
          "data": {
            "text/plain": [
              "array([1, 5, 9])"
            ]
          },
          "metadata": {},
          "execution_count": 88
        }
      ]
    },
    {
      "cell_type": "markdown",
      "source": [
        "## 1.1.1.5 How is Linear Algebra Used to Solve Problems? "
      ],
      "metadata": {
        "id": "9-H9AaPLr0qj"
      }
    },
    {
      "cell_type": "markdown",
      "source": [
        "### Definition of Linear Algebra\n",
        "\n",
        "The study of systems of linear equations.\n",
        "\n",
        "A **system of linear equations** is a set, or collection of linear equations."
      ],
      "metadata": {
        "id": "f8OOe9UCs0H7"
      }
    },
    {
      "cell_type": "markdown",
      "source": [
        "#### Example\n",
        "\n",
        "A set of two linear equations in the plane is an example of a system of linear equations.\n",
        "\n",
        "There are two possibilities for these two lines:\n",
        "\n",
        "1. The lines intersect at exactly one point\n",
        "    - One solution\n",
        "2. The lines are parallel\n",
        "    - No solutions\n",
        "3. The lines are coincide\n",
        "    - Infinitely many solutions"
      ],
      "metadata": {
        "id": "nNw5E3YfxXop"
      }
    },
    {
      "cell_type": "code",
      "source": [
        "x = sp.symbols('x')\n",
        "p = sp.plot(x - 3, \n",
        "            -2*x, \n",
        "            title = 'The lines intersect at exactly one point\\nOne Solution\\n\\n',\n",
        "            xlabel = '$x_1$',\n",
        "            ylabel = '$x_2$',\n",
        "            show=False, \n",
        "            legend=True, \n",
        "            xlim=[-4, 4], \n",
        "            ylim=[-4, 4])\n",
        "\n",
        "p[0].line_color = 'red'\n",
        "p[0].label = '$x_1 - x_2 = 3$'\n",
        "\n",
        "p[1].line_color = 'dodgerblue'\n",
        "p[1].label = '$2x_1 + x_2 = 0$'\n",
        "\n",
        "plt.rcParams['axes.grid'] = True\n",
        "\n",
        "p.show()\n",
        "\n",
        "# reset rcParams to defaults\n",
        "plt.rcParams.update(plt.rcParamsDefault)"
      ],
      "metadata": {
        "colab": {
          "base_uri": "https://localhost:8080/",
          "height": 487
        },
        "id": "7FGMCLmHxn8x",
        "outputId": "412fe2a0-5034-4f96-e8fc-d659bd5afd0e"
      },
      "execution_count": null,
      "outputs": [
        {
          "output_type": "display_data",
          "data": {
            "text/plain": [
              "<Figure size 640x480 with 1 Axes>"
            ],
            "image/png": "[encoded data removed]"
          },
          "metadata": {}
        }
      ]
    },
    {
      "cell_type": "code",
      "source": [
        "x = sp.symbols('x')\n",
        "p = sp.plot(x - 3, \n",
        "            x - 2, \n",
        "            title = 'The lines are parallel\\nNo Solutions\\n\\n',\n",
        "            xlabel = '$x_1$',\n",
        "            ylabel = '$x_2$',\n",
        "            show=False, \n",
        "            legend=True, \n",
        "            xlim=[-4, 4], \n",
        "            ylim=[-4, 4])\n",
        "\n",
        "p[0].line_color = 'red'\n",
        "p[0].label = '$x_1 - x_2 = 3$'\n",
        "\n",
        "p[1].line_color = 'dodgerblue'\n",
        "p[1].label = '$x_1 - x_2 = 2$'\n",
        "\n",
        "plt.rcParams['axes.grid'] = True\n",
        "\n",
        "p.show()\n",
        "\n",
        "# reset rcParams to defaults\n",
        "plt.rcParams.update(plt.rcParamsDefault)"
      ],
      "metadata": {
        "colab": {
          "base_uri": "https://localhost:8080/",
          "height": 487
        },
        "id": "3hiX6ui77oA-",
        "outputId": "05d15030-4a58-4d26-e1a3-951c198f6f1e"
      },
      "execution_count": null,
      "outputs": [
        {
          "output_type": "display_data",
          "data": {
            "text/plain": [
              "<Figure size 640x480 with 1 Axes>"
            ],
            "image/png": "[encoded data removed]"
          },
          "metadata": {}
        }
      ]
    },
    {
      "cell_type": "code",
      "source": [
        "x = sp.symbols('x')\n",
        "p = sp.plot(x - 3, \n",
        "            x - 3, \n",
        "            title = 'The lines coincide\\nInfinitely Many Solutions\\n\\n',\n",
        "            xlabel = '$x_1$',\n",
        "            ylabel = '$x_2$',\n",
        "            show=False, \n",
        "            legend=True, \n",
        "            xlim=[-4, 4], \n",
        "            ylim=[-4, 4])\n",
        "\n",
        "p[0].line_color = 'red'\n",
        "p[0].label = '$x_1 - x_2 = 3$'\n",
        "\n",
        "p[1].line_color = 'dodgerblue'\n",
        "p[1].label = '$2x_1 - 2x_2 = 6$'\n",
        "\n",
        "plt.rcParams['axes.grid'] = True\n",
        "\n",
        "p.show()\n",
        "\n",
        "# reset rcParams to defaults\n",
        "plt.rcParams.update(plt.rcParamsDefault)"
      ],
      "metadata": {
        "colab": {
          "base_uri": "https://localhost:8080/",
          "height": 487
        },
        "id": "Ti8zl9b88PFf",
        "outputId": "8b0d68aa-ddf8-4a55-95b9-9e0030459b91"
      },
      "execution_count": null,
      "outputs": [
        {
          "output_type": "display_data",
          "data": {
            "text/plain": [
              "<Figure size 640x480 with 1 Axes>"
            ],
            "image/png": "[encoded data removed]"
          },
          "metadata": {}
        }
      ]
    },
    {
      "cell_type": "markdown",
      "source": [
        "### Real World Applications\n",
        "\n",
        "- A photo is a 2D representation of a 3D world. Linear algebra is used for this transformation\n",
        "- Cryptography"
      ],
      "metadata": {
        "id": "gCe6tSYb-KvD"
      }
    },
    {
      "cell_type": "markdown",
      "source": [
        "## 1.1.1.6 Practice Quiz"
      ],
      "metadata": {
        "id": "NAJp9BOT-sf2"
      }
    }
  ]
}