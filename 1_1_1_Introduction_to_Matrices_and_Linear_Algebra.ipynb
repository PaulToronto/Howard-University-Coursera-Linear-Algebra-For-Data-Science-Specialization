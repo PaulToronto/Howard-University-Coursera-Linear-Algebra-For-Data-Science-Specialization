{
  "nbformat": 4,
  "nbformat_minor": 0,
  "metadata": {
    "colab": {
      "provenance": [],
      "toc_visible": true,
      "authorship_tag": "ABX9TyNd2a9ta26TgLMBP8pO7CrZ",
      "include_colab_link": true
    },
    "kernelspec": {
      "name": "python3",
      "display_name": "Python 3"
    },
    "language_info": {
      "name": "python"
    }
  },
  "cells": [
    {
      "cell_type": "markdown",
      "metadata": {
        "id": "view-in-github",
        "colab_type": "text"
      },
      "source": [
        "<a href=\"https://colab.research.google.com/github/PaulToronto/Howard-University-Coursera-Linear-Algebra-For-Data-Science-Specialization/blob/main/1_1_1_Introduction_to_Matrices_and_Linear_Algebra.ipynb\" target=\"_parent\"><img src=\"https://colab.research.google.com/assets/colab-badge.svg\" alt=\"Open In Colab\"/></a>"
      ]
    },
    {
      "cell_type": "markdown",
      "source": [
        "# 1.1.1 Introduction to Matrices and Linear Algebra"
      ],
      "metadata": {
        "id": "Auo0E9BZa-aL"
      }
    },
    {
      "cell_type": "code",
      "source": [
        "import numpy as np\n",
        "import sympy as sp\n",
        "import random\n",
        "\n",
        "import matplotlib.pyplot as plt"
      ],
      "metadata": {
        "id": "C9xGZCXQTjup"
      },
      "execution_count": 1,
      "outputs": []
    },
    {
      "cell_type": "markdown",
      "source": [
        "## 1.1.1.1 How to Document Your Code"
      ],
      "metadata": {
        "id": "FP8UE6LhbUlJ"
      }
    },
    {
      "cell_type": "markdown",
      "source": [
        "### List Comprehension"
      ],
      "metadata": {
        "id": "kw3pqtwRb2Sk"
      }
    },
    {
      "cell_type": "code",
      "execution_count": 2,
      "metadata": {
        "colab": {
          "base_uri": "https://localhost:8080/"
        },
        "id": "jB4zx5BqZ10F",
        "outputId": "469a602b-83ec-4b73-ce20-9ad59f9c48d3"
      },
      "outputs": [
        {
          "output_type": "execute_result",
          "data": {
            "text/plain": [
              "[0, 2, 4, 6, 8, 10, 12, 14, 16, 18, 20]"
            ]
          },
          "metadata": {},
          "execution_count": 2
        }
      ],
      "source": [
        "double = []\n",
        "\n",
        "for i in range(11):\n",
        "    double.append(i * 2)\n",
        "\n",
        "double"
      ]
    },
    {
      "cell_type": "code",
      "source": [
        "double_comprehension = [i * 2 for i in range(11)]\n",
        "double_comprehension"
      ],
      "metadata": {
        "colab": {
          "base_uri": "https://localhost:8080/"
        },
        "id": "NJRGZoAMcP-9",
        "outputId": "ff13a70a-55f1-4377-fa49-4392ed437efe"
      },
      "execution_count": 3,
      "outputs": [
        {
          "output_type": "execute_result",
          "data": {
            "text/plain": [
              "[0, 2, 4, 6, 8, 10, 12, 14, 16, 18, 20]"
            ]
          },
          "metadata": {},
          "execution_count": 3
        }
      ]
    },
    {
      "cell_type": "markdown",
      "source": [
        "### Simplifying `if` Statements"
      ],
      "metadata": {
        "id": "SA1rGLntCRQl"
      }
    },
    {
      "cell_type": "code",
      "source": [
        "emp_names = ['John','Josh', 'Mia', 'Nia', 'David']"
      ],
      "metadata": {
        "id": "f_108mVnCcYK"
      },
      "execution_count": 4,
      "outputs": []
    },
    {
      "cell_type": "code",
      "source": [
        "name = 'John'\n",
        "\n",
        "if name == 'John' or name == 'Josh' or name == 'Mia' or name == 'Nia' or name == 'David':\n",
        "    print('Employee')\n",
        "else:\n",
        "    print('Not an employee')"
      ],
      "metadata": {
        "colab": {
          "base_uri": "https://localhost:8080/"
        },
        "id": "iHzxkGejC10l",
        "outputId": "58883875-da4f-4097-ae04-44bae8c732a4"
      },
      "execution_count": 5,
      "outputs": [
        {
          "output_type": "stream",
          "name": "stdout",
          "text": [
            "Employee\n"
          ]
        }
      ]
    },
    {
      "cell_type": "code",
      "source": [
        "if name in emp_names:\n",
        "    print('Employee')\n",
        "else:\n",
        "    print('Not an employee')"
      ],
      "metadata": {
        "colab": {
          "base_uri": "https://localhost:8080/"
        },
        "id": "BgAW_qX4DRvS",
        "outputId": "7c2ddbfe-3a78-45ca-de4d-dbc9775b4b19"
      },
      "execution_count": 6,
      "outputs": [
        {
          "output_type": "stream",
          "name": "stdout",
          "text": [
            "Employee\n"
          ]
        }
      ]
    },
    {
      "cell_type": "markdown",
      "source": [
        "### Using Enumerate"
      ],
      "metadata": {
        "id": "JtldzaPrDm3O"
      }
    },
    {
      "cell_type": "code",
      "source": [
        "my_list = [2, -3, 10, 11, -7]\n",
        "\n",
        "for i in range(len(my_list)):\n",
        "    if my_list[i] < 0:\n",
        "        my_list[i] = 0\n",
        "\n",
        "print(my_list)"
      ],
      "metadata": {
        "colab": {
          "base_uri": "https://localhost:8080/"
        },
        "id": "HvO0JkQ2Er8A",
        "outputId": "17a7dd91-b4a6-4e25-e34b-f1ccff85dc17"
      },
      "execution_count": 7,
      "outputs": [
        {
          "output_type": "stream",
          "name": "stdout",
          "text": [
            "[2, 0, 10, 11, 0]\n"
          ]
        }
      ]
    },
    {
      "cell_type": "code",
      "source": [
        "my_list = [2, -3, 10, 11, -7]\n",
        "\n",
        "for i, element in enumerate(my_list):\n",
        "    if element < 0:\n",
        "        my_list[i] = 0\n",
        "\n",
        "print(my_list)"
      ],
      "metadata": {
        "colab": {
          "base_uri": "https://localhost:8080/"
        },
        "id": "SUZvSCEsFMFr",
        "outputId": "7f5d1c39-359e-4151-d775-9a9ca874ebf7"
      },
      "execution_count": 8,
      "outputs": [
        {
          "output_type": "stream",
          "name": "stdout",
          "text": [
            "[2, 0, 10, 11, 0]\n"
          ]
        }
      ]
    },
    {
      "cell_type": "markdown",
      "source": [
        "### Saving Memory with a Generator\n",
        "\n",
        "- memory is measured with `sys.getsizeof()`"
      ],
      "metadata": {
        "id": "vYUU4t_WF8E7"
      }
    },
    {
      "cell_type": "code",
      "source": [
        "import sys"
      ],
      "metadata": {
        "id": "x8jTs-45JVh5"
      },
      "execution_count": 9,
      "outputs": []
    },
    {
      "cell_type": "code",
      "source": [
        "a_list = [i**2 for i in range(100000)]\n",
        "type(a_list)"
      ],
      "metadata": {
        "colab": {
          "base_uri": "https://localhost:8080/"
        },
        "id": "e7gaw-ulGBOs",
        "outputId": "43cb3057-d259-4343-da43-f8210beafbea"
      },
      "execution_count": 10,
      "outputs": [
        {
          "output_type": "execute_result",
          "data": {
            "text/plain": [
              "list"
            ]
          },
          "metadata": {},
          "execution_count": 10
        }
      ]
    },
    {
      "cell_type": "code",
      "source": [
        "sys.getsizeof(a_list, 'bytes')"
      ],
      "metadata": {
        "colab": {
          "base_uri": "https://localhost:8080/"
        },
        "id": "TT75BqCqJdvA",
        "outputId": "9be703e8-385a-40df-9e89-4e7d1f34f1c4"
      },
      "execution_count": 11,
      "outputs": [
        {
          "output_type": "execute_result",
          "data": {
            "text/plain": [
              "800984"
            ]
          },
          "metadata": {},
          "execution_count": 11
        }
      ]
    },
    {
      "cell_type": "code",
      "source": [
        "a_gen = (i**2 for i in range(100000))\n",
        "type(a_gen)"
      ],
      "metadata": {
        "colab": {
          "base_uri": "https://localhost:8080/"
        },
        "id": "M0ziUC4iIdMP",
        "outputId": "0ea9172f-1ab7-45c9-df5a-b0b67eba51cc"
      },
      "execution_count": 12,
      "outputs": [
        {
          "output_type": "execute_result",
          "data": {
            "text/plain": [
              "generator"
            ]
          },
          "metadata": {},
          "execution_count": 12
        }
      ]
    },
    {
      "cell_type": "code",
      "source": [
        "a_gen"
      ],
      "metadata": {
        "colab": {
          "base_uri": "https://localhost:8080/"
        },
        "id": "et2IOYMYIzw6",
        "outputId": "40b3092e-75fa-4996-806e-c8f3ba1263ce"
      },
      "execution_count": 13,
      "outputs": [
        {
          "output_type": "execute_result",
          "data": {
            "text/plain": [
              "<generator object <genexpr> at 0x7a2ea248ae30>"
            ]
          },
          "metadata": {},
          "execution_count": 13
        }
      ]
    },
    {
      "cell_type": "code",
      "source": [
        "sys.getsizeof(a_gen, 'bytes')"
      ],
      "metadata": {
        "colab": {
          "base_uri": "https://localhost:8080/"
        },
        "id": "RVi_tMnlJpvo",
        "outputId": "3e99573a-f9e0-4c2b-ee47-bc85940d2314"
      },
      "execution_count": 14,
      "outputs": [
        {
          "output_type": "execute_result",
          "data": {
            "text/plain": [
              "104"
            ]
          },
          "metadata": {},
          "execution_count": 14
        }
      ]
    },
    {
      "cell_type": "code",
      "source": [
        "sum(a_gen) == sum(a_list)"
      ],
      "metadata": {
        "colab": {
          "base_uri": "https://localhost:8080/"
        },
        "id": "cL61frENLRvF",
        "outputId": "9bbba980-e16b-4ac2-d09c-8214b95fd679"
      },
      "execution_count": 15,
      "outputs": [
        {
          "output_type": "execute_result",
          "data": {
            "text/plain": [
              "True"
            ]
          },
          "metadata": {},
          "execution_count": 15
        }
      ]
    },
    {
      "cell_type": "markdown",
      "source": [
        "## 1.1.1.2 Python Resources"
      ],
      "metadata": {
        "id": "pKZEbryGM0aq"
      }
    },
    {
      "cell_type": "markdown",
      "source": [
        "- [Pandas DataFrame](https://pandas.pydata.org/pandas-docs/stable/user_guide/index.html)\n",
        "- [NumPy](https://numpy.org/doc/stable/user/whatisnumpy.html)\n",
        "    - [Numpy.Matrix](https://numpy.org/doc/stable/user/absolute_beginners.html)\n",
        "    - [Numpy.Matmul](https://numpy.org/doc/stable/reference/generated/numpy.matmul.html)\n",
        "- [SymPy Matrices](https://docs.sympy.org/latest/tutorials/intro-tutorial/matrices.html)\n",
        "- [SymPy Matrices (linear algebra)](https://docs.sympy.org/latest/modules/matrices/matrices.html)\n",
        "- [matplotlib](https://matplotlib.org/stable/tutorials/index.html)\n",
        "- [pyplot](https://matplotlib.org/stable/tutorials/introductory/pyplot.html)\n",
        "- [seaborn](https://seaborn.pydata.org/tutorial.html)\n",
        "- [seaborn styling](https://www.codecademy.com/article/seaborn-design-ii)\n"
      ],
      "metadata": {
        "id": "6uhfkrrMM93N"
      }
    },
    {
      "cell_type": "markdown",
      "source": [
        "## 1.1.1.3 Introduction to Matrices"
      ],
      "metadata": {
        "id": "m2KRDdchOvzw"
      }
    },
    {
      "cell_type": "markdown",
      "source": [
        "### Definitions\n",
        "\n",
        "A **matrix** is a rectangular array of numbers. The numbers of the matrix are called **entries**\n",
        "\n",
        "A matrix is sometimes denoted by $A = \\left(a_{ij}\\right)$, where $a_{ij}$ is the entry in the $i^{th}$ row and the $j^{th}$ column of matrix $A$.\n",
        "\n",
        "The **dimension** or **size** of a matrix is the number of rows of the matrix by the number of columns. If $A = \\left(a_{23}\\right)$, its size is $2 \\times 3$.\n",
        "\n",
        "A matrix that has the same number of rows as columns is called a **square matrix**.\n",
        "\n",
        "A matrix with a single column ($i \\times 1$) is called **column matrix** or a **column vector**.\n",
        "\n",
        "Let $A$ be an $m \\times n$ matrix. Then the **transpose** of $A$, denoted by $A^{T}$, is the $n \\times m$ matrix whose columns are formed by the rows of $A$.\n",
        "\n",
        "$A =\n",
        "\\left[\n",
        "\\begin{matrix}\n",
        "a & b & c \\\\\n",
        "d & e & f\n",
        "\\end{matrix}\n",
        "\\right]\n",
        "$\n",
        "<br><br>\n",
        "$\n",
        "A^{T} =\n",
        "\\left[\n",
        "\\begin{matrix}\n",
        "a & d \\\\\n",
        "b & e \\\\\n",
        "c & f\n",
        "\\end{matrix}\n",
        "\\right]\n",
        "$"
      ],
      "metadata": {
        "id": "qmg-6x0uPODs"
      }
    },
    {
      "cell_type": "markdown",
      "source": [
        "## 1.1.1.4 Introduction to Matrices in Python Using NumPy and SymPy"
      ],
      "metadata": {
        "id": "fcDlj-IXYC4g"
      }
    },
    {
      "cell_type": "code",
      "source": [
        "M = np.array([[1, 2, 3],\n",
        "              [4, 5, 6],\n",
        "              [7, 8, 9]])\n",
        "\n",
        "M"
      ],
      "metadata": {
        "colab": {
          "base_uri": "https://localhost:8080/"
        },
        "id": "D-Ie5tJjZQhk",
        "outputId": "dd9ffe48-7407-4ef9-b773-3fc243399d10"
      },
      "execution_count": 16,
      "outputs": [
        {
          "output_type": "execute_result",
          "data": {
            "text/plain": [
              "array([[1, 2, 3],\n",
              "       [4, 5, 6],\n",
              "       [7, 8, 9]])"
            ]
          },
          "metadata": {},
          "execution_count": 16
        }
      ]
    },
    {
      "cell_type": "code",
      "source": [
        "M = sp.Matrix([[1, 2, 3],\n",
        "               [4, 5, 6],\n",
        "               [7, 8, 9]])\n",
        "M"
      ],
      "metadata": {
        "colab": {
          "base_uri": "https://localhost:8080/",
          "height": 78
        },
        "id": "wq7h12jemr7z",
        "outputId": "3f0aae4e-9b73-49da-bb9f-b75b7c908d02"
      },
      "execution_count": 17,
      "outputs": [
        {
          "output_type": "execute_result",
          "data": {
            "text/plain": [
              "Matrix([\n",
              "[1, 2, 3],\n",
              "[4, 5, 6],\n",
              "[7, 8, 9]])"
            ],
            "text/latex": "$\\displaystyle \\left[\\begin{matrix}1 & 2 & 3\\\\4 & 5 & 6\\\\7 & 8 & 9\\end{matrix}\\right]$"
          },
          "metadata": {},
          "execution_count": 17
        }
      ]
    },
    {
      "cell_type": "markdown",
      "source": [
        "##### Detour: `np.random.randint()`"
      ],
      "metadata": {
        "id": "AIjbTxO6m8iK"
      }
    },
    {
      "cell_type": "code",
      "source": [
        "# np.random.randint(low, high=None, size=None, dtype=int)\n",
        "# returns an integer in the range: [low, high)\n",
        "# if high=None, the default, then it returns an integer in the range\n",
        "#   [0, low)\n",
        "\n",
        "def make_random_dict(low, high=None):\n",
        "    my_dict = dict()\n",
        "    for i in range(1000):\n",
        "        key = np.random.randint(low, high)\n",
        "        if key in my_dict.keys():\n",
        "            my_dict[key] += 1\n",
        "        else:\n",
        "            my_dict[key] = 1\n",
        "    return my_dict"
      ],
      "metadata": {
        "id": "HUykciCQZ0MO"
      },
      "execution_count": 18,
      "outputs": []
    },
    {
      "cell_type": "code",
      "source": [
        "make_random_dict(3)"
      ],
      "metadata": {
        "colab": {
          "base_uri": "https://localhost:8080/"
        },
        "id": "6itHO9O5bBvv",
        "outputId": "02f273eb-5214-484d-e5ae-d559837f6052"
      },
      "execution_count": 19,
      "outputs": [
        {
          "output_type": "execute_result",
          "data": {
            "text/plain": [
              "{0: 312, 1: 322, 2: 366}"
            ]
          },
          "metadata": {},
          "execution_count": 19
        }
      ]
    },
    {
      "cell_type": "code",
      "source": [
        "make_random_dict(10, 15)"
      ],
      "metadata": {
        "colab": {
          "base_uri": "https://localhost:8080/"
        },
        "id": "-b2SCUaDcIu3",
        "outputId": "f82cf3c0-cd8c-4026-ffa9-0445544ba4ef"
      },
      "execution_count": 20,
      "outputs": [
        {
          "output_type": "execute_result",
          "data": {
            "text/plain": [
              "{12: 212, 10: 196, 11: 209, 14: 208, 13: 175}"
            ]
          },
          "metadata": {},
          "execution_count": 20
        }
      ]
    },
    {
      "cell_type": "code",
      "source": [
        "make_random_dict(-2, 3)"
      ],
      "metadata": {
        "colab": {
          "base_uri": "https://localhost:8080/"
        },
        "id": "9aaJWG5ncxmZ",
        "outputId": "5f2527c9-d0d0-4f83-b036-d4448f7f611e"
      },
      "execution_count": 21,
      "outputs": [
        {
          "output_type": "execute_result",
          "data": {
            "text/plain": [
              "{-1: 234, 0: 197, -2: 193, 2: 189, 1: 187}"
            ]
          },
          "metadata": {},
          "execution_count": 21
        }
      ]
    },
    {
      "cell_type": "markdown",
      "source": [
        "### A Matrix of Random Integers"
      ],
      "metadata": {
        "id": "lQNeAJKpcel-"
      }
    },
    {
      "cell_type": "markdown",
      "source": [
        "```\n",
        "randint(low, high=None, size=None, dtype=int)\n",
        "\n",
        "Return random integers from `low` (inclusive) to `high` (exclusive).\n",
        "```"
      ],
      "metadata": {
        "id": "llixBiqvfZ9L"
      }
    },
    {
      "cell_type": "code",
      "source": [
        "T = np.random.randint(-2, 3, size=(2, 2))\n",
        "T"
      ],
      "metadata": {
        "colab": {
          "base_uri": "https://localhost:8080/"
        },
        "id": "Km99vG7HcomF",
        "outputId": "d0fd4043-cde7-4186-adad-c524d1b1af49"
      },
      "execution_count": 22,
      "outputs": [
        {
          "output_type": "execute_result",
          "data": {
            "text/plain": [
              "array([[-2,  0],\n",
              "       [-2,  0]])"
            ]
          },
          "metadata": {},
          "execution_count": 22
        }
      ]
    },
    {
      "cell_type": "code",
      "source": [
        "T = sp.Matrix(T)\n",
        "T"
      ],
      "metadata": {
        "colab": {
          "base_uri": "https://localhost:8080/",
          "height": 58
        },
        "id": "NxZp2Uvdn6wm",
        "outputId": "1556bc04-8d5b-4d4c-974b-ec2481ba1342"
      },
      "execution_count": 23,
      "outputs": [
        {
          "output_type": "execute_result",
          "data": {
            "text/plain": [
              "Matrix([\n",
              "[-2, 0],\n",
              "[-2, 0]])"
            ],
            "text/latex": "$\\displaystyle \\left[\\begin{matrix}-2 & 0\\\\-2 & 0\\end{matrix}\\right]$"
          },
          "metadata": {},
          "execution_count": 23
        }
      ]
    },
    {
      "cell_type": "code",
      "source": [
        "A = np.random.randint(-2, 3, size=(4,1))\n",
        "A"
      ],
      "metadata": {
        "colab": {
          "base_uri": "https://localhost:8080/"
        },
        "id": "pERR2uhmdJ83",
        "outputId": "77137977-117d-460f-f008-9aa540529f2b"
      },
      "execution_count": 24,
      "outputs": [
        {
          "output_type": "execute_result",
          "data": {
            "text/plain": [
              "array([[ 1],\n",
              "       [-1],\n",
              "       [-1],\n",
              "       [ 1]])"
            ]
          },
          "metadata": {},
          "execution_count": 24
        }
      ]
    },
    {
      "cell_type": "code",
      "source": [
        "A.shape"
      ],
      "metadata": {
        "colab": {
          "base_uri": "https://localhost:8080/"
        },
        "id": "MU_xVciUoY8o",
        "outputId": "4019362a-6670-4032-9cdd-a133451b0087"
      },
      "execution_count": 25,
      "outputs": [
        {
          "output_type": "execute_result",
          "data": {
            "text/plain": [
              "(4, 1)"
            ]
          },
          "metadata": {},
          "execution_count": 25
        }
      ]
    },
    {
      "cell_type": "code",
      "source": [
        "A = sp.Matrix(A)\n",
        "A"
      ],
      "metadata": {
        "colab": {
          "base_uri": "https://localhost:8080/",
          "height": 98
        },
        "id": "Qh7kwrTzoT0a",
        "outputId": "a703d655-d279-4dd2-9a88-3b284f17d607"
      },
      "execution_count": 26,
      "outputs": [
        {
          "output_type": "execute_result",
          "data": {
            "text/plain": [
              "Matrix([\n",
              "[ 1],\n",
              "[-1],\n",
              "[-1],\n",
              "[ 1]])"
            ],
            "text/latex": "$\\displaystyle \\left[\\begin{matrix}1\\\\-1\\\\-1\\\\1\\end{matrix}\\right]$"
          },
          "metadata": {},
          "execution_count": 26
        }
      ]
    },
    {
      "cell_type": "code",
      "source": [
        "A.shape"
      ],
      "metadata": {
        "colab": {
          "base_uri": "https://localhost:8080/"
        },
        "id": "AIRwkjqqdxeL",
        "outputId": "ab58564b-adb1-4a2f-be25-292e1d7845e5"
      },
      "execution_count": 27,
      "outputs": [
        {
          "output_type": "execute_result",
          "data": {
            "text/plain": [
              "(4, 1)"
            ]
          },
          "metadata": {},
          "execution_count": 27
        }
      ]
    },
    {
      "cell_type": "code",
      "source": [
        "B = np.random.randint(-2, 3, size=(1, 4))\n",
        "B"
      ],
      "metadata": {
        "colab": {
          "base_uri": "https://localhost:8080/"
        },
        "id": "3QBc2zVRdZVy",
        "outputId": "97fa1ee1-966b-4f9f-b49e-8ed1c46f68fc"
      },
      "execution_count": 28,
      "outputs": [
        {
          "output_type": "execute_result",
          "data": {
            "text/plain": [
              "array([[ 0, -2, -1,  2]])"
            ]
          },
          "metadata": {},
          "execution_count": 28
        }
      ]
    },
    {
      "cell_type": "code",
      "source": [
        "B.shape"
      ],
      "metadata": {
        "colab": {
          "base_uri": "https://localhost:8080/"
        },
        "id": "TN11V_MFolkr",
        "outputId": "4f34f218-9639-48b2-efa1-37f9b063207f"
      },
      "execution_count": 29,
      "outputs": [
        {
          "output_type": "execute_result",
          "data": {
            "text/plain": [
              "(1, 4)"
            ]
          },
          "metadata": {},
          "execution_count": 29
        }
      ]
    },
    {
      "cell_type": "code",
      "source": [
        "B = sp.Matrix(B)\n",
        "B"
      ],
      "metadata": {
        "colab": {
          "base_uri": "https://localhost:8080/",
          "height": 39
        },
        "id": "JIhkbjdPogyD",
        "outputId": "1bc5ecfe-c8d1-409c-d65e-c99f78f1ad19"
      },
      "execution_count": 30,
      "outputs": [
        {
          "output_type": "execute_result",
          "data": {
            "text/plain": [
              "Matrix([[0, -2, -1, 2]])"
            ],
            "text/latex": "$\\displaystyle \\left[\\begin{matrix}0 & -2 & -1 & 2\\end{matrix}\\right]$"
          },
          "metadata": {},
          "execution_count": 30
        }
      ]
    },
    {
      "cell_type": "code",
      "source": [
        "B.shape"
      ],
      "metadata": {
        "colab": {
          "base_uri": "https://localhost:8080/"
        },
        "id": "RmQcvPyQon3t",
        "outputId": "4937dc45-8dd0-4b3c-f44d-824aa5d02e23"
      },
      "execution_count": 31,
      "outputs": [
        {
          "output_type": "execute_result",
          "data": {
            "text/plain": [
              "(1, 4)"
            ]
          },
          "metadata": {},
          "execution_count": 31
        }
      ]
    },
    {
      "cell_type": "code",
      "source": [
        "C = np.random.randint(-2, 3, size=4)\n",
        "C"
      ],
      "metadata": {
        "colab": {
          "base_uri": "https://localhost:8080/"
        },
        "id": "z_fYde_Odezq",
        "outputId": "37adf82c-9ded-45c1-f911-d239ac9bf06e"
      },
      "execution_count": 32,
      "outputs": [
        {
          "output_type": "execute_result",
          "data": {
            "text/plain": [
              "array([1, 0, 1, 1])"
            ]
          },
          "metadata": {},
          "execution_count": 32
        }
      ]
    },
    {
      "cell_type": "code",
      "source": [
        "C.shape"
      ],
      "metadata": {
        "colab": {
          "base_uri": "https://localhost:8080/"
        },
        "id": "PTooBFvkotB6",
        "outputId": "2f09117f-5408-4928-d0d1-7e5b86368558"
      },
      "execution_count": 33,
      "outputs": [
        {
          "output_type": "execute_result",
          "data": {
            "text/plain": [
              "(4,)"
            ]
          },
          "metadata": {},
          "execution_count": 33
        }
      ]
    },
    {
      "cell_type": "code",
      "source": [
        "C = sp.Matrix(C)\n",
        "C"
      ],
      "metadata": {
        "colab": {
          "base_uri": "https://localhost:8080/",
          "height": 98
        },
        "id": "cPi0rvR4ovYT",
        "outputId": "b44134d6-1ba9-4c6a-c368-3c252a17ea2f"
      },
      "execution_count": 34,
      "outputs": [
        {
          "output_type": "execute_result",
          "data": {
            "text/plain": [
              "Matrix([\n",
              "[1],\n",
              "[0],\n",
              "[1],\n",
              "[1]])"
            ],
            "text/latex": "$\\displaystyle \\left[\\begin{matrix}1\\\\0\\\\1\\\\1\\end{matrix}\\right]$"
          },
          "metadata": {},
          "execution_count": 34
        }
      ]
    },
    {
      "cell_type": "code",
      "source": [
        "C.shape"
      ],
      "metadata": {
        "colab": {
          "base_uri": "https://localhost:8080/"
        },
        "id": "RPRZhvBno1QP",
        "outputId": "a217dd87-ea6b-4f35-b097-d82730491d00"
      },
      "execution_count": 35,
      "outputs": [
        {
          "output_type": "execute_result",
          "data": {
            "text/plain": [
              "(4, 1)"
            ]
          },
          "metadata": {},
          "execution_count": 35
        }
      ]
    },
    {
      "cell_type": "markdown",
      "source": [
        "### Special Matrices"
      ],
      "metadata": {
        "id": "JM2JKS79eZeQ"
      }
    },
    {
      "cell_type": "markdown",
      "source": [
        "#### Identity Matrix"
      ],
      "metadata": {
        "id": "jVHMD7biedOQ"
      }
    },
    {
      "cell_type": "code",
      "source": [
        "I = np.eye(3)\n",
        "I"
      ],
      "metadata": {
        "colab": {
          "base_uri": "https://localhost:8080/"
        },
        "id": "799vv20Ae6gL",
        "outputId": "dba4954f-7b4d-4080-acf2-3e3e51ed2b6e"
      },
      "execution_count": 36,
      "outputs": [
        {
          "output_type": "execute_result",
          "data": {
            "text/plain": [
              "array([[1., 0., 0.],\n",
              "       [0., 1., 0.],\n",
              "       [0., 0., 1.]])"
            ]
          },
          "metadata": {},
          "execution_count": 36
        }
      ]
    },
    {
      "cell_type": "code",
      "source": [
        "I = sp.eye(3)\n",
        "I"
      ],
      "metadata": {
        "colab": {
          "base_uri": "https://localhost:8080/",
          "height": 78
        },
        "id": "jKSZZtSXpbl_",
        "outputId": "7daf3520-3cef-4674-9944-86a816547a63"
      },
      "execution_count": 37,
      "outputs": [
        {
          "output_type": "execute_result",
          "data": {
            "text/plain": [
              "Matrix([\n",
              "[1, 0, 0],\n",
              "[0, 1, 0],\n",
              "[0, 0, 1]])"
            ],
            "text/latex": "$\\displaystyle \\left[\\begin{matrix}1 & 0 & 0\\\\0 & 1 & 0\\\\0 & 0 & 1\\end{matrix}\\right]$"
          },
          "metadata": {},
          "execution_count": 37
        }
      ]
    },
    {
      "cell_type": "code",
      "source": [
        "I = np.eye(3, 4)\n",
        "I"
      ],
      "metadata": {
        "colab": {
          "base_uri": "https://localhost:8080/"
        },
        "id": "48FKR3WBfCVo",
        "outputId": "1fa93cef-815f-423d-aadd-2f4ad58f7b41"
      },
      "execution_count": 38,
      "outputs": [
        {
          "output_type": "execute_result",
          "data": {
            "text/plain": [
              "array([[1., 0., 0., 0.],\n",
              "       [0., 1., 0., 0.],\n",
              "       [0., 0., 1., 0.]])"
            ]
          },
          "metadata": {},
          "execution_count": 38
        }
      ]
    },
    {
      "cell_type": "code",
      "source": [
        "I = sp.eye(3, 4)\n",
        "I"
      ],
      "metadata": {
        "colab": {
          "base_uri": "https://localhost:8080/",
          "height": 78
        },
        "id": "rUVbzKjqpguJ",
        "outputId": "3e3a75cd-b9f5-4a8b-f5cc-917ae566411f"
      },
      "execution_count": 39,
      "outputs": [
        {
          "output_type": "execute_result",
          "data": {
            "text/plain": [
              "Matrix([\n",
              "[1, 0, 0, 0],\n",
              "[0, 1, 0, 0],\n",
              "[0, 0, 1, 0]])"
            ],
            "text/latex": "$\\displaystyle \\left[\\begin{matrix}1 & 0 & 0 & 0\\\\0 & 1 & 0 & 0\\\\0 & 0 & 1 & 0\\end{matrix}\\right]$"
          },
          "metadata": {},
          "execution_count": 39
        }
      ]
    },
    {
      "cell_type": "markdown",
      "source": [
        "#### Zeros Matrix\n",
        "\n",
        "- unlike `np.eye`, the argument is a tuple"
      ],
      "metadata": {
        "id": "Qwx_0gSZi11D"
      }
    },
    {
      "cell_type": "code",
      "source": [
        "Z = np.zeros(3)\n",
        "Z"
      ],
      "metadata": {
        "colab": {
          "base_uri": "https://localhost:8080/"
        },
        "id": "NvfHjY7qi4ND",
        "outputId": "8eb6421d-9c3c-4e87-a9b1-87a3d9267648"
      },
      "execution_count": 40,
      "outputs": [
        {
          "output_type": "execute_result",
          "data": {
            "text/plain": [
              "array([0., 0., 0.])"
            ]
          },
          "metadata": {},
          "execution_count": 40
        }
      ]
    },
    {
      "cell_type": "code",
      "source": [
        "Z = sp.zeros(3)\n",
        "Z"
      ],
      "metadata": {
        "colab": {
          "base_uri": "https://localhost:8080/",
          "height": 78
        },
        "id": "xvsZmCDTqJQE",
        "outputId": "333d49f7-fff4-473f-d980-5725b946eb7d"
      },
      "execution_count": 41,
      "outputs": [
        {
          "output_type": "execute_result",
          "data": {
            "text/plain": [
              "Matrix([\n",
              "[0, 0, 0],\n",
              "[0, 0, 0],\n",
              "[0, 0, 0]])"
            ],
            "text/latex": "$\\displaystyle \\left[\\begin{matrix}0 & 0 & 0\\\\0 & 0 & 0\\\\0 & 0 & 0\\end{matrix}\\right]$"
          },
          "metadata": {},
          "execution_count": 41
        }
      ]
    },
    {
      "cell_type": "code",
      "source": [
        "Z = np.zeros((2, 3))\n",
        "Z"
      ],
      "metadata": {
        "colab": {
          "base_uri": "https://localhost:8080/"
        },
        "id": "Y4of91PRjHA4",
        "outputId": "c4776f8e-1f52-4518-fc2b-8746aeebf460"
      },
      "execution_count": 42,
      "outputs": [
        {
          "output_type": "execute_result",
          "data": {
            "text/plain": [
              "array([[0., 0., 0.],\n",
              "       [0., 0., 0.]])"
            ]
          },
          "metadata": {},
          "execution_count": 42
        }
      ]
    },
    {
      "cell_type": "code",
      "source": [
        "Z = sp.zeros(2, 3)\n",
        "Z"
      ],
      "metadata": {
        "colab": {
          "base_uri": "https://localhost:8080/",
          "height": 58
        },
        "id": "D1D0Pf_LqM_O",
        "outputId": "446182df-f0e3-456e-861c-b238d00debad"
      },
      "execution_count": 43,
      "outputs": [
        {
          "output_type": "execute_result",
          "data": {
            "text/plain": [
              "Matrix([\n",
              "[0, 0, 0],\n",
              "[0, 0, 0]])"
            ],
            "text/latex": "$\\displaystyle \\left[\\begin{matrix}0 & 0 & 0\\\\0 & 0 & 0\\end{matrix}\\right]$"
          },
          "metadata": {},
          "execution_count": 43
        }
      ]
    },
    {
      "cell_type": "markdown",
      "source": [
        "#### Ones Matrix"
      ],
      "metadata": {
        "id": "ZceIX-gqjn4r"
      }
    },
    {
      "cell_type": "code",
      "source": [
        "O = np.ones(3)\n",
        "O"
      ],
      "metadata": {
        "colab": {
          "base_uri": "https://localhost:8080/"
        },
        "id": "MkNy-WBUjlba",
        "outputId": "6f25fdf1-0cfb-45de-e575-f3ab936936fe"
      },
      "execution_count": 44,
      "outputs": [
        {
          "output_type": "execute_result",
          "data": {
            "text/plain": [
              "array([1., 1., 1.])"
            ]
          },
          "metadata": {},
          "execution_count": 44
        }
      ]
    },
    {
      "cell_type": "code",
      "source": [
        "O = sp.ones(3)\n",
        "O"
      ],
      "metadata": {
        "colab": {
          "base_uri": "https://localhost:8080/",
          "height": 78
        },
        "id": "F20nzAseqt6B",
        "outputId": "ebe43f86-aa45-4cc1-d8b8-2a1b2d565b0a"
      },
      "execution_count": 45,
      "outputs": [
        {
          "output_type": "execute_result",
          "data": {
            "text/plain": [
              "Matrix([\n",
              "[1, 1, 1],\n",
              "[1, 1, 1],\n",
              "[1, 1, 1]])"
            ],
            "text/latex": "$\\displaystyle \\left[\\begin{matrix}1 & 1 & 1\\\\1 & 1 & 1\\\\1 & 1 & 1\\end{matrix}\\right]$"
          },
          "metadata": {},
          "execution_count": 45
        }
      ]
    },
    {
      "cell_type": "code",
      "source": [
        "O = np.ones((3, 2))\n",
        "O"
      ],
      "metadata": {
        "colab": {
          "base_uri": "https://localhost:8080/"
        },
        "id": "f9RC1ypcjxDq",
        "outputId": "19dca2fe-facd-4ee8-f73b-93224dab58e1"
      },
      "execution_count": 46,
      "outputs": [
        {
          "output_type": "execute_result",
          "data": {
            "text/plain": [
              "array([[1., 1.],\n",
              "       [1., 1.],\n",
              "       [1., 1.]])"
            ]
          },
          "metadata": {},
          "execution_count": 46
        }
      ]
    },
    {
      "cell_type": "code",
      "source": [
        "O = sp.ones(3, 2)\n",
        "O"
      ],
      "metadata": {
        "colab": {
          "base_uri": "https://localhost:8080/",
          "height": 78
        },
        "id": "ZBNCCJGUqxqG",
        "outputId": "cd8788ea-cd71-425a-dd73-b6ecc40a9b7b"
      },
      "execution_count": 47,
      "outputs": [
        {
          "output_type": "execute_result",
          "data": {
            "text/plain": [
              "Matrix([\n",
              "[1, 1],\n",
              "[1, 1],\n",
              "[1, 1]])"
            ],
            "text/latex": "$\\displaystyle \\left[\\begin{matrix}1 & 1\\\\1 & 1\\\\1 & 1\\end{matrix}\\right]$"
          },
          "metadata": {},
          "execution_count": 47
        }
      ]
    },
    {
      "cell_type": "markdown",
      "source": [
        "#### Diagonal Matrix"
      ],
      "metadata": {
        "id": "OWG7RxarkBS4"
      }
    },
    {
      "cell_type": "code",
      "source": [
        "D = np.diag([1, 2, 3])\n",
        "D"
      ],
      "metadata": {
        "colab": {
          "base_uri": "https://localhost:8080/"
        },
        "id": "bFe0AssykEFx",
        "outputId": "76bc2951-a11b-44f5-b6da-7e5e12b7e2c9"
      },
      "execution_count": 48,
      "outputs": [
        {
          "output_type": "execute_result",
          "data": {
            "text/plain": [
              "array([[1, 0, 0],\n",
              "       [0, 2, 0],\n",
              "       [0, 0, 3]])"
            ]
          },
          "metadata": {},
          "execution_count": 48
        }
      ]
    },
    {
      "cell_type": "code",
      "source": [
        "D = sp.diag(1, 2, 3)\n",
        "D"
      ],
      "metadata": {
        "colab": {
          "base_uri": "https://localhost:8080/",
          "height": 78
        },
        "id": "zKJB0ephq9xq",
        "outputId": "d59a1b43-1702-4ad2-f517-f99bae9f7b84"
      },
      "execution_count": 49,
      "outputs": [
        {
          "output_type": "execute_result",
          "data": {
            "text/plain": [
              "Matrix([\n",
              "[1, 0, 0],\n",
              "[0, 2, 0],\n",
              "[0, 0, 3]])"
            ],
            "text/latex": "$\\displaystyle \\left[\\begin{matrix}1 & 0 & 0\\\\0 & 2 & 0\\\\0 & 0 & 3\\end{matrix}\\right]$"
          },
          "metadata": {},
          "execution_count": 49
        }
      ]
    },
    {
      "cell_type": "markdown",
      "source": [
        "##### `np.diag(M)` when applied to a Matrix"
      ],
      "metadata": {
        "id": "Hygs-g5HlPUn"
      }
    },
    {
      "cell_type": "code",
      "source": [
        "M = np.array([[1, 2, 3],\n",
        "              [4, 5, 6],\n",
        "              [7, 8, 9]])\n",
        "\n",
        "M"
      ],
      "metadata": {
        "colab": {
          "base_uri": "https://localhost:8080/"
        },
        "id": "UShDJrbclsVQ",
        "outputId": "1f9a8b5a-8394-418c-9ba1-8f84fb4b1319"
      },
      "execution_count": 50,
      "outputs": [
        {
          "output_type": "execute_result",
          "data": {
            "text/plain": [
              "array([[1, 2, 3],\n",
              "       [4, 5, 6],\n",
              "       [7, 8, 9]])"
            ]
          },
          "metadata": {},
          "execution_count": 50
        }
      ]
    },
    {
      "cell_type": "code",
      "source": [
        "C = np.diag(M)\n",
        "C"
      ],
      "metadata": {
        "colab": {
          "base_uri": "https://localhost:8080/"
        },
        "id": "kKkp2Q48lING",
        "outputId": "90bdcd6d-ab01-40b4-a3e3-b575a51dc5ea"
      },
      "execution_count": 51,
      "outputs": [
        {
          "output_type": "execute_result",
          "data": {
            "text/plain": [
              "array([1, 5, 9])"
            ]
          },
          "metadata": {},
          "execution_count": 51
        }
      ]
    },
    {
      "cell_type": "markdown",
      "source": [
        "## 1.1.1.5 How is Linear Algebra Used to Solve Problems?"
      ],
      "metadata": {
        "id": "9-H9AaPLr0qj"
      }
    },
    {
      "cell_type": "markdown",
      "source": [
        "### Definition of Linear Algebra\n",
        "\n",
        "The study of systems of linear equations.\n",
        "\n",
        "A **system of linear equations** is a set, or collection of linear equations."
      ],
      "metadata": {
        "id": "f8OOe9UCs0H7"
      }
    },
    {
      "cell_type": "markdown",
      "source": [
        "#### Example\n",
        "\n",
        "A set of two linear equations in the plane is an example of a system of linear equations.\n",
        "\n",
        "There are two possibilities for these two lines:\n",
        "\n",
        "1. The lines intersect at exactly one point\n",
        "    - One solution\n",
        "2. The lines are parallel\n",
        "    - No solutions\n",
        "3. The lines are coincide\n",
        "    - Infinitely many solutions"
      ],
      "metadata": {
        "id": "nNw5E3YfxXop"
      }
    },
    {
      "cell_type": "code",
      "source": [
        "x = sp.symbols('x')\n",
        "x"
      ],
      "metadata": {
        "colab": {
          "base_uri": "https://localhost:8080/",
          "height": 39
        },
        "id": "JSXCvs61VVye",
        "outputId": "0ec7bf2c-d8d7-41c4-9adc-a5c6a8a42a2b"
      },
      "execution_count": 52,
      "outputs": [
        {
          "output_type": "execute_result",
          "data": {
            "text/plain": [
              "x"
            ],
            "text/latex": "$\\displaystyle x$"
          },
          "metadata": {},
          "execution_count": 52
        }
      ]
    },
    {
      "cell_type": "code",
      "source": [
        "p = sp.plot(x - 3,\n",
        "            -2*x,\n",
        "            title = 'The lines intersect at exactly one point\\nOne Solution\\n\\n',\n",
        "            xlabel = '$x_1$',\n",
        "            ylabel = '$x_2$',\n",
        "            show=False,\n",
        "            legend=True,\n",
        "            xlim=[-4, 4],\n",
        "            ylim=[-4, 4])\n",
        "\n",
        "p[0].line_color = 'red'\n",
        "p[0].label = '$x_1 - x_2 = 3$'\n",
        "\n",
        "p[1].line_color = 'dodgerblue'\n",
        "p[1].label = '$2x_1 + x_2 = 0$'\n",
        "\n",
        "plt.rcParams['axes.grid'] = True\n",
        "\n",
        "p.show()\n",
        "\n",
        "# reset rcParams to defaults\n",
        "plt.rcParams.update(plt.rcParamsDefault)"
      ],
      "metadata": {
        "colab": {
          "base_uri": "https://localhost:8080/",
          "height": 487
        },
        "id": "7FGMCLmHxn8x",
        "outputId": "8a2c7395-763f-4ef9-f50c-b702dae70ae0"
      },
      "execution_count": 53,
      "outputs": [
        {
          "output_type": "display_data",
          "data": {
            "text/plain": [
              "<Figure size 640x480 with 1 Axes>"
            ],
            "image/png": "[encoded data removed]"
          },
          "metadata": {}
        }
      ]
    },
    {
      "cell_type": "code",
      "source": [
        "x = sp.symbols('x')\n",
        "p = sp.plot(x - 3,\n",
        "            x - 2,\n",
        "            title = 'The lines are parallel\\nNo Solutions\\n\\n',\n",
        "            xlabel = '$x_1$',\n",
        "            ylabel = '$x_2$',\n",
        "            show=False,\n",
        "            legend=True,\n",
        "            xlim=[-4, 4],\n",
        "            ylim=[-4, 4])\n",
        "\n",
        "p[0].line_color = 'red'\n",
        "p[0].label = '$x_1 - x_2 = 3$'\n",
        "\n",
        "p[1].line_color = 'dodgerblue'\n",
        "p[1].label = '$x_1 - x_2 = 2$'\n",
        "\n",
        "plt.rcParams['axes.grid'] = True\n",
        "\n",
        "p.show()\n",
        "\n",
        "# reset rcParams to defaults\n",
        "plt.rcParams.update(plt.rcParamsDefault)"
      ],
      "metadata": {
        "colab": {
          "base_uri": "https://localhost:8080/",
          "height": 487
        },
        "id": "3hiX6ui77oA-",
        "outputId": "1b704e8a-5838-46b1-d54f-08b9f0cf66f5"
      },
      "execution_count": 54,
      "outputs": [
        {
          "output_type": "display_data",
          "data": {
            "text/plain": [
              "<Figure size 640x480 with 1 Axes>"
            ],
            "image/png": "[encoded data removed]"
          },
          "metadata": {}
        }
      ]
    },
    {
      "cell_type": "code",
      "source": [
        "%matplotlib inline"
      ],
      "metadata": {
        "id": "NrFO54qdX4_T"
      },
      "execution_count": 55,
      "outputs": []
    },
    {
      "cell_type": "code",
      "source": [
        "x = sp.symbols('x')\n",
        "p = sp.plot(x - 3,\n",
        "            x - 3,\n",
        "            title = 'The lines coincide\\nInfinitely Many Solutions\\n\\n',\n",
        "            xlabel = '$x_1$',\n",
        "            ylabel = '$x_2$',\n",
        "            show=False,\n",
        "            legend=True,\n",
        "            xlim=[-4, 4],\n",
        "            ylim=[-4, 4])\n",
        "\n",
        "p[0].line_color = 'red'\n",
        "p[0].label = '$x_1 - x_2 = 3$'\n",
        "\n",
        "p[1].line_color = 'dodgerblue'\n",
        "p[1].label = '$2x_1 - 2x_2 = 6$'\n",
        "\n",
        "plt.rcParams['axes.grid'] = True\n",
        "\n",
        "p.show()\n",
        "\n",
        "# reset rcParams to defaults\n",
        "plt.rcParams.update(plt.rcParamsDefault)"
      ],
      "metadata": {
        "colab": {
          "base_uri": "https://localhost:8080/",
          "height": 487
        },
        "id": "Ti8zl9b88PFf",
        "outputId": "33204425-a91f-4b03-bcaf-a1fefb68b4f3"
      },
      "execution_count": 56,
      "outputs": [
        {
          "output_type": "display_data",
          "data": {
            "text/plain": [
              "<Figure size 640x480 with 1 Axes>"
            ],
            "image/png": "[encoded data removed]"
          },
          "metadata": {}
        }
      ]
    },
    {
      "cell_type": "markdown",
      "source": [
        "### Real World Applications\n",
        "\n",
        "- A photo is a 2D representation of a 3D world. Linear algebra is used for this transformation\n",
        "- Cryptography"
      ],
      "metadata": {
        "id": "gCe6tSYb-KvD"
      }
    }
  ]
}