{
  "nbformat": 4,
  "nbformat_minor": 0,
  "metadata": {
    "colab": {
      "provenance": [],
      "toc_visible": true,
      "authorship_tag": "ABX9TyNd2a9ta26TgLMBP8pO7CrZ",
      "include_colab_link": true
    },
    "kernelspec": {
      "name": "python3",
      "display_name": "Python 3"
    },
    "language_info": {
      "name": "python"
    }
  },
  "cells": [
    {
      "cell_type": "markdown",
      "metadata": {
        "id": "view-in-github",
        "colab_type": "text"
      },
      "source": [
        "<a href=\"https://colab.research.google.com/github/PaulToronto/Howard-University-Coursera-Linear-Algebra-For-Data-Science-Specialization/blob/main/1_1_1_Introduction_to_Matrices_and_Linear_Algebra.ipynb\" target=\"_parent\"><img src=\"https://colab.research.google.com/assets/colab-badge.svg\" alt=\"Open In Colab\"/></a>"
      ]
    },
    {
      "cell_type": "markdown",
      "source": [
        "# 1.1.1 Introduction to Matrices and Linear Algebra"
      ],
      "metadata": {
        "id": "Auo0E9BZa-aL"
      }
    },
    {
      "cell_type": "code",
      "source": [
        "import numpy as np\n",
        "import sympy as sp\n",
        "import random\n",
        "\n",
        "import matplotlib.pyplot as plt"
      ],
      "metadata": {
        "id": "C9xGZCXQTjup"
      },
      "execution_count": 1,
      "outputs": []
    },
    {
      "cell_type": "markdown",
      "source": [
        "## 1.1.1.1 How to Document Your Code"
      ],
      "metadata": {
        "id": "FP8UE6LhbUlJ"
      }
    },
    {
      "cell_type": "markdown",
      "source": [
        "### List Comprehension"
      ],
      "metadata": {
        "id": "kw3pqtwRb2Sk"
      }
    },
    {
      "cell_type": "code",
      "execution_count": 2,
      "metadata": {
        "colab": {
          "base_uri": "https://localhost:8080/"
        },
        "id": "jB4zx5BqZ10F",
        "outputId": "05a60459-4cc5-42df-b53f-b6b64bbbd0b5"
      },
      "outputs": [
        {
          "output_type": "execute_result",
          "data": {
            "text/plain": [
              "[0, 2, 4, 6, 8, 10, 12, 14, 16, 18, 20]"
            ]
          },
          "metadata": {},
          "execution_count": 2
        }
      ],
      "source": [
        "double = []\n",
        "\n",
        "for i in range(11):\n",
        "    double.append(i * 2)\n",
        "\n",
        "double"
      ]
    },
    {
      "cell_type": "code",
      "source": [
        "double_comprehension = [i * 2 for i in range(11)]\n",
        "double_comprehension"
      ],
      "metadata": {
        "colab": {
          "base_uri": "https://localhost:8080/"
        },
        "id": "NJRGZoAMcP-9",
        "outputId": "5e2114e7-2685-4145-d569-39b1a7301099"
      },
      "execution_count": 3,
      "outputs": [
        {
          "output_type": "execute_result",
          "data": {
            "text/plain": [
              "[0, 2, 4, 6, 8, 10, 12, 14, 16, 18, 20]"
            ]
          },
          "metadata": {},
          "execution_count": 3
        }
      ]
    },
    {
      "cell_type": "markdown",
      "source": [
        "### Simplifying `if` Statements"
      ],
      "metadata": {
        "id": "SA1rGLntCRQl"
      }
    },
    {
      "cell_type": "code",
      "source": [
        "emp_names = ['John','Josh', 'Mia', 'Nia', 'David']"
      ],
      "metadata": {
        "id": "f_108mVnCcYK"
      },
      "execution_count": 4,
      "outputs": []
    },
    {
      "cell_type": "code",
      "source": [
        "name = 'John'\n",
        "\n",
        "if name == 'John' or name == 'Josh' or name == 'Mia' or name == 'Nia' or name == 'David':\n",
        "    print('Employee')\n",
        "else:\n",
        "    print('Not an employee')"
      ],
      "metadata": {
        "colab": {
          "base_uri": "https://localhost:8080/"
        },
        "id": "iHzxkGejC10l",
        "outputId": "5e7fcf70-d89e-4c92-be6e-0950a2a8f4f3"
      },
      "execution_count": 5,
      "outputs": [
        {
          "output_type": "stream",
          "name": "stdout",
          "text": [
            "Employee\n"
          ]
        }
      ]
    },
    {
      "cell_type": "code",
      "source": [
        "if name in emp_names:\n",
        "    print('Employee')\n",
        "else:\n",
        "    print('Not an employee')"
      ],
      "metadata": {
        "colab": {
          "base_uri": "https://localhost:8080/"
        },
        "id": "BgAW_qX4DRvS",
        "outputId": "16d930f9-5847-49b7-a2bc-f3d049ab9440"
      },
      "execution_count": 6,
      "outputs": [
        {
          "output_type": "stream",
          "name": "stdout",
          "text": [
            "Employee\n"
          ]
        }
      ]
    },
    {
      "cell_type": "markdown",
      "source": [
        "### Using Enumerate"
      ],
      "metadata": {
        "id": "JtldzaPrDm3O"
      }
    },
    {
      "cell_type": "code",
      "source": [
        "my_list = [2, -3, 10, 11, -7]\n",
        "\n",
        "for i in range(len(my_list)):\n",
        "    if my_list[i] < 0:\n",
        "        my_list[i] = 0\n",
        "\n",
        "print(my_list)"
      ],
      "metadata": {
        "colab": {
          "base_uri": "https://localhost:8080/"
        },
        "id": "HvO0JkQ2Er8A",
        "outputId": "fd6aafcf-e6e1-438f-faf3-97f5b94655c3"
      },
      "execution_count": 7,
      "outputs": [
        {
          "output_type": "stream",
          "name": "stdout",
          "text": [
            "[2, 0, 10, 11, 0]\n"
          ]
        }
      ]
    },
    {
      "cell_type": "code",
      "source": [
        "my_list = [2, -3, 10, 11, -7]\n",
        "\n",
        "for i, element in enumerate(my_list):\n",
        "    if element < 0:\n",
        "        my_list[i] = 0\n",
        "\n",
        "print(my_list)"
      ],
      "metadata": {
        "colab": {
          "base_uri": "https://localhost:8080/"
        },
        "id": "SUZvSCEsFMFr",
        "outputId": "eb1fa270-7c9b-444a-a7e6-6645ee268061"
      },
      "execution_count": 8,
      "outputs": [
        {
          "output_type": "stream",
          "name": "stdout",
          "text": [
            "[2, 0, 10, 11, 0]\n"
          ]
        }
      ]
    },
    {
      "cell_type": "markdown",
      "source": [
        "### Saving Memory with a Generator\n",
        "\n",
        "- memory is measured with `sys.getsizeof()`"
      ],
      "metadata": {
        "id": "vYUU4t_WF8E7"
      }
    },
    {
      "cell_type": "code",
      "source": [
        "import sys"
      ],
      "metadata": {
        "id": "x8jTs-45JVh5"
      },
      "execution_count": 9,
      "outputs": []
    },
    {
      "cell_type": "code",
      "source": [
        "a_list = [i**2 for i in range(100000)]\n",
        "type(a_list)"
      ],
      "metadata": {
        "colab": {
          "base_uri": "https://localhost:8080/"
        },
        "id": "e7gaw-ulGBOs",
        "outputId": "f1242603-eaa3-46a7-c1e4-82e97932207e"
      },
      "execution_count": 10,
      "outputs": [
        {
          "output_type": "execute_result",
          "data": {
            "text/plain": [
              "list"
            ]
          },
          "metadata": {},
          "execution_count": 10
        }
      ]
    },
    {
      "cell_type": "code",
      "source": [
        "sys.getsizeof(a_list, 'bytes')"
      ],
      "metadata": {
        "colab": {
          "base_uri": "https://localhost:8080/"
        },
        "id": "TT75BqCqJdvA",
        "outputId": "ed3c3bae-610f-4552-885a-16dfd1cb6207"
      },
      "execution_count": 11,
      "outputs": [
        {
          "output_type": "execute_result",
          "data": {
            "text/plain": [
              "800984"
            ]
          },
          "metadata": {},
          "execution_count": 11
        }
      ]
    },
    {
      "cell_type": "code",
      "source": [
        "a_gen = (i**2 for i in range(100000))\n",
        "type(a_gen)"
      ],
      "metadata": {
        "colab": {
          "base_uri": "https://localhost:8080/"
        },
        "id": "M0ziUC4iIdMP",
        "outputId": "50e49b80-56dd-49c7-9a45-a663756bd1fe"
      },
      "execution_count": 12,
      "outputs": [
        {
          "output_type": "execute_result",
          "data": {
            "text/plain": [
              "generator"
            ]
          },
          "metadata": {},
          "execution_count": 12
        }
      ]
    },
    {
      "cell_type": "code",
      "source": [
        "a_gen"
      ],
      "metadata": {
        "colab": {
          "base_uri": "https://localhost:8080/"
        },
        "id": "et2IOYMYIzw6",
        "outputId": "ccc2363f-6aba-4833-8fcf-7025381a20fa"
      },
      "execution_count": 13,
      "outputs": [
        {
          "output_type": "execute_result",
          "data": {
            "text/plain": [
              "<generator object <genexpr> at 0x7e6d8276a810>"
            ]
          },
          "metadata": {},
          "execution_count": 13
        }
      ]
    },
    {
      "cell_type": "code",
      "source": [
        "sys.getsizeof(a_gen, 'bytes')"
      ],
      "metadata": {
        "colab": {
          "base_uri": "https://localhost:8080/"
        },
        "id": "RVi_tMnlJpvo",
        "outputId": "76415e1c-ed2b-4539-a10f-9d344662db61"
      },
      "execution_count": 14,
      "outputs": [
        {
          "output_type": "execute_result",
          "data": {
            "text/plain": [
              "104"
            ]
          },
          "metadata": {},
          "execution_count": 14
        }
      ]
    },
    {
      "cell_type": "code",
      "source": [
        "sum(a_gen) == sum(a_list)"
      ],
      "metadata": {
        "colab": {
          "base_uri": "https://localhost:8080/"
        },
        "id": "cL61frENLRvF",
        "outputId": "bedd4a20-379f-4b76-bf29-d883145ead3a"
      },
      "execution_count": 15,
      "outputs": [
        {
          "output_type": "execute_result",
          "data": {
            "text/plain": [
              "True"
            ]
          },
          "metadata": {},
          "execution_count": 15
        }
      ]
    },
    {
      "cell_type": "markdown",
      "source": [
        "## 1.1.1.2 Python Resources"
      ],
      "metadata": {
        "id": "pKZEbryGM0aq"
      }
    },
    {
      "cell_type": "markdown",
      "source": [
        "- [Pandas DataFrame](https://pandas.pydata.org/pandas-docs/stable/user_guide/index.html)\n",
        "- [NumPy](https://numpy.org/doc/stable/user/whatisnumpy.html)\n",
        "    - [Numpy.Matrix](https://numpy.org/doc/stable/user/absolute_beginners.html)\n",
        "    - [Numpy.Matmul](https://numpy.org/doc/stable/reference/generated/numpy.matmul.html)\n",
        "- [SymPy Matrices](https://docs.sympy.org/latest/tutorials/intro-tutorial/matrices.html)\n",
        "- [SymPy Matrices (linear algebra)](https://docs.sympy.org/latest/modules/matrices/matrices.html)\n",
        "- [matplotlib](https://matplotlib.org/stable/tutorials/index.html)\n",
        "- [pyplot](https://matplotlib.org/stable/tutorials/introductory/pyplot.html)\n",
        "- [seaborn](https://seaborn.pydata.org/tutorial.html)\n",
        "- [seaborn styling](https://www.codecademy.com/article/seaborn-design-ii)\n"
      ],
      "metadata": {
        "id": "6uhfkrrMM93N"
      }
    },
    {
      "cell_type": "markdown",
      "source": [
        "## 1.1.1.3 Introduction to Matrices"
      ],
      "metadata": {
        "id": "m2KRDdchOvzw"
      }
    },
    {
      "cell_type": "markdown",
      "source": [
        "### Definitions\n",
        "\n",
        "A **matrix** is a rectangular array of numbers. The numbers of the matrix are called **entries**\n",
        "\n",
        "A matrix is sometimes denoted by $A = \\left(a_{ij}\\right)$, where $a_{ij}$ is the entry in the $i^{th}$ row and the $j^{th}$ column of matrix $A$.\n",
        "\n",
        "The **dimension** or **size** of a matrix is the number of rows of the matrix by the number of columns. If $A = \\left(a_{23}\\right)$, its size is $2 \\times 3$.\n",
        "\n",
        "A matrix that has the same number of rows as columns is called a **square matrix**.\n",
        "\n",
        "A matrix with a single column ($i \\times 1$) is called **column matrix** or a **column vector**.\n",
        "\n",
        "Let $A$ be an $m \\times n$ matrix. Then the **transpose** of $A$, denoted by $A^{T}$, is the $n \\times m$ matrix whose columns are formed by the rows of $A$.\n",
        "\n",
        "$A =\n",
        "\\left[\n",
        "\\begin{matrix}\n",
        "a & b & c \\\\\n",
        "d & e & f\n",
        "\\end{matrix}\n",
        "\\right]\n",
        "$\n",
        "<br><br>\n",
        "$\n",
        "A^{T} =\n",
        "\\left[\n",
        "\\begin{matrix}\n",
        "a & d \\\\\n",
        "b & e \\\\\n",
        "c & f\n",
        "\\end{matrix}\n",
        "\\right]\n",
        "$"
      ],
      "metadata": {
        "id": "qmg-6x0uPODs"
      }
    },
    {
      "cell_type": "markdown",
      "source": [
        "## 1.1.1.4 Introduction to Matrices in Python Using NumPy and SymPy"
      ],
      "metadata": {
        "id": "fcDlj-IXYC4g"
      }
    },
    {
      "cell_type": "code",
      "source": [
        "M = np.array([[1, 2, 3],\n",
        "              [4, 5, 6],\n",
        "              [7, 8, 9]])\n",
        "\n",
        "M"
      ],
      "metadata": {
        "colab": {
          "base_uri": "https://localhost:8080/"
        },
        "id": "D-Ie5tJjZQhk",
        "outputId": "dd564a95-ee0f-4f72-a9a3-5cc1ea1ec1bc"
      },
      "execution_count": 16,
      "outputs": [
        {
          "output_type": "execute_result",
          "data": {
            "text/plain": [
              "array([[1, 2, 3],\n",
              "       [4, 5, 6],\n",
              "       [7, 8, 9]])"
            ]
          },
          "metadata": {},
          "execution_count": 16
        }
      ]
    },
    {
      "cell_type": "code",
      "source": [
        "M = sp.Matrix([[1, 2, 3],\n",
        "               [4, 5, 6],\n",
        "               [7, 8, 9]])\n",
        "M"
      ],
      "metadata": {
        "colab": {
          "base_uri": "https://localhost:8080/",
          "height": 78
        },
        "id": "wq7h12jemr7z",
        "outputId": "47fe418e-0ccd-4430-8d20-0187ef37f363"
      },
      "execution_count": 17,
      "outputs": [
        {
          "output_type": "execute_result",
          "data": {
            "text/plain": [
              "Matrix([\n",
              "[1, 2, 3],\n",
              "[4, 5, 6],\n",
              "[7, 8, 9]])"
            ],
            "text/latex": "$\\displaystyle \\left[\\begin{matrix}1 & 2 & 3\\\\4 & 5 & 6\\\\7 & 8 & 9\\end{matrix}\\right]$"
          },
          "metadata": {},
          "execution_count": 17
        }
      ]
    },
    {
      "cell_type": "markdown",
      "source": [
        "##### Detour: `np.random.randint()`"
      ],
      "metadata": {
        "id": "AIjbTxO6m8iK"
      }
    },
    {
      "cell_type": "code",
      "source": [
        "# np.random.randint(low, high=None, size=None, dtype=int)\n",
        "# returns an integer in the range: [low, high)\n",
        "# if high=None, the default, then it returns an integer in the range\n",
        "#   [0, low)\n",
        "\n",
        "def make_random_dict(low, high=None):\n",
        "    my_dict = dict()\n",
        "    for i in range(1000):\n",
        "        key = np.random.randint(low, high)\n",
        "        if key in my_dict.keys():\n",
        "            my_dict[key] += 1\n",
        "        else:\n",
        "            my_dict[key] = 1\n",
        "    return my_dict"
      ],
      "metadata": {
        "id": "HUykciCQZ0MO"
      },
      "execution_count": 18,
      "outputs": []
    },
    {
      "cell_type": "code",
      "source": [
        "make_random_dict(3)"
      ],
      "metadata": {
        "colab": {
          "base_uri": "https://localhost:8080/"
        },
        "id": "6itHO9O5bBvv",
        "outputId": "a0546d69-0723-4225-851c-9858c3c06537"
      },
      "execution_count": 19,
      "outputs": [
        {
          "output_type": "execute_result",
          "data": {
            "text/plain": [
              "{0: 332, 2: 323, 1: 345}"
            ]
          },
          "metadata": {},
          "execution_count": 19
        }
      ]
    },
    {
      "cell_type": "code",
      "source": [
        "make_random_dict(10, 15)"
      ],
      "metadata": {
        "colab": {
          "base_uri": "https://localhost:8080/"
        },
        "id": "-b2SCUaDcIu3",
        "outputId": "adda1880-84fe-4f24-d30f-9385fbc5beea"
      },
      "execution_count": 20,
      "outputs": [
        {
          "output_type": "execute_result",
          "data": {
            "text/plain": [
              "{14: 195, 12: 213, 10: 211, 11: 188, 13: 193}"
            ]
          },
          "metadata": {},
          "execution_count": 20
        }
      ]
    },
    {
      "cell_type": "code",
      "source": [
        "make_random_dict(-2, 3)"
      ],
      "metadata": {
        "colab": {
          "base_uri": "https://localhost:8080/"
        },
        "id": "9aaJWG5ncxmZ",
        "outputId": "9f0d28a2-3713-4881-811a-25c4386232ed"
      },
      "execution_count": 21,
      "outputs": [
        {
          "output_type": "execute_result",
          "data": {
            "text/plain": [
              "{2: 201, 0: 196, 1: 216, -2: 189, -1: 198}"
            ]
          },
          "metadata": {},
          "execution_count": 21
        }
      ]
    },
    {
      "cell_type": "markdown",
      "source": [
        "### A Matrix of Random Integers"
      ],
      "metadata": {
        "id": "lQNeAJKpcel-"
      }
    },
    {
      "cell_type": "markdown",
      "source": [
        "```\n",
        "randint(low, high=None, size=None, dtype=int)\n",
        "\n",
        "Return random integers from `low` (inclusive) to `high` (exclusive).\n",
        "```"
      ],
      "metadata": {
        "id": "llixBiqvfZ9L"
      }
    },
    {
      "cell_type": "code",
      "source": [
        "T = np.random.randint(-2, 3, size=(2, 2))\n",
        "T"
      ],
      "metadata": {
        "colab": {
          "base_uri": "https://localhost:8080/"
        },
        "id": "Km99vG7HcomF",
        "outputId": "1c533df4-f103-4ac7-fe9c-c69cca108acd"
      },
      "execution_count": 22,
      "outputs": [
        {
          "output_type": "execute_result",
          "data": {
            "text/plain": [
              "array([[-2,  2],\n",
              "       [-2,  0]])"
            ]
          },
          "metadata": {},
          "execution_count": 22
        }
      ]
    },
    {
      "cell_type": "code",
      "source": [
        "T = sp.Matrix(T)\n",
        "T"
      ],
      "metadata": {
        "colab": {
          "base_uri": "https://localhost:8080/",
          "height": 58
        },
        "id": "NxZp2Uvdn6wm",
        "outputId": "75a29a2a-9a91-45ae-a575-8dba335c402d"
      },
      "execution_count": 23,
      "outputs": [
        {
          "output_type": "execute_result",
          "data": {
            "text/plain": [
              "Matrix([\n",
              "[-2, 2],\n",
              "[-2, 0]])"
            ],
            "text/latex": "$\\displaystyle \\left[\\begin{matrix}-2 & 2\\\\-2 & 0\\end{matrix}\\right]$"
          },
          "metadata": {},
          "execution_count": 23
        }
      ]
    },
    {
      "cell_type": "code",
      "source": [
        "A = np.random.randint(-2, 3, size=(4,1))\n",
        "A"
      ],
      "metadata": {
        "colab": {
          "base_uri": "https://localhost:8080/"
        },
        "id": "pERR2uhmdJ83",
        "outputId": "8d73df2a-3c3b-4024-9359-bb0dcbee19fe"
      },
      "execution_count": 24,
      "outputs": [
        {
          "output_type": "execute_result",
          "data": {
            "text/plain": [
              "array([[-2],\n",
              "       [-1],\n",
              "       [-2],\n",
              "       [-1]])"
            ]
          },
          "metadata": {},
          "execution_count": 24
        }
      ]
    },
    {
      "cell_type": "code",
      "source": [
        "A.shape"
      ],
      "metadata": {
        "colab": {
          "base_uri": "https://localhost:8080/"
        },
        "id": "MU_xVciUoY8o",
        "outputId": "7691879d-1d55-464a-d198-47edfed0ebeb"
      },
      "execution_count": 25,
      "outputs": [
        {
          "output_type": "execute_result",
          "data": {
            "text/plain": [
              "(4, 1)"
            ]
          },
          "metadata": {},
          "execution_count": 25
        }
      ]
    },
    {
      "cell_type": "code",
      "source": [
        "A = sp.Matrix(A)\n",
        "A"
      ],
      "metadata": {
        "colab": {
          "base_uri": "https://localhost:8080/",
          "height": 98
        },
        "id": "Qh7kwrTzoT0a",
        "outputId": "f2f88fe6-266a-4646-adf7-be627b91a436"
      },
      "execution_count": 26,
      "outputs": [
        {
          "output_type": "execute_result",
          "data": {
            "text/plain": [
              "Matrix([\n",
              "[-2],\n",
              "[-1],\n",
              "[-2],\n",
              "[-1]])"
            ],
            "text/latex": "$\\displaystyle \\left[\\begin{matrix}-2\\\\-1\\\\-2\\\\-1\\end{matrix}\\right]$"
          },
          "metadata": {},
          "execution_count": 26
        }
      ]
    },
    {
      "cell_type": "code",
      "source": [
        "A.shape"
      ],
      "metadata": {
        "colab": {
          "base_uri": "https://localhost:8080/"
        },
        "id": "AIRwkjqqdxeL",
        "outputId": "a99e02df-c7ee-4365-c8be-8a5eebfa3242"
      },
      "execution_count": 27,
      "outputs": [
        {
          "output_type": "execute_result",
          "data": {
            "text/plain": [
              "(4, 1)"
            ]
          },
          "metadata": {},
          "execution_count": 27
        }
      ]
    },
    {
      "cell_type": "code",
      "source": [
        "B = np.random.randint(-2, 3, size=(1, 4))\n",
        "B"
      ],
      "metadata": {
        "colab": {
          "base_uri": "https://localhost:8080/"
        },
        "id": "3QBc2zVRdZVy",
        "outputId": "20f7cd9c-d6bb-4053-b406-d7e1fc09a3ea"
      },
      "execution_count": 28,
      "outputs": [
        {
          "output_type": "execute_result",
          "data": {
            "text/plain": [
              "array([[-2,  2, -2,  2]])"
            ]
          },
          "metadata": {},
          "execution_count": 28
        }
      ]
    },
    {
      "cell_type": "code",
      "source": [
        "B.shape"
      ],
      "metadata": {
        "colab": {
          "base_uri": "https://localhost:8080/"
        },
        "id": "TN11V_MFolkr",
        "outputId": "eca60f67-07a1-4ae5-ceda-35857f2b0286"
      },
      "execution_count": 29,
      "outputs": [
        {
          "output_type": "execute_result",
          "data": {
            "text/plain": [
              "(1, 4)"
            ]
          },
          "metadata": {},
          "execution_count": 29
        }
      ]
    },
    {
      "cell_type": "code",
      "source": [
        "B = sp.Matrix(B)\n",
        "B"
      ],
      "metadata": {
        "colab": {
          "base_uri": "https://localhost:8080/",
          "height": 39
        },
        "id": "JIhkbjdPogyD",
        "outputId": "84f0ff19-4da1-4f44-f2dc-fb33b3bd6676"
      },
      "execution_count": 30,
      "outputs": [
        {
          "output_type": "execute_result",
          "data": {
            "text/plain": [
              "Matrix([[-2, 2, -2, 2]])"
            ],
            "text/latex": "$\\displaystyle \\left[\\begin{matrix}-2 & 2 & -2 & 2\\end{matrix}\\right]$"
          },
          "metadata": {},
          "execution_count": 30
        }
      ]
    },
    {
      "cell_type": "code",
      "source": [
        "B.shape"
      ],
      "metadata": {
        "colab": {
          "base_uri": "https://localhost:8080/"
        },
        "id": "RmQcvPyQon3t",
        "outputId": "2da6d7a4-3088-4327-c812-509c0b1fb85e"
      },
      "execution_count": 31,
      "outputs": [
        {
          "output_type": "execute_result",
          "data": {
            "text/plain": [
              "(1, 4)"
            ]
          },
          "metadata": {},
          "execution_count": 31
        }
      ]
    },
    {
      "cell_type": "code",
      "source": [
        "C = np.random.randint(-2, 3, size=4)\n",
        "C"
      ],
      "metadata": {
        "colab": {
          "base_uri": "https://localhost:8080/"
        },
        "id": "z_fYde_Odezq",
        "outputId": "d920bb64-93b1-441a-b794-616fe12d7b56"
      },
      "execution_count": 32,
      "outputs": [
        {
          "output_type": "execute_result",
          "data": {
            "text/plain": [
              "array([-1, -1, -1, -1])"
            ]
          },
          "metadata": {},
          "execution_count": 32
        }
      ]
    },
    {
      "cell_type": "code",
      "source": [
        "C.shape"
      ],
      "metadata": {
        "colab": {
          "base_uri": "https://localhost:8080/"
        },
        "id": "PTooBFvkotB6",
        "outputId": "dc0d364f-b1d6-4fd4-940d-bfe7145da130"
      },
      "execution_count": 33,
      "outputs": [
        {
          "output_type": "execute_result",
          "data": {
            "text/plain": [
              "(4,)"
            ]
          },
          "metadata": {},
          "execution_count": 33
        }
      ]
    },
    {
      "cell_type": "code",
      "source": [
        "C = sp.Matrix(C)\n",
        "C"
      ],
      "metadata": {
        "colab": {
          "base_uri": "https://localhost:8080/",
          "height": 98
        },
        "id": "cPi0rvR4ovYT",
        "outputId": "178cecd7-3914-49cb-8693-c0630f09e340"
      },
      "execution_count": 34,
      "outputs": [
        {
          "output_type": "execute_result",
          "data": {
            "text/plain": [
              "Matrix([\n",
              "[-1],\n",
              "[-1],\n",
              "[-1],\n",
              "[-1]])"
            ],
            "text/latex": "$\\displaystyle \\left[\\begin{matrix}-1\\\\-1\\\\-1\\\\-1\\end{matrix}\\right]$"
          },
          "metadata": {},
          "execution_count": 34
        }
      ]
    },
    {
      "cell_type": "code",
      "source": [
        "C.shape"
      ],
      "metadata": {
        "colab": {
          "base_uri": "https://localhost:8080/"
        },
        "id": "RPRZhvBno1QP",
        "outputId": "6264f713-a337-4ff8-d4ee-843618e5b196"
      },
      "execution_count": 35,
      "outputs": [
        {
          "output_type": "execute_result",
          "data": {
            "text/plain": [
              "(4, 1)"
            ]
          },
          "metadata": {},
          "execution_count": 35
        }
      ]
    },
    {
      "cell_type": "markdown",
      "source": [
        "### Special Matrices"
      ],
      "metadata": {
        "id": "JM2JKS79eZeQ"
      }
    },
    {
      "cell_type": "markdown",
      "source": [
        "#### Identity Matrix"
      ],
      "metadata": {
        "id": "jVHMD7biedOQ"
      }
    },
    {
      "cell_type": "code",
      "source": [
        "I = np.eye(3)\n",
        "I"
      ],
      "metadata": {
        "colab": {
          "base_uri": "https://localhost:8080/"
        },
        "id": "799vv20Ae6gL",
        "outputId": "f26af0a7-c075-4e56-f61f-92da53cef674"
      },
      "execution_count": 36,
      "outputs": [
        {
          "output_type": "execute_result",
          "data": {
            "text/plain": [
              "array([[1., 0., 0.],\n",
              "       [0., 1., 0.],\n",
              "       [0., 0., 1.]])"
            ]
          },
          "metadata": {},
          "execution_count": 36
        }
      ]
    },
    {
      "cell_type": "code",
      "source": [
        "I = sp.eye(3)\n",
        "I"
      ],
      "metadata": {
        "colab": {
          "base_uri": "https://localhost:8080/",
          "height": 78
        },
        "id": "jKSZZtSXpbl_",
        "outputId": "34ce0e87-fd01-4985-c1ae-7b7a8874365e"
      },
      "execution_count": 37,
      "outputs": [
        {
          "output_type": "execute_result",
          "data": {
            "text/plain": [
              "Matrix([\n",
              "[1, 0, 0],\n",
              "[0, 1, 0],\n",
              "[0, 0, 1]])"
            ],
            "text/latex": "$\\displaystyle \\left[\\begin{matrix}1 & 0 & 0\\\\0 & 1 & 0\\\\0 & 0 & 1\\end{matrix}\\right]$"
          },
          "metadata": {},
          "execution_count": 37
        }
      ]
    },
    {
      "cell_type": "code",
      "source": [
        "I = np.eye(3, 4)\n",
        "I"
      ],
      "metadata": {
        "colab": {
          "base_uri": "https://localhost:8080/"
        },
        "id": "48FKR3WBfCVo",
        "outputId": "f798f965-f3b1-42cc-b67b-043d290182af"
      },
      "execution_count": 38,
      "outputs": [
        {
          "output_type": "execute_result",
          "data": {
            "text/plain": [
              "array([[1., 0., 0., 0.],\n",
              "       [0., 1., 0., 0.],\n",
              "       [0., 0., 1., 0.]])"
            ]
          },
          "metadata": {},
          "execution_count": 38
        }
      ]
    },
    {
      "cell_type": "code",
      "source": [
        "I = sp.eye(3, 4)\n",
        "I"
      ],
      "metadata": {
        "colab": {
          "base_uri": "https://localhost:8080/",
          "height": 78
        },
        "id": "rUVbzKjqpguJ",
        "outputId": "067d3f95-9238-454f-8bfe-80e186b9f8f6"
      },
      "execution_count": 39,
      "outputs": [
        {
          "output_type": "execute_result",
          "data": {
            "text/plain": [
              "Matrix([\n",
              "[1, 0, 0, 0],\n",
              "[0, 1, 0, 0],\n",
              "[0, 0, 1, 0]])"
            ],
            "text/latex": "$\\displaystyle \\left[\\begin{matrix}1 & 0 & 0 & 0\\\\0 & 1 & 0 & 0\\\\0 & 0 & 1 & 0\\end{matrix}\\right]$"
          },
          "metadata": {},
          "execution_count": 39
        }
      ]
    },
    {
      "cell_type": "markdown",
      "source": [
        "#### Zeros Matrix\n",
        "\n",
        "- unlike `np.eye`, the argument is a tuple"
      ],
      "metadata": {
        "id": "Qwx_0gSZi11D"
      }
    },
    {
      "cell_type": "code",
      "source": [
        "Z = np.zeros(3)\n",
        "Z"
      ],
      "metadata": {
        "colab": {
          "base_uri": "https://localhost:8080/"
        },
        "id": "NvfHjY7qi4ND",
        "outputId": "05dea9d1-c8e8-4760-e243-7dfdf22ea911"
      },
      "execution_count": 40,
      "outputs": [
        {
          "output_type": "execute_result",
          "data": {
            "text/plain": [
              "array([0., 0., 0.])"
            ]
          },
          "metadata": {},
          "execution_count": 40
        }
      ]
    },
    {
      "cell_type": "code",
      "source": [
        "Z = sp.zeros(3)\n",
        "Z"
      ],
      "metadata": {
        "colab": {
          "base_uri": "https://localhost:8080/",
          "height": 78
        },
        "id": "xvsZmCDTqJQE",
        "outputId": "59709fa0-0728-465a-fdd7-1775b4024a6b"
      },
      "execution_count": 41,
      "outputs": [
        {
          "output_type": "execute_result",
          "data": {
            "text/plain": [
              "Matrix([\n",
              "[0, 0, 0],\n",
              "[0, 0, 0],\n",
              "[0, 0, 0]])"
            ],
            "text/latex": "$\\displaystyle \\left[\\begin{matrix}0 & 0 & 0\\\\0 & 0 & 0\\\\0 & 0 & 0\\end{matrix}\\right]$"
          },
          "metadata": {},
          "execution_count": 41
        }
      ]
    },
    {
      "cell_type": "code",
      "source": [
        "Z = np.zeros((2, 3))\n",
        "Z"
      ],
      "metadata": {
        "colab": {
          "base_uri": "https://localhost:8080/"
        },
        "id": "Y4of91PRjHA4",
        "outputId": "3b03b40e-7605-4c75-f9eb-e64e2b65514f"
      },
      "execution_count": 42,
      "outputs": [
        {
          "output_type": "execute_result",
          "data": {
            "text/plain": [
              "array([[0., 0., 0.],\n",
              "       [0., 0., 0.]])"
            ]
          },
          "metadata": {},
          "execution_count": 42
        }
      ]
    },
    {
      "cell_type": "code",
      "source": [
        "Z = sp.zeros(2, 3)\n",
        "Z"
      ],
      "metadata": {
        "colab": {
          "base_uri": "https://localhost:8080/",
          "height": 58
        },
        "id": "D1D0Pf_LqM_O",
        "outputId": "1989d801-2a71-4334-f90d-ac9d63242388"
      },
      "execution_count": 43,
      "outputs": [
        {
          "output_type": "execute_result",
          "data": {
            "text/plain": [
              "Matrix([\n",
              "[0, 0, 0],\n",
              "[0, 0, 0]])"
            ],
            "text/latex": "$\\displaystyle \\left[\\begin{matrix}0 & 0 & 0\\\\0 & 0 & 0\\end{matrix}\\right]$"
          },
          "metadata": {},
          "execution_count": 43
        }
      ]
    },
    {
      "cell_type": "markdown",
      "source": [
        "#### Ones Matrix"
      ],
      "metadata": {
        "id": "ZceIX-gqjn4r"
      }
    },
    {
      "cell_type": "code",
      "source": [
        "O = np.ones(3)\n",
        "O"
      ],
      "metadata": {
        "colab": {
          "base_uri": "https://localhost:8080/"
        },
        "id": "MkNy-WBUjlba",
        "outputId": "996d31f8-3f6a-4761-b030-f0bd62d7c4cc"
      },
      "execution_count": 44,
      "outputs": [
        {
          "output_type": "execute_result",
          "data": {
            "text/plain": [
              "array([1., 1., 1.])"
            ]
          },
          "metadata": {},
          "execution_count": 44
        }
      ]
    },
    {
      "cell_type": "code",
      "source": [
        "O = sp.ones(3)\n",
        "O"
      ],
      "metadata": {
        "colab": {
          "base_uri": "https://localhost:8080/",
          "height": 78
        },
        "id": "F20nzAseqt6B",
        "outputId": "68b231e7-ce75-446b-a514-6aef960fec09"
      },
      "execution_count": 45,
      "outputs": [
        {
          "output_type": "execute_result",
          "data": {
            "text/plain": [
              "Matrix([\n",
              "[1, 1, 1],\n",
              "[1, 1, 1],\n",
              "[1, 1, 1]])"
            ],
            "text/latex": "$\\displaystyle \\left[\\begin{matrix}1 & 1 & 1\\\\1 & 1 & 1\\\\1 & 1 & 1\\end{matrix}\\right]$"
          },
          "metadata": {},
          "execution_count": 45
        }
      ]
    },
    {
      "cell_type": "code",
      "source": [
        "O = np.ones((3, 2))\n",
        "O"
      ],
      "metadata": {
        "colab": {
          "base_uri": "https://localhost:8080/"
        },
        "id": "f9RC1ypcjxDq",
        "outputId": "657bebd8-04fc-4cba-e680-d4df27a92984"
      },
      "execution_count": 46,
      "outputs": [
        {
          "output_type": "execute_result",
          "data": {
            "text/plain": [
              "array([[1., 1.],\n",
              "       [1., 1.],\n",
              "       [1., 1.]])"
            ]
          },
          "metadata": {},
          "execution_count": 46
        }
      ]
    },
    {
      "cell_type": "code",
      "source": [
        "O = sp.ones(3, 2)\n",
        "O"
      ],
      "metadata": {
        "colab": {
          "base_uri": "https://localhost:8080/",
          "height": 78
        },
        "id": "ZBNCCJGUqxqG",
        "outputId": "28d2d914-996e-4dfe-a9e8-bd37ad74aa99"
      },
      "execution_count": 47,
      "outputs": [
        {
          "output_type": "execute_result",
          "data": {
            "text/plain": [
              "Matrix([\n",
              "[1, 1],\n",
              "[1, 1],\n",
              "[1, 1]])"
            ],
            "text/latex": "$\\displaystyle \\left[\\begin{matrix}1 & 1\\\\1 & 1\\\\1 & 1\\end{matrix}\\right]$"
          },
          "metadata": {},
          "execution_count": 47
        }
      ]
    },
    {
      "cell_type": "markdown",
      "source": [
        "#### Diagonal Matrix"
      ],
      "metadata": {
        "id": "OWG7RxarkBS4"
      }
    },
    {
      "cell_type": "code",
      "source": [
        "D = np.diag([1, 2, 3])\n",
        "D"
      ],
      "metadata": {
        "colab": {
          "base_uri": "https://localhost:8080/"
        },
        "id": "bFe0AssykEFx",
        "outputId": "ef2ab801-ed76-406e-ee53-2be02c0e1c9d"
      },
      "execution_count": 48,
      "outputs": [
        {
          "output_type": "execute_result",
          "data": {
            "text/plain": [
              "array([[1, 0, 0],\n",
              "       [0, 2, 0],\n",
              "       [0, 0, 3]])"
            ]
          },
          "metadata": {},
          "execution_count": 48
        }
      ]
    },
    {
      "cell_type": "code",
      "source": [
        "D = sp.diag(1, 2, 3)\n",
        "D"
      ],
      "metadata": {
        "colab": {
          "base_uri": "https://localhost:8080/",
          "height": 78
        },
        "id": "zKJB0ephq9xq",
        "outputId": "ec5525dc-4de3-43e2-ec35-d833e8d6e790"
      },
      "execution_count": 49,
      "outputs": [
        {
          "output_type": "execute_result",
          "data": {
            "text/plain": [
              "Matrix([\n",
              "[1, 0, 0],\n",
              "[0, 2, 0],\n",
              "[0, 0, 3]])"
            ],
            "text/latex": "$\\displaystyle \\left[\\begin{matrix}1 & 0 & 0\\\\0 & 2 & 0\\\\0 & 0 & 3\\end{matrix}\\right]$"
          },
          "metadata": {},
          "execution_count": 49
        }
      ]
    },
    {
      "cell_type": "markdown",
      "source": [
        "##### `np.diag(M)` when applied to a Matrix"
      ],
      "metadata": {
        "id": "Hygs-g5HlPUn"
      }
    },
    {
      "cell_type": "code",
      "source": [
        "M = np.array([[1, 2, 3],\n",
        "              [4, 5, 6],\n",
        "              [7, 8, 9]])\n",
        "\n",
        "M"
      ],
      "metadata": {
        "colab": {
          "base_uri": "https://localhost:8080/"
        },
        "id": "UShDJrbclsVQ",
        "outputId": "72dc1d7b-0d7a-4978-a68e-d01d69f5c48f"
      },
      "execution_count": 50,
      "outputs": [
        {
          "output_type": "execute_result",
          "data": {
            "text/plain": [
              "array([[1, 2, 3],\n",
              "       [4, 5, 6],\n",
              "       [7, 8, 9]])"
            ]
          },
          "metadata": {},
          "execution_count": 50
        }
      ]
    },
    {
      "cell_type": "code",
      "source": [
        "C = np.diag(M)\n",
        "C"
      ],
      "metadata": {
        "colab": {
          "base_uri": "https://localhost:8080/"
        },
        "id": "kKkp2Q48lING",
        "outputId": "6834849b-817c-43d1-f3e9-7f92389b3920"
      },
      "execution_count": 51,
      "outputs": [
        {
          "output_type": "execute_result",
          "data": {
            "text/plain": [
              "array([1, 5, 9])"
            ]
          },
          "metadata": {},
          "execution_count": 51
        }
      ]
    },
    {
      "cell_type": "markdown",
      "source": [
        "## 1.1.1.5 How is Linear Algebra Used to Solve Problems?"
      ],
      "metadata": {
        "id": "9-H9AaPLr0qj"
      }
    },
    {
      "cell_type": "markdown",
      "source": [
        "### Definition of Linear Algebra\n",
        "\n",
        "The study of systems of linear equations.\n",
        "\n",
        "A **system of linear equations** is a set, or collection of linear equations."
      ],
      "metadata": {
        "id": "f8OOe9UCs0H7"
      }
    },
    {
      "cell_type": "markdown",
      "source": [
        "#### Example\n",
        "\n",
        "A set of two linear equations in the plane is an example of a system of linear equations.\n",
        "\n",
        "There are two possibilities for these two lines:\n",
        "\n",
        "1. The lines intersect at exactly one point\n",
        "    - One solution\n",
        "2. The lines are parallel\n",
        "    - No solutions\n",
        "3. The lines are coincide\n",
        "    - Infinitely many solutions"
      ],
      "metadata": {
        "id": "nNw5E3YfxXop"
      }
    },
    {
      "cell_type": "code",
      "source": [
        "x = sp.symbols('x')\n",
        "x"
      ],
      "metadata": {
        "colab": {
          "base_uri": "https://localhost:8080/",
          "height": 39
        },
        "id": "JSXCvs61VVye",
        "outputId": "c723021e-d8d7-4d7d-d5e6-a1250acefe18"
      },
      "execution_count": 52,
      "outputs": [
        {
          "output_type": "execute_result",
          "data": {
            "text/plain": [
              "x"
            ],
            "text/latex": "$\\displaystyle x$"
          },
          "metadata": {},
          "execution_count": 52
        }
      ]
    },
    {
      "cell_type": "code",
      "source": [
        "p = sp.plot(x - 3,\n",
        "            -2*x,\n",
        "            title = 'The lines intersect at exactly one point\\nOne Solution\\n\\n',\n",
        "            xlabel = '$x_1$',\n",
        "            ylabel = '$x_2$',\n",
        "            show=False,\n",
        "            legend=True,\n",
        "            xlim=[-4, 4],\n",
        "            ylim=[-4, 4])\n",
        "\n",
        "p[0].line_color = 'red'\n",
        "p[0].label = '$x_1 - x_2 = 3$'\n",
        "\n",
        "p[1].line_color = 'dodgerblue'\n",
        "p[1].label = '$2x_1 + x_2 = 0$'\n",
        "\n",
        "plt.rcParams['axes.grid'] = True\n",
        "\n",
        "p.show()\n",
        "\n",
        "# reset rcParams to defaults\n",
        "plt.rcParams.update(plt.rcParamsDefault)"
      ],
      "metadata": {
        "colab": {
          "base_uri": "https://localhost:8080/",
          "height": 487
        },
        "id": "7FGMCLmHxn8x",
        "outputId": "62ab251a-d88c-4132-a847-01663ac10587"
      },
      "execution_count": 53,
      "outputs": [
        {
          "output_type": "display_data",
          "data": {
            "text/plain": [
              "<Figure size 640x480 with 1 Axes>"
            ],
            "image/png": "[encoded data removed]"
          },
          "metadata": {}
        }
      ]
    },
    {
      "cell_type": "code",
      "source": [
        "x = sp.symbols('x')\n",
        "p = sp.plot(x - 3,\n",
        "            x - 2,\n",
        "            title = 'The lines are parallel\\nNo Solutions\\n\\n',\n",
        "            xlabel = '$x_1$',\n",
        "            ylabel = '$x_2$',\n",
        "            show=False,\n",
        "            legend=True,\n",
        "            xlim=[-4, 4],\n",
        "            ylim=[-4, 4])\n",
        "\n",
        "p[0].line_color = 'red'\n",
        "p[0].label = '$x_1 - x_2 = 3$'\n",
        "\n",
        "p[1].line_color = 'dodgerblue'\n",
        "p[1].label = '$x_1 - x_2 = 2$'\n",
        "\n",
        "plt.rcParams['axes.grid'] = True\n",
        "\n",
        "p.show()\n",
        "\n",
        "# reset rcParams to defaults\n",
        "plt.rcParams.update(plt.rcParamsDefault)"
      ],
      "metadata": {
        "colab": {
          "base_uri": "https://localhost:8080/",
          "height": 487
        },
        "id": "3hiX6ui77oA-",
        "outputId": "6f8ce20e-6889-4220-9a76-2a09fedca373"
      },
      "execution_count": 54,
      "outputs": [
        {
          "output_type": "display_data",
          "data": {
            "text/plain": [
              "<Figure size 640x480 with 1 Axes>"
            ],
            "image/png": "[encoded data removed]"
          },
          "metadata": {}
        }
      ]
    },
    {
      "cell_type": "code",
      "source": [
        "%matplotlib inline"
      ],
      "metadata": {
        "id": "NrFO54qdX4_T"
      },
      "execution_count": 55,
      "outputs": []
    },
    {
      "cell_type": "code",
      "source": [
        "x = sp.symbols('x')\n",
        "p = sp.plot(x - 3,\n",
        "            x - 3,\n",
        "            title = 'The lines coincide\\nInfinitely Many Solutions\\n\\n',\n",
        "            xlabel = '$x_1$',\n",
        "            ylabel = '$x_2$',\n",
        "            show=False,\n",
        "            legend=True,\n",
        "            xlim=[-4, 4],\n",
        "            ylim=[-4, 4])\n",
        "\n",
        "p[0].line_color = 'red'\n",
        "p[0].label = '$x_1 - x_2 = 3$'\n",
        "\n",
        "p[1].line_color = 'dodgerblue'\n",
        "p[1].label = '$2x_1 - 2x_2 = 6$'\n",
        "\n",
        "plt.rcParams['axes.grid'] = True\n",
        "\n",
        "p.show()\n",
        "\n",
        "# reset rcParams to defaults\n",
        "plt.rcParams.update(plt.rcParamsDefault)"
      ],
      "metadata": {
        "colab": {
          "base_uri": "https://localhost:8080/",
          "height": 487
        },
        "id": "Ti8zl9b88PFf",
        "outputId": "7e56a027-3549-4ba2-888f-6e1a16d0d041"
      },
      "execution_count": 56,
      "outputs": [
        {
          "output_type": "display_data",
          "data": {
            "text/plain": [
              "<Figure size 640x480 with 1 Axes>"
            ],
            "image/png": "[encoded data removed]"
          },
          "metadata": {}
        }
      ]
    },
    {
      "cell_type": "markdown",
      "source": [
        "### Real World Applications\n",
        "\n",
        "- A photo is a 2D representation of a 3D world. Linear algebra is used for this transformation\n",
        "- Cryptography"
      ],
      "metadata": {
        "id": "gCe6tSYb-KvD"
      }
    }
  ]
}