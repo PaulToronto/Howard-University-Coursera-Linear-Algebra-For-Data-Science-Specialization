{
  "nbformat": 4,
  "nbformat_minor": 0,
  "metadata": {
    "colab": {
      "provenance": [],
      "toc_visible": true,
      "authorship_tag": "ABX9TyPejj+oECWxEkXYsLshvWll",
      "include_colab_link": true
    },
    "kernelspec": {
      "name": "python3",
      "display_name": "Python 3"
    },
    "language_info": {
      "name": "python"
    }
  },
  "cells": [
    {
      "cell_type": "markdown",
      "metadata": {
        "id": "view-in-github",
        "colab_type": "text"
      },
      "source": [
        "<a href=\"https://colab.research.google.com/github/PaulToronto/Howard-University-Coursera-Linear-Algebra-For-Data-Science-Specialization/blob/main/3_1_1_Solving_Systems_of_Linear_Equations_Using_Row_Reduction.ipynb\" target=\"_parent\"><img src=\"https://colab.research.google.com/assets/colab-badge.svg\" alt=\"Open In Colab\"/></a>"
      ]
    },
    {
      "cell_type": "markdown",
      "source": [
        "# 3.1.1 Solving Systems of Linear Equations Using Row Reduction"
      ],
      "metadata": {
        "id": "fu2jnNUIae-z"
      }
    },
    {
      "cell_type": "markdown",
      "source": [
        "## Imports"
      ],
      "metadata": {
        "id": "9YJum8sYai_t"
      }
    },
    {
      "cell_type": "code",
      "source": [
        "import numpy as np\n",
        "import matplotlib.pyplot as plt\n",
        "import sympy as sym"
      ],
      "metadata": {
        "id": "QAogE1OLakB3"
      },
      "execution_count": 1,
      "outputs": []
    },
    {
      "cell_type": "markdown",
      "source": [
        "## 3.1.1.1 Row Reduction (Infinitely Many Solutions)"
      ],
      "metadata": {
        "id": "aVoaCqFBakh2"
      }
    },
    {
      "cell_type": "markdown",
      "source": [
        "Given two planes in 3-space, there are only 2 possibilities:\n",
        "\n",
        "1. The planes are parallel and never intersect (no solution)\n",
        "2. The planes intersect in a line (infinitely many solutions"
      ],
      "metadata": {
        "id": "iCrgXCueq2D3"
      }
    },
    {
      "cell_type": "markdown",
      "source": [
        "### Example\n",
        "\n",
        "Solve this system of linear equations.\n",
        "\n",
        "$$\n",
        "\\begin{align}\n",
        "x + y + z &= 10 \\\\\n",
        "2x - y + 2z &= 8\n",
        "\\end{align}\n",
        "$$"
      ],
      "metadata": {
        "id": "TMqAhJyfasdt"
      }
    },
    {
      "cell_type": "code",
      "source": [
        "M = sym.Matrix([[1, 1, 1, 10],\n",
        "                [2, -1, 2, 8]])\n",
        "M"
      ],
      "metadata": {
        "colab": {
          "base_uri": "https://localhost:8080/",
          "height": 58
        },
        "id": "PKNxj5o2rNwp",
        "outputId": "a5d0d163-00fc-4788-a947-7800b8dd4e03"
      },
      "execution_count": 2,
      "outputs": [
        {
          "output_type": "execute_result",
          "data": {
            "text/plain": [
              "Matrix([\n",
              "[1,  1, 1, 10],\n",
              "[2, -1, 2,  8]])"
            ],
            "text/latex": "$\\displaystyle \\left[\\begin{matrix}1 & 1 & 1 & 10\\\\2 & -1 & 2 & 8\\end{matrix}\\right]$"
          },
          "metadata": {},
          "execution_count": 2
        }
      ]
    },
    {
      "cell_type": "markdown",
      "source": [
        "$R_2 \\longleftarrow R_2 - 2R_1$"
      ],
      "metadata": {
        "id": "oqAOHHhzrnK6"
      }
    },
    {
      "cell_type": "code",
      "source": [
        "M[1,:] = M.row(1) - 2 * M.row(0)\n",
        "M"
      ],
      "metadata": {
        "colab": {
          "base_uri": "https://localhost:8080/",
          "height": 58
        },
        "id": "9TDqSGjKrhT4",
        "outputId": "09a613b7-1403-4801-eef9-1f602eba460f"
      },
      "execution_count": 3,
      "outputs": [
        {
          "output_type": "execute_result",
          "data": {
            "text/plain": [
              "Matrix([\n",
              "[1,  1, 1,  10],\n",
              "[0, -3, 0, -12]])"
            ],
            "text/latex": "$\\displaystyle \\left[\\begin{matrix}1 & 1 & 1 & 10\\\\0 & -3 & 0 & -12\\end{matrix}\\right]$"
          },
          "metadata": {},
          "execution_count": 3
        }
      ]
    },
    {
      "cell_type": "markdown",
      "source": [
        "$R_2 \\longleftarrow -\\frac{1}{3}R_2$"
      ],
      "metadata": {
        "id": "PCEoj_cZsApK"
      }
    },
    {
      "cell_type": "code",
      "source": [
        "M[1, :] = -sym.Rational(1, 3) * M.row(1)\n",
        "M"
      ],
      "metadata": {
        "colab": {
          "base_uri": "https://localhost:8080/",
          "height": 58
        },
        "id": "4g0LGj9jsLGx",
        "outputId": "2ba74623-fcf2-4bf9-81f3-bf8e15fb9817"
      },
      "execution_count": 4,
      "outputs": [
        {
          "output_type": "execute_result",
          "data": {
            "text/plain": [
              "Matrix([\n",
              "[1, 1, 1, 10],\n",
              "[0, 1, 0,  4]])"
            ],
            "text/latex": "$\\displaystyle \\left[\\begin{matrix}1 & 1 & 1 & 10\\\\0 & 1 & 0 & 4\\end{matrix}\\right]$"
          },
          "metadata": {},
          "execution_count": 4
        }
      ]
    },
    {
      "cell_type": "markdown",
      "source": [
        "$R_1 \\longleftarrow R_1 - R_2$"
      ],
      "metadata": {
        "id": "V35T_XPFsY8c"
      }
    },
    {
      "cell_type": "code",
      "source": [
        "M[0,:] = M.row(0) - M.row(1)\n",
        "M"
      ],
      "metadata": {
        "colab": {
          "base_uri": "https://localhost:8080/",
          "height": 58
        },
        "id": "BWE215lpsecl",
        "outputId": "7295262d-ec7e-4701-b276-942a65f0d78a"
      },
      "execution_count": 5,
      "outputs": [
        {
          "output_type": "execute_result",
          "data": {
            "text/plain": [
              "Matrix([\n",
              "[1, 0, 1, 6],\n",
              "[0, 1, 0, 4]])"
            ],
            "text/latex": "$\\displaystyle \\left[\\begin{matrix}1 & 0 & 1 & 6\\\\0 & 1 & 0 & 4\\end{matrix}\\right]$"
          },
          "metadata": {},
          "execution_count": 5
        }
      ]
    },
    {
      "cell_type": "markdown",
      "source": [
        "The line of intersection\n",
        "$$\n",
        "\\begin{align}\n",
        "y &= 4 \\\\\n",
        "z &= -x + 6\n",
        "\\end{align}\n",
        "$$\n",
        "\n",
        "For the parametric equations, let $x = t$\n",
        "\n",
        "$$\n",
        "\\begin{align}\n",
        "x &= t \\\\\n",
        "y &= 4 \\\\\n",
        "z &= -t + 6\n",
        "\\end{align}\n",
        "$$\n",
        "\n",
        "Solution set:\n",
        "\n",
        "$$\n",
        "\\{(t, 4, -t + 6): t \\in \\mathbb{R}\\}\n",
        "$$"
      ],
      "metadata": {
        "id": "rYSQdHTTtG9X"
      }
    },
    {
      "cell_type": "code",
      "source": [
        "some_solutions = []\n",
        "for t in np.linspace(-5, 5, 11):\n",
        "    some_solutions.append(np.array([t, 4, -t + 6]))\n",
        "some_solutions = np.array(some_solutions)\n",
        "some_solutions"
      ],
      "metadata": {
        "colab": {
          "base_uri": "https://localhost:8080/"
        },
        "id": "nPqYEwZ-9MuR",
        "outputId": "d39fd03c-4b40-4481-f1b5-cad73a257b6b"
      },
      "execution_count": 6,
      "outputs": [
        {
          "output_type": "execute_result",
          "data": {
            "text/plain": [
              "array([[-5.,  4., 11.],\n",
              "       [-4.,  4., 10.],\n",
              "       [-3.,  4.,  9.],\n",
              "       [-2.,  4.,  8.],\n",
              "       [-1.,  4.,  7.],\n",
              "       [ 0.,  4.,  6.],\n",
              "       [ 1.,  4.,  5.],\n",
              "       [ 2.,  4.,  4.],\n",
              "       [ 3.,  4.,  3.],\n",
              "       [ 4.,  4.,  2.],\n",
              "       [ 5.,  4.,  1.]])"
            ]
          },
          "metadata": {},
          "execution_count": 6
        }
      ]
    },
    {
      "cell_type": "code",
      "source": [
        "x = np.linspace(-5, 5, 10)\n",
        "y = np.linspace(-5, 10, 10)\n",
        "\n",
        "X, Y = np.meshgrid(x, y)\n",
        "Z = -X - Y + 10\n",
        "Z2 = -X + 0.5 * Y + 4\n",
        "\n",
        "fig = plt.figure(figsize=(8, 8))\n",
        "ax = fig.add_subplot(111, projection = '3d')\n",
        "\n",
        "# plot planes\n",
        "ax.plot_surface(X, Y, Z, alpha=0.3, color='blue')\n",
        "ax.plot_surface(X, Y, Z2, alpha=0.3, color='green')\n",
        "\n",
        "# plot line of intersection\n",
        "# start of line when t = -5\n",
        "# end of line when t = 5\n",
        "start = -5\n",
        "end = 5\n",
        "line = [[t, 4, -t + 6] for t in [start, end]]\n",
        "line = zip(line[0], line[1])\n",
        "x, y, z = list(line)\n",
        "ax.plot3D(x, y, z, linewidth=3, c='black')\n",
        "ax.scatter3D(some_solutions[:,0], some_solutions[:,1], some_solutions[:, 2], c='white', s=10)\n",
        "\n",
        "ax.set_xlabel('x')\n",
        "ax.set_ylabel('y')\n",
        "\n",
        "plt.title('Plot of $x + y + z = 10$ and $2x - y + 2z = 8$')\n",
        "plt.show()"
      ],
      "metadata": {
        "colab": {
          "base_uri": "https://localhost:8080/",
          "height": 677
        },
        "id": "OQRuUtjFc4cC",
        "outputId": "2e88afbc-651d-4d7a-ddc8-3478be2dad47"
      },
      "execution_count": 7,
      "outputs": [
        {
          "output_type": "display_data",
          "data": {
            "text/plain": [
              "<Figure size 800x800 with 1 Axes>"
            ],
            "image/png": "[encoded data removed]"
          },
          "metadata": {}
        }
      ]
    },
    {
      "cell_type": "markdown",
      "source": [
        "## 3.1.1.2 Row Reduction (No Solutions)"
      ],
      "metadata": {
        "id": "p973hFFhBmNo"
      }
    },
    {
      "cell_type": "markdown",
      "source": [
        "### Example\n",
        "\n",
        "Solve this system of linear equations.\n",
        "\n",
        "$$\n",
        "\\begin{align}\n",
        "x - 3y + z &= 4 \\\\\n",
        "-x + 2y - 5z &= 3 \\\\\n",
        "5x - 13y + 13z &= 8\n",
        "\\end{align}\n",
        "$$"
      ],
      "metadata": {
        "id": "sEkq5-dbB-IY"
      }
    },
    {
      "cell_type": "code",
      "source": [
        "M = sym.Matrix([[1, -3, 1, 4],\n",
        "                [-1, 2, -5, 3],\n",
        "                [5, -13, 13, 8]])\n",
        "M"
      ],
      "metadata": {
        "colab": {
          "base_uri": "https://localhost:8080/",
          "height": 78
        },
        "id": "rralhRj-C9mO",
        "outputId": "94c2f789-8ac4-4e97-f3fa-9847fa0c6e0f"
      },
      "execution_count": 8,
      "outputs": [
        {
          "output_type": "execute_result",
          "data": {
            "text/plain": [
              "Matrix([\n",
              "[ 1,  -3,  1, 4],\n",
              "[-1,   2, -5, 3],\n",
              "[ 5, -13, 13, 8]])"
            ],
            "text/latex": "$\\displaystyle \\left[\\begin{matrix}1 & -3 & 1 & 4\\\\-1 & 2 & -5 & 3\\\\5 & -13 & 13 & 8\\end{matrix}\\right]$"
          },
          "metadata": {},
          "execution_count": 8
        }
      ]
    },
    {
      "cell_type": "markdown",
      "source": [
        "$R_2 \\longleftarrow R_1 + R_2$"
      ],
      "metadata": {
        "id": "THFh4mJTKSPw"
      }
    },
    {
      "cell_type": "code",
      "source": [
        "M[1,:] = M.row(0) + M.row(1)\n",
        "M"
      ],
      "metadata": {
        "colab": {
          "base_uri": "https://localhost:8080/",
          "height": 78
        },
        "id": "jzpOItugJhJ8",
        "outputId": "78b24a48-9204-454f-c559-c1e6db4b4578"
      },
      "execution_count": 9,
      "outputs": [
        {
          "output_type": "execute_result",
          "data": {
            "text/plain": [
              "Matrix([\n",
              "[1,  -3,  1, 4],\n",
              "[0,  -1, -4, 7],\n",
              "[5, -13, 13, 8]])"
            ],
            "text/latex": "$\\displaystyle \\left[\\begin{matrix}1 & -3 & 1 & 4\\\\0 & -1 & -4 & 7\\\\5 & -13 & 13 & 8\\end{matrix}\\right]$"
          },
          "metadata": {},
          "execution_count": 9
        }
      ]
    },
    {
      "cell_type": "markdown",
      "source": [
        "$R_3 \\longleftarrow R_3 - 5R_1$"
      ],
      "metadata": {
        "id": "l5HDZDzsKdYD"
      }
    },
    {
      "cell_type": "code",
      "source": [
        "M[2,:] = M.row(2) - 5 * M.row(0)\n",
        "M"
      ],
      "metadata": {
        "colab": {
          "base_uri": "https://localhost:8080/",
          "height": 78
        },
        "id": "klYRBVd1KlI_",
        "outputId": "25f9e652-437a-4da3-d514-89ba8afd305c"
      },
      "execution_count": 10,
      "outputs": [
        {
          "output_type": "execute_result",
          "data": {
            "text/plain": [
              "Matrix([\n",
              "[1, -3,  1,   4],\n",
              "[0, -1, -4,   7],\n",
              "[0,  2,  8, -12]])"
            ],
            "text/latex": "$\\displaystyle \\left[\\begin{matrix}1 & -3 & 1 & 4\\\\0 & -1 & -4 & 7\\\\0 & 2 & 8 & -12\\end{matrix}\\right]$"
          },
          "metadata": {},
          "execution_count": 10
        }
      ]
    },
    {
      "cell_type": "code",
      "source": [
        "M[2, :] = 2 * M.row(1) + M.row(2)\n",
        "M"
      ],
      "metadata": {
        "colab": {
          "base_uri": "https://localhost:8080/",
          "height": 78
        },
        "id": "fuunoetEO1EE",
        "outputId": "1f805f49-8235-4270-e917-ada883dfe0fc"
      },
      "execution_count": 11,
      "outputs": [
        {
          "output_type": "execute_result",
          "data": {
            "text/plain": [
              "Matrix([\n",
              "[1, -3,  1, 4],\n",
              "[0, -1, -4, 7],\n",
              "[0,  0,  0, 2]])"
            ],
            "text/latex": "$\\displaystyle \\left[\\begin{matrix}1 & -3 & 1 & 4\\\\0 & -1 & -4 & 7\\\\0 & 0 & 0 & 2\\end{matrix}\\right]$"
          },
          "metadata": {},
          "execution_count": 11
        }
      ]
    },
    {
      "cell_type": "markdown",
      "source": [
        "$0x + 0y + 0z = 2$ is not possible.\n",
        "\n",
        "$\\therefore$ this system has no solutions."
      ],
      "metadata": {
        "id": "HKzpX6PnQDM-"
      }
    },
    {
      "cell_type": "markdown",
      "source": [
        "## 3.1.1.3 Finding Inverses of Higher Dimension Matrices"
      ],
      "metadata": {
        "id": "OrHxbz9IQx6y"
      }
    },
    {
      "cell_type": "code",
      "source": [
        "M = np.array([[1, 2, 3],\n",
        "              [4, 5, 6],\n",
        "              [7, 8, 11]])\n",
        "M"
      ],
      "metadata": {
        "colab": {
          "base_uri": "https://localhost:8080/"
        },
        "id": "mIPd6NqzRgX_",
        "outputId": "4eb06aa7-4555-403f-d9ef-c858f988c3de"
      },
      "execution_count": 12,
      "outputs": [
        {
          "output_type": "execute_result",
          "data": {
            "text/plain": [
              "array([[ 1,  2,  3],\n",
              "       [ 4,  5,  6],\n",
              "       [ 7,  8, 11]])"
            ]
          },
          "metadata": {},
          "execution_count": 12
        }
      ]
    },
    {
      "cell_type": "markdown",
      "source": [
        "Let $N$ be the inverse of $M$"
      ],
      "metadata": {
        "id": "p28tlwXuR8oE"
      }
    },
    {
      "cell_type": "code",
      "source": [
        "N = np.linalg.inv(M)\n",
        "N"
      ],
      "metadata": {
        "colab": {
          "base_uri": "https://localhost:8080/"
        },
        "id": "CzJZmP0sR_mO",
        "outputId": "adedd655-369d-4477-d916-05aeb1a06479"
      },
      "execution_count": 13,
      "outputs": [
        {
          "output_type": "execute_result",
          "data": {
            "text/plain": [
              "array([[-1.16666667, -0.33333333,  0.5       ],\n",
              "       [ 0.33333333,  1.66666667, -1.        ],\n",
              "       [ 0.5       , -1.        ,  0.5       ]])"
            ]
          },
          "metadata": {},
          "execution_count": 13
        }
      ]
    },
    {
      "cell_type": "code",
      "source": [
        "np.matmul(M, N)"
      ],
      "metadata": {
        "colab": {
          "base_uri": "https://localhost:8080/"
        },
        "id": "ZEAZYWUHSl7S",
        "outputId": "10b7c006-01b5-4ceb-f2fc-be2c2e095a8a"
      },
      "execution_count": 14,
      "outputs": [
        {
          "output_type": "execute_result",
          "data": {
            "text/plain": [
              "array([[ 1.00000000e+00,  0.00000000e+00,  2.77555756e-16],\n",
              "       [-4.44089210e-16,  1.00000000e+00,  1.11022302e-16],\n",
              "       [-1.11022302e-15,  0.00000000e+00,  1.00000000e+00]])"
            ]
          },
          "metadata": {},
          "execution_count": 14
        }
      ]
    },
    {
      "cell_type": "code",
      "source": [
        "M @ N"
      ],
      "metadata": {
        "colab": {
          "base_uri": "https://localhost:8080/"
        },
        "id": "Of4Kn4G1Sq_N",
        "outputId": "6ca54217-4c66-4197-c89b-83fd43940ea8"
      },
      "execution_count": 15,
      "outputs": [
        {
          "output_type": "execute_result",
          "data": {
            "text/plain": [
              "array([[ 1.00000000e+00,  0.00000000e+00,  2.77555756e-16],\n",
              "       [-4.44089210e-16,  1.00000000e+00,  1.11022302e-16],\n",
              "       [-1.11022302e-15,  0.00000000e+00,  1.00000000e+00]])"
            ]
          },
          "metadata": {},
          "execution_count": 15
        }
      ]
    },
    {
      "cell_type": "code",
      "source": [
        "R = np.random.randint(-8, 8, size=(10, 10))\n",
        "R"
      ],
      "metadata": {
        "colab": {
          "base_uri": "https://localhost:8080/"
        },
        "id": "oNBE6zMZS9t8",
        "outputId": "f470205f-79c2-4ac3-9e3b-738d2016fc2d"
      },
      "execution_count": 16,
      "outputs": [
        {
          "output_type": "execute_result",
          "data": {
            "text/plain": [
              "array([[-5,  0,  1,  6,  7, -3,  4, -3, -8, -8],\n",
              "       [-6, -4,  1, -2,  6, -2,  2,  4, -3,  1],\n",
              "       [ 3,  3, -5,  2, -8,  5, -2,  7,  4, -8],\n",
              "       [-2,  1,  2, -2, -7,  6,  3,  2,  7,  7],\n",
              "       [ 0, -7,  4, -2,  2,  3,  2, -4, -7, -2],\n",
              "       [-4,  5,  6,  2,  6, -6,  3, -6, -5,  4],\n",
              "       [-8,  1, -7, -3, -7,  4, -1, -4, -8,  7],\n",
              "       [ 0, -7, -8,  6, -8,  2,  2, -8,  6,  5],\n",
              "       [-7, -5,  7,  0,  4,  2,  0,  6,  3,  0],\n",
              "       [ 6,  6, -6, -3, -8, -3, -7, -4,  3,  6]])"
            ]
          },
          "metadata": {},
          "execution_count": 16
        }
      ]
    },
    {
      "cell_type": "code",
      "source": [
        "if np.linalg.det(R) != 0:\n",
        "    display(np.linalg.inv(R))\n",
        "else:\n",
        "    print('R is not invertible')"
      ],
      "metadata": {
        "colab": {
          "base_uri": "https://localhost:8080/",
          "height": 374
        },
        "id": "syuZWOiyTDJZ",
        "outputId": "464459a1-17c5-4a7f-f58c-9d1b0ea1cbac"
      },
      "execution_count": 17,
      "outputs": [
        {
          "output_type": "display_data",
          "data": {
            "text/plain": [
              "array([[-0.32274974, -0.03708557,  0.11581352, -0.19669493,  0.00702926,\n",
              "         0.18479645,  0.01841127,  0.04579258, -0.09055602, -0.22075146],\n",
              "       [ 0.0833281 , -0.10253658, -0.08864746,  0.05868319, -0.09101952,\n",
              "        -0.07519334,  0.02528934, -0.06714243, -0.02280725, -0.01222993],\n",
              "       [-0.07795126,  0.02597671,  0.12466571, -0.01872422,  0.10743076,\n",
              "         0.16066657, -0.03161374,  0.01973156,  0.06131819,  0.02894034],\n",
              "       [-0.48981772, -0.11120961,  0.2417013 , -0.37529772, -0.05795707,\n",
              "         0.37818813,  0.09999655,  0.1320645 ,  0.00624542, -0.37260045],\n",
              "       [ 0.02141397, -0.20845561, -0.25230249, -0.04497467, -0.1838598 ,\n",
              "        -0.19940841,  0.05791138, -0.06771245, -0.02138357, -0.16012221],\n",
              "       [-0.07498124, -0.30012   , -0.17361383, -0.07128733, -0.1440606 ,\n",
              "        -0.13861662,  0.11617158, -0.0560371 , -0.00483519, -0.24271659],\n",
              "       [ 0.09007394,  0.16067173,  0.0318335 ,  0.15721317,  0.05322637,\n",
              "         0.00590187, -0.07061079,  0.0070687 , -0.11945347,  0.04264547],\n",
              "       [-0.37836482,  0.09759302,  0.2539523 , -0.22446816,  0.00850587,\n",
              "         0.29243279,  0.03912525,  0.06869998, -0.03676945, -0.21528535],\n",
              "       [ 0.34584888, -0.03520483, -0.2241596 ,  0.23896774, -0.06179433,\n",
              "        -0.2955958 , -0.07403947, -0.06085363,  0.04622186,  0.20288063],\n",
              "       [-0.41245851, -0.04789199,  0.11366047, -0.24968517, -0.05606903,\n",
              "         0.25460994,  0.09070887,  0.07328546, -0.04011113, -0.28777724]])"
            ]
          },
          "metadata": {}
        }
      ]
    },
    {
      "cell_type": "code",
      "source": [
        "R = sym.Matrix(R)"
      ],
      "metadata": {
        "id": "PDlrMXXVTeSJ"
      },
      "execution_count": 18,
      "outputs": []
    },
    {
      "cell_type": "code",
      "source": [
        "if R.det() != 0:\n",
        "    S = R.inv()\n",
        "    display(S)\n",
        "else:\n",
        "    print('R is not invertible')"
      ],
      "metadata": {
        "colab": {
          "base_uri": "https://localhost:8080/",
          "height": 221
        },
        "id": "9E9SswKUTh1Y",
        "outputId": "dab360c9-17dc-4417-a5cc-db180832c97a"
      },
      "execution_count": 19,
      "outputs": [
        {
          "output_type": "display_data",
          "data": {
            "text/plain": [
              "Matrix([\n",
              "[ -168306592/521477077,  -19339273/521477077,    60394098/521477077,  -9324718/47407007,   333236/47407007,    96367114/521477077,   9601056/521477077,  2170889/47407007, -47222891/521477077, -115116824/521477077],\n",
              "[  86907385/1042954154,  -53470474/521477077,  -92455239/1042954154,   5563989/94814014, -4314963/47407007,  -78423209/1042954154,  13187810/521477077, -6366043/94814014, -11893456/521477077,   -6377629/521477077],\n",
              "[    -3695436/47407007,     1231478/47407007,      5910028/47407007,   -887659/47407007,  5092971/47407007,      7616721/47407007,   -1498713/47407007,   935414/47407007,    2906912/47407007,     1371975/47407007],\n",
              "[-510857421/1042954154,  -57993261/521477077,  252083375/1042954154, -35583483/94814014, -2747571/47407007,  394432877/1042954154,  52145911/521477077, 12521565/94814014,   3256842/521477077, -194302593/521477077],\n",
              "[  22333789/1042954154, -108704824/521477077, -263139931/1042954154,  -4264229/94814014, -8716243/47407007, -207973827/1042954154,  30199458/521477077, -6420089/94814014, -11151042/521477077,  -83500063/521477077],\n",
              "[    -3554636/47407007,   -14227791/47407007,     -8230512/47407007,  -3379519/47407007, -6829482/47407007,     -6571399/47407007,    5507347/47407007, -2656551/47407007,    -229222/47407007,   -11506467/47407007],\n",
              "[   46971497/521477077,   83786625/521477077,    16600439/521477077,   7453006/47407007,  2523303/47407007,     3077691/521477077, -36821907/521477077,   335106/47407007, -62292248/521477077,   22238637/521477077],\n",
              "[-394617159/1042954154,   50892524/521477077,  264860611/1042954154, -21282727/94814014,   403238/47407007,  304993995/1042954154,  20402922/521477077,  6513721/94814014, -19174423/521477077, -112266377/521477077],\n",
              "[ 360704521/1042954154,  -18358511/521477077, -233788183/1042954154,  22657491/94814014, -2929484/47407007, -308292863/1042954154, -38609885/521477077, -5769777/94814014,  24103642/521477077,  105797600/521477077],\n",
              "[-430175321/1042954154,  -24974574/521477077,  118542663/1042954154, -23673653/94814014, -2658065/47407007,  265546497/1042954154,  47302598/521477077,  6948489/94814014, -20917036/521477077, -150069233/521477077]])"
            ],
            "text/latex": "$\\displaystyle \\left[\\begin{matrix}- \\frac{168306592}{521477077} & - \\frac{19339273}{521477077} & \\frac{60394098}{521477077} & - \\frac{9324718}{47407007} & \\frac{333236}{47407007} & \\frac{96367114}{521477077} & \\frac{9601056}{521477077} & \\frac{2170889}{47407007} & - \\frac{47222891}{521477077} & - \\frac{115116824}{521477077}\\\\\\frac{86907385}{1042954154} & - \\frac{53470474}{521477077} & - \\frac{92455239}{1042954154} & \\frac{5563989}{94814014} & - \\frac{4314963}{47407007} & - \\frac{78423209}{1042954154} & \\frac{13187810}{521477077} & - \\frac{6366043}{94814014} & - \\frac{11893456}{521477077} & - \\frac{6377629}{521477077}\\\\- \\frac{3695436}{47407007} & \\frac{1231478}{47407007} & \\frac{5910028}{47407007} & - \\frac{887659}{47407007} & \\frac{5092971}{47407007} & \\frac{7616721}{47407007} & - \\frac{1498713}{47407007} & \\frac{935414}{47407007} & \\frac{2906912}{47407007} & \\frac{1371975}{47407007}\\\\- \\frac{510857421}{1042954154} & - \\frac{57993261}{521477077} & \\frac{252083375}{1042954154} & - \\frac{35583483}{94814014} & - \\frac{2747571}{47407007} & \\frac{394432877}{1042954154} & \\frac{52145911}{521477077} & \\frac{12521565}{94814014} & \\frac{3256842}{521477077} & - \\frac{194302593}{521477077}\\\\\\frac{22333789}{1042954154} & - \\frac{108704824}{521477077} & - \\frac{263139931}{1042954154} & - \\frac{4264229}{94814014} & - \\frac{8716243}{47407007} & - \\frac{207973827}{1042954154} & \\frac{30199458}{521477077} & - \\frac{6420089}{94814014} & - \\frac{11151042}{521477077} & - \\frac{83500063}{521477077}\\\\- \\frac{3554636}{47407007} & - \\frac{14227791}{47407007} & - \\frac{8230512}{47407007} & - \\frac{3379519}{47407007} & - \\frac{6829482}{47407007} & - \\frac{6571399}{47407007} & \\frac{5507347}{47407007} & - \\frac{2656551}{47407007} & - \\frac{229222}{47407007} & - \\frac{11506467}{47407007}\\\\\\frac{46971497}{521477077} & \\frac{83786625}{521477077} & \\frac{16600439}{521477077} & \\frac{7453006}{47407007} & \\frac{2523303}{47407007} & \\frac{3077691}{521477077} & - \\frac{36821907}{521477077} & \\frac{335106}{47407007} & - \\frac{62292248}{521477077} & \\frac{22238637}{521477077}\\\\- \\frac{394617159}{1042954154} & \\frac{50892524}{521477077} & \\frac{264860611}{1042954154} & - \\frac{21282727}{94814014} & \\frac{403238}{47407007} & \\frac{304993995}{1042954154} & \\frac{20402922}{521477077} & \\frac{6513721}{94814014} & - \\frac{19174423}{521477077} & - \\frac{112266377}{521477077}\\\\\\frac{360704521}{1042954154} & - \\frac{18358511}{521477077} & - \\frac{233788183}{1042954154} & \\frac{22657491}{94814014} & - \\frac{2929484}{47407007} & - \\frac{308292863}{1042954154} & - \\frac{38609885}{521477077} & - \\frac{5769777}{94814014} & \\frac{24103642}{521477077} & \\frac{105797600}{521477077}\\\\- \\frac{430175321}{1042954154} & - \\frac{24974574}{521477077} & \\frac{118542663}{1042954154} & - \\frac{23673653}{94814014} & - \\frac{2658065}{47407007} & \\frac{265546497}{1042954154} & \\frac{47302598}{521477077} & \\frac{6948489}{94814014} & - \\frac{20917036}{521477077} & - \\frac{150069233}{521477077}\\end{matrix}\\right]$"
          },
          "metadata": {}
        }
      ]
    },
    {
      "cell_type": "code",
      "source": [
        "R * S"
      ],
      "metadata": {
        "colab": {
          "base_uri": "https://localhost:8080/",
          "height": 220
        },
        "id": "FkEWK0xYTsKx",
        "outputId": "cbfde7a9-df9e-444e-9a30-f82710c23533"
      },
      "execution_count": 20,
      "outputs": [
        {
          "output_type": "execute_result",
          "data": {
            "text/plain": [
              "Matrix([\n",
              "[1, 0, 0, 0, 0, 0, 0, 0, 0, 0],\n",
              "[0, 1, 0, 0, 0, 0, 0, 0, 0, 0],\n",
              "[0, 0, 1, 0, 0, 0, 0, 0, 0, 0],\n",
              "[0, 0, 0, 1, 0, 0, 0, 0, 0, 0],\n",
              "[0, 0, 0, 0, 1, 0, 0, 0, 0, 0],\n",
              "[0, 0, 0, 0, 0, 1, 0, 0, 0, 0],\n",
              "[0, 0, 0, 0, 0, 0, 1, 0, 0, 0],\n",
              "[0, 0, 0, 0, 0, 0, 0, 1, 0, 0],\n",
              "[0, 0, 0, 0, 0, 0, 0, 0, 1, 0],\n",
              "[0, 0, 0, 0, 0, 0, 0, 0, 0, 1]])"
            ],
            "text/latex": "$\\displaystyle \\left[\\begin{matrix}1 & 0 & 0 & 0 & 0 & 0 & 0 & 0 & 0 & 0\\\\0 & 1 & 0 & 0 & 0 & 0 & 0 & 0 & 0 & 0\\\\0 & 0 & 1 & 0 & 0 & 0 & 0 & 0 & 0 & 0\\\\0 & 0 & 0 & 1 & 0 & 0 & 0 & 0 & 0 & 0\\\\0 & 0 & 0 & 0 & 1 & 0 & 0 & 0 & 0 & 0\\\\0 & 0 & 0 & 0 & 0 & 1 & 0 & 0 & 0 & 0\\\\0 & 0 & 0 & 0 & 0 & 0 & 1 & 0 & 0 & 0\\\\0 & 0 & 0 & 0 & 0 & 0 & 0 & 1 & 0 & 0\\\\0 & 0 & 0 & 0 & 0 & 0 & 0 & 0 & 1 & 0\\\\0 & 0 & 0 & 0 & 0 & 0 & 0 & 0 & 0 & 1\\end{matrix}\\right]$"
          },
          "metadata": {},
          "execution_count": 20
        }
      ]
    },
    {
      "cell_type": "markdown",
      "source": [
        "## 3.1.1.4 Practice Quiz"
      ],
      "metadata": {
        "id": "FoItURQ2U17i"
      }
    },
    {
      "cell_type": "code",
      "source": [
        "M = sym.Matrix([[1, -3, 1, 4],\n",
        "                [-1, 2, -5, 3],\n",
        "                [5, -13, 13, 8]])\n",
        "M"
      ],
      "metadata": {
        "colab": {
          "base_uri": "https://localhost:8080/",
          "height": 78
        },
        "id": "UbkttdfWU7YP",
        "outputId": "fde54701-9eeb-45a3-ae0e-c5b665d61bf0"
      },
      "execution_count": 21,
      "outputs": [
        {
          "output_type": "execute_result",
          "data": {
            "text/plain": [
              "Matrix([\n",
              "[ 1,  -3,  1, 4],\n",
              "[-1,   2, -5, 3],\n",
              "[ 5, -13, 13, 8]])"
            ],
            "text/latex": "$\\displaystyle \\left[\\begin{matrix}1 & -3 & 1 & 4\\\\-1 & 2 & -5 & 3\\\\5 & -13 & 13 & 8\\end{matrix}\\right]$"
          },
          "metadata": {},
          "execution_count": 21
        }
      ]
    },
    {
      "cell_type": "code",
      "source": [
        "M.rref()"
      ],
      "metadata": {
        "colab": {
          "base_uri": "https://localhost:8080/"
        },
        "id": "9MC4TB_aVC1X",
        "outputId": "d68a1553-77b4-4179-bcc8-d6c4e7371835"
      },
      "execution_count": 22,
      "outputs": [
        {
          "output_type": "execute_result",
          "data": {
            "text/plain": [
              "(Matrix([\n",
              " [1, 0, 13, 0],\n",
              " [0, 1,  4, 0],\n",
              " [0, 0,  0, 1]]),\n",
              " (0, 1, 3))"
            ]
          },
          "metadata": {},
          "execution_count": 22
        }
      ]
    },
    {
      "cell_type": "code",
      "source": [
        "M.rref(pivots=False)"
      ],
      "metadata": {
        "colab": {
          "base_uri": "https://localhost:8080/",
          "height": 78
        },
        "id": "HMy65-pOVaR9",
        "outputId": "c6aa19b1-3a45-4b0a-867a-4dfdd524d36e"
      },
      "execution_count": 23,
      "outputs": [
        {
          "output_type": "execute_result",
          "data": {
            "text/plain": [
              "Matrix([\n",
              "[1, 0, 13, 0],\n",
              "[0, 1,  4, 0],\n",
              "[0, 0,  0, 1]])"
            ],
            "text/latex": "$\\displaystyle \\left[\\begin{matrix}1 & 0 & 13 & 0\\\\0 & 1 & 4 & 0\\\\0 & 0 & 0 & 1\\end{matrix}\\right]$"
          },
          "metadata": {},
          "execution_count": 23
        }
      ]
    },
    {
      "cell_type": "code",
      "source": [
        "M = sym.Matrix([[0, 0, 0, 0],\n",
        "                [-1, 2, -5, 3],\n",
        "                [5, -13, 13, 8]])\n",
        "M"
      ],
      "metadata": {
        "colab": {
          "base_uri": "https://localhost:8080/",
          "height": 78
        },
        "id": "URLx2zuEVkxr",
        "outputId": "f2fe10e6-d0cb-4121-a869-db1c1ed62f5f"
      },
      "execution_count": 24,
      "outputs": [
        {
          "output_type": "execute_result",
          "data": {
            "text/plain": [
              "Matrix([\n",
              "[ 0,   0,  0, 0],\n",
              "[-1,   2, -5, 3],\n",
              "[ 5, -13, 13, 8]])"
            ],
            "text/latex": "$\\displaystyle \\left[\\begin{matrix}0 & 0 & 0 & 0\\\\-1 & 2 & -5 & 3\\\\5 & -13 & 13 & 8\\end{matrix}\\right]$"
          },
          "metadata": {},
          "execution_count": 24
        }
      ]
    },
    {
      "cell_type": "code",
      "source": [
        "M.rref(pivots=0)"
      ],
      "metadata": {
        "colab": {
          "base_uri": "https://localhost:8080/",
          "height": 78
        },
        "id": "xiURVC0KV1e-",
        "outputId": "133f32a1-b149-49fd-9adc-69361755690a"
      },
      "execution_count": 25,
      "outputs": [
        {
          "output_type": "execute_result",
          "data": {
            "text/plain": [
              "Matrix([\n",
              "[1, 0, 13, -55/3],\n",
              "[0, 1,  4, -23/3],\n",
              "[0, 0,  0,     0]])"
            ],
            "text/latex": "$\\displaystyle \\left[\\begin{matrix}1 & 0 & 13 & - \\frac{55}{3}\\\\0 & 1 & 4 & - \\frac{23}{3}\\\\0 & 0 & 0 & 0\\end{matrix}\\right]$"
          },
          "metadata": {},
          "execution_count": 25
        }
      ]
    },
    {
      "cell_type": "code",
      "source": [
        "M = sym.Matrix([[1, 2, 3],\n",
        "                [2, 4, 6],\n",
        "                [7, 8, 9]])\n",
        "M"
      ],
      "metadata": {
        "colab": {
          "base_uri": "https://localhost:8080/",
          "height": 78
        },
        "id": "jlsT55YkV__U",
        "outputId": "3f628953-1d54-4c97-a6eb-222741ac9cd9"
      },
      "execution_count": 26,
      "outputs": [
        {
          "output_type": "execute_result",
          "data": {
            "text/plain": [
              "Matrix([\n",
              "[1, 2, 3],\n",
              "[2, 4, 6],\n",
              "[7, 8, 9]])"
            ],
            "text/latex": "$\\displaystyle \\left[\\begin{matrix}1 & 2 & 3\\\\2 & 4 & 6\\\\7 & 8 & 9\\end{matrix}\\right]$"
          },
          "metadata": {},
          "execution_count": 26
        }
      ]
    },
    {
      "cell_type": "code",
      "source": [
        "M.det()"
      ],
      "metadata": {
        "colab": {
          "base_uri": "https://localhost:8080/",
          "height": 37
        },
        "id": "W9h9dj8eWHJE",
        "outputId": "0aedd366-45eb-45f2-e520-8e4d1ae1d6bf"
      },
      "execution_count": 27,
      "outputs": [
        {
          "output_type": "execute_result",
          "data": {
            "text/plain": [
              "0"
            ],
            "text/latex": "$\\displaystyle 0$"
          },
          "metadata": {},
          "execution_count": 27
        }
      ]
    },
    {
      "cell_type": "code",
      "source": [
        "M = sym.Matrix([[1, 3, 1, 1],\n",
        "                [-4, -9, 2, -1],\n",
        "                [0, -3, -6, -3]])\n",
        "M"
      ],
      "metadata": {
        "colab": {
          "base_uri": "https://localhost:8080/",
          "height": 78
        },
        "id": "cgQxHBzHWlkP",
        "outputId": "a54083d3-70de-42b4-bcd9-def3a73d309e"
      },
      "execution_count": 28,
      "outputs": [
        {
          "output_type": "execute_result",
          "data": {
            "text/plain": [
              "Matrix([\n",
              "[ 1,  3,  1,  1],\n",
              "[-4, -9,  2, -1],\n",
              "[ 0, -3, -6, -3]])"
            ],
            "text/latex": "$\\displaystyle \\left[\\begin{matrix}1 & 3 & 1 & 1\\\\-4 & -9 & 2 & -1\\\\0 & -3 & -6 & -3\\end{matrix}\\right]$"
          },
          "metadata": {},
          "execution_count": 28
        }
      ]
    },
    {
      "cell_type": "code",
      "source": [
        "M.rref(pivots=False)"
      ],
      "metadata": {
        "colab": {
          "base_uri": "https://localhost:8080/",
          "height": 78
        },
        "id": "0pTW4P9KW4Zz",
        "outputId": "f4bf8cfc-c6d7-4251-9352-f061b89cf971"
      },
      "execution_count": 29,
      "outputs": [
        {
          "output_type": "execute_result",
          "data": {
            "text/plain": [
              "Matrix([\n",
              "[1, 0, -5, -2],\n",
              "[0, 1,  2,  1],\n",
              "[0, 0,  0,  0]])"
            ],
            "text/latex": "$\\displaystyle \\left[\\begin{matrix}1 & 0 & -5 & -2\\\\0 & 1 & 2 & 1\\\\0 & 0 & 0 & 0\\end{matrix}\\right]$"
          },
          "metadata": {},
          "execution_count": 29
        }
      ]
    },
    {
      "cell_type": "code",
      "source": [
        "M = sym.Matrix([[1, 2, -3, -1],\n",
        "                [1, -3, 1, 1],\n",
        "                [2, -1, -2, 2]])\n",
        "M"
      ],
      "metadata": {
        "colab": {
          "base_uri": "https://localhost:8080/",
          "height": 78
        },
        "id": "6FEgCQTBYz6F",
        "outputId": "04e44498-95b8-421e-d44a-7301b403f548"
      },
      "execution_count": 30,
      "outputs": [
        {
          "output_type": "execute_result",
          "data": {
            "text/plain": [
              "Matrix([\n",
              "[1,  2, -3, -1],\n",
              "[1, -3,  1,  1],\n",
              "[2, -1, -2,  2]])"
            ],
            "text/latex": "$\\displaystyle \\left[\\begin{matrix}1 & 2 & -3 & -1\\\\1 & -3 & 1 & 1\\\\2 & -1 & -2 & 2\\end{matrix}\\right]$"
          },
          "metadata": {},
          "execution_count": 30
        }
      ]
    },
    {
      "cell_type": "code",
      "source": [
        "M.rref(pivots=False)"
      ],
      "metadata": {
        "colab": {
          "base_uri": "https://localhost:8080/",
          "height": 78
        },
        "id": "nz4g0QRFZEnC",
        "outputId": "c79de666-9499-413a-eab3-2c818c7fe0d3"
      },
      "execution_count": 31,
      "outputs": [
        {
          "output_type": "execute_result",
          "data": {
            "text/plain": [
              "Matrix([\n",
              "[1, 0, -7/5, 0],\n",
              "[0, 1, -4/5, 0],\n",
              "[0, 0,    0, 1]])"
            ],
            "text/latex": "$\\displaystyle \\left[\\begin{matrix}1 & 0 & - \\frac{7}{5} & 0\\\\0 & 1 & - \\frac{4}{5} & 0\\\\0 & 0 & 0 & 1\\end{matrix}\\right]$"
          },
          "metadata": {},
          "execution_count": 31
        }
      ]
    }
  ]
}