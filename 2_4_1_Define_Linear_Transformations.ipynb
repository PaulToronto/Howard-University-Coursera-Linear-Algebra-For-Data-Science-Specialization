{
  "nbformat": 4,
  "nbformat_minor": 0,
  "metadata": {
    "colab": {
      "provenance": [],
      "toc_visible": true,
      "authorship_tag": "ABX9TyPFjEVCiFdQIHIL4mkL1sGr",
      "include_colab_link": true
    },
    "kernelspec": {
      "name": "python3",
      "display_name": "Python 3"
    },
    "language_info": {
      "name": "python"
    }
  },
  "cells": [
    {
      "cell_type": "markdown",
      "metadata": {
        "id": "view-in-github",
        "colab_type": "text"
      },
      "source": [
        "<a href=\"https://colab.research.google.com/github/PaulToronto/Howard-University-Coursera-Linear-Algebra-For-Data-Science-Specialization/blob/main/2_4_1_Define_Linear_Transformations.ipynb\" target=\"_parent\"><img src=\"https://colab.research.google.com/assets/colab-badge.svg\" alt=\"Open In Colab\"/></a>"
      ]
    },
    {
      "cell_type": "markdown",
      "source": [
        "# 2.4.1 Define Linear Transformations"
      ],
      "metadata": {
        "id": "rKhRXHG8RQMU"
      }
    },
    {
      "cell_type": "markdown",
      "source": [
        "## Imports"
      ],
      "metadata": {
        "id": "MPz1_XzmRT0i"
      }
    },
    {
      "cell_type": "code",
      "execution_count": 1,
      "metadata": {
        "id": "pP7UdTkRRIJy"
      },
      "outputs": [],
      "source": [
        "import sympy as sym\n",
        "import numpy as np\n",
        "import matplotlib.pyplot as plt"
      ]
    },
    {
      "cell_type": "markdown",
      "source": [
        "## 2.4.1.1 Linear Transformations"
      ],
      "metadata": {
        "id": "uArGPCtlR42b"
      }
    },
    {
      "cell_type": "markdown",
      "source": [
        "### Definition: Function\n",
        "\n",
        "Let $X$ and $Y$ be to non-empty sets. A function $\\phi$ from set $X$ to set $Y$ is a relation such that each element in set $X$ is associated with **one and only one** element in set $Y$. This is denoted by:\n",
        "\n",
        "$$\n",
        "\\phi: X \\rightarrow Y\n",
        "$$\n",
        "\n",
        "We also write:\n",
        "\n",
        "$$\n",
        "\\phi(x) = y \\text{, where } x \\in X \\text{ and } y \\in Y.\n",
        "$$"
      ],
      "metadata": {
        "id": "7g_J-J9ta2bM"
      }
    },
    {
      "cell_type": "markdown",
      "source": [
        "### Definition: Linear Transformation\n",
        "\n",
        "A **linear transformation** $T$ is a function from $\\mathbb{R}^{m}$ to $\\mathbb{R}^{n}$, such that\n",
        "\n",
        "1. $T(\\vec{u} + \\vec{v}) = T(\\vec{u}) + T(\\vec{v})$ and,\n",
        "2. $T(c\\vec{v}) = cT(\\vec{v})$\n",
        "\n",
        "For vectors $\\vec{u}$, $\\vec{v}$, and scalar $c$."
      ],
      "metadata": {
        "id": "R6c_slB5c_Mv"
      }
    },
    {
      "cell_type": "markdown",
      "source": [
        "#### Examples\n",
        "\n",
        "1. A $m \\times n$ matrices can be viewed as linear transformations from $\\mathbb{R}^{n}$ to $\\mathbb{R}^{m}$\n",
        "2. They are used in modeling of $2D$ and $3D$ animation, where objects' sizes and shapes are transformed from one view to another."
      ],
      "metadata": {
        "id": "wSwKfuuwebyn"
      }
    },
    {
      "cell_type": "markdown",
      "source": [
        "### Example\n",
        "\n",
        "Define $T : \\mathbb{R}^{2} \\rightarrow \\mathbb{R}^{2}$ by\n",
        "\n",
        "$$\n",
        "T\\begin{pmatrix}x \\\\ y\\end{pmatrix} = \\begin{pmatrix}2 & 1 \\\\ 0 & 1\\end{pmatrix} \\cdot \\begin{pmatrix}x \\\\ y\\end{pmatrix}\n",
        "$$\n",
        "\n",
        "So,\n",
        "\n",
        "$$\n",
        "\\begin{align}\n",
        "T\\begin{pmatrix}0 \\\\ 0\\end{pmatrix} &= \\begin{pmatrix}2 & 1 \\\\ 0 & 1\\end{pmatrix} \\cdot \\begin{pmatrix}0 \\\\ 0\\end{pmatrix} \\\\\n",
        "&= \\begin{pmatrix}0 \\\\ 0\\end{pmatrix}\n",
        "\\end{align}\n",
        "$$\n",
        "\n",
        "And,\n",
        "\n",
        "$$\n",
        "\\begin{align}\n",
        "T\\begin{pmatrix}1 \\\\ 2\\end{pmatrix} &= \\begin{pmatrix}2 & 1 \\\\ 0 & 1\\end{pmatrix} \\cdot \\begin{pmatrix}1 \\\\ 2\\end{pmatrix} \\\\\n",
        "&= \\begin{pmatrix}4 \\\\ 2\\end{pmatrix}\n",
        "\\end{align}\n",
        "$$"
      ],
      "metadata": {
        "id": "3eaICWJWfiHJ"
      }
    },
    {
      "cell_type": "code",
      "source": [
        "T = lambda X: sym.Matrix([[2, 1], [0, 1]]) @ X"
      ],
      "metadata": {
        "id": "eQuzDORqhreR"
      },
      "execution_count": 2,
      "outputs": []
    },
    {
      "cell_type": "code",
      "source": [
        "T(sym.Matrix([0, 0]))"
      ],
      "metadata": {
        "colab": {
          "base_uri": "https://localhost:8080/",
          "height": 58
        },
        "id": "dQF8aH-2h9CF",
        "outputId": "971fb1c8-dabf-47e0-9cfd-8d982123eb42"
      },
      "execution_count": 3,
      "outputs": [
        {
          "output_type": "execute_result",
          "data": {
            "text/plain": [
              "Matrix([\n",
              "[0],\n",
              "[0]])"
            ],
            "text/latex": "$\\displaystyle \\left[\\begin{matrix}0\\\\0\\end{matrix}\\right]$"
          },
          "metadata": {},
          "execution_count": 3
        }
      ]
    },
    {
      "cell_type": "code",
      "source": [
        "T(sym.Matrix([1, 2]))"
      ],
      "metadata": {
        "colab": {
          "base_uri": "https://localhost:8080/",
          "height": 58
        },
        "id": "3khqD7m8iPZN",
        "outputId": "a5a252cf-e90f-40f0-b6d3-f30cd49e6242"
      },
      "execution_count": 4,
      "outputs": [
        {
          "output_type": "execute_result",
          "data": {
            "text/plain": [
              "Matrix([\n",
              "[4],\n",
              "[2]])"
            ],
            "text/latex": "$\\displaystyle \\left[\\begin{matrix}4\\\\2\\end{matrix}\\right]$"
          },
          "metadata": {},
          "execution_count": 4
        }
      ]
    },
    {
      "cell_type": "markdown",
      "source": [
        "## 2.4.1.2 Examples of Linear Transformations"
      ],
      "metadata": {
        "id": "PXmmhthDinMi"
      }
    },
    {
      "cell_type": "markdown",
      "source": [
        "### Discussion\n",
        "\n",
        "Let $M$ be an $m \\times n$ matrix. Define\n",
        "\n",
        "$$\n",
        "T : \\mathbb{R}^{n} \\rightarrow \\mathbb{R}^{m}\n",
        "$$\n",
        "\n",
        "by,\n",
        "\n",
        "$$\n",
        "T(\\vec{v}) = M \\cdot \\vec{v}\n",
        "$$\n",
        "\n",
        "Since $M$ is an $m \\times n$ matrix and $\\vec{v} \\in \\mathbb{R}^{n}$ (so that it is an $n \\times 1$ matrix), $M \\cdot \\vec{v} \\in \\mathbb{R}^{m}$.\n",
        "\n",
        "Hence, $T$ is a function from $\\mathbb{R}^{n}$ to $\\mathbb{R}^{m}$."
      ],
      "metadata": {
        "id": "BIdKJDLIVC5V"
      }
    },
    {
      "cell_type": "markdown",
      "source": [
        "### $T$ is Linear\n",
        "\n",
        "We now show that $T$ is linear. Let $\\vec{v}, \\vec{u} \\in \\mathbb{R}^{n}$ and let $c$ be any scalar. Then,"
      ],
      "metadata": {
        "id": "a5j4dqsTXFBw"
      }
    },
    {
      "cell_type": "markdown",
      "source": [
        "$$\n",
        "\\begin{align}\n",
        "T(\\vec{u} + \\vec{v}) &= M(\\vec{u} + \\vec{v}) \\\\\n",
        "&= M\\vec{v} + M\\vec{u} \\\\\n",
        "&= T(\\vec{v}) + T(\\vec{u})\n",
        "\\end{align}\n",
        "$$"
      ],
      "metadata": {
        "id": "1oLO1ZqtY155"
      }
    },
    {
      "cell_type": "markdown",
      "source": [
        "$$\n",
        "\\begin{align}\n",
        "T(c\\vec{v}) &= M(c\\vec{v}) \\\\\n",
        "&= cM\\vec{v} \\\\\n",
        "&= cT(\\vec{v})\n",
        "\\end{align}\n",
        "$$"
      ],
      "metadata": {
        "id": "SpcyLA1jY54g"
      }
    },
    {
      "cell_type": "markdown",
      "source": [
        "### Example\n",
        "\n",
        "Let $M = \\begin{pmatrix}2 & 1 & 0 \\\\ 0 & 1 & 1\\end{pmatrix}$\n",
        "\n",
        "Define,\n",
        "\n",
        "$$\n",
        "T : \\mathbb{R}^{3} \\rightarrow \\mathbb{R}^{2}\n",
        "$$\n",
        "\n",
        "by\n",
        "\n",
        "$$\n",
        "\\begin{align}\n",
        "T\\begin{pmatrix}x \\\\ y\\\\ z\\end{pmatrix} &= M\\begin{pmatrix}x \\\\ y\\\\ z\\end{pmatrix} \\\\\n",
        "&= \\begin{pmatrix}2 & 1 & 0 \\\\ 0 & 1 & 1\\end{pmatrix} \\cdot \\begin{pmatrix}x \\\\ y\\\\ z\\end{pmatrix} \\\\\n",
        "&= \\begin{pmatrix}2x + y \\\\ y + z\\end{pmatrix}\n",
        "\\end{align}\n",
        "$$"
      ],
      "metadata": {
        "id": "xX2OBjIVZSB4"
      }
    },
    {
      "cell_type": "markdown",
      "source": [
        "### Geometric Interpretation of Vectors\n",
        "\n",
        "- In $2D$, the vector, $\\vec{v} = \\begin{pmatrix}1 & 1\\end{pmatrix}$, can be represented using the ordered pair, $(1, 1)$.\n",
        "- The **head** of the vector is at the point $(1, 1)$ and the **tail** of the vector is at $(0, 0)$"
      ],
      "metadata": {
        "id": "d_mNmqLmbb_B"
      }
    },
    {
      "cell_type": "code",
      "source": [
        "plt.figure(figsize=(4, 4))\n",
        "min = -2\n",
        "max = 2\n",
        "\n",
        "v = np.array([[1], [1]])\n",
        "plt.quiver(0, 0, v[0], v[1], scale=max-min, color='red', label='$\\\\vec{v} = (1, 1)$')\n",
        "plt.scatter(0, 0, color='red', s=10)\n",
        "\n",
        "plt.grid()\n",
        "plt.xticks(np.arange(min, max+1))\n",
        "plt.yticks(np.arange(min, max+1))\n",
        "plt.legend()\n",
        "plt.show()"
      ],
      "metadata": {
        "colab": {
          "base_uri": "https://localhost:8080/",
          "height": 374
        },
        "id": "67vvDjDHjBzh",
        "outputId": "87ebd976-3373-4b9a-a760-aabf56491afe"
      },
      "execution_count": 5,
      "outputs": [
        {
          "output_type": "display_data",
          "data": {
            "text/plain": [
              "<Figure size 400x400 with 1 Axes>"
            ],
            "image/png": "[encoded data removed]"
          },
          "metadata": {}
        }
      ]
    },
    {
      "cell_type": "markdown",
      "source": [
        "### Rotation Transformation\n",
        "\n",
        "Suppose we want to rotate a vector (or a picture) in $2D$. The standard transformation that does this:\n",
        "\n",
        "$$\n",
        "R(\\theta) = \\begin{pmatrix}\n",
        "\\cos(\\theta) & -\\sin(\\theta) \\\\\n",
        "\\sin(\\theta) & \\cos(\\theta)\n",
        "\\end{pmatrix}\n",
        "$$"
      ],
      "metadata": {
        "id": "YjceraFjor-i"
      }
    },
    {
      "cell_type": "code",
      "source": [
        "R = lambda theta : np.array([[np.cos(theta), -np.sin(theta)],\n",
        "                             [np.sin(theta), np.cos(theta)]])\n",
        "R(np.pi)"
      ],
      "metadata": {
        "colab": {
          "base_uri": "https://localhost:8080/"
        },
        "id": "FHyX3kNhpiwW",
        "outputId": "74943af3-5785-45bf-c007-7208cf6c0124"
      },
      "execution_count": 6,
      "outputs": [
        {
          "output_type": "execute_result",
          "data": {
            "text/plain": [
              "array([[-1.0000000e+00, -1.2246468e-16],\n",
              "       [ 1.2246468e-16, -1.0000000e+00]])"
            ]
          },
          "metadata": {},
          "execution_count": 6
        }
      ]
    },
    {
      "cell_type": "code",
      "source": [
        "R(np.pi).shape, v.shape"
      ],
      "metadata": {
        "colab": {
          "base_uri": "https://localhost:8080/"
        },
        "id": "g-FO2A2Vrbge",
        "outputId": "734e5ee3-e683-43a8-ef32-d3c2da41a1c0"
      },
      "execution_count": 7,
      "outputs": [
        {
          "output_type": "execute_result",
          "data": {
            "text/plain": [
              "((2, 2), (2, 1))"
            ]
          },
          "metadata": {},
          "execution_count": 7
        }
      ]
    },
    {
      "cell_type": "code",
      "source": [
        "np.matmul(R(np.pi/2), v)"
      ],
      "metadata": {
        "colab": {
          "base_uri": "https://localhost:8080/"
        },
        "id": "kuiJU5ASrr5t",
        "outputId": "cabb53a9-3b39-4ab8-e3cf-bb7eff2006ee"
      },
      "execution_count": 8,
      "outputs": [
        {
          "output_type": "execute_result",
          "data": {
            "text/plain": [
              "array([[-1.],\n",
              "       [ 1.]])"
            ]
          },
          "metadata": {},
          "execution_count": 8
        }
      ]
    },
    {
      "cell_type": "code",
      "source": [
        "R(np.pi/2) @ v"
      ],
      "metadata": {
        "colab": {
          "base_uri": "https://localhost:8080/"
        },
        "id": "cnAb_OZZrwtD",
        "outputId": "ce934974-18f6-4bf0-b782-759c86fda253"
      },
      "execution_count": 9,
      "outputs": [
        {
          "output_type": "execute_result",
          "data": {
            "text/plain": [
              "array([[-1.],\n",
              "       [ 1.]])"
            ]
          },
          "metadata": {},
          "execution_count": 9
        }
      ]
    },
    {
      "cell_type": "code",
      "source": [
        "plt.figure(figsize=(4, 4))\n",
        "min = -2\n",
        "max = 2\n",
        "\n",
        "v = np.array([[1], [1]])\n",
        "plt.quiver(0, 0, v[0], v[1], scale=max-min, color='red',\n",
        "           label='$\\\\vec{{v}} = (1, 1)$')\n",
        "plt.scatter(0, 0, color='red', s=10)\n",
        "\n",
        "v90 = R(np.pi/2) @ v\n",
        "plt.quiver(0, 0, v90[0], v90[1], scale=max-min, color='blue',\n",
        "           label=f'$\\\\vec{{v90}} = ({int(v90[0, 0].round())}, {int(v90[1, 0].round(0))})$')\n",
        "\n",
        "plt.grid()\n",
        "plt.xticks(np.arange(min, max+1))\n",
        "plt.yticks(np.arange(min, max+1))\n",
        "plt.legend()\n",
        "plt.show()"
      ],
      "metadata": {
        "colab": {
          "base_uri": "https://localhost:8080/",
          "height": 374
        },
        "id": "BT2IiaWSo6NT",
        "outputId": "a45e7bb8-afe2-4bfd-8110-d57fd4dde7be"
      },
      "execution_count": 10,
      "outputs": [
        {
          "output_type": "display_data",
          "data": {
            "text/plain": [
              "<Figure size 400x400 with 1 Axes>"
            ],
            "image/png": "[encoded data removed]"
          },
          "metadata": {}
        }
      ]
    },
    {
      "cell_type": "code",
      "source": [
        "plt.figure(figsize=(4, 4))\n",
        "\n",
        "# original parabola\n",
        "x = np.linspace(-10, 10, 21)\n",
        "y = x**2\n",
        "plt.plot(x, y, color='red', label='original parabola')\n",
        "\n",
        "# rotated parabola\n",
        "x_rot, y_rot = R(np.pi/2) @ np.array([x, y])\n",
        "plt.plot(x_rot, y_rot, c='blue', label='rotated $(90^{\\circ})$ parabola')\n",
        "\n",
        "plt.legend()\n",
        "plt.show()"
      ],
      "metadata": {
        "colab": {
          "base_uri": "https://localhost:8080/",
          "height": 368
        },
        "id": "AfqSHJIaukzV",
        "outputId": "e758af50-e68b-4ced-afcd-360be997f811"
      },
      "execution_count": 11,
      "outputs": [
        {
          "output_type": "display_data",
          "data": {
            "text/plain": [
              "<Figure size 400x400 with 1 Axes>"
            ],
            "image/png": "[encoded data removed]"
          },
          "metadata": {}
        }
      ]
    },
    {
      "cell_type": "markdown",
      "source": [
        "## 2.4.1.3 Matrix Representation of Transformations\n",
        "\n",
        "This lesson covers:\n",
        "\n",
        "1. How to write any vector in $\\mathbb{R}^{n}$ as a linear combination of basis elements\n",
        "2. How to represent a linear transformation from $\\mathbb{R}^{n}$ to $\\mathbb{R}^{n}$ as a matrix"
      ],
      "metadata": {
        "id": "QhmdWOJ242Am"
      }
    },
    {
      "cell_type": "markdown",
      "source": [
        "### Standard Basis for $\\mathbb{R}^{n}$\n",
        "\n",
        "Let $n \\in \\mathbb{N}$.\n",
        "\n",
        "Let $e_1 = \\begin{pmatrix}1 \\\\ 0 \\\\ \\vdots \\\\ 0\\end{pmatrix}$,\n",
        "$e_2 = \\begin{pmatrix}0 \\\\ 1 \\\\ \\vdots \\\\ 0\\end{pmatrix}$, $\\dots$,\n",
        "$e_n = \\begin{pmatrix}0 \\\\ 0 \\\\ \\vdots \\\\ 1\\end{pmatrix}$.\n",
        "\n",
        "The set $\\{e_1, e_2, \\dots, e_n\\}$ is called the standard basis for $\\mathbb{R}^{n}$."
      ],
      "metadata": {
        "id": "MirHeFMg48rQ"
      }
    },
    {
      "cell_type": "markdown",
      "source": [
        "### Remarks\n",
        "\n",
        "1. Each vector, $\\vec{v} \\in \\mathbb{R}^{n}$, can be uniquely written as a linear combination of elements from $\\{e_1, e_2, \\dots, e_n\\}$.\n",
        "2. This tells is that $\\{e_1, e_2, \\dots, e_n\\}$ is a basis for $\\mathbb{R}^{n}$."
      ],
      "metadata": {
        "id": "1dE9796l-D9s"
      }
    },
    {
      "cell_type": "markdown",
      "source": [
        "### Discussion\n",
        "\n",
        "We consider $\\mathbb{R}^{3}$ for this discussion, however, the construction can be extended to $\\mathbb{R}^{n}$, for any $n \\in \\mathbb{N}$.\n",
        "\n",
        "Let $\\vec{v} \\in \\mathbb{R}^{3}$, then $\\vec{v} = \\begin{pmatrix}x \\\\ y \\\\ z\\end{pmatrix}$.\n",
        "\n",
        "The standard basis vectors for $\\mathbb{R}^{3}$ are:\n",
        "\n",
        "$e_1 = \\begin{pmatrix}1 \\\\ 0 \\\\ 0\\end{pmatrix}$,\n",
        "$e_2 = \\begin{pmatrix}0 \\\\ 1 \\\\ 0\\end{pmatrix}$,\n",
        "$e_3 = \\begin{pmatrix}0 \\\\ 0 \\\\ 1\\end{pmatrix}$\n",
        "\n",
        "Then,\n",
        "\n",
        "$$\n",
        "\\begin{align}\n",
        "\\vec{v} &= \\begin{pmatrix}x \\\\ y \\\\ z\\end{pmatrix} \\\\\n",
        "&= x\\begin{pmatrix}1 \\\\ 0 \\\\ 0\\end{pmatrix} +\n",
        "y\\begin{pmatrix}0 \\\\ 1 \\\\ 0\\end{pmatrix} +\n",
        "z\\begin{pmatrix}0 \\\\ 0 \\\\ 1\\end{pmatrix} \\\\\n",
        "&= xe_1 + ye_2 + ze_3\n",
        "\\end{align}\n",
        "$$"
      ],
      "metadata": {
        "id": "OuFdigg9_HUq"
      }
    },
    {
      "cell_type": "markdown",
      "source": [
        "### Matrix Representation\n",
        "\n",
        "Let $T : \\mathbb{R}^{n} \\rightarrow \\mathbb{R}^{n}$ be a linear transformation.\n",
        "\n",
        "Define a matrix, $M_{T} = \\begin{pmatrix}T(e_1) & T(e_2) & T(e_3) \\end{pmatrix}$.\n",
        "\n",
        "$M_{T}$ is the standard matrix representation of $T$.\n",
        "\n",
        "Now for any $\\vec{v} \\in \\mathbb{R}^{n}$, $T\\vec{v} = M_{T}\\vec{v}$."
      ],
      "metadata": {
        "id": "wJ-xPCnkCGhP"
      }
    },
    {
      "cell_type": "markdown",
      "source": [
        "### Example\n",
        "\n",
        "Define $T : \\mathbb{R}^{3} \\rightarrow \\mathbb{R}^{3}$ by\n",
        "\n",
        "$$\n",
        "T\\begin{pmatrix}x \\\\ y \\\\ z\\end{pmatrix} = \\begin{pmatrix}x - y \\\\ x + y \\\\ 2z\\end{pmatrix}\n",
        "$$\n",
        "\n",
        "- Note that each component of $T\\vec{v}$ is linear.\n",
        "\n",
        "Finding $M_{T}$,\n",
        "\n",
        "$$\n",
        "\\begin{align}\n",
        "T(e_1) &= T\\begin{pmatrix}1 \\\\ 0 \\\\ 0\\end{pmatrix} \\\\\n",
        "&= \\begin{pmatrix}1 \\\\ 1 \\\\ 0\\end{pmatrix}\n",
        "\\end{align}\n",
        "$$\n",
        "\n",
        "$$\n",
        "\\begin{align}\n",
        "T(e_2) &= T\\begin{pmatrix}0 \\\\ 1 \\\\ 0\\end{pmatrix} \\\\\n",
        "&= \\begin{pmatrix}-1 \\\\ 1 \\\\ 0\\end{pmatrix}\n",
        "\\end{align}\n",
        "$$\n",
        "\n",
        "$$\n",
        "\\begin{align}\n",
        "T(e_3) &= T\\begin{pmatrix}0 \\\\ 0 \\\\ 1\\end{pmatrix} \\\\\n",
        "&= \\begin{pmatrix} 0 \\\\ 0 \\\\ 2\\end{pmatrix}\n",
        "\\end{align}\n",
        "$$\n",
        "\n",
        "$\\therefore$\n",
        "\n",
        "$$\n",
        "M_{T} = \\begin{pmatrix}\n",
        "1 & -1 & 0 \\\\\n",
        "1 & 1 & 0 \\\\\n",
        "0 & 0 & 2\n",
        "\\end{pmatrix}\n",
        "$$"
      ],
      "metadata": {
        "id": "VxaP8gwyEXXs"
      }
    },
    {
      "cell_type": "code",
      "source": [
        "x, y, z = sym.symbols('x y z')\n",
        "v = sym.Matrix([x, y, z])\n",
        "v"
      ],
      "metadata": {
        "colab": {
          "base_uri": "https://localhost:8080/",
          "height": 78
        },
        "id": "Uh6_iG1OHleG",
        "outputId": "ce90cd11-2443-4ee4-b50c-e3505f84845c"
      },
      "execution_count": 12,
      "outputs": [
        {
          "output_type": "execute_result",
          "data": {
            "text/plain": [
              "Matrix([\n",
              "[x],\n",
              "[y],\n",
              "[z]])"
            ],
            "text/latex": "$\\displaystyle \\left[\\begin{matrix}x\\\\y\\\\z\\end{matrix}\\right]$"
          },
          "metadata": {},
          "execution_count": 12
        }
      ]
    },
    {
      "cell_type": "code",
      "source": [
        "M_T = sym.Matrix([[1, -1, 0],\n",
        "                  [1, 1, 0],\n",
        "                  [0, 0, 2]])\n",
        "M_T"
      ],
      "metadata": {
        "colab": {
          "base_uri": "https://localhost:8080/",
          "height": 78
        },
        "id": "BHjMrLGzHvYg",
        "outputId": "f0f7b421-2a44-4079-cae5-290479146074"
      },
      "execution_count": 13,
      "outputs": [
        {
          "output_type": "execute_result",
          "data": {
            "text/plain": [
              "Matrix([\n",
              "[1, -1, 0],\n",
              "[1,  1, 0],\n",
              "[0,  0, 2]])"
            ],
            "text/latex": "$\\displaystyle \\left[\\begin{matrix}1 & -1 & 0\\\\1 & 1 & 0\\\\0 & 0 & 2\\end{matrix}\\right]$"
          },
          "metadata": {},
          "execution_count": 13
        }
      ]
    },
    {
      "cell_type": "code",
      "source": [
        "M_T @ v"
      ],
      "metadata": {
        "colab": {
          "base_uri": "https://localhost:8080/",
          "height": 78
        },
        "id": "eQ9y6TqdH5Uy",
        "outputId": "c6c02473-5928-4f75-86d8-92e46fcae32d"
      },
      "execution_count": 14,
      "outputs": [
        {
          "output_type": "execute_result",
          "data": {
            "text/plain": [
              "Matrix([\n",
              "[x - y],\n",
              "[x + y],\n",
              "[  2*z]])"
            ],
            "text/latex": "$\\displaystyle \\left[\\begin{matrix}x - y\\\\x + y\\\\2 z\\end{matrix}\\right]$"
          },
          "metadata": {},
          "execution_count": 14
        }
      ]
    },
    {
      "cell_type": "markdown",
      "source": [
        "### Note\n",
        "\n",
        "1. Matrices allow us to represent any transformation i a form that makes computations easy to do.\n",
        "2. Composition of two transformations is simply the product (in reverse order) of their matrix representatives."
      ],
      "metadata": {
        "id": "U3YeOuOQJR1a"
      }
    },
    {
      "cell_type": "markdown",
      "source": [
        "We only covered transformations from $\\mathbb{R}^{n}$ to $\\mathbb{R}^{n}$, but we could also change the dimension, say a transformation from $\\mathbb{R}^{3}$ to $\\mathbb{R}^{2}$.\n",
        "- For example, a photo is a $2D$ representation of $3D$ objects."
      ],
      "metadata": {
        "id": "T7O_s2aaKlwX"
      }
    },
    {
      "cell_type": "markdown",
      "source": [
        "## 2.4.1.4 Practice Quiz"
      ],
      "metadata": {
        "id": "0x_d7MFpLddq"
      }
    },
    {
      "cell_type": "markdown",
      "source": [
        "Let $T : \\mathbb{R}^{2} \\rightarrow \\mathbb{R}^{2}$ be a linear transformation where $T(\\vec{v}) = \\begin{pmatrix}1 \\\\ 2\\end{pmatrix}$ and $T(\\vec{u}) = \\begin{pmatrix}-1 \\\\ 1\\end{pmatrix}$.\n",
        "\n",
        "Find $T(3\\vec{v} + 2\\vec{u})$"
      ],
      "metadata": {
        "id": "oHMe5tmgL5Cw"
      }
    },
    {
      "cell_type": "markdown",
      "source": [
        "$$\n",
        "\\begin{align}\n",
        "T(3\\vec{v} + 2\\vec{u}) &= T(3\\vec{v}) + T(2\\vec{u}) \\\\\n",
        "&= 3T(\\vec{v}) + 2T(\\vec{u})\n",
        "\\end{align}\n",
        "$$"
      ],
      "metadata": {
        "id": "REYGSkOuOmKX"
      }
    },
    {
      "cell_type": "code",
      "source": [
        "Tv = sym.Matrix([1, 2])\n",
        "Tu = sym.Matrix([-1, 1])"
      ],
      "metadata": {
        "id": "rPBLcBgDPNEK"
      },
      "execution_count": 15,
      "outputs": []
    },
    {
      "cell_type": "code",
      "source": [
        "3 * Tv + 2 * Tu"
      ],
      "metadata": {
        "colab": {
          "base_uri": "https://localhost:8080/",
          "height": 58
        },
        "id": "ixRBbsBQPWRB",
        "outputId": "4302b5e1-ea90-4314-b0b8-0a76276a4e6a"
      },
      "execution_count": 16,
      "outputs": [
        {
          "output_type": "execute_result",
          "data": {
            "text/plain": [
              "Matrix([\n",
              "[1],\n",
              "[8]])"
            ],
            "text/latex": "$\\displaystyle \\left[\\begin{matrix}1\\\\8\\end{matrix}\\right]$"
          },
          "metadata": {},
          "execution_count": 16
        }
      ]
    },
    {
      "cell_type": "markdown",
      "source": [
        "Let $R\\begin{pmatrix}x \\\\ y \\\\ z\\end{pmatrix} = \\begin{pmatrix}x - y \\\\ 2y + z \\\\ x - 2z\\end{pmatrix}$, where $R$ is a linear transformation.\n",
        "\n",
        "Find the standard matrix representation of $R$."
      ],
      "metadata": {
        "id": "Uf_uxwSHQB8F"
      }
    },
    {
      "cell_type": "code",
      "source": [
        "M_r = sym.Matrix([[1, -1, 0],\n",
        "                  [0, 2, 1],\n",
        "                  [1, 0, -2]])\n",
        "M_r"
      ],
      "metadata": {
        "colab": {
          "base_uri": "https://localhost:8080/",
          "height": 78
        },
        "id": "5BGH0hElRER8",
        "outputId": "55cf6916-536a-40af-c8d3-0a76fceb07f3"
      },
      "execution_count": 17,
      "outputs": [
        {
          "output_type": "execute_result",
          "data": {
            "text/plain": [
              "Matrix([\n",
              "[1, -1,  0],\n",
              "[0,  2,  1],\n",
              "[1,  0, -2]])"
            ],
            "text/latex": "$\\displaystyle \\left[\\begin{matrix}1 & -1 & 0\\\\0 & 2 & 1\\\\1 & 0 & -2\\end{matrix}\\right]$"
          },
          "metadata": {},
          "execution_count": 17
        }
      ]
    },
    {
      "cell_type": "markdown",
      "source": [
        "Find a linear transformation $A$ that rotates each vector an angle of $\\frac{\\pi}{4}$."
      ],
      "metadata": {
        "id": "FkE_A0XSRn4r"
      }
    },
    {
      "cell_type": "code",
      "source": [
        "sym.Matrix([[sym.cos(sym.pi/4), -sym.sin(sym.pi/4)],\n",
        "            [sym.sin(sym.pi/4), sym.cos(sym.pi/4)]])"
      ],
      "metadata": {
        "colab": {
          "base_uri": "https://localhost:8080/",
          "height": 68
        },
        "id": "pU3RifNaRm9k",
        "outputId": "e4bf27ac-0981-44df-9b8c-820d3c383cf7"
      },
      "execution_count": 18,
      "outputs": [
        {
          "output_type": "execute_result",
          "data": {
            "text/plain": [
              "Matrix([\n",
              "[sqrt(2)/2, -sqrt(2)/2],\n",
              "[sqrt(2)/2,  sqrt(2)/2]])"
            ],
            "text/latex": "$\\displaystyle \\left[\\begin{matrix}\\frac{\\sqrt{2}}{2} & - \\frac{\\sqrt{2}}{2}\\\\\\frac{\\sqrt{2}}{2} & \\frac{\\sqrt{2}}{2}\\end{matrix}\\right]$"
          },
          "metadata": {},
          "execution_count": 18
        }
      ]
    }
  ]
}