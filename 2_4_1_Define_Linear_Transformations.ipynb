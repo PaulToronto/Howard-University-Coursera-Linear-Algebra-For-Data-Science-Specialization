{
  "nbformat": 4,
  "nbformat_minor": 0,
  "metadata": {
    "colab": {
      "provenance": [],
      "toc_visible": true,
      "authorship_tag": "ABX9TyPWGvAzKC5TB0KAfgPG4RLg",
      "include_colab_link": true
    },
    "kernelspec": {
      "name": "python3",
      "display_name": "Python 3"
    },
    "language_info": {
      "name": "python"
    }
  },
  "cells": [
    {
      "cell_type": "markdown",
      "metadata": {
        "id": "view-in-github",
        "colab_type": "text"
      },
      "source": [
        "<a href=\"https://colab.research.google.com/github/PaulToronto/Howard-University-Coursera-Linear-Algebra-For-Data-Science-Specialization/blob/main/2_4_1_Define_Linear_Transformations.ipynb\" target=\"_parent\"><img src=\"https://colab.research.google.com/assets/colab-badge.svg\" alt=\"Open In Colab\"/></a>"
      ]
    },
    {
      "cell_type": "markdown",
      "source": [
        "# 2.4.1 Define Linear Transformations"
      ],
      "metadata": {
        "id": "rKhRXHG8RQMU"
      }
    },
    {
      "cell_type": "markdown",
      "source": [
        "## Imports"
      ],
      "metadata": {
        "id": "MPz1_XzmRT0i"
      }
    },
    {
      "cell_type": "code",
      "execution_count": 2,
      "metadata": {
        "id": "pP7UdTkRRIJy"
      },
      "outputs": [],
      "source": [
        "import sympy as sym"
      ]
    },
    {
      "cell_type": "markdown",
      "source": [
        "## 2.4.1.1 Linear Transformations"
      ],
      "metadata": {
        "id": "uArGPCtlR42b"
      }
    },
    {
      "cell_type": "markdown",
      "source": [
        "### Definition: Function\n",
        "\n",
        "Let $X$ and $Y$ be to non-empty sets. A function $\\phi$ from set $X$ to set $Y$ is a relation such that each element in set $X$ is associated with **one and only one** element in set $Y$. This is denoted by:\n",
        "\n",
        "$$\n",
        "\\phi: X \\rightarrow Y\n",
        "$$\n",
        "\n",
        "We also write:\n",
        "\n",
        "$$\n",
        "\\phi(x) = y \\text{, where } x \\in X \\text{ and } y \\in Y.\n",
        "$$"
      ],
      "metadata": {
        "id": "7g_J-J9ta2bM"
      }
    },
    {
      "cell_type": "markdown",
      "source": [
        "### Definition: Linear Transformation\n",
        "\n",
        "A **linear transformation** $T$ is a function from $\\mathbb{R}^{m}$ to $\\mathbb{R}^{n}$, such that\n",
        "\n",
        "1. $T(\\vec{u} + \\vec{v}) = T(\\vec{u}) + T(\\vec{v})$ and,\n",
        "2. $T(c\\vec{v}) = cT(\\vec{v})$\n",
        "\n",
        "For vectors $\\vec{u}$, $\\vec{v}$, and scalar $c$."
      ],
      "metadata": {
        "id": "R6c_slB5c_Mv"
      }
    },
    {
      "cell_type": "markdown",
      "source": [
        "#### Examples\n",
        "\n",
        "1. A $m \\times n$ matrices can be viewed as linear transformations from $\\mathbb{R}^{n}$ to $\\mathbb{R}^{m}$\n",
        "2. They are used in modeling of $2D$ and $3D$ animation, where objects' sizes and shapes are transformed from one view to another."
      ],
      "metadata": {
        "id": "wSwKfuuwebyn"
      }
    },
    {
      "cell_type": "markdown",
      "source": [
        "### Example\n",
        "\n",
        "Define $T : \\mathbb{R}^{2} \\rightarrow \\mathbb{R}^{2}$ by\n",
        "\n",
        "$$\n",
        "T\\begin{pmatrix}x \\\\ y\\end{pmatrix} = \\begin{pmatrix}2 & 1 \\\\ 0 & 1\\end{pmatrix} \\cdot \\begin{pmatrix}x \\\\ y\\end{pmatrix}\n",
        "$$\n",
        "\n",
        "So,\n",
        "\n",
        "$$\n",
        "\\begin{align}\n",
        "T\\begin{pmatrix}0 \\\\ 0\\end{pmatrix} &= \\begin{pmatrix}2 & 1 \\\\ 0 & 1\\end{pmatrix} \\cdot \\begin{pmatrix}0 \\\\ 0\\end{pmatrix} \\\\\n",
        "&= \\begin{pmatrix}0 \\\\ 0\\end{pmatrix}\n",
        "\\end{align}\n",
        "$$\n",
        "\n",
        "And,\n",
        "\n",
        "$$\n",
        "\\begin{align}\n",
        "T\\begin{pmatrix}1 \\\\ 2\\end{pmatrix} &= \\begin{pmatrix}2 & 1 \\\\ 0 & 1\\end{pmatrix} \\cdot \\begin{pmatrix}1 \\\\ 2\\end{pmatrix} \\\\\n",
        "&= \\begin{pmatrix}4 \\\\ 2\\end{pmatrix}\n",
        "\\end{align}\n",
        "$$"
      ],
      "metadata": {
        "id": "3eaICWJWfiHJ"
      }
    },
    {
      "cell_type": "code",
      "source": [
        "T = lambda X: sym.Matrix([[2, 1], [0, 1]]) @ X"
      ],
      "metadata": {
        "id": "eQuzDORqhreR"
      },
      "execution_count": 7,
      "outputs": []
    },
    {
      "cell_type": "code",
      "source": [
        "T(sym.Matrix([0, 0]))"
      ],
      "metadata": {
        "colab": {
          "base_uri": "https://localhost:8080/",
          "height": 58
        },
        "id": "dQF8aH-2h9CF",
        "outputId": "5f93326f-9159-4ede-a9b9-783084f14d95"
      },
      "execution_count": 8,
      "outputs": [
        {
          "output_type": "execute_result",
          "data": {
            "text/plain": [
              "Matrix([\n",
              "[0],\n",
              "[0]])"
            ],
            "text/latex": "$\\displaystyle \\left[\\begin{matrix}0\\\\0\\end{matrix}\\right]$"
          },
          "metadata": {},
          "execution_count": 8
        }
      ]
    },
    {
      "cell_type": "code",
      "source": [
        "T(sym.Matrix([1, 2]))"
      ],
      "metadata": {
        "colab": {
          "base_uri": "https://localhost:8080/",
          "height": 58
        },
        "id": "3khqD7m8iPZN",
        "outputId": "e001051d-1ddf-49d6-b165-08de78edab15"
      },
      "execution_count": 9,
      "outputs": [
        {
          "output_type": "execute_result",
          "data": {
            "text/plain": [
              "Matrix([\n",
              "[4],\n",
              "[2]])"
            ],
            "text/latex": "$\\displaystyle \\left[\\begin{matrix}4\\\\2\\end{matrix}\\right]$"
          },
          "metadata": {},
          "execution_count": 9
        }
      ]
    },
    {
      "cell_type": "markdown",
      "source": [
        "## 2.4.1.2 Examples of Linear Transformations"
      ],
      "metadata": {
        "id": "PXmmhthDinMi"
      }
    }
  ]
}