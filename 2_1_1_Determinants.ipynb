{
  "nbformat": 4,
  "nbformat_minor": 0,
  "metadata": {
    "colab": {
      "provenance": [],
      "toc_visible": true,
      "authorship_tag": "ABX9TyMQOBcd+/uRCRXMFA9MEYos",
      "include_colab_link": true
    },
    "kernelspec": {
      "name": "python3",
      "display_name": "Python 3"
    },
    "language_info": {
      "name": "python"
    }
  },
  "cells": [
    {
      "cell_type": "markdown",
      "metadata": {
        "id": "view-in-github",
        "colab_type": "text"
      },
      "source": [
        "<a href=\"https://colab.research.google.com/github/PaulToronto/Howard-University-Coursera-Linear-Algebra-For-Data-Science-Specialization/blob/main/2_1_1_Determinants.ipynb\" target=\"_parent\"><img src=\"https://colab.research.google.com/assets/colab-badge.svg\" alt=\"Open In Colab\"/></a>"
      ]
    },
    {
      "cell_type": "markdown",
      "source": [
        "# 2.1.1 Determinants"
      ],
      "metadata": {
        "id": "cgDIIk8gmL0e"
      }
    },
    {
      "cell_type": "markdown",
      "source": [
        "## Imports"
      ],
      "metadata": {
        "id": "we2ybh9CI5fc"
      }
    },
    {
      "cell_type": "code",
      "source": [
        "import sympy as sym\n",
        "import numpy as np\n",
        "import random"
      ],
      "metadata": {
        "id": "FavFnHTSI40S"
      },
      "execution_count": 1,
      "outputs": []
    },
    {
      "cell_type": "markdown",
      "source": [
        "## 2.1.1.1 Review of Linear Equations\n",
        "\n",
        "In this lesson we learn:\n",
        "\n",
        "- What a **linear transformation** is\n",
        "- Some applications of linear transformations"
      ],
      "metadata": {
        "id": "irJ3DM6QmPQx"
      }
    },
    {
      "cell_type": "markdown",
      "source": [
        "### Definition: Function\n",
        "\n",
        "Let $X$ and $Y$ be two non-empty sets. A function $\\phi$ from set $X$ to set $Y$ is a relation such that each element in set $X$ is associated with **one and only one** element in set $Y$.\n",
        "\n",
        "This is denoted by:\n",
        "\n",
        "$$\n",
        "\\phi : X \\rightarrow Y\n",
        "$$\n",
        "\n",
        "We also write:\n",
        "\n",
        "$$\n",
        "\\phi\\left(x\\right) = y \\text{, where } x \\in X \\text{ and } y \\in Y\n",
        "$$"
      ],
      "metadata": {
        "id": "glQsF1QjCI-4"
      }
    },
    {
      "cell_type": "markdown",
      "source": [
        "### Definition: Linear Transformation\n",
        "\n",
        "A **linear transformation**, $T$, is a function from $\\mathbb{R}^{m}$ to $\\mathbb{R}^{n}$, such that\n",
        "\n",
        "1. $T(\\vec{u} + \\vec{v}) = T(\\vec{u}) + T(\\vec{v})$\n",
        "2. $T(c\\vec{v}) = cT(\\vec{v})$\n",
        "\n",
        "for vectors $\\vec{u}$, $\\vec{v}$, and scalar $c$."
      ],
      "metadata": {
        "id": "WDts279mECpw"
      }
    },
    {
      "cell_type": "markdown",
      "source": [
        "### Examples of Linear Transformations\n",
        "\n",
        "1. A $m \\times n$ matrices can be viewed as linear transformations from $\\mathbb{R}^{n}$ to $\\mathbb{R}^{m}$\n",
        "2. They are used in modeling of $2D$ and $3D$ animation, where object's sizes and shapes are transformed from one view to the other"
      ],
      "metadata": {
        "id": "v_yzVn5BGrg4"
      }
    },
    {
      "cell_type": "markdown",
      "source": [
        "### Example:\n",
        "\n",
        "Define $T$: $\\mathbb{R}^{2} \\rightarrow \\mathbb{R}^{2}$ as:\n",
        "\n",
        "$$\n",
        "T\\begin{pmatrix}x \\\\ y\\end{pmatrix} = \\begin{pmatrix}2 & 1\\\\0 & 1\\end{pmatrix} \\cdot \\begin{pmatrix}x \\\\ y\\end{pmatrix}\n",
        "$$\n",
        "\n",
        "So,\n",
        "\n",
        "$$\n",
        "\\begin{align}\n",
        "T\\begin{pmatrix}0 \\\\ 0\\end{pmatrix} &= \\begin{pmatrix}2 & 1\\\\0 & 1\\end{pmatrix} \\cdot \\begin{pmatrix}0 \\\\ 0\\end{pmatrix} \\\\\n",
        "&= \\begin{pmatrix}0 \\\\ 0\\end{pmatrix}\n",
        "\\end{align}\n",
        "$$"
      ],
      "metadata": {
        "id": "uUm3bsDoHXhZ"
      }
    },
    {
      "cell_type": "code",
      "source": [
        "M = sym.Matrix([[2, 1], [0, 1]])\n",
        "M"
      ],
      "metadata": {
        "colab": {
          "base_uri": "https://localhost:8080/",
          "height": 58
        },
        "id": "m3P9svn2KZKr",
        "outputId": "c8a9a194-ae9c-4541-eb88-80cfb3df9717"
      },
      "execution_count": 2,
      "outputs": [
        {
          "output_type": "execute_result",
          "data": {
            "text/plain": [
              "Matrix([\n",
              "[2, 1],\n",
              "[0, 1]])"
            ],
            "text/latex": "$\\displaystyle \\left[\\begin{matrix}2 & 1\\\\0 & 1\\end{matrix}\\right]$"
          },
          "metadata": {},
          "execution_count": 2
        }
      ]
    },
    {
      "cell_type": "code",
      "source": [
        "M @ sym.Matrix([[0], [0]])"
      ],
      "metadata": {
        "colab": {
          "base_uri": "https://localhost:8080/",
          "height": 58
        },
        "id": "vAndSa0DN2RT",
        "outputId": "bd507092-3d50-48fc-c6ac-efc1b75752f2"
      },
      "execution_count": 3,
      "outputs": [
        {
          "output_type": "execute_result",
          "data": {
            "text/plain": [
              "Matrix([\n",
              "[0],\n",
              "[0]])"
            ],
            "text/latex": "$\\displaystyle \\left[\\begin{matrix}0\\\\0\\end{matrix}\\right]$"
          },
          "metadata": {},
          "execution_count": 3
        }
      ]
    },
    {
      "cell_type": "code",
      "source": [
        "T = lambda X: M @ X"
      ],
      "metadata": {
        "id": "uEstVH2zOLsj"
      },
      "execution_count": 4,
      "outputs": []
    },
    {
      "cell_type": "code",
      "source": [
        "x, y = sym.symbols('x y')\n",
        "\n",
        "X = sym.Matrix([[x], [y]])\n",
        "X"
      ],
      "metadata": {
        "colab": {
          "base_uri": "https://localhost:8080/",
          "height": 58
        },
        "id": "uDjUhDeFOkTC",
        "outputId": "b6f32a39-a54d-44bd-dbc7-9ed1d05de8cc"
      },
      "execution_count": 5,
      "outputs": [
        {
          "output_type": "execute_result",
          "data": {
            "text/plain": [
              "Matrix([\n",
              "[x],\n",
              "[y]])"
            ],
            "text/latex": "$\\displaystyle \\left[\\begin{matrix}x\\\\y\\end{matrix}\\right]$"
          },
          "metadata": {},
          "execution_count": 5
        }
      ]
    },
    {
      "cell_type": "code",
      "source": [
        "T(X)"
      ],
      "metadata": {
        "colab": {
          "base_uri": "https://localhost:8080/",
          "height": 58
        },
        "id": "HJwGmEVvPR53",
        "outputId": "5a7942e5-2a55-43bc-ab15-63eb078fd778"
      },
      "execution_count": 6,
      "outputs": [
        {
          "output_type": "execute_result",
          "data": {
            "text/plain": [
              "Matrix([\n",
              "[2*x + y],\n",
              "[      y]])"
            ],
            "text/latex": "$\\displaystyle \\left[\\begin{matrix}2 x + y\\\\y\\end{matrix}\\right]$"
          },
          "metadata": {},
          "execution_count": 6
        }
      ]
    },
    {
      "cell_type": "code",
      "source": [
        "X = sym.Matrix([[1], [2]])\n",
        "X"
      ],
      "metadata": {
        "colab": {
          "base_uri": "https://localhost:8080/",
          "height": 58
        },
        "id": "eWKG6XklO1DP",
        "outputId": "9ade2978-7ef7-46f5-f5a0-7c11310d2607"
      },
      "execution_count": 7,
      "outputs": [
        {
          "output_type": "execute_result",
          "data": {
            "text/plain": [
              "Matrix([\n",
              "[1],\n",
              "[2]])"
            ],
            "text/latex": "$\\displaystyle \\left[\\begin{matrix}1\\\\2\\end{matrix}\\right]$"
          },
          "metadata": {},
          "execution_count": 7
        }
      ]
    },
    {
      "cell_type": "code",
      "source": [
        "T(X)"
      ],
      "metadata": {
        "colab": {
          "base_uri": "https://localhost:8080/",
          "height": 58
        },
        "id": "RbONon8aPZ6m",
        "outputId": "ee721261-54b0-49a2-9d0d-44ed116f45b5"
      },
      "execution_count": 8,
      "outputs": [
        {
          "output_type": "execute_result",
          "data": {
            "text/plain": [
              "Matrix([\n",
              "[4],\n",
              "[2]])"
            ],
            "text/latex": "$\\displaystyle \\left[\\begin{matrix}4\\\\2\\end{matrix}\\right]$"
          },
          "metadata": {},
          "execution_count": 8
        }
      ]
    },
    {
      "cell_type": "markdown",
      "source": [
        "## 2.1.1.2 Determinants\n",
        "\n",
        "All square matrices have a determinant. Rectangular matrices do not have a determinant."
      ],
      "metadata": {
        "id": "doca8zGBQZQM"
      }
    },
    {
      "cell_type": "markdown",
      "source": [
        "### Determinant for $2 \\times 2$ matrices\n",
        "\n",
        "Let $A = \\begin{pmatrix}a & b\\\\c & d\\end{pmatrix}$ be any $2 \\times 2$ matrix.\n",
        "\n",
        "$\n",
        "\\det(A) = ad - bc\n",
        "$"
      ],
      "metadata": {
        "id": "YVVi15CkSGum"
      }
    },
    {
      "cell_type": "markdown",
      "source": [
        "Another notation:\n",
        "\n",
        "$\\det(A) = \\begin{vmatrix}A\\end{vmatrix} = \\begin{vmatrix}a & b\\\\c & d\\end{vmatrix}$"
      ],
      "metadata": {
        "id": "2HEyFoy9Tnwa"
      }
    },
    {
      "cell_type": "code",
      "source": [
        "a, b, c, d = sym.symbols('a b c d')\n",
        "\n",
        "A = sym.Matrix([[a, b], [c, d]])\n",
        "A"
      ],
      "metadata": {
        "colab": {
          "base_uri": "https://localhost:8080/",
          "height": 58
        },
        "id": "FaAWaX6uSmgr",
        "outputId": "d0b06c6a-df9d-48fd-a690-1a622ae7b148"
      },
      "execution_count": 9,
      "outputs": [
        {
          "output_type": "execute_result",
          "data": {
            "text/plain": [
              "Matrix([\n",
              "[a, b],\n",
              "[c, d]])"
            ],
            "text/latex": "$\\displaystyle \\left[\\begin{matrix}a & b\\\\c & d\\end{matrix}\\right]$"
          },
          "metadata": {},
          "execution_count": 9
        }
      ]
    },
    {
      "cell_type": "code",
      "source": [
        "A.det()"
      ],
      "metadata": {
        "colab": {
          "base_uri": "https://localhost:8080/",
          "height": 39
        },
        "id": "vixfDLB5SvgW",
        "outputId": "0bb40a47-43d4-4cd1-e51e-8be52eb7d31e"
      },
      "execution_count": 10,
      "outputs": [
        {
          "output_type": "execute_result",
          "data": {
            "text/plain": [
              "a*d - b*c"
            ],
            "text/latex": "$\\displaystyle a d - b c$"
          },
          "metadata": {},
          "execution_count": 10
        }
      ]
    },
    {
      "cell_type": "code",
      "source": [
        "sym.det(A)"
      ],
      "metadata": {
        "colab": {
          "base_uri": "https://localhost:8080/",
          "height": 39
        },
        "id": "VroIMn8OSxF-",
        "outputId": "e5dc58a6-912e-470e-a8ca-144525a6f7c2"
      },
      "execution_count": 11,
      "outputs": [
        {
          "output_type": "execute_result",
          "data": {
            "text/plain": [
              "a*d - b*c"
            ],
            "text/latex": "$\\displaystyle a d - b c$"
          },
          "metadata": {},
          "execution_count": 11
        }
      ]
    },
    {
      "cell_type": "markdown",
      "source": [
        "#### Example\n",
        "\n",
        "$$\n",
        "\\begin{align}\n",
        "\\det{\\begin{pmatrix}1 & -1\\\\2 & 0\\end{pmatrix}} &= (1)(0) - (-1)(2) \\\\ &= 0 + 2\n",
        "\\\\ &= 2\n",
        "\\end{align}\n",
        "$$"
      ],
      "metadata": {
        "id": "FKiXwtmAWVyR"
      }
    },
    {
      "cell_type": "code",
      "source": [
        "M = sym.Matrix([[1, -1], [2, 0]])\n",
        "M"
      ],
      "metadata": {
        "colab": {
          "base_uri": "https://localhost:8080/",
          "height": 58
        },
        "id": "QR_KxzI7W9z_",
        "outputId": "24afb7e5-2804-444d-db85-ecb0ceb9184d"
      },
      "execution_count": 12,
      "outputs": [
        {
          "output_type": "execute_result",
          "data": {
            "text/plain": [
              "Matrix([\n",
              "[1, -1],\n",
              "[2,  0]])"
            ],
            "text/latex": "$\\displaystyle \\left[\\begin{matrix}1 & -1\\\\2 & 0\\end{matrix}\\right]$"
          },
          "metadata": {},
          "execution_count": 12
        }
      ]
    },
    {
      "cell_type": "code",
      "source": [
        "M.det()"
      ],
      "metadata": {
        "colab": {
          "base_uri": "https://localhost:8080/",
          "height": 37
        },
        "id": "hHBK9-edXG17",
        "outputId": "d63a0df4-28c5-4623-c29f-1c681d20ced8"
      },
      "execution_count": 13,
      "outputs": [
        {
          "output_type": "execute_result",
          "data": {
            "text/plain": [
              "2"
            ],
            "text/latex": "$\\displaystyle 2$"
          },
          "metadata": {},
          "execution_count": 13
        }
      ]
    },
    {
      "cell_type": "markdown",
      "source": [
        "#### Example\n",
        "\n",
        "$$\n",
        "\\begin{align}\n",
        "\\det{\\begin{pmatrix}1 & 2\\\\-\\frac{1}{2} & 3\\end{pmatrix}} &= (1)(3) - (2)(-\\frac{1}{2})\n",
        "\\\\ &= 3 + 1\n",
        "\\\\ &= 4\n",
        "\\end{align}\n",
        "$$"
      ],
      "metadata": {
        "id": "PoSK5iX_XI0W"
      }
    },
    {
      "cell_type": "code",
      "source": [
        "M = sym.Matrix([[1, 2],[-sym.Rational(1, 2), 3]])\n",
        "M"
      ],
      "metadata": {
        "colab": {
          "base_uri": "https://localhost:8080/",
          "height": 58
        },
        "id": "chKvGyWVXyMd",
        "outputId": "30962b95-508a-4805-e0ee-0185ea51421c"
      },
      "execution_count": 14,
      "outputs": [
        {
          "output_type": "execute_result",
          "data": {
            "text/plain": [
              "Matrix([\n",
              "[   1, 2],\n",
              "[-1/2, 3]])"
            ],
            "text/latex": "$\\displaystyle \\left[\\begin{matrix}1 & 2\\\\- \\frac{1}{2} & 3\\end{matrix}\\right]$"
          },
          "metadata": {},
          "execution_count": 14
        }
      ]
    },
    {
      "cell_type": "code",
      "source": [
        "M.det()"
      ],
      "metadata": {
        "colab": {
          "base_uri": "https://localhost:8080/",
          "height": 37
        },
        "id": "1pruT2mDX7tq",
        "outputId": "1e577e09-2f02-4caa-9b38-f86afa75ed81"
      },
      "execution_count": 15,
      "outputs": [
        {
          "output_type": "execute_result",
          "data": {
            "text/plain": [
              "4"
            ],
            "text/latex": "$\\displaystyle 4$"
          },
          "metadata": {},
          "execution_count": 15
        }
      ]
    },
    {
      "cell_type": "markdown",
      "source": [
        "### Determinant for $3 \\times 3$ matrices"
      ],
      "metadata": {
        "id": "3e1mO4VcYvMF"
      }
    },
    {
      "cell_type": "markdown",
      "source": [
        "$$\n",
        "\\begin{align}\n",
        "\\det{\n",
        "\\left[\\begin{matrix}a_{11} & a_{12} & a_{13}\\\\a_{21} & a_{22} & a_{23}\\\\a_{31} & a_{32} & a_{33}\\end{matrix}\\right]\n",
        "}\n",
        "&= a_{11} \\cdot \\det{\\left[\\begin{matrix}a_{22} & a_{23}\\\\a_{32} & a_{33}\\end{matrix}\\right]}\n",
        "- a_{12} \\cdot det{\\left[\\begin{matrix}a_{21} & a_{23}\\\\a_{31} & a_{33}\\end{matrix}\\right]}\n",
        "+ a_{13} \\cdot det{\\left[\\begin{matrix}a_{21} & a_{22}\\\\a_{31} & a_{32}\\end{matrix}\\right]}\n",
        "\\\\ &= a_{11} \\cdot (a_{22} a_{33} - a_{23} a_{32}) - a_{12} \\cdot (a_{21} a_{33} - a_{23} a_{31}) + a_{13} \\cdot (a_{21} a_{32} - a_{22} a_{31})\n",
        "\\\\ &= a_{11}a_{22}a_{33} - a_{11}a_{23}a_{32} - a_{12}a_{21}a_{33} + a_{12}a_{23}a_{31} + a_{13}a_{21}a_{32} - a_{13}a_{22}a_{31}\n",
        "\\\\ &= a_{11}a_{22}a_{33} + a_{12}a_{23}a_{31} + a_{13}a_{21}a_{32} - (a_{11}a_{23}a_{32} + a_{12}a_{21}a_{33} + a_{13}a_{22}a_{31})\n",
        "\\end{align}\n",
        "$$"
      ],
      "metadata": {
        "id": "6RCKY6Dwa423"
      }
    },
    {
      "cell_type": "markdown",
      "source": [
        "The determinant can also be calculated using diagonals:\n",
        "\n",
        "https://demonstrations.wolfram.com/33DeterminantsUsingDiagonals/"
      ],
      "metadata": {
        "id": "-hM6Z8ruiCzv"
      }
    },
    {
      "cell_type": "code",
      "source": [
        "a_11, a_12, a_13, a_21, a_22, a_23, a_31, a_32, a_33 \\\n",
        "= sym.symbols('a_11 a_12 a_13 a_21 a_22 a_23 a_31 a_32 a_33')"
      ],
      "metadata": {
        "id": "64QbgnnHY-ET"
      },
      "execution_count": 16,
      "outputs": []
    },
    {
      "cell_type": "code",
      "source": [
        "M = sym.Matrix([[a_11, a_12, a_13],\n",
        "                [a_21, a_22, a_23],\n",
        "                [a_31, a_32, a_33]])\n",
        "M"
      ],
      "metadata": {
        "colab": {
          "base_uri": "https://localhost:8080/",
          "height": 78
        },
        "id": "WLlGnt3KZa4a",
        "outputId": "805cb2ed-df37-4c2f-ccb9-dd6f6edd7d91"
      },
      "execution_count": 17,
      "outputs": [
        {
          "output_type": "execute_result",
          "data": {
            "text/plain": [
              "Matrix([\n",
              "[a_11, a_12, a_13],\n",
              "[a_21, a_22, a_23],\n",
              "[a_31, a_32, a_33]])"
            ],
            "text/latex": "$\\displaystyle \\left[\\begin{matrix}a_{11} & a_{12} & a_{13}\\\\a_{21} & a_{22} & a_{23}\\\\a_{31} & a_{32} & a_{33}\\end{matrix}\\right]$"
          },
          "metadata": {},
          "execution_count": 17
        }
      ]
    },
    {
      "cell_type": "code",
      "source": [
        "M.det()"
      ],
      "metadata": {
        "colab": {
          "base_uri": "https://localhost:8080/",
          "height": 39
        },
        "id": "A3X7PpxiZoFD",
        "outputId": "92d2cf5f-9455-46fc-a62d-a6072b74a025"
      },
      "execution_count": 18,
      "outputs": [
        {
          "output_type": "execute_result",
          "data": {
            "text/plain": [
              "a_11*a_22*a_33 - a_11*a_23*a_32 - a_12*a_21*a_33 + a_12*a_23*a_31 + a_13*a_21*a_32 - a_13*a_22*a_31"
            ],
            "text/latex": "$\\displaystyle a_{11} a_{22} a_{33} - a_{11} a_{23} a_{32} - a_{12} a_{21} a_{33} + a_{12} a_{23} a_{31} + a_{13} a_{21} a_{32} - a_{13} a_{22} a_{31}$"
          },
          "metadata": {},
          "execution_count": 18
        }
      ]
    },
    {
      "cell_type": "markdown",
      "source": [
        "#### Example"
      ],
      "metadata": {
        "id": "3msb45Cqio42"
      }
    },
    {
      "cell_type": "code",
      "source": [
        "M = sym.Matrix([[0, 1, -1],\n",
        "                [0, 2, 1],\n",
        "                [2, 0, -1]])\n",
        "M"
      ],
      "metadata": {
        "colab": {
          "base_uri": "https://localhost:8080/",
          "height": 78
        },
        "id": "hUHSdlQQiwyX",
        "outputId": "f603d2df-49d5-4139-9c23-f703566d417c"
      },
      "execution_count": 19,
      "outputs": [
        {
          "output_type": "execute_result",
          "data": {
            "text/plain": [
              "Matrix([\n",
              "[0, 1, -1],\n",
              "[0, 2,  1],\n",
              "[2, 0, -1]])"
            ],
            "text/latex": "$\\displaystyle \\left[\\begin{matrix}0 & 1 & -1\\\\0 & 2 & 1\\\\2 & 0 & -1\\end{matrix}\\right]$"
          },
          "metadata": {},
          "execution_count": 19
        }
      ]
    },
    {
      "cell_type": "code",
      "source": [
        "# using diagnoals\n",
        "(0 * 2 * -1) + (1 * 1 * 2) + (-1 * 0 * 0) - ((-1 * 2 * 2) + (1 * 0 * -1) + (-1 * 1 * 0))"
      ],
      "metadata": {
        "colab": {
          "base_uri": "https://localhost:8080/"
        },
        "id": "MhJYh8boi6GY",
        "outputId": "035f2988-5c52-403e-a3d3-8ec8f18f9915"
      },
      "execution_count": 20,
      "outputs": [
        {
          "output_type": "execute_result",
          "data": {
            "text/plain": [
              "6"
            ]
          },
          "metadata": {},
          "execution_count": 20
        }
      ]
    },
    {
      "cell_type": "code",
      "source": [
        "# using inner determinants\n",
        "0 - 1 * ((0 * -1) - (1 * 2)) - 1 * (-4)"
      ],
      "metadata": {
        "colab": {
          "base_uri": "https://localhost:8080/"
        },
        "id": "j9cO_-b3jT1v",
        "outputId": "01f4d194-d29c-482b-8b2c-f3d94b3d1bd9"
      },
      "execution_count": 21,
      "outputs": [
        {
          "output_type": "execute_result",
          "data": {
            "text/plain": [
              "6"
            ]
          },
          "metadata": {},
          "execution_count": 21
        }
      ]
    },
    {
      "cell_type": "code",
      "source": [
        "M.det()"
      ],
      "metadata": {
        "colab": {
          "base_uri": "https://localhost:8080/",
          "height": 37
        },
        "id": "gdy_MQdwjOUH",
        "outputId": "781097d5-b92e-425f-ef7e-074b9ab27853"
      },
      "execution_count": 22,
      "outputs": [
        {
          "output_type": "execute_result",
          "data": {
            "text/plain": [
              "6"
            ],
            "text/latex": "$\\displaystyle 6$"
          },
          "metadata": {},
          "execution_count": 22
        }
      ]
    },
    {
      "cell_type": "markdown",
      "source": [
        "#### Example"
      ],
      "metadata": {
        "id": "ngo8HzI1j4FQ"
      }
    },
    {
      "cell_type": "code",
      "source": [
        "M = sym.Matrix([[2, 5, -1],\n",
        "                [2, sym.Rational(1, 2), 1],\n",
        "                [2, 0, -1]])\n",
        "M"
      ],
      "metadata": {
        "colab": {
          "base_uri": "https://localhost:8080/",
          "height": 78
        },
        "id": "lxANiuZwj1nC",
        "outputId": "5fbcad15-b12a-47bd-a0b0-0ea983790b2e"
      },
      "execution_count": 23,
      "outputs": [
        {
          "output_type": "execute_result",
          "data": {
            "text/plain": [
              "Matrix([\n",
              "[2,   5, -1],\n",
              "[2, 1/2,  1],\n",
              "[2,   0, -1]])"
            ],
            "text/latex": "$\\displaystyle \\left[\\begin{matrix}2 & 5 & -1\\\\2 & \\frac{1}{2} & 1\\\\2 & 0 & -1\\end{matrix}\\right]$"
          },
          "metadata": {},
          "execution_count": 23
        }
      ]
    },
    {
      "cell_type": "code",
      "source": [
        "# using diagonals\n",
        "(2 * (1/2) * -1) + (5 * 1 * 2) + (-1 * 2 * 0) - (-1 * (1/2) * 2) - (5 * 2 * -1) - (2 * 1 * 0)"
      ],
      "metadata": {
        "colab": {
          "base_uri": "https://localhost:8080/"
        },
        "id": "0SJYjuk8kGmr",
        "outputId": "0d57a72c-8448-422b-c7b9-74a919c683c3"
      },
      "execution_count": 24,
      "outputs": [
        {
          "output_type": "execute_result",
          "data": {
            "text/plain": [
              "20.0"
            ]
          },
          "metadata": {},
          "execution_count": 24
        }
      ]
    },
    {
      "cell_type": "code",
      "source": [
        "M.det()"
      ],
      "metadata": {
        "colab": {
          "base_uri": "https://localhost:8080/",
          "height": 37
        },
        "id": "5wPNyLYQkZJ1",
        "outputId": "ff152be0-e5f8-4c28-9658-2f6fbf8a60c5"
      },
      "execution_count": 25,
      "outputs": [
        {
          "output_type": "execute_result",
          "data": {
            "text/plain": [
              "20"
            ],
            "text/latex": "$\\displaystyle 20$"
          },
          "metadata": {},
          "execution_count": 25
        }
      ]
    },
    {
      "cell_type": "markdown",
      "source": [
        "### Determinant Rules\n",
        "\n",
        "Let $A$ and $B$ by two $n \\times n$ matrices. And let $\\alpha$ be any scalar. Then\n",
        "\n",
        "1. $\\det{(AB)} = \\det{(A)} \\cdot \\det{(B)}$\n",
        "2. $\\det{(\\alpha \\cdot A)} = \\alpha^{n} \\det{(A)}$"
      ],
      "metadata": {
        "id": "JWJXMGj5k5j1"
      }
    },
    {
      "cell_type": "markdown",
      "source": [
        "#### Example"
      ],
      "metadata": {
        "id": "MTXlfKuFmT4-"
      }
    },
    {
      "cell_type": "code",
      "source": [
        "A = sym.Matrix([[1, -1],\n",
        "                [2, 3]])\n",
        "A"
      ],
      "metadata": {
        "colab": {
          "base_uri": "https://localhost:8080/",
          "height": 58
        },
        "id": "JbgAvISwmeUO",
        "outputId": "e9498fa8-59c5-42ac-bed9-63fb88dd4942"
      },
      "execution_count": 26,
      "outputs": [
        {
          "output_type": "execute_result",
          "data": {
            "text/plain": [
              "Matrix([\n",
              "[1, -1],\n",
              "[2,  3]])"
            ],
            "text/latex": "$\\displaystyle \\left[\\begin{matrix}1 & -1\\\\2 & 3\\end{matrix}\\right]$"
          },
          "metadata": {},
          "execution_count": 26
        }
      ]
    },
    {
      "cell_type": "code",
      "source": [
        "B = sym.Matrix([[0, 1],\n",
        "                [2, -1]])\n",
        "B"
      ],
      "metadata": {
        "colab": {
          "base_uri": "https://localhost:8080/",
          "height": 58
        },
        "id": "FPwZzTqTmj9U",
        "outputId": "04455bdd-0354-45ce-d27d-747bb831ecd3"
      },
      "execution_count": 27,
      "outputs": [
        {
          "output_type": "execute_result",
          "data": {
            "text/plain": [
              "Matrix([\n",
              "[0,  1],\n",
              "[2, -1]])"
            ],
            "text/latex": "$\\displaystyle \\left[\\begin{matrix}0 & 1\\\\2 & -1\\end{matrix}\\right]$"
          },
          "metadata": {},
          "execution_count": 27
        }
      ]
    },
    {
      "cell_type": "code",
      "source": [
        "AB = A @ B\n",
        "AB"
      ],
      "metadata": {
        "colab": {
          "base_uri": "https://localhost:8080/",
          "height": 58
        },
        "id": "UrzKr-fGmqtE",
        "outputId": "ef939c56-366a-4162-8f67-fdf2ac4feb43"
      },
      "execution_count": 28,
      "outputs": [
        {
          "output_type": "execute_result",
          "data": {
            "text/plain": [
              "Matrix([\n",
              "[-2,  2],\n",
              "[ 6, -1]])"
            ],
            "text/latex": "$\\displaystyle \\left[\\begin{matrix}-2 & 2\\\\6 & -1\\end{matrix}\\right]$"
          },
          "metadata": {},
          "execution_count": 28
        }
      ]
    },
    {
      "cell_type": "code",
      "source": [
        "AB.det(), A.det() * B.det()"
      ],
      "metadata": {
        "colab": {
          "base_uri": "https://localhost:8080/"
        },
        "id": "g396f-s9ms32",
        "outputId": "dbe7ff4a-2fb1-4faa-c6cb-145fd7bbd75b"
      },
      "execution_count": 29,
      "outputs": [
        {
          "output_type": "execute_result",
          "data": {
            "text/plain": [
              "(-10, -10)"
            ]
          },
          "metadata": {},
          "execution_count": 29
        }
      ]
    },
    {
      "cell_type": "markdown",
      "source": [
        "### WolframAlpha"
      ],
      "metadata": {
        "id": "VZtlOhNhnnoA"
      }
    },
    {
      "cell_type": "code",
      "source": [
        "M = sym.Matrix([[2, 5, -1],\n",
        "                [2, sym.Rational(1, 2), 1],\n",
        "                [2, 0, -1]])\n",
        "M"
      ],
      "metadata": {
        "colab": {
          "base_uri": "https://localhost:8080/",
          "height": 78
        },
        "id": "wLh5cX2qm6Lu",
        "outputId": "a5989a55-030e-4948-e09d-4f9847ef3623"
      },
      "execution_count": 30,
      "outputs": [
        {
          "output_type": "execute_result",
          "data": {
            "text/plain": [
              "Matrix([\n",
              "[2,   5, -1],\n",
              "[2, 1/2,  1],\n",
              "[2,   0, -1]])"
            ],
            "text/latex": "$\\displaystyle \\left[\\begin{matrix}2 & 5 & -1\\\\2 & \\frac{1}{2} & 1\\\\2 & 0 & -1\\end{matrix}\\right]$"
          },
          "metadata": {},
          "execution_count": 30
        }
      ]
    },
    {
      "cell_type": "code",
      "source": [
        "M.det()"
      ],
      "metadata": {
        "colab": {
          "base_uri": "https://localhost:8080/",
          "height": 37
        },
        "id": "P4fsZWgWoRIU",
        "outputId": "41bbcfb2-0efc-4fa1-8a62-1082c3743194"
      },
      "execution_count": 31,
      "outputs": [
        {
          "output_type": "execute_result",
          "data": {
            "text/plain": [
              "20"
            ],
            "text/latex": "$\\displaystyle 20$"
          },
          "metadata": {},
          "execution_count": 31
        }
      ]
    },
    {
      "cell_type": "markdown",
      "source": [
        "https://www.wolframalpha.com/input?i=det%7B%7B2%2C+5%2C+-1%7D%2C%7B2%2C+1%2F2%2C+1%7D%2C+%7B2%2C+0%2C+-1%7D%7D"
      ],
      "metadata": {
        "id": "ejQzLa0qoTlC"
      }
    },
    {
      "cell_type": "markdown",
      "source": [
        "## 2.1.1.3 Find the Determinant of Any Matrix Using **Python**"
      ],
      "metadata": {
        "id": "Qa11fyAAo2WR"
      }
    },
    {
      "cell_type": "markdown",
      "source": [
        "## Using `sympy`"
      ],
      "metadata": {
        "id": "3P0tUPvHxeLV"
      }
    },
    {
      "cell_type": "code",
      "source": [
        "L = sym.Matrix([[3, 1, 2],\n",
        "                [2, -2, 5],\n",
        "                [2, 3, 1]])\n",
        "L"
      ],
      "metadata": {
        "colab": {
          "base_uri": "https://localhost:8080/",
          "height": 78
        },
        "id": "si9mX3ymr0jZ",
        "outputId": "d38037e9-903a-49ee-b391-8c9533cd664e"
      },
      "execution_count": 32,
      "outputs": [
        {
          "output_type": "execute_result",
          "data": {
            "text/plain": [
              "Matrix([\n",
              "[3,  1, 2],\n",
              "[2, -2, 5],\n",
              "[2,  3, 1]])"
            ],
            "text/latex": "$\\displaystyle \\left[\\begin{matrix}3 & 1 & 2\\\\2 & -2 & 5\\\\2 & 3 & 1\\end{matrix}\\right]$"
          },
          "metadata": {},
          "execution_count": 32
        }
      ]
    },
    {
      "cell_type": "code",
      "source": [
        "L.det()"
      ],
      "metadata": {
        "colab": {
          "base_uri": "https://localhost:8080/",
          "height": 37
        },
        "id": "5gysoCuqsCCu",
        "outputId": "324c1e0a-28c7-4e54-a31c-11424af34138"
      },
      "execution_count": 33,
      "outputs": [
        {
          "output_type": "execute_result",
          "data": {
            "text/plain": [
              "-23"
            ],
            "text/latex": "$\\displaystyle -23$"
          },
          "metadata": {},
          "execution_count": 33
        }
      ]
    },
    {
      "cell_type": "code",
      "source": [
        "M = sym.Matrix([[3, 1, 2],\n",
        "                [6, 2, 4], # note that row 2 is a multiple of row 1\n",
        "                [2, 3, 1]])\n",
        "M"
      ],
      "metadata": {
        "colab": {
          "base_uri": "https://localhost:8080/",
          "height": 78
        },
        "id": "D4pdNRj0shjc",
        "outputId": "28cf690f-0096-4d9a-9755-8d67d3071bd9"
      },
      "execution_count": 34,
      "outputs": [
        {
          "output_type": "execute_result",
          "data": {
            "text/plain": [
              "Matrix([\n",
              "[3, 1, 2],\n",
              "[6, 2, 4],\n",
              "[2, 3, 1]])"
            ],
            "text/latex": "$\\displaystyle \\left[\\begin{matrix}3 & 1 & 2\\\\6 & 2 & 4\\\\2 & 3 & 1\\end{matrix}\\right]$"
          },
          "metadata": {},
          "execution_count": 34
        }
      ]
    },
    {
      "cell_type": "code",
      "source": [
        "M.det()"
      ],
      "metadata": {
        "colab": {
          "base_uri": "https://localhost:8080/",
          "height": 37
        },
        "id": "gSev7pPGs0nA",
        "outputId": "03fe5914-996e-4a89-c5a3-baf3aeec266a"
      },
      "execution_count": 35,
      "outputs": [
        {
          "output_type": "execute_result",
          "data": {
            "text/plain": [
              "0"
            ],
            "text/latex": "$\\displaystyle 0$"
          },
          "metadata": {},
          "execution_count": 35
        }
      ]
    },
    {
      "cell_type": "code",
      "source": [
        "N = sym.Matrix([[4, 1, 2],\n",
        "                [10, -2, 5],\n",
        "                [2, 3, 1]])\n",
        "N # the first row is a muliple of the 2nd row"
      ],
      "metadata": {
        "colab": {
          "base_uri": "https://localhost:8080/",
          "height": 78
        },
        "id": "qYddV544tCi3",
        "outputId": "ba245f82-8d1d-41a6-d53b-7bc8af74560c"
      },
      "execution_count": 36,
      "outputs": [
        {
          "output_type": "execute_result",
          "data": {
            "text/plain": [
              "Matrix([\n",
              "[ 4,  1, 2],\n",
              "[10, -2, 5],\n",
              "[ 2,  3, 1]])"
            ],
            "text/latex": "$\\displaystyle \\left[\\begin{matrix}4 & 1 & 2\\\\10 & -2 & 5\\\\2 & 3 & 1\\end{matrix}\\right]$"
          },
          "metadata": {},
          "execution_count": 36
        }
      ]
    },
    {
      "cell_type": "code",
      "source": [
        "N.det()"
      ],
      "metadata": {
        "colab": {
          "base_uri": "https://localhost:8080/",
          "height": 37
        },
        "id": "aoSg71QbthyJ",
        "outputId": "d8795de1-2ac2-4aca-a131-4a7174fde80a"
      },
      "execution_count": 37,
      "outputs": [
        {
          "output_type": "execute_result",
          "data": {
            "text/plain": [
              "0"
            ],
            "text/latex": "$\\displaystyle 0$"
          },
          "metadata": {},
          "execution_count": 37
        }
      ]
    },
    {
      "cell_type": "code",
      "source": [
        "a, b, c, d, e, f, g, h, i = sym.symbols('a b c d e f g h i')\n",
        "A = sym.Matrix([[a, b, c],\n",
        "                [d, e, f],\n",
        "                [g, h, i]])\n",
        "A"
      ],
      "metadata": {
        "colab": {
          "base_uri": "https://localhost:8080/",
          "height": 78
        },
        "id": "KvCwuuLXtj8H",
        "outputId": "f8ef5a80-3fd1-4ad4-a45d-74ff306e7184"
      },
      "execution_count": 38,
      "outputs": [
        {
          "output_type": "execute_result",
          "data": {
            "text/plain": [
              "Matrix([\n",
              "[a, b, c],\n",
              "[d, e, f],\n",
              "[g, h, i]])"
            ],
            "text/latex": "$\\displaystyle \\left[\\begin{matrix}a & b & c\\\\d & e & f\\\\g & h & i\\end{matrix}\\right]$"
          },
          "metadata": {},
          "execution_count": 38
        }
      ]
    },
    {
      "cell_type": "code",
      "source": [
        "A.det()"
      ],
      "metadata": {
        "colab": {
          "base_uri": "https://localhost:8080/",
          "height": 39
        },
        "id": "EmYnJCoItzsM",
        "outputId": "41a1801e-5b9a-4e11-c203-8ccc2f2f518e"
      },
      "execution_count": 39,
      "outputs": [
        {
          "output_type": "execute_result",
          "data": {
            "text/plain": [
              "a*e*i - a*f*h - b*d*i + b*f*g + c*d*h - c*e*g"
            ],
            "text/latex": "$\\displaystyle a e i - a f h - b d i + b f g + c d h - c e g$"
          },
          "metadata": {},
          "execution_count": 39
        }
      ]
    },
    {
      "cell_type": "code",
      "source": [
        "A2 = A.copy()\n",
        "A2[1,:] = 2 * A.row(0)\n",
        "A2"
      ],
      "metadata": {
        "colab": {
          "base_uri": "https://localhost:8080/",
          "height": 78
        },
        "id": "0GmZQtMgt1T5",
        "outputId": "3d8f5bbd-34d5-4743-c79a-85266265e375"
      },
      "execution_count": 40,
      "outputs": [
        {
          "output_type": "execute_result",
          "data": {
            "text/plain": [
              "Matrix([\n",
              "[  a,   b,   c],\n",
              "[2*a, 2*b, 2*c],\n",
              "[  g,   h,   i]])"
            ],
            "text/latex": "$\\displaystyle \\left[\\begin{matrix}a & b & c\\\\2 a & 2 b & 2 c\\\\g & h & i\\end{matrix}\\right]$"
          },
          "metadata": {},
          "execution_count": 40
        }
      ]
    },
    {
      "cell_type": "code",
      "source": [
        "A2.det()"
      ],
      "metadata": {
        "colab": {
          "base_uri": "https://localhost:8080/",
          "height": 37
        },
        "id": "cng28pPsujnz",
        "outputId": "81637e2d-401d-4c90-de4b-842ac018cf0f"
      },
      "execution_count": 41,
      "outputs": [
        {
          "output_type": "execute_result",
          "data": {
            "text/plain": [
              "0"
            ],
            "text/latex": "$\\displaystyle 0$"
          },
          "metadata": {},
          "execution_count": 41
        }
      ]
    },
    {
      "cell_type": "code",
      "source": [
        "A3 = A.copy()\n",
        "A3[:,2] = 7 * A.col(0)\n",
        "A3"
      ],
      "metadata": {
        "colab": {
          "base_uri": "https://localhost:8080/",
          "height": 78
        },
        "id": "PDQ23770vNsM",
        "outputId": "62c6019e-0f8b-483a-adb1-7a858b4ed42e"
      },
      "execution_count": 42,
      "outputs": [
        {
          "output_type": "execute_result",
          "data": {
            "text/plain": [
              "Matrix([\n",
              "[a, b, 7*a],\n",
              "[d, e, 7*d],\n",
              "[g, h, 7*g]])"
            ],
            "text/latex": "$\\displaystyle \\left[\\begin{matrix}a & b & 7 a\\\\d & e & 7 d\\\\g & h & 7 g\\end{matrix}\\right]$"
          },
          "metadata": {},
          "execution_count": 42
        }
      ]
    },
    {
      "cell_type": "code",
      "source": [
        "A3.det()"
      ],
      "metadata": {
        "colab": {
          "base_uri": "https://localhost:8080/",
          "height": 37
        },
        "id": "cf9udYmdvaDp",
        "outputId": "af2fa320-7773-4ce1-af4a-724a12a1434a"
      },
      "execution_count": 43,
      "outputs": [
        {
          "output_type": "execute_result",
          "data": {
            "text/plain": [
              "0"
            ],
            "text/latex": "$\\displaystyle 0$"
          },
          "metadata": {},
          "execution_count": 43
        }
      ]
    },
    {
      "cell_type": "markdown",
      "source": [
        "If the determinant of a matrix is zero, then the linear system of equations it represents has no solution. In other words, the system of equations contains at least two equations that are not linearly independent."
      ],
      "metadata": {
        "id": "EOVt5-3Jv6YW"
      }
    },
    {
      "cell_type": "markdown",
      "source": [
        "## Using `numpy`"
      ],
      "metadata": {
        "id": "HZ_Lc9PcxXcr"
      }
    },
    {
      "cell_type": "code",
      "source": [
        "R = np.array([[3, 1, 2],\n",
        "              [0, 0, 0],\n",
        "              [2, 3, 1]])\n",
        "R"
      ],
      "metadata": {
        "colab": {
          "base_uri": "https://localhost:8080/"
        },
        "id": "WujhWVkww0CB",
        "outputId": "8e3c7cea-5650-4230-afbd-4af3822d9273"
      },
      "execution_count": 44,
      "outputs": [
        {
          "output_type": "execute_result",
          "data": {
            "text/plain": [
              "array([[3, 1, 2],\n",
              "       [0, 0, 0],\n",
              "       [2, 3, 1]])"
            ]
          },
          "metadata": {},
          "execution_count": 44
        }
      ]
    },
    {
      "cell_type": "code",
      "source": [
        "np.linalg.det(R)"
      ],
      "metadata": {
        "colab": {
          "base_uri": "https://localhost:8080/"
        },
        "id": "BzT1Jc1hw8UA",
        "outputId": "29c7d64f-3ba3-4e74-94a1-e25216fc1db3"
      },
      "execution_count": 45,
      "outputs": [
        {
          "output_type": "execute_result",
          "data": {
            "text/plain": [
              "0.0"
            ]
          },
          "metadata": {},
          "execution_count": 45
        }
      ]
    },
    {
      "cell_type": "markdown",
      "source": [
        "## 2.1.1.4 Practice Quiz: Finding Determinants"
      ],
      "metadata": {
        "id": "morwdEUvyOPs"
      }
    },
    {
      "cell_type": "code",
      "source": [
        "sym.Matrix([[4, 2],\n",
        "            [-1, 1]]).det()"
      ],
      "metadata": {
        "colab": {
          "base_uri": "https://localhost:8080/",
          "height": 37
        },
        "id": "lokvyJSSySYo",
        "outputId": "fa05c347-6f61-46cd-9b30-ab2a290b381e"
      },
      "execution_count": 46,
      "outputs": [
        {
          "output_type": "execute_result",
          "data": {
            "text/plain": [
              "6"
            ],
            "text/latex": "$\\displaystyle 6$"
          },
          "metadata": {},
          "execution_count": 46
        }
      ]
    },
    {
      "cell_type": "code",
      "source": [
        "# Find the values(s) of 'x' such that the determinat is 0\n",
        "x = sym.symbols('x')\n",
        "M = sym.Matrix([[3, x],\n",
        "                [x, x]])\n",
        "M"
      ],
      "metadata": {
        "colab": {
          "base_uri": "https://localhost:8080/",
          "height": 58
        },
        "id": "BatT8VlrycCh",
        "outputId": "9b7dbf80-79d1-41ae-9955-35043aabc5a4"
      },
      "execution_count": 47,
      "outputs": [
        {
          "output_type": "execute_result",
          "data": {
            "text/plain": [
              "Matrix([\n",
              "[3, x],\n",
              "[x, x]])"
            ],
            "text/latex": "$\\displaystyle \\left[\\begin{matrix}3 & x\\\\x & x\\end{matrix}\\right]$"
          },
          "metadata": {},
          "execution_count": 47
        }
      ]
    },
    {
      "cell_type": "code",
      "source": [
        "M.det()"
      ],
      "metadata": {
        "colab": {
          "base_uri": "https://localhost:8080/",
          "height": 39
        },
        "id": "wwIS33c6ytBN",
        "outputId": "0cc627aa-0dcd-4403-f43f-a8b81b86985b"
      },
      "execution_count": 48,
      "outputs": [
        {
          "output_type": "execute_result",
          "data": {
            "text/plain": [
              "-x**2 + 3*x"
            ],
            "text/latex": "$\\displaystyle - x^{2} + 3 x$"
          },
          "metadata": {},
          "execution_count": 48
        }
      ]
    },
    {
      "cell_type": "code",
      "source": [
        "sym.Eq(M.det(), 0)"
      ],
      "metadata": {
        "colab": {
          "base_uri": "https://localhost:8080/",
          "height": 39
        },
        "id": "45IkJW2Wyvro",
        "outputId": "8e63c959-d3b9-478b-898f-d9e4a4675e07"
      },
      "execution_count": 49,
      "outputs": [
        {
          "output_type": "execute_result",
          "data": {
            "text/plain": [
              "Eq(-x**2 + 3*x, 0)"
            ],
            "text/latex": "$\\displaystyle - x^{2} + 3 x = 0$"
          },
          "metadata": {},
          "execution_count": 49
        }
      ]
    },
    {
      "cell_type": "code",
      "source": [
        "sym.solve(M.det())"
      ],
      "metadata": {
        "colab": {
          "base_uri": "https://localhost:8080/"
        },
        "id": "LsOuk5I9zG6f",
        "outputId": "3c95536d-db3c-47eb-b19f-b465e4de5c55"
      },
      "execution_count": 50,
      "outputs": [
        {
          "output_type": "execute_result",
          "data": {
            "text/plain": [
              "[0, 3]"
            ]
          },
          "metadata": {},
          "execution_count": 50
        }
      ]
    },
    {
      "cell_type": "code",
      "source": [
        "sym.solve(sym.Eq(M.det(), 0))"
      ],
      "metadata": {
        "colab": {
          "base_uri": "https://localhost:8080/"
        },
        "id": "XPEH6mWlzKiw",
        "outputId": "d8f923c2-a26d-4990-b629-b67e441a013e"
      },
      "execution_count": 51,
      "outputs": [
        {
          "output_type": "execute_result",
          "data": {
            "text/plain": [
              "[0, 3]"
            ]
          },
          "metadata": {},
          "execution_count": 51
        }
      ]
    }
  ]
}