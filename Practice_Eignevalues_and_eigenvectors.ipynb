{
  "nbformat": 4,
  "nbformat_minor": 0,
  "metadata": {
    "colab": {
      "provenance": [],
      "toc_visible": true,
      "authorship_tag": "ABX9TyOolYVaPJhLB6+WyjGyOog6",
      "include_colab_link": true
    },
    "kernelspec": {
      "name": "python3",
      "display_name": "Python 3"
    },
    "language_info": {
      "name": "python"
    }
  },
  "cells": [
    {
      "cell_type": "markdown",
      "metadata": {
        "id": "view-in-github",
        "colab_type": "text"
      },
      "source": [
        "<a href=\"https://colab.research.google.com/github/PaulToronto/Howard-University-Coursera-Linear-Algebra-For-Data-Science-Specialization/blob/main/Practice_Eignevalues_and_eigenvectors.ipynb\" target=\"_parent\"><img src=\"https://colab.research.google.com/assets/colab-badge.svg\" alt=\"Open In Colab\"/></a>"
      ]
    },
    {
      "cell_type": "markdown",
      "source": [
        "# Practice - Eignevalues and eigenvectors"
      ],
      "metadata": {
        "id": "PC_xEpXR5Pp8"
      }
    },
    {
      "cell_type": "markdown",
      "source": [
        "## Imports"
      ],
      "metadata": {
        "id": "jI1ALLZzCtPM"
      }
    },
    {
      "cell_type": "code",
      "source": [
        "import sympy as sym"
      ],
      "metadata": {
        "id": "nr0iBEoyCufO"
      },
      "execution_count": 1,
      "outputs": []
    },
    {
      "cell_type": "markdown",
      "source": [
        "## Eigenvalues\n",
        "\n",
        "Find all the eigenvalues of the matrix $M$:\n",
        "\n",
        "$$\n",
        "M = \\begin{pmatrix}1 & 2 & 3\\\\3 & 2 & 1\\\\2 & 1 & 3\\end{pmatrix}\n",
        "$$"
      ],
      "metadata": {
        "id": "E4IVbWkg728p"
      }
    },
    {
      "cell_type": "markdown",
      "source": [
        "Find $\\lambda \\in \\mathbb{C}$ such that $M\\vec{v} = \\lambda\\vec{v}$ for some nonzero vector $\\vec{v}$."
      ],
      "metadata": {
        "id": "mFRZa44d8ssc"
      }
    },
    {
      "cell_type": "markdown",
      "source": [
        "$$\n",
        "\\begin{align}\n",
        "M\\vec{v} &= \\lambda\\vec{v} \\\\\n",
        "(M - I\\lambda)\\vec{v} &= \\vec{0}\n",
        "\\end{align}\n",
        "$$"
      ],
      "metadata": {
        "id": "_cnqS3EH9FJj"
      }
    },
    {
      "cell_type": "markdown",
      "source": [
        "Find all $\\lambda$ such that $\\left|M - I\\vec{v}\\right| = 0$."
      ],
      "metadata": {
        "id": "OI9shzfS__nI"
      }
    },
    {
      "cell_type": "markdown",
      "source": [
        "$$\n",
        "\\begin{align}\n",
        "\\det{\\begin{pmatrix}\n",
        "1 - \\lambda & 2 & 3\\\\\n",
        "3 & 2 - \\lambda & 1\\\\\n",
        "2 & 1 & 3 - \\lambda\n",
        "\\end{pmatrix}} &= 0 \\\\\n",
        "-\\lambda^{3} + 6\\lambda^{2} + 2\\lambda^{2} - 12 &= 0\n",
        "\\end{align}\n",
        "$$"
      ],
      "metadata": {
        "id": "ajk1SaAkA8v7"
      }
    },
    {
      "cell_type": "code",
      "source": [
        "# verify result with sympy\n",
        "l = sym.symbols('\\lambda')\n",
        "\n",
        "M = sym.Matrix([[1, 2, 3],\n",
        "                [3, 2, 1],\n",
        "                [2, 1, 3]])\n",
        "\n",
        "(M - sym.eye(3) * l).det()"
      ],
      "metadata": {
        "colab": {
          "base_uri": "https://localhost:8080/",
          "height": 38
        },
        "id": "BJgDpDp2CnYd",
        "outputId": "f47f4694-d5da-4019-e5ef-8a7b7245e707"
      },
      "execution_count": 2,
      "outputs": [
        {
          "output_type": "execute_result",
          "data": {
            "text/plain": [
              "-\\lambda**3 + 6*\\lambda**2 + 2*\\lambda - 12"
            ],
            "text/latex": "$\\displaystyle - \\lambda^{3} + 6 \\lambda^{2} + 2 \\lambda - 12$"
          },
          "metadata": {},
          "execution_count": 2
        }
      ]
    },
    {
      "cell_type": "markdown",
      "source": [
        "Solve for $\\lambda$."
      ],
      "metadata": {
        "id": "zzCVnCBrHh4s"
      }
    },
    {
      "cell_type": "code",
      "source": [
        "solutions = sym.solve((M - sym.eye(3) * l).det())\n",
        "solutions"
      ],
      "metadata": {
        "colab": {
          "base_uri": "https://localhost:8080/"
        },
        "id": "As2gTuB0HeRS",
        "outputId": "ce0d35b9-9f29-41fe-cd28-66039eff43bc"
      },
      "execution_count": 3,
      "outputs": [
        {
          "output_type": "execute_result",
          "data": {
            "text/plain": [
              "[6, -sqrt(2), sqrt(2)]"
            ]
          },
          "metadata": {},
          "execution_count": 3
        }
      ]
    },
    {
      "cell_type": "code",
      "source": [
        "for i in range(len(solutions)):\n",
        "    display(solutions[i])"
      ],
      "metadata": {
        "colab": {
          "base_uri": "https://localhost:8080/",
          "height": 80
        },
        "id": "_x_f78-iIuuo",
        "outputId": "f8361599-3bb4-4e8a-b2a2-d9f21bce7e1e"
      },
      "execution_count": 4,
      "outputs": [
        {
          "output_type": "display_data",
          "data": {
            "text/plain": [
              "6"
            ],
            "text/latex": "$\\displaystyle 6$"
          },
          "metadata": {}
        },
        {
          "output_type": "display_data",
          "data": {
            "text/plain": [
              "-sqrt(2)"
            ],
            "text/latex": "$\\displaystyle - \\sqrt{2}$"
          },
          "metadata": {}
        },
        {
          "output_type": "display_data",
          "data": {
            "text/plain": [
              "sqrt(2)"
            ],
            "text/latex": "$\\displaystyle \\sqrt{2}$"
          },
          "metadata": {}
        }
      ]
    },
    {
      "cell_type": "markdown",
      "source": [
        "$\\therefore \\lambda = 6$, $-\\sqrt{2}$ or $\\sqrt{2}$."
      ],
      "metadata": {
        "id": "jl3YamjDJMXj"
      }
    },
    {
      "cell_type": "code",
      "source": [
        "# verify with sympy\n",
        "vals = M.eigenvals()\n",
        "vals"
      ],
      "metadata": {
        "colab": {
          "base_uri": "https://localhost:8080/"
        },
        "id": "4Oa_QpYZJqtU",
        "outputId": "0ef09314-df43-49fc-81de-dc29ddc794ad"
      },
      "execution_count": 5,
      "outputs": [
        {
          "output_type": "execute_result",
          "data": {
            "text/plain": [
              "{6: 1, -sqrt(2): 1, sqrt(2): 1}"
            ]
          },
          "metadata": {},
          "execution_count": 5
        }
      ]
    },
    {
      "cell_type": "code",
      "source": [
        "for eigenvalue, multiplicity in vals.items():\n",
        "    display(eigenvalue, multiplicity)"
      ],
      "metadata": {
        "colab": {
          "base_uri": "https://localhost:8080/",
          "height": 132
        },
        "id": "9SFrvF_iJ6hV",
        "outputId": "d451f6ee-ef3f-4f1e-a495-84b078b49523"
      },
      "execution_count": 6,
      "outputs": [
        {
          "output_type": "display_data",
          "data": {
            "text/plain": [
              "6"
            ],
            "text/latex": "$\\displaystyle 6$"
          },
          "metadata": {}
        },
        {
          "output_type": "display_data",
          "data": {
            "text/plain": [
              "1"
            ]
          },
          "metadata": {}
        },
        {
          "output_type": "display_data",
          "data": {
            "text/plain": [
              "-sqrt(2)"
            ],
            "text/latex": "$\\displaystyle - \\sqrt{2}$"
          },
          "metadata": {}
        },
        {
          "output_type": "display_data",
          "data": {
            "text/plain": [
              "1"
            ]
          },
          "metadata": {}
        },
        {
          "output_type": "display_data",
          "data": {
            "text/plain": [
              "sqrt(2)"
            ],
            "text/latex": "$\\displaystyle \\sqrt{2}$"
          },
          "metadata": {}
        },
        {
          "output_type": "display_data",
          "data": {
            "text/plain": [
              "1"
            ]
          },
          "metadata": {}
        }
      ]
    },
    {
      "cell_type": "markdown",
      "source": [
        "## Eigenvectors"
      ],
      "metadata": {
        "id": "YSs5ZTmALKME"
      }
    },
    {
      "cell_type": "markdown",
      "source": [
        "Find all $\\vec{v}$ such that $(M - I\\lambda)\\vec{v} = \\vec{0}$ for some eigenvalue $\\lambda$."
      ],
      "metadata": {
        "id": "rH313w5kLQgm"
      }
    },
    {
      "cell_type": "markdown",
      "source": [
        "$$\n",
        "\\begin{align}\n",
        "\\begin{pmatrix}\n",
        "1 - \\lambda & 2 & 3\\\\\n",
        "3 & 2 - \\lambda & 1\\\\\n",
        "2 & 1 & 3 - \\lambda\n",
        "\\end{pmatrix} \\cdot\n",
        "\\begin{pmatrix}\n",
        "v_1 \\\\ v_2 \\\\ v_3\n",
        "\\end{pmatrix}\n",
        "&= \\begin{pmatrix}0 \\\\ 0 \\\\ 0\\end{pmatrix}\n",
        "\\end{align}\n",
        "$$"
      ],
      "metadata": {
        "id": "PReDpSWiMOmg"
      }
    },
    {
      "cell_type": "markdown",
      "source": [
        "Solve the system of equations after substituting each of the eigevalues for \\lambda:\n",
        "\n",
        "$$\n",
        "\\begin{align}\n",
        "(1 - \\lambda)v_1 + 2v_2 + 3v_3 &= 0 \\\\\n",
        "23v_1 + (2 - \\lambda)v_2 + v_3 &= 0 \\\\\n",
        "2_v1 + v_2 + (3 - \\lambda)v_3 &= 0\n",
        "\\end{align}\n",
        "$$"
      ],
      "metadata": {
        "id": "ab_yHTR_ODqn"
      }
    },
    {
      "cell_type": "code",
      "source": [
        "# augmented matrix\n",
        "A = sym.Matrix([[1 - l, 2, 3, 0],\n",
        "                [3, 2 - l, 1, 0],\n",
        "                [2, 1, 3 - l, 0]])\n",
        "A"
      ],
      "metadata": {
        "colab": {
          "base_uri": "https://localhost:8080/",
          "height": 78
        },
        "id": "dt2y0sidR-F-",
        "outputId": "f76ae7bb-943d-41d0-c8f5-c03911da3fb3"
      },
      "execution_count": 7,
      "outputs": [
        {
          "output_type": "execute_result",
          "data": {
            "text/plain": [
              "Matrix([\n",
              "[1 - \\lambda,           2,           3, 0],\n",
              "[          3, 2 - \\lambda,           1, 0],\n",
              "[          2,           1, 3 - \\lambda, 0]])"
            ],
            "text/latex": "$\\displaystyle \\left[\\begin{matrix}1 - \\lambda & 2 & 3 & 0\\\\3 & 2 - \\lambda & 1 & 0\\\\2 & 1 & 3 - \\lambda & 0\\end{matrix}\\right]$"
          },
          "metadata": {},
          "execution_count": 7
        }
      ]
    },
    {
      "cell_type": "code",
      "source": [
        "A.subs(l, 6).rref(pivots=False)"
      ],
      "metadata": {
        "colab": {
          "base_uri": "https://localhost:8080/",
          "height": 78
        },
        "id": "_rMVLZq_SN8U",
        "outputId": "9ae3f41c-2c00-4781-f9d8-238e18291e72"
      },
      "execution_count": 8,
      "outputs": [
        {
          "output_type": "execute_result",
          "data": {
            "text/plain": [
              "Matrix([\n",
              "[1, 0, -1, 0],\n",
              "[0, 1, -1, 0],\n",
              "[0, 0,  0, 0]])"
            ],
            "text/latex": "$\\displaystyle \\left[\\begin{matrix}1 & 0 & -1 & 0\\\\0 & 1 & -1 & 0\\\\0 & 0 & 0 & 0\\end{matrix}\\right]$"
          },
          "metadata": {},
          "execution_count": 8
        }
      ]
    },
    {
      "cell_type": "markdown",
      "source": [
        "When $\\lambda = 6$\n",
        "\n",
        "$$\n",
        "\\begin{align}\n",
        "v_1 &= v_3 \\\\\n",
        "v_2 &= v_3\n",
        "\\end{align}\n",
        "$$\n",
        "\n",
        "Let, $v_3 = t$\n",
        "\n",
        "$\\therefore v = \\begin{pmatrix}t\\\\t\\\\t\\end{pmatrix}$ is an eigenvector of the matrix $M$ associated with $\\lambda = 6$."
      ],
      "metadata": {
        "id": "lYRd7RneUjVl"
      }
    },
    {
      "cell_type": "code",
      "source": [
        "# verify with sympy\n",
        "M.eigenvects()[0]"
      ],
      "metadata": {
        "colab": {
          "base_uri": "https://localhost:8080/"
        },
        "id": "qi17Gl13bMqx",
        "outputId": "840a8238-c14c-405d-c673-8455a6324efb"
      },
      "execution_count": 9,
      "outputs": [
        {
          "output_type": "execute_result",
          "data": {
            "text/plain": [
              "(6,\n",
              " 1,\n",
              " [Matrix([\n",
              "  [1],\n",
              "  [1],\n",
              "  [1]])])"
            ]
          },
          "metadata": {},
          "execution_count": 9
        }
      ]
    },
    {
      "cell_type": "code",
      "source": [
        "A1 = A.subs(l, sym.sqrt(2)).rref(pivots=False)\n",
        "A1[0, 2] = A1[0, 2].simplify().factor()\n",
        "A1[1, 2] = A1[1, 2].simplify().factor()\n",
        "A1"
      ],
      "metadata": {
        "colab": {
          "base_uri": "https://localhost:8080/",
          "height": 88
        },
        "id": "xEPH57PvSkr8",
        "outputId": "4c6df7ce-6fb7-40a3-9140-7bc9617496bd"
      },
      "execution_count": 10,
      "outputs": [
        {
          "output_type": "execute_result",
          "data": {
            "text/plain": [
              "Matrix([\n",
              "[1, 0, -(-13 + 9*sqrt(2))/7, 0],\n",
              "[0, 1,  (-5 + 11*sqrt(2))/7, 0],\n",
              "[0, 0,                    0, 0]])"
            ],
            "text/latex": "$\\displaystyle \\left[\\begin{matrix}1 & 0 & - \\frac{-13 + 9 \\sqrt{2}}{7} & 0\\\\0 & 1 & \\frac{-5 + 11 \\sqrt{2}}{7} & 0\\\\0 & 0 & 0 & 0\\end{matrix}\\right]$"
          },
          "metadata": {},
          "execution_count": 10
        }
      ]
    },
    {
      "cell_type": "markdown",
      "source": [
        "When $\\lambda = \\sqrt{2}$\n",
        "\n",
        "$$\n",
        "\\begin{align}\n",
        "v_1 &= \\frac{1}{7}\\left(9\\sqrt{2} - 13\\right)v_3 \\\\\n",
        "v_2 &= \\frac{1}{7}\\left(-11\\sqrt{2} + 5\\right)v_3\n",
        "\\end{align}\n",
        "$$\n",
        "\n",
        "Let $v_3 = t$\n",
        "\n",
        "$\\therefore v = \\begin{pmatrix}\n",
        "\\frac{1}{7}\\left(9\\sqrt{2} - 13\\right)t \\\\\n",
        "\\frac{1}{7}\\left(-11\\sqrt{2} + 5\\right)t \\\\\n",
        "t\n",
        "\\end{pmatrix}$"
      ],
      "metadata": {
        "id": "msQSb67dYcWK"
      }
    },
    {
      "cell_type": "code",
      "source": [
        "# verify with sympy\n",
        "M.eigenvects()[2]"
      ],
      "metadata": {
        "colab": {
          "base_uri": "https://localhost:8080/"
        },
        "id": "45adU_EXbS1X",
        "outputId": "04d971cf-d8fc-4c45-9352-abbf2957810c"
      },
      "execution_count": 11,
      "outputs": [
        {
          "output_type": "execute_result",
          "data": {
            "text/plain": [
              "(sqrt(2),\n",
              " 1,\n",
              " [Matrix([\n",
              "  [-13/7 + 9*sqrt(2)/7],\n",
              "  [ 5/7 - 11*sqrt(2)/7],\n",
              "  [                  1]])])"
            ]
          },
          "metadata": {},
          "execution_count": 11
        }
      ]
    },
    {
      "cell_type": "code",
      "source": [
        "A2 = A.subs(l, -sym.sqrt(2)).rref(pivots=False)\n",
        "A2[0, 2] = A2[0, 2].simplify().factor()\n",
        "A2[1, 2] = A2[1, 2].simplify().factor()\n",
        "A2"
      ],
      "metadata": {
        "colab": {
          "base_uri": "https://localhost:8080/",
          "height": 88
        },
        "id": "PNFpVb4dSqDL",
        "outputId": "8d2b4cbd-a64f-45b2-aff1-ae98c2c17cc0"
      },
      "execution_count": 12,
      "outputs": [
        {
          "output_type": "execute_result",
          "data": {
            "text/plain": [
              "Matrix([\n",
              "[1, 0,  (9*sqrt(2) + 13)/7, 0],\n",
              "[0, 1, -(5 + 11*sqrt(2))/7, 0],\n",
              "[0, 0,                   0, 0]])"
            ],
            "text/latex": "$\\displaystyle \\left[\\begin{matrix}1 & 0 & \\frac{9 \\sqrt{2} + 13}{7} & 0\\\\0 & 1 & - \\frac{5 + 11 \\sqrt{2}}{7} & 0\\\\0 & 0 & 0 & 0\\end{matrix}\\right]$"
          },
          "metadata": {},
          "execution_count": 12
        }
      ]
    },
    {
      "cell_type": "markdown",
      "source": [
        "When $\\lambda = -\\sqrt{2}$\n",
        "\n",
        "$$\n",
        "\\begin{align}\n",
        "v_1 &= \\frac{1}{7}\\left(-9\\sqrt{2} - 13\\right)v_3 \\\\\n",
        "v_2 &= \\frac{1}{7}\\left(5 + 11\\sqrt{2}\\right)v_3\n",
        "\\end{align}\n",
        "$$\n",
        "\n",
        "Let $v_3 = t$\n",
        "\n",
        "$\\therefore v =\n",
        "\\begin{pmatrix}\n",
        "\\frac{1}{7}\\left(-9\\sqrt{2} - 13\\right)t \\\\\n",
        "\\frac{1}{7}\\left(5 + 11\\sqrt{2}\\right)t \\\\\n",
        "t\n",
        "\\end{pmatrix}\n",
        "$"
      ],
      "metadata": {
        "id": "FQLfAvDQbmOO"
      }
    },
    {
      "cell_type": "code",
      "source": [
        "# verify with sympy\n",
        "M.eigenvects()[1]"
      ],
      "metadata": {
        "colab": {
          "base_uri": "https://localhost:8080/"
        },
        "id": "5ZROdeIEbfv1",
        "outputId": "da75a9c5-660a-42a7-da3d-d92184861d97"
      },
      "execution_count": 13,
      "outputs": [
        {
          "output_type": "execute_result",
          "data": {
            "text/plain": [
              "(-sqrt(2),\n",
              " 1,\n",
              " [Matrix([\n",
              "  [-13/7 - 9*sqrt(2)/7],\n",
              "  [ 5/7 + 11*sqrt(2)/7],\n",
              "  [                  1]])])"
            ]
          },
          "metadata": {},
          "execution_count": 13
        }
      ]
    }
  ]
}